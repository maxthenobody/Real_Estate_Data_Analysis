{
 "cells": [
  {
   "cell_type": "code",
   "execution_count": 1,
   "metadata": {},
   "outputs": [],
   "source": [
    "import pandas as pd\n",
    "import numpy as np\n",
    "import os\n",
    "pd.set_option('display.max_rows', 500)\n",
    "pd.set_option('display.max_columns', 500)\n",
    "from tqdm import tqdm\n",
    "import matplotlib.pyplot as plt\n",
    "import seaborn as sns\n",
    "import matplotlib\n",
    "matplotlib.rcParams['axes.unicode_minus'] = False\n",
    "pd.options.mode.chained_assignment = None  # default='warn'\n",
    "plt.rcParams['font.family'] = 'Malgun Gothic'\n",
    "import datetime"
   ]
  },
  {
   "cell_type": "code",
   "execution_count": 2,
   "metadata": {},
   "outputs": [],
   "source": [
    "date_today = pd.to_datetime(datetime.datetime.now().strftime('%Y-%m-%d'), format='%Y-%m-%d')"
   ]
  },
  {
   "cell_type": "code",
   "execution_count": 3,
   "metadata": {},
   "outputs": [
    {
     "name": "stdout",
     "output_type": "stream",
     "text": [
      "(2054842, 11)\n"
     ]
    },
    {
     "data": {
      "text/html": [
       "<div>\n",
       "<style scoped>\n",
       "    .dataframe tbody tr th:only-of-type {\n",
       "        vertical-align: middle;\n",
       "    }\n",
       "\n",
       "    .dataframe tbody tr th {\n",
       "        vertical-align: top;\n",
       "    }\n",
       "\n",
       "    .dataframe thead th {\n",
       "        text-align: right;\n",
       "    }\n",
       "</style>\n",
       "<table border=\"1\" class=\"dataframe\">\n",
       "  <thead>\n",
       "    <tr style=\"text-align: right;\">\n",
       "      <th></th>\n",
       "      <th>지번주소</th>\n",
       "      <th>도로명</th>\n",
       "      <th>건물(단지)명</th>\n",
       "      <th>전용면적(㎡)</th>\n",
       "      <th>거래금액(만원)</th>\n",
       "      <th>층</th>\n",
       "      <th>건축년도</th>\n",
       "      <th>계약날짜기준_건물연식</th>\n",
       "      <th>계약날짜</th>\n",
       "      <th>건물연식</th>\n",
       "      <th>부동산유형</th>\n",
       "    </tr>\n",
       "  </thead>\n",
       "  <tbody>\n",
       "    <tr>\n",
       "      <th>0</th>\n",
       "      <td>서울특별시 강남구 개포동 1264-3</td>\n",
       "      <td>개포로31길 23-7</td>\n",
       "      <td>(1264-3)</td>\n",
       "      <td>53.28</td>\n",
       "      <td>11500</td>\n",
       "      <td>-1</td>\n",
       "      <td>1992.0</td>\n",
       "      <td>14.0</td>\n",
       "      <td>2006-08-29</td>\n",
       "      <td>29.0</td>\n",
       "      <td>연립다세대</td>\n",
       "    </tr>\n",
       "    <tr>\n",
       "      <th>1</th>\n",
       "      <td>서울특별시 강남구 개포동 171-13</td>\n",
       "      <td>선릉로14길 11</td>\n",
       "      <td>(171-13)</td>\n",
       "      <td>68.08</td>\n",
       "      <td>56500</td>\n",
       "      <td>2</td>\n",
       "      <td>1988.0</td>\n",
       "      <td>18.0</td>\n",
       "      <td>2006-12-20</td>\n",
       "      <td>33.0</td>\n",
       "      <td>연립다세대</td>\n",
       "    </tr>\n",
       "    <tr>\n",
       "      <th>2</th>\n",
       "      <td>서울특별시 강남구 개포동 1239-7</td>\n",
       "      <td>개포로15길 25</td>\n",
       "      <td>강남빌라 가동</td>\n",
       "      <td>52.59</td>\n",
       "      <td>40500</td>\n",
       "      <td>2</td>\n",
       "      <td>1988.0</td>\n",
       "      <td>18.0</td>\n",
       "      <td>2006-12-09</td>\n",
       "      <td>33.0</td>\n",
       "      <td>연립다세대</td>\n",
       "    </tr>\n",
       "    <tr>\n",
       "      <th>3</th>\n",
       "      <td>서울특별시 강남구 개포동 1239-7</td>\n",
       "      <td>개포로15길 25</td>\n",
       "      <td>강남빌라 가동</td>\n",
       "      <td>52.59</td>\n",
       "      <td>42000</td>\n",
       "      <td>1</td>\n",
       "      <td>1988.0</td>\n",
       "      <td>18.0</td>\n",
       "      <td>2006-12-19</td>\n",
       "      <td>33.0</td>\n",
       "      <td>연립다세대</td>\n",
       "    </tr>\n",
       "    <tr>\n",
       "      <th>4</th>\n",
       "      <td>서울특별시 강남구 개포동 1239-6</td>\n",
       "      <td>개포로15길 27</td>\n",
       "      <td>강남빌라 나동</td>\n",
       "      <td>52.75</td>\n",
       "      <td>22000</td>\n",
       "      <td>2</td>\n",
       "      <td>1988.0</td>\n",
       "      <td>18.0</td>\n",
       "      <td>2006-11-02</td>\n",
       "      <td>33.0</td>\n",
       "      <td>연립다세대</td>\n",
       "    </tr>\n",
       "  </tbody>\n",
       "</table>\n",
       "</div>"
      ],
      "text/plain": [
       "                   지번주소          도로명   건물(단지)명  전용면적(㎡)  거래금액(만원)  층    건축년도  \\\n",
       "0  서울특별시 강남구 개포동 1264-3  개포로31길 23-7  (1264-3)    53.28     11500 -1  1992.0   \n",
       "1  서울특별시 강남구 개포동 171-13    선릉로14길 11  (171-13)    68.08     56500  2  1988.0   \n",
       "2  서울특별시 강남구 개포동 1239-7    개포로15길 25   강남빌라 가동    52.59     40500  2  1988.0   \n",
       "3  서울특별시 강남구 개포동 1239-7    개포로15길 25   강남빌라 가동    52.59     42000  1  1988.0   \n",
       "4  서울특별시 강남구 개포동 1239-6    개포로15길 27   강남빌라 나동    52.75     22000  2  1988.0   \n",
       "\n",
       "   계약날짜기준_건물연식        계약날짜  건물연식  부동산유형  \n",
       "0         14.0  2006-08-29  29.0  연립다세대  \n",
       "1         18.0  2006-12-20  33.0  연립다세대  \n",
       "2         18.0  2006-12-09  33.0  연립다세대  \n",
       "3         18.0  2006-12-19  33.0  연립다세대  \n",
       "4         18.0  2006-11-02  33.0  연립다세대  "
      ]
     },
     "execution_count": 3,
     "metadata": {},
     "output_type": "execute_result"
    }
   ],
   "source": [
    "main_df = pd.read_csv('./prepped_data/메인_데이터_20060101_20210416_ver_1.csv')\n",
    "print(main_df.shape)\n",
    "main_df.head()"
   ]
  },
  {
   "cell_type": "code",
   "execution_count": 4,
   "metadata": {},
   "outputs": [
    {
     "data": {
      "text/plain": [
       "<AxesSubplot:>"
      ]
     },
     "execution_count": 4,
     "metadata": {},
     "output_type": "execute_result"
    },
    {
     "data": {
      "image/png": "[encoded data removed]",
      "text/plain": [
       "<Figure size 432x288 with 1 Axes>"
      ]
     },
     "metadata": {
      "needs_background": "light"
     },
     "output_type": "display_data"
    }
   ],
   "source": [
    "main_df['전용면적(㎡)'].hist(bins=100)"
   ]
  },
  {
   "cell_type": "code",
   "execution_count": 5,
   "metadata": {},
   "outputs": [],
   "source": [
    "def house_area_into_classes(x):\n",
    "    # x is a number\n",
    "    \n",
    "    if pd.isna(x) == True:\n",
    "        return x\n",
    "    else:\n",
    "        for i in range(100):\n",
    "            if x <= ((i+1)*5):\n",
    "                return '{}~{}'.format((i*5), (i+1)*5)\n",
    "        return '500초과'"
   ]
  },
  {
   "cell_type": "code",
   "execution_count": 7,
   "metadata": {},
   "outputs": [],
   "source": [
    "main_df['전용면적_classes'] = main_df['전용면적(㎡)'].apply(house_area_into_classes)"
   ]
  },
  {
   "cell_type": "code",
   "execution_count": 8,
   "metadata": {},
   "outputs": [],
   "source": [
    "main_df['가격_면적'] = main_df['거래금액(만원)'] / main_df['전용면적(㎡)']"
   ]
  },
  {
   "cell_type": "code",
   "execution_count": 9,
   "metadata": {},
   "outputs": [
    {
     "data": {
      "text/plain": [
       "<AxesSubplot:>"
      ]
     },
     "execution_count": 9,
     "metadata": {},
     "output_type": "execute_result"
    },
    {
     "data": {
      "image/png": "[encoded data removed]",
      "text/plain": [
       "<Figure size 432x288 with 1 Axes>"
      ]
     },
     "metadata": {
      "needs_background": "light"
     },
     "output_type": "display_data"
    }
   ],
   "source": [
    "main_df['가격_면적'].hist(bins=100)"
   ]
  },
  {
   "cell_type": "code",
   "execution_count": 11,
   "metadata": {},
   "outputs": [
    {
     "name": "stdout",
     "output_type": "stream",
     "text": [
      "(2416, 13)\n"
     ]
    }
   ],
   "source": [
    "upper_df = main_df[main_df['가격_면적'] > 3000]\n",
    "print(upper_df.shape)"
   ]
  },
  {
   "cell_type": "code",
   "execution_count": 12,
   "metadata": {},
   "outputs": [
    {
     "data": {
      "text/plain": [
       "<AxesSubplot:>"
      ]
     },
     "execution_count": 12,
     "metadata": {},
     "output_type": "execute_result"
    },
    {
     "data": {
      "image/png": "[encoded data removed]",
      "text/plain": [
       "<Figure size 432x288 with 1 Axes>"
      ]
     },
     "metadata": {
      "needs_background": "light"
     },
     "output_type": "display_data"
    }
   ],
   "source": [
    "upper_df['가격_면적'].hist(bins=100)"
   ]
  },
  {
   "cell_type": "code",
   "execution_count": 14,
   "metadata": {},
   "outputs": [
    {
     "name": "stdout",
     "output_type": "stream",
     "text": [
      "(2054386, 13)\n"
     ]
    },
    {
     "data": {
      "text/html": [
       "<div>\n",
       "<style scoped>\n",
       "    .dataframe tbody tr th:only-of-type {\n",
       "        vertical-align: middle;\n",
       "    }\n",
       "\n",
       "    .dataframe tbody tr th {\n",
       "        vertical-align: top;\n",
       "    }\n",
       "\n",
       "    .dataframe thead th {\n",
       "        text-align: right;\n",
       "    }\n",
       "</style>\n",
       "<table border=\"1\" class=\"dataframe\">\n",
       "  <thead>\n",
       "    <tr style=\"text-align: right;\">\n",
       "      <th></th>\n",
       "      <th>지번주소</th>\n",
       "      <th>도로명</th>\n",
       "      <th>건물(단지)명</th>\n",
       "      <th>전용면적(㎡)</th>\n",
       "      <th>거래금액(만원)</th>\n",
       "      <th>층</th>\n",
       "      <th>건축년도</th>\n",
       "      <th>계약날짜기준_건물연식</th>\n",
       "      <th>계약날짜</th>\n",
       "      <th>건물연식</th>\n",
       "      <th>부동산유형</th>\n",
       "      <th>전용면적_classes</th>\n",
       "      <th>가격_면적</th>\n",
       "    </tr>\n",
       "  </thead>\n",
       "  <tbody>\n",
       "    <tr>\n",
       "      <th>0</th>\n",
       "      <td>서울특별시 강남구 개포동 1264-3</td>\n",
       "      <td>개포로31길 23-7</td>\n",
       "      <td>(1264-3)</td>\n",
       "      <td>53.28</td>\n",
       "      <td>11500</td>\n",
       "      <td>-1</td>\n",
       "      <td>1992.0</td>\n",
       "      <td>14.0</td>\n",
       "      <td>2006-08-29</td>\n",
       "      <td>29.0</td>\n",
       "      <td>연립다세대</td>\n",
       "      <td>50~55</td>\n",
       "      <td>215.840841</td>\n",
       "    </tr>\n",
       "    <tr>\n",
       "      <th>1</th>\n",
       "      <td>서울특별시 강남구 개포동 171-13</td>\n",
       "      <td>선릉로14길 11</td>\n",
       "      <td>(171-13)</td>\n",
       "      <td>68.08</td>\n",
       "      <td>56500</td>\n",
       "      <td>2</td>\n",
       "      <td>1988.0</td>\n",
       "      <td>18.0</td>\n",
       "      <td>2006-12-20</td>\n",
       "      <td>33.0</td>\n",
       "      <td>연립다세대</td>\n",
       "      <td>65~70</td>\n",
       "      <td>829.905993</td>\n",
       "    </tr>\n",
       "    <tr>\n",
       "      <th>2</th>\n",
       "      <td>서울특별시 강남구 개포동 1239-7</td>\n",
       "      <td>개포로15길 25</td>\n",
       "      <td>강남빌라 가동</td>\n",
       "      <td>52.59</td>\n",
       "      <td>40500</td>\n",
       "      <td>2</td>\n",
       "      <td>1988.0</td>\n",
       "      <td>18.0</td>\n",
       "      <td>2006-12-09</td>\n",
       "      <td>33.0</td>\n",
       "      <td>연립다세대</td>\n",
       "      <td>50~55</td>\n",
       "      <td>770.108386</td>\n",
       "    </tr>\n",
       "    <tr>\n",
       "      <th>3</th>\n",
       "      <td>서울특별시 강남구 개포동 1239-7</td>\n",
       "      <td>개포로15길 25</td>\n",
       "      <td>강남빌라 가동</td>\n",
       "      <td>52.59</td>\n",
       "      <td>42000</td>\n",
       "      <td>1</td>\n",
       "      <td>1988.0</td>\n",
       "      <td>18.0</td>\n",
       "      <td>2006-12-19</td>\n",
       "      <td>33.0</td>\n",
       "      <td>연립다세대</td>\n",
       "      <td>50~55</td>\n",
       "      <td>798.630918</td>\n",
       "    </tr>\n",
       "    <tr>\n",
       "      <th>4</th>\n",
       "      <td>서울특별시 강남구 개포동 1239-6</td>\n",
       "      <td>개포로15길 27</td>\n",
       "      <td>강남빌라 나동</td>\n",
       "      <td>52.75</td>\n",
       "      <td>22000</td>\n",
       "      <td>2</td>\n",
       "      <td>1988.0</td>\n",
       "      <td>18.0</td>\n",
       "      <td>2006-11-02</td>\n",
       "      <td>33.0</td>\n",
       "      <td>연립다세대</td>\n",
       "      <td>50~55</td>\n",
       "      <td>417.061611</td>\n",
       "    </tr>\n",
       "  </tbody>\n",
       "</table>\n",
       "</div>"
      ],
      "text/plain": [
       "                   지번주소          도로명   건물(단지)명  전용면적(㎡)  거래금액(만원)  층    건축년도  \\\n",
       "0  서울특별시 강남구 개포동 1264-3  개포로31길 23-7  (1264-3)    53.28     11500 -1  1992.0   \n",
       "1  서울특별시 강남구 개포동 171-13    선릉로14길 11  (171-13)    68.08     56500  2  1988.0   \n",
       "2  서울특별시 강남구 개포동 1239-7    개포로15길 25   강남빌라 가동    52.59     40500  2  1988.0   \n",
       "3  서울특별시 강남구 개포동 1239-7    개포로15길 25   강남빌라 가동    52.59     42000  1  1988.0   \n",
       "4  서울특별시 강남구 개포동 1239-6    개포로15길 27   강남빌라 나동    52.75     22000  2  1988.0   \n",
       "\n",
       "   계약날짜기준_건물연식        계약날짜  건물연식  부동산유형 전용면적_classes       가격_면적  \n",
       "0         14.0  2006-08-29  29.0  연립다세대        50~55  215.840841  \n",
       "1         18.0  2006-12-20  33.0  연립다세대        65~70  829.905993  \n",
       "2         18.0  2006-12-09  33.0  연립다세대        50~55  770.108386  \n",
       "3         18.0  2006-12-19  33.0  연립다세대        50~55  798.630918  \n",
       "4         18.0  2006-11-02  33.0  연립다세대        50~55  417.061611  "
      ]
     },
     "execution_count": 14,
     "metadata": {},
     "output_type": "execute_result"
    }
   ],
   "source": [
    "main_df = main_df[main_df['가격_면적'] <= 3750]\n",
    "print(main_df.shape)\n",
    "main_df.head()"
   ]
  },
  {
   "cell_type": "code",
   "execution_count": 20,
   "metadata": {},
   "outputs": [
    {
     "data": {
      "text/plain": [
       "<AxesSubplot:>"
      ]
     },
     "execution_count": 20,
     "metadata": {},
     "output_type": "execute_result"
    },
    {
     "data": {
      "image/png": "[encoded data removed]",
      "text/plain": [
       "<Figure size 432x288 with 1 Axes>"
      ]
     },
     "metadata": {
      "needs_background": "light"
     },
     "output_type": "display_data"
    }
   ],
   "source": [
    "main_df['가격_면적'].hist(bins=5000)"
   ]
  },
  {
   "cell_type": "code",
   "execution_count": 21,
   "metadata": {},
   "outputs": [],
   "source": [
    "lower_df = main_df[main_df['가격_면적'] < 100]"
   ]
  },
  {
   "cell_type": "code",
   "execution_count": 22,
   "metadata": {},
   "outputs": [
    {
     "data": {
      "text/plain": [
       "<AxesSubplot:>"
      ]
     },
     "execution_count": 22,
     "metadata": {},
     "output_type": "execute_result"
    },
    {
     "data": {
      "image/png": "[encoded data removed]",
      "text/plain": [
       "<Figure size 432x288 with 1 Axes>"
      ]
     },
     "metadata": {
      "needs_background": "light"
     },
     "output_type": "display_data"
    }
   ],
   "source": [
    "lower_df['가격_면적'].hist(bins=100)"
   ]
  },
  {
   "cell_type": "code",
   "execution_count": 23,
   "metadata": {},
   "outputs": [],
   "source": [
    "main_df = main_df[main_df['가격_면적'] >= 40]"
   ]
  },
  {
   "cell_type": "code",
   "execution_count": 24,
   "metadata": {},
   "outputs": [],
   "source": [
    "def price_over_area_feature_engi(x):\n",
    "    # x is a number\n",
    "    \n",
    "    if pd.isna(x) == True:\n",
    "        return x\n",
    "    else:\n",
    "        for i in range(1000):\n",
    "            if x < ((i+1)*10):\n",
    "                return '{}~{}'.format((i*10), (i+1)*10)\n",
    "        \n",
    "        return '10000초과'"
   ]
  },
  {
   "cell_type": "code",
   "execution_count": 25,
   "metadata": {},
   "outputs": [],
   "source": [
    "main_df['가격_면적_classes'] = main_df['가격_면적'].apply(price_over_area_feature_engi)"
   ]
  },
  {
   "cell_type": "code",
   "execution_count": 26,
   "metadata": {},
   "outputs": [
    {
     "data": {
      "text/plain": [
       "371"
      ]
     },
     "execution_count": 26,
     "metadata": {},
     "output_type": "execute_result"
    }
   ],
   "source": [
    "main_df['가격_면적_classes'].nunique()"
   ]
  },
  {
   "cell_type": "code",
   "execution_count": 27,
   "metadata": {},
   "outputs": [
    {
     "data": {
      "text/plain": [
       "410~420      41982\n",
       "400~410      41574\n",
       "380~390      40567\n",
       "350~360      40108\n",
       "370~380      39994\n",
       "430~440      39135\n",
       "360~370      38792\n",
       "340~350      38471\n",
       "420~430      38358\n",
       "330~340      37938\n",
       "390~400      37908\n",
       "440~450      37796\n",
       "450~460      37250\n",
       "320~330      37018\n",
       "470~480      36858\n",
       "500~510      36349\n",
       "310~320      36078\n",
       "300~310      35946\n",
       "460~470      35705\n",
       "480~490      34601\n",
       "290~300      32561\n",
       "490~500      32510\n",
       "510~520      31977\n",
       "520~530      30781\n",
       "280~290      30753\n",
       "530~540      29421\n",
       "270~280      27921\n",
       "550~560      27604\n",
       "580~590      27538\n",
       "540~550      27397\n",
       "560~570      26320\n",
       "260~270      26122\n",
       "570~580      24087\n",
       "600~610      23965\n",
       "250~260      23779\n",
       "610~620      22667\n",
       "240~250      21823\n",
       "590~600      21740\n",
       "620~630      21528\n",
       "700~710      21518\n",
       "630~640      20719\n",
       "640~650      19880\n",
       "650~660      19309\n",
       "230~240      19270\n",
       "660~670      17829\n",
       "680~690      17230\n",
       "220~230      17212\n",
       "670~680      16924\n",
       "210~220      16408\n",
       "690~700      15846\n",
       "200~210      14480\n",
       "710~720      14131\n",
       "740~750      13885\n",
       "750~760      13502\n",
       "730~740      13413\n",
       "720~730      13240\n",
       "760~770      13120\n",
       "190~200      12488\n",
       "780~790      11862\n",
       "800~810      11459\n",
       "180~190      11397\n",
       "820~830      11273\n",
       "770~780      11229\n",
       "810~820      10732\n",
       "830~840      10166\n",
       "790~800      10161\n",
       "170~180       9781\n",
       "840~850       9504\n",
       "880~890       9345\n",
       "850~860       9309\n",
       "870~880       8844\n",
       "160~170       8763\n",
       "860~870       8485\n",
       "900~910       8258\n",
       "910~920       7865\n",
       "1000~1010     7669\n",
       "890~900       7497\n",
       "940~950       7296\n",
       "930~940       7080\n",
       "150~160       6939\n",
       "920~930       6760\n",
       "960~970       6728\n",
       "950~960       6442\n",
       "970~980       6402\n",
       "980~990       6401\n",
       "1050~1060     6379\n",
       "990~1000      6044\n",
       "140~150       5663\n",
       "1060~1070     5507\n",
       "1030~1040     5498\n",
       "1010~1020     5381\n",
       "1040~1050     5125\n",
       "1020~1030     5081\n",
       "1080~1090     4730\n",
       "1110~1120     4663\n",
       "130~140       4367\n",
       "1100~1110     4200\n",
       "1090~1100     4192\n",
       "1070~1080     4090\n",
       "1160~1170     3957\n",
       "1130~1140     3922\n",
       "1120~1130     3824\n",
       "1150~1160     3808\n",
       "1170~1180     3799\n",
       "1140~1150     3488\n",
       "1200~1210     3443\n",
       "1230~1240     3384\n",
       "120~130       3322\n",
       "1210~1220     3137\n",
       "1180~1190     3126\n",
       "1250~1260     3013\n",
       "1220~1230     2941\n",
       "1290~1300     2820\n",
       "1280~1290     2649\n",
       "1240~1250     2642\n",
       "1190~1200     2641\n",
       "1260~1270     2581\n",
       "1270~1280     2428\n",
       "110~120       2365\n",
       "1300~1310     2350\n",
       "1410~1420     2278\n",
       "1330~1340     2277\n",
       "1350~1360     2225\n",
       "1320~1330     2059\n",
       "1310~1320     2049\n",
       "1340~1350     2043\n",
       "1360~1370     1895\n",
       "1400~1410     1893\n",
       "1380~1390     1787\n",
       "1500~1510     1754\n",
       "1370~1380     1752\n",
       "1470~1480     1657\n",
       "100~110       1643\n",
       "1390~1400     1561\n",
       "1420~1430     1559\n",
       "1430~1440     1547\n",
       "1450~1460     1523\n",
       "1440~1450     1497\n",
       "1480~1490     1488\n",
       "1490~1500     1473\n",
       "1460~1470     1428\n",
       "1510~1520     1395\n",
       "1580~1590     1382\n",
       "1530~1540     1360\n",
       "1520~1530     1301\n",
       "1560~1570     1222\n",
       "90~100        1197\n",
       "1550~1560     1148\n",
       "1640~1650     1099\n",
       "1570~1580     1079\n",
       "1540~1550     1072\n",
       "1600~1610     1046\n",
       "1590~1600     1021\n",
       "1630~1640      996\n",
       "1610~1620      981\n",
       "1650~1660      974\n",
       "1760~1770      962\n",
       "1750~1760      945\n",
       "1660~1670      941\n",
       "1700~1710      916\n",
       "1620~1630      908\n",
       "1680~1690      841\n",
       "1710~1720      786\n",
       "1670~1680      780\n",
       "1690~1700      751\n",
       "1800~1810      738\n",
       "80~90          723\n",
       "1730~1740      718\n",
       "1740~1750      698\n",
       "1810~1820      686\n",
       "1820~1830      686\n",
       "1880~1890      662\n",
       "1830~1840      661\n",
       "1720~1730      659\n",
       "1780~1790      646\n",
       "1770~1780      625\n",
       "2000~2010      616\n",
       "1850~1860      537\n",
       "1790~1800      522\n",
       "1910~1920      517\n",
       "1860~1870      503\n",
       "1840~1850      495\n",
       "1870~1880      488\n",
       "70~80          477\n",
       "1940~1950      474\n",
       "1900~1910      465\n",
       "1890~1900      464\n",
       "1920~1930      461\n",
       "1950~1960      456\n",
       "1930~1940      419\n",
       "1960~1970      411\n",
       "1970~1980      407\n",
       "1980~1990      406\n",
       "2030~2040      385\n",
       "2010~2020      374\n",
       "2080~2090      358\n",
       "2060~2070      349\n",
       "2170~2180      340\n",
       "1990~2000      338\n",
       "2020~2030      333\n",
       "2110~2120      324\n",
       "2050~2060      321\n",
       "2040~2050      319\n",
       "2230~2240      319\n",
       "2100~2110      308\n",
       "2070~2080      299\n",
       "2120~2130      291\n",
       "60~70          290\n",
       "2150~2160      288\n",
       "2160~2170      275\n",
       "2090~2100      269\n",
       "2250~2260      267\n",
       "2180~2190      264\n",
       "2350~2360      261\n",
       "2200~2210      259\n",
       "2140~2150      251\n",
       "2210~2220      250\n",
       "2330~2340      250\n",
       "2270~2280      249\n",
       "2130~2140      247\n",
       "2240~2250      245\n",
       "2280~2290      231\n",
       "2220~2230      223\n",
       "2290~2300      220\n",
       "2260~2270      216\n",
       "2300~2310      213\n",
       "2310~2320      194\n",
       "2410~2420      193\n",
       "2340~2350      192\n",
       "2400~2410      189\n",
       "2190~2200      185\n",
       "2320~2330      172\n",
       "2500~2510      167\n",
       "2420~2430      166\n",
       "2470~2480      165\n",
       "2360~2370      163\n",
       "2580~2590      160\n",
       "50~60          160\n",
       "2380~2390      157\n",
       "2520~2530      156\n",
       "2460~2470      150\n",
       "2430~2440      144\n",
       "2490~2500      143\n",
       "2370~2380      140\n",
       "2390~2400      135\n",
       "2450~2460      129\n",
       "2660~2670      129\n",
       "2440~2450      128\n",
       "2530~2540      125\n",
       "2700~2710      124\n",
       "2550~2560      121\n",
       "2610~2620      121\n",
       "2480~2490      119\n",
       "2510~2520      118\n",
       "2540~2550      113\n",
       "2650~2660      113\n",
       "2640~2650      110\n",
       "2560~2570      107\n",
       "2750~2760      105\n",
       "2600~2610      104\n",
       "2590~2600      103\n",
       "2620~2630       95\n",
       "2670~2680       92\n",
       "2630~2640       90\n",
       "2820~2830       88\n",
       "2710~2720       84\n",
       "2780~2790       83\n",
       "2690~2700       83\n",
       "2680~2690       79\n",
       "2720~2730       78\n",
       "2570~2580       78\n",
       "2830~2840       78\n",
       "2760~2770       78\n",
       "2730~2740       77\n",
       "2770~2780       74\n",
       "3000~3010       74\n",
       "40~50           66\n",
       "2810~2820       63\n",
       "2910~2920       63\n",
       "2880~2890       63\n",
       "2940~2950       61\n",
       "2740~2750       61\n",
       "3170~3180       61\n",
       "2800~2810       61\n",
       "2960~2970       60\n",
       "2790~2800       59\n",
       "2900~2910       56\n",
       "3060~3070       53\n",
       "2860~2870       53\n",
       "2840~2850       52\n",
       "2950~2960       49\n",
       "3050~3060       48\n",
       "3070~3080       47\n",
       "3330~3340       45\n",
       "2890~2900       45\n",
       "3250~3260       44\n",
       "3290~3300       44\n",
       "2920~2930       44\n",
       "3030~3040       43\n",
       "2850~2860       43\n",
       "2870~2880       42\n",
       "3130~3140       41\n",
       "3080~3090       40\n",
       "2970~2980       40\n",
       "3110~3120       39\n",
       "3200~3210       39\n",
       "2980~2990       38\n",
       "3310~3320       37\n",
       "3230~3240       37\n",
       "3010~3020       36\n",
       "3350~3360       36\n",
       "3100~3110       36\n",
       "3150~3160       36\n",
       "3500~3510       36\n",
       "2930~2940       34\n",
       "3020~3030       34\n",
       "2990~3000       34\n",
       "3280~3290       34\n",
       "3180~3190       34\n",
       "3160~3170       33\n",
       "3210~3220       32\n",
       "3140~3150       31\n",
       "3360~3370       31\n",
       "3430~3440       30\n",
       "3410~3420       29\n",
       "3220~3230       29\n",
       "3120~3130       28\n",
       "3300~3310       28\n",
       "3260~3270       28\n",
       "3530~3540       28\n",
       "3240~3250       27\n",
       "3460~3470       27\n",
       "3400~3410       25\n",
       "3380~3390       24\n",
       "3270~3280       24\n",
       "3320~3330       23\n",
       "3540~3550       23\n",
       "3370~3380       23\n",
       "3190~3200       23\n",
       "3040~3050       22\n",
       "3570~3580       22\n",
       "3520~3530       22\n",
       "3640~3650       21\n",
       "3090~3100       20\n",
       "3650~3660       20\n",
       "3340~3350       20\n",
       "3440~3450       19\n",
       "3620~3630       18\n",
       "3580~3590       17\n",
       "3600~3610       17\n",
       "3700~3710       17\n",
       "3450~3460       16\n",
       "3470~3480       15\n",
       "3420~3430       14\n",
       "3590~3600       14\n",
       "3610~3620       13\n",
       "3490~3500       13\n",
       "3550~3560       13\n",
       "3480~3490       13\n",
       "3510~3520       11\n",
       "3670~3680       11\n",
       "3660~3670       11\n",
       "3390~3400       10\n",
       "3730~3740       10\n",
       "3630~3640       10\n",
       "3560~3570        8\n",
       "3690~3700        7\n",
       "3680~3690        7\n",
       "3720~3730        5\n",
       "3710~3720        3\n",
       "3740~3750        2\n",
       "Name: 가격_면적_classes, dtype: int64"
      ]
     },
     "execution_count": 27,
     "metadata": {},
     "output_type": "execute_result"
    }
   ],
   "source": [
    "main_df['가격_면적_classes'].value_counts()"
   ]
  },
  {
   "cell_type": "code",
   "execution_count": 28,
   "metadata": {},
   "outputs": [
    {
     "name": "stdout",
     "output_type": "stream",
     "text": [
      "Wall time: 8.75 s\n"
     ]
    }
   ],
   "source": [
    "%%time\n",
    "main_df.to_csv('./prepped_data/메인_데이터_20060101_20210416_ver_2.csv', index=False)"
   ]
  },
  {
   "cell_type": "code",
   "execution_count": null,
   "metadata": {},
   "outputs": [],
   "source": []
  }
 ],
 "metadata": {
  "kernelspec": {
   "display_name": "Python 3",
   "language": "python",
   "name": "python3"
  },
  "language_info": {
   "codemirror_mode": {
    "name": "ipython",
    "version": 3
   },
   "file_extension": ".py",
   "mimetype": "text/x-python",
   "name": "python",
   "nbconvert_exporter": "python",
   "pygments_lexer": "ipython3",
   "version": "3.7.9"
  }
 },
 "nbformat": 4,
 "nbformat_minor": 4
}
