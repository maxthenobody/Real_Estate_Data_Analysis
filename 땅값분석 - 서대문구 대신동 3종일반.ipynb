{
 "cells": [
  {
   "cell_type": "code",
   "execution_count": 1,
   "metadata": {},
   "outputs": [],
   "source": [
    "import pandas as pd\n",
    "import os\n",
    "pd.set_option('display.max_rows', 500)\n",
    "pd.set_option('display.max_columns', 500)\n",
    "import tqdm\n",
    "import matplotlib.pyplot as plt\n",
    "import seaborn as sns\n",
    "import matplotlib\n",
    "matplotlib.rcParams['axes.unicode_minus'] = False\n",
    "pd.options.mode.chained_assignment = None  # default='warn'\n",
    "plt.rcParams['font.family'] = 'Malgun Gothic'\n",
    "import datetime"
   ]
  },
  {
   "cell_type": "code",
   "execution_count": 2,
   "metadata": {},
   "outputs": [],
   "source": [
    "basedir = './국토교통부_실거래가_공개시스템/땅값분석/'\n",
    "yunrip_df = pd.read_csv(basedir + 'yunrip_30.csv')\n",
    "commerce_df = pd.read_csv(basedir + 'commerce_30.csv')\n",
    "land_df = pd.read_csv(basedir + 'land.csv')"
   ]
  },
  {
   "cell_type": "code",
   "execution_count": 3,
   "metadata": {},
   "outputs": [
    {
     "name": "stdout",
     "output_type": "stream",
     "text": [
      "(282291, 11)\n"
     ]
    },
    {
     "data": {
      "text/html": [
       "<div>\n",
       "<style scoped>\n",
       "    .dataframe tbody tr th:only-of-type {\n",
       "        vertical-align: middle;\n",
       "    }\n",
       "\n",
       "    .dataframe tbody tr th {\n",
       "        vertical-align: top;\n",
       "    }\n",
       "\n",
       "    .dataframe thead th {\n",
       "        text-align: right;\n",
       "    }\n",
       "</style>\n",
       "<table border=\"1\" class=\"dataframe\">\n",
       "  <thead>\n",
       "    <tr style=\"text-align: right;\">\n",
       "      <th></th>\n",
       "      <th>시군구</th>\n",
       "      <th>번지</th>\n",
       "      <th>용도지역</th>\n",
       "      <th>도로조건</th>\n",
       "      <th>계약날짜</th>\n",
       "      <th>대지면적(㎡)</th>\n",
       "      <th>거래금액(만원)</th>\n",
       "      <th>단가(㎡)</th>\n",
       "      <th>단가(평)</th>\n",
       "      <th>부동산유형</th>\n",
       "      <th>건물연식</th>\n",
       "    </tr>\n",
       "  </thead>\n",
       "  <tbody>\n",
       "    <tr>\n",
       "      <th>0</th>\n",
       "      <td>서울특별시 강남구 개포동</td>\n",
       "      <td>171-13</td>\n",
       "      <td>제2종일반주거지역</td>\n",
       "      <td>8m미만</td>\n",
       "      <td>2006-12-20</td>\n",
       "      <td>56.1</td>\n",
       "      <td>56500.0</td>\n",
       "      <td>1007.130125</td>\n",
       "      <td>3329.355660</td>\n",
       "      <td>연립다세대</td>\n",
       "      <td>33.0</td>\n",
       "    </tr>\n",
       "    <tr>\n",
       "      <th>1</th>\n",
       "      <td>서울특별시 강남구 개포동</td>\n",
       "      <td>171-13</td>\n",
       "      <td>제2종일반주거지역</td>\n",
       "      <td>8m미만</td>\n",
       "      <td>2016-01-16</td>\n",
       "      <td>39.6</td>\n",
       "      <td>23300.0</td>\n",
       "      <td>588.383838</td>\n",
       "      <td>1945.070467</td>\n",
       "      <td>연립다세대</td>\n",
       "      <td>33.0</td>\n",
       "    </tr>\n",
       "    <tr>\n",
       "      <th>2</th>\n",
       "      <td>서울특별시 강남구 개포동</td>\n",
       "      <td>171-13</td>\n",
       "      <td>제2종일반주거지역</td>\n",
       "      <td>8m미만</td>\n",
       "      <td>2016-04-09</td>\n",
       "      <td>39.6</td>\n",
       "      <td>24500.0</td>\n",
       "      <td>618.686869</td>\n",
       "      <td>2045.245770</td>\n",
       "      <td>연립다세대</td>\n",
       "      <td>33.0</td>\n",
       "    </tr>\n",
       "    <tr>\n",
       "      <th>3</th>\n",
       "      <td>서울특별시 강남구 개포동</td>\n",
       "      <td>171-13</td>\n",
       "      <td>제2종일반주거지역</td>\n",
       "      <td>8m미만</td>\n",
       "      <td>2019-10-23</td>\n",
       "      <td>56.1</td>\n",
       "      <td>60000.0</td>\n",
       "      <td>1069.518717</td>\n",
       "      <td>3535.598930</td>\n",
       "      <td>연립다세대</td>\n",
       "      <td>33.0</td>\n",
       "    </tr>\n",
       "    <tr>\n",
       "      <th>4</th>\n",
       "      <td>서울특별시 강남구 개포동</td>\n",
       "      <td>1239-7</td>\n",
       "      <td>제2종일반주거지역</td>\n",
       "      <td>8m미만</td>\n",
       "      <td>2006-12-09</td>\n",
       "      <td>45.0</td>\n",
       "      <td>40500.0</td>\n",
       "      <td>900.000000</td>\n",
       "      <td>2975.206500</td>\n",
       "      <td>연립다세대</td>\n",
       "      <td>33.0</td>\n",
       "    </tr>\n",
       "  </tbody>\n",
       "</table>\n",
       "</div>"
      ],
      "text/plain": [
       "             시군구      번지       용도지역  도로조건       계약날짜  대지면적(㎡)  거래금액(만원)  \\\n",
       "0  서울특별시 강남구 개포동  171-13  제2종일반주거지역  8m미만 2006-12-20     56.1   56500.0   \n",
       "1  서울특별시 강남구 개포동  171-13  제2종일반주거지역  8m미만 2016-01-16     39.6   23300.0   \n",
       "2  서울특별시 강남구 개포동  171-13  제2종일반주거지역  8m미만 2016-04-09     39.6   24500.0   \n",
       "3  서울특별시 강남구 개포동  171-13  제2종일반주거지역  8m미만 2019-10-23     56.1   60000.0   \n",
       "4  서울특별시 강남구 개포동  1239-7  제2종일반주거지역  8m미만 2006-12-09     45.0   40500.0   \n",
       "\n",
       "         단가(㎡)        단가(평)  부동산유형  건물연식  \n",
       "0  1007.130125  3329.355660  연립다세대  33.0  \n",
       "1   588.383838  1945.070467  연립다세대  33.0  \n",
       "2   618.686869  2045.245770  연립다세대  33.0  \n",
       "3  1069.518717  3535.598930  연립다세대  33.0  \n",
       "4   900.000000  2975.206500  연립다세대  33.0  "
      ]
     },
     "execution_count": 3,
     "metadata": {},
     "output_type": "execute_result"
    }
   ],
   "source": [
    "common_cols = ['시군구', '번지', '용도지역', '도로조건', '계약날짜', '대지면적(㎡)', '거래금액(만원)', '단가(㎡)', '단가(평)', '부동산유형', '건물연식']\n",
    "common_df = pd.concat([yunrip_df[common_cols], commerce_df[common_cols], land_df[[col for col in land_df.columns if col not in ['지목', '지분구분', '해제사유발생일']]]])\n",
    "common_df['계약날짜'] = pd.to_datetime(common_df['계약날짜'], format='%Y-%m-%d')\n",
    "print(common_df.shape)\n",
    "common_df.head()"
   ]
  },
  {
   "cell_type": "code",
   "execution_count": 4,
   "metadata": {},
   "outputs": [
    {
     "data": {
      "text/plain": [
       "['단독다가구(매매)_실거래가_20060101_20061231.csv',\n",
       " '단독다가구(매매)_실거래가_20070101_20071231.csv',\n",
       " '단독다가구(매매)_실거래가_20080101_20081231.csv',\n",
       " '단독다가구(매매)_실거래가_20090101_20091231.csv',\n",
       " '단독다가구(매매)_실거래가_20100101_20101231.csv',\n",
       " '단독다가구(매매)_실거래가_20110101_20111231.csv',\n",
       " '단독다가구(매매)_실거래가_20120101_20121231.csv',\n",
       " '단독다가구(매매)_실거래가_20130101_20131231.csv',\n",
       " '단독다가구(매매)_실거래가_20140101_20141231.csv',\n",
       " '단독다가구(매매)_실거래가_20150101_20151231.csv',\n",
       " '단독다가구(매매)_실거래가_20160101_20161231.csv',\n",
       " '단독다가구(매매)_실거래가_20170101_20171231.csv',\n",
       " '단독다가구(매매)_실거래가_20180101_20181231.csv',\n",
       " '단독다가구(매매)_실거래가_20190101_20191231.csv',\n",
       " '단독다가구(매매)_실거래가_20200101_20201231.csv',\n",
       " '단독다가구(매매)_실거래가_20210101_20210428.csv']"
      ]
     },
     "execution_count": 4,
     "metadata": {},
     "output_type": "execute_result"
    }
   ],
   "source": [
    "dandok_filenames = [f for f in os.listdir('./국토교통부_실거래가_공개시스템/단독다가구/매매/') if (f.endswith('.csv'))&('(매매)' in f)]\n",
    "dandok_filenames"
   ]
  },
  {
   "cell_type": "code",
   "execution_count": 5,
   "metadata": {},
   "outputs": [],
   "source": [
    "dfs_list = []\n",
    "for f in dandok_filenames:\n",
    "    df = pd.read_csv('./국토교통부_실거래가_공개시스템/단독다가구/매매/' + f, encoding='euc-kr', header=15)\n",
    "    if '해제사유발생일' in df.columns:\n",
    "        df = df[df['해제사유발생일'].isna()]\n",
    "        df = df.drop(columns=['해제사유발생일'])\n",
    "    dfs_list.append(df)"
   ]
  },
  {
   "cell_type": "code",
   "execution_count": 6,
   "metadata": {},
   "outputs": [
    {
     "name": "stdout",
     "output_type": "stream",
     "text": [
      "(194704, 11)\n"
     ]
    },
    {
     "data": {
      "text/html": [
       "<div>\n",
       "<style scoped>\n",
       "    .dataframe tbody tr th:only-of-type {\n",
       "        vertical-align: middle;\n",
       "    }\n",
       "\n",
       "    .dataframe tbody tr th {\n",
       "        vertical-align: top;\n",
       "    }\n",
       "\n",
       "    .dataframe thead th {\n",
       "        text-align: right;\n",
       "    }\n",
       "</style>\n",
       "<table border=\"1\" class=\"dataframe\">\n",
       "  <thead>\n",
       "    <tr style=\"text-align: right;\">\n",
       "      <th></th>\n",
       "      <th>시군구</th>\n",
       "      <th>번지</th>\n",
       "      <th>주택유형</th>\n",
       "      <th>도로조건</th>\n",
       "      <th>연면적(㎡)</th>\n",
       "      <th>대지면적(㎡)</th>\n",
       "      <th>계약년월</th>\n",
       "      <th>계약일</th>\n",
       "      <th>거래금액(만원)</th>\n",
       "      <th>건축년도</th>\n",
       "      <th>도로명</th>\n",
       "    </tr>\n",
       "  </thead>\n",
       "  <tbody>\n",
       "    <tr>\n",
       "      <th>0</th>\n",
       "      <td>서울특별시 강남구 개포동</td>\n",
       "      <td>2**</td>\n",
       "      <td>다가구</td>\n",
       "      <td>-</td>\n",
       "      <td>208.09</td>\n",
       "      <td>107.9</td>\n",
       "      <td>200604</td>\n",
       "      <td>17</td>\n",
       "      <td>34,200</td>\n",
       "      <td>1989.0</td>\n",
       "      <td>NaN</td>\n",
       "    </tr>\n",
       "    <tr>\n",
       "      <th>1</th>\n",
       "      <td>서울특별시 강남구 개포동</td>\n",
       "      <td>2**</td>\n",
       "      <td>다가구</td>\n",
       "      <td>-</td>\n",
       "      <td>194.67</td>\n",
       "      <td>117.0</td>\n",
       "      <td>200604</td>\n",
       "      <td>18</td>\n",
       "      <td>47,900</td>\n",
       "      <td>1993.0</td>\n",
       "      <td>NaN</td>\n",
       "    </tr>\n",
       "    <tr>\n",
       "      <th>2</th>\n",
       "      <td>서울특별시 강남구 개포동</td>\n",
       "      <td>2**</td>\n",
       "      <td>다가구</td>\n",
       "      <td>-</td>\n",
       "      <td>299.78</td>\n",
       "      <td>129.9</td>\n",
       "      <td>200601</td>\n",
       "      <td>24</td>\n",
       "      <td>61,000</td>\n",
       "      <td>1994.0</td>\n",
       "      <td>NaN</td>\n",
       "    </tr>\n",
       "    <tr>\n",
       "      <th>3</th>\n",
       "      <td>서울특별시 강남구 개포동</td>\n",
       "      <td>2**</td>\n",
       "      <td>다가구</td>\n",
       "      <td>-</td>\n",
       "      <td>188.89</td>\n",
       "      <td>130.1</td>\n",
       "      <td>200605</td>\n",
       "      <td>16</td>\n",
       "      <td>52,500</td>\n",
       "      <td>1993.0</td>\n",
       "      <td>NaN</td>\n",
       "    </tr>\n",
       "    <tr>\n",
       "      <th>4</th>\n",
       "      <td>서울특별시 강남구 개포동</td>\n",
       "      <td>2**</td>\n",
       "      <td>다가구</td>\n",
       "      <td>-</td>\n",
       "      <td>313.20</td>\n",
       "      <td>134.7</td>\n",
       "      <td>200606</td>\n",
       "      <td>27</td>\n",
       "      <td>56,000</td>\n",
       "      <td>1992.0</td>\n",
       "      <td>NaN</td>\n",
       "    </tr>\n",
       "  </tbody>\n",
       "</table>\n",
       "</div>"
      ],
      "text/plain": [
       "             시군구   번지 주택유형 도로조건  연면적(㎡)  대지면적(㎡)    계약년월  계약일 거래금액(만원)  \\\n",
       "0  서울특별시 강남구 개포동  2**  다가구    -  208.09    107.9  200604   17   34,200   \n",
       "1  서울특별시 강남구 개포동  2**  다가구    -  194.67    117.0  200604   18   47,900   \n",
       "2  서울특별시 강남구 개포동  2**  다가구    -  299.78    129.9  200601   24   61,000   \n",
       "3  서울특별시 강남구 개포동  2**  다가구    -  188.89    130.1  200605   16   52,500   \n",
       "4  서울특별시 강남구 개포동  2**  다가구    -  313.20    134.7  200606   27   56,000   \n",
       "\n",
       "     건축년도  도로명  \n",
       "0  1989.0  NaN  \n",
       "1  1993.0  NaN  \n",
       "2  1994.0  NaN  \n",
       "3  1993.0  NaN  \n",
       "4  1992.0  NaN  "
      ]
     },
     "execution_count": 6,
     "metadata": {},
     "output_type": "execute_result"
    }
   ],
   "source": [
    "dandok_df = pd.concat(dfs_list).reset_index(drop=True)\n",
    "print(dandok_df.shape)\n",
    "dandok_df.head()"
   ]
  },
  {
   "cell_type": "code",
   "execution_count": 7,
   "metadata": {},
   "outputs": [],
   "source": [
    "dandok_df['구'] = dandok_df['시군구'].apply(lambda x: x.split(' ')[1])\n",
    "dandok_df['동'] = dandok_df['시군구'].apply(lambda x: x.split(' ')[2])\n",
    "dandok_df['거래금액(만원)'] = dandok_df['거래금액(만원)'].apply(lambda x: int(x.replace(',','')))\n",
    "dandok_df['대지면적(㎡)'] = dandok_df['대지면적(㎡)'].apply(float)\n",
    "dandok_df['단가(평)'] = dandok_df['거래금액(만원)'] / dandok_df['대지면적(㎡)'] * 3.305785"
   ]
  },
  {
   "cell_type": "code",
   "execution_count": 8,
   "metadata": {},
   "outputs": [],
   "source": [
    "def day_modifier(x):\n",
    "    # x is a number\n",
    "    \n",
    "    if pd.isna(x) == True:\n",
    "        return x\n",
    "    else:\n",
    "        x = str(x)\n",
    "        if len(x) == 1:\n",
    "            return '0' + x\n",
    "        else:\n",
    "            return x"
   ]
  },
  {
   "cell_type": "code",
   "execution_count": 9,
   "metadata": {},
   "outputs": [],
   "source": [
    "dandok_df['계약날짜'] = dandok_df['계약년월'].apply(lambda x: str(x)[:4]) + '-' +\\\n",
    "dandok_df['계약년월'].apply(lambda x: str(x)[-2:]) + '-' + dandok_df['계약일'].apply(day_modifier)"
   ]
  },
  {
   "cell_type": "code",
   "execution_count": 10,
   "metadata": {},
   "outputs": [],
   "source": [
    "dandok_df['계약날짜'] = pd.to_datetime(dandok_df['계약날짜'])"
   ]
  },
  {
   "cell_type": "code",
   "execution_count": 11,
   "metadata": {},
   "outputs": [],
   "source": [
    "dandok_df.drop(columns=['계약년월', '계약일'], inplace=True)"
   ]
  },
  {
   "cell_type": "code",
   "execution_count": 12,
   "metadata": {},
   "outputs": [],
   "source": [
    "common_df['구'] = common_df['시군구'].apply(lambda x: x.split(' ')[1])\n",
    "dandok_df['구'] = dandok_df['시군구'].apply(lambda x: x.split(' ')[1])\n",
    "common_df['동'] = common_df['시군구'].apply(lambda x: x.split(' ')[2])\n",
    "dandok_df['동'] = dandok_df['시군구'].apply(lambda x: x.split(' ')[2])"
   ]
  },
  {
   "cell_type": "code",
   "execution_count": 22,
   "metadata": {},
   "outputs": [],
   "source": [
    "target_gu = '서대문구'\n",
    "target_dong = '대신동'\n",
    "target_purpose = '3종일반'\n",
    "date_today = pd.to_datetime(datetime.datetime.now())"
   ]
  },
  {
   "cell_type": "code",
   "execution_count": 23,
   "metadata": {},
   "outputs": [],
   "source": [
    "dandok_df['건물연식'] = date_today.year - dandok_df['건축년도']"
   ]
  },
  {
   "cell_type": "code",
   "execution_count": 24,
   "metadata": {},
   "outputs": [
    {
     "name": "stdout",
     "output_type": "stream",
     "text": [
      "(3, 13)\n"
     ]
    },
    {
     "data": {
      "text/html": [
       "<div>\n",
       "<style scoped>\n",
       "    .dataframe tbody tr th:only-of-type {\n",
       "        vertical-align: middle;\n",
       "    }\n",
       "\n",
       "    .dataframe tbody tr th {\n",
       "        vertical-align: top;\n",
       "    }\n",
       "\n",
       "    .dataframe thead th {\n",
       "        text-align: right;\n",
       "    }\n",
       "</style>\n",
       "<table border=\"1\" class=\"dataframe\">\n",
       "  <thead>\n",
       "    <tr style=\"text-align: right;\">\n",
       "      <th></th>\n",
       "      <th>시군구</th>\n",
       "      <th>번지</th>\n",
       "      <th>용도지역</th>\n",
       "      <th>도로조건</th>\n",
       "      <th>계약날짜</th>\n",
       "      <th>대지면적(㎡)</th>\n",
       "      <th>거래금액(만원)</th>\n",
       "      <th>단가(㎡)</th>\n",
       "      <th>단가(평)</th>\n",
       "      <th>부동산유형</th>\n",
       "      <th>건물연식</th>\n",
       "      <th>구</th>\n",
       "      <th>동</th>\n",
       "    </tr>\n",
       "  </thead>\n",
       "  <tbody>\n",
       "    <tr>\n",
       "      <th>107560</th>\n",
       "      <td>서울특별시 서대문구 대신동</td>\n",
       "      <td>125-1</td>\n",
       "      <td>제3종일반주거지역</td>\n",
       "      <td>12m미만</td>\n",
       "      <td>2021-03-13</td>\n",
       "      <td>17.73</td>\n",
       "      <td>13500.0</td>\n",
       "      <td>761.421320</td>\n",
       "      <td>2517.095178</td>\n",
       "      <td>연립다세대</td>\n",
       "      <td>34.0</td>\n",
       "      <td>서대문구</td>\n",
       "      <td>대신동</td>\n",
       "    </tr>\n",
       "    <tr>\n",
       "      <th>107561</th>\n",
       "      <td>서울특별시 서대문구 대신동</td>\n",
       "      <td>125-1</td>\n",
       "      <td>제3종일반주거지역</td>\n",
       "      <td>12m미만</td>\n",
       "      <td>2021-04-11</td>\n",
       "      <td>13.41</td>\n",
       "      <td>9000.0</td>\n",
       "      <td>671.140940</td>\n",
       "      <td>2218.647651</td>\n",
       "      <td>연립다세대</td>\n",
       "      <td>34.0</td>\n",
       "      <td>서대문구</td>\n",
       "      <td>대신동</td>\n",
       "    </tr>\n",
       "    <tr>\n",
       "      <th>22058</th>\n",
       "      <td>서울특별시 서대문구 대신동</td>\n",
       "      <td>9*</td>\n",
       "      <td>제3종일반주거</td>\n",
       "      <td>25m이상</td>\n",
       "      <td>2019-11-05</td>\n",
       "      <td>140.80</td>\n",
       "      <td>74500.0</td>\n",
       "      <td>529.119318</td>\n",
       "      <td>1749.154705</td>\n",
       "      <td>상업업무</td>\n",
       "      <td>37.0</td>\n",
       "      <td>서대문구</td>\n",
       "      <td>대신동</td>\n",
       "    </tr>\n",
       "  </tbody>\n",
       "</table>\n",
       "</div>"
      ],
      "text/plain": [
       "                   시군구     번지       용도지역   도로조건       계약날짜  대지면적(㎡)  거래금액(만원)  \\\n",
       "107560  서울특별시 서대문구 대신동  125-1  제3종일반주거지역  12m미만 2021-03-13    17.73   13500.0   \n",
       "107561  서울특별시 서대문구 대신동  125-1  제3종일반주거지역  12m미만 2021-04-11    13.41    9000.0   \n",
       "22058   서울특별시 서대문구 대신동     9*    제3종일반주거  25m이상 2019-11-05   140.80   74500.0   \n",
       "\n",
       "             단가(㎡)        단가(평)  부동산유형  건물연식     구    동  \n",
       "107560  761.421320  2517.095178  연립다세대  34.0  서대문구  대신동  \n",
       "107561  671.140940  2218.647651  연립다세대  34.0  서대문구  대신동  \n",
       "22058   529.119318  1749.154705   상업업무  37.0  서대문구  대신동  "
      ]
     },
     "execution_count": 24,
     "metadata": {},
     "output_type": "execute_result"
    }
   ],
   "source": [
    "target_df = common_df[\n",
    "    (common_df['구'] == target_gu)\n",
    "    &(common_df['동'] == target_dong)\n",
    "    &(common_df['용도지역'].str.contains(target_purpose))\n",
    "    &(common_df['계약날짜'] >= (date_today - pd.DateOffset(months=18)))\n",
    "].sort_values(['번지'])\n",
    "print(target_df.shape)\n",
    "target_df.head()"
   ]
  },
  {
   "cell_type": "code",
   "execution_count": 25,
   "metadata": {},
   "outputs": [
    {
     "name": "stdout",
     "output_type": "stream",
     "text": [
      "(1, 14)\n"
     ]
    },
    {
     "data": {
      "text/html": [
       "<div>\n",
       "<style scoped>\n",
       "    .dataframe tbody tr th:only-of-type {\n",
       "        vertical-align: middle;\n",
       "    }\n",
       "\n",
       "    .dataframe tbody tr th {\n",
       "        vertical-align: top;\n",
       "    }\n",
       "\n",
       "    .dataframe thead th {\n",
       "        text-align: right;\n",
       "    }\n",
       "</style>\n",
       "<table border=\"1\" class=\"dataframe\">\n",
       "  <thead>\n",
       "    <tr style=\"text-align: right;\">\n",
       "      <th></th>\n",
       "      <th>시군구</th>\n",
       "      <th>번지</th>\n",
       "      <th>주택유형</th>\n",
       "      <th>도로조건</th>\n",
       "      <th>연면적(㎡)</th>\n",
       "      <th>대지면적(㎡)</th>\n",
       "      <th>거래금액(만원)</th>\n",
       "      <th>건축년도</th>\n",
       "      <th>도로명</th>\n",
       "      <th>구</th>\n",
       "      <th>동</th>\n",
       "      <th>단가(평)</th>\n",
       "      <th>계약날짜</th>\n",
       "      <th>건물연식</th>\n",
       "    </tr>\n",
       "  </thead>\n",
       "  <tbody>\n",
       "    <tr>\n",
       "      <th>193337</th>\n",
       "      <td>서울특별시 서대문구 대신동</td>\n",
       "      <td>1**</td>\n",
       "      <td>단독</td>\n",
       "      <td>12m미만</td>\n",
       "      <td>164.29</td>\n",
       "      <td>234.7</td>\n",
       "      <td>200000</td>\n",
       "      <td>1981.0</td>\n",
       "      <td>연대동문길</td>\n",
       "      <td>서대문구</td>\n",
       "      <td>대신동</td>\n",
       "      <td>2817.030251</td>\n",
       "      <td>2021-02-04</td>\n",
       "      <td>40.0</td>\n",
       "    </tr>\n",
       "  </tbody>\n",
       "</table>\n",
       "</div>"
      ],
      "text/plain": [
       "                   시군구   번지 주택유형   도로조건  연면적(㎡)  대지면적(㎡)  거래금액(만원)    건축년도  \\\n",
       "193337  서울특별시 서대문구 대신동  1**   단독  12m미만  164.29    234.7    200000  1981.0   \n",
       "\n",
       "          도로명     구    동        단가(평)       계약날짜  건물연식  \n",
       "193337  연대동문길  서대문구  대신동  2817.030251 2021-02-04  40.0  "
      ]
     },
     "execution_count": 25,
     "metadata": {},
     "output_type": "execute_result"
    }
   ],
   "source": [
    "dandok_target_df = dandok_df[\n",
    "    (dandok_df['구'] == target_gu)\n",
    "    &(dandok_df['동'] == target_dong)\n",
    "    &(dandok_df['계약날짜'] >= (date_today - pd.DateOffset(months=18)))\n",
    "].sort_values(['번지'], ascending=False)\n",
    "print(dandok_target_df.shape)\n",
    "dandok_target_df.head()"
   ]
  },
  {
   "cell_type": "code",
   "execution_count": 26,
   "metadata": {},
   "outputs": [
    {
     "data": {
      "text/plain": [
       "<AxesSubplot:title={'center':'최근 18개월 서대문구 대신동 3종일반 토지, 연립/다세대 & 상업/업무용 30년이상 건물(파랑)과 단독주택(주홍) 실거래 단가'}, ylabel='단가(평)'>"
      ]
     },
     "execution_count": 26,
     "metadata": {},
     "output_type": "execute_result"
    },
    {
     "data": {
      "image/png": "[encoded data removed]",
      "text/plain": [
       "<Figure size 1440x720 with 1 Axes>"
      ]
     },
     "metadata": {
      "needs_background": "light"
     },
     "output_type": "display_data"
    }
   ],
   "source": [
    "font = {'size': 16}\n",
    "matplotlib.rc('font', **font)\n",
    "f, ax = plt.subplots(figsize=(20,10))\n",
    "plt.title('최근 18개월 {} {} {} 토지, 연립/다세대 & 상업/업무용 30년이상 건물(파랑)과 단독주택(주홍) 실거래 단가'.format(target_gu, target_dong, target_purpose))\n",
    "plt.grid(True)\n",
    "ax.xaxis.update_units(target_df['계약날짜'])\n",
    "sns.regplot(x=ax.xaxis.convert_units(target_df['계약날짜']), y=target_df['단가(평)'])#, order=3, ci=None)\n",
    "ax.xaxis.update_units(dandok_target_df['계약날짜'])\n",
    "sns.regplot(x=ax.xaxis.convert_units(dandok_target_df['계약날짜']), y=dandok_target_df['단가(평)'])#, order=3, ci=None)\n",
    "#plt.ylim([0, 6000])\n",
    "#plt.savefig(basedir + '{}_{}_{}/산포도.png'.format(target_gu, target_dong, target_purpose))"
   ]
  },
  {
   "cell_type": "code",
   "execution_count": null,
   "metadata": {},
   "outputs": [],
   "source": []
  },
  {
   "cell_type": "code",
   "execution_count": null,
   "metadata": {},
   "outputs": [],
   "source": []
  }
 ],
 "metadata": {
  "kernelspec": {
   "display_name": "Python 3",
   "language": "python",
   "name": "python3"
  },
  "language_info": {
   "codemirror_mode": {
    "name": "ipython",
    "version": 3
   },
   "file_extension": ".py",
   "mimetype": "text/x-python",
   "name": "python",
   "nbconvert_exporter": "python",
   "pygments_lexer": "ipython3",
   "version": "3.7.9"
  }
 },
 "nbformat": 4,
 "nbformat_minor": 4
}
