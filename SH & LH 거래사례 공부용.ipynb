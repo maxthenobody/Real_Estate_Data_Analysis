{
 "cells": [
  {
   "cell_type": "code",
   "execution_count": 1,
   "metadata": {},
   "outputs": [],
   "source": [
    "import pandas as pd\n",
    "import numpy as np\n",
    "import os\n",
    "pd.set_option('display.max_rows', 500)\n",
    "pd.set_option('display.max_columns', 500)\n",
    "from tqdm import tqdm\n",
    "import matplotlib.pyplot as plt\n",
    "import seaborn as sns\n",
    "import matplotlib\n",
    "matplotlib.rcParams['axes.unicode_minus'] = False\n",
    "pd.options.mode.chained_assignment = None  # default='warn'\n",
    "plt.rcParams['font.family'] = 'Malgun Gothic'\n",
    "import datetime\n",
    "import time\n",
    "import math"
   ]
  },
  {
   "cell_type": "code",
   "execution_count": 2,
   "metadata": {},
   "outputs": [],
   "source": [
    "def get_gu_dong(df):\n",
    "    df = df.copy()\n",
    "    \n",
    "    df['구'] = df['지번주소'].apply(lambda x: x.split(' ')[1])\n",
    "    df['동'] = df['지번주소'].apply(lambda x: x.split(' ')[2])\n",
    "    \n",
    "    return df"
   ]
  },
  {
   "cell_type": "code",
   "execution_count": 3,
   "metadata": {},
   "outputs": [],
   "source": [
    "bulktrade_basedir = './국토교통부_실거래가_공개시스템/집값분석/일괄구매/10호이상/'"
   ]
  },
  {
   "cell_type": "code",
   "execution_count": 4,
   "metadata": {},
   "outputs": [],
   "source": [
    "date_today = pd.to_datetime(datetime.datetime.now())\n",
    "target_period = 6 # in months"
   ]
  },
  {
   "cell_type": "code",
   "execution_count": 5,
   "metadata": {},
   "outputs": [
    {
     "name": "stdout",
     "output_type": "stream",
     "text": [
      "(15596, 16)\n"
     ]
    },
    {
     "data": {
      "text/html": [
       "<div>\n",
       "<style scoped>\n",
       "    .dataframe tbody tr th:only-of-type {\n",
       "        vertical-align: middle;\n",
       "    }\n",
       "\n",
       "    .dataframe tbody tr th {\n",
       "        vertical-align: top;\n",
       "    }\n",
       "\n",
       "    .dataframe thead th {\n",
       "        text-align: right;\n",
       "    }\n",
       "</style>\n",
       "<table border=\"1\" class=\"dataframe\">\n",
       "  <thead>\n",
       "    <tr style=\"text-align: right;\">\n",
       "      <th></th>\n",
       "      <th>지번주소</th>\n",
       "      <th>도로명</th>\n",
       "      <th>건물(단지)명</th>\n",
       "      <th>전용면적(㎡)</th>\n",
       "      <th>대지권면적(㎡)</th>\n",
       "      <th>거래금액(만원)</th>\n",
       "      <th>층</th>\n",
       "      <th>건축년도</th>\n",
       "      <th>계약날짜기준_건물연식</th>\n",
       "      <th>계약날짜</th>\n",
       "      <th>단가(만원/㎡)</th>\n",
       "      <th>건물연식</th>\n",
       "      <th>부동산유형</th>\n",
       "      <th>소유자</th>\n",
       "      <th>구</th>\n",
       "      <th>동</th>\n",
       "    </tr>\n",
       "  </thead>\n",
       "  <tbody>\n",
       "    <tr>\n",
       "      <th>0</th>\n",
       "      <td>서울특별시 강동구 길동 376-2</td>\n",
       "      <td>천중로40길 27</td>\n",
       "      <td>진성파크빌</td>\n",
       "      <td>39.93</td>\n",
       "      <td>11.38</td>\n",
       "      <td>25050</td>\n",
       "      <td>2</td>\n",
       "      <td>2015.0</td>\n",
       "      <td>0.0</td>\n",
       "      <td>2015-11-17</td>\n",
       "      <td>627.347859</td>\n",
       "      <td>6.0</td>\n",
       "      <td>연립다세대</td>\n",
       "      <td>한***~</td>\n",
       "      <td>강동구</td>\n",
       "      <td>길동</td>\n",
       "    </tr>\n",
       "    <tr>\n",
       "      <th>1</th>\n",
       "      <td>서울특별시 강동구 길동 376-2</td>\n",
       "      <td>천중로40길 27</td>\n",
       "      <td>진성파크빌</td>\n",
       "      <td>46.14</td>\n",
       "      <td>13.16</td>\n",
       "      <td>28950</td>\n",
       "      <td>2</td>\n",
       "      <td>2015.0</td>\n",
       "      <td>0.0</td>\n",
       "      <td>2015-11-17</td>\n",
       "      <td>627.438231</td>\n",
       "      <td>6.0</td>\n",
       "      <td>연립다세대</td>\n",
       "      <td>한***~</td>\n",
       "      <td>강동구</td>\n",
       "      <td>길동</td>\n",
       "    </tr>\n",
       "    <tr>\n",
       "      <th>2</th>\n",
       "      <td>서울특별시 강동구 길동 376-2</td>\n",
       "      <td>천중로40길 27</td>\n",
       "      <td>진성파크빌</td>\n",
       "      <td>46.14</td>\n",
       "      <td>13.16</td>\n",
       "      <td>28950</td>\n",
       "      <td>3</td>\n",
       "      <td>2015.0</td>\n",
       "      <td>0.0</td>\n",
       "      <td>2015-11-17</td>\n",
       "      <td>627.438231</td>\n",
       "      <td>6.0</td>\n",
       "      <td>연립다세대</td>\n",
       "      <td>한***~</td>\n",
       "      <td>강동구</td>\n",
       "      <td>길동</td>\n",
       "    </tr>\n",
       "    <tr>\n",
       "      <th>3</th>\n",
       "      <td>서울특별시 강동구 길동 376-2</td>\n",
       "      <td>천중로40길 27</td>\n",
       "      <td>진성파크빌</td>\n",
       "      <td>39.93</td>\n",
       "      <td>11.38</td>\n",
       "      <td>25050</td>\n",
       "      <td>3</td>\n",
       "      <td>2015.0</td>\n",
       "      <td>0.0</td>\n",
       "      <td>2015-11-17</td>\n",
       "      <td>627.347859</td>\n",
       "      <td>6.0</td>\n",
       "      <td>연립다세대</td>\n",
       "      <td>한***~</td>\n",
       "      <td>강동구</td>\n",
       "      <td>길동</td>\n",
       "    </tr>\n",
       "    <tr>\n",
       "      <th>4</th>\n",
       "      <td>서울특별시 강동구 길동 376-2</td>\n",
       "      <td>천중로40길 27</td>\n",
       "      <td>진성파크빌</td>\n",
       "      <td>46.14</td>\n",
       "      <td>13.16</td>\n",
       "      <td>28950</td>\n",
       "      <td>2</td>\n",
       "      <td>2015.0</td>\n",
       "      <td>0.0</td>\n",
       "      <td>2015-11-17</td>\n",
       "      <td>627.438231</td>\n",
       "      <td>6.0</td>\n",
       "      <td>연립다세대</td>\n",
       "      <td>한***~</td>\n",
       "      <td>강동구</td>\n",
       "      <td>길동</td>\n",
       "    </tr>\n",
       "  </tbody>\n",
       "</table>\n",
       "</div>"
      ],
      "text/plain": [
       "                 지번주소        도로명 건물(단지)명  전용면적(㎡)  대지권면적(㎡)  거래금액(만원)  층  \\\n",
       "0  서울특별시 강동구 길동 376-2  천중로40길 27   진성파크빌    39.93     11.38     25050  2   \n",
       "1  서울특별시 강동구 길동 376-2  천중로40길 27   진성파크빌    46.14     13.16     28950  2   \n",
       "2  서울특별시 강동구 길동 376-2  천중로40길 27   진성파크빌    46.14     13.16     28950  3   \n",
       "3  서울특별시 강동구 길동 376-2  천중로40길 27   진성파크빌    39.93     11.38     25050  3   \n",
       "4  서울특별시 강동구 길동 376-2  천중로40길 27   진성파크빌    46.14     13.16     28950  2   \n",
       "\n",
       "     건축년도  계약날짜기준_건물연식       계약날짜    단가(만원/㎡)  건물연식  부동산유형    소유자    구   동  \n",
       "0  2015.0          0.0 2015-11-17  627.347859   6.0  연립다세대  한***~  강동구  길동  \n",
       "1  2015.0          0.0 2015-11-17  627.438231   6.0  연립다세대  한***~  강동구  길동  \n",
       "2  2015.0          0.0 2015-11-17  627.438231   6.0  연립다세대  한***~  강동구  길동  \n",
       "3  2015.0          0.0 2015-11-17  627.347859   6.0  연립다세대  한***~  강동구  길동  \n",
       "4  2015.0          0.0 2015-11-17  627.438231   6.0  연립다세대  한***~  강동구  길동  "
      ]
     },
     "execution_count": 5,
     "metadata": {},
     "output_type": "execute_result"
    }
   ],
   "source": [
    "yunrip_bulk_df = pd.read_csv(bulktrade_basedir+'연립다세대_일괄구매_전체.csv')\n",
    "yunrip_bulk_df['계약날짜'] = pd.to_datetime(yunrip_bulk_df['계약날짜'])\n",
    "#yunrip_bulk_df = yunrip_bulk_df[yunrip_bulk_df['계약날짜']  >= (date_today - pd.DateOffset(months=target_period))]\n",
    "yunrip_bulk_df = yunrip_bulk_df[\n",
    "    (yunrip_bulk_df['소유자'] == '서***~')\n",
    "    |(yunrip_bulk_df['소유자'] == '한***~')\n",
    "].reset_index(drop=True)\n",
    "yunrip_bulk_df = get_gu_dong(yunrip_bulk_df)\n",
    "print(yunrip_bulk_df.shape)\n",
    "yunrip_bulk_df.head()"
   ]
  },
  {
   "cell_type": "code",
   "execution_count": 6,
   "metadata": {},
   "outputs": [
    {
     "name": "stdout",
     "output_type": "stream",
     "text": [
      "(1254, 15)\n"
     ]
    },
    {
     "data": {
      "text/html": [
       "<div>\n",
       "<style scoped>\n",
       "    .dataframe tbody tr th:only-of-type {\n",
       "        vertical-align: middle;\n",
       "    }\n",
       "\n",
       "    .dataframe tbody tr th {\n",
       "        vertical-align: top;\n",
       "    }\n",
       "\n",
       "    .dataframe thead th {\n",
       "        text-align: right;\n",
       "    }\n",
       "</style>\n",
       "<table border=\"1\" class=\"dataframe\">\n",
       "  <thead>\n",
       "    <tr style=\"text-align: right;\">\n",
       "      <th></th>\n",
       "      <th>지번주소</th>\n",
       "      <th>도로명</th>\n",
       "      <th>건물(단지)명</th>\n",
       "      <th>전용면적(㎡)</th>\n",
       "      <th>거래금액(만원)</th>\n",
       "      <th>층</th>\n",
       "      <th>건축년도</th>\n",
       "      <th>계약날짜기준_건물연식</th>\n",
       "      <th>계약날짜</th>\n",
       "      <th>단가(만원/㎡)</th>\n",
       "      <th>건물연식</th>\n",
       "      <th>부동산유형</th>\n",
       "      <th>소유자</th>\n",
       "      <th>구</th>\n",
       "      <th>동</th>\n",
       "    </tr>\n",
       "  </thead>\n",
       "  <tbody>\n",
       "    <tr>\n",
       "      <th>0</th>\n",
       "      <td>서울특별시 금천구 독산동 332-13</td>\n",
       "      <td>범안로15길 21</td>\n",
       "      <td>명도레이크캐슬</td>\n",
       "      <td>17.12</td>\n",
       "      <td>13150</td>\n",
       "      <td>2</td>\n",
       "      <td>2019.0</td>\n",
       "      <td>0.0</td>\n",
       "      <td>2019-08-16</td>\n",
       "      <td>768.107477</td>\n",
       "      <td>2.0</td>\n",
       "      <td>오피스텔</td>\n",
       "      <td>한***~</td>\n",
       "      <td>금천구</td>\n",
       "      <td>독산동</td>\n",
       "    </tr>\n",
       "    <tr>\n",
       "      <th>1</th>\n",
       "      <td>서울특별시 금천구 독산동 332-13</td>\n",
       "      <td>범안로15길 21</td>\n",
       "      <td>명도레이크캐슬</td>\n",
       "      <td>17.12</td>\n",
       "      <td>13150</td>\n",
       "      <td>2</td>\n",
       "      <td>2019.0</td>\n",
       "      <td>0.0</td>\n",
       "      <td>2019-08-16</td>\n",
       "      <td>768.107477</td>\n",
       "      <td>2.0</td>\n",
       "      <td>오피스텔</td>\n",
       "      <td>한***~</td>\n",
       "      <td>금천구</td>\n",
       "      <td>독산동</td>\n",
       "    </tr>\n",
       "    <tr>\n",
       "      <th>2</th>\n",
       "      <td>서울특별시 금천구 독산동 332-13</td>\n",
       "      <td>범안로15길 21</td>\n",
       "      <td>명도레이크캐슬</td>\n",
       "      <td>17.12</td>\n",
       "      <td>13550</td>\n",
       "      <td>2</td>\n",
       "      <td>2019.0</td>\n",
       "      <td>0.0</td>\n",
       "      <td>2019-08-16</td>\n",
       "      <td>791.471963</td>\n",
       "      <td>2.0</td>\n",
       "      <td>오피스텔</td>\n",
       "      <td>한***~</td>\n",
       "      <td>금천구</td>\n",
       "      <td>독산동</td>\n",
       "    </tr>\n",
       "    <tr>\n",
       "      <th>3</th>\n",
       "      <td>서울특별시 금천구 독산동 332-13</td>\n",
       "      <td>범안로15길 21</td>\n",
       "      <td>명도레이크캐슬</td>\n",
       "      <td>17.12</td>\n",
       "      <td>13550</td>\n",
       "      <td>2</td>\n",
       "      <td>2019.0</td>\n",
       "      <td>0.0</td>\n",
       "      <td>2019-08-16</td>\n",
       "      <td>791.471963</td>\n",
       "      <td>2.0</td>\n",
       "      <td>오피스텔</td>\n",
       "      <td>한***~</td>\n",
       "      <td>금천구</td>\n",
       "      <td>독산동</td>\n",
       "    </tr>\n",
       "    <tr>\n",
       "      <th>4</th>\n",
       "      <td>서울특별시 금천구 독산동 332-13</td>\n",
       "      <td>범안로15길 21</td>\n",
       "      <td>명도레이크캐슬</td>\n",
       "      <td>17.12</td>\n",
       "      <td>13550</td>\n",
       "      <td>2</td>\n",
       "      <td>2019.0</td>\n",
       "      <td>0.0</td>\n",
       "      <td>2019-08-16</td>\n",
       "      <td>791.471963</td>\n",
       "      <td>2.0</td>\n",
       "      <td>오피스텔</td>\n",
       "      <td>한***~</td>\n",
       "      <td>금천구</td>\n",
       "      <td>독산동</td>\n",
       "    </tr>\n",
       "  </tbody>\n",
       "</table>\n",
       "</div>"
      ],
      "text/plain": [
       "                   지번주소        도로명  건물(단지)명  전용면적(㎡)  거래금액(만원)  층    건축년도  \\\n",
       "0  서울특별시 금천구 독산동 332-13  범안로15길 21  명도레이크캐슬    17.12     13150  2  2019.0   \n",
       "1  서울특별시 금천구 독산동 332-13  범안로15길 21  명도레이크캐슬    17.12     13150  2  2019.0   \n",
       "2  서울특별시 금천구 독산동 332-13  범안로15길 21  명도레이크캐슬    17.12     13550  2  2019.0   \n",
       "3  서울특별시 금천구 독산동 332-13  범안로15길 21  명도레이크캐슬    17.12     13550  2  2019.0   \n",
       "4  서울특별시 금천구 독산동 332-13  범안로15길 21  명도레이크캐슬    17.12     13550  2  2019.0   \n",
       "\n",
       "   계약날짜기준_건물연식       계약날짜    단가(만원/㎡)  건물연식 부동산유형    소유자    구    동  \n",
       "0          0.0 2019-08-16  768.107477   2.0  오피스텔  한***~  금천구  독산동  \n",
       "1          0.0 2019-08-16  768.107477   2.0  오피스텔  한***~  금천구  독산동  \n",
       "2          0.0 2019-08-16  791.471963   2.0  오피스텔  한***~  금천구  독산동  \n",
       "3          0.0 2019-08-16  791.471963   2.0  오피스텔  한***~  금천구  독산동  \n",
       "4          0.0 2019-08-16  791.471963   2.0  오피스텔  한***~  금천구  독산동  "
      ]
     },
     "execution_count": 6,
     "metadata": {},
     "output_type": "execute_result"
    }
   ],
   "source": [
    "officetel_bulk_df = pd.read_csv(bulktrade_basedir+'오피스텔_일괄구매_전체.csv')\n",
    "officetel_bulk_df['계약날짜'] = pd.to_datetime(officetel_bulk_df['계약날짜'])\n",
    "#officetel_bulk_df = officetel_bulk_df[officetel_bulk_df['계약날짜']  >= (date_today - pd.DateOffset(months=target_period))]\n",
    "officetel_bulk_df = officetel_bulk_df[\n",
    "    (officetel_bulk_df['소유자'] == '서***~')\n",
    "    |(officetel_bulk_df['소유자'] == '한***~')\n",
    "].reset_index(drop=True)\n",
    "officetel_bulk_df = get_gu_dong(officetel_bulk_df)\n",
    "print(officetel_bulk_df.shape)\n",
    "officetel_bulk_df.head()"
   ]
  },
  {
   "cell_type": "code",
   "execution_count": 7,
   "metadata": {},
   "outputs": [
    {
     "name": "stdout",
     "output_type": "stream",
     "text": [
      "(15596, 16)\n",
      "(1254, 15)\n"
     ]
    }
   ],
   "source": [
    "print(yunrip_bulk_df.shape)\n",
    "print(officetel_bulk_df.shape)"
   ]
  },
  {
   "cell_type": "code",
   "execution_count": 8,
   "metadata": {},
   "outputs": [],
   "source": [
    "yunrip_bulk_df = yunrip_bulk_df.drop(columns=['대지권면적(㎡)'])"
   ]
  },
  {
   "cell_type": "code",
   "execution_count": 9,
   "metadata": {},
   "outputs": [
    {
     "name": "stdout",
     "output_type": "stream",
     "text": [
      "(16850, 15)\n"
     ]
    },
    {
     "data": {
      "text/html": [
       "<div>\n",
       "<style scoped>\n",
       "    .dataframe tbody tr th:only-of-type {\n",
       "        vertical-align: middle;\n",
       "    }\n",
       "\n",
       "    .dataframe tbody tr th {\n",
       "        vertical-align: top;\n",
       "    }\n",
       "\n",
       "    .dataframe thead th {\n",
       "        text-align: right;\n",
       "    }\n",
       "</style>\n",
       "<table border=\"1\" class=\"dataframe\">\n",
       "  <thead>\n",
       "    <tr style=\"text-align: right;\">\n",
       "      <th></th>\n",
       "      <th>지번주소</th>\n",
       "      <th>도로명</th>\n",
       "      <th>건물(단지)명</th>\n",
       "      <th>전용면적(㎡)</th>\n",
       "      <th>거래금액(만원)</th>\n",
       "      <th>층</th>\n",
       "      <th>건축년도</th>\n",
       "      <th>계약날짜기준_건물연식</th>\n",
       "      <th>계약날짜</th>\n",
       "      <th>단가(만원/㎡)</th>\n",
       "      <th>건물연식</th>\n",
       "      <th>부동산유형</th>\n",
       "      <th>소유자</th>\n",
       "      <th>구</th>\n",
       "      <th>동</th>\n",
       "    </tr>\n",
       "  </thead>\n",
       "  <tbody>\n",
       "    <tr>\n",
       "      <th>0</th>\n",
       "      <td>서울특별시 강동구 길동 376-2</td>\n",
       "      <td>천중로40길 27</td>\n",
       "      <td>진성파크빌</td>\n",
       "      <td>39.93</td>\n",
       "      <td>25050</td>\n",
       "      <td>2</td>\n",
       "      <td>2015.0</td>\n",
       "      <td>0.0</td>\n",
       "      <td>2015-11-17</td>\n",
       "      <td>627.347859</td>\n",
       "      <td>6.0</td>\n",
       "      <td>연립다세대</td>\n",
       "      <td>한***~</td>\n",
       "      <td>강동구</td>\n",
       "      <td>길동</td>\n",
       "    </tr>\n",
       "    <tr>\n",
       "      <th>1</th>\n",
       "      <td>서울특별시 강동구 길동 376-2</td>\n",
       "      <td>천중로40길 27</td>\n",
       "      <td>진성파크빌</td>\n",
       "      <td>46.14</td>\n",
       "      <td>28950</td>\n",
       "      <td>2</td>\n",
       "      <td>2015.0</td>\n",
       "      <td>0.0</td>\n",
       "      <td>2015-11-17</td>\n",
       "      <td>627.438231</td>\n",
       "      <td>6.0</td>\n",
       "      <td>연립다세대</td>\n",
       "      <td>한***~</td>\n",
       "      <td>강동구</td>\n",
       "      <td>길동</td>\n",
       "    </tr>\n",
       "    <tr>\n",
       "      <th>2</th>\n",
       "      <td>서울특별시 강동구 길동 376-2</td>\n",
       "      <td>천중로40길 27</td>\n",
       "      <td>진성파크빌</td>\n",
       "      <td>46.14</td>\n",
       "      <td>28950</td>\n",
       "      <td>3</td>\n",
       "      <td>2015.0</td>\n",
       "      <td>0.0</td>\n",
       "      <td>2015-11-17</td>\n",
       "      <td>627.438231</td>\n",
       "      <td>6.0</td>\n",
       "      <td>연립다세대</td>\n",
       "      <td>한***~</td>\n",
       "      <td>강동구</td>\n",
       "      <td>길동</td>\n",
       "    </tr>\n",
       "    <tr>\n",
       "      <th>3</th>\n",
       "      <td>서울특별시 강동구 길동 376-2</td>\n",
       "      <td>천중로40길 27</td>\n",
       "      <td>진성파크빌</td>\n",
       "      <td>39.93</td>\n",
       "      <td>25050</td>\n",
       "      <td>3</td>\n",
       "      <td>2015.0</td>\n",
       "      <td>0.0</td>\n",
       "      <td>2015-11-17</td>\n",
       "      <td>627.347859</td>\n",
       "      <td>6.0</td>\n",
       "      <td>연립다세대</td>\n",
       "      <td>한***~</td>\n",
       "      <td>강동구</td>\n",
       "      <td>길동</td>\n",
       "    </tr>\n",
       "    <tr>\n",
       "      <th>4</th>\n",
       "      <td>서울특별시 강동구 길동 376-2</td>\n",
       "      <td>천중로40길 27</td>\n",
       "      <td>진성파크빌</td>\n",
       "      <td>46.14</td>\n",
       "      <td>28950</td>\n",
       "      <td>2</td>\n",
       "      <td>2015.0</td>\n",
       "      <td>0.0</td>\n",
       "      <td>2015-11-17</td>\n",
       "      <td>627.438231</td>\n",
       "      <td>6.0</td>\n",
       "      <td>연립다세대</td>\n",
       "      <td>한***~</td>\n",
       "      <td>강동구</td>\n",
       "      <td>길동</td>\n",
       "    </tr>\n",
       "  </tbody>\n",
       "</table>\n",
       "</div>"
      ],
      "text/plain": [
       "                 지번주소        도로명 건물(단지)명  전용면적(㎡)  거래금액(만원)  층    건축년도  \\\n",
       "0  서울특별시 강동구 길동 376-2  천중로40길 27   진성파크빌    39.93     25050  2  2015.0   \n",
       "1  서울특별시 강동구 길동 376-2  천중로40길 27   진성파크빌    46.14     28950  2  2015.0   \n",
       "2  서울특별시 강동구 길동 376-2  천중로40길 27   진성파크빌    46.14     28950  3  2015.0   \n",
       "3  서울특별시 강동구 길동 376-2  천중로40길 27   진성파크빌    39.93     25050  3  2015.0   \n",
       "4  서울특별시 강동구 길동 376-2  천중로40길 27   진성파크빌    46.14     28950  2  2015.0   \n",
       "\n",
       "   계약날짜기준_건물연식       계약날짜    단가(만원/㎡)  건물연식  부동산유형    소유자    구   동  \n",
       "0          0.0 2015-11-17  627.347859   6.0  연립다세대  한***~  강동구  길동  \n",
       "1          0.0 2015-11-17  627.438231   6.0  연립다세대  한***~  강동구  길동  \n",
       "2          0.0 2015-11-17  627.438231   6.0  연립다세대  한***~  강동구  길동  \n",
       "3          0.0 2015-11-17  627.347859   6.0  연립다세대  한***~  강동구  길동  \n",
       "4          0.0 2015-11-17  627.438231   6.0  연립다세대  한***~  강동구  길동  "
      ]
     },
     "execution_count": 9,
     "metadata": {},
     "output_type": "execute_result"
    }
   ],
   "source": [
    "concat_df = pd.concat([yunrip_bulk_df, officetel_bulk_df]).reset_index(drop=True)\n",
    "print(concat_df.shape)\n",
    "concat_df.head()"
   ]
  },
  {
   "cell_type": "code",
   "execution_count": 10,
   "metadata": {},
   "outputs": [],
   "source": [
    "sales_idx_basedir = './한국부동산원/실거래가격지수/'\n",
    "filenames = [f for f in os.listdir(sales_idx_basedir) if '연립다세대' in f]\n",
    "\n",
    "sales_idx_df = pd.read_excel(sales_idx_basedir + filenames[0], header=[10, 11])\n",
    "\n",
    "sales_idx_cols_list = []\n",
    "for i in range(sales_idx_df.shape[1]):\n",
    "    if i == 0:\n",
    "        sales_idx_cols_list.append(sales_idx_df.columns[i][0])\n",
    "    else:\n",
    "        sales_idx_cols_list.append(sales_idx_df.columns[i][0] + '_' + sales_idx_df.columns[i][1])\n",
    "\n",
    "sales_idx_df.columns = sales_idx_cols_list"
   ]
  },
  {
   "cell_type": "code",
   "execution_count": 11,
   "metadata": {},
   "outputs": [],
   "source": [
    "def get_sales_idx(x):\n",
    "    # x is a pandas timestamp\n",
    "    \n",
    "    df = sales_idx_df.copy()\n",
    "    \n",
    "    if pd.isna(x) == True:\n",
    "        return x\n",
    "    else:\n",
    "        year = str(x.year)\n",
    "        month = str(x.month)\n",
    "        if len(month) == 1:\n",
    "            month = '0'+month\n",
    "        \n",
    "        idx = df[year+'년 '+month+'월_지수'].iloc[0]\n",
    "        \n",
    "        return idx"
   ]
  },
  {
   "cell_type": "code",
   "execution_count": 12,
   "metadata": {},
   "outputs": [],
   "source": [
    "def get_index_applied_prices(df):\n",
    "    df = df.copy()\n",
    "    \n",
    "    last_idx = sales_idx_df.iloc[0,-2]\n",
    "    \n",
    "    last_date = sales_idx_df.columns[-1].split('_')[0]\n",
    "    \n",
    "    last_date = last_date.split(' ')[0].replace('년','') + '-' + last_date.split(' ')[1].replace('월','') + '-01'\n",
    "    \n",
    "    target_upper_limit_df = df[df['계약날짜'] < pd.to_datetime(last_date)]\n",
    "    target_upper_limit_df['계약날짜_실거래지수'] = target_upper_limit_df['계약날짜'].apply(get_sales_idx)\n",
    "    target_upper_limit_df['지수적용단가'] = target_upper_limit_df['단가(만원/㎡)'] / target_upper_limit_df['계약날짜_실거래지수'] * last_idx\n",
    "    df['지수적용단가'] = df['단가(만원/㎡)']\n",
    "    df.loc[target_upper_limit_df.index, '지수적용단가'] = target_upper_limit_df['지수적용단가']\n",
    "    df['평가날짜'] = df['계약날짜']\n",
    "    df.loc[target_upper_limit_df.index, '평가날짜'] = pd.to_datetime(last_date[:-2] + '01')\n",
    "    \n",
    "    return df"
   ]
  },
  {
   "cell_type": "code",
   "execution_count": 13,
   "metadata": {},
   "outputs": [
    {
     "name": "stdout",
     "output_type": "stream",
     "text": [
      "(16850, 17)\n"
     ]
    },
    {
     "data": {
      "text/html": [
       "<div>\n",
       "<style scoped>\n",
       "    .dataframe tbody tr th:only-of-type {\n",
       "        vertical-align: middle;\n",
       "    }\n",
       "\n",
       "    .dataframe tbody tr th {\n",
       "        vertical-align: top;\n",
       "    }\n",
       "\n",
       "    .dataframe thead th {\n",
       "        text-align: right;\n",
       "    }\n",
       "</style>\n",
       "<table border=\"1\" class=\"dataframe\">\n",
       "  <thead>\n",
       "    <tr style=\"text-align: right;\">\n",
       "      <th></th>\n",
       "      <th>지번주소</th>\n",
       "      <th>도로명</th>\n",
       "      <th>건물(단지)명</th>\n",
       "      <th>전용면적(㎡)</th>\n",
       "      <th>거래금액(만원)</th>\n",
       "      <th>층</th>\n",
       "      <th>건축년도</th>\n",
       "      <th>계약날짜기준_건물연식</th>\n",
       "      <th>계약날짜</th>\n",
       "      <th>단가(만원/㎡)</th>\n",
       "      <th>건물연식</th>\n",
       "      <th>부동산유형</th>\n",
       "      <th>소유자</th>\n",
       "      <th>구</th>\n",
       "      <th>동</th>\n",
       "      <th>지수적용단가</th>\n",
       "      <th>평가날짜</th>\n",
       "    </tr>\n",
       "  </thead>\n",
       "  <tbody>\n",
       "    <tr>\n",
       "      <th>0</th>\n",
       "      <td>서울특별시 강동구 길동 376-2</td>\n",
       "      <td>천중로40길 27</td>\n",
       "      <td>진성파크빌</td>\n",
       "      <td>39.93</td>\n",
       "      <td>25050</td>\n",
       "      <td>2</td>\n",
       "      <td>2015.0</td>\n",
       "      <td>0.0</td>\n",
       "      <td>2015-11-17</td>\n",
       "      <td>627.347859</td>\n",
       "      <td>6.0</td>\n",
       "      <td>연립다세대</td>\n",
       "      <td>한***~</td>\n",
       "      <td>강동구</td>\n",
       "      <td>길동</td>\n",
       "      <td>867.330392</td>\n",
       "      <td>2021-03-01</td>\n",
       "    </tr>\n",
       "    <tr>\n",
       "      <th>1</th>\n",
       "      <td>서울특별시 강동구 길동 376-2</td>\n",
       "      <td>천중로40길 27</td>\n",
       "      <td>진성파크빌</td>\n",
       "      <td>46.14</td>\n",
       "      <td>28950</td>\n",
       "      <td>2</td>\n",
       "      <td>2015.0</td>\n",
       "      <td>0.0</td>\n",
       "      <td>2015-11-17</td>\n",
       "      <td>627.438231</td>\n",
       "      <td>6.0</td>\n",
       "      <td>연립다세대</td>\n",
       "      <td>한***~</td>\n",
       "      <td>강동구</td>\n",
       "      <td>길동</td>\n",
       "      <td>867.455335</td>\n",
       "      <td>2021-03-01</td>\n",
       "    </tr>\n",
       "    <tr>\n",
       "      <th>2</th>\n",
       "      <td>서울특별시 강동구 길동 376-2</td>\n",
       "      <td>천중로40길 27</td>\n",
       "      <td>진성파크빌</td>\n",
       "      <td>46.14</td>\n",
       "      <td>28950</td>\n",
       "      <td>3</td>\n",
       "      <td>2015.0</td>\n",
       "      <td>0.0</td>\n",
       "      <td>2015-11-17</td>\n",
       "      <td>627.438231</td>\n",
       "      <td>6.0</td>\n",
       "      <td>연립다세대</td>\n",
       "      <td>한***~</td>\n",
       "      <td>강동구</td>\n",
       "      <td>길동</td>\n",
       "      <td>867.455335</td>\n",
       "      <td>2021-03-01</td>\n",
       "    </tr>\n",
       "    <tr>\n",
       "      <th>3</th>\n",
       "      <td>서울특별시 강동구 길동 376-2</td>\n",
       "      <td>천중로40길 27</td>\n",
       "      <td>진성파크빌</td>\n",
       "      <td>39.93</td>\n",
       "      <td>25050</td>\n",
       "      <td>3</td>\n",
       "      <td>2015.0</td>\n",
       "      <td>0.0</td>\n",
       "      <td>2015-11-17</td>\n",
       "      <td>627.347859</td>\n",
       "      <td>6.0</td>\n",
       "      <td>연립다세대</td>\n",
       "      <td>한***~</td>\n",
       "      <td>강동구</td>\n",
       "      <td>길동</td>\n",
       "      <td>867.330392</td>\n",
       "      <td>2021-03-01</td>\n",
       "    </tr>\n",
       "    <tr>\n",
       "      <th>4</th>\n",
       "      <td>서울특별시 강동구 길동 376-2</td>\n",
       "      <td>천중로40길 27</td>\n",
       "      <td>진성파크빌</td>\n",
       "      <td>46.14</td>\n",
       "      <td>28950</td>\n",
       "      <td>2</td>\n",
       "      <td>2015.0</td>\n",
       "      <td>0.0</td>\n",
       "      <td>2015-11-17</td>\n",
       "      <td>627.438231</td>\n",
       "      <td>6.0</td>\n",
       "      <td>연립다세대</td>\n",
       "      <td>한***~</td>\n",
       "      <td>강동구</td>\n",
       "      <td>길동</td>\n",
       "      <td>867.455335</td>\n",
       "      <td>2021-03-01</td>\n",
       "    </tr>\n",
       "  </tbody>\n",
       "</table>\n",
       "</div>"
      ],
      "text/plain": [
       "                 지번주소        도로명 건물(단지)명  전용면적(㎡)  거래금액(만원)  층    건축년도  \\\n",
       "0  서울특별시 강동구 길동 376-2  천중로40길 27   진성파크빌    39.93     25050  2  2015.0   \n",
       "1  서울특별시 강동구 길동 376-2  천중로40길 27   진성파크빌    46.14     28950  2  2015.0   \n",
       "2  서울특별시 강동구 길동 376-2  천중로40길 27   진성파크빌    46.14     28950  3  2015.0   \n",
       "3  서울특별시 강동구 길동 376-2  천중로40길 27   진성파크빌    39.93     25050  3  2015.0   \n",
       "4  서울특별시 강동구 길동 376-2  천중로40길 27   진성파크빌    46.14     28950  2  2015.0   \n",
       "\n",
       "   계약날짜기준_건물연식       계약날짜    단가(만원/㎡)  건물연식  부동산유형    소유자    구   동  \\\n",
       "0          0.0 2015-11-17  627.347859   6.0  연립다세대  한***~  강동구  길동   \n",
       "1          0.0 2015-11-17  627.438231   6.0  연립다세대  한***~  강동구  길동   \n",
       "2          0.0 2015-11-17  627.438231   6.0  연립다세대  한***~  강동구  길동   \n",
       "3          0.0 2015-11-17  627.347859   6.0  연립다세대  한***~  강동구  길동   \n",
       "4          0.0 2015-11-17  627.438231   6.0  연립다세대  한***~  강동구  길동   \n",
       "\n",
       "       지수적용단가       평가날짜  \n",
       "0  867.330392 2021-03-01  \n",
       "1  867.455335 2021-03-01  \n",
       "2  867.455335 2021-03-01  \n",
       "3  867.330392 2021-03-01  \n",
       "4  867.455335 2021-03-01  "
      ]
     },
     "execution_count": 13,
     "metadata": {},
     "output_type": "execute_result"
    }
   ],
   "source": [
    "concat_df = get_index_applied_prices(concat_df)\n",
    "print(concat_df.shape)\n",
    "concat_df.head()"
   ]
  },
  {
   "cell_type": "code",
   "execution_count": 14,
   "metadata": {},
   "outputs": [],
   "source": [
    "concat_df['구_동'] = concat_df['구'] + '_' + concat_df['동']"
   ]
  },
  {
   "cell_type": "code",
   "execution_count": 15,
   "metadata": {},
   "outputs": [],
   "source": [
    "concat_df = concat_df.drop(columns=['구', '동'])"
   ]
  },
  {
   "cell_type": "code",
   "execution_count": 16,
   "metadata": {},
   "outputs": [],
   "source": [
    "def change_name(x):\n",
    "    # x is a string\n",
    "    \n",
    "    if pd.isna(x) == True:\n",
    "        return x\n",
    "    else:\n",
    "        if x == '한***~':\n",
    "            return '한국토지주택공사'\n",
    "        elif x == '서***~':\n",
    "            return '서울주택도시공사'\n",
    "        else:\n",
    "            return x"
   ]
  },
  {
   "cell_type": "code",
   "execution_count": 17,
   "metadata": {},
   "outputs": [],
   "source": [
    "concat_df['소유자'] = concat_df['소유자'].apply(change_name)"
   ]
  },
  {
   "cell_type": "code",
   "execution_count": 18,
   "metadata": {},
   "outputs": [
    {
     "data": {
      "text/html": [
       "<div>\n",
       "<style scoped>\n",
       "    .dataframe tbody tr th:only-of-type {\n",
       "        vertical-align: middle;\n",
       "    }\n",
       "\n",
       "    .dataframe tbody tr th {\n",
       "        vertical-align: top;\n",
       "    }\n",
       "\n",
       "    .dataframe thead th {\n",
       "        text-align: right;\n",
       "    }\n",
       "</style>\n",
       "<table border=\"1\" class=\"dataframe\">\n",
       "  <thead>\n",
       "    <tr style=\"text-align: right;\">\n",
       "      <th></th>\n",
       "      <th>지번주소</th>\n",
       "      <th>도로명</th>\n",
       "      <th>건물(단지)명</th>\n",
       "      <th>전용면적(㎡)</th>\n",
       "      <th>거래금액(만원)</th>\n",
       "      <th>층</th>\n",
       "      <th>건축년도</th>\n",
       "      <th>계약날짜기준_건물연식</th>\n",
       "      <th>계약날짜</th>\n",
       "      <th>단가(만원/㎡)</th>\n",
       "      <th>건물연식</th>\n",
       "      <th>부동산유형</th>\n",
       "      <th>소유자</th>\n",
       "      <th>지수적용단가</th>\n",
       "      <th>평가날짜</th>\n",
       "      <th>구_동</th>\n",
       "    </tr>\n",
       "  </thead>\n",
       "  <tbody>\n",
       "    <tr>\n",
       "      <th>0</th>\n",
       "      <td>서울특별시 강동구 길동 376-2</td>\n",
       "      <td>천중로40길 27</td>\n",
       "      <td>진성파크빌</td>\n",
       "      <td>39.93</td>\n",
       "      <td>25050</td>\n",
       "      <td>2</td>\n",
       "      <td>2015.0</td>\n",
       "      <td>0.0</td>\n",
       "      <td>2015-11-17</td>\n",
       "      <td>627.347859</td>\n",
       "      <td>6.0</td>\n",
       "      <td>연립다세대</td>\n",
       "      <td>한국토지주택공사</td>\n",
       "      <td>867.330392</td>\n",
       "      <td>2021-03-01</td>\n",
       "      <td>강동구_길동</td>\n",
       "    </tr>\n",
       "    <tr>\n",
       "      <th>1</th>\n",
       "      <td>서울특별시 강동구 길동 376-2</td>\n",
       "      <td>천중로40길 27</td>\n",
       "      <td>진성파크빌</td>\n",
       "      <td>46.14</td>\n",
       "      <td>28950</td>\n",
       "      <td>2</td>\n",
       "      <td>2015.0</td>\n",
       "      <td>0.0</td>\n",
       "      <td>2015-11-17</td>\n",
       "      <td>627.438231</td>\n",
       "      <td>6.0</td>\n",
       "      <td>연립다세대</td>\n",
       "      <td>한국토지주택공사</td>\n",
       "      <td>867.455335</td>\n",
       "      <td>2021-03-01</td>\n",
       "      <td>강동구_길동</td>\n",
       "    </tr>\n",
       "    <tr>\n",
       "      <th>2</th>\n",
       "      <td>서울특별시 강동구 길동 376-2</td>\n",
       "      <td>천중로40길 27</td>\n",
       "      <td>진성파크빌</td>\n",
       "      <td>46.14</td>\n",
       "      <td>28950</td>\n",
       "      <td>3</td>\n",
       "      <td>2015.0</td>\n",
       "      <td>0.0</td>\n",
       "      <td>2015-11-17</td>\n",
       "      <td>627.438231</td>\n",
       "      <td>6.0</td>\n",
       "      <td>연립다세대</td>\n",
       "      <td>한국토지주택공사</td>\n",
       "      <td>867.455335</td>\n",
       "      <td>2021-03-01</td>\n",
       "      <td>강동구_길동</td>\n",
       "    </tr>\n",
       "    <tr>\n",
       "      <th>3</th>\n",
       "      <td>서울특별시 강동구 길동 376-2</td>\n",
       "      <td>천중로40길 27</td>\n",
       "      <td>진성파크빌</td>\n",
       "      <td>39.93</td>\n",
       "      <td>25050</td>\n",
       "      <td>3</td>\n",
       "      <td>2015.0</td>\n",
       "      <td>0.0</td>\n",
       "      <td>2015-11-17</td>\n",
       "      <td>627.347859</td>\n",
       "      <td>6.0</td>\n",
       "      <td>연립다세대</td>\n",
       "      <td>한국토지주택공사</td>\n",
       "      <td>867.330392</td>\n",
       "      <td>2021-03-01</td>\n",
       "      <td>강동구_길동</td>\n",
       "    </tr>\n",
       "    <tr>\n",
       "      <th>4</th>\n",
       "      <td>서울특별시 강동구 길동 376-2</td>\n",
       "      <td>천중로40길 27</td>\n",
       "      <td>진성파크빌</td>\n",
       "      <td>46.14</td>\n",
       "      <td>28950</td>\n",
       "      <td>2</td>\n",
       "      <td>2015.0</td>\n",
       "      <td>0.0</td>\n",
       "      <td>2015-11-17</td>\n",
       "      <td>627.438231</td>\n",
       "      <td>6.0</td>\n",
       "      <td>연립다세대</td>\n",
       "      <td>한국토지주택공사</td>\n",
       "      <td>867.455335</td>\n",
       "      <td>2021-03-01</td>\n",
       "      <td>강동구_길동</td>\n",
       "    </tr>\n",
       "  </tbody>\n",
       "</table>\n",
       "</div>"
      ],
      "text/plain": [
       "                 지번주소        도로명 건물(단지)명  전용면적(㎡)  거래금액(만원)  층    건축년도  \\\n",
       "0  서울특별시 강동구 길동 376-2  천중로40길 27   진성파크빌    39.93     25050  2  2015.0   \n",
       "1  서울특별시 강동구 길동 376-2  천중로40길 27   진성파크빌    46.14     28950  2  2015.0   \n",
       "2  서울특별시 강동구 길동 376-2  천중로40길 27   진성파크빌    46.14     28950  3  2015.0   \n",
       "3  서울특별시 강동구 길동 376-2  천중로40길 27   진성파크빌    39.93     25050  3  2015.0   \n",
       "4  서울특별시 강동구 길동 376-2  천중로40길 27   진성파크빌    46.14     28950  2  2015.0   \n",
       "\n",
       "   계약날짜기준_건물연식       계약날짜    단가(만원/㎡)  건물연식  부동산유형       소유자      지수적용단가  \\\n",
       "0          0.0 2015-11-17  627.347859   6.0  연립다세대  한국토지주택공사  867.330392   \n",
       "1          0.0 2015-11-17  627.438231   6.0  연립다세대  한국토지주택공사  867.455335   \n",
       "2          0.0 2015-11-17  627.438231   6.0  연립다세대  한국토지주택공사  867.455335   \n",
       "3          0.0 2015-11-17  627.347859   6.0  연립다세대  한국토지주택공사  867.330392   \n",
       "4          0.0 2015-11-17  627.438231   6.0  연립다세대  한국토지주택공사  867.455335   \n",
       "\n",
       "        평가날짜     구_동  \n",
       "0 2021-03-01  강동구_길동  \n",
       "1 2021-03-01  강동구_길동  \n",
       "2 2021-03-01  강동구_길동  \n",
       "3 2021-03-01  강동구_길동  \n",
       "4 2021-03-01  강동구_길동  "
      ]
     },
     "execution_count": 18,
     "metadata": {},
     "output_type": "execute_result"
    }
   ],
   "source": [
    "concat_df.head()"
   ]
  },
  {
   "cell_type": "code",
   "execution_count": 19,
   "metadata": {},
   "outputs": [
    {
     "name": "stderr",
     "output_type": "stream",
     "text": [
      "100%|████████████████████████████████████████████████████████████████████████████████| 118/118 [00:06<00:00, 18.42it/s]\n"
     ]
    }
   ],
   "source": [
    "count = 0\n",
    "for addr in tqdm(concat_df['구_동'].unique()):\n",
    "    addr_df = concat_df[concat_df['구_동'] == addr]\n",
    "    addr_df = addr_df[['지번주소', '건물(단지)명', '건축년도', '건물연식', '계약날짜기준_건물연식', '층', '전용면적(㎡)',\n",
    "                       '계약날짜', '단가(만원/㎡)', '평가날짜', '지수적용단가', '소유자', '부동산유형'\n",
    "                      ]]\n",
    "    addr_df = addr_df.sort_values(['지번주소', '건축년도', '계약날짜', '층', '전용면적(㎡)'])\n",
    "    addr_df.to_excel(bulktrade_basedir + '동별/' + addr + '.xlsx', index=False)\n",
    "    \n",
    "    \n",
    "    \n",
    "    \n",
    "    count += 1"
   ]
  },
  {
   "cell_type": "code",
   "execution_count": 21,
   "metadata": {},
   "outputs": [
    {
     "data": {
      "text/plain": [
       "985"
      ]
     },
     "execution_count": 21,
     "metadata": {},
     "output_type": "execute_result"
    }
   ],
   "source": [
    "concat_df['지번주소'].nunique()"
   ]
  },
  {
   "cell_type": "code",
   "execution_count": null,
   "metadata": {},
   "outputs": [],
   "source": []
  },
  {
   "cell_type": "code",
   "execution_count": null,
   "metadata": {},
   "outputs": [],
   "source": []
  },
  {
   "cell_type": "code",
   "execution_count": null,
   "metadata": {},
   "outputs": [],
   "source": []
  },
  {
   "cell_type": "code",
   "execution_count": null,
   "metadata": {},
   "outputs": [],
   "source": [
    "concat_df['전용면적(㎡)'] = concat_df['전용면적(㎡)'].apply(round)"
   ]
  },
  {
   "cell_type": "code",
   "execution_count": null,
   "metadata": {},
   "outputs": [],
   "source": [
    "concat_df['평균단가'] = concat_df[['지번주소', '건축년도', '전용면적(㎡)', '단가(만원/㎡)']].groupby(['지번주소', '건축년도', '전용면적(㎡)']).transform('mean')['단가(만원/㎡)']"
   ]
  },
  {
   "cell_type": "code",
   "execution_count": null,
   "metadata": {},
   "outputs": [],
   "source": [
    "concat_df['지수적용평균단가'] = concat_df[['지번주소', '건축년도', '전용면적(㎡)', '지수적용단가']].groupby(['지번주소', '건축년도', '전용면적(㎡)']).transform('mean')['지수적용단가']"
   ]
  },
  {
   "cell_type": "code",
   "execution_count": null,
   "metadata": {},
   "outputs": [],
   "source": [
    "concat_df = concat_df.drop(columns=['도로명', '거래금액(만원)', '층', '단가(만원/㎡)', '지수적용단가']).drop_duplicates().reset_index(drop=True)\n",
    "print(concat_df.shape)\n",
    "concat_df.head()"
   ]
  },
  {
   "cell_type": "code",
   "execution_count": null,
   "metadata": {},
   "outputs": [],
   "source": []
  },
  {
   "cell_type": "code",
   "execution_count": null,
   "metadata": {},
   "outputs": [],
   "source": []
  },
  {
   "cell_type": "code",
   "execution_count": null,
   "metadata": {},
   "outputs": [],
   "source": []
  },
  {
   "cell_type": "code",
   "execution_count": null,
   "metadata": {},
   "outputs": [],
   "source": []
  },
  {
   "cell_type": "code",
   "execution_count": null,
   "metadata": {},
   "outputs": [],
   "source": [
    "yunrip_selected_df = yunrip_bulk_df[['지번주소', '건축년도', '건물연식', '계약날짜', '계약날짜기준_건물연식', '전용면적(㎡)', '지번별_전용면적별_평균단가', '부동산유형', '소유자']].drop_duplicates().reset_index(drop=True)\n",
    "print(yunrip_selected_df.shape)\n",
    "yunrip_selected_df.head()"
   ]
  },
  {
   "cell_type": "code",
   "execution_count": null,
   "metadata": {},
   "outputs": [],
   "source": [
    "yunrip_selected_df = yunrip_selected_df.sort_values(['지번주소']).reset_index(drop=True)\n",
    "yunrip_selected_df.to_excel(bulktrade_basedir + '최근_6개월_SH_LH_거래사례.xlsx', index=False)"
   ]
  },
  {
   "cell_type": "code",
   "execution_count": null,
   "metadata": {},
   "outputs": [],
   "source": [
    "yunrip_selected_df['지번별_평균단가'] = yunrip_selected_df[['지번주소', '건축년도', '계약날짜', '지번별_전용면적별_평균단가']].groupby(['지번주소', '건축년도', '계약날짜']).transform('mean')['지번별_전용면적별_평균단가']"
   ]
  },
  {
   "cell_type": "code",
   "execution_count": null,
   "metadata": {},
   "outputs": [],
   "source": [
    "yunrip_selected_df = yunrip_selected_df.drop(columns=['전용면적(㎡)', '지번별_전용면적별_평균단가']).drop_duplicates().reset_index(drop=True)\n",
    "print(yunrip_selected_df.shape)\n",
    "yunrip_selected_df.head()"
   ]
  },
  {
   "cell_type": "code",
   "execution_count": null,
   "metadata": {},
   "outputs": [],
   "source": [
    "yunrip_selected_df['구'] = yunrip_selected_df['지번주소'].apply(lambda x: x.split(' ')[1])\n",
    "yunrip_selected_df['동'] = yunrip_selected_df['지번주소'].apply(lambda x: x.split(' ')[2])\n",
    "yunrip_selected_df['구동'] = yunrip_selected_df['구'] + '_' + yunrip_selected_df['동']"
   ]
  },
  {
   "cell_type": "code",
   "execution_count": null,
   "metadata": {},
   "outputs": [],
   "source": [
    "basedir = './국토교통부_실거래가_공개시스템/땅값분석/'\n",
    "yunrip_df = pd.read_csv(basedir + 'yunrip_25.csv')\n",
    "commerce_df = pd.read_csv(basedir + 'commerce_25.csv')\n",
    "land_df = pd.read_csv(basedir + 'land.csv')"
   ]
  },
  {
   "cell_type": "code",
   "execution_count": null,
   "metadata": {},
   "outputs": [],
   "source": [
    "common_cols = ['시군구', '번지', '용도지역', '도로조건', '계약날짜', '대지면적(㎡)', '거래금액(만원)', '단가(㎡)', '단가(평)', '부동산유형', '건물연식']\n",
    "common_df = pd.concat([yunrip_df[common_cols], commerce_df[common_cols], land_df[[col for col in land_df.columns if col not in ['지목', '지분구분', '해제사유발생일']]]])\n",
    "common_df['계약날짜'] = pd.to_datetime(common_df['계약날짜'], format='%Y-%m-%d')\n",
    "print(common_df.shape)\n",
    "common_df.head()"
   ]
  },
  {
   "cell_type": "code",
   "execution_count": null,
   "metadata": {},
   "outputs": [],
   "source": [
    "common_df['구'] = common_df['시군구'].apply(lambda x: x.split(' ')[1])\n",
    "common_df['동'] = common_df['시군구'].apply(lambda x: x.split(' ')[2])"
   ]
  },
  {
   "cell_type": "code",
   "execution_count": null,
   "metadata": {},
   "outputs": [],
   "source": [
    "yunrip_bulk_df['구동'] = yunrip_bulk_df['구'] + '_' + yunrip_bulk_df['동']"
   ]
  },
  {
   "cell_type": "code",
   "execution_count": null,
   "metadata": {},
   "outputs": [],
   "source": [
    "summary_df = pd.DataFrame({'지역':[], '2종일반중간값':[], '집값중간값':[]})\n",
    "\n",
    "count = 0\n",
    "for gudong in tqdm(yunrip_selected_df['구동'].unique()):\n",
    "    gu = gudong.split('_')[0]\n",
    "    dong = gudong.split('_')[1]\n",
    "    \n",
    "    target_gu = gu\n",
    "    target_dong = dong\n",
    "    target_purpose = '2종일반'\n",
    "    \n",
    "    target_df = common_df[\n",
    "        (common_df['구'] == target_gu)\n",
    "        &(common_df['동'] == target_dong)\n",
    "        &(common_df['용도지역'].str.contains(target_purpose))\n",
    "        &(common_df['계약날짜'] >= (date_today - pd.DateOffset(months=target_period)))\n",
    "        &(common_df['단가(㎡)'] > 250)\n",
    "    ].sort_values(['번지'])\n",
    "    \n",
    "    yunrip_target_df = yunrip_selected_df[\n",
    "        (yunrip_selected_df['구동'] == gudong)\n",
    "    ]\n",
    "    \n",
    "    summary_df.loc[count, '지역'] = gudong\n",
    "    summary_df.loc[count, '2종일반중간값'] = target_df['단가(㎡)'].median()\n",
    "    summary_df.loc[count, '집값중간값'] = yunrip_target_df['지번별_평균단가'].median()\n",
    "    \n",
    "    count += 1"
   ]
  },
  {
   "cell_type": "code",
   "execution_count": null,
   "metadata": {},
   "outputs": [],
   "source": [
    "summary_df['차이'] = summary_df['집값중간값'] - summary_df['2종일반중간값']"
   ]
  },
  {
   "cell_type": "code",
   "execution_count": null,
   "metadata": {},
   "outputs": [],
   "source": [
    "summary_df = summary_df.sort_values(['차이'], ascending=False).reset_index(drop=True)\n",
    "print(summary_df.shape)\n",
    "summary_df.head()"
   ]
  },
  {
   "cell_type": "code",
   "execution_count": null,
   "metadata": {},
   "outputs": [],
   "source": [
    "summary_df"
   ]
  },
  {
   "cell_type": "code",
   "execution_count": null,
   "metadata": {},
   "outputs": [],
   "source": [
    "summary_df.to_excel('지역별_땅값_일괄매매_중간값.xlsx', index=False)"
   ]
  },
  {
   "cell_type": "code",
   "execution_count": null,
   "metadata": {},
   "outputs": [],
   "source": [
    "summary_df = pd.DataFrame({'지역':[], '2종일반평균':[], '집값평균':[]})\n",
    "\n",
    "count = 0\n",
    "for gudong in tqdm(yunrip_bulk_df['구동'].unique()):\n",
    "    gu = gudong.split('_')[0]\n",
    "    dong = gudong.split('_')[1]\n",
    "    \n",
    "    target_gu = gu\n",
    "    target_dong = dong\n",
    "    target_purpose = '2종일반'\n",
    "    \n",
    "    target_df = common_df[\n",
    "        (common_df['구'] == target_gu)\n",
    "        &(common_df['동'] == target_dong)\n",
    "        &(common_df['용도지역'].str.contains(target_purpose))\n",
    "        &(common_df['계약날짜'] >= (date_today - pd.DateOffset(months=target_period)))\n",
    "        &(common_df['단가(㎡)'] > 250)\n",
    "    ].sort_values(['번지'])\n",
    "    \n",
    "    yunrip_target_df = yunrip_selected_df[\n",
    "        (yunrip_selected_df['구동'] == gudong)\n",
    "    ]\n",
    "    \n",
    "    summary_df.loc[count, '지역'] = gudong\n",
    "    summary_df.loc[count, '2종일반평균'] = target_df['단가(㎡)'].mean()\n",
    "    summary_df.loc[count, '집값평균'] = yunrip_target_df['지번별_평균단가'].mean()\n",
    "    \n",
    "    count += 1"
   ]
  },
  {
   "cell_type": "code",
   "execution_count": null,
   "metadata": {},
   "outputs": [],
   "source": [
    "summary_df['차이'] = summary_df['집값평균'] - summary_df['2종일반평균']"
   ]
  },
  {
   "cell_type": "code",
   "execution_count": null,
   "metadata": {},
   "outputs": [],
   "source": [
    "summary_df = summary_df.sort_values(['차이'], ascending=False).reset_index(drop=True)\n",
    "print(summary_df.shape)\n",
    "summary_df.head()"
   ]
  },
  {
   "cell_type": "code",
   "execution_count": null,
   "metadata": {},
   "outputs": [],
   "source": [
    "summary_df"
   ]
  },
  {
   "cell_type": "code",
   "execution_count": null,
   "metadata": {},
   "outputs": [],
   "source": [
    "summary_df.to_excel('지역별_땅값_일괄매매_평균.xlsx', index=False)"
   ]
  },
  {
   "cell_type": "code",
   "execution_count": null,
   "metadata": {},
   "outputs": [],
   "source": []
  },
  {
   "cell_type": "code",
   "execution_count": null,
   "metadata": {},
   "outputs": [],
   "source": [
    "yunrip_selected_df.head()"
   ]
  },
  {
   "cell_type": "code",
   "execution_count": null,
   "metadata": {},
   "outputs": [],
   "source": [
    "inv_df = yunrip_selected_df[yunrip_selected_df['구동'] == '성동구_마장동']\n",
    "print(inv_df.shape)\n",
    "inv_df.head()"
   ]
  },
  {
   "cell_type": "code",
   "execution_count": null,
   "metadata": {},
   "outputs": [],
   "source": []
  },
  {
   "cell_type": "code",
   "execution_count": null,
   "metadata": {},
   "outputs": [],
   "source": []
  },
  {
   "cell_type": "code",
   "execution_count": null,
   "metadata": {},
   "outputs": [],
   "source": []
  },
  {
   "cell_type": "code",
   "execution_count": null,
   "metadata": {},
   "outputs": [],
   "source": []
  },
  {
   "cell_type": "code",
   "execution_count": null,
   "metadata": {},
   "outputs": [],
   "source": []
  },
  {
   "cell_type": "code",
   "execution_count": null,
   "metadata": {},
   "outputs": [],
   "source": []
  },
  {
   "cell_type": "code",
   "execution_count": null,
   "metadata": {},
   "outputs": [],
   "source": [
    "def mean_prices_per_size(df):\n",
    "    df = df.copy()\n",
    "    \n",
    "    df['크기별_평균단가'] = df[['지번주소', '건축년도', '계약날짜', '전용면적(㎡)', '단가(만원/㎡)']].groupby(['지번주소', '건축년도', '계약날짜', '전용면적(㎡)']).transform('mean')['단가(만원/㎡)']\n",
    "    df['크기별_평균총액'] = df[['지번주소', '건축년도', '계약날짜', '전용면적(㎡)', '거래금액(만원)']].groupby(['지번주소', '건축년도', '계약날짜', '전용면적(㎡)']).transform('mean')['거래금액(만원)']\n",
    "    df = df[['지번주소', '건축년도', '건물연식', '계약날짜', '계약날짜기준_건물연식', '전용면적(㎡)', '크기별_평균총액', '크기별_평균단가']]\n",
    "    df = df.drop_duplicates().reset_index(drop=True)\n",
    "    \n",
    "    return df"
   ]
  },
  {
   "cell_type": "code",
   "execution_count": null,
   "metadata": {},
   "outputs": [],
   "source": [
    "yunrip_short_df = mean_prices_per_size(yunrip_selected_df)\n",
    "print(yunrip_short_df.shape)\n",
    "yunrip_short_df.head()"
   ]
  },
  {
   "cell_type": "code",
   "execution_count": null,
   "metadata": {},
   "outputs": [],
   "source": []
  },
  {
   "cell_type": "code",
   "execution_count": null,
   "metadata": {},
   "outputs": [],
   "source": []
  },
  {
   "cell_type": "code",
   "execution_count": null,
   "metadata": {},
   "outputs": [],
   "source": []
  },
  {
   "cell_type": "code",
   "execution_count": null,
   "metadata": {},
   "outputs": [],
   "source": []
  },
  {
   "cell_type": "code",
   "execution_count": null,
   "metadata": {},
   "outputs": [],
   "source": []
  },
  {
   "cell_type": "code",
   "execution_count": null,
   "metadata": {},
   "outputs": [],
   "source": []
  },
  {
   "cell_type": "code",
   "execution_count": null,
   "metadata": {},
   "outputs": [],
   "source": []
  },
  {
   "cell_type": "code",
   "execution_count": null,
   "metadata": {},
   "outputs": [],
   "source": []
  },
  {
   "cell_type": "code",
   "execution_count": null,
   "metadata": {},
   "outputs": [],
   "source": []
  },
  {
   "cell_type": "code",
   "execution_count": null,
   "metadata": {},
   "outputs": [],
   "source": []
  }
 ],
 "metadata": {
  "kernelspec": {
   "display_name": "Python 3",
   "language": "python",
   "name": "python3"
  },
  "language_info": {
   "codemirror_mode": {
    "name": "ipython",
    "version": 3
   },
   "file_extension": ".py",
   "mimetype": "text/x-python",
   "name": "python",
   "nbconvert_exporter": "python",
   "pygments_lexer": "ipython3",
   "version": "3.7.9"
  }
 },
 "nbformat": 4,
 "nbformat_minor": 4
}
