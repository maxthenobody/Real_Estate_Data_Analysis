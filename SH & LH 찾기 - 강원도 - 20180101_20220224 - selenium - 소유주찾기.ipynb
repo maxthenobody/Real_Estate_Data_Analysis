{
 "cells": [
  {
   "cell_type": "code",
   "execution_count": 1,
   "metadata": {},
   "outputs": [],
   "source": [
    "import pandas as pd\n",
    "import numpy as np\n",
    "import os\n",
    "pd.set_option('display.max_rows', 500)\n",
    "pd.set_option('display.max_columns', 500)\n",
    "import tqdm\n",
    "import matplotlib.pyplot as plt\n",
    "import seaborn as sns\n",
    "import matplotlib\n",
    "matplotlib.rcParams['axes.unicode_minus'] = False\n",
    "pd.options.mode.chained_assignment = None  # default='warn'\n",
    "plt.rcParams['font.family'] = 'Malgun Gothic'\n",
    "import datetime\n",
    "import time\n",
    "tqdm.tqdm.pandas()"
   ]
  },
  {
   "cell_type": "code",
   "execution_count": 2,
   "metadata": {},
   "outputs": [
    {
     "name": "stdout",
     "output_type": "stream",
     "text": [
      "(716, 15)\n"
     ]
    },
    {
     "data": {
      "text/html": [
       "<div>\n",
       "<style scoped>\n",
       "    .dataframe tbody tr th:only-of-type {\n",
       "        vertical-align: middle;\n",
       "    }\n",
       "\n",
       "    .dataframe tbody tr th {\n",
       "        vertical-align: top;\n",
       "    }\n",
       "\n",
       "    .dataframe thead th {\n",
       "        text-align: right;\n",
       "    }\n",
       "</style>\n",
       "<table border=\"1\" class=\"dataframe\">\n",
       "  <thead>\n",
       "    <tr style=\"text-align: right;\">\n",
       "      <th></th>\n",
       "      <th>지번주소</th>\n",
       "      <th>도로명</th>\n",
       "      <th>시군구</th>\n",
       "      <th>본번</th>\n",
       "      <th>부번</th>\n",
       "      <th>건물(단지)명</th>\n",
       "      <th>전용면적(㎡)</th>\n",
       "      <th>거래금액(만원)</th>\n",
       "      <th>층</th>\n",
       "      <th>건축년도</th>\n",
       "      <th>계약날짜</th>\n",
       "      <th>단가(만원/㎡)</th>\n",
       "      <th>건물연식</th>\n",
       "      <th>부동산유형</th>\n",
       "      <th>일괄계약</th>\n",
       "    </tr>\n",
       "  </thead>\n",
       "  <tbody>\n",
       "    <tr>\n",
       "      <th>0</th>\n",
       "      <td>강원도 강릉시 강동면 산성우리 219-0</td>\n",
       "      <td>오이동길 45-4</td>\n",
       "      <td>강원도 강릉시 강동면 산성우리</td>\n",
       "      <td>219</td>\n",
       "      <td>0</td>\n",
       "      <td>정동진우리하우스텔1</td>\n",
       "      <td>22.45</td>\n",
       "      <td>3100</td>\n",
       "      <td>3</td>\n",
       "      <td>2012</td>\n",
       "      <td>2019-03-19</td>\n",
       "      <td>138.084633</td>\n",
       "      <td>10</td>\n",
       "      <td>연립다세대</td>\n",
       "      <td>Y</td>\n",
       "    </tr>\n",
       "    <tr>\n",
       "      <th>1</th>\n",
       "      <td>강원도 강릉시 강동면 산성우리 219-0</td>\n",
       "      <td>오이동길 45-4</td>\n",
       "      <td>강원도 강릉시 강동면 산성우리</td>\n",
       "      <td>219</td>\n",
       "      <td>0</td>\n",
       "      <td>정동진우리하우스텔1</td>\n",
       "      <td>22.45</td>\n",
       "      <td>3100</td>\n",
       "      <td>4</td>\n",
       "      <td>2012</td>\n",
       "      <td>2019-03-19</td>\n",
       "      <td>138.084633</td>\n",
       "      <td>10</td>\n",
       "      <td>연립다세대</td>\n",
       "      <td>Y</td>\n",
       "    </tr>\n",
       "    <tr>\n",
       "      <th>2</th>\n",
       "      <td>강원도 강릉시 강동면 산성우리 219-0</td>\n",
       "      <td>오이동길 45-4</td>\n",
       "      <td>강원도 강릉시 강동면 산성우리</td>\n",
       "      <td>219</td>\n",
       "      <td>0</td>\n",
       "      <td>정동진우리하우스텔1</td>\n",
       "      <td>22.45</td>\n",
       "      <td>3100</td>\n",
       "      <td>4</td>\n",
       "      <td>2012</td>\n",
       "      <td>2019-03-19</td>\n",
       "      <td>138.084633</td>\n",
       "      <td>10</td>\n",
       "      <td>연립다세대</td>\n",
       "      <td>Y</td>\n",
       "    </tr>\n",
       "    <tr>\n",
       "      <th>3</th>\n",
       "      <td>강원도 강릉시 강동면 산성우리 219-0</td>\n",
       "      <td>오이동길 45-4</td>\n",
       "      <td>강원도 강릉시 강동면 산성우리</td>\n",
       "      <td>219</td>\n",
       "      <td>0</td>\n",
       "      <td>정동진우리하우스텔1</td>\n",
       "      <td>22.45</td>\n",
       "      <td>3100</td>\n",
       "      <td>2</td>\n",
       "      <td>2012</td>\n",
       "      <td>2019-03-19</td>\n",
       "      <td>138.084633</td>\n",
       "      <td>10</td>\n",
       "      <td>연립다세대</td>\n",
       "      <td>Y</td>\n",
       "    </tr>\n",
       "    <tr>\n",
       "      <th>4</th>\n",
       "      <td>강원도 강릉시 강동면 산성우리 219-0</td>\n",
       "      <td>오이동길 45-4</td>\n",
       "      <td>강원도 강릉시 강동면 산성우리</td>\n",
       "      <td>219</td>\n",
       "      <td>0</td>\n",
       "      <td>정동진우리하우스텔1</td>\n",
       "      <td>22.45</td>\n",
       "      <td>3100</td>\n",
       "      <td>3</td>\n",
       "      <td>2012</td>\n",
       "      <td>2019-03-19</td>\n",
       "      <td>138.084633</td>\n",
       "      <td>10</td>\n",
       "      <td>연립다세대</td>\n",
       "      <td>Y</td>\n",
       "    </tr>\n",
       "  </tbody>\n",
       "</table>\n",
       "</div>"
      ],
      "text/plain": [
       "                     지번주소        도로명               시군구   본번  부번     건물(단지)명  \\\n",
       "0  강원도 강릉시 강동면 산성우리 219-0  오이동길 45-4  강원도 강릉시 강동면 산성우리  219   0  정동진우리하우스텔1   \n",
       "1  강원도 강릉시 강동면 산성우리 219-0  오이동길 45-4  강원도 강릉시 강동면 산성우리  219   0  정동진우리하우스텔1   \n",
       "2  강원도 강릉시 강동면 산성우리 219-0  오이동길 45-4  강원도 강릉시 강동면 산성우리  219   0  정동진우리하우스텔1   \n",
       "3  강원도 강릉시 강동면 산성우리 219-0  오이동길 45-4  강원도 강릉시 강동면 산성우리  219   0  정동진우리하우스텔1   \n",
       "4  강원도 강릉시 강동면 산성우리 219-0  오이동길 45-4  강원도 강릉시 강동면 산성우리  219   0  정동진우리하우스텔1   \n",
       "\n",
       "   전용면적(㎡)  거래금액(만원)  층  건축년도       계약날짜    단가(만원/㎡)  건물연식  부동산유형 일괄계약  \n",
       "0    22.45      3100  3  2012 2019-03-19  138.084633    10  연립다세대    Y  \n",
       "1    22.45      3100  4  2012 2019-03-19  138.084633    10  연립다세대    Y  \n",
       "2    22.45      3100  4  2012 2019-03-19  138.084633    10  연립다세대    Y  \n",
       "3    22.45      3100  2  2012 2019-03-19  138.084633    10  연립다세대    Y  \n",
       "4    22.45      3100  3  2012 2019-03-19  138.084633    10  연립다세대    Y  "
      ]
     },
     "execution_count": 2,
     "metadata": {},
     "output_type": "execute_result"
    }
   ],
   "source": [
    "bulk_df = pd.read_excel('./공공주택찾기/강원도/일괄계약전체_20180101_20220224.xlsx')\n",
    "print(bulk_df.shape)\n",
    "bulk_df.head()"
   ]
  },
  {
   "cell_type": "code",
   "execution_count": 3,
   "metadata": {},
   "outputs": [],
   "source": [
    "bulk_df['소유자'] = np.nan"
   ]
  },
  {
   "cell_type": "code",
   "execution_count": 4,
   "metadata": {},
   "outputs": [],
   "source": [
    "from selenium import webdriver\n",
    "from selenium.webdriver.common.keys import Keys\n",
    "from webdriver_manager.chrome import ChromeDriverManager"
   ]
  },
  {
   "cell_type": "code",
   "execution_count": 5,
   "metadata": {},
   "outputs": [
    {
     "name": "stderr",
     "output_type": "stream",
     "text": [
      "\n",
      "\n",
      "====== WebDriver manager ======\n",
      "Current google-chrome version is 98.0.4758\n",
      "Get LATEST driver version for 98.0.4758\n",
      "Get LATEST driver version for 98.0.4758\n",
      "Trying to download new driver from https://chromedriver.storage.googleapis.com/98.0.4758.102/chromedriver_win32.zip\n",
      "Driver has been saved in cache [C:\\Users\\max6296\\.wdm\\drivers\\chromedriver\\win32\\98.0.4758.102]\n"
     ]
    }
   ],
   "source": [
    "driver = webdriver.Chrome(ChromeDriverManager().install())"
   ]
  },
  {
   "cell_type": "code",
   "execution_count": 10,
   "metadata": {},
   "outputs": [],
   "source": [
    "driver.get(\"http://www.iros.go.kr/PMainJ.jsp\")"
   ]
  },
  {
   "cell_type": "code",
   "execution_count": 11,
   "metadata": {},
   "outputs": [],
   "source": [
    "driver.get(\"http://www.iros.go.kr/frontservlet?cmd=RISUWelcomeViewC\")"
   ]
  },
  {
   "cell_type": "code",
   "execution_count": 12,
   "metadata": {},
   "outputs": [],
   "source": [
    "def get_owner_name(df):\n",
    "    df = df.copy()\n",
    "    \n",
    "    count = 0\n",
    "    for addr in tqdm.tqdm_notebook(df['지번주소'].unique()):\n",
    "        owner_name = np.nan        \n",
    "        addr_df = df[df['지번주소'] == addr]\n",
    "        addr = addr.replace('-0', '')\n",
    "        \n",
    "        driver.switch_to.default_content()\n",
    "        \n",
    "        \n",
    "        driver.switch_to.frame(\"inputFrame\")\n",
    "        \n",
    "        elem_search = driver.find_element_by_xpath('html/body/form[1]/div[24]/div/div/div/fieldset/div/table/tbody/tr[5]/td/span/input')\n",
    "        elem_search.clear()\n",
    "        elem_search.send_keys(addr)\n",
    "        elem_search.send_keys(Keys.RETURN)\n",
    "        time.sleep(2)\n",
    "        \n",
    "        try:\n",
    "            driver.switch_to.alert.accept()\n",
    "        except:\n",
    "            pass\n",
    "        \n",
    "        time.sleep(1)\n",
    "        \n",
    "        driver.switch_to.default_content()\n",
    "        driver.switch_to.frame('resultFrame')\n",
    "        driver.switch_to.frame('frmOuterModal')\n",
    "        \n",
    "        try:\n",
    "            driver.find_element_by_xpath('/html/body/div[2]/div[2]/table/tbody/tr[3]/td[6]/button').click()\n",
    "        except:\n",
    "            continue\n",
    "        \n",
    "        time.sleep(1)\n",
    "        \n",
    "        elem_result = driver.find_element_by_xpath('/html/body/div[2]/div[2]/table/tbody/tr/td[3]')\n",
    "        \n",
    "        owner_name = elem_result.text\n",
    "        \n",
    "        driver.switch_to.default_content()\n",
    "        \n",
    "        df.loc[addr_df.index, '소유자'] = owner_name\n",
    "        \n",
    "        count += 1\n",
    "    \n",
    "    return df"
   ]
  },
  {
   "cell_type": "code",
   "execution_count": 13,
   "metadata": {},
   "outputs": [
    {
     "name": "stderr",
     "output_type": "stream",
     "text": [
      "c:\\users\\max6296\\ml\\lib\\site-packages\\ipykernel_launcher.py:5: TqdmDeprecationWarning: This function will be removed in tqdm==5.0.0\n",
      "Please use `tqdm.notebook.tqdm` instead of `tqdm.tqdm_notebook`\n",
      "  \"\"\"\n"
     ]
    },
    {
     "data": {
      "application/vnd.jupyter.widget-view+json": {
       "model_id": "d1f6bb23163b46768fb985a218590a0f",
       "version_major": 2,
       "version_minor": 0
      },
      "text/plain": [
       "  0%|          | 0/26 [00:00<?, ?it/s]"
      ]
     },
     "metadata": {},
     "output_type": "display_data"
    }
   ],
   "source": [
    "prac_df = get_owner_name(bulk_df)"
   ]
  },
  {
   "cell_type": "code",
   "execution_count": 14,
   "metadata": {},
   "outputs": [
    {
     "name": "stdout",
     "output_type": "stream",
     "text": [
      "(716, 16)\n"
     ]
    },
    {
     "data": {
      "text/html": [
       "<div>\n",
       "<style scoped>\n",
       "    .dataframe tbody tr th:only-of-type {\n",
       "        vertical-align: middle;\n",
       "    }\n",
       "\n",
       "    .dataframe tbody tr th {\n",
       "        vertical-align: top;\n",
       "    }\n",
       "\n",
       "    .dataframe thead th {\n",
       "        text-align: right;\n",
       "    }\n",
       "</style>\n",
       "<table border=\"1\" class=\"dataframe\">\n",
       "  <thead>\n",
       "    <tr style=\"text-align: right;\">\n",
       "      <th></th>\n",
       "      <th>지번주소</th>\n",
       "      <th>도로명</th>\n",
       "      <th>시군구</th>\n",
       "      <th>본번</th>\n",
       "      <th>부번</th>\n",
       "      <th>건물(단지)명</th>\n",
       "      <th>전용면적(㎡)</th>\n",
       "      <th>거래금액(만원)</th>\n",
       "      <th>층</th>\n",
       "      <th>건축년도</th>\n",
       "      <th>계약날짜</th>\n",
       "      <th>단가(만원/㎡)</th>\n",
       "      <th>건물연식</th>\n",
       "      <th>부동산유형</th>\n",
       "      <th>일괄계약</th>\n",
       "      <th>소유자</th>\n",
       "    </tr>\n",
       "  </thead>\n",
       "  <tbody>\n",
       "    <tr>\n",
       "      <th>0</th>\n",
       "      <td>강원도 강릉시 강동면 산성우리 219-0</td>\n",
       "      <td>오이동길 45-4</td>\n",
       "      <td>강원도 강릉시 강동면 산성우리</td>\n",
       "      <td>219</td>\n",
       "      <td>0</td>\n",
       "      <td>정동진우리하우스텔1</td>\n",
       "      <td>22.45</td>\n",
       "      <td>3100</td>\n",
       "      <td>3</td>\n",
       "      <td>2012</td>\n",
       "      <td>2019-03-19</td>\n",
       "      <td>138.084633</td>\n",
       "      <td>10</td>\n",
       "      <td>연립다세대</td>\n",
       "      <td>Y</td>\n",
       "      <td>주식회사더***~</td>\n",
       "    </tr>\n",
       "    <tr>\n",
       "      <th>1</th>\n",
       "      <td>강원도 강릉시 강동면 산성우리 219-0</td>\n",
       "      <td>오이동길 45-4</td>\n",
       "      <td>강원도 강릉시 강동면 산성우리</td>\n",
       "      <td>219</td>\n",
       "      <td>0</td>\n",
       "      <td>정동진우리하우스텔1</td>\n",
       "      <td>22.45</td>\n",
       "      <td>3100</td>\n",
       "      <td>4</td>\n",
       "      <td>2012</td>\n",
       "      <td>2019-03-19</td>\n",
       "      <td>138.084633</td>\n",
       "      <td>10</td>\n",
       "      <td>연립다세대</td>\n",
       "      <td>Y</td>\n",
       "      <td>주식회사더***~</td>\n",
       "    </tr>\n",
       "    <tr>\n",
       "      <th>2</th>\n",
       "      <td>강원도 강릉시 강동면 산성우리 219-0</td>\n",
       "      <td>오이동길 45-4</td>\n",
       "      <td>강원도 강릉시 강동면 산성우리</td>\n",
       "      <td>219</td>\n",
       "      <td>0</td>\n",
       "      <td>정동진우리하우스텔1</td>\n",
       "      <td>22.45</td>\n",
       "      <td>3100</td>\n",
       "      <td>4</td>\n",
       "      <td>2012</td>\n",
       "      <td>2019-03-19</td>\n",
       "      <td>138.084633</td>\n",
       "      <td>10</td>\n",
       "      <td>연립다세대</td>\n",
       "      <td>Y</td>\n",
       "      <td>주식회사더***~</td>\n",
       "    </tr>\n",
       "    <tr>\n",
       "      <th>3</th>\n",
       "      <td>강원도 강릉시 강동면 산성우리 219-0</td>\n",
       "      <td>오이동길 45-4</td>\n",
       "      <td>강원도 강릉시 강동면 산성우리</td>\n",
       "      <td>219</td>\n",
       "      <td>0</td>\n",
       "      <td>정동진우리하우스텔1</td>\n",
       "      <td>22.45</td>\n",
       "      <td>3100</td>\n",
       "      <td>2</td>\n",
       "      <td>2012</td>\n",
       "      <td>2019-03-19</td>\n",
       "      <td>138.084633</td>\n",
       "      <td>10</td>\n",
       "      <td>연립다세대</td>\n",
       "      <td>Y</td>\n",
       "      <td>주식회사더***~</td>\n",
       "    </tr>\n",
       "    <tr>\n",
       "      <th>4</th>\n",
       "      <td>강원도 강릉시 강동면 산성우리 219-0</td>\n",
       "      <td>오이동길 45-4</td>\n",
       "      <td>강원도 강릉시 강동면 산성우리</td>\n",
       "      <td>219</td>\n",
       "      <td>0</td>\n",
       "      <td>정동진우리하우스텔1</td>\n",
       "      <td>22.45</td>\n",
       "      <td>3100</td>\n",
       "      <td>3</td>\n",
       "      <td>2012</td>\n",
       "      <td>2019-03-19</td>\n",
       "      <td>138.084633</td>\n",
       "      <td>10</td>\n",
       "      <td>연립다세대</td>\n",
       "      <td>Y</td>\n",
       "      <td>주식회사더***~</td>\n",
       "    </tr>\n",
       "  </tbody>\n",
       "</table>\n",
       "</div>"
      ],
      "text/plain": [
       "                     지번주소        도로명               시군구   본번  부번     건물(단지)명  \\\n",
       "0  강원도 강릉시 강동면 산성우리 219-0  오이동길 45-4  강원도 강릉시 강동면 산성우리  219   0  정동진우리하우스텔1   \n",
       "1  강원도 강릉시 강동면 산성우리 219-0  오이동길 45-4  강원도 강릉시 강동면 산성우리  219   0  정동진우리하우스텔1   \n",
       "2  강원도 강릉시 강동면 산성우리 219-0  오이동길 45-4  강원도 강릉시 강동면 산성우리  219   0  정동진우리하우스텔1   \n",
       "3  강원도 강릉시 강동면 산성우리 219-0  오이동길 45-4  강원도 강릉시 강동면 산성우리  219   0  정동진우리하우스텔1   \n",
       "4  강원도 강릉시 강동면 산성우리 219-0  오이동길 45-4  강원도 강릉시 강동면 산성우리  219   0  정동진우리하우스텔1   \n",
       "\n",
       "   전용면적(㎡)  거래금액(만원)  층  건축년도       계약날짜    단가(만원/㎡)  건물연식  부동산유형 일괄계약  \\\n",
       "0    22.45      3100  3  2012 2019-03-19  138.084633    10  연립다세대    Y   \n",
       "1    22.45      3100  4  2012 2019-03-19  138.084633    10  연립다세대    Y   \n",
       "2    22.45      3100  4  2012 2019-03-19  138.084633    10  연립다세대    Y   \n",
       "3    22.45      3100  2  2012 2019-03-19  138.084633    10  연립다세대    Y   \n",
       "4    22.45      3100  3  2012 2019-03-19  138.084633    10  연립다세대    Y   \n",
       "\n",
       "         소유자  \n",
       "0  주식회사더***~  \n",
       "1  주식회사더***~  \n",
       "2  주식회사더***~  \n",
       "3  주식회사더***~  \n",
       "4  주식회사더***~  "
      ]
     },
     "execution_count": 14,
     "metadata": {},
     "output_type": "execute_result"
    }
   ],
   "source": [
    "print(prac_df.shape)\n",
    "prac_df.head()"
   ]
  },
  {
   "cell_type": "code",
   "execution_count": 15,
   "metadata": {},
   "outputs": [
    {
     "data": {
      "text/plain": [
       "한***~        222\n",
       "정***~        130\n",
       "신***~         49\n",
       "주식회사다***~     43\n",
       "주식회사라***~     36\n",
       "이**           34\n",
       "주**           34\n",
       "정**외 1명       20\n",
       "주**외 1명       19\n",
       "김**           19\n",
       "박**           18\n",
       "정**           17\n",
       "주식회사더***~     17\n",
       "주식회사무***~     14\n",
       "홍**           12\n",
       "남**           12\n",
       "최**           10\n",
       "탁**           10\n",
       "Name: 소유자, dtype: int64"
      ]
     },
     "execution_count": 15,
     "metadata": {},
     "output_type": "execute_result"
    }
   ],
   "source": [
    "prac_df['소유자'].value_counts()"
   ]
  },
  {
   "cell_type": "code",
   "execution_count": 16,
   "metadata": {},
   "outputs": [
    {
     "data": {
      "text/plain": [
       "0"
      ]
     },
     "execution_count": 16,
     "metadata": {},
     "output_type": "execute_result"
    }
   ],
   "source": [
    "prac_df['소유자'].isna().sum()"
   ]
  },
  {
   "cell_type": "code",
   "execution_count": 17,
   "metadata": {},
   "outputs": [],
   "source": [
    "prac_df = prac_df.dropna(subset=['소유자']).reset_index(drop=True)"
   ]
  },
  {
   "cell_type": "code",
   "execution_count": 18,
   "metadata": {},
   "outputs": [
    {
     "data": {
      "text/plain": [
       "(716, 16)"
      ]
     },
     "execution_count": 18,
     "metadata": {},
     "output_type": "execute_result"
    }
   ],
   "source": [
    "prac_df.shape"
   ]
  },
  {
   "cell_type": "code",
   "execution_count": 19,
   "metadata": {},
   "outputs": [],
   "source": [
    "def sh_lh(x):\n",
    "    if x == '한***~':\n",
    "        return 'LH'\n",
    "    else:\n",
    "        return x"
   ]
  },
  {
   "cell_type": "code",
   "execution_count": 20,
   "metadata": {},
   "outputs": [],
   "source": [
    "prac_df['소유자'] = prac_df['소유자'].apply(sh_lh)"
   ]
  },
  {
   "cell_type": "code",
   "execution_count": 21,
   "metadata": {},
   "outputs": [
    {
     "data": {
      "text/plain": [
       "LH           222\n",
       "정***~        130\n",
       "신***~         49\n",
       "주식회사다***~     43\n",
       "주식회사라***~     36\n",
       "이**           34\n",
       "주**           34\n",
       "정**외 1명       20\n",
       "주**외 1명       19\n",
       "김**           19\n",
       "박**           18\n",
       "정**           17\n",
       "주식회사더***~     17\n",
       "주식회사무***~     14\n",
       "홍**           12\n",
       "남**           12\n",
       "최**           10\n",
       "탁**           10\n",
       "Name: 소유자, dtype: int64"
      ]
     },
     "execution_count": 21,
     "metadata": {},
     "output_type": "execute_result"
    }
   ],
   "source": [
    "prac_df['소유자'].value_counts()"
   ]
  },
  {
   "cell_type": "code",
   "execution_count": 22,
   "metadata": {},
   "outputs": [
    {
     "name": "stdout",
     "output_type": "stream",
     "text": [
      "Wall time: 221 ms\n"
     ]
    }
   ],
   "source": [
    "%%time\n",
    "prac_df.to_excel('./공공주택찾기/인천/일괄계약_전체_소유자포함_20180101_20220224.xlsx', index=False)"
   ]
  },
  {
   "cell_type": "code",
   "execution_count": 23,
   "metadata": {},
   "outputs": [
    {
     "name": "stdout",
     "output_type": "stream",
     "text": [
      "(222, 16)\n"
     ]
    },
    {
     "data": {
      "text/html": [
       "<div>\n",
       "<style scoped>\n",
       "    .dataframe tbody tr th:only-of-type {\n",
       "        vertical-align: middle;\n",
       "    }\n",
       "\n",
       "    .dataframe tbody tr th {\n",
       "        vertical-align: top;\n",
       "    }\n",
       "\n",
       "    .dataframe thead th {\n",
       "        text-align: right;\n",
       "    }\n",
       "</style>\n",
       "<table border=\"1\" class=\"dataframe\">\n",
       "  <thead>\n",
       "    <tr style=\"text-align: right;\">\n",
       "      <th></th>\n",
       "      <th>지번주소</th>\n",
       "      <th>도로명</th>\n",
       "      <th>시군구</th>\n",
       "      <th>본번</th>\n",
       "      <th>부번</th>\n",
       "      <th>건물(단지)명</th>\n",
       "      <th>전용면적(㎡)</th>\n",
       "      <th>거래금액(만원)</th>\n",
       "      <th>층</th>\n",
       "      <th>건축년도</th>\n",
       "      <th>계약날짜</th>\n",
       "      <th>단가(만원/㎡)</th>\n",
       "      <th>건물연식</th>\n",
       "      <th>부동산유형</th>\n",
       "      <th>일괄계약</th>\n",
       "      <th>소유자</th>\n",
       "    </tr>\n",
       "  </thead>\n",
       "  <tbody>\n",
       "    <tr>\n",
       "      <th>159</th>\n",
       "      <td>강원도 강릉시 포남동 1169-0</td>\n",
       "      <td>성덕포남로168번안길 3</td>\n",
       "      <td>강원도 강릉시 포남동</td>\n",
       "      <td>1169</td>\n",
       "      <td>0</td>\n",
       "      <td>(1169-0)</td>\n",
       "      <td>60.0215</td>\n",
       "      <td>15000</td>\n",
       "      <td>5</td>\n",
       "      <td>2021</td>\n",
       "      <td>2021-08-17</td>\n",
       "      <td>249.910449</td>\n",
       "      <td>1</td>\n",
       "      <td>연립다세대</td>\n",
       "      <td>Y</td>\n",
       "      <td>LH</td>\n",
       "    </tr>\n",
       "    <tr>\n",
       "      <th>160</th>\n",
       "      <td>강원도 강릉시 포남동 1169-0</td>\n",
       "      <td>성덕포남로168번안길 3</td>\n",
       "      <td>강원도 강릉시 포남동</td>\n",
       "      <td>1169</td>\n",
       "      <td>0</td>\n",
       "      <td>(1169-0)</td>\n",
       "      <td>60.0215</td>\n",
       "      <td>15000</td>\n",
       "      <td>5</td>\n",
       "      <td>2021</td>\n",
       "      <td>2021-08-17</td>\n",
       "      <td>249.910449</td>\n",
       "      <td>1</td>\n",
       "      <td>연립다세대</td>\n",
       "      <td>Y</td>\n",
       "      <td>LH</td>\n",
       "    </tr>\n",
       "    <tr>\n",
       "      <th>161</th>\n",
       "      <td>강원도 강릉시 포남동 1169-0</td>\n",
       "      <td>성덕포남로168번안길 3</td>\n",
       "      <td>강원도 강릉시 포남동</td>\n",
       "      <td>1169</td>\n",
       "      <td>0</td>\n",
       "      <td>(1169-0)</td>\n",
       "      <td>60.0215</td>\n",
       "      <td>15300</td>\n",
       "      <td>4</td>\n",
       "      <td>2021</td>\n",
       "      <td>2021-08-17</td>\n",
       "      <td>254.908658</td>\n",
       "      <td>1</td>\n",
       "      <td>연립다세대</td>\n",
       "      <td>Y</td>\n",
       "      <td>LH</td>\n",
       "    </tr>\n",
       "    <tr>\n",
       "      <th>162</th>\n",
       "      <td>강원도 강릉시 포남동 1169-0</td>\n",
       "      <td>성덕포남로168번안길 3</td>\n",
       "      <td>강원도 강릉시 포남동</td>\n",
       "      <td>1169</td>\n",
       "      <td>0</td>\n",
       "      <td>(1169-0)</td>\n",
       "      <td>60.0215</td>\n",
       "      <td>15300</td>\n",
       "      <td>4</td>\n",
       "      <td>2021</td>\n",
       "      <td>2021-08-17</td>\n",
       "      <td>254.908658</td>\n",
       "      <td>1</td>\n",
       "      <td>연립다세대</td>\n",
       "      <td>Y</td>\n",
       "      <td>LH</td>\n",
       "    </tr>\n",
       "    <tr>\n",
       "      <th>163</th>\n",
       "      <td>강원도 강릉시 포남동 1169-0</td>\n",
       "      <td>성덕포남로168번안길 3</td>\n",
       "      <td>강원도 강릉시 포남동</td>\n",
       "      <td>1169</td>\n",
       "      <td>0</td>\n",
       "      <td>(1169-0)</td>\n",
       "      <td>60.0215</td>\n",
       "      <td>15300</td>\n",
       "      <td>4</td>\n",
       "      <td>2021</td>\n",
       "      <td>2021-08-17</td>\n",
       "      <td>254.908658</td>\n",
       "      <td>1</td>\n",
       "      <td>연립다세대</td>\n",
       "      <td>Y</td>\n",
       "      <td>LH</td>\n",
       "    </tr>\n",
       "  </tbody>\n",
       "</table>\n",
       "</div>"
      ],
      "text/plain": [
       "                   지번주소            도로명          시군구    본번  부번   건물(단지)명  \\\n",
       "159  강원도 강릉시 포남동 1169-0  성덕포남로168번안길 3  강원도 강릉시 포남동  1169   0  (1169-0)   \n",
       "160  강원도 강릉시 포남동 1169-0  성덕포남로168번안길 3  강원도 강릉시 포남동  1169   0  (1169-0)   \n",
       "161  강원도 강릉시 포남동 1169-0  성덕포남로168번안길 3  강원도 강릉시 포남동  1169   0  (1169-0)   \n",
       "162  강원도 강릉시 포남동 1169-0  성덕포남로168번안길 3  강원도 강릉시 포남동  1169   0  (1169-0)   \n",
       "163  강원도 강릉시 포남동 1169-0  성덕포남로168번안길 3  강원도 강릉시 포남동  1169   0  (1169-0)   \n",
       "\n",
       "     전용면적(㎡)  거래금액(만원)  층  건축년도       계약날짜    단가(만원/㎡)  건물연식  부동산유형 일괄계약 소유자  \n",
       "159  60.0215     15000  5  2021 2021-08-17  249.910449     1  연립다세대    Y  LH  \n",
       "160  60.0215     15000  5  2021 2021-08-17  249.910449     1  연립다세대    Y  LH  \n",
       "161  60.0215     15300  4  2021 2021-08-17  254.908658     1  연립다세대    Y  LH  \n",
       "162  60.0215     15300  4  2021 2021-08-17  254.908658     1  연립다세대    Y  LH  \n",
       "163  60.0215     15300  4  2021 2021-08-17  254.908658     1  연립다세대    Y  LH  "
      ]
     },
     "execution_count": 23,
     "metadata": {},
     "output_type": "execute_result"
    }
   ],
   "source": [
    "prac_df = prac_df[\n",
    "    (prac_df['소유자'] == 'LH')\n",
    "]\n",
    "print(prac_df.shape)\n",
    "prac_df.head()"
   ]
  },
  {
   "cell_type": "code",
   "execution_count": 24,
   "metadata": {},
   "outputs": [
    {
     "data": {
      "text/plain": [
       "LH    222\n",
       "Name: 소유자, dtype: int64"
      ]
     },
     "execution_count": 24,
     "metadata": {},
     "output_type": "execute_result"
    }
   ],
   "source": [
    "prac_df['소유자'].value_counts()"
   ]
  },
  {
   "cell_type": "code",
   "execution_count": 25,
   "metadata": {},
   "outputs": [
    {
     "name": "stdout",
     "output_type": "stream",
     "text": [
      "Wall time: 66 ms\n"
     ]
    }
   ],
   "source": [
    "%%time\n",
    "prac_df.to_excel('./공공주택찾기/강원도/LH_거래사례_20180101_20220224.xlsx', index=False)"
   ]
  },
  {
   "cell_type": "code",
   "execution_count": null,
   "metadata": {},
   "outputs": [],
   "source": []
  },
  {
   "cell_type": "code",
   "execution_count": null,
   "metadata": {},
   "outputs": [],
   "source": []
  },
  {
   "cell_type": "code",
   "execution_count": null,
   "metadata": {},
   "outputs": [],
   "source": []
  },
  {
   "cell_type": "code",
   "execution_count": null,
   "metadata": {},
   "outputs": [],
   "source": []
  },
  {
   "cell_type": "code",
   "execution_count": null,
   "metadata": {},
   "outputs": [],
   "source": []
  },
  {
   "cell_type": "code",
   "execution_count": null,
   "metadata": {},
   "outputs": [],
   "source": []
  },
  {
   "cell_type": "code",
   "execution_count": null,
   "metadata": {},
   "outputs": [],
   "source": []
  }
 ],
 "metadata": {
  "kernelspec": {
   "display_name": "Python 3 (ipykernel)",
   "language": "python",
   "name": "python3"
  },
  "language_info": {
   "codemirror_mode": {
    "name": "ipython",
    "version": 3
   },
   "file_extension": ".py",
   "mimetype": "text/x-python",
   "name": "python",
   "nbconvert_exporter": "python",
   "pygments_lexer": "ipython3",
   "version": "3.7.9"
  }
 },
 "nbformat": 4,
 "nbformat_minor": 4
}
