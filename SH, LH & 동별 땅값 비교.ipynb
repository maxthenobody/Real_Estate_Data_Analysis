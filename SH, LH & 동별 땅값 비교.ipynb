{
 "cells": [
  {
   "cell_type": "code",
   "execution_count": 1,
   "metadata": {},
   "outputs": [],
   "source": [
    "import pandas as pd\n",
    "import numpy as np\n",
    "import os\n",
    "pd.set_option('display.max_rows', 500)\n",
    "pd.set_option('display.max_columns', 500)\n",
    "from tqdm import tqdm\n",
    "import matplotlib.pyplot as plt\n",
    "import seaborn as sns\n",
    "import matplotlib\n",
    "matplotlib.rcParams['axes.unicode_minus'] = False\n",
    "pd.options.mode.chained_assignment = None  # default='warn'\n",
    "plt.rcParams['font.family'] = 'Malgun Gothic'\n",
    "import datetime\n",
    "import time"
   ]
  },
  {
   "cell_type": "code",
   "execution_count": 2,
   "metadata": {},
   "outputs": [],
   "source": [
    "def get_gu_dong(df):\n",
    "    df = df.copy()\n",
    "    \n",
    "    df['구'] = df['지번주소'].apply(lambda x: x.split(' ')[1])\n",
    "    df['동'] = df['지번주소'].apply(lambda x: x.split(' ')[2])\n",
    "    \n",
    "    return df"
   ]
  },
  {
   "cell_type": "code",
   "execution_count": 3,
   "metadata": {},
   "outputs": [],
   "source": [
    "bulktrade_basedir = './국토교통부_실거래가_공개시스템/집값분석/일괄구매/10호이상/'"
   ]
  },
  {
   "cell_type": "code",
   "execution_count": 4,
   "metadata": {},
   "outputs": [],
   "source": [
    "date_today = pd.to_datetime(datetime.datetime.now())\n",
    "target_period = 6 # in months"
   ]
  },
  {
   "cell_type": "code",
   "execution_count": 5,
   "metadata": {},
   "outputs": [
    {
     "name": "stdout",
     "output_type": "stream",
     "text": [
      "(2641, 16)\n"
     ]
    },
    {
     "data": {
      "text/html": [
       "<div>\n",
       "<style scoped>\n",
       "    .dataframe tbody tr th:only-of-type {\n",
       "        vertical-align: middle;\n",
       "    }\n",
       "\n",
       "    .dataframe tbody tr th {\n",
       "        vertical-align: top;\n",
       "    }\n",
       "\n",
       "    .dataframe thead th {\n",
       "        text-align: right;\n",
       "    }\n",
       "</style>\n",
       "<table border=\"1\" class=\"dataframe\">\n",
       "  <thead>\n",
       "    <tr style=\"text-align: right;\">\n",
       "      <th></th>\n",
       "      <th>지번주소</th>\n",
       "      <th>도로명</th>\n",
       "      <th>건물(단지)명</th>\n",
       "      <th>전용면적(㎡)</th>\n",
       "      <th>대지권면적(㎡)</th>\n",
       "      <th>거래금액(만원)</th>\n",
       "      <th>층</th>\n",
       "      <th>건축년도</th>\n",
       "      <th>계약날짜기준_건물연식</th>\n",
       "      <th>계약날짜</th>\n",
       "      <th>단가(만원/㎡)</th>\n",
       "      <th>건물연식</th>\n",
       "      <th>부동산유형</th>\n",
       "      <th>소유자</th>\n",
       "      <th>구</th>\n",
       "      <th>동</th>\n",
       "    </tr>\n",
       "  </thead>\n",
       "  <tbody>\n",
       "    <tr>\n",
       "      <th>0</th>\n",
       "      <td>서울특별시 강동구 길동 349-9</td>\n",
       "      <td>천중로48길 9-1</td>\n",
       "      <td>강동서영스윗홈</td>\n",
       "      <td>32.04</td>\n",
       "      <td>19.05</td>\n",
       "      <td>26850</td>\n",
       "      <td>5</td>\n",
       "      <td>2020.0</td>\n",
       "      <td>0.0</td>\n",
       "      <td>2020-12-28</td>\n",
       "      <td>838.014981</td>\n",
       "      <td>1.0</td>\n",
       "      <td>연립다세대</td>\n",
       "      <td>서***~</td>\n",
       "      <td>강동구</td>\n",
       "      <td>길동</td>\n",
       "    </tr>\n",
       "    <tr>\n",
       "      <th>1</th>\n",
       "      <td>서울특별시 강동구 길동 349-9</td>\n",
       "      <td>천중로48길 9-1</td>\n",
       "      <td>강동서영스윗홈</td>\n",
       "      <td>23.16</td>\n",
       "      <td>13.77</td>\n",
       "      <td>19700</td>\n",
       "      <td>5</td>\n",
       "      <td>2020.0</td>\n",
       "      <td>0.0</td>\n",
       "      <td>2020-12-28</td>\n",
       "      <td>850.604491</td>\n",
       "      <td>1.0</td>\n",
       "      <td>연립다세대</td>\n",
       "      <td>서***~</td>\n",
       "      <td>강동구</td>\n",
       "      <td>길동</td>\n",
       "    </tr>\n",
       "    <tr>\n",
       "      <th>2</th>\n",
       "      <td>서울특별시 강동구 길동 349-9</td>\n",
       "      <td>천중로48길 9-1</td>\n",
       "      <td>강동서영스윗홈</td>\n",
       "      <td>38.84</td>\n",
       "      <td>23.09</td>\n",
       "      <td>33050</td>\n",
       "      <td>4</td>\n",
       "      <td>2020.0</td>\n",
       "      <td>0.0</td>\n",
       "      <td>2020-12-28</td>\n",
       "      <td>850.926880</td>\n",
       "      <td>1.0</td>\n",
       "      <td>연립다세대</td>\n",
       "      <td>서***~</td>\n",
       "      <td>강동구</td>\n",
       "      <td>길동</td>\n",
       "    </tr>\n",
       "    <tr>\n",
       "      <th>3</th>\n",
       "      <td>서울특별시 강동구 길동 349-9</td>\n",
       "      <td>천중로48길 9-1</td>\n",
       "      <td>강동서영스윗홈</td>\n",
       "      <td>32.04</td>\n",
       "      <td>19.05</td>\n",
       "      <td>27350</td>\n",
       "      <td>4</td>\n",
       "      <td>2020.0</td>\n",
       "      <td>0.0</td>\n",
       "      <td>2020-12-28</td>\n",
       "      <td>853.620474</td>\n",
       "      <td>1.0</td>\n",
       "      <td>연립다세대</td>\n",
       "      <td>서***~</td>\n",
       "      <td>강동구</td>\n",
       "      <td>길동</td>\n",
       "    </tr>\n",
       "    <tr>\n",
       "      <th>4</th>\n",
       "      <td>서울특별시 강동구 길동 349-9</td>\n",
       "      <td>천중로48길 9-1</td>\n",
       "      <td>강동서영스윗홈</td>\n",
       "      <td>32.04</td>\n",
       "      <td>19.05</td>\n",
       "      <td>27800</td>\n",
       "      <td>2</td>\n",
       "      <td>2020.0</td>\n",
       "      <td>0.0</td>\n",
       "      <td>2020-12-28</td>\n",
       "      <td>867.665418</td>\n",
       "      <td>1.0</td>\n",
       "      <td>연립다세대</td>\n",
       "      <td>서***~</td>\n",
       "      <td>강동구</td>\n",
       "      <td>길동</td>\n",
       "    </tr>\n",
       "  </tbody>\n",
       "</table>\n",
       "</div>"
      ],
      "text/plain": [
       "                 지번주소         도로명  건물(단지)명  전용면적(㎡)  대지권면적(㎡)  거래금액(만원)  층  \\\n",
       "0  서울특별시 강동구 길동 349-9  천중로48길 9-1  강동서영스윗홈    32.04     19.05     26850  5   \n",
       "1  서울특별시 강동구 길동 349-9  천중로48길 9-1  강동서영스윗홈    23.16     13.77     19700  5   \n",
       "2  서울특별시 강동구 길동 349-9  천중로48길 9-1  강동서영스윗홈    38.84     23.09     33050  4   \n",
       "3  서울특별시 강동구 길동 349-9  천중로48길 9-1  강동서영스윗홈    32.04     19.05     27350  4   \n",
       "4  서울특별시 강동구 길동 349-9  천중로48길 9-1  강동서영스윗홈    32.04     19.05     27800  2   \n",
       "\n",
       "     건축년도  계약날짜기준_건물연식       계약날짜    단가(만원/㎡)  건물연식  부동산유형    소유자    구   동  \n",
       "0  2020.0          0.0 2020-12-28  838.014981   1.0  연립다세대  서***~  강동구  길동  \n",
       "1  2020.0          0.0 2020-12-28  850.604491   1.0  연립다세대  서***~  강동구  길동  \n",
       "2  2020.0          0.0 2020-12-28  850.926880   1.0  연립다세대  서***~  강동구  길동  \n",
       "3  2020.0          0.0 2020-12-28  853.620474   1.0  연립다세대  서***~  강동구  길동  \n",
       "4  2020.0          0.0 2020-12-28  867.665418   1.0  연립다세대  서***~  강동구  길동  "
      ]
     },
     "execution_count": 5,
     "metadata": {},
     "output_type": "execute_result"
    }
   ],
   "source": [
    "yunrip_bulk_df = pd.read_csv(bulktrade_basedir+'연립다세대_일괄구매_전체.csv')\n",
    "yunrip_bulk_df['계약날짜'] = pd.to_datetime(yunrip_bulk_df['계약날짜'])\n",
    "yunrip_bulk_df = yunrip_bulk_df[yunrip_bulk_df['계약날짜']  >= (date_today - pd.DateOffset(months=target_period))]\n",
    "yunrip_bulk_df = yunrip_bulk_df[\n",
    "    (yunrip_bulk_df['소유자'] == '서***~')\n",
    "    |(yunrip_bulk_df['소유자'] == '한***~')\n",
    "].reset_index(drop=True)\n",
    "yunrip_bulk_df = get_gu_dong(yunrip_bulk_df)\n",
    "print(yunrip_bulk_df.shape)\n",
    "yunrip_bulk_df.head()"
   ]
  },
  {
   "cell_type": "code",
   "execution_count": 6,
   "metadata": {},
   "outputs": [],
   "source": [
    "yunrip_bulk_df['지번별_전용면적별_평균단가'] = yunrip_bulk_df[['지번주소', '건축년도', '계약날짜', '전용면적(㎡)', '단가(만원/㎡)']].groupby(['지번주소', '건축년도', '계약날짜', '전용면적(㎡)']).transform('mean')['단가(만원/㎡)']"
   ]
  },
  {
   "cell_type": "code",
   "execution_count": 7,
   "metadata": {},
   "outputs": [
    {
     "name": "stdout",
     "output_type": "stream",
     "text": [
      "(1300, 9)\n"
     ]
    },
    {
     "data": {
      "text/html": [
       "<div>\n",
       "<style scoped>\n",
       "    .dataframe tbody tr th:only-of-type {\n",
       "        vertical-align: middle;\n",
       "    }\n",
       "\n",
       "    .dataframe tbody tr th {\n",
       "        vertical-align: top;\n",
       "    }\n",
       "\n",
       "    .dataframe thead th {\n",
       "        text-align: right;\n",
       "    }\n",
       "</style>\n",
       "<table border=\"1\" class=\"dataframe\">\n",
       "  <thead>\n",
       "    <tr style=\"text-align: right;\">\n",
       "      <th></th>\n",
       "      <th>지번주소</th>\n",
       "      <th>건축년도</th>\n",
       "      <th>건물연식</th>\n",
       "      <th>계약날짜</th>\n",
       "      <th>계약날짜기준_건물연식</th>\n",
       "      <th>전용면적(㎡)</th>\n",
       "      <th>지번별_전용면적별_평균단가</th>\n",
       "      <th>부동산유형</th>\n",
       "      <th>소유자</th>\n",
       "    </tr>\n",
       "  </thead>\n",
       "  <tbody>\n",
       "    <tr>\n",
       "      <th>0</th>\n",
       "      <td>서울특별시 강동구 길동 349-9</td>\n",
       "      <td>2020.0</td>\n",
       "      <td>1.0</td>\n",
       "      <td>2020-12-28</td>\n",
       "      <td>0.0</td>\n",
       "      <td>32.04</td>\n",
       "      <td>856.741573</td>\n",
       "      <td>연립다세대</td>\n",
       "      <td>서***~</td>\n",
       "    </tr>\n",
       "    <tr>\n",
       "      <th>1</th>\n",
       "      <td>서울특별시 강동구 길동 349-9</td>\n",
       "      <td>2020.0</td>\n",
       "      <td>1.0</td>\n",
       "      <td>2020-12-28</td>\n",
       "      <td>0.0</td>\n",
       "      <td>23.16</td>\n",
       "      <td>850.604491</td>\n",
       "      <td>연립다세대</td>\n",
       "      <td>서***~</td>\n",
       "    </tr>\n",
       "    <tr>\n",
       "      <th>2</th>\n",
       "      <td>서울특별시 강동구 길동 349-9</td>\n",
       "      <td>2020.0</td>\n",
       "      <td>1.0</td>\n",
       "      <td>2020-12-28</td>\n",
       "      <td>0.0</td>\n",
       "      <td>38.84</td>\n",
       "      <td>852.857878</td>\n",
       "      <td>연립다세대</td>\n",
       "      <td>서***~</td>\n",
       "    </tr>\n",
       "    <tr>\n",
       "      <th>3</th>\n",
       "      <td>서울특별시 강동구 길동 349-9</td>\n",
       "      <td>2020.0</td>\n",
       "      <td>1.0</td>\n",
       "      <td>2020-12-28</td>\n",
       "      <td>0.0</td>\n",
       "      <td>36.84</td>\n",
       "      <td>858.668114</td>\n",
       "      <td>연립다세대</td>\n",
       "      <td>서***~</td>\n",
       "    </tr>\n",
       "    <tr>\n",
       "      <th>4</th>\n",
       "      <td>서울특별시 강동구 성내동 529-2</td>\n",
       "      <td>2020.0</td>\n",
       "      <td>1.0</td>\n",
       "      <td>2020-12-28</td>\n",
       "      <td>0.0</td>\n",
       "      <td>34.44</td>\n",
       "      <td>871.080139</td>\n",
       "      <td>연립다세대</td>\n",
       "      <td>서***~</td>\n",
       "    </tr>\n",
       "  </tbody>\n",
       "</table>\n",
       "</div>"
      ],
      "text/plain": [
       "                  지번주소    건축년도  건물연식       계약날짜  계약날짜기준_건물연식  전용면적(㎡)  \\\n",
       "0   서울특별시 강동구 길동 349-9  2020.0   1.0 2020-12-28          0.0    32.04   \n",
       "1   서울특별시 강동구 길동 349-9  2020.0   1.0 2020-12-28          0.0    23.16   \n",
       "2   서울특별시 강동구 길동 349-9  2020.0   1.0 2020-12-28          0.0    38.84   \n",
       "3   서울특별시 강동구 길동 349-9  2020.0   1.0 2020-12-28          0.0    36.84   \n",
       "4  서울특별시 강동구 성내동 529-2  2020.0   1.0 2020-12-28          0.0    34.44   \n",
       "\n",
       "   지번별_전용면적별_평균단가  부동산유형    소유자  \n",
       "0      856.741573  연립다세대  서***~  \n",
       "1      850.604491  연립다세대  서***~  \n",
       "2      852.857878  연립다세대  서***~  \n",
       "3      858.668114  연립다세대  서***~  \n",
       "4      871.080139  연립다세대  서***~  "
      ]
     },
     "execution_count": 7,
     "metadata": {},
     "output_type": "execute_result"
    }
   ],
   "source": [
    "yunrip_selected_df = yunrip_bulk_df[['지번주소', '건축년도', '건물연식', '계약날짜', '계약날짜기준_건물연식', '전용면적(㎡)', '지번별_전용면적별_평균단가', '부동산유형', '소유자']].drop_duplicates().reset_index(drop=True)\n",
    "print(yunrip_selected_df.shape)\n",
    "yunrip_selected_df.head()"
   ]
  },
  {
   "cell_type": "code",
   "execution_count": 8,
   "metadata": {},
   "outputs": [],
   "source": [
    "yunrip_selected_df = yunrip_selected_df.sort_values(['지번주소']).reset_index(drop=True)\n",
    "yunrip_selected_df.to_excel(bulktrade_basedir + '최근_6개월_SH_LH_거래사례.xlsx', index=False)"
   ]
  },
  {
   "cell_type": "code",
   "execution_count": null,
   "metadata": {},
   "outputs": [],
   "source": [
    "yunrip_selected_df['지번별_평균단가'] = yunrip_selected_df[['지번주소', '건축년도', '계약날짜', '지번별_전용면적별_평균단가']].groupby(['지번주소', '건축년도', '계약날짜']).transform('mean')['지번별_전용면적별_평균단가']"
   ]
  },
  {
   "cell_type": "code",
   "execution_count": null,
   "metadata": {},
   "outputs": [],
   "source": [
    "yunrip_selected_df = yunrip_selected_df.drop(columns=['전용면적(㎡)', '지번별_전용면적별_평균단가']).drop_duplicates().reset_index(drop=True)\n",
    "print(yunrip_selected_df.shape)\n",
    "yunrip_selected_df.head()"
   ]
  },
  {
   "cell_type": "code",
   "execution_count": null,
   "metadata": {},
   "outputs": [],
   "source": [
    "yunrip_selected_df['구'] = yunrip_selected_df['지번주소'].apply(lambda x: x.split(' ')[1])\n",
    "yunrip_selected_df['동'] = yunrip_selected_df['지번주소'].apply(lambda x: x.split(' ')[2])\n",
    "yunrip_selected_df['구동'] = yunrip_selected_df['구'] + '_' + yunrip_selected_df['동']"
   ]
  },
  {
   "cell_type": "code",
   "execution_count": null,
   "metadata": {},
   "outputs": [],
   "source": [
    "basedir = './국토교통부_실거래가_공개시스템/땅값분석/'\n",
    "yunrip_df = pd.read_csv(basedir + 'yunrip_25.csv')\n",
    "commerce_df = pd.read_csv(basedir + 'commerce_25.csv')\n",
    "land_df = pd.read_csv(basedir + 'land.csv')"
   ]
  },
  {
   "cell_type": "code",
   "execution_count": null,
   "metadata": {},
   "outputs": [],
   "source": [
    "common_cols = ['시군구', '번지', '용도지역', '도로조건', '계약날짜', '대지면적(㎡)', '거래금액(만원)', '단가(㎡)', '단가(평)', '부동산유형', '건물연식']\n",
    "common_df = pd.concat([yunrip_df[common_cols], commerce_df[common_cols], land_df[[col for col in land_df.columns if col not in ['지목', '지분구분', '해제사유발생일']]]])\n",
    "common_df['계약날짜'] = pd.to_datetime(common_df['계약날짜'], format='%Y-%m-%d')\n",
    "print(common_df.shape)\n",
    "common_df.head()"
   ]
  },
  {
   "cell_type": "code",
   "execution_count": null,
   "metadata": {},
   "outputs": [],
   "source": [
    "common_df['구'] = common_df['시군구'].apply(lambda x: x.split(' ')[1])\n",
    "common_df['동'] = common_df['시군구'].apply(lambda x: x.split(' ')[2])"
   ]
  },
  {
   "cell_type": "code",
   "execution_count": null,
   "metadata": {},
   "outputs": [],
   "source": [
    "yunrip_bulk_df['구동'] = yunrip_bulk_df['구'] + '_' + yunrip_bulk_df['동']"
   ]
  },
  {
   "cell_type": "code",
   "execution_count": null,
   "metadata": {},
   "outputs": [],
   "source": [
    "summary_df = pd.DataFrame({'지역':[], '2종일반중간값':[], '집값중간값':[]})\n",
    "\n",
    "count = 0\n",
    "for gudong in tqdm(yunrip_selected_df['구동'].unique()):\n",
    "    gu = gudong.split('_')[0]\n",
    "    dong = gudong.split('_')[1]\n",
    "    \n",
    "    target_gu = gu\n",
    "    target_dong = dong\n",
    "    target_purpose = '2종일반'\n",
    "    \n",
    "    target_df = common_df[\n",
    "        (common_df['구'] == target_gu)\n",
    "        &(common_df['동'] == target_dong)\n",
    "        &(common_df['용도지역'].str.contains(target_purpose))\n",
    "        &(common_df['계약날짜'] >= (date_today - pd.DateOffset(months=target_period)))\n",
    "        &(common_df['단가(㎡)'] > 250)\n",
    "    ].sort_values(['번지'])\n",
    "    \n",
    "    yunrip_target_df = yunrip_selected_df[\n",
    "        (yunrip_selected_df['구동'] == gudong)\n",
    "    ]\n",
    "    \n",
    "    summary_df.loc[count, '지역'] = gudong\n",
    "    summary_df.loc[count, '2종일반중간값'] = target_df['단가(㎡)'].median()\n",
    "    summary_df.loc[count, '집값중간값'] = yunrip_target_df['지번별_평균단가'].median()\n",
    "    \n",
    "    count += 1"
   ]
  },
  {
   "cell_type": "code",
   "execution_count": null,
   "metadata": {},
   "outputs": [],
   "source": [
    "summary_df['차이'] = summary_df['집값중간값'] - summary_df['2종일반중간값']"
   ]
  },
  {
   "cell_type": "code",
   "execution_count": null,
   "metadata": {},
   "outputs": [],
   "source": [
    "summary_df = summary_df.sort_values(['차이'], ascending=False).reset_index(drop=True)\n",
    "print(summary_df.shape)\n",
    "summary_df.head()"
   ]
  },
  {
   "cell_type": "code",
   "execution_count": null,
   "metadata": {},
   "outputs": [],
   "source": [
    "summary_df"
   ]
  },
  {
   "cell_type": "code",
   "execution_count": null,
   "metadata": {},
   "outputs": [],
   "source": [
    "summary_df.to_excel('지역별_땅값_일괄매매_중간값.xlsx', index=False)"
   ]
  },
  {
   "cell_type": "code",
   "execution_count": null,
   "metadata": {},
   "outputs": [],
   "source": [
    "summary_df = pd.DataFrame({'지역':[], '2종일반평균':[], '집값평균':[]})\n",
    "\n",
    "count = 0\n",
    "for gudong in tqdm(yunrip_bulk_df['구동'].unique()):\n",
    "    gu = gudong.split('_')[0]\n",
    "    dong = gudong.split('_')[1]\n",
    "    \n",
    "    target_gu = gu\n",
    "    target_dong = dong\n",
    "    target_purpose = '2종일반'\n",
    "    \n",
    "    target_df = common_df[\n",
    "        (common_df['구'] == target_gu)\n",
    "        &(common_df['동'] == target_dong)\n",
    "        &(common_df['용도지역'].str.contains(target_purpose))\n",
    "        &(common_df['계약날짜'] >= (date_today - pd.DateOffset(months=target_period)))\n",
    "        &(common_df['단가(㎡)'] > 250)\n",
    "    ].sort_values(['번지'])\n",
    "    \n",
    "    yunrip_target_df = yunrip_selected_df[\n",
    "        (yunrip_selected_df['구동'] == gudong)\n",
    "    ]\n",
    "    \n",
    "    summary_df.loc[count, '지역'] = gudong\n",
    "    summary_df.loc[count, '2종일반평균'] = target_df['단가(㎡)'].mean()\n",
    "    summary_df.loc[count, '집값평균'] = yunrip_target_df['지번별_평균단가'].mean()\n",
    "    \n",
    "    count += 1"
   ]
  },
  {
   "cell_type": "code",
   "execution_count": null,
   "metadata": {},
   "outputs": [],
   "source": [
    "summary_df['차이'] = summary_df['집값평균'] - summary_df['2종일반평균']"
   ]
  },
  {
   "cell_type": "code",
   "execution_count": null,
   "metadata": {},
   "outputs": [],
   "source": [
    "summary_df = summary_df.sort_values(['차이'], ascending=False).reset_index(drop=True)\n",
    "print(summary_df.shape)\n",
    "summary_df.head()"
   ]
  },
  {
   "cell_type": "code",
   "execution_count": null,
   "metadata": {},
   "outputs": [],
   "source": [
    "summary_df"
   ]
  },
  {
   "cell_type": "code",
   "execution_count": null,
   "metadata": {},
   "outputs": [],
   "source": [
    "summary_df.to_excel('지역별_땅값_일괄매매_평균.xlsx', index=False)"
   ]
  },
  {
   "cell_type": "code",
   "execution_count": null,
   "metadata": {},
   "outputs": [],
   "source": []
  },
  {
   "cell_type": "code",
   "execution_count": null,
   "metadata": {},
   "outputs": [],
   "source": [
    "yunrip_selected_df.head()"
   ]
  },
  {
   "cell_type": "code",
   "execution_count": null,
   "metadata": {},
   "outputs": [],
   "source": [
    "inv_df = yunrip_selected_df[yunrip_selected_df['구동'] == '성동구_마장동']\n",
    "print(inv_df.shape)\n",
    "inv_df.head()"
   ]
  },
  {
   "cell_type": "code",
   "execution_count": null,
   "metadata": {},
   "outputs": [],
   "source": []
  },
  {
   "cell_type": "code",
   "execution_count": null,
   "metadata": {},
   "outputs": [],
   "source": []
  },
  {
   "cell_type": "code",
   "execution_count": null,
   "metadata": {},
   "outputs": [],
   "source": []
  },
  {
   "cell_type": "code",
   "execution_count": null,
   "metadata": {},
   "outputs": [],
   "source": []
  },
  {
   "cell_type": "code",
   "execution_count": null,
   "metadata": {},
   "outputs": [],
   "source": []
  },
  {
   "cell_type": "code",
   "execution_count": null,
   "metadata": {},
   "outputs": [],
   "source": []
  },
  {
   "cell_type": "code",
   "execution_count": null,
   "metadata": {},
   "outputs": [],
   "source": [
    "def mean_prices_per_size(df):\n",
    "    df = df.copy()\n",
    "    \n",
    "    df['크기별_평균단가'] = df[['지번주소', '건축년도', '계약날짜', '전용면적(㎡)', '단가(만원/㎡)']].groupby(['지번주소', '건축년도', '계약날짜', '전용면적(㎡)']).transform('mean')['단가(만원/㎡)']\n",
    "    df['크기별_평균총액'] = df[['지번주소', '건축년도', '계약날짜', '전용면적(㎡)', '거래금액(만원)']].groupby(['지번주소', '건축년도', '계약날짜', '전용면적(㎡)']).transform('mean')['거래금액(만원)']\n",
    "    df = df[['지번주소', '건축년도', '건물연식', '계약날짜', '계약날짜기준_건물연식', '전용면적(㎡)', '크기별_평균총액', '크기별_평균단가']]\n",
    "    df = df.drop_duplicates().reset_index(drop=True)\n",
    "    \n",
    "    return df"
   ]
  },
  {
   "cell_type": "code",
   "execution_count": null,
   "metadata": {},
   "outputs": [],
   "source": [
    "yunrip_short_df = mean_prices_per_size(yunrip_selected_df)\n",
    "print(yunrip_short_df.shape)\n",
    "yunrip_short_df.head()"
   ]
  },
  {
   "cell_type": "code",
   "execution_count": null,
   "metadata": {},
   "outputs": [],
   "source": []
  },
  {
   "cell_type": "code",
   "execution_count": null,
   "metadata": {},
   "outputs": [],
   "source": []
  },
  {
   "cell_type": "code",
   "execution_count": null,
   "metadata": {},
   "outputs": [],
   "source": []
  },
  {
   "cell_type": "code",
   "execution_count": null,
   "metadata": {},
   "outputs": [],
   "source": []
  },
  {
   "cell_type": "code",
   "execution_count": null,
   "metadata": {},
   "outputs": [],
   "source": []
  },
  {
   "cell_type": "code",
   "execution_count": null,
   "metadata": {},
   "outputs": [],
   "source": []
  },
  {
   "cell_type": "code",
   "execution_count": null,
   "metadata": {},
   "outputs": [],
   "source": []
  },
  {
   "cell_type": "code",
   "execution_count": null,
   "metadata": {},
   "outputs": [],
   "source": []
  },
  {
   "cell_type": "code",
   "execution_count": null,
   "metadata": {},
   "outputs": [],
   "source": []
  },
  {
   "cell_type": "code",
   "execution_count": null,
   "metadata": {},
   "outputs": [],
   "source": []
  }
 ],
 "metadata": {
  "kernelspec": {
   "display_name": "Python 3",
   "language": "python",
   "name": "python3"
  },
  "language_info": {
   "codemirror_mode": {
    "name": "ipython",
    "version": 3
   },
   "file_extension": ".py",
   "mimetype": "text/x-python",
   "name": "python",
   "nbconvert_exporter": "python",
   "pygments_lexer": "ipython3",
   "version": "3.7.9"
  }
 },
 "nbformat": 4,
 "nbformat_minor": 4
}
