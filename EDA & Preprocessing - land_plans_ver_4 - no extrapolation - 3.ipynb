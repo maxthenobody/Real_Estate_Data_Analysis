{
 "cells": [
  {
   "cell_type": "code",
   "execution_count": 1,
   "metadata": {},
   "outputs": [],
   "source": [
    "import multiprocess as mp\n",
    "import numpy as np\n",
    "import pandas as pd\n",
    "import matplotlib.pyplot as plt\n",
    "import os\n",
    "import math\n",
    "from tqdm import tqdm\n",
    "import requests\n",
    "from urllib.parse import urlparse\n",
    "pd.set_option('display.max_rows', 500)\n",
    "pd.set_option('display.max_columns', 500)\n",
    "import datetime\n",
    "from sklearn.preprocessing import quantile_transform\n",
    "pd.options.mode.chained_assignment = None  # default='warn'\n",
    "import gc"
   ]
  },
  {
   "cell_type": "code",
   "execution_count": null,
   "metadata": {},
   "outputs": [],
   "source": [
    "%%time\n",
    "land_plans_df = pd.read_csv('./토지이용계획정보/original_land_plans.csv')\n",
    "print(land_plans_df.shape)\n",
    "land_plans_df.head()"
   ]
  },
  {
   "cell_type": "code",
   "execution_count": 3,
   "metadata": {},
   "outputs": [],
   "source": [
    "land_plans_df.columns = [col.replace(':','_').replace('/','_').replace('\\\\','_').replace('*','_').replace('?','_')\\\n",
    "                         .replace('\\\"','_').replace('|','_').replace('<','_').replace('>','_').replace('ㆍ','_')\\\n",
    "                         .replace(' ','_').replace('·','_').replace('-','_').replace('~','_')\\\n",
    "                         for col in land_plans_df.columns]"
   ]
  },
  {
   "cell_type": "code",
   "execution_count": 4,
   "metadata": {},
   "outputs": [
    {
     "data": {
      "text/plain": [
       "Index(['(한강)오염행위_제한지역', '(한강)폐기물매립시설_설치제한지역', '4대문안', '가로구역별_최고높이_제한지역',\n",
       "       '가스공급설비'],\n",
       "      dtype='object')"
      ]
     },
     "execution_count": 4,
     "metadata": {},
     "output_type": "execute_result"
    }
   ],
   "source": [
    "cat_cols = land_plans_df.columns.drop(['지번주소', '년'])\n",
    "cat_cols[:5]"
   ]
  },
  {
   "cell_type": "code",
   "execution_count": 5,
   "metadata": {},
   "outputs": [
    {
     "name": "stderr",
     "output_type": "stream",
     "text": [
      "100%|████████████████████████████████████████████████████████████████████████████████| 353/353 [23:39<00:00,  4.02s/it]\n"
     ]
    }
   ],
   "source": [
    "for col in tqdm(cat_cols):\n",
    "    col_map = {}\n",
    "    col_map_df = pd.DataFrame({'cat':land_plans_df[col].unique(),'map':[i for i in range(len(land_plans_df[col].unique()))]})\n",
    "    for i in range(col_map_df.shape[0]):\n",
    "        col_map[col_map_df['cat'][i]] = col_map_df['map'][i]\n",
    "    land_plans_df[col] = land_plans_df[col].map(col_map)\n",
    "    col_map_df.to_csv('./토지이용계획정보/feature_maps/{}_map.csv'.format(col))"
   ]
  },
  {
   "cell_type": "code",
   "execution_count": 6,
   "metadata": {},
   "outputs": [],
   "source": [
    "land_plans_df.to_csv('./토지이용계획정보/original_land_plans_mapped.csv', index=False)"
   ]
  },
  {
   "cell_type": "code",
   "execution_count": 7,
   "metadata": {},
   "outputs": [
    {
     "name": "stdout",
     "output_type": "stream",
     "text": [
      "<class 'pandas.core.frame.DataFrame'>\n",
      "RangeIndex: 5149472 entries, 0 to 5149471\n",
      "Columns: 355 entries, 지번주소 to 환경정비구역\n",
      "dtypes: int64(354), object(1)\n",
      "memory usage: 13.6+ GB\n"
     ]
    }
   ],
   "source": [
    "land_plans_df.info()"
   ]
  },
  {
   "cell_type": "code",
   "execution_count": null,
   "metadata": {},
   "outputs": [],
   "source": []
  },
  {
   "cell_type": "code",
   "execution_count": null,
   "metadata": {},
   "outputs": [],
   "source": []
  },
  {
   "cell_type": "code",
   "execution_count": null,
   "metadata": {},
   "outputs": [],
   "source": []
  },
  {
   "cell_type": "code",
   "execution_count": null,
   "metadata": {},
   "outputs": [],
   "source": []
  },
  {
   "cell_type": "code",
   "execution_count": null,
   "metadata": {},
   "outputs": [],
   "source": [
    "def create_complete_land_plans_df_iteratively(df):\n",
    "    import numpy as np\n",
    "    import pandas as pd\n",
    "    import gc\n",
    "    \n",
    "    df = df.copy()\n",
    "    \n",
    "    dfs_list = []\n",
    "    count = 0\n",
    "    for addr in df['지번주소'].unique():\n",
    "        if (count%5000) == 0:\n",
    "            gc.collect()\n",
    "        \n",
    "        addr_df = df[df['지번주소'] == addr]\n",
    "        \n",
    "        min_year = addr_df['년'].min()\n",
    "        \n",
    "        years_list = [i for i in range(2006, 2021) if i not in addr_df['년'].unique().tolist()]\n",
    "        if years_list == []:\n",
    "            dfs_list.append(addr_df)\n",
    "            continue\n",
    "        \n",
    "        empty_row = addr_df.iloc[[0], :]\n",
    "        empty_row.iloc[:,2:] = np.nan\n",
    "\n",
    "        empty_rows_list = []\n",
    "        for y in years_list:\n",
    "            empty_row_copy = empty_row.copy()\n",
    "            empty_row_copy.iloc[0, 1] = y\n",
    "            empty_rows_list.append(empty_row_copy)\n",
    "        \n",
    "        empty_df = pd.concat(empty_rows_list)\n",
    "\n",
    "        mini_concat_df = pd.concat([addr_df, empty_df]).sort_values(['년']).reset_index(drop=True)\n",
    "        \n",
    "        min_year_and_below_df = mini_concat_df[mini_concat_df['년'] <= min_year].fillna(method='bfill')\n",
    "        \n",
    "        min_year_and_above_df = mini_concat_df[mini_concat_df['년'] >= min_year].fillna(method='ffill')\n",
    "        \n",
    "        mini_concat_updated_df = pd.concat([min_year_and_below_df, min_year_and_above_df]).drop_duplicates().sort_values(['년']).reset_index(drop=True)\n",
    "        \n",
    "        dfs_list.append(mini_concat_updated_df)\n",
    "                \n",
    "        count += 1\n",
    "\n",
    "    concat_df = pd.concat(dfs_list).reset_index(drop=True)\n",
    "    \n",
    "    return concat_df"
   ]
  },
  {
   "cell_type": "code",
   "execution_count": null,
   "metadata": {},
   "outputs": [],
   "source": [
    "def parallelize(df, func, num_processors=6):\n",
    "    #data_split = np.array_split(data, num_processors)\n",
    "    \n",
    "    data_split = []\n",
    "    unique_addrs = df['지번주소'].unique()\n",
    "    divided = int(len(unique_addrs) / num_processors)\n",
    "    for i in range(num_processors):\n",
    "        if i < (num_processors - 1):\n",
    "            picked_addrs = unique_addrs[divided*i:divided*(i+1)]\n",
    "        else:\n",
    "            picked_addrs = unique_addrs[divided*i:]\n",
    "        data_split.append(df[df['지번주소'].isin(picked_addrs)])\n",
    "            \n",
    "    pool = mp.Pool(num_processors)\n",
    "    concat_df = pd.concat(pool.map(func, data_split))\n",
    "    pool.close()\n",
    "    pool.join()\n",
    "    \n",
    "    concat_df = concat_df.sort_values(['지번주소', '년']).reset_index(drop=True)\n",
    "    \n",
    "    return concat_df"
   ]
  },
  {
   "cell_type": "code",
   "execution_count": null,
   "metadata": {},
   "outputs": [],
   "source": [
    "%%time\n",
    "completed_df = parallelize(land_plans_df, create_complete_land_plans_df_iteratively)\n",
    "print(completed_df.shape)\n",
    "completed_df.head()"
   ]
  },
  {
   "cell_type": "code",
   "execution_count": null,
   "metadata": {},
   "outputs": [],
   "source": [
    "completed_df.to_csv('./prepped_data/land_plans_ver_3.csv', index=False)"
   ]
  },
  {
   "cell_type": "code",
   "execution_count": null,
   "metadata": {},
   "outputs": [],
   "source": []
  }
 ],
 "metadata": {
  "kernelspec": {
   "display_name": "Python 3",
   "language": "python",
   "name": "python3"
  },
  "language_info": {
   "codemirror_mode": {
    "name": "ipython",
    "version": 3
   },
   "file_extension": ".py",
   "mimetype": "text/x-python",
   "name": "python",
   "nbconvert_exporter": "python",
   "pygments_lexer": "ipython3",
   "version": "3.7.9"
  }
 },
 "nbformat": 4,
 "nbformat_minor": 4
}
