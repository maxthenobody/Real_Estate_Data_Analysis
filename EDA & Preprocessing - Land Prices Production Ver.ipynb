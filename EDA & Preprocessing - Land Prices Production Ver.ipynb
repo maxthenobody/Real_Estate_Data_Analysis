{
 "cells": [
  {
   "cell_type": "code",
   "execution_count": 1,
   "metadata": {},
   "outputs": [],
   "source": [
    "import multiprocessing as mp\n",
    "import numpy as np\n",
    "import pandas as pd\n",
    "import matplotlib.pyplot as plt\n",
    "import os\n",
    "import math\n",
    "from tqdm import tqdm\n",
    "pd.set_option('display.max_rows', 500)\n",
    "pd.set_option('display.max_columns', 500)\n",
    "import datetime\n",
    "from sklearn.preprocessing import quantile_transform\n",
    "pd.options.mode.chained_assignment = None  # default='warn'\n",
    "import gc"
   ]
  },
  {
   "cell_type": "code",
   "execution_count": 2,
   "metadata": {},
   "outputs": [
    {
     "name": "stderr",
     "output_type": "stream",
     "text": [
      "<string>:2: DtypeWarning: Columns (0) have mixed types. Specify dtype option on import or set low_memory=False.\n"
     ]
    },
    {
     "name": "stdout",
     "output_type": "stream",
     "text": [
      "Wall time: 21.2 s\n"
     ]
    }
   ],
   "source": [
    "%%time\n",
    "basedir = './공시지가/'\n",
    "filenames = [f for f in os.listdir(basedir) if f.endswith('.csv')]\n",
    "land_prices_df = pd.read_csv(basedir + filenames[0], encoding='euc-kr')"
   ]
  },
  {
   "cell_type": "code",
   "execution_count": 3,
   "metadata": {},
   "outputs": [
    {
     "name": "stdout",
     "output_type": "stream",
     "text": [
      "(29393777, 12)\n"
     ]
    },
    {
     "data": {
      "text/html": [
       "<div>\n",
       "<style scoped>\n",
       "    .dataframe tbody tr th:only-of-type {\n",
       "        vertical-align: middle;\n",
       "    }\n",
       "\n",
       "    .dataframe tbody tr th {\n",
       "        vertical-align: top;\n",
       "    }\n",
       "\n",
       "    .dataframe thead th {\n",
       "        text-align: right;\n",
       "    }\n",
       "</style>\n",
       "<table border=\"1\" class=\"dataframe\">\n",
       "  <thead>\n",
       "    <tr style=\"text-align: right;\">\n",
       "      <th></th>\n",
       "      <th>고유번호</th>\n",
       "      <th>법정동코드</th>\n",
       "      <th>법정동명</th>\n",
       "      <th>특수지구분코드</th>\n",
       "      <th>특수지구분명</th>\n",
       "      <th>지번</th>\n",
       "      <th>기준년도</th>\n",
       "      <th>기준월</th>\n",
       "      <th>공시지가</th>\n",
       "      <th>공시일자</th>\n",
       "      <th>표준지여부</th>\n",
       "      <th>데이터기준일자</th>\n",
       "    </tr>\n",
       "  </thead>\n",
       "  <tbody>\n",
       "    <tr>\n",
       "      <th>0</th>\n",
       "      <td>1111010100100010000</td>\n",
       "      <td>1111010100</td>\n",
       "      <td>서울특별시 종로구 청운동</td>\n",
       "      <td>1</td>\n",
       "      <td>일반</td>\n",
       "      <td>1</td>\n",
       "      <td>1990</td>\n",
       "      <td>1</td>\n",
       "      <td>750000</td>\n",
       "      <td>1990-08-30</td>\n",
       "      <td>N</td>\n",
       "      <td>2020-09-26</td>\n",
       "    </tr>\n",
       "    <tr>\n",
       "      <th>1</th>\n",
       "      <td>1111010100100010000</td>\n",
       "      <td>1111010100</td>\n",
       "      <td>서울특별시 종로구 청운동</td>\n",
       "      <td>1</td>\n",
       "      <td>일반</td>\n",
       "      <td>1</td>\n",
       "      <td>1991</td>\n",
       "      <td>1</td>\n",
       "      <td>980000</td>\n",
       "      <td>1991-06-29</td>\n",
       "      <td>N</td>\n",
       "      <td>2020-09-26</td>\n",
       "    </tr>\n",
       "    <tr>\n",
       "      <th>2</th>\n",
       "      <td>1111010100100010000</td>\n",
       "      <td>1111010100</td>\n",
       "      <td>서울특별시 종로구 청운동</td>\n",
       "      <td>1</td>\n",
       "      <td>일반</td>\n",
       "      <td>1</td>\n",
       "      <td>1992</td>\n",
       "      <td>1</td>\n",
       "      <td>980000</td>\n",
       "      <td>1992-06-01</td>\n",
       "      <td>N</td>\n",
       "      <td>2020-09-26</td>\n",
       "    </tr>\n",
       "    <tr>\n",
       "      <th>3</th>\n",
       "      <td>1111010100100010000</td>\n",
       "      <td>1111010100</td>\n",
       "      <td>서울특별시 종로구 청운동</td>\n",
       "      <td>1</td>\n",
       "      <td>일반</td>\n",
       "      <td>1</td>\n",
       "      <td>1993</td>\n",
       "      <td>1</td>\n",
       "      <td>980000</td>\n",
       "      <td>1993-05-22</td>\n",
       "      <td>N</td>\n",
       "      <td>2020-09-26</td>\n",
       "    </tr>\n",
       "    <tr>\n",
       "      <th>4</th>\n",
       "      <td>1111010100100010000</td>\n",
       "      <td>1111010100</td>\n",
       "      <td>서울특별시 종로구 청운동</td>\n",
       "      <td>1</td>\n",
       "      <td>일반</td>\n",
       "      <td>1</td>\n",
       "      <td>1994</td>\n",
       "      <td>1</td>\n",
       "      <td>960000</td>\n",
       "      <td>1994-06-30</td>\n",
       "      <td>N</td>\n",
       "      <td>2020-09-26</td>\n",
       "    </tr>\n",
       "  </tbody>\n",
       "</table>\n",
       "</div>"
      ],
      "text/plain": [
       "                  고유번호       법정동코드           법정동명  특수지구분코드 특수지구분명 지번  기준년도  \\\n",
       "0  1111010100100010000  1111010100  서울특별시 종로구 청운동        1     일반  1  1990   \n",
       "1  1111010100100010000  1111010100  서울특별시 종로구 청운동        1     일반  1  1991   \n",
       "2  1111010100100010000  1111010100  서울특별시 종로구 청운동        1     일반  1  1992   \n",
       "3  1111010100100010000  1111010100  서울특별시 종로구 청운동        1     일반  1  1993   \n",
       "4  1111010100100010000  1111010100  서울특별시 종로구 청운동        1     일반  1  1994   \n",
       "\n",
       "   기준월    공시지가        공시일자 표준지여부     데이터기준일자  \n",
       "0    1  750000  1990-08-30     N  2020-09-26  \n",
       "1    1  980000  1991-06-29     N  2020-09-26  \n",
       "2    1  980000  1992-06-01     N  2020-09-26  \n",
       "3    1  980000  1993-05-22     N  2020-09-26  \n",
       "4    1  960000  1994-06-30     N  2020-09-26  "
      ]
     },
     "execution_count": 3,
     "metadata": {},
     "output_type": "execute_result"
    }
   ],
   "source": [
    "print(land_prices_df.shape)\n",
    "land_prices_df.head()"
   ]
  },
  {
   "cell_type": "code",
   "execution_count": 4,
   "metadata": {},
   "outputs": [],
   "source": [
    "land_prices_df = land_prices_df[land_prices_df['기준년도'] == 2020]"
   ]
  },
  {
   "cell_type": "code",
   "execution_count": 5,
   "metadata": {},
   "outputs": [
    {
     "data": {
      "text/plain": [
       "(906224, 12)"
      ]
     },
     "execution_count": 5,
     "metadata": {},
     "output_type": "execute_result"
    }
   ],
   "source": [
    "land_prices_df.shape"
   ]
  },
  {
   "cell_type": "code",
   "execution_count": 6,
   "metadata": {},
   "outputs": [],
   "source": [
    "def landnum_modifier(x):\n",
    "    # x is a string\n",
    "    \n",
    "    splitted = x.split('-')\n",
    "    if len(splitted) == 1:\n",
    "        return x+'-0'\n",
    "    elif len(splitted) == 2:\n",
    "        return x\n",
    "    else:\n",
    "        raise ValueError('myerror')"
   ]
  },
  {
   "cell_type": "code",
   "execution_count": 7,
   "metadata": {},
   "outputs": [
    {
     "data": {
      "text/html": [
       "<div>\n",
       "<style scoped>\n",
       "    .dataframe tbody tr th:only-of-type {\n",
       "        vertical-align: middle;\n",
       "    }\n",
       "\n",
       "    .dataframe tbody tr th {\n",
       "        vertical-align: top;\n",
       "    }\n",
       "\n",
       "    .dataframe thead th {\n",
       "        text-align: right;\n",
       "    }\n",
       "</style>\n",
       "<table border=\"1\" class=\"dataframe\">\n",
       "  <thead>\n",
       "    <tr style=\"text-align: right;\">\n",
       "      <th></th>\n",
       "      <th>고유번호</th>\n",
       "      <th>법정동코드</th>\n",
       "      <th>법정동명</th>\n",
       "      <th>특수지구분코드</th>\n",
       "      <th>특수지구분명</th>\n",
       "      <th>지번</th>\n",
       "      <th>기준년도</th>\n",
       "      <th>기준월</th>\n",
       "      <th>공시지가</th>\n",
       "      <th>공시일자</th>\n",
       "      <th>표준지여부</th>\n",
       "      <th>데이터기준일자</th>\n",
       "      <th>지번주소</th>\n",
       "    </tr>\n",
       "  </thead>\n",
       "  <tbody>\n",
       "    <tr>\n",
       "      <th>30</th>\n",
       "      <td>1111010100100010000</td>\n",
       "      <td>1111010100</td>\n",
       "      <td>서울특별시 종로구 청운동</td>\n",
       "      <td>1</td>\n",
       "      <td>일반</td>\n",
       "      <td>1</td>\n",
       "      <td>2020</td>\n",
       "      <td>1</td>\n",
       "      <td>4357000</td>\n",
       "      <td>2020-05-29</td>\n",
       "      <td>N</td>\n",
       "      <td>2020-09-26</td>\n",
       "      <td>서울특별시 종로구 청운동 1-0</td>\n",
       "    </tr>\n",
       "    <tr>\n",
       "      <th>42</th>\n",
       "      <td>1111010100100010001</td>\n",
       "      <td>1111010100</td>\n",
       "      <td>서울특별시 종로구 청운동</td>\n",
       "      <td>1</td>\n",
       "      <td>일반</td>\n",
       "      <td>1-1</td>\n",
       "      <td>2020</td>\n",
       "      <td>1</td>\n",
       "      <td>1392000</td>\n",
       "      <td>2020-05-29</td>\n",
       "      <td>N</td>\n",
       "      <td>2020-09-26</td>\n",
       "      <td>서울특별시 종로구 청운동 1-1</td>\n",
       "    </tr>\n",
       "    <tr>\n",
       "      <th>73</th>\n",
       "      <td>1111010100100010002</td>\n",
       "      <td>1111010100</td>\n",
       "      <td>서울특별시 종로구 청운동</td>\n",
       "      <td>1</td>\n",
       "      <td>일반</td>\n",
       "      <td>1-2</td>\n",
       "      <td>2020</td>\n",
       "      <td>1</td>\n",
       "      <td>2520000</td>\n",
       "      <td>2020-05-29</td>\n",
       "      <td>N</td>\n",
       "      <td>2020-09-26</td>\n",
       "      <td>서울특별시 종로구 청운동 1-2</td>\n",
       "    </tr>\n",
       "    <tr>\n",
       "      <th>104</th>\n",
       "      <td>1111010100100010003</td>\n",
       "      <td>1111010100</td>\n",
       "      <td>서울특별시 종로구 청운동</td>\n",
       "      <td>1</td>\n",
       "      <td>일반</td>\n",
       "      <td>1-3</td>\n",
       "      <td>2020</td>\n",
       "      <td>1</td>\n",
       "      <td>4337000</td>\n",
       "      <td>2020-05-29</td>\n",
       "      <td>N</td>\n",
       "      <td>2020-09-26</td>\n",
       "      <td>서울특별시 종로구 청운동 1-3</td>\n",
       "    </tr>\n",
       "    <tr>\n",
       "      <th>116</th>\n",
       "      <td>1111010100100010004</td>\n",
       "      <td>1111010100</td>\n",
       "      <td>서울특별시 종로구 청운동</td>\n",
       "      <td>1</td>\n",
       "      <td>일반</td>\n",
       "      <td>1-4</td>\n",
       "      <td>2020</td>\n",
       "      <td>1</td>\n",
       "      <td>1554000</td>\n",
       "      <td>2020-05-29</td>\n",
       "      <td>N</td>\n",
       "      <td>2020-09-26</td>\n",
       "      <td>서울특별시 종로구 청운동 1-4</td>\n",
       "    </tr>\n",
       "  </tbody>\n",
       "</table>\n",
       "</div>"
      ],
      "text/plain": [
       "                    고유번호       법정동코드           법정동명  특수지구분코드 특수지구분명   지번  \\\n",
       "30   1111010100100010000  1111010100  서울특별시 종로구 청운동        1     일반    1   \n",
       "42   1111010100100010001  1111010100  서울특별시 종로구 청운동        1     일반  1-1   \n",
       "73   1111010100100010002  1111010100  서울특별시 종로구 청운동        1     일반  1-2   \n",
       "104  1111010100100010003  1111010100  서울특별시 종로구 청운동        1     일반  1-3   \n",
       "116  1111010100100010004  1111010100  서울특별시 종로구 청운동        1     일반  1-4   \n",
       "\n",
       "     기준년도  기준월     공시지가        공시일자 표준지여부     데이터기준일자               지번주소  \n",
       "30   2020    1  4357000  2020-05-29     N  2020-09-26  서울특별시 종로구 청운동 1-0  \n",
       "42   2020    1  1392000  2020-05-29     N  2020-09-26  서울특별시 종로구 청운동 1-1  \n",
       "73   2020    1  2520000  2020-05-29     N  2020-09-26  서울특별시 종로구 청운동 1-2  \n",
       "104  2020    1  4337000  2020-05-29     N  2020-09-26  서울특별시 종로구 청운동 1-3  \n",
       "116  2020    1  1554000  2020-05-29     N  2020-09-26  서울특별시 종로구 청운동 1-4  "
      ]
     },
     "execution_count": 7,
     "metadata": {},
     "output_type": "execute_result"
    }
   ],
   "source": [
    "land_prices_df['지번주소'] = land_prices_df['법정동명'] + ' ' + land_prices_df['지번'].apply(landnum_modifier)\n",
    "land_prices_df.head()"
   ]
  },
  {
   "cell_type": "code",
   "execution_count": 8,
   "metadata": {},
   "outputs": [],
   "source": [
    "land_prices_df = land_prices_df.sort_values(['지번주소', '기준년도', '기준월']).reset_index(drop=True)"
   ]
  },
  {
   "cell_type": "code",
   "execution_count": 9,
   "metadata": {},
   "outputs": [],
   "source": [
    "land_prices_df.drop_duplicates(subset=['지번주소'], inplace=True)"
   ]
  },
  {
   "cell_type": "code",
   "execution_count": 10,
   "metadata": {},
   "outputs": [
    {
     "data": {
      "text/plain": [
       "(903493, 13)"
      ]
     },
     "execution_count": 10,
     "metadata": {},
     "output_type": "execute_result"
    }
   ],
   "source": [
    "land_prices_df.shape"
   ]
  },
  {
   "cell_type": "code",
   "execution_count": 11,
   "metadata": {},
   "outputs": [
    {
     "data": {
      "text/plain": [
       "일반    890240\n",
       "산      13253\n",
       "Name: 특수지구분명, dtype: int64"
      ]
     },
     "execution_count": 11,
     "metadata": {},
     "output_type": "execute_result"
    }
   ],
   "source": [
    "land_prices_df['특수지구분명'].value_counts()"
   ]
  },
  {
   "cell_type": "code",
   "execution_count": 12,
   "metadata": {},
   "outputs": [],
   "source": [
    "land_prices_df = land_prices_df[['지번주소', '특수지구분명', '기준년도', '공시지가', '표준지여부']]"
   ]
  },
  {
   "cell_type": "code",
   "execution_count": 13,
   "metadata": {},
   "outputs": [
    {
     "data": {
      "text/html": [
       "<div>\n",
       "<style scoped>\n",
       "    .dataframe tbody tr th:only-of-type {\n",
       "        vertical-align: middle;\n",
       "    }\n",
       "\n",
       "    .dataframe tbody tr th {\n",
       "        vertical-align: top;\n",
       "    }\n",
       "\n",
       "    .dataframe thead th {\n",
       "        text-align: right;\n",
       "    }\n",
       "</style>\n",
       "<table border=\"1\" class=\"dataframe\">\n",
       "  <thead>\n",
       "    <tr style=\"text-align: right;\">\n",
       "      <th></th>\n",
       "      <th>지번주소</th>\n",
       "      <th>특수지구분명</th>\n",
       "      <th>기준년도</th>\n",
       "      <th>공시지가</th>\n",
       "      <th>표준지여부</th>\n",
       "    </tr>\n",
       "  </thead>\n",
       "  <tbody>\n",
       "    <tr>\n",
       "      <th>0</th>\n",
       "      <td>서울특별시 강남구 개포동 100-0</td>\n",
       "      <td>일반</td>\n",
       "      <td>2020</td>\n",
       "      <td>396000</td>\n",
       "      <td>N</td>\n",
       "    </tr>\n",
       "    <tr>\n",
       "      <th>1</th>\n",
       "      <td>서울특별시 강남구 개포동 101-0</td>\n",
       "      <td>일반</td>\n",
       "      <td>2020</td>\n",
       "      <td>475200</td>\n",
       "      <td>N</td>\n",
       "    </tr>\n",
       "    <tr>\n",
       "      <th>2</th>\n",
       "      <td>서울특별시 강남구 개포동 102-0</td>\n",
       "      <td>일반</td>\n",
       "      <td>2020</td>\n",
       "      <td>475200</td>\n",
       "      <td>N</td>\n",
       "    </tr>\n",
       "    <tr>\n",
       "      <th>3</th>\n",
       "      <td>서울특별시 강남구 개포동 103-0</td>\n",
       "      <td>일반</td>\n",
       "      <td>2020</td>\n",
       "      <td>309700</td>\n",
       "      <td>N</td>\n",
       "    </tr>\n",
       "    <tr>\n",
       "      <th>4</th>\n",
       "      <td>서울특별시 강남구 개포동 104-1</td>\n",
       "      <td>일반</td>\n",
       "      <td>2020</td>\n",
       "      <td>394600</td>\n",
       "      <td>N</td>\n",
       "    </tr>\n",
       "  </tbody>\n",
       "</table>\n",
       "</div>"
      ],
      "text/plain": [
       "                  지번주소 특수지구분명  기준년도    공시지가 표준지여부\n",
       "0  서울특별시 강남구 개포동 100-0     일반  2020  396000     N\n",
       "1  서울특별시 강남구 개포동 101-0     일반  2020  475200     N\n",
       "2  서울특별시 강남구 개포동 102-0     일반  2020  475200     N\n",
       "3  서울특별시 강남구 개포동 103-0     일반  2020  309700     N\n",
       "4  서울특별시 강남구 개포동 104-1     일반  2020  394600     N"
      ]
     },
     "execution_count": 13,
     "metadata": {},
     "output_type": "execute_result"
    }
   ],
   "source": [
    "land_prices_df.head()"
   ]
  },
  {
   "cell_type": "code",
   "execution_count": 14,
   "metadata": {},
   "outputs": [],
   "source": [
    "land_prices_df.to_csv('./공시지가/land_prices_production_ver.csv', index=False)"
   ]
  },
  {
   "cell_type": "code",
   "execution_count": null,
   "metadata": {},
   "outputs": [],
   "source": []
  }
 ],
 "metadata": {
  "kernelspec": {
   "display_name": "Python 3",
   "language": "python",
   "name": "python3"
  },
  "language_info": {
   "codemirror_mode": {
    "name": "ipython",
    "version": 3
   },
   "file_extension": ".py",
   "mimetype": "text/x-python",
   "name": "python",
   "nbconvert_exporter": "python",
   "pygments_lexer": "ipython3",
   "version": "3.7.9"
  }
 },
 "nbformat": 4,
 "nbformat_minor": 4
}
