{
 "cells": [
  {
   "cell_type": "code",
   "execution_count": 1,
   "metadata": {},
   "outputs": [],
   "source": [
    "import multiprocess as mp\n",
    "import numpy as np\n",
    "import pandas as pd\n",
    "import matplotlib.pyplot as plt\n",
    "import os\n",
    "import math\n",
    "from tqdm import tqdm\n",
    "import requests\n",
    "from urllib.parse import urlparse\n",
    "pd.set_option('display.max_rows', 500)\n",
    "pd.set_option('display.max_columns', 500)\n",
    "import datetime\n",
    "from sklearn.preprocessing import quantile_transform\n",
    "pd.options.mode.chained_assignment = None  # default='warn'\n",
    "import gc"
   ]
  },
  {
   "cell_type": "code",
   "execution_count": 2,
   "metadata": {},
   "outputs": [],
   "source": [
    "def bonbubun_allocator(x):\n",
    "    # x is a string\n",
    "    try:\n",
    "        if pd.isna(x) == True:\n",
    "            return x\n",
    "        else:\n",
    "            return str(int(x))\n",
    "    except:\n",
    "        return np.nan"
   ]
  },
  {
   "cell_type": "code",
   "execution_count": 3,
   "metadata": {},
   "outputs": [],
   "source": [
    "def buildinggroup_modifier(x):\n",
    "    # x is a string\n",
    "    \n",
    "    try:\n",
    "        return int(x)\n",
    "    except:\n",
    "        return x"
   ]
  },
  {
   "cell_type": "code",
   "execution_count": 4,
   "metadata": {},
   "outputs": [],
   "source": [
    "def add_0(x):\n",
    "    if pd.isnull(x) == False:\n",
    "        splitted = x.split('-')\n",
    "        if len(splitted) == 1:\n",
    "            return x+'-0'\n",
    "        else:\n",
    "            return x\n",
    "    else:\n",
    "        return x"
   ]
  },
  {
   "cell_type": "code",
   "execution_count": 5,
   "metadata": {},
   "outputs": [
    {
     "data": {
      "text/plain": [
       "['entrc_seoul_202102.txt']"
      ]
     },
     "execution_count": 5,
     "metadata": {},
     "output_type": "execute_result"
    }
   ],
   "source": [
    "basedir = './좌표데이터4/'\n",
    "filenames = [f for f in os.listdir(basedir) if (f.endswith('.txt'))&(f.startswith('entrc_seoul_202102'))]\n",
    "filenames"
   ]
  },
  {
   "cell_type": "code",
   "execution_count": 6,
   "metadata": {},
   "outputs": [
    {
     "name": "stdout",
     "output_type": "stream",
     "text": [
      "(546319, 3)\n"
     ]
    },
    {
     "data": {
      "text/html": [
       "<div>\n",
       "<style scoped>\n",
       "    .dataframe tbody tr th:only-of-type {\n",
       "        vertical-align: middle;\n",
       "    }\n",
       "\n",
       "    .dataframe tbody tr th {\n",
       "        vertical-align: top;\n",
       "    }\n",
       "\n",
       "    .dataframe thead th {\n",
       "        text-align: right;\n",
       "    }\n",
       "</style>\n",
       "<table border=\"1\" class=\"dataframe\">\n",
       "  <thead>\n",
       "    <tr style=\"text-align: right;\">\n",
       "      <th></th>\n",
       "      <th>도로명주소</th>\n",
       "      <th>X좌표</th>\n",
       "      <th>Y좌표</th>\n",
       "    </tr>\n",
       "  </thead>\n",
       "  <tbody>\n",
       "    <tr>\n",
       "      <th>0</th>\n",
       "      <td>서울특별시 종로구 자하문로 94-0</td>\n",
       "      <td>953241.683263</td>\n",
       "      <td>1.954023e+06</td>\n",
       "    </tr>\n",
       "    <tr>\n",
       "      <th>1</th>\n",
       "      <td>서울특별시 종로구 자하문로 96-0</td>\n",
       "      <td>953243.258151</td>\n",
       "      <td>1.954034e+06</td>\n",
       "    </tr>\n",
       "    <tr>\n",
       "      <th>2</th>\n",
       "      <td>서울특별시 종로구 자하문로 98-0</td>\n",
       "      <td>953240.877646</td>\n",
       "      <td>1.954055e+06</td>\n",
       "    </tr>\n",
       "    <tr>\n",
       "      <th>3</th>\n",
       "      <td>서울특별시 종로구 자하문로 99-3</td>\n",
       "      <td>953195.459364</td>\n",
       "      <td>1.954079e+06</td>\n",
       "    </tr>\n",
       "    <tr>\n",
       "      <th>4</th>\n",
       "      <td>서울특별시 종로구 자하문로 99-4</td>\n",
       "      <td>953193.346779</td>\n",
       "      <td>1.954097e+06</td>\n",
       "    </tr>\n",
       "  </tbody>\n",
       "</table>\n",
       "</div>"
      ],
      "text/plain": [
       "                 도로명주소            X좌표           Y좌표\n",
       "0  서울특별시 종로구 자하문로 94-0  953241.683263  1.954023e+06\n",
       "1  서울특별시 종로구 자하문로 96-0  953243.258151  1.954034e+06\n",
       "2  서울특별시 종로구 자하문로 98-0  953240.877646  1.954055e+06\n",
       "3  서울특별시 종로구 자하문로 99-3  953195.459364  1.954079e+06\n",
       "4  서울특별시 종로구 자하문로 99-4  953193.346779  1.954097e+06"
      ]
     },
     "execution_count": 6,
     "metadata": {},
     "output_type": "execute_result"
    }
   ],
   "source": [
    "colnames = ['시군구코드', '출입구일련번호', '법정동코드', '시도명', '시군구명', '읍면동명', '도로명코드', '도로명',\n",
    "            '지하여부', '건물본번', '건물부번', '건물명', '우편번호', '건물용도분류', '건물군여부', '관할행정동',\n",
    "            'X좌표', 'Y좌표'\n",
    "           ]\n",
    "coor_df = pd.read_csv(basedir + filenames[0], sep='|', header=None, names=colnames, encoding='ansi')\n",
    "coor_df['도로명주소'] = coor_df['시도명'] + ' ' + coor_df['시군구명'] + ' ' + coor_df['도로명'] + ' '\\\n",
    "+ coor_df['건물본번'].apply(str) + '-' + coor_df['건물부번'].apply(str)\n",
    "coor_df = coor_df[['도로명주소', 'X좌표', 'Y좌표']].drop_duplicates(subset=['도로명주소'])\n",
    "print(coor_df.shape)\n",
    "coor_df.head()"
   ]
  },
  {
   "cell_type": "code",
   "execution_count": 7,
   "metadata": {},
   "outputs": [],
   "source": [
    "coor_df.to_csv('./prepped_data/coor_data_ver_1.csv', index=False)"
   ]
  },
  {
   "cell_type": "code",
   "execution_count": null,
   "metadata": {},
   "outputs": [],
   "source": []
  },
  {
   "cell_type": "code",
   "execution_count": null,
   "metadata": {},
   "outputs": [],
   "source": []
  },
  {
   "cell_type": "code",
   "execution_count": null,
   "metadata": {},
   "outputs": [],
   "source": []
  },
  {
   "cell_type": "code",
   "execution_count": null,
   "metadata": {},
   "outputs": [],
   "source": []
  },
  {
   "cell_type": "code",
   "execution_count": null,
   "metadata": {},
   "outputs": [],
   "source": []
  },
  {
   "cell_type": "code",
   "execution_count": null,
   "metadata": {},
   "outputs": [],
   "source": []
  },
  {
   "cell_type": "code",
   "execution_count": null,
   "metadata": {},
   "outputs": [],
   "source": []
  },
  {
   "cell_type": "code",
   "execution_count": null,
   "metadata": {},
   "outputs": [],
   "source": []
  },
  {
   "cell_type": "code",
   "execution_count": null,
   "metadata": {},
   "outputs": [],
   "source": []
  },
  {
   "cell_type": "code",
   "execution_count": null,
   "metadata": {},
   "outputs": [],
   "source": []
  },
  {
   "cell_type": "code",
   "execution_count": null,
   "metadata": {},
   "outputs": [],
   "source": []
  },
  {
   "cell_type": "code",
   "execution_count": null,
   "metadata": {},
   "outputs": [],
   "source": []
  },
  {
   "cell_type": "code",
   "execution_count": null,
   "metadata": {},
   "outputs": [],
   "source": []
  },
  {
   "cell_type": "code",
   "execution_count": null,
   "metadata": {},
   "outputs": [],
   "source": []
  },
  {
   "cell_type": "code",
   "execution_count": null,
   "metadata": {},
   "outputs": [],
   "source": []
  },
  {
   "cell_type": "code",
   "execution_count": null,
   "metadata": {},
   "outputs": [],
   "source": []
  }
 ],
 "metadata": {
  "kernelspec": {
   "display_name": "Python 3",
   "language": "python",
   "name": "python3"
  },
  "language_info": {
   "codemirror_mode": {
    "name": "ipython",
    "version": 3
   },
   "file_extension": ".py",
   "mimetype": "text/x-python",
   "name": "python",
   "nbconvert_exporter": "python",
   "pygments_lexer": "ipython3",
   "version": "3.7.9"
  }
 },
 "nbformat": 4,
 "nbformat_minor": 4
}
