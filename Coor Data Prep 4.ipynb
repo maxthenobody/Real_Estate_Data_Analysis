{
 "cells": [
  {
   "cell_type": "code",
   "execution_count": 1,
   "metadata": {},
   "outputs": [],
   "source": [
    "import multiprocess as mp\n",
    "import numpy as np\n",
    "import pandas as pd\n",
    "import matplotlib.pyplot as plt\n",
    "import os\n",
    "import math\n",
    "from tqdm import tqdm\n",
    "import requests\n",
    "from urllib.parse import urlparse\n",
    "pd.set_option('display.max_rows', 500)\n",
    "pd.set_option('display.max_columns', 500)\n",
    "import datetime\n",
    "from sklearn.preprocessing import quantile_transform\n",
    "pd.options.mode.chained_assignment = None  # default='warn'\n",
    "import gc"
   ]
  },
  {
   "cell_type": "code",
   "execution_count": 2,
   "metadata": {},
   "outputs": [],
   "source": [
    "def bonbubun_allocator(x):\n",
    "    # x is a string\n",
    "    try:\n",
    "        if pd.isna(x) == True:\n",
    "            return x\n",
    "        else:\n",
    "            return str(int(x))\n",
    "    except:\n",
    "        return np.nan"
   ]
  },
  {
   "cell_type": "code",
   "execution_count": 3,
   "metadata": {},
   "outputs": [],
   "source": [
    "def buildinggroup_modifier(x):\n",
    "    # x is a string\n",
    "    \n",
    "    try:\n",
    "        return int(x)\n",
    "    except:\n",
    "        return x"
   ]
  },
  {
   "cell_type": "code",
   "execution_count": 4,
   "metadata": {},
   "outputs": [],
   "source": [
    "def add_0(x):\n",
    "    if pd.isnull(x) == False:\n",
    "        splitted = x.split('-')\n",
    "        if len(splitted) == 1:\n",
    "            return x+'-0'\n",
    "        else:\n",
    "            return x\n",
    "    else:\n",
    "        return x"
   ]
  },
  {
   "cell_type": "code",
   "execution_count": 5,
   "metadata": {},
   "outputs": [],
   "source": [
    "def read_coor_data4():\n",
    "    basedir = './좌표데이터4/'\n",
    "    filenames = [f for f in os.listdir(basedir) if (f.endswith('.txt'))&(f.startswith('entrc_seoul'))]\n",
    "    \n",
    "    colnames = ['시군구코드', '출입구일련번호', '법정동코드', '시도명', '시군구명', '읍면동명', '도로명코드', '도로명',\n",
    "                '지하여부', '건물본번', '건물부번', '건물명', '우편번호', '건물용도분류', '건물군여부', '관할행정동',\n",
    "                'X좌표', 'Y좌표'\n",
    "               ]\n",
    "    \n",
    "    dfs_list = []\n",
    "    for file in tqdm(filenames):\n",
    "        try:\n",
    "            df = pd.read_csv(basedir + file, sep='|', header=None, names=colnames, encoding='euc-kr')\n",
    "        except:\n",
    "            try:\n",
    "                df = pd.read_csv(basedir + file, sep='|', header=None, names=colnames, encoding='ansi')\n",
    "            except:\n",
    "                try:\n",
    "                    df = pd.read_csv(basedir + file, sep='|', header=None, names=colnames)\n",
    "                except:\n",
    "                    raise ValueError('myerror')\n",
    "                    \n",
    "                    \n",
    "        dfs_list.append(df)\n",
    "        \n",
    "    concat_df = pd.concat(dfs_list).reset_index(drop=True).drop_duplicates()\n",
    "    \n",
    "    return concat_df"
   ]
  },
  {
   "cell_type": "code",
   "execution_count": 7,
   "metadata": {
    "scrolled": false
   },
   "outputs": [
    {
     "name": "stderr",
     "output_type": "stream",
     "text": [
      "100%|████████████████████████████████████████████████████████████████████████████████████| 3/3 [00:04<00:00,  1.36s/it]\n"
     ]
    },
    {
     "name": "stdout",
     "output_type": "stream",
     "text": [
      "(548456, 19)\n",
      "Wall time: 6.21 s\n"
     ]
    },
    {
     "data": {
      "text/html": [
       "<div>\n",
       "<style scoped>\n",
       "    .dataframe tbody tr th:only-of-type {\n",
       "        vertical-align: middle;\n",
       "    }\n",
       "\n",
       "    .dataframe tbody tr th {\n",
       "        vertical-align: top;\n",
       "    }\n",
       "\n",
       "    .dataframe thead th {\n",
       "        text-align: right;\n",
       "    }\n",
       "</style>\n",
       "<table border=\"1\" class=\"dataframe\">\n",
       "  <thead>\n",
       "    <tr style=\"text-align: right;\">\n",
       "      <th></th>\n",
       "      <th>시군구코드</th>\n",
       "      <th>출입구일련번호</th>\n",
       "      <th>법정동코드</th>\n",
       "      <th>시도명</th>\n",
       "      <th>시군구명</th>\n",
       "      <th>읍면동명</th>\n",
       "      <th>도로명코드</th>\n",
       "      <th>도로명</th>\n",
       "      <th>지하여부</th>\n",
       "      <th>건물본번</th>\n",
       "      <th>건물부번</th>\n",
       "      <th>건물명</th>\n",
       "      <th>우편번호</th>\n",
       "      <th>건물용도분류</th>\n",
       "      <th>건물군여부</th>\n",
       "      <th>관할행정동</th>\n",
       "      <th>X좌표</th>\n",
       "      <th>Y좌표</th>\n",
       "      <th>도로명주소</th>\n",
       "    </tr>\n",
       "  </thead>\n",
       "  <tbody>\n",
       "    <tr>\n",
       "      <th>0</th>\n",
       "      <td>11110</td>\n",
       "      <td>760</td>\n",
       "      <td>1111010100</td>\n",
       "      <td>서울특별시</td>\n",
       "      <td>종로구</td>\n",
       "      <td>청운동</td>\n",
       "      <td>111103100012</td>\n",
       "      <td>자하문로</td>\n",
       "      <td>0</td>\n",
       "      <td>94</td>\n",
       "      <td>0</td>\n",
       "      <td>NaN</td>\n",
       "      <td>3047</td>\n",
       "      <td>근린생활시설</td>\n",
       "      <td>0</td>\n",
       "      <td>청운효자동</td>\n",
       "      <td>953241.683263</td>\n",
       "      <td>1.954023e+06</td>\n",
       "      <td>서울특별시 종로구 자하문로 94-0</td>\n",
       "    </tr>\n",
       "    <tr>\n",
       "      <th>1</th>\n",
       "      <td>11110</td>\n",
       "      <td>4933</td>\n",
       "      <td>1111010100</td>\n",
       "      <td>서울특별시</td>\n",
       "      <td>종로구</td>\n",
       "      <td>청운동</td>\n",
       "      <td>111103100012</td>\n",
       "      <td>자하문로</td>\n",
       "      <td>0</td>\n",
       "      <td>96</td>\n",
       "      <td>0</td>\n",
       "      <td>평안빌</td>\n",
       "      <td>3047</td>\n",
       "      <td>주택</td>\n",
       "      <td>0</td>\n",
       "      <td>청운효자동</td>\n",
       "      <td>953243.258151</td>\n",
       "      <td>1.954034e+06</td>\n",
       "      <td>서울특별시 종로구 자하문로 96-0</td>\n",
       "    </tr>\n",
       "    <tr>\n",
       "      <th>2</th>\n",
       "      <td>11110</td>\n",
       "      <td>287</td>\n",
       "      <td>1111010100</td>\n",
       "      <td>서울특별시</td>\n",
       "      <td>종로구</td>\n",
       "      <td>청운동</td>\n",
       "      <td>111103100012</td>\n",
       "      <td>자하문로</td>\n",
       "      <td>0</td>\n",
       "      <td>98</td>\n",
       "      <td>0</td>\n",
       "      <td>청운빌라</td>\n",
       "      <td>3047</td>\n",
       "      <td>주택</td>\n",
       "      <td>0</td>\n",
       "      <td>청운효자동</td>\n",
       "      <td>953240.877646</td>\n",
       "      <td>1.954055e+06</td>\n",
       "      <td>서울특별시 종로구 자하문로 98-0</td>\n",
       "    </tr>\n",
       "    <tr>\n",
       "      <th>3</th>\n",
       "      <td>11110</td>\n",
       "      <td>1336</td>\n",
       "      <td>1111010100</td>\n",
       "      <td>서울특별시</td>\n",
       "      <td>종로구</td>\n",
       "      <td>청운동</td>\n",
       "      <td>111103100012</td>\n",
       "      <td>자하문로</td>\n",
       "      <td>0</td>\n",
       "      <td>99</td>\n",
       "      <td>3</td>\n",
       "      <td>풍림팍사이드빌라</td>\n",
       "      <td>3032</td>\n",
       "      <td>주택</td>\n",
       "      <td>1</td>\n",
       "      <td>청운효자동</td>\n",
       "      <td>953195.459364</td>\n",
       "      <td>1.954079e+06</td>\n",
       "      <td>서울특별시 종로구 자하문로 99-3</td>\n",
       "    </tr>\n",
       "    <tr>\n",
       "      <th>4</th>\n",
       "      <td>11110</td>\n",
       "      <td>6021</td>\n",
       "      <td>1111010100</td>\n",
       "      <td>서울특별시</td>\n",
       "      <td>종로구</td>\n",
       "      <td>청운동</td>\n",
       "      <td>111103100012</td>\n",
       "      <td>자하문로</td>\n",
       "      <td>0</td>\n",
       "      <td>99</td>\n",
       "      <td>4</td>\n",
       "      <td>경복빌라</td>\n",
       "      <td>3032</td>\n",
       "      <td>주택</td>\n",
       "      <td>1</td>\n",
       "      <td>청운효자동</td>\n",
       "      <td>953193.346779</td>\n",
       "      <td>1.954097e+06</td>\n",
       "      <td>서울특별시 종로구 자하문로 99-4</td>\n",
       "    </tr>\n",
       "  </tbody>\n",
       "</table>\n",
       "</div>"
      ],
      "text/plain": [
       "   시군구코드  출입구일련번호       법정동코드    시도명 시군구명 읍면동명         도로명코드   도로명  지하여부  \\\n",
       "0  11110      760  1111010100  서울특별시  종로구  청운동  111103100012  자하문로     0   \n",
       "1  11110     4933  1111010100  서울특별시  종로구  청운동  111103100012  자하문로     0   \n",
       "2  11110      287  1111010100  서울특별시  종로구  청운동  111103100012  자하문로     0   \n",
       "3  11110     1336  1111010100  서울특별시  종로구  청운동  111103100012  자하문로     0   \n",
       "4  11110     6021  1111010100  서울특별시  종로구  청운동  111103100012  자하문로     0   \n",
       "\n",
       "   건물본번  건물부번       건물명  우편번호  건물용도분류  건물군여부  관할행정동            X좌표  \\\n",
       "0    94     0       NaN  3047  근린생활시설      0  청운효자동  953241.683263   \n",
       "1    96     0       평안빌  3047      주택      0  청운효자동  953243.258151   \n",
       "2    98     0      청운빌라  3047      주택      0  청운효자동  953240.877646   \n",
       "3    99     3  풍림팍사이드빌라  3032      주택      1  청운효자동  953195.459364   \n",
       "4    99     4      경복빌라  3032      주택      1  청운효자동  953193.346779   \n",
       "\n",
       "            Y좌표                도로명주소  \n",
       "0  1.954023e+06  서울특별시 종로구 자하문로 94-0  \n",
       "1  1.954034e+06  서울특별시 종로구 자하문로 96-0  \n",
       "2  1.954055e+06  서울특별시 종로구 자하문로 98-0  \n",
       "3  1.954079e+06  서울특별시 종로구 자하문로 99-3  \n",
       "4  1.954097e+06  서울특별시 종로구 자하문로 99-4  "
      ]
     },
     "execution_count": 7,
     "metadata": {},
     "output_type": "execute_result"
    }
   ],
   "source": [
    "%%time\n",
    "prac_coor_df = read_coor_data4()\n",
    "prac_coor_df['도로명주소'] = prac_coor_df['시도명'] + ' ' + prac_coor_df['시군구명'] + ' ' + prac_coor_df['도로명'] + ' '\\\n",
    "+ prac_coor_df['건물본번'].apply(str) + '-' + prac_coor_df['건물부번'].apply(str)\n",
    "print(prac_coor_df.shape)\n",
    "prac_coor_df.head()"
   ]
  },
  {
   "cell_type": "code",
   "execution_count": null,
   "metadata": {},
   "outputs": [],
   "source": [
    "main_data_df = pd.read_csv('./prepped_data/main_data_baseline_checkpoint_1.csv')\n",
    "print(main_data_df.shape)"
   ]
  },
  {
   "cell_type": "code",
   "execution_count": null,
   "metadata": {},
   "outputs": [],
   "source": [
    "main_data_df['도로명주소'].nunique()"
   ]
  },
  {
   "cell_type": "code",
   "execution_count": null,
   "metadata": {},
   "outputs": [],
   "source": [
    "def roadname_addr_modifier(x):\n",
    "    # x is a string\n",
    "    \n",
    "    if pd.isna(x) == True:\n",
    "        return x\n",
    "    else:\n",
    "        splitted = x.split('-')\n",
    "        if len(splitted) == 1:\n",
    "            return x + '-0'\n",
    "        else:\n",
    "            return x"
   ]
  },
  {
   "cell_type": "code",
   "execution_count": null,
   "metadata": {},
   "outputs": [],
   "source": [
    "main_data_df['도로명주소'] = main_data_df['도로명주소'].apply(roadname_addr_modifier)\n",
    "main_data_df['도로명주소'].unique()[:50]"
   ]
  },
  {
   "cell_type": "code",
   "execution_count": null,
   "metadata": {},
   "outputs": [],
   "source": [
    "coor_df = prac_coor_df[['지번주소', 'X좌표', 'Y좌표']].drop_duplicates()\n",
    "coor_df.shape"
   ]
  },
  {
   "cell_type": "code",
   "execution_count": null,
   "metadata": {},
   "outputs": [],
   "source": [
    "coor_df.rename(columns={'지번주소':'도로명주소'}, inplace=True)"
   ]
  },
  {
   "cell_type": "code",
   "execution_count": null,
   "metadata": {},
   "outputs": [],
   "source": [
    "coor_df.head()"
   ]
  },
  {
   "cell_type": "code",
   "execution_count": null,
   "metadata": {},
   "outputs": [],
   "source": [
    "merge_df = main_data_df.merge(coor_df, on=['도로명주소'])\n",
    "merge_df.shape"
   ]
  },
  {
   "cell_type": "code",
   "execution_count": null,
   "metadata": {},
   "outputs": [],
   "source": [
    "merge_df.head()"
   ]
  },
  {
   "cell_type": "code",
   "execution_count": null,
   "metadata": {},
   "outputs": [],
   "source": [
    "merge_df.drop(columns=['addr_split_len', '대장구분명'], inplace=True)\n",
    "merge_df.head()"
   ]
  },
  {
   "cell_type": "code",
   "execution_count": null,
   "metadata": {},
   "outputs": [],
   "source": [
    "merge_df.drop(columns=['Unnamed: 0'], inplace=True)"
   ]
  },
  {
   "cell_type": "code",
   "execution_count": null,
   "metadata": {},
   "outputs": [],
   "source": [
    "merge_df.head()"
   ]
  },
  {
   "cell_type": "code",
   "execution_count": null,
   "metadata": {},
   "outputs": [],
   "source": [
    "merge_df.to_csv('./prepped_data/main_data_baseline_checkpoint_2.csv', index=False)"
   ]
  },
  {
   "cell_type": "code",
   "execution_count": null,
   "metadata": {},
   "outputs": [],
   "source": []
  },
  {
   "cell_type": "code",
   "execution_count": null,
   "metadata": {},
   "outputs": [],
   "source": []
  },
  {
   "cell_type": "code",
   "execution_count": null,
   "metadata": {},
   "outputs": [],
   "source": []
  },
  {
   "cell_type": "code",
   "execution_count": null,
   "metadata": {},
   "outputs": [],
   "source": []
  },
  {
   "cell_type": "code",
   "execution_count": null,
   "metadata": {},
   "outputs": [],
   "source": []
  },
  {
   "cell_type": "code",
   "execution_count": null,
   "metadata": {},
   "outputs": [],
   "source": []
  },
  {
   "cell_type": "code",
   "execution_count": null,
   "metadata": {},
   "outputs": [],
   "source": []
  },
  {
   "cell_type": "code",
   "execution_count": null,
   "metadata": {},
   "outputs": [],
   "source": []
  },
  {
   "cell_type": "code",
   "execution_count": null,
   "metadata": {},
   "outputs": [],
   "source": []
  },
  {
   "cell_type": "code",
   "execution_count": null,
   "metadata": {},
   "outputs": [],
   "source": []
  },
  {
   "cell_type": "code",
   "execution_count": null,
   "metadata": {},
   "outputs": [],
   "source": []
  },
  {
   "cell_type": "code",
   "execution_count": null,
   "metadata": {},
   "outputs": [],
   "source": []
  },
  {
   "cell_type": "code",
   "execution_count": null,
   "metadata": {},
   "outputs": [],
   "source": []
  },
  {
   "cell_type": "code",
   "execution_count": null,
   "metadata": {},
   "outputs": [],
   "source": []
  },
  {
   "cell_type": "code",
   "execution_count": null,
   "metadata": {},
   "outputs": [],
   "source": []
  },
  {
   "cell_type": "code",
   "execution_count": null,
   "metadata": {},
   "outputs": [],
   "source": []
  },
  {
   "cell_type": "code",
   "execution_count": null,
   "metadata": {},
   "outputs": [],
   "source": []
  }
 ],
 "metadata": {
  "kernelspec": {
   "display_name": "Python 3",
   "language": "python",
   "name": "python3"
  },
  "language_info": {
   "codemirror_mode": {
    "name": "ipython",
    "version": 3
   },
   "file_extension": ".py",
   "mimetype": "text/x-python",
   "name": "python",
   "nbconvert_exporter": "python",
   "pygments_lexer": "ipython3",
   "version": "3.7.9"
  }
 },
 "nbformat": 4,
 "nbformat_minor": 4
}
