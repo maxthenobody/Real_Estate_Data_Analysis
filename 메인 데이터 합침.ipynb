{
 "cells": [
  {
   "cell_type": "code",
   "execution_count": 1,
   "metadata": {},
   "outputs": [],
   "source": [
    "import pandas as pd\n",
    "import numpy as np\n",
    "import os\n",
    "pd.set_option('display.max_rows', 500)\n",
    "pd.set_option('display.max_columns', 500)\n",
    "from tqdm import tqdm\n",
    "import matplotlib.pyplot as plt\n",
    "import seaborn as sns\n",
    "import matplotlib\n",
    "matplotlib.rcParams['axes.unicode_minus'] = False\n",
    "pd.options.mode.chained_assignment = None  # default='warn'\n",
    "plt.rcParams['font.family'] = 'Malgun Gothic'\n",
    "import datetime"
   ]
  },
  {
   "cell_type": "code",
   "execution_count": 2,
   "metadata": {},
   "outputs": [
    {
     "name": "stdout",
     "output_type": "stream",
     "text": [
      "(688816, 12)\n"
     ]
    },
    {
     "data": {
      "text/html": [
       "<div>\n",
       "<style scoped>\n",
       "    .dataframe tbody tr th:only-of-type {\n",
       "        vertical-align: middle;\n",
       "    }\n",
       "\n",
       "    .dataframe tbody tr th {\n",
       "        vertical-align: top;\n",
       "    }\n",
       "\n",
       "    .dataframe thead th {\n",
       "        text-align: right;\n",
       "    }\n",
       "</style>\n",
       "<table border=\"1\" class=\"dataframe\">\n",
       "  <thead>\n",
       "    <tr style=\"text-align: right;\">\n",
       "      <th></th>\n",
       "      <th>지번주소</th>\n",
       "      <th>도로명</th>\n",
       "      <th>건물명</th>\n",
       "      <th>전용면적(㎡)</th>\n",
       "      <th>대지권면적(㎡)</th>\n",
       "      <th>거래금액(만원)</th>\n",
       "      <th>층</th>\n",
       "      <th>건축년도</th>\n",
       "      <th>계약날짜기준_건물연식</th>\n",
       "      <th>계약날짜</th>\n",
       "      <th>해제사유발생일</th>\n",
       "      <th>부동산유형</th>\n",
       "    </tr>\n",
       "  </thead>\n",
       "  <tbody>\n",
       "    <tr>\n",
       "      <th>0</th>\n",
       "      <td>서울특별시 강남구 개포동 1264-3</td>\n",
       "      <td>개포로31길 23-7</td>\n",
       "      <td>(1264-3)</td>\n",
       "      <td>53.28</td>\n",
       "      <td>29.23</td>\n",
       "      <td>11500.0</td>\n",
       "      <td>-1</td>\n",
       "      <td>1992.0</td>\n",
       "      <td>14.0</td>\n",
       "      <td>2006-08-29</td>\n",
       "      <td>NaN</td>\n",
       "      <td>연립다세대</td>\n",
       "    </tr>\n",
       "    <tr>\n",
       "      <th>1</th>\n",
       "      <td>서울특별시 강남구 개포동 171-13</td>\n",
       "      <td>선릉로14길 11</td>\n",
       "      <td>(171-13)</td>\n",
       "      <td>68.08</td>\n",
       "      <td>56.10</td>\n",
       "      <td>56500.0</td>\n",
       "      <td>2</td>\n",
       "      <td>1988.0</td>\n",
       "      <td>18.0</td>\n",
       "      <td>2006-12-20</td>\n",
       "      <td>NaN</td>\n",
       "      <td>연립다세대</td>\n",
       "    </tr>\n",
       "    <tr>\n",
       "      <th>2</th>\n",
       "      <td>서울특별시 강남구 개포동 1239-7</td>\n",
       "      <td>개포로15길 25</td>\n",
       "      <td>강남빌라 가동</td>\n",
       "      <td>52.59</td>\n",
       "      <td>45.00</td>\n",
       "      <td>40500.0</td>\n",
       "      <td>2</td>\n",
       "      <td>1988.0</td>\n",
       "      <td>18.0</td>\n",
       "      <td>2006-12-09</td>\n",
       "      <td>NaN</td>\n",
       "      <td>연립다세대</td>\n",
       "    </tr>\n",
       "    <tr>\n",
       "      <th>3</th>\n",
       "      <td>서울특별시 강남구 개포동 1239-7</td>\n",
       "      <td>개포로15길 25</td>\n",
       "      <td>강남빌라 가동</td>\n",
       "      <td>52.59</td>\n",
       "      <td>45.00</td>\n",
       "      <td>42000.0</td>\n",
       "      <td>1</td>\n",
       "      <td>1988.0</td>\n",
       "      <td>18.0</td>\n",
       "      <td>2006-12-19</td>\n",
       "      <td>NaN</td>\n",
       "      <td>연립다세대</td>\n",
       "    </tr>\n",
       "    <tr>\n",
       "      <th>4</th>\n",
       "      <td>서울특별시 강남구 개포동 1239-6</td>\n",
       "      <td>개포로15길 27</td>\n",
       "      <td>강남빌라 나동</td>\n",
       "      <td>52.75</td>\n",
       "      <td>44.68</td>\n",
       "      <td>22000.0</td>\n",
       "      <td>2</td>\n",
       "      <td>1988.0</td>\n",
       "      <td>18.0</td>\n",
       "      <td>2006-11-02</td>\n",
       "      <td>NaN</td>\n",
       "      <td>연립다세대</td>\n",
       "    </tr>\n",
       "  </tbody>\n",
       "</table>\n",
       "</div>"
      ],
      "text/plain": [
       "                   지번주소          도로명       건물명  전용면적(㎡)  대지권면적(㎡)  거래금액(만원)  \\\n",
       "0  서울특별시 강남구 개포동 1264-3  개포로31길 23-7  (1264-3)    53.28     29.23   11500.0   \n",
       "1  서울특별시 강남구 개포동 171-13    선릉로14길 11  (171-13)    68.08     56.10   56500.0   \n",
       "2  서울특별시 강남구 개포동 1239-7    개포로15길 25   강남빌라 가동    52.59     45.00   40500.0   \n",
       "3  서울특별시 강남구 개포동 1239-7    개포로15길 25   강남빌라 가동    52.59     45.00   42000.0   \n",
       "4  서울특별시 강남구 개포동 1239-6    개포로15길 27   강남빌라 나동    52.75     44.68   22000.0   \n",
       "\n",
       "   층    건축년도  계약날짜기준_건물연식        계약날짜  해제사유발생일  부동산유형  \n",
       "0 -1  1992.0         14.0  2006-08-29      NaN  연립다세대  \n",
       "1  2  1988.0         18.0  2006-12-20      NaN  연립다세대  \n",
       "2  2  1988.0         18.0  2006-12-09      NaN  연립다세대  \n",
       "3  1  1988.0         18.0  2006-12-19      NaN  연립다세대  \n",
       "4  2  1988.0         18.0  2006-11-02      NaN  연립다세대  "
      ]
     },
     "execution_count": 2,
     "metadata": {},
     "output_type": "execute_result"
    }
   ],
   "source": [
    "basedir = './prepped_data/'\n",
    "yunrip_df = pd.read_csv(basedir + '연립다세대_메인_20060101_20210409.csv', index_col=[0])\n",
    "print(yunrip_df.shape)\n",
    "yunrip_df.head()"
   ]
  },
  {
   "cell_type": "code",
   "execution_count": 3,
   "metadata": {},
   "outputs": [
    {
     "name": "stdout",
     "output_type": "stream",
     "text": [
      "(1193184, 11)\n"
     ]
    },
    {
     "name": "stderr",
     "output_type": "stream",
     "text": [
      "c:\\users\\max6296\\ml\\lib\\site-packages\\numpy\\lib\\arraysetops.py:580: FutureWarning: elementwise comparison failed; returning scalar instead, but in the future will perform elementwise comparison\n",
      "  mask |= (ar1 == a)\n"
     ]
    },
    {
     "data": {
      "text/html": [
       "<div>\n",
       "<style scoped>\n",
       "    .dataframe tbody tr th:only-of-type {\n",
       "        vertical-align: middle;\n",
       "    }\n",
       "\n",
       "    .dataframe tbody tr th {\n",
       "        vertical-align: top;\n",
       "    }\n",
       "\n",
       "    .dataframe thead th {\n",
       "        text-align: right;\n",
       "    }\n",
       "</style>\n",
       "<table border=\"1\" class=\"dataframe\">\n",
       "  <thead>\n",
       "    <tr style=\"text-align: right;\">\n",
       "      <th></th>\n",
       "      <th>지번주소</th>\n",
       "      <th>도로명</th>\n",
       "      <th>단지명</th>\n",
       "      <th>전용면적(㎡)</th>\n",
       "      <th>거래금액(만원)</th>\n",
       "      <th>층</th>\n",
       "      <th>건축년도</th>\n",
       "      <th>계약날짜기준_건물연식</th>\n",
       "      <th>계약날짜</th>\n",
       "      <th>해제사유발생일</th>\n",
       "      <th>부동산유형</th>\n",
       "    </tr>\n",
       "  </thead>\n",
       "  <tbody>\n",
       "    <tr>\n",
       "      <th>0</th>\n",
       "      <td>서울특별시 강남구 개포동 655-2</td>\n",
       "      <td>언주로 103</td>\n",
       "      <td>개포2차현대아파트(220)</td>\n",
       "      <td>77.75</td>\n",
       "      <td>59500.0</td>\n",
       "      <td>7</td>\n",
       "      <td>1988</td>\n",
       "      <td>18</td>\n",
       "      <td>2006-03-10</td>\n",
       "      <td>NaN</td>\n",
       "      <td>아파트</td>\n",
       "    </tr>\n",
       "    <tr>\n",
       "      <th>1</th>\n",
       "      <td>서울특별시 강남구 개포동 655-2</td>\n",
       "      <td>언주로 103</td>\n",
       "      <td>개포2차현대아파트(220)</td>\n",
       "      <td>77.75</td>\n",
       "      <td>60000.0</td>\n",
       "      <td>6</td>\n",
       "      <td>1988</td>\n",
       "      <td>18</td>\n",
       "      <td>2006-03-29</td>\n",
       "      <td>NaN</td>\n",
       "      <td>아파트</td>\n",
       "    </tr>\n",
       "    <tr>\n",
       "      <th>2</th>\n",
       "      <td>서울특별시 강남구 개포동 655-2</td>\n",
       "      <td>언주로 103</td>\n",
       "      <td>개포2차현대아파트(220)</td>\n",
       "      <td>77.75</td>\n",
       "      <td>67000.0</td>\n",
       "      <td>9</td>\n",
       "      <td>1988</td>\n",
       "      <td>18</td>\n",
       "      <td>2006-04-29</td>\n",
       "      <td>NaN</td>\n",
       "      <td>아파트</td>\n",
       "    </tr>\n",
       "    <tr>\n",
       "      <th>3</th>\n",
       "      <td>서울특별시 강남구 개포동 655-2</td>\n",
       "      <td>언주로 103</td>\n",
       "      <td>개포2차현대아파트(220)</td>\n",
       "      <td>77.75</td>\n",
       "      <td>60000.0</td>\n",
       "      <td>4</td>\n",
       "      <td>1988</td>\n",
       "      <td>18</td>\n",
       "      <td>2006-06-01</td>\n",
       "      <td>NaN</td>\n",
       "      <td>아파트</td>\n",
       "    </tr>\n",
       "    <tr>\n",
       "      <th>4</th>\n",
       "      <td>서울특별시 강남구 개포동 655-2</td>\n",
       "      <td>언주로 103</td>\n",
       "      <td>개포2차현대아파트(220)</td>\n",
       "      <td>77.75</td>\n",
       "      <td>72250.0</td>\n",
       "      <td>5</td>\n",
       "      <td>1988</td>\n",
       "      <td>18</td>\n",
       "      <td>2006-10-20</td>\n",
       "      <td>NaN</td>\n",
       "      <td>아파트</td>\n",
       "    </tr>\n",
       "  </tbody>\n",
       "</table>\n",
       "</div>"
      ],
      "text/plain": [
       "                  지번주소      도로명             단지명  전용면적(㎡)  거래금액(만원)  층  건축년도  \\\n",
       "0  서울특별시 강남구 개포동 655-2  언주로 103  개포2차현대아파트(220)    77.75   59500.0  7  1988   \n",
       "1  서울특별시 강남구 개포동 655-2  언주로 103  개포2차현대아파트(220)    77.75   60000.0  6  1988   \n",
       "2  서울특별시 강남구 개포동 655-2  언주로 103  개포2차현대아파트(220)    77.75   67000.0  9  1988   \n",
       "3  서울특별시 강남구 개포동 655-2  언주로 103  개포2차현대아파트(220)    77.75   60000.0  4  1988   \n",
       "4  서울특별시 강남구 개포동 655-2  언주로 103  개포2차현대아파트(220)    77.75   72250.0  5  1988   \n",
       "\n",
       "   계약날짜기준_건물연식        계약날짜  해제사유발생일 부동산유형  \n",
       "0           18  2006-03-10      NaN   아파트  \n",
       "1           18  2006-03-29      NaN   아파트  \n",
       "2           18  2006-04-29      NaN   아파트  \n",
       "3           18  2006-06-01      NaN   아파트  \n",
       "4           18  2006-10-20      NaN   아파트  "
      ]
     },
     "execution_count": 3,
     "metadata": {},
     "output_type": "execute_result"
    }
   ],
   "source": [
    "apart_df = pd.read_csv(basedir + '아파트_메인_20060101_20210409.csv', index_col=[0])\n",
    "print(apart_df.shape)\n",
    "apart_df.head()"
   ]
  },
  {
   "cell_type": "code",
   "execution_count": 4,
   "metadata": {},
   "outputs": [
    {
     "name": "stdout",
     "output_type": "stream",
     "text": [
      "(178580, 11)\n"
     ]
    },
    {
     "data": {
      "text/html": [
       "<div>\n",
       "<style scoped>\n",
       "    .dataframe tbody tr th:only-of-type {\n",
       "        vertical-align: middle;\n",
       "    }\n",
       "\n",
       "    .dataframe tbody tr th {\n",
       "        vertical-align: top;\n",
       "    }\n",
       "\n",
       "    .dataframe thead th {\n",
       "        text-align: right;\n",
       "    }\n",
       "</style>\n",
       "<table border=\"1\" class=\"dataframe\">\n",
       "  <thead>\n",
       "    <tr style=\"text-align: right;\">\n",
       "      <th></th>\n",
       "      <th>지번주소</th>\n",
       "      <th>도로명</th>\n",
       "      <th>단지명</th>\n",
       "      <th>전용면적(㎡)</th>\n",
       "      <th>거래금액(만원)</th>\n",
       "      <th>층</th>\n",
       "      <th>건축년도</th>\n",
       "      <th>계약날짜기준_건물연식</th>\n",
       "      <th>계약날짜</th>\n",
       "      <th>해제사유발생일</th>\n",
       "      <th>부동산유형</th>\n",
       "    </tr>\n",
       "  </thead>\n",
       "  <tbody>\n",
       "    <tr>\n",
       "      <th>0</th>\n",
       "      <td>서울특별시 강남구 개포동 13-3</td>\n",
       "      <td>개포로 623</td>\n",
       "      <td>대청타워</td>\n",
       "      <td>32.44</td>\n",
       "      <td>6400.0</td>\n",
       "      <td>8</td>\n",
       "      <td>1997.0</td>\n",
       "      <td>9.0</td>\n",
       "      <td>2006-01-10</td>\n",
       "      <td>NaN</td>\n",
       "      <td>오피스텔</td>\n",
       "    </tr>\n",
       "    <tr>\n",
       "      <th>1</th>\n",
       "      <td>서울특별시 강남구 개포동 13-3</td>\n",
       "      <td>개포로 623</td>\n",
       "      <td>대청타워</td>\n",
       "      <td>32.44</td>\n",
       "      <td>7100.0</td>\n",
       "      <td>7</td>\n",
       "      <td>1997.0</td>\n",
       "      <td>9.0</td>\n",
       "      <td>2006-01-10</td>\n",
       "      <td>NaN</td>\n",
       "      <td>오피스텔</td>\n",
       "    </tr>\n",
       "    <tr>\n",
       "      <th>2</th>\n",
       "      <td>서울특별시 강남구 개포동 13-3</td>\n",
       "      <td>개포로 623</td>\n",
       "      <td>대청타워</td>\n",
       "      <td>32.44</td>\n",
       "      <td>7300.0</td>\n",
       "      <td>11</td>\n",
       "      <td>1997.0</td>\n",
       "      <td>9.0</td>\n",
       "      <td>2006-01-11</td>\n",
       "      <td>NaN</td>\n",
       "      <td>오피스텔</td>\n",
       "    </tr>\n",
       "    <tr>\n",
       "      <th>3</th>\n",
       "      <td>서울특별시 강남구 개포동 13-3</td>\n",
       "      <td>개포로 623</td>\n",
       "      <td>대청타워</td>\n",
       "      <td>31.91</td>\n",
       "      <td>7500.0</td>\n",
       "      <td>10</td>\n",
       "      <td>1997.0</td>\n",
       "      <td>9.0</td>\n",
       "      <td>2006-01-18</td>\n",
       "      <td>NaN</td>\n",
       "      <td>오피스텔</td>\n",
       "    </tr>\n",
       "    <tr>\n",
       "      <th>4</th>\n",
       "      <td>서울특별시 강남구 개포동 13-3</td>\n",
       "      <td>개포로 623</td>\n",
       "      <td>대청타워</td>\n",
       "      <td>32.44</td>\n",
       "      <td>7400.0</td>\n",
       "      <td>15</td>\n",
       "      <td>1997.0</td>\n",
       "      <td>9.0</td>\n",
       "      <td>2006-01-19</td>\n",
       "      <td>NaN</td>\n",
       "      <td>오피스텔</td>\n",
       "    </tr>\n",
       "  </tbody>\n",
       "</table>\n",
       "</div>"
      ],
      "text/plain": [
       "                 지번주소      도로명   단지명  전용면적(㎡)  거래금액(만원)   층    건축년도  \\\n",
       "0  서울특별시 강남구 개포동 13-3  개포로 623  대청타워    32.44    6400.0   8  1997.0   \n",
       "1  서울특별시 강남구 개포동 13-3  개포로 623  대청타워    32.44    7100.0   7  1997.0   \n",
       "2  서울특별시 강남구 개포동 13-3  개포로 623  대청타워    32.44    7300.0  11  1997.0   \n",
       "3  서울특별시 강남구 개포동 13-3  개포로 623  대청타워    31.91    7500.0  10  1997.0   \n",
       "4  서울특별시 강남구 개포동 13-3  개포로 623  대청타워    32.44    7400.0  15  1997.0   \n",
       "\n",
       "   계약날짜기준_건물연식        계약날짜  해제사유발생일 부동산유형  \n",
       "0          9.0  2006-01-10      NaN  오피스텔  \n",
       "1          9.0  2006-01-10      NaN  오피스텔  \n",
       "2          9.0  2006-01-11      NaN  오피스텔  \n",
       "3          9.0  2006-01-18      NaN  오피스텔  \n",
       "4          9.0  2006-01-19      NaN  오피스텔  "
      ]
     },
     "execution_count": 4,
     "metadata": {},
     "output_type": "execute_result"
    }
   ],
   "source": [
    "officetel_df = pd.read_csv(basedir + '오피스텔_메인_20060101_20210409.csv', index_col=[0])\n",
    "print(officetel_df.shape)\n",
    "officetel_df.head()"
   ]
  },
  {
   "cell_type": "code",
   "execution_count": 5,
   "metadata": {},
   "outputs": [],
   "source": [
    "yunrip_df.drop(columns=['대지권면적(㎡)'], inplace=True)"
   ]
  },
  {
   "cell_type": "code",
   "execution_count": 6,
   "metadata": {},
   "outputs": [],
   "source": [
    "yunrip_df.rename(columns={'건물명':'건물(단지)명'}, inplace=True)\n",
    "apart_df.rename(columns={'단지명':'건물(단지)명'}, inplace=True)\n",
    "officetel_df.rename(columns={'단지명':'건물(단지)명'}, inplace=True)"
   ]
  },
  {
   "cell_type": "code",
   "execution_count": 7,
   "metadata": {},
   "outputs": [
    {
     "name": "stdout",
     "output_type": "stream",
     "text": [
      "[ True  True  True  True  True  True  True  True  True  True  True]\n"
     ]
    }
   ],
   "source": [
    "print(apart_df.columns == yunrip_df.columns)"
   ]
  },
  {
   "cell_type": "code",
   "execution_count": 8,
   "metadata": {},
   "outputs": [
    {
     "name": "stdout",
     "output_type": "stream",
     "text": [
      "[ True  True  True  True  True  True  True  True  True  True  True]\n"
     ]
    }
   ],
   "source": [
    "print(officetel_df.columns == yunrip_df.columns)"
   ]
  },
  {
   "cell_type": "code",
   "execution_count": 9,
   "metadata": {},
   "outputs": [
    {
     "name": "stdout",
     "output_type": "stream",
     "text": [
      "(2060580, 11)\n"
     ]
    },
    {
     "data": {
      "text/html": [
       "<div>\n",
       "<style scoped>\n",
       "    .dataframe tbody tr th:only-of-type {\n",
       "        vertical-align: middle;\n",
       "    }\n",
       "\n",
       "    .dataframe tbody tr th {\n",
       "        vertical-align: top;\n",
       "    }\n",
       "\n",
       "    .dataframe thead th {\n",
       "        text-align: right;\n",
       "    }\n",
       "</style>\n",
       "<table border=\"1\" class=\"dataframe\">\n",
       "  <thead>\n",
       "    <tr style=\"text-align: right;\">\n",
       "      <th></th>\n",
       "      <th>지번주소</th>\n",
       "      <th>도로명</th>\n",
       "      <th>건물(단지)명</th>\n",
       "      <th>전용면적(㎡)</th>\n",
       "      <th>거래금액(만원)</th>\n",
       "      <th>층</th>\n",
       "      <th>건축년도</th>\n",
       "      <th>계약날짜기준_건물연식</th>\n",
       "      <th>계약날짜</th>\n",
       "      <th>해제사유발생일</th>\n",
       "      <th>부동산유형</th>\n",
       "    </tr>\n",
       "  </thead>\n",
       "  <tbody>\n",
       "    <tr>\n",
       "      <th>0</th>\n",
       "      <td>서울특별시 강남구 개포동 1264-3</td>\n",
       "      <td>개포로31길 23-7</td>\n",
       "      <td>(1264-3)</td>\n",
       "      <td>53.28</td>\n",
       "      <td>11500.0</td>\n",
       "      <td>-1</td>\n",
       "      <td>1992.0</td>\n",
       "      <td>14.0</td>\n",
       "      <td>2006-08-29</td>\n",
       "      <td>NaN</td>\n",
       "      <td>연립다세대</td>\n",
       "    </tr>\n",
       "    <tr>\n",
       "      <th>1</th>\n",
       "      <td>서울특별시 강남구 개포동 171-13</td>\n",
       "      <td>선릉로14길 11</td>\n",
       "      <td>(171-13)</td>\n",
       "      <td>68.08</td>\n",
       "      <td>56500.0</td>\n",
       "      <td>2</td>\n",
       "      <td>1988.0</td>\n",
       "      <td>18.0</td>\n",
       "      <td>2006-12-20</td>\n",
       "      <td>NaN</td>\n",
       "      <td>연립다세대</td>\n",
       "    </tr>\n",
       "    <tr>\n",
       "      <th>2</th>\n",
       "      <td>서울특별시 강남구 개포동 1239-7</td>\n",
       "      <td>개포로15길 25</td>\n",
       "      <td>강남빌라 가동</td>\n",
       "      <td>52.59</td>\n",
       "      <td>40500.0</td>\n",
       "      <td>2</td>\n",
       "      <td>1988.0</td>\n",
       "      <td>18.0</td>\n",
       "      <td>2006-12-09</td>\n",
       "      <td>NaN</td>\n",
       "      <td>연립다세대</td>\n",
       "    </tr>\n",
       "    <tr>\n",
       "      <th>3</th>\n",
       "      <td>서울특별시 강남구 개포동 1239-7</td>\n",
       "      <td>개포로15길 25</td>\n",
       "      <td>강남빌라 가동</td>\n",
       "      <td>52.59</td>\n",
       "      <td>42000.0</td>\n",
       "      <td>1</td>\n",
       "      <td>1988.0</td>\n",
       "      <td>18.0</td>\n",
       "      <td>2006-12-19</td>\n",
       "      <td>NaN</td>\n",
       "      <td>연립다세대</td>\n",
       "    </tr>\n",
       "    <tr>\n",
       "      <th>4</th>\n",
       "      <td>서울특별시 강남구 개포동 1239-6</td>\n",
       "      <td>개포로15길 27</td>\n",
       "      <td>강남빌라 나동</td>\n",
       "      <td>52.75</td>\n",
       "      <td>22000.0</td>\n",
       "      <td>2</td>\n",
       "      <td>1988.0</td>\n",
       "      <td>18.0</td>\n",
       "      <td>2006-11-02</td>\n",
       "      <td>NaN</td>\n",
       "      <td>연립다세대</td>\n",
       "    </tr>\n",
       "  </tbody>\n",
       "</table>\n",
       "</div>"
      ],
      "text/plain": [
       "                   지번주소          도로명   건물(단지)명  전용면적(㎡)  거래금액(만원)  층    건축년도  \\\n",
       "0  서울특별시 강남구 개포동 1264-3  개포로31길 23-7  (1264-3)    53.28   11500.0 -1  1992.0   \n",
       "1  서울특별시 강남구 개포동 171-13    선릉로14길 11  (171-13)    68.08   56500.0  2  1988.0   \n",
       "2  서울특별시 강남구 개포동 1239-7    개포로15길 25   강남빌라 가동    52.59   40500.0  2  1988.0   \n",
       "3  서울특별시 강남구 개포동 1239-7    개포로15길 25   강남빌라 가동    52.59   42000.0  1  1988.0   \n",
       "4  서울특별시 강남구 개포동 1239-6    개포로15길 27   강남빌라 나동    52.75   22000.0  2  1988.0   \n",
       "\n",
       "   계약날짜기준_건물연식        계약날짜  해제사유발생일  부동산유형  \n",
       "0         14.0  2006-08-29      NaN  연립다세대  \n",
       "1         18.0  2006-12-20      NaN  연립다세대  \n",
       "2         18.0  2006-12-09      NaN  연립다세대  \n",
       "3         18.0  2006-12-19      NaN  연립다세대  \n",
       "4         18.0  2006-11-02      NaN  연립다세대  "
      ]
     },
     "execution_count": 9,
     "metadata": {},
     "output_type": "execute_result"
    }
   ],
   "source": [
    "concat_df = pd.concat([yunrip_df, apart_df, officetel_df]).reset_index(drop=True)\n",
    "print(concat_df.shape)\n",
    "concat_df.head()"
   ]
  },
  {
   "cell_type": "code",
   "execution_count": 10,
   "metadata": {},
   "outputs": [
    {
     "data": {
      "text/plain": [
       "array(['개포로31길 23-7', '선릉로14길 11', '개포로15길 25', '개포로15길 27', '논현로6길 36-8',\n",
       "       '개포로20길 35', '개포로25길 27', '개포로22길 41-6', '논현로18길 10-13',\n",
       "       '개포로25길 17-4', '논현로6길 10-12', '개포로25길 21-7', '개포로31길 9-6',\n",
       "       '논현로20길 4-27', '논현로2길 59', '논현로6길 18-10', '개포로30길 22', '개포로20길 21',\n",
       "       '개포로20길 39', '개포로20길 43', '개포로21길 25', '개포로31길 16', '논현로2길 9',\n",
       "       '논현로8길 66-9', '개포로31길 13', '논현로8길 39', '논현로8길 29', '논현로6길 36-9',\n",
       "       '논현로8길 18', '논현로18길 18-21', '개포로22길 45-15', '논현로8길 32-16',\n",
       "       '개포로15길 30', '개포로22길 50', '개포로31길 9-4', '개포로35길 9', '개포로32길 21',\n",
       "       '개포로31길 9-13', '개포로20길 57', '논현로16길 14-12', '논현로16길 10-13',\n",
       "       '논현로12길 9-13', '개포로34길 18', '개포로17길 12', '개포로15길 28-4',\n",
       "       '개포로22길 42', '개포로32길 10', '개포로31길 29-3', '논현로2길 63', '개포로35길 7',\n",
       "       '논현로2길 35', '개포로24길 23', '선릉로12길 22', '선릉로10길 22-5', '논현로2길 15',\n",
       "       '개포로22길 49-11', '논현로16길 20-9', '논현로16길 20-7', '개포로25길 28',\n",
       "       '개포로28길 24-5', '논현로8길 54-6', '논현로8길 58-5', '개포로26길 9', '논현로2길 45',\n",
       "       '논현로2길 43', '개포로30길 24', '논현로8길 62-5', '개포로35길 15', '개포로25길 13-10',\n",
       "       '논현로8길 54-7', '개포로36길 18', '개포로31길 15-10', '논현로20길 4-19',\n",
       "       '개포로28길 36', '개포로31길 29', '논현로2길 21', '개포로25길 3-10', '개포로25길 3-12',\n",
       "       '개포로25길 3-8', '개포로32길 15', '개포로32길 13', '개포로34길 12', '개포로34길 14',\n",
       "       '개포로26길 25', '논현로8길 46-8', '개포로22길 45-10', '개포로15길 11',\n",
       "       '논현로18길 18-11', '개포로20길 37', '개포로32길 16', '개포로17길 9-4',\n",
       "       '선릉로10길 14-4', '논현로16길 10-12', '개포로26길 27', '논현로16길 20-3',\n",
       "       '선릉로8길 21', '선릉로8길 25', '개포로15길 32-3', '논현로12길 10', '개포로36길 15'],\n",
       "      dtype=object)"
      ]
     },
     "execution_count": 10,
     "metadata": {},
     "output_type": "execute_result"
    }
   ],
   "source": [
    "concat_df['도로명'].unique()[:100]"
   ]
  },
  {
   "cell_type": "code",
   "execution_count": 11,
   "metadata": {},
   "outputs": [
    {
     "data": {
      "text/plain": [
       "(0, 11)"
      ]
     },
     "execution_count": 11,
     "metadata": {},
     "output_type": "execute_result"
    }
   ],
   "source": [
    "(concat_df[concat_df['도로명'].str.endswith('외')].shape)"
   ]
  },
  {
   "cell_type": "code",
   "execution_count": 12,
   "metadata": {},
   "outputs": [],
   "source": [
    "def landnum_modifier(x):\n",
    "    # x is a string\n",
    "    \n",
    "    if pd.isna(x) == True:\n",
    "        return x\n",
    "    else:\n",
    "        x = str(x)        \n",
    "        splitted = x.split('-')\n",
    "        if len(splitted) == 1:\n",
    "            return x + '-0'\n",
    "        else:\n",
    "            return x"
   ]
  },
  {
   "cell_type": "code",
   "execution_count": 13,
   "metadata": {},
   "outputs": [],
   "source": [
    "concat_df['도로명'] = concat_df['도로명'].apply(landnum_modifier)"
   ]
  },
  {
   "cell_type": "code",
   "execution_count": 14,
   "metadata": {},
   "outputs": [
    {
     "data": {
      "text/plain": [
       "array(['개포로31길 23-7', '선릉로14길 11-0', '개포로15길 25-0', '개포로15길 27-0',\n",
       "       '논현로6길 36-8', '개포로20길 35-0', '개포로25길 27-0', '개포로22길 41-6',\n",
       "       '논현로18길 10-13', '개포로25길 17-4', '논현로6길 10-12', '개포로25길 21-7',\n",
       "       '개포로31길 9-6', '논현로20길 4-27', '논현로2길 59-0', '논현로6길 18-10',\n",
       "       '개포로30길 22-0', '개포로20길 21-0', '개포로20길 39-0', '개포로20길 43-0',\n",
       "       '개포로21길 25-0', '개포로31길 16-0', '논현로2길 9-0', '논현로8길 66-9',\n",
       "       '개포로31길 13-0', '논현로8길 39-0', '논현로8길 29-0', '논현로6길 36-9',\n",
       "       '논현로8길 18-0', '논현로18길 18-21', '개포로22길 45-15', '논현로8길 32-16',\n",
       "       '개포로15길 30-0', '개포로22길 50-0', '개포로31길 9-4', '개포로35길 9-0',\n",
       "       '개포로32길 21-0', '개포로31길 9-13', '개포로20길 57-0', '논현로16길 14-12',\n",
       "       '논현로16길 10-13', '논현로12길 9-13', '개포로34길 18-0', '개포로17길 12-0',\n",
       "       '개포로15길 28-4', '개포로22길 42-0', '개포로32길 10-0', '개포로31길 29-3',\n",
       "       '논현로2길 63-0', '개포로35길 7-0', '논현로2길 35-0', '개포로24길 23-0',\n",
       "       '선릉로12길 22-0', '선릉로10길 22-5', '논현로2길 15-0', '개포로22길 49-11',\n",
       "       '논현로16길 20-9', '논현로16길 20-7', '개포로25길 28-0', '개포로28길 24-5',\n",
       "       '논현로8길 54-6', '논현로8길 58-5', '개포로26길 9-0', '논현로2길 45-0',\n",
       "       '논현로2길 43-0', '개포로30길 24-0', '논현로8길 62-5', '개포로35길 15-0',\n",
       "       '개포로25길 13-10', '논현로8길 54-7', '개포로36길 18-0', '개포로31길 15-10',\n",
       "       '논현로20길 4-19', '개포로28길 36-0', '개포로31길 29-0', '논현로2길 21-0',\n",
       "       '개포로25길 3-10', '개포로25길 3-12', '개포로25길 3-8', '개포로32길 15-0',\n",
       "       '개포로32길 13-0', '개포로34길 12-0', '개포로34길 14-0', '개포로26길 25-0',\n",
       "       '논현로8길 46-8', '개포로22길 45-10', '개포로15길 11-0', '논현로18길 18-11',\n",
       "       '개포로20길 37-0', '개포로32길 16-0', '개포로17길 9-4', '선릉로10길 14-4',\n",
       "       '논현로16길 10-12', '개포로26길 27-0', '논현로16길 20-3', '선릉로8길 21-0',\n",
       "       '선릉로8길 25-0', '개포로15길 32-3', '논현로12길 10-0', '개포로36길 15-0'],\n",
       "      dtype=object)"
      ]
     },
     "execution_count": 14,
     "metadata": {},
     "output_type": "execute_result"
    }
   ],
   "source": [
    "concat_df['도로명'].unique()[:100]"
   ]
  },
  {
   "cell_type": "code",
   "execution_count": 15,
   "metadata": {},
   "outputs": [
    {
     "name": "stdout",
     "output_type": "stream",
     "text": [
      "Wall time: 6.67 s\n"
     ]
    }
   ],
   "source": [
    "%%time\n",
    "concat_df.to_csv(basedir + '메인_데이터_20060101_20210409.csv', index=False)"
   ]
  },
  {
   "cell_type": "code",
   "execution_count": null,
   "metadata": {},
   "outputs": [],
   "source": []
  },
  {
   "cell_type": "code",
   "execution_count": null,
   "metadata": {},
   "outputs": [],
   "source": []
  }
 ],
 "metadata": {
  "kernelspec": {
   "display_name": "Python 3",
   "language": "python",
   "name": "python3"
  },
  "language_info": {
   "codemirror_mode": {
    "name": "ipython",
    "version": 3
   },
   "file_extension": ".py",
   "mimetype": "text/x-python",
   "name": "python",
   "nbconvert_exporter": "python",
   "pygments_lexer": "ipython3",
   "version": "3.7.9"
  }
 },
 "nbformat": 4,
 "nbformat_minor": 4
}
