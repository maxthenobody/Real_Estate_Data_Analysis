{
 "cells": [
  {
   "cell_type": "code",
   "execution_count": 1,
   "metadata": {},
   "outputs": [],
   "source": [
    "import pandas as pd\n",
    "pd.set_option('display.max_rows', 500)\n",
    "pd.set_option('display.max_columns', 500)\n",
    "import numpy as np\n",
    "import os\n",
    "import pptk"
   ]
  },
  {
   "cell_type": "code",
   "execution_count": 2,
   "metadata": {},
   "outputs": [],
   "source": [
    "merge_df = pd.read_csv('./prepped_data/addr_coor_df_20210917.csv')"
   ]
  },
  {
   "cell_type": "code",
   "execution_count": 3,
   "metadata": {},
   "outputs": [
    {
     "name": "stdout",
     "output_type": "stream",
     "text": [
      "(560373, 21)\n"
     ]
    },
    {
     "data": {
      "text/html": [
       "<div>\n",
       "<style scoped>\n",
       "    .dataframe tbody tr th:only-of-type {\n",
       "        vertical-align: middle;\n",
       "    }\n",
       "\n",
       "    .dataframe tbody tr th {\n",
       "        vertical-align: top;\n",
       "    }\n",
       "\n",
       "    .dataframe thead th {\n",
       "        text-align: right;\n",
       "    }\n",
       "</style>\n",
       "<table border=\"1\" class=\"dataframe\">\n",
       "  <thead>\n",
       "    <tr style=\"text-align: right;\">\n",
       "      <th></th>\n",
       "      <th>지번</th>\n",
       "      <th>기준연도</th>\n",
       "      <th>기준월</th>\n",
       "      <th>지목명</th>\n",
       "      <th>토지면적</th>\n",
       "      <th>용도지역명1</th>\n",
       "      <th>용도지역명2</th>\n",
       "      <th>토지이동상황</th>\n",
       "      <th>지형높이</th>\n",
       "      <th>지형형상</th>\n",
       "      <th>도로접면</th>\n",
       "      <th>공시지가</th>\n",
       "      <th>데이터기준일자</th>\n",
       "      <th>지번주소</th>\n",
       "      <th>산여부</th>\n",
       "      <th>도로명코드</th>\n",
       "      <th>지하여부</th>\n",
       "      <th>건물본번</th>\n",
       "      <th>건물부번</th>\n",
       "      <th>X좌표</th>\n",
       "      <th>Y좌표</th>\n",
       "    </tr>\n",
       "  </thead>\n",
       "  <tbody>\n",
       "    <tr>\n",
       "      <th>0</th>\n",
       "      <td>144-1</td>\n",
       "      <td>2021</td>\n",
       "      <td>1</td>\n",
       "      <td>임야</td>\n",
       "      <td>14182.0</td>\n",
       "      <td>자연녹지지역</td>\n",
       "      <td>제2종일반주거지역</td>\n",
       "      <td>자연림</td>\n",
       "      <td>완경사</td>\n",
       "      <td>삼각형</td>\n",
       "      <td>세로한면(가)</td>\n",
       "      <td>345300</td>\n",
       "      <td>2021-07-29</td>\n",
       "      <td>서울특별시 강남구 개포동 산 144-1</td>\n",
       "      <td>산</td>\n",
       "      <td>116802000006</td>\n",
       "      <td>0</td>\n",
       "      <td>478</td>\n",
       "      <td>0</td>\n",
       "      <td>961530.411035</td>\n",
       "      <td>1.942261e+06</td>\n",
       "    </tr>\n",
       "    <tr>\n",
       "      <th>1</th>\n",
       "      <td>146-1</td>\n",
       "      <td>2021</td>\n",
       "      <td>1</td>\n",
       "      <td>임야</td>\n",
       "      <td>11207.0</td>\n",
       "      <td>자연녹지지역</td>\n",
       "      <td>제2종일반주거지역</td>\n",
       "      <td>자연림</td>\n",
       "      <td>완경사</td>\n",
       "      <td>삼각형</td>\n",
       "      <td>맹지</td>\n",
       "      <td>365300</td>\n",
       "      <td>2021-07-29</td>\n",
       "      <td>서울특별시 강남구 개포동 산 146-1</td>\n",
       "      <td>산</td>\n",
       "      <td>116802000006</td>\n",
       "      <td>0</td>\n",
       "      <td>478</td>\n",
       "      <td>0</td>\n",
       "      <td>961530.411035</td>\n",
       "      <td>1.942261e+06</td>\n",
       "    </tr>\n",
       "    <tr>\n",
       "      <th>2</th>\n",
       "      <td>147-3</td>\n",
       "      <td>2021</td>\n",
       "      <td>1</td>\n",
       "      <td>임야</td>\n",
       "      <td>298.0</td>\n",
       "      <td>제2종일반주거지역</td>\n",
       "      <td>지정되지않음</td>\n",
       "      <td>자연림</td>\n",
       "      <td>완경사</td>\n",
       "      <td>삼각형</td>\n",
       "      <td>맹지</td>\n",
       "      <td>1219000</td>\n",
       "      <td>2021-07-29</td>\n",
       "      <td>서울특별시 강남구 개포동 산 147-3</td>\n",
       "      <td>산</td>\n",
       "      <td>116802000006</td>\n",
       "      <td>0</td>\n",
       "      <td>478</td>\n",
       "      <td>0</td>\n",
       "      <td>961530.411035</td>\n",
       "      <td>1.942261e+06</td>\n",
       "    </tr>\n",
       "    <tr>\n",
       "      <th>3</th>\n",
       "      <td>149-1</td>\n",
       "      <td>2021</td>\n",
       "      <td>1</td>\n",
       "      <td>임야</td>\n",
       "      <td>20896.0</td>\n",
       "      <td>자연녹지지역</td>\n",
       "      <td>제2종일반주거지역</td>\n",
       "      <td>자연림</td>\n",
       "      <td>완경사</td>\n",
       "      <td>삼각형</td>\n",
       "      <td>맹지</td>\n",
       "      <td>215000</td>\n",
       "      <td>2021-07-29</td>\n",
       "      <td>서울특별시 강남구 개포동 산 149-1</td>\n",
       "      <td>산</td>\n",
       "      <td>116802000006</td>\n",
       "      <td>0</td>\n",
       "      <td>478</td>\n",
       "      <td>0</td>\n",
       "      <td>961530.411035</td>\n",
       "      <td>1.942261e+06</td>\n",
       "    </tr>\n",
       "    <tr>\n",
       "      <th>4</th>\n",
       "      <td>152-1</td>\n",
       "      <td>2021</td>\n",
       "      <td>1</td>\n",
       "      <td>임야</td>\n",
       "      <td>992.0</td>\n",
       "      <td>자연녹지지역</td>\n",
       "      <td>제2종일반주거지역</td>\n",
       "      <td>자연림</td>\n",
       "      <td>완경사</td>\n",
       "      <td>삼각형</td>\n",
       "      <td>세로한면(불)</td>\n",
       "      <td>862900</td>\n",
       "      <td>2021-07-29</td>\n",
       "      <td>서울특별시 강남구 개포동 산 152-1</td>\n",
       "      <td>산</td>\n",
       "      <td>116802000006</td>\n",
       "      <td>0</td>\n",
       "      <td>478</td>\n",
       "      <td>0</td>\n",
       "      <td>961530.411035</td>\n",
       "      <td>1.942261e+06</td>\n",
       "    </tr>\n",
       "  </tbody>\n",
       "</table>\n",
       "</div>"
      ],
      "text/plain": [
       "      지번  기준연도  기준월 지목명     토지면적     용도지역명1     용도지역명2 토지이동상황 지형높이 지형형상  \\\n",
       "0  144-1  2021    1  임야  14182.0     자연녹지지역  제2종일반주거지역    자연림  완경사  삼각형   \n",
       "1  146-1  2021    1  임야  11207.0     자연녹지지역  제2종일반주거지역    자연림  완경사  삼각형   \n",
       "2  147-3  2021    1  임야    298.0  제2종일반주거지역     지정되지않음    자연림  완경사  삼각형   \n",
       "3  149-1  2021    1  임야  20896.0     자연녹지지역  제2종일반주거지역    자연림  완경사  삼각형   \n",
       "4  152-1  2021    1  임야    992.0     자연녹지지역  제2종일반주거지역    자연림  완경사  삼각형   \n",
       "\n",
       "      도로접면     공시지가     데이터기준일자                   지번주소 산여부         도로명코드  \\\n",
       "0  세로한면(가)   345300  2021-07-29  서울특별시 강남구 개포동 산 144-1   산  116802000006   \n",
       "1       맹지   365300  2021-07-29  서울특별시 강남구 개포동 산 146-1   산  116802000006   \n",
       "2       맹지  1219000  2021-07-29  서울특별시 강남구 개포동 산 147-3   산  116802000006   \n",
       "3       맹지   215000  2021-07-29  서울특별시 강남구 개포동 산 149-1   산  116802000006   \n",
       "4  세로한면(불)   862900  2021-07-29  서울특별시 강남구 개포동 산 152-1   산  116802000006   \n",
       "\n",
       "   지하여부  건물본번  건물부번            X좌표           Y좌표  \n",
       "0     0   478     0  961530.411035  1.942261e+06  \n",
       "1     0   478     0  961530.411035  1.942261e+06  \n",
       "2     0   478     0  961530.411035  1.942261e+06  \n",
       "3     0   478     0  961530.411035  1.942261e+06  \n",
       "4     0   478     0  961530.411035  1.942261e+06  "
      ]
     },
     "execution_count": 3,
     "metadata": {},
     "output_type": "execute_result"
    }
   ],
   "source": [
    "print(merge_df.shape)\n",
    "merge_df.head()"
   ]
  },
  {
   "cell_type": "code",
   "execution_count": 4,
   "metadata": {},
   "outputs": [],
   "source": [
    "#merge_df = merge_df.sample(frac=0.1)"
   ]
  },
  {
   "cell_type": "code",
   "execution_count": 5,
   "metadata": {},
   "outputs": [
    {
     "data": {
      "text/plain": [
       "(560373,)"
      ]
     },
     "execution_count": 5,
     "metadata": {},
     "output_type": "execute_result"
    }
   ],
   "source": [
    "coor_x = merge_df['X좌표'].values\n",
    "coor_x.shape"
   ]
  },
  {
   "cell_type": "code",
   "execution_count": 6,
   "metadata": {},
   "outputs": [
    {
     "data": {
      "text/plain": [
       "(560373,)"
      ]
     },
     "execution_count": 6,
     "metadata": {},
     "output_type": "execute_result"
    }
   ],
   "source": [
    "coor_y = merge_df['Y좌표'].values\n",
    "coor_y.shape"
   ]
  },
  {
   "cell_type": "code",
   "execution_count": 7,
   "metadata": {},
   "outputs": [
    {
     "data": {
      "text/plain": [
       "(560373,)"
      ]
     },
     "execution_count": 7,
     "metadata": {},
     "output_type": "execute_result"
    }
   ],
   "source": [
    "price_z = merge_df['공시지가'].values / 10000\n",
    "price_z.shape"
   ]
  },
  {
   "cell_type": "code",
   "execution_count": 8,
   "metadata": {},
   "outputs": [
    {
     "data": {
      "text/plain": [
       "(560373, 3)"
      ]
     },
     "execution_count": 8,
     "metadata": {},
     "output_type": "execute_result"
    }
   ],
   "source": [
    "xyz_points = np.vstack((coor_x, coor_y, price_z)).transpose()\n",
    "xyz_points.shape"
   ]
  },
  {
   "cell_type": "code",
   "execution_count": 9,
   "metadata": {},
   "outputs": [],
   "source": [
    "v = pptk.viewer(xyz_points)"
   ]
  },
  {
   "cell_type": "code",
   "execution_count": null,
   "metadata": {},
   "outputs": [],
   "source": [
    "xyz_points"
   ]
  },
  {
   "cell_type": "code",
   "execution_count": null,
   "metadata": {},
   "outputs": [],
   "source": []
  },
  {
   "cell_type": "code",
   "execution_count": null,
   "metadata": {},
   "outputs": [],
   "source": []
  },
  {
   "cell_type": "code",
   "execution_count": null,
   "metadata": {},
   "outputs": [],
   "source": []
  },
  {
   "cell_type": "code",
   "execution_count": null,
   "metadata": {},
   "outputs": [],
   "source": []
  },
  {
   "cell_type": "code",
   "execution_count": null,
   "metadata": {},
   "outputs": [],
   "source": [
    "xyz = np.random.rand(1000000,3)"
   ]
  },
  {
   "cell_type": "code",
   "execution_count": null,
   "metadata": {},
   "outputs": [],
   "source": []
  }
 ],
 "metadata": {
  "kernelspec": {
   "display_name": "Python 3",
   "language": "python",
   "name": "python3"
  },
  "language_info": {
   "codemirror_mode": {
    "name": "ipython",
    "version": 3
   },
   "file_extension": ".py",
   "mimetype": "text/x-python",
   "name": "python",
   "nbconvert_exporter": "python",
   "pygments_lexer": "ipython3",
   "version": "3.7.9"
  }
 },
 "nbformat": 4,
 "nbformat_minor": 4
}
