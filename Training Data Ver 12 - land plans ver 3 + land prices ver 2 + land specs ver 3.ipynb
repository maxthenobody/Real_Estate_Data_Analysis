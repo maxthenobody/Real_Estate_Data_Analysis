{
 "cells": [
  {
   "cell_type": "code",
   "execution_count": 1,
   "metadata": {},
   "outputs": [],
   "source": [
    "import multiprocess as mp\n",
    "import numpy as np\n",
    "import pandas as pd\n",
    "import matplotlib.pyplot as plt\n",
    "import os\n",
    "import math\n",
    "from tqdm import tqdm\n",
    "pd.set_option('display.max_rows', 500)\n",
    "pd.set_option('display.max_columns', 500)\n",
    "import datetime\n",
    "from sklearn.preprocessing import quantile_transform\n",
    "pd.options.mode.chained_assignment = None  # default='warn'\n",
    "import gc"
   ]
  },
  {
   "cell_type": "code",
   "execution_count": 2,
   "metadata": {},
   "outputs": [],
   "source": [
    "basedir = './prepped_data/'"
   ]
  },
  {
   "cell_type": "code",
   "execution_count": 3,
   "metadata": {},
   "outputs": [
    {
     "name": "stdout",
     "output_type": "stream",
     "text": [
      "Wall time: 5.9 s\n"
     ]
    },
    {
     "data": {
      "text/plain": [
       "(4441256, 17)"
      ]
     },
     "execution_count": 3,
     "metadata": {},
     "output_type": "execute_result"
    }
   ],
   "source": [
    "%%time\n",
    "main_data_df = pd.read_csv(basedir + 'main_data_baseline_checkpoint_2.csv')\n",
    "main_data_df.shape"
   ]
  },
  {
   "cell_type": "code",
   "execution_count": 4,
   "metadata": {},
   "outputs": [
    {
     "name": "stdout",
     "output_type": "stream",
     "text": [
      "Wall time: 1.07 s\n"
     ]
    },
    {
     "data": {
      "text/plain": [
       "(1594565, 4)"
      ]
     },
     "execution_count": 4,
     "metadata": {},
     "output_type": "execute_result"
    }
   ],
   "source": [
    "%%time\n",
    "land_prices_df = pd.read_csv(basedir + 'land_prices_ver_2.csv')\n",
    "land_prices_df.shape"
   ]
  },
  {
   "cell_type": "code",
   "execution_count": 6,
   "metadata": {},
   "outputs": [
    {
     "name": "stdout",
     "output_type": "stream",
     "text": [
      "Wall time: 3.19 s\n"
     ]
    },
    {
     "data": {
      "text/plain": [
       "(1563645, 11)"
      ]
     },
     "execution_count": 6,
     "metadata": {},
     "output_type": "execute_result"
    }
   ],
   "source": [
    "%%time\n",
    "land_specs_df = pd.read_csv(basedir + 'land_specs_ver_3.csv')\n",
    "land_specs_df.shape"
   ]
  },
  {
   "cell_type": "code",
   "execution_count": 5,
   "metadata": {},
   "outputs": [
    {
     "name": "stderr",
     "output_type": "stream",
     "text": [
      "<string>:2: DtypeWarning: Columns (2,3,4,5,6,7,8,9,10,11,12,13,14,15,16,17,18,19,20,21,22,23,24,25,26,27,28,29,30,31,32,33,34,35,36,37,38,39,40,42,43,44,45,46,47,48,49,50,51,52,53,54,55,56,57,58,59,60,61,62,63,64,65,66,67,68,69,70,71,72,73,74,75,76,77,78,79,80,81,82,83,84,85,86,87,88,89,90,91,92,93,94,95,96,97,98,99,100,101,102,103,104,105,106,107,108,109,110,111,112,113,114,115,116,117,118,119,120,121,122,123,124,125,126,127,128,129,130,131,132,133,134,135,136,137,138,139,140,141,142,143,144,145,146,147,148,149,150,151,152,153,154,155,156,157,158,159,160,161,162,163,164,165,166,167,168,169,170,171,172,173,174,175,176,177,178,179,180,181,182,183,184,185,186,187,188,189,190,191,192,193,194,195,196,197,198,199,200,201,202,203,204,205,206,207,208,209,210,211,212,213,214,215,216,217,218,219,220,221,222,223,224,225,226,227,228,229,230,231,232,233,234,235,236,237,238,239,240,241,242,243,244,245,246,247,248,249,250,251,252,253,254,255,256,257,258,259,260,261,262,263,264,265,266,267,268,269,270,271,272,273,274,275,276,277,278,279,280,281,282,283,284,285,286,287) have mixed types. Specify dtype option on import or set low_memory=False.\n"
     ]
    },
    {
     "name": "stdout",
     "output_type": "stream",
     "text": [
      "Wall time: 49.8 s\n"
     ]
    },
    {
     "data": {
      "text/plain": [
       "(1565190, 288)"
      ]
     },
     "execution_count": 5,
     "metadata": {},
     "output_type": "execute_result"
    }
   ],
   "source": [
    "%%time\n",
    "land_plans_df = pd.read_csv(basedir + 'land_plans_ver_3.csv')\n",
    "land_plans_df.shape"
   ]
  },
  {
   "cell_type": "code",
   "execution_count": 7,
   "metadata": {},
   "outputs": [],
   "source": [
    "land_plans_df.fillna('해당사항없음', inplace=True)"
   ]
  },
  {
   "cell_type": "code",
   "execution_count": 8,
   "metadata": {},
   "outputs": [
    {
     "name": "stdout",
     "output_type": "stream",
     "text": [
      "(4441256, 17)\n",
      "(1594565, 4)\n",
      "(1563645, 11)\n",
      "(1565190, 288)\n"
     ]
    }
   ],
   "source": [
    "dfs_list = [main_data_df, land_prices_df, land_specs_df, land_plans_df]\n",
    "for df in dfs_list:\n",
    "    print(df.shape)"
   ]
  },
  {
   "cell_type": "code",
   "execution_count": 9,
   "metadata": {},
   "outputs": [],
   "source": [
    "main_data_df.rename(columns={'전용면적(㎡)':'전용면적'}, inplace=True)"
   ]
  },
  {
   "cell_type": "code",
   "execution_count": 10,
   "metadata": {},
   "outputs": [
    {
     "name": "stdout",
     "output_type": "stream",
     "text": [
      "Wall time: 3.15 s\n"
     ]
    }
   ],
   "source": [
    "%%time\n",
    "main_data_df['전용면적_mean'] = main_data_df[['지번주소', '건축년도', '전용면적']].groupby(['지번주소', '건축년도']).transform('mean')['전용면적']\n",
    "main_data_df['전용면적_min'] = main_data_df[['지번주소', '건축년도', '전용면적']].groupby(['지번주소', '건축년도']).transform('min')['전용면적']\n",
    "main_data_df['전용면적_max'] = main_data_df[['지번주소', '건축년도', '전용면적']].groupby(['지번주소', '건축년도']).transform('max')['전용면적']"
   ]
  },
  {
   "cell_type": "code",
   "execution_count": 11,
   "metadata": {},
   "outputs": [
    {
     "name": "stdout",
     "output_type": "stream",
     "text": [
      "(3607377, 18)\n"
     ]
    }
   ],
   "source": [
    "main_data_df = main_data_df[(main_data_df['전월세매매구분'] == '매매')|(main_data_df['전월세매매구분'] == '전세')].drop(columns=['월세(만원)', '도로명주소'])\n",
    "print(main_data_df.shape)"
   ]
  },
  {
   "cell_type": "code",
   "execution_count": 12,
   "metadata": {},
   "outputs": [
    {
     "data": {
      "text/plain": [
       "count    3.607377e+06\n",
       "mean     1.393074e+01\n",
       "std      9.846349e+00\n",
       "min     -1.200000e+01\n",
       "25%      6.000000e+00\n",
       "50%      1.300000e+01\n",
       "75%      2.100000e+01\n",
       "max      8.900000e+01\n",
       "Name: 건물나이, dtype: float64"
      ]
     },
     "execution_count": 12,
     "metadata": {},
     "output_type": "execute_result"
    }
   ],
   "source": [
    "main_data_df['건물나이'] = main_data_df['년'] - main_data_df['건축년도']\n",
    "main_data_df['건물나이'].describe()"
   ]
  },
  {
   "cell_type": "code",
   "execution_count": 13,
   "metadata": {},
   "outputs": [],
   "source": [
    "main_data_df.drop(columns=['건축년도'], inplace=True)"
   ]
  },
  {
   "cell_type": "code",
   "execution_count": 14,
   "metadata": {},
   "outputs": [],
   "source": [
    "main_data_df['year_linear'] = (main_data_df['년'] - main_data_df['년'].min()) + ((main_data_df['월']-1)/12)"
   ]
  },
  {
   "cell_type": "code",
   "execution_count": 15,
   "metadata": {},
   "outputs": [],
   "source": [
    "def month_circular_sine_func(x):\n",
    "    return math.sin(2*math.pi*((x-1)/12))\n",
    "\n",
    "def month_circular_cosine_func(x):\n",
    "    return math.cos(2*math.pi*((x-1)/12))"
   ]
  },
  {
   "cell_type": "code",
   "execution_count": 16,
   "metadata": {},
   "outputs": [],
   "source": [
    "main_data_df['month_sin'] = main_data_df['월'].apply(month_circular_sine_func)\n",
    "main_data_df['month_cos'] = main_data_df['월'].apply(month_circular_cosine_func)"
   ]
  },
  {
   "cell_type": "code",
   "execution_count": 17,
   "metadata": {},
   "outputs": [],
   "source": [
    "main_data_df.drop(columns=['월', '계약일'], inplace=True)"
   ]
  },
  {
   "cell_type": "code",
   "execution_count": 18,
   "metadata": {},
   "outputs": [],
   "source": [
    "xmax = main_data_df['X좌표'].max()\n",
    "xmin = main_data_df['X좌표'].min()\n",
    "ymax = main_data_df['Y좌표'].max()\n",
    "ymin = main_data_df['Y좌표'].min()"
   ]
  },
  {
   "cell_type": "code",
   "execution_count": 19,
   "metadata": {},
   "outputs": [
    {
     "data": {
      "text/html": [
       "<div>\n",
       "<style scoped>\n",
       "    .dataframe tbody tr th:only-of-type {\n",
       "        vertical-align: middle;\n",
       "    }\n",
       "\n",
       "    .dataframe tbody tr th {\n",
       "        vertical-align: top;\n",
       "    }\n",
       "\n",
       "    .dataframe thead th {\n",
       "        text-align: right;\n",
       "    }\n",
       "</style>\n",
       "<table border=\"1\" class=\"dataframe\">\n",
       "  <thead>\n",
       "    <tr style=\"text-align: right;\">\n",
       "      <th></th>\n",
       "      <th>xmax</th>\n",
       "      <th>xmin</th>\n",
       "      <th>ymax</th>\n",
       "      <th>ymin</th>\n",
       "    </tr>\n",
       "  </thead>\n",
       "  <tbody>\n",
       "    <tr>\n",
       "      <th>0</th>\n",
       "      <td>971728.508488</td>\n",
       "      <td>938089.149737</td>\n",
       "      <td>1.965830e+06</td>\n",
       "      <td>1.937374e+06</td>\n",
       "    </tr>\n",
       "  </tbody>\n",
       "</table>\n",
       "</div>"
      ],
      "text/plain": [
       "            xmax           xmin          ymax          ymin\n",
       "0  971728.508488  938089.149737  1.965830e+06  1.937374e+06"
      ]
     },
     "execution_count": 19,
     "metadata": {},
     "output_type": "execute_result"
    }
   ],
   "source": [
    "coor_minmax_df = pd.DataFrame({'xmax':xmax, 'xmin':xmin, 'ymax':ymax, 'ymin':ymin}, index=[0])\n",
    "coor_minmax_df.to_csv('./Training/training_data_ver_10/coor_minmax.csv', index=False)\n",
    "coor_minmax_df"
   ]
  },
  {
   "cell_type": "code",
   "execution_count": 20,
   "metadata": {},
   "outputs": [],
   "source": [
    "main_data_df['xnorm'] = (main_data_df['X좌표'] - xmin - ((xmax - xmin)/2)) / 10000\n",
    "main_data_df['ynorm'] = (main_data_df['Y좌표'] - ymin - ((ymax - ymin)/2)) / 10000\n",
    "main_data_df['x_2nd'] = main_data_df['xnorm']**2 / 2\n",
    "main_data_df['y_2nd'] = main_data_df['ynorm']**2 / 2\n",
    "main_data_df['x_sin'] = main_data_df['xnorm'].apply(np.sin)\n",
    "main_data_df['y_sin'] = main_data_df['ynorm'].apply(np.sin)\n",
    "main_data_df['x_cos'] = main_data_df['xnorm'].apply(np.cos)\n",
    "main_data_df['y_cos'] = main_data_df['ynorm'].apply(np.cos)\n",
    "main_data_df['xy'] = main_data_df['xnorm'] * main_data_df['ynorm']"
   ]
  },
  {
   "cell_type": "code",
   "execution_count": 21,
   "metadata": {},
   "outputs": [],
   "source": [
    "main_data_df.drop(columns=['X좌표', 'Y좌표'], inplace=True)"
   ]
  },
  {
   "cell_type": "code",
   "execution_count": 22,
   "metadata": {},
   "outputs": [],
   "source": [
    "main_data_df['trade_type'] = main_data_df['건물종류'] + '_' + main_data_df['전월세매매구분']\n",
    "main_data_df.drop(columns=['건물종류', '전월세매매구분'], inplace=True)"
   ]
  },
  {
   "cell_type": "code",
   "execution_count": 23,
   "metadata": {},
   "outputs": [
    {
     "data": {
      "text/plain": [
       "(3493309, 27)"
      ]
     },
     "execution_count": 23,
     "metadata": {},
     "output_type": "execute_result"
    }
   ],
   "source": [
    "merge1_df = main_data_df.merge(land_prices_df, on=['지번주소', '년'])\n",
    "merge1_df.shape"
   ]
  },
  {
   "cell_type": "code",
   "execution_count": 24,
   "metadata": {},
   "outputs": [],
   "source": [
    "merge1_df['공시지가'] = merge1_df['공시지가'] / 10000\n",
    "merge1_df.rename(columns={'공시지가':'공시지가(만원)'}, inplace=True)"
   ]
  },
  {
   "cell_type": "code",
   "execution_count": 25,
   "metadata": {},
   "outputs": [
    {
     "data": {
      "text/html": [
       "<div>\n",
       "<style scoped>\n",
       "    .dataframe tbody tr th:only-of-type {\n",
       "        vertical-align: middle;\n",
       "    }\n",
       "\n",
       "    .dataframe tbody tr th {\n",
       "        vertical-align: top;\n",
       "    }\n",
       "\n",
       "    .dataframe thead th {\n",
       "        text-align: right;\n",
       "    }\n",
       "</style>\n",
       "<table border=\"1\" class=\"dataframe\">\n",
       "  <thead>\n",
       "    <tr style=\"text-align: right;\">\n",
       "      <th></th>\n",
       "      <th>지번주소</th>\n",
       "      <th>년</th>\n",
       "      <th>지목명</th>\n",
       "      <th>토지면적</th>\n",
       "      <th>용도지역명1</th>\n",
       "      <th>용도지역명2</th>\n",
       "      <th>토지이동상황</th>\n",
       "      <th>지형높이</th>\n",
       "      <th>지형형상</th>\n",
       "      <th>도로접면</th>\n",
       "      <th>공시지가</th>\n",
       "    </tr>\n",
       "  </thead>\n",
       "  <tbody>\n",
       "    <tr>\n",
       "      <th>0</th>\n",
       "      <td>서울특별시 강남구 개포동 1163-4</td>\n",
       "      <td>2006</td>\n",
       "      <td>대</td>\n",
       "      <td>336.1</td>\n",
       "      <td>제3종일반주거지역</td>\n",
       "      <td>지정되지않음</td>\n",
       "      <td>상업나지</td>\n",
       "      <td>평지</td>\n",
       "      <td>세로장방</td>\n",
       "      <td>광대세각</td>\n",
       "      <td>6290000.0</td>\n",
       "    </tr>\n",
       "    <tr>\n",
       "      <th>1</th>\n",
       "      <td>서울특별시 강남구 개포동 1163-4</td>\n",
       "      <td>2007</td>\n",
       "      <td>대</td>\n",
       "      <td>336.1</td>\n",
       "      <td>제3종일반주거지역</td>\n",
       "      <td>지정되지않음</td>\n",
       "      <td>상업나지</td>\n",
       "      <td>평지</td>\n",
       "      <td>세로장방</td>\n",
       "      <td>광대세각</td>\n",
       "      <td>6290000.0</td>\n",
       "    </tr>\n",
       "    <tr>\n",
       "      <th>2</th>\n",
       "      <td>서울특별시 강남구 개포동 1163-4</td>\n",
       "      <td>2008</td>\n",
       "      <td>대</td>\n",
       "      <td>336.1</td>\n",
       "      <td>제3종일반주거지역</td>\n",
       "      <td>지정되지않음</td>\n",
       "      <td>상업나지</td>\n",
       "      <td>평지</td>\n",
       "      <td>세로장방</td>\n",
       "      <td>광대세각</td>\n",
       "      <td>6290000.0</td>\n",
       "    </tr>\n",
       "    <tr>\n",
       "      <th>3</th>\n",
       "      <td>서울특별시 강남구 개포동 1163-4</td>\n",
       "      <td>2009</td>\n",
       "      <td>대</td>\n",
       "      <td>336.1</td>\n",
       "      <td>제3종일반주거지역</td>\n",
       "      <td>지정되지않음</td>\n",
       "      <td>상업나지</td>\n",
       "      <td>평지</td>\n",
       "      <td>세로장방</td>\n",
       "      <td>광대세각</td>\n",
       "      <td>6290000.0</td>\n",
       "    </tr>\n",
       "    <tr>\n",
       "      <th>4</th>\n",
       "      <td>서울특별시 강남구 개포동 1163-4</td>\n",
       "      <td>2010</td>\n",
       "      <td>대</td>\n",
       "      <td>336.1</td>\n",
       "      <td>제3종일반주거지역</td>\n",
       "      <td>지정되지않음</td>\n",
       "      <td>상업나지</td>\n",
       "      <td>평지</td>\n",
       "      <td>세로장방</td>\n",
       "      <td>광대세각</td>\n",
       "      <td>6290000.0</td>\n",
       "    </tr>\n",
       "  </tbody>\n",
       "</table>\n",
       "</div>"
      ],
      "text/plain": [
       "                   지번주소     년 지목명   토지면적     용도지역명1  용도지역명2 토지이동상황 지형높이  지형형상  \\\n",
       "0  서울특별시 강남구 개포동 1163-4  2006   대  336.1  제3종일반주거지역  지정되지않음   상업나지   평지  세로장방   \n",
       "1  서울특별시 강남구 개포동 1163-4  2007   대  336.1  제3종일반주거지역  지정되지않음   상업나지   평지  세로장방   \n",
       "2  서울특별시 강남구 개포동 1163-4  2008   대  336.1  제3종일반주거지역  지정되지않음   상업나지   평지  세로장방   \n",
       "3  서울특별시 강남구 개포동 1163-4  2009   대  336.1  제3종일반주거지역  지정되지않음   상업나지   평지  세로장방   \n",
       "4  서울특별시 강남구 개포동 1163-4  2010   대  336.1  제3종일반주거지역  지정되지않음   상업나지   평지  세로장방   \n",
       "\n",
       "   도로접면       공시지가  \n",
       "0  광대세각  6290000.0  \n",
       "1  광대세각  6290000.0  \n",
       "2  광대세각  6290000.0  \n",
       "3  광대세각  6290000.0  \n",
       "4  광대세각  6290000.0  "
      ]
     },
     "execution_count": 25,
     "metadata": {},
     "output_type": "execute_result"
    }
   ],
   "source": [
    "land_specs_df.head()"
   ]
  },
  {
   "cell_type": "code",
   "execution_count": 26,
   "metadata": {},
   "outputs": [
    {
     "data": {
      "text/plain": [
       "['지번주소',\n",
       " '년',\n",
       " '지목명',\n",
       " '토지면적',\n",
       " '용도지역명1',\n",
       " '용도지역명2',\n",
       " '토지이동상황',\n",
       " '지형높이',\n",
       " '지형형상',\n",
       " '도로접면']"
      ]
     },
     "execution_count": 26,
     "metadata": {},
     "output_type": "execute_result"
    }
   ],
   "source": [
    "cols = [col for col in land_specs_df.columns if col != '공시지가']\n",
    "cols"
   ]
  },
  {
   "cell_type": "code",
   "execution_count": 28,
   "metadata": {},
   "outputs": [
    {
     "data": {
      "text/plain": [
       "(3492486, 35)"
      ]
     },
     "execution_count": 28,
     "metadata": {},
     "output_type": "execute_result"
    }
   ],
   "source": [
    "merge2_df = merge1_df.merge(land_specs_df[cols], on=['지번주소', '년'])\n",
    "merge2_df.shape"
   ]
  },
  {
   "cell_type": "code",
   "execution_count": 48,
   "metadata": {},
   "outputs": [
    {
     "data": {
      "text/plain": [
       "(3490570, 321)"
      ]
     },
     "execution_count": 48,
     "metadata": {},
     "output_type": "execute_result"
    }
   ],
   "source": [
    "merge3_df = merge2_df.merge(land_plans_df, on=['지번주소', '년'])\n",
    "merge3_df.shape"
   ]
  },
  {
   "cell_type": "code",
   "execution_count": 49,
   "metadata": {},
   "outputs": [],
   "source": [
    "merge3_df.drop(columns=['지번주소'], inplace=True)"
   ]
  },
  {
   "cell_type": "code",
   "execution_count": 50,
   "metadata": {},
   "outputs": [],
   "source": [
    "merge3_df.columns = [col.replace(':','').replace('/','').replace('\\\\','').replace('*','').replace('?','').replace('\\\"','')\\\n",
    "                     .replace('|','').replace('<','').replace('>','') for col in merge3_df.columns]"
   ]
  },
  {
   "cell_type": "code",
   "execution_count": 51,
   "metadata": {},
   "outputs": [],
   "source": [
    "land_plans_df.columns = [col.replace(':','').replace('/','').replace('\\\\','').replace('*','').replace('?','').replace('\\\"','')\\\n",
    "                     .replace('|','').replace('<','').replace('>','') for col in land_plans_df.columns]"
   ]
  },
  {
   "cell_type": "code",
   "execution_count": 52,
   "metadata": {},
   "outputs": [
    {
     "data": {
      "text/plain": [
       "['(한강)오염행위 제한지역', '(한강)폐기물매립시설 설치제한지역', '4대문안', '가로구역별 최고높이 제한지역', '가스공급설비']"
      ]
     },
     "execution_count": 52,
     "metadata": {},
     "output_type": "execute_result"
    }
   ],
   "source": [
    "lp_catcols = land_plans_df.columns.tolist()[2:]\n",
    "lp_catcols[:5]"
   ]
  },
  {
   "cell_type": "code",
   "execution_count": 53,
   "metadata": {},
   "outputs": [
    {
     "data": {
      "text/plain": [
       "['지목명', '용도지역명1', '용도지역명2', '토지이동상황', '지형높이', '지형형상', '도로접면']"
      ]
     },
     "execution_count": 53,
     "metadata": {},
     "output_type": "execute_result"
    }
   ],
   "source": [
    "ls_catcols = [col for col in cols if col not in ['지번주소', '년', '토지면적']]\n",
    "ls_catcols"
   ]
  },
  {
   "cell_type": "code",
   "execution_count": 54,
   "metadata": {},
   "outputs": [],
   "source": [
    "merge3_df['전용면적'] = merge3_df['전용면적'].apply(np.log)"
   ]
  },
  {
   "cell_type": "code",
   "execution_count": 55,
   "metadata": {},
   "outputs": [],
   "source": [
    "merge3_df['토지면적'] = merge3_df['토지면적'].apply(np.log)"
   ]
  },
  {
   "cell_type": "code",
   "execution_count": 56,
   "metadata": {},
   "outputs": [],
   "source": [
    "merge3_df.drop(columns=['년'], inplace=True)"
   ]
  },
  {
   "cell_type": "code",
   "execution_count": 57,
   "metadata": {},
   "outputs": [],
   "source": [
    "def floor_feature_engi(x):\n",
    "    # x is a number\n",
    "    \n",
    "    if pd.isna(x) == True:\n",
    "        return x\n",
    "    else:\n",
    "    \n",
    "        if x < 0:\n",
    "            return '지하'\n",
    "        elif (x == 0)|(x == 1):\n",
    "            return '1층'\n",
    "        elif x == 2:\n",
    "            return '2층'\n",
    "        elif x == 3:\n",
    "            return '3층'\n",
    "        elif x == 4:\n",
    "            return '4층'\n",
    "        elif x == 5:\n",
    "            return '5층'\n",
    "        elif x == 6:\n",
    "            return '6층'\n",
    "        elif x == 7:\n",
    "            return '7층'\n",
    "        elif x == 8:\n",
    "            return '8층'\n",
    "        elif x == 9:\n",
    "            return '9층'\n",
    "        elif x == 10:\n",
    "            return '10층'\n",
    "        elif x < 14:\n",
    "            return '13층이하'\n",
    "        elif x < 17:\n",
    "            return '16층이하'\n",
    "        elif x < 20:\n",
    "            return '19층이하'\n",
    "        elif x < 25:\n",
    "            return '24층이하'\n",
    "        elif x < 30:\n",
    "            return '29층이하'\n",
    "        elif x < 35:\n",
    "            return '34층이하'\n",
    "        elif x < 40:\n",
    "            return '39층이하'\n",
    "        elif x < 45:\n",
    "            return '44층이하'\n",
    "        elif x < 50:\n",
    "            return '49층이하'\n",
    "        else:\n",
    "            return '50층이상'"
   ]
  },
  {
   "cell_type": "code",
   "execution_count": 58,
   "metadata": {},
   "outputs": [
    {
     "data": {
      "text/plain": [
       "2층       461668\n",
       "3층       437283\n",
       "4층       376866\n",
       "13층이하    351766\n",
       "1층       286718\n",
       "5층       282597\n",
       "16층이하    233363\n",
       "6층       183856\n",
       "7층       160137\n",
       "8층       147584\n",
       "9층       141884\n",
       "10층      135725\n",
       "19층이하    114488\n",
       "24층이하     86557\n",
       "지하        54534\n",
       "29층이하     23291\n",
       "34층이하      7462\n",
       "39층이하      2841\n",
       "44층이하       854\n",
       "49층이하       564\n",
       "50층이상       532\n",
       "Name: 층, dtype: int64"
      ]
     },
     "execution_count": 58,
     "metadata": {},
     "output_type": "execute_result"
    }
   ],
   "source": [
    "merge3_df['층'] = merge3_df['층'].apply(floor_feature_engi)\n",
    "merge3_df['층'].value_counts()"
   ]
  },
  {
   "cell_type": "code",
   "execution_count": 59,
   "metadata": {},
   "outputs": [],
   "source": [
    "def building_age_feature_engi(x):\n",
    "    # x is a number\n",
    "    \n",
    "    if pd.isna(x) == True:\n",
    "        return x\n",
    "    else:\n",
    "        \n",
    "        if x < 0:\n",
    "            return '건축전계약'\n",
    "        elif x < 6:\n",
    "            return '5년이하'\n",
    "        elif x < 11:\n",
    "            return '10년이하'\n",
    "        elif x < 16:\n",
    "            return '15년이하'\n",
    "        elif x < 20:\n",
    "            return '19년이하'\n",
    "        elif x < 30:\n",
    "            return '29년이하'\n",
    "        elif x < 40:\n",
    "            return '39년이하'\n",
    "        else:\n",
    "            return '40년이상'"
   ]
  },
  {
   "cell_type": "code",
   "execution_count": 60,
   "metadata": {},
   "outputs": [
    {
     "data": {
      "text/plain": [
       "5년이하     764528\n",
       "29년이하    717015\n",
       "15년이하    657039\n",
       "10년이하    635306\n",
       "19년이하    435394\n",
       "39년이하    248569\n",
       "40년이상     31239\n",
       "건축전계약      1480\n",
       "Name: 건물나이, dtype: int64"
      ]
     },
     "execution_count": 60,
     "metadata": {},
     "output_type": "execute_result"
    }
   ],
   "source": [
    "merge3_df['건물나이'] = merge3_df['건물나이'].apply(building_age_feature_engi)\n",
    "merge3_df['건물나이'].value_counts()"
   ]
  },
  {
   "cell_type": "code",
   "execution_count": 61,
   "metadata": {},
   "outputs": [],
   "source": [
    "cat_cols = ['trade_type', '표준지여부', '층', '건물나이'] + ls_catcols + lp_catcols"
   ]
  },
  {
   "cell_type": "code",
   "execution_count": 62,
   "metadata": {},
   "outputs": [
    {
     "name": "stderr",
     "output_type": "stream",
     "text": [
      "100%|████████████████████████████████████████████████████████████████████████████████| 297/297 [17:49<00:00,  3.60s/it]\n"
     ]
    }
   ],
   "source": [
    "for col in tqdm(cat_cols):\n",
    "    col_map = {}\n",
    "    col_map_df = pd.DataFrame({'cat':merge3_df[col].unique(),'map':[i for i in range(len(merge3_df[col].unique()))]})\n",
    "    for i in range(col_map_df.shape[0]):\n",
    "        col_map[col_map_df['cat'][i]] = col_map_df['map'][i]\n",
    "    merge3_df[col] = merge3_df[col].map(col_map)\n",
    "    col_map_df.to_csv('./Training/training_data_ver_12/feature_maps/{}_map.csv'.format(col))"
   ]
  },
  {
   "cell_type": "code",
   "execution_count": 63,
   "metadata": {},
   "outputs": [
    {
     "data": {
      "text/html": [
       "<div>\n",
       "<style scoped>\n",
       "    .dataframe tbody tr th:only-of-type {\n",
       "        vertical-align: middle;\n",
       "    }\n",
       "\n",
       "    .dataframe tbody tr th {\n",
       "        vertical-align: top;\n",
       "    }\n",
       "\n",
       "    .dataframe thead th {\n",
       "        text-align: right;\n",
       "    }\n",
       "</style>\n",
       "<table border=\"1\" class=\"dataframe\">\n",
       "  <thead>\n",
       "    <tr style=\"text-align: right;\">\n",
       "      <th></th>\n",
       "      <th>colname</th>\n",
       "    </tr>\n",
       "  </thead>\n",
       "  <tbody>\n",
       "    <tr>\n",
       "      <th>0</th>\n",
       "      <td>trade_type</td>\n",
       "    </tr>\n",
       "    <tr>\n",
       "      <th>1</th>\n",
       "      <td>표준지여부</td>\n",
       "    </tr>\n",
       "    <tr>\n",
       "      <th>2</th>\n",
       "      <td>층</td>\n",
       "    </tr>\n",
       "    <tr>\n",
       "      <th>3</th>\n",
       "      <td>건물나이</td>\n",
       "    </tr>\n",
       "    <tr>\n",
       "      <th>4</th>\n",
       "      <td>지목명</td>\n",
       "    </tr>\n",
       "  </tbody>\n",
       "</table>\n",
       "</div>"
      ],
      "text/plain": [
       "      colname\n",
       "0  trade_type\n",
       "1       표준지여부\n",
       "2           층\n",
       "3        건물나이\n",
       "4         지목명"
      ]
     },
     "execution_count": 63,
     "metadata": {},
     "output_type": "execute_result"
    }
   ],
   "source": [
    "cat_cols_df = pd.DataFrame({'colname':cat_cols})\n",
    "cat_cols_df.head()"
   ]
  },
  {
   "cell_type": "code",
   "execution_count": 64,
   "metadata": {},
   "outputs": [],
   "source": [
    "cat_cols_df.to_csv('./Training/training_data_ver_12/cat_cols.csv', index=False)"
   ]
  },
  {
   "cell_type": "code",
   "execution_count": 65,
   "metadata": {},
   "outputs": [
    {
     "name": "stderr",
     "output_type": "stream",
     "text": [
      "100%|████████████████████████████████████████████████████████████████████████████████| 319/319 [00:19<00:00, 16.58it/s]\n"
     ]
    }
   ],
   "source": [
    "cols_to_drop = []\n",
    "for col in tqdm(merge3_df.columns):\n",
    "    try:\n",
    "        if merge3_df[col].std() == 0:\n",
    "            cols_to_drop.append(col)\n",
    "        else:\n",
    "            pass\n",
    "    except:\n",
    "        pass"
   ]
  },
  {
   "cell_type": "code",
   "execution_count": 66,
   "metadata": {},
   "outputs": [
    {
     "data": {
      "text/plain": [
       "1"
      ]
     },
     "execution_count": 66,
     "metadata": {},
     "output_type": "execute_result"
    }
   ],
   "source": [
    "len(cols_to_drop)"
   ]
  },
  {
   "cell_type": "code",
   "execution_count": 67,
   "metadata": {},
   "outputs": [
    {
     "data": {
      "text/plain": [
       "['기타유통및공급시설']"
      ]
     },
     "execution_count": 67,
     "metadata": {},
     "output_type": "execute_result"
    }
   ],
   "source": [
    "cols_to_drop"
   ]
  },
  {
   "cell_type": "code",
   "execution_count": 68,
   "metadata": {},
   "outputs": [],
   "source": [
    "merge3_df.drop(columns=cols_to_drop, inplace=True)"
   ]
  },
  {
   "cell_type": "code",
   "execution_count": 69,
   "metadata": {},
   "outputs": [
    {
     "name": "stdout",
     "output_type": "stream",
     "text": [
      "Wall time: 18min 4s\n"
     ]
    }
   ],
   "source": [
    "%%time\n",
    "merge3_df.to_csv('./Training/training_data_ver_12/training_data_ver_12.csv', index=False)"
   ]
  },
  {
   "cell_type": "code",
   "execution_count": null,
   "metadata": {},
   "outputs": [],
   "source": []
  }
 ],
 "metadata": {
  "kernelspec": {
   "display_name": "Python 3",
   "language": "python",
   "name": "python3"
  },
  "language_info": {
   "codemirror_mode": {
    "name": "ipython",
    "version": 3
   },
   "file_extension": ".py",
   "mimetype": "text/x-python",
   "name": "python",
   "nbconvert_exporter": "python",
   "pygments_lexer": "ipython3",
   "version": "3.7.9"
  }
 },
 "nbformat": 4,
 "nbformat_minor": 4
}
