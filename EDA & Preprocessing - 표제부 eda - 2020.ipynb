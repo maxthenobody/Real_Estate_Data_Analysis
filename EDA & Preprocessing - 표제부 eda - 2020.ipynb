{
 "cells": [
  {
   "cell_type": "code",
   "execution_count": 1,
   "metadata": {},
   "outputs": [],
   "source": [
    "import multiprocess as mp\n",
    "import numpy as np\n",
    "import pandas as pd\n",
    "import matplotlib.pyplot as plt\n",
    "import os\n",
    "import math\n",
    "from tqdm import tqdm\n",
    "pd.set_option('display.max_rows', 500)\n",
    "pd.set_option('display.max_columns', 500)\n",
    "import datetime\n",
    "from sklearn.preprocessing import quantile_transform\n",
    "pd.options.mode.chained_assignment = None  # default='warn'\n",
    "import gc"
   ]
  },
  {
   "cell_type": "code",
   "execution_count": 2,
   "metadata": {},
   "outputs": [
    {
     "data": {
      "text/plain": [
       "['mart_djy_03_201412.txt',\n",
       " 'mart_djy_03_201612.txt',\n",
       " 'mart_djy_03_201712.txt',\n",
       " 'mart_djy_03_201812.txt',\n",
       " 'mart_djy_03_201912.txt',\n",
       " 'mart_djy_03_202012.txt',\n",
       " 'MART_DJY_TITLE_201512.txt']"
      ]
     },
     "execution_count": 2,
     "metadata": {},
     "output_type": "execute_result"
    }
   ],
   "source": [
    "basedir = './국토교통부_건축물대장_표제부/'\n",
    "filenames = [f for f in os.listdir(basedir) if f.endswith('.txt')]\n",
    "filenames"
   ]
  },
  {
   "cell_type": "code",
   "execution_count": 3,
   "metadata": {},
   "outputs": [
    {
     "name": "stdout",
     "output_type": "stream",
     "text": [
      "(77, 3)\n"
     ]
    },
    {
     "data": {
      "text/html": [
       "<div>\n",
       "<style scoped>\n",
       "    .dataframe tbody tr th:only-of-type {\n",
       "        vertical-align: middle;\n",
       "    }\n",
       "\n",
       "    .dataframe tbody tr th {\n",
       "        vertical-align: top;\n",
       "    }\n",
       "\n",
       "    .dataframe thead th {\n",
       "        text-align: right;\n",
       "    }\n",
       "</style>\n",
       "<table border=\"1\" class=\"dataframe\">\n",
       "  <thead>\n",
       "    <tr style=\"text-align: right;\">\n",
       "      <th></th>\n",
       "      <th>컬럼 한글명</th>\n",
       "      <th>데이터 타입</th>\n",
       "      <th>비고</th>\n",
       "    </tr>\n",
       "  </thead>\n",
       "  <tbody>\n",
       "    <tr>\n",
       "      <th>0</th>\n",
       "      <td>관리_건축물대장_PK</td>\n",
       "      <td>VARCHAR(33)</td>\n",
       "      <td>NaN</td>\n",
       "    </tr>\n",
       "    <tr>\n",
       "      <th>1</th>\n",
       "      <td>대장_구분_코드</td>\n",
       "      <td>VARCHAR(1)</td>\n",
       "      <td>NaN</td>\n",
       "    </tr>\n",
       "    <tr>\n",
       "      <th>2</th>\n",
       "      <td>대장_구분_코드_명</td>\n",
       "      <td>VARCHAR(100)</td>\n",
       "      <td>NaN</td>\n",
       "    </tr>\n",
       "    <tr>\n",
       "      <th>3</th>\n",
       "      <td>대장_종류_코드</td>\n",
       "      <td>VARCHAR(1)</td>\n",
       "      <td>NaN</td>\n",
       "    </tr>\n",
       "    <tr>\n",
       "      <th>4</th>\n",
       "      <td>대장_종류_코드_명</td>\n",
       "      <td>VARCHAR(100)</td>\n",
       "      <td>NaN</td>\n",
       "    </tr>\n",
       "  </tbody>\n",
       "</table>\n",
       "</div>"
      ],
      "text/plain": [
       "        컬럼 한글명        데이터 타입  비고\n",
       "0  관리_건축물대장_PK   VARCHAR(33) NaN\n",
       "1     대장_구분_코드    VARCHAR(1) NaN\n",
       "2   대장_구분_코드_명  VARCHAR(100) NaN\n",
       "3     대장_종류_코드    VARCHAR(1) NaN\n",
       "4   대장_종류_코드_명  VARCHAR(100) NaN"
      ]
     },
     "execution_count": 3,
     "metadata": {},
     "output_type": "execute_result"
    }
   ],
   "source": [
    "colnames_df = pd.read_excel(basedir + '데이터구조.xls', header=1)\n",
    "print(colnames_df.shape)\n",
    "colnames_df.head()"
   ]
  },
  {
   "cell_type": "code",
   "execution_count": 4,
   "metadata": {},
   "outputs": [
    {
     "name": "stdout",
     "output_type": "stream",
     "text": [
      "77\n"
     ]
    },
    {
     "data": {
      "text/plain": [
       "['관리_건축물대장_PK', '대장_구분_코드', '대장_구분_코드_명', '대장_종류_코드', '대장_종류_코드_명']"
      ]
     },
     "execution_count": 4,
     "metadata": {},
     "output_type": "execute_result"
    }
   ],
   "source": [
    "colnames = colnames_df['컬럼 한글명'].tolist()\n",
    "print(len(colnames))\n",
    "colnames[:5]"
   ]
  },
  {
   "cell_type": "code",
   "execution_count": 5,
   "metadata": {},
   "outputs": [
    {
     "data": {
      "text/plain": [
       "'mart_djy_03_202012.txt'"
      ]
     },
     "execution_count": 5,
     "metadata": {},
     "output_type": "execute_result"
    }
   ],
   "source": [
    "filenames[-2]"
   ]
  },
  {
   "cell_type": "code",
   "execution_count": 6,
   "metadata": {},
   "outputs": [
    {
     "name": "stderr",
     "output_type": "stream",
     "text": [
      "<string>:2: DtypeWarning: Columns (15,31,37,58,59,60,61,62,67) have mixed types. Specify dtype option on import or set low_memory=False.\n"
     ]
    },
    {
     "name": "stdout",
     "output_type": "stream",
     "text": [
      "(7837517, 77)\n",
      "Wall time: 1min 11s\n"
     ]
    },
    {
     "data": {
      "text/html": [
       "<div>\n",
       "<style scoped>\n",
       "    .dataframe tbody tr th:only-of-type {\n",
       "        vertical-align: middle;\n",
       "    }\n",
       "\n",
       "    .dataframe tbody tr th {\n",
       "        vertical-align: top;\n",
       "    }\n",
       "\n",
       "    .dataframe thead th {\n",
       "        text-align: right;\n",
       "    }\n",
       "</style>\n",
       "<table border=\"1\" class=\"dataframe\">\n",
       "  <thead>\n",
       "    <tr style=\"text-align: right;\">\n",
       "      <th></th>\n",
       "      <th>관리_건축물대장_PK</th>\n",
       "      <th>대장_구분_코드</th>\n",
       "      <th>대장_구분_코드_명</th>\n",
       "      <th>대장_종류_코드</th>\n",
       "      <th>대장_종류_코드_명</th>\n",
       "      <th>대지_위치</th>\n",
       "      <th>도로명_대지_위치</th>\n",
       "      <th>건물_명</th>\n",
       "      <th>시군구_코드</th>\n",
       "      <th>법정동_코드</th>\n",
       "      <th>대지_구분_코드</th>\n",
       "      <th>번</th>\n",
       "      <th>지</th>\n",
       "      <th>특수지_명</th>\n",
       "      <th>블록</th>\n",
       "      <th>로트</th>\n",
       "      <th>외필지_수</th>\n",
       "      <th>새주소_도로_코드</th>\n",
       "      <th>새주소_법정동_코드</th>\n",
       "      <th>새주소_지상지하_코드</th>\n",
       "      <th>새주소_본_번</th>\n",
       "      <th>새주소_부_번</th>\n",
       "      <th>동_명</th>\n",
       "      <th>주_부속_구분_코드</th>\n",
       "      <th>주_부속_구분_코드_명</th>\n",
       "      <th>대지_면적(㎡)</th>\n",
       "      <th>건축_면적(㎡)</th>\n",
       "      <th>건폐_율(%)</th>\n",
       "      <th>연면적(㎡)</th>\n",
       "      <th>용적_률_산정_연면적(㎡)</th>\n",
       "      <th>용적_률(%)</th>\n",
       "      <th>구조_코드</th>\n",
       "      <th>구조_코드_명</th>\n",
       "      <th>기타_구조</th>\n",
       "      <th>주_용도_코드</th>\n",
       "      <th>주_용도_코드_명</th>\n",
       "      <th>기타_용도</th>\n",
       "      <th>지붕_코드</th>\n",
       "      <th>지붕_코드_명</th>\n",
       "      <th>기타_지붕</th>\n",
       "      <th>세대_수(세대)</th>\n",
       "      <th>가구_수(가구)</th>\n",
       "      <th>높이(m)</th>\n",
       "      <th>지상_층_수</th>\n",
       "      <th>지하_층_수</th>\n",
       "      <th>승용_승강기_수</th>\n",
       "      <th>비상용_승강기_수</th>\n",
       "      <th>부속_건축물_수</th>\n",
       "      <th>부속_건축물_면적(㎡)</th>\n",
       "      <th>총_동_연면적(㎡)</th>\n",
       "      <th>옥내_기계식_대수(대)</th>\n",
       "      <th>옥내_기계식_면적(㎡)</th>\n",
       "      <th>옥외_기계식_대수(대)</th>\n",
       "      <th>옥외_기계식_면적(㎡)</th>\n",
       "      <th>옥내_자주식_대수(대)</th>\n",
       "      <th>옥내_자주식_면적(㎡)</th>\n",
       "      <th>옥외_자주식_대수(대)</th>\n",
       "      <th>옥외_자주식_면적(㎡)</th>\n",
       "      <th>허가_일</th>\n",
       "      <th>착공_일</th>\n",
       "      <th>사용승인_일</th>\n",
       "      <th>허가번호_년</th>\n",
       "      <th>허가번호_기관_코드</th>\n",
       "      <th>허가번호_기관_코드_명</th>\n",
       "      <th>허가번호_구분_코드</th>\n",
       "      <th>허가번호_구분_코드_명</th>\n",
       "      <th>호_수(호)</th>\n",
       "      <th>에너지효율_등급</th>\n",
       "      <th>에너지절감_율</th>\n",
       "      <th>에너지_EPI점수</th>\n",
       "      <th>친환경_건축물_등급</th>\n",
       "      <th>친환경_건축물_인증점수</th>\n",
       "      <th>지능형_건축물_등급</th>\n",
       "      <th>지능형_건축물_인증점수</th>\n",
       "      <th>생성_일자</th>\n",
       "      <th>내진_설계_적용_여부</th>\n",
       "      <th>내진_능력</th>\n",
       "    </tr>\n",
       "  </thead>\n",
       "  <tbody>\n",
       "    <tr>\n",
       "      <th>0</th>\n",
       "      <td>27710-2503</td>\n",
       "      <td>1</td>\n",
       "      <td>일반</td>\n",
       "      <td>2</td>\n",
       "      <td>일반건축물</td>\n",
       "      <td>대구광역시 달성군 화원읍 천내리 387-5번지</td>\n",
       "      <td>대구광역시 달성군 화원읍 비슬로512길 57-9</td>\n",
       "      <td>NaN</td>\n",
       "      <td>27710</td>\n",
       "      <td>25021.0</td>\n",
       "      <td>0.0</td>\n",
       "      <td>387</td>\n",
       "      <td>5</td>\n",
       "      <td>NaN</td>\n",
       "      <td>NaN</td>\n",
       "      <td>NaN</td>\n",
       "      <td>0</td>\n",
       "      <td>2.771042e+11</td>\n",
       "      <td>25001.0</td>\n",
       "      <td>0.0</td>\n",
       "      <td>57.0</td>\n",
       "      <td>9.0</td>\n",
       "      <td>NaN</td>\n",
       "      <td>1.0</td>\n",
       "      <td>부속건축물</td>\n",
       "      <td>0.0</td>\n",
       "      <td>2.22</td>\n",
       "      <td>0.00</td>\n",
       "      <td>2.22</td>\n",
       "      <td>2.22</td>\n",
       "      <td>0.00</td>\n",
       "      <td>99</td>\n",
       "      <td>기타구조</td>\n",
       "      <td>샌드위치판넬</td>\n",
       "      <td>04000</td>\n",
       "      <td>제2종근린생활시설</td>\n",
       "      <td>방앗간</td>\n",
       "      <td>90</td>\n",
       "      <td>기타지붕</td>\n",
       "      <td>판넬</td>\n",
       "      <td>0</td>\n",
       "      <td>1</td>\n",
       "      <td>0.0</td>\n",
       "      <td>1</td>\n",
       "      <td>0</td>\n",
       "      <td>0</td>\n",
       "      <td>0</td>\n",
       "      <td>1</td>\n",
       "      <td>2.22</td>\n",
       "      <td>2.22</td>\n",
       "      <td>0</td>\n",
       "      <td>0.0</td>\n",
       "      <td>0</td>\n",
       "      <td>0.0</td>\n",
       "      <td>0</td>\n",
       "      <td>0.0</td>\n",
       "      <td>0</td>\n",
       "      <td>0.0</td>\n",
       "      <td>19830325</td>\n",
       "      <td>NaN</td>\n",
       "      <td>1.98303e+07</td>\n",
       "      <td>NaN</td>\n",
       "      <td>NaN</td>\n",
       "      <td>NaN</td>\n",
       "      <td>NaN</td>\n",
       "      <td>NaN</td>\n",
       "      <td>0</td>\n",
       "      <td>NaN</td>\n",
       "      <td>0.0</td>\n",
       "      <td>0</td>\n",
       "      <td>NaN</td>\n",
       "      <td>0</td>\n",
       "      <td>NaN</td>\n",
       "      <td>0</td>\n",
       "      <td>20110414</td>\n",
       "      <td>NaN</td>\n",
       "      <td>NaN</td>\n",
       "    </tr>\n",
       "    <tr>\n",
       "      <th>1</th>\n",
       "      <td>28710-6007</td>\n",
       "      <td>1</td>\n",
       "      <td>일반</td>\n",
       "      <td>2</td>\n",
       "      <td>일반건축물</td>\n",
       "      <td>인천광역시 강화군 양도면 도장리 685-1번지</td>\n",
       "      <td>인천광역시 강화군 양도면 강화남로428번길 46-20</td>\n",
       "      <td>NaN</td>\n",
       "      <td>28710</td>\n",
       "      <td>35027.0</td>\n",
       "      <td>0.0</td>\n",
       "      <td>685</td>\n",
       "      <td>1</td>\n",
       "      <td>NaN</td>\n",
       "      <td>NaN</td>\n",
       "      <td>NaN</td>\n",
       "      <td>0</td>\n",
       "      <td>2.871043e+11</td>\n",
       "      <td>35001.0</td>\n",
       "      <td>0.0</td>\n",
       "      <td>46.0</td>\n",
       "      <td>20.0</td>\n",
       "      <td>NaN</td>\n",
       "      <td>0.0</td>\n",
       "      <td>주건축물</td>\n",
       "      <td>522.0</td>\n",
       "      <td>98.94</td>\n",
       "      <td>18.95</td>\n",
       "      <td>141.60</td>\n",
       "      <td>141.60</td>\n",
       "      <td>27.12</td>\n",
       "      <td>11</td>\n",
       "      <td>벽돌구조</td>\n",
       "      <td>조적조</td>\n",
       "      <td>01000</td>\n",
       "      <td>단독주택</td>\n",
       "      <td>주택</td>\n",
       "      <td>10</td>\n",
       "      <td>(철근)콘크리트</td>\n",
       "      <td>슬라브</td>\n",
       "      <td>0</td>\n",
       "      <td>1</td>\n",
       "      <td>6.6</td>\n",
       "      <td>2</td>\n",
       "      <td>0</td>\n",
       "      <td>0</td>\n",
       "      <td>0</td>\n",
       "      <td>0</td>\n",
       "      <td>0.00</td>\n",
       "      <td>141.60</td>\n",
       "      <td>0</td>\n",
       "      <td>0.0</td>\n",
       "      <td>0</td>\n",
       "      <td>0.0</td>\n",
       "      <td>0</td>\n",
       "      <td>0.0</td>\n",
       "      <td>0</td>\n",
       "      <td>0.0</td>\n",
       "      <td>19960604</td>\n",
       "      <td>1.99606e+07</td>\n",
       "      <td>1.99805e+07</td>\n",
       "      <td>NaN</td>\n",
       "      <td>NaN</td>\n",
       "      <td>NaN</td>\n",
       "      <td>NaN</td>\n",
       "      <td>NaN</td>\n",
       "      <td>0</td>\n",
       "      <td>NaN</td>\n",
       "      <td>0.0</td>\n",
       "      <td>0</td>\n",
       "      <td>NaN</td>\n",
       "      <td>0</td>\n",
       "      <td>NaN</td>\n",
       "      <td>0</td>\n",
       "      <td>20110414</td>\n",
       "      <td>NaN</td>\n",
       "      <td>NaN</td>\n",
       "    </tr>\n",
       "    <tr>\n",
       "      <th>2</th>\n",
       "      <td>28710-23420</td>\n",
       "      <td>1</td>\n",
       "      <td>일반</td>\n",
       "      <td>2</td>\n",
       "      <td>일반건축물</td>\n",
       "      <td>인천광역시 강화군 선원면 냉정리 916-1번지</td>\n",
       "      <td>인천광역시 강화군 선원면 중앙로 468</td>\n",
       "      <td>NaN</td>\n",
       "      <td>28710</td>\n",
       "      <td>31027.0</td>\n",
       "      <td>0.0</td>\n",
       "      <td>916</td>\n",
       "      <td>1</td>\n",
       "      <td>NaN</td>\n",
       "      <td>NaN</td>\n",
       "      <td>NaN</td>\n",
       "      <td>0</td>\n",
       "      <td>2.871032e+11</td>\n",
       "      <td>31002.0</td>\n",
       "      <td>0.0</td>\n",
       "      <td>468.0</td>\n",
       "      <td>0.0</td>\n",
       "      <td>NaN</td>\n",
       "      <td>0.0</td>\n",
       "      <td>주건축물</td>\n",
       "      <td>660.0</td>\n",
       "      <td>171.69</td>\n",
       "      <td>26.01</td>\n",
       "      <td>171.69</td>\n",
       "      <td>171.69</td>\n",
       "      <td>26.01</td>\n",
       "      <td>11</td>\n",
       "      <td>벽돌구조</td>\n",
       "      <td>조적조, 경량철골조</td>\n",
       "      <td>01000</td>\n",
       "      <td>단독주택</td>\n",
       "      <td>단독주택, 창고</td>\n",
       "      <td>90</td>\n",
       "      <td>기타지붕</td>\n",
       "      <td>판넬</td>\n",
       "      <td>0</td>\n",
       "      <td>1</td>\n",
       "      <td>4.2</td>\n",
       "      <td>1</td>\n",
       "      <td>0</td>\n",
       "      <td>0</td>\n",
       "      <td>0</td>\n",
       "      <td>1</td>\n",
       "      <td>72.60</td>\n",
       "      <td>99.09</td>\n",
       "      <td>0</td>\n",
       "      <td>0.0</td>\n",
       "      <td>0</td>\n",
       "      <td>0.0</td>\n",
       "      <td>0</td>\n",
       "      <td>0.0</td>\n",
       "      <td>0</td>\n",
       "      <td>0.0</td>\n",
       "      <td>NaN</td>\n",
       "      <td>NaN</td>\n",
       "      <td>2.00206e+07</td>\n",
       "      <td>NaN</td>\n",
       "      <td>NaN</td>\n",
       "      <td>NaN</td>\n",
       "      <td>NaN</td>\n",
       "      <td>NaN</td>\n",
       "      <td>0</td>\n",
       "      <td>NaN</td>\n",
       "      <td>0.0</td>\n",
       "      <td>0</td>\n",
       "      <td>NaN</td>\n",
       "      <td>0</td>\n",
       "      <td>NaN</td>\n",
       "      <td>0</td>\n",
       "      <td>20110414</td>\n",
       "      <td>NaN</td>\n",
       "      <td>NaN</td>\n",
       "    </tr>\n",
       "    <tr>\n",
       "      <th>3</th>\n",
       "      <td>28710-14164</td>\n",
       "      <td>1</td>\n",
       "      <td>일반</td>\n",
       "      <td>2</td>\n",
       "      <td>일반건축물</td>\n",
       "      <td>인천광역시 강화군 송해면 하도리 277-6번지</td>\n",
       "      <td>인천광역시 강화군 송해면 강화대로 819</td>\n",
       "      <td>NaN</td>\n",
       "      <td>28710</td>\n",
       "      <td>39026.0</td>\n",
       "      <td>0.0</td>\n",
       "      <td>277</td>\n",
       "      <td>6</td>\n",
       "      <td>NaN</td>\n",
       "      <td>NaN</td>\n",
       "      <td>NaN</td>\n",
       "      <td>0</td>\n",
       "      <td>2.871022e+11</td>\n",
       "      <td>39003.0</td>\n",
       "      <td>0.0</td>\n",
       "      <td>819.0</td>\n",
       "      <td>0.0</td>\n",
       "      <td>NaN</td>\n",
       "      <td>0.0</td>\n",
       "      <td>주건축물</td>\n",
       "      <td>226.0</td>\n",
       "      <td>70.03</td>\n",
       "      <td>30.99</td>\n",
       "      <td>70.03</td>\n",
       "      <td>70.03</td>\n",
       "      <td>30.99</td>\n",
       "      <td>32</td>\n",
       "      <td>경량철골구조</td>\n",
       "      <td>경량철골조</td>\n",
       "      <td>01000</td>\n",
       "      <td>단독주택</td>\n",
       "      <td>단독주택</td>\n",
       "      <td>90</td>\n",
       "      <td>기타지붕</td>\n",
       "      <td>판넬</td>\n",
       "      <td>0</td>\n",
       "      <td>1</td>\n",
       "      <td>4.0</td>\n",
       "      <td>1</td>\n",
       "      <td>0</td>\n",
       "      <td>0</td>\n",
       "      <td>0</td>\n",
       "      <td>0</td>\n",
       "      <td>0.00</td>\n",
       "      <td>70.03</td>\n",
       "      <td>0</td>\n",
       "      <td>0.0</td>\n",
       "      <td>0</td>\n",
       "      <td>0.0</td>\n",
       "      <td>0</td>\n",
       "      <td>0.0</td>\n",
       "      <td>0</td>\n",
       "      <td>0.0</td>\n",
       "      <td>NaN</td>\n",
       "      <td>NaN</td>\n",
       "      <td>2.00203e+07</td>\n",
       "      <td>NaN</td>\n",
       "      <td>NaN</td>\n",
       "      <td>NaN</td>\n",
       "      <td>NaN</td>\n",
       "      <td>NaN</td>\n",
       "      <td>0</td>\n",
       "      <td>NaN</td>\n",
       "      <td>0.0</td>\n",
       "      <td>0</td>\n",
       "      <td>NaN</td>\n",
       "      <td>0</td>\n",
       "      <td>NaN</td>\n",
       "      <td>0</td>\n",
       "      <td>20110414</td>\n",
       "      <td>NaN</td>\n",
       "      <td>NaN</td>\n",
       "    </tr>\n",
       "    <tr>\n",
       "      <th>4</th>\n",
       "      <td>28720-925</td>\n",
       "      <td>1</td>\n",
       "      <td>일반</td>\n",
       "      <td>2</td>\n",
       "      <td>일반건축물</td>\n",
       "      <td>인천광역시 옹진군 북도면 신도리 500번지</td>\n",
       "      <td>인천광역시 옹진군 북도면 신도로896번길 28</td>\n",
       "      <td>NaN</td>\n",
       "      <td>28720</td>\n",
       "      <td>31022.0</td>\n",
       "      <td>0.0</td>\n",
       "      <td>500</td>\n",
       "      <td>0</td>\n",
       "      <td>NaN</td>\n",
       "      <td>NaN</td>\n",
       "      <td>NaN</td>\n",
       "      <td>0</td>\n",
       "      <td>2.872043e+11</td>\n",
       "      <td>31001.0</td>\n",
       "      <td>0.0</td>\n",
       "      <td>28.0</td>\n",
       "      <td>0.0</td>\n",
       "      <td>NaN</td>\n",
       "      <td>0.0</td>\n",
       "      <td>주건축물</td>\n",
       "      <td>386.0</td>\n",
       "      <td>51.30</td>\n",
       "      <td>13.29</td>\n",
       "      <td>51.30</td>\n",
       "      <td>51.30</td>\n",
       "      <td>13.29</td>\n",
       "      <td>12</td>\n",
       "      <td>블록구조</td>\n",
       "      <td>블록구조</td>\n",
       "      <td>01000</td>\n",
       "      <td>단독주택</td>\n",
       "      <td>단독주택</td>\n",
       "      <td>30</td>\n",
       "      <td>슬레이트</td>\n",
       "      <td>슬레이트</td>\n",
       "      <td>0</td>\n",
       "      <td>1</td>\n",
       "      <td>0.0</td>\n",
       "      <td>1</td>\n",
       "      <td>0</td>\n",
       "      <td>0</td>\n",
       "      <td>0</td>\n",
       "      <td>0</td>\n",
       "      <td>0.00</td>\n",
       "      <td>51.30</td>\n",
       "      <td>0</td>\n",
       "      <td>0.0</td>\n",
       "      <td>0</td>\n",
       "      <td>0.0</td>\n",
       "      <td>0</td>\n",
       "      <td>0.0</td>\n",
       "      <td>0</td>\n",
       "      <td>0.0</td>\n",
       "      <td>NaN</td>\n",
       "      <td>NaN</td>\n",
       "      <td>1.97712e+07</td>\n",
       "      <td>NaN</td>\n",
       "      <td>NaN</td>\n",
       "      <td>NaN</td>\n",
       "      <td>NaN</td>\n",
       "      <td>NaN</td>\n",
       "      <td>0</td>\n",
       "      <td>NaN</td>\n",
       "      <td>0.0</td>\n",
       "      <td>0</td>\n",
       "      <td>NaN</td>\n",
       "      <td>0</td>\n",
       "      <td>NaN</td>\n",
       "      <td>0</td>\n",
       "      <td>20110414</td>\n",
       "      <td>NaN</td>\n",
       "      <td>NaN</td>\n",
       "    </tr>\n",
       "  </tbody>\n",
       "</table>\n",
       "</div>"
      ],
      "text/plain": [
       "   관리_건축물대장_PK  대장_구분_코드 대장_구분_코드_명  대장_종류_코드 대장_종류_코드_명  \\\n",
       "0   27710-2503         1         일반         2      일반건축물   \n",
       "1   28710-6007         1         일반         2      일반건축물   \n",
       "2  28710-23420         1         일반         2      일반건축물   \n",
       "3  28710-14164         1         일반         2      일반건축물   \n",
       "4    28720-925         1         일반         2      일반건축물   \n",
       "\n",
       "                       대지_위치                       도로명_대지_위치 건물_명  시군구_코드  \\\n",
       "0  대구광역시 달성군 화원읍 천내리 387-5번지      대구광역시 달성군 화원읍 비슬로512길 57-9  NaN   27710   \n",
       "1  인천광역시 강화군 양도면 도장리 685-1번지   인천광역시 강화군 양도면 강화남로428번길 46-20  NaN   28710   \n",
       "2  인천광역시 강화군 선원면 냉정리 916-1번지           인천광역시 강화군 선원면 중앙로 468  NaN   28710   \n",
       "3  인천광역시 강화군 송해면 하도리 277-6번지          인천광역시 강화군 송해면 강화대로 819  NaN   28710   \n",
       "4    인천광역시 옹진군 북도면 신도리 500번지       인천광역시 옹진군 북도면 신도로896번길 28  NaN   28720   \n",
       "\n",
       "    법정동_코드  대지_구분_코드    번  지 특수지_명   블록   로트  외필지_수     새주소_도로_코드  새주소_법정동_코드  \\\n",
       "0  25021.0       0.0  387  5   NaN  NaN  NaN      0  2.771042e+11     25001.0   \n",
       "1  35027.0       0.0  685  1   NaN  NaN  NaN      0  2.871043e+11     35001.0   \n",
       "2  31027.0       0.0  916  1   NaN  NaN  NaN      0  2.871032e+11     31002.0   \n",
       "3  39026.0       0.0  277  6   NaN  NaN  NaN      0  2.871022e+11     39003.0   \n",
       "4  31022.0       0.0  500  0   NaN  NaN  NaN      0  2.872043e+11     31001.0   \n",
       "\n",
       "   새주소_지상지하_코드  새주소_본_번  새주소_부_번  동_명  주_부속_구분_코드 주_부속_구분_코드_명  대지_면적(㎡)  \\\n",
       "0          0.0     57.0      9.0  NaN         1.0        부속건축물       0.0   \n",
       "1          0.0     46.0     20.0  NaN         0.0         주건축물     522.0   \n",
       "2          0.0    468.0      0.0  NaN         0.0         주건축물     660.0   \n",
       "3          0.0    819.0      0.0  NaN         0.0         주건축물     226.0   \n",
       "4          0.0     28.0      0.0  NaN         0.0         주건축물     386.0   \n",
       "\n",
       "   건축_면적(㎡)  건폐_율(%)  연면적(㎡)  용적_률_산정_연면적(㎡)  용적_률(%) 구조_코드 구조_코드_명  \\\n",
       "0      2.22     0.00    2.22            2.22     0.00    99    기타구조   \n",
       "1     98.94    18.95  141.60          141.60    27.12    11    벽돌구조   \n",
       "2    171.69    26.01  171.69          171.69    26.01    11    벽돌구조   \n",
       "3     70.03    30.99   70.03           70.03    30.99    32  경량철골구조   \n",
       "4     51.30    13.29   51.30           51.30    13.29    12    블록구조   \n",
       "\n",
       "        기타_구조 주_용도_코드  주_용도_코드_명     기타_용도 지붕_코드   지붕_코드_명 기타_지붕  세대_수(세대)  \\\n",
       "0      샌드위치판넬   04000  제2종근린생활시설       방앗간    90      기타지붕    판넬         0   \n",
       "1         조적조   01000       단독주택        주택    10  (철근)콘크리트   슬라브         0   \n",
       "2  조적조, 경량철골조   01000       단독주택  단독주택, 창고    90      기타지붕    판넬         0   \n",
       "3       경량철골조   01000       단독주택      단독주택    90      기타지붕    판넬         0   \n",
       "4        블록구조   01000       단독주택      단독주택    30      슬레이트  슬레이트         0   \n",
       "\n",
       "   가구_수(가구)  높이(m)  지상_층_수  지하_층_수  승용_승강기_수  비상용_승강기_수  부속_건축물_수  \\\n",
       "0         1    0.0       1       0         0          0         1   \n",
       "1         1    6.6       2       0         0          0         0   \n",
       "2         1    4.2       1       0         0          0         1   \n",
       "3         1    4.0       1       0         0          0         0   \n",
       "4         1    0.0       1       0         0          0         0   \n",
       "\n",
       "   부속_건축물_면적(㎡)  총_동_연면적(㎡)  옥내_기계식_대수(대)  옥내_기계식_면적(㎡)  옥외_기계식_대수(대)  \\\n",
       "0          2.22        2.22             0           0.0             0   \n",
       "1          0.00      141.60             0           0.0             0   \n",
       "2         72.60       99.09             0           0.0             0   \n",
       "3          0.00       70.03             0           0.0             0   \n",
       "4          0.00       51.30             0           0.0             0   \n",
       "\n",
       "   옥외_기계식_면적(㎡)  옥내_자주식_대수(대)  옥내_자주식_면적(㎡)  옥외_자주식_대수(대)  옥외_자주식_면적(㎡)  \\\n",
       "0           0.0             0           0.0             0           0.0   \n",
       "1           0.0             0           0.0             0           0.0   \n",
       "2           0.0             0           0.0             0           0.0   \n",
       "3           0.0             0           0.0             0           0.0   \n",
       "4           0.0             0           0.0             0           0.0   \n",
       "\n",
       "       허가_일         착공_일       사용승인_일 허가번호_년 허가번호_기관_코드 허가번호_기관_코드_명  \\\n",
       "0  19830325          NaN  1.98303e+07    NaN        NaN          NaN   \n",
       "1  19960604  1.99606e+07  1.99805e+07    NaN        NaN          NaN   \n",
       "2       NaN          NaN  2.00206e+07    NaN        NaN          NaN   \n",
       "3       NaN          NaN  2.00203e+07    NaN        NaN          NaN   \n",
       "4       NaN          NaN  1.97712e+07    NaN        NaN          NaN   \n",
       "\n",
       "   허가번호_구분_코드 허가번호_구분_코드_명  호_수(호) 에너지효율_등급  에너지절감_율  에너지_EPI점수  친환경_건축물_등급  \\\n",
       "0         NaN          NaN       0      NaN      0.0          0         NaN   \n",
       "1         NaN          NaN       0      NaN      0.0          0         NaN   \n",
       "2         NaN          NaN       0      NaN      0.0          0         NaN   \n",
       "3         NaN          NaN       0      NaN      0.0          0         NaN   \n",
       "4         NaN          NaN       0      NaN      0.0          0         NaN   \n",
       "\n",
       "   친환경_건축물_인증점수  지능형_건축물_등급  지능형_건축물_인증점수     생성_일자  내진_설계_적용_여부 내진_능력  \n",
       "0             0         NaN             0  20110414          NaN   NaN  \n",
       "1             0         NaN             0  20110414          NaN   NaN  \n",
       "2             0         NaN             0  20110414          NaN   NaN  \n",
       "3             0         NaN             0  20110414          NaN   NaN  \n",
       "4             0         NaN             0  20110414          NaN   NaN  "
      ]
     },
     "execution_count": 6,
     "metadata": {},
     "output_type": "execute_result"
    }
   ],
   "source": [
    "%%time\n",
    "prac_df = pd.read_csv(basedir + filenames[-2], sep='|', encoding='euc-kr', header=None, names=colnames)\n",
    "print(prac_df.shape)\n",
    "prac_df.head()"
   ]
  },
  {
   "cell_type": "code",
   "execution_count": 12,
   "metadata": {},
   "outputs": [],
   "source": [
    "def apply_int(x):\n",
    "    # x is a number\n",
    "    \n",
    "    if pd.isna(x) == True:\n",
    "        return x\n",
    "    else:\n",
    "        if x == '`':\n",
    "            return 1\n",
    "        else:\n",
    "            return int(x)"
   ]
  },
  {
   "cell_type": "code",
   "execution_count": 13,
   "metadata": {},
   "outputs": [],
   "source": [
    "prac_df['구조_코드'] = prac_df['구조_코드'].apply(apply_int).astype('Int64')"
   ]
  },
  {
   "cell_type": "code",
   "execution_count": 25,
   "metadata": {},
   "outputs": [
    {
     "data": {
      "text/plain": [
       "철근콘크리트구조         1927346\n",
       "벽돌구조             1726427\n",
       "일반목구조            1363582\n",
       "경량철골구조            841587\n",
       "블록구조              765199\n",
       "일반철골구조            677872\n",
       "기타조적구조            200204\n",
       "강파이프구조            176304\n",
       "기타강구조              26144\n",
       "조적구조               21501\n",
       "철골철근콘크리트구조         18230\n",
       "석구조                16512\n",
       "기타구조               10976\n",
       "철골콘크리트구조           10803\n",
       "목구조                 6732\n",
       "통나무구조               4446\n",
       "프리케스트콘크리트구조         3987\n",
       "컨테이너조               3743\n",
       "조립식판넬조              2465\n",
       "기타콘크리트구조            2456\n",
       "시멘트블럭조              2410\n",
       "철골구조                1878\n",
       "콘크리트구조              1392\n",
       "철파이프조                600\n",
       "트러스목구조               508\n",
       "공업화박판강구조(PEB)        477\n",
       "기타철골철근콘크리트구조         235\n",
       "철골철근콘크리트합성구조         159\n",
       "스틸하우스조               150\n",
       "흙벽돌조                 140\n",
       "막구조                   57\n",
       "단일형강구조                53\n",
       "돌담 및 토담조              53\n",
       "트러스구조                 44\n",
       "라멘조                   34\n",
       "보강콘크리트조               13\n",
       "석회 및 흙혼합 벽돌조           6\n",
       "Name: 구조_코드_명, dtype: int64"
      ]
     },
     "execution_count": 25,
     "metadata": {},
     "output_type": "execute_result"
    }
   ],
   "source": [
    "prac_df['구조_코드_명'].value_counts()"
   ]
  },
  {
   "cell_type": "code",
   "execution_count": 26,
   "metadata": {},
   "outputs": [
    {
     "data": {
      "text/plain": [
       "21    1927346\n",
       "11    1726427\n",
       "51    1363582\n",
       "32     841587\n",
       "12     765199\n",
       "31     677872\n",
       "19     200204\n",
       "33     176304\n",
       "39      26144\n",
       "10      21501\n",
       "42      18204\n",
       "13      16512\n",
       "99      10976\n",
       "41      10803\n",
       "50       6732\n",
       "52       4446\n",
       "22       3987\n",
       "74       3743\n",
       "63       2465\n",
       "29       2456\n",
       "61       2410\n",
       "30       1878\n",
       "20       1392\n",
       "23        600\n",
       "53        508\n",
       "34        477\n",
       "49        235\n",
       "43        159\n",
       "72        140\n",
       "14         97\n",
       "81         57\n",
       "24         53\n",
       "35         53\n",
       "37         53\n",
       "36         44\n",
       "26         34\n",
       "40         26\n",
       "17         13\n",
       "27          6\n",
       "Name: 구조_코드, dtype: int64"
      ]
     },
     "execution_count": 26,
     "metadata": {},
     "output_type": "execute_result"
    }
   ],
   "source": [
    "prac_df['구조_코드'].value_counts()"
   ]
  },
  {
   "cell_type": "code",
   "execution_count": 16,
   "metadata": {},
   "outputs": [
    {
     "name": "stdout",
     "output_type": "stream",
     "text": [
      "(7837517, 77)\n"
     ]
    },
    {
     "data": {
      "text/plain": [
       "(7814725, 77)"
      ]
     },
     "execution_count": 16,
     "metadata": {},
     "output_type": "execute_result"
    }
   ],
   "source": [
    "print(prac_df.shape)\n",
    "prac_df.dropna(subset=['구조_코드_명', '구조_코드'], inplace=True)\n",
    "prac_df.shape"
   ]
  },
  {
   "cell_type": "code",
   "execution_count": 27,
   "metadata": {},
   "outputs": [
    {
     "data": {
      "text/plain": [
       "37"
      ]
     },
     "execution_count": 27,
     "metadata": {},
     "output_type": "execute_result"
    }
   ],
   "source": [
    "prac_df['구조_코드_명'].nunique()"
   ]
  },
  {
   "cell_type": "code",
   "execution_count": 28,
   "metadata": {},
   "outputs": [
    {
     "data": {
      "text/plain": [
       "39"
      ]
     },
     "execution_count": 28,
     "metadata": {},
     "output_type": "execute_result"
    }
   ],
   "source": [
    "prac_df['구조_코드'].nunique()"
   ]
  },
  {
   "cell_type": "code",
   "execution_count": 29,
   "metadata": {},
   "outputs": [
    {
     "name": "stderr",
     "output_type": "stream",
     "text": [
      "  3%|██▏                                                                                | 1/37 [00:00<00:12,  2.86it/s]"
     ]
    },
    {
     "name": "stdout",
     "output_type": "stream",
     "text": [
      "기타구조\n",
      "<IntegerArray>\n",
      "[99]\n",
      "Length: 1, dtype: Int64\n"
     ]
    },
    {
     "name": "stderr",
     "output_type": "stream",
     "text": [
      "\r",
      "  5%|████▍                                                                              | 2/37 [00:01<00:27,  1.27it/s]"
     ]
    },
    {
     "name": "stdout",
     "output_type": "stream",
     "text": [
      "벽돌구조\n",
      "<IntegerArray>\n",
      "[11]\n",
      "Length: 1, dtype: Int64\n"
     ]
    },
    {
     "name": "stderr",
     "output_type": "stream",
     "text": [
      "\r",
      "  8%|██████▋                                                                            | 3/37 [00:02<00:30,  1.11it/s]"
     ]
    },
    {
     "name": "stdout",
     "output_type": "stream",
     "text": [
      "경량철골구조\n",
      "<IntegerArray>\n",
      "[32]\n",
      "Length: 1, dtype: Int64\n"
     ]
    },
    {
     "name": "stderr",
     "output_type": "stream",
     "text": [
      "\r",
      " 11%|████████▉                                                                          | 4/37 [00:03<00:30,  1.10it/s]"
     ]
    },
    {
     "name": "stdout",
     "output_type": "stream",
     "text": [
      "블록구조\n",
      "<IntegerArray>\n",
      "[12]\n",
      "Length: 1, dtype: Int64\n"
     ]
    },
    {
     "name": "stderr",
     "output_type": "stream",
     "text": [
      "\r",
      " 14%|███████████▏                                                                       | 5/37 [00:04<00:32,  1.02s/it]"
     ]
    },
    {
     "name": "stdout",
     "output_type": "stream",
     "text": [
      "철근콘크리트구조\n",
      "<IntegerArray>\n",
      "[21]\n",
      "Length: 1, dtype: Int64\n"
     ]
    },
    {
     "name": "stderr",
     "output_type": "stream",
     "text": [
      "\r",
      " 16%|█████████████▍                                                                     | 6/37 [00:05<00:33,  1.08s/it]"
     ]
    },
    {
     "name": "stdout",
     "output_type": "stream",
     "text": [
      "일반목구조\n",
      "<IntegerArray>\n",
      "[51]\n",
      "Length: 1, dtype: Int64\n"
     ]
    },
    {
     "name": "stderr",
     "output_type": "stream",
     "text": [
      "\r",
      " 19%|███████████████▋                                                                   | 7/37 [00:06<00:31,  1.04s/it]"
     ]
    },
    {
     "name": "stdout",
     "output_type": "stream",
     "text": [
      "일반철골구조\n",
      "<IntegerArray>\n",
      "[31]\n",
      "Length: 1, dtype: Int64\n"
     ]
    },
    {
     "name": "stderr",
     "output_type": "stream",
     "text": [
      "\r",
      " 22%|█████████████████▉                                                                 | 8/37 [00:07<00:24,  1.20it/s]"
     ]
    },
    {
     "name": "stdout",
     "output_type": "stream",
     "text": [
      "기타강구조\n",
      "<IntegerArray>\n",
      "[39]\n",
      "Length: 1, dtype: Int64\n"
     ]
    },
    {
     "name": "stderr",
     "output_type": "stream",
     "text": [
      "\r",
      " 24%|████████████████████▏                                                              | 9/37 [00:07<00:20,  1.36it/s]"
     ]
    },
    {
     "name": "stdout",
     "output_type": "stream",
     "text": [
      "기타조적구조\n",
      "<IntegerArray>\n",
      "[19]\n",
      "Length: 1, dtype: Int64\n"
     ]
    },
    {
     "name": "stderr",
     "output_type": "stream",
     "text": [
      "\r",
      " 27%|██████████████████████▏                                                           | 10/37 [00:08<00:18,  1.50it/s]"
     ]
    },
    {
     "name": "stdout",
     "output_type": "stream",
     "text": [
      "강파이프구조\n",
      "<IntegerArray>\n",
      "[33]\n",
      "Length: 1, dtype: Int64\n"
     ]
    },
    {
     "name": "stderr",
     "output_type": "stream",
     "text": [
      "\r",
      " 30%|████████████████████████▍                                                         | 11/37 [00:08<00:14,  1.79it/s]"
     ]
    },
    {
     "name": "stdout",
     "output_type": "stream",
     "text": [
      "철골철근콘크리트구조\n",
      "<IntegerArray>\n",
      "[42, 40]\n",
      "Length: 2, dtype: Int64\n"
     ]
    },
    {
     "name": "stderr",
     "output_type": "stream",
     "text": [
      "\r",
      " 32%|██████████████████████████▌                                                       | 12/37 [00:08<00:12,  2.06it/s]"
     ]
    },
    {
     "name": "stdout",
     "output_type": "stream",
     "text": [
      "조적구조\n",
      "<IntegerArray>\n",
      "[10]\n",
      "Length: 1, dtype: Int64\n"
     ]
    },
    {
     "name": "stderr",
     "output_type": "stream",
     "text": [
      "\r",
      " 35%|████████████████████████████▊                                                     | 13/37 [00:09<00:10,  2.39it/s]"
     ]
    },
    {
     "name": "stdout",
     "output_type": "stream",
     "text": [
      "목구조\n",
      "<IntegerArray>\n",
      "[50]\n",
      "Length: 1, dtype: Int64\n"
     ]
    },
    {
     "name": "stderr",
     "output_type": "stream",
     "text": [
      "\r",
      " 38%|███████████████████████████████                                                   | 14/37 [00:09<00:08,  2.66it/s]"
     ]
    },
    {
     "name": "stdout",
     "output_type": "stream",
     "text": [
      "컨테이너조\n",
      "<IntegerArray>\n",
      "[74]\n",
      "Length: 1, dtype: Int64\n"
     ]
    },
    {
     "name": "stderr",
     "output_type": "stream",
     "text": [
      "\r",
      " 41%|█████████████████████████████████▏                                                | 15/37 [00:09<00:07,  2.96it/s]"
     ]
    },
    {
     "name": "stdout",
     "output_type": "stream",
     "text": [
      "기타철골철근콘크리트구조\n",
      "<IntegerArray>\n",
      "[49]\n",
      "Length: 1, dtype: Int64\n"
     ]
    },
    {
     "name": "stderr",
     "output_type": "stream",
     "text": [
      "\r",
      " 43%|███████████████████████████████████▍                                              | 16/37 [00:09<00:06,  3.13it/s]"
     ]
    },
    {
     "name": "stdout",
     "output_type": "stream",
     "text": [
      "철골콘크리트구조\n",
      "<IntegerArray>\n",
      "[41]\n",
      "Length: 1, dtype: Int64\n"
     ]
    },
    {
     "name": "stderr",
     "output_type": "stream",
     "text": [
      "\r",
      " 46%|█████████████████████████████████████▋                                            | 17/37 [00:10<00:06,  3.25it/s]"
     ]
    },
    {
     "name": "stdout",
     "output_type": "stream",
     "text": [
      "석구조\n",
      "<IntegerArray>\n",
      "[13]\n",
      "Length: 1, dtype: Int64\n"
     ]
    },
    {
     "name": "stderr",
     "output_type": "stream",
     "text": [
      "\r",
      " 49%|███████████████████████████████████████▉                                          | 18/37 [00:10<00:05,  3.38it/s]"
     ]
    },
    {
     "name": "stdout",
     "output_type": "stream",
     "text": [
      "통나무구조\n",
      "<IntegerArray>\n",
      "[52]\n",
      "Length: 1, dtype: Int64\n"
     ]
    },
    {
     "name": "stderr",
     "output_type": "stream",
     "text": [
      "\r",
      " 51%|██████████████████████████████████████████                                        | 19/37 [00:10<00:05,  3.45it/s]"
     ]
    },
    {
     "name": "stdout",
     "output_type": "stream",
     "text": [
      "조립식판넬조\n",
      "<IntegerArray>\n",
      "[63]\n",
      "Length: 1, dtype: Int64\n"
     ]
    },
    {
     "name": "stderr",
     "output_type": "stream",
     "text": [
      "\r",
      " 54%|████████████████████████████████████████████▎                                     | 20/37 [00:10<00:04,  3.56it/s]"
     ]
    },
    {
     "name": "stdout",
     "output_type": "stream",
     "text": [
      "프리케스트콘크리트구조\n",
      "<IntegerArray>\n",
      "[22]\n",
      "Length: 1, dtype: Int64\n"
     ]
    },
    {
     "name": "stderr",
     "output_type": "stream",
     "text": [
      "\r",
      " 57%|██████████████████████████████████████████████▌                                   | 21/37 [00:11<00:04,  3.53it/s]"
     ]
    },
    {
     "name": "stdout",
     "output_type": "stream",
     "text": [
      "철골구조\n",
      "<IntegerArray>\n",
      "[30]\n",
      "Length: 1, dtype: Int64\n"
     ]
    },
    {
     "name": "stderr",
     "output_type": "stream",
     "text": [
      "\r",
      " 59%|████████████████████████████████████████████████▊                                 | 22/37 [00:11<00:04,  3.56it/s]"
     ]
    },
    {
     "name": "stdout",
     "output_type": "stream",
     "text": [
      "콘크리트구조\n",
      "<IntegerArray>\n",
      "[20]\n",
      "Length: 1, dtype: Int64\n"
     ]
    },
    {
     "name": "stderr",
     "output_type": "stream",
     "text": [
      "\r",
      " 62%|██████████████████████████████████████████████████▉                               | 23/37 [00:11<00:03,  3.60it/s]"
     ]
    },
    {
     "name": "stdout",
     "output_type": "stream",
     "text": [
      "트러스목구조\n",
      "<IntegerArray>\n",
      "[53]\n",
      "Length: 1, dtype: Int64\n"
     ]
    },
    {
     "name": "stderr",
     "output_type": "stream",
     "text": [
      "\r",
      " 65%|█████████████████████████████████████████████████████▏                            | 24/37 [00:12<00:03,  3.72it/s]"
     ]
    },
    {
     "name": "stdout",
     "output_type": "stream",
     "text": [
      "공업화박판강구조(PEB)\n",
      "<IntegerArray>\n",
      "[34]\n",
      "Length: 1, dtype: Int64\n"
     ]
    },
    {
     "name": "stderr",
     "output_type": "stream",
     "text": [
      "\r",
      " 68%|███████████████████████████████████████████████████████▍                          | 25/37 [00:12<00:03,  3.67it/s]"
     ]
    },
    {
     "name": "stdout",
     "output_type": "stream",
     "text": [
      "기타콘크리트구조\n",
      "<IntegerArray>\n",
      "[29]\n",
      "Length: 1, dtype: Int64\n"
     ]
    },
    {
     "name": "stderr",
     "output_type": "stream",
     "text": [
      "\r",
      " 70%|█████████████████████████████████████████████████████████▌                        | 26/37 [00:12<00:03,  3.62it/s]"
     ]
    },
    {
     "name": "stdout",
     "output_type": "stream",
     "text": [
      "시멘트블럭조\n",
      "<IntegerArray>\n",
      "[61]\n",
      "Length: 1, dtype: Int64\n"
     ]
    },
    {
     "name": "stderr",
     "output_type": "stream",
     "text": [
      "\r",
      " 73%|███████████████████████████████████████████████████████████▊                      | 27/37 [00:12<00:02,  3.61it/s]"
     ]
    },
    {
     "name": "stdout",
     "output_type": "stream",
     "text": [
      "흙벽돌조\n",
      "<IntegerArray>\n",
      "[72]\n",
      "Length: 1, dtype: Int64\n"
     ]
    },
    {
     "name": "stderr",
     "output_type": "stream",
     "text": [
      "\r",
      " 76%|██████████████████████████████████████████████████████████████                    | 28/37 [00:13<00:02,  3.64it/s]"
     ]
    },
    {
     "name": "stdout",
     "output_type": "stream",
     "text": [
      "철파이프조\n",
      "<IntegerArray>\n",
      "[23]\n",
      "Length: 1, dtype: Int64\n"
     ]
    },
    {
     "name": "stderr",
     "output_type": "stream",
     "text": [
      "\r",
      " 78%|████████████████████████████████████████████████████████████████▎                 | 29/37 [00:13<00:02,  3.61it/s]"
     ]
    },
    {
     "name": "stdout",
     "output_type": "stream",
     "text": [
      "스틸하우스조\n",
      "<IntegerArray>\n",
      "[37, 14]\n",
      "Length: 2, dtype: Int64\n"
     ]
    },
    {
     "name": "stderr",
     "output_type": "stream",
     "text": [
      "\r",
      " 81%|██████████████████████████████████████████████████████████████████▍               | 30/37 [00:13<00:01,  3.69it/s]"
     ]
    },
    {
     "name": "stdout",
     "output_type": "stream",
     "text": [
      "철골철근콘크리트합성구조\n",
      "<IntegerArray>\n",
      "[43]\n",
      "Length: 1, dtype: Int64\n"
     ]
    },
    {
     "name": "stderr",
     "output_type": "stream",
     "text": [
      "\r",
      " 84%|████████████████████████████████████████████████████████████████████▋             | 31/37 [00:13<00:01,  3.70it/s]"
     ]
    },
    {
     "name": "stdout",
     "output_type": "stream",
     "text": [
      "단일형강구조\n",
      "<IntegerArray>\n",
      "[35]\n",
      "Length: 1, dtype: Int64\n"
     ]
    },
    {
     "name": "stderr",
     "output_type": "stream",
     "text": [
      "\r",
      " 86%|██████████████████████████████████████████████████████████████████████▉           | 32/37 [00:14<00:01,  3.65it/s]"
     ]
    },
    {
     "name": "stdout",
     "output_type": "stream",
     "text": [
      "돌담 및 토담조\n",
      "<IntegerArray>\n",
      "[24]\n",
      "Length: 1, dtype: Int64\n"
     ]
    },
    {
     "name": "stderr",
     "output_type": "stream",
     "text": [
      "\r",
      " 89%|█████████████████████████████████████████████████████████████████████████▏        | 33/37 [00:14<00:01,  3.63it/s]"
     ]
    },
    {
     "name": "stdout",
     "output_type": "stream",
     "text": [
      "트러스구조\n",
      "<IntegerArray>\n",
      "[36]\n",
      "Length: 1, dtype: Int64\n"
     ]
    },
    {
     "name": "stderr",
     "output_type": "stream",
     "text": [
      "\r",
      " 92%|███████████████████████████████████████████████████████████████████████████▎      | 34/37 [00:14<00:00,  3.69it/s]"
     ]
    },
    {
     "name": "stdout",
     "output_type": "stream",
     "text": [
      "라멘조\n",
      "<IntegerArray>\n",
      "[26]\n",
      "Length: 1, dtype: Int64\n"
     ]
    },
    {
     "name": "stderr",
     "output_type": "stream",
     "text": [
      "\r",
      " 95%|█████████████████████████████████████████████████████████████████████████████▌    | 35/37 [00:15<00:00,  3.76it/s]"
     ]
    },
    {
     "name": "stdout",
     "output_type": "stream",
     "text": [
      "막구조\n",
      "<IntegerArray>\n",
      "[81]\n",
      "Length: 1, dtype: Int64\n"
     ]
    },
    {
     "name": "stderr",
     "output_type": "stream",
     "text": [
      "\r",
      " 97%|███████████████████████████████████████████████████████████████████████████████▊  | 36/37 [00:15<00:00,  3.83it/s]"
     ]
    },
    {
     "name": "stdout",
     "output_type": "stream",
     "text": [
      "석회 및 흙혼합 벽돌조\n",
      "<IntegerArray>\n",
      "[27]\n",
      "Length: 1, dtype: Int64\n"
     ]
    },
    {
     "name": "stderr",
     "output_type": "stream",
     "text": [
      "100%|██████████████████████████████████████████████████████████████████████████████████| 37/37 [00:15<00:00,  2.38it/s]"
     ]
    },
    {
     "name": "stdout",
     "output_type": "stream",
     "text": [
      "보강콘크리트조\n",
      "<IntegerArray>\n",
      "[17]\n",
      "Length: 1, dtype: Int64\n"
     ]
    },
    {
     "name": "stderr",
     "output_type": "stream",
     "text": [
      "\n"
     ]
    }
   ],
   "source": [
    "for structure in tqdm(prac_df['구조_코드_명'].unique()):\n",
    "    structure_df = prac_df[prac_df['구조_코드_명'] == structure]\n",
    "    print(structure)\n",
    "    print(structure_df['구조_코드'].unique())"
   ]
  },
  {
   "cell_type": "code",
   "execution_count": null,
   "metadata": {},
   "outputs": [],
   "source": []
  }
 ],
 "metadata": {
  "kernelspec": {
   "display_name": "Python 3",
   "language": "python",
   "name": "python3"
  },
  "language_info": {
   "codemirror_mode": {
    "name": "ipython",
    "version": 3
   },
   "file_extension": ".py",
   "mimetype": "text/x-python",
   "name": "python",
   "nbconvert_exporter": "python",
   "pygments_lexer": "ipython3",
   "version": "3.7.9"
  }
 },
 "nbformat": 4,
 "nbformat_minor": 4
}
