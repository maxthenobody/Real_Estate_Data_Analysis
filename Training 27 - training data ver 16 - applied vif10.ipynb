{
 "cells": [
  {
   "cell_type": "code",
   "execution_count": 1,
   "metadata": {},
   "outputs": [],
   "source": [
    "import numpy as np\n",
    "import pandas as pd\n",
    "import matplotlib.pyplot as plt\n",
    "import os\n",
    "import math\n",
    "from tqdm import tqdm\n",
    "import requests\n",
    "from urllib.parse import urlparse\n",
    "pd.set_option('display.max_rows', 500)\n",
    "pd.set_option('display.max_columns', 500)\n",
    "import datetime\n",
    "from sklearn.preprocessing import quantile_transform\n",
    "pd.options.mode.chained_assignment = None  # default='warn'\n",
    "import gc\n",
    "import matplotlib\n",
    "matplotlib.rcParams['axes.unicode_minus'] = False\n",
    "font_path = './NanumFontSetup_TTF_BARUNGOTHIC/NanumBarunGothic.ttf'\n",
    "import matplotlib.font_manager as fm\n",
    "fontprop = fm.FontProperties(fname=font_path, size=18)\n",
    "import seaborn as sns\n",
    "import shap"
   ]
  },
  {
   "cell_type": "code",
   "execution_count": 2,
   "metadata": {},
   "outputs": [
    {
     "name": "stdout",
     "output_type": "stream",
     "text": [
      "Wall time: 1min 25s\n"
     ]
    }
   ],
   "source": [
    "%%time\n",
    "# Read Data\n",
    "basedir = './Training/training_data_ver_16/'\n",
    "training_data_df = pd.read_csv(basedir + 'training_data_ver_16.csv').drop(columns=['주택가격지수']).dropna()\n",
    "#training_data_df = training_data_df[(training_data_df['가격면적'] >= 200) & (training_data_df['가격면적'] <= 1500)]\n",
    "training_data_df.columns = [col.replace(' ','_').replace('·','_') for col in training_data_df.columns]"
   ]
  },
  {
   "cell_type": "code",
   "execution_count": 3,
   "metadata": {
    "scrolled": true
   },
   "outputs": [],
   "source": [
    "training_data_df = training_data_df[(training_data_df['가격면적'] >= 200) & (training_data_df['가격면적'] <= 3000)]"
   ]
  },
  {
   "cell_type": "code",
   "execution_count": 4,
   "metadata": {},
   "outputs": [],
   "source": [
    "training_data_df['호수대비부속건축물면적'] = training_data_df['부속건축물면적'] / training_data_df['총호수']"
   ]
  },
  {
   "cell_type": "code",
   "execution_count": 5,
   "metadata": {},
   "outputs": [],
   "source": [
    "training_data_df = training_data_df[(training_data_df['호수대비부속건축물면적'] < 100)]"
   ]
  },
  {
   "cell_type": "code",
   "execution_count": 6,
   "metadata": {},
   "outputs": [],
   "source": [
    "training_data_df = training_data_df.reset_index(drop=True)"
   ]
  },
  {
   "cell_type": "code",
   "execution_count": 7,
   "metadata": {},
   "outputs": [],
   "source": [
    "cols_to_log = ['총건축면적', '총연면적', '총용적률연면적', '토지면적', '부속건축물면적']\n",
    "for col in cols_to_log:\n",
    "    training_data_df[col] = training_data_df[col].apply(np.log1p)"
   ]
  },
  {
   "cell_type": "code",
   "execution_count": 8,
   "metadata": {},
   "outputs": [],
   "source": [
    "cat_cols_df = pd.read_csv(basedir + 'cat_cols.csv')"
   ]
  },
  {
   "cell_type": "code",
   "execution_count": 9,
   "metadata": {},
   "outputs": [
    {
     "data": {
      "text/plain": [
       "296"
      ]
     },
     "execution_count": 9,
     "metadata": {},
     "output_type": "execute_result"
    }
   ],
   "source": [
    "cat_cols_list = [col.replace(' ','_').replace('·','_') for col in cat_cols_df['colname'].tolist()]\n",
    "len(cat_cols_list)"
   ]
  },
  {
   "cell_type": "code",
   "execution_count": 10,
   "metadata": {},
   "outputs": [
    {
     "data": {
      "text/plain": [
       "296"
      ]
     },
     "execution_count": 10,
     "metadata": {},
     "output_type": "execute_result"
    }
   ],
   "source": [
    "cat_cols = [col for col in training_data_df.columns if col in cat_cols_list]\n",
    "len(cat_cols)"
   ]
  },
  {
   "cell_type": "code",
   "execution_count": 11,
   "metadata": {},
   "outputs": [
    {
     "data": {
      "text/plain": [
       "['건물나이',\n",
       " 'trade_type',\n",
       " '표준지여부',\n",
       " '지목명',\n",
       " '용도지역명1',\n",
       " '용도지역명2',\n",
       " '토지이동상황',\n",
       " '지형높이',\n",
       " '지형형상',\n",
       " '도로접면']"
      ]
     },
     "execution_count": 11,
     "metadata": {},
     "output_type": "execute_result"
    }
   ],
   "source": [
    "cat_cols[:10]"
   ]
  },
  {
   "cell_type": "code",
   "execution_count": 12,
   "metadata": {},
   "outputs": [
    {
     "name": "stdout",
     "output_type": "stream",
     "text": [
      "(15, 1)\n"
     ]
    },
    {
     "data": {
      "text/html": [
       "<div>\n",
       "<style scoped>\n",
       "    .dataframe tbody tr th:only-of-type {\n",
       "        vertical-align: middle;\n",
       "    }\n",
       "\n",
       "    .dataframe tbody tr th {\n",
       "        vertical-align: top;\n",
       "    }\n",
       "\n",
       "    .dataframe thead th {\n",
       "        text-align: right;\n",
       "    }\n",
       "</style>\n",
       "<table border=\"1\" class=\"dataframe\">\n",
       "  <thead>\n",
       "    <tr style=\"text-align: right;\">\n",
       "      <th></th>\n",
       "      <th>cols_to_drop</th>\n",
       "    </tr>\n",
       "  </thead>\n",
       "  <tbody>\n",
       "    <tr>\n",
       "      <th>0</th>\n",
       "      <td>층max</td>\n",
       "    </tr>\n",
       "    <tr>\n",
       "      <th>1</th>\n",
       "      <td>총용적률연면적</td>\n",
       "    </tr>\n",
       "    <tr>\n",
       "      <th>2</th>\n",
       "      <td>전용면적_mean</td>\n",
       "    </tr>\n",
       "    <tr>\n",
       "      <th>3</th>\n",
       "      <td>토지면적</td>\n",
       "    </tr>\n",
       "    <tr>\n",
       "      <th>4</th>\n",
       "      <td>철근콘크리트구조_fraction</td>\n",
       "    </tr>\n",
       "  </tbody>\n",
       "</table>\n",
       "</div>"
      ],
      "text/plain": [
       "        cols_to_drop\n",
       "0               층max\n",
       "1            총용적률연면적\n",
       "2          전용면적_mean\n",
       "3               토지면적\n",
       "4  철근콘크리트구조_fraction"
      ]
     },
     "execution_count": 12,
     "metadata": {},
     "output_type": "execute_result"
    }
   ],
   "source": [
    "vif_result_df = pd.read_csv('./Production_Prep/vif10.csv')\n",
    "print(vif_result_df.shape)\n",
    "vif_result_df.head()"
   ]
  },
  {
   "cell_type": "code",
   "execution_count": 13,
   "metadata": {},
   "outputs": [
    {
     "data": {
      "text/plain": [
       "['층max',\n",
       " '총용적률연면적',\n",
       " '전용면적_mean',\n",
       " '토지면적',\n",
       " '철근콘크리트구조_fraction',\n",
       " '총연면적',\n",
       " '총주차수',\n",
       " '공원자연환경지구',\n",
       " '전용면적_min',\n",
       " '상대보호구역',\n",
       " '체육공원',\n",
       " '광로2류(폭_50M~70M)',\n",
       " '전용면적_max',\n",
       " '층median',\n",
       " '중요시설물보호지구(공항)']"
      ]
     },
     "execution_count": 13,
     "metadata": {},
     "output_type": "execute_result"
    }
   ],
   "source": [
    "vif_cols_to_drop = vif_result_df['cols_to_drop'].tolist()\n",
    "vif_cols_to_drop"
   ]
  },
  {
   "cell_type": "markdown",
   "metadata": {},
   "source": [
    "# Training"
   ]
  },
  {
   "cell_type": "code",
   "execution_count": 14,
   "metadata": {},
   "outputs": [],
   "source": [
    "from sklearn.model_selection import KFold, GroupKFold"
   ]
  },
  {
   "cell_type": "code",
   "execution_count": 15,
   "metadata": {},
   "outputs": [],
   "source": [
    "import lightgbm as lgb"
   ]
  },
  {
   "cell_type": "code",
   "execution_count": 16,
   "metadata": {},
   "outputs": [],
   "source": [
    "from sklearn.metrics import r2_score"
   ]
  },
  {
   "cell_type": "code",
   "execution_count": 17,
   "metadata": {},
   "outputs": [],
   "source": [
    "kf = KFold(n_splits=5, shuffle=True, random_state=42)"
   ]
  },
  {
   "cell_type": "code",
   "execution_count": 18,
   "metadata": {},
   "outputs": [],
   "source": [
    "target_cols = ['금액(만원)', '가격면적', 'target_log_transformed', 'targetarea_log_transformed', '지번주소']"
   ]
  },
  {
   "cell_type": "code",
   "execution_count": 19,
   "metadata": {},
   "outputs": [],
   "source": [
    "cols_to_drop = target_cols + vif_cols_to_drop"
   ]
  },
  {
   "cell_type": "code",
   "execution_count": 20,
   "metadata": {},
   "outputs": [
    {
     "data": {
      "text/plain": [
       "291"
      ]
     },
     "execution_count": 20,
     "metadata": {},
     "output_type": "execute_result"
    }
   ],
   "source": [
    "cat_cols = [col for col in cat_cols if col not in cols_to_drop]\n",
    "len(cat_cols)"
   ]
  },
  {
   "cell_type": "code",
   "execution_count": 21,
   "metadata": {},
   "outputs": [],
   "source": [
    "# Next things to do:\n",
    "# 1. Do Variance Inflation Factor (VIF) analysis.\n",
    "# 2. keep the feature with the highest shap value\n",
    "# 3. Retrain\n",
    "# 4. Remove 1 feature at a time and find out the set of feature with the lowest loss.\n",
    "# 5. Retrain\n",
    "# 6. Continue production prep"
   ]
  },
  {
   "cell_type": "code",
   "execution_count": 22,
   "metadata": {},
   "outputs": [
    {
     "name": "stdout",
     "output_type": "stream",
     "text": [
      "Fold 0 start\n",
      "y dist plot\n"
     ]
    },
    {
     "data": {
      "image/png": "[encoded data removed]",
      "text/plain": [
       "<Figure size 432x288 with 1 Axes>"
      ]
     },
     "metadata": {
      "needs_background": "light"
     },
     "output_type": "display_data"
    },
    {
     "name": "stderr",
     "output_type": "stream",
     "text": [
      "Using categorical_feature in Dataset.\n"
     ]
    },
    {
     "name": "stdout",
     "output_type": "stream",
     "text": [
      "[LightGBM] [Warning] Auto-choosing row-wise multi-threading, the overhead of testing was 0.951271 seconds.\n",
      "You can set `force_row_wise=true` to remove the overhead.\n",
      "And if memory is not enough, you can set `force_col_wise=true`.\n",
      "[LightGBM] [Info] Total Bins 8159\n",
      "[LightGBM] [Info] Number of data points in the train set: 2926580, number of used features: 363\n"
     ]
    },
    {
     "name": "stderr",
     "output_type": "stream",
     "text": [
      "Overriding the parameters from Reference Dataset.\n",
      "categorical_column in param dict is overridden.\n"
     ]
    },
    {
     "name": "stdout",
     "output_type": "stream",
     "text": [
      "[LightGBM] [Info] Start training from score 524.640869\n",
      "Training until validation scores don't improve for 500 rounds\n",
      "[50]\tvalid_0's huber: 79.6288\n",
      "[100]\tvalid_0's huber: 64.9644\n",
      "[150]\tvalid_0's huber: 58.7218\n",
      "[200]\tvalid_0's huber: 55.0433\n",
      "[250]\tvalid_0's huber: 52.553\n",
      "[300]\tvalid_0's huber: 50.7164\n",
      "[350]\tvalid_0's huber: 49.3747\n",
      "[400]\tvalid_0's huber: 48.2673\n",
      "[450]\tvalid_0's huber: 47.4522\n",
      "[500]\tvalid_0's huber: 46.6175\n",
      "[550]\tvalid_0's huber: 45.9052\n",
      "[600]\tvalid_0's huber: 45.1702\n",
      "[650]\tvalid_0's huber: 44.6041\n",
      "[700]\tvalid_0's huber: 44.1038\n",
      "[750]\tvalid_0's huber: 43.6454\n",
      "[800]\tvalid_0's huber: 43.2989\n",
      "[850]\tvalid_0's huber: 42.856\n",
      "[900]\tvalid_0's huber: 42.5078\n",
      "[950]\tvalid_0's huber: 42.1806\n",
      "[1000]\tvalid_0's huber: 41.862\n",
      "[1050]\tvalid_0's huber: 41.5735\n",
      "[1100]\tvalid_0's huber: 41.2942\n",
      "[1150]\tvalid_0's huber: 41.0716\n",
      "[1200]\tvalid_0's huber: 40.8818\n",
      "[1250]\tvalid_0's huber: 40.6253\n",
      "[1300]\tvalid_0's huber: 40.4352\n",
      "[1350]\tvalid_0's huber: 40.2394\n",
      "[1400]\tvalid_0's huber: 40.0158\n",
      "[1450]\tvalid_0's huber: 39.8231\n",
      "[1500]\tvalid_0's huber: 39.6407\n",
      "[1550]\tvalid_0's huber: 39.4855\n",
      "[1600]\tvalid_0's huber: 39.3244\n",
      "[1650]\tvalid_0's huber: 39.1702\n",
      "[1700]\tvalid_0's huber: 39.0185\n",
      "[1750]\tvalid_0's huber: 38.8747\n",
      "[1800]\tvalid_0's huber: 38.7345\n",
      "[1850]\tvalid_0's huber: 38.6015\n",
      "[1900]\tvalid_0's huber: 38.5011\n",
      "[1950]\tvalid_0's huber: 38.3549\n",
      "[2000]\tvalid_0's huber: 38.2358\n",
      "[2050]\tvalid_0's huber: 38.1097\n",
      "[2100]\tvalid_0's huber: 38.0055\n",
      "[2150]\tvalid_0's huber: 37.9026\n",
      "[2200]\tvalid_0's huber: 37.8042\n",
      "[2250]\tvalid_0's huber: 37.7126\n",
      "[2300]\tvalid_0's huber: 37.6148\n",
      "[2350]\tvalid_0's huber: 37.524\n",
      "[2400]\tvalid_0's huber: 37.4408\n",
      "[2450]\tvalid_0's huber: 37.3445\n",
      "[2500]\tvalid_0's huber: 37.2591\n",
      "[2550]\tvalid_0's huber: 37.1778\n",
      "[2600]\tvalid_0's huber: 37.0896\n",
      "[2650]\tvalid_0's huber: 37.0213\n",
      "[2700]\tvalid_0's huber: 36.9453\n",
      "[2750]\tvalid_0's huber: 36.8792\n",
      "[2800]\tvalid_0's huber: 36.8033\n",
      "[2850]\tvalid_0's huber: 36.7293\n",
      "[2900]\tvalid_0's huber: 36.6531\n",
      "[2950]\tvalid_0's huber: 36.5879\n",
      "[3000]\tvalid_0's huber: 36.5091\n",
      "[3050]\tvalid_0's huber: 36.4299\n",
      "[3100]\tvalid_0's huber: 36.3461\n",
      "[3150]\tvalid_0's huber: 36.2807\n",
      "[3200]\tvalid_0's huber: 36.2295\n",
      "[3250]\tvalid_0's huber: 36.1753\n",
      "[3300]\tvalid_0's huber: 36.1157\n",
      "[3350]\tvalid_0's huber: 36.0495\n",
      "[3400]\tvalid_0's huber: 35.9834\n",
      "[3450]\tvalid_0's huber: 35.914\n",
      "[3500]\tvalid_0's huber: 35.8619\n",
      "[3550]\tvalid_0's huber: 35.8001\n",
      "[3600]\tvalid_0's huber: 35.7499\n",
      "[3650]\tvalid_0's huber: 35.706\n",
      "[3700]\tvalid_0's huber: 35.6613\n",
      "[3750]\tvalid_0's huber: 35.6259\n",
      "[3800]\tvalid_0's huber: 35.5921\n",
      "[3850]\tvalid_0's huber: 35.5533\n",
      "[3900]\tvalid_0's huber: 35.5438\n",
      "[3950]\tvalid_0's huber: 35.5365\n",
      "[4000]\tvalid_0's huber: 35.524\n",
      "[4050]\tvalid_0's huber: 35.5102\n",
      "[4100]\tvalid_0's huber: 35.4988\n",
      "[4150]\tvalid_0's huber: 35.4921\n",
      "[4200]\tvalid_0's huber: 35.4663\n",
      "[4250]\tvalid_0's huber: 35.4336\n",
      "[4300]\tvalid_0's huber: 35.4193\n",
      "[4350]\tvalid_0's huber: 35.3861\n",
      "[4400]\tvalid_0's huber: 35.3823\n",
      "[4450]\tvalid_0's huber: 35.3737\n",
      "[4500]\tvalid_0's huber: 35.344\n",
      "[4550]\tvalid_0's huber: 35.3011\n",
      "[4600]\tvalid_0's huber: 35.2605\n",
      "[4650]\tvalid_0's huber: 35.2208\n",
      "[4700]\tvalid_0's huber: 35.2121\n",
      "[4750]\tvalid_0's huber: 35.2086\n",
      "[4800]\tvalid_0's huber: 35.1976\n",
      "[4850]\tvalid_0's huber: 35.1916\n",
      "[4900]\tvalid_0's huber: 35.1833\n",
      "[4950]\tvalid_0's huber: 35.1727\n",
      "[5000]\tvalid_0's huber: 35.1709\n",
      "[5050]\tvalid_0's huber: 35.1652\n",
      "[5100]\tvalid_0's huber: 35.1637\n",
      "[5150]\tvalid_0's huber: 35.1617\n",
      "[5200]\tvalid_0's huber: 35.1412\n",
      "[5250]\tvalid_0's huber: 35.1251\n",
      "[5300]\tvalid_0's huber: 35.1099\n",
      "[5350]\tvalid_0's huber: 35.1081\n",
      "[5400]\tvalid_0's huber: 35.0999\n",
      "[5450]\tvalid_0's huber: 35.0895\n",
      "[5500]\tvalid_0's huber: 35.0749\n",
      "[5550]\tvalid_0's huber: 35.0522\n",
      "[5600]\tvalid_0's huber: 35.0285\n",
      "[5650]\tvalid_0's huber: 34.9963\n",
      "[5700]\tvalid_0's huber: 34.9737\n",
      "[5750]\tvalid_0's huber: 34.9517\n",
      "[5800]\tvalid_0's huber: 34.9287\n",
      "[5850]\tvalid_0's huber: 34.9032\n",
      "[5900]\tvalid_0's huber: 34.8872\n",
      "[5950]\tvalid_0's huber: 34.8865\n",
      "[6000]\tvalid_0's huber: 34.8816\n",
      "[6050]\tvalid_0's huber: 34.8743\n",
      "[6100]\tvalid_0's huber: 34.8588\n",
      "[6150]\tvalid_0's huber: 34.8407\n",
      "[6200]\tvalid_0's huber: 34.8358\n",
      "[6250]\tvalid_0's huber: 34.8305\n",
      "[6300]\tvalid_0's huber: 34.8263\n",
      "[6350]\tvalid_0's huber: 34.8037\n",
      "[6400]\tvalid_0's huber: 34.7737\n",
      "[6450]\tvalid_0's huber: 34.7536\n",
      "[6500]\tvalid_0's huber: 34.7392\n",
      "[6550]\tvalid_0's huber: 34.7298\n",
      "[6600]\tvalid_0's huber: 34.7227\n",
      "[6650]\tvalid_0's huber: 34.7151\n",
      "[6700]\tvalid_0's huber: 34.7068\n",
      "[6750]\tvalid_0's huber: 34.6937\n",
      "[6800]\tvalid_0's huber: 34.6923\n",
      "[6850]\tvalid_0's huber: 34.6791\n",
      "[6900]\tvalid_0's huber: 34.6716\n",
      "[6950]\tvalid_0's huber: 34.6707\n",
      "[7000]\tvalid_0's huber: 34.6621\n",
      "[7050]\tvalid_0's huber: 34.6551\n",
      "[7100]\tvalid_0's huber: 34.6382\n",
      "[7150]\tvalid_0's huber: 34.6193\n",
      "[7200]\tvalid_0's huber: 34.6196\n",
      "[7250]\tvalid_0's huber: 34.6167\n",
      "[7300]\tvalid_0's huber: 34.6153\n",
      "[7350]\tvalid_0's huber: 34.6035\n",
      "[7400]\tvalid_0's huber: 34.5986\n",
      "[7450]\tvalid_0's huber: 34.5772\n",
      "[7500]\tvalid_0's huber: 34.5674\n",
      "[7550]\tvalid_0's huber: 34.5564\n",
      "[7600]\tvalid_0's huber: 34.5556\n",
      "[7650]\tvalid_0's huber: 34.5557\n",
      "[7700]\tvalid_0's huber: 34.5557\n",
      "[7750]\tvalid_0's huber: 34.5556\n",
      "[7800]\tvalid_0's huber: 34.5514\n",
      "[7850]\tvalid_0's huber: 34.5453\n",
      "[7900]\tvalid_0's huber: 34.5363\n",
      "[7950]\tvalid_0's huber: 34.5223\n",
      "[8000]\tvalid_0's huber: 34.5227\n",
      "[8050]\tvalid_0's huber: 34.5227\n",
      "[8100]\tvalid_0's huber: 34.5225\n",
      "[8150]\tvalid_0's huber: 34.5111\n",
      "[8200]\tvalid_0's huber: 34.5061\n",
      "[8250]\tvalid_0's huber: 34.5052\n",
      "[8300]\tvalid_0's huber: 34.4989\n",
      "[8350]\tvalid_0's huber: 34.499\n",
      "[8400]\tvalid_0's huber: 34.4986\n",
      "[8450]\tvalid_0's huber: 34.4841\n",
      "[8500]\tvalid_0's huber: 34.4831\n",
      "[8550]\tvalid_0's huber: 34.4809\n",
      "[8600]\tvalid_0's huber: 34.4788\n",
      "[8650]\tvalid_0's huber: 34.4792\n",
      "[8700]\tvalid_0's huber: 34.4789\n",
      "[8750]\tvalid_0's huber: 34.4734\n",
      "[8800]\tvalid_0's huber: 34.4675\n",
      "[8850]\tvalid_0's huber: 34.4677\n",
      "[8900]\tvalid_0's huber: 34.4667\n",
      "[8950]\tvalid_0's huber: 34.4624\n",
      "[9000]\tvalid_0's huber: 34.4542\n",
      "[9050]\tvalid_0's huber: 34.4528\n",
      "[9100]\tvalid_0's huber: 34.4519\n",
      "[9150]\tvalid_0's huber: 34.4418\n",
      "[9200]\tvalid_0's huber: 34.4389\n",
      "[9250]\tvalid_0's huber: 34.4354\n",
      "[9300]\tvalid_0's huber: 34.435\n",
      "[9350]\tvalid_0's huber: 34.4234\n",
      "[9400]\tvalid_0's huber: 34.4167\n",
      "[9450]\tvalid_0's huber: 34.409\n",
      "[9500]\tvalid_0's huber: 34.4026\n",
      "[9550]\tvalid_0's huber: 34.3996\n",
      "[9600]\tvalid_0's huber: 34.3943\n",
      "[9650]\tvalid_0's huber: 34.3882\n",
      "[9700]\tvalid_0's huber: 34.3862\n",
      "[9750]\tvalid_0's huber: 34.3845\n",
      "[9800]\tvalid_0's huber: 34.3803\n",
      "[9850]\tvalid_0's huber: 34.3772\n",
      "[9900]\tvalid_0's huber: 34.3772\n",
      "[9950]\tvalid_0's huber: 34.3751\n",
      "[10000]\tvalid_0's huber: 34.3746\n",
      "Did not meet early stopping. Best iteration is:\n",
      "[9978]\tvalid_0's huber: 34.3745\n",
      "preds dist plot\n"
     ]
    },
    {
     "name": "stderr",
     "output_type": "stream",
     "text": [
      "`distplot` is a deprecated function and will be removed in a future version. Please adapt your code to use either `displot` (a figure-level function with similar flexibility) or `histplot` (an axes-level function for histograms).\n"
     ]
    },
    {
     "data": {
      "image/png": "[encoded data removed]",
      "text/plain": [
       "<Figure size 432x288 with 1 Axes>"
      ]
     },
     "metadata": {
      "needs_background": "light"
     },
     "output_type": "display_data"
    },
    {
     "name": "stdout",
     "output_type": "stream",
     "text": [
      "Fold 0 end\n",
      "Fold 1 start\n",
      "y dist plot\n"
     ]
    },
    {
     "data": {
      "image/png": "[encoded data removed]",
      "text/plain": [
       "<Figure size 432x288 with 1 Axes>"
      ]
     },
     "metadata": {
      "needs_background": "light"
     },
     "output_type": "display_data"
    },
    {
     "name": "stderr",
     "output_type": "stream",
     "text": [
      "Using categorical_feature in Dataset.\n"
     ]
    },
    {
     "name": "stdout",
     "output_type": "stream",
     "text": [
      "[LightGBM] [Warning] Auto-choosing row-wise multi-threading, the overhead of testing was 0.998305 seconds.\n",
      "You can set `force_row_wise=true` to remove the overhead.\n",
      "And if memory is not enough, you can set `force_col_wise=true`.\n",
      "[LightGBM] [Info] Total Bins 8163\n",
      "[LightGBM] [Info] Number of data points in the train set: 2926581, number of used features: 365\n"
     ]
    },
    {
     "name": "stderr",
     "output_type": "stream",
     "text": [
      "Overriding the parameters from Reference Dataset.\n",
      "categorical_column in param dict is overridden.\n"
     ]
    },
    {
     "name": "stdout",
     "output_type": "stream",
     "text": [
      "[LightGBM] [Info] Start training from score 524.755320\n",
      "Training until validation scores don't improve for 500 rounds\n",
      "[50]\tvalid_0's huber: 79.6252\n",
      "[100]\tvalid_0's huber: 64.7256\n",
      "[150]\tvalid_0's huber: 58.5277\n",
      "[200]\tvalid_0's huber: 55.0354\n",
      "[250]\tvalid_0's huber: 52.4369\n",
      "[300]\tvalid_0's huber: 50.5643\n",
      "[350]\tvalid_0's huber: 49.2386\n",
      "[400]\tvalid_0's huber: 48.1448\n",
      "[450]\tvalid_0's huber: 47.1938\n",
      "[500]\tvalid_0's huber: 46.4694\n",
      "[550]\tvalid_0's huber: 45.8057\n",
      "[600]\tvalid_0's huber: 45.1268\n",
      "[650]\tvalid_0's huber: 44.5768\n",
      "[700]\tvalid_0's huber: 44.041\n",
      "[750]\tvalid_0's huber: 43.5775\n",
      "[800]\tvalid_0's huber: 43.2189\n",
      "[850]\tvalid_0's huber: 42.8493\n",
      "[900]\tvalid_0's huber: 42.5108\n",
      "[950]\tvalid_0's huber: 42.1083\n",
      "[1000]\tvalid_0's huber: 41.8092\n",
      "[1050]\tvalid_0's huber: 41.5622\n",
      "[1100]\tvalid_0's huber: 41.3121\n",
      "[1150]\tvalid_0's huber: 41.0559\n",
      "[1200]\tvalid_0's huber: 40.809\n",
      "[1250]\tvalid_0's huber: 40.5753\n",
      "[1300]\tvalid_0's huber: 40.3758\n",
      "[1350]\tvalid_0's huber: 40.182\n",
      "[1400]\tvalid_0's huber: 39.9973\n",
      "[1450]\tvalid_0's huber: 39.813\n",
      "[1500]\tvalid_0's huber: 39.6411\n",
      "[1550]\tvalid_0's huber: 39.4665\n",
      "[1600]\tvalid_0's huber: 39.3044\n",
      "[1650]\tvalid_0's huber: 39.1425\n",
      "[1700]\tvalid_0's huber: 38.9992\n",
      "[1750]\tvalid_0's huber: 38.8355\n",
      "[1800]\tvalid_0's huber: 38.7072\n",
      "[1850]\tvalid_0's huber: 38.5667\n",
      "[1900]\tvalid_0's huber: 38.4339\n",
      "[1950]\tvalid_0's huber: 38.3065\n",
      "[2000]\tvalid_0's huber: 38.169\n",
      "[2050]\tvalid_0's huber: 38.0687\n",
      "[2100]\tvalid_0's huber: 37.9541\n",
      "[2150]\tvalid_0's huber: 37.8356\n",
      "[2200]\tvalid_0's huber: 37.7361\n",
      "[2250]\tvalid_0's huber: 37.6591\n",
      "[2300]\tvalid_0's huber: 37.5569\n",
      "[2350]\tvalid_0's huber: 37.4711\n",
      "[2400]\tvalid_0's huber: 37.3746\n",
      "[2450]\tvalid_0's huber: 37.2789\n",
      "[2500]\tvalid_0's huber: 37.1947\n",
      "[2550]\tvalid_0's huber: 37.1142\n",
      "[2600]\tvalid_0's huber: 37.0457\n",
      "[2650]\tvalid_0's huber: 36.9675\n",
      "[2700]\tvalid_0's huber: 36.8708\n",
      "[2750]\tvalid_0's huber: 36.8029\n",
      "[2800]\tvalid_0's huber: 36.7535\n",
      "[2850]\tvalid_0's huber: 36.7054\n",
      "[2900]\tvalid_0's huber: 36.6322\n",
      "[2950]\tvalid_0's huber: 36.5725\n",
      "[3000]\tvalid_0's huber: 36.5343\n",
      "[3050]\tvalid_0's huber: 36.4784\n",
      "[3100]\tvalid_0's huber: 36.4207\n",
      "[3150]\tvalid_0's huber: 36.3733\n",
      "[3200]\tvalid_0's huber: 36.314\n",
      "[3250]\tvalid_0's huber: 36.2655\n",
      "[3300]\tvalid_0's huber: 36.2053\n",
      "[3350]\tvalid_0's huber: 36.1699\n",
      "[3400]\tvalid_0's huber: 36.1542\n",
      "[3450]\tvalid_0's huber: 36.1065\n",
      "[3500]\tvalid_0's huber: 36.0547\n",
      "[3550]\tvalid_0's huber: 36.005\n",
      "[3600]\tvalid_0's huber: 35.9736\n",
      "[3650]\tvalid_0's huber: 35.9652\n",
      "[3700]\tvalid_0's huber: 35.955\n",
      "[3750]\tvalid_0's huber: 35.9482\n",
      "[3800]\tvalid_0's huber: 35.9459\n",
      "[3850]\tvalid_0's huber: 35.9353\n",
      "[3900]\tvalid_0's huber: 35.9302\n",
      "[3950]\tvalid_0's huber: 35.9264\n",
      "[4000]\tvalid_0's huber: 35.9202\n",
      "[4050]\tvalid_0's huber: 35.9106\n",
      "[4100]\tvalid_0's huber: 35.9028\n",
      "[4150]\tvalid_0's huber: 35.8957\n",
      "[4200]\tvalid_0's huber: 35.8949\n",
      "[4250]\tvalid_0's huber: 35.894\n",
      "[4300]\tvalid_0's huber: 35.8932\n",
      "[4350]\tvalid_0's huber: 35.8925\n",
      "[4400]\tvalid_0's huber: 35.8889\n",
      "[4450]\tvalid_0's huber: 35.8864\n",
      "[4500]\tvalid_0's huber: 35.8848\n",
      "[4550]\tvalid_0's huber: 35.8838\n",
      "[4600]\tvalid_0's huber: 35.8827\n",
      "[4650]\tvalid_0's huber: 35.8819\n",
      "[4700]\tvalid_0's huber: 35.8815\n",
      "[4750]\tvalid_0's huber: 35.8817\n",
      "[4800]\tvalid_0's huber: 35.8764\n",
      "[4850]\tvalid_0's huber: 35.8766\n",
      "[4900]\tvalid_0's huber: 35.8727\n",
      "[4950]\tvalid_0's huber: 35.8707\n",
      "[5000]\tvalid_0's huber: 35.8656\n",
      "[5050]\tvalid_0's huber: 35.8654\n",
      "[5100]\tvalid_0's huber: 35.8657\n",
      "[5150]\tvalid_0's huber: 35.8652\n",
      "[5200]\tvalid_0's huber: 35.8654\n",
      "[5250]\tvalid_0's huber: 35.8622\n",
      "[5300]\tvalid_0's huber: 35.8595\n",
      "[5350]\tvalid_0's huber: 35.8587\n",
      "[5400]\tvalid_0's huber: 35.858\n",
      "[5450]\tvalid_0's huber: 35.8578\n",
      "[5500]\tvalid_0's huber: 35.8529\n",
      "[5550]\tvalid_0's huber: 35.8337\n",
      "[5600]\tvalid_0's huber: 35.8313\n",
      "[5650]\tvalid_0's huber: 35.8288\n",
      "[5700]\tvalid_0's huber: 35.8243\n",
      "[5750]\tvalid_0's huber: 35.8105\n",
      "[5800]\tvalid_0's huber: 35.8099\n",
      "[5850]\tvalid_0's huber: 35.8097\n",
      "[5900]\tvalid_0's huber: 35.8099\n",
      "[5950]\tvalid_0's huber: 35.8089\n",
      "[6000]\tvalid_0's huber: 35.8081\n",
      "[6050]\tvalid_0's huber: 35.8074\n",
      "[6100]\tvalid_0's huber: 35.8069\n",
      "[6150]\tvalid_0's huber: 35.8069\n",
      "[6200]\tvalid_0's huber: 35.8048\n",
      "[6250]\tvalid_0's huber: 35.8041\n",
      "[6300]\tvalid_0's huber: 35.8046\n",
      "[6350]\tvalid_0's huber: 35.8048\n",
      "[6400]\tvalid_0's huber: 35.8052\n",
      "[6450]\tvalid_0's huber: 35.805\n",
      "[6500]\tvalid_0's huber: 35.8055\n",
      "[6550]\tvalid_0's huber: 35.8044\n",
      "[6600]\tvalid_0's huber: 35.8043\n",
      "[6650]\tvalid_0's huber: 35.8047\n",
      "[6700]\tvalid_0's huber: 35.8041\n",
      "[6750]\tvalid_0's huber: 35.8038\n",
      "[6800]\tvalid_0's huber: 35.8039\n",
      "[6850]\tvalid_0's huber: 35.8035\n",
      "[6900]\tvalid_0's huber: 35.8035\n",
      "[6950]\tvalid_0's huber: 35.8025\n",
      "[7000]\tvalid_0's huber: 35.8025\n",
      "[7050]\tvalid_0's huber: 35.8021\n",
      "[7100]\tvalid_0's huber: 35.8015\n",
      "[7150]\tvalid_0's huber: 35.8014\n",
      "[7200]\tvalid_0's huber: 35.8012\n",
      "[7250]\tvalid_0's huber: 35.8013\n",
      "[7300]\tvalid_0's huber: 35.7999\n",
      "[7350]\tvalid_0's huber: 35.7983\n",
      "[7400]\tvalid_0's huber: 35.7982\n",
      "[7450]\tvalid_0's huber: 35.7984\n",
      "[7500]\tvalid_0's huber: 35.7981\n",
      "[7550]\tvalid_0's huber: 35.7962\n",
      "[7600]\tvalid_0's huber: 35.7946\n",
      "[7650]\tvalid_0's huber: 35.794\n",
      "[7700]\tvalid_0's huber: 35.7919\n",
      "[7750]\tvalid_0's huber: 35.792\n",
      "[7800]\tvalid_0's huber: 35.7897\n",
      "[7850]\tvalid_0's huber: 35.7874\n",
      "[7900]\tvalid_0's huber: 35.7868\n",
      "[7950]\tvalid_0's huber: 35.785\n",
      "[8000]\tvalid_0's huber: 35.7817\n",
      "[8050]\tvalid_0's huber: 35.7808\n",
      "[8100]\tvalid_0's huber: 35.7791\n",
      "[8150]\tvalid_0's huber: 35.7793\n",
      "[8200]\tvalid_0's huber: 35.7795\n",
      "[8250]\tvalid_0's huber: 35.7797\n",
      "[8300]\tvalid_0's huber: 35.7795\n",
      "[8350]\tvalid_0's huber: 35.7796\n",
      "[8400]\tvalid_0's huber: 35.779\n",
      "[8450]\tvalid_0's huber: 35.7787\n",
      "[8500]\tvalid_0's huber: 35.7785\n",
      "[8550]\tvalid_0's huber: 35.7766\n",
      "[8600]\tvalid_0's huber: 35.7759\n",
      "[8650]\tvalid_0's huber: 35.7737\n",
      "[8700]\tvalid_0's huber: 35.7724\n",
      "[8750]\tvalid_0's huber: 35.7637\n",
      "[8800]\tvalid_0's huber: 35.7574\n",
      "[8850]\tvalid_0's huber: 35.7569\n",
      "[8900]\tvalid_0's huber: 35.7568\n",
      "[8950]\tvalid_0's huber: 35.7572\n",
      "[9000]\tvalid_0's huber: 35.7565\n",
      "[9050]\tvalid_0's huber: 35.7561\n",
      "[9100]\tvalid_0's huber: 35.7562\n",
      "[9150]\tvalid_0's huber: 35.7493\n",
      "[9200]\tvalid_0's huber: 35.7484\n",
      "[9250]\tvalid_0's huber: 35.7485\n",
      "[9300]\tvalid_0's huber: 35.7481\n",
      "[9350]\tvalid_0's huber: 35.748\n",
      "[9400]\tvalid_0's huber: 35.7482\n",
      "[9450]\tvalid_0's huber: 35.7472\n",
      "[9500]\tvalid_0's huber: 35.7475\n",
      "[9550]\tvalid_0's huber: 35.7459\n",
      "[9600]\tvalid_0's huber: 35.7444\n",
      "[9650]\tvalid_0's huber: 35.7442\n",
      "[9700]\tvalid_0's huber: 35.7448\n",
      "[9750]\tvalid_0's huber: 35.7427\n",
      "[9800]\tvalid_0's huber: 35.7232\n",
      "[9850]\tvalid_0's huber: 35.7162\n",
      "[9900]\tvalid_0's huber: 35.7162\n",
      "[9950]\tvalid_0's huber: 35.7084\n",
      "[10000]\tvalid_0's huber: 35.708\n",
      "Did not meet early stopping. Best iteration is:\n",
      "[9990]\tvalid_0's huber: 35.7077\n",
      "preds dist plot\n"
     ]
    },
    {
     "name": "stderr",
     "output_type": "stream",
     "text": [
      "`distplot` is a deprecated function and will be removed in a future version. Please adapt your code to use either `displot` (a figure-level function with similar flexibility) or `histplot` (an axes-level function for histograms).\n"
     ]
    },
    {
     "data": {
      "image/png": "[encoded data removed]",
      "text/plain": [
       "<Figure size 432x288 with 1 Axes>"
      ]
     },
     "metadata": {
      "needs_background": "light"
     },
     "output_type": "display_data"
    },
    {
     "name": "stdout",
     "output_type": "stream",
     "text": [
      "Fold 1 end\n",
      "Fold 2 start\n",
      "y dist plot\n"
     ]
    },
    {
     "data": {
      "image/png": "[encoded data removed]",
      "text/plain": [
       "<Figure size 432x288 with 1 Axes>"
      ]
     },
     "metadata": {
      "needs_background": "light"
     },
     "output_type": "display_data"
    },
    {
     "name": "stderr",
     "output_type": "stream",
     "text": [
      "Using categorical_feature in Dataset.\n"
     ]
    },
    {
     "name": "stdout",
     "output_type": "stream",
     "text": [
      "[LightGBM] [Warning] Auto-choosing row-wise multi-threading, the overhead of testing was 1.047807 seconds.\n",
      "You can set `force_row_wise=true` to remove the overhead.\n",
      "And if memory is not enough, you can set `force_col_wise=true`.\n",
      "[LightGBM] [Info] Total Bins 8174\n",
      "[LightGBM] [Info] Number of data points in the train set: 2926581, number of used features: 366\n"
     ]
    },
    {
     "name": "stderr",
     "output_type": "stream",
     "text": [
      "Overriding the parameters from Reference Dataset.\n",
      "categorical_column in param dict is overridden.\n"
     ]
    },
    {
     "name": "stdout",
     "output_type": "stream",
     "text": [
      "[LightGBM] [Info] Start training from score 524.648130\n",
      "Training until validation scores don't improve for 500 rounds\n",
      "[50]\tvalid_0's huber: 79.4786\n",
      "[100]\tvalid_0's huber: 64.7828\n",
      "[150]\tvalid_0's huber: 58.5695\n",
      "[200]\tvalid_0's huber: 54.9794\n",
      "[250]\tvalid_0's huber: 52.4857\n",
      "[300]\tvalid_0's huber: 50.5867\n",
      "[350]\tvalid_0's huber: 49.1561\n",
      "[400]\tvalid_0's huber: 48.0736\n",
      "[450]\tvalid_0's huber: 47.1751\n",
      "[500]\tvalid_0's huber: 46.3456\n",
      "[550]\tvalid_0's huber: 45.5455\n",
      "[600]\tvalid_0's huber: 44.8563\n",
      "[650]\tvalid_0's huber: 44.3277\n",
      "[700]\tvalid_0's huber: 43.7762\n",
      "[750]\tvalid_0's huber: 43.3508\n",
      "[800]\tvalid_0's huber: 42.9508\n",
      "[850]\tvalid_0's huber: 42.6101\n",
      "[900]\tvalid_0's huber: 42.2909\n",
      "[950]\tvalid_0's huber: 41.9731\n",
      "[1000]\tvalid_0's huber: 41.7084\n",
      "[1050]\tvalid_0's huber: 41.3922\n",
      "[1100]\tvalid_0's huber: 41.1327\n",
      "[1150]\tvalid_0's huber: 40.8455\n",
      "[1200]\tvalid_0's huber: 40.6021\n",
      "[1250]\tvalid_0's huber: 40.3843\n",
      "[1300]\tvalid_0's huber: 40.1435\n",
      "[1350]\tvalid_0's huber: 39.9457\n",
      "[1400]\tvalid_0's huber: 39.7573\n",
      "[1450]\tvalid_0's huber: 39.5737\n",
      "[1500]\tvalid_0's huber: 39.4032\n",
      "[1550]\tvalid_0's huber: 39.2389\n",
      "[1600]\tvalid_0's huber: 39.073\n",
      "[1650]\tvalid_0's huber: 38.9278\n",
      "[1700]\tvalid_0's huber: 38.8044\n",
      "[1750]\tvalid_0's huber: 38.6553\n",
      "[1800]\tvalid_0's huber: 38.5303\n",
      "[1850]\tvalid_0's huber: 38.4103\n",
      "[1900]\tvalid_0's huber: 38.2785\n",
      "[1950]\tvalid_0's huber: 38.1695\n",
      "[2000]\tvalid_0's huber: 38.0649\n",
      "[2050]\tvalid_0's huber: 37.9704\n",
      "[2100]\tvalid_0's huber: 37.8595\n",
      "[2150]\tvalid_0's huber: 37.7321\n",
      "[2200]\tvalid_0's huber: 37.6336\n",
      "[2250]\tvalid_0's huber: 37.5689\n",
      "[2300]\tvalid_0's huber: 37.493\n",
      "[2350]\tvalid_0's huber: 37.4227\n",
      "[2400]\tvalid_0's huber: 37.3502\n",
      "[2450]\tvalid_0's huber: 37.2839\n",
      "[2500]\tvalid_0's huber: 37.1675\n",
      "[2550]\tvalid_0's huber: 37.0913\n",
      "[2600]\tvalid_0's huber: 37.0108\n",
      "[2650]\tvalid_0's huber: 36.942\n",
      "[2700]\tvalid_0's huber: 36.8747\n",
      "[2750]\tvalid_0's huber: 36.786\n",
      "[2800]\tvalid_0's huber: 36.7201\n",
      "[2850]\tvalid_0's huber: 36.6397\n",
      "[2900]\tvalid_0's huber: 36.5617\n",
      "[2950]\tvalid_0's huber: 36.4791\n",
      "[3000]\tvalid_0's huber: 36.4046\n",
      "[3050]\tvalid_0's huber: 36.3383\n",
      "[3100]\tvalid_0's huber: 36.2613\n",
      "[3150]\tvalid_0's huber: 36.1944\n",
      "[3200]\tvalid_0's huber: 36.1294\n",
      "[3250]\tvalid_0's huber: 36.0732\n",
      "[3300]\tvalid_0's huber: 36.0245\n",
      "[3350]\tvalid_0's huber: 35.9559\n",
      "[3400]\tvalid_0's huber: 35.9064\n",
      "[3450]\tvalid_0's huber: 35.8498\n",
      "[3500]\tvalid_0's huber: 35.7902\n",
      "[3550]\tvalid_0's huber: 35.7354\n",
      "[3600]\tvalid_0's huber: 35.6913\n",
      "[3650]\tvalid_0's huber: 35.6701\n",
      "[3700]\tvalid_0's huber: 35.6613\n",
      "[3750]\tvalid_0's huber: 35.6553\n",
      "[3800]\tvalid_0's huber: 35.6539\n",
      "[3850]\tvalid_0's huber: 35.6523\n",
      "[3900]\tvalid_0's huber: 35.647\n",
      "[3950]\tvalid_0's huber: 35.6429\n",
      "[4000]\tvalid_0's huber: 35.6357\n",
      "[4050]\tvalid_0's huber: 35.6337\n",
      "[4100]\tvalid_0's huber: 35.6321\n",
      "[4150]\tvalid_0's huber: 35.6306\n",
      "[4200]\tvalid_0's huber: 35.6299\n",
      "[4250]\tvalid_0's huber: 35.6298\n",
      "[4300]\tvalid_0's huber: 35.6288\n",
      "[4350]\tvalid_0's huber: 35.6278\n",
      "[4400]\tvalid_0's huber: 35.626\n",
      "[4450]\tvalid_0's huber: 35.6243\n",
      "[4500]\tvalid_0's huber: 35.6237\n",
      "[4550]\tvalid_0's huber: 35.6234\n",
      "[4600]\tvalid_0's huber: 35.6232\n",
      "[4650]\tvalid_0's huber: 35.6228\n",
      "[4700]\tvalid_0's huber: 35.6232\n",
      "[4750]\tvalid_0's huber: 35.6218\n",
      "[4800]\tvalid_0's huber: 35.6206\n",
      "[4850]\tvalid_0's huber: 35.6212\n",
      "[4900]\tvalid_0's huber: 35.6207\n",
      "[4950]\tvalid_0's huber: 35.6209\n",
      "[5000]\tvalid_0's huber: 35.6154\n",
      "[5050]\tvalid_0's huber: 35.6145\n",
      "[5100]\tvalid_0's huber: 35.6149\n",
      "[5150]\tvalid_0's huber: 35.6136\n",
      "[5200]\tvalid_0's huber: 35.6142\n",
      "[5250]\tvalid_0's huber: 35.6138\n",
      "[5300]\tvalid_0's huber: 35.6138\n",
      "[5350]\tvalid_0's huber: 35.6139\n",
      "[5400]\tvalid_0's huber: 35.6133\n",
      "[5450]\tvalid_0's huber: 35.6135\n",
      "[5500]\tvalid_0's huber: 35.6136\n",
      "[5550]\tvalid_0's huber: 35.6132\n",
      "[5600]\tvalid_0's huber: 35.6133\n",
      "[5650]\tvalid_0's huber: 35.6127\n",
      "[5700]\tvalid_0's huber: 35.6019\n",
      "[5750]\tvalid_0's huber: 35.5813\n",
      "[5800]\tvalid_0's huber: 35.5699\n",
      "[5850]\tvalid_0's huber: 35.5521\n",
      "[5900]\tvalid_0's huber: 35.5519\n",
      "[5950]\tvalid_0's huber: 35.5523\n",
      "[6000]\tvalid_0's huber: 35.5526\n",
      "[6050]\tvalid_0's huber: 35.5503\n",
      "[6100]\tvalid_0's huber: 35.5485\n",
      "[6150]\tvalid_0's huber: 35.5484\n",
      "[6200]\tvalid_0's huber: 35.5482\n",
      "[6250]\tvalid_0's huber: 35.5476\n",
      "[6300]\tvalid_0's huber: 35.5477\n",
      "[6350]\tvalid_0's huber: 35.5469\n",
      "[6400]\tvalid_0's huber: 35.5384\n",
      "[6450]\tvalid_0's huber: 35.5352\n",
      "[6500]\tvalid_0's huber: 35.5327\n",
      "[6550]\tvalid_0's huber: 35.5255\n",
      "[6600]\tvalid_0's huber: 35.5258\n",
      "[6650]\tvalid_0's huber: 35.5257\n",
      "[6700]\tvalid_0's huber: 35.5244\n",
      "[6750]\tvalid_0's huber: 35.5243\n",
      "[6800]\tvalid_0's huber: 35.5238\n",
      "[6850]\tvalid_0's huber: 35.5236\n",
      "[6900]\tvalid_0's huber: 35.5227\n",
      "[6950]\tvalid_0's huber: 35.5222\n",
      "[7000]\tvalid_0's huber: 35.5205\n",
      "[7050]\tvalid_0's huber: 35.5207\n",
      "[7100]\tvalid_0's huber: 35.5203\n",
      "[7150]\tvalid_0's huber: 35.5203\n",
      "[7200]\tvalid_0's huber: 35.5183\n",
      "[7250]\tvalid_0's huber: 35.5183\n",
      "[7300]\tvalid_0's huber: 35.5183\n",
      "[7350]\tvalid_0's huber: 35.5183\n",
      "[7400]\tvalid_0's huber: 35.5139\n",
      "[7450]\tvalid_0's huber: 35.5139\n",
      "[7500]\tvalid_0's huber: 35.5141\n",
      "[7550]\tvalid_0's huber: 35.5146\n",
      "[7600]\tvalid_0's huber: 35.514\n",
      "[7650]\tvalid_0's huber: 35.5145\n",
      "[7700]\tvalid_0's huber: 35.5142\n",
      "[7750]\tvalid_0's huber: 35.5145\n",
      "[7800]\tvalid_0's huber: 35.5134\n",
      "[7850]\tvalid_0's huber: 35.5136\n",
      "[7900]\tvalid_0's huber: 35.5133\n",
      "[7950]\tvalid_0's huber: 35.5138\n",
      "[8000]\tvalid_0's huber: 35.5136\n",
      "[8050]\tvalid_0's huber: 35.5128\n",
      "[8100]\tvalid_0's huber: 35.5129\n",
      "[8150]\tvalid_0's huber: 35.5127\n",
      "[8200]\tvalid_0's huber: 35.5127\n",
      "[8250]\tvalid_0's huber: 35.5129\n",
      "[8300]\tvalid_0's huber: 35.5131\n",
      "[8350]\tvalid_0's huber: 35.5114\n",
      "[8400]\tvalid_0's huber: 35.5111\n",
      "[8450]\tvalid_0's huber: 35.5113\n",
      "[8500]\tvalid_0's huber: 35.5117\n",
      "[8550]\tvalid_0's huber: 35.511\n",
      "[8600]\tvalid_0's huber: 35.5106\n",
      "[8650]\tvalid_0's huber: 35.5109\n",
      "[8700]\tvalid_0's huber: 35.5111\n",
      "[8750]\tvalid_0's huber: 35.511\n",
      "[8800]\tvalid_0's huber: 35.5106\n",
      "[8850]\tvalid_0's huber: 35.5087\n",
      "[8900]\tvalid_0's huber: 35.5037\n",
      "[8950]\tvalid_0's huber: 35.5029\n",
      "[9000]\tvalid_0's huber: 35.5028\n",
      "[9050]\tvalid_0's huber: 35.5032\n",
      "[9100]\tvalid_0's huber: 35.5033\n",
      "[9150]\tvalid_0's huber: 35.5024\n",
      "[9200]\tvalid_0's huber: 35.5026\n",
      "[9250]\tvalid_0's huber: 35.5024\n",
      "[9300]\tvalid_0's huber: 35.5028\n",
      "[9350]\tvalid_0's huber: 35.5033\n",
      "[9400]\tvalid_0's huber: 35.5035\n",
      "[9450]\tvalid_0's huber: 35.5035\n",
      "[9500]\tvalid_0's huber: 35.5041\n",
      "[9550]\tvalid_0's huber: 35.5039\n",
      "[9600]\tvalid_0's huber: 35.5037\n",
      "[9650]\tvalid_0's huber: 35.5036\n",
      "Early stopping, best iteration is:\n",
      "[9190]\tvalid_0's huber: 35.5023\n",
      "preds dist plot\n"
     ]
    },
    {
     "name": "stderr",
     "output_type": "stream",
     "text": [
      "`distplot` is a deprecated function and will be removed in a future version. Please adapt your code to use either `displot` (a figure-level function with similar flexibility) or `histplot` (an axes-level function for histograms).\n"
     ]
    },
    {
     "data": {
      "image/png": "[encoded data removed]",
      "text/plain": [
       "<Figure size 432x288 with 1 Axes>"
      ]
     },
     "metadata": {
      "needs_background": "light"
     },
     "output_type": "display_data"
    },
    {
     "name": "stdout",
     "output_type": "stream",
     "text": [
      "Fold 2 end\n",
      "Fold 3 start\n",
      "y dist plot\n"
     ]
    },
    {
     "data": {
      "image/png": "[encoded data removed]",
      "text/plain": [
       "<Figure size 432x288 with 1 Axes>"
      ]
     },
     "metadata": {
      "needs_background": "light"
     },
     "output_type": "display_data"
    },
    {
     "name": "stderr",
     "output_type": "stream",
     "text": [
      "Using categorical_feature in Dataset.\n"
     ]
    },
    {
     "name": "stdout",
     "output_type": "stream",
     "text": [
      "[LightGBM] [Warning] Auto-choosing row-wise multi-threading, the overhead of testing was 0.942034 seconds.\n",
      "You can set `force_row_wise=true` to remove the overhead.\n",
      "And if memory is not enough, you can set `force_col_wise=true`.\n",
      "[LightGBM] [Info] Total Bins 8176\n",
      "[LightGBM] [Info] Number of data points in the train set: 2926581, number of used features: 367\n"
     ]
    },
    {
     "name": "stderr",
     "output_type": "stream",
     "text": [
      "Overriding the parameters from Reference Dataset.\n",
      "categorical_column in param dict is overridden.\n"
     ]
    },
    {
     "name": "stdout",
     "output_type": "stream",
     "text": [
      "[LightGBM] [Info] Start training from score 524.732369\n",
      "Training until validation scores don't improve for 500 rounds\n",
      "[50]\tvalid_0's huber: 79.4318\n",
      "[100]\tvalid_0's huber: 64.7912\n",
      "[150]\tvalid_0's huber: 58.5785\n",
      "[200]\tvalid_0's huber: 54.9014\n",
      "[250]\tvalid_0's huber: 52.4135\n",
      "[300]\tvalid_0's huber: 50.7386\n",
      "[350]\tvalid_0's huber: 49.4192\n",
      "[400]\tvalid_0's huber: 48.2805\n",
      "[450]\tvalid_0's huber: 47.3697\n",
      "[500]\tvalid_0's huber: 46.5237\n",
      "[550]\tvalid_0's huber: 45.807\n",
      "[600]\tvalid_0's huber: 45.2847\n",
      "[650]\tvalid_0's huber: 44.6693\n",
      "[700]\tvalid_0's huber: 44.1064\n",
      "[750]\tvalid_0's huber: 43.5881\n",
      "[800]\tvalid_0's huber: 43.1855\n",
      "[850]\tvalid_0's huber: 42.8011\n",
      "[900]\tvalid_0's huber: 42.4021\n",
      "[950]\tvalid_0's huber: 42.1466\n",
      "[1000]\tvalid_0's huber: 41.8635\n",
      "[1050]\tvalid_0's huber: 41.5971\n",
      "[1100]\tvalid_0's huber: 41.3478\n",
      "[1150]\tvalid_0's huber: 41.0997\n",
      "[1200]\tvalid_0's huber: 40.8362\n",
      "[1250]\tvalid_0's huber: 40.6437\n",
      "[1300]\tvalid_0's huber: 40.4118\n",
      "[1350]\tvalid_0's huber: 40.1829\n",
      "[1400]\tvalid_0's huber: 39.998\n",
      "[1450]\tvalid_0's huber: 39.8191\n",
      "[1500]\tvalid_0's huber: 39.6242\n",
      "[1550]\tvalid_0's huber: 39.462\n",
      "[1600]\tvalid_0's huber: 39.3107\n",
      "[1650]\tvalid_0's huber: 39.172\n",
      "[1700]\tvalid_0's huber: 39.0011\n",
      "[1750]\tvalid_0's huber: 38.8659\n",
      "[1800]\tvalid_0's huber: 38.7225\n",
      "[1850]\tvalid_0's huber: 38.6176\n",
      "[1900]\tvalid_0's huber: 38.5022\n",
      "[1950]\tvalid_0's huber: 38.383\n",
      "[2000]\tvalid_0's huber: 38.2674\n",
      "[2050]\tvalid_0's huber: 38.1578\n",
      "[2100]\tvalid_0's huber: 38.0531\n",
      "[2150]\tvalid_0's huber: 37.9521\n",
      "[2200]\tvalid_0's huber: 37.8713\n",
      "[2250]\tvalid_0's huber: 37.7682\n",
      "[2300]\tvalid_0's huber: 37.6757\n",
      "[2350]\tvalid_0's huber: 37.5709\n",
      "[2400]\tvalid_0's huber: 37.4634\n",
      "[2450]\tvalid_0's huber: 37.3532\n",
      "[2500]\tvalid_0's huber: 37.2358\n",
      "[2550]\tvalid_0's huber: 37.1313\n",
      "[2600]\tvalid_0's huber: 37.056\n",
      "[2650]\tvalid_0's huber: 36.9673\n",
      "[2700]\tvalid_0's huber: 36.8986\n",
      "[2750]\tvalid_0's huber: 36.8124\n",
      "[2800]\tvalid_0's huber: 36.7292\n",
      "[2850]\tvalid_0's huber: 36.6578\n",
      "[2900]\tvalid_0's huber: 36.6189\n",
      "[2950]\tvalid_0's huber: 36.5714\n",
      "[3000]\tvalid_0's huber: 36.4931\n",
      "[3050]\tvalid_0's huber: 36.4203\n",
      "[3100]\tvalid_0's huber: 36.3524\n",
      "[3150]\tvalid_0's huber: 36.2845\n",
      "[3200]\tvalid_0's huber: 36.2238\n",
      "[3250]\tvalid_0's huber: 36.1618\n",
      "[3300]\tvalid_0's huber: 36.0928\n",
      "[3350]\tvalid_0's huber: 36.0348\n",
      "[3400]\tvalid_0's huber: 35.985\n",
      "[3450]\tvalid_0's huber: 35.9197\n",
      "[3500]\tvalid_0's huber: 35.8578\n",
      "[3550]\tvalid_0's huber: 35.799\n",
      "[3600]\tvalid_0's huber: 35.7423\n",
      "[3650]\tvalid_0's huber: 35.6894\n",
      "[3700]\tvalid_0's huber: 35.6282\n",
      "[3750]\tvalid_0's huber: 35.572\n",
      "[3800]\tvalid_0's huber: 35.5295\n",
      "[3850]\tvalid_0's huber: 35.4836\n",
      "[3900]\tvalid_0's huber: 35.4417\n",
      "[3950]\tvalid_0's huber: 35.3989\n",
      "[4000]\tvalid_0's huber: 35.3572\n",
      "[4050]\tvalid_0's huber: 35.3225\n",
      "[4100]\tvalid_0's huber: 35.281\n",
      "[4150]\tvalid_0's huber: 35.2379\n",
      "[4200]\tvalid_0's huber: 35.1982\n",
      "[4250]\tvalid_0's huber: 35.164\n",
      "[4300]\tvalid_0's huber: 35.123\n",
      "[4350]\tvalid_0's huber: 35.0799\n",
      "[4400]\tvalid_0's huber: 35.0361\n",
      "[4450]\tvalid_0's huber: 35.0013\n",
      "[4500]\tvalid_0's huber: 34.97\n",
      "[4550]\tvalid_0's huber: 34.9372\n",
      "[4600]\tvalid_0's huber: 34.9077\n",
      "[4650]\tvalid_0's huber: 34.8604\n",
      "[4700]\tvalid_0's huber: 34.8197\n",
      "[4750]\tvalid_0's huber: 34.7857\n",
      "[4800]\tvalid_0's huber: 34.7528\n",
      "[4850]\tvalid_0's huber: 34.7305\n",
      "[4900]\tvalid_0's huber: 34.7081\n",
      "[4950]\tvalid_0's huber: 34.6885\n",
      "[5000]\tvalid_0's huber: 34.6699\n",
      "[5050]\tvalid_0's huber: 34.6518\n",
      "[5100]\tvalid_0's huber: 34.6265\n",
      "[5150]\tvalid_0's huber: 34.5857\n",
      "[5200]\tvalid_0's huber: 34.558\n",
      "[5250]\tvalid_0's huber: 34.5476\n",
      "[5300]\tvalid_0's huber: 34.5201\n",
      "[5350]\tvalid_0's huber: 34.5055\n",
      "[5400]\tvalid_0's huber: 34.4928\n",
      "[5450]\tvalid_0's huber: 34.4797\n",
      "[5500]\tvalid_0's huber: 34.4633\n",
      "[5550]\tvalid_0's huber: 34.4594\n",
      "[5600]\tvalid_0's huber: 34.4545\n",
      "[5650]\tvalid_0's huber: 34.4511\n",
      "[5700]\tvalid_0's huber: 34.4418\n",
      "[5750]\tvalid_0's huber: 34.4328\n",
      "[5800]\tvalid_0's huber: 34.4307\n",
      "[5850]\tvalid_0's huber: 34.4266\n",
      "[5900]\tvalid_0's huber: 34.4243\n",
      "[5950]\tvalid_0's huber: 34.4114\n",
      "[6000]\tvalid_0's huber: 34.4073\n",
      "[6050]\tvalid_0's huber: 34.4029\n",
      "[6100]\tvalid_0's huber: 34.4019\n",
      "[6150]\tvalid_0's huber: 34.3978\n",
      "[6200]\tvalid_0's huber: 34.3961\n",
      "[6250]\tvalid_0's huber: 34.3914\n",
      "[6300]\tvalid_0's huber: 34.3903\n",
      "[6350]\tvalid_0's huber: 34.3802\n",
      "[6400]\tvalid_0's huber: 34.38\n",
      "[6450]\tvalid_0's huber: 34.3714\n",
      "[6500]\tvalid_0's huber: 34.3661\n",
      "[6550]\tvalid_0's huber: 34.3613\n",
      "[6600]\tvalid_0's huber: 34.3616\n",
      "[6650]\tvalid_0's huber: 34.3611\n",
      "[6700]\tvalid_0's huber: 34.361\n",
      "[6750]\tvalid_0's huber: 34.3614\n",
      "[6800]\tvalid_0's huber: 34.3618\n",
      "[6850]\tvalid_0's huber: 34.358\n",
      "[6900]\tvalid_0's huber: 34.3578\n",
      "[6950]\tvalid_0's huber: 34.3582\n",
      "[7000]\tvalid_0's huber: 34.3496\n",
      "[7050]\tvalid_0's huber: 34.3447\n",
      "[7100]\tvalid_0's huber: 34.3411\n",
      "[7150]\tvalid_0's huber: 34.3413\n",
      "[7200]\tvalid_0's huber: 34.3375\n",
      "[7250]\tvalid_0's huber: 34.337\n",
      "[7300]\tvalid_0's huber: 34.3374\n",
      "[7350]\tvalid_0's huber: 34.3369\n",
      "[7400]\tvalid_0's huber: 34.3366\n",
      "[7450]\tvalid_0's huber: 34.3337\n",
      "[7500]\tvalid_0's huber: 34.334\n",
      "[7550]\tvalid_0's huber: 34.3319\n",
      "[7600]\tvalid_0's huber: 34.329\n",
      "[7650]\tvalid_0's huber: 34.3292\n",
      "[7700]\tvalid_0's huber: 34.3262\n",
      "[7750]\tvalid_0's huber: 34.3258\n",
      "[7800]\tvalid_0's huber: 34.3229\n",
      "[7850]\tvalid_0's huber: 34.3231\n",
      "[7900]\tvalid_0's huber: 34.3233\n",
      "[7950]\tvalid_0's huber: 34.3188\n",
      "[8000]\tvalid_0's huber: 34.3089\n",
      "[8050]\tvalid_0's huber: 34.3079\n",
      "[8100]\tvalid_0's huber: 34.2985\n",
      "[8150]\tvalid_0's huber: 34.2947\n",
      "[8200]\tvalid_0's huber: 34.2912\n",
      "[8250]\tvalid_0's huber: 34.2871\n",
      "[8300]\tvalid_0's huber: 34.2837\n",
      "[8350]\tvalid_0's huber: 34.2803\n",
      "[8400]\tvalid_0's huber: 34.2773\n",
      "[8450]\tvalid_0's huber: 34.2769\n",
      "[8500]\tvalid_0's huber: 34.2762\n",
      "[8550]\tvalid_0's huber: 34.2698\n",
      "[8600]\tvalid_0's huber: 34.2597\n",
      "[8650]\tvalid_0's huber: 34.2587\n",
      "[8700]\tvalid_0's huber: 34.257\n",
      "[8750]\tvalid_0's huber: 34.2528\n",
      "[8800]\tvalid_0's huber: 34.2504\n",
      "[8850]\tvalid_0's huber: 34.2429\n",
      "[8900]\tvalid_0's huber: 34.2413\n",
      "[8950]\tvalid_0's huber: 34.2395\n",
      "[9000]\tvalid_0's huber: 34.2373\n",
      "[9050]\tvalid_0's huber: 34.2343\n",
      "[9100]\tvalid_0's huber: 34.232\n",
      "[9150]\tvalid_0's huber: 34.2275\n",
      "[9200]\tvalid_0's huber: 34.2229\n",
      "[9250]\tvalid_0's huber: 34.222\n",
      "[9300]\tvalid_0's huber: 34.2203\n",
      "[9350]\tvalid_0's huber: 34.2203\n",
      "[9400]\tvalid_0's huber: 34.2141\n",
      "[9450]\tvalid_0's huber: 34.204\n",
      "[9500]\tvalid_0's huber: 34.1988\n",
      "[9550]\tvalid_0's huber: 34.1969\n",
      "[9600]\tvalid_0's huber: 34.1967\n",
      "[9650]\tvalid_0's huber: 34.1952\n",
      "[9700]\tvalid_0's huber: 34.1937\n",
      "[9750]\tvalid_0's huber: 34.189\n",
      "[9800]\tvalid_0's huber: 34.1848\n",
      "[9850]\tvalid_0's huber: 34.1822\n",
      "[9900]\tvalid_0's huber: 34.1811\n",
      "[9950]\tvalid_0's huber: 34.17\n",
      "[10000]\tvalid_0's huber: 34.1693\n",
      "Did not meet early stopping. Best iteration is:\n",
      "[10000]\tvalid_0's huber: 34.1693\n",
      "preds dist plot\n"
     ]
    },
    {
     "name": "stderr",
     "output_type": "stream",
     "text": [
      "`distplot` is a deprecated function and will be removed in a future version. Please adapt your code to use either `displot` (a figure-level function with similar flexibility) or `histplot` (an axes-level function for histograms).\n"
     ]
    },
    {
     "data": {
      "image/png": "[encoded data removed]",
      "text/plain": [
       "<Figure size 432x288 with 1 Axes>"
      ]
     },
     "metadata": {
      "needs_background": "light"
     },
     "output_type": "display_data"
    },
    {
     "name": "stdout",
     "output_type": "stream",
     "text": [
      "Fold 3 end\n",
      "Fold 4 start\n",
      "y dist plot\n"
     ]
    },
    {
     "data": {
      "image/png": "[encoded data removed]",
      "text/plain": [
       "<Figure size 432x288 with 1 Axes>"
      ]
     },
     "metadata": {
      "needs_background": "light"
     },
     "output_type": "display_data"
    },
    {
     "name": "stderr",
     "output_type": "stream",
     "text": [
      "Using categorical_feature in Dataset.\n"
     ]
    },
    {
     "name": "stdout",
     "output_type": "stream",
     "text": [
      "[LightGBM] [Warning] Auto-choosing row-wise multi-threading, the overhead of testing was 1.006465 seconds.\n",
      "You can set `force_row_wise=true` to remove the overhead.\n",
      "And if memory is not enough, you can set `force_col_wise=true`.\n",
      "[LightGBM] [Info] Total Bins 8167\n",
      "[LightGBM] [Info] Number of data points in the train set: 2926581, number of used features: 367\n"
     ]
    },
    {
     "name": "stderr",
     "output_type": "stream",
     "text": [
      "Overriding the parameters from Reference Dataset.\n",
      "categorical_column in param dict is overridden.\n"
     ]
    },
    {
     "name": "stdout",
     "output_type": "stream",
     "text": [
      "[LightGBM] [Info] Start training from score 524.646665\n",
      "Training until validation scores don't improve for 500 rounds\n",
      "[50]\tvalid_0's huber: 79.295\n",
      "[100]\tvalid_0's huber: 64.6761\n",
      "[150]\tvalid_0's huber: 58.5441\n",
      "[200]\tvalid_0's huber: 54.8133\n",
      "[250]\tvalid_0's huber: 52.4572\n",
      "[300]\tvalid_0's huber: 50.7372\n",
      "[350]\tvalid_0's huber: 49.2409\n",
      "[400]\tvalid_0's huber: 48.2906\n",
      "[450]\tvalid_0's huber: 47.257\n",
      "[500]\tvalid_0's huber: 46.5046\n",
      "[550]\tvalid_0's huber: 45.8559\n",
      "[600]\tvalid_0's huber: 45.213\n",
      "[650]\tvalid_0's huber: 44.6182\n",
      "[700]\tvalid_0's huber: 44.1148\n",
      "[750]\tvalid_0's huber: 43.582\n",
      "[800]\tvalid_0's huber: 43.1518\n",
      "[850]\tvalid_0's huber: 42.7705\n",
      "[900]\tvalid_0's huber: 42.3534\n",
      "[950]\tvalid_0's huber: 42.0638\n",
      "[1000]\tvalid_0's huber: 41.7931\n",
      "[1050]\tvalid_0's huber: 41.4704\n",
      "[1100]\tvalid_0's huber: 41.1769\n",
      "[1150]\tvalid_0's huber: 40.9373\n",
      "[1200]\tvalid_0's huber: 40.7396\n",
      "[1250]\tvalid_0's huber: 40.547\n",
      "[1300]\tvalid_0's huber: 40.2711\n",
      "[1350]\tvalid_0's huber: 40.0507\n",
      "[1400]\tvalid_0's huber: 39.8416\n",
      "[1450]\tvalid_0's huber: 39.6374\n",
      "[1500]\tvalid_0's huber: 39.4611\n",
      "[1550]\tvalid_0's huber: 39.2928\n",
      "[1600]\tvalid_0's huber: 39.1153\n",
      "[1650]\tvalid_0's huber: 38.9581\n",
      "[1700]\tvalid_0's huber: 38.798\n",
      "[1750]\tvalid_0's huber: 38.6407\n",
      "[1800]\tvalid_0's huber: 38.5049\n",
      "[1850]\tvalid_0's huber: 38.3991\n",
      "[1900]\tvalid_0's huber: 38.2313\n",
      "[1950]\tvalid_0's huber: 38.0923\n",
      "[2000]\tvalid_0's huber: 37.9629\n",
      "[2050]\tvalid_0's huber: 37.8802\n",
      "[2100]\tvalid_0's huber: 37.7622\n",
      "[2150]\tvalid_0's huber: 37.6665\n",
      "[2200]\tvalid_0's huber: 37.5785\n",
      "[2250]\tvalid_0's huber: 37.497\n",
      "[2300]\tvalid_0's huber: 37.3994\n",
      "[2350]\tvalid_0's huber: 37.308\n",
      "[2400]\tvalid_0's huber: 37.2096\n",
      "[2450]\tvalid_0's huber: 37.1081\n",
      "[2500]\tvalid_0's huber: 37.0101\n",
      "[2550]\tvalid_0's huber: 36.922\n",
      "[2600]\tvalid_0's huber: 36.8297\n",
      "[2650]\tvalid_0's huber: 36.7473\n",
      "[2700]\tvalid_0's huber: 36.6607\n",
      "[2750]\tvalid_0's huber: 36.5858\n",
      "[2800]\tvalid_0's huber: 36.5161\n",
      "[2850]\tvalid_0's huber: 36.4552\n",
      "[2900]\tvalid_0's huber: 36.3791\n",
      "[2950]\tvalid_0's huber: 36.3093\n",
      "[3000]\tvalid_0's huber: 36.2301\n",
      "[3050]\tvalid_0's huber: 36.1683\n",
      "[3100]\tvalid_0's huber: 36.1149\n",
      "[3150]\tvalid_0's huber: 36.0679\n",
      "[3200]\tvalid_0's huber: 36.0184\n",
      "[3250]\tvalid_0's huber: 35.9525\n",
      "[3300]\tvalid_0's huber: 35.8812\n",
      "[3350]\tvalid_0's huber: 35.8239\n",
      "[3400]\tvalid_0's huber: 35.771\n",
      "[3450]\tvalid_0's huber: 35.7179\n",
      "[3500]\tvalid_0's huber: 35.6692\n",
      "[3550]\tvalid_0's huber: 35.6149\n",
      "[3600]\tvalid_0's huber: 35.5842\n",
      "[3650]\tvalid_0's huber: 35.5259\n",
      "[3700]\tvalid_0's huber: 35.4686\n",
      "[3750]\tvalid_0's huber: 35.4283\n",
      "[3800]\tvalid_0's huber: 35.3789\n",
      "[3850]\tvalid_0's huber: 35.3305\n",
      "[3900]\tvalid_0's huber: 35.2979\n",
      "[3950]\tvalid_0's huber: 35.2457\n",
      "[4000]\tvalid_0's huber: 35.2072\n",
      "[4050]\tvalid_0's huber: 35.1582\n",
      "[4100]\tvalid_0's huber: 35.1376\n",
      "[4150]\tvalid_0's huber: 35.1031\n",
      "[4200]\tvalid_0's huber: 35.0626\n",
      "[4250]\tvalid_0's huber: 35.0352\n",
      "[4300]\tvalid_0's huber: 35.0125\n",
      "[4350]\tvalid_0's huber: 34.9895\n",
      "[4400]\tvalid_0's huber: 34.9671\n",
      "[4450]\tvalid_0's huber: 34.9461\n",
      "[4500]\tvalid_0's huber: 34.9312\n",
      "[4550]\tvalid_0's huber: 34.9212\n",
      "[4600]\tvalid_0's huber: 34.9038\n",
      "[4650]\tvalid_0's huber: 34.8746\n",
      "[4700]\tvalid_0's huber: 34.8345\n",
      "[4750]\tvalid_0's huber: 34.8229\n",
      "[4800]\tvalid_0's huber: 34.808\n",
      "[4850]\tvalid_0's huber: 34.8052\n",
      "[4900]\tvalid_0's huber: 34.8029\n",
      "[4950]\tvalid_0's huber: 34.8018\n",
      "[5000]\tvalid_0's huber: 34.7994\n",
      "[5050]\tvalid_0's huber: 34.7982\n",
      "[5100]\tvalid_0's huber: 34.7985\n",
      "[5150]\tvalid_0's huber: 34.7939\n",
      "[5200]\tvalid_0's huber: 34.7902\n",
      "[5250]\tvalid_0's huber: 34.7891\n",
      "[5300]\tvalid_0's huber: 34.7879\n",
      "[5350]\tvalid_0's huber: 34.7857\n",
      "[5400]\tvalid_0's huber: 34.7857\n",
      "[5450]\tvalid_0's huber: 34.7857\n",
      "[5500]\tvalid_0's huber: 34.7835\n",
      "[5550]\tvalid_0's huber: 34.7834\n",
      "[5600]\tvalid_0's huber: 34.7831\n",
      "[5650]\tvalid_0's huber: 34.7836\n",
      "[5700]\tvalid_0's huber: 34.7819\n",
      "[5750]\tvalid_0's huber: 34.7817\n",
      "[5800]\tvalid_0's huber: 34.7817\n",
      "[5850]\tvalid_0's huber: 34.7818\n",
      "[5900]\tvalid_0's huber: 34.7797\n",
      "[5950]\tvalid_0's huber: 34.7798\n",
      "[6000]\tvalid_0's huber: 34.7795\n",
      "[6050]\tvalid_0's huber: 34.78\n",
      "[6100]\tvalid_0's huber: 34.7801\n",
      "[6150]\tvalid_0's huber: 34.7804\n",
      "[6200]\tvalid_0's huber: 34.7799\n",
      "[6250]\tvalid_0's huber: 34.78\n",
      "[6300]\tvalid_0's huber: 34.7793\n",
      "[6350]\tvalid_0's huber: 34.78\n",
      "[6400]\tvalid_0's huber: 34.7802\n",
      "[6450]\tvalid_0's huber: 34.7798\n",
      "[6500]\tvalid_0's huber: 34.7799\n",
      "Early stopping, best iteration is:\n",
      "[6007]\tvalid_0's huber: 34.7791\n",
      "preds dist plot\n"
     ]
    },
    {
     "name": "stderr",
     "output_type": "stream",
     "text": [
      "`distplot` is a deprecated function and will be removed in a future version. Please adapt your code to use either `displot` (a figure-level function with similar flexibility) or `histplot` (an axes-level function for histograms).\n"
     ]
    },
    {
     "data": {
      "image/png": "[encoded data removed]",
      "text/plain": [
       "<Figure size 432x288 with 1 Axes>"
      ]
     },
     "metadata": {
      "needs_background": "light"
     },
     "output_type": "display_data"
    },
    {
     "name": "stdout",
     "output_type": "stream",
     "text": [
      "Fold 4 end\n"
     ]
    },
    {
     "data": {
      "text/plain": [
       "<Figure size 432x288 with 0 Axes>"
      ]
     },
     "metadata": {},
     "output_type": "display_data"
    }
   ],
   "source": [
    "count = 0\n",
    "oof = np.zeros(training_data_df.shape[0])\n",
    "\n",
    "shap_summary_df = pd.DataFrame()\n",
    "\n",
    "for train_idx, val_idx in kf.split(training_data_df):\n",
    "    print('Fold {} start'.format(count))\n",
    "    train_data = training_data_df.loc[train_idx]\n",
    "    val_data = training_data_df.loc[val_idx]\n",
    "    \n",
    "    x_train = train_data.drop(columns=cols_to_drop)\n",
    "    y_train = train_data['가격면적']\n",
    "    \n",
    "    print(x_train.shape)\n",
    "    \n",
    "    x_val = val_data.drop(columns=cols_to_drop)\n",
    "    y_val = val_data['가격면적']\n",
    "    \n",
    "    print('y dist plot')\n",
    "    y_train.hist(bins=100)\n",
    "    plt.show()\n",
    "    plt.clf()\n",
    "    \n",
    "    params = {\n",
    "        'objective': 'huber',\n",
    "        'learning_rate': 10,\n",
    "        'seed': 42,\n",
    "        'max_depth': 12,\n",
    "        'num_leaves': 37,\n",
    "        'lambda_l2': 0,\n",
    "        'metric': 'huber',\n",
    "        'num_threads': 6,\n",
    "    }\n",
    "    \n",
    "    train_dataset = lgb.Dataset(x_train, label=y_train, categorical_feature=cat_cols)\n",
    "    val_dataset = lgb.Dataset(x_val, label=y_val, categorical_feature=cat_cols)\n",
    "    \n",
    "    num_rounds = 10000\n",
    "\n",
    "    bst = lgb.train(params, train_dataset, num_rounds, valid_sets=[val_dataset], early_stopping_rounds=500, verbose_eval=50)\n",
    "    \n",
    "    bst.save_model(basedir + 'lightgbm_huber_vif10_{}.txt'.format(count), num_iteration=bst.best_iteration)\n",
    "    \n",
    "    preds = bst.predict(x_val, num_iteration=bst.best_iteration)\n",
    "    \n",
    "    print('preds dist plot')\n",
    "    sns.distplot(preds)\n",
    "    plt.show()\n",
    "    plt.clf()\n",
    "    \n",
    "    oof[val_idx] = preds\n",
    "    \n",
    "    # shap\n",
    "    explainer = shap.explainers.Tree(bst)\n",
    "    \n",
    "    sample_x = x_val.sample(n=1000)\n",
    "    sample_y = y_val.loc[x_val.index]\n",
    "    \n",
    "    shap_values = explainer.shap_values(sample_x, y=sample_y, check_additivity=True, approximate=False)\n",
    "    shap_values_T = shap_values.T\n",
    "    \n",
    "    shap_summary = np.zeros(x_val.shape[1])\n",
    "    \n",
    "    for i in range(x_val.shape[1]):\n",
    "        shap_summary[i] = np.mean(np.abs(shap_values_T[i]))\n",
    "    \n",
    "    \n",
    "    shap_summary_df['model_{}_shap_summary'.format(count)] = shap_summary\n",
    "        \n",
    "    \n",
    "    print('Fold {} end'.format(count))\n",
    "    count += 1"
   ]
  },
  {
   "cell_type": "code",
   "execution_count": 23,
   "metadata": {},
   "outputs": [],
   "source": [
    "from sklearn.metrics import mean_squared_error"
   ]
  },
  {
   "cell_type": "code",
   "execution_count": 24,
   "metadata": {},
   "outputs": [
    {
     "data": {
      "text/plain": [
       "66.12365242422936"
      ]
     },
     "execution_count": 24,
     "metadata": {},
     "output_type": "execute_result"
    }
   ],
   "source": [
    "np.sqrt(mean_squared_error(training_data_df['가격면적'], oof))"
   ]
  },
  {
   "cell_type": "code",
   "execution_count": 25,
   "metadata": {},
   "outputs": [],
   "source": [
    "shap_summary_mean = np.zeros(shap_summary_df.shape[0])\n",
    "for i in range(shap_summary_df.shape[1]):\n",
    "    shap_summary_mean += shap_summary_df.iloc[:,i]"
   ]
  },
  {
   "cell_type": "code",
   "execution_count": 26,
   "metadata": {},
   "outputs": [],
   "source": [
    "shap_summary_mean = shap_summary_mean / shap_summary_df.shape[1]"
   ]
  },
  {
   "cell_type": "code",
   "execution_count": 27,
   "metadata": {},
   "outputs": [],
   "source": [
    "shap_summary_df['shap_summary_mean'] = shap_summary_mean"
   ]
  },
  {
   "cell_type": "code",
   "execution_count": 28,
   "metadata": {},
   "outputs": [],
   "source": [
    "shap_summary_df.index = x_train.columns"
   ]
  },
  {
   "cell_type": "code",
   "execution_count": 29,
   "metadata": {},
   "outputs": [],
   "source": [
    "shap_summary_df.to_csv(basedir + 'shap_summary_vif10.csv')"
   ]
  },
  {
   "cell_type": "code",
   "execution_count": null,
   "metadata": {},
   "outputs": [],
   "source": []
  }
 ],
 "metadata": {
  "kernelspec": {
   "display_name": "Python 3",
   "language": "python",
   "name": "python3"
  },
  "language_info": {
   "codemirror_mode": {
    "name": "ipython",
    "version": 3
   },
   "file_extension": ".py",
   "mimetype": "text/x-python",
   "name": "python",
   "nbconvert_exporter": "python",
   "pygments_lexer": "ipython3",
   "version": "3.7.9"
  }
 },
 "nbformat": 4,
 "nbformat_minor": 4
}
