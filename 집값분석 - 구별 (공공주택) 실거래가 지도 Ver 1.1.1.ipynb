{
 "cells": [
  {
   "cell_type": "code",
   "execution_count": 1,
   "metadata": {},
   "outputs": [],
   "source": [
    "# Ver. 1.1.1\n",
    "\n",
    "# 업데이트 내용 ----------------\n",
    "# 다수의 라이브러리들 업데이트 및 변경된 api를 적용.\n",
    "# 등치지도가 보여지지 않던 버그 수정.#\n",
    "# -----------------------------\n",
    "\n",
    "# 불편한 점이나 오류 발견 시 피드백 바람."
   ]
  },
  {
   "cell_type": "code",
   "execution_count": 2,
   "metadata": {},
   "outputs": [],
   "source": [
    "import pandas as pd\n",
    "import numpy as np\n",
    "import os\n",
    "pd.set_option('display.max_rows', 500)\n",
    "pd.set_option('display.max_columns', 500)\n",
    "import tqdm\n",
    "import matplotlib.pyplot as plt\n",
    "import seaborn as sns\n",
    "import matplotlib\n",
    "#matplotlib.rcParams['axes.unicode_minus'] = False\n",
    "#pd.options.mode.chained_assignment = None  # default='warn'\n",
    "#plt.rcParams['font.family'] = 'Malgun Gothic'\n",
    "import datetime\n",
    "import time\n",
    "from dateutil.relativedelta import relativedelta\n",
    "tqdm.tqdm.pandas()\n",
    "import ipywidgets as widgets"
   ]
  },
  {
   "cell_type": "code",
   "execution_count": 3,
   "metadata": {},
   "outputs": [],
   "source": [
    "search_city = widgets.RadioButtons(\n",
    "    options=['서울', '인천', '경기'],\n",
    "    layout={'width': 'max-content'}\n",
    ")\n",
    "\n",
    "search_city_box = widgets.Box(\n",
    "    [\n",
    "        widgets.Label(value='검색 지역 선택:'),\n",
    "        search_city\n",
    "    ]\n",
    ")\n",
    "\n",
    "search_range = widgets.IntText(\n",
    "    value=12,\n",
    "    layout={'width': 'max-content'}\n",
    ")\n",
    "\n",
    "search_range_box = widgets.Box(\n",
    "    [\n",
    "        widgets.Label(value='검색 범위(개월):'),\n",
    "        search_range\n",
    "    ]\n",
    ")\n",
    "\n",
    "estate_type = widgets.RadioButtons(\n",
    "    options=['아파트', '연립다세대', '오피스텔'],\n",
    "    layout={'width': 'max-content'}\n",
    ")\n",
    "\n",
    "estate_type_box = widgets.Box(\n",
    "    [\n",
    "        widgets.Label(value='주택 유형 선택:'),\n",
    "        estate_type        \n",
    "    ]\n",
    ")\n",
    "\n",
    "buyer_type = widgets.RadioButtons(\n",
    "    options=['SH', 'LH', 'IH', 'GH', 'SH, LH, IH & GH', 'SH, LH, IH, GH를 제외한 거래사례', 'SH, LH, IH, GH, 일반분양 전체'],\n",
    "    layout={'width': 'max-content'}\n",
    ")\n",
    "\n",
    "buyer_type_box = widgets.Box(\n",
    "    [\n",
    "        widgets.Label(value='매수자 유형 선택:'),\n",
    "        buyer_type        \n",
    "    ]\n",
    ")\n",
    "\n",
    "map_display_value_selection = widgets.RadioButtons(\n",
    "    options=['최소', '최대', '평균', '분위'],\n",
    "    layout={'width': 'max-content'}\n",
    ")\n",
    "\n",
    "map_display_value_selection_box = widgets.Box(\n",
    "    [\n",
    "        widgets.Label(value='지도 표시값 선택:'),\n",
    "        map_display_value_selection        \n",
    "    ]\n",
    ")\n",
    "\n",
    "area_search_range_options = widgets.RadioButtons(\n",
    "    options=['~이상', '~이하', '~이상 & ~이하'],\n",
    "    layout={'width': 'max-content'}\n",
    ")\n",
    "\n",
    "area_search_range_options_box = widgets.Box(\n",
    "    [\n",
    "        widgets.Label(value='전용면적 검색 범위:'),\n",
    "        area_search_range_options        \n",
    "    ]\n",
    ")"
   ]
  },
  {
   "cell_type": "markdown",
   "metadata": {},
   "source": [
    "# 검색값 입력 시작 -----------------------------------------------------------"
   ]
  },
  {
   "cell_type": "code",
   "execution_count": 4,
   "metadata": {},
   "outputs": [
    {
     "data": {
      "application/vnd.jupyter.widget-view+json": {
       "model_id": "",
       "version_major": 2,
       "version_minor": 0
      },
      "text/plain": [
       "Box(children=(Label(value='검색 지역 선택:'), RadioButtons(layout=Layout(width='max-content'), options=('서울', '인천', …"
      ]
     },
     "metadata": {},
     "output_type": "display_data"
    },
    {
     "data": {
      "application/vnd.jupyter.widget-view+json": {
       "model_id": "",
       "version_major": 2,
       "version_minor": 0
      },
      "text/plain": [
       "Box(children=(Label(value='검색 범위(개월):'), IntText(value=12, layout=Layout(width='max-content'))))"
      ]
     },
     "metadata": {},
     "output_type": "display_data"
    },
    {
     "data": {
      "application/vnd.jupyter.widget-view+json": {
       "model_id": "",
       "version_major": 2,
       "version_minor": 0
      },
      "text/plain": [
       "Box(children=(Label(value='주택 유형 선택:'), RadioButtons(layout=Layout(width='max-content'), options=('아파트', '연립다세…"
      ]
     },
     "metadata": {},
     "output_type": "display_data"
    },
    {
     "data": {
      "application/vnd.jupyter.widget-view+json": {
       "model_id": "",
       "version_major": 2,
       "version_minor": 0
      },
      "text/plain": [
       "Box(children=(Label(value='매수자 유형 선택:'), RadioButtons(layout=Layout(width='max-content'), options=('SH', 'LH',…"
      ]
     },
     "metadata": {},
     "output_type": "display_data"
    },
    {
     "data": {
      "application/vnd.jupyter.widget-view+json": {
       "model_id": "",
       "version_major": 2,
       "version_minor": 0
      },
      "text/plain": [
       "Box(children=(Label(value='지도 표시값 선택:'), RadioButtons(layout=Layout(width='max-content'), options=('최소', '최대',…"
      ]
     },
     "metadata": {},
     "output_type": "display_data"
    },
    {
     "data": {
      "application/vnd.jupyter.widget-view+json": {
       "model_id": "",
       "version_major": 2,
       "version_minor": 0
      },
      "text/plain": [
       "Box(children=(Label(value='전용면적 검색 범위:'), RadioButtons(layout=Layout(width='max-content'), options=('~이상', '~이…"
      ]
     },
     "metadata": {},
     "output_type": "display_data"
    }
   ],
   "source": [
    "display(search_city_box)\n",
    "display(search_range_box)\n",
    "display(estate_type_box)\n",
    "display(buyer_type_box)\n",
    "display(map_display_value_selection_box)\n",
    "display(area_search_range_options_box)"
   ]
  },
  {
   "cell_type": "code",
   "execution_count": 5,
   "metadata": {},
   "outputs": [
    {
     "name": "stdout",
     "output_type": "stream",
     "text": [
      "검색 지역 서울 (으)로 설정됨.\n",
      "검색 범위 12 개월로 설정됨.\n",
      "주택 유형 연립다세대 (으)로 설정됨.\n",
      "매수자 유형 SH (으)로 설정됨.\n",
      "지도 표시값 평균 (으)로 설정됨.\n",
      "전용면적 검색 범위 ~이하 (으)로 설정됨.\n"
     ]
    }
   ],
   "source": [
    "search_city_box.close()\n",
    "search_range_box.close()\n",
    "estate_type_box.close()\n",
    "buyer_type_box.close()\n",
    "map_display_value_selection_box.close()\n",
    "area_search_range_options_box.close()\n",
    "\n",
    "print('검색 지역', search_city.value, '(으)로 설정됨.')\n",
    "print('검색 범위', search_range.value, '개월로 설정됨.')\n",
    "print('주택 유형', estate_type.value, '(으)로 설정됨.')\n",
    "print('매수자 유형', buyer_type.value, '(으)로 설정됨.')\n",
    "print('지도 표시값', map_display_value_selection.value, '(으)로 설정됨.')\n",
    "print('전용면적 검색 범위', area_search_range_options.value, '(으)로 설정됨.')"
   ]
  },
  {
   "cell_type": "code",
   "execution_count": 6,
   "metadata": {},
   "outputs": [
    {
     "data": {
      "application/vnd.jupyter.widget-view+json": {
       "model_id": "",
       "version_major": 2,
       "version_minor": 0
      },
      "text/plain": [
       "Box(children=(Label(value='전용면적 ~이하:'), FloatText(value=0.0)))"
      ]
     },
     "metadata": {},
     "output_type": "display_data"
    }
   ],
   "source": [
    "quantile_range = widgets.IntSlider(0, 0, 100, description='분위값 설정:')\n",
    "if map_display_value_selection.value == '분위':\n",
    "    display(quantile_range)\n",
    "\n",
    "range_min = widgets.FloatText()\n",
    "range_min_box = widgets.Box(\n",
    "    [\n",
    "        widgets.Label(value='전용면적 ~이상:'),\n",
    "        range_min\n",
    "    ]\n",
    ")\n",
    "\n",
    "range_max = widgets.FloatText()\n",
    "range_max_box = widgets.Box(\n",
    "    [\n",
    "        widgets.Label(value='전용면적 ~이하:'),\n",
    "        range_max\n",
    "    ]\n",
    ")\n",
    "\n",
    "if area_search_range_options.value == '~이상':\n",
    "    display(range_min_box)\n",
    "elif area_search_range_options.value == '~이하':\n",
    "    display(range_max_box)\n",
    "elif area_search_range_options.value == '~이상 & ~이하':\n",
    "    display(range_min_box)\n",
    "    display(range_max_box)"
   ]
  },
  {
   "cell_type": "code",
   "execution_count": 7,
   "metadata": {},
   "outputs": [
    {
     "name": "stdout",
     "output_type": "stream",
     "text": [
      "전용면적 40.0 이하로 설정됨.\n"
     ]
    }
   ],
   "source": [
    "if map_display_value_selection.value == '분위':\n",
    "    quantile_range.close()\n",
    "    print(quantile_range.value, '분위로 설정됨.')\n",
    "if area_search_range_options.value == '~이상':\n",
    "    range_min_box.close()\n",
    "    range_max_box.close()\n",
    "    print('전용면적', range_min.value, '이상으로 설정됨.')\n",
    "elif area_search_range_options.value == '~이하':\n",
    "    range_min_box.close()\n",
    "    range_max_box.close()\n",
    "    print('전용면적', range_max.value, '이하로 설정됨.')\n",
    "elif area_search_range_options.value == '~이상 & ~이하':\n",
    "    range_min_box.close()\n",
    "    range_max_box.close()\n",
    "    print('전용면적', range_min.value, '이상 &', range_max.value, '이하로 설정됨.')\n",
    "    \n",
    "    if range_min.value > range_max.value:\n",
    "        raise ValueError('에러: 검색 범위 최소(이상) 값이 최대(이하) 값보다 클 수 없음.')"
   ]
  },
  {
   "cell_type": "code",
   "execution_count": 8,
   "metadata": {},
   "outputs": [],
   "source": [
    "timedelta_result = datetime.datetime.now() - relativedelta(months=search_range.value)"
   ]
  },
  {
   "cell_type": "code",
   "execution_count": 9,
   "metadata": {},
   "outputs": [
    {
     "name": "stdout",
     "output_type": "stream",
     "text": [
      "검색 시작 날짜: 2022-01-21\n"
     ]
    }
   ],
   "source": [
    "print('검색 시작 날짜:', str(timedelta_result.date()))"
   ]
  },
  {
   "cell_type": "markdown",
   "metadata": {},
   "source": [
    "# 검색값 입력란 여기까지 --------------------------------------------------------"
   ]
  },
  {
   "cell_type": "code",
   "execution_count": 10,
   "metadata": {},
   "outputs": [],
   "source": [
    "def day_modifier(x):\n",
    "    # x is a number\n",
    "    \n",
    "    if pd.isna(x) == True:\n",
    "        return x\n",
    "    else:\n",
    "        x = str(x)\n",
    "        if len(x) == 1:\n",
    "            return '0' + x\n",
    "        else:\n",
    "            return x"
   ]
  },
  {
   "cell_type": "code",
   "execution_count": 11,
   "metadata": {},
   "outputs": [],
   "source": [
    "def landnum_modifier(x):\n",
    "    # x is a string\n",
    "    \n",
    "    if pd.isna(x) == True:\n",
    "        return x\n",
    "    else:\n",
    "        x = str(x).replace('외', '').replace(' ','')\n",
    "        splitted = x.split('-')\n",
    "        if len(splitted) == 1:\n",
    "            return x + '-0'\n",
    "        else:\n",
    "            return x"
   ]
  },
  {
   "cell_type": "code",
   "execution_count": 12,
   "metadata": {},
   "outputs": [],
   "source": [
    "def data_prep(\n",
    "    bdtype=estate_type.value,\n",
    "    tradetype='매매',\n",
    "    starting_year=timedelta_result.year,\n",
    "    starting_date=str(timedelta_result.date()),\n",
    "    city=search_city.value\n",
    "):\n",
    "    # bdtype is a string: one of 아파트, 연립다세대 or 오피스텔\n",
    "    # tradetype is a string: one of 매매 or 전월세\n",
    "    if (tradetype != '매매') & (tradetype != '전월세'):\n",
    "        raise ValueError('두번째 변수는 매매 또는 전월세만 입력 가능')\n",
    "    \n",
    "    if city == '서울':\n",
    "        basedir = './국토교통부_실거래가_공개시스템/{}/{}/'.format(bdtype, tradetype)\n",
    "    elif city == '인천':\n",
    "        basedir = './국토교통부_실거래가_공개시스템/인천/{}/{}/'.format(bdtype, tradetype)\n",
    "    elif city == '경기':\n",
    "        basedir = './국토교통부_실거래가_공개시스템/경기도/{}/{}/'.format(bdtype, tradetype)    \n",
    "    \n",
    "    filenames = [f for f in os.listdir(basedir) if (f.endswith('.csv'))&('(' in f)]\n",
    "    \n",
    "    dfs_list = []\n",
    "    for i, f in tqdm.tqdm_notebook(enumerate(filenames)):\n",
    "        splitted_filename = f.split('실거래가_')       \n",
    "        file_year = int(splitted_filename[-1][:4])\n",
    "        \n",
    "        if file_year < starting_year:\n",
    "            continue\n",
    "        \n",
    "        try:\n",
    "            df = pd.read_csv(basedir + f, encoding='euc-kr', header=15)\n",
    "        except:\n",
    "            try:\n",
    "                df = pd.read_csv(basedir + f, encoding='utf-8', header=15)\n",
    "            except:\n",
    "                df = pd.read_csv(basedir + f, header=15)\n",
    "        \n",
    "        if '건물명' in df.columns:\n",
    "            df.rename(columns={'건물명':'건물(단지)명'}, inplace=True)\n",
    "        elif '단지명' in df.columns:\n",
    "            df.rename(columns={'단지명':'건물(단지)명'}, inplace=True)\n",
    "            \n",
    "        if '대지권면적(㎡)' in df.columns:\n",
    "            df = df.drop(columns=['대지권면적(㎡)'])\n",
    "                \n",
    "            \n",
    "        if '해제사유발생일' in df.columns.tolist():\n",
    "            df = df[df['해제사유발생일'].isna()]\n",
    "            df = df.drop(columns=['해제사유발생일'])\n",
    "            \n",
    "        dfs_list.append(df)\n",
    "    \n",
    "    concat_df = pd.concat(dfs_list).reset_index(drop=True)\n",
    "    \n",
    "    if tradetype == '전월세':\n",
    "        concat_df = concat_df.rename(columns={'전월세구분':'거래구분', '보증금(만원)':'거래금액(만원)'})\n",
    "        concat_df = concat_df.drop(columns=['월세(만원)'])\n",
    "        concat_df = concat_df[concat_df['거래구분'] == '전세']\n",
    "    elif tradetype == '매매':\n",
    "        concat_df['거래구분'] = '매매'\n",
    "        \n",
    "    concat_df['번지'] = concat_df['번지'].apply(landnum_modifier)\n",
    "    \n",
    "    concat_df['계약년월'] = concat_df['계약년월'].astype('Int64')\n",
    "    concat_df['계약일'] = concat_df['계약일'].astype('Int64')\n",
    "    \n",
    "    concat_df['계약년월'] = concat_df['계약년월'].apply(str)\n",
    "    concat_df['계약일'] = concat_df['계약일'].apply(str)\n",
    "    \n",
    "    concat_df['계약날짜기준_건물연식'] = concat_df['계약년월'].apply(lambda x: int(x[:4])) - concat_df['건축년도']\n",
    "    \n",
    "    concat_df['계약일'] = concat_df['계약일'].apply(day_modifier)\n",
    "    \n",
    "    concat_df['계약날짜'] = concat_df['계약년월'].apply(lambda x: x[:4]) + '-' + concat_df['계약년월'].apply(lambda x: x[-2:])\\\n",
    "    + '-' + concat_df['계약일']\n",
    "    \n",
    "    concat_df['계약날짜'] = pd.to_datetime(concat_df['계약날짜'], format='%Y-%m-%d')\n",
    "    \n",
    "    concat_df['거래금액(만원)'] = concat_df['거래금액(만원)'].apply(lambda x: int(x.replace(',','')))\n",
    "    concat_df['단가(만원/㎡)'] = concat_df['거래금액(만원)'] / concat_df['전용면적(㎡)']\n",
    "    \n",
    "    concat_df['지번주소'] = concat_df['시군구'] + ' ' + concat_df['번지']\n",
    "        \n",
    "    cols_to_drop = ['번지', '지번주소', '계약년월', '계약일', '도로명']\n",
    "        \n",
    "    concat_df = concat_df[['지번주소', '도로명'] + [col for col in concat_df.columns if col not in cols_to_drop]]\n",
    "    \n",
    "    date_today = pd.to_datetime(datetime.datetime.now().strftime('%Y-%m-%d'), format='%Y-%m-%d')\n",
    "    concat_df['건물연식'] = date_today.year - concat_df['건축년도']\n",
    "    \n",
    "    concat_df = concat_df.dropna(subset=['지번주소'])\n",
    "    \n",
    "    concat_df = concat_df[concat_df['층'] >= 0].reset_index(drop=True)\n",
    "    \n",
    "    concat_df = concat_df[concat_df['계약날짜'] > pd.to_datetime(starting_date)]\n",
    "    \n",
    "    if '거래유형' in concat_df.columns:\n",
    "        concat_df = concat_df.drop(columns=['거래유형'])\n",
    "    if '중개사소재지' in concat_df.columns:\n",
    "        concat_df = concat_df.drop(columns=['중개사소재지'])\n",
    "    if '거래구분' in concat_df.columns:\n",
    "        concat_df = concat_df.drop(columns=['거래구분'])\n",
    "    concat_df = concat_df.drop(columns=['계약날짜기준_건물연식', '도로명', '시군구', '본번', '부번'])\n",
    "    \n",
    "    return concat_df"
   ]
  },
  {
   "cell_type": "code",
   "execution_count": 13,
   "metadata": {},
   "outputs": [
    {
     "name": "stderr",
     "output_type": "stream",
     "text": [
      "C:\\Users\\max6296\\AppData\\Local\\Temp\\ipykernel_21888\\2420055747.py:23: TqdmDeprecationWarning: This function will be removed in tqdm==5.0.0\n",
      "Please use `tqdm.notebook.tqdm` instead of `tqdm.tqdm_notebook`\n",
      "  for i, f in tqdm.tqdm_notebook(enumerate(filenames)):\n"
     ]
    },
    {
     "data": {
      "application/vnd.jupyter.widget-view+json": {
       "model_id": "667d16190a2c4ab995ec13944e7787e5",
       "version_major": 2,
       "version_minor": 0
      },
      "text/plain": [
       "0it [00:00, ?it/s]"
      ]
     },
     "metadata": {},
     "output_type": "display_data"
    },
    {
     "name": "stdout",
     "output_type": "stream",
     "text": [
      "(22430, 9)\n"
     ]
    },
    {
     "data": {
      "text/html": [
       "<div>\n",
       "<style scoped>\n",
       "    .dataframe tbody tr th:only-of-type {\n",
       "        vertical-align: middle;\n",
       "    }\n",
       "\n",
       "    .dataframe tbody tr th {\n",
       "        vertical-align: top;\n",
       "    }\n",
       "\n",
       "    .dataframe thead th {\n",
       "        text-align: right;\n",
       "    }\n",
       "</style>\n",
       "<table border=\"1\" class=\"dataframe\">\n",
       "  <thead>\n",
       "    <tr style=\"text-align: right;\">\n",
       "      <th></th>\n",
       "      <th>지번주소</th>\n",
       "      <th>건물(단지)명</th>\n",
       "      <th>전용면적(㎡)</th>\n",
       "      <th>거래금액(만원)</th>\n",
       "      <th>층</th>\n",
       "      <th>건축년도</th>\n",
       "      <th>계약날짜</th>\n",
       "      <th>단가(만원/㎡)</th>\n",
       "      <th>건물연식</th>\n",
       "    </tr>\n",
       "  </thead>\n",
       "  <tbody>\n",
       "    <tr>\n",
       "      <th>0</th>\n",
       "      <td>서울특별시 강남구 개포동 1172-2</td>\n",
       "      <td>(1172-2)</td>\n",
       "      <td>42.15</td>\n",
       "      <td>50000</td>\n",
       "      <td>3</td>\n",
       "      <td>2012.0</td>\n",
       "      <td>2022-03-21</td>\n",
       "      <td>1186.239620</td>\n",
       "      <td>11.0</td>\n",
       "    </tr>\n",
       "    <tr>\n",
       "      <th>2</th>\n",
       "      <td>서울특별시 강남구 개포동 1216-4</td>\n",
       "      <td>(1216-4)</td>\n",
       "      <td>29.97</td>\n",
       "      <td>55000</td>\n",
       "      <td>3</td>\n",
       "      <td>2012.0</td>\n",
       "      <td>2022-07-05</td>\n",
       "      <td>1835.168502</td>\n",
       "      <td>11.0</td>\n",
       "    </tr>\n",
       "    <tr>\n",
       "      <th>3</th>\n",
       "      <td>서울특별시 강남구 개포동 159-2</td>\n",
       "      <td>(159-2)</td>\n",
       "      <td>57.55</td>\n",
       "      <td>110000</td>\n",
       "      <td>2</td>\n",
       "      <td>1987.0</td>\n",
       "      <td>2022-06-09</td>\n",
       "      <td>1911.381407</td>\n",
       "      <td>36.0</td>\n",
       "    </tr>\n",
       "    <tr>\n",
       "      <th>4</th>\n",
       "      <td>서울특별시 강남구 개포동 159-2</td>\n",
       "      <td>(159-2)</td>\n",
       "      <td>121.23</td>\n",
       "      <td>199000</td>\n",
       "      <td>3</td>\n",
       "      <td>1987.0</td>\n",
       "      <td>2022-06-09</td>\n",
       "      <td>1641.507878</td>\n",
       "      <td>36.0</td>\n",
       "    </tr>\n",
       "    <tr>\n",
       "      <th>5</th>\n",
       "      <td>서울특별시 강남구 개포동 159-2</td>\n",
       "      <td>(159-2)</td>\n",
       "      <td>41.45</td>\n",
       "      <td>78000</td>\n",
       "      <td>2</td>\n",
       "      <td>1987.0</td>\n",
       "      <td>2022-06-09</td>\n",
       "      <td>1881.785283</td>\n",
       "      <td>36.0</td>\n",
       "    </tr>\n",
       "  </tbody>\n",
       "</table>\n",
       "</div>"
      ],
      "text/plain": [
       "                   지번주소   건물(단지)명  전용면적(㎡)  거래금액(만원)  층    건축년도       계약날짜  \\\n",
       "0  서울특별시 강남구 개포동 1172-2  (1172-2)    42.15     50000  3  2012.0 2022-03-21   \n",
       "2  서울특별시 강남구 개포동 1216-4  (1216-4)    29.97     55000  3  2012.0 2022-07-05   \n",
       "3   서울특별시 강남구 개포동 159-2   (159-2)    57.55    110000  2  1987.0 2022-06-09   \n",
       "4   서울특별시 강남구 개포동 159-2   (159-2)   121.23    199000  3  1987.0 2022-06-09   \n",
       "5   서울특별시 강남구 개포동 159-2   (159-2)    41.45     78000  2  1987.0 2022-06-09   \n",
       "\n",
       "      단가(만원/㎡)  건물연식  \n",
       "0  1186.239620  11.0  \n",
       "2  1835.168502  11.0  \n",
       "3  1911.381407  36.0  \n",
       "4  1641.507878  36.0  \n",
       "5  1881.785283  36.0  "
      ]
     },
     "execution_count": 13,
     "metadata": {},
     "output_type": "execute_result"
    }
   ],
   "source": [
    "main_data_df = data_prep()\n",
    "print(main_data_df.shape)\n",
    "main_data_df.head()"
   ]
  },
  {
   "cell_type": "code",
   "execution_count": 14,
   "metadata": {},
   "outputs": [],
   "source": [
    "date_today = str(datetime.datetime.now().date())\n",
    "\n",
    "if area_search_range_options.value == '~이상':\n",
    "    area_range_name = str(range_min.value) + '이상'\n",
    "elif area_search_range_options.value == '~이하':\n",
    "    area_range_name = str(range_max.value) + '이하'\n",
    "elif area_search_range_options.value == '~이상 & ~이하':\n",
    "    area_range_name = str(range_min.value) + '이상_' + str(range_max.value) + '이하'\n",
    "\n",
    "basedir = './구별_실거래가_지도/{}/{}_{}_전용면적_{}_최근_{}개월_{}'.format(\n",
    "    date_today, search_city.value, estate_type.value, area_range_name, search_range.value, date_today\n",
    ")\n",
    "\n",
    "try:\n",
    "    os.makedirs('./구별_실거래가_지도/{}/'.format(date_today))\n",
    "except:\n",
    "    pass"
   ]
  },
  {
   "cell_type": "code",
   "execution_count": 15,
   "metadata": {},
   "outputs": [],
   "source": [
    "main_data_df.to_excel(basedir + '_전체_거래사례_자료.xlsx', index=False)"
   ]
  },
  {
   "cell_type": "code",
   "execution_count": 16,
   "metadata": {},
   "outputs": [],
   "source": [
    "main_data_df['지번주소_건축년도'] = main_data_df['지번주소'] + '_' + main_data_df['건축년도'].astype('Int64').apply(str)"
   ]
  },
  {
   "cell_type": "code",
   "execution_count": 17,
   "metadata": {},
   "outputs": [],
   "source": [
    "main_data_df['소유자'] = np.nan"
   ]
  },
  {
   "cell_type": "code",
   "execution_count": 18,
   "metadata": {},
   "outputs": [],
   "source": [
    "def get_owner_name(df):\n",
    "    df = df.copy()\n",
    "    \n",
    "    count = 0\n",
    "    for addr in tqdm.tqdm_notebook(df['지번주소'].unique()):\n",
    "        owner_name = np.nan        \n",
    "        addr_df = df[df['지번주소'] == addr]\n",
    "        addr = addr.replace('-0', '')\n",
    "        \n",
    "        driver.switch_to.default_content()\n",
    "        \n",
    "        \n",
    "        driver.switch_to.frame(\"inputFrame\")\n",
    "        \n",
    "        elem_search = driver.find_element_by_xpath('html/body/form[1]/div[24]/div/div/div/fieldset/div/table/tbody/tr[5]/td/span/input')\n",
    "        elem_search.clear()\n",
    "        elem_search.send_keys(addr)\n",
    "        elem_search.send_keys(Keys.RETURN)\n",
    "        time.sleep(2)\n",
    "        \n",
    "        try:\n",
    "            driver.switch_to.alert.accept()\n",
    "        except:\n",
    "            pass\n",
    "        \n",
    "        time.sleep(1)\n",
    "        \n",
    "        try:\n",
    "            driver.switch_to.alert.accept()\n",
    "        except:\n",
    "            pass\n",
    "        \n",
    "        driver.switch_to.default_content()\n",
    "        driver.switch_to.frame('resultFrame')\n",
    "        driver.switch_to.frame('frmOuterModal')\n",
    "        \n",
    "        try:\n",
    "            driver.find_element_by_xpath('/html/body/div[2]/div[2]/table/tbody/tr[3]/td[6]/button').click()\n",
    "        except:\n",
    "            continue\n",
    "        \n",
    "        time.sleep(1)\n",
    "        \n",
    "        elem_result = driver.find_element_by_xpath('/html/body/div[2]/div[2]/table/tbody/tr/td[3]')\n",
    "        \n",
    "        owner_name = elem_result.text\n",
    "        \n",
    "        driver.switch_to.default_content()\n",
    "        \n",
    "        df.loc[addr_df.index, '소유자'] = owner_name\n",
    "        \n",
    "        count += 1\n",
    "    \n",
    "    return df"
   ]
  },
  {
   "cell_type": "code",
   "execution_count": 19,
   "metadata": {},
   "outputs": [],
   "source": [
    "def get_owner_name_update(df):\n",
    "    df = df.copy()\n",
    "    \n",
    "    count = 0\n",
    "    for addr in tqdm.tqdm_notebook(df['지번주소'].unique()):\n",
    "        owner_name = np.nan        \n",
    "        addr_df = df[df['지번주소'] == addr]\n",
    "        addr = addr.replace('-0', '')\n",
    "        \n",
    "        driver.switch_to.default_content()\n",
    "        \n",
    "        \n",
    "        driver.switch_to.frame(\"inputFrame\")\n",
    "        \n",
    "        elem_search = driver.find_element(By.XPATH, 'html/body/form[1]/div[24]/div/div/div/fieldset/div/table/tbody/tr[5]/td/span/input')\n",
    "        elem_search.clear()\n",
    "        elem_search.send_keys(addr)\n",
    "        elem_search.send_keys(Keys.RETURN)\n",
    "        time.sleep(2)\n",
    "        \n",
    "        try:\n",
    "            driver.switch_to.alert.accept()\n",
    "        except:\n",
    "            pass\n",
    "        \n",
    "        time.sleep(1)\n",
    "        \n",
    "        try:\n",
    "            driver.switch_to.alert.accept()\n",
    "        except:\n",
    "            pass\n",
    "        \n",
    "        driver.switch_to.default_content()\n",
    "        driver.switch_to.frame('resultFrame')\n",
    "        driver.switch_to.frame('frmOuterModal')\n",
    "        \n",
    "        try:\n",
    "            driver.find_element(By.XPATH, '/html/body/div[2]/div[2]/table/tbody/tr[3]/td[6]/button').click()\n",
    "        except:\n",
    "            continue\n",
    "        \n",
    "        time.sleep(1)\n",
    "        \n",
    "        elem_result = driver.find_element(By.XPATH, '/html/body/div[2]/div[2]/table/tbody/tr/td[3]')\n",
    "        \n",
    "        owner_name = elem_result.text\n",
    "        \n",
    "        driver.switch_to.default_content()\n",
    "        \n",
    "        df.loc[addr_df.index, '소유자'] = owner_name\n",
    "        \n",
    "        count += 1\n",
    "    \n",
    "    return df"
   ]
  },
  {
   "cell_type": "code",
   "execution_count": 20,
   "metadata": {},
   "outputs": [],
   "source": [
    "def name_filter(x):\n",
    "    if pd.isna(x) == True:\n",
    "        return x\n",
    "    else:\n",
    "        if x == '서***~':\n",
    "            return 'SH'\n",
    "        elif x == '한***~':\n",
    "            return 'LH'\n",
    "        elif x == '경***~':\n",
    "            return 'GH'\n",
    "        elif x == '인***~':\n",
    "            return 'IH'\n",
    "        else:\n",
    "            return x"
   ]
  },
  {
   "cell_type": "code",
   "execution_count": 21,
   "metadata": {},
   "outputs": [],
   "source": [
    "def buying_company_filter(df):\n",
    "    df = df.copy()\n",
    "    \n",
    "    df['소유자'] = df['소유자'].apply(name_filter)\n",
    "    \n",
    "    return df"
   ]
  },
  {
   "cell_type": "code",
   "execution_count": 22,
   "metadata": {},
   "outputs": [],
   "source": [
    "def export_data(df):\n",
    "    df = df.copy()\n",
    "    \n",
    "    df = df[\n",
    "        (df['소유자'] == 'SH')\n",
    "        |(df['소유자'] == 'LH')\n",
    "        |(df['소유자'] == 'GH')\n",
    "        |(df['소유자'] == 'IH')\n",
    "    ]\n",
    "    \n",
    "    df.to_excel(basedir + '_거래사례_베이스.xlsx', index=False)\n",
    "    \n",
    "    df['전용면적(㎡)_최소'] = df[['지번주소', '건축년도', '전용면적(㎡)']].groupby(['지번주소', '건축년도']).transform('min')['전용면적(㎡)']\n",
    "    df['전용면적(㎡)_평균'] = df[['지번주소', '건축년도', '전용면적(㎡)']].groupby(['지번주소', '건축년도']).transform('mean')['전용면적(㎡)']\n",
    "    df['전용면적(㎡)_최대'] = df[['지번주소', '건축년도', '전용면적(㎡)']].groupby(['지번주소', '건축년도']).transform('max')['전용면적(㎡)']\n",
    "    df['전용면적(㎡)_합'] = df[['지번주소', '건축년도', '전용면적(㎡)']].groupby(['지번주소', '건축년도']).transform('sum')['전용면적(㎡)']\n",
    "    \n",
    "    df['거래금액(만원)_최소'] = df[['지번주소', '건축년도', '거래금액(만원)']].groupby(['지번주소', '건축년도']).transform('min')['거래금액(만원)']\n",
    "    df['거래금액(만원)_평균'] = df[['지번주소', '건축년도', '거래금액(만원)']].groupby(['지번주소', '건축년도']).transform('mean')['거래금액(만원)']\n",
    "    df['거래금액(만원)_최대'] = df[['지번주소', '건축년도', '거래금액(만원)']].groupby(['지번주소', '건축년도']).transform('max')['거래금액(만원)']\n",
    "    df['거래금액(만원)_합'] = df[['지번주소', '건축년도', '거래금액(만원)']].groupby(['지번주소', '건축년도']).transform('sum')['거래금액(만원)']\n",
    "    \n",
    "    df['층_최대'] = df[['지번주소', '건축년도', '층']].groupby(['지번주소', '건축년도']).transform('max')['층']\n",
    "    \n",
    "    df['단가(만원/㎡)_최소'] = df[['지번주소', '건축년도', '단가(만원/㎡)']].groupby(['지번주소', '건축년도']).transform('min')['단가(만원/㎡)']\n",
    "    df['단가(만원/㎡)_평균'] = df[['지번주소', '건축년도', '단가(만원/㎡)']].groupby(['지번주소', '건축년도']).transform('mean')['단가(만원/㎡)']\n",
    "    df['단가(만원/㎡)_최대'] = df[['지번주소', '건축년도', '단가(만원/㎡)']].groupby(['지번주소', '건축년도']).transform('max')['단가(만원/㎡)']\n",
    "    \n",
    "    summary_df = df.drop(columns=['전용면적(㎡)', '거래금액(만원)', '층', '단가(만원/㎡)', '건물연식']).drop_duplicates()\n",
    "    summary_df['구'] = summary_df['지번주소'].apply(lambda x: x.split(' ')[1])\n",
    "    summary_df['동'] = summary_df['지번주소'].apply(lambda x: x.split(' ')[2])\n",
    "    summary_df = summary_df.sort_values(['구', '동', '계약날짜', '지번주소']).reset_index(drop=True)\n",
    "    summary_df = summary_df.drop(columns=['구', '동'])\n",
    "    \n",
    "    summary_df.to_excel(basedir + '_거래사례_요약.xlsx', index=False)"
   ]
  },
  {
   "cell_type": "code",
   "execution_count": 23,
   "metadata": {},
   "outputs": [
    {
     "name": "stdout",
     "output_type": "stream",
     "text": [
      "일괄계약 사례 검색 중...\n"
     ]
    },
    {
     "name": "stderr",
     "output_type": "stream",
     "text": [
      "C:\\Users\\max6296\\AppData\\Local\\Temp\\ipykernel_21888\\2805923717.py:5: TqdmDeprecationWarning: This function will be removed in tqdm==5.0.0\n",
      "Please use `tqdm.notebook.tqdm` instead of `tqdm.tqdm_notebook`\n",
      "  for addr in tqdm.tqdm_notebook(main_data_df['지번주소_건축년도'].unique()):\n"
     ]
    },
    {
     "data": {
      "application/vnd.jupyter.widget-view+json": {
       "model_id": "dde18e9152454c4cbb8f28fa377c8abc",
       "version_major": 2,
       "version_minor": 0
      },
      "text/plain": [
       "  0%|          | 0/13152 [00:00<?, ?it/s]"
      ]
     },
     "metadata": {},
     "output_type": "display_data"
    },
    {
     "name": "stdout",
     "output_type": "stream",
     "text": [
      "일괄계약이 이루어진 지번주소 갯수: 190\n",
      "소유자 정보를 가져오는 중...\n"
     ]
    },
    {
     "name": "stderr",
     "output_type": "stream",
     "text": [
      "C:\\Users\\max6296\\AppData\\Local\\Temp\\ipykernel_21888\\2805923717.py:22: DeprecationWarning: executable_path has been deprecated, please pass in a Service object\n",
      "  driver = webdriver.Chrome(ChromeDriverManager().install())\n",
      "C:\\Users\\max6296\\AppData\\Local\\Temp\\ipykernel_21888\\685047273.py:5: TqdmDeprecationWarning: This function will be removed in tqdm==5.0.0\n",
      "Please use `tqdm.notebook.tqdm` instead of `tqdm.tqdm_notebook`\n",
      "  for addr in tqdm.tqdm_notebook(df['지번주소'].unique()):\n"
     ]
    },
    {
     "data": {
      "application/vnd.jupyter.widget-view+json": {
       "model_id": "6e04bc41009645b288c8262ba08e1ecd",
       "version_major": 2,
       "version_minor": 0
      },
      "text/plain": [
       "  0%|          | 0/190 [00:00<?, ?it/s]"
      ]
     },
     "metadata": {},
     "output_type": "display_data"
    }
   ],
   "source": [
    "if buyer_type.value != 'SH, LH, IH, GH, 일반분양 전체':\n",
    "    bulk_trade_idx = []\n",
    "\n",
    "    print('일괄계약 사례 검색 중...')\n",
    "    for addr in tqdm.tqdm_notebook(main_data_df['지번주소_건축년도'].unique()):\n",
    "        addr_df = main_data_df[main_data_df['지번주소_건축년도'] == addr]\n",
    "\n",
    "        if (addr_df.shape[0] >= 10) & (addr_df['계약날짜'].nunique() == 1):\n",
    "            [bulk_trade_idx.append(idx) for idx in addr_df.index]\n",
    "    \n",
    "    bulk_trade_df = main_data_df.loc[bulk_trade_idx]\n",
    "    \n",
    "    print('일괄계약이 이루어진 지번주소 갯수:', bulk_trade_df['지번주소'].nunique())\n",
    "    \n",
    "    from selenium import webdriver\n",
    "    from selenium.webdriver.common.keys import Keys\n",
    "    from webdriver_manager.chrome import ChromeDriverManager\n",
    "    from selenium.webdriver.common.by import By\n",
    "    \n",
    "    print('소유자 정보를 가져오는 중...')\n",
    "    time.sleep(1)\n",
    "    driver = webdriver.Chrome(ChromeDriverManager().install())\n",
    "    time.sleep(1)\n",
    "    driver.get(\"http://www.iros.go.kr/PMainJ.jsp\")\n",
    "    time.sleep(1)\n",
    "    driver.get(\"http://www.iros.go.kr/frontservlet?cmd=RISUWelcomeViewC\")\n",
    "    time.sleep(1)\n",
    "    bulk_trade_df = get_owner_name_update(bulk_trade_df)\n",
    "    \n",
    "    bulk_trade_df = buying_company_filter(bulk_trade_df)\n",
    "    \n",
    "    export_data(bulk_trade_df)\n",
    "    \n",
    "    main_data_df.loc[bulk_trade_df.index, '소유자'] = bulk_trade_df['소유자']\n",
    "    \n",
    "    del bulk_trade_df\n",
    "    \n",
    "    main_data_df['소유자'].fillna('기타', inplace=True)\n",
    "    \n",
    "    if buyer_type.value == 'SH':\n",
    "        main_data_df = main_data_df[main_data_df['소유자'] == 'SH']\n",
    "    elif buyer_type.value == 'LH':\n",
    "        main_data_df = main_data_df[main_data_df['소유자'] == 'LH']\n",
    "    elif buyer_type.value == 'IH':\n",
    "        main_data_df = main_data_df[main_data_df['소유자'] == 'IH']\n",
    "    elif buyer_type.value == 'GH':\n",
    "        main_data_df = main_data_df[main_data_df['소유자'] == 'GH']\n",
    "    elif buyer_type.value == 'SH, LH, IH & GH':\n",
    "        main_data_df = main_data_df[(main_data_df['소유자'] == 'SH')\n",
    "                                    |(main_data_df['소유자'] == 'LH')\n",
    "                                    |(main_data_df['소유자'] == 'IH')\n",
    "                                    |(main_data_df['소유자'] == 'GH')\n",
    "                                   ]\n",
    "    elif buyer_type.value == 'SH, LH, IH, GH를 제외한 거래사례':\n",
    "        main_data_df = main_data_df[\n",
    "            (main_data_df['소유자'] != 'SH')\n",
    "            &(main_data_df['소유자'] != 'LH')\n",
    "            &(main_data_df['소유자'] != 'IH')\n",
    "            &(main_data_df['소유자'] != 'GH')\n",
    "        ]"
   ]
  },
  {
   "cell_type": "code",
   "execution_count": 24,
   "metadata": {},
   "outputs": [],
   "source": [
    "if search_city.value != '서울':\n",
    "    raise ValueError('검색 지역이 서울이 아닐 시 등치지도는 생성되지 않습니다.')\n",
    "    quit()"
   ]
  },
  {
   "cell_type": "code",
   "execution_count": 25,
   "metadata": {},
   "outputs": [],
   "source": [
    "def filter_and_generate_map_data(\n",
    "    df,\n",
    "    data_type=map_display_value_selection.value,\n",
    "    qr_value=quantile_range.value / 100,\n",
    "    area_range_type=area_search_range_options.value,\n",
    "    area_range_min=range_min.value,\n",
    "    area_range_max=range_max.value\n",
    "):\n",
    "    df = df.copy()\n",
    "    \n",
    "    ['~이상', '~이하', '~이상 & ~이하']\n",
    "    if area_range_type == '~이상':\n",
    "        df = df[df['전용면적(㎡)'] >= area_range_min]\n",
    "    elif area_range_type == '~이하':\n",
    "        df = df[df['전용면적(㎡)'] <= area_range_max]\n",
    "    elif area_range_type == '~이상 & ~이하':\n",
    "        df = df[\n",
    "            (df['전용면적(㎡)'] >= area_range_min)\n",
    "            &(df['전용면적(㎡)'] <= area_range_max)\n",
    "        ]\n",
    "    \n",
    "    df['구'] = df['지번주소'].apply(lambda x: x.split(' ')[1])\n",
    "    \n",
    "    gu_data_df = pd.DataFrame()\n",
    "    for i, gu in enumerate(df['구'].unique()):\n",
    "        gu_df = df[df['구'] == gu]\n",
    "        \n",
    "        gu_data_df.loc[i, 'name'] = gu\n",
    "        if data_type == '최소':\n",
    "            gu_data_df.loc[i, 'value'] = gu_df['단가(만원/㎡)'].min()\n",
    "        elif data_type == '최대':\n",
    "            gu_data_df.loc[i, 'value'] = gu_df['단가(만원/㎡)'].max()\n",
    "        elif data_type == '평균':\n",
    "            gu_data_df.loc[i, 'value'] = gu_df['단가(만원/㎡)'].mean()\n",
    "        elif data_type == '분위':\n",
    "            gu_data_df.loc[i, 'value'] = gu_df['단가(만원/㎡)'].quantile(qr_value)\n",
    "    \n",
    "    return df, gu_data_df    "
   ]
  },
  {
   "cell_type": "code",
   "execution_count": 26,
   "metadata": {},
   "outputs": [],
   "source": [
    "filtered_df, map_data_df = filter_and_generate_map_data(main_data_df)"
   ]
  },
  {
   "cell_type": "code",
   "execution_count": 27,
   "metadata": {},
   "outputs": [
    {
     "name": "stdout",
     "output_type": "stream",
     "text": [
      "(19, 2)\n"
     ]
    },
    {
     "data": {
      "text/html": [
       "<div>\n",
       "<style scoped>\n",
       "    .dataframe tbody tr th:only-of-type {\n",
       "        vertical-align: middle;\n",
       "    }\n",
       "\n",
       "    .dataframe tbody tr th {\n",
       "        vertical-align: top;\n",
       "    }\n",
       "\n",
       "    .dataframe thead th {\n",
       "        text-align: right;\n",
       "    }\n",
       "</style>\n",
       "<table border=\"1\" class=\"dataframe\">\n",
       "  <thead>\n",
       "    <tr style=\"text-align: right;\">\n",
       "      <th></th>\n",
       "      <th>name</th>\n",
       "      <th>value</th>\n",
       "    </tr>\n",
       "  </thead>\n",
       "  <tbody>\n",
       "    <tr>\n",
       "      <th>0</th>\n",
       "      <td>강남구</td>\n",
       "      <td>1542.696318</td>\n",
       "    </tr>\n",
       "    <tr>\n",
       "      <th>1</th>\n",
       "      <td>강동구</td>\n",
       "      <td>1016.800241</td>\n",
       "    </tr>\n",
       "    <tr>\n",
       "      <th>2</th>\n",
       "      <td>강북구</td>\n",
       "      <td>731.187447</td>\n",
       "    </tr>\n",
       "    <tr>\n",
       "      <th>3</th>\n",
       "      <td>관악구</td>\n",
       "      <td>1285.711960</td>\n",
       "    </tr>\n",
       "    <tr>\n",
       "      <th>4</th>\n",
       "      <td>구로구</td>\n",
       "      <td>794.671201</td>\n",
       "    </tr>\n",
       "    <tr>\n",
       "      <th>5</th>\n",
       "      <td>금천구</td>\n",
       "      <td>735.499823</td>\n",
       "    </tr>\n",
       "    <tr>\n",
       "      <th>6</th>\n",
       "      <td>도봉구</td>\n",
       "      <td>860.251310</td>\n",
       "    </tr>\n",
       "    <tr>\n",
       "      <th>7</th>\n",
       "      <td>동대문구</td>\n",
       "      <td>925.267781</td>\n",
       "    </tr>\n",
       "    <tr>\n",
       "      <th>8</th>\n",
       "      <td>동작구</td>\n",
       "      <td>966.046659</td>\n",
       "    </tr>\n",
       "    <tr>\n",
       "      <th>9</th>\n",
       "      <td>마포구</td>\n",
       "      <td>1242.381555</td>\n",
       "    </tr>\n",
       "    <tr>\n",
       "      <th>10</th>\n",
       "      <td>서대문구</td>\n",
       "      <td>1068.261907</td>\n",
       "    </tr>\n",
       "    <tr>\n",
       "      <th>11</th>\n",
       "      <td>서초구</td>\n",
       "      <td>1347.023094</td>\n",
       "    </tr>\n",
       "    <tr>\n",
       "      <th>12</th>\n",
       "      <td>성북구</td>\n",
       "      <td>992.178981</td>\n",
       "    </tr>\n",
       "    <tr>\n",
       "      <th>13</th>\n",
       "      <td>송파구</td>\n",
       "      <td>1231.154345</td>\n",
       "    </tr>\n",
       "    <tr>\n",
       "      <th>14</th>\n",
       "      <td>양천구</td>\n",
       "      <td>825.651337</td>\n",
       "    </tr>\n",
       "    <tr>\n",
       "      <th>15</th>\n",
       "      <td>영등포구</td>\n",
       "      <td>996.119429</td>\n",
       "    </tr>\n",
       "    <tr>\n",
       "      <th>16</th>\n",
       "      <td>은평구</td>\n",
       "      <td>790.187202</td>\n",
       "    </tr>\n",
       "    <tr>\n",
       "      <th>17</th>\n",
       "      <td>중구</td>\n",
       "      <td>1093.363873</td>\n",
       "    </tr>\n",
       "    <tr>\n",
       "      <th>18</th>\n",
       "      <td>중랑구</td>\n",
       "      <td>766.074331</td>\n",
       "    </tr>\n",
       "  </tbody>\n",
       "</table>\n",
       "</div>"
      ],
      "text/plain": [
       "    name        value\n",
       "0    강남구  1542.696318\n",
       "1    강동구  1016.800241\n",
       "2    강북구   731.187447\n",
       "3    관악구  1285.711960\n",
       "4    구로구   794.671201\n",
       "5    금천구   735.499823\n",
       "6    도봉구   860.251310\n",
       "7   동대문구   925.267781\n",
       "8    동작구   966.046659\n",
       "9    마포구  1242.381555\n",
       "10  서대문구  1068.261907\n",
       "11   서초구  1347.023094\n",
       "12   성북구   992.178981\n",
       "13   송파구  1231.154345\n",
       "14   양천구   825.651337\n",
       "15  영등포구   996.119429\n",
       "16   은평구   790.187202\n",
       "17    중구  1093.363873\n",
       "18   중랑구   766.074331"
      ]
     },
     "execution_count": 27,
     "metadata": {},
     "output_type": "execute_result"
    }
   ],
   "source": [
    "print(map_data_df.shape)\n",
    "map_data_df"
   ]
  },
  {
   "cell_type": "code",
   "execution_count": 28,
   "metadata": {},
   "outputs": [
    {
     "name": "stdout",
     "output_type": "stream",
     "text": [
      "지도 자료 구 갯수: 19\n"
     ]
    }
   ],
   "source": [
    "print('지도 자료 구 갯수:', map_data_df.shape[0])"
   ]
  },
  {
   "cell_type": "code",
   "execution_count": 29,
   "metadata": {},
   "outputs": [],
   "source": [
    "filtered_df.to_excel(basedir + '_지도_베이스_자료_전체.xlsx', index=False)\n",
    "map_data_df.to_excel(basedir + '_지도_자료.xlsx', index=False)"
   ]
  },
  {
   "cell_type": "code",
   "execution_count": 30,
   "metadata": {},
   "outputs": [],
   "source": [
    "import folium"
   ]
  },
  {
   "cell_type": "code",
   "execution_count": 31,
   "metadata": {},
   "outputs": [],
   "source": [
    "geo_json = 'https://raw.githubusercontent.com/southkorea/seoul-maps/master/kostat/2013/json/seoul_municipalities_geo_simple.json'"
   ]
  },
  {
   "cell_type": "code",
   "execution_count": 32,
   "metadata": {},
   "outputs": [],
   "source": [
    "color_list = ['블루그린', '블루퍼플', '그린블루', '오렌지레드', '퍼플블루', '퍼플블루그린', '퍼플레드', '레드퍼플',\n",
    "              '옐로우그린', '옐로우그린블루', '옐로우오렌지브라운', '옐로우오렌지레드']\n",
    "\n",
    "folium_color_names = ['BuGn', 'BuPu', 'GnBu', 'OrRd', 'PuBu', 'PuBuGn', 'PuRd', 'RdPu', 'YlGn', 'YlGnBu', 'YlOrBr',\n",
    "                      'YlOrRd']\n",
    "\n",
    "color_dict = {color_list[i]: folium_color_names[i] for i in range(len(color_list))}"
   ]
  },
  {
   "cell_type": "code",
   "execution_count": 33,
   "metadata": {},
   "outputs": [
    {
     "data": {
      "application/vnd.jupyter.widget-view+json": {
       "model_id": "ec12cb1454cc47b1a80cae33bb36deaf",
       "version_major": 2,
       "version_minor": 0
      },
      "text/plain": [
       "Box(children=(Label(value='지도 표시 색깔:'), RadioButtons(options=('화이트블루', '블루그린', '블루퍼플', '그린블루', '오렌지레드', '퍼플블루'…"
      ]
     },
     "metadata": {},
     "output_type": "display_data"
    }
   ],
   "source": [
    "map_color_options = widgets.RadioButtons(\n",
    "    options=['화이트블루', '블루그린', '블루퍼플', '그린블루', '오렌지레드', '퍼플블루', '퍼플블루그린', '퍼플레드', '레드퍼플',\n",
    "             '옐로우그린', '옐로우그린블루', '옐로우오렌지브라운', '옐로우오렌지레드'\n",
    "            ]\n",
    ")\n",
    "\n",
    "map_color_options_box = widgets.Box(\n",
    "    [\n",
    "        widgets.Label(value='지도 표시 색깔:'),\n",
    "        map_color_options        \n",
    "    ]\n",
    ")\n",
    "\n",
    "display(map_color_options_box)"
   ]
  },
  {
   "cell_type": "code",
   "execution_count": 35,
   "metadata": {},
   "outputs": [
    {
     "name": "stdout",
     "output_type": "stream",
     "text": [
      "연립다세대_전용면적_40.0이하_최근_12개월_2023-01-21\n"
     ]
    },
    {
     "data": {
      "text/html": [
       "<div style=\"width:100%;\"><div style=\"position:relative;width:100%;height:0;padding-bottom:60%;\"><span style=\"color:#565656\">Make this Notebook Trusted to load map: File -> Trust Notebook</span><iframe srcdoc=\"&lt;!DOCTYPE html&gt;\n",
       "&lt;html&gt;\n",
       "&lt;head&gt;\n",
       "    \n",
       "    &lt;meta http-equiv=&quot;content-type&quot; content=&quot;text/html; charset=UTF-8&quot; /&gt;\n",
       "    \n",
       "        &lt;script&gt;\n",
       "            L_NO_TOUCH = false;\n",
       "            L_DISABLE_3D = false;\n",
       "        &lt;/script&gt;\n",
       "    \n",
       "    &lt;style&gt;html, body {width: 100%;height: 100%;margin: 0;padding: 0;}&lt;/style&gt;\n",
       "    &lt;style&gt;#map {position:absolute;top:0;bottom:0;right:0;left:0;}&lt;/style&gt;\n",
       "    &lt;script src=&quot;https://cdn.jsdelivr.net/npm/leaflet@1.9.3/dist/leaflet.js&quot;&gt;&lt;/script&gt;\n",
       "    &lt;script src=&quot;https://code.jquery.com/jquery-1.12.4.min.js&quot;&gt;&lt;/script&gt;\n",
       "    &lt;script src=&quot;https://cdn.jsdelivr.net/npm/bootstrap@5.2.2/dist/js/bootstrap.bundle.min.js&quot;&gt;&lt;/script&gt;\n",
       "    &lt;script src=&quot;https://cdnjs.cloudflare.com/ajax/libs/Leaflet.awesome-markers/2.0.2/leaflet.awesome-markers.js&quot;&gt;&lt;/script&gt;\n",
       "    &lt;link rel=&quot;stylesheet&quot; href=&quot;https://cdn.jsdelivr.net/npm/leaflet@1.9.3/dist/leaflet.css&quot;/&gt;\n",
       "    &lt;link rel=&quot;stylesheet&quot; href=&quot;https://cdn.jsdelivr.net/npm/bootstrap@5.2.2/dist/css/bootstrap.min.css&quot;/&gt;\n",
       "    &lt;link rel=&quot;stylesheet&quot; href=&quot;https://netdna.bootstrapcdn.com/bootstrap/3.0.0/css/bootstrap.min.css&quot;/&gt;\n",
       "    &lt;link rel=&quot;stylesheet&quot; href=&quot;https://cdn.jsdelivr.net/npm/@fortawesome/fontawesome-free@6.2.0/css/all.min.css&quot;/&gt;\n",
       "    &lt;link rel=&quot;stylesheet&quot; href=&quot;https://cdnjs.cloudflare.com/ajax/libs/Leaflet.awesome-markers/2.0.2/leaflet.awesome-markers.css&quot;/&gt;\n",
       "    &lt;link rel=&quot;stylesheet&quot; href=&quot;https://cdn.jsdelivr.net/gh/python-visualization/folium/folium/templates/leaflet.awesome.rotate.min.css&quot;/&gt;\n",
       "    \n",
       "            &lt;meta name=&quot;viewport&quot; content=&quot;width=device-width,\n",
       "                initial-scale=1.0, maximum-scale=1.0, user-scalable=no&quot; /&gt;\n",
       "            &lt;style&gt;\n",
       "                #map_d6adb1beb6fc68becef7023e73d98f1c {\n",
       "                    position: relative;\n",
       "                    width: 100.0%;\n",
       "                    height: 100.0%;\n",
       "                    left: 0.0%;\n",
       "                    top: 0.0%;\n",
       "                }\n",
       "                .leaflet-container { font-size: 1rem; }\n",
       "            &lt;/style&gt;\n",
       "        \n",
       "    &lt;script src=&quot;https://cdnjs.cloudflare.com/ajax/libs/d3/3.5.5/d3.min.js&quot;&gt;&lt;/script&gt;\n",
       "&lt;/head&gt;\n",
       "&lt;body&gt;\n",
       "    \n",
       "    \n",
       "            &lt;div class=&quot;folium-map&quot; id=&quot;map_d6adb1beb6fc68becef7023e73d98f1c&quot; &gt;&lt;/div&gt;\n",
       "        \n",
       "&lt;/body&gt;\n",
       "&lt;script&gt;\n",
       "    \n",
       "    \n",
       "            var map_d6adb1beb6fc68becef7023e73d98f1c = L.map(\n",
       "                &quot;map_d6adb1beb6fc68becef7023e73d98f1c&quot;,\n",
       "                {\n",
       "                    center: [37.566345, 126.977893],\n",
       "                    crs: L.CRS.EPSG3857,\n",
       "                    zoom: 10,\n",
       "                    zoomControl: true,\n",
       "                    preferCanvas: false,\n",
       "                }\n",
       "            );\n",
       "\n",
       "            \n",
       "\n",
       "        \n",
       "    \n",
       "            var tile_layer_399b1ee85a8ebad50949abaae46c16bc = L.tileLayer(\n",
       "                &quot;https://{s}.tile.openstreetmap.org/{z}/{x}/{y}.png&quot;,\n",
       "                {&quot;attribution&quot;: &quot;Data by \\u0026copy; \\u003ca target=\\&quot;_blank\\&quot; href=\\&quot;http://openstreetmap.org\\&quot;\\u003eOpenStreetMap\\u003c/a\\u003e, under \\u003ca target=\\&quot;_blank\\&quot; href=\\&quot;http://www.openstreetmap.org/copyright\\&quot;\\u003eODbL\\u003c/a\\u003e.&quot;, &quot;detectRetina&quot;: false, &quot;maxNativeZoom&quot;: 18, &quot;maxZoom&quot;: 18, &quot;minZoom&quot;: 0, &quot;noWrap&quot;: false, &quot;opacity&quot;: 1, &quot;subdomains&quot;: &quot;abc&quot;, &quot;tms&quot;: false}\n",
       "            ).addTo(map_d6adb1beb6fc68becef7023e73d98f1c);\n",
       "        \n",
       "    \n",
       "            var choropleth_c1c09a418003831334c78e05a87f39de = L.featureGroup(\n",
       "                {}\n",
       "            ).addTo(map_d6adb1beb6fc68becef7023e73d98f1c);\n",
       "        \n",
       "    \n",
       "        function geo_json_d37cf9fd0bdeb262c90b9e755058d0c3_styler(feature) {\n",
       "            switch(feature.properties.code) {\n",
       "                case &quot;11250&quot;: case &quot;11130&quot;: case &quot;11020&quot;: \n",
       "                    return {&quot;color&quot;: &quot;black&quot;, &quot;fillColor&quot;: &quot;#9ecae1&quot;, &quot;fillOpacity&quot;: 0.6, &quot;opacity&quot;: 1, &quot;weight&quot;: 1};\n",
       "                case &quot;11240&quot;: case &quot;11140&quot;: \n",
       "                    return {&quot;color&quot;: &quot;black&quot;, &quot;fillColor&quot;: &quot;#6baed6&quot;, &quot;fillOpacity&quot;: 0.6, &quot;opacity&quot;: 1, &quot;weight&quot;: 1};\n",
       "                case &quot;11230&quot;: \n",
       "                    return {&quot;color&quot;: &quot;black&quot;, &quot;fillColor&quot;: &quot;#08519c&quot;, &quot;fillOpacity&quot;: 0.6, &quot;opacity&quot;: 1, &quot;weight&quot;: 1};\n",
       "                case &quot;11220&quot;: case &quot;11210&quot;: \n",
       "                    return {&quot;color&quot;: &quot;black&quot;, &quot;fillColor&quot;: &quot;#3182bd&quot;, &quot;fillOpacity&quot;: 0.6, &quot;opacity&quot;: 1, &quot;weight&quot;: 1};\n",
       "                case &quot;11200&quot;: case &quot;11190&quot;: case &quot;11080&quot;: case &quot;11060&quot;: \n",
       "                    return {&quot;color&quot;: &quot;black&quot;, &quot;fillColor&quot;: &quot;#c6dbef&quot;, &quot;fillOpacity&quot;: 0.6, &quot;opacity&quot;: 1, &quot;weight&quot;: 1};\n",
       "                case &quot;11160&quot;: case &quot;11110&quot;: case &quot;11050&quot;: case &quot;11040&quot;: case &quot;11030&quot;: case &quot;11010&quot;: \n",
       "                    return {&quot;color&quot;: &quot;black&quot;, &quot;fillColor&quot;: &quot;black&quot;, &quot;fillOpacity&quot;: 0.6, &quot;opacity&quot;: 1, &quot;weight&quot;: 1};\n",
       "                default:\n",
       "                    return {&quot;color&quot;: &quot;black&quot;, &quot;fillColor&quot;: &quot;#eff3ff&quot;, &quot;fillOpacity&quot;: 0.6, &quot;opacity&quot;: 1, &quot;weight&quot;: 1};\n",
       "            }\n",
       "        }\n",
       "\n",
       "        function geo_json_d37cf9fd0bdeb262c90b9e755058d0c3_onEachFeature(feature, layer) {\n",
       "            layer.on({\n",
       "            });\n",
       "        };\n",
       "        var geo_json_d37cf9fd0bdeb262c90b9e755058d0c3 = L.geoJson(null, {\n",
       "                onEachFeature: geo_json_d37cf9fd0bdeb262c90b9e755058d0c3_onEachFeature,\n",
       "            \n",
       "                style: geo_json_d37cf9fd0bdeb262c90b9e755058d0c3_styler,\n",
       "        });\n",
       "\n",
       "        function geo_json_d37cf9fd0bdeb262c90b9e755058d0c3_add (data) {\n",
       "            geo_json_d37cf9fd0bdeb262c90b9e755058d0c3\n",
       "                .addData(data)\n",
       "                .addTo(choropleth_c1c09a418003831334c78e05a87f39de);\n",
       "        }\n",
       "            geo_json_d37cf9fd0bdeb262c90b9e755058d0c3_add({&quot;features&quot;: [{&quot;geometry&quot;: {&quot;coordinates&quot;: [[[127.11519584981606, 37.557533180704915], [127.11879551821994, 37.557222485451305], [127.12146867175024, 37.55986003393365], [127.12435254630417, 37.56144246249796], [127.13593925898998, 37.56564793048277], [127.14930548011061, 37.56892250303897], [127.15511020940411, 37.57093642128295], [127.16683184366129, 37.57672487388627], [127.17038810813094, 37.576465605301046], [127.17607118428914, 37.57678573961056], [127.17905504160184, 37.57791388161732], [127.17747787800164, 37.57448983055031], [127.1781775408844, 37.571481967974336], [127.17995281860672, 37.569309661290504], [127.18122821955262, 37.56636089217979], [127.18169407550688, 37.56286338914073], [127.18408792330152, 37.55814280369575], [127.18350810324185, 37.550053002101485], [127.1852644795464, 37.54888592026534], [127.18480906237207, 37.545296888806796], [127.18543378919821, 37.54260756512178], [127.18364810569703, 37.54241347907019], [127.18116465939269, 37.54384126582126], [127.17770860504257, 37.542414255164374], [127.1744373170213, 37.54277723796397], [127.16830424484573, 37.54145405702079], [127.16530984307447, 37.54221851258693], [127.15566835118616, 37.53119520531309], [127.15538075046105, 37.52652930087977], [127.15154315998161, 37.522828709496416], [127.14981542759394, 37.51926843453025], [127.14791518058246, 37.51918714979303], [127.14684644251928, 37.51661384818575], [127.14672806823502, 37.51415680680291], [127.14532023498624, 37.51464060108829], [127.12123165719615, 37.52528270089], [127.12251496040881, 37.52751810228347], [127.12532464331997, 37.53572787912298], [127.12061313033807, 37.538129867839416], [127.1116764203608, 37.540669955324965], [127.11418412219375, 37.54474592090681], [127.11600200349189, 37.55053147511706], [127.11600943681239, 37.55580061507081], [127.11519584981606, 37.557533180704915]]], &quot;type&quot;: &quot;Polygon&quot;}, &quot;properties&quot;: {&quot;base_year&quot;: &quot;2013&quot;, &quot;code&quot;: &quot;11250&quot;, &quot;name&quot;: &quot;\\uac15\\ub3d9\\uad6c&quot;, &quot;name_eng&quot;: &quot;Gangdong-gu&quot;}, &quot;type&quot;: &quot;Feature&quot;}, {&quot;geometry&quot;: {&quot;coordinates&quot;: [[[127.0690698130372, 37.522279423505026], [127.07496309841329, 37.52091052765938], [127.07968915919895, 37.52077294752823], [127.08639455667742, 37.52161824624356], [127.0943611414465, 37.523984206117525], [127.10087519791962, 37.524841220167055], [127.10484130265957, 37.53120327509912], [127.1116764203608, 37.540669955324965], [127.12061313033807, 37.538129867839416], [127.12532464331997, 37.53572787912298], [127.12251496040881, 37.52751810228347], [127.12123165719615, 37.52528270089], [127.14532023498624, 37.51464060108829], [127.14672806823502, 37.51415680680291], [127.14670263739373, 37.512786602955565], [127.14462782318448, 37.511529542030715], [127.14323992504048, 37.50951977457089], [127.1420864475393, 37.50578973782813], [127.14324986168657, 37.502649431479774], [127.1473517108062, 37.50069754405746], [127.14980119646964, 37.50046502392898], [127.15223804785649, 37.50170492532197], [127.15401160147654, 37.500347919909956], [127.16086308579277, 37.49886565522751], [127.1634944215765, 37.497445406097484], [127.16199885180917, 37.49402577547199], [127.16216448592424, 37.491639601211624], [127.16040295326431, 37.4877818619403], [127.15892216655034, 37.486126922469445], [127.15393282790794, 37.48483891408459], [127.15147990997852, 37.47745324805034], [127.1515017465549, 37.475633269417585], [127.14857580353349, 37.47381386382568], [127.14415938171436, 37.473692508393505], [127.14112111404233, 37.470600239054825], [127.13631568648837, 37.47214721764681], [127.13281577200672, 37.47257463763244], [127.13307493070646, 37.468907694139894], [127.13750907701846, 37.46647058226059], [127.13478085797742, 37.46509524639883], [127.1308437061496, 37.46509985661207], [127.12728991002369, 37.46673043118672], [127.12729757787379, 37.46421548908766], [127.12440571080893, 37.46240445587048], [127.12441393026374, 37.46442715236855], [127.12265007208167, 37.46756987490939], [127.11380709617507, 37.479633334849325], [127.1143875173445, 37.48073157362458], [127.11117085201238, 37.485708381512445], [127.1077937689776, 37.48860875954992], [127.10433125798602, 37.490728250649646], [127.0988509639092, 37.49302529254068], [127.08050206733888, 37.49783151325589], [127.0764808967127, 37.498612695580306], [127.0719146000724, 37.50224013587669], [127.06926628842805, 37.51717796437217], [127.06860425556381, 37.51812758676938], [127.0690698130372, 37.522279423505026]]], &quot;type&quot;: &quot;Polygon&quot;}, &quot;properties&quot;: {&quot;base_year&quot;: &quot;2013&quot;, &quot;code&quot;: &quot;11240&quot;, &quot;name&quot;: &quot;\\uc1a1\\ud30c\\uad6c&quot;, &quot;name_eng&quot;: &quot;Songpa-gu&quot;}, &quot;type&quot;: &quot;Feature&quot;}, {&quot;geometry&quot;: {&quot;coordinates&quot;: [[[127.05867359288398, 37.52629974922568], [127.0690698130372, 37.522279423505026], [127.06860425556381, 37.51812758676938], [127.06926628842805, 37.51717796437217], [127.0719146000724, 37.50224013587669], [127.0764808967127, 37.498612695580306], [127.08050206733888, 37.49783151325589], [127.0988509639092, 37.49302529254068], [127.10433125798602, 37.490728250649646], [127.1077937689776, 37.48860875954992], [127.11117085201238, 37.485708381512445], [127.1143875173445, 37.48073157362458], [127.11380709617507, 37.479633334849325], [127.12265007208167, 37.46756987490939], [127.12441393026374, 37.46442715236855], [127.12440571080893, 37.46240445587048], [127.11957248720776, 37.45936217377656], [127.11885903757606, 37.45578434878651], [127.11535741803938, 37.45722556454321], [127.11413179478714, 37.45875072431525], [127.10841788934951, 37.45972888008147], [127.10561257180657, 37.456815702518746], [127.10032466845217, 37.45598440195682], [127.09842759318751, 37.45862253857461], [127.09712653145507, 37.460848194480654], [127.09039613625872, 37.465520545397716], [127.0866005634691, 37.47006403057779], [127.08640440578156, 37.472697935184655], [127.0802737559454, 37.471973057552624], [127.07602132306535, 37.47005021331707], [127.07476117209941, 37.47199174520626], [127.07231320371885, 37.47234914588019], [127.07135137525977, 37.47107802023145], [127.06463901956462, 37.47003474490574], [127.06371868919344, 37.4661503234869], [127.0588551029968, 37.465611780743174], [127.0559170481904, 37.4659228914077], [127.04713549385288, 37.474479419244865], [127.04345123620755, 37.48276415595109], [127.03621915098798, 37.48175802427603], [127.03372275812187, 37.48674434662411], [127.02265609299096, 37.509970106251416], [127.02038705349842, 37.51771683027875], [127.01917707838057, 37.520085205855196], [127.01397119667513, 37.52503988289669], [127.02302831890559, 37.53231899582663], [127.0269608080842, 37.53484752757724], [127.0319617044248, 37.536064291470424], [127.04806779588436, 37.52970198575087], [127.04903802830752, 37.53140496708317], [127.05116490008963, 37.52975116557232], [127.05867359288398, 37.52629974922568]]], &quot;type&quot;: &quot;Polygon&quot;}, &quot;properties&quot;: {&quot;base_year&quot;: &quot;2013&quot;, &quot;code&quot;: &quot;11230&quot;, &quot;name&quot;: &quot;\\uac15\\ub0a8\\uad6c&quot;, &quot;name_eng&quot;: &quot;Gangnam-gu&quot;}, &quot;type&quot;: &quot;Feature&quot;}, {&quot;geometry&quot;: {&quot;coordinates&quot;: [[[127.01397119667513, 37.52503988289669], [127.01917707838057, 37.520085205855196], [127.02038705349842, 37.51771683027875], [127.02265609299096, 37.509970106251416], [127.03372275812187, 37.48674434662411], [127.03621915098798, 37.48175802427603], [127.04345123620755, 37.48276415595109], [127.04713549385288, 37.474479419244865], [127.0559170481904, 37.4659228914077], [127.0588551029968, 37.465611780743174], [127.06371868919344, 37.4661503234869], [127.06463901956462, 37.47003474490574], [127.07135137525977, 37.47107802023145], [127.07231320371885, 37.47234914588019], [127.07476117209941, 37.47199174520626], [127.07602132306535, 37.47005021331707], [127.0802737559454, 37.471973057552624], [127.08640440578156, 37.472697935184655], [127.0866005634691, 37.47006403057779], [127.09039613625872, 37.465520545397716], [127.09712653145507, 37.460848194480654], [127.09842759318751, 37.45862253857461], [127.09673714758375, 37.45597209899094], [127.09722129576434, 37.45374822681991], [127.09575982122928, 37.45332980525459], [127.09472136159357, 37.450897902539175], [127.09293250684935, 37.450020696864506], [127.09047890749349, 37.44637473407341], [127.09046928565951, 37.44296826114185], [127.0862358725955, 37.44118543250345], [127.08441983692467, 37.4383879031398], [127.07686576585408, 37.43960712011444], [127.07375875606847, 37.43898415920535], [127.07407631675713, 37.43719357187124], [127.07666569012467, 37.43600054505559], [127.07603719210388, 37.43429107517633], [127.07361291761038, 37.43318474533595], [127.07271473569163, 37.42939553659177], [127.0733788318578, 37.42814484786288], [127.06885354151605, 37.42731815367302], [127.06778107605433, 37.426197424057314], [127.06317558623768, 37.4272916178182], [127.05998777565219, 37.4273224867045], [127.05424556064274, 37.42574929824175], [127.05197080928994, 37.42749842502397], [127.04960937636815, 37.42801020057224], [127.04849622718511, 37.430672016902065], [127.04191594772718, 37.43568906449929], [127.0379686253535, 37.43634417139204], [127.03751805596916, 37.438362795245276], [127.04031700689708, 37.44191429311459], [127.03959875976469, 37.443582700519194], [127.0398984887873, 37.44656106007936], [127.03825522385397, 37.448766467898395], [127.03916301678915, 37.45180237055558], [127.03881782597922, 37.45382039851715], [127.03695436044305, 37.45537592726508], [127.03573307034355, 37.4586703897792], [127.03683946894893, 37.46103886642786], [127.03337331972266, 37.462966775127626], [127.02820831539744, 37.455700834295826], [127.02263694708293, 37.45335816711404], [127.01827371395349, 37.4525593623189], [127.01316256500736, 37.45257906566242], [127.01110931353561, 37.45456166745922], [127.00836380369604, 37.45936868039916], [127.00738548779366, 37.459815333664274], [127.00552362663117, 37.46445102893571], [127.00008523087483, 37.46455774995882], [126.99837609897334, 37.46390918086617], [126.99932142462428, 37.46113351815481], [126.99893310307874, 37.459376062410314], [126.9953054179472, 37.45860121328987], [126.99072073195462, 37.455326143310025], [126.98956736277059, 37.457600756400446], [126.99026416700147, 37.46271603227842], [126.98896316546526, 37.465041871263544], [126.98662755598336, 37.466937278295305], [126.9846374349825, 37.46996301876212], [126.98367668291802, 37.473856492692086], [126.98500224966135, 37.49356837311327], [126.9871787157338, 37.49719505997539], [126.9832495184969, 37.49948552591205], [126.98241580381733, 37.50120029501884], [126.98223807916081, 37.509314966770326], [126.98458580602838, 37.51070333105394], [126.98948242685965, 37.5108780134613], [126.99148001917875, 37.50990503427709], [127.00011962020382, 37.513901653034374], [127.00583392114271, 37.516905128452926], [127.00818058911564, 37.51877313923874], [127.01022186960886, 37.522020085671926], [127.01397119667513, 37.52503988289669]]], &quot;type&quot;: &quot;Polygon&quot;}, &quot;properties&quot;: {&quot;base_year&quot;: &quot;2013&quot;, &quot;code&quot;: &quot;11220&quot;, &quot;name&quot;: &quot;\\uc11c\\ucd08\\uad6c&quot;, &quot;name_eng&quot;: &quot;Seocho-gu&quot;}, &quot;type&quot;: &quot;Feature&quot;}, {&quot;geometry&quot;: {&quot;coordinates&quot;: [[[126.98367668291802, 37.473856492692086], [126.9846374349825, 37.46996301876212], [126.98662755598336, 37.466937278295305], [126.98896316546526, 37.465041871263544], [126.99026416700147, 37.46271603227842], [126.98956736277059, 37.457600756400446], [126.99072073195462, 37.455326143310025], [126.98484249930785, 37.45391909788938], [126.9829408096241, 37.450206782833206], [126.97835022660695, 37.447659155806164], [126.97608193440507, 37.44478918862847], [126.9731300196836, 37.444722870088114], [126.96650852936277, 37.44276983031553], [126.96618702895445, 37.439376482995094], [126.96520439085143, 37.438249784006246], [126.9614877541633, 37.437956805629675], [126.96054904645496, 37.43673997185797], [126.95527369898224, 37.43673711968809], [126.9473688393239, 37.4347689647565], [126.94440352544498, 37.43476162120059], [126.9415292183489, 37.43315139671158], [126.94037501670272, 37.43462213966344], [126.9405640311191, 37.437501011208845], [126.9376981355065, 37.44041709605302], [126.93312955918624, 37.44290014710262], [126.93309127096236, 37.44533734785938], [126.93084408056525, 37.447382928333994], [126.92527839995981, 37.45161884570837], [126.9245243450059, 37.45392293573877], [126.91887928082078, 37.45495082787016], [126.9167728146601, 37.45490566423789], [126.91641538472182, 37.45870245071989], [126.91495285904284, 37.461166184511065], [126.91584245173756, 37.462474576247985], [126.91374656127704, 37.46375990852858], [126.91032166997253, 37.469818629944285], [126.91280966667205, 37.47083063715413], [126.91405961426707, 37.47416764846582], [126.9115784808617, 37.4753960485947], [126.91181700249076, 37.47814319736339], [126.90276666415615, 37.47652007992712], [126.90156094129895, 37.47753842789901], [126.90531975801812, 37.48218087575429], [126.90805655355825, 37.48218338568103], [126.91533979779165, 37.484392208242134], [126.91916807529428, 37.48660606817164], [126.92639563063156, 37.48715979752876], [126.92869559665061, 37.49132126714011], [126.92981699800066, 37.49218420958284], [126.93346386636452, 37.49043826776755], [126.93669800083833, 37.49026778789087], [126.93844070234584, 37.4893532861132], [126.94373156012337, 37.48938843727846], [126.94922661389508, 37.49125437495649], [126.95396955055433, 37.48955250290043], [126.9559655046206, 37.48820165625994], [126.95881175306481, 37.48874989165474], [126.96329694970828, 37.4905835370787], [126.96291787066104, 37.48803272157808], [126.96443983219191, 37.48442261322104], [126.9634428120456, 37.48067931902171], [126.9725891850662, 37.472561363278125], [126.97901795539295, 37.47376525108475], [126.98367668291802, 37.473856492692086]]], &quot;type&quot;: &quot;Polygon&quot;}, &quot;properties&quot;: {&quot;base_year&quot;: &quot;2013&quot;, &quot;code&quot;: &quot;11210&quot;, &quot;name&quot;: &quot;\\uad00\\uc545\\uad6c&quot;, &quot;name_eng&quot;: &quot;Gwanak-gu&quot;}, &quot;type&quot;: &quot;Feature&quot;}, {&quot;geometry&quot;: {&quot;coordinates&quot;: [[[126.98223807916081, 37.509314966770326], [126.98241580381733, 37.50120029501884], [126.9832495184969, 37.49948552591205], [126.9871787157338, 37.49719505997539], [126.98500224966135, 37.49356837311327], [126.98367668291802, 37.473856492692086], [126.97901795539295, 37.47376525108475], [126.9725891850662, 37.472561363278125], [126.9634428120456, 37.48067931902171], [126.96443983219191, 37.48442261322104], [126.96291787066104, 37.48803272157808], [126.96329694970828, 37.4905835370787], [126.95881175306481, 37.48874989165474], [126.9559655046206, 37.48820165625994], [126.95396955055433, 37.48955250290043], [126.94922661389508, 37.49125437495649], [126.94373156012337, 37.48938843727846], [126.93844070234584, 37.4893532861132], [126.93669800083833, 37.49026778789087], [126.93346386636452, 37.49043826776755], [126.92981699800066, 37.49218420958284], [126.92869559665061, 37.49132126714011], [126.92639563063156, 37.48715979752876], [126.91916807529428, 37.48660606817164], [126.91533979779165, 37.484392208242134], [126.90805655355825, 37.48218338568103], [126.90531975801812, 37.48218087575429], [126.91461888105147, 37.493581242537296], [126.92177893174825, 37.494889877415176], [126.9232469824303, 37.49928149943772], [126.92749463764046, 37.50985955934051], [126.92919938332032, 37.51019685838638], [126.92810628828279, 37.51329595732015], [126.93453120783802, 37.5128512712934], [126.94407346439685, 37.51463101265907], [126.95249990298159, 37.51722500741813], [126.95551848909955, 37.514736123015844], [126.95950268374823, 37.51249532165974], [126.96670111119346, 37.50997579058433], [126.98223807916081, 37.509314966770326]]], &quot;type&quot;: &quot;Polygon&quot;}, &quot;properties&quot;: {&quot;base_year&quot;: &quot;2013&quot;, &quot;code&quot;: &quot;11200&quot;, &quot;name&quot;: &quot;\\ub3d9\\uc791\\uad6c&quot;, &quot;name_eng&quot;: &quot;Dongjak-gu&quot;}, &quot;type&quot;: &quot;Feature&quot;}, {&quot;geometry&quot;: {&quot;coordinates&quot;: [[[126.89184663862764, 37.547373974997114], [126.90281125423546, 37.54133630026083], [126.90829204147958, 37.539206065016785], [126.93132557924062, 37.53415416375281], [126.93680342222562, 37.53344577095931], [126.94566733083212, 37.526617542453366], [126.9488066464266, 37.52424913252661], [126.95003825019774, 37.520781022055274], [126.95249990298159, 37.51722500741813], [126.94407346439685, 37.51463101265907], [126.93453120783802, 37.5128512712934], [126.92810628828279, 37.51329595732015], [126.92919938332032, 37.51019685838638], [126.92749463764046, 37.50985955934051], [126.9232469824303, 37.49928149943772], [126.92177893174825, 37.494889877415176], [126.91461888105147, 37.493581242537296], [126.90531975801812, 37.48218087575429], [126.90260188508027, 37.48282626920736], [126.89861362258316, 37.48625405368759], [126.89581061458084, 37.49391346191318], [126.89549571721683, 37.50033127915717], [126.89594776782485, 37.504675281309176], [126.89253696873205, 37.50875582175844], [126.88156402353862, 37.513970034765684], [126.88191372979959, 37.51939416754389], [126.88260109180834, 37.52242565920786], [126.88382776477316, 37.52352483439659], [126.88904768965743, 37.525856504359034], [126.89057378109133, 37.52792091672938], [126.89213569003026, 37.52757969298779], [126.89361739665432, 37.53033899535983], [126.89339176028666, 37.533030814524004], [126.88938421776182, 37.54060159145325], [126.88825757860099, 37.54079733630232], [126.88736718003831, 37.54350482420959], [126.89184663862764, 37.547373974997114]]], &quot;type&quot;: &quot;Polygon&quot;}, &quot;properties&quot;: {&quot;base_year&quot;: &quot;2013&quot;, &quot;code&quot;: &quot;11190&quot;, &quot;name&quot;: &quot;\\uc601\\ub4f1\\ud3ec\\uad6c&quot;, &quot;name_eng&quot;: &quot;Yeongdeungpo-gu&quot;}, &quot;type&quot;: &quot;Feature&quot;}, {&quot;geometry&quot;: {&quot;coordinates&quot;: [[[126.90156094129895, 37.47753842789901], [126.90276666415615, 37.47652007992712], [126.91181700249076, 37.47814319736339], [126.9115784808617, 37.4753960485947], [126.91405961426707, 37.47416764846582], [126.91280966667205, 37.47083063715413], [126.91032166997253, 37.469818629944285], [126.91374656127704, 37.46375990852858], [126.91584245173756, 37.462474576247985], [126.91495285904284, 37.461166184511065], [126.91641538472182, 37.45870245071989], [126.9167728146601, 37.45490566423789], [126.91887928082078, 37.45495082787016], [126.9245243450059, 37.45392293573877], [126.92527839995981, 37.45161884570837], [126.93084408056525, 37.447382928333994], [126.9255681646224, 37.44377627841776], [126.92318732232543, 37.44131494528283], [126.92199241717724, 37.43848070111403], [126.92004664118903, 37.43708741729147], [126.91641802826501, 37.43722730676683], [126.91344497343947, 37.43474365720405], [126.91082677485002, 37.43100963341445], [126.90487628022693, 37.43129996372531], [126.90480610062333, 37.433123813599884], [126.90147608259903, 37.4353323892334], [126.90081465102077, 37.436498759868456], [126.90105333433885, 37.44031094924801], [126.90031753853916, 37.441844173154756], [126.89768314223053, 37.442906858137974], [126.89812451590424, 37.44551117837958], [126.89616541233094, 37.44983024861048], [126.8947204038491, 37.4491097366517], [126.89157226377172, 37.449944282396714], [126.89113632562855, 37.45236898205529], [126.88831381741582, 37.45357939777933], [126.88826482749008, 37.45663270152334], [126.89074130059865, 37.45966561796733], [126.88198617469523, 37.469975509557976], [126.87874781843654, 37.47475533620029], [126.87553760781829, 37.48186220368496], [126.87683271502428, 37.482576591607305], [126.88079109105627, 37.48378287831426], [126.8827497570056, 37.48316340563878], [126.88803217321346, 37.47975290808737], [126.89116882970154, 37.47681803032367], [126.89689977603885, 37.47570593888643], [126.90104536043339, 37.47614746588584], [126.90156094129895, 37.47753842789901]]], &quot;type&quot;: &quot;Polygon&quot;}, &quot;properties&quot;: {&quot;base_year&quot;: &quot;2013&quot;, &quot;code&quot;: &quot;11180&quot;, &quot;name&quot;: &quot;\\uae08\\ucc9c\\uad6c&quot;, &quot;name_eng&quot;: &quot;Geumcheon-gu&quot;}, &quot;type&quot;: &quot;Feature&quot;}, {&quot;geometry&quot;: {&quot;coordinates&quot;: [[[126.82688081517314, 37.50548972232896], [126.8312211095328, 37.50541191299514], [126.8341914436862, 37.50238060850881], [126.8385046623421, 37.49965438083505], [126.84270526111828, 37.501190052842375], [126.8421330711049, 37.50273297478404], [126.84689618668257, 37.50287086505149], [126.84730715497963, 37.50522159123912], [126.85079659934003, 37.50601938589165], [126.8521985385098, 37.507310601432195], [126.8549910115563, 37.507774255244875], [126.85767018319959, 37.50643578404816], [126.8602448049945, 37.50714262450898], [126.86219488732715, 37.50388438562706], [126.86454914535695, 37.50388350542007], [126.86525729660478, 37.502448483868896], [126.86795186545288, 37.502755995885714], [126.87109220473953, 37.50203922322315], [126.87432642792102, 37.50260287829134], [126.87556919864359, 37.505720626918], [126.88054908630636, 37.51148026214697], [126.88156402353862, 37.513970034765684], [126.89253696873205, 37.50875582175844], [126.89594776782485, 37.504675281309176], [126.89549571721683, 37.50033127915717], [126.89581061458084, 37.49391346191318], [126.89861362258316, 37.48625405368759], [126.90260188508027, 37.48282626920736], [126.90531975801812, 37.48218087575429], [126.90156094129895, 37.47753842789901], [126.90104536043339, 37.47614746588584], [126.89689977603885, 37.47570593888643], [126.89116882970154, 37.47681803032367], [126.88803217321346, 37.47975290808737], [126.8827497570056, 37.48316340563878], [126.88079109105627, 37.48378287831426], [126.87683271502428, 37.482576591607305], [126.87926901338844, 37.4851363312754], [126.87807822721697, 37.486247661404484], [126.87500855887376, 37.485529408954044], [126.87499999632084, 37.48723558386031], [126.86985088086946, 37.490972856926746], [126.86690708512153, 37.48850048185492], [126.86334463261252, 37.48702105213313], [126.85979281993241, 37.48309390333688], [126.8571926758503, 37.482400254369296], [126.85582775745682, 37.48008159809108], [126.85397991619827, 37.47882533996402], [126.84914329670241, 37.4792573077648], [126.84804505350411, 37.478160467930344], [126.84762676054953, 37.47146723936323], [126.84154264465728, 37.4728980419], [126.83754691879544, 37.472514053936045], [126.83388005989259, 37.4747683882548], [126.83136668931549, 37.47344154955525], [126.82660025197819, 37.47364544953152], [126.82419365698964, 37.472951080902234], [126.82179895415682, 37.47518076838956], [126.82206789884786, 37.47889514031285], [126.82139445214092, 37.48136482338644], [126.82208805042494, 37.48299688518288], [126.82558489219227, 37.48497306755705], [126.82482114643597, 37.48717399070965], [126.81993148808915, 37.48877864988337], [126.81649745505314, 37.490455810141476], [126.81480709048222, 37.493362284349615], [126.81518179823208, 37.495233793642186], [126.81771493003457, 37.494748098657496], [126.8208295567048, 37.49594689979241], [126.82204657426578, 37.49851634597747], [126.82367963750009, 37.49925830108059], [126.82504736331406, 37.50302612640443], [126.82469248121312, 37.50496239513798], [126.82688081517314, 37.50548972232896]]], &quot;type&quot;: &quot;Polygon&quot;}, &quot;properties&quot;: {&quot;base_year&quot;: &quot;2013&quot;, &quot;code&quot;: &quot;11170&quot;, &quot;name&quot;: &quot;\\uad6c\\ub85c\\uad6c&quot;, &quot;name_eng&quot;: &quot;Guro-gu&quot;}, &quot;type&quot;: &quot;Feature&quot;}, {&quot;geometry&quot;: {&quot;coordinates&quot;: [[[126.85984199399667, 37.571847855292745], [126.85950389772532, 37.5682771531189], [126.8604929702619, 37.566825621733905], [126.86837407967381, 37.56309561411933], [126.87997924964915, 37.55510740490174], [126.89184663862764, 37.547373974997114], [126.88736718003831, 37.54350482420959], [126.88825757860099, 37.54079733630232], [126.8872486543506, 37.54079100234749], [126.88280520161935, 37.545072121233225], [126.8761093656006, 37.54412882794802], [126.8727924099192, 37.544853699294116], [126.86637464321238, 37.54859191094823], [126.86426635332332, 37.54172958759955], [126.86582129720519, 37.53817151116851], [126.8655037497872, 37.53382926555605], [126.86610073476395, 37.52699964144669], [126.85098397861944, 37.525098716169985], [126.84257291943153, 37.52373707805596], [126.836555914069, 37.53367208325903], [126.83716591765655, 37.534935320492906], [126.83522688458329, 37.539042988809484], [126.8325348945036, 37.538953250433295], [126.83191667070415, 37.54146500511403], [126.83017074557299, 37.542611079015344], [126.82889818288362, 37.53909381305992], [126.8242331426722, 37.53788078753248], [126.81674221631081, 37.5378396500627], [126.81246052552456, 37.538810793377344], [126.81143604908785, 37.54033621168525], [126.80542840499083, 37.54008921830378], [126.80185404828612, 37.537645443377826], [126.80090914554204, 37.53503009075454], [126.79688612254975, 37.53302974862096], [126.79582133969424, 37.536641561833754], [126.79693641290046, 37.53865858611534], [126.79388711477147, 37.53902211451394], [126.7938616681597, 37.54104361952839], [126.79075533377627, 37.54165251407983], [126.78880225462409, 37.54353706379955], [126.78198339188025, 37.543449601019624], [126.77756215424237, 37.54611355396897], [126.77324417717703, 37.5459123450554], [126.76977011413412, 37.55052082471595], [126.76700465024426, 37.552821566629916], [126.77074629769308, 37.55296836994276], [126.77145103135192, 37.55434307460708], [126.77879087345151, 37.55919525318415], [126.77889121370164, 37.5613614424496], [126.77671213061004, 37.5645429268672], [126.77986476402239, 37.564245932540665], [126.78252024622797, 37.565367145342954], [126.78471963959866, 37.56745669198498], [126.78398460461828, 37.56905814599349], [126.78496836516075, 37.57090748246567], [126.79172648531066, 37.57472630536462], [126.79539987549317, 37.57451148875729], [126.79523455851671, 37.57760277954844], [126.7958606942207, 37.58019957877273], [126.79799133400897, 37.58036436587069], [126.80091228188235, 37.5854309825683], [126.80289369340177, 37.58621464221784], [126.80131704756816, 37.58839794302751], [126.80149834313248, 37.59012749570681], [126.7996634054858, 37.59296530943065], [126.79910601240701, 37.59569886491464], [126.80046544382346, 37.59827267924192], [126.80198459129242, 37.598541940075755], [126.80268446118524, 37.601312560472834], [126.80393696882469, 37.601857300987895], [126.80759006979085, 37.60089755124775], [126.81814502537962, 37.591566052513244], [126.82251438477105, 37.5880430810082], [126.82891304761237, 37.5855611764797], [126.85302823436479, 37.57282468882299], [126.85984199399667, 37.571847855292745]]], &quot;type&quot;: &quot;Polygon&quot;}, &quot;properties&quot;: {&quot;base_year&quot;: &quot;2013&quot;, &quot;code&quot;: &quot;11160&quot;, &quot;name&quot;: &quot;\\uac15\\uc11c\\uad6c&quot;, &quot;name_eng&quot;: &quot;Gangseo-gu&quot;}, &quot;type&quot;: &quot;Feature&quot;}, {&quot;geometry&quot;: {&quot;coordinates&quot;: [[[126.8242331426722, 37.53788078753248], [126.82889818288362, 37.53909381305992], [126.83017074557299, 37.542611079015344], [126.83191667070415, 37.54146500511403], [126.8325348945036, 37.538953250433295], [126.83522688458329, 37.539042988809484], [126.83716591765655, 37.534935320492906], [126.836555914069, 37.53367208325903], [126.84257291943153, 37.52373707805596], [126.85098397861944, 37.525098716169985], [126.86610073476395, 37.52699964144669], [126.8655037497872, 37.53382926555605], [126.86582129720519, 37.53817151116851], [126.86426635332332, 37.54172958759955], [126.86637464321238, 37.54859191094823], [126.8727924099192, 37.544853699294116], [126.8761093656006, 37.54412882794802], [126.88280520161935, 37.545072121233225], [126.8872486543506, 37.54079100234749], [126.88825757860099, 37.54079733630232], [126.88938421776182, 37.54060159145325], [126.89339176028666, 37.533030814524004], [126.89361739665432, 37.53033899535983], [126.89213569003026, 37.52757969298779], [126.89057378109133, 37.52792091672938], [126.88904768965743, 37.525856504359034], [126.88382776477316, 37.52352483439659], [126.88260109180834, 37.52242565920786], [126.88191372979959, 37.51939416754389], [126.88156402353862, 37.513970034765684], [126.88054908630636, 37.51148026214697], [126.87556919864359, 37.505720626918], [126.87432642792102, 37.50260287829134], [126.87109220473953, 37.50203922322315], [126.86795186545288, 37.502755995885714], [126.86525729660478, 37.502448483868896], [126.86454914535695, 37.50388350542007], [126.86219488732715, 37.50388438562706], [126.8602448049945, 37.50714262450898], [126.85767018319959, 37.50643578404816], [126.8549910115563, 37.507774255244875], [126.8521985385098, 37.507310601432195], [126.85079659934003, 37.50601938589165], [126.84730715497963, 37.50522159123912], [126.84689618668257, 37.50287086505149], [126.8421330711049, 37.50273297478404], [126.84270526111828, 37.501190052842375], [126.8385046623421, 37.49965438083505], [126.8341914436862, 37.50238060850881], [126.8312211095328, 37.50541191299514], [126.82688081517314, 37.50548972232896], [126.82609821744505, 37.507816771867255], [126.82665326173496, 37.510416148524136], [126.82529622550616, 37.513385210403136], [126.82763384465879, 37.516923263281946], [126.8273575421771, 37.52002629298419], [126.83054711509516, 37.52390261457357], [126.82938708105253, 37.5268052663749], [126.8276955169658, 37.52706155314193], [126.82389942108053, 37.53199443525418], [126.8242331426722, 37.53788078753248]]], &quot;type&quot;: &quot;Polygon&quot;}, &quot;properties&quot;: {&quot;base_year&quot;: &quot;2013&quot;, &quot;code&quot;: &quot;11150&quot;, &quot;name&quot;: &quot;\\uc591\\ucc9c\\uad6c&quot;, &quot;name_eng&quot;: &quot;Yangcheon-gu&quot;}, &quot;type&quot;: &quot;Feature&quot;}, {&quot;geometry&quot;: {&quot;coordinates&quot;: [[[126.90522065831053, 37.57409700522574], [126.90370105002282, 37.57266722738834], [126.90687243065778, 37.57059762097416], [126.92189004506, 37.56391798973296], [126.92778174854314, 37.562495624023775], [126.93034243306369, 37.56054720372433], [126.92881397392811, 37.558202848902], [126.92872097190046, 37.556034533941734], [126.93898161798973, 37.552310003728124], [126.94314477022111, 37.5536460848349], [126.95916768398142, 37.55468176051932], [126.96080686210321, 37.55386236039188], [126.96358226710812, 37.55605635475154], [126.96519694864509, 37.55362533505407], [126.96380145704283, 37.55254525759954], [126.96448570553055, 37.548705692021635], [126.96604189284825, 37.546894141748815], [126.96401856825223, 37.54584596959762], [126.96231305253527, 37.543511558047456], [126.9605977865388, 37.542661954880806], [126.95926437828754, 37.53897908363236], [126.95340780191557, 37.533494726370755], [126.94717864071288, 37.53213495568077], [126.94566733083212, 37.526617542453366], [126.93680342222562, 37.53344577095931], [126.93132557924062, 37.53415416375281], [126.90829204147958, 37.539206065016785], [126.90281125423546, 37.54133630026083], [126.89184663862764, 37.547373974997114], [126.87997924964915, 37.55510740490174], [126.86837407967381, 37.56309561411933], [126.8604929702619, 37.566825621733905], [126.85950389772532, 37.5682771531189], [126.85984199399667, 37.571847855292745], [126.85993476176495, 37.5728262143511], [126.8638132887273, 37.57306147014704], [126.86560520354786, 37.57385540098251], [126.86766286078968, 37.57269227137124], [126.87008117117851, 37.574598289168996], [126.87282267062741, 37.574956427500126], [126.8779661566318, 37.57680133323819], [126.87918874599603, 37.5796889248137], [126.87876320682938, 37.581327335058546], [126.88107183862735, 37.583788024645344], [126.88237824849728, 37.586847436468204], [126.88433284773288, 37.588143322880526], [126.89150044994719, 37.58202374305761], [126.89532313269488, 37.579420322822145], [126.89738573904876, 37.578668647687564], [126.90023584510952, 37.575506080437606], [126.90373193212757, 37.573123712282076], [126.90522065831053, 37.57409700522574]]], &quot;type&quot;: &quot;Polygon&quot;}, &quot;properties&quot;: {&quot;base_year&quot;: &quot;2013&quot;, &quot;code&quot;: &quot;11140&quot;, &quot;name&quot;: &quot;\\ub9c8\\ud3ec\\uad6c&quot;, &quot;name_eng&quot;: &quot;Mapo-gu&quot;}, &quot;type&quot;: &quot;Feature&quot;}, {&quot;geometry&quot;: {&quot;coordinates&quot;: [[[126.9524752030572, 37.60508692737045], [126.95480868778256, 37.60381765067903], [126.95564117002459, 37.601827148276776], [126.95484771718951, 37.59761368186209], [126.95619178283661, 37.59575826218021], [126.95924434840931, 37.59545024466215], [126.95842779914786, 37.592356673207824], [126.960424902266, 37.58868913291801], [126.96048802632431, 37.587202077053746], [126.95879970726017, 37.58189826471162], [126.96177754536156, 37.57970124256911], [126.95789326971087, 37.57793453336025], [126.95565425846463, 37.576080790881456], [126.96873633279075, 37.56313604690827], [126.97169209525231, 37.55921654641677], [126.96900073076728, 37.55850929094393], [126.96570855677983, 37.556512377492325], [126.96358226710812, 37.55605635475154], [126.96080686210321, 37.55386236039188], [126.95916768398142, 37.55468176051932], [126.94314477022111, 37.5536460848349], [126.93898161798973, 37.552310003728124], [126.92872097190046, 37.556034533941734], [126.92881397392811, 37.558202848902], [126.93034243306369, 37.56054720372433], [126.92778174854314, 37.562495624023775], [126.92189004506, 37.56391798973296], [126.90687243065778, 37.57059762097416], [126.90370105002282, 37.57266722738834], [126.90522065831053, 37.57409700522574], [126.91464724464083, 37.583228529985455], [126.91827498278953, 37.58276881451649], [126.91792000144513, 37.58034997804668], [126.92444169370404, 37.581233899739914], [126.92596484570709, 37.58441659356971], [126.9281697003186, 37.584376616028365], [126.9302171100533, 37.58559126746845], [126.92996402426377, 37.58767009299767], [126.93104958440722, 37.58996937993664], [126.93575441237547, 37.593605788596975], [126.94277481511082, 37.59587806191211], [126.94359054641505, 37.60034871312552], [126.94451473597087, 37.60203195380752], [126.94701525068315, 37.602028095480975], [126.94919787550161, 37.60506379949065], [126.9524752030572, 37.60508692737045]]], &quot;type&quot;: &quot;Polygon&quot;}, &quot;properties&quot;: {&quot;base_year&quot;: &quot;2013&quot;, &quot;code&quot;: &quot;11130&quot;, &quot;name&quot;: &quot;\\uc11c\\ub300\\ubb38\\uad6c&quot;, &quot;name_eng&quot;: &quot;Seodaemun-gu&quot;}, &quot;type&quot;: &quot;Feature&quot;}, {&quot;geometry&quot;: {&quot;coordinates&quot;: [[[126.9738864128702, 37.62949634786888], [126.97135221665513, 37.62743418897386], [126.96164158910712, 37.62569322976388], [126.95885198650147, 37.6225761621008], [126.95427017006129, 37.622033431339425], [126.95393421039743, 37.61877981567335], [126.9528332649861, 37.6161065117682], [126.95145384404022, 37.61493028446385], [126.95249458941419, 37.61333750249896], [126.95308190738618, 37.60926681659027], [126.95187994741721, 37.60600915874973], [126.9524752030572, 37.60508692737045], [126.94919787550161, 37.60506379949065], [126.94701525068315, 37.602028095480975], [126.94451473597087, 37.60203195380752], [126.94359054641505, 37.60034871312552], [126.94277481511082, 37.59587806191211], [126.93575441237547, 37.593605788596975], [126.93104958440722, 37.58996937993664], [126.92996402426377, 37.58767009299767], [126.9302171100533, 37.58559126746845], [126.9281697003186, 37.584376616028365], [126.92596484570709, 37.58441659356971], [126.92444169370404, 37.581233899739914], [126.91792000144513, 37.58034997804668], [126.91827498278953, 37.58276881451649], [126.91464724464083, 37.583228529985455], [126.90522065831053, 37.57409700522574], [126.90373193212757, 37.573123712282076], [126.90023584510952, 37.575506080437606], [126.89738573904876, 37.578668647687564], [126.89532313269488, 37.579420322822145], [126.89150044994719, 37.58202374305761], [126.88433284773288, 37.588143322880526], [126.88715278104091, 37.59100341655796], [126.88936046370014, 37.59099007316069], [126.88753401663872, 37.58829545592628], [126.88935419108029, 37.58580092310326], [126.89349057571656, 37.585662344444785], [126.89532781702978, 37.58637054299599], [126.89905466698256, 37.58582731337662], [126.9019347597747, 37.58707359614439], [126.9010825805882, 37.58986595756633], [126.90396681003595, 37.59227403419942], [126.90321089756087, 37.594542731935476], [126.90358350094938, 37.59657528019595], [126.90235425214276, 37.60036302950128], [126.90417801431465, 37.60102912046836], [126.90396561274416, 37.60721180273151], [126.90303066177668, 37.609977911401344], [126.90548675623195, 37.61601216482774], [126.90721633741286, 37.6164590533837], [126.90935539569412, 37.61912234588074], [126.90852982623917, 37.62123670148755], [126.91081768678396, 37.62338674837964], [126.91117179533428, 37.62562846875194], [126.90862530043799, 37.62973539928895], [126.91295124779275, 37.633086577991136], [126.91232131977827, 37.635879167956396], [126.91380622398978, 37.63822817856539], [126.91455481429648, 37.64150050996935], [126.9097405206299, 37.643548736416925], [126.9104285840059, 37.64469477594629], [126.91598194662826, 37.64192000919822], [126.92335892549015, 37.642768849393626], [126.92751618877016, 37.644656244616336], [126.93099150738166, 37.64717805899008], [126.93658892420821, 37.64777520545395], [126.93914008753828, 37.64914400014214], [126.94248904852749, 37.65384179343651], [126.94571884127255, 37.655369042036206], [126.94940373004215, 37.656145979585894], [126.94982400027399, 37.65461320918016], [126.95334970767568, 37.65216408903825], [126.956473797387, 37.652480737339445], [126.9588647426878, 37.6498628918019], [126.95972824076269, 37.64638504253487], [126.96223689995006, 37.64553441285544], [126.96424221141602, 37.64071627640099], [126.96652025322855, 37.640285044901944], [126.97092373342322, 37.63589354812246], [126.97086605626453, 37.633738820281394], [126.9738864128702, 37.62949634786888]]], &quot;type&quot;: &quot;Polygon&quot;}, &quot;properties&quot;: {&quot;base_year&quot;: &quot;2013&quot;, &quot;code&quot;: &quot;11120&quot;, &quot;name&quot;: &quot;\\uc740\\ud3c9\\uad6c&quot;, &quot;name_eng&quot;: &quot;Eunpyeong-gu&quot;}, &quot;type&quot;: &quot;Feature&quot;}, {&quot;geometry&quot;: {&quot;coordinates&quot;: [[[127.10782277688129, 37.61804244241069], [127.10361952102048, 37.61701182935077], [127.10191523948123, 37.61531698025357], [127.09825969127313, 37.61431077622918], [127.09125855705382, 37.61703046232404], [127.08796048322492, 37.617471883010936], [127.08325130652017, 37.61626773063051], [127.07351243825278, 37.61283660342313], [127.07011594002495, 37.6127769191002], [127.06726783142085, 37.61136014256744], [127.06412260483201, 37.6115839902766], [127.05631594723272, 37.61738373018764], [127.05209373568619, 37.62164065487782], [127.04999984182327, 37.62412061598568], [127.04358800895609, 37.62848931298715], [127.046042857549, 37.630647660209426], [127.0471214260595, 37.63407841321815], [127.05227148282157, 37.642016305290156], [127.05704472959141, 37.63797342537787], [127.05800075220091, 37.64318263878276], [127.05640030258566, 37.648142414223344], [127.05620364700786, 37.65295201497795], [127.05366382763933, 37.65780685245659], [127.05343284205686, 37.660866393548005], [127.05093085431419, 37.666308257661356], [127.05124324520023, 37.6703356616521], [127.05259811896667, 37.67463041579101], [127.05402878877452, 37.682018621183914], [127.05288479710485, 37.68423857084347], [127.05673771202906, 37.68650223136443], [127.05893512852644, 37.68678532745334], [127.06366923747898, 37.68598834805241], [127.06722106517597, 37.68706409219909], [127.07150256171397, 37.69158365999211], [127.07502582169255, 37.691675325399515], [127.07945174893383, 37.693602239076704], [127.0838752703195, 37.69359534202034], [127.08640047239444, 37.69122798275615], [127.08834747450551, 37.68753106067129], [127.09706391309695, 37.686383719372294], [127.09839746601683, 37.682954904948026], [127.09481040538887, 37.678799295731295], [127.0939394572467, 37.676403111386776], [127.09572273018789, 37.673837879820674], [127.09657954289648, 37.670746511824845], [127.09767362583241, 37.67002252402865], [127.0980220884148, 37.66742967749355], [127.09621282296045, 37.66347990019021], [127.09845931549125, 37.659077182069595], [127.0978618070161, 37.656734861475485], [127.08845241642267, 37.65271564775536], [127.09496093471334, 37.65209266377008], [127.09618835483448, 37.65001330395237], [127.09440766298717, 37.64713490473045], [127.09686381732382, 37.642772590812655], [127.10024317327698, 37.642337895238754], [127.10266382494892, 37.64291284604662], [127.11014084969742, 37.641850613893396], [127.11406637789241, 37.63742154695932], [127.1144974746579, 37.632439003890255], [127.11309628774731, 37.627803407908374], [127.10737639048635, 37.62412346388371], [127.10736111050278, 37.62243873312504], [127.10561964188106, 37.620112931875134], [127.10782277688129, 37.61804244241069]]], &quot;type&quot;: &quot;Polygon&quot;}, &quot;properties&quot;: {&quot;base_year&quot;: &quot;2013&quot;, &quot;code&quot;: &quot;11110&quot;, &quot;name&quot;: &quot;\\ub178\\uc6d0\\uad6c&quot;, &quot;name_eng&quot;: &quot;Nowon-gu&quot;}, &quot;type&quot;: &quot;Feature&quot;}, {&quot;geometry&quot;: {&quot;coordinates&quot;: [[[127.05288479710485, 37.68423857084347], [127.05402878877452, 37.682018621183914], [127.05259811896667, 37.67463041579101], [127.05124324520023, 37.6703356616521], [127.05093085431419, 37.666308257661356], [127.05343284205686, 37.660866393548005], [127.05366382763933, 37.65780685245659], [127.05620364700786, 37.65295201497795], [127.05640030258566, 37.648142414223344], [127.05800075220091, 37.64318263878276], [127.05704472959141, 37.63797342537787], [127.05227148282157, 37.642016305290156], [127.0471214260595, 37.63407841321815], [127.046042857549, 37.630647660209426], [127.04358800895609, 37.62848931298715], [127.04058571489718, 37.6311245692538], [127.03905574421407, 37.63395360172076], [127.03660759925259, 37.63506293914692], [127.03477664182829, 37.63884292238491], [127.02950136469548, 37.64228467033725], [127.0265542519312, 37.644688649276304], [127.02233660280599, 37.64628067142158], [127.01772305897457, 37.64631597694605], [127.01534913067235, 37.64765266597785], [127.01465935892466, 37.64943687496812], [127.01599412132472, 37.65623256113309], [127.01726703299362, 37.65880555518138], [127.01776269066357, 37.66391319760785], [127.02062116141389, 37.667173575971205], [127.01873683359163, 37.66988242479123], [127.0159718440919, 37.67258796420281], [127.01401600772708, 37.67653037200686], [127.01073060671976, 37.67694372299732], [127.01039666042071, 37.681894589603594], [127.01103947380624, 37.684405447624954], [127.01017954927539, 37.686333239654594], [127.0109997247323, 37.691942369792514], [127.01405303313638, 37.69546278140397], [127.01645586375106, 37.69548055092485], [127.01802453368332, 37.698275937456124], [127.02143522814708, 37.698589417759045], [127.02419558273166, 37.69682256792619], [127.02700292435075, 37.69665589205863], [127.03018866626446, 37.69776745888886], [127.03132724235057, 37.69621818994332], [127.03183574218306, 37.69340418484943], [127.03328657751797, 37.69010729962784], [127.0345286215439, 37.688986544260594], [127.0379422140845, 37.68943836856245], [127.04383030416193, 37.692565730249534], [127.04510703173885, 37.690951514278055], [127.04772506731972, 37.68962174626068], [127.05108189294938, 37.69116379209157], [127.05288479710485, 37.68423857084347]]], &quot;type&quot;: &quot;Polygon&quot;}, &quot;properties&quot;: {&quot;base_year&quot;: &quot;2013&quot;, &quot;code&quot;: &quot;11100&quot;, &quot;name&quot;: &quot;\\ub3c4\\ubd09\\uad6c&quot;, &quot;name_eng&quot;: &quot;Dobong-gu&quot;}, &quot;type&quot;: &quot;Feature&quot;}, {&quot;geometry&quot;: {&quot;coordinates&quot;: [[[127.01039666042071, 37.681894589603594], [127.01073060671976, 37.67694372299732], [127.01401600772708, 37.67653037200686], [127.0159718440919, 37.67258796420281], [127.01873683359163, 37.66988242479123], [127.02062116141389, 37.667173575971205], [127.01776269066357, 37.66391319760785], [127.01726703299362, 37.65880555518138], [127.01599412132472, 37.65623256113309], [127.01465935892466, 37.64943687496812], [127.01534913067235, 37.64765266597785], [127.01772305897457, 37.64631597694605], [127.02233660280599, 37.64628067142158], [127.0265542519312, 37.644688649276304], [127.02950136469548, 37.64228467033725], [127.03477664182829, 37.63884292238491], [127.03660759925259, 37.63506293914692], [127.03905574421407, 37.63395360172076], [127.04058571489718, 37.6311245692538], [127.04358800895609, 37.62848931298715], [127.04999984182327, 37.62412061598568], [127.05209373568619, 37.62164065487782], [127.04887981022048, 37.61973841113549], [127.0460676006384, 37.615885647801704], [127.0419720518426, 37.612838591864076], [127.03892400992301, 37.609715611023816], [127.03251659844592, 37.60634705009134], [127.03229982090541, 37.609536104167034], [127.02851994524015, 37.60987827182396], [127.02433990415497, 37.60847763545628], [127.02136282940177, 37.610961475137174], [127.01685658093551, 37.61280115359516], [127.0128154749523, 37.613652243470256], [127.01060611893628, 37.615741236385354], [127.00960949401902, 37.61822603840364], [127.00997935126598, 37.62111906051553], [127.00210238658002, 37.622984514557714], [126.99867431516041, 37.626297613391166], [126.99614706382866, 37.62719717129899], [126.99529660787617, 37.62923863577322], [126.9933714170822, 37.62922019292486], [126.9877052521691, 37.63265610340949], [126.98672705513869, 37.63377641288196], [126.98826481934299, 37.637416984207924], [126.98537069512379, 37.64080296617396], [126.987065858581, 37.64320008084445], [126.98580395043626, 37.64699767714015], [126.9832621473545, 37.64947328029498], [126.9817452676551, 37.65209769387776], [126.98205504313285, 37.653797128044495], [126.98709809733522, 37.65651691642121], [126.99031779354014, 37.661013121145366], [126.99494735642686, 37.66223870806347], [126.99581225370686, 37.6651171428027], [126.99622950422442, 37.669428820661516], [126.99506026831365, 37.674827885285765], [126.99384134064161, 37.67665247641944], [126.9959894573757, 37.67754299691771], [127.00000021675876, 37.68100582640454], [127.00566931208934, 37.68228507374621], [127.01039666042071, 37.681894589603594]]], &quot;type&quot;: &quot;Polygon&quot;}, &quot;properties&quot;: {&quot;base_year&quot;: &quot;2013&quot;, &quot;code&quot;: &quot;11090&quot;, &quot;name&quot;: &quot;\\uac15\\ubd81\\uad6c&quot;, &quot;name_eng&quot;: &quot;Gangbuk-gu&quot;}, &quot;type&quot;: &quot;Feature&quot;}, {&quot;geometry&quot;: {&quot;coordinates&quot;: [[[126.977175406416, 37.62859715400388], [126.9794090069433, 37.63071544568365], [126.98360012419735, 37.631915771386076], [126.98672705513869, 37.63377641288196], [126.9877052521691, 37.63265610340949], [126.9933714170822, 37.62922019292486], [126.99529660787617, 37.62923863577322], [126.99614706382866, 37.62719717129899], [126.99867431516041, 37.626297613391166], [127.00210238658002, 37.622984514557714], [127.00997935126598, 37.62111906051553], [127.00960949401902, 37.61822603840364], [127.01060611893628, 37.615741236385354], [127.0128154749523, 37.613652243470256], [127.01685658093551, 37.61280115359516], [127.02136282940177, 37.610961475137174], [127.02433990415497, 37.60847763545628], [127.02851994524015, 37.60987827182396], [127.03229982090541, 37.609536104167034], [127.03251659844592, 37.60634705009134], [127.03892400992301, 37.609715611023816], [127.0419720518426, 37.612838591864076], [127.0460676006384, 37.615885647801704], [127.04887981022048, 37.61973841113549], [127.05209373568619, 37.62164065487782], [127.05631594723272, 37.61738373018764], [127.06412260483201, 37.6115839902766], [127.06726783142085, 37.61136014256744], [127.07011594002495, 37.6127769191002], [127.07351243825278, 37.61283660342313], [127.07382707099227, 37.60401928986419], [127.07257736686556, 37.60654335765868], [127.07069716820665, 37.60653037341939], [127.07084342033339, 37.60407877132597], [127.06753185518703, 37.602724214598744], [127.06424828533608, 37.60234356864383], [127.0612685122857, 37.59823077263369], [127.059485363799, 37.598743571420485], [127.05413734593897, 37.5971595374718], [127.05238061017225, 37.598312271275574], [127.04975439355248, 37.59349421284317], [127.0461318196879, 37.593514180513594], [127.042705222094, 37.59239437593391], [127.04116895171082, 37.58847599306138], [127.0384945038446, 37.587129138658426], [127.03121630347839, 37.57957997701485], [127.02527254528003, 37.57524616245249], [127.02395698453867, 37.576068086896726], [127.02039107536422, 37.575771872553595], [127.01849412471284, 37.57904760334465], [127.01678966486051, 37.57943162455397], [127.01094467951529, 37.57765758282494], [127.00914513999258, 37.57928387879304], [127.00896672237498, 37.582512606964876], [127.00803641804285, 37.5841154647404], [127.00453322588274, 37.58626325611708], [127.00304474231643, 37.58959898679736], [126.99774058571116, 37.58944568945197], [126.99647930158565, 37.58845217708608], [126.99348293358314, 37.588565457216156], [126.98858114244759, 37.58971272682123], [126.98596926877026, 37.59105697466976], [126.98411250331745, 37.59305007059415], [126.98366752610544, 37.596350797276386], [126.98700989661556, 37.59664611897289], [126.98984276495587, 37.59842301677683], [126.9880021251863, 37.60434406739665], [126.98906118629816, 37.60778324866486], [126.98879865992384, 37.6118927319756], [126.9849070918475, 37.61390303132951], [126.98297129719916, 37.61996223346171], [126.98130955822086, 37.621781567952816], [126.98162508963613, 37.626412913357804], [126.97877284074367, 37.62605559220399], [126.977175406416, 37.62859715400388]]], &quot;type&quot;: &quot;Polygon&quot;}, &quot;properties&quot;: {&quot;base_year&quot;: &quot;2013&quot;, &quot;code&quot;: &quot;11080&quot;, &quot;name&quot;: &quot;\\uc131\\ubd81\\uad6c&quot;, &quot;name_eng&quot;: &quot;Seongbuk-gu&quot;}, &quot;type&quot;: &quot;Feature&quot;}, {&quot;geometry&quot;: {&quot;coordinates&quot;: [[[127.07351243825278, 37.61283660342313], [127.08325130652017, 37.61626773063051], [127.08796048322492, 37.617471883010936], [127.09125855705382, 37.61703046232404], [127.09825969127313, 37.61431077622918], [127.10191523948123, 37.61531698025357], [127.10361952102048, 37.61701182935077], [127.10782277688129, 37.61804244241069], [127.11345331993296, 37.617863842655304], [127.11916337651404, 37.615000227833356], [127.1187755615964, 37.61339189160851], [127.11970006573152, 37.60891483985411], [127.11876125411283, 37.606109446640644], [127.12043057261968, 37.60482121408794], [127.1201246020114, 37.60178457598188], [127.11594480655864, 37.59717030173888], [127.1161657841268, 37.5962121213837], [127.12048134936907, 37.59221917979044], [127.11993709114493, 37.5912110652886], [127.11547153661459, 37.590528329194775], [127.11264015185725, 37.58640964166709], [127.11144053497418, 37.58186897928644], [127.10355419751173, 37.58101570870827], [127.10488038804347, 37.57896712496416], [127.10478332632734, 37.575507303239235], [127.10316405057817, 37.57293156986855], [127.10304174249214, 37.57076342290955], [127.1015990771266, 37.56973288819573], [127.09327554832984, 37.566762290300666], [127.08553261581505, 37.56856310839328], [127.08068541280403, 37.56906425519017], [127.08029626481297, 37.57521980955321], [127.07912345005859, 37.57855657914261], [127.07327401376529, 37.585954498442064], [127.07152840437725, 37.593413161750675], [127.07216156147413, 37.59537631888819], [127.07457336676376, 37.5983180561341], [127.07481016030349, 37.60000012932336], [127.07382707099227, 37.60401928986419], [127.07351243825278, 37.61283660342313]]], &quot;type&quot;: &quot;Polygon&quot;}, &quot;properties&quot;: {&quot;base_year&quot;: &quot;2013&quot;, &quot;code&quot;: &quot;11070&quot;, &quot;name&quot;: &quot;\\uc911\\ub791\\uad6c&quot;, &quot;name_eng&quot;: &quot;Jungnang-gu&quot;}, &quot;type&quot;: &quot;Feature&quot;}, {&quot;geometry&quot;: {&quot;coordinates&quot;: [[[127.02527254528003, 37.57524616245249], [127.03121630347839, 37.57957997701485], [127.0384945038446, 37.587129138658426], [127.04116895171082, 37.58847599306138], [127.042705222094, 37.59239437593391], [127.0461318196879, 37.593514180513594], [127.04975439355248, 37.59349421284317], [127.05238061017225, 37.598312271275574], [127.05413734593897, 37.5971595374718], [127.059485363799, 37.598743571420485], [127.0612685122857, 37.59823077263369], [127.06424828533608, 37.60234356864383], [127.06753185518703, 37.602724214598744], [127.07084342033339, 37.60407877132597], [127.07069716820665, 37.60653037341939], [127.07257736686556, 37.60654335765868], [127.07382707099227, 37.60401928986419], [127.07481016030349, 37.60000012932336], [127.07457336676376, 37.5983180561341], [127.07216156147413, 37.59537631888819], [127.07152840437725, 37.593413161750675], [127.07327401376529, 37.585954498442064], [127.07912345005859, 37.57855657914261], [127.08029626481297, 37.57521980955321], [127.08068541280403, 37.56906425519017], [127.07421053024362, 37.55724769712085], [127.07287485628252, 37.55777591771644], [127.06151678590773, 37.55942885203987], [127.06031059899311, 37.55992251180729], [127.05005601081567, 37.567577612590846], [127.0442866611438, 37.57022476304866], [127.04003329296518, 37.57010227772625], [127.03483042272745, 37.567549767306716], [127.03182413083377, 37.56712900013391], [127.02547266349976, 37.568943552237734], [127.02527254528003, 37.57524616245249]]], &quot;type&quot;: &quot;Polygon&quot;}, &quot;properties&quot;: {&quot;base_year&quot;: &quot;2013&quot;, &quot;code&quot;: &quot;11060&quot;, &quot;name&quot;: &quot;\\ub3d9\\ub300\\ubb38\\uad6c&quot;, &quot;name_eng&quot;: &quot;Dongdaemun-gu&quot;}, &quot;type&quot;: &quot;Feature&quot;}, {&quot;geometry&quot;: {&quot;coordinates&quot;: [[[127.08068541280403, 37.56906425519017], [127.08553261581505, 37.56856310839328], [127.09327554832984, 37.566762290300666], [127.1015990771266, 37.56973288819573], [127.10304174249214, 37.57076342290955], [127.10627148043552, 37.568124945986824], [127.10545359063936, 37.56685230388649], [127.10407152037101, 37.55958871940823], [127.10325742736646, 37.5572251707506], [127.11270952006532, 37.55702358575743], [127.11519584981606, 37.557533180704915], [127.11600943681239, 37.55580061507081], [127.11600200349189, 37.55053147511706], [127.11418412219375, 37.54474592090681], [127.1116764203608, 37.540669955324965], [127.10484130265957, 37.53120327509912], [127.10087519791962, 37.524841220167055], [127.0943611414465, 37.523984206117525], [127.08639455667742, 37.52161824624356], [127.07968915919895, 37.52077294752823], [127.07496309841329, 37.52091052765938], [127.0690698130372, 37.522279423505026], [127.05867359288398, 37.52629974922568], [127.06896218881212, 37.544361436565524], [127.07580697427795, 37.556641581290656], [127.07421053024362, 37.55724769712085], [127.08068541280403, 37.56906425519017]]], &quot;type&quot;: &quot;Polygon&quot;}, &quot;properties&quot;: {&quot;base_year&quot;: &quot;2013&quot;, &quot;code&quot;: &quot;11050&quot;, &quot;name&quot;: &quot;\\uad11\\uc9c4\\uad6c&quot;, &quot;name_eng&quot;: &quot;Gwangjin-gu&quot;}, &quot;type&quot;: &quot;Feature&quot;}, {&quot;geometry&quot;: {&quot;coordinates&quot;: [[[127.02547266349976, 37.568943552237734], [127.03182413083377, 37.56712900013391], [127.03483042272745, 37.567549767306716], [127.04003329296518, 37.57010227772625], [127.0442866611438, 37.57022476304866], [127.05005601081567, 37.567577612590846], [127.06031059899311, 37.55992251180729], [127.06151678590773, 37.55942885203987], [127.07287485628252, 37.55777591771644], [127.07421053024362, 37.55724769712085], [127.07580697427795, 37.556641581290656], [127.06896218881212, 37.544361436565524], [127.05867359288398, 37.52629974922568], [127.05116490008963, 37.52975116557232], [127.04903802830752, 37.53140496708317], [127.04806779588436, 37.52970198575087], [127.0319617044248, 37.536064291470424], [127.0269608080842, 37.53484752757724], [127.02302831890559, 37.53231899582663], [127.01689265453608, 37.536101393926174], [127.01157414590769, 37.53677688273679], [127.01043978345277, 37.53905983303592], [127.01070894177482, 37.54118048964762], [127.01172101406588, 37.545252245650516], [127.01376082027429, 37.54571276061997], [127.01889368846282, 37.55057696424215], [127.01951516360089, 37.55318470254581], [127.02174792168286, 37.55473509405241], [127.02496143707425, 37.555070476260596], [127.0257913546443, 37.558352834264504], [127.02836991434461, 37.56019645010606], [127.02881029425372, 37.56219283885279], [127.02571971403893, 37.56237200595601], [127.02547266349976, 37.568943552237734]]], &quot;type&quot;: &quot;Polygon&quot;}, &quot;properties&quot;: {&quot;base_year&quot;: &quot;2013&quot;, &quot;code&quot;: &quot;11040&quot;, &quot;name&quot;: &quot;\\uc131\\ub3d9\\uad6c&quot;, &quot;name_eng&quot;: &quot;Seongdong-gu&quot;}, &quot;type&quot;: &quot;Feature&quot;}, {&quot;geometry&quot;: {&quot;coordinates&quot;: [[[127.01070894177482, 37.54118048964762], [127.01043978345277, 37.53905983303592], [127.01157414590769, 37.53677688273679], [127.01689265453608, 37.536101393926174], [127.02302831890559, 37.53231899582663], [127.01397119667513, 37.52503988289669], [127.01022186960886, 37.522020085671926], [127.00818058911564, 37.51877313923874], [127.00583392114271, 37.516905128452926], [127.00011962020382, 37.513901653034374], [126.99148001917875, 37.50990503427709], [126.98948242685965, 37.5108780134613], [126.98458580602838, 37.51070333105394], [126.98223807916081, 37.509314966770326], [126.96670111119346, 37.50997579058433], [126.95950268374823, 37.51249532165974], [126.95551848909955, 37.514736123015844], [126.95249990298159, 37.51722500741813], [126.95003825019774, 37.520781022055274], [126.9488066464266, 37.52424913252661], [126.94566733083212, 37.526617542453366], [126.94717864071288, 37.53213495568077], [126.95340780191557, 37.533494726370755], [126.95926437828754, 37.53897908363236], [126.9605977865388, 37.542661954880806], [126.96231305253527, 37.543511558047456], [126.96401856825223, 37.54584596959762], [126.96604189284825, 37.546894141748815], [126.96448570553055, 37.548705692021635], [126.96782902931233, 37.55132047039716], [126.97427174983227, 37.55109017579016], [126.97859017732588, 37.550336476582174], [126.97925452152829, 37.552184137181925], [126.98262900956787, 37.5506055959842], [126.98584427779701, 37.55023778139842], [126.98752996903328, 37.55094818807139], [126.9899124474417, 37.54869376545355], [126.99238536723166, 37.54862980831976], [126.99742220893982, 37.544438365587226], [127.00062378484931, 37.54713274618077], [127.00478682371764, 37.54680216333233], [127.00632779182564, 37.54757707053058], [127.00694507580798, 37.5433832956489], [127.00936066823724, 37.54101133407434], [127.01070894177482, 37.54118048964762]]], &quot;type&quot;: &quot;Polygon&quot;}, &quot;properties&quot;: {&quot;base_year&quot;: &quot;2013&quot;, &quot;code&quot;: &quot;11030&quot;, &quot;name&quot;: &quot;\\uc6a9\\uc0b0\\uad6c&quot;, &quot;name_eng&quot;: &quot;Yongsan-gu&quot;}, &quot;type&quot;: &quot;Feature&quot;}, {&quot;geometry&quot;: {&quot;coordinates&quot;: [[[127.02547266349976, 37.568943552237734], [127.02571971403893, 37.56237200595601], [127.02881029425372, 37.56219283885279], [127.02836991434461, 37.56019645010606], [127.0257913546443, 37.558352834264504], [127.02496143707425, 37.555070476260596], [127.02174792168286, 37.55473509405241], [127.01951516360089, 37.55318470254581], [127.01889368846282, 37.55057696424215], [127.01376082027429, 37.54571276061997], [127.01172101406588, 37.545252245650516], [127.01070894177482, 37.54118048964762], [127.00936066823724, 37.54101133407434], [127.00694507580798, 37.5433832956489], [127.00632779182564, 37.54757707053058], [127.00478682371764, 37.54680216333233], [127.00062378484931, 37.54713274618077], [126.99742220893982, 37.544438365587226], [126.99238536723166, 37.54862980831976], [126.9899124474417, 37.54869376545355], [126.98752996903328, 37.55094818807139], [126.98584427779701, 37.55023778139842], [126.98262900956787, 37.5506055959842], [126.97925452152829, 37.552184137181925], [126.97859017732588, 37.550336476582174], [126.97427174983227, 37.55109017579016], [126.96782902931233, 37.55132047039716], [126.96448570553055, 37.548705692021635], [126.96380145704283, 37.55254525759954], [126.96519694864509, 37.55362533505407], [126.96358226710812, 37.55605635475154], [126.96570855677983, 37.556512377492325], [126.96900073076728, 37.55850929094393], [126.97169209525231, 37.55921654641677], [126.96873633279075, 37.56313604690827], [126.97114791678374, 37.56539818101368], [126.97500684322326, 37.566406971064836], [126.97990305661519, 37.5664536437083], [126.9910070921652, 37.565312022428806], [126.99879870609924, 37.56591346564579], [127.00372480409301, 37.56679519621814], [127.01786686709805, 37.56701276414023], [127.02250839667563, 37.56892943928301], [127.02547266349976, 37.568943552237734]]], &quot;type&quot;: &quot;Polygon&quot;}, &quot;properties&quot;: {&quot;base_year&quot;: &quot;2013&quot;, &quot;code&quot;: &quot;11020&quot;, &quot;name&quot;: &quot;\\uc911\\uad6c&quot;, &quot;name_eng&quot;: &quot;Jung-gu&quot;}, &quot;type&quot;: &quot;Feature&quot;}, {&quot;geometry&quot;: {&quot;coordinates&quot;: [[[126.9738864128702, 37.62949634786888], [126.977175406416, 37.62859715400388], [126.97877284074367, 37.62605559220399], [126.98162508963613, 37.626412913357804], [126.98130955822086, 37.621781567952816], [126.98297129719916, 37.61996223346171], [126.9849070918475, 37.61390303132951], [126.98879865992384, 37.6118927319756], [126.98906118629816, 37.60778324866486], [126.9880021251863, 37.60434406739665], [126.98984276495587, 37.59842301677683], [126.98700989661556, 37.59664611897289], [126.98366752610544, 37.596350797276386], [126.98411250331745, 37.59305007059415], [126.98596926877026, 37.59105697466976], [126.98858114244759, 37.58971272682123], [126.99348293358314, 37.588565457216156], [126.99647930158565, 37.58845217708608], [126.99774058571116, 37.58944568945197], [127.00304474231643, 37.58959898679736], [127.00453322588274, 37.58626325611708], [127.00803641804285, 37.5841154647404], [127.00896672237498, 37.582512606964876], [127.00914513999258, 37.57928387879304], [127.01094467951529, 37.57765758282494], [127.01678966486051, 37.57943162455397], [127.01849412471284, 37.57904760334465], [127.02039107536422, 37.575771872553595], [127.02395698453867, 37.576068086896726], [127.02527254528003, 37.57524616245249], [127.02547266349976, 37.568943552237734], [127.02250839667563, 37.56892943928301], [127.01786686709805, 37.56701276414023], [127.00372480409301, 37.56679519621814], [126.99879870609924, 37.56591346564579], [126.9910070921652, 37.565312022428806], [126.97990305661519, 37.5664536437083], [126.97500684322326, 37.566406971064836], [126.97114791678374, 37.56539818101368], [126.96873633279075, 37.56313604690827], [126.95565425846463, 37.576080790881456], [126.95789326971087, 37.57793453336025], [126.96177754536156, 37.57970124256911], [126.95879970726017, 37.58189826471162], [126.96048802632431, 37.587202077053746], [126.960424902266, 37.58868913291801], [126.95842779914786, 37.592356673207824], [126.95924434840931, 37.59545024466215], [126.95619178283661, 37.59575826218021], [126.95484771718951, 37.59761368186209], [126.95564117002459, 37.601827148276776], [126.95480868778256, 37.60381765067903], [126.9524752030572, 37.60508692737045], [126.95187994741721, 37.60600915874973], [126.95308190738618, 37.60926681659027], [126.95249458941419, 37.61333750249896], [126.95145384404022, 37.61493028446385], [126.9528332649861, 37.6161065117682], [126.95393421039743, 37.61877981567335], [126.95427017006129, 37.622033431339425], [126.95885198650147, 37.6225761621008], [126.96164158910712, 37.62569322976388], [126.97135221665513, 37.62743418897386], [126.9738864128702, 37.62949634786888]]], &quot;type&quot;: &quot;Polygon&quot;}, &quot;properties&quot;: {&quot;base_year&quot;: &quot;2013&quot;, &quot;code&quot;: &quot;11010&quot;, &quot;name&quot;: &quot;\\uc885\\ub85c\\uad6c&quot;, &quot;name_eng&quot;: &quot;Jongno-gu&quot;}, &quot;type&quot;: &quot;Feature&quot;}], &quot;type&quot;: &quot;FeatureCollection&quot;});\n",
       "\n",
       "        \n",
       "    \n",
       "    var color_map_bf857da1f63e2431751e06e4547acc99 = {};\n",
       "\n",
       "    \n",
       "    color_map_bf857da1f63e2431751e06e4547acc99.color = d3.scale.threshold()\n",
       "              .domain([731.1874469701851, 732.8137172518104, 734.4399875334357, 736.066257815061, 737.6925280966863, 739.3187983783116, 740.9450686599369, 742.5713389415622, 744.1976092231874, 745.8238795048128, 747.450149786438, 749.0764200680634, 750.7026903496887, 752.328960631314, 753.9552309129393, 755.5815011945646, 757.2077714761899, 758.8340417578152, 760.4603120394405, 762.0865823210657, 763.7128526026911, 765.3391228843165, 766.9653931659417, 768.591663447567, 770.2179337291923, 771.8442040108176, 773.4704742924429, 775.0967445740682, 776.7230148556935, 778.3492851373188, 779.9755554189442, 781.6018257005694, 783.2280959821948, 784.85436626382, 786.4806365454453, 788.1069068270706, 789.7331771086959, 791.3594473903212, 792.9857176719465, 794.6119879535718, 796.2382582351971, 797.8645285168225, 799.4907987984477, 801.1170690800731, 802.7433393616983, 804.3696096433237, 805.9958799249489, 807.6221502065742, 809.2484204881995, 810.8746907698248, 812.5009610514501, 814.1272313330754, 815.7535016147008, 817.379771896326, 819.0060421779514, 820.6323124595766, 822.258582741202, 823.8848530228272, 825.5111233044526, 827.1373935860779, 828.7636638677031, 830.3899341493285, 832.0162044309537, 833.6424747125791, 835.2687449942043, 836.8950152758297, 838.5212855574549, 840.1475558390803, 841.7738261207055, 843.4000964023309, 845.0263666839562, 846.6526369655815, 848.2789072472068, 849.905177528832, 851.5314478104574, 853.1577180920826, 854.783988373708, 856.4102586553332, 858.0365289369586, 859.6627992185838, 861.2890695002092, 862.9153397818345, 864.5416100634598, 866.1678803450851, 867.7941506267103, 869.4204209083357, 871.0466911899609, 872.6729614715863, 874.2992317532116, 875.9255020348369, 877.5517723164622, 879.1780425980875, 880.8043128797128, 882.4305831613381, 884.0568534429634, 885.6831237245888, 887.309394006214, 888.9356642878392, 890.5619345694646, 892.18820485109, 893.8144751327152, 895.4407454143404, 897.0670156959658, 898.6932859775911, 900.3195562592164, 901.9458265408417, 903.5720968224671, 905.1983671040923, 906.8246373857176, 908.4509076673429, 910.0771779489683, 911.7034482305935, 913.3297185122188, 914.9559887938442, 916.5822590754694, 918.2085293570947, 919.83479963872, 921.4610699203454, 923.0873402019706, 924.7136104835959, 926.3398807652212, 927.9661510468466, 929.5924213284718, 931.2186916100972, 932.8449618917224, 934.4712321733477, 936.097502454973, 937.7237727365983, 939.3500430182237, 940.9763132998489, 942.6025835814743, 944.2288538630995, 945.8551241447249, 947.4813944263501, 949.1076647079755, 950.7339349896008, 952.360205271226, 953.9864755528513, 955.6127458344766, 957.239016116102, 958.8652863977272, 960.4915566793526, 962.1178269609778, 963.7440972426032, 965.3703675242284, 966.9966378058538, 968.6229080874791, 970.2491783691044, 971.8754486507297, 973.501718932355, 975.1279892139803, 976.7542594956055, 978.3805297772309, 980.0068000588562, 981.6330703404815, 983.2593406221067, 984.8856109037321, 986.5118811853574, 988.1381514669827, 989.7644217486079, 991.3906920302333, 993.0169623118586, 994.6432325934838, 996.2695028751092, 997.8957731567345, 999.5220434383598, 1001.148313719985, 1002.7745840016104, 1004.4008542832357, 1006.027124564861, 1007.6533948464863, 1009.2796651281117, 1010.9059354097369, 1012.5322056913622, 1014.1584759729874, 1015.7847462546129, 1017.4110165362381, 1019.0372868178633, 1020.6635570994887, 1022.289827381114, 1023.9160976627393, 1025.5423679443647, 1027.16863822599, 1028.7949085076152, 1030.4211787892405, 1032.0474490708657, 1033.6737193524912, 1035.2999896341164, 1036.9262599157416, 1038.552530197367, 1040.1788004789923, 1041.8050707606176, 1043.4313410422428, 1045.057611323868, 1046.6838816054935, 1048.3101518871188, 1049.9364221687442, 1051.5626924503695, 1053.1889627319947, 1054.81523301362, 1056.4415032952452, 1058.0677735768706, 1059.694043858496, 1061.3203141401214, 1062.9465844217466, 1064.5728547033718, 1066.199124984997, 1067.8253952666223, 1069.4516655482478, 1071.077935829873, 1072.7042061114983, 1074.3304763931237, 1075.956746674749, 1077.5830169563742, 1079.2092872379994, 1080.835557519625, 1082.4618278012501, 1084.0880980828756, 1085.7143683645008, 1087.340638646126, 1088.9669089277513, 1090.5931792093766, 1092.219449491002, 1093.8457197726273, 1095.4719900542525, 1097.098260335878, 1098.7245306175032, 1100.3508008991284, 1101.9770711807537, 1103.603341462379, 1105.2296117440044, 1106.8558820256296, 1108.482152307255, 1110.1084225888803, 1111.7346928705056, 1113.3609631521308, 1114.987233433756, 1116.6135037153815, 1118.2397739970068, 1119.866044278632, 1121.4923145602575, 1123.1185848418827, 1124.744855123508, 1126.3711254051332, 1127.9973956867586, 1129.6236659683839, 1131.2499362500091, 1132.8762065316346, 1134.5024768132598, 1136.128747094885, 1137.7550173765103, 1139.3812876581358, 1141.007557939761, 1142.6338282213862, 1144.2600985030117, 1145.886368784637, 1147.5126390662622, 1149.1389093478874, 1150.7651796295127, 1152.3914499111381, 1154.0177201927634, 1155.6439904743888, 1157.270260756014, 1158.8965310376393, 1160.5228013192645, 1162.1490716008898, 1163.7753418825152, 1165.4016121641405, 1167.027882445766, 1168.6541527273912, 1170.2804230090164, 1171.9066932906417, 1173.532963572267, 1175.1592338538924, 1176.7855041355176, 1178.4117744171429, 1180.0380446987683, 1181.6643149803936, 1183.2905852620188, 1184.916855543644, 1186.5431258252693, 1188.1693961068947, 1189.79566638852, 1191.4219366701454, 1193.0482069517707, 1194.674477233396, 1196.3007475150212, 1197.9270177966466, 1199.5532880782719, 1201.179558359897, 1202.8058286415223, 1204.4320989231478, 1206.058369204773, 1207.6846394863983, 1209.3109097680235, 1210.937180049649, 1212.5634503312742, 1214.1897206128997, 1215.815990894525, 1217.4422611761502, 1219.0685314577754, 1220.6948017394006, 1222.321072021026, 1223.9473423026514, 1225.5736125842766, 1227.199882865902, 1228.8261531475273, 1230.4524234291525, 1232.0786937107778, 1233.704963992403, 1235.3312342740285, 1236.9575045556537, 1238.5837748372792, 1240.2100451189044, 1241.8363154005297, 1243.462585682155, 1245.0888559637801, 1246.7151262454056, 1248.3413965270308, 1249.9676668086563, 1251.5939370902815, 1253.2202073719068, 1254.846477653532, 1256.4727479351573, 1258.0990182167827, 1259.725288498408, 1261.3515587800334, 1262.9778290616587, 1264.604099343284, 1266.2303696249091, 1267.8566399065344, 1269.4829101881596, 1271.109180469785, 1272.7354507514103, 1274.3617210330358, 1275.987991314661, 1277.6142615962863, 1279.2405318779115, 1280.8668021595367, 1282.4930724411622, 1284.1193427227877, 1285.745613004413, 1287.3718832860382, 1288.9981535676634, 1290.6244238492886, 1292.250694130914, 1293.8769644125393, 1295.5032346941646, 1297.1295049757898, 1298.7557752574153, 1300.3820455390405, 1302.0083158206658, 1303.634586102291, 1305.2608563839162, 1306.8871266655417, 1308.5133969471672, 1310.1396672287924, 1311.7659375104176, 1313.3922077920429, 1315.0184780736681, 1316.6447483552936, 1318.2710186369188, 1319.8972889185443, 1321.5235592001695, 1323.1498294817948, 1324.77609976342, 1326.4023700450452, 1328.0286403266705, 1329.654910608296, 1331.2811808899212, 1332.9074511715467, 1334.533721453172, 1336.1599917347971, 1337.7862620164224, 1339.4125322980476, 1341.038802579673, 1342.6650728612983, 1344.2913431429238, 1345.917613424549, 1347.5438837061743, 1349.1701539877995, 1350.7964242694247, 1352.42269455105, 1354.0489648326754, 1355.6752351143007, 1357.3015053959261, 1358.9277756775514, 1360.5540459591766, 1362.1803162408019, 1363.806586522427, 1365.4328568040526, 1367.059127085678, 1368.6853973673033, 1370.3116676489285, 1371.9379379305537, 1373.564208212179, 1375.1904784938044, 1376.8167487754297, 1378.4430190570552, 1380.0692893386804, 1381.6955596203056, 1383.3218299019309, 1384.948100183556, 1386.5743704651813, 1388.2006407468066, 1389.826911028432, 1391.4531813100575, 1393.0794515916828, 1394.705721873308, 1396.3319921549332, 1397.9582624365585, 1399.584532718184, 1401.2108029998092, 1402.8370732814346, 1404.4633435630599, 1406.0896138446851, 1407.7158841263104, 1409.3421544079356, 1410.9684246895608, 1412.5946949711863, 1414.2209652528115, 1415.847235534437, 1417.4735058160622, 1419.0997760976875, 1420.7260463793127, 1422.352316660938, 1423.9785869425634, 1425.6048572241887, 1427.2311275058141, 1428.8573977874394, 1430.4836680690646, 1432.1099383506898, 1433.736208632315, 1435.3624789139405, 1436.988749195566, 1438.615019477191, 1440.2412897588165, 1441.8675600404417, 1443.493830322067, 1445.1201006036922, 1446.7463708853174, 1448.372641166943, 1449.9989114485682, 1451.6251817301936, 1453.2514520118189, 1454.877722293444, 1456.5039925750693, 1458.1302628566948, 1459.75653313832, 1461.3828034199455, 1463.0090737015707, 1464.635343983196, 1466.2616142648212, 1467.8878845464465, 1469.5141548280717, 1471.140425109697, 1472.7666953913224, 1474.3929656729479, 1476.019235954573, 1477.6455062361983, 1479.2717765178236, 1480.8980467994488, 1482.5243170810743, 1484.1505873626995, 1485.776857644325, 1487.4031279259502, 1489.0293982075755, 1490.6556684892007, 1492.281938770826, 1493.9082090524514, 1495.5344793340767, 1497.160749615702, 1498.7870198973274, 1500.4132901789526, 1502.0395604605778, 1503.665830742203, 1505.2921010238283, 1506.9183713054538, 1508.544641587079, 1510.1709118687045, 1511.7971821503297, 1513.423452431955, 1515.0497227135802, 1516.6759929952054, 1518.302263276831, 1519.9285335584564, 1521.5548038400816, 1523.1810741217068, 1524.807344403332, 1526.4336146849573, 1528.0598849665826, 1529.6861552482078, 1531.3124255298333, 1532.9386958114585, 1534.564966093084, 1536.1912363747092, 1537.8175066563344, 1539.4437769379597, 1541.070047219585, 1542.6963175012104])\n",
       "              .range([&#x27;#eff3ffff&#x27;, &#x27;#eff3ffff&#x27;, &#x27;#eff3ffff&#x27;, &#x27;#eff3ffff&#x27;, &#x27;#eff3ffff&#x27;, &#x27;#eff3ffff&#x27;, &#x27;#eff3ffff&#x27;, &#x27;#eff3ffff&#x27;, &#x27;#eff3ffff&#x27;, &#x27;#eff3ffff&#x27;, &#x27;#eff3ffff&#x27;, &#x27;#eff3ffff&#x27;, &#x27;#eff3ffff&#x27;, &#x27;#eff3ffff&#x27;, &#x27;#eff3ffff&#x27;, &#x27;#eff3ffff&#x27;, &#x27;#eff3ffff&#x27;, &#x27;#eff3ffff&#x27;, &#x27;#eff3ffff&#x27;, &#x27;#eff3ffff&#x27;, &#x27;#eff3ffff&#x27;, &#x27;#eff3ffff&#x27;, &#x27;#eff3ffff&#x27;, &#x27;#eff3ffff&#x27;, &#x27;#eff3ffff&#x27;, &#x27;#eff3ffff&#x27;, &#x27;#eff3ffff&#x27;, &#x27;#eff3ffff&#x27;, &#x27;#eff3ffff&#x27;, &#x27;#eff3ffff&#x27;, &#x27;#eff3ffff&#x27;, &#x27;#eff3ffff&#x27;, &#x27;#eff3ffff&#x27;, &#x27;#eff3ffff&#x27;, &#x27;#eff3ffff&#x27;, &#x27;#eff3ffff&#x27;, &#x27;#eff3ffff&#x27;, &#x27;#eff3ffff&#x27;, &#x27;#eff3ffff&#x27;, &#x27;#eff3ffff&#x27;, &#x27;#eff3ffff&#x27;, &#x27;#eff3ffff&#x27;, &#x27;#eff3ffff&#x27;, &#x27;#eff3ffff&#x27;, &#x27;#eff3ffff&#x27;, &#x27;#eff3ffff&#x27;, &#x27;#eff3ffff&#x27;, &#x27;#eff3ffff&#x27;, &#x27;#eff3ffff&#x27;, &#x27;#eff3ffff&#x27;, &#x27;#eff3ffff&#x27;, &#x27;#eff3ffff&#x27;, &#x27;#eff3ffff&#x27;, &#x27;#eff3ffff&#x27;, &#x27;#eff3ffff&#x27;, &#x27;#eff3ffff&#x27;, &#x27;#eff3ffff&#x27;, &#x27;#eff3ffff&#x27;, &#x27;#eff3ffff&#x27;, &#x27;#eff3ffff&#x27;, &#x27;#eff3ffff&#x27;, &#x27;#eff3ffff&#x27;, &#x27;#eff3ffff&#x27;, &#x27;#eff3ffff&#x27;, &#x27;#eff3ffff&#x27;, &#x27;#eff3ffff&#x27;, &#x27;#eff3ffff&#x27;, &#x27;#eff3ffff&#x27;, &#x27;#eff3ffff&#x27;, &#x27;#eff3ffff&#x27;, &#x27;#eff3ffff&#x27;, &#x27;#eff3ffff&#x27;, &#x27;#eff3ffff&#x27;, &#x27;#eff3ffff&#x27;, &#x27;#eff3ffff&#x27;, &#x27;#eff3ffff&#x27;, &#x27;#eff3ffff&#x27;, &#x27;#eff3ffff&#x27;, &#x27;#eff3ffff&#x27;, &#x27;#eff3ffff&#x27;, &#x27;#eff3ffff&#x27;, &#x27;#eff3ffff&#x27;, &#x27;#eff3ffff&#x27;, &#x27;#eff3ffff&#x27;, &#x27;#c6dbefff&#x27;, &#x27;#c6dbefff&#x27;, &#x27;#c6dbefff&#x27;, &#x27;#c6dbefff&#x27;, &#x27;#c6dbefff&#x27;, &#x27;#c6dbefff&#x27;, &#x27;#c6dbefff&#x27;, &#x27;#c6dbefff&#x27;, &#x27;#c6dbefff&#x27;, &#x27;#c6dbefff&#x27;, &#x27;#c6dbefff&#x27;, &#x27;#c6dbefff&#x27;, &#x27;#c6dbefff&#x27;, &#x27;#c6dbefff&#x27;, &#x27;#c6dbefff&#x27;, &#x27;#c6dbefff&#x27;, &#x27;#c6dbefff&#x27;, &#x27;#c6dbefff&#x27;, &#x27;#c6dbefff&#x27;, &#x27;#c6dbefff&#x27;, &#x27;#c6dbefff&#x27;, &#x27;#c6dbefff&#x27;, &#x27;#c6dbefff&#x27;, &#x27;#c6dbefff&#x27;, &#x27;#c6dbefff&#x27;, &#x27;#c6dbefff&#x27;, &#x27;#c6dbefff&#x27;, &#x27;#c6dbefff&#x27;, &#x27;#c6dbefff&#x27;, &#x27;#c6dbefff&#x27;, &#x27;#c6dbefff&#x27;, &#x27;#c6dbefff&#x27;, &#x27;#c6dbefff&#x27;, &#x27;#c6dbefff&#x27;, &#x27;#c6dbefff&#x27;, &#x27;#c6dbefff&#x27;, &#x27;#c6dbefff&#x27;, &#x27;#c6dbefff&#x27;, &#x27;#c6dbefff&#x27;, &#x27;#c6dbefff&#x27;, &#x27;#c6dbefff&#x27;, &#x27;#c6dbefff&#x27;, &#x27;#c6dbefff&#x27;, &#x27;#c6dbefff&#x27;, &#x27;#c6dbefff&#x27;, &#x27;#c6dbefff&#x27;, &#x27;#c6dbefff&#x27;, &#x27;#c6dbefff&#x27;, &#x27;#c6dbefff&#x27;, &#x27;#c6dbefff&#x27;, &#x27;#c6dbefff&#x27;, &#x27;#c6dbefff&#x27;, &#x27;#c6dbefff&#x27;, &#x27;#c6dbefff&#x27;, &#x27;#c6dbefff&#x27;, &#x27;#c6dbefff&#x27;, &#x27;#c6dbefff&#x27;, &#x27;#c6dbefff&#x27;, &#x27;#c6dbefff&#x27;, &#x27;#c6dbefff&#x27;, &#x27;#c6dbefff&#x27;, &#x27;#c6dbefff&#x27;, &#x27;#c6dbefff&#x27;, &#x27;#c6dbefff&#x27;, &#x27;#c6dbefff&#x27;, &#x27;#c6dbefff&#x27;, &#x27;#c6dbefff&#x27;, &#x27;#c6dbefff&#x27;, &#x27;#c6dbefff&#x27;, &#x27;#c6dbefff&#x27;, &#x27;#c6dbefff&#x27;, &#x27;#c6dbefff&#x27;, &#x27;#c6dbefff&#x27;, &#x27;#c6dbefff&#x27;, &#x27;#c6dbefff&#x27;, &#x27;#c6dbefff&#x27;, &#x27;#c6dbefff&#x27;, &#x27;#c6dbefff&#x27;, &#x27;#c6dbefff&#x27;, &#x27;#c6dbefff&#x27;, &#x27;#c6dbefff&#x27;, &#x27;#c6dbefff&#x27;, &#x27;#c6dbefff&#x27;, &#x27;#9ecae1ff&#x27;, &#x27;#9ecae1ff&#x27;, &#x27;#9ecae1ff&#x27;, &#x27;#9ecae1ff&#x27;, &#x27;#9ecae1ff&#x27;, &#x27;#9ecae1ff&#x27;, &#x27;#9ecae1ff&#x27;, &#x27;#9ecae1ff&#x27;, &#x27;#9ecae1ff&#x27;, &#x27;#9ecae1ff&#x27;, &#x27;#9ecae1ff&#x27;, &#x27;#9ecae1ff&#x27;, &#x27;#9ecae1ff&#x27;, &#x27;#9ecae1ff&#x27;, &#x27;#9ecae1ff&#x27;, &#x27;#9ecae1ff&#x27;, &#x27;#9ecae1ff&#x27;, &#x27;#9ecae1ff&#x27;, &#x27;#9ecae1ff&#x27;, &#x27;#9ecae1ff&#x27;, &#x27;#9ecae1ff&#x27;, &#x27;#9ecae1ff&#x27;, &#x27;#9ecae1ff&#x27;, &#x27;#9ecae1ff&#x27;, &#x27;#9ecae1ff&#x27;, &#x27;#9ecae1ff&#x27;, &#x27;#9ecae1ff&#x27;, &#x27;#9ecae1ff&#x27;, &#x27;#9ecae1ff&#x27;, &#x27;#9ecae1ff&#x27;, &#x27;#9ecae1ff&#x27;, &#x27;#9ecae1ff&#x27;, &#x27;#9ecae1ff&#x27;, &#x27;#9ecae1ff&#x27;, &#x27;#9ecae1ff&#x27;, &#x27;#9ecae1ff&#x27;, &#x27;#9ecae1ff&#x27;, &#x27;#9ecae1ff&#x27;, &#x27;#9ecae1ff&#x27;, &#x27;#9ecae1ff&#x27;, &#x27;#9ecae1ff&#x27;, &#x27;#9ecae1ff&#x27;, &#x27;#9ecae1ff&#x27;, &#x27;#9ecae1ff&#x27;, &#x27;#9ecae1ff&#x27;, &#x27;#9ecae1ff&#x27;, &#x27;#9ecae1ff&#x27;, &#x27;#9ecae1ff&#x27;, &#x27;#9ecae1ff&#x27;, &#x27;#9ecae1ff&#x27;, &#x27;#9ecae1ff&#x27;, &#x27;#9ecae1ff&#x27;, &#x27;#9ecae1ff&#x27;, &#x27;#9ecae1ff&#x27;, &#x27;#9ecae1ff&#x27;, &#x27;#9ecae1ff&#x27;, &#x27;#9ecae1ff&#x27;, &#x27;#9ecae1ff&#x27;, &#x27;#9ecae1ff&#x27;, &#x27;#9ecae1ff&#x27;, &#x27;#9ecae1ff&#x27;, &#x27;#9ecae1ff&#x27;, &#x27;#9ecae1ff&#x27;, &#x27;#9ecae1ff&#x27;, &#x27;#9ecae1ff&#x27;, &#x27;#9ecae1ff&#x27;, &#x27;#9ecae1ff&#x27;, &#x27;#9ecae1ff&#x27;, &#x27;#9ecae1ff&#x27;, &#x27;#9ecae1ff&#x27;, &#x27;#9ecae1ff&#x27;, &#x27;#9ecae1ff&#x27;, &#x27;#9ecae1ff&#x27;, &#x27;#9ecae1ff&#x27;, &#x27;#9ecae1ff&#x27;, &#x27;#9ecae1ff&#x27;, &#x27;#9ecae1ff&#x27;, &#x27;#9ecae1ff&#x27;, &#x27;#9ecae1ff&#x27;, &#x27;#9ecae1ff&#x27;, &#x27;#9ecae1ff&#x27;, &#x27;#9ecae1ff&#x27;, &#x27;#9ecae1ff&#x27;, &#x27;#6baed6ff&#x27;, &#x27;#6baed6ff&#x27;, &#x27;#6baed6ff&#x27;, &#x27;#6baed6ff&#x27;, &#x27;#6baed6ff&#x27;, &#x27;#6baed6ff&#x27;, &#x27;#6baed6ff&#x27;, &#x27;#6baed6ff&#x27;, &#x27;#6baed6ff&#x27;, &#x27;#6baed6ff&#x27;, &#x27;#6baed6ff&#x27;, &#x27;#6baed6ff&#x27;, &#x27;#6baed6ff&#x27;, &#x27;#6baed6ff&#x27;, &#x27;#6baed6ff&#x27;, &#x27;#6baed6ff&#x27;, &#x27;#6baed6ff&#x27;, &#x27;#6baed6ff&#x27;, &#x27;#6baed6ff&#x27;, &#x27;#6baed6ff&#x27;, &#x27;#6baed6ff&#x27;, &#x27;#6baed6ff&#x27;, &#x27;#6baed6ff&#x27;, &#x27;#6baed6ff&#x27;, &#x27;#6baed6ff&#x27;, &#x27;#6baed6ff&#x27;, &#x27;#6baed6ff&#x27;, &#x27;#6baed6ff&#x27;, &#x27;#6baed6ff&#x27;, &#x27;#6baed6ff&#x27;, &#x27;#6baed6ff&#x27;, &#x27;#6baed6ff&#x27;, &#x27;#6baed6ff&#x27;, &#x27;#6baed6ff&#x27;, &#x27;#6baed6ff&#x27;, &#x27;#6baed6ff&#x27;, &#x27;#6baed6ff&#x27;, &#x27;#6baed6ff&#x27;, &#x27;#6baed6ff&#x27;, &#x27;#6baed6ff&#x27;, &#x27;#6baed6ff&#x27;, &#x27;#6baed6ff&#x27;, &#x27;#6baed6ff&#x27;, &#x27;#6baed6ff&#x27;, &#x27;#6baed6ff&#x27;, &#x27;#6baed6ff&#x27;, &#x27;#6baed6ff&#x27;, &#x27;#6baed6ff&#x27;, &#x27;#6baed6ff&#x27;, &#x27;#6baed6ff&#x27;, &#x27;#6baed6ff&#x27;, &#x27;#6baed6ff&#x27;, &#x27;#6baed6ff&#x27;, &#x27;#6baed6ff&#x27;, &#x27;#6baed6ff&#x27;, &#x27;#6baed6ff&#x27;, &#x27;#6baed6ff&#x27;, &#x27;#6baed6ff&#x27;, &#x27;#6baed6ff&#x27;, &#x27;#6baed6ff&#x27;, &#x27;#6baed6ff&#x27;, &#x27;#6baed6ff&#x27;, &#x27;#6baed6ff&#x27;, &#x27;#6baed6ff&#x27;, &#x27;#6baed6ff&#x27;, &#x27;#6baed6ff&#x27;, &#x27;#6baed6ff&#x27;, &#x27;#6baed6ff&#x27;, &#x27;#6baed6ff&#x27;, &#x27;#6baed6ff&#x27;, &#x27;#6baed6ff&#x27;, &#x27;#6baed6ff&#x27;, &#x27;#6baed6ff&#x27;, &#x27;#6baed6ff&#x27;, &#x27;#6baed6ff&#x27;, &#x27;#6baed6ff&#x27;, &#x27;#6baed6ff&#x27;, &#x27;#6baed6ff&#x27;, &#x27;#6baed6ff&#x27;, &#x27;#6baed6ff&#x27;, &#x27;#6baed6ff&#x27;, &#x27;#6baed6ff&#x27;, &#x27;#6baed6ff&#x27;, &#x27;#3182bdff&#x27;, &#x27;#3182bdff&#x27;, &#x27;#3182bdff&#x27;, &#x27;#3182bdff&#x27;, &#x27;#3182bdff&#x27;, &#x27;#3182bdff&#x27;, &#x27;#3182bdff&#x27;, &#x27;#3182bdff&#x27;, &#x27;#3182bdff&#x27;, &#x27;#3182bdff&#x27;, &#x27;#3182bdff&#x27;, &#x27;#3182bdff&#x27;, &#x27;#3182bdff&#x27;, &#x27;#3182bdff&#x27;, &#x27;#3182bdff&#x27;, &#x27;#3182bdff&#x27;, &#x27;#3182bdff&#x27;, &#x27;#3182bdff&#x27;, &#x27;#3182bdff&#x27;, &#x27;#3182bdff&#x27;, &#x27;#3182bdff&#x27;, &#x27;#3182bdff&#x27;, &#x27;#3182bdff&#x27;, &#x27;#3182bdff&#x27;, &#x27;#3182bdff&#x27;, &#x27;#3182bdff&#x27;, &#x27;#3182bdff&#x27;, &#x27;#3182bdff&#x27;, &#x27;#3182bdff&#x27;, &#x27;#3182bdff&#x27;, &#x27;#3182bdff&#x27;, &#x27;#3182bdff&#x27;, &#x27;#3182bdff&#x27;, &#x27;#3182bdff&#x27;, &#x27;#3182bdff&#x27;, &#x27;#3182bdff&#x27;, &#x27;#3182bdff&#x27;, &#x27;#3182bdff&#x27;, &#x27;#3182bdff&#x27;, &#x27;#3182bdff&#x27;, &#x27;#3182bdff&#x27;, &#x27;#3182bdff&#x27;, &#x27;#3182bdff&#x27;, &#x27;#3182bdff&#x27;, &#x27;#3182bdff&#x27;, &#x27;#3182bdff&#x27;, &#x27;#3182bdff&#x27;, &#x27;#3182bdff&#x27;, &#x27;#3182bdff&#x27;, &#x27;#3182bdff&#x27;, &#x27;#3182bdff&#x27;, &#x27;#3182bdff&#x27;, &#x27;#3182bdff&#x27;, &#x27;#3182bdff&#x27;, &#x27;#3182bdff&#x27;, &#x27;#3182bdff&#x27;, &#x27;#3182bdff&#x27;, &#x27;#3182bdff&#x27;, &#x27;#3182bdff&#x27;, &#x27;#3182bdff&#x27;, &#x27;#3182bdff&#x27;, &#x27;#3182bdff&#x27;, &#x27;#3182bdff&#x27;, &#x27;#3182bdff&#x27;, &#x27;#3182bdff&#x27;, &#x27;#3182bdff&#x27;, &#x27;#3182bdff&#x27;, &#x27;#3182bdff&#x27;, &#x27;#3182bdff&#x27;, &#x27;#3182bdff&#x27;, &#x27;#3182bdff&#x27;, &#x27;#3182bdff&#x27;, &#x27;#3182bdff&#x27;, &#x27;#3182bdff&#x27;, &#x27;#3182bdff&#x27;, &#x27;#3182bdff&#x27;, &#x27;#3182bdff&#x27;, &#x27;#3182bdff&#x27;, &#x27;#3182bdff&#x27;, &#x27;#3182bdff&#x27;, &#x27;#3182bdff&#x27;, &#x27;#3182bdff&#x27;, &#x27;#3182bdff&#x27;, &#x27;#08519cff&#x27;, &#x27;#08519cff&#x27;, &#x27;#08519cff&#x27;, &#x27;#08519cff&#x27;, &#x27;#08519cff&#x27;, &#x27;#08519cff&#x27;, &#x27;#08519cff&#x27;, &#x27;#08519cff&#x27;, &#x27;#08519cff&#x27;, &#x27;#08519cff&#x27;, &#x27;#08519cff&#x27;, &#x27;#08519cff&#x27;, &#x27;#08519cff&#x27;, &#x27;#08519cff&#x27;, &#x27;#08519cff&#x27;, &#x27;#08519cff&#x27;, &#x27;#08519cff&#x27;, &#x27;#08519cff&#x27;, &#x27;#08519cff&#x27;, &#x27;#08519cff&#x27;, &#x27;#08519cff&#x27;, &#x27;#08519cff&#x27;, &#x27;#08519cff&#x27;, &#x27;#08519cff&#x27;, &#x27;#08519cff&#x27;, &#x27;#08519cff&#x27;, &#x27;#08519cff&#x27;, &#x27;#08519cff&#x27;, &#x27;#08519cff&#x27;, &#x27;#08519cff&#x27;, &#x27;#08519cff&#x27;, &#x27;#08519cff&#x27;, &#x27;#08519cff&#x27;, &#x27;#08519cff&#x27;, &#x27;#08519cff&#x27;, &#x27;#08519cff&#x27;, &#x27;#08519cff&#x27;, &#x27;#08519cff&#x27;, &#x27;#08519cff&#x27;, &#x27;#08519cff&#x27;, &#x27;#08519cff&#x27;, &#x27;#08519cff&#x27;, &#x27;#08519cff&#x27;, &#x27;#08519cff&#x27;, &#x27;#08519cff&#x27;, &#x27;#08519cff&#x27;, &#x27;#08519cff&#x27;, &#x27;#08519cff&#x27;, &#x27;#08519cff&#x27;, &#x27;#08519cff&#x27;, &#x27;#08519cff&#x27;, &#x27;#08519cff&#x27;, &#x27;#08519cff&#x27;, &#x27;#08519cff&#x27;, &#x27;#08519cff&#x27;, &#x27;#08519cff&#x27;, &#x27;#08519cff&#x27;, &#x27;#08519cff&#x27;, &#x27;#08519cff&#x27;, &#x27;#08519cff&#x27;, &#x27;#08519cff&#x27;, &#x27;#08519cff&#x27;, &#x27;#08519cff&#x27;, &#x27;#08519cff&#x27;, &#x27;#08519cff&#x27;, &#x27;#08519cff&#x27;, &#x27;#08519cff&#x27;, &#x27;#08519cff&#x27;, &#x27;#08519cff&#x27;, &#x27;#08519cff&#x27;, &#x27;#08519cff&#x27;, &#x27;#08519cff&#x27;, &#x27;#08519cff&#x27;, &#x27;#08519cff&#x27;, &#x27;#08519cff&#x27;, &#x27;#08519cff&#x27;, &#x27;#08519cff&#x27;, &#x27;#08519cff&#x27;, &#x27;#08519cff&#x27;, &#x27;#08519cff&#x27;, &#x27;#08519cff&#x27;, &#x27;#08519cff&#x27;, &#x27;#08519cff&#x27;, &#x27;#08519cff&#x27;]);\n",
       "    \n",
       "\n",
       "    color_map_bf857da1f63e2431751e06e4547acc99.x = d3.scale.linear()\n",
       "              .domain([731.1874469701851, 1542.6963175012104])\n",
       "              .range([0, 450 - 50]);\n",
       "\n",
       "    color_map_bf857da1f63e2431751e06e4547acc99.legend = L.control({position: &#x27;topright&#x27;});\n",
       "    color_map_bf857da1f63e2431751e06e4547acc99.legend.onAdd = function (map) {var div = L.DomUtil.create(&#x27;div&#x27;, &#x27;legend&#x27;); return div};\n",
       "    color_map_bf857da1f63e2431751e06e4547acc99.legend.addTo(map_d6adb1beb6fc68becef7023e73d98f1c);\n",
       "\n",
       "    color_map_bf857da1f63e2431751e06e4547acc99.xAxis = d3.svg.axis()\n",
       "        .scale(color_map_bf857da1f63e2431751e06e4547acc99.x)\n",
       "        .orient(&quot;top&quot;)\n",
       "        .tickSize(1)\n",
       "        .tickValues([731.1874469701851, 866.4389253920226, 1001.6904038138603, 1136.941882235698, 1272.1933606575353, 1407.4448390793727, 1542.6963175012104]);\n",
       "\n",
       "    color_map_bf857da1f63e2431751e06e4547acc99.svg = d3.select(&quot;.legend.leaflet-control&quot;).append(&quot;svg&quot;)\n",
       "        .attr(&quot;id&quot;, &#x27;legend&#x27;)\n",
       "        .attr(&quot;width&quot;, 450)\n",
       "        .attr(&quot;height&quot;, 40);\n",
       "\n",
       "    color_map_bf857da1f63e2431751e06e4547acc99.g = color_map_bf857da1f63e2431751e06e4547acc99.svg.append(&quot;g&quot;)\n",
       "        .attr(&quot;class&quot;, &quot;key&quot;)\n",
       "        .attr(&quot;transform&quot;, &quot;translate(25,16)&quot;);\n",
       "\n",
       "    color_map_bf857da1f63e2431751e06e4547acc99.g.selectAll(&quot;rect&quot;)\n",
       "        .data(color_map_bf857da1f63e2431751e06e4547acc99.color.range().map(function(d, i) {\n",
       "          return {\n",
       "            x0: i ? color_map_bf857da1f63e2431751e06e4547acc99.x(color_map_bf857da1f63e2431751e06e4547acc99.color.domain()[i - 1]) : color_map_bf857da1f63e2431751e06e4547acc99.x.range()[0],\n",
       "            x1: i &lt; color_map_bf857da1f63e2431751e06e4547acc99.color.domain().length ? color_map_bf857da1f63e2431751e06e4547acc99.x(color_map_bf857da1f63e2431751e06e4547acc99.color.domain()[i]) : color_map_bf857da1f63e2431751e06e4547acc99.x.range()[1],\n",
       "            z: d\n",
       "          };\n",
       "        }))\n",
       "      .enter().append(&quot;rect&quot;)\n",
       "        .attr(&quot;height&quot;, 40 - 30)\n",
       "        .attr(&quot;x&quot;, function(d) { return d.x0; })\n",
       "        .attr(&quot;width&quot;, function(d) { return d.x1 - d.x0; })\n",
       "        .style(&quot;fill&quot;, function(d) { return d.z; });\n",
       "\n",
       "    color_map_bf857da1f63e2431751e06e4547acc99.g.call(color_map_bf857da1f63e2431751e06e4547acc99.xAxis).append(&quot;text&quot;)\n",
       "        .attr(&quot;class&quot;, &quot;caption&quot;)\n",
       "        .attr(&quot;y&quot;, 21)\n",
       "        .text(&quot;&quot;);\n",
       "&lt;/script&gt;\n",
       "&lt;/html&gt;\" style=\"position:absolute;width:100%;height:100%;left:0;top:0;border:none !important;\" allowfullscreen webkitallowfullscreen mozallowfullscreen></iframe></div></div>"
      ],
      "text/plain": [
       "<folium.folium.Map at 0x217a0377370>"
      ]
     },
     "execution_count": 35,
     "metadata": {},
     "output_type": "execute_result"
    }
   ],
   "source": [
    "m = folium.Map(\n",
    "    location=[37.566345, 126.977893]#,\n",
    "    #tiles='Stamen Terrain'\n",
    ")\n",
    "\n",
    "if map_color_options.value == '화이트블루':\n",
    "    folium.Choropleth(\n",
    "        geo_data=geo_json,\n",
    "        name='choropleth',\n",
    "        data=map_data_df,\n",
    "        columns=['name', 'value'],\n",
    "        key_on='feature.properties.name'\n",
    "    ).add_to(m)\n",
    "else:\n",
    "    folium.Choropleth(\n",
    "        geo_data=geo_json,\n",
    "        name='choropleth',\n",
    "        data=map_data_df,\n",
    "        columns=['name', 'value'],\n",
    "        key_on='feature.properties.name',\n",
    "        fill_color=color_dict[map_color_options.value]\n",
    "    ).add_to(m)\n",
    "    \n",
    "map_title = '{}_전용면적_{}_최근_{}개월_{}'.format(\n",
    "    estate_type.value, area_range_name, search_range.value, date_today\n",
    ")\n",
    "\n",
    "print(map_title)\n",
    "m"
   ]
  },
  {
   "cell_type": "code",
   "execution_count": null,
   "metadata": {},
   "outputs": [],
   "source": [
    "m.save(basedir + '_등치지도_{}.html'.format(map_color_options.value))"
   ]
  },
  {
   "cell_type": "code",
   "execution_count": null,
   "metadata": {},
   "outputs": [],
   "source": []
  },
  {
   "cell_type": "code",
   "execution_count": null,
   "metadata": {},
   "outputs": [],
   "source": []
  },
  {
   "cell_type": "code",
   "execution_count": null,
   "metadata": {},
   "outputs": [],
   "source": []
  },
  {
   "cell_type": "code",
   "execution_count": null,
   "metadata": {},
   "outputs": [],
   "source": []
  },
  {
   "cell_type": "code",
   "execution_count": null,
   "metadata": {},
   "outputs": [],
   "source": []
  }
 ],
 "metadata": {
  "kernelspec": {
   "display_name": "Python 3 (ipykernel)",
   "language": "python",
   "name": "python3"
  },
  "language_info": {
   "codemirror_mode": {
    "name": "ipython",
    "version": 3
   },
   "file_extension": ".py",
   "mimetype": "text/x-python",
   "name": "python",
   "nbconvert_exporter": "python",
   "pygments_lexer": "ipython3",
   "version": "3.9.13"
  }
 },
 "nbformat": 4,
 "nbformat_minor": 4
}
