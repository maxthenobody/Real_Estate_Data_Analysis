{
 "cells": [
  {
   "cell_type": "code",
   "execution_count": 1,
   "metadata": {},
   "outputs": [],
   "source": [
    "import numpy as np\n",
    "import pandas as pd\n",
    "import matplotlib.pyplot as plt\n",
    "import os\n",
    "import math\n",
    "from tqdm import tqdm\n",
    "import requests\n",
    "from urllib.parse import urlparse\n",
    "pd.set_option('display.max_rows', 500)\n",
    "pd.set_option('display.max_columns', 500)\n",
    "import datetime\n",
    "from sklearn.preprocessing import quantile_transform\n",
    "pd.options.mode.chained_assignment = None  # default='warn'\n",
    "from time import sleep"
   ]
  },
  {
   "cell_type": "code",
   "execution_count": 2,
   "metadata": {},
   "outputs": [
    {
     "name": "stdout",
     "output_type": "stream",
     "text": [
      "(33720, 1)\n"
     ]
    },
    {
     "data": {
      "text/html": [
       "<div>\n",
       "<style scoped>\n",
       "    .dataframe tbody tr th:only-of-type {\n",
       "        vertical-align: middle;\n",
       "    }\n",
       "\n",
       "    .dataframe tbody tr th {\n",
       "        vertical-align: top;\n",
       "    }\n",
       "\n",
       "    .dataframe thead th {\n",
       "        text-align: right;\n",
       "    }\n",
       "</style>\n",
       "<table border=\"1\" class=\"dataframe\">\n",
       "  <thead>\n",
       "    <tr style=\"text-align: right;\">\n",
       "      <th></th>\n",
       "      <th>지번주소</th>\n",
       "    </tr>\n",
       "  </thead>\n",
       "  <tbody>\n",
       "    <tr>\n",
       "      <th>0</th>\n",
       "      <td>서울특별시 강남구 청담동 129-16</td>\n",
       "    </tr>\n",
       "    <tr>\n",
       "      <th>1</th>\n",
       "      <td>서울특별시 강서구 공항동 49-1</td>\n",
       "    </tr>\n",
       "    <tr>\n",
       "      <th>2</th>\n",
       "      <td>서울특별시 노원구 상계동 341-15</td>\n",
       "    </tr>\n",
       "    <tr>\n",
       "      <th>3</th>\n",
       "      <td>서울특별시 동대문구 용두동 236-4</td>\n",
       "    </tr>\n",
       "    <tr>\n",
       "      <th>4</th>\n",
       "      <td>서울특별시 영등포구 당산동2가 15-2</td>\n",
       "    </tr>\n",
       "  </tbody>\n",
       "</table>\n",
       "</div>"
      ],
      "text/plain": [
       "                    지번주소\n",
       "0   서울특별시 강남구 청담동 129-16\n",
       "1     서울특별시 강서구 공항동 49-1\n",
       "2   서울특별시 노원구 상계동 341-15\n",
       "3   서울특별시 동대문구 용두동 236-4\n",
       "4  서울특별시 영등포구 당산동2가 15-2"
      ]
     },
     "execution_count": 2,
     "metadata": {},
     "output_type": "execute_result"
    }
   ],
   "source": [
    "addr_to_download_df = pd.read_csv('./prepped_data/addr_to_download.csv')\n",
    "print(addr_to_download_df.shape)\n",
    "addr_to_download_df.head()"
   ]
  },
  {
   "cell_type": "code",
   "execution_count": 3,
   "metadata": {},
   "outputs": [],
   "source": [
    "# download coordinates from an open api\n",
    "\n",
    "def fetch_addr_data(addr_list):\n",
    "    roadname_url = 'https://www.juso.go.kr/addrlink/addrLinkApi.do?'\n",
    "    roadname_apikey = 'devU01TX0FVVEgyMDIxMDUwNDE1NTMwMDExMTEyNzc='\n",
    "    #apikey 만료시 https://www.juso.go.kr/addrlink/devAddrLinkRequestWrite.do?returnFn=write&cntcMenu=URL 가서 새로 받을 것.\n",
    "    \n",
    "    addr_df = pd.DataFrame({'지번주소':[], '도로명주소': []})\n",
    "    for i, address in tqdm(enumerate(addr_list)):\n",
    "        address_no_zero = address.replace('-0','')\n",
    "        \n",
    "        roadname_result = requests.get(roadname_url + 'confmKey=' + roadname_apikey + '&currentPage=1' + '&countPerPage=1' + '&keyword=' \\\n",
    "                                       + address_no_zero + '&resultType=json' + '&hstryYn=Y')\n",
    "        roadname_info = roadname_result.json()['results']['juso']\n",
    "        \n",
    "        if roadname_info == []:\n",
    "            addr_df.loc[i,'지번주소'] = address\n",
    "            addr_df.loc[i,'도로명주소'] = np.nan\n",
    "            continue\n",
    "        \n",
    "        roadname_addr = roadname_info[0]['roadAddrPart1']\n",
    "        \n",
    "        addr_df.loc[i,'지번주소'] = address\n",
    "        addr_df.loc[i,'도로명주소'] = roadname_addr\n",
    "        \n",
    "        sleep(1)    \n",
    "    \n",
    "    return addr_df"
   ]
  },
  {
   "cell_type": "code",
   "execution_count": 4,
   "metadata": {},
   "outputs": [
    {
     "name": "stderr",
     "output_type": "stream",
     "text": [
      "33720it [1:27:31,  6.42it/s]\n"
     ]
    }
   ],
   "source": [
    "addr_df = fetch_addr_data(addr_to_download_df['지번주소'].tolist())"
   ]
  },
  {
   "cell_type": "code",
   "execution_count": 5,
   "metadata": {},
   "outputs": [
    {
     "name": "stdout",
     "output_type": "stream",
     "text": [
      "(33720, 2)\n"
     ]
    },
    {
     "data": {
      "text/html": [
       "<div>\n",
       "<style scoped>\n",
       "    .dataframe tbody tr th:only-of-type {\n",
       "        vertical-align: middle;\n",
       "    }\n",
       "\n",
       "    .dataframe tbody tr th {\n",
       "        vertical-align: top;\n",
       "    }\n",
       "\n",
       "    .dataframe thead th {\n",
       "        text-align: right;\n",
       "    }\n",
       "</style>\n",
       "<table border=\"1\" class=\"dataframe\">\n",
       "  <thead>\n",
       "    <tr style=\"text-align: right;\">\n",
       "      <th></th>\n",
       "      <th>지번주소</th>\n",
       "      <th>도로명주소</th>\n",
       "    </tr>\n",
       "  </thead>\n",
       "  <tbody>\n",
       "    <tr>\n",
       "      <th>0</th>\n",
       "      <td>서울특별시 강남구 청담동 129-16</td>\n",
       "      <td>서울특별시 강남구 압구정로79길 72</td>\n",
       "    </tr>\n",
       "    <tr>\n",
       "      <th>1</th>\n",
       "      <td>서울특별시 강서구 공항동 49-1</td>\n",
       "      <td>서울특별시 강서구 공항대로 18-1</td>\n",
       "    </tr>\n",
       "    <tr>\n",
       "      <th>2</th>\n",
       "      <td>서울특별시 노원구 상계동 341-15</td>\n",
       "      <td>서울특별시 노원구 상계로 90</td>\n",
       "    </tr>\n",
       "    <tr>\n",
       "      <th>3</th>\n",
       "      <td>서울특별시 동대문구 용두동 236-4</td>\n",
       "      <td>서울특별시 동대문구 왕산로 52</td>\n",
       "    </tr>\n",
       "    <tr>\n",
       "      <th>4</th>\n",
       "      <td>서울특별시 영등포구 당산동2가 15-2</td>\n",
       "      <td>서울특별시 영등포구 영등포로 112</td>\n",
       "    </tr>\n",
       "  </tbody>\n",
       "</table>\n",
       "</div>"
      ],
      "text/plain": [
       "                    지번주소                 도로명주소\n",
       "0   서울특별시 강남구 청담동 129-16  서울특별시 강남구 압구정로79길 72\n",
       "1     서울특별시 강서구 공항동 49-1   서울특별시 강서구 공항대로 18-1\n",
       "2   서울특별시 노원구 상계동 341-15      서울특별시 노원구 상계로 90\n",
       "3   서울특별시 동대문구 용두동 236-4     서울특별시 동대문구 왕산로 52\n",
       "4  서울특별시 영등포구 당산동2가 15-2   서울특별시 영등포구 영등포로 112"
      ]
     },
     "execution_count": 5,
     "metadata": {},
     "output_type": "execute_result"
    }
   ],
   "source": [
    "print(addr_df.shape)\n",
    "addr_df.head()"
   ]
  },
  {
   "cell_type": "code",
   "execution_count": 6,
   "metadata": {},
   "outputs": [
    {
     "data": {
      "text/plain": [
       "지번주소         0\n",
       "도로명주소    26126\n",
       "dtype: int64"
      ]
     },
     "execution_count": 6,
     "metadata": {},
     "output_type": "execute_result"
    }
   ],
   "source": [
    "addr_df.isna().sum()"
   ]
  },
  {
   "cell_type": "code",
   "execution_count": 7,
   "metadata": {},
   "outputs": [],
   "source": [
    "addr_df.to_csv('./prepped_data/additional_addr_1.csv', index=False)"
   ]
  },
  {
   "cell_type": "code",
   "execution_count": null,
   "metadata": {},
   "outputs": [],
   "source": []
  }
 ],
 "metadata": {
  "kernelspec": {
   "display_name": "Python 3",
   "language": "python",
   "name": "python3"
  },
  "language_info": {
   "codemirror_mode": {
    "name": "ipython",
    "version": 3
   },
   "file_extension": ".py",
   "mimetype": "text/x-python",
   "name": "python",
   "nbconvert_exporter": "python",
   "pygments_lexer": "ipython3",
   "version": "3.7.9"
  }
 },
 "nbformat": 4,
 "nbformat_minor": 4
}
