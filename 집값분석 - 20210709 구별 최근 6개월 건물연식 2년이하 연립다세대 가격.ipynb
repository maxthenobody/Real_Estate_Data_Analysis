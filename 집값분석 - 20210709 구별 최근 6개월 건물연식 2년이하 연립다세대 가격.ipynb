{
 "cells": [
  {
   "cell_type": "code",
   "execution_count": 1,
   "metadata": {},
   "outputs": [],
   "source": [
    "import pandas as pd\n",
    "import numpy as np\n",
    "import os\n",
    "pd.set_option('display.max_rows', 500)\n",
    "pd.set_option('display.max_columns', 500)\n",
    "from tqdm import tqdm\n",
    "import matplotlib.pyplot as plt\n",
    "import seaborn as sns\n",
    "import matplotlib\n",
    "matplotlib.rcParams['axes.unicode_minus'] = False\n",
    "pd.options.mode.chained_assignment = None  # default='warn'\n",
    "plt.rcParams['font.family'] = 'Malgun Gothic'\n",
    "import datetime"
   ]
  },
  {
   "cell_type": "code",
   "execution_count": 2,
   "metadata": {},
   "outputs": [],
   "source": [
    "date_today = pd.to_datetime(datetime.datetime.now().strftime('%Y-%m-%d'), format='%Y-%m-%d')"
   ]
  },
  {
   "cell_type": "code",
   "execution_count": 3,
   "metadata": {},
   "outputs": [
    {
     "data": {
      "text/plain": [
       "'20210712'"
      ]
     },
     "execution_count": 3,
     "metadata": {},
     "output_type": "execute_result"
    }
   ],
   "source": [
    "date_today_record = str(date_today).split(' ')[0].replace('-', '')\n",
    "date_today_record"
   ]
  },
  {
   "cell_type": "code",
   "execution_count": 4,
   "metadata": {},
   "outputs": [],
   "source": [
    "def day_modifier(x):\n",
    "    # x is a number\n",
    "    \n",
    "    if pd.isna(x) == True:\n",
    "        return x\n",
    "    else:\n",
    "        x = str(x)\n",
    "        if len(x) == 1:\n",
    "            return '0' + x\n",
    "        else:\n",
    "            return x"
   ]
  },
  {
   "cell_type": "code",
   "execution_count": 5,
   "metadata": {},
   "outputs": [],
   "source": [
    "def landnum_modifier(x):\n",
    "    # x is a string\n",
    "    \n",
    "    if pd.isna(x) == True:\n",
    "        return x\n",
    "    else:\n",
    "        x = str(x).replace('외', '').replace(' ','')\n",
    "        splitted = x.split('-')\n",
    "        if len(splitted) == 1:\n",
    "            return x + '-0'\n",
    "        else:\n",
    "            return x"
   ]
  },
  {
   "cell_type": "code",
   "execution_count": 6,
   "metadata": {},
   "outputs": [],
   "source": [
    "def data_prep(bdtype, tradetype):\n",
    "    # bdtype is a string: one of 아파트, 연립다세대 or 오피스텔\n",
    "    # tradetype is a string: one of 매매 or 전월세\n",
    "    \n",
    "    basedir = './국토교통부_실거래가_공개시스템/{}/{}/'.format(bdtype, tradetype)\n",
    "    filenames = [f for f in os.listdir(basedir) if (f.endswith('.csv'))&('(' in f)]\n",
    "    \n",
    "    dfs_list = []\n",
    "    for i, f in tqdm(enumerate(filenames)):\n",
    "        df = pd.read_csv(basedir + f, encoding='euc-kr', header=15)\n",
    "        if '해제사유발생일' in df.columns.tolist():\n",
    "            df = df[df['해제사유발생일'].isna()]\n",
    "            df = df.drop(columns=['해제사유발생일'])\n",
    "\n",
    "        dfs_list.append(df)\n",
    "    \n",
    "    concat_df = pd.concat(dfs_list).reset_index(drop=True)\n",
    "        \n",
    "    concat_df['번지'] = concat_df['번지'].apply(landnum_modifier)\n",
    "    \n",
    "    concat_df['계약년월'] = concat_df['계약년월'].apply(str)\n",
    "    concat_df['계약일'] = concat_df['계약일'].apply(str)\n",
    "    \n",
    "    concat_df['계약날짜기준_건물연식'] = concat_df['계약년월'].apply(lambda x: int(x[:4])) - concat_df['건축년도']\n",
    "    \n",
    "    concat_df['계약일'] = concat_df['계약일'].apply(day_modifier)\n",
    "    \n",
    "    concat_df['계약날짜'] = concat_df['계약년월'].apply(lambda x: x[:4]) + '-' + concat_df['계약년월'].apply(lambda x: x[-2:])\\\n",
    "    + '-' + concat_df['계약일']\n",
    "    \n",
    "    concat_df['계약날짜'] = pd.to_datetime(concat_df['계약날짜'], format='%Y-%m-%d')\n",
    "    \n",
    "    concat_df['거래금액(만원)'] = concat_df['거래금액(만원)'].apply(lambda x: int(x.replace(',','')))\n",
    "    concat_df['단가(만원/㎡)'] = concat_df['거래금액(만원)'] / concat_df['전용면적(㎡)']\n",
    "    \n",
    "    concat_df['지번주소'] = concat_df['시군구'] + ' ' + concat_df['번지']\n",
    "        \n",
    "    cols_to_drop = ['시군구', '번지', '본번', '부번', '지번주소', '계약년월', '계약일', '도로명']\n",
    "        \n",
    "    concat_df = concat_df[['지번주소', '도로명'] + [col for col in concat_df.columns if col not in cols_to_drop]]\n",
    "    \n",
    "    date_today = pd.to_datetime(datetime.datetime.now().strftime('%Y-%m-%d'), format='%Y-%m-%d')\n",
    "    concat_df['건물연식'] = date_today.year - concat_df['건축년도']\n",
    "    \n",
    "    concat_df = concat_df.dropna(subset=['지번주소'])\n",
    "    \n",
    "    if '건물명' in concat_df.columns:\n",
    "        concat_df.rename(columns={'건물명':'건물(단지)명'}, inplace=True)\n",
    "    elif '단지명' in concat_df.columns:\n",
    "        concat_df.rename(columns={'단지명':'건물(단지)명'}, inplace=True)\n",
    "    \n",
    "    concat_df = concat_df[concat_df['층'] >= 0].reset_index(drop=True)\n",
    "    \n",
    "    return concat_df"
   ]
  },
  {
   "cell_type": "code",
   "execution_count": 7,
   "metadata": {},
   "outputs": [
    {
     "name": "stderr",
     "output_type": "stream",
     "text": [
      "16it [00:01, 10.66it/s]\n"
     ]
    },
    {
     "name": "stdout",
     "output_type": "stream",
     "text": [
      "(642837, 13)\n"
     ]
    },
    {
     "data": {
      "text/html": [
       "<div>\n",
       "<style scoped>\n",
       "    .dataframe tbody tr th:only-of-type {\n",
       "        vertical-align: middle;\n",
       "    }\n",
       "\n",
       "    .dataframe tbody tr th {\n",
       "        vertical-align: top;\n",
       "    }\n",
       "\n",
       "    .dataframe thead th {\n",
       "        text-align: right;\n",
       "    }\n",
       "</style>\n",
       "<table border=\"1\" class=\"dataframe\">\n",
       "  <thead>\n",
       "    <tr style=\"text-align: right;\">\n",
       "      <th></th>\n",
       "      <th>지번주소</th>\n",
       "      <th>도로명</th>\n",
       "      <th>건물(단지)명</th>\n",
       "      <th>전용면적(㎡)</th>\n",
       "      <th>대지권면적(㎡)</th>\n",
       "      <th>거래금액(만원)</th>\n",
       "      <th>층</th>\n",
       "      <th>건축년도</th>\n",
       "      <th>계약날짜기준_건물연식</th>\n",
       "      <th>계약날짜</th>\n",
       "      <th>단가(만원/㎡)</th>\n",
       "      <th>건물연식</th>\n",
       "      <th>부동산유형</th>\n",
       "    </tr>\n",
       "  </thead>\n",
       "  <tbody>\n",
       "    <tr>\n",
       "      <th>0</th>\n",
       "      <td>서울특별시 강남구 개포동 171-13</td>\n",
       "      <td>선릉로14길 11</td>\n",
       "      <td>(171-13)</td>\n",
       "      <td>68.08</td>\n",
       "      <td>56.10</td>\n",
       "      <td>56500</td>\n",
       "      <td>2</td>\n",
       "      <td>1988.0</td>\n",
       "      <td>18.0</td>\n",
       "      <td>2006-12-20</td>\n",
       "      <td>829.905993</td>\n",
       "      <td>33.0</td>\n",
       "      <td>연립다세대</td>\n",
       "    </tr>\n",
       "    <tr>\n",
       "      <th>1</th>\n",
       "      <td>서울특별시 강남구 개포동 1239-7</td>\n",
       "      <td>개포로15길 25</td>\n",
       "      <td>강남빌라 가동</td>\n",
       "      <td>52.59</td>\n",
       "      <td>45.00</td>\n",
       "      <td>40500</td>\n",
       "      <td>2</td>\n",
       "      <td>1988.0</td>\n",
       "      <td>18.0</td>\n",
       "      <td>2006-12-09</td>\n",
       "      <td>770.108386</td>\n",
       "      <td>33.0</td>\n",
       "      <td>연립다세대</td>\n",
       "    </tr>\n",
       "    <tr>\n",
       "      <th>2</th>\n",
       "      <td>서울특별시 강남구 개포동 1239-7</td>\n",
       "      <td>개포로15길 25</td>\n",
       "      <td>강남빌라 가동</td>\n",
       "      <td>52.59</td>\n",
       "      <td>45.00</td>\n",
       "      <td>42000</td>\n",
       "      <td>1</td>\n",
       "      <td>1988.0</td>\n",
       "      <td>18.0</td>\n",
       "      <td>2006-12-19</td>\n",
       "      <td>798.630918</td>\n",
       "      <td>33.0</td>\n",
       "      <td>연립다세대</td>\n",
       "    </tr>\n",
       "    <tr>\n",
       "      <th>3</th>\n",
       "      <td>서울특별시 강남구 개포동 1239-6</td>\n",
       "      <td>개포로15길 27</td>\n",
       "      <td>강남빌라 나동</td>\n",
       "      <td>52.75</td>\n",
       "      <td>44.68</td>\n",
       "      <td>22000</td>\n",
       "      <td>2</td>\n",
       "      <td>1988.0</td>\n",
       "      <td>18.0</td>\n",
       "      <td>2006-11-02</td>\n",
       "      <td>417.061611</td>\n",
       "      <td>33.0</td>\n",
       "      <td>연립다세대</td>\n",
       "    </tr>\n",
       "    <tr>\n",
       "      <th>4</th>\n",
       "      <td>서울특별시 강남구 개포동 1175-2</td>\n",
       "      <td>논현로6길 36-8</td>\n",
       "      <td>강남파크</td>\n",
       "      <td>49.43</td>\n",
       "      <td>23.70</td>\n",
       "      <td>17000</td>\n",
       "      <td>4</td>\n",
       "      <td>1993.0</td>\n",
       "      <td>13.0</td>\n",
       "      <td>2006-07-19</td>\n",
       "      <td>343.920696</td>\n",
       "      <td>28.0</td>\n",
       "      <td>연립다세대</td>\n",
       "    </tr>\n",
       "  </tbody>\n",
       "</table>\n",
       "</div>"
      ],
      "text/plain": [
       "                   지번주소         도로명   건물(단지)명  전용면적(㎡)  대지권면적(㎡)  거래금액(만원)  층  \\\n",
       "0  서울특별시 강남구 개포동 171-13   선릉로14길 11  (171-13)    68.08     56.10     56500  2   \n",
       "1  서울특별시 강남구 개포동 1239-7   개포로15길 25   강남빌라 가동    52.59     45.00     40500  2   \n",
       "2  서울특별시 강남구 개포동 1239-7   개포로15길 25   강남빌라 가동    52.59     45.00     42000  1   \n",
       "3  서울특별시 강남구 개포동 1239-6   개포로15길 27   강남빌라 나동    52.75     44.68     22000  2   \n",
       "4  서울특별시 강남구 개포동 1175-2  논현로6길 36-8      강남파크    49.43     23.70     17000  4   \n",
       "\n",
       "     건축년도  계약날짜기준_건물연식       계약날짜    단가(만원/㎡)  건물연식  부동산유형  \n",
       "0  1988.0         18.0 2006-12-20  829.905993  33.0  연립다세대  \n",
       "1  1988.0         18.0 2006-12-09  770.108386  33.0  연립다세대  \n",
       "2  1988.0         18.0 2006-12-19  798.630918  33.0  연립다세대  \n",
       "3  1988.0         18.0 2006-11-02  417.061611  33.0  연립다세대  \n",
       "4  1993.0         13.0 2006-07-19  343.920696  28.0  연립다세대  "
      ]
     },
     "execution_count": 7,
     "metadata": {},
     "output_type": "execute_result"
    }
   ],
   "source": [
    "yunrip_df = data_prep('연립다세대', '매매')\n",
    "yunrip_df['부동산유형'] = '연립다세대'\n",
    "print(yunrip_df.shape)\n",
    "yunrip_df.head()"
   ]
  },
  {
   "cell_type": "code",
   "execution_count": 8,
   "metadata": {},
   "outputs": [
    {
     "name": "stdout",
     "output_type": "stream",
     "text": [
      "(642837, 12)\n"
     ]
    },
    {
     "data": {
      "text/html": [
       "<div>\n",
       "<style scoped>\n",
       "    .dataframe tbody tr th:only-of-type {\n",
       "        vertical-align: middle;\n",
       "    }\n",
       "\n",
       "    .dataframe tbody tr th {\n",
       "        vertical-align: top;\n",
       "    }\n",
       "\n",
       "    .dataframe thead th {\n",
       "        text-align: right;\n",
       "    }\n",
       "</style>\n",
       "<table border=\"1\" class=\"dataframe\">\n",
       "  <thead>\n",
       "    <tr style=\"text-align: right;\">\n",
       "      <th></th>\n",
       "      <th>지번주소</th>\n",
       "      <th>도로명</th>\n",
       "      <th>건물(단지)명</th>\n",
       "      <th>전용면적(㎡)</th>\n",
       "      <th>거래금액(만원)</th>\n",
       "      <th>층</th>\n",
       "      <th>건축년도</th>\n",
       "      <th>계약날짜기준_건물연식</th>\n",
       "      <th>계약날짜</th>\n",
       "      <th>단가(만원/㎡)</th>\n",
       "      <th>건물연식</th>\n",
       "      <th>부동산유형</th>\n",
       "    </tr>\n",
       "  </thead>\n",
       "  <tbody>\n",
       "    <tr>\n",
       "      <th>0</th>\n",
       "      <td>서울특별시 강남구 개포동 1164-0</td>\n",
       "      <td>논현로2길 6</td>\n",
       "      <td>골드캐슬</td>\n",
       "      <td>58.05</td>\n",
       "      <td>57500</td>\n",
       "      <td>2</td>\n",
       "      <td>2017.0</td>\n",
       "      <td>1.0</td>\n",
       "      <td>2018-01-20</td>\n",
       "      <td>990.525409</td>\n",
       "      <td>4.0</td>\n",
       "      <td>연립다세대</td>\n",
       "    </tr>\n",
       "    <tr>\n",
       "      <th>1</th>\n",
       "      <td>서울특별시 강남구 개포동 1164-0</td>\n",
       "      <td>논현로2길 6</td>\n",
       "      <td>골드캐슬</td>\n",
       "      <td>58.05</td>\n",
       "      <td>57000</td>\n",
       "      <td>1</td>\n",
       "      <td>2017.0</td>\n",
       "      <td>1.0</td>\n",
       "      <td>2018-06-01</td>\n",
       "      <td>981.912145</td>\n",
       "      <td>4.0</td>\n",
       "      <td>연립다세대</td>\n",
       "    </tr>\n",
       "    <tr>\n",
       "      <th>2</th>\n",
       "      <td>서울특별시 강남구 개포동 1164-0</td>\n",
       "      <td>논현로2길 6</td>\n",
       "      <td>골드캐슬</td>\n",
       "      <td>58.05</td>\n",
       "      <td>63000</td>\n",
       "      <td>2</td>\n",
       "      <td>2017.0</td>\n",
       "      <td>2.0</td>\n",
       "      <td>2019-01-19</td>\n",
       "      <td>1085.271318</td>\n",
       "      <td>4.0</td>\n",
       "      <td>연립다세대</td>\n",
       "    </tr>\n",
       "    <tr>\n",
       "      <th>3</th>\n",
       "      <td>서울특별시 강남구 개포동 1164-26</td>\n",
       "      <td>논현로2길 64</td>\n",
       "      <td>슈베르트빌</td>\n",
       "      <td>57.67</td>\n",
       "      <td>52000</td>\n",
       "      <td>5</td>\n",
       "      <td>2015.0</td>\n",
       "      <td>0.0</td>\n",
       "      <td>2015-05-15</td>\n",
       "      <td>901.681984</td>\n",
       "      <td>6.0</td>\n",
       "      <td>연립다세대</td>\n",
       "    </tr>\n",
       "    <tr>\n",
       "      <th>4</th>\n",
       "      <td>서울특별시 강남구 개포동 1164-26</td>\n",
       "      <td>논현로2길 64</td>\n",
       "      <td>슈베르트빌</td>\n",
       "      <td>72.44</td>\n",
       "      <td>56000</td>\n",
       "      <td>5</td>\n",
       "      <td>2015.0</td>\n",
       "      <td>0.0</td>\n",
       "      <td>2015-06-17</td>\n",
       "      <td>773.053562</td>\n",
       "      <td>6.0</td>\n",
       "      <td>연립다세대</td>\n",
       "    </tr>\n",
       "  </tbody>\n",
       "</table>\n",
       "</div>"
      ],
      "text/plain": [
       "                    지번주소       도로명 건물(단지)명  전용면적(㎡)  거래금액(만원)  층    건축년도  \\\n",
       "0   서울특별시 강남구 개포동 1164-0   논현로2길 6    골드캐슬    58.05     57500  2  2017.0   \n",
       "1   서울특별시 강남구 개포동 1164-0   논현로2길 6    골드캐슬    58.05     57000  1  2017.0   \n",
       "2   서울특별시 강남구 개포동 1164-0   논현로2길 6    골드캐슬    58.05     63000  2  2017.0   \n",
       "3  서울특별시 강남구 개포동 1164-26  논현로2길 64   슈베르트빌    57.67     52000  5  2015.0   \n",
       "4  서울특별시 강남구 개포동 1164-26  논현로2길 64   슈베르트빌    72.44     56000  5  2015.0   \n",
       "\n",
       "   계약날짜기준_건물연식       계약날짜     단가(만원/㎡)  건물연식  부동산유형  \n",
       "0          1.0 2018-01-20   990.525409   4.0  연립다세대  \n",
       "1          1.0 2018-06-01   981.912145   4.0  연립다세대  \n",
       "2          2.0 2019-01-19  1085.271318   4.0  연립다세대  \n",
       "3          0.0 2015-05-15   901.681984   6.0  연립다세대  \n",
       "4          0.0 2015-06-17   773.053562   6.0  연립다세대  "
      ]
     },
     "execution_count": 8,
     "metadata": {},
     "output_type": "execute_result"
    }
   ],
   "source": [
    "yunrip_df = yunrip_df.drop(columns=['대지권면적(㎡)'])\n",
    "house_df = pd.concat([yunrip_df]).sort_values(['지번주소', '건축년도', '계약날짜', '전용면적(㎡)']).reset_index(drop=True)\n",
    "print(house_df.shape)\n",
    "house_df.head()"
   ]
  },
  {
   "cell_type": "code",
   "execution_count": 9,
   "metadata": {},
   "outputs": [],
   "source": [
    "house_df['구'] = house_df['지번주소'].apply(lambda x: x.split(' ')[1])\n",
    "house_df['동'] = house_df['지번주소'].apply(lambda x: x.split(' ')[2])\n",
    "#house_merge_df['구'] = house_merge_df['지번주소'].apply(lambda x: x.split(' ')[1])\n",
    "#house_merge_df['동'] = house_merge_df['지번주소'].apply(lambda x: x.split(' ')[2])"
   ]
  },
  {
   "cell_type": "code",
   "execution_count": 78,
   "metadata": {},
   "outputs": [
    {
     "name": "stdout",
     "output_type": "stream",
     "text": [
      "(14793, 13)\n"
     ]
    },
    {
     "data": {
      "text/html": [
       "<div>\n",
       "<style scoped>\n",
       "    .dataframe tbody tr th:only-of-type {\n",
       "        vertical-align: middle;\n",
       "    }\n",
       "\n",
       "    .dataframe tbody tr th {\n",
       "        vertical-align: top;\n",
       "    }\n",
       "\n",
       "    .dataframe thead th {\n",
       "        text-align: right;\n",
       "    }\n",
       "</style>\n",
       "<table border=\"1\" class=\"dataframe\">\n",
       "  <thead>\n",
       "    <tr style=\"text-align: right;\">\n",
       "      <th></th>\n",
       "      <th>지번주소</th>\n",
       "      <th>도로명</th>\n",
       "      <th>건물(단지)명</th>\n",
       "      <th>전용면적(㎡)</th>\n",
       "      <th>거래금액(만원)</th>\n",
       "      <th>층</th>\n",
       "      <th>건축년도</th>\n",
       "      <th>계약날짜기준_건물연식</th>\n",
       "      <th>계약날짜</th>\n",
       "      <th>단가(만원/㎡)</th>\n",
       "      <th>건물연식</th>\n",
       "      <th>부동산유형</th>\n",
       "      <th>소유자</th>\n",
       "    </tr>\n",
       "  </thead>\n",
       "  <tbody>\n",
       "    <tr>\n",
       "      <th>0</th>\n",
       "      <td>서울특별시 강남구 개포동 1195-10</td>\n",
       "      <td>논현로12길 3-1</td>\n",
       "      <td>동영빌</td>\n",
       "      <td>25.39</td>\n",
       "      <td>28300</td>\n",
       "      <td>3</td>\n",
       "      <td>2020.0</td>\n",
       "      <td>0.0</td>\n",
       "      <td>2020-03-02</td>\n",
       "      <td>1114.612052</td>\n",
       "      <td>1.0</td>\n",
       "      <td>연립다세대</td>\n",
       "      <td>SH</td>\n",
       "    </tr>\n",
       "    <tr>\n",
       "      <th>1</th>\n",
       "      <td>서울특별시 강남구 개포동 1195-10</td>\n",
       "      <td>논현로12길 3-1</td>\n",
       "      <td>동영빌</td>\n",
       "      <td>25.39</td>\n",
       "      <td>28300</td>\n",
       "      <td>2</td>\n",
       "      <td>2020.0</td>\n",
       "      <td>0.0</td>\n",
       "      <td>2020-03-02</td>\n",
       "      <td>1114.612052</td>\n",
       "      <td>1.0</td>\n",
       "      <td>연립다세대</td>\n",
       "      <td>SH</td>\n",
       "    </tr>\n",
       "    <tr>\n",
       "      <th>2</th>\n",
       "      <td>서울특별시 강남구 개포동 1195-10</td>\n",
       "      <td>논현로12길 3-1</td>\n",
       "      <td>동영빌</td>\n",
       "      <td>25.46</td>\n",
       "      <td>28400</td>\n",
       "      <td>3</td>\n",
       "      <td>2020.0</td>\n",
       "      <td>0.0</td>\n",
       "      <td>2020-03-02</td>\n",
       "      <td>1115.475255</td>\n",
       "      <td>1.0</td>\n",
       "      <td>연립다세대</td>\n",
       "      <td>SH</td>\n",
       "    </tr>\n",
       "    <tr>\n",
       "      <th>3</th>\n",
       "      <td>서울특별시 강남구 개포동 1195-10</td>\n",
       "      <td>논현로12길 3-1</td>\n",
       "      <td>동영빌</td>\n",
       "      <td>25.46</td>\n",
       "      <td>28400</td>\n",
       "      <td>2</td>\n",
       "      <td>2020.0</td>\n",
       "      <td>0.0</td>\n",
       "      <td>2020-03-02</td>\n",
       "      <td>1115.475255</td>\n",
       "      <td>1.0</td>\n",
       "      <td>연립다세대</td>\n",
       "      <td>SH</td>\n",
       "    </tr>\n",
       "    <tr>\n",
       "      <th>4</th>\n",
       "      <td>서울특별시 강남구 개포동 1195-10</td>\n",
       "      <td>논현로12길 3-1</td>\n",
       "      <td>동영빌</td>\n",
       "      <td>25.55</td>\n",
       "      <td>28500</td>\n",
       "      <td>3</td>\n",
       "      <td>2020.0</td>\n",
       "      <td>0.0</td>\n",
       "      <td>2020-03-02</td>\n",
       "      <td>1115.459883</td>\n",
       "      <td>1.0</td>\n",
       "      <td>연립다세대</td>\n",
       "      <td>SH</td>\n",
       "    </tr>\n",
       "  </tbody>\n",
       "</table>\n",
       "</div>"
      ],
      "text/plain": [
       "                    지번주소         도로명 건물(단지)명  전용면적(㎡)  거래금액(만원)  층    건축년도  \\\n",
       "0  서울특별시 강남구 개포동 1195-10  논현로12길 3-1     동영빌    25.39     28300  3  2020.0   \n",
       "1  서울특별시 강남구 개포동 1195-10  논현로12길 3-1     동영빌    25.39     28300  2  2020.0   \n",
       "2  서울특별시 강남구 개포동 1195-10  논현로12길 3-1     동영빌    25.46     28400  3  2020.0   \n",
       "3  서울특별시 강남구 개포동 1195-10  논현로12길 3-1     동영빌    25.46     28400  2  2020.0   \n",
       "4  서울특별시 강남구 개포동 1195-10  논현로12길 3-1     동영빌    25.55     28500  3  2020.0   \n",
       "\n",
       "   계약날짜기준_건물연식        계약날짜     단가(만원/㎡)  건물연식  부동산유형 소유자  \n",
       "0          0.0  2020-03-02  1114.612052   1.0  연립다세대  SH  \n",
       "1          0.0  2020-03-02  1114.612052   1.0  연립다세대  SH  \n",
       "2          0.0  2020-03-02  1115.475255   1.0  연립다세대  SH  \n",
       "3          0.0  2020-03-02  1115.475255   1.0  연립다세대  SH  \n",
       "4          0.0  2020-03-02  1115.459883   1.0  연립다세대  SH  "
      ]
     },
     "execution_count": 78,
     "metadata": {},
     "output_type": "execute_result"
    }
   ],
   "source": [
    "bulktrade_basedir = './국토교통부_실거래가_공개시스템/집값분석/일괄구매/10호이상/'\n",
    "bulktrade_df = pd.read_csv(bulktrade_basedir + '2018년01월01일부터_2021년06월07일까지_SH_LH_아파트_연립다세대_오피스텔_거래사례.csv')\n",
    "bulktrade_df = bulktrade_df.drop(columns=['Unnamed: 0'])\n",
    "#bulktrade_df['지번주소'] = '서울특별시 ' + bulktrade_df['지번주소']\n",
    "print(bulktrade_df.shape)\n",
    "bulktrade_df.head()"
   ]
  },
  {
   "cell_type": "code",
   "execution_count": 79,
   "metadata": {},
   "outputs": [
    {
     "data": {
      "text/plain": [
       "SH    8474\n",
       "LH    6319\n",
       "Name: 소유자, dtype: int64"
      ]
     },
     "execution_count": 79,
     "metadata": {},
     "output_type": "execute_result"
    }
   ],
   "source": [
    "bulktrade_df['소유자'].value_counts()"
   ]
  },
  {
   "cell_type": "code",
   "execution_count": 83,
   "metadata": {},
   "outputs": [
    {
     "name": "stdout",
     "output_type": "stream",
     "text": [
      "(10718, 13)\n"
     ]
    },
    {
     "data": {
      "text/html": [
       "<div>\n",
       "<style scoped>\n",
       "    .dataframe tbody tr th:only-of-type {\n",
       "        vertical-align: middle;\n",
       "    }\n",
       "\n",
       "    .dataframe tbody tr th {\n",
       "        vertical-align: top;\n",
       "    }\n",
       "\n",
       "    .dataframe thead th {\n",
       "        text-align: right;\n",
       "    }\n",
       "</style>\n",
       "<table border=\"1\" class=\"dataframe\">\n",
       "  <thead>\n",
       "    <tr style=\"text-align: right;\">\n",
       "      <th></th>\n",
       "      <th>지번주소</th>\n",
       "      <th>도로명</th>\n",
       "      <th>건물(단지)명</th>\n",
       "      <th>전용면적(㎡)</th>\n",
       "      <th>거래금액(만원)</th>\n",
       "      <th>층</th>\n",
       "      <th>건축년도</th>\n",
       "      <th>계약날짜기준_건물연식</th>\n",
       "      <th>계약날짜</th>\n",
       "      <th>단가(만원/㎡)</th>\n",
       "      <th>건물연식</th>\n",
       "      <th>부동산유형</th>\n",
       "      <th>소유자</th>\n",
       "    </tr>\n",
       "  </thead>\n",
       "  <tbody>\n",
       "    <tr>\n",
       "      <th>0</th>\n",
       "      <td>서울특별시 강남구 개포동 1166-9</td>\n",
       "      <td>논현로2길 37</td>\n",
       "      <td>동영빌</td>\n",
       "      <td>21.50</td>\n",
       "      <td>25850</td>\n",
       "      <td>4</td>\n",
       "      <td>2021.0</td>\n",
       "      <td>0.0</td>\n",
       "      <td>2021-06-22</td>\n",
       "      <td>1202.325581</td>\n",
       "      <td>0.0</td>\n",
       "      <td>연립다세대</td>\n",
       "      <td>장**외 1명</td>\n",
       "    </tr>\n",
       "    <tr>\n",
       "      <th>1</th>\n",
       "      <td>서울특별시 강남구 개포동 1166-9</td>\n",
       "      <td>논현로2길 37</td>\n",
       "      <td>동영빌</td>\n",
       "      <td>21.92</td>\n",
       "      <td>25950</td>\n",
       "      <td>3</td>\n",
       "      <td>2021.0</td>\n",
       "      <td>0.0</td>\n",
       "      <td>2021-06-22</td>\n",
       "      <td>1183.850365</td>\n",
       "      <td>0.0</td>\n",
       "      <td>연립다세대</td>\n",
       "      <td>장**외 1명</td>\n",
       "    </tr>\n",
       "    <tr>\n",
       "      <th>2</th>\n",
       "      <td>서울특별시 강남구 개포동 1166-9</td>\n",
       "      <td>논현로2길 37</td>\n",
       "      <td>동영빌</td>\n",
       "      <td>21.92</td>\n",
       "      <td>26050</td>\n",
       "      <td>2</td>\n",
       "      <td>2021.0</td>\n",
       "      <td>0.0</td>\n",
       "      <td>2021-06-22</td>\n",
       "      <td>1188.412409</td>\n",
       "      <td>0.0</td>\n",
       "      <td>연립다세대</td>\n",
       "      <td>장**외 1명</td>\n",
       "    </tr>\n",
       "    <tr>\n",
       "      <th>3</th>\n",
       "      <td>서울특별시 강남구 개포동 1166-9</td>\n",
       "      <td>논현로2길 37</td>\n",
       "      <td>동영빌</td>\n",
       "      <td>24.42</td>\n",
       "      <td>28150</td>\n",
       "      <td>5</td>\n",
       "      <td>2021.0</td>\n",
       "      <td>0.0</td>\n",
       "      <td>2021-06-22</td>\n",
       "      <td>1152.743653</td>\n",
       "      <td>0.0</td>\n",
       "      <td>연립다세대</td>\n",
       "      <td>장**외 1명</td>\n",
       "    </tr>\n",
       "    <tr>\n",
       "      <th>4</th>\n",
       "      <td>서울특별시 강남구 개포동 1166-9</td>\n",
       "      <td>논현로2길 37</td>\n",
       "      <td>동영빌</td>\n",
       "      <td>25.01</td>\n",
       "      <td>29450</td>\n",
       "      <td>3</td>\n",
       "      <td>2021.0</td>\n",
       "      <td>0.0</td>\n",
       "      <td>2021-06-22</td>\n",
       "      <td>1177.528988</td>\n",
       "      <td>0.0</td>\n",
       "      <td>연립다세대</td>\n",
       "      <td>장**외 1명</td>\n",
       "    </tr>\n",
       "  </tbody>\n",
       "</table>\n",
       "</div>"
      ],
      "text/plain": [
       "                   지번주소       도로명 건물(단지)명  전용면적(㎡)  거래금액(만원)  층    건축년도  \\\n",
       "0  서울특별시 강남구 개포동 1166-9  논현로2길 37     동영빌    21.50     25850  4  2021.0   \n",
       "1  서울특별시 강남구 개포동 1166-9  논현로2길 37     동영빌    21.92     25950  3  2021.0   \n",
       "2  서울특별시 강남구 개포동 1166-9  논현로2길 37     동영빌    21.92     26050  2  2021.0   \n",
       "3  서울특별시 강남구 개포동 1166-9  논현로2길 37     동영빌    24.42     28150  5  2021.0   \n",
       "4  서울특별시 강남구 개포동 1166-9  논현로2길 37     동영빌    25.01     29450  3  2021.0   \n",
       "\n",
       "   계약날짜기준_건물연식        계약날짜     단가(만원/㎡)  건물연식  부동산유형      소유자  \n",
       "0          0.0  2021-06-22  1202.325581   0.0  연립다세대  장**외 1명  \n",
       "1          0.0  2021-06-22  1183.850365   0.0  연립다세대  장**외 1명  \n",
       "2          0.0  2021-06-22  1188.412409   0.0  연립다세대  장**외 1명  \n",
       "3          0.0  2021-06-22  1152.743653   0.0  연립다세대  장**외 1명  \n",
       "4          0.0  2021-06-22  1177.528988   0.0  연립다세대  장**외 1명  "
      ]
     },
     "execution_count": 83,
     "metadata": {},
     "output_type": "execute_result"
    }
   ],
   "source": [
    "bulktrade_df2 = pd.read_csv(bulktrade_basedir + '2018부터_아파트_연립다세대_오피스텔_일괄구매_전체_소유자_포함_기존자료_제외.csv')\n",
    "#bulktrade_df = bulktrade_df.drop(columns=['Unnamed: 0'])\n",
    "#bulktrade_df['지번주소'] = '서울특별시 ' + bulktrade_df['지번주소']\n",
    "bulktrade_df2 = bulktrade_df2.dropna(subset=['소유자'])\n",
    "bulktrade_df2['소유자'] = bulktrade_df2['소유자'].apply(lambda x: x.replace('서***~', 'SH'))\n",
    "bulktrade_df2['소유자'] = bulktrade_df2['소유자'].apply(lambda x: x.replace('한***~', 'LH'))\n",
    "print(bulktrade_df2.shape)\n",
    "bulktrade_df2.head()"
   ]
  },
  {
   "cell_type": "code",
   "execution_count": 84,
   "metadata": {},
   "outputs": [
    {
     "name": "stdout",
     "output_type": "stream",
     "text": [
      "(15782, 13)\n"
     ]
    },
    {
     "data": {
      "text/html": [
       "<div>\n",
       "<style scoped>\n",
       "    .dataframe tbody tr th:only-of-type {\n",
       "        vertical-align: middle;\n",
       "    }\n",
       "\n",
       "    .dataframe tbody tr th {\n",
       "        vertical-align: top;\n",
       "    }\n",
       "\n",
       "    .dataframe thead th {\n",
       "        text-align: right;\n",
       "    }\n",
       "</style>\n",
       "<table border=\"1\" class=\"dataframe\">\n",
       "  <thead>\n",
       "    <tr style=\"text-align: right;\">\n",
       "      <th></th>\n",
       "      <th>지번주소</th>\n",
       "      <th>도로명</th>\n",
       "      <th>건물(단지)명</th>\n",
       "      <th>전용면적(㎡)</th>\n",
       "      <th>거래금액(만원)</th>\n",
       "      <th>층</th>\n",
       "      <th>건축년도</th>\n",
       "      <th>계약날짜기준_건물연식</th>\n",
       "      <th>계약날짜</th>\n",
       "      <th>단가(만원/㎡)</th>\n",
       "      <th>건물연식</th>\n",
       "      <th>부동산유형</th>\n",
       "      <th>소유자</th>\n",
       "    </tr>\n",
       "  </thead>\n",
       "  <tbody>\n",
       "    <tr>\n",
       "      <th>0</th>\n",
       "      <td>서울특별시 강남구 개포동 1195-10</td>\n",
       "      <td>논현로12길 3-1</td>\n",
       "      <td>동영빌</td>\n",
       "      <td>25.39</td>\n",
       "      <td>28300</td>\n",
       "      <td>3</td>\n",
       "      <td>2020.0</td>\n",
       "      <td>0.0</td>\n",
       "      <td>2020-03-02</td>\n",
       "      <td>1114.612052</td>\n",
       "      <td>1.0</td>\n",
       "      <td>연립다세대</td>\n",
       "      <td>SH</td>\n",
       "    </tr>\n",
       "    <tr>\n",
       "      <th>1</th>\n",
       "      <td>서울특별시 강남구 개포동 1195-10</td>\n",
       "      <td>논현로12길 3-1</td>\n",
       "      <td>동영빌</td>\n",
       "      <td>25.39</td>\n",
       "      <td>28300</td>\n",
       "      <td>2</td>\n",
       "      <td>2020.0</td>\n",
       "      <td>0.0</td>\n",
       "      <td>2020-03-02</td>\n",
       "      <td>1114.612052</td>\n",
       "      <td>1.0</td>\n",
       "      <td>연립다세대</td>\n",
       "      <td>SH</td>\n",
       "    </tr>\n",
       "    <tr>\n",
       "      <th>2</th>\n",
       "      <td>서울특별시 강남구 개포동 1195-10</td>\n",
       "      <td>논현로12길 3-1</td>\n",
       "      <td>동영빌</td>\n",
       "      <td>25.46</td>\n",
       "      <td>28400</td>\n",
       "      <td>3</td>\n",
       "      <td>2020.0</td>\n",
       "      <td>0.0</td>\n",
       "      <td>2020-03-02</td>\n",
       "      <td>1115.475255</td>\n",
       "      <td>1.0</td>\n",
       "      <td>연립다세대</td>\n",
       "      <td>SH</td>\n",
       "    </tr>\n",
       "    <tr>\n",
       "      <th>3</th>\n",
       "      <td>서울특별시 강남구 개포동 1195-10</td>\n",
       "      <td>논현로12길 3-1</td>\n",
       "      <td>동영빌</td>\n",
       "      <td>25.46</td>\n",
       "      <td>28400</td>\n",
       "      <td>2</td>\n",
       "      <td>2020.0</td>\n",
       "      <td>0.0</td>\n",
       "      <td>2020-03-02</td>\n",
       "      <td>1115.475255</td>\n",
       "      <td>1.0</td>\n",
       "      <td>연립다세대</td>\n",
       "      <td>SH</td>\n",
       "    </tr>\n",
       "    <tr>\n",
       "      <th>4</th>\n",
       "      <td>서울특별시 강남구 개포동 1195-10</td>\n",
       "      <td>논현로12길 3-1</td>\n",
       "      <td>동영빌</td>\n",
       "      <td>25.55</td>\n",
       "      <td>28500</td>\n",
       "      <td>3</td>\n",
       "      <td>2020.0</td>\n",
       "      <td>0.0</td>\n",
       "      <td>2020-03-02</td>\n",
       "      <td>1115.459883</td>\n",
       "      <td>1.0</td>\n",
       "      <td>연립다세대</td>\n",
       "      <td>SH</td>\n",
       "    </tr>\n",
       "  </tbody>\n",
       "</table>\n",
       "</div>"
      ],
      "text/plain": [
       "                    지번주소         도로명 건물(단지)명  전용면적(㎡)  거래금액(만원)  층    건축년도  \\\n",
       "0  서울특별시 강남구 개포동 1195-10  논현로12길 3-1     동영빌    25.39     28300  3  2020.0   \n",
       "1  서울특별시 강남구 개포동 1195-10  논현로12길 3-1     동영빌    25.39     28300  2  2020.0   \n",
       "2  서울특별시 강남구 개포동 1195-10  논현로12길 3-1     동영빌    25.46     28400  3  2020.0   \n",
       "3  서울특별시 강남구 개포동 1195-10  논현로12길 3-1     동영빌    25.46     28400  2  2020.0   \n",
       "4  서울특별시 강남구 개포동 1195-10  논현로12길 3-1     동영빌    25.55     28500  3  2020.0   \n",
       "\n",
       "   계약날짜기준_건물연식        계약날짜     단가(만원/㎡)  건물연식  부동산유형 소유자  \n",
       "0          0.0  2020-03-02  1114.612052   1.0  연립다세대  SH  \n",
       "1          0.0  2020-03-02  1114.612052   1.0  연립다세대  SH  \n",
       "2          0.0  2020-03-02  1115.475255   1.0  연립다세대  SH  \n",
       "3          0.0  2020-03-02  1115.475255   1.0  연립다세대  SH  \n",
       "4          0.0  2020-03-02  1115.459883   1.0  연립다세대  SH  "
      ]
     },
     "execution_count": 84,
     "metadata": {},
     "output_type": "execute_result"
    }
   ],
   "source": [
    "bulktrade_df = pd.concat([bulktrade_df, bulktrade_df2]).reset_index(drop=True)\n",
    "bulktrade_df = bulktrade_df[\n",
    "    (bulktrade_df['소유자'] == 'SH')\n",
    "    |(bulktrade_df['소유자'] == 'LH')\n",
    "]\n",
    "print(bulktrade_df.shape)\n",
    "bulktrade_df.head()"
   ]
  },
  {
   "cell_type": "code",
   "execution_count": 85,
   "metadata": {},
   "outputs": [
    {
     "data": {
      "text/plain": [
       "SH    8970\n",
       "LH    6812\n",
       "Name: 소유자, dtype: int64"
      ]
     },
     "execution_count": 85,
     "metadata": {},
     "output_type": "execute_result"
    }
   ],
   "source": [
    "bulktrade_df['소유자'].value_counts()"
   ]
  },
  {
   "cell_type": "code",
   "execution_count": 86,
   "metadata": {},
   "outputs": [],
   "source": [
    "bulktrade_df['계약날짜'] = pd.to_datetime(bulktrade_df['계약날짜'])"
   ]
  },
  {
   "cell_type": "code",
   "execution_count": 87,
   "metadata": {},
   "outputs": [],
   "source": [
    "bulktrade_df['구'] = bulktrade_df['지번주소'].apply(lambda x: x.split(' ')[1])\n",
    "bulktrade_df['동'] = bulktrade_df['지번주소'].apply(lambda x: x.split(' ')[2])"
   ]
  },
  {
   "cell_type": "code",
   "execution_count": 88,
   "metadata": {},
   "outputs": [
    {
     "data": {
      "text/html": [
       "<div>\n",
       "<style scoped>\n",
       "    .dataframe tbody tr th:only-of-type {\n",
       "        vertical-align: middle;\n",
       "    }\n",
       "\n",
       "    .dataframe tbody tr th {\n",
       "        vertical-align: top;\n",
       "    }\n",
       "\n",
       "    .dataframe thead th {\n",
       "        text-align: right;\n",
       "    }\n",
       "</style>\n",
       "<table border=\"1\" class=\"dataframe\">\n",
       "  <thead>\n",
       "    <tr style=\"text-align: right;\">\n",
       "      <th></th>\n",
       "      <th>지번주소</th>\n",
       "      <th>도로명</th>\n",
       "      <th>건물(단지)명</th>\n",
       "      <th>전용면적(㎡)</th>\n",
       "      <th>거래금액(만원)</th>\n",
       "      <th>층</th>\n",
       "      <th>건축년도</th>\n",
       "      <th>계약날짜기준_건물연식</th>\n",
       "      <th>계약날짜</th>\n",
       "      <th>단가(만원/㎡)</th>\n",
       "      <th>건물연식</th>\n",
       "      <th>부동산유형</th>\n",
       "      <th>소유자</th>\n",
       "      <th>구</th>\n",
       "      <th>동</th>\n",
       "    </tr>\n",
       "  </thead>\n",
       "  <tbody>\n",
       "    <tr>\n",
       "      <th>0</th>\n",
       "      <td>서울특별시 강남구 개포동 1195-10</td>\n",
       "      <td>논현로12길 3-1</td>\n",
       "      <td>동영빌</td>\n",
       "      <td>25.39</td>\n",
       "      <td>28300</td>\n",
       "      <td>3</td>\n",
       "      <td>2020.0</td>\n",
       "      <td>0.0</td>\n",
       "      <td>2020-03-02</td>\n",
       "      <td>1114.612052</td>\n",
       "      <td>1.0</td>\n",
       "      <td>연립다세대</td>\n",
       "      <td>SH</td>\n",
       "      <td>강남구</td>\n",
       "      <td>개포동</td>\n",
       "    </tr>\n",
       "    <tr>\n",
       "      <th>1</th>\n",
       "      <td>서울특별시 강남구 개포동 1195-10</td>\n",
       "      <td>논현로12길 3-1</td>\n",
       "      <td>동영빌</td>\n",
       "      <td>25.39</td>\n",
       "      <td>28300</td>\n",
       "      <td>2</td>\n",
       "      <td>2020.0</td>\n",
       "      <td>0.0</td>\n",
       "      <td>2020-03-02</td>\n",
       "      <td>1114.612052</td>\n",
       "      <td>1.0</td>\n",
       "      <td>연립다세대</td>\n",
       "      <td>SH</td>\n",
       "      <td>강남구</td>\n",
       "      <td>개포동</td>\n",
       "    </tr>\n",
       "    <tr>\n",
       "      <th>2</th>\n",
       "      <td>서울특별시 강남구 개포동 1195-10</td>\n",
       "      <td>논현로12길 3-1</td>\n",
       "      <td>동영빌</td>\n",
       "      <td>25.46</td>\n",
       "      <td>28400</td>\n",
       "      <td>3</td>\n",
       "      <td>2020.0</td>\n",
       "      <td>0.0</td>\n",
       "      <td>2020-03-02</td>\n",
       "      <td>1115.475255</td>\n",
       "      <td>1.0</td>\n",
       "      <td>연립다세대</td>\n",
       "      <td>SH</td>\n",
       "      <td>강남구</td>\n",
       "      <td>개포동</td>\n",
       "    </tr>\n",
       "    <tr>\n",
       "      <th>3</th>\n",
       "      <td>서울특별시 강남구 개포동 1195-10</td>\n",
       "      <td>논현로12길 3-1</td>\n",
       "      <td>동영빌</td>\n",
       "      <td>25.46</td>\n",
       "      <td>28400</td>\n",
       "      <td>2</td>\n",
       "      <td>2020.0</td>\n",
       "      <td>0.0</td>\n",
       "      <td>2020-03-02</td>\n",
       "      <td>1115.475255</td>\n",
       "      <td>1.0</td>\n",
       "      <td>연립다세대</td>\n",
       "      <td>SH</td>\n",
       "      <td>강남구</td>\n",
       "      <td>개포동</td>\n",
       "    </tr>\n",
       "    <tr>\n",
       "      <th>4</th>\n",
       "      <td>서울특별시 강남구 개포동 1195-10</td>\n",
       "      <td>논현로12길 3-1</td>\n",
       "      <td>동영빌</td>\n",
       "      <td>25.55</td>\n",
       "      <td>28500</td>\n",
       "      <td>3</td>\n",
       "      <td>2020.0</td>\n",
       "      <td>0.0</td>\n",
       "      <td>2020-03-02</td>\n",
       "      <td>1115.459883</td>\n",
       "      <td>1.0</td>\n",
       "      <td>연립다세대</td>\n",
       "      <td>SH</td>\n",
       "      <td>강남구</td>\n",
       "      <td>개포동</td>\n",
       "    </tr>\n",
       "  </tbody>\n",
       "</table>\n",
       "</div>"
      ],
      "text/plain": [
       "                    지번주소         도로명 건물(단지)명  전용면적(㎡)  거래금액(만원)  층    건축년도  \\\n",
       "0  서울특별시 강남구 개포동 1195-10  논현로12길 3-1     동영빌    25.39     28300  3  2020.0   \n",
       "1  서울특별시 강남구 개포동 1195-10  논현로12길 3-1     동영빌    25.39     28300  2  2020.0   \n",
       "2  서울특별시 강남구 개포동 1195-10  논현로12길 3-1     동영빌    25.46     28400  3  2020.0   \n",
       "3  서울특별시 강남구 개포동 1195-10  논현로12길 3-1     동영빌    25.46     28400  2  2020.0   \n",
       "4  서울특별시 강남구 개포동 1195-10  논현로12길 3-1     동영빌    25.55     28500  3  2020.0   \n",
       "\n",
       "   계약날짜기준_건물연식       계약날짜     단가(만원/㎡)  건물연식  부동산유형 소유자    구    동  \n",
       "0          0.0 2020-03-02  1114.612052   1.0  연립다세대  SH  강남구  개포동  \n",
       "1          0.0 2020-03-02  1114.612052   1.0  연립다세대  SH  강남구  개포동  \n",
       "2          0.0 2020-03-02  1115.475255   1.0  연립다세대  SH  강남구  개포동  \n",
       "3          0.0 2020-03-02  1115.475255   1.0  연립다세대  SH  강남구  개포동  \n",
       "4          0.0 2020-03-02  1115.459883   1.0  연립다세대  SH  강남구  개포동  "
      ]
     },
     "execution_count": 88,
     "metadata": {},
     "output_type": "execute_result"
    }
   ],
   "source": [
    "bulktrade_df.head()"
   ]
  },
  {
   "cell_type": "code",
   "execution_count": 99,
   "metadata": {},
   "outputs": [
    {
     "name": "stdout",
     "output_type": "stream",
     "text": [
      "(1945, 14)\n"
     ]
    },
    {
     "data": {
      "text/html": [
       "<div>\n",
       "<style scoped>\n",
       "    .dataframe tbody tr th:only-of-type {\n",
       "        vertical-align: middle;\n",
       "    }\n",
       "\n",
       "    .dataframe tbody tr th {\n",
       "        vertical-align: top;\n",
       "    }\n",
       "\n",
       "    .dataframe thead th {\n",
       "        text-align: right;\n",
       "    }\n",
       "</style>\n",
       "<table border=\"1\" class=\"dataframe\">\n",
       "  <thead>\n",
       "    <tr style=\"text-align: right;\">\n",
       "      <th></th>\n",
       "      <th>지번주소</th>\n",
       "      <th>도로명</th>\n",
       "      <th>건물(단지)명</th>\n",
       "      <th>전용면적(㎡)</th>\n",
       "      <th>거래금액(만원)</th>\n",
       "      <th>층</th>\n",
       "      <th>건축년도</th>\n",
       "      <th>계약날짜기준_건물연식</th>\n",
       "      <th>계약날짜</th>\n",
       "      <th>단가(만원/㎡)</th>\n",
       "      <th>건물연식</th>\n",
       "      <th>부동산유형</th>\n",
       "      <th>구</th>\n",
       "      <th>동</th>\n",
       "    </tr>\n",
       "  </thead>\n",
       "  <tbody>\n",
       "    <tr>\n",
       "      <th>63</th>\n",
       "      <td>서울특별시 강남구 개포동 1166-5</td>\n",
       "      <td>논현로2길 45</td>\n",
       "      <td>스타빌</td>\n",
       "      <td>29.88</td>\n",
       "      <td>33000</td>\n",
       "      <td>4</td>\n",
       "      <td>2020.0</td>\n",
       "      <td>1.0</td>\n",
       "      <td>2021-04-26</td>\n",
       "      <td>1104.417671</td>\n",
       "      <td>1.0</td>\n",
       "      <td>연립다세대</td>\n",
       "      <td>강남구</td>\n",
       "      <td>개포동</td>\n",
       "    </tr>\n",
       "    <tr>\n",
       "      <th>64</th>\n",
       "      <td>서울특별시 강남구 개포동 1166-5</td>\n",
       "      <td>논현로2길 45</td>\n",
       "      <td>스타빌</td>\n",
       "      <td>29.88</td>\n",
       "      <td>36000</td>\n",
       "      <td>4</td>\n",
       "      <td>2020.0</td>\n",
       "      <td>1.0</td>\n",
       "      <td>2021-06-04</td>\n",
       "      <td>1204.819277</td>\n",
       "      <td>1.0</td>\n",
       "      <td>연립다세대</td>\n",
       "      <td>강남구</td>\n",
       "      <td>개포동</td>\n",
       "    </tr>\n",
       "    <tr>\n",
       "      <th>3714</th>\n",
       "      <td>서울특별시 강남구 논현동 158-15</td>\n",
       "      <td>강남대로122길 61-1</td>\n",
       "      <td>NONHYEON VARAUM</td>\n",
       "      <td>29.97</td>\n",
       "      <td>85700</td>\n",
       "      <td>5</td>\n",
       "      <td>2020.0</td>\n",
       "      <td>1.0</td>\n",
       "      <td>2021-05-03</td>\n",
       "      <td>2859.526193</td>\n",
       "      <td>1.0</td>\n",
       "      <td>연립다세대</td>\n",
       "      <td>강남구</td>\n",
       "      <td>논현동</td>\n",
       "    </tr>\n",
       "    <tr>\n",
       "      <th>3718</th>\n",
       "      <td>서울특별시 강남구 논현동 158-15</td>\n",
       "      <td>강남대로122길 61-1</td>\n",
       "      <td>NONHYEON VARAUM</td>\n",
       "      <td>29.79</td>\n",
       "      <td>83700</td>\n",
       "      <td>5</td>\n",
       "      <td>2020.0</td>\n",
       "      <td>1.0</td>\n",
       "      <td>2021-06-02</td>\n",
       "      <td>2809.667674</td>\n",
       "      <td>1.0</td>\n",
       "      <td>연립다세대</td>\n",
       "      <td>강남구</td>\n",
       "      <td>논현동</td>\n",
       "    </tr>\n",
       "    <tr>\n",
       "      <th>3786</th>\n",
       "      <td>서울특별시 강남구 논현동 160-4</td>\n",
       "      <td>강남대로122길 29-6</td>\n",
       "      <td>논현퍼스티움</td>\n",
       "      <td>28.22</td>\n",
       "      <td>46300</td>\n",
       "      <td>3</td>\n",
       "      <td>2020.0</td>\n",
       "      <td>0.0</td>\n",
       "      <td>2020-08-31</td>\n",
       "      <td>1640.680369</td>\n",
       "      <td>1.0</td>\n",
       "      <td>연립다세대</td>\n",
       "      <td>강남구</td>\n",
       "      <td>논현동</td>\n",
       "    </tr>\n",
       "  </tbody>\n",
       "</table>\n",
       "</div>"
      ],
      "text/plain": [
       "                      지번주소            도로명          건물(단지)명  전용면적(㎡)  거래금액(만원)  \\\n",
       "63    서울특별시 강남구 개포동 1166-5       논현로2길 45              스타빌    29.88     33000   \n",
       "64    서울특별시 강남구 개포동 1166-5       논현로2길 45              스타빌    29.88     36000   \n",
       "3714  서울특별시 강남구 논현동 158-15  강남대로122길 61-1  NONHYEON VARAUM    29.97     85700   \n",
       "3718  서울특별시 강남구 논현동 158-15  강남대로122길 61-1  NONHYEON VARAUM    29.79     83700   \n",
       "3786   서울특별시 강남구 논현동 160-4  강남대로122길 29-6           논현퍼스티움    28.22     46300   \n",
       "\n",
       "      층    건축년도  계약날짜기준_건물연식       계약날짜     단가(만원/㎡)  건물연식  부동산유형    구    동  \n",
       "63    4  2020.0          1.0 2021-04-26  1104.417671   1.0  연립다세대  강남구  개포동  \n",
       "64    4  2020.0          1.0 2021-06-04  1204.819277   1.0  연립다세대  강남구  개포동  \n",
       "3714  5  2020.0          1.0 2021-05-03  2859.526193   1.0  연립다세대  강남구  논현동  \n",
       "3718  5  2020.0          1.0 2021-06-02  2809.667674   1.0  연립다세대  강남구  논현동  \n",
       "3786  3  2020.0          0.0 2020-08-31  1640.680369   1.0  연립다세대  강남구  논현동  "
      ]
     },
     "execution_count": 99,
     "metadata": {},
     "output_type": "execute_result"
    }
   ],
   "source": [
    "target_df = house_df[\n",
    "    (house_df['계약날짜'] >= (date_today - pd.DateOffset(months=12)))\n",
    "    &(house_df['계약날짜'] < (date_today - pd.DateOffset(months=1)))\n",
    "    &(house_df['건물연식'] <= 2)\n",
    "    &(house_df['전용면적(㎡)'] <= 32)\n",
    "    &(house_df['전용면적(㎡)'] >= 28)\n",
    "    &(house_df['지번주소'].isin(bulktrade_df['지번주소'].unique()) == False)\n",
    "]\n",
    "print(target_df.shape)\n",
    "target_df.head()"
   ]
  },
  {
   "cell_type": "code",
   "execution_count": 100,
   "metadata": {},
   "outputs": [
    {
     "name": "stdout",
     "output_type": "stream",
     "text": [
      "(1314, 15)\n"
     ]
    },
    {
     "data": {
      "text/html": [
       "<div>\n",
       "<style scoped>\n",
       "    .dataframe tbody tr th:only-of-type {\n",
       "        vertical-align: middle;\n",
       "    }\n",
       "\n",
       "    .dataframe tbody tr th {\n",
       "        vertical-align: top;\n",
       "    }\n",
       "\n",
       "    .dataframe thead th {\n",
       "        text-align: right;\n",
       "    }\n",
       "</style>\n",
       "<table border=\"1\" class=\"dataframe\">\n",
       "  <thead>\n",
       "    <tr style=\"text-align: right;\">\n",
       "      <th></th>\n",
       "      <th>지번주소</th>\n",
       "      <th>도로명</th>\n",
       "      <th>건물(단지)명</th>\n",
       "      <th>전용면적(㎡)</th>\n",
       "      <th>거래금액(만원)</th>\n",
       "      <th>층</th>\n",
       "      <th>건축년도</th>\n",
       "      <th>계약날짜기준_건물연식</th>\n",
       "      <th>계약날짜</th>\n",
       "      <th>단가(만원/㎡)</th>\n",
       "      <th>건물연식</th>\n",
       "      <th>부동산유형</th>\n",
       "      <th>소유자</th>\n",
       "      <th>구</th>\n",
       "      <th>동</th>\n",
       "    </tr>\n",
       "  </thead>\n",
       "  <tbody>\n",
       "    <tr>\n",
       "      <th>44</th>\n",
       "      <td>서울특별시 강남구 개포동 1237-7</td>\n",
       "      <td>논현로20길 20</td>\n",
       "      <td>한별2</td>\n",
       "      <td>29.08</td>\n",
       "      <td>32909</td>\n",
       "      <td>2</td>\n",
       "      <td>2021.0</td>\n",
       "      <td>0.0</td>\n",
       "      <td>2021-06-01</td>\n",
       "      <td>1131.671252</td>\n",
       "      <td>0.0</td>\n",
       "      <td>오피스텔</td>\n",
       "      <td>SH</td>\n",
       "      <td>강남구</td>\n",
       "      <td>개포동</td>\n",
       "    </tr>\n",
       "    <tr>\n",
       "      <th>45</th>\n",
       "      <td>서울특별시 강남구 개포동 1237-7</td>\n",
       "      <td>논현로20길 20</td>\n",
       "      <td>한별2</td>\n",
       "      <td>29.86</td>\n",
       "      <td>33784</td>\n",
       "      <td>2</td>\n",
       "      <td>2021.0</td>\n",
       "      <td>0.0</td>\n",
       "      <td>2021-06-01</td>\n",
       "      <td>1131.413262</td>\n",
       "      <td>0.0</td>\n",
       "      <td>오피스텔</td>\n",
       "      <td>SH</td>\n",
       "      <td>강남구</td>\n",
       "      <td>개포동</td>\n",
       "    </tr>\n",
       "    <tr>\n",
       "      <th>46</th>\n",
       "      <td>서울특별시 강남구 개포동 1237-7</td>\n",
       "      <td>논현로20길 20</td>\n",
       "      <td>한별2</td>\n",
       "      <td>29.86</td>\n",
       "      <td>33784</td>\n",
       "      <td>2</td>\n",
       "      <td>2021.0</td>\n",
       "      <td>0.0</td>\n",
       "      <td>2021-06-01</td>\n",
       "      <td>1131.413262</td>\n",
       "      <td>0.0</td>\n",
       "      <td>오피스텔</td>\n",
       "      <td>SH</td>\n",
       "      <td>강남구</td>\n",
       "      <td>개포동</td>\n",
       "    </tr>\n",
       "    <tr>\n",
       "      <th>47</th>\n",
       "      <td>서울특별시 강남구 개포동 1237-7</td>\n",
       "      <td>논현로20길 20</td>\n",
       "      <td>한별2</td>\n",
       "      <td>29.86</td>\n",
       "      <td>33784</td>\n",
       "      <td>2</td>\n",
       "      <td>2021.0</td>\n",
       "      <td>0.0</td>\n",
       "      <td>2021-06-01</td>\n",
       "      <td>1131.413262</td>\n",
       "      <td>0.0</td>\n",
       "      <td>오피스텔</td>\n",
       "      <td>SH</td>\n",
       "      <td>강남구</td>\n",
       "      <td>개포동</td>\n",
       "    </tr>\n",
       "    <tr>\n",
       "      <th>48</th>\n",
       "      <td>서울특별시 강남구 개포동 1237-7</td>\n",
       "      <td>논현로20길 20</td>\n",
       "      <td>한별2</td>\n",
       "      <td>29.90</td>\n",
       "      <td>38100</td>\n",
       "      <td>4</td>\n",
       "      <td>2021.0</td>\n",
       "      <td>0.0</td>\n",
       "      <td>2021-06-01</td>\n",
       "      <td>1274.247492</td>\n",
       "      <td>0.0</td>\n",
       "      <td>연립다세대</td>\n",
       "      <td>SH</td>\n",
       "      <td>강남구</td>\n",
       "      <td>개포동</td>\n",
       "    </tr>\n",
       "  </tbody>\n",
       "</table>\n",
       "</div>"
      ],
      "text/plain": [
       "                    지번주소        도로명 건물(단지)명  전용면적(㎡)  거래금액(만원)  층    건축년도  \\\n",
       "44  서울특별시 강남구 개포동 1237-7  논현로20길 20     한별2    29.08     32909  2  2021.0   \n",
       "45  서울특별시 강남구 개포동 1237-7  논현로20길 20     한별2    29.86     33784  2  2021.0   \n",
       "46  서울특별시 강남구 개포동 1237-7  논현로20길 20     한별2    29.86     33784  2  2021.0   \n",
       "47  서울특별시 강남구 개포동 1237-7  논현로20길 20     한별2    29.86     33784  2  2021.0   \n",
       "48  서울특별시 강남구 개포동 1237-7  논현로20길 20     한별2    29.90     38100  4  2021.0   \n",
       "\n",
       "    계약날짜기준_건물연식       계약날짜     단가(만원/㎡)  건물연식  부동산유형 소유자    구    동  \n",
       "44          0.0 2021-06-01  1131.671252   0.0   오피스텔  SH  강남구  개포동  \n",
       "45          0.0 2021-06-01  1131.413262   0.0   오피스텔  SH  강남구  개포동  \n",
       "46          0.0 2021-06-01  1131.413262   0.0   오피스텔  SH  강남구  개포동  \n",
       "47          0.0 2021-06-01  1131.413262   0.0   오피스텔  SH  강남구  개포동  \n",
       "48          0.0 2021-06-01  1274.247492   0.0  연립다세대  SH  강남구  개포동  "
      ]
     },
     "execution_count": 100,
     "metadata": {},
     "output_type": "execute_result"
    }
   ],
   "source": [
    "bulktrade_target_df = bulktrade_df[\n",
    "    (bulktrade_df['계약날짜'] >= (date_today - pd.DateOffset(months=12)))\n",
    "    &(bulktrade_df['계약날짜'] < (date_today - pd.DateOffset(months=1)))\n",
    "    &(bulktrade_df['건물연식'] <= 2)\n",
    "    &(bulktrade_df['전용면적(㎡)'] <= 32)\n",
    "    &(bulktrade_df['전용면적(㎡)'] >= 28)\n",
    "    #&(house_df['지번주소'].isin(bulktrade_df['지번주소'].unique()) == False)\n",
    "]\n",
    "print(bulktrade_target_df.shape)\n",
    "bulktrade_target_df.head()"
   ]
  },
  {
   "cell_type": "code",
   "execution_count": 101,
   "metadata": {},
   "outputs": [
    {
     "data": {
      "text/plain": [
       "array(['강남구', '강동구', '강북구', '강서구', '관악구', '광진구', '구로구', '금천구', '노원구',\n",
       "       '도봉구', '동대문구', '동작구', '마포구', '서대문구', '서초구', '성동구', '성북구', '송파구',\n",
       "       '양천구', '영등포구', '용산구', '은평구', '종로구', '중구', '중랑구'], dtype=object)"
      ]
     },
     "execution_count": 101,
     "metadata": {},
     "output_type": "execute_result"
    }
   ],
   "source": [
    "target_df['구'].unique()"
   ]
  },
  {
   "cell_type": "code",
   "execution_count": 102,
   "metadata": {},
   "outputs": [
    {
     "data": {
      "text/plain": [
       "25"
      ]
     },
     "execution_count": 102,
     "metadata": {},
     "output_type": "execute_result"
    }
   ],
   "source": [
    "target_df['구'].nunique()"
   ]
  },
  {
   "cell_type": "code",
   "execution_count": 103,
   "metadata": {},
   "outputs": [
    {
     "data": {
      "text/plain": [
       "array(['강남구', '강동구', '강북구', '강서구', '관악구', '광진구', '구로구', '금천구', '노원구',\n",
       "       '도봉구', '동대문구', '동작구', '마포구', '서대문구', '서초구', '성동구', '성북구', '송파구',\n",
       "       '양천구', '영등포구', '용산구', '은평구', '종로구', '중구', '중랑구'], dtype=object)"
      ]
     },
     "execution_count": 103,
     "metadata": {},
     "output_type": "execute_result"
    }
   ],
   "source": [
    "house_df['구'].unique()"
   ]
  },
  {
   "cell_type": "code",
   "execution_count": 104,
   "metadata": {},
   "outputs": [
    {
     "data": {
      "text/plain": [
       "25"
      ]
     },
     "execution_count": 104,
     "metadata": {},
     "output_type": "execute_result"
    }
   ],
   "source": [
    "house_df['구'].nunique()"
   ]
  },
  {
   "cell_type": "code",
   "execution_count": 105,
   "metadata": {},
   "outputs": [
    {
     "name": "stdout",
     "output_type": "stream",
     "text": [
      "(0, 14)\n"
     ]
    }
   ],
   "source": [
    "isin_df = target_df[target_df['지번주소'].isin(bulktrade_df['지번주소'].unique())]\n",
    "print(isin_df.shape)"
   ]
  },
  {
   "cell_type": "code",
   "execution_count": 111,
   "metadata": {},
   "outputs": [],
   "source": [
    "target_df = pd.concat([target_df, bulktrade_target_df]).reset_index(drop=True)"
   ]
  },
  {
   "cell_type": "code",
   "execution_count": 64,
   "metadata": {},
   "outputs": [],
   "source": [
    "target_df.loc[isin_df.index, '단가(만원/㎡)'] = target_df.loc[isin_df.index, '단가(만원/㎡)'] / 0.9"
   ]
  },
  {
   "cell_type": "code",
   "execution_count": 112,
   "metadata": {},
   "outputs": [],
   "source": [
    "target_df['구별_25분위'] = np.nan\n",
    "target_df['구별_50분위'] = np.nan\n",
    "target_df['구별_75분위'] = np.nan\n",
    "target_df['구별_30분위'] = np.nan\n",
    "target_df['구별_35분위'] = np.nan\n",
    "target_df['구별_40분위'] = np.nan"
   ]
  },
  {
   "cell_type": "code",
   "execution_count": 108,
   "metadata": {},
   "outputs": [],
   "source": [
    "bulktrade_target_df['단가(만원/㎡)'] = bulktrade_target_df['단가(만원/㎡)'] / 0.9"
   ]
  },
  {
   "cell_type": "code",
   "execution_count": 113,
   "metadata": {},
   "outputs": [
    {
     "name": "stdout",
     "output_type": "stream",
     "text": [
      "강남구\n",
      "(106, 21)\n",
      "count     106.000000\n",
      "mean     1851.110761\n",
      "std       368.288351\n",
      "min      1104.417671\n",
      "25%      1552.737611\n",
      "50%      1919.632863\n",
      "75%      2055.505936\n",
      "max      2859.526193\n",
      "Name: 단가(만원/㎡), dtype: float64\n",
      "(61, 15)\n",
      "count      61.000000\n",
      "mean     1708.836464\n",
      "std       284.250964\n",
      "min      1257.125847\n",
      "25%      1415.830546\n",
      "50%      1568.998812\n",
      "75%      1998.633413\n",
      "max      2124.462703\n",
      "Name: 단가(만원/㎡), dtype: float64\n"
     ]
    },
    {
     "name": "stderr",
     "output_type": "stream",
     "text": [
      "c:\\users\\max6296\\ml\\lib\\site-packages\\seaborn\\distributions.py:2557: FutureWarning: `distplot` is a deprecated function and will be removed in a future version. Please adapt your code to use either `displot` (a figure-level function with similar flexibility) or `histplot` (an axes-level function for histograms).\n",
      "  warnings.warn(msg, FutureWarning)\n",
      "c:\\users\\max6296\\ml\\lib\\site-packages\\seaborn\\distributions.py:2557: FutureWarning: `distplot` is a deprecated function and will be removed in a future version. Please adapt your code to use either `displot` (a figure-level function with similar flexibility) or `histplot` (an axes-level function for histograms).\n",
      "  warnings.warn(msg, FutureWarning)\n"
     ]
    },
    {
     "data": {
      "image/png": "[encoded data removed]",
      "text/plain": [
       "<Figure size 432x288 with 1 Axes>"
      ]
     },
     "metadata": {
      "needs_background": "light"
     },
     "output_type": "display_data"
    },
    {
     "name": "stdout",
     "output_type": "stream",
     "text": [
      "강동구\n",
      "(163, 21)\n",
      "count     163.000000\n",
      "mean     1072.553665\n",
      "std       191.624217\n",
      "min       603.174603\n",
      "25%       970.000000\n",
      "50%      1043.636229\n",
      "75%      1104.579683\n",
      "max      2089.235127\n",
      "Name: 단가(만원/㎡), dtype: float64\n",
      "(92, 15)\n",
      "count      92.000000\n",
      "mean     1026.178539\n",
      "std        66.629344\n",
      "min       850.165468\n",
      "25%       999.839286\n",
      "50%      1043.000142\n",
      "75%      1074.129305\n",
      "max      1111.501112\n",
      "Name: 단가(만원/㎡), dtype: float64\n"
     ]
    },
    {
     "name": "stderr",
     "output_type": "stream",
     "text": [
      "c:\\users\\max6296\\ml\\lib\\site-packages\\seaborn\\distributions.py:2557: FutureWarning: `distplot` is a deprecated function and will be removed in a future version. Please adapt your code to use either `displot` (a figure-level function with similar flexibility) or `histplot` (an axes-level function for histograms).\n",
      "  warnings.warn(msg, FutureWarning)\n",
      "c:\\users\\max6296\\ml\\lib\\site-packages\\seaborn\\distributions.py:2557: FutureWarning: `distplot` is a deprecated function and will be removed in a future version. Please adapt your code to use either `displot` (a figure-level function with similar flexibility) or `histplot` (an axes-level function for histograms).\n",
      "  warnings.warn(msg, FutureWarning)\n"
     ]
    },
    {
     "data": {
      "image/png": "[encoded data removed]",
      "text/plain": [
       "<Figure size 432x288 with 1 Axes>"
      ]
     },
     "metadata": {
      "needs_background": "light"
     },
     "output_type": "display_data"
    },
    {
     "name": "stdout",
     "output_type": "stream",
     "text": [
      "강북구\n",
      "(39, 21)\n",
      "count      39.000000\n",
      "mean      783.345543\n",
      "std       111.728047\n",
      "min       589.915966\n",
      "25%       737.478592\n",
      "50%       784.117451\n",
      "75%       809.574094\n",
      "max      1019.714480\n",
      "Name: 단가(만원/㎡), dtype: float64\n",
      "(7, 15)\n",
      "count      7.000000\n",
      "mean     742.814537\n",
      "std       13.428143\n",
      "min      716.902699\n",
      "25%      737.478592\n",
      "50%      750.170086\n",
      "75%      751.960468\n",
      "max      753.750850\n",
      "Name: 단가(만원/㎡), dtype: float64\n"
     ]
    },
    {
     "name": "stderr",
     "output_type": "stream",
     "text": [
      "c:\\users\\max6296\\ml\\lib\\site-packages\\seaborn\\distributions.py:2557: FutureWarning: `distplot` is a deprecated function and will be removed in a future version. Please adapt your code to use either `displot` (a figure-level function with similar flexibility) or `histplot` (an axes-level function for histograms).\n",
      "  warnings.warn(msg, FutureWarning)\n",
      "c:\\users\\max6296\\ml\\lib\\site-packages\\seaborn\\distributions.py:2557: FutureWarning: `distplot` is a deprecated function and will be removed in a future version. Please adapt your code to use either `displot` (a figure-level function with similar flexibility) or `histplot` (an axes-level function for histograms).\n",
      "  warnings.warn(msg, FutureWarning)\n"
     ]
    },
    {
     "data": {
      "image/png": "[encoded data removed]",
      "text/plain": [
       "<Figure size 432x288 with 1 Axes>"
      ]
     },
     "metadata": {
      "needs_background": "light"
     },
     "output_type": "display_data"
    },
    {
     "name": "stderr",
     "output_type": "stream",
     "text": [
      "c:\\users\\max6296\\ml\\lib\\site-packages\\seaborn\\distributions.py:2557: FutureWarning: `distplot` is a deprecated function and will be removed in a future version. Please adapt your code to use either `displot` (a figure-level function with similar flexibility) or `histplot` (an axes-level function for histograms).\n",
      "  warnings.warn(msg, FutureWarning)\n",
      "c:\\users\\max6296\\ml\\lib\\site-packages\\seaborn\\distributions.py:2557: FutureWarning: `distplot` is a deprecated function and will be removed in a future version. Please adapt your code to use either `displot` (a figure-level function with similar flexibility) or `histplot` (an axes-level function for histograms).\n",
      "  warnings.warn(msg, FutureWarning)\n"
     ]
    },
    {
     "name": "stdout",
     "output_type": "stream",
     "text": [
      "강서구\n",
      "(467, 21)\n",
      "count     467.000000\n",
      "mean      945.734253\n",
      "std       102.336553\n",
      "min       577.039275\n",
      "25%       883.471776\n",
      "50%       933.955971\n",
      "75%       990.063875\n",
      "max      1335.113485\n",
      "Name: 단가(만원/㎡), dtype: float64\n",
      "(20, 15)\n",
      "count     20.000000\n",
      "mean     944.216526\n",
      "std       33.478673\n",
      "min      896.425717\n",
      "25%      909.693705\n",
      "50%      966.433192\n",
      "75%      966.995221\n",
      "max      978.195938\n",
      "Name: 단가(만원/㎡), dtype: float64\n"
     ]
    },
    {
     "data": {
      "image/png": "[encoded data removed]",
      "text/plain": [
       "<Figure size 432x288 with 1 Axes>"
      ]
     },
     "metadata": {
      "needs_background": "light"
     },
     "output_type": "display_data"
    },
    {
     "name": "stdout",
     "output_type": "stream",
     "text": [
      "관악구\n",
      "(108, 21)\n",
      "count     108.000000\n",
      "mean     1048.748380\n",
      "std       181.621573\n",
      "min       721.729334\n",
      "25%       915.529906\n",
      "50%      1044.328476\n",
      "75%      1185.461957\n",
      "max      1567.711808\n",
      "Name: 단가(만원/㎡), dtype: float64\n",
      "(15, 15)\n",
      "count     15.000000\n",
      "mean     782.853726\n",
      "std       22.355176\n",
      "min      721.729334\n",
      "25%      772.200772\n",
      "50%      786.338482\n",
      "75%      798.137679\n",
      "max      811.183139\n",
      "Name: 단가(만원/㎡), dtype: float64\n"
     ]
    },
    {
     "name": "stderr",
     "output_type": "stream",
     "text": [
      "c:\\users\\max6296\\ml\\lib\\site-packages\\seaborn\\distributions.py:2557: FutureWarning: `distplot` is a deprecated function and will be removed in a future version. Please adapt your code to use either `displot` (a figure-level function with similar flexibility) or `histplot` (an axes-level function for histograms).\n",
      "  warnings.warn(msg, FutureWarning)\n",
      "c:\\users\\max6296\\ml\\lib\\site-packages\\seaborn\\distributions.py:2557: FutureWarning: `distplot` is a deprecated function and will be removed in a future version. Please adapt your code to use either `displot` (a figure-level function with similar flexibility) or `histplot` (an axes-level function for histograms).\n",
      "  warnings.warn(msg, FutureWarning)\n"
     ]
    },
    {
     "data": {
      "image/png": "[encoded data removed]",
      "text/plain": [
       "<Figure size 432x288 with 1 Axes>"
      ]
     },
     "metadata": {
      "needs_background": "light"
     },
     "output_type": "display_data"
    },
    {
     "name": "stdout",
     "output_type": "stream",
     "text": [
      "광진구\n",
      "(149, 21)\n",
      "count     149.000000\n",
      "mean     1154.021863\n",
      "std       301.637669\n",
      "min       610.181311\n",
      "25%       979.583824\n",
      "50%      1053.001053\n",
      "75%      1218.697830\n",
      "max      2099.370189\n",
      "Name: 단가(만원/㎡), dtype: float64\n",
      "(66, 15)\n",
      "count      66.000000\n",
      "mean      977.251060\n",
      "std        59.844437\n",
      "min       845.797721\n",
      "25%       975.233690\n",
      "50%       981.285351\n",
      "75%      1002.876173\n",
      "max      1116.685830\n",
      "Name: 단가(만원/㎡), dtype: float64\n"
     ]
    },
    {
     "name": "stderr",
     "output_type": "stream",
     "text": [
      "c:\\users\\max6296\\ml\\lib\\site-packages\\seaborn\\distributions.py:2557: FutureWarning: `distplot` is a deprecated function and will be removed in a future version. Please adapt your code to use either `displot` (a figure-level function with similar flexibility) or `histplot` (an axes-level function for histograms).\n",
      "  warnings.warn(msg, FutureWarning)\n",
      "c:\\users\\max6296\\ml\\lib\\site-packages\\seaborn\\distributions.py:2557: FutureWarning: `distplot` is a deprecated function and will be removed in a future version. Please adapt your code to use either `displot` (a figure-level function with similar flexibility) or `histplot` (an axes-level function for histograms).\n",
      "  warnings.warn(msg, FutureWarning)\n"
     ]
    },
    {
     "data": {
      "image/png": "[encoded data removed]",
      "text/plain": [
       "<Figure size 432x288 with 1 Axes>"
      ]
     },
     "metadata": {
      "needs_background": "light"
     },
     "output_type": "display_data"
    },
    {
     "name": "stdout",
     "output_type": "stream",
     "text": [
      "구로구\n",
      "(115, 21)\n",
      "count     115.000000\n",
      "mean      871.459666\n",
      "std       132.648033\n",
      "min       457.429048\n",
      "25%       786.098668\n",
      "50%       847.287341\n",
      "75%       963.210702\n",
      "max      1342.113515\n",
      "Name: 단가(만원/㎡), dtype: float64\n",
      "(34, 15)\n",
      "count     34.000000\n",
      "mean     740.985460\n",
      "std       47.628935\n",
      "min      650.297119\n",
      "25%      715.490416\n",
      "50%      743.518519\n",
      "75%      787.051842\n",
      "max      813.144908\n",
      "Name: 단가(만원/㎡), dtype: float64\n"
     ]
    },
    {
     "name": "stderr",
     "output_type": "stream",
     "text": [
      "c:\\users\\max6296\\ml\\lib\\site-packages\\seaborn\\distributions.py:2557: FutureWarning: `distplot` is a deprecated function and will be removed in a future version. Please adapt your code to use either `displot` (a figure-level function with similar flexibility) or `histplot` (an axes-level function for histograms).\n",
      "  warnings.warn(msg, FutureWarning)\n",
      "c:\\users\\max6296\\ml\\lib\\site-packages\\seaborn\\distributions.py:2557: FutureWarning: `distplot` is a deprecated function and will be removed in a future version. Please adapt your code to use either `displot` (a figure-level function with similar flexibility) or `histplot` (an axes-level function for histograms).\n",
      "  warnings.warn(msg, FutureWarning)\n"
     ]
    },
    {
     "data": {
      "image/png": "[encoded data removed]",
      "text/plain": [
       "<Figure size 432x288 with 1 Axes>"
      ]
     },
     "metadata": {
      "needs_background": "light"
     },
     "output_type": "display_data"
    },
    {
     "name": "stdout",
     "output_type": "stream",
     "text": [
      "금천구\n",
      "(479, 21)\n",
      "count     479.000000\n",
      "mean      877.317070\n",
      "std        87.746930\n",
      "min       642.394476\n",
      "25%       842.465365\n",
      "50%       903.290799\n",
      "75%       922.052347\n",
      "max      1224.347826\n",
      "Name: 단가(만원/㎡), dtype: float64\n",
      "(325, 15)\n",
      "count    325.000000\n",
      "mean     883.316676\n",
      "std       69.596699\n",
      "min      642.394476\n",
      "25%      889.337974\n",
      "50%      911.710072\n",
      "75%      922.831254\n",
      "max      960.381897\n",
      "Name: 단가(만원/㎡), dtype: float64\n"
     ]
    },
    {
     "name": "stderr",
     "output_type": "stream",
     "text": [
      "c:\\users\\max6296\\ml\\lib\\site-packages\\seaborn\\distributions.py:2557: FutureWarning: `distplot` is a deprecated function and will be removed in a future version. Please adapt your code to use either `displot` (a figure-level function with similar flexibility) or `histplot` (an axes-level function for histograms).\n",
      "  warnings.warn(msg, FutureWarning)\n",
      "c:\\users\\max6296\\ml\\lib\\site-packages\\seaborn\\distributions.py:2557: FutureWarning: `distplot` is a deprecated function and will be removed in a future version. Please adapt your code to use either `displot` (a figure-level function with similar flexibility) or `histplot` (an axes-level function for histograms).\n",
      "  warnings.warn(msg, FutureWarning)\n"
     ]
    },
    {
     "data": {
      "image/png": "[encoded data removed]",
      "text/plain": [
       "<Figure size 432x288 with 1 Axes>"
      ]
     },
     "metadata": {
      "needs_background": "light"
     },
     "output_type": "display_data"
    },
    {
     "name": "stdout",
     "output_type": "stream",
     "text": [
      "노원구\n",
      "(31, 21)\n",
      "count     31.000000\n",
      "mean     762.701956\n",
      "std       59.614279\n",
      "min      642.785403\n",
      "25%      751.827527\n",
      "50%      767.341928\n",
      "75%      799.816942\n",
      "max      888.963435\n",
      "Name: 단가(만원/㎡), dtype: float64\n",
      "(21, 15)\n",
      "count     21.000000\n",
      "mean     766.006823\n",
      "std       45.159835\n",
      "min      651.748458\n",
      "25%      755.640698\n",
      "50%      766.470972\n",
      "75%      792.049615\n",
      "max      829.945799\n",
      "Name: 단가(만원/㎡), dtype: float64\n"
     ]
    },
    {
     "name": "stderr",
     "output_type": "stream",
     "text": [
      "c:\\users\\max6296\\ml\\lib\\site-packages\\seaborn\\distributions.py:2557: FutureWarning: `distplot` is a deprecated function and will be removed in a future version. Please adapt your code to use either `displot` (a figure-level function with similar flexibility) or `histplot` (an axes-level function for histograms).\n",
      "  warnings.warn(msg, FutureWarning)\n",
      "c:\\users\\max6296\\ml\\lib\\site-packages\\seaborn\\distributions.py:2557: FutureWarning: `distplot` is a deprecated function and will be removed in a future version. Please adapt your code to use either `displot` (a figure-level function with similar flexibility) or `histplot` (an axes-level function for histograms).\n",
      "  warnings.warn(msg, FutureWarning)\n"
     ]
    },
    {
     "data": {
      "image/png": "[encoded data removed]",
      "text/plain": [
       "<Figure size 432x288 with 1 Axes>"
      ]
     },
     "metadata": {
      "needs_background": "light"
     },
     "output_type": "display_data"
    },
    {
     "name": "stdout",
     "output_type": "stream",
     "text": [
      "도봉구\n",
      "(48, 21)\n",
      "count     48.000000\n",
      "mean     743.559992\n",
      "std       87.489707\n",
      "min      587.051325\n",
      "25%      700.964288\n",
      "50%      737.125547\n",
      "75%      796.019900\n",
      "max      940.627085\n",
      "Name: 단가(만원/㎡), dtype: float64\n",
      "(10, 15)\n",
      "count     10.000000\n",
      "mean     749.130214\n",
      "std       53.580658\n",
      "min      653.021442\n",
      "25%      730.921701\n",
      "50%      769.287806\n",
      "75%      771.141512\n",
      "max      826.277481\n",
      "Name: 단가(만원/㎡), dtype: float64\n"
     ]
    },
    {
     "name": "stderr",
     "output_type": "stream",
     "text": [
      "c:\\users\\max6296\\ml\\lib\\site-packages\\seaborn\\distributions.py:2557: FutureWarning: `distplot` is a deprecated function and will be removed in a future version. Please adapt your code to use either `displot` (a figure-level function with similar flexibility) or `histplot` (an axes-level function for histograms).\n",
      "  warnings.warn(msg, FutureWarning)\n",
      "c:\\users\\max6296\\ml\\lib\\site-packages\\seaborn\\distributions.py:2557: FutureWarning: `distplot` is a deprecated function and will be removed in a future version. Please adapt your code to use either `displot` (a figure-level function with similar flexibility) or `histplot` (an axes-level function for histograms).\n",
      "  warnings.warn(msg, FutureWarning)\n"
     ]
    },
    {
     "data": {
      "image/png": "[encoded data removed]",
      "text/plain": [
       "<Figure size 432x288 with 1 Axes>"
      ]
     },
     "metadata": {
      "needs_background": "light"
     },
     "output_type": "display_data"
    },
    {
     "name": "stdout",
     "output_type": "stream",
     "text": [
      "동대문구\n",
      "(34, 21)\n",
      "count      34.000000\n",
      "mean     1088.319255\n",
      "std       249.816510\n",
      "min       826.989619\n",
      "25%       875.879321\n",
      "50%       997.787150\n",
      "75%      1208.689704\n",
      "max      1769.309289\n",
      "Name: 단가(만원/㎡), dtype: float64\n",
      "(5, 15)\n",
      "count       5.000000\n",
      "mean      938.414879\n",
      "std        83.901770\n",
      "min       871.388798\n",
      "25%       871.388798\n",
      "50%       889.350889\n",
      "75%      1029.972954\n",
      "max      1029.972954\n",
      "Name: 단가(만원/㎡), dtype: float64\n"
     ]
    },
    {
     "name": "stderr",
     "output_type": "stream",
     "text": [
      "c:\\users\\max6296\\ml\\lib\\site-packages\\seaborn\\distributions.py:2557: FutureWarning: `distplot` is a deprecated function and will be removed in a future version. Please adapt your code to use either `displot` (a figure-level function with similar flexibility) or `histplot` (an axes-level function for histograms).\n",
      "  warnings.warn(msg, FutureWarning)\n",
      "c:\\users\\max6296\\ml\\lib\\site-packages\\seaborn\\distributions.py:2557: FutureWarning: `distplot` is a deprecated function and will be removed in a future version. Please adapt your code to use either `displot` (a figure-level function with similar flexibility) or `histplot` (an axes-level function for histograms).\n",
      "  warnings.warn(msg, FutureWarning)\n"
     ]
    },
    {
     "data": {
      "image/png": "[encoded data removed]",
      "text/plain": [
       "<Figure size 432x288 with 1 Axes>"
      ]
     },
     "metadata": {
      "needs_background": "light"
     },
     "output_type": "display_data"
    },
    {
     "name": "stdout",
     "output_type": "stream",
     "text": [
      "동작구\n",
      "(113, 21)\n",
      "count     113.000000\n",
      "mean     1062.248190\n",
      "std       117.798640\n",
      "min       780.454700\n",
      "25%       970.260650\n",
      "50%      1067.391390\n",
      "75%      1134.846462\n",
      "max      1317.567568\n",
      "Name: 단가(만원/㎡), dtype: float64\n",
      "(59, 15)\n",
      "count      59.000000\n",
      "mean     1090.131214\n",
      "std        84.315025\n",
      "min       910.904000\n",
      "25%      1018.038573\n",
      "50%      1099.290780\n",
      "75%      1134.846462\n",
      "max      1256.946776\n",
      "Name: 단가(만원/㎡), dtype: float64\n"
     ]
    },
    {
     "name": "stderr",
     "output_type": "stream",
     "text": [
      "c:\\users\\max6296\\ml\\lib\\site-packages\\seaborn\\distributions.py:2557: FutureWarning: `distplot` is a deprecated function and will be removed in a future version. Please adapt your code to use either `displot` (a figure-level function with similar flexibility) or `histplot` (an axes-level function for histograms).\n",
      "  warnings.warn(msg, FutureWarning)\n",
      "c:\\users\\max6296\\ml\\lib\\site-packages\\seaborn\\distributions.py:2557: FutureWarning: `distplot` is a deprecated function and will be removed in a future version. Please adapt your code to use either `displot` (a figure-level function with similar flexibility) or `histplot` (an axes-level function for histograms).\n",
      "  warnings.warn(msg, FutureWarning)\n"
     ]
    },
    {
     "data": {
      "image/png": "[encoded data removed]",
      "text/plain": [
       "<Figure size 432x288 with 1 Axes>"
      ]
     },
     "metadata": {
      "needs_background": "light"
     },
     "output_type": "display_data"
    },
    {
     "name": "stderr",
     "output_type": "stream",
     "text": [
      "c:\\users\\max6296\\ml\\lib\\site-packages\\seaborn\\distributions.py:2557: FutureWarning: `distplot` is a deprecated function and will be removed in a future version. Please adapt your code to use either `displot` (a figure-level function with similar flexibility) or `histplot` (an axes-level function for histograms).\n",
      "  warnings.warn(msg, FutureWarning)\n"
     ]
    },
    {
     "name": "stdout",
     "output_type": "stream",
     "text": [
      "마포구\n",
      "(137, 21)\n",
      "count     137.000000\n",
      "mean     1392.696869\n",
      "std       245.022338\n",
      "min       833.622786\n",
      "25%      1236.643503\n",
      "50%      1387.478849\n",
      "75%      1529.735304\n",
      "max      2607.823470\n",
      "Name: 단가(만원/㎡), dtype: float64\n",
      "(38, 15)\n",
      "count      38.000000\n",
      "mean     1435.483167\n",
      "std       137.488657\n",
      "min      1220.182046\n",
      "25%      1243.722536\n",
      "50%      1529.735304\n",
      "75%      1531.724553\n",
      "max      1546.759886\n",
      "Name: 단가(만원/㎡), dtype: float64\n"
     ]
    },
    {
     "name": "stderr",
     "output_type": "stream",
     "text": [
      "c:\\users\\max6296\\ml\\lib\\site-packages\\seaborn\\distributions.py:2557: FutureWarning: `distplot` is a deprecated function and will be removed in a future version. Please adapt your code to use either `displot` (a figure-level function with similar flexibility) or `histplot` (an axes-level function for histograms).\n",
      "  warnings.warn(msg, FutureWarning)\n"
     ]
    },
    {
     "data": {
      "image/png": "[encoded data removed]",
      "text/plain": [
       "<Figure size 432x288 with 1 Axes>"
      ]
     },
     "metadata": {
      "needs_background": "light"
     },
     "output_type": "display_data"
    },
    {
     "name": "stdout",
     "output_type": "stream",
     "text": [
      "서대문구\n",
      "(39, 21)\n",
      "count      39.000000\n",
      "mean      799.971056\n",
      "std       113.540525\n",
      "min       668.002672\n",
      "25%       735.142932\n",
      "50%       750.155900\n",
      "75%       864.568232\n",
      "max      1154.102735\n",
      "Name: 단가(만원/㎡), dtype: float64\n",
      "(12, 15)\n",
      "count     12.000000\n",
      "mean     750.545278\n",
      "std        8.421924\n",
      "min      735.482924\n",
      "25%      749.250749\n",
      "50%      750.077950\n",
      "75%      751.268937\n",
      "max      772.578088\n",
      "Name: 단가(만원/㎡), dtype: float64\n"
     ]
    },
    {
     "name": "stderr",
     "output_type": "stream",
     "text": [
      "c:\\users\\max6296\\ml\\lib\\site-packages\\seaborn\\distributions.py:2557: FutureWarning: `distplot` is a deprecated function and will be removed in a future version. Please adapt your code to use either `displot` (a figure-level function with similar flexibility) or `histplot` (an axes-level function for histograms).\n",
      "  warnings.warn(msg, FutureWarning)\n",
      "c:\\users\\max6296\\ml\\lib\\site-packages\\seaborn\\distributions.py:2557: FutureWarning: `distplot` is a deprecated function and will be removed in a future version. Please adapt your code to use either `displot` (a figure-level function with similar flexibility) or `histplot` (an axes-level function for histograms).\n",
      "  warnings.warn(msg, FutureWarning)\n"
     ]
    },
    {
     "data": {
      "image/png": "[encoded data removed]",
      "text/plain": [
       "<Figure size 432x288 with 1 Axes>"
      ]
     },
     "metadata": {
      "needs_background": "light"
     },
     "output_type": "display_data"
    },
    {
     "name": "stdout",
     "output_type": "stream",
     "text": [
      "서초구\n",
      "(190, 21)\n",
      "count     190.000000\n",
      "mean     1488.606087\n",
      "std       205.961323\n",
      "min      1273.186870\n",
      "25%      1360.166037\n",
      "50%      1453.651345\n",
      "75%      1518.125274\n",
      "max      2986.611740\n",
      "Name: 단가(만원/㎡), dtype: float64\n",
      "(159, 15)\n",
      "count     159.000000\n",
      "mean     1442.128390\n",
      "std       108.402721\n",
      "min      1273.186870\n",
      "25%      1359.866631\n",
      "50%      1426.503638\n",
      "75%      1498.421116\n",
      "max      1760.563380\n",
      "Name: 단가(만원/㎡), dtype: float64\n"
     ]
    },
    {
     "name": "stderr",
     "output_type": "stream",
     "text": [
      "c:\\users\\max6296\\ml\\lib\\site-packages\\seaborn\\distributions.py:2557: FutureWarning: `distplot` is a deprecated function and will be removed in a future version. Please adapt your code to use either `displot` (a figure-level function with similar flexibility) or `histplot` (an axes-level function for histograms).\n",
      "  warnings.warn(msg, FutureWarning)\n",
      "c:\\users\\max6296\\ml\\lib\\site-packages\\seaborn\\distributions.py:2557: FutureWarning: `distplot` is a deprecated function and will be removed in a future version. Please adapt your code to use either `displot` (a figure-level function with similar flexibility) or `histplot` (an axes-level function for histograms).\n",
      "  warnings.warn(msg, FutureWarning)\n"
     ]
    },
    {
     "data": {
      "image/png": "[encoded data removed]",
      "text/plain": [
       "<Figure size 432x288 with 1 Axes>"
      ]
     },
     "metadata": {
      "needs_background": "light"
     },
     "output_type": "display_data"
    },
    {
     "name": "stdout",
     "output_type": "stream",
     "text": [
      "성동구\n",
      "(7, 21)\n",
      "count       7.000000\n",
      "mean     1197.074906\n",
      "std       290.170833\n",
      "min       993.197279\n",
      "25%      1093.605725\n",
      "50%      1114.206128\n",
      "75%      1118.706002\n",
      "max      1847.497481\n",
      "Name: 단가(만원/㎡), dtype: float64\n",
      "(5, 15)\n",
      "count       5.000000\n",
      "mean     1107.765916\n",
      "std        13.215359\n",
      "min      1090.720222\n",
      "25%      1096.491228\n",
      "50%      1114.206128\n",
      "75%      1118.530885\n",
      "max      1118.881119\n",
      "Name: 단가(만원/㎡), dtype: float64\n"
     ]
    },
    {
     "name": "stderr",
     "output_type": "stream",
     "text": [
      "c:\\users\\max6296\\ml\\lib\\site-packages\\seaborn\\distributions.py:2557: FutureWarning: `distplot` is a deprecated function and will be removed in a future version. Please adapt your code to use either `displot` (a figure-level function with similar flexibility) or `histplot` (an axes-level function for histograms).\n",
      "  warnings.warn(msg, FutureWarning)\n",
      "c:\\users\\max6296\\ml\\lib\\site-packages\\seaborn\\distributions.py:2557: FutureWarning: `distplot` is a deprecated function and will be removed in a future version. Please adapt your code to use either `displot` (a figure-level function with similar flexibility) or `histplot` (an axes-level function for histograms).\n",
      "  warnings.warn(msg, FutureWarning)\n"
     ]
    },
    {
     "data": {
      "image/png": "[encoded data removed]",
      "text/plain": [
       "<Figure size 432x288 with 1 Axes>"
      ]
     },
     "metadata": {
      "needs_background": "light"
     },
     "output_type": "display_data"
    },
    {
     "name": "stderr",
     "output_type": "stream",
     "text": [
      "c:\\users\\max6296\\ml\\lib\\site-packages\\seaborn\\distributions.py:2557: FutureWarning: `distplot` is a deprecated function and will be removed in a future version. Please adapt your code to use either `displot` (a figure-level function with similar flexibility) or `histplot` (an axes-level function for histograms).\n",
      "  warnings.warn(msg, FutureWarning)\n",
      "c:\\users\\max6296\\ml\\lib\\site-packages\\seaborn\\distributions.py:2557: FutureWarning: `distplot` is a deprecated function and will be removed in a future version. Please adapt your code to use either `displot` (a figure-level function with similar flexibility) or `histplot` (an axes-level function for histograms).\n",
      "  warnings.warn(msg, FutureWarning)\n"
     ]
    },
    {
     "name": "stdout",
     "output_type": "stream",
     "text": [
      "성북구\n",
      "(143, 21)\n",
      "count     143.000000\n",
      "mean      953.559539\n",
      "std       181.522774\n",
      "min       626.304802\n",
      "25%       844.422868\n",
      "50%       911.640954\n",
      "75%       977.801605\n",
      "max      2003.338898\n",
      "Name: 단가(만원/㎡), dtype: float64\n",
      "(24, 15)\n",
      "count     24.000000\n",
      "mean     865.979114\n",
      "std       44.351131\n",
      "min      826.986260\n",
      "25%      833.430697\n",
      "50%      845.484253\n",
      "75%      881.728264\n",
      "max      959.899192\n",
      "Name: 단가(만원/㎡), dtype: float64\n"
     ]
    },
    {
     "data": {
      "image/png": "[encoded data removed]",
      "text/plain": [
       "<Figure size 432x288 with 1 Axes>"
      ]
     },
     "metadata": {
      "needs_background": "light"
     },
     "output_type": "display_data"
    },
    {
     "name": "stderr",
     "output_type": "stream",
     "text": [
      "c:\\users\\max6296\\ml\\lib\\site-packages\\seaborn\\distributions.py:2557: FutureWarning: `distplot` is a deprecated function and will be removed in a future version. Please adapt your code to use either `displot` (a figure-level function with similar flexibility) or `histplot` (an axes-level function for histograms).\n",
      "  warnings.warn(msg, FutureWarning)\n",
      "c:\\users\\max6296\\ml\\lib\\site-packages\\seaborn\\distributions.py:2557: FutureWarning: `distplot` is a deprecated function and will be removed in a future version. Please adapt your code to use either `displot` (a figure-level function with similar flexibility) or `histplot` (an axes-level function for histograms).\n",
      "  warnings.warn(msg, FutureWarning)\n"
     ]
    },
    {
     "name": "stdout",
     "output_type": "stream",
     "text": [
      "송파구\n",
      "(204, 21)\n",
      "count     204.000000\n",
      "mean     1223.347482\n",
      "std       175.556058\n",
      "min       693.069307\n",
      "25%      1109.593718\n",
      "50%      1266.367377\n",
      "75%      1338.895281\n",
      "max      1783.166904\n",
      "Name: 단가(만원/㎡), dtype: float64\n",
      "(167, 15)\n",
      "count     167.000000\n",
      "mean     1241.714685\n",
      "std       152.742999\n",
      "min       905.417815\n",
      "25%      1167.055685\n",
      "50%      1273.849607\n",
      "75%      1337.501170\n",
      "max      1783.166904\n",
      "Name: 단가(만원/㎡), dtype: float64\n"
     ]
    },
    {
     "data": {
      "image/png": "[encoded data removed]",
      "text/plain": [
       "<Figure size 432x288 with 1 Axes>"
      ]
     },
     "metadata": {
      "needs_background": "light"
     },
     "output_type": "display_data"
    },
    {
     "name": "stdout",
     "output_type": "stream",
     "text": [
      "양천구\n",
      "(188, 21)\n",
      "count     188.000000\n",
      "mean      925.926967\n",
      "std       142.056953\n",
      "min       669.872896\n",
      "25%       819.009100\n",
      "50%       877.968958\n",
      "75%       995.687257\n",
      "max      1290.969900\n",
      "Name: 단가(만원/㎡), dtype: float64\n",
      "(9, 15)\n",
      "count       9.000000\n",
      "mean      917.663846\n",
      "std        74.269641\n",
      "min       824.972129\n",
      "25%       859.810955\n",
      "50%       881.946658\n",
      "75%       994.249675\n",
      "max      1010.944166\n",
      "Name: 단가(만원/㎡), dtype: float64\n"
     ]
    },
    {
     "name": "stderr",
     "output_type": "stream",
     "text": [
      "c:\\users\\max6296\\ml\\lib\\site-packages\\seaborn\\distributions.py:2557: FutureWarning: `distplot` is a deprecated function and will be removed in a future version. Please adapt your code to use either `displot` (a figure-level function with similar flexibility) or `histplot` (an axes-level function for histograms).\n",
      "  warnings.warn(msg, FutureWarning)\n",
      "c:\\users\\max6296\\ml\\lib\\site-packages\\seaborn\\distributions.py:2557: FutureWarning: `distplot` is a deprecated function and will be removed in a future version. Please adapt your code to use either `displot` (a figure-level function with similar flexibility) or `histplot` (an axes-level function for histograms).\n",
      "  warnings.warn(msg, FutureWarning)\n"
     ]
    },
    {
     "data": {
      "image/png": "[encoded data removed]",
      "text/plain": [
       "<Figure size 432x288 with 1 Axes>"
      ]
     },
     "metadata": {
      "needs_background": "light"
     },
     "output_type": "display_data"
    },
    {
     "name": "stdout",
     "output_type": "stream",
     "text": [
      "영등포구\n",
      "(87, 21)\n",
      "count      87.000000\n",
      "mean     1150.934776\n",
      "std       140.125814\n",
      "min       786.216126\n",
      "25%      1054.963864\n",
      "50%      1202.321725\n",
      "75%      1243.027999\n",
      "max      1428.094761\n",
      "Name: 단가(만원/㎡), dtype: float64\n",
      "(37, 15)\n",
      "count      37.000000\n",
      "mean     1229.322641\n",
      "std        33.019814\n",
      "min      1180.321736\n",
      "25%      1204.310973\n",
      "50%      1221.591962\n",
      "75%      1254.779671\n",
      "max      1295.365717\n",
      "Name: 단가(만원/㎡), dtype: float64\n"
     ]
    },
    {
     "name": "stderr",
     "output_type": "stream",
     "text": [
      "c:\\users\\max6296\\ml\\lib\\site-packages\\seaborn\\distributions.py:2557: FutureWarning: `distplot` is a deprecated function and will be removed in a future version. Please adapt your code to use either `displot` (a figure-level function with similar flexibility) or `histplot` (an axes-level function for histograms).\n",
      "  warnings.warn(msg, FutureWarning)\n",
      "c:\\users\\max6296\\ml\\lib\\site-packages\\seaborn\\distributions.py:2557: FutureWarning: `distplot` is a deprecated function and will be removed in a future version. Please adapt your code to use either `displot` (a figure-level function with similar flexibility) or `histplot` (an axes-level function for histograms).\n",
      "  warnings.warn(msg, FutureWarning)\n"
     ]
    },
    {
     "data": {
      "image/png": "[encoded data removed]",
      "text/plain": [
       "<Figure size 432x288 with 1 Axes>"
      ]
     },
     "metadata": {
      "needs_background": "light"
     },
     "output_type": "display_data"
    },
    {
     "name": "stderr",
     "output_type": "stream",
     "text": [
      "c:\\users\\max6296\\ml\\lib\\site-packages\\seaborn\\distributions.py:2557: FutureWarning: `distplot` is a deprecated function and will be removed in a future version. Please adapt your code to use either `displot` (a figure-level function with similar flexibility) or `histplot` (an axes-level function for histograms).\n",
      "  warnings.warn(msg, FutureWarning)\n"
     ]
    },
    {
     "name": "stdout",
     "output_type": "stream",
     "text": [
      "용산구\n",
      "(48, 21)\n",
      "count      48.000000\n",
      "mean     1635.467974\n",
      "std       266.444687\n",
      "min       991.796665\n",
      "25%      1493.074321\n",
      "50%      1598.147692\n",
      "75%      1838.752043\n",
      "max      2228.412256\n",
      "Name: 단가(만원/㎡), dtype: float64\n",
      "(0, 15)\n",
      "count    0.0\n",
      "mean     NaN\n",
      "std      NaN\n",
      "min      NaN\n",
      "25%      NaN\n",
      "50%      NaN\n",
      "75%      NaN\n",
      "max      NaN\n",
      "Name: 단가(만원/㎡), dtype: float64\n"
     ]
    },
    {
     "name": "stderr",
     "output_type": "stream",
     "text": [
      "c:\\users\\max6296\\ml\\lib\\site-packages\\seaborn\\distributions.py:2557: FutureWarning: `distplot` is a deprecated function and will be removed in a future version. Please adapt your code to use either `displot` (a figure-level function with similar flexibility) or `histplot` (an axes-level function for histograms).\n",
      "  warnings.warn(msg, FutureWarning)\n",
      "c:\\users\\max6296\\ml\\lib\\site-packages\\seaborn\\distributions.py:2595: RuntimeWarning: Mean of empty slice.\n",
      "  line, = ax.plot(a.mean(), 0)\n",
      "c:\\users\\max6296\\ml\\lib\\site-packages\\numpy\\core\\_methods.py:170: RuntimeWarning: invalid value encountered in double_scalars\n",
      "  ret = ret.dtype.type(ret / rcount)\n",
      "c:\\users\\max6296\\ml\\lib\\site-packages\\numpy\\lib\\histograms.py:905: RuntimeWarning: invalid value encountered in true_divide\n",
      "  return n/db/n.sum(), bin_edges\n"
     ]
    },
    {
     "data": {
      "image/png": "[encoded data removed]",
      "text/plain": [
       "<Figure size 432x288 with 1 Axes>"
      ]
     },
     "metadata": {
      "needs_background": "light"
     },
     "output_type": "display_data"
    },
    {
     "name": "stdout",
     "output_type": "stream",
     "text": [
      "은평구\n",
      "(160, 21)\n",
      "count     160.000000\n",
      "mean      911.819184\n",
      "std       121.116160\n",
      "min       684.702739\n",
      "25%       814.536773\n",
      "50%       897.934409\n",
      "75%       991.292699\n",
      "max      1246.969172\n",
      "Name: 단가(만원/㎡), dtype: float64\n",
      "(38, 15)\n",
      "count      38.000000\n",
      "mean      859.642243\n",
      "std       113.802404\n",
      "min       751.476114\n",
      "25%       774.728244\n",
      "50%       823.530473\n",
      "75%       893.032925\n",
      "max      1120.056003\n",
      "Name: 단가(만원/㎡), dtype: float64\n"
     ]
    },
    {
     "name": "stderr",
     "output_type": "stream",
     "text": [
      "c:\\users\\max6296\\ml\\lib\\site-packages\\seaborn\\distributions.py:2557: FutureWarning: `distplot` is a deprecated function and will be removed in a future version. Please adapt your code to use either `displot` (a figure-level function with similar flexibility) or `histplot` (an axes-level function for histograms).\n",
      "  warnings.warn(msg, FutureWarning)\n"
     ]
    },
    {
     "data": {
      "image/png": "[encoded data removed]",
      "text/plain": [
       "<Figure size 432x288 with 1 Axes>"
      ]
     },
     "metadata": {
      "needs_background": "light"
     },
     "output_type": "display_data"
    },
    {
     "name": "stderr",
     "output_type": "stream",
     "text": [
      "c:\\users\\max6296\\ml\\lib\\site-packages\\seaborn\\distributions.py:2557: FutureWarning: `distplot` is a deprecated function and will be removed in a future version. Please adapt your code to use either `displot` (a figure-level function with similar flexibility) or `histplot` (an axes-level function for histograms).\n",
      "  warnings.warn(msg, FutureWarning)\n",
      "c:\\users\\max6296\\ml\\lib\\site-packages\\seaborn\\distributions.py:2557: FutureWarning: `distplot` is a deprecated function and will be removed in a future version. Please adapt your code to use either `displot` (a figure-level function with similar flexibility) or `histplot` (an axes-level function for histograms).\n",
      "  warnings.warn(msg, FutureWarning)\n"
     ]
    },
    {
     "name": "stdout",
     "output_type": "stream",
     "text": [
      "종로구\n",
      "(14, 21)\n",
      "count      14.000000\n",
      "mean     1191.753194\n",
      "std        77.140105\n",
      "min      1028.950122\n",
      "25%      1145.123117\n",
      "50%      1227.864450\n",
      "75%      1250.422440\n",
      "max      1270.478101\n",
      "Name: 단가(만원/㎡), dtype: float64\n",
      "(0, 15)\n",
      "count    0.0\n",
      "mean     NaN\n",
      "std      NaN\n",
      "min      NaN\n",
      "25%      NaN\n",
      "50%      NaN\n",
      "75%      NaN\n",
      "max      NaN\n",
      "Name: 단가(만원/㎡), dtype: float64\n"
     ]
    },
    {
     "name": "stderr",
     "output_type": "stream",
     "text": [
      "c:\\users\\max6296\\ml\\lib\\site-packages\\seaborn\\distributions.py:2595: RuntimeWarning: Mean of empty slice.\n",
      "  line, = ax.plot(a.mean(), 0)\n",
      "c:\\users\\max6296\\ml\\lib\\site-packages\\numpy\\core\\_methods.py:170: RuntimeWarning: invalid value encountered in double_scalars\n",
      "  ret = ret.dtype.type(ret / rcount)\n",
      "c:\\users\\max6296\\ml\\lib\\site-packages\\numpy\\lib\\histograms.py:905: RuntimeWarning: invalid value encountered in true_divide\n",
      "  return n/db/n.sum(), bin_edges\n"
     ]
    },
    {
     "data": {
      "image/png": "[encoded data removed]",
      "text/plain": [
       "<Figure size 432x288 with 1 Axes>"
      ]
     },
     "metadata": {
      "needs_background": "light"
     },
     "output_type": "display_data"
    },
    {
     "name": "stderr",
     "output_type": "stream",
     "text": [
      "c:\\users\\max6296\\ml\\lib\\site-packages\\seaborn\\distributions.py:2557: FutureWarning: `distplot` is a deprecated function and will be removed in a future version. Please adapt your code to use either `displot` (a figure-level function with similar flexibility) or `histplot` (an axes-level function for histograms).\n",
      "  warnings.warn(msg, FutureWarning)\n"
     ]
    },
    {
     "name": "stdout",
     "output_type": "stream",
     "text": [
      "중구\n",
      "(10, 21)\n",
      "count      10.000000\n",
      "mean     1273.048799\n",
      "std       114.415438\n",
      "min      1137.884873\n",
      "25%      1201.517301\n",
      "50%      1284.618523\n",
      "75%      1298.211408\n",
      "max      1536.071798\n",
      "Name: 단가(만원/㎡), dtype: float64\n",
      "(0, 15)\n",
      "count    0.0\n",
      "mean     NaN\n",
      "std      NaN\n",
      "min      NaN\n",
      "25%      NaN\n",
      "50%      NaN\n",
      "75%      NaN\n",
      "max      NaN\n",
      "Name: 단가(만원/㎡), dtype: float64\n"
     ]
    },
    {
     "name": "stderr",
     "output_type": "stream",
     "text": [
      "c:\\users\\max6296\\ml\\lib\\site-packages\\seaborn\\distributions.py:2595: RuntimeWarning: Mean of empty slice.\n",
      "  line, = ax.plot(a.mean(), 0)\n",
      "c:\\users\\max6296\\ml\\lib\\site-packages\\numpy\\core\\_methods.py:170: RuntimeWarning: invalid value encountered in double_scalars\n",
      "  ret = ret.dtype.type(ret / rcount)\n",
      "c:\\users\\max6296\\ml\\lib\\site-packages\\numpy\\lib\\histograms.py:905: RuntimeWarning: invalid value encountered in true_divide\n",
      "  return n/db/n.sum(), bin_edges\n"
     ]
    },
    {
     "data": {
      "image/png": "[encoded data removed]",
      "text/plain": [
       "<Figure size 432x288 with 1 Axes>"
      ]
     },
     "metadata": {
      "needs_background": "light"
     },
     "output_type": "display_data"
    },
    {
     "name": "stdout",
     "output_type": "stream",
     "text": [
      "중랑구\n",
      "(180, 21)\n",
      "count     180.000000\n",
      "mean      998.526563\n",
      "std       132.909490\n",
      "min       696.428571\n",
      "25%       908.307885\n",
      "50%       989.141752\n",
      "75%      1034.629413\n",
      "max      1325.850579\n",
      "Name: 단가(만원/㎡), dtype: float64\n",
      "(110, 15)\n",
      "count     110.000000\n",
      "mean     1026.452443\n",
      "std       115.454118\n",
      "min       871.131914\n",
      "25%       936.590149\n",
      "50%       996.721067\n",
      "75%      1049.164808\n",
      "max      1301.619133\n",
      "Name: 단가(만원/㎡), dtype: float64\n"
     ]
    },
    {
     "name": "stderr",
     "output_type": "stream",
     "text": [
      "c:\\users\\max6296\\ml\\lib\\site-packages\\seaborn\\distributions.py:2557: FutureWarning: `distplot` is a deprecated function and will be removed in a future version. Please adapt your code to use either `displot` (a figure-level function with similar flexibility) or `histplot` (an axes-level function for histograms).\n",
      "  warnings.warn(msg, FutureWarning)\n"
     ]
    },
    {
     "data": {
      "image/png": "[encoded data removed]",
      "text/plain": [
       "<Figure size 432x288 with 1 Axes>"
      ]
     },
     "metadata": {
      "needs_background": "light"
     },
     "output_type": "display_data"
    },
    {
     "data": {
      "text/plain": [
       "<Figure size 432x288 with 0 Axes>"
      ]
     },
     "metadata": {},
     "output_type": "display_data"
    }
   ],
   "source": [
    "for gu in target_df['구'].unique():\n",
    "    gu_df = target_df[target_df['구'] == gu]\n",
    "    bulktrade_gu_df = bulktrade_target_df[bulktrade_target_df['구'] == gu]\n",
    "    \n",
    "    print(gu)\n",
    "    print(gu_df.shape)\n",
    "    \n",
    "    print(gu_df['단가(만원/㎡)'].describe())\n",
    "    \n",
    "    print(bulktrade_gu_df.shape)\n",
    "    print(bulktrade_gu_df['단가(만원/㎡)'].describe())\n",
    "    \n",
    "    sns.distplot(gu_df['단가(만원/㎡)'])\n",
    "    sns.distplot(bulktrade_gu_df['단가(만원/㎡)'])\n",
    "    plt.show()\n",
    "    plt.clf()\n",
    "    \n",
    "    target_df.loc[gu_df.index, '구별_25분위'] = gu_df['단가(만원/㎡)'].quantile(0.25)\n",
    "    target_df.loc[gu_df.index, '구별_50분위'] = gu_df['단가(만원/㎡)'].quantile(0.5)\n",
    "    target_df.loc[gu_df.index, '구별_75분위'] = gu_df['단가(만원/㎡)'].quantile(0.75)\n",
    "    target_df.loc[gu_df.index, '구별_30분위'] = gu_df['단가(만원/㎡)'].quantile(0.30)\n",
    "    target_df.loc[gu_df.index, '구별_35분위'] = gu_df['단가(만원/㎡)'].quantile(0.35)\n",
    "    target_df.loc[gu_df.index, '구별_40분위'] = gu_df['단가(만원/㎡)'].quantile(0.40)"
   ]
  },
  {
   "cell_type": "code",
   "execution_count": 114,
   "metadata": {},
   "outputs": [
    {
     "name": "stdout",
     "output_type": "stream",
     "text": [
      "0\n",
      "0\n",
      "0\n",
      "0\n",
      "0\n",
      "0\n"
     ]
    }
   ],
   "source": [
    "print(target_df['구별_25분위'].isna().sum())\n",
    "print(target_df['구별_50분위'].isna().sum())\n",
    "print(target_df['구별_75분위'].isna().sum())\n",
    "print(target_df['구별_30분위'].isna().sum())\n",
    "print(target_df['구별_35분위'].isna().sum())\n",
    "print(target_df['구별_40분위'].isna().sum())"
   ]
  },
  {
   "cell_type": "code",
   "execution_count": 115,
   "metadata": {},
   "outputs": [
    {
     "name": "stdout",
     "output_type": "stream",
     "text": [
      "(25, 7)\n"
     ]
    },
    {
     "data": {
      "text/html": [
       "<div>\n",
       "<style scoped>\n",
       "    .dataframe tbody tr th:only-of-type {\n",
       "        vertical-align: middle;\n",
       "    }\n",
       "\n",
       "    .dataframe tbody tr th {\n",
       "        vertical-align: top;\n",
       "    }\n",
       "\n",
       "    .dataframe thead th {\n",
       "        text-align: right;\n",
       "    }\n",
       "</style>\n",
       "<table border=\"1\" class=\"dataframe\">\n",
       "  <thead>\n",
       "    <tr style=\"text-align: right;\">\n",
       "      <th></th>\n",
       "      <th>구</th>\n",
       "      <th>구별_25분위</th>\n",
       "      <th>구별_30분위</th>\n",
       "      <th>구별_35분위</th>\n",
       "      <th>구별_40분위</th>\n",
       "      <th>구별_50분위</th>\n",
       "      <th>구별_75분위</th>\n",
       "    </tr>\n",
       "  </thead>\n",
       "  <tbody>\n",
       "    <tr>\n",
       "      <th>0</th>\n",
       "      <td>강남구</td>\n",
       "      <td>1552.737611</td>\n",
       "      <td>1561.527504</td>\n",
       "      <td>1596.263081</td>\n",
       "      <td>1777.003484</td>\n",
       "      <td>1919.632863</td>\n",
       "      <td>2055.505936</td>\n",
       "    </tr>\n",
       "    <tr>\n",
       "      <th>1</th>\n",
       "      <td>강동구</td>\n",
       "      <td>970.000000</td>\n",
       "      <td>1000.044863</td>\n",
       "      <td>1009.949444</td>\n",
       "      <td>1029.994341</td>\n",
       "      <td>1043.636229</td>\n",
       "      <td>1104.579683</td>\n",
       "    </tr>\n",
       "    <tr>\n",
       "      <th>2</th>\n",
       "      <td>강북구</td>\n",
       "      <td>737.478592</td>\n",
       "      <td>750.170086</td>\n",
       "      <td>753.750850</td>\n",
       "      <td>767.959973</td>\n",
       "      <td>784.117451</td>\n",
       "      <td>809.574094</td>\n",
       "    </tr>\n",
       "    <tr>\n",
       "      <th>3</th>\n",
       "      <td>강서구</td>\n",
       "      <td>883.471776</td>\n",
       "      <td>900.300100</td>\n",
       "      <td>904.279250</td>\n",
       "      <td>913.367154</td>\n",
       "      <td>933.955971</td>\n",
       "      <td>990.063875</td>\n",
       "    </tr>\n",
       "    <tr>\n",
       "      <th>4</th>\n",
       "      <td>관악구</td>\n",
       "      <td>915.529906</td>\n",
       "      <td>940.749577</td>\n",
       "      <td>968.603874</td>\n",
       "      <td>979.410007</td>\n",
       "      <td>1044.328476</td>\n",
       "      <td>1185.461957</td>\n",
       "    </tr>\n",
       "  </tbody>\n",
       "</table>\n",
       "</div>"
      ],
      "text/plain": [
       "     구      구별_25분위      구별_30분위      구별_35분위      구별_40분위      구별_50분위  \\\n",
       "0  강남구  1552.737611  1561.527504  1596.263081  1777.003484  1919.632863   \n",
       "1  강동구   970.000000  1000.044863  1009.949444  1029.994341  1043.636229   \n",
       "2  강북구   737.478592   750.170086   753.750850   767.959973   784.117451   \n",
       "3  강서구   883.471776   900.300100   904.279250   913.367154   933.955971   \n",
       "4  관악구   915.529906   940.749577   968.603874   979.410007  1044.328476   \n",
       "\n",
       "       구별_75분위  \n",
       "0  2055.505936  \n",
       "1  1104.579683  \n",
       "2   809.574094  \n",
       "3   990.063875  \n",
       "4  1185.461957  "
      ]
     },
     "execution_count": 115,
     "metadata": {},
     "output_type": "execute_result"
    }
   ],
   "source": [
    "summary_df = target_df[['구', '구별_25분위', '구별_30분위', '구별_35분위', '구별_40분위', '구별_50분위', '구별_75분위'\n",
    "                       ]].drop_duplicates().reset_index(drop=True)\n",
    "print(summary_df.shape)\n",
    "summary_df.head()"
   ]
  },
  {
   "cell_type": "code",
   "execution_count": 116,
   "metadata": {},
   "outputs": [],
   "source": [
    "summary_df.to_excel('./국토교통부_실거래가_공개시스템/집값분석/구별_분위별/최근12개월_연립다세대_건물연식_2년이하_전용면적크기_30제곱미터근처_실거래사례_구별_분위값들.xlsx', index=False)"
   ]
  },
  {
   "cell_type": "code",
   "execution_count": null,
   "metadata": {},
   "outputs": [],
   "source": []
  },
  {
   "cell_type": "code",
   "execution_count": null,
   "metadata": {},
   "outputs": [],
   "source": []
  },
  {
   "cell_type": "code",
   "execution_count": null,
   "metadata": {},
   "outputs": [],
   "source": []
  },
  {
   "cell_type": "code",
   "execution_count": null,
   "metadata": {},
   "outputs": [],
   "source": []
  },
  {
   "cell_type": "code",
   "execution_count": null,
   "metadata": {},
   "outputs": [],
   "source": []
  },
  {
   "cell_type": "code",
   "execution_count": null,
   "metadata": {},
   "outputs": [],
   "source": []
  },
  {
   "cell_type": "code",
   "execution_count": null,
   "metadata": {},
   "outputs": [],
   "source": [
    "sales_idx_basedir = './한국부동산원/실거래가격지수/'\n",
    "filenames = [f for f in os.listdir(sales_idx_basedir) if '연립다세대' in f]\n",
    "\n",
    "sales_idx_df = pd.read_excel(sales_idx_basedir + filenames[0], header=[10, 11])\n",
    "\n",
    "sales_idx_cols_list = []\n",
    "for i in range(sales_idx_df.shape[1]):\n",
    "    if i == 0:\n",
    "        sales_idx_cols_list.append(sales_idx_df.columns[i][0])\n",
    "    else:\n",
    "        sales_idx_cols_list.append(sales_idx_df.columns[i][0] + '_' + sales_idx_df.columns[i][1])\n",
    "\n",
    "sales_idx_df.columns = sales_idx_cols_list"
   ]
  },
  {
   "cell_type": "code",
   "execution_count": null,
   "metadata": {},
   "outputs": [],
   "source": [
    "def get_sales_idx(x):\n",
    "    # x is a pandas timestamp\n",
    "    \n",
    "    df = sales_idx_df.copy()\n",
    "    \n",
    "    if pd.isna(x) == True:\n",
    "        return x\n",
    "    else:\n",
    "        year = str(x.year)\n",
    "        month = str(x.month)\n",
    "        if len(month) == 1:\n",
    "            month = '0'+month\n",
    "        \n",
    "        idx = df[year+'년 '+month+'월_지수'].iloc[0]\n",
    "        \n",
    "        return idx"
   ]
  },
  {
   "cell_type": "code",
   "execution_count": null,
   "metadata": {},
   "outputs": [],
   "source": [
    "def get_index_applied_prices(df):\n",
    "    df = df.copy()\n",
    "    \n",
    "    last_idx = sales_idx_df.iloc[0,-2]\n",
    "    \n",
    "    last_date = sales_idx_df.columns[-1].split('_')[0]\n",
    "    \n",
    "    last_date = last_date.split(' ')[0].replace('년','') + '-' + last_date.split(' ')[1].replace('월','') + '-01'\n",
    "    \n",
    "    target_upper_limit_df = df[df['계약날짜'] < pd.to_datetime(last_date)]\n",
    "    target_upper_limit_df['계약날짜_실거래지수'] = target_upper_limit_df['계약날짜'].apply(get_sales_idx)\n",
    "    target_upper_limit_df['지수적용단가'] = target_upper_limit_df['단가(만원/㎡)'] / target_upper_limit_df['계약날짜_실거래지수'] * last_idx\n",
    "    df['지수적용단가'] = df['단가(만원/㎡)']\n",
    "    df.loc[target_upper_limit_df.index, '지수적용단가'] = target_upper_limit_df['지수적용단가']\n",
    "    df['평가날짜'] = df['계약날짜']\n",
    "    df.loc[target_upper_limit_df.index, '평가날짜'] = pd.to_datetime(last_date[:-2] + '01')\n",
    "    \n",
    "    return df"
   ]
  },
  {
   "cell_type": "code",
   "execution_count": null,
   "metadata": {},
   "outputs": [],
   "source": [
    "target_df = get_index_applied_prices(target_df)\n",
    "print(target_df.shape)\n",
    "target_df.head()"
   ]
  },
  {
   "cell_type": "code",
   "execution_count": null,
   "metadata": {},
   "outputs": [],
   "source": [
    "target_df = target_df.sort_values(['지번주소', '건축년도', '계약날짜']).reset_index(drop=True)\n",
    "target_df1 = target_df[['지번주소', '건물(단지)명', '건물연식', '층', '전용면적(㎡)', '계약날짜', '거래금액(만원)', '단가(만원/㎡)', '평가날짜', '지수적용단가', '부동산유형']]\n",
    "target_df1.to_excel('./국토교통부_실거래가_공개시스템/집값분석/{}_{}_연립다세대_오피스텔_{}/실거래가.xlsx'.format(target_gu, target_dong, date_today_record), index=False)"
   ]
  },
  {
   "cell_type": "code",
   "execution_count": null,
   "metadata": {},
   "outputs": [],
   "source": [
    "target_df1.head()"
   ]
  },
  {
   "cell_type": "code",
   "execution_count": null,
   "metadata": {},
   "outputs": [],
   "source": [
    "target_df1_30 = target_df1[\n",
    "    (target_df1['전용면적(㎡)'] >= 28)\n",
    "    &(target_df1['전용면적(㎡)'] <= 32)\n",
    "]"
   ]
  },
  {
   "cell_type": "code",
   "execution_count": null,
   "metadata": {},
   "outputs": [],
   "source": [
    "target_df1_30.to_excel('./국토교통부_실거래가_공개시스템/집값분석/{}_{}_연립다세대_오피스텔_{}/실거래가_30.xlsx'.format(target_gu, target_dong, date_today_record), index=False)"
   ]
  },
  {
   "cell_type": "code",
   "execution_count": null,
   "metadata": {},
   "outputs": [],
   "source": [
    "font = {'size': 16}\n",
    "matplotlib.rc('font', **font)\n",
    "f, ax = plt.subplots(figsize=(20,10))\n",
    "plt.title('최근 {}개월 {} {} 건물연식 {}년이하 연립다세대 및 오피스텔 매매 실거래 {}건의 전용면적 단가'.format(target_period, target_gu, target_dong, target_building_age, target_df.shape[0]))\n",
    "plt.grid(True)\n",
    "ax.xaxis.update_units(target_df['계약날짜'])\n",
    "sns.regplot(x=ax.xaxis.convert_units(target_df['계약날짜']), y=target_df['단가(만원/㎡)'])\n",
    "plt.savefig('./국토교통부_실거래가_공개시스템/집값분석/{}_{}_연립다세대_오피스텔_{}/산포도.png'.format(target_gu, target_dong, date_today_record))"
   ]
  },
  {
   "cell_type": "code",
   "execution_count": null,
   "metadata": {},
   "outputs": [],
   "source": [
    "target_last_df = target_df.drop_duplicates(subset=['지번주소', '건축년도'], keep='last').reset_index(drop=True)"
   ]
  },
  {
   "cell_type": "code",
   "execution_count": null,
   "metadata": {},
   "outputs": [],
   "source": [
    "font = {'size': 16}\n",
    "matplotlib.rc('font', **font)\n",
    "f, ax = plt.subplots(figsize=(20,10))\n",
    "plt.title('최근 {}개월 {} {} 건물연식 {}년이하 연립다세대 및 오피스텔 매매 실거래 {}건의 전용면적 단가'.format(target_period, target_gu, target_dong, target_building_age, target_last_df.shape[0]))\n",
    "plt.grid(True)\n",
    "ax.xaxis.update_units(target_last_df['계약날짜'])\n",
    "sns.regplot(x=ax.xaxis.convert_units(target_last_df['계약날짜']), y=target_last_df['단가(만원/㎡)'])\n",
    "plt.savefig('./국토교통부_실거래가_공개시스템/집값분석/{}_{}_연립다세대_오피스텔_{}/마지막_산포도.png'.format(target_gu, target_dong, date_today_record))"
   ]
  },
  {
   "cell_type": "code",
   "execution_count": null,
   "metadata": {},
   "outputs": [],
   "source": [
    "target_last_df.to_excel('./국토교통부_실거래가_공개시스템/집값분석/{}_{}_연립다세대_오피스텔_{}/마지막_실거래가.xlsx'.format(target_gu, target_dong, date_today_record), index=False)"
   ]
  },
  {
   "cell_type": "code",
   "execution_count": null,
   "metadata": {},
   "outputs": [],
   "source": [
    "target_df2 = house_df[\n",
    "    (house_df['지번주소'].str.contains(target_gu + ' ' + target_dong))\n",
    "    #&(house_df['동'] == target_dong)\n",
    "    #&(house_merge_df['계약날짜'] >= (date_today - pd.DateOffset(months=target_period)))\n",
    "    &(house_df['계약날짜기준_건물연식'] <= target_building_age)\n",
    "    #&(house_merge_df['용도지역명1'].str.contains(target_purpose))\n",
    "]\n",
    "print(target_df2.shape)\n",
    "target_df2.head()"
   ]
  },
  {
   "cell_type": "code",
   "execution_count": null,
   "metadata": {},
   "outputs": [],
   "source": [
    "target_df2 = get_index_applied_prices(target_df2)"
   ]
  },
  {
   "cell_type": "code",
   "execution_count": null,
   "metadata": {},
   "outputs": [],
   "source": [
    "font = {'size': 12}\n",
    "matplotlib.rc('font', **font)\n",
    "f, ax = plt.subplots(figsize=(12,6))\n",
    "plt.title('{} {} 계약날짜기준 건물연식 {}년이하 연립다세대 및 오피스텔 매매 실거래 {}건의 전용면적 단가'.format(target_gu, target_dong, target_building_age, target_df2.shape[0]))\n",
    "plt.grid(True)\n",
    "sns.histplot(target_df2['단가(만원/㎡)'], kde=True)"
   ]
  },
  {
   "cell_type": "code",
   "execution_count": null,
   "metadata": {},
   "outputs": [],
   "source": [
    "target_df3 = target_df2[['지번주소', '건물(단지)명', '건축년도', '층', '전용면적(㎡)', '계약날짜', '단가(만원/㎡)', '평가날짜', '지수적용단가', '부동산유형']]\n",
    "target_df3 = target_df3.sort_values(['지번주소', '건축년도', '계약날짜']).reset_index(drop=True)\n",
    "target_df3.to_excel('./국토교통부_실거래가_공개시스템/집값분석/{}_{}_연립다세대_오피스텔_{}/지수적용_실거래가.xlsx'.format(target_gu, target_dong, date_today_record), index=False)"
   ]
  },
  {
   "cell_type": "code",
   "execution_count": null,
   "metadata": {},
   "outputs": [],
   "source": [
    "target_df3_30 = target_df3[\n",
    "    (target_df3['전용면적(㎡)'] >= 28)\n",
    "    &(target_df3['전용면적(㎡)'] <= 32)\n",
    "]"
   ]
  },
  {
   "cell_type": "code",
   "execution_count": null,
   "metadata": {},
   "outputs": [],
   "source": [
    "target_df3_30.to_excel('./국토교통부_실거래가_공개시스템/집값분석/{}_{}_연립다세대_오피스텔_{}/지수적용_실거래가_30.xlsx'.format(target_gu, target_dong, date_today_record), index=False)"
   ]
  },
  {
   "cell_type": "code",
   "execution_count": null,
   "metadata": {},
   "outputs": [],
   "source": [
    "concat_df = pd.concat([target_df2])"
   ]
  },
  {
   "cell_type": "code",
   "execution_count": null,
   "metadata": {},
   "outputs": [],
   "source": [
    "concat_df = concat_df.sort_values(['지번주소', '건축년도', '전용면적(㎡)', '계약날짜']).reset_index(drop=True)\n",
    "concat_df = concat_df.drop_duplicates(['지번주소', '건축년도', '전용면적(㎡)'], keep='last').reset_index(drop=True)"
   ]
  },
  {
   "cell_type": "code",
   "execution_count": null,
   "metadata": {},
   "outputs": [],
   "source": [
    "concat_df['단가평균'] = concat_df[['지번주소', '건축년도', '단가(만원/㎡)']].groupby(['지번주소', '건축년도']).transform('mean')['단가(만원/㎡)']\n",
    "concat_df['지수적용단가평균'] = concat_df[['지번주소', '건축년도', '지수적용단가']].groupby(['지번주소', '건축년도']).transform('mean')['지수적용단가']"
   ]
  },
  {
   "cell_type": "code",
   "execution_count": null,
   "metadata": {
    "scrolled": true
   },
   "outputs": [],
   "source": [
    "concat_df = concat_df.sort_values(['지번주소', '건축년도', '평가날짜']).reset_index(drop=True)\n",
    "print(concat_df.shape)\n",
    "concat_df.head()"
   ]
  },
  {
   "cell_type": "code",
   "execution_count": null,
   "metadata": {},
   "outputs": [],
   "source": [
    "concat_last_df = concat_df.drop_duplicates(subset=['지번주소', '건축년도'], keep='last')\n",
    "print(concat_last_df.shape)\n",
    "concat_last_df"
   ]
  },
  {
   "cell_type": "code",
   "execution_count": null,
   "metadata": {},
   "outputs": [],
   "source": [
    "font = {'size': 16}\n",
    "matplotlib.rc('font', **font)\n",
    "f, ax = plt.subplots(figsize=(20,10))\n",
    "plt.title('{} {} 계약날짜기준 건물연식 {}년이하 연립다세대 및 오피스텔 매매 실거래 지번별 {}곳의 전용면적 실거래가격지수 적용후 단가평균'.format(target_gu, target_dong, target_building_age, concat_last_df.shape[0]))\n",
    "plt.grid(True)\n",
    "sns.histplot(concat_last_df['지수적용단가'], kde=True)\n",
    "plt.savefig('./국토교통부_실거래가_공개시스템/집값분석/{}_{}_연립다세대_오피스텔_{}/지번별_분포도.png'.format(target_gu, target_dong, date_today_record))"
   ]
  },
  {
   "cell_type": "code",
   "execution_count": null,
   "metadata": {},
   "outputs": [],
   "source": [
    "concat_last_df = concat_last_df.sort_values(['지번주소']).reset_index(drop=True)"
   ]
  },
  {
   "cell_type": "code",
   "execution_count": null,
   "metadata": {
    "scrolled": true
   },
   "outputs": [],
   "source": [
    "concat_last_df = concat_last_df[['지번주소', '건물(단지)명', '건축년도', '전용면적(㎡)', '층', '계약날짜', '단가(만원/㎡)', '평가날짜', '지수적용단가', '부동산유형']]\n",
    "concat_last_df.rename(columns={'계약날짜':'마지막_계약날짜'}, inplace=True)\n",
    "concat_last_df.head()"
   ]
  },
  {
   "cell_type": "code",
   "execution_count": null,
   "metadata": {},
   "outputs": [],
   "source": [
    "concat_last_df.to_excel('./국토교통부_실거래가_공개시스템/집값분석/{}_{}_연립다세대_오피스텔_{}/지수적용_마지막_실거래가.xlsx'.format(target_gu, target_dong, date_today_record), index=False)"
   ]
  },
  {
   "cell_type": "code",
   "execution_count": null,
   "metadata": {},
   "outputs": [],
   "source": []
  }
 ],
 "metadata": {
  "kernelspec": {
   "display_name": "Python 3",
   "language": "python",
   "name": "python3"
  },
  "language_info": {
   "codemirror_mode": {
    "name": "ipython",
    "version": 3
   },
   "file_extension": ".py",
   "mimetype": "text/x-python",
   "name": "python",
   "nbconvert_exporter": "python",
   "pygments_lexer": "ipython3",
   "version": "3.7.9"
  }
 },
 "nbformat": 4,
 "nbformat_minor": 4
}
