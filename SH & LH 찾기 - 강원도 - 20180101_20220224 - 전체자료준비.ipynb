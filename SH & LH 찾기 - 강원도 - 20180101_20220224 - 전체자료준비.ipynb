{
 "cells": [
  {
   "cell_type": "code",
   "execution_count": 1,
   "metadata": {},
   "outputs": [],
   "source": [
    "import pandas as pd\n",
    "import numpy as np\n",
    "import os\n",
    "pd.set_option('display.max_rows', 500)\n",
    "pd.set_option('display.max_columns', 500)\n",
    "import tqdm\n",
    "import matplotlib.pyplot as plt\n",
    "import seaborn as sns\n",
    "import matplotlib\n",
    "matplotlib.rcParams['axes.unicode_minus'] = False\n",
    "pd.options.mode.chained_assignment = None  # default='warn'\n",
    "plt.rcParams['font.family'] = 'Malgun Gothic'\n",
    "import datetime\n",
    "tqdm.tqdm.pandas()"
   ]
  },
  {
   "cell_type": "code",
   "execution_count": 2,
   "metadata": {},
   "outputs": [],
   "source": [
    "date_today = pd.to_datetime(datetime.datetime.now().strftime('%Y-%m-%d'), format='%Y-%m-%d')"
   ]
  },
  {
   "cell_type": "code",
   "execution_count": 3,
   "metadata": {},
   "outputs": [
    {
     "data": {
      "text/plain": [
       "'20220225'"
      ]
     },
     "execution_count": 3,
     "metadata": {},
     "output_type": "execute_result"
    }
   ],
   "source": [
    "date_today_record = str(date_today).split(' ')[0].replace('-', '')\n",
    "date_today_record"
   ]
  },
  {
   "cell_type": "code",
   "execution_count": 4,
   "metadata": {},
   "outputs": [],
   "source": [
    "def day_modifier(x):\n",
    "    # x is a number\n",
    "    \n",
    "    if pd.isna(x) == True:\n",
    "        return x\n",
    "    else:\n",
    "        x = str(x)\n",
    "        if len(x) == 1:\n",
    "            return '0' + x\n",
    "        else:\n",
    "            return x"
   ]
  },
  {
   "cell_type": "code",
   "execution_count": 5,
   "metadata": {},
   "outputs": [],
   "source": [
    "def landnum_modifier(x):\n",
    "    # x is a string\n",
    "    \n",
    "    if pd.isna(x) == True:\n",
    "        return x\n",
    "    else:\n",
    "        x = str(x).replace('외', '').replace(' ','')\n",
    "        splitted = x.split('-')\n",
    "        if len(splitted) == 1:\n",
    "            return x + '-0'\n",
    "        else:\n",
    "            return x"
   ]
  },
  {
   "cell_type": "code",
   "execution_count": 6,
   "metadata": {},
   "outputs": [],
   "source": [
    "def data_prep(bdtype, tradetype, starting_year=2018):\n",
    "    # bdtype is a string: one of 아파트, 연립다세대 or 오피스텔\n",
    "    # tradetype is a string: one of 매매 or 전월세\n",
    "    if (tradetype != '매매') & (tradetype != '전월세'):\n",
    "        raise ValueError('두번째 변수는 매매 또는 전월세만 입력 가능')\n",
    "    \n",
    "    \n",
    "    basedir = './국토교통부_실거래가_공개시스템/강원도/{}/{}/'.format(bdtype, tradetype)\n",
    "    filenames = [f for f in os.listdir(basedir) if f.endswith('.csv')]\n",
    "    \n",
    "    dfs_list = []\n",
    "    for i, f in tqdm.tqdm_notebook(enumerate(filenames)):\n",
    "        splitted_filename = f.split('실거래가_')       \n",
    "        file_year = int(splitted_filename[-1][:4])\n",
    "        \n",
    "        '''if file_year < starting_year:\n",
    "            continue'''\n",
    "        \n",
    "        try:\n",
    "            df = pd.read_csv(basedir + f, encoding='euc-kr', header=15)\n",
    "        except:\n",
    "            try:\n",
    "                df = pd.read_csv(basedir + f, encoding='utf-8', header=15)\n",
    "            except:\n",
    "                df = pd.read_csv(basedir + f, header=15)\n",
    "        \n",
    "        if '건물명' in df.columns:\n",
    "            df.rename(columns={'건물명':'건물(단지)명'}, inplace=True)\n",
    "        elif '단지명' in df.columns:\n",
    "            df.rename(columns={'단지명':'건물(단지)명'}, inplace=True)\n",
    "            \n",
    "        if '대지권면적(㎡)' in df.columns:\n",
    "            df = df.drop(columns=['대지권면적(㎡)'])\n",
    "                \n",
    "            \n",
    "        if '해제사유발생일' in df.columns.tolist():\n",
    "            df = df[df['해제사유발생일'].isna()]\n",
    "            df = df.drop(columns=['해제사유발생일'])\n",
    "            \n",
    "        dfs_list.append(df)\n",
    "    \n",
    "    concat_df = pd.concat(dfs_list).reset_index(drop=True)\n",
    "    \n",
    "    if tradetype == '전월세':\n",
    "        concat_df = concat_df.rename(columns={'전월세구분':'거래구분', '보증금(만원)':'거래금액(만원)'})\n",
    "        concat_df = concat_df.drop(columns=['월세(만원)'])\n",
    "        concat_df = concat_df[concat_df['거래구분'] == '전세']\n",
    "    elif tradetype == '매매':\n",
    "        concat_df['거래구분'] = '매매'\n",
    "        \n",
    "    concat_df['번지'] = concat_df['번지'].apply(landnum_modifier)\n",
    "    \n",
    "    concat_df['계약년월'] = concat_df['계약년월'].astype('Int64')\n",
    "    concat_df['계약일'] = concat_df['계약일'].astype('Int64')\n",
    "    \n",
    "    concat_df['계약년월'] = concat_df['계약년월'].apply(str)\n",
    "    concat_df['계약일'] = concat_df['계약일'].apply(str)\n",
    "    \n",
    "    concat_df['계약날짜기준_건물연식'] = concat_df['계약년월'].apply(lambda x: int(x[:4])) - concat_df['건축년도']\n",
    "    \n",
    "    concat_df['계약일'] = concat_df['계약일'].apply(day_modifier)\n",
    "    \n",
    "    concat_df['계약날짜'] = concat_df['계약년월'].apply(lambda x: x[:4]) + '-' + concat_df['계약년월'].apply(lambda x: x[-2:])\\\n",
    "    + '-' + concat_df['계약일']\n",
    "    \n",
    "    concat_df['계약날짜'] = pd.to_datetime(concat_df['계약날짜'], format='%Y-%m-%d')\n",
    "    \n",
    "    concat_df['거래금액(만원)'] = concat_df['거래금액(만원)'].apply(lambda x: int(x.replace(',','')))\n",
    "    concat_df['단가(만원/㎡)'] = concat_df['거래금액(만원)'] / concat_df['전용면적(㎡)']\n",
    "    \n",
    "    concat_df['지번주소'] = concat_df['시군구'] + ' ' + concat_df['번지']\n",
    "        \n",
    "    cols_to_drop = ['번지', '지번주소', '계약년월', '계약일', '도로명']\n",
    "        \n",
    "    concat_df = concat_df[['지번주소', '도로명'] + [col for col in concat_df.columns if col not in cols_to_drop]]\n",
    "    \n",
    "    date_today = pd.to_datetime(datetime.datetime.now().strftime('%Y-%m-%d'), format='%Y-%m-%d')\n",
    "    concat_df['건물연식'] = date_today.year - concat_df['건축년도']\n",
    "    \n",
    "    concat_df = concat_df.dropna(subset=['지번주소'])\n",
    "    \n",
    "    concat_df = concat_df[concat_df['층'] >= 0].reset_index(drop=True)\n",
    "    \n",
    "    return concat_df"
   ]
  },
  {
   "cell_type": "code",
   "execution_count": 7,
   "metadata": {},
   "outputs": [
    {
     "name": "stderr",
     "output_type": "stream",
     "text": [
      "c:\\users\\max6296\\ml\\lib\\site-packages\\ipykernel_launcher.py:12: TqdmDeprecationWarning: This function will be removed in tqdm==5.0.0\n",
      "Please use `tqdm.notebook.tqdm` instead of `tqdm.tqdm_notebook`\n",
      "  if sys.path[0] == '':\n"
     ]
    },
    {
     "data": {
      "application/vnd.jupyter.widget-view+json": {
       "model_id": "5d6b8df6b5e24ff9a99963da51f06ed7",
       "version_major": 2,
       "version_minor": 0
      },
      "text/plain": [
       "0it [00:00, ?it/s]"
      ]
     },
     "metadata": {},
     "output_type": "display_data"
    },
    {
     "name": "stdout",
     "output_type": "stream",
     "text": [
      "(80191, 18)\n"
     ]
    },
    {
     "data": {
      "text/html": [
       "<div>\n",
       "<style scoped>\n",
       "    .dataframe tbody tr th:only-of-type {\n",
       "        vertical-align: middle;\n",
       "    }\n",
       "\n",
       "    .dataframe tbody tr th {\n",
       "        vertical-align: top;\n",
       "    }\n",
       "\n",
       "    .dataframe thead th {\n",
       "        text-align: right;\n",
       "    }\n",
       "</style>\n",
       "<table border=\"1\" class=\"dataframe\">\n",
       "  <thead>\n",
       "    <tr style=\"text-align: right;\">\n",
       "      <th></th>\n",
       "      <th>지번주소</th>\n",
       "      <th>도로명</th>\n",
       "      <th>시군구</th>\n",
       "      <th>본번</th>\n",
       "      <th>부번</th>\n",
       "      <th>건물(단지)명</th>\n",
       "      <th>전용면적(㎡)</th>\n",
       "      <th>거래금액(만원)</th>\n",
       "      <th>층</th>\n",
       "      <th>건축년도</th>\n",
       "      <th>거래유형</th>\n",
       "      <th>중개사소재지</th>\n",
       "      <th>거래구분</th>\n",
       "      <th>계약날짜기준_건물연식</th>\n",
       "      <th>계약날짜</th>\n",
       "      <th>단가(만원/㎡)</th>\n",
       "      <th>건물연식</th>\n",
       "      <th>부동산유형</th>\n",
       "    </tr>\n",
       "  </thead>\n",
       "  <tbody>\n",
       "    <tr>\n",
       "      <th>0</th>\n",
       "      <td>강원도 강릉시 견소동 202-0</td>\n",
       "      <td>경강로2539번길 8</td>\n",
       "      <td>강원도 강릉시 견소동</td>\n",
       "      <td>202</td>\n",
       "      <td>0</td>\n",
       "      <td>송정한신</td>\n",
       "      <td>84.945</td>\n",
       "      <td>17500</td>\n",
       "      <td>10</td>\n",
       "      <td>1997.0</td>\n",
       "      <td>-</td>\n",
       "      <td>-</td>\n",
       "      <td>매매</td>\n",
       "      <td>21.0</td>\n",
       "      <td>2018-01-03</td>\n",
       "      <td>206.015657</td>\n",
       "      <td>25.0</td>\n",
       "      <td>아파트</td>\n",
       "    </tr>\n",
       "    <tr>\n",
       "      <th>1</th>\n",
       "      <td>강원도 강릉시 견소동 202-0</td>\n",
       "      <td>경강로2539번길 8</td>\n",
       "      <td>강원도 강릉시 견소동</td>\n",
       "      <td>202</td>\n",
       "      <td>0</td>\n",
       "      <td>송정한신</td>\n",
       "      <td>59.800</td>\n",
       "      <td>12500</td>\n",
       "      <td>13</td>\n",
       "      <td>1997.0</td>\n",
       "      <td>-</td>\n",
       "      <td>-</td>\n",
       "      <td>매매</td>\n",
       "      <td>21.0</td>\n",
       "      <td>2018-02-20</td>\n",
       "      <td>209.030100</td>\n",
       "      <td>25.0</td>\n",
       "      <td>아파트</td>\n",
       "    </tr>\n",
       "    <tr>\n",
       "      <th>2</th>\n",
       "      <td>강원도 강릉시 견소동 202-0</td>\n",
       "      <td>경강로2539번길 8</td>\n",
       "      <td>강원도 강릉시 견소동</td>\n",
       "      <td>202</td>\n",
       "      <td>0</td>\n",
       "      <td>송정한신</td>\n",
       "      <td>43.380</td>\n",
       "      <td>9800</td>\n",
       "      <td>4</td>\n",
       "      <td>1997.0</td>\n",
       "      <td>-</td>\n",
       "      <td>-</td>\n",
       "      <td>매매</td>\n",
       "      <td>21.0</td>\n",
       "      <td>2018-03-08</td>\n",
       "      <td>225.910558</td>\n",
       "      <td>25.0</td>\n",
       "      <td>아파트</td>\n",
       "    </tr>\n",
       "    <tr>\n",
       "      <th>3</th>\n",
       "      <td>강원도 강릉시 견소동 202-0</td>\n",
       "      <td>경강로2539번길 8</td>\n",
       "      <td>강원도 강릉시 견소동</td>\n",
       "      <td>202</td>\n",
       "      <td>0</td>\n",
       "      <td>송정한신</td>\n",
       "      <td>84.945</td>\n",
       "      <td>17500</td>\n",
       "      <td>10</td>\n",
       "      <td>1997.0</td>\n",
       "      <td>-</td>\n",
       "      <td>-</td>\n",
       "      <td>매매</td>\n",
       "      <td>21.0</td>\n",
       "      <td>2018-03-20</td>\n",
       "      <td>206.015657</td>\n",
       "      <td>25.0</td>\n",
       "      <td>아파트</td>\n",
       "    </tr>\n",
       "    <tr>\n",
       "      <th>4</th>\n",
       "      <td>강원도 강릉시 견소동 202-0</td>\n",
       "      <td>경강로2539번길 8</td>\n",
       "      <td>강원도 강릉시 견소동</td>\n",
       "      <td>202</td>\n",
       "      <td>0</td>\n",
       "      <td>송정한신</td>\n",
       "      <td>39.080</td>\n",
       "      <td>10800</td>\n",
       "      <td>10</td>\n",
       "      <td>1997.0</td>\n",
       "      <td>-</td>\n",
       "      <td>-</td>\n",
       "      <td>매매</td>\n",
       "      <td>21.0</td>\n",
       "      <td>2018-03-25</td>\n",
       "      <td>276.356192</td>\n",
       "      <td>25.0</td>\n",
       "      <td>아파트</td>\n",
       "    </tr>\n",
       "  </tbody>\n",
       "</table>\n",
       "</div>"
      ],
      "text/plain": [
       "                지번주소          도로명          시군구   본번  부번 건물(단지)명  전용면적(㎡)  \\\n",
       "0  강원도 강릉시 견소동 202-0  경강로2539번길 8  강원도 강릉시 견소동  202   0    송정한신   84.945   \n",
       "1  강원도 강릉시 견소동 202-0  경강로2539번길 8  강원도 강릉시 견소동  202   0    송정한신   59.800   \n",
       "2  강원도 강릉시 견소동 202-0  경강로2539번길 8  강원도 강릉시 견소동  202   0    송정한신   43.380   \n",
       "3  강원도 강릉시 견소동 202-0  경강로2539번길 8  강원도 강릉시 견소동  202   0    송정한신   84.945   \n",
       "4  강원도 강릉시 견소동 202-0  경강로2539번길 8  강원도 강릉시 견소동  202   0    송정한신   39.080   \n",
       "\n",
       "   거래금액(만원)   층    건축년도 거래유형 중개사소재지 거래구분  계약날짜기준_건물연식       계약날짜    단가(만원/㎡)  \\\n",
       "0     17500  10  1997.0    -      -   매매         21.0 2018-01-03  206.015657   \n",
       "1     12500  13  1997.0    -      -   매매         21.0 2018-02-20  209.030100   \n",
       "2      9800   4  1997.0    -      -   매매         21.0 2018-03-08  225.910558   \n",
       "3     17500  10  1997.0    -      -   매매         21.0 2018-03-20  206.015657   \n",
       "4     10800  10  1997.0    -      -   매매         21.0 2018-03-25  276.356192   \n",
       "\n",
       "   건물연식 부동산유형  \n",
       "0  25.0   아파트  \n",
       "1  25.0   아파트  \n",
       "2  25.0   아파트  \n",
       "3  25.0   아파트  \n",
       "4  25.0   아파트  "
      ]
     },
     "execution_count": 7,
     "metadata": {},
     "output_type": "execute_result"
    }
   ],
   "source": [
    "apart_df = data_prep('아파트', '매매')\n",
    "apart_df['부동산유형'] = '아파트'\n",
    "print(apart_df.shape)\n",
    "apart_df.head()"
   ]
  },
  {
   "cell_type": "code",
   "execution_count": 8,
   "metadata": {},
   "outputs": [
    {
     "name": "stderr",
     "output_type": "stream",
     "text": [
      "c:\\users\\max6296\\ml\\lib\\site-packages\\ipykernel_launcher.py:12: TqdmDeprecationWarning: This function will be removed in tqdm==5.0.0\n",
      "Please use `tqdm.notebook.tqdm` instead of `tqdm.tqdm_notebook`\n",
      "  if sys.path[0] == '':\n"
     ]
    },
    {
     "data": {
      "application/vnd.jupyter.widget-view+json": {
       "model_id": "9bc0186db8434accb0492849f963fcc7",
       "version_major": 2,
       "version_minor": 0
      },
      "text/plain": [
       "0it [00:00, ?it/s]"
      ]
     },
     "metadata": {},
     "output_type": "display_data"
    },
    {
     "name": "stdout",
     "output_type": "stream",
     "text": [
      "(7218, 18)\n"
     ]
    },
    {
     "data": {
      "text/html": [
       "<div>\n",
       "<style scoped>\n",
       "    .dataframe tbody tr th:only-of-type {\n",
       "        vertical-align: middle;\n",
       "    }\n",
       "\n",
       "    .dataframe tbody tr th {\n",
       "        vertical-align: top;\n",
       "    }\n",
       "\n",
       "    .dataframe thead th {\n",
       "        text-align: right;\n",
       "    }\n",
       "</style>\n",
       "<table border=\"1\" class=\"dataframe\">\n",
       "  <thead>\n",
       "    <tr style=\"text-align: right;\">\n",
       "      <th></th>\n",
       "      <th>지번주소</th>\n",
       "      <th>도로명</th>\n",
       "      <th>시군구</th>\n",
       "      <th>본번</th>\n",
       "      <th>부번</th>\n",
       "      <th>건물(단지)명</th>\n",
       "      <th>전용면적(㎡)</th>\n",
       "      <th>거래금액(만원)</th>\n",
       "      <th>층</th>\n",
       "      <th>건축년도</th>\n",
       "      <th>거래유형</th>\n",
       "      <th>중개사소재지</th>\n",
       "      <th>거래구분</th>\n",
       "      <th>계약날짜기준_건물연식</th>\n",
       "      <th>계약날짜</th>\n",
       "      <th>단가(만원/㎡)</th>\n",
       "      <th>건물연식</th>\n",
       "      <th>부동산유형</th>\n",
       "    </tr>\n",
       "  </thead>\n",
       "  <tbody>\n",
       "    <tr>\n",
       "      <th>0</th>\n",
       "      <td>강원도 강릉시 교동 203-10</td>\n",
       "      <td>율곡로2874번길 19</td>\n",
       "      <td>강원도 강릉시 교동</td>\n",
       "      <td>203</td>\n",
       "      <td>10</td>\n",
       "      <td>203-10</td>\n",
       "      <td>80.4600</td>\n",
       "      <td>7900</td>\n",
       "      <td>1</td>\n",
       "      <td>1980</td>\n",
       "      <td>-</td>\n",
       "      <td>-</td>\n",
       "      <td>매매</td>\n",
       "      <td>38</td>\n",
       "      <td>2018-08-22</td>\n",
       "      <td>98.185434</td>\n",
       "      <td>42</td>\n",
       "      <td>연립다세대</td>\n",
       "    </tr>\n",
       "    <tr>\n",
       "      <th>1</th>\n",
       "      <td>강원도 강릉시 교동 994-64</td>\n",
       "      <td>강릉대로121번길 38</td>\n",
       "      <td>강원도 강릉시 교동</td>\n",
       "      <td>994</td>\n",
       "      <td>64</td>\n",
       "      <td>교동대호</td>\n",
       "      <td>84.9600</td>\n",
       "      <td>11000</td>\n",
       "      <td>2</td>\n",
       "      <td>2001</td>\n",
       "      <td>-</td>\n",
       "      <td>-</td>\n",
       "      <td>매매</td>\n",
       "      <td>17</td>\n",
       "      <td>2018-04-18</td>\n",
       "      <td>129.472693</td>\n",
       "      <td>21</td>\n",
       "      <td>연립다세대</td>\n",
       "    </tr>\n",
       "    <tr>\n",
       "      <th>2</th>\n",
       "      <td>강원도 강릉시 교동 941-9</td>\n",
       "      <td>원대로8번길 42</td>\n",
       "      <td>강원도 강릉시 교동</td>\n",
       "      <td>941</td>\n",
       "      <td>9</td>\n",
       "      <td>교동맨션</td>\n",
       "      <td>84.2400</td>\n",
       "      <td>8200</td>\n",
       "      <td>2</td>\n",
       "      <td>1984</td>\n",
       "      <td>-</td>\n",
       "      <td>-</td>\n",
       "      <td>매매</td>\n",
       "      <td>34</td>\n",
       "      <td>2018-03-26</td>\n",
       "      <td>97.340931</td>\n",
       "      <td>38</td>\n",
       "      <td>연립다세대</td>\n",
       "    </tr>\n",
       "    <tr>\n",
       "      <th>3</th>\n",
       "      <td>강원도 강릉시 교동 302-0</td>\n",
       "      <td>화부산로141번안길 3</td>\n",
       "      <td>강원도 강릉시 교동</td>\n",
       "      <td>302</td>\n",
       "      <td>0</td>\n",
       "      <td>까르빌</td>\n",
       "      <td>67.9961</td>\n",
       "      <td>18600</td>\n",
       "      <td>4</td>\n",
       "      <td>2018</td>\n",
       "      <td>-</td>\n",
       "      <td>-</td>\n",
       "      <td>매매</td>\n",
       "      <td>0</td>\n",
       "      <td>2018-12-24</td>\n",
       "      <td>273.545100</td>\n",
       "      <td>4</td>\n",
       "      <td>연립다세대</td>\n",
       "    </tr>\n",
       "    <tr>\n",
       "      <th>4</th>\n",
       "      <td>강원도 강릉시 교동 302-0</td>\n",
       "      <td>화부산로141번안길 3</td>\n",
       "      <td>강원도 강릉시 교동</td>\n",
       "      <td>302</td>\n",
       "      <td>0</td>\n",
       "      <td>까르빌</td>\n",
       "      <td>73.2114</td>\n",
       "      <td>18800</td>\n",
       "      <td>3</td>\n",
       "      <td>2018</td>\n",
       "      <td>-</td>\n",
       "      <td>-</td>\n",
       "      <td>매매</td>\n",
       "      <td>0</td>\n",
       "      <td>2018-12-26</td>\n",
       "      <td>256.790609</td>\n",
       "      <td>4</td>\n",
       "      <td>연립다세대</td>\n",
       "    </tr>\n",
       "  </tbody>\n",
       "</table>\n",
       "</div>"
      ],
      "text/plain": [
       "                지번주소           도로명         시군구   본번  부번 건물(단지)명  전용면적(㎡)  \\\n",
       "0  강원도 강릉시 교동 203-10  율곡로2874번길 19  강원도 강릉시 교동  203  10  203-10  80.4600   \n",
       "1  강원도 강릉시 교동 994-64  강릉대로121번길 38  강원도 강릉시 교동  994  64    교동대호  84.9600   \n",
       "2   강원도 강릉시 교동 941-9     원대로8번길 42  강원도 강릉시 교동  941   9    교동맨션  84.2400   \n",
       "3   강원도 강릉시 교동 302-0  화부산로141번안길 3  강원도 강릉시 교동  302   0     까르빌  67.9961   \n",
       "4   강원도 강릉시 교동 302-0  화부산로141번안길 3  강원도 강릉시 교동  302   0     까르빌  73.2114   \n",
       "\n",
       "   거래금액(만원)  층  건축년도 거래유형 중개사소재지 거래구분  계약날짜기준_건물연식       계약날짜    단가(만원/㎡)  \\\n",
       "0      7900  1  1980    -      -   매매           38 2018-08-22   98.185434   \n",
       "1     11000  2  2001    -      -   매매           17 2018-04-18  129.472693   \n",
       "2      8200  2  1984    -      -   매매           34 2018-03-26   97.340931   \n",
       "3     18600  4  2018    -      -   매매            0 2018-12-24  273.545100   \n",
       "4     18800  3  2018    -      -   매매            0 2018-12-26  256.790609   \n",
       "\n",
       "   건물연식  부동산유형  \n",
       "0    42  연립다세대  \n",
       "1    21  연립다세대  \n",
       "2    38  연립다세대  \n",
       "3     4  연립다세대  \n",
       "4     4  연립다세대  "
      ]
     },
     "execution_count": 8,
     "metadata": {},
     "output_type": "execute_result"
    }
   ],
   "source": [
    "yunrip_df = data_prep('연립다세대', '매매')\n",
    "yunrip_df['부동산유형'] = '연립다세대'\n",
    "print(yunrip_df.shape)\n",
    "yunrip_df.head()"
   ]
  },
  {
   "cell_type": "code",
   "execution_count": 9,
   "metadata": {},
   "outputs": [
    {
     "name": "stderr",
     "output_type": "stream",
     "text": [
      "c:\\users\\max6296\\ml\\lib\\site-packages\\ipykernel_launcher.py:12: TqdmDeprecationWarning: This function will be removed in tqdm==5.0.0\n",
      "Please use `tqdm.notebook.tqdm` instead of `tqdm.tqdm_notebook`\n",
      "  if sys.path[0] == '':\n"
     ]
    },
    {
     "data": {
      "application/vnd.jupyter.widget-view+json": {
       "model_id": "f683098ad65d474e8ffa32c406cfc187",
       "version_major": 2,
       "version_minor": 0
      },
      "text/plain": [
       "0it [00:00, ?it/s]"
      ]
     },
     "metadata": {},
     "output_type": "display_data"
    },
    {
     "name": "stdout",
     "output_type": "stream",
     "text": [
      "(1991, 18)\n"
     ]
    },
    {
     "data": {
      "text/html": [
       "<div>\n",
       "<style scoped>\n",
       "    .dataframe tbody tr th:only-of-type {\n",
       "        vertical-align: middle;\n",
       "    }\n",
       "\n",
       "    .dataframe tbody tr th {\n",
       "        vertical-align: top;\n",
       "    }\n",
       "\n",
       "    .dataframe thead th {\n",
       "        text-align: right;\n",
       "    }\n",
       "</style>\n",
       "<table border=\"1\" class=\"dataframe\">\n",
       "  <thead>\n",
       "    <tr style=\"text-align: right;\">\n",
       "      <th></th>\n",
       "      <th>지번주소</th>\n",
       "      <th>도로명</th>\n",
       "      <th>시군구</th>\n",
       "      <th>본번</th>\n",
       "      <th>부번</th>\n",
       "      <th>건물(단지)명</th>\n",
       "      <th>전용면적(㎡)</th>\n",
       "      <th>거래금액(만원)</th>\n",
       "      <th>층</th>\n",
       "      <th>건축년도</th>\n",
       "      <th>거래유형</th>\n",
       "      <th>중개사소재지</th>\n",
       "      <th>거래구분</th>\n",
       "      <th>계약날짜기준_건물연식</th>\n",
       "      <th>계약날짜</th>\n",
       "      <th>단가(만원/㎡)</th>\n",
       "      <th>건물연식</th>\n",
       "      <th>부동산유형</th>\n",
       "    </tr>\n",
       "  </thead>\n",
       "  <tbody>\n",
       "    <tr>\n",
       "      <th>0</th>\n",
       "      <td>강원도 강릉시 연곡면 영진리 357-30</td>\n",
       "      <td>영진길 33</td>\n",
       "      <td>강원도 강릉시 연곡면 영진리</td>\n",
       "      <td>357</td>\n",
       "      <td>30</td>\n",
       "      <td>ES프라우드</td>\n",
       "      <td>66.41</td>\n",
       "      <td>13143</td>\n",
       "      <td>3</td>\n",
       "      <td>2016.0</td>\n",
       "      <td>-</td>\n",
       "      <td>-</td>\n",
       "      <td>매매</td>\n",
       "      <td>2.0</td>\n",
       "      <td>2018-04-04</td>\n",
       "      <td>197.906942</td>\n",
       "      <td>6.0</td>\n",
       "      <td>오피스텔</td>\n",
       "    </tr>\n",
       "    <tr>\n",
       "      <th>1</th>\n",
       "      <td>강원도 강릉시 연곡면 영진리 357-30</td>\n",
       "      <td>영진길 33</td>\n",
       "      <td>강원도 강릉시 연곡면 영진리</td>\n",
       "      <td>357</td>\n",
       "      <td>30</td>\n",
       "      <td>ES프라우드</td>\n",
       "      <td>65.63</td>\n",
       "      <td>21844</td>\n",
       "      <td>7</td>\n",
       "      <td>2016.0</td>\n",
       "      <td>-</td>\n",
       "      <td>-</td>\n",
       "      <td>매매</td>\n",
       "      <td>2.0</td>\n",
       "      <td>2018-08-11</td>\n",
       "      <td>332.835593</td>\n",
       "      <td>6.0</td>\n",
       "      <td>오피스텔</td>\n",
       "    </tr>\n",
       "    <tr>\n",
       "      <th>2</th>\n",
       "      <td>강원도 강릉시 연곡면 영진리 357-30</td>\n",
       "      <td>영진길 33</td>\n",
       "      <td>강원도 강릉시 연곡면 영진리</td>\n",
       "      <td>357</td>\n",
       "      <td>30</td>\n",
       "      <td>ES프라우드</td>\n",
       "      <td>63.07</td>\n",
       "      <td>11987</td>\n",
       "      <td>2</td>\n",
       "      <td>2016.0</td>\n",
       "      <td>-</td>\n",
       "      <td>-</td>\n",
       "      <td>매매</td>\n",
       "      <td>2.0</td>\n",
       "      <td>2018-08-24</td>\n",
       "      <td>190.058665</td>\n",
       "      <td>6.0</td>\n",
       "      <td>오피스텔</td>\n",
       "    </tr>\n",
       "    <tr>\n",
       "      <th>3</th>\n",
       "      <td>강원도 강릉시 유천동 776-4</td>\n",
       "      <td>사임당로 180</td>\n",
       "      <td>강원도 강릉시 유천동</td>\n",
       "      <td>776</td>\n",
       "      <td>4</td>\n",
       "      <td>유천올림피아오피스텔</td>\n",
       "      <td>21.66</td>\n",
       "      <td>7940</td>\n",
       "      <td>4</td>\n",
       "      <td>2016.0</td>\n",
       "      <td>-</td>\n",
       "      <td>-</td>\n",
       "      <td>매매</td>\n",
       "      <td>2.0</td>\n",
       "      <td>2018-07-14</td>\n",
       "      <td>366.574331</td>\n",
       "      <td>6.0</td>\n",
       "      <td>오피스텔</td>\n",
       "    </tr>\n",
       "    <tr>\n",
       "      <th>4</th>\n",
       "      <td>강원도 강릉시 홍제동 1018-2</td>\n",
       "      <td>선수촌로 79-29</td>\n",
       "      <td>강원도 강릉시 홍제동</td>\n",
       "      <td>1018</td>\n",
       "      <td>2</td>\n",
       "      <td>골드팰리스</td>\n",
       "      <td>18.66</td>\n",
       "      <td>7100</td>\n",
       "      <td>6</td>\n",
       "      <td>2016.0</td>\n",
       "      <td>-</td>\n",
       "      <td>-</td>\n",
       "      <td>매매</td>\n",
       "      <td>2.0</td>\n",
       "      <td>2018-01-10</td>\n",
       "      <td>380.493033</td>\n",
       "      <td>6.0</td>\n",
       "      <td>오피스텔</td>\n",
       "    </tr>\n",
       "  </tbody>\n",
       "</table>\n",
       "</div>"
      ],
      "text/plain": [
       "                     지번주소         도로명              시군구    본번  부번     건물(단지)명  \\\n",
       "0  강원도 강릉시 연곡면 영진리 357-30      영진길 33  강원도 강릉시 연곡면 영진리   357  30      ES프라우드   \n",
       "1  강원도 강릉시 연곡면 영진리 357-30      영진길 33  강원도 강릉시 연곡면 영진리   357  30      ES프라우드   \n",
       "2  강원도 강릉시 연곡면 영진리 357-30      영진길 33  강원도 강릉시 연곡면 영진리   357  30      ES프라우드   \n",
       "3       강원도 강릉시 유천동 776-4    사임당로 180      강원도 강릉시 유천동   776   4  유천올림피아오피스텔   \n",
       "4      강원도 강릉시 홍제동 1018-2  선수촌로 79-29      강원도 강릉시 홍제동  1018   2       골드팰리스   \n",
       "\n",
       "   전용면적(㎡)  거래금액(만원)  층    건축년도 거래유형 중개사소재지 거래구분  계약날짜기준_건물연식       계약날짜  \\\n",
       "0    66.41     13143  3  2016.0    -      -   매매          2.0 2018-04-04   \n",
       "1    65.63     21844  7  2016.0    -      -   매매          2.0 2018-08-11   \n",
       "2    63.07     11987  2  2016.0    -      -   매매          2.0 2018-08-24   \n",
       "3    21.66      7940  4  2016.0    -      -   매매          2.0 2018-07-14   \n",
       "4    18.66      7100  6  2016.0    -      -   매매          2.0 2018-01-10   \n",
       "\n",
       "     단가(만원/㎡)  건물연식 부동산유형  \n",
       "0  197.906942   6.0  오피스텔  \n",
       "1  332.835593   6.0  오피스텔  \n",
       "2  190.058665   6.0  오피스텔  \n",
       "3  366.574331   6.0  오피스텔  \n",
       "4  380.493033   6.0  오피스텔  "
      ]
     },
     "execution_count": 9,
     "metadata": {},
     "output_type": "execute_result"
    }
   ],
   "source": [
    "officetel_df = data_prep('오피스텔', '매매')\n",
    "officetel_df['부동산유형'] = '오피스텔'\n",
    "print(officetel_df.shape)\n",
    "officetel_df.head()"
   ]
  },
  {
   "cell_type": "code",
   "execution_count": 10,
   "metadata": {},
   "outputs": [
    {
     "name": "stdout",
     "output_type": "stream",
     "text": [
      "(89400, 14)\n"
     ]
    },
    {
     "data": {
      "text/html": [
       "<div>\n",
       "<style scoped>\n",
       "    .dataframe tbody tr th:only-of-type {\n",
       "        vertical-align: middle;\n",
       "    }\n",
       "\n",
       "    .dataframe tbody tr th {\n",
       "        vertical-align: top;\n",
       "    }\n",
       "\n",
       "    .dataframe thead th {\n",
       "        text-align: right;\n",
       "    }\n",
       "</style>\n",
       "<table border=\"1\" class=\"dataframe\">\n",
       "  <thead>\n",
       "    <tr style=\"text-align: right;\">\n",
       "      <th></th>\n",
       "      <th>지번주소</th>\n",
       "      <th>도로명</th>\n",
       "      <th>시군구</th>\n",
       "      <th>본번</th>\n",
       "      <th>부번</th>\n",
       "      <th>건물(단지)명</th>\n",
       "      <th>전용면적(㎡)</th>\n",
       "      <th>거래금액(만원)</th>\n",
       "      <th>층</th>\n",
       "      <th>건축년도</th>\n",
       "      <th>계약날짜</th>\n",
       "      <th>단가(만원/㎡)</th>\n",
       "      <th>건물연식</th>\n",
       "      <th>부동산유형</th>\n",
       "    </tr>\n",
       "  </thead>\n",
       "  <tbody>\n",
       "    <tr>\n",
       "      <th>0</th>\n",
       "      <td>강원도 강릉시 강동면 산성우리 219-0</td>\n",
       "      <td>오이동길 45-4</td>\n",
       "      <td>강원도 강릉시 강동면 산성우리</td>\n",
       "      <td>219</td>\n",
       "      <td>0</td>\n",
       "      <td>정동진우리하우스텔1</td>\n",
       "      <td>22.45</td>\n",
       "      <td>3100</td>\n",
       "      <td>3</td>\n",
       "      <td>2012.0</td>\n",
       "      <td>2019-03-19</td>\n",
       "      <td>138.084633</td>\n",
       "      <td>10.0</td>\n",
       "      <td>연립다세대</td>\n",
       "    </tr>\n",
       "    <tr>\n",
       "      <th>1</th>\n",
       "      <td>강원도 강릉시 강동면 산성우리 219-0</td>\n",
       "      <td>오이동길 45-4</td>\n",
       "      <td>강원도 강릉시 강동면 산성우리</td>\n",
       "      <td>219</td>\n",
       "      <td>0</td>\n",
       "      <td>정동진우리하우스텔1</td>\n",
       "      <td>22.45</td>\n",
       "      <td>3100</td>\n",
       "      <td>4</td>\n",
       "      <td>2012.0</td>\n",
       "      <td>2019-03-19</td>\n",
       "      <td>138.084633</td>\n",
       "      <td>10.0</td>\n",
       "      <td>연립다세대</td>\n",
       "    </tr>\n",
       "    <tr>\n",
       "      <th>2</th>\n",
       "      <td>강원도 강릉시 강동면 산성우리 219-0</td>\n",
       "      <td>오이동길 45-4</td>\n",
       "      <td>강원도 강릉시 강동면 산성우리</td>\n",
       "      <td>219</td>\n",
       "      <td>0</td>\n",
       "      <td>정동진우리하우스텔1</td>\n",
       "      <td>22.45</td>\n",
       "      <td>3100</td>\n",
       "      <td>4</td>\n",
       "      <td>2012.0</td>\n",
       "      <td>2019-03-19</td>\n",
       "      <td>138.084633</td>\n",
       "      <td>10.0</td>\n",
       "      <td>연립다세대</td>\n",
       "    </tr>\n",
       "    <tr>\n",
       "      <th>3</th>\n",
       "      <td>강원도 강릉시 강동면 산성우리 219-0</td>\n",
       "      <td>오이동길 45-4</td>\n",
       "      <td>강원도 강릉시 강동면 산성우리</td>\n",
       "      <td>219</td>\n",
       "      <td>0</td>\n",
       "      <td>정동진우리하우스텔1</td>\n",
       "      <td>22.45</td>\n",
       "      <td>3100</td>\n",
       "      <td>2</td>\n",
       "      <td>2012.0</td>\n",
       "      <td>2019-03-19</td>\n",
       "      <td>138.084633</td>\n",
       "      <td>10.0</td>\n",
       "      <td>연립다세대</td>\n",
       "    </tr>\n",
       "    <tr>\n",
       "      <th>4</th>\n",
       "      <td>강원도 강릉시 강동면 산성우리 219-0</td>\n",
       "      <td>오이동길 45-4</td>\n",
       "      <td>강원도 강릉시 강동면 산성우리</td>\n",
       "      <td>219</td>\n",
       "      <td>0</td>\n",
       "      <td>정동진우리하우스텔1</td>\n",
       "      <td>22.45</td>\n",
       "      <td>3100</td>\n",
       "      <td>3</td>\n",
       "      <td>2012.0</td>\n",
       "      <td>2019-03-19</td>\n",
       "      <td>138.084633</td>\n",
       "      <td>10.0</td>\n",
       "      <td>연립다세대</td>\n",
       "    </tr>\n",
       "  </tbody>\n",
       "</table>\n",
       "</div>"
      ],
      "text/plain": [
       "                     지번주소        도로명               시군구   본번  부번     건물(단지)명  \\\n",
       "0  강원도 강릉시 강동면 산성우리 219-0  오이동길 45-4  강원도 강릉시 강동면 산성우리  219   0  정동진우리하우스텔1   \n",
       "1  강원도 강릉시 강동면 산성우리 219-0  오이동길 45-4  강원도 강릉시 강동면 산성우리  219   0  정동진우리하우스텔1   \n",
       "2  강원도 강릉시 강동면 산성우리 219-0  오이동길 45-4  강원도 강릉시 강동면 산성우리  219   0  정동진우리하우스텔1   \n",
       "3  강원도 강릉시 강동면 산성우리 219-0  오이동길 45-4  강원도 강릉시 강동면 산성우리  219   0  정동진우리하우스텔1   \n",
       "4  강원도 강릉시 강동면 산성우리 219-0  오이동길 45-4  강원도 강릉시 강동면 산성우리  219   0  정동진우리하우스텔1   \n",
       "\n",
       "   전용면적(㎡)  거래금액(만원)  층    건축년도       계약날짜    단가(만원/㎡)  건물연식  부동산유형  \n",
       "0    22.45      3100  3  2012.0 2019-03-19  138.084633  10.0  연립다세대  \n",
       "1    22.45      3100  4  2012.0 2019-03-19  138.084633  10.0  연립다세대  \n",
       "2    22.45      3100  4  2012.0 2019-03-19  138.084633  10.0  연립다세대  \n",
       "3    22.45      3100  2  2012.0 2019-03-19  138.084633  10.0  연립다세대  \n",
       "4    22.45      3100  3  2012.0 2019-03-19  138.084633  10.0  연립다세대  "
      ]
     },
     "execution_count": 10,
     "metadata": {},
     "output_type": "execute_result"
    }
   ],
   "source": [
    "house_df = pd.concat([apart_df, yunrip_df, officetel_df]).sort_values(['시군구', '본번', '부번', '건축년도', '전용면적(㎡)', '계약날짜']).reset_index(drop=True)\n",
    "house_df = house_df.drop(columns=['거래유형', '중개사소재지', '거래구분', '계약날짜기준_건물연식'])\n",
    "del apart_df, yunrip_df, officetel_df\n",
    "print(house_df.shape)\n",
    "house_df.head()"
   ]
  },
  {
   "cell_type": "code",
   "execution_count": 11,
   "metadata": {},
   "outputs": [
    {
     "data": {
      "text/plain": [
       "\"land_specs_df = pd.read_csv('./prepped_data/land_specs_ver_4.csv')\\nprint(land_specs_df.shape)\\nland_specs_df.head()\""
      ]
     },
     "execution_count": 11,
     "metadata": {},
     "output_type": "execute_result"
    }
   ],
   "source": [
    "'''land_specs_df = pd.read_csv('./prepped_data/land_specs_ver_4.csv')\n",
    "print(land_specs_df.shape)\n",
    "land_specs_df.head()'''"
   ]
  },
  {
   "cell_type": "code",
   "execution_count": 12,
   "metadata": {},
   "outputs": [
    {
     "data": {
      "text/plain": [
       "\"last_df = land_specs_df.drop_duplicates(subset=['지번주소'], keep='last').drop(columns=['년', '공시지가']).reset_index(drop=True)\\nprint(last_df.shape)\\nlast_df.head()\""
      ]
     },
     "execution_count": 12,
     "metadata": {},
     "output_type": "execute_result"
    }
   ],
   "source": [
    "'''last_df = land_specs_df.drop_duplicates(subset=['지번주소'], keep='last').drop(columns=['년', '공시지가']).reset_index(drop=True)\n",
    "print(last_df.shape)\n",
    "last_df.head()'''"
   ]
  },
  {
   "cell_type": "code",
   "execution_count": 13,
   "metadata": {},
   "outputs": [
    {
     "data": {
      "text/plain": [
       "\"house_merge_df = house_df.merge(last_df, on=['지번주소']).reset_index(drop=True)\\nprint(house_merge_df.shape)\""
      ]
     },
     "execution_count": 13,
     "metadata": {},
     "output_type": "execute_result"
    }
   ],
   "source": [
    "'''house_merge_df = house_df.merge(last_df, on=['지번주소']).reset_index(drop=True)\n",
    "print(house_merge_df.shape)'''"
   ]
  },
  {
   "cell_type": "code",
   "execution_count": 14,
   "metadata": {},
   "outputs": [],
   "source": [
    "house_df['일괄계약'] = 'N'"
   ]
  },
  {
   "cell_type": "code",
   "execution_count": 15,
   "metadata": {},
   "outputs": [],
   "source": [
    "#house_df = house_df.merge(last_df, on=['지번주소']).reset_index(drop=True)"
   ]
  },
  {
   "cell_type": "code",
   "execution_count": 16,
   "metadata": {},
   "outputs": [
    {
     "data": {
      "text/plain": [
       "'print(house_df.shape)\\nhouse_df.head()'"
      ]
     },
     "execution_count": 16,
     "metadata": {},
     "output_type": "execute_result"
    }
   ],
   "source": [
    "'''print(house_df.shape)\n",
    "house_df.head()'''"
   ]
  },
  {
   "cell_type": "code",
   "execution_count": 17,
   "metadata": {},
   "outputs": [],
   "source": [
    "def identify_bulk_contract(df):\n",
    "    df = df.copy()\n",
    "    \n",
    "    for addr in tqdm.tqdm_notebook(df['지번주소'].unique()):\n",
    "        addr_df = df[df['지번주소'] == addr]\n",
    "        \n",
    "        for btyear in addr_df['건축년도'].unique():\n",
    "            btyear_df = addr_df[addr_df['건축년도'] == btyear]\n",
    "            \n",
    "            if (btyear_df.shape[0] >= 10) & (btyear_df['계약날짜'].nunique() == 1):\n",
    "                df.loc[btyear_df.index, '일괄계약'] = 'Y'\n",
    "\n",
    "    return df"
   ]
  },
  {
   "cell_type": "code",
   "execution_count": 18,
   "metadata": {},
   "outputs": [
    {
     "name": "stderr",
     "output_type": "stream",
     "text": [
      "c:\\users\\max6296\\ml\\lib\\site-packages\\ipykernel_launcher.py:1: FutureWarning: Treating datetime data as categorical rather than numeric in `.describe` is deprecated and will be removed in a future version of pandas. Specify `datetime_is_numeric=True` to silence this warning and adopt the future behavior now.\n",
      "  \"\"\"Entry point for launching an IPython kernel.\n"
     ]
    },
    {
     "data": {
      "text/plain": [
       "count                   89400\n",
       "unique                   1513\n",
       "top       2018-06-27 00:00:00\n",
       "freq                      587\n",
       "first     2018-01-01 00:00:00\n",
       "last      2022-02-23 00:00:00\n",
       "Name: 계약날짜, dtype: object"
      ]
     },
     "execution_count": 18,
     "metadata": {},
     "output_type": "execute_result"
    }
   ],
   "source": [
    "house_df['계약날짜'].describe()"
   ]
  },
  {
   "cell_type": "code",
   "execution_count": 19,
   "metadata": {},
   "outputs": [
    {
     "name": "stderr",
     "output_type": "stream",
     "text": [
      "c:\\users\\max6296\\ml\\lib\\site-packages\\ipykernel_launcher.py:4: TqdmDeprecationWarning: This function will be removed in tqdm==5.0.0\n",
      "Please use `tqdm.notebook.tqdm` instead of `tqdm.tqdm_notebook`\n",
      "  after removing the cwd from sys.path.\n"
     ]
    },
    {
     "data": {
      "application/vnd.jupyter.widget-view+json": {
       "model_id": "fac51e15986b4c93b45cba11c800d75c",
       "version_major": 2,
       "version_minor": 0
      },
      "text/plain": [
       "  0%|          | 0/2625 [00:00<?, ?it/s]"
      ]
     },
     "metadata": {},
     "output_type": "display_data"
    }
   ],
   "source": [
    "house_df = identify_bulk_contract(house_df)"
   ]
  },
  {
   "cell_type": "code",
   "execution_count": 20,
   "metadata": {},
   "outputs": [
    {
     "name": "stdout",
     "output_type": "stream",
     "text": [
      "(716, 15)\n"
     ]
    },
    {
     "data": {
      "text/html": [
       "<div>\n",
       "<style scoped>\n",
       "    .dataframe tbody tr th:only-of-type {\n",
       "        vertical-align: middle;\n",
       "    }\n",
       "\n",
       "    .dataframe tbody tr th {\n",
       "        vertical-align: top;\n",
       "    }\n",
       "\n",
       "    .dataframe thead th {\n",
       "        text-align: right;\n",
       "    }\n",
       "</style>\n",
       "<table border=\"1\" class=\"dataframe\">\n",
       "  <thead>\n",
       "    <tr style=\"text-align: right;\">\n",
       "      <th></th>\n",
       "      <th>지번주소</th>\n",
       "      <th>도로명</th>\n",
       "      <th>시군구</th>\n",
       "      <th>본번</th>\n",
       "      <th>부번</th>\n",
       "      <th>건물(단지)명</th>\n",
       "      <th>전용면적(㎡)</th>\n",
       "      <th>거래금액(만원)</th>\n",
       "      <th>층</th>\n",
       "      <th>건축년도</th>\n",
       "      <th>계약날짜</th>\n",
       "      <th>단가(만원/㎡)</th>\n",
       "      <th>건물연식</th>\n",
       "      <th>부동산유형</th>\n",
       "      <th>일괄계약</th>\n",
       "    </tr>\n",
       "  </thead>\n",
       "  <tbody>\n",
       "    <tr>\n",
       "      <th>0</th>\n",
       "      <td>강원도 강릉시 강동면 산성우리 219-0</td>\n",
       "      <td>오이동길 45-4</td>\n",
       "      <td>강원도 강릉시 강동면 산성우리</td>\n",
       "      <td>219</td>\n",
       "      <td>0</td>\n",
       "      <td>정동진우리하우스텔1</td>\n",
       "      <td>22.45</td>\n",
       "      <td>3100</td>\n",
       "      <td>3</td>\n",
       "      <td>2012.0</td>\n",
       "      <td>2019-03-19</td>\n",
       "      <td>138.084633</td>\n",
       "      <td>10.0</td>\n",
       "      <td>연립다세대</td>\n",
       "      <td>Y</td>\n",
       "    </tr>\n",
       "    <tr>\n",
       "      <th>1</th>\n",
       "      <td>강원도 강릉시 강동면 산성우리 219-0</td>\n",
       "      <td>오이동길 45-4</td>\n",
       "      <td>강원도 강릉시 강동면 산성우리</td>\n",
       "      <td>219</td>\n",
       "      <td>0</td>\n",
       "      <td>정동진우리하우스텔1</td>\n",
       "      <td>22.45</td>\n",
       "      <td>3100</td>\n",
       "      <td>4</td>\n",
       "      <td>2012.0</td>\n",
       "      <td>2019-03-19</td>\n",
       "      <td>138.084633</td>\n",
       "      <td>10.0</td>\n",
       "      <td>연립다세대</td>\n",
       "      <td>Y</td>\n",
       "    </tr>\n",
       "    <tr>\n",
       "      <th>2</th>\n",
       "      <td>강원도 강릉시 강동면 산성우리 219-0</td>\n",
       "      <td>오이동길 45-4</td>\n",
       "      <td>강원도 강릉시 강동면 산성우리</td>\n",
       "      <td>219</td>\n",
       "      <td>0</td>\n",
       "      <td>정동진우리하우스텔1</td>\n",
       "      <td>22.45</td>\n",
       "      <td>3100</td>\n",
       "      <td>4</td>\n",
       "      <td>2012.0</td>\n",
       "      <td>2019-03-19</td>\n",
       "      <td>138.084633</td>\n",
       "      <td>10.0</td>\n",
       "      <td>연립다세대</td>\n",
       "      <td>Y</td>\n",
       "    </tr>\n",
       "    <tr>\n",
       "      <th>3</th>\n",
       "      <td>강원도 강릉시 강동면 산성우리 219-0</td>\n",
       "      <td>오이동길 45-4</td>\n",
       "      <td>강원도 강릉시 강동면 산성우리</td>\n",
       "      <td>219</td>\n",
       "      <td>0</td>\n",
       "      <td>정동진우리하우스텔1</td>\n",
       "      <td>22.45</td>\n",
       "      <td>3100</td>\n",
       "      <td>2</td>\n",
       "      <td>2012.0</td>\n",
       "      <td>2019-03-19</td>\n",
       "      <td>138.084633</td>\n",
       "      <td>10.0</td>\n",
       "      <td>연립다세대</td>\n",
       "      <td>Y</td>\n",
       "    </tr>\n",
       "    <tr>\n",
       "      <th>4</th>\n",
       "      <td>강원도 강릉시 강동면 산성우리 219-0</td>\n",
       "      <td>오이동길 45-4</td>\n",
       "      <td>강원도 강릉시 강동면 산성우리</td>\n",
       "      <td>219</td>\n",
       "      <td>0</td>\n",
       "      <td>정동진우리하우스텔1</td>\n",
       "      <td>22.45</td>\n",
       "      <td>3100</td>\n",
       "      <td>3</td>\n",
       "      <td>2012.0</td>\n",
       "      <td>2019-03-19</td>\n",
       "      <td>138.084633</td>\n",
       "      <td>10.0</td>\n",
       "      <td>연립다세대</td>\n",
       "      <td>Y</td>\n",
       "    </tr>\n",
       "  </tbody>\n",
       "</table>\n",
       "</div>"
      ],
      "text/plain": [
       "                     지번주소        도로명               시군구   본번  부번     건물(단지)명  \\\n",
       "0  강원도 강릉시 강동면 산성우리 219-0  오이동길 45-4  강원도 강릉시 강동면 산성우리  219   0  정동진우리하우스텔1   \n",
       "1  강원도 강릉시 강동면 산성우리 219-0  오이동길 45-4  강원도 강릉시 강동면 산성우리  219   0  정동진우리하우스텔1   \n",
       "2  강원도 강릉시 강동면 산성우리 219-0  오이동길 45-4  강원도 강릉시 강동면 산성우리  219   0  정동진우리하우스텔1   \n",
       "3  강원도 강릉시 강동면 산성우리 219-0  오이동길 45-4  강원도 강릉시 강동면 산성우리  219   0  정동진우리하우스텔1   \n",
       "4  강원도 강릉시 강동면 산성우리 219-0  오이동길 45-4  강원도 강릉시 강동면 산성우리  219   0  정동진우리하우스텔1   \n",
       "\n",
       "   전용면적(㎡)  거래금액(만원)  층    건축년도       계약날짜    단가(만원/㎡)  건물연식  부동산유형 일괄계약  \n",
       "0    22.45      3100  3  2012.0 2019-03-19  138.084633  10.0  연립다세대    Y  \n",
       "1    22.45      3100  4  2012.0 2019-03-19  138.084633  10.0  연립다세대    Y  \n",
       "2    22.45      3100  4  2012.0 2019-03-19  138.084633  10.0  연립다세대    Y  \n",
       "3    22.45      3100  2  2012.0 2019-03-19  138.084633  10.0  연립다세대    Y  \n",
       "4    22.45      3100  3  2012.0 2019-03-19  138.084633  10.0  연립다세대    Y  "
      ]
     },
     "execution_count": 20,
     "metadata": {},
     "output_type": "execute_result"
    }
   ],
   "source": [
    "bulk_df = house_df[house_df['일괄계약'] == 'Y']\n",
    "print(bulk_df.shape)\n",
    "bulk_df.head()"
   ]
  },
  {
   "cell_type": "code",
   "execution_count": 21,
   "metadata": {},
   "outputs": [
    {
     "data": {
      "text/plain": [
       "26"
      ]
     },
     "execution_count": 21,
     "metadata": {},
     "output_type": "execute_result"
    }
   ],
   "source": [
    "bulk_df['지번주소'].nunique()"
   ]
  },
  {
   "cell_type": "code",
   "execution_count": 22,
   "metadata": {},
   "outputs": [
    {
     "name": "stdout",
     "output_type": "stream",
     "text": [
      "Wall time: 324 ms\n"
     ]
    }
   ],
   "source": [
    "%%time\n",
    "bulk_df.to_excel('./공공주택찾기/강원도/일괄계약전체_20180101_20220224.xlsx', index=False)"
   ]
  },
  {
   "cell_type": "code",
   "execution_count": null,
   "metadata": {},
   "outputs": [],
   "source": []
  },
  {
   "cell_type": "code",
   "execution_count": null,
   "metadata": {},
   "outputs": [],
   "source": []
  },
  {
   "cell_type": "code",
   "execution_count": null,
   "metadata": {},
   "outputs": [],
   "source": []
  },
  {
   "cell_type": "code",
   "execution_count": null,
   "metadata": {},
   "outputs": [],
   "source": []
  },
  {
   "cell_type": "code",
   "execution_count": null,
   "metadata": {},
   "outputs": [],
   "source": []
  },
  {
   "cell_type": "code",
   "execution_count": null,
   "metadata": {},
   "outputs": [],
   "source": []
  },
  {
   "cell_type": "code",
   "execution_count": null,
   "metadata": {},
   "outputs": [],
   "source": []
  },
  {
   "cell_type": "code",
   "execution_count": null,
   "metadata": {},
   "outputs": [],
   "source": []
  },
  {
   "cell_type": "code",
   "execution_count": null,
   "metadata": {},
   "outputs": [],
   "source": []
  },
  {
   "cell_type": "code",
   "execution_count": null,
   "metadata": {},
   "outputs": [],
   "source": []
  },
  {
   "cell_type": "code",
   "execution_count": null,
   "metadata": {},
   "outputs": [],
   "source": []
  },
  {
   "cell_type": "code",
   "execution_count": null,
   "metadata": {},
   "outputs": [],
   "source": []
  },
  {
   "cell_type": "code",
   "execution_count": null,
   "metadata": {},
   "outputs": [],
   "source": []
  },
  {
   "cell_type": "code",
   "execution_count": null,
   "metadata": {},
   "outputs": [],
   "source": []
  },
  {
   "cell_type": "code",
   "execution_count": null,
   "metadata": {},
   "outputs": [],
   "source": []
  },
  {
   "cell_type": "code",
   "execution_count": null,
   "metadata": {},
   "outputs": [],
   "source": []
  },
  {
   "cell_type": "code",
   "execution_count": null,
   "metadata": {},
   "outputs": [],
   "source": []
  },
  {
   "cell_type": "code",
   "execution_count": null,
   "metadata": {},
   "outputs": [],
   "source": []
  },
  {
   "cell_type": "code",
   "execution_count": null,
   "metadata": {},
   "outputs": [],
   "source": []
  },
  {
   "cell_type": "code",
   "execution_count": null,
   "metadata": {},
   "outputs": [],
   "source": []
  },
  {
   "cell_type": "code",
   "execution_count": null,
   "metadata": {},
   "outputs": [],
   "source": []
  }
 ],
 "metadata": {
  "kernelspec": {
   "display_name": "Python 3 (ipykernel)",
   "language": "python",
   "name": "python3"
  },
  "language_info": {
   "codemirror_mode": {
    "name": "ipython",
    "version": 3
   },
   "file_extension": ".py",
   "mimetype": "text/x-python",
   "name": "python",
   "nbconvert_exporter": "python",
   "pygments_lexer": "ipython3",
   "version": "3.7.9"
  }
 },
 "nbformat": 4,
 "nbformat_minor": 4
}
