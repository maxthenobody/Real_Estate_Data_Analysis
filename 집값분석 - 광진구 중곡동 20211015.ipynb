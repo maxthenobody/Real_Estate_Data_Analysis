{
 "cells": [
  {
   "cell_type": "code",
   "execution_count": null,
   "metadata": {},
   "outputs": [],
   "source": [
    "# 2021/09/16 업데이트 내용\n",
    "# 더 이상 폴더 생성시 연립다세대_오피스텔 입력하지 않아도 됨"
   ]
  },
  {
   "cell_type": "code",
   "execution_count": null,
   "metadata": {},
   "outputs": [],
   "source": [
    "import pandas as pd\n",
    "import numpy as np\n",
    "import os\n",
    "pd.set_option('display.max_rows', 500)\n",
    "pd.set_option('display.max_columns', 500)\n",
    "from tqdm import tqdm\n",
    "import matplotlib.pyplot as plt\n",
    "import seaborn as sns\n",
    "import matplotlib\n",
    "matplotlib.rcParams['axes.unicode_minus'] = False\n",
    "pd.options.mode.chained_assignment = None  # default='warn'\n",
    "plt.rcParams['font.family'] = 'Malgun Gothic'\n",
    "import datetime"
   ]
  },
  {
   "cell_type": "code",
   "execution_count": null,
   "metadata": {},
   "outputs": [],
   "source": [
    "target_gu = '광진구' # 구 명\n",
    "target_dong = '중곡' # 동 명: 동 명에서 마지막 글자 '동' 뺄 것\n",
    "#target_purpose = '준주거' # 종 명: 건드릴 필요 없음\n",
    "target_building_age = 5 # 건물연식: 건드릴 필요 없음\n",
    "target_period = 36 # 계약날짜 검색범위: 건드릴 필요 없음\n",
    "target_starting_year = 2018 # 검색 시작 계약 년도: 건드릴 필요 없음"
   ]
  },
  {
   "cell_type": "code",
   "execution_count": null,
   "metadata": {},
   "outputs": [],
   "source": [
    "date_today = pd.to_datetime(datetime.datetime.now().strftime('%Y-%m-%d'), format='%Y-%m-%d')"
   ]
  },
  {
   "cell_type": "code",
   "execution_count": null,
   "metadata": {},
   "outputs": [],
   "source": [
    "date_today_record = str(date_today).split(' ')[0].replace('-', '')\n",
    "date_today_record"
   ]
  },
  {
   "cell_type": "code",
   "execution_count": null,
   "metadata": {},
   "outputs": [],
   "source": [
    "def day_modifier(x):\n",
    "    # x is a number\n",
    "    \n",
    "    if pd.isna(x) == True:\n",
    "        return x\n",
    "    else:\n",
    "        x = str(x)\n",
    "        if len(x) == 1:\n",
    "            return '0' + x\n",
    "        else:\n",
    "            return x"
   ]
  },
  {
   "cell_type": "code",
   "execution_count": null,
   "metadata": {},
   "outputs": [],
   "source": [
    "def landnum_modifier(x):\n",
    "    # x is a string\n",
    "    \n",
    "    if pd.isna(x) == True:\n",
    "        return x\n",
    "    else:\n",
    "        x = str(x).replace('외', '').replace(' ','')\n",
    "        splitted = x.split('-')\n",
    "        if len(splitted) == 1:\n",
    "            return x + '-0'\n",
    "        else:\n",
    "            return x"
   ]
  },
  {
   "cell_type": "code",
   "execution_count": null,
   "metadata": {},
   "outputs": [],
   "source": [
    "def data_prep(bdtype, tradetype, starting_year=2018):\n",
    "    # bdtype is a string: one of 아파트, 연립다세대 or 오피스텔\n",
    "    # tradetype is a string: one of 매매 or 전월세\n",
    "    if (tradetype != '매매') & (tradetype != '전월세'):\n",
    "        raise ValueError('두번째 변수는 매매 또는 전월세만 입력 가능')\n",
    "    \n",
    "    \n",
    "    basedir = './국토교통부_실거래가_공개시스템/{}/{}/'.format(bdtype, tradetype)\n",
    "    filenames = [f for f in os.listdir(basedir) if (f.endswith('.csv'))&('(' in f)]\n",
    "    \n",
    "    dfs_list = []\n",
    "    for i, f in tqdm(enumerate(filenames)):\n",
    "        splitted_filename = f.split('실거래가_')       \n",
    "        file_year = int(splitted_filename[-1][:4])\n",
    "        \n",
    "        if file_year < starting_year:\n",
    "            continue\n",
    "        \n",
    "        try:\n",
    "            df = pd.read_csv(basedir + f, encoding='euc-kr', header=15)\n",
    "        except:\n",
    "            try:\n",
    "                df = pd.read_csv(basedir + f, encoding='utf-8', header=15)\n",
    "            except:\n",
    "                df = pd.read_csv(basedir + f, header=15)\n",
    "        \n",
    "        if '건물명' in df.columns:\n",
    "            df.rename(columns={'건물명':'건물(단지)명'}, inplace=True)\n",
    "        elif '단지명' in df.columns:\n",
    "            df.rename(columns={'단지명':'건물(단지)명'}, inplace=True)\n",
    "            \n",
    "        if '대지권면적(㎡)' in df.columns:\n",
    "            df = df.drop(columns=['대지권면적(㎡)'])\n",
    "                \n",
    "            \n",
    "        if '해제사유발생일' in df.columns.tolist():\n",
    "            df = df[df['해제사유발생일'].isna()]\n",
    "            df = df.drop(columns=['해제사유발생일'])\n",
    "            \n",
    "        dfs_list.append(df)\n",
    "    \n",
    "    concat_df = pd.concat(dfs_list).reset_index(drop=True)\n",
    "    \n",
    "    if tradetype == '전월세':\n",
    "        concat_df = concat_df.rename(columns={'전월세구분':'거래구분', '보증금(만원)':'거래금액(만원)'})\n",
    "        concat_df = concat_df.drop(columns=['월세(만원)'])\n",
    "        concat_df = concat_df[concat_df['거래구분'] == '전세']\n",
    "    elif tradetype == '매매':\n",
    "        concat_df['거래구분'] = '매매'\n",
    "        \n",
    "    concat_df['번지'] = concat_df['번지'].apply(landnum_modifier)\n",
    "    \n",
    "    concat_df['계약년월'] = concat_df['계약년월'].astype('Int64')\n",
    "    concat_df['계약일'] = concat_df['계약일'].astype('Int64')\n",
    "    \n",
    "    concat_df['계약년월'] = concat_df['계약년월'].apply(str)\n",
    "    concat_df['계약일'] = concat_df['계약일'].apply(str)\n",
    "    \n",
    "    concat_df['계약날짜기준_건물연식'] = concat_df['계약년월'].apply(lambda x: int(x[:4])) - concat_df['건축년도']\n",
    "    \n",
    "    concat_df['계약일'] = concat_df['계약일'].apply(day_modifier)\n",
    "    \n",
    "    concat_df['계약날짜'] = concat_df['계약년월'].apply(lambda x: x[:4]) + '-' + concat_df['계약년월'].apply(lambda x: x[-2:])\\\n",
    "    + '-' + concat_df['계약일']\n",
    "    \n",
    "    concat_df['계약날짜'] = pd.to_datetime(concat_df['계약날짜'], format='%Y-%m-%d')\n",
    "    \n",
    "    concat_df['거래금액(만원)'] = concat_df['거래금액(만원)'].apply(lambda x: int(x.replace(',','')))\n",
    "    concat_df['단가(만원/㎡)'] = concat_df['거래금액(만원)'] / concat_df['전용면적(㎡)']\n",
    "    \n",
    "    concat_df['지번주소'] = concat_df['시군구'] + ' ' + concat_df['번지']\n",
    "        \n",
    "    cols_to_drop = ['시군구', '번지', '본번', '부번', '지번주소', '계약년월', '계약일', '도로명']\n",
    "        \n",
    "    concat_df = concat_df[['지번주소', '도로명'] + [col for col in concat_df.columns if col not in cols_to_drop]]\n",
    "    \n",
    "    date_today = pd.to_datetime(datetime.datetime.now().strftime('%Y-%m-%d'), format='%Y-%m-%d')\n",
    "    concat_df['건물연식'] = date_today.year - concat_df['건축년도']\n",
    "    \n",
    "    concat_df = concat_df.dropna(subset=['지번주소'])\n",
    "    \n",
    "    concat_df = concat_df[concat_df['층'] >= 0].reset_index(drop=True)\n",
    "    \n",
    "    return concat_df"
   ]
  },
  {
   "cell_type": "code",
   "execution_count": null,
   "metadata": {},
   "outputs": [],
   "source": [
    "apart_trade_df = data_prep('아파트', '매매')\n",
    "apart_lease_df = data_prep('아파트', '전월세')\n",
    "apart_df = pd.concat([apart_trade_df, apart_lease_df]).reset_index(drop=True)\n",
    "del apart_trade_df, apart_lease_df\n",
    "apart_df['부동산유형'] = '아파트'\n",
    "print(apart_df.shape)\n",
    "apart_df.head()"
   ]
  },
  {
   "cell_type": "code",
   "execution_count": null,
   "metadata": {
    "scrolled": false
   },
   "outputs": [],
   "source": [
    "yunrip_trade_df = data_prep('연립다세대', '매매')\n",
    "yunrip_lease_df = data_prep('연립다세대', '전월세')\n",
    "yunrip_df = pd.concat([yunrip_trade_df, yunrip_lease_df]).reset_index(drop=True)\n",
    "del yunrip_trade_df, yunrip_lease_df\n",
    "yunrip_df['부동산유형'] = '연립다세대'\n",
    "print(yunrip_df.shape)\n",
    "yunrip_df.head()"
   ]
  },
  {
   "cell_type": "code",
   "execution_count": null,
   "metadata": {},
   "outputs": [],
   "source": [
    "officetel_trade_df = data_prep('오피스텔', '매매')\n",
    "officetel_lease_df = data_prep('오피스텔', '전월세')\n",
    "officetel_df = pd.concat([officetel_trade_df, officetel_lease_df]).reset_index(drop=True)\n",
    "del officetel_trade_df, officetel_lease_df\n",
    "officetel_df['부동산유형'] = '오피스텔'\n",
    "print(officetel_df.shape)\n",
    "officetel_df.head()"
   ]
  },
  {
   "cell_type": "code",
   "execution_count": null,
   "metadata": {},
   "outputs": [],
   "source": [
    "house_df = pd.concat([apart_df, yunrip_df, officetel_df]).sort_values(['지번주소', '건축년도', '전용면적(㎡)', '계약날짜']).reset_index(drop=True)\n",
    "del apart_df, yunrip_df, officetel_df\n",
    "print(house_df.shape)\n",
    "house_df.head()"
   ]
  },
  {
   "cell_type": "code",
   "execution_count": null,
   "metadata": {},
   "outputs": [],
   "source": [
    "'''land_specs_df = pd.read_csv('./prepped_data/land_specs_ver_4.csv')\n",
    "print(land_specs_df.shape)\n",
    "land_specs_df.head()'''"
   ]
  },
  {
   "cell_type": "code",
   "execution_count": null,
   "metadata": {},
   "outputs": [],
   "source": [
    "'''last_df = land_specs_df.drop_duplicates(subset=['지번주소'], keep='last').drop(columns=['년', '공시지가']).reset_index(drop=True)\n",
    "print(last_df.shape)\n",
    "last_df.head()'''"
   ]
  },
  {
   "cell_type": "code",
   "execution_count": null,
   "metadata": {},
   "outputs": [],
   "source": [
    "'''house_merge_df = house_df.merge(last_df, on=['지번주소']).reset_index(drop=True)\n",
    "print(house_merge_df.shape)'''"
   ]
  },
  {
   "cell_type": "code",
   "execution_count": null,
   "metadata": {},
   "outputs": [],
   "source": [
    "house_df['구'] = house_df['지번주소'].apply(lambda x: x.split(' ')[1])\n",
    "house_df['동'] = house_df['지번주소'].apply(lambda x: x.split(' ')[2])\n",
    "#house_merge_df['구'] = house_merge_df['지번주소'].apply(lambda x: x.split(' ')[1])\n",
    "#house_merge_df['동'] = house_merge_df['지번주소'].apply(lambda x: x.split(' ')[2])"
   ]
  },
  {
   "cell_type": "code",
   "execution_count": null,
   "metadata": {},
   "outputs": [],
   "source": [
    "house_df['일괄계약'] = 'N'"
   ]
  },
  {
   "cell_type": "code",
   "execution_count": null,
   "metadata": {},
   "outputs": [],
   "source": [
    "#house_df = house_df.merge(last_df, on=['지번주소']).reset_index(drop=True)"
   ]
  },
  {
   "cell_type": "code",
   "execution_count": null,
   "metadata": {},
   "outputs": [],
   "source": [
    "'''print(house_df.shape)\n",
    "house_df.head()'''"
   ]
  },
  {
   "cell_type": "code",
   "execution_count": null,
   "metadata": {},
   "outputs": [],
   "source": [
    "def identify_bulk_contract(df):\n",
    "    df = df.copy()\n",
    "    \n",
    "    for addr in tqdm(df['지번주소'].unique()):\n",
    "        addr_df = df[df['지번주소'] == addr]\n",
    "        \n",
    "        for btyear in addr_df['건축년도'].unique():\n",
    "            btyear_df = addr_df[addr_df['건축년도'] == btyear]\n",
    "        \n",
    "            for contract_date in btyear_df['계약날짜'].unique():\n",
    "                contract_date_df = btyear_df[btyear_df['계약날짜'] == contract_date]\n",
    "\n",
    "                if contract_date_df.shape[0] >= 5:\n",
    "                    df.loc[contract_date_df.index, '일괄계약'] = 'Y'\n",
    "    \n",
    "    return df"
   ]
  },
  {
   "cell_type": "code",
   "execution_count": null,
   "metadata": {},
   "outputs": [],
   "source": [
    "target_1_12_df = house_df[\n",
    "    (house_df['지번주소'].str.contains(target_gu + ' ' + target_dong))\n",
    "    #&(house_df['동'] == target_dong)\n",
    "    &(house_df['계약날짜'] >= (date_today - pd.DateOffset(months=6)))\n",
    "    &(house_df['건물연식'] <= target_building_age)\n",
    "    #&(house_merge_df['용도지역명1'].str.contains(target_purpose))\n",
    "]\n",
    "print(target_1_12_df.shape)\n",
    "target_1_12_df.head()"
   ]
  },
  {
   "cell_type": "code",
   "execution_count": null,
   "metadata": {},
   "outputs": [],
   "source": [
    "target_2_24_df = house_df[\n",
    "    (house_df['지번주소'].str.contains(target_gu + ' ' + target_dong))\n",
    "    #&(house_df['동'] == target_dong)\n",
    "    &(house_df['계약날짜'] >= (date_today - pd.DateOffset(months=12)))\n",
    "    &(house_df['건물연식'] <= target_building_age)\n",
    "    #&(house_merge_df['용도지역명1'].str.contains(target_purpose))\n",
    "]\n",
    "print(target_2_24_df.shape)\n",
    "target_2_24_df.head()"
   ]
  },
  {
   "cell_type": "code",
   "execution_count": null,
   "metadata": {},
   "outputs": [],
   "source": [
    "target_3_36_df = house_df[\n",
    "    (house_df['지번주소'].str.contains(target_gu + ' ' + target_dong))\n",
    "    #&(house_df['동'] == target_dong)\n",
    "    &(house_df['계약날짜'] >= (date_today - pd.DateOffset(months=24)))\n",
    "    &(house_df['건물연식'] <= target_building_age)\n",
    "    #&(house_merge_df['용도지역명1'].str.contains(target_purpose))\n",
    "]\n",
    "print(target_3_36_df.shape)\n",
    "target_3_36_df.head()"
   ]
  },
  {
   "cell_type": "code",
   "execution_count": null,
   "metadata": {},
   "outputs": [],
   "source": [
    "target_5_60_df = house_df[\n",
    "    (house_df['지번주소'].str.contains(target_gu + ' ' + target_dong))\n",
    "    #&(house_df['동'] == target_dong)\n",
    "    &(house_df['계약날짜'] >= (date_today - pd.DateOffset(months=36)))\n",
    "    &(house_df['건물연식'] <= target_building_age)\n",
    "    #&(house_merge_df['용도지역명1'].str.contains(target_purpose))\n",
    "]\n",
    "print(target_5_60_df.shape)\n",
    "target_5_60_df.head()"
   ]
  },
  {
   "cell_type": "code",
   "execution_count": null,
   "metadata": {},
   "outputs": [],
   "source": [
    "target_1_12_df = identify_bulk_contract(target_1_12_df)\n",
    "print(target_1_12_df.shape)"
   ]
  },
  {
   "cell_type": "code",
   "execution_count": null,
   "metadata": {},
   "outputs": [],
   "source": [
    "target_2_24_df = identify_bulk_contract(target_2_24_df)\n",
    "print(target_2_24_df.shape)"
   ]
  },
  {
   "cell_type": "code",
   "execution_count": null,
   "metadata": {},
   "outputs": [],
   "source": [
    "target_3_36_df = identify_bulk_contract(target_3_36_df)\n",
    "print(target_3_36_df.shape)"
   ]
  },
  {
   "cell_type": "code",
   "execution_count": null,
   "metadata": {},
   "outputs": [],
   "source": [
    "target_5_60_df = identify_bulk_contract(target_5_60_df)\n",
    "print(target_5_60_df.shape)"
   ]
  },
  {
   "cell_type": "code",
   "execution_count": null,
   "metadata": {},
   "outputs": [],
   "source": [
    "sales_idx_basedir = './한국부동산원/실거래가격지수/'\n",
    "filenames = [f for f in os.listdir(sales_idx_basedir) if '연립다세대' in f]\n",
    "\n",
    "sales_idx_df = pd.read_excel(sales_idx_basedir + filenames[0], header=[10, 11])\n",
    "\n",
    "sales_idx_cols_list = []\n",
    "for i in range(sales_idx_df.shape[1]):\n",
    "    if i == 0:\n",
    "        sales_idx_cols_list.append(sales_idx_df.columns[i][0])\n",
    "    else:\n",
    "        sales_idx_cols_list.append(sales_idx_df.columns[i][0] + '_' + sales_idx_df.columns[i][1])\n",
    "\n",
    "sales_idx_df.columns = sales_idx_cols_list"
   ]
  },
  {
   "cell_type": "code",
   "execution_count": null,
   "metadata": {},
   "outputs": [],
   "source": [
    "def get_sales_idx(x):\n",
    "    # x is a pandas timestamp\n",
    "    \n",
    "    df = sales_idx_df.copy()\n",
    "    \n",
    "    if pd.isna(x) == True:\n",
    "        return x\n",
    "    else:\n",
    "        year = str(x.year)\n",
    "        month = str(x.month)\n",
    "        if len(month) == 1:\n",
    "            month = '0'+month\n",
    "        \n",
    "        idx = df[year+'년 '+month+'월_지수'].iloc[0]\n",
    "        \n",
    "        return idx"
   ]
  },
  {
   "cell_type": "code",
   "execution_count": null,
   "metadata": {},
   "outputs": [],
   "source": [
    "def get_index_applied_prices(df):\n",
    "    df = df.copy()\n",
    "    \n",
    "    last_idx = sales_idx_df.iloc[0,-2]\n",
    "    \n",
    "    last_date = sales_idx_df.columns[-1].split('_')[0]\n",
    "    \n",
    "    last_date = last_date.split(' ')[0].replace('년','') + '-' + last_date.split(' ')[1].replace('월','') + '-01'\n",
    "    \n",
    "    #target_upper_limit_df = df[df['계약날짜'] < pd.to_datetime(last_date)]\n",
    "    target_upper_limit_df = df\n",
    "    target_upper_limit_df['계약날짜_실거래지수'] = target_upper_limit_df['계약날짜'].apply(get_sales_idx)\n",
    "    \n",
    "    return target_upper_limit_df\n",
    "    \n",
    "    target_upper_limit_df['지수적용단가'] = target_upper_limit_df['단가(만원/㎡)'] / target_upper_limit_df['계약날짜_실거래지수'] * last_idx\n",
    "    df['지수적용단가'] = df['단가(만원/㎡)']\n",
    "    df.loc[target_upper_limit_df.index, '지수적용단가'] = target_upper_limit_df['지수적용단가']\n",
    "    df['지수적용날짜'] = df['계약날짜']\n",
    "    df.loc[target_upper_limit_df.index, '지수적용날짜'] = pd.to_datetime(last_date[:-2] + '01')\n",
    "    \n",
    "    return df"
   ]
  },
  {
   "cell_type": "code",
   "execution_count": null,
   "metadata": {},
   "outputs": [],
   "source": [
    "#target_1_12_df = get_index_applied_prices(target_1_12_df)\n",
    "#print(target_1_12_df.shape)\n",
    "#target_1_12_df.head()"
   ]
  },
  {
   "cell_type": "code",
   "execution_count": null,
   "metadata": {},
   "outputs": [],
   "source": [
    "#target_2_24_df = get_index_applied_prices(target_2_24_df)\n",
    "#print(target_2_24_df.shape)\n",
    "#target_2_24_df.head()"
   ]
  },
  {
   "cell_type": "code",
   "execution_count": null,
   "metadata": {},
   "outputs": [],
   "source": [
    "#target_3_36_df = get_index_applied_prices(target_3_36_df)\n",
    "#print(target_3_36_df.shape)\n",
    "#target_3_36_df.head()"
   ]
  },
  {
   "cell_type": "code",
   "execution_count": null,
   "metadata": {},
   "outputs": [],
   "source": [
    "#target_5_60_df = get_index_applied_prices(target_5_60_df)\n",
    "#print(target_5_60_df.shape)\n",
    "#target_5_60_df.head()"
   ]
  },
  {
   "cell_type": "code",
   "execution_count": null,
   "metadata": {},
   "outputs": [],
   "source": [
    "cols_to_include = [\n",
    "    '지번주소', '건물(단지)명', '건물연식', '층', '거래구분', '전용면적(㎡)', '계약날짜', '거래금액(만원)', '단가(만원/㎡)',\n",
    "    '부동산유형', '일괄계약'\n",
    "]"
   ]
  },
  {
   "cell_type": "code",
   "execution_count": null,
   "metadata": {},
   "outputs": [],
   "source": [
    "target_1_12_df = target_1_12_df.sort_values(['지번주소', '건축년도', '부동산유형', '거래구분', '계약날짜', '전용면적(㎡)']).reset_index(drop=True)\n",
    "target_1_12_df1 = target_1_12_df[cols_to_include]\n",
    "target_1_12_df1.to_excel('./국토교통부_실거래가_공개시스템/집값분석/{}_{}_{}/실거래가_건물연식{}년_계약최근6개월.xlsx'.format(target_gu, target_dong, date_today_record, target_building_age), index=False)"
   ]
  },
  {
   "cell_type": "code",
   "execution_count": null,
   "metadata": {},
   "outputs": [],
   "source": [
    "target_2_24_df = target_2_24_df.sort_values(['지번주소', '건축년도', '부동산유형', '거래구분', '계약날짜', '전용면적(㎡)']).reset_index(drop=True)\n",
    "target_2_24_df1 = target_2_24_df[cols_to_include]\n",
    "target_2_24_df1.to_excel('./국토교통부_실거래가_공개시스템/집값분석/{}_{}_{}/실거래가_건물연식{}년_계약최근12개월.xlsx'.format(target_gu, target_dong, date_today_record, target_building_age), index=False)"
   ]
  },
  {
   "cell_type": "code",
   "execution_count": null,
   "metadata": {},
   "outputs": [],
   "source": [
    "target_3_36_df = target_3_36_df.sort_values(['지번주소', '건축년도', '부동산유형', '거래구분', '계약날짜', '전용면적(㎡)']).reset_index(drop=True)\n",
    "target_3_36_df1 = target_3_36_df[cols_to_include]\n",
    "target_3_36_df1.to_excel('./국토교통부_실거래가_공개시스템/집값분석/{}_{}_{}/실거래가_건물연식{}년_계약최근24개월.xlsx'.format(target_gu, target_dong, date_today_record, target_building_age), index=False)"
   ]
  },
  {
   "cell_type": "code",
   "execution_count": null,
   "metadata": {},
   "outputs": [],
   "source": [
    "target_5_60_df = target_5_60_df.sort_values(['지번주소', '건축년도', '부동산유형', '거래구분', '계약날짜', '전용면적(㎡)']).reset_index(drop=True)\n",
    "target_5_60_df1 = target_5_60_df[cols_to_include]\n",
    "target_5_60_df1.to_excel('./국토교통부_실거래가_공개시스템/집값분석/{}_{}_{}/실거래가_건물연식{}년_계약최근36개월.xlsx'.format(target_gu, target_dong, date_today_record, target_building_age), index=False)"
   ]
  },
  {
   "cell_type": "code",
   "execution_count": null,
   "metadata": {},
   "outputs": [],
   "source": [
    "target_df = target_3_36_df.copy()"
   ]
  },
  {
   "cell_type": "code",
   "execution_count": null,
   "metadata": {},
   "outputs": [],
   "source": [
    "font = {'size': 16}\n",
    "matplotlib.rc('font', **font)\n",
    "f, ax = plt.subplots(figsize=(20,10))\n",
    "plt.title('최근 {}개월 {} {} 건물연식 {}년이하 연립다세대 및 오피스텔 매매 실거래 {}건의 전용면적 단가'.format(target_period, target_gu, target_dong, target_building_age, target_df.shape[0]))\n",
    "plt.grid(True)\n",
    "ax.xaxis.update_units(target_df['계약날짜'])\n",
    "sns.regplot(x=ax.xaxis.convert_units(target_df['계약날짜']), y=target_df['단가(만원/㎡)'])\n",
    "plt.savefig('./국토교통부_실거래가_공개시스템/집값분석/{}_{}_{}/산포도.png'.format(target_gu, target_dong, date_today_record))"
   ]
  },
  {
   "cell_type": "code",
   "execution_count": null,
   "metadata": {},
   "outputs": [],
   "source": [
    "target_last_df = target_df.drop_duplicates(subset=['지번주소', '건축년도'], keep='last').reset_index(drop=True)"
   ]
  },
  {
   "cell_type": "code",
   "execution_count": null,
   "metadata": {},
   "outputs": [],
   "source": [
    "font = {'size': 16}\n",
    "matplotlib.rc('font', **font)\n",
    "f, ax = plt.subplots(figsize=(20,10))\n",
    "plt.title('최근 {}개월 {} {} 건물연식 {}년이하 연립다세대 및 오피스텔 매매 실거래 {}건의 전용면적 단가'.format(target_period, target_gu, target_dong, target_building_age, target_last_df.shape[0]))\n",
    "plt.grid(True)\n",
    "ax.xaxis.update_units(target_last_df['계약날짜'])\n",
    "sns.regplot(x=ax.xaxis.convert_units(target_last_df['계약날짜']), y=target_last_df['단가(만원/㎡)'])\n",
    "plt.savefig('./국토교통부_실거래가_공개시스템/집값분석/{}_{}_{}/마지막_산포도.png'.format(target_gu, target_dong, date_today_record))"
   ]
  },
  {
   "cell_type": "code",
   "execution_count": null,
   "metadata": {},
   "outputs": [],
   "source": [
    "target_last_df.to_excel('./국토교통부_실거래가_공개시스템/집값분석/{}_{}_{}/마지막_실거래가.xlsx'.format(target_gu, target_dong, date_today_record), index=False)"
   ]
  },
  {
   "cell_type": "code",
   "execution_count": null,
   "metadata": {},
   "outputs": [],
   "source": [
    "target_df2 = house_df[\n",
    "    (house_df['지번주소'].str.contains(target_gu + ' ' + target_dong))\n",
    "    #&(house_df['동'] == target_dong)\n",
    "    #&(house_merge_df['계약날짜'] >= (date_today - pd.DateOffset(months=target_period)))\n",
    "    &(house_df['계약날짜기준_건물연식'] <= target_building_age)\n",
    "    #&(house_merge_df['용도지역명1'].str.contains(target_purpose))\n",
    "]\n",
    "print(target_df2.shape)\n",
    "target_df2.head()"
   ]
  },
  {
   "cell_type": "code",
   "execution_count": null,
   "metadata": {},
   "outputs": [],
   "source": [
    "#target_df2 = get_index_applied_prices(target_df2)"
   ]
  },
  {
   "cell_type": "code",
   "execution_count": null,
   "metadata": {},
   "outputs": [],
   "source": [
    "font = {'size': 12}\n",
    "matplotlib.rc('font', **font)\n",
    "f, ax = plt.subplots(figsize=(12,6))\n",
    "plt.title('{} {} 계약날짜기준 건물연식 {}년이하 연립다세대 및 오피스텔 매매 실거래 {}건의 전용면적 단가'.format(target_gu, target_dong, target_building_age, target_df2.shape[0]))\n",
    "plt.grid(True)\n",
    "sns.histplot(target_df2['단가(만원/㎡)'], kde=True)"
   ]
  },
  {
   "cell_type": "code",
   "execution_count": null,
   "metadata": {},
   "outputs": [],
   "source": [
    "target_df3 = target_df2[['지번주소', '건물(단지)명', '건축년도', '층', '전용면적(㎡)', '계약날짜', '단가(만원/㎡)', '부동산유형']]\n",
    "target_df3 = target_df3.sort_values(['지번주소', '건축년도', '계약날짜']).reset_index(drop=True)\n",
    "target_df3.to_excel('./국토교통부_실거래가_공개시스템/집값분석/{}_{}_{}/전체_실거래가.xlsx'.format(target_gu, target_dong, date_today_record), index=False)"
   ]
  },
  {
   "cell_type": "code",
   "execution_count": null,
   "metadata": {},
   "outputs": [],
   "source": [
    "target_df3_30 = target_df3[\n",
    "    (target_df3['전용면적(㎡)'] >= 28)\n",
    "    &(target_df3['전용면적(㎡)'] <= 32)\n",
    "]"
   ]
  },
  {
   "cell_type": "code",
   "execution_count": null,
   "metadata": {},
   "outputs": [],
   "source": [
    "target_df3_30.to_excel('./국토교통부_실거래가_공개시스템/집값분석/{}_{}_{}/전체_실거래가_30.xlsx'.format(target_gu, target_dong, date_today_record), index=False)"
   ]
  },
  {
   "cell_type": "code",
   "execution_count": null,
   "metadata": {},
   "outputs": [],
   "source": [
    "concat_df = pd.concat([target_df2])"
   ]
  },
  {
   "cell_type": "code",
   "execution_count": null,
   "metadata": {},
   "outputs": [],
   "source": [
    "concat_df = concat_df.sort_values(['지번주소', '건축년도', '전용면적(㎡)', '계약날짜']).reset_index(drop=True)\n",
    "concat_df = concat_df.drop_duplicates(['지번주소', '건축년도', '전용면적(㎡)'], keep='last').reset_index(drop=True)"
   ]
  },
  {
   "cell_type": "code",
   "execution_count": null,
   "metadata": {},
   "outputs": [],
   "source": [
    "concat_df['단가평균'] = concat_df[['지번주소', '건축년도', '단가(만원/㎡)']].groupby(['지번주소', '건축년도']).transform('mean')['단가(만원/㎡)']\n",
    "#concat_df['지수적용단가평균'] = concat_df[['지번주소', '건축년도', '지수적용단가']].groupby(['지번주소', '건축년도']).transform('mean')['지수적용단가']"
   ]
  },
  {
   "cell_type": "code",
   "execution_count": null,
   "metadata": {
    "scrolled": true
   },
   "outputs": [],
   "source": [
    "#concat_df = concat_df.sort_values(['지번주소', '건축년도', '지수적용날짜']).reset_index(drop=True)\n",
    "#print(concat_df.shape)\n",
    "#concat_df.head()"
   ]
  },
  {
   "cell_type": "code",
   "execution_count": null,
   "metadata": {},
   "outputs": [],
   "source": [
    "concat_last_df = concat_df.drop_duplicates(subset=['지번주소', '건축년도'], keep='last')\n",
    "print(concat_last_df.shape)\n",
    "concat_last_df.head()"
   ]
  },
  {
   "cell_type": "code",
   "execution_count": null,
   "metadata": {},
   "outputs": [],
   "source": [
    "'''font = {'size': 16}\n",
    "matplotlib.rc('font', **font)\n",
    "f, ax = plt.subplots(figsize=(20,10))\n",
    "plt.title('{} {} 계약날짜기준 건물연식 {}년이하 연립다세대 및 오피스텔 매매 실거래 지번별 {}곳의 전용면적 실거래가격지수 적용후 단가평균'.format(target_gu, target_dong, target_building_age, concat_last_df.shape[0]))\n",
    "plt.grid(True)\n",
    "sns.histplot(concat_last_df['지수적용단가'], kde=True)\n",
    "plt.savefig('./국토교통부_실거래가_공개시스템/집값분석/{}_{}_{}/지번별_분포도.png'.format(target_gu, target_dong, date_today_record))'''"
   ]
  },
  {
   "cell_type": "code",
   "execution_count": null,
   "metadata": {},
   "outputs": [],
   "source": [
    "#concat_last_df = concat_last_df.sort_values(['지번주소']).reset_index(drop=True)"
   ]
  },
  {
   "cell_type": "code",
   "execution_count": null,
   "metadata": {
    "scrolled": true
   },
   "outputs": [],
   "source": [
    "#concat_last_df = concat_last_df[['지번주소', '건물(단지)명', '건축년도', '전용면적(㎡)', '층', '계약날짜', '단가(만원/㎡)', '지수적용날짜', '지수적용단가', '부동산유형']]\n",
    "#concat_last_df.rename(columns={'계약날짜':'마지막_계약날짜'}, inplace=True)\n",
    "#concat_last_df.head()"
   ]
  },
  {
   "cell_type": "code",
   "execution_count": null,
   "metadata": {},
   "outputs": [],
   "source": [
    "#concat_last_df.to_excel('./국토교통부_실거래가_공개시스템/집값분석/{}_{}_{}/전체_마지막_실거래가.xlsx'.format(target_gu, target_dong, date_today_record), index=False)"
   ]
  },
  {
   "cell_type": "code",
   "execution_count": null,
   "metadata": {},
   "outputs": [],
   "source": []
  }
 ],
 "metadata": {
  "kernelspec": {
   "display_name": "Python 3",
   "language": "python",
   "name": "python3"
  },
  "language_info": {
   "codemirror_mode": {
    "name": "ipython",
    "version": 3
   },
   "file_extension": ".py",
   "mimetype": "text/x-python",
   "name": "python",
   "nbconvert_exporter": "python",
   "pygments_lexer": "ipython3",
   "version": "3.7.9"
  }
 },
 "nbformat": 4,
 "nbformat_minor": 4
}
