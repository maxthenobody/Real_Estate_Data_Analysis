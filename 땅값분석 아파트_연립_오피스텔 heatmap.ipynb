{
 "cells": [
  {
   "cell_type": "code",
   "execution_count": 2,
   "metadata": {},
   "outputs": [],
   "source": [
    "import pandas as pd\n",
    "import numpy as np\n",
    "import os\n",
    "pd.set_option('display.max_rows', 500)\n",
    "pd.set_option('display.max_columns', 500)\n",
    "from tqdm import tqdm\n",
    "import matplotlib.pyplot as plt\n",
    "import seaborn as sns\n",
    "import matplotlib\n",
    "matplotlib.rcParams['axes.unicode_minus'] = False\n",
    "pd.options.mode.chained_assignment = None  # default='warn'\n",
    "plt.rcParams['font.family'] = 'Malgun Gothic'\n",
    "font = {'size': 16}\n",
    "matplotlib.rc('font', **font)"
   ]
  },
  {
   "cell_type": "code",
   "execution_count": 3,
   "metadata": {},
   "outputs": [
    {
     "data": {
      "text/plain": [
       "['아파트(매매)__실거래가_20180101_20181231.csv',\n",
       " '아파트(매매)__실거래가_20190101_20191231.csv',\n",
       " '아파트(매매)__실거래가_20200101_20201231.csv',\n",
       " '아파트(매매)__실거래가_20210101_20210324.csv',\n",
       " '연립다세대(매매)__실거래가_20180101_20181231.csv',\n",
       " '연립다세대(매매)__실거래가_20190101_20191231.csv',\n",
       " '연립다세대(매매)__실거래가_20200101_20201231.csv',\n",
       " '연립다세대(매매)__실거래가_20210101_20210324.csv',\n",
       " '오피스텔(매매)__실거래가_20180101_20181231.csv',\n",
       " '오피스텔(매매)__실거래가_20190101_20191231.csv',\n",
       " '오피스텔(매매)__실거래가_20200101_20201231.csv',\n",
       " '오피스텔(매매)__실거래가_20210101_20210324.csv']"
      ]
     },
     "execution_count": 3,
     "metadata": {},
     "output_type": "execute_result"
    }
   ],
   "source": [
    "basedir = './국토교통부_실거래가_공개시스템/땅값분석/heatmap/'\n",
    "filenames = [f for f in os.listdir(basedir) if f.endswith('.csv')]\n",
    "filenames"
   ]
  },
  {
   "cell_type": "code",
   "execution_count": 4,
   "metadata": {},
   "outputs": [
    {
     "name": "stdout",
     "output_type": "stream",
     "text": [
      "아파트(매매)__실거래가_20180101_20181231.csv\n",
      "(1, 13)\n"
     ]
    },
    {
     "data": {
      "text/html": [
       "<div>\n",
       "<style scoped>\n",
       "    .dataframe tbody tr th:only-of-type {\n",
       "        vertical-align: middle;\n",
       "    }\n",
       "\n",
       "    .dataframe tbody tr th {\n",
       "        vertical-align: top;\n",
       "    }\n",
       "\n",
       "    .dataframe thead th {\n",
       "        text-align: right;\n",
       "    }\n",
       "</style>\n",
       "<table border=\"1\" class=\"dataframe\">\n",
       "  <thead>\n",
       "    <tr style=\"text-align: right;\">\n",
       "      <th></th>\n",
       "      <th>시군구</th>\n",
       "      <th>번지</th>\n",
       "      <th>본번</th>\n",
       "      <th>부번</th>\n",
       "      <th>단지명</th>\n",
       "      <th>전용면적(㎡)</th>\n",
       "      <th>계약년월</th>\n",
       "      <th>계약일</th>\n",
       "      <th>거래금액(만원)</th>\n",
       "      <th>층</th>\n",
       "      <th>건축년도</th>\n",
       "      <th>도로명</th>\n",
       "      <th>해제사유발생일</th>\n",
       "    </tr>\n",
       "  </thead>\n",
       "  <tbody>\n",
       "    <tr>\n",
       "      <th>0</th>\n",
       "      <td>서울특별시 강남구 개포동</td>\n",
       "      <td>658-1</td>\n",
       "      <td>658</td>\n",
       "      <td>1</td>\n",
       "      <td>개포6차우성아파트1동~8동</td>\n",
       "      <td>79.97</td>\n",
       "      <td>201801</td>\n",
       "      <td>3</td>\n",
       "      <td>130,000</td>\n",
       "      <td>4</td>\n",
       "      <td>1987</td>\n",
       "      <td>언주로 3</td>\n",
       "      <td>NaN</td>\n",
       "    </tr>\n",
       "  </tbody>\n",
       "</table>\n",
       "</div>"
      ],
      "text/plain": [
       "             시군구     번지   본번  부번             단지명  전용면적(㎡)    계약년월  계약일  \\\n",
       "0  서울특별시 강남구 개포동  658-1  658   1  개포6차우성아파트1동~8동    79.97  201801    3   \n",
       "\n",
       "  거래금액(만원)  층  건축년도    도로명  해제사유발생일  \n",
       "0  130,000  4  1987  언주로 3      NaN  "
      ]
     },
     "metadata": {},
     "output_type": "display_data"
    },
    {
     "name": "stdout",
     "output_type": "stream",
     "text": [
      "아파트(매매)__실거래가_20190101_20191231.csv\n",
      "(1, 13)\n"
     ]
    },
    {
     "data": {
      "text/html": [
       "<div>\n",
       "<style scoped>\n",
       "    .dataframe tbody tr th:only-of-type {\n",
       "        vertical-align: middle;\n",
       "    }\n",
       "\n",
       "    .dataframe tbody tr th {\n",
       "        vertical-align: top;\n",
       "    }\n",
       "\n",
       "    .dataframe thead th {\n",
       "        text-align: right;\n",
       "    }\n",
       "</style>\n",
       "<table border=\"1\" class=\"dataframe\">\n",
       "  <thead>\n",
       "    <tr style=\"text-align: right;\">\n",
       "      <th></th>\n",
       "      <th>시군구</th>\n",
       "      <th>번지</th>\n",
       "      <th>본번</th>\n",
       "      <th>부번</th>\n",
       "      <th>단지명</th>\n",
       "      <th>전용면적(㎡)</th>\n",
       "      <th>계약년월</th>\n",
       "      <th>계약일</th>\n",
       "      <th>거래금액(만원)</th>\n",
       "      <th>층</th>\n",
       "      <th>건축년도</th>\n",
       "      <th>도로명</th>\n",
       "      <th>해제사유발생일</th>\n",
       "    </tr>\n",
       "  </thead>\n",
       "  <tbody>\n",
       "    <tr>\n",
       "      <th>0</th>\n",
       "      <td>서울특별시 강남구 개포동</td>\n",
       "      <td>655-2</td>\n",
       "      <td>655</td>\n",
       "      <td>2</td>\n",
       "      <td>개포2차현대아파트(220)</td>\n",
       "      <td>77.75</td>\n",
       "      <td>201906</td>\n",
       "      <td>18</td>\n",
       "      <td>134,500</td>\n",
       "      <td>4</td>\n",
       "      <td>1988</td>\n",
       "      <td>언주로 103</td>\n",
       "      <td>NaN</td>\n",
       "    </tr>\n",
       "  </tbody>\n",
       "</table>\n",
       "</div>"
      ],
      "text/plain": [
       "             시군구     번지   본번  부번             단지명  전용면적(㎡)    계약년월  계약일  \\\n",
       "0  서울특별시 강남구 개포동  655-2  655   2  개포2차현대아파트(220)    77.75  201906   18   \n",
       "\n",
       "  거래금액(만원)  층  건축년도      도로명  해제사유발생일  \n",
       "0  134,500  4  1988  언주로 103      NaN  "
      ]
     },
     "metadata": {},
     "output_type": "display_data"
    },
    {
     "name": "stdout",
     "output_type": "stream",
     "text": [
      "아파트(매매)__실거래가_20200101_20201231.csv\n",
      "(1, 13)\n"
     ]
    },
    {
     "data": {
      "text/html": [
       "<div>\n",
       "<style scoped>\n",
       "    .dataframe tbody tr th:only-of-type {\n",
       "        vertical-align: middle;\n",
       "    }\n",
       "\n",
       "    .dataframe tbody tr th {\n",
       "        vertical-align: top;\n",
       "    }\n",
       "\n",
       "    .dataframe thead th {\n",
       "        text-align: right;\n",
       "    }\n",
       "</style>\n",
       "<table border=\"1\" class=\"dataframe\">\n",
       "  <thead>\n",
       "    <tr style=\"text-align: right;\">\n",
       "      <th></th>\n",
       "      <th>시군구</th>\n",
       "      <th>번지</th>\n",
       "      <th>본번</th>\n",
       "      <th>부번</th>\n",
       "      <th>단지명</th>\n",
       "      <th>전용면적(㎡)</th>\n",
       "      <th>계약년월</th>\n",
       "      <th>계약일</th>\n",
       "      <th>거래금액(만원)</th>\n",
       "      <th>층</th>\n",
       "      <th>건축년도</th>\n",
       "      <th>도로명</th>\n",
       "      <th>해제사유발생일</th>\n",
       "    </tr>\n",
       "  </thead>\n",
       "  <tbody>\n",
       "    <tr>\n",
       "      <th>0</th>\n",
       "      <td>서울특별시 강남구 개포동</td>\n",
       "      <td>655-2</td>\n",
       "      <td>655</td>\n",
       "      <td>2</td>\n",
       "      <td>개포2차현대아파트(220)</td>\n",
       "      <td>77.75</td>\n",
       "      <td>202006</td>\n",
       "      <td>23</td>\n",
       "      <td>149,500</td>\n",
       "      <td>4</td>\n",
       "      <td>1988</td>\n",
       "      <td>언주로 103</td>\n",
       "      <td>NaN</td>\n",
       "    </tr>\n",
       "  </tbody>\n",
       "</table>\n",
       "</div>"
      ],
      "text/plain": [
       "             시군구     번지   본번  부번             단지명  전용면적(㎡)    계약년월  계약일  \\\n",
       "0  서울특별시 강남구 개포동  655-2  655   2  개포2차현대아파트(220)    77.75  202006   23   \n",
       "\n",
       "  거래금액(만원)  층  건축년도      도로명  해제사유발생일  \n",
       "0  149,500  4  1988  언주로 103      NaN  "
      ]
     },
     "metadata": {},
     "output_type": "display_data"
    },
    {
     "name": "stdout",
     "output_type": "stream",
     "text": [
      "아파트(매매)__실거래가_20210101_20210324.csv\n",
      "(1, 13)\n"
     ]
    },
    {
     "data": {
      "text/html": [
       "<div>\n",
       "<style scoped>\n",
       "    .dataframe tbody tr th:only-of-type {\n",
       "        vertical-align: middle;\n",
       "    }\n",
       "\n",
       "    .dataframe tbody tr th {\n",
       "        vertical-align: top;\n",
       "    }\n",
       "\n",
       "    .dataframe thead th {\n",
       "        text-align: right;\n",
       "    }\n",
       "</style>\n",
       "<table border=\"1\" class=\"dataframe\">\n",
       "  <thead>\n",
       "    <tr style=\"text-align: right;\">\n",
       "      <th></th>\n",
       "      <th>시군구</th>\n",
       "      <th>번지</th>\n",
       "      <th>본번</th>\n",
       "      <th>부번</th>\n",
       "      <th>단지명</th>\n",
       "      <th>전용면적(㎡)</th>\n",
       "      <th>계약년월</th>\n",
       "      <th>계약일</th>\n",
       "      <th>거래금액(만원)</th>\n",
       "      <th>층</th>\n",
       "      <th>건축년도</th>\n",
       "      <th>도로명</th>\n",
       "      <th>해제사유발생일</th>\n",
       "    </tr>\n",
       "  </thead>\n",
       "  <tbody>\n",
       "    <tr>\n",
       "      <th>0</th>\n",
       "      <td>서울특별시 강남구 개포동</td>\n",
       "      <td>652</td>\n",
       "      <td>652</td>\n",
       "      <td>0</td>\n",
       "      <td>개포우성3차</td>\n",
       "      <td>104.43</td>\n",
       "      <td>202101</td>\n",
       "      <td>5</td>\n",
       "      <td>220,000</td>\n",
       "      <td>3</td>\n",
       "      <td>1984</td>\n",
       "      <td>개포로 307</td>\n",
       "      <td>20210201</td>\n",
       "    </tr>\n",
       "  </tbody>\n",
       "</table>\n",
       "</div>"
      ],
      "text/plain": [
       "             시군구   번지   본번  부번     단지명  전용면적(㎡)    계약년월  계약일 거래금액(만원)  층  \\\n",
       "0  서울특별시 강남구 개포동  652  652   0  개포우성3차   104.43  202101    5  220,000  3   \n",
       "\n",
       "   건축년도      도로명   해제사유발생일  \n",
       "0  1984  개포로 307  20210201  "
      ]
     },
     "metadata": {},
     "output_type": "display_data"
    },
    {
     "name": "stdout",
     "output_type": "stream",
     "text": [
      "연립다세대(매매)__실거래가_20180101_20181231.csv\n",
      "(1, 14)\n"
     ]
    },
    {
     "data": {
      "text/html": [
       "<div>\n",
       "<style scoped>\n",
       "    .dataframe tbody tr th:only-of-type {\n",
       "        vertical-align: middle;\n",
       "    }\n",
       "\n",
       "    .dataframe tbody tr th {\n",
       "        vertical-align: top;\n",
       "    }\n",
       "\n",
       "    .dataframe thead th {\n",
       "        text-align: right;\n",
       "    }\n",
       "</style>\n",
       "<table border=\"1\" class=\"dataframe\">\n",
       "  <thead>\n",
       "    <tr style=\"text-align: right;\">\n",
       "      <th></th>\n",
       "      <th>시군구</th>\n",
       "      <th>번지</th>\n",
       "      <th>본번</th>\n",
       "      <th>부번</th>\n",
       "      <th>건물명</th>\n",
       "      <th>전용면적(㎡)</th>\n",
       "      <th>대지권면적(㎡)</th>\n",
       "      <th>계약년월</th>\n",
       "      <th>계약일</th>\n",
       "      <th>거래금액(만원)</th>\n",
       "      <th>층</th>\n",
       "      <th>건축년도</th>\n",
       "      <th>도로명</th>\n",
       "      <th>해제사유발생일</th>\n",
       "    </tr>\n",
       "  </thead>\n",
       "  <tbody>\n",
       "    <tr>\n",
       "      <th>0</th>\n",
       "      <td>서울특별시 강남구 개포동</td>\n",
       "      <td>1172-2</td>\n",
       "      <td>1172</td>\n",
       "      <td>2</td>\n",
       "      <td>(1172-2)</td>\n",
       "      <td>29.95</td>\n",
       "      <td>17.61</td>\n",
       "      <td>201801</td>\n",
       "      <td>13</td>\n",
       "      <td>25,000</td>\n",
       "      <td>4</td>\n",
       "      <td>2012</td>\n",
       "      <td>논현로6길 22-6</td>\n",
       "      <td>NaN</td>\n",
       "    </tr>\n",
       "  </tbody>\n",
       "</table>\n",
       "</div>"
      ],
      "text/plain": [
       "             시군구      번지    본번  부번       건물명  전용면적(㎡)  대지권면적(㎡)    계약년월  계약일  \\\n",
       "0  서울특별시 강남구 개포동  1172-2  1172   2  (1172-2)    29.95     17.61  201801   13   \n",
       "\n",
       "  거래금액(만원)  층  건축년도         도로명  해제사유발생일  \n",
       "0   25,000  4  2012  논현로6길 22-6      NaN  "
      ]
     },
     "metadata": {},
     "output_type": "display_data"
    },
    {
     "name": "stdout",
     "output_type": "stream",
     "text": [
      "연립다세대(매매)__실거래가_20190101_20191231.csv\n",
      "(1, 14)\n"
     ]
    },
    {
     "data": {
      "text/html": [
       "<div>\n",
       "<style scoped>\n",
       "    .dataframe tbody tr th:only-of-type {\n",
       "        vertical-align: middle;\n",
       "    }\n",
       "\n",
       "    .dataframe tbody tr th {\n",
       "        vertical-align: top;\n",
       "    }\n",
       "\n",
       "    .dataframe thead th {\n",
       "        text-align: right;\n",
       "    }\n",
       "</style>\n",
       "<table border=\"1\" class=\"dataframe\">\n",
       "  <thead>\n",
       "    <tr style=\"text-align: right;\">\n",
       "      <th></th>\n",
       "      <th>시군구</th>\n",
       "      <th>번지</th>\n",
       "      <th>본번</th>\n",
       "      <th>부번</th>\n",
       "      <th>건물명</th>\n",
       "      <th>전용면적(㎡)</th>\n",
       "      <th>대지권면적(㎡)</th>\n",
       "      <th>계약년월</th>\n",
       "      <th>계약일</th>\n",
       "      <th>거래금액(만원)</th>\n",
       "      <th>층</th>\n",
       "      <th>건축년도</th>\n",
       "      <th>도로명</th>\n",
       "      <th>해제사유발생일</th>\n",
       "    </tr>\n",
       "  </thead>\n",
       "  <tbody>\n",
       "    <tr>\n",
       "      <th>0</th>\n",
       "      <td>서울특별시 강남구 개포동</td>\n",
       "      <td>1164-27</td>\n",
       "      <td>1164</td>\n",
       "      <td>27</td>\n",
       "      <td>(1164-27)</td>\n",
       "      <td>51.78</td>\n",
       "      <td>36.36</td>\n",
       "      <td>201902</td>\n",
       "      <td>26</td>\n",
       "      <td>55,000</td>\n",
       "      <td>3</td>\n",
       "      <td>2016</td>\n",
       "      <td>논현로2길 66</td>\n",
       "      <td>NaN</td>\n",
       "    </tr>\n",
       "  </tbody>\n",
       "</table>\n",
       "</div>"
      ],
      "text/plain": [
       "             시군구       번지    본번  부번        건물명  전용면적(㎡)  대지권면적(㎡)    계약년월  \\\n",
       "0  서울특별시 강남구 개포동  1164-27  1164  27  (1164-27)    51.78     36.36  201902   \n",
       "\n",
       "   계약일 거래금액(만원)  층  건축년도       도로명  해제사유발생일  \n",
       "0   26   55,000  3  2016  논현로2길 66      NaN  "
      ]
     },
     "metadata": {},
     "output_type": "display_data"
    },
    {
     "name": "stdout",
     "output_type": "stream",
     "text": [
      "연립다세대(매매)__실거래가_20200101_20201231.csv\n",
      "(1, 14)\n"
     ]
    },
    {
     "data": {
      "text/html": [
       "<div>\n",
       "<style scoped>\n",
       "    .dataframe tbody tr th:only-of-type {\n",
       "        vertical-align: middle;\n",
       "    }\n",
       "\n",
       "    .dataframe tbody tr th {\n",
       "        vertical-align: top;\n",
       "    }\n",
       "\n",
       "    .dataframe thead th {\n",
       "        text-align: right;\n",
       "    }\n",
       "</style>\n",
       "<table border=\"1\" class=\"dataframe\">\n",
       "  <thead>\n",
       "    <tr style=\"text-align: right;\">\n",
       "      <th></th>\n",
       "      <th>시군구</th>\n",
       "      <th>번지</th>\n",
       "      <th>본번</th>\n",
       "      <th>부번</th>\n",
       "      <th>건물명</th>\n",
       "      <th>전용면적(㎡)</th>\n",
       "      <th>대지권면적(㎡)</th>\n",
       "      <th>계약년월</th>\n",
       "      <th>계약일</th>\n",
       "      <th>거래금액(만원)</th>\n",
       "      <th>층</th>\n",
       "      <th>건축년도</th>\n",
       "      <th>도로명</th>\n",
       "      <th>해제사유발생일</th>\n",
       "    </tr>\n",
       "  </thead>\n",
       "  <tbody>\n",
       "    <tr>\n",
       "      <th>0</th>\n",
       "      <td>서울특별시 강남구 개포동</td>\n",
       "      <td>1164-27</td>\n",
       "      <td>1164</td>\n",
       "      <td>27</td>\n",
       "      <td>(1164-27)</td>\n",
       "      <td>51.78</td>\n",
       "      <td>38.86</td>\n",
       "      <td>202004</td>\n",
       "      <td>10</td>\n",
       "      <td>57,000</td>\n",
       "      <td>5</td>\n",
       "      <td>2016</td>\n",
       "      <td>논현로2길 66</td>\n",
       "      <td>NaN</td>\n",
       "    </tr>\n",
       "  </tbody>\n",
       "</table>\n",
       "</div>"
      ],
      "text/plain": [
       "             시군구       번지    본번  부번        건물명  전용면적(㎡)  대지권면적(㎡)    계약년월  \\\n",
       "0  서울특별시 강남구 개포동  1164-27  1164  27  (1164-27)    51.78     38.86  202004   \n",
       "\n",
       "   계약일 거래금액(만원)  층  건축년도       도로명  해제사유발생일  \n",
       "0   10   57,000  5  2016  논현로2길 66      NaN  "
      ]
     },
     "metadata": {},
     "output_type": "display_data"
    },
    {
     "name": "stdout",
     "output_type": "stream",
     "text": [
      "연립다세대(매매)__실거래가_20210101_20210324.csv\n",
      "(1, 14)\n"
     ]
    },
    {
     "data": {
      "text/html": [
       "<div>\n",
       "<style scoped>\n",
       "    .dataframe tbody tr th:only-of-type {\n",
       "        vertical-align: middle;\n",
       "    }\n",
       "\n",
       "    .dataframe tbody tr th {\n",
       "        vertical-align: top;\n",
       "    }\n",
       "\n",
       "    .dataframe thead th {\n",
       "        text-align: right;\n",
       "    }\n",
       "</style>\n",
       "<table border=\"1\" class=\"dataframe\">\n",
       "  <thead>\n",
       "    <tr style=\"text-align: right;\">\n",
       "      <th></th>\n",
       "      <th>시군구</th>\n",
       "      <th>번지</th>\n",
       "      <th>본번</th>\n",
       "      <th>부번</th>\n",
       "      <th>건물명</th>\n",
       "      <th>전용면적(㎡)</th>\n",
       "      <th>대지권면적(㎡)</th>\n",
       "      <th>계약년월</th>\n",
       "      <th>계약일</th>\n",
       "      <th>거래금액(만원)</th>\n",
       "      <th>층</th>\n",
       "      <th>건축년도</th>\n",
       "      <th>도로명</th>\n",
       "      <th>해제사유발생일</th>\n",
       "    </tr>\n",
       "  </thead>\n",
       "  <tbody>\n",
       "    <tr>\n",
       "      <th>0</th>\n",
       "      <td>서울특별시 강남구 개포동</td>\n",
       "      <td>162-6</td>\n",
       "      <td>162</td>\n",
       "      <td>6</td>\n",
       "      <td>(162-6)</td>\n",
       "      <td>41.38</td>\n",
       "      <td>16.56</td>\n",
       "      <td>202102</td>\n",
       "      <td>17</td>\n",
       "      <td>19,000</td>\n",
       "      <td>-1</td>\n",
       "      <td>1987</td>\n",
       "      <td>선릉로10길 22-7</td>\n",
       "      <td>NaN</td>\n",
       "    </tr>\n",
       "  </tbody>\n",
       "</table>\n",
       "</div>"
      ],
      "text/plain": [
       "             시군구     번지   본번  부번      건물명  전용면적(㎡)  대지권면적(㎡)    계약년월  계약일  \\\n",
       "0  서울특별시 강남구 개포동  162-6  162   6  (162-6)    41.38     16.56  202102   17   \n",
       "\n",
       "  거래금액(만원)  층  건축년도          도로명  해제사유발생일  \n",
       "0   19,000 -1  1987  선릉로10길 22-7      NaN  "
      ]
     },
     "metadata": {},
     "output_type": "display_data"
    },
    {
     "name": "stdout",
     "output_type": "stream",
     "text": [
      "오피스텔(매매)__실거래가_20180101_20181231.csv\n",
      "(1, 13)\n"
     ]
    },
    {
     "data": {
      "text/html": [
       "<div>\n",
       "<style scoped>\n",
       "    .dataframe tbody tr th:only-of-type {\n",
       "        vertical-align: middle;\n",
       "    }\n",
       "\n",
       "    .dataframe tbody tr th {\n",
       "        vertical-align: top;\n",
       "    }\n",
       "\n",
       "    .dataframe thead th {\n",
       "        text-align: right;\n",
       "    }\n",
       "</style>\n",
       "<table border=\"1\" class=\"dataframe\">\n",
       "  <thead>\n",
       "    <tr style=\"text-align: right;\">\n",
       "      <th></th>\n",
       "      <th>시군구</th>\n",
       "      <th>번지</th>\n",
       "      <th>본번</th>\n",
       "      <th>부번</th>\n",
       "      <th>단지명</th>\n",
       "      <th>전용면적(㎡)</th>\n",
       "      <th>계약년월</th>\n",
       "      <th>계약일</th>\n",
       "      <th>거래금액(만원)</th>\n",
       "      <th>층</th>\n",
       "      <th>건축년도</th>\n",
       "      <th>도로명</th>\n",
       "      <th>해제사유발생일</th>\n",
       "    </tr>\n",
       "  </thead>\n",
       "  <tbody>\n",
       "    <tr>\n",
       "      <th>0</th>\n",
       "      <td>서울특별시 강남구 개포동</td>\n",
       "      <td>13-3</td>\n",
       "      <td>13</td>\n",
       "      <td>3</td>\n",
       "      <td>대청타워</td>\n",
       "      <td>31.91</td>\n",
       "      <td>201801</td>\n",
       "      <td>2</td>\n",
       "      <td>18,500</td>\n",
       "      <td>20</td>\n",
       "      <td>1997</td>\n",
       "      <td>개포로 623</td>\n",
       "      <td>NaN</td>\n",
       "    </tr>\n",
       "  </tbody>\n",
       "</table>\n",
       "</div>"
      ],
      "text/plain": [
       "             시군구    번지  본번  부번   단지명  전용면적(㎡)    계약년월  계약일 거래금액(만원)   층  건축년도  \\\n",
       "0  서울특별시 강남구 개포동  13-3  13   3  대청타워    31.91  201801    2   18,500  20  1997   \n",
       "\n",
       "       도로명  해제사유발생일  \n",
       "0  개포로 623      NaN  "
      ]
     },
     "metadata": {},
     "output_type": "display_data"
    },
    {
     "name": "stdout",
     "output_type": "stream",
     "text": [
      "오피스텔(매매)__실거래가_20190101_20191231.csv\n",
      "(1, 13)\n"
     ]
    },
    {
     "data": {
      "text/html": [
       "<div>\n",
       "<style scoped>\n",
       "    .dataframe tbody tr th:only-of-type {\n",
       "        vertical-align: middle;\n",
       "    }\n",
       "\n",
       "    .dataframe tbody tr th {\n",
       "        vertical-align: top;\n",
       "    }\n",
       "\n",
       "    .dataframe thead th {\n",
       "        text-align: right;\n",
       "    }\n",
       "</style>\n",
       "<table border=\"1\" class=\"dataframe\">\n",
       "  <thead>\n",
       "    <tr style=\"text-align: right;\">\n",
       "      <th></th>\n",
       "      <th>시군구</th>\n",
       "      <th>번지</th>\n",
       "      <th>본번</th>\n",
       "      <th>부번</th>\n",
       "      <th>단지명</th>\n",
       "      <th>전용면적(㎡)</th>\n",
       "      <th>계약년월</th>\n",
       "      <th>계약일</th>\n",
       "      <th>거래금액(만원)</th>\n",
       "      <th>층</th>\n",
       "      <th>건축년도</th>\n",
       "      <th>도로명</th>\n",
       "      <th>해제사유발생일</th>\n",
       "    </tr>\n",
       "  </thead>\n",
       "  <tbody>\n",
       "    <tr>\n",
       "      <th>0</th>\n",
       "      <td>서울특별시 강남구 개포동</td>\n",
       "      <td>13-3</td>\n",
       "      <td>13</td>\n",
       "      <td>3</td>\n",
       "      <td>대청타워</td>\n",
       "      <td>31.91</td>\n",
       "      <td>201901</td>\n",
       "      <td>12</td>\n",
       "      <td>22,000</td>\n",
       "      <td>12</td>\n",
       "      <td>1997</td>\n",
       "      <td>개포로 623</td>\n",
       "      <td>NaN</td>\n",
       "    </tr>\n",
       "  </tbody>\n",
       "</table>\n",
       "</div>"
      ],
      "text/plain": [
       "             시군구    번지  본번  부번   단지명  전용면적(㎡)    계약년월  계약일 거래금액(만원)   층  건축년도  \\\n",
       "0  서울특별시 강남구 개포동  13-3  13   3  대청타워    31.91  201901   12   22,000  12  1997   \n",
       "\n",
       "       도로명  해제사유발생일  \n",
       "0  개포로 623      NaN  "
      ]
     },
     "metadata": {},
     "output_type": "display_data"
    },
    {
     "name": "stdout",
     "output_type": "stream",
     "text": [
      "오피스텔(매매)__실거래가_20200101_20201231.csv\n",
      "(1, 13)\n"
     ]
    },
    {
     "data": {
      "text/html": [
       "<div>\n",
       "<style scoped>\n",
       "    .dataframe tbody tr th:only-of-type {\n",
       "        vertical-align: middle;\n",
       "    }\n",
       "\n",
       "    .dataframe tbody tr th {\n",
       "        vertical-align: top;\n",
       "    }\n",
       "\n",
       "    .dataframe thead th {\n",
       "        text-align: right;\n",
       "    }\n",
       "</style>\n",
       "<table border=\"1\" class=\"dataframe\">\n",
       "  <thead>\n",
       "    <tr style=\"text-align: right;\">\n",
       "      <th></th>\n",
       "      <th>시군구</th>\n",
       "      <th>번지</th>\n",
       "      <th>본번</th>\n",
       "      <th>부번</th>\n",
       "      <th>단지명</th>\n",
       "      <th>전용면적(㎡)</th>\n",
       "      <th>계약년월</th>\n",
       "      <th>계약일</th>\n",
       "      <th>거래금액(만원)</th>\n",
       "      <th>층</th>\n",
       "      <th>건축년도</th>\n",
       "      <th>도로명</th>\n",
       "      <th>해제사유발생일</th>\n",
       "    </tr>\n",
       "  </thead>\n",
       "  <tbody>\n",
       "    <tr>\n",
       "      <th>0</th>\n",
       "      <td>서울특별시 강남구 개포동</td>\n",
       "      <td>13-3</td>\n",
       "      <td>13</td>\n",
       "      <td>3</td>\n",
       "      <td>대청타워</td>\n",
       "      <td>31.91</td>\n",
       "      <td>202001</td>\n",
       "      <td>14</td>\n",
       "      <td>22,000</td>\n",
       "      <td>9</td>\n",
       "      <td>1997</td>\n",
       "      <td>개포로 623</td>\n",
       "      <td>NaN</td>\n",
       "    </tr>\n",
       "  </tbody>\n",
       "</table>\n",
       "</div>"
      ],
      "text/plain": [
       "             시군구    번지  본번  부번   단지명  전용면적(㎡)    계약년월  계약일 거래금액(만원)  층  건축년도  \\\n",
       "0  서울특별시 강남구 개포동  13-3  13   3  대청타워    31.91  202001   14   22,000  9  1997   \n",
       "\n",
       "       도로명  해제사유발생일  \n",
       "0  개포로 623      NaN  "
      ]
     },
     "metadata": {},
     "output_type": "display_data"
    },
    {
     "name": "stdout",
     "output_type": "stream",
     "text": [
      "오피스텔(매매)__실거래가_20210101_20210324.csv\n",
      "(1, 13)\n"
     ]
    },
    {
     "data": {
      "text/html": [
       "<div>\n",
       "<style scoped>\n",
       "    .dataframe tbody tr th:only-of-type {\n",
       "        vertical-align: middle;\n",
       "    }\n",
       "\n",
       "    .dataframe tbody tr th {\n",
       "        vertical-align: top;\n",
       "    }\n",
       "\n",
       "    .dataframe thead th {\n",
       "        text-align: right;\n",
       "    }\n",
       "</style>\n",
       "<table border=\"1\" class=\"dataframe\">\n",
       "  <thead>\n",
       "    <tr style=\"text-align: right;\">\n",
       "      <th></th>\n",
       "      <th>시군구</th>\n",
       "      <th>번지</th>\n",
       "      <th>본번</th>\n",
       "      <th>부번</th>\n",
       "      <th>단지명</th>\n",
       "      <th>전용면적(㎡)</th>\n",
       "      <th>계약년월</th>\n",
       "      <th>계약일</th>\n",
       "      <th>거래금액(만원)</th>\n",
       "      <th>층</th>\n",
       "      <th>건축년도</th>\n",
       "      <th>도로명</th>\n",
       "      <th>해제사유발생일</th>\n",
       "    </tr>\n",
       "  </thead>\n",
       "  <tbody>\n",
       "    <tr>\n",
       "      <th>0</th>\n",
       "      <td>서울특별시 강남구 개포동</td>\n",
       "      <td>13-3</td>\n",
       "      <td>13</td>\n",
       "      <td>3</td>\n",
       "      <td>대청타워</td>\n",
       "      <td>31.91</td>\n",
       "      <td>202101</td>\n",
       "      <td>13</td>\n",
       "      <td>23,500</td>\n",
       "      <td>14</td>\n",
       "      <td>1997</td>\n",
       "      <td>개포로 623</td>\n",
       "      <td>NaN</td>\n",
       "    </tr>\n",
       "  </tbody>\n",
       "</table>\n",
       "</div>"
      ],
      "text/plain": [
       "             시군구    번지  본번  부번   단지명  전용면적(㎡)    계약년월  계약일 거래금액(만원)   층  건축년도  \\\n",
       "0  서울특별시 강남구 개포동  13-3  13   3  대청타워    31.91  202101   13   23,500  14  1997   \n",
       "\n",
       "       도로명  해제사유발생일  \n",
       "0  개포로 623      NaN  "
      ]
     },
     "metadata": {},
     "output_type": "display_data"
    }
   ],
   "source": [
    "for f in filenames:\n",
    "    df = next(pd.read_csv(basedir + f, header=15, encoding='euc-kr', chunksize=1))\n",
    "    print(f)\n",
    "    print(df.shape)\n",
    "    display(df.head(1))"
   ]
  },
  {
   "cell_type": "code",
   "execution_count": 5,
   "metadata": {},
   "outputs": [
    {
     "name": "stderr",
     "output_type": "stream",
     "text": [
      "100%|██████████████████████████████████████████████████████████████████████████████████| 12/12 [00:00<00:00, 14.76it/s]\n"
     ]
    }
   ],
   "source": [
    "dfs_list = []\n",
    "common_cols = ['시군구', '번지', '본번', '부번', '전용면적(㎡)', '계약년월', '계약일', '거래금액(만원)', '층', '건축년도', '도로명']\n",
    "for f in tqdm(filenames):\n",
    "    df = pd.read_csv(basedir + f, header=15, encoding='euc-kr')\n",
    "    df = df[common_cols]\n",
    "    if '아파트' in f:\n",
    "        df['건물종류'] = '아파트'\n",
    "    elif '연립' in f:\n",
    "        df['건물종류'] = '연립다세대'\n",
    "    elif '오피' in f:\n",
    "        df['건물종류'] = '오피스텔'\n",
    "    dfs_list.append(df)"
   ]
  },
  {
   "cell_type": "code",
   "execution_count": 6,
   "metadata": {},
   "outputs": [],
   "source": [
    "concat_df = pd.concat(dfs_list).reset_index(drop=True)"
   ]
  },
  {
   "cell_type": "code",
   "execution_count": 7,
   "metadata": {},
   "outputs": [
    {
     "data": {
      "text/html": [
       "<div>\n",
       "<style scoped>\n",
       "    .dataframe tbody tr th:only-of-type {\n",
       "        vertical-align: middle;\n",
       "    }\n",
       "\n",
       "    .dataframe tbody tr th {\n",
       "        vertical-align: top;\n",
       "    }\n",
       "\n",
       "    .dataframe thead th {\n",
       "        text-align: right;\n",
       "    }\n",
       "</style>\n",
       "<table border=\"1\" class=\"dataframe\">\n",
       "  <thead>\n",
       "    <tr style=\"text-align: right;\">\n",
       "      <th></th>\n",
       "      <th>시군구</th>\n",
       "      <th>번지</th>\n",
       "      <th>본번</th>\n",
       "      <th>부번</th>\n",
       "      <th>전용면적(㎡)</th>\n",
       "      <th>계약년월</th>\n",
       "      <th>계약일</th>\n",
       "      <th>거래금액(만원)</th>\n",
       "      <th>층</th>\n",
       "      <th>건축년도</th>\n",
       "      <th>도로명</th>\n",
       "      <th>건물종류</th>\n",
       "    </tr>\n",
       "  </thead>\n",
       "  <tbody>\n",
       "    <tr>\n",
       "      <th>0</th>\n",
       "      <td>서울특별시 강남구 개포동</td>\n",
       "      <td>658-1</td>\n",
       "      <td>658.0</td>\n",
       "      <td>1.0</td>\n",
       "      <td>79.97</td>\n",
       "      <td>201801</td>\n",
       "      <td>3</td>\n",
       "      <td>130,000</td>\n",
       "      <td>4</td>\n",
       "      <td>1987.0</td>\n",
       "      <td>언주로 3</td>\n",
       "      <td>아파트</td>\n",
       "    </tr>\n",
       "    <tr>\n",
       "      <th>1</th>\n",
       "      <td>서울특별시 강남구 개포동</td>\n",
       "      <td>658-1</td>\n",
       "      <td>658.0</td>\n",
       "      <td>1.0</td>\n",
       "      <td>79.97</td>\n",
       "      <td>201801</td>\n",
       "      <td>8</td>\n",
       "      <td>117,000</td>\n",
       "      <td>2</td>\n",
       "      <td>1987.0</td>\n",
       "      <td>언주로 3</td>\n",
       "      <td>아파트</td>\n",
       "    </tr>\n",
       "    <tr>\n",
       "      <th>2</th>\n",
       "      <td>서울특별시 강남구 개포동</td>\n",
       "      <td>658-1</td>\n",
       "      <td>658.0</td>\n",
       "      <td>1.0</td>\n",
       "      <td>79.97</td>\n",
       "      <td>201801</td>\n",
       "      <td>11</td>\n",
       "      <td>130,000</td>\n",
       "      <td>1</td>\n",
       "      <td>1987.0</td>\n",
       "      <td>언주로 3</td>\n",
       "      <td>아파트</td>\n",
       "    </tr>\n",
       "    <tr>\n",
       "      <th>3</th>\n",
       "      <td>서울특별시 강남구 개포동</td>\n",
       "      <td>658-1</td>\n",
       "      <td>658.0</td>\n",
       "      <td>1.0</td>\n",
       "      <td>79.97</td>\n",
       "      <td>201803</td>\n",
       "      <td>19</td>\n",
       "      <td>139,500</td>\n",
       "      <td>2</td>\n",
       "      <td>1987.0</td>\n",
       "      <td>언주로 3</td>\n",
       "      <td>아파트</td>\n",
       "    </tr>\n",
       "    <tr>\n",
       "      <th>4</th>\n",
       "      <td>서울특별시 강남구 개포동</td>\n",
       "      <td>658-1</td>\n",
       "      <td>658.0</td>\n",
       "      <td>1.0</td>\n",
       "      <td>54.98</td>\n",
       "      <td>201804</td>\n",
       "      <td>5</td>\n",
       "      <td>107,500</td>\n",
       "      <td>5</td>\n",
       "      <td>1987.0</td>\n",
       "      <td>언주로 3</td>\n",
       "      <td>아파트</td>\n",
       "    </tr>\n",
       "  </tbody>\n",
       "</table>\n",
       "</div>"
      ],
      "text/plain": [
       "             시군구     번지     본번   부번  전용면적(㎡)    계약년월  계약일 거래금액(만원)  층    건축년도  \\\n",
       "0  서울특별시 강남구 개포동  658-1  658.0  1.0    79.97  201801    3  130,000  4  1987.0   \n",
       "1  서울특별시 강남구 개포동  658-1  658.0  1.0    79.97  201801    8  117,000  2  1987.0   \n",
       "2  서울특별시 강남구 개포동  658-1  658.0  1.0    79.97  201801   11  130,000  1  1987.0   \n",
       "3  서울특별시 강남구 개포동  658-1  658.0  1.0    79.97  201803   19  139,500  2  1987.0   \n",
       "4  서울특별시 강남구 개포동  658-1  658.0  1.0    54.98  201804    5  107,500  5  1987.0   \n",
       "\n",
       "     도로명 건물종류  \n",
       "0  언주로 3  아파트  \n",
       "1  언주로 3  아파트  \n",
       "2  언주로 3  아파트  \n",
       "3  언주로 3  아파트  \n",
       "4  언주로 3  아파트  "
      ]
     },
     "execution_count": 7,
     "metadata": {},
     "output_type": "execute_result"
    }
   ],
   "source": [
    "concat_df.head()"
   ]
  },
  {
   "cell_type": "code",
   "execution_count": 8,
   "metadata": {},
   "outputs": [],
   "source": [
    "def landnum_modifier(x):\n",
    "    # x is a string\n",
    "    \n",
    "    if pd.isna(x) == True:\n",
    "        return x\n",
    "    else:\n",
    "        x = str(x)\n",
    "        splitted = x.split('-')\n",
    "        if len(splitted) == 1:\n",
    "            return x + '-0'\n",
    "        else:\n",
    "            return x"
   ]
  },
  {
   "cell_type": "code",
   "execution_count": 9,
   "metadata": {},
   "outputs": [],
   "source": [
    "concat_df['번지'] = concat_df['번지'].apply(landnum_modifier)"
   ]
  },
  {
   "cell_type": "code",
   "execution_count": 10,
   "metadata": {},
   "outputs": [
    {
     "name": "stdout",
     "output_type": "stream",
     "text": [
      "(546319, 3)\n"
     ]
    },
    {
     "data": {
      "text/html": [
       "<div>\n",
       "<style scoped>\n",
       "    .dataframe tbody tr th:only-of-type {\n",
       "        vertical-align: middle;\n",
       "    }\n",
       "\n",
       "    .dataframe tbody tr th {\n",
       "        vertical-align: top;\n",
       "    }\n",
       "\n",
       "    .dataframe thead th {\n",
       "        text-align: right;\n",
       "    }\n",
       "</style>\n",
       "<table border=\"1\" class=\"dataframe\">\n",
       "  <thead>\n",
       "    <tr style=\"text-align: right;\">\n",
       "      <th></th>\n",
       "      <th>도로명주소</th>\n",
       "      <th>X좌표</th>\n",
       "      <th>Y좌표</th>\n",
       "    </tr>\n",
       "  </thead>\n",
       "  <tbody>\n",
       "    <tr>\n",
       "      <th>0</th>\n",
       "      <td>서울특별시 종로구 자하문로 94-0</td>\n",
       "      <td>953241.683263</td>\n",
       "      <td>1.954023e+06</td>\n",
       "    </tr>\n",
       "    <tr>\n",
       "      <th>1</th>\n",
       "      <td>서울특별시 종로구 자하문로 96-0</td>\n",
       "      <td>953243.258151</td>\n",
       "      <td>1.954034e+06</td>\n",
       "    </tr>\n",
       "    <tr>\n",
       "      <th>2</th>\n",
       "      <td>서울특별시 종로구 자하문로 98-0</td>\n",
       "      <td>953240.877646</td>\n",
       "      <td>1.954055e+06</td>\n",
       "    </tr>\n",
       "    <tr>\n",
       "      <th>3</th>\n",
       "      <td>서울특별시 종로구 자하문로 99-3</td>\n",
       "      <td>953195.459364</td>\n",
       "      <td>1.954079e+06</td>\n",
       "    </tr>\n",
       "    <tr>\n",
       "      <th>4</th>\n",
       "      <td>서울특별시 종로구 자하문로 99-4</td>\n",
       "      <td>953193.346779</td>\n",
       "      <td>1.954097e+06</td>\n",
       "    </tr>\n",
       "  </tbody>\n",
       "</table>\n",
       "</div>"
      ],
      "text/plain": [
       "                 도로명주소            X좌표           Y좌표\n",
       "0  서울특별시 종로구 자하문로 94-0  953241.683263  1.954023e+06\n",
       "1  서울특별시 종로구 자하문로 96-0  953243.258151  1.954034e+06\n",
       "2  서울특별시 종로구 자하문로 98-0  953240.877646  1.954055e+06\n",
       "3  서울특별시 종로구 자하문로 99-3  953195.459364  1.954079e+06\n",
       "4  서울특별시 종로구 자하문로 99-4  953193.346779  1.954097e+06"
      ]
     },
     "execution_count": 10,
     "metadata": {},
     "output_type": "execute_result"
    }
   ],
   "source": [
    "coor_df = pd.read_csv('./prepped_data/coor_data_ver_1.csv')\n",
    "print(coor_df.shape)\n",
    "coor_df.head()"
   ]
  },
  {
   "cell_type": "code",
   "execution_count": 11,
   "metadata": {},
   "outputs": [
    {
     "data": {
      "text/plain": [
       "array(['서울특별시 강동구 가래여울2길 31-0', '서울특별시 강동구 가래여울2길 33-0',\n",
       "       '서울특별시 강동구 가래여울2길 69-0', '서울특별시 강동구 고덕로98길 22-0',\n",
       "       '서울특별시 강동구 고덕로98길 29-0', '서울특별시 강동구 가래여울길 3-0',\n",
       "       '서울특별시 강동구 가래여울길 8-0', '서울특별시 강동구 가래여울길 10-0',\n",
       "       '서울특별시 강동구 가래여울길 10-7', '서울특별시 강동구 가래여울길 11-0',\n",
       "       '서울특별시 강동구 가래여울길 13-0', '서울특별시 강동구 가래여울길 14-0',\n",
       "       '서울특별시 강동구 가래여울길 15-0', '서울특별시 강동구 가래여울길 16-0',\n",
       "       '서울특별시 강동구 가래여울길 16-1', '서울특별시 강동구 가래여울길 16-3',\n",
       "       '서울특별시 강동구 가래여울길 16-5', '서울특별시 강동구 가래여울길 16-6',\n",
       "       '서울특별시 강동구 가래여울길 16-7', '서울특별시 강동구 가래여울길 16-9',\n",
       "       '서울특별시 강동구 가래여울길 16-10', '서울특별시 강동구 가래여울길 16-14',\n",
       "       '서울특별시 강동구 가래여울길 17-0', '서울특별시 강동구 가래여울길 19-0',\n",
       "       '서울특별시 강동구 가래여울길 20-0', '서울특별시 강동구 가래여울길 20-1',\n",
       "       '서울특별시 강동구 가래여울길 20-2', '서울특별시 강동구 가래여울길 20-3',\n",
       "       '서울특별시 강동구 가래여울길 20-4', '서울특별시 강동구 가래여울길 21-0',\n",
       "       '서울특별시 강동구 가래여울길 21-1', '서울특별시 강동구 가래여울길 21-2',\n",
       "       '서울특별시 강동구 가래여울길 22-0', '서울특별시 강동구 가래여울길 24-0',\n",
       "       '서울특별시 강동구 가래여울길 25-0', '서울특별시 강동구 가래여울길 27-0',\n",
       "       '서울특별시 강동구 가래여울길 28-0', '서울특별시 강동구 가래여울길 29-0',\n",
       "       '서울특별시 강동구 가래여울길 29-1', '서울특별시 강동구 가래여울길 38-0',\n",
       "       '서울특별시 강동구 가래여울길 40-0', '서울특별시 강동구 가래여울길 41-0',\n",
       "       '서울특별시 강동구 가래여울길 41-25', '서울특별시 강동구 가래여울길 43-0',\n",
       "       '서울특별시 강동구 가래여울길 48-0', '서울특별시 강동구 가래여울길 49-0',\n",
       "       '서울특별시 강동구 가래여울길 50-0', '서울특별시 강동구 가래여울길 57-0',\n",
       "       '서울특별시 강동구 가래여울길 59-0', '서울특별시 강동구 가래여울길 61-0'], dtype=object)"
      ]
     },
     "execution_count": 11,
     "metadata": {},
     "output_type": "execute_result"
    }
   ],
   "source": [
    "coor_df['도로명주소'].unique()[-50:]"
   ]
  },
  {
   "cell_type": "code",
   "execution_count": 12,
   "metadata": {},
   "outputs": [],
   "source": [
    "concat_df['도로명'] = concat_df['도로명'].apply(landnum_modifier)"
   ]
  },
  {
   "cell_type": "code",
   "execution_count": 13,
   "metadata": {},
   "outputs": [
    {
     "data": {
      "text/html": [
       "<div>\n",
       "<style scoped>\n",
       "    .dataframe tbody tr th:only-of-type {\n",
       "        vertical-align: middle;\n",
       "    }\n",
       "\n",
       "    .dataframe tbody tr th {\n",
       "        vertical-align: top;\n",
       "    }\n",
       "\n",
       "    .dataframe thead th {\n",
       "        text-align: right;\n",
       "    }\n",
       "</style>\n",
       "<table border=\"1\" class=\"dataframe\">\n",
       "  <thead>\n",
       "    <tr style=\"text-align: right;\">\n",
       "      <th></th>\n",
       "      <th>시군구</th>\n",
       "      <th>번지</th>\n",
       "      <th>본번</th>\n",
       "      <th>부번</th>\n",
       "      <th>전용면적(㎡)</th>\n",
       "      <th>계약년월</th>\n",
       "      <th>계약일</th>\n",
       "      <th>거래금액(만원)</th>\n",
       "      <th>층</th>\n",
       "      <th>건축년도</th>\n",
       "      <th>도로명</th>\n",
       "      <th>건물종류</th>\n",
       "    </tr>\n",
       "  </thead>\n",
       "  <tbody>\n",
       "    <tr>\n",
       "      <th>0</th>\n",
       "      <td>서울특별시 강남구 개포동</td>\n",
       "      <td>658-1</td>\n",
       "      <td>658.0</td>\n",
       "      <td>1.0</td>\n",
       "      <td>79.97</td>\n",
       "      <td>201801</td>\n",
       "      <td>3</td>\n",
       "      <td>130,000</td>\n",
       "      <td>4</td>\n",
       "      <td>1987.0</td>\n",
       "      <td>언주로 3-0</td>\n",
       "      <td>아파트</td>\n",
       "    </tr>\n",
       "    <tr>\n",
       "      <th>1</th>\n",
       "      <td>서울특별시 강남구 개포동</td>\n",
       "      <td>658-1</td>\n",
       "      <td>658.0</td>\n",
       "      <td>1.0</td>\n",
       "      <td>79.97</td>\n",
       "      <td>201801</td>\n",
       "      <td>8</td>\n",
       "      <td>117,000</td>\n",
       "      <td>2</td>\n",
       "      <td>1987.0</td>\n",
       "      <td>언주로 3-0</td>\n",
       "      <td>아파트</td>\n",
       "    </tr>\n",
       "    <tr>\n",
       "      <th>2</th>\n",
       "      <td>서울특별시 강남구 개포동</td>\n",
       "      <td>658-1</td>\n",
       "      <td>658.0</td>\n",
       "      <td>1.0</td>\n",
       "      <td>79.97</td>\n",
       "      <td>201801</td>\n",
       "      <td>11</td>\n",
       "      <td>130,000</td>\n",
       "      <td>1</td>\n",
       "      <td>1987.0</td>\n",
       "      <td>언주로 3-0</td>\n",
       "      <td>아파트</td>\n",
       "    </tr>\n",
       "    <tr>\n",
       "      <th>3</th>\n",
       "      <td>서울특별시 강남구 개포동</td>\n",
       "      <td>658-1</td>\n",
       "      <td>658.0</td>\n",
       "      <td>1.0</td>\n",
       "      <td>79.97</td>\n",
       "      <td>201803</td>\n",
       "      <td>19</td>\n",
       "      <td>139,500</td>\n",
       "      <td>2</td>\n",
       "      <td>1987.0</td>\n",
       "      <td>언주로 3-0</td>\n",
       "      <td>아파트</td>\n",
       "    </tr>\n",
       "    <tr>\n",
       "      <th>4</th>\n",
       "      <td>서울특별시 강남구 개포동</td>\n",
       "      <td>658-1</td>\n",
       "      <td>658.0</td>\n",
       "      <td>1.0</td>\n",
       "      <td>54.98</td>\n",
       "      <td>201804</td>\n",
       "      <td>5</td>\n",
       "      <td>107,500</td>\n",
       "      <td>5</td>\n",
       "      <td>1987.0</td>\n",
       "      <td>언주로 3-0</td>\n",
       "      <td>아파트</td>\n",
       "    </tr>\n",
       "  </tbody>\n",
       "</table>\n",
       "</div>"
      ],
      "text/plain": [
       "             시군구     번지     본번   부번  전용면적(㎡)    계약년월  계약일 거래금액(만원)  층    건축년도  \\\n",
       "0  서울특별시 강남구 개포동  658-1  658.0  1.0    79.97  201801    3  130,000  4  1987.0   \n",
       "1  서울특별시 강남구 개포동  658-1  658.0  1.0    79.97  201801    8  117,000  2  1987.0   \n",
       "2  서울특별시 강남구 개포동  658-1  658.0  1.0    79.97  201801   11  130,000  1  1987.0   \n",
       "3  서울특별시 강남구 개포동  658-1  658.0  1.0    79.97  201803   19  139,500  2  1987.0   \n",
       "4  서울특별시 강남구 개포동  658-1  658.0  1.0    54.98  201804    5  107,500  5  1987.0   \n",
       "\n",
       "       도로명 건물종류  \n",
       "0  언주로 3-0  아파트  \n",
       "1  언주로 3-0  아파트  \n",
       "2  언주로 3-0  아파트  \n",
       "3  언주로 3-0  아파트  \n",
       "4  언주로 3-0  아파트  "
      ]
     },
     "execution_count": 13,
     "metadata": {},
     "output_type": "execute_result"
    }
   ],
   "source": [
    "concat_df.head()"
   ]
  },
  {
   "cell_type": "code",
   "execution_count": 14,
   "metadata": {},
   "outputs": [
    {
     "data": {
      "text/plain": [
       "array(['언주로 3-0', '개포로 307-0', '개포로109길 69-0', '개포로 310-0', '선릉로 7-0',\n",
       "       '삼성로 14-0', '삼성로4길 17-0', '개포로 516-0', '언주로 105-0', '언주로 110-0',\n",
       "       '논현로2길 61-4', '개포로28길 28-0', '개포로109길 21-0', '논현로2길 36-0',\n",
       "       '논현로2길 38-0', '개포로109길 9-0', '언주로 21-0', '논현로2길 22-0', '선릉로8길 5-0',\n",
       "       '개포로 411-0', '개포로 311-0', '개포로31길 9-9', '개포로31길 9-5',\n",
       "       '선릉로18길 12-0', '개포로 303-0', '언주로 107-0', '개포로 409-0',\n",
       "       '봉은사로11길 12-0', '강남대로112길 41-0', '언주로116길 12-0', '도산대로54길 48-8',\n",
       "       '학동로38길 22-0', '논현로113길 5-0', '논현로111길 39-0', '학동로46길 32-0',\n",
       "       '학동로30길 21-0', '논현로124길 7-0', '학동로43길 38-0', '학동로 338-0',\n",
       "       '봉은사로11길 11-0', '언주로116길 6-0', '언주로130길 30-0', '언주로146길 18-0',\n",
       "       '학동로46길 38-0', '언주로122길 25-0', '논현로124길 8-0', '학동로 165-0',\n",
       "       '학동로5길 17-0', '학동로11길 13-0', '학동로21길 23-0'], dtype=object)"
      ]
     },
     "execution_count": 14,
     "metadata": {},
     "output_type": "execute_result"
    }
   ],
   "source": [
    "concat_df['도로명'].unique()[:50]"
   ]
  },
  {
   "cell_type": "code",
   "execution_count": 15,
   "metadata": {},
   "outputs": [],
   "source": [
    "concat_df['지번주소'] = concat_df['시군구'] + ' ' + concat_df['번지']\n",
    "concat_df['도로명주소'] = concat_df['시군구'].apply(lambda x: x.split(' ')[0]) + ' ' + \\\n",
    "concat_df['시군구'].apply(lambda x: x.split(' ')[1]) + ' ' + concat_df['도로명']"
   ]
  },
  {
   "cell_type": "code",
   "execution_count": 16,
   "metadata": {},
   "outputs": [
    {
     "data": {
      "text/html": [
       "<div>\n",
       "<style scoped>\n",
       "    .dataframe tbody tr th:only-of-type {\n",
       "        vertical-align: middle;\n",
       "    }\n",
       "\n",
       "    .dataframe tbody tr th {\n",
       "        vertical-align: top;\n",
       "    }\n",
       "\n",
       "    .dataframe thead th {\n",
       "        text-align: right;\n",
       "    }\n",
       "</style>\n",
       "<table border=\"1\" class=\"dataframe\">\n",
       "  <thead>\n",
       "    <tr style=\"text-align: right;\">\n",
       "      <th></th>\n",
       "      <th>시군구</th>\n",
       "      <th>번지</th>\n",
       "      <th>본번</th>\n",
       "      <th>부번</th>\n",
       "      <th>전용면적(㎡)</th>\n",
       "      <th>계약년월</th>\n",
       "      <th>계약일</th>\n",
       "      <th>거래금액(만원)</th>\n",
       "      <th>층</th>\n",
       "      <th>건축년도</th>\n",
       "      <th>도로명</th>\n",
       "      <th>건물종류</th>\n",
       "      <th>지번주소</th>\n",
       "      <th>도로명주소</th>\n",
       "    </tr>\n",
       "  </thead>\n",
       "  <tbody>\n",
       "    <tr>\n",
       "      <th>0</th>\n",
       "      <td>서울특별시 강남구 개포동</td>\n",
       "      <td>658-1</td>\n",
       "      <td>658.0</td>\n",
       "      <td>1.0</td>\n",
       "      <td>79.97</td>\n",
       "      <td>201801</td>\n",
       "      <td>3</td>\n",
       "      <td>130,000</td>\n",
       "      <td>4</td>\n",
       "      <td>1987.0</td>\n",
       "      <td>언주로 3-0</td>\n",
       "      <td>아파트</td>\n",
       "      <td>서울특별시 강남구 개포동 658-1</td>\n",
       "      <td>서울특별시 강남구 언주로 3-0</td>\n",
       "    </tr>\n",
       "    <tr>\n",
       "      <th>1</th>\n",
       "      <td>서울특별시 강남구 개포동</td>\n",
       "      <td>658-1</td>\n",
       "      <td>658.0</td>\n",
       "      <td>1.0</td>\n",
       "      <td>79.97</td>\n",
       "      <td>201801</td>\n",
       "      <td>8</td>\n",
       "      <td>117,000</td>\n",
       "      <td>2</td>\n",
       "      <td>1987.0</td>\n",
       "      <td>언주로 3-0</td>\n",
       "      <td>아파트</td>\n",
       "      <td>서울특별시 강남구 개포동 658-1</td>\n",
       "      <td>서울특별시 강남구 언주로 3-0</td>\n",
       "    </tr>\n",
       "    <tr>\n",
       "      <th>2</th>\n",
       "      <td>서울특별시 강남구 개포동</td>\n",
       "      <td>658-1</td>\n",
       "      <td>658.0</td>\n",
       "      <td>1.0</td>\n",
       "      <td>79.97</td>\n",
       "      <td>201801</td>\n",
       "      <td>11</td>\n",
       "      <td>130,000</td>\n",
       "      <td>1</td>\n",
       "      <td>1987.0</td>\n",
       "      <td>언주로 3-0</td>\n",
       "      <td>아파트</td>\n",
       "      <td>서울특별시 강남구 개포동 658-1</td>\n",
       "      <td>서울특별시 강남구 언주로 3-0</td>\n",
       "    </tr>\n",
       "    <tr>\n",
       "      <th>3</th>\n",
       "      <td>서울특별시 강남구 개포동</td>\n",
       "      <td>658-1</td>\n",
       "      <td>658.0</td>\n",
       "      <td>1.0</td>\n",
       "      <td>79.97</td>\n",
       "      <td>201803</td>\n",
       "      <td>19</td>\n",
       "      <td>139,500</td>\n",
       "      <td>2</td>\n",
       "      <td>1987.0</td>\n",
       "      <td>언주로 3-0</td>\n",
       "      <td>아파트</td>\n",
       "      <td>서울특별시 강남구 개포동 658-1</td>\n",
       "      <td>서울특별시 강남구 언주로 3-0</td>\n",
       "    </tr>\n",
       "    <tr>\n",
       "      <th>4</th>\n",
       "      <td>서울특별시 강남구 개포동</td>\n",
       "      <td>658-1</td>\n",
       "      <td>658.0</td>\n",
       "      <td>1.0</td>\n",
       "      <td>54.98</td>\n",
       "      <td>201804</td>\n",
       "      <td>5</td>\n",
       "      <td>107,500</td>\n",
       "      <td>5</td>\n",
       "      <td>1987.0</td>\n",
       "      <td>언주로 3-0</td>\n",
       "      <td>아파트</td>\n",
       "      <td>서울특별시 강남구 개포동 658-1</td>\n",
       "      <td>서울특별시 강남구 언주로 3-0</td>\n",
       "    </tr>\n",
       "  </tbody>\n",
       "</table>\n",
       "</div>"
      ],
      "text/plain": [
       "             시군구     번지     본번   부번  전용면적(㎡)    계약년월  계약일 거래금액(만원)  층    건축년도  \\\n",
       "0  서울특별시 강남구 개포동  658-1  658.0  1.0    79.97  201801    3  130,000  4  1987.0   \n",
       "1  서울특별시 강남구 개포동  658-1  658.0  1.0    79.97  201801    8  117,000  2  1987.0   \n",
       "2  서울특별시 강남구 개포동  658-1  658.0  1.0    79.97  201801   11  130,000  1  1987.0   \n",
       "3  서울특별시 강남구 개포동  658-1  658.0  1.0    79.97  201803   19  139,500  2  1987.0   \n",
       "4  서울특별시 강남구 개포동  658-1  658.0  1.0    54.98  201804    5  107,500  5  1987.0   \n",
       "\n",
       "       도로명 건물종류                 지번주소              도로명주소  \n",
       "0  언주로 3-0  아파트  서울특별시 강남구 개포동 658-1  서울특별시 강남구 언주로 3-0  \n",
       "1  언주로 3-0  아파트  서울특별시 강남구 개포동 658-1  서울특별시 강남구 언주로 3-0  \n",
       "2  언주로 3-0  아파트  서울특별시 강남구 개포동 658-1  서울특별시 강남구 언주로 3-0  \n",
       "3  언주로 3-0  아파트  서울특별시 강남구 개포동 658-1  서울특별시 강남구 언주로 3-0  \n",
       "4  언주로 3-0  아파트  서울특별시 강남구 개포동 658-1  서울특별시 강남구 언주로 3-0  "
      ]
     },
     "execution_count": 16,
     "metadata": {},
     "output_type": "execute_result"
    }
   ],
   "source": [
    "concat_df.head()"
   ]
  },
  {
   "cell_type": "code",
   "execution_count": 17,
   "metadata": {},
   "outputs": [
    {
     "data": {
      "text/plain": [
       "(456640, 14)"
      ]
     },
     "execution_count": 17,
     "metadata": {},
     "output_type": "execute_result"
    }
   ],
   "source": [
    "concat_df.shape"
   ]
  },
  {
   "cell_type": "code",
   "execution_count": 18,
   "metadata": {},
   "outputs": [],
   "source": [
    "concat_df['거래금액(만원)'] = concat_df['거래금액(만원)'].apply(lambda x: int(str(x).replace(',','')))"
   ]
  },
  {
   "cell_type": "code",
   "execution_count": 19,
   "metadata": {},
   "outputs": [],
   "source": [
    "concat_df['전용면적단가'] = concat_df['거래금액(만원)'] / concat_df['전용면적(㎡)']"
   ]
  },
  {
   "cell_type": "code",
   "execution_count": 20,
   "metadata": {},
   "outputs": [],
   "source": [
    "concat_df['표준편차'] = concat_df[['지번주소', '전용면적단가']].groupby(['지번주소']).transform('std')['전용면적단가']"
   ]
  },
  {
   "cell_type": "code",
   "execution_count": 21,
   "metadata": {},
   "outputs": [
    {
     "data": {
      "text/html": [
       "<div>\n",
       "<style scoped>\n",
       "    .dataframe tbody tr th:only-of-type {\n",
       "        vertical-align: middle;\n",
       "    }\n",
       "\n",
       "    .dataframe tbody tr th {\n",
       "        vertical-align: top;\n",
       "    }\n",
       "\n",
       "    .dataframe thead th {\n",
       "        text-align: right;\n",
       "    }\n",
       "</style>\n",
       "<table border=\"1\" class=\"dataframe\">\n",
       "  <thead>\n",
       "    <tr style=\"text-align: right;\">\n",
       "      <th></th>\n",
       "      <th>시군구</th>\n",
       "      <th>번지</th>\n",
       "      <th>본번</th>\n",
       "      <th>부번</th>\n",
       "      <th>전용면적(㎡)</th>\n",
       "      <th>계약년월</th>\n",
       "      <th>계약일</th>\n",
       "      <th>거래금액(만원)</th>\n",
       "      <th>층</th>\n",
       "      <th>건축년도</th>\n",
       "      <th>도로명</th>\n",
       "      <th>건물종류</th>\n",
       "      <th>지번주소</th>\n",
       "      <th>도로명주소</th>\n",
       "      <th>전용면적단가</th>\n",
       "      <th>표준편차</th>\n",
       "    </tr>\n",
       "  </thead>\n",
       "  <tbody>\n",
       "    <tr>\n",
       "      <th>0</th>\n",
       "      <td>서울특별시 강남구 개포동</td>\n",
       "      <td>658-1</td>\n",
       "      <td>658.0</td>\n",
       "      <td>1.0</td>\n",
       "      <td>79.97</td>\n",
       "      <td>201801</td>\n",
       "      <td>3</td>\n",
       "      <td>130000</td>\n",
       "      <td>4</td>\n",
       "      <td>1987.0</td>\n",
       "      <td>언주로 3-0</td>\n",
       "      <td>아파트</td>\n",
       "      <td>서울특별시 강남구 개포동 658-1</td>\n",
       "      <td>서울특별시 강남구 언주로 3-0</td>\n",
       "      <td>1625.609604</td>\n",
       "      <td>305.036884</td>\n",
       "    </tr>\n",
       "    <tr>\n",
       "      <th>1</th>\n",
       "      <td>서울특별시 강남구 개포동</td>\n",
       "      <td>658-1</td>\n",
       "      <td>658.0</td>\n",
       "      <td>1.0</td>\n",
       "      <td>79.97</td>\n",
       "      <td>201801</td>\n",
       "      <td>8</td>\n",
       "      <td>117000</td>\n",
       "      <td>2</td>\n",
       "      <td>1987.0</td>\n",
       "      <td>언주로 3-0</td>\n",
       "      <td>아파트</td>\n",
       "      <td>서울특별시 강남구 개포동 658-1</td>\n",
       "      <td>서울특별시 강남구 언주로 3-0</td>\n",
       "      <td>1463.048643</td>\n",
       "      <td>305.036884</td>\n",
       "    </tr>\n",
       "    <tr>\n",
       "      <th>2</th>\n",
       "      <td>서울특별시 강남구 개포동</td>\n",
       "      <td>658-1</td>\n",
       "      <td>658.0</td>\n",
       "      <td>1.0</td>\n",
       "      <td>79.97</td>\n",
       "      <td>201801</td>\n",
       "      <td>11</td>\n",
       "      <td>130000</td>\n",
       "      <td>1</td>\n",
       "      <td>1987.0</td>\n",
       "      <td>언주로 3-0</td>\n",
       "      <td>아파트</td>\n",
       "      <td>서울특별시 강남구 개포동 658-1</td>\n",
       "      <td>서울특별시 강남구 언주로 3-0</td>\n",
       "      <td>1625.609604</td>\n",
       "      <td>305.036884</td>\n",
       "    </tr>\n",
       "    <tr>\n",
       "      <th>3</th>\n",
       "      <td>서울특별시 강남구 개포동</td>\n",
       "      <td>658-1</td>\n",
       "      <td>658.0</td>\n",
       "      <td>1.0</td>\n",
       "      <td>79.97</td>\n",
       "      <td>201803</td>\n",
       "      <td>19</td>\n",
       "      <td>139500</td>\n",
       "      <td>2</td>\n",
       "      <td>1987.0</td>\n",
       "      <td>언주로 3-0</td>\n",
       "      <td>아파트</td>\n",
       "      <td>서울특별시 강남구 개포동 658-1</td>\n",
       "      <td>서울특별시 강남구 언주로 3-0</td>\n",
       "      <td>1744.404152</td>\n",
       "      <td>305.036884</td>\n",
       "    </tr>\n",
       "    <tr>\n",
       "      <th>4</th>\n",
       "      <td>서울특별시 강남구 개포동</td>\n",
       "      <td>658-1</td>\n",
       "      <td>658.0</td>\n",
       "      <td>1.0</td>\n",
       "      <td>54.98</td>\n",
       "      <td>201804</td>\n",
       "      <td>5</td>\n",
       "      <td>107500</td>\n",
       "      <td>5</td>\n",
       "      <td>1987.0</td>\n",
       "      <td>언주로 3-0</td>\n",
       "      <td>아파트</td>\n",
       "      <td>서울특별시 강남구 개포동 658-1</td>\n",
       "      <td>서울특별시 강남구 언주로 3-0</td>\n",
       "      <td>1955.256457</td>\n",
       "      <td>305.036884</td>\n",
       "    </tr>\n",
       "  </tbody>\n",
       "</table>\n",
       "</div>"
      ],
      "text/plain": [
       "             시군구     번지     본번   부번  전용면적(㎡)    계약년월  계약일  거래금액(만원)  층  \\\n",
       "0  서울특별시 강남구 개포동  658-1  658.0  1.0    79.97  201801    3    130000  4   \n",
       "1  서울특별시 강남구 개포동  658-1  658.0  1.0    79.97  201801    8    117000  2   \n",
       "2  서울특별시 강남구 개포동  658-1  658.0  1.0    79.97  201801   11    130000  1   \n",
       "3  서울특별시 강남구 개포동  658-1  658.0  1.0    79.97  201803   19    139500  2   \n",
       "4  서울특별시 강남구 개포동  658-1  658.0  1.0    54.98  201804    5    107500  5   \n",
       "\n",
       "     건축년도      도로명 건물종류                 지번주소              도로명주소       전용면적단가  \\\n",
       "0  1987.0  언주로 3-0  아파트  서울특별시 강남구 개포동 658-1  서울특별시 강남구 언주로 3-0  1625.609604   \n",
       "1  1987.0  언주로 3-0  아파트  서울특별시 강남구 개포동 658-1  서울특별시 강남구 언주로 3-0  1463.048643   \n",
       "2  1987.0  언주로 3-0  아파트  서울특별시 강남구 개포동 658-1  서울특별시 강남구 언주로 3-0  1625.609604   \n",
       "3  1987.0  언주로 3-0  아파트  서울특별시 강남구 개포동 658-1  서울특별시 강남구 언주로 3-0  1744.404152   \n",
       "4  1987.0  언주로 3-0  아파트  서울특별시 강남구 개포동 658-1  서울특별시 강남구 언주로 3-0  1955.256457   \n",
       "\n",
       "         표준편차  \n",
       "0  305.036884  \n",
       "1  305.036884  \n",
       "2  305.036884  \n",
       "3  305.036884  \n",
       "4  305.036884  "
      ]
     },
     "execution_count": 21,
     "metadata": {},
     "output_type": "execute_result"
    }
   ],
   "source": [
    "concat_df.head()"
   ]
  },
  {
   "cell_type": "code",
   "execution_count": 22,
   "metadata": {},
   "outputs": [
    {
     "data": {
      "text/plain": [
       "array(['언주로', '개포로', '개포로109길', ..., '이화여대7길', '뚝섬로3나길', '종로31가길'],\n",
       "      dtype=object)"
      ]
     },
     "execution_count": 22,
     "metadata": {},
     "output_type": "execute_result"
    }
   ],
   "source": [
    "concat_df['도로'] = concat_df['도로명'].apply(lambda x: x.split(' ')[0])\n",
    "concat_df['도로'].unique()"
   ]
  },
  {
   "cell_type": "code",
   "execution_count": 23,
   "metadata": {},
   "outputs": [],
   "source": [
    "def doro(x):\n",
    "    # x is a string\n",
    "    \n",
    "    if pd.isna(x) == True:\n",
    "        return x\n",
    "    else:\n",
    "        x = str(x)\n",
    "        x = x.split('로')[0]\n",
    "        for i in range(10):\n",
    "            x = x.split('{}'.format(i))[0]\n",
    "        x = x.split('길')[0]\n",
    "        return x"
   ]
  },
  {
   "cell_type": "code",
   "execution_count": 24,
   "metadata": {},
   "outputs": [],
   "source": [
    "concat_df['도로'] = concat_df['도로명'].apply(doro)"
   ]
  },
  {
   "cell_type": "code",
   "execution_count": 25,
   "metadata": {},
   "outputs": [
    {
     "data": {
      "text/plain": [
       "582"
      ]
     },
     "execution_count": 25,
     "metadata": {},
     "output_type": "execute_result"
    }
   ],
   "source": [
    "concat_df['도로'].nunique()"
   ]
  },
  {
   "cell_type": "code",
   "execution_count": 26,
   "metadata": {},
   "outputs": [
    {
     "data": {
      "image/png": "[encoded data removed]",
      "text/plain": [
       "<Figure size 432x288 with 1 Axes>"
      ]
     },
     "metadata": {
      "needs_background": "light"
     },
     "output_type": "display_data"
    },
    {
     "data": {
      "image/png": "[encoded data removed]",
      "text/plain": [
       "<Figure size 432x288 with 1 Axes>"
      ]
     },
     "metadata": {
      "needs_background": "light"
     },
     "output_type": "display_data"
    },
    {
     "data": {
      "image/png": "[encoded data removed]",
      "text/plain": [
       "<Figure size 432x288 with 1 Axes>"
      ]
     },
     "metadata": {
      "needs_background": "light"
     },
     "output_type": "display_data"
    },
    {
     "data": {
      "image/png": "[encoded data removed]",
      "text/plain": [
       "<Figure size 432x288 with 1 Axes>"
      ]
     },
     "metadata": {
      "needs_background": "light"
     },
     "output_type": "display_data"
    },
    {
     "data": {
      "image/png": "[encoded data removed]",
      "text/plain": [
       "<Figure size 432x288 with 1 Axes>"
      ]
     },
     "metadata": {
      "needs_background": "light"
     },
     "output_type": "display_data"
    },
    {
     "data": {
      "image/png": "[encoded data removed]",
      "text/plain": [
       "<Figure size 432x288 with 1 Axes>"
      ]
     },
     "metadata": {
      "needs_background": "light"
     },
     "output_type": "display_data"
    },
    {
     "data": {
      "text/plain": [
       "<Figure size 432x288 with 0 Axes>"
      ]
     },
     "metadata": {},
     "output_type": "display_data"
    }
   ],
   "source": [
    "count = 0\n",
    "for bd in concat_df['건물종류'].unique():\n",
    "    bd_df = concat_df[concat_df['건물종류'] == bd]\n",
    "    unique_doros = bd_df['도로'].unique()\n",
    "    for doro in unique_doros:\n",
    "        doro_df = bd_df[bd_df['도로'] == doro]\n",
    "        doro_df['전용면적단가'].hist(bins=100)\n",
    "        plt.show()\n",
    "        plt.clf()\n",
    "        count += 1\n",
    "        if count > 5:\n",
    "            break\n",
    "    if count > 5:\n",
    "        break"
   ]
  },
  {
   "cell_type": "code",
   "execution_count": 27,
   "metadata": {},
   "outputs": [
    {
     "data": {
      "image/png": "[encoded data removed]",
      "text/plain": [
       "<Figure size 432x288 with 1 Axes>"
      ]
     },
     "metadata": {
      "needs_background": "light"
     },
     "output_type": "display_data"
    },
    {
     "data": {
      "image/png": "[encoded data removed]",
      "text/plain": [
       "<Figure size 432x288 with 1 Axes>"
      ]
     },
     "metadata": {
      "needs_background": "light"
     },
     "output_type": "display_data"
    },
    {
     "data": {
      "image/png": "[encoded data removed]",
      "text/plain": [
       "<Figure size 432x288 with 1 Axes>"
      ]
     },
     "metadata": {
      "needs_background": "light"
     },
     "output_type": "display_data"
    },
    {
     "data": {
      "image/png": "[encoded data removed]",
      "text/plain": [
       "<Figure size 432x288 with 1 Axes>"
      ]
     },
     "metadata": {
      "needs_background": "light"
     },
     "output_type": "display_data"
    },
    {
     "data": {
      "image/png": "[encoded data removed]",
      "text/plain": [
       "<Figure size 432x288 with 1 Axes>"
      ]
     },
     "metadata": {
      "needs_background": "light"
     },
     "output_type": "display_data"
    },
    {
     "data": {
      "image/png": "[encoded data removed]",
      "text/plain": [
       "<Figure size 432x288 with 1 Axes>"
      ]
     },
     "metadata": {
      "needs_background": "light"
     },
     "output_type": "display_data"
    },
    {
     "data": {
      "text/plain": [
       "<Figure size 432x288 with 0 Axes>"
      ]
     },
     "metadata": {},
     "output_type": "display_data"
    }
   ],
   "source": [
    "count = 0\n",
    "for bd in concat_df['건물종류'].unique():\n",
    "    bd_df = concat_df[concat_df['건물종류'] == bd]\n",
    "    unique_doros = bd_df['도로'].unique()\n",
    "    for doro in unique_doros:\n",
    "        doro_df = bd_df[bd_df['도로'] == doro]\n",
    "        q1 = doro_df['전용면적단가'].quantile(0.25)\n",
    "        q3 = doro_df['전용면적단가'].quantile(0.75)\n",
    "        iqr = q3 - q1\n",
    "        outlier_step = iqr * 1.5\n",
    "        outlier_df = doro_df[(doro_df['전용면적단가'] < q1 - outlier_step)|(doro_df['전용면적단가'] > q3 + outlier_step)]\n",
    "        outlier_df['전용면적단가'].hist(bins=100)\n",
    "        plt.show()\n",
    "        plt.clf()\n",
    "        count += 1\n",
    "        if count > 5:\n",
    "            break\n",
    "    if count > 5:\n",
    "        break"
   ]
  },
  {
   "cell_type": "code",
   "execution_count": 28,
   "metadata": {},
   "outputs": [],
   "source": [
    "concat_df['min'] = concat_df[['도로명주소', '전용면적단가']].groupby(['도로명주소']).transform('min')['전용면적단가']\n",
    "concat_df['minusmin'] = concat_df['전용면적단가'] - concat_df['min']"
   ]
  },
  {
   "cell_type": "code",
   "execution_count": 29,
   "metadata": {},
   "outputs": [],
   "source": [
    "concat_df['max'] = concat_df[['도로명주소', 'minusmin']].groupby(['도로명주소']).transform('max')['minusmin']"
   ]
  },
  {
   "cell_type": "code",
   "execution_count": 30,
   "metadata": {},
   "outputs": [],
   "source": [
    "concat_df['overmax'] = concat_df['minusmin'] / concat_df['max']"
   ]
  },
  {
   "cell_type": "code",
   "execution_count": 32,
   "metadata": {},
   "outputs": [
    {
     "name": "stdout",
     "output_type": "stream",
     "text": [
      "(22766, 21)\n"
     ]
    },
    {
     "data": {
      "text/html": [
       "<div>\n",
       "<style scoped>\n",
       "    .dataframe tbody tr th:only-of-type {\n",
       "        vertical-align: middle;\n",
       "    }\n",
       "\n",
       "    .dataframe tbody tr th {\n",
       "        vertical-align: top;\n",
       "    }\n",
       "\n",
       "    .dataframe thead th {\n",
       "        text-align: right;\n",
       "    }\n",
       "</style>\n",
       "<table border=\"1\" class=\"dataframe\">\n",
       "  <thead>\n",
       "    <tr style=\"text-align: right;\">\n",
       "      <th></th>\n",
       "      <th>시군구</th>\n",
       "      <th>번지</th>\n",
       "      <th>본번</th>\n",
       "      <th>부번</th>\n",
       "      <th>전용면적(㎡)</th>\n",
       "      <th>계약년월</th>\n",
       "      <th>계약일</th>\n",
       "      <th>거래금액(만원)</th>\n",
       "      <th>층</th>\n",
       "      <th>건축년도</th>\n",
       "      <th>도로명</th>\n",
       "      <th>건물종류</th>\n",
       "      <th>지번주소</th>\n",
       "      <th>도로명주소</th>\n",
       "      <th>전용면적단가</th>\n",
       "      <th>표준편차</th>\n",
       "      <th>도로</th>\n",
       "      <th>min</th>\n",
       "      <th>minusmin</th>\n",
       "      <th>max</th>\n",
       "      <th>overmax</th>\n",
       "    </tr>\n",
       "  </thead>\n",
       "  <tbody>\n",
       "    <tr>\n",
       "      <th>512</th>\n",
       "      <td>서울특별시 강남구 논현동</td>\n",
       "      <td>47-11</td>\n",
       "      <td>47.0</td>\n",
       "      <td>11.0</td>\n",
       "      <td>160.97</td>\n",
       "      <td>201803</td>\n",
       "      <td>14</td>\n",
       "      <td>110000</td>\n",
       "      <td>3</td>\n",
       "      <td>2004.0</td>\n",
       "      <td>학동로5길 17-0</td>\n",
       "      <td>아파트</td>\n",
       "      <td>서울특별시 강남구 논현동 47-11</td>\n",
       "      <td>서울특별시 강남구 학동로5길 17-0</td>\n",
       "      <td>683.357147</td>\n",
       "      <td>NaN</td>\n",
       "      <td>학동</td>\n",
       "      <td>683.357147</td>\n",
       "      <td>0.0</td>\n",
       "      <td>0.0</td>\n",
       "      <td>NaN</td>\n",
       "    </tr>\n",
       "    <tr>\n",
       "      <th>575</th>\n",
       "      <td>서울특별시 강남구 논현동</td>\n",
       "      <td>267-18</td>\n",
       "      <td>267.0</td>\n",
       "      <td>18.0</td>\n",
       "      <td>131.01</td>\n",
       "      <td>201802</td>\n",
       "      <td>12</td>\n",
       "      <td>93500</td>\n",
       "      <td>1</td>\n",
       "      <td>2004.0</td>\n",
       "      <td>봉은사로51길 40-0</td>\n",
       "      <td>아파트</td>\n",
       "      <td>서울특별시 강남구 논현동 267-18</td>\n",
       "      <td>서울특별시 강남구 봉은사로51길 40-0</td>\n",
       "      <td>713.685978</td>\n",
       "      <td>NaN</td>\n",
       "      <td>봉은사</td>\n",
       "      <td>713.685978</td>\n",
       "      <td>0.0</td>\n",
       "      <td>0.0</td>\n",
       "      <td>NaN</td>\n",
       "    </tr>\n",
       "    <tr>\n",
       "      <th>577</th>\n",
       "      <td>서울특별시 강남구 논현동</td>\n",
       "      <td>217-34</td>\n",
       "      <td>217.0</td>\n",
       "      <td>34.0</td>\n",
       "      <td>74.60</td>\n",
       "      <td>201807</td>\n",
       "      <td>6</td>\n",
       "      <td>59000</td>\n",
       "      <td>4</td>\n",
       "      <td>2005.0</td>\n",
       "      <td>논현로124길 28-0</td>\n",
       "      <td>아파트</td>\n",
       "      <td>서울특별시 강남구 논현동 217-34</td>\n",
       "      <td>서울특별시 강남구 논현로124길 28-0</td>\n",
       "      <td>790.884718</td>\n",
       "      <td>NaN</td>\n",
       "      <td>논현</td>\n",
       "      <td>790.884718</td>\n",
       "      <td>0.0</td>\n",
       "      <td>0.0</td>\n",
       "      <td>NaN</td>\n",
       "    </tr>\n",
       "    <tr>\n",
       "      <th>677</th>\n",
       "      <td>서울특별시 강남구 대치동</td>\n",
       "      <td>1015-6</td>\n",
       "      <td>1015.0</td>\n",
       "      <td>6.0</td>\n",
       "      <td>169.19</td>\n",
       "      <td>201807</td>\n",
       "      <td>1</td>\n",
       "      <td>145000</td>\n",
       "      <td>4</td>\n",
       "      <td>2003.0</td>\n",
       "      <td>삼성로57길 37-5</td>\n",
       "      <td>아파트</td>\n",
       "      <td>서울특별시 강남구 대치동 1015-6</td>\n",
       "      <td>서울특별시 강남구 삼성로57길 37-5</td>\n",
       "      <td>857.024647</td>\n",
       "      <td>NaN</td>\n",
       "      <td>삼성</td>\n",
       "      <td>857.024647</td>\n",
       "      <td>0.0</td>\n",
       "      <td>0.0</td>\n",
       "      <td>NaN</td>\n",
       "    </tr>\n",
       "    <tr>\n",
       "      <th>1027</th>\n",
       "      <td>서울특별시 강남구 대치동</td>\n",
       "      <td>910-6</td>\n",
       "      <td>910.0</td>\n",
       "      <td>6.0</td>\n",
       "      <td>134.61</td>\n",
       "      <td>201801</td>\n",
       "      <td>30</td>\n",
       "      <td>120000</td>\n",
       "      <td>2</td>\n",
       "      <td>2003.0</td>\n",
       "      <td>역삼로74길 8-0</td>\n",
       "      <td>아파트</td>\n",
       "      <td>서울특별시 강남구 대치동 910-6</td>\n",
       "      <td>서울특별시 강남구 역삼로74길 8-0</td>\n",
       "      <td>891.464230</td>\n",
       "      <td>NaN</td>\n",
       "      <td>역삼</td>\n",
       "      <td>891.464230</td>\n",
       "      <td>0.0</td>\n",
       "      <td>0.0</td>\n",
       "      <td>NaN</td>\n",
       "    </tr>\n",
       "  </tbody>\n",
       "</table>\n",
       "</div>"
      ],
      "text/plain": [
       "                시군구      번지      본번    부번  전용면적(㎡)    계약년월  계약일  거래금액(만원)  층  \\\n",
       "512   서울특별시 강남구 논현동   47-11    47.0  11.0   160.97  201803   14    110000  3   \n",
       "575   서울특별시 강남구 논현동  267-18   267.0  18.0   131.01  201802   12     93500  1   \n",
       "577   서울특별시 강남구 논현동  217-34   217.0  34.0    74.60  201807    6     59000  4   \n",
       "677   서울특별시 강남구 대치동  1015-6  1015.0   6.0   169.19  201807    1    145000  4   \n",
       "1027  서울특별시 강남구 대치동   910-6   910.0   6.0   134.61  201801   30    120000  2   \n",
       "\n",
       "        건축년도           도로명 건물종류                  지번주소                   도로명주소  \\\n",
       "512   2004.0    학동로5길 17-0  아파트   서울특별시 강남구 논현동 47-11    서울특별시 강남구 학동로5길 17-0   \n",
       "575   2004.0  봉은사로51길 40-0  아파트  서울특별시 강남구 논현동 267-18  서울특별시 강남구 봉은사로51길 40-0   \n",
       "577   2005.0  논현로124길 28-0  아파트  서울특별시 강남구 논현동 217-34  서울특별시 강남구 논현로124길 28-0   \n",
       "677   2003.0   삼성로57길 37-5  아파트  서울특별시 강남구 대치동 1015-6   서울특별시 강남구 삼성로57길 37-5   \n",
       "1027  2003.0    역삼로74길 8-0  아파트   서울특별시 강남구 대치동 910-6    서울특별시 강남구 역삼로74길 8-0   \n",
       "\n",
       "          전용면적단가  표준편차   도로         min  minusmin  max  overmax  \n",
       "512   683.357147   NaN   학동  683.357147       0.0  0.0      NaN  \n",
       "575   713.685978   NaN  봉은사  713.685978       0.0  0.0      NaN  \n",
       "577   790.884718   NaN   논현  790.884718       0.0  0.0      NaN  \n",
       "677   857.024647   NaN   삼성  857.024647       0.0  0.0      NaN  \n",
       "1027  891.464230   NaN   역삼  891.464230       0.0  0.0      NaN  "
      ]
     },
     "execution_count": 32,
     "metadata": {},
     "output_type": "execute_result"
    }
   ],
   "source": [
    "nan_df = concat_df[concat_df['overmax'].isna()]\n",
    "print(nan_df.shape)\n",
    "nan_df.head()"
   ]
  },
  {
   "cell_type": "code",
   "execution_count": 33,
   "metadata": {},
   "outputs": [
    {
     "name": "stderr",
     "output_type": "stream",
     "text": [
      "  1%|▋                                                                             | 203/21709 [00:03<05:48, 61.63it/s]\n"
     ]
    },
    {
     "ename": "KeyboardInterrupt",
     "evalue": "",
     "output_type": "error",
     "traceback": [
      "\u001b[1;31m---------------------------------------------------------------------------\u001b[0m",
      "\u001b[1;31mKeyboardInterrupt\u001b[0m                         Traceback (most recent call last)",
      "\u001b[1;32m<ipython-input-33-629bcf7288dd>\u001b[0m in \u001b[0;36m<module>\u001b[1;34m\u001b[0m\n\u001b[0;32m      2\u001b[0m \u001b[0midx_to_fill\u001b[0m \u001b[1;33m=\u001b[0m \u001b[1;33m[\u001b[0m\u001b[1;33m]\u001b[0m\u001b[1;33m\u001b[0m\u001b[1;33m\u001b[0m\u001b[0m\n\u001b[0;32m      3\u001b[0m \u001b[1;32mfor\u001b[0m \u001b[0maddr\u001b[0m \u001b[1;32min\u001b[0m \u001b[0mtqdm\u001b[0m\u001b[1;33m(\u001b[0m\u001b[0mnan_df\u001b[0m\u001b[1;33m[\u001b[0m\u001b[1;34m'도로명주소'\u001b[0m\u001b[1;33m]\u001b[0m\u001b[1;33m.\u001b[0m\u001b[0munique\u001b[0m\u001b[1;33m(\u001b[0m\u001b[1;33m)\u001b[0m\u001b[1;33m)\u001b[0m\u001b[1;33m:\u001b[0m\u001b[1;33m\u001b[0m\u001b[1;33m\u001b[0m\u001b[0m\n\u001b[1;32m----> 4\u001b[1;33m     \u001b[0maddr_df\u001b[0m \u001b[1;33m=\u001b[0m \u001b[0mconcat_df\u001b[0m\u001b[1;33m[\u001b[0m\u001b[0mconcat_df\u001b[0m\u001b[1;33m[\u001b[0m\u001b[1;34m'도로명주소'\u001b[0m\u001b[1;33m]\u001b[0m \u001b[1;33m==\u001b[0m \u001b[0maddr\u001b[0m\u001b[1;33m]\u001b[0m\u001b[1;33m\u001b[0m\u001b[1;33m\u001b[0m\u001b[0m\n\u001b[0m\u001b[0;32m      5\u001b[0m     \u001b[1;32mif\u001b[0m \u001b[0maddr_df\u001b[0m\u001b[1;33m.\u001b[0m\u001b[0mshape\u001b[0m\u001b[1;33m[\u001b[0m\u001b[1;36m0\u001b[0m\u001b[1;33m]\u001b[0m \u001b[1;33m>\u001b[0m \u001b[1;36m1\u001b[0m\u001b[1;33m:\u001b[0m\u001b[1;33m\u001b[0m\u001b[1;33m\u001b[0m\u001b[0m\n\u001b[0;32m      6\u001b[0m         \u001b[1;32mif\u001b[0m \u001b[0maddr_df\u001b[0m\u001b[1;33m[\u001b[0m\u001b[1;34m'계약년월'\u001b[0m\u001b[1;33m]\u001b[0m\u001b[1;33m.\u001b[0m\u001b[0mstd\u001b[0m\u001b[1;33m(\u001b[0m\u001b[1;33m)\u001b[0m \u001b[1;33m>\u001b[0m \u001b[1;36m0\u001b[0m\u001b[1;33m:\u001b[0m\u001b[1;33m\u001b[0m\u001b[1;33m\u001b[0m\u001b[0m\n",
      "\u001b[1;32mc:\\users\\max6296\\ml\\lib\\site-packages\\pandas\\core\\frame.py\u001b[0m in \u001b[0;36m__getitem__\u001b[1;34m(self, key)\u001b[0m\n\u001b[0;32m   3013\u001b[0m         \u001b[1;31m# Do we have a (boolean) 1d indexer?\u001b[0m\u001b[1;33m\u001b[0m\u001b[1;33m\u001b[0m\u001b[1;33m\u001b[0m\u001b[0m\n\u001b[0;32m   3014\u001b[0m         \u001b[1;32mif\u001b[0m \u001b[0mcom\u001b[0m\u001b[1;33m.\u001b[0m\u001b[0mis_bool_indexer\u001b[0m\u001b[1;33m(\u001b[0m\u001b[0mkey\u001b[0m\u001b[1;33m)\u001b[0m\u001b[1;33m:\u001b[0m\u001b[1;33m\u001b[0m\u001b[1;33m\u001b[0m\u001b[0m\n\u001b[1;32m-> 3015\u001b[1;33m             \u001b[1;32mreturn\u001b[0m \u001b[0mself\u001b[0m\u001b[1;33m.\u001b[0m\u001b[0m_getitem_bool_array\u001b[0m\u001b[1;33m(\u001b[0m\u001b[0mkey\u001b[0m\u001b[1;33m)\u001b[0m\u001b[1;33m\u001b[0m\u001b[1;33m\u001b[0m\u001b[0m\n\u001b[0m\u001b[0;32m   3016\u001b[0m \u001b[1;33m\u001b[0m\u001b[0m\n\u001b[0;32m   3017\u001b[0m         \u001b[1;31m# We are left with two options: a single key, and a collection of keys,\u001b[0m\u001b[1;33m\u001b[0m\u001b[1;33m\u001b[0m\u001b[1;33m\u001b[0m\u001b[0m\n",
      "\u001b[1;32mc:\\users\\max6296\\ml\\lib\\site-packages\\pandas\\core\\frame.py\u001b[0m in \u001b[0;36m_getitem_bool_array\u001b[1;34m(self, key)\u001b[0m\n\u001b[0;32m   3067\u001b[0m         \u001b[1;31m# be reindexed to match DataFrame rows\u001b[0m\u001b[1;33m\u001b[0m\u001b[1;33m\u001b[0m\u001b[1;33m\u001b[0m\u001b[0m\n\u001b[0;32m   3068\u001b[0m         \u001b[0mkey\u001b[0m \u001b[1;33m=\u001b[0m \u001b[0mcheck_bool_indexer\u001b[0m\u001b[1;33m(\u001b[0m\u001b[0mself\u001b[0m\u001b[1;33m.\u001b[0m\u001b[0mindex\u001b[0m\u001b[1;33m,\u001b[0m \u001b[0mkey\u001b[0m\u001b[1;33m)\u001b[0m\u001b[1;33m\u001b[0m\u001b[1;33m\u001b[0m\u001b[0m\n\u001b[1;32m-> 3069\u001b[1;33m         \u001b[0mindexer\u001b[0m \u001b[1;33m=\u001b[0m \u001b[0mkey\u001b[0m\u001b[1;33m.\u001b[0m\u001b[0mnonzero\u001b[0m\u001b[1;33m(\u001b[0m\u001b[1;33m)\u001b[0m\u001b[1;33m[\u001b[0m\u001b[1;36m0\u001b[0m\u001b[1;33m]\u001b[0m\u001b[1;33m\u001b[0m\u001b[1;33m\u001b[0m\u001b[0m\n\u001b[0m\u001b[0;32m   3070\u001b[0m         \u001b[1;32mreturn\u001b[0m \u001b[0mself\u001b[0m\u001b[1;33m.\u001b[0m\u001b[0m_take_with_is_copy\u001b[0m\u001b[1;33m(\u001b[0m\u001b[0mindexer\u001b[0m\u001b[1;33m,\u001b[0m \u001b[0maxis\u001b[0m\u001b[1;33m=\u001b[0m\u001b[1;36m0\u001b[0m\u001b[1;33m)\u001b[0m\u001b[1;33m\u001b[0m\u001b[1;33m\u001b[0m\u001b[0m\n\u001b[0;32m   3071\u001b[0m \u001b[1;33m\u001b[0m\u001b[0m\n",
      "\u001b[1;31mKeyboardInterrupt\u001b[0m: "
     ]
    }
   ],
   "source": [
    "count = 0\n",
    "idx_to_fill = []\n",
    "for addr in tqdm(nan_df['도로명주소'].unique()):\n",
    "    addr_df = concat_df[concat_df['도로명주소'] == addr]\n",
    "    if addr_df.shape[0] > 1:\n",
    "        if addr_df['계약년월'].std() > 0:\n",
    "            for idx in addr_df.index:\n",
    "                idx_to_fill.append(idx)"
   ]
  },
  {
   "cell_type": "code",
   "execution_count": null,
   "metadata": {},
   "outputs": [],
   "source": [
    "idx_to_fill = list(set(idx_to_fill))\n",
    "print(len(idx_to_fill))"
   ]
  },
  {
   "cell_type": "code",
   "execution_count": null,
   "metadata": {},
   "outputs": [],
   "source": [
    "idx_to_fill[:5]"
   ]
  },
  {
   "cell_type": "code",
   "execution_count": null,
   "metadata": {},
   "outputs": [],
   "source": [
    "concat_df.head()"
   ]
  },
  {
   "cell_type": "code",
   "execution_count": null,
   "metadata": {},
   "outputs": [],
   "source": [
    "concat_df.loc[idx_to_fill, '표준화후표준편차'] = 0"
   ]
  },
  {
   "cell_type": "code",
   "execution_count": null,
   "metadata": {},
   "outputs": [],
   "source": [
    "count = 0\n",
    "for addr in concat_df['지번주소'].unique():\n",
    "    addr_df = concat_df[concat_df['지번주소'] == addr]\n",
    "    print(addr_df.shape)\n",
    "    display(addr_df.head())\n",
    "    print(addr_df['overmax'].describe())\n",
    "    count += 1\n",
    "    if count > 5:\n",
    "        break"
   ]
  },
  {
   "cell_type": "code",
   "execution_count": 34,
   "metadata": {},
   "outputs": [],
   "source": [
    "concat_df['표준화후표준편차'] = concat_df[['도로명주소', 'overmax']].groupby(['도로명주소']).transform('std')['overmax']"
   ]
  },
  {
   "cell_type": "code",
   "execution_count": 35,
   "metadata": {},
   "outputs": [
    {
     "name": "stdout",
     "output_type": "stream",
     "text": [
      "(64863, 3)\n"
     ]
    },
    {
     "data": {
      "text/html": [
       "<div>\n",
       "<style scoped>\n",
       "    .dataframe tbody tr th:only-of-type {\n",
       "        vertical-align: middle;\n",
       "    }\n",
       "\n",
       "    .dataframe tbody tr th {\n",
       "        vertical-align: top;\n",
       "    }\n",
       "\n",
       "    .dataframe thead th {\n",
       "        text-align: right;\n",
       "    }\n",
       "</style>\n",
       "<table border=\"1\" class=\"dataframe\">\n",
       "  <thead>\n",
       "    <tr style=\"text-align: right;\">\n",
       "      <th></th>\n",
       "      <th>지번주소</th>\n",
       "      <th>도로명주소</th>\n",
       "      <th>표준화후표준편차</th>\n",
       "    </tr>\n",
       "  </thead>\n",
       "  <tbody>\n",
       "    <tr>\n",
       "      <th>0</th>\n",
       "      <td>서울특별시 강남구 개포동 658-1</td>\n",
       "      <td>서울특별시 강남구 언주로 3-0</td>\n",
       "      <td>0.255804</td>\n",
       "    </tr>\n",
       "    <tr>\n",
       "      <th>1</th>\n",
       "      <td>서울특별시 강남구 개포동 652-0</td>\n",
       "      <td>서울특별시 강남구 개포로 307-0</td>\n",
       "      <td>0.280766</td>\n",
       "    </tr>\n",
       "    <tr>\n",
       "      <th>2</th>\n",
       "      <td>서울특별시 강남구 개포동 12-2</td>\n",
       "      <td>서울특별시 강남구 개포로109길 69-0</td>\n",
       "      <td>0.231785</td>\n",
       "    </tr>\n",
       "    <tr>\n",
       "      <th>3</th>\n",
       "      <td>서울특별시 강남구 개포동 141-0</td>\n",
       "      <td>서울특별시 강남구 개포로 310-0</td>\n",
       "      <td>0.162937</td>\n",
       "    </tr>\n",
       "    <tr>\n",
       "      <th>4</th>\n",
       "      <td>서울특별시 강남구 개포동 141-0</td>\n",
       "      <td>서울특별시 강남구 선릉로 7-0</td>\n",
       "      <td>0.248758</td>\n",
       "    </tr>\n",
       "  </tbody>\n",
       "</table>\n",
       "</div>"
      ],
      "text/plain": [
       "                  지번주소                   도로명주소  표준화후표준편차\n",
       "0  서울특별시 강남구 개포동 658-1       서울특별시 강남구 언주로 3-0  0.255804\n",
       "1  서울특별시 강남구 개포동 652-0     서울특별시 강남구 개포로 307-0  0.280766\n",
       "2   서울특별시 강남구 개포동 12-2  서울특별시 강남구 개포로109길 69-0  0.231785\n",
       "3  서울특별시 강남구 개포동 141-0     서울특별시 강남구 개포로 310-0  0.162937\n",
       "4  서울특별시 강남구 개포동 141-0       서울특별시 강남구 선릉로 7-0  0.248758"
      ]
     },
     "execution_count": 35,
     "metadata": {},
     "output_type": "execute_result"
    }
   ],
   "source": [
    "selected_df = concat_df[['지번주소', '도로명주소', '표준화후표준편차']].drop_duplicates().reset_index(drop=True)\n",
    "print(selected_df.shape)\n",
    "selected_df.head()"
   ]
  },
  {
   "cell_type": "code",
   "execution_count": 36,
   "metadata": {},
   "outputs": [
    {
     "name": "stdout",
     "output_type": "stream",
     "text": [
      "(63511, 5)\n"
     ]
    },
    {
     "data": {
      "text/html": [
       "<div>\n",
       "<style scoped>\n",
       "    .dataframe tbody tr th:only-of-type {\n",
       "        vertical-align: middle;\n",
       "    }\n",
       "\n",
       "    .dataframe tbody tr th {\n",
       "        vertical-align: top;\n",
       "    }\n",
       "\n",
       "    .dataframe thead th {\n",
       "        text-align: right;\n",
       "    }\n",
       "</style>\n",
       "<table border=\"1\" class=\"dataframe\">\n",
       "  <thead>\n",
       "    <tr style=\"text-align: right;\">\n",
       "      <th></th>\n",
       "      <th>지번주소</th>\n",
       "      <th>도로명주소</th>\n",
       "      <th>표준화후표준편차</th>\n",
       "      <th>X좌표</th>\n",
       "      <th>Y좌표</th>\n",
       "    </tr>\n",
       "  </thead>\n",
       "  <tbody>\n",
       "    <tr>\n",
       "      <th>0</th>\n",
       "      <td>서울특별시 강남구 개포동 658-1</td>\n",
       "      <td>서울특별시 강남구 언주로 3-0</td>\n",
       "      <td>0.255804</td>\n",
       "      <td>960927.203039</td>\n",
       "      <td>1.941996e+06</td>\n",
       "    </tr>\n",
       "    <tr>\n",
       "      <th>1</th>\n",
       "      <td>서울특별시 강남구 개포동 652-0</td>\n",
       "      <td>서울특별시 강남구 개포로 307-0</td>\n",
       "      <td>0.280766</td>\n",
       "      <td>960779.442446</td>\n",
       "      <td>1.942756e+06</td>\n",
       "    </tr>\n",
       "    <tr>\n",
       "      <th>2</th>\n",
       "      <td>서울특별시 강남구 개포동 12-2</td>\n",
       "      <td>서울특별시 강남구 개포로109길 69-0</td>\n",
       "      <td>0.231785</td>\n",
       "      <td>962641.068306</td>\n",
       "      <td>1.944198e+06</td>\n",
       "    </tr>\n",
       "    <tr>\n",
       "      <th>3</th>\n",
       "      <td>서울특별시 강남구 개포동 187-0</td>\n",
       "      <td>서울특별시 강남구 삼성로4길 17-0</td>\n",
       "      <td>0.217366</td>\n",
       "      <td>961892.072059</td>\n",
       "      <td>1.943137e+06</td>\n",
       "    </tr>\n",
       "    <tr>\n",
       "      <th>4</th>\n",
       "      <td>서울특별시 강남구 개포동 185-0</td>\n",
       "      <td>서울특별시 강남구 개포로 516-0</td>\n",
       "      <td>0.166456</td>\n",
       "      <td>962064.307016</td>\n",
       "      <td>1.943516e+06</td>\n",
       "    </tr>\n",
       "  </tbody>\n",
       "</table>\n",
       "</div>"
      ],
      "text/plain": [
       "                  지번주소                   도로명주소  표준화후표준편차            X좌표  \\\n",
       "0  서울특별시 강남구 개포동 658-1       서울특별시 강남구 언주로 3-0  0.255804  960927.203039   \n",
       "1  서울특별시 강남구 개포동 652-0     서울특별시 강남구 개포로 307-0  0.280766  960779.442446   \n",
       "2   서울특별시 강남구 개포동 12-2  서울특별시 강남구 개포로109길 69-0  0.231785  962641.068306   \n",
       "3  서울특별시 강남구 개포동 187-0    서울특별시 강남구 삼성로4길 17-0  0.217366  961892.072059   \n",
       "4  서울특별시 강남구 개포동 185-0     서울특별시 강남구 개포로 516-0  0.166456  962064.307016   \n",
       "\n",
       "            Y좌표  \n",
       "0  1.941996e+06  \n",
       "1  1.942756e+06  \n",
       "2  1.944198e+06  \n",
       "3  1.943137e+06  \n",
       "4  1.943516e+06  "
      ]
     },
     "execution_count": 36,
     "metadata": {},
     "output_type": "execute_result"
    }
   ],
   "source": [
    "merge_df = selected_df.merge(coor_df, on=['도로명주소'])\n",
    "print(merge_df.shape)\n",
    "merge_df.head()"
   ]
  },
  {
   "cell_type": "code",
   "execution_count": 37,
   "metadata": {},
   "outputs": [],
   "source": [
    "merge_df.rename(columns={'X좌표':'x', 'Y좌표':'y'}, inplace=True)"
   ]
  },
  {
   "cell_type": "code",
   "execution_count": null,
   "metadata": {},
   "outputs": [],
   "source": [
    "f, ax = plt.subplots(figsize=(50,40))\n",
    "plt.axis('equal')\n",
    "sns.scatterplot(merge_df['x'], merge_df['y'], hue=merge_df['표준화후표준편차'])\n",
    "plt.savefig(basedir + '서울전체.png')"
   ]
  },
  {
   "cell_type": "code",
   "execution_count": 38,
   "metadata": {},
   "outputs": [],
   "source": [
    "merge_df['구'] = merge_df['도로명주소'].apply(lambda x: str(x).split(' ')[1])"
   ]
  },
  {
   "cell_type": "code",
   "execution_count": null,
   "metadata": {},
   "outputs": [],
   "source": [
    "merge_df['구'].unique()"
   ]
  },
  {
   "cell_type": "code",
   "execution_count": null,
   "metadata": {},
   "outputs": [],
   "source": [
    "for gu in merge_df['구'].unique():\n",
    "    gu_df = merge_df[merge_df['구'] == gu]\n",
    "    \n",
    "    f, ax = plt.subplots(figsize=(20,15))\n",
    "    plt.axis('equal')\n",
    "    plt.title('{}'.format(gu))\n",
    "    sns.scatterplot(gu_df['x'], gu_df['y'], hue=gu_df['표준화후표준편차'])\n",
    "    plt.savefig(basedir + '{}.png'.format(gu))\n",
    "    \n",
    "    plt.show()\n",
    "    plt.clf()"
   ]
  },
  {
   "cell_type": "code",
   "execution_count": null,
   "metadata": {},
   "outputs": [],
   "source": [
    "gangdong_df.isna().sum()"
   ]
  },
  {
   "cell_type": "code",
   "execution_count": null,
   "metadata": {},
   "outputs": [],
   "source": [
    "concat_df.isna().sum()"
   ]
  },
  {
   "cell_type": "code",
   "execution_count": null,
   "metadata": {},
   "outputs": [],
   "source": [
    "count = 0\n",
    "for addr in tqdm(nan_df['도로명주소'].unique()):\n",
    "    addr_df = concat_df[concat_df['도로명주소'] == addr]\n",
    "    if addr_df.shape[0] != 1:\n",
    "        print(addr_df.shape)\n",
    "        display(addr_df)\n",
    "        count += 1\n",
    "        \n",
    "    if count > 10:\n",
    "        break"
   ]
  },
  {
   "cell_type": "code",
   "execution_count": 40,
   "metadata": {},
   "outputs": [],
   "source": [
    "def assign_dong(x):\n",
    "    # x is a string\n",
    "    if pd.isna(x) == True:\n",
    "        return x\n",
    "    else:\n",
    "        return x.split(' ')[2]"
   ]
  },
  {
   "cell_type": "code",
   "execution_count": 41,
   "metadata": {},
   "outputs": [],
   "source": [
    "merge_df['동'] = merge_df['지번주소'].apply(assign_dong)"
   ]
  },
  {
   "cell_type": "code",
   "execution_count": null,
   "metadata": {},
   "outputs": [],
   "source": [
    "gangdong_df = merge_df[merge_df['구'] == '강동구']\n",
    "print(gangdong_df.shape)\n",
    "gangdong_df.head()"
   ]
  },
  {
   "cell_type": "code",
   "execution_count": null,
   "metadata": {},
   "outputs": [],
   "source": [
    "gangdong_df['동'].nunique()"
   ]
  },
  {
   "cell_type": "code",
   "execution_count": null,
   "metadata": {
    "scrolled": false
   },
   "outputs": [],
   "source": [
    "for dong in gangdong_df['동'].unique():\n",
    "    dong_df = gangdong_df[gangdong_df['동'] == dong]\n",
    "    print(dong_df.shape)\n",
    "    \n",
    "    f, ax = plt.subplots(figsize=(15,10))\n",
    "    plt.axis('equal')\n",
    "    plt.title('{}'.format(dong))\n",
    "    sns.scatterplot(dong_df['x'], dong_df['y'], hue=dong_df['표준화후표준편차'])\n",
    "    plt.savefig(basedir + '{}.png'.format(dong))\n",
    "    \n",
    "    plt.show()\n",
    "    plt.clf()"
   ]
  },
  {
   "cell_type": "code",
   "execution_count": 42,
   "metadata": {},
   "outputs": [
    {
     "data": {
      "text/html": [
       "<div>\n",
       "<style scoped>\n",
       "    .dataframe tbody tr th:only-of-type {\n",
       "        vertical-align: middle;\n",
       "    }\n",
       "\n",
       "    .dataframe tbody tr th {\n",
       "        vertical-align: top;\n",
       "    }\n",
       "\n",
       "    .dataframe thead th {\n",
       "        text-align: right;\n",
       "    }\n",
       "</style>\n",
       "<table border=\"1\" class=\"dataframe\">\n",
       "  <thead>\n",
       "    <tr style=\"text-align: right;\">\n",
       "      <th></th>\n",
       "      <th>지번주소</th>\n",
       "      <th>도로명주소</th>\n",
       "      <th>표준화후표준편차</th>\n",
       "      <th>x</th>\n",
       "      <th>y</th>\n",
       "      <th>구</th>\n",
       "      <th>동</th>\n",
       "    </tr>\n",
       "  </thead>\n",
       "  <tbody>\n",
       "    <tr>\n",
       "      <th>0</th>\n",
       "      <td>서울특별시 강남구 개포동 658-1</td>\n",
       "      <td>서울특별시 강남구 언주로 3-0</td>\n",
       "      <td>0.255804</td>\n",
       "      <td>960927.203039</td>\n",
       "      <td>1.941996e+06</td>\n",
       "      <td>강남구</td>\n",
       "      <td>개포동</td>\n",
       "    </tr>\n",
       "    <tr>\n",
       "      <th>1</th>\n",
       "      <td>서울특별시 강남구 개포동 652-0</td>\n",
       "      <td>서울특별시 강남구 개포로 307-0</td>\n",
       "      <td>0.280766</td>\n",
       "      <td>960779.442446</td>\n",
       "      <td>1.942756e+06</td>\n",
       "      <td>강남구</td>\n",
       "      <td>개포동</td>\n",
       "    </tr>\n",
       "    <tr>\n",
       "      <th>2</th>\n",
       "      <td>서울특별시 강남구 개포동 12-2</td>\n",
       "      <td>서울특별시 강남구 개포로109길 69-0</td>\n",
       "      <td>0.231785</td>\n",
       "      <td>962641.068306</td>\n",
       "      <td>1.944198e+06</td>\n",
       "      <td>강남구</td>\n",
       "      <td>개포동</td>\n",
       "    </tr>\n",
       "    <tr>\n",
       "      <th>3</th>\n",
       "      <td>서울특별시 강남구 개포동 187-0</td>\n",
       "      <td>서울특별시 강남구 삼성로4길 17-0</td>\n",
       "      <td>0.217366</td>\n",
       "      <td>961892.072059</td>\n",
       "      <td>1.943137e+06</td>\n",
       "      <td>강남구</td>\n",
       "      <td>개포동</td>\n",
       "    </tr>\n",
       "    <tr>\n",
       "      <th>4</th>\n",
       "      <td>서울특별시 강남구 개포동 185-0</td>\n",
       "      <td>서울특별시 강남구 개포로 516-0</td>\n",
       "      <td>0.166456</td>\n",
       "      <td>962064.307016</td>\n",
       "      <td>1.943516e+06</td>\n",
       "      <td>강남구</td>\n",
       "      <td>개포동</td>\n",
       "    </tr>\n",
       "  </tbody>\n",
       "</table>\n",
       "</div>"
      ],
      "text/plain": [
       "                  지번주소                   도로명주소  표준화후표준편차              x  \\\n",
       "0  서울특별시 강남구 개포동 658-1       서울특별시 강남구 언주로 3-0  0.255804  960927.203039   \n",
       "1  서울특별시 강남구 개포동 652-0     서울특별시 강남구 개포로 307-0  0.280766  960779.442446   \n",
       "2   서울특별시 강남구 개포동 12-2  서울특별시 강남구 개포로109길 69-0  0.231785  962641.068306   \n",
       "3  서울특별시 강남구 개포동 187-0    서울특별시 강남구 삼성로4길 17-0  0.217366  961892.072059   \n",
       "4  서울특별시 강남구 개포동 185-0     서울특별시 강남구 개포로 516-0  0.166456  962064.307016   \n",
       "\n",
       "              y    구    동  \n",
       "0  1.941996e+06  강남구  개포동  \n",
       "1  1.942756e+06  강남구  개포동  \n",
       "2  1.944198e+06  강남구  개포동  \n",
       "3  1.943137e+06  강남구  개포동  \n",
       "4  1.943516e+06  강남구  개포동  "
      ]
     },
     "execution_count": 42,
     "metadata": {},
     "output_type": "execute_result"
    }
   ],
   "source": [
    "merge_df.head()"
   ]
  },
  {
   "cell_type": "code",
   "execution_count": 43,
   "metadata": {},
   "outputs": [
    {
     "name": "stdout",
     "output_type": "stream",
     "text": [
      "(153, 7)\n"
     ]
    },
    {
     "data": {
      "text/html": [
       "<div>\n",
       "<style scoped>\n",
       "    .dataframe tbody tr th:only-of-type {\n",
       "        vertical-align: middle;\n",
       "    }\n",
       "\n",
       "    .dataframe tbody tr th {\n",
       "        vertical-align: top;\n",
       "    }\n",
       "\n",
       "    .dataframe thead th {\n",
       "        text-align: right;\n",
       "    }\n",
       "</style>\n",
       "<table border=\"1\" class=\"dataframe\">\n",
       "  <thead>\n",
       "    <tr style=\"text-align: right;\">\n",
       "      <th></th>\n",
       "      <th>지번주소</th>\n",
       "      <th>도로명주소</th>\n",
       "      <th>표준화후표준편차</th>\n",
       "      <th>x</th>\n",
       "      <th>y</th>\n",
       "      <th>구</th>\n",
       "      <th>동</th>\n",
       "    </tr>\n",
       "  </thead>\n",
       "  <tbody>\n",
       "    <tr>\n",
       "      <th>549</th>\n",
       "      <td>서울특별시 강동구 둔촌동 67-0</td>\n",
       "      <td>서울특별시 강동구 진황도로 145-0</td>\n",
       "      <td>0.366942</td>\n",
       "      <td>968302.924496</td>\n",
       "      <td>1.948261e+06</td>\n",
       "      <td>강동구</td>\n",
       "      <td>둔촌동</td>\n",
       "    </tr>\n",
       "    <tr>\n",
       "      <th>550</th>\n",
       "      <td>서울특별시 강동구 둔촌동 518-6</td>\n",
       "      <td>서울특별시 강동구 풍성로 239-0</td>\n",
       "      <td>0.440076</td>\n",
       "      <td>968034.033275</td>\n",
       "      <td>1.947747e+06</td>\n",
       "      <td>강동구</td>\n",
       "      <td>둔촌동</td>\n",
       "    </tr>\n",
       "    <tr>\n",
       "      <th>551</th>\n",
       "      <td>서울특별시 강동구 둔촌동 631-0</td>\n",
       "      <td>서울특별시 강동구 양재대로96길 26-0</td>\n",
       "      <td>0.430363</td>\n",
       "      <td>968073.573879</td>\n",
       "      <td>1.947850e+06</td>\n",
       "      <td>강동구</td>\n",
       "      <td>둔촌동</td>\n",
       "    </tr>\n",
       "    <tr>\n",
       "      <th>552</th>\n",
       "      <td>서울특별시 강동구 둔촌동 435-7</td>\n",
       "      <td>서울특별시 강동구 천호대로 1156-12</td>\n",
       "      <td>0.502270</td>\n",
       "      <td>968119.893338</td>\n",
       "      <td>1.948267e+06</td>\n",
       "      <td>강동구</td>\n",
       "      <td>둔촌동</td>\n",
       "    </tr>\n",
       "    <tr>\n",
       "      <th>553</th>\n",
       "      <td>서울특별시 강동구 둔촌동 435-8</td>\n",
       "      <td>서울특별시 강동구 천호대로 1156-16</td>\n",
       "      <td>0.463366</td>\n",
       "      <td>968154.424860</td>\n",
       "      <td>1.948237e+06</td>\n",
       "      <td>강동구</td>\n",
       "      <td>둔촌동</td>\n",
       "    </tr>\n",
       "  </tbody>\n",
       "</table>\n",
       "</div>"
      ],
      "text/plain": [
       "                    지번주소                   도로명주소  표준화후표준편차              x  \\\n",
       "549   서울특별시 강동구 둔촌동 67-0    서울특별시 강동구 진황도로 145-0  0.366942  968302.924496   \n",
       "550  서울특별시 강동구 둔촌동 518-6     서울특별시 강동구 풍성로 239-0  0.440076  968034.033275   \n",
       "551  서울특별시 강동구 둔촌동 631-0  서울특별시 강동구 양재대로96길 26-0  0.430363  968073.573879   \n",
       "552  서울특별시 강동구 둔촌동 435-7  서울특별시 강동구 천호대로 1156-12  0.502270  968119.893338   \n",
       "553  서울특별시 강동구 둔촌동 435-8  서울특별시 강동구 천호대로 1156-16  0.463366  968154.424860   \n",
       "\n",
       "                y    구    동  \n",
       "549  1.948261e+06  강동구  둔촌동  \n",
       "550  1.947747e+06  강동구  둔촌동  \n",
       "551  1.947850e+06  강동구  둔촌동  \n",
       "552  1.948267e+06  강동구  둔촌동  \n",
       "553  1.948237e+06  강동구  둔촌동  "
      ]
     },
     "execution_count": 43,
     "metadata": {},
     "output_type": "execute_result"
    }
   ],
   "source": [
    "dunchon_df = merge_df[merge_df['동'] == '둔촌동']\n",
    "print(dunchon_df.shape)\n",
    "dunchon_df.head()"
   ]
  },
  {
   "cell_type": "code",
   "execution_count": 45,
   "metadata": {},
   "outputs": [
    {
     "name": "stdout",
     "output_type": "stream",
     "text": [
      "(3, 7)\n"
     ]
    },
    {
     "data": {
      "text/html": [
       "<div>\n",
       "<style scoped>\n",
       "    .dataframe tbody tr th:only-of-type {\n",
       "        vertical-align: middle;\n",
       "    }\n",
       "\n",
       "    .dataframe tbody tr th {\n",
       "        vertical-align: top;\n",
       "    }\n",
       "\n",
       "    .dataframe thead th {\n",
       "        text-align: right;\n",
       "    }\n",
       "</style>\n",
       "<table border=\"1\" class=\"dataframe\">\n",
       "  <thead>\n",
       "    <tr style=\"text-align: right;\">\n",
       "      <th></th>\n",
       "      <th>지번주소</th>\n",
       "      <th>도로명주소</th>\n",
       "      <th>표준화후표준편차</th>\n",
       "      <th>x</th>\n",
       "      <th>y</th>\n",
       "      <th>구</th>\n",
       "      <th>동</th>\n",
       "    </tr>\n",
       "  </thead>\n",
       "  <tbody>\n",
       "    <tr>\n",
       "      <th>8950</th>\n",
       "      <td>서울특별시 강동구 둔촌동 98-8</td>\n",
       "      <td>서울특별시 강동구 진황도로61길 42-0</td>\n",
       "      <td>0.482562</td>\n",
       "      <td>968672.396136</td>\n",
       "      <td>1.947751e+06</td>\n",
       "      <td>강동구</td>\n",
       "      <td>둔촌동</td>\n",
       "    </tr>\n",
       "    <tr>\n",
       "      <th>8989</th>\n",
       "      <td>서울특별시 강동구 둔촌동 98-88</td>\n",
       "      <td>서울특별시 강동구 진황도로61길 38-6</td>\n",
       "      <td>NaN</td>\n",
       "      <td>968648.204406</td>\n",
       "      <td>1.947733e+06</td>\n",
       "      <td>강동구</td>\n",
       "      <td>둔촌동</td>\n",
       "    </tr>\n",
       "    <tr>\n",
       "      <th>48132</th>\n",
       "      <td>서울특별시 강동구 둔촌동 98-69</td>\n",
       "      <td>서울특별시 강동구 진황도로61길 38-4</td>\n",
       "      <td>NaN</td>\n",
       "      <td>968654.136595</td>\n",
       "      <td>1.947746e+06</td>\n",
       "      <td>강동구</td>\n",
       "      <td>둔촌동</td>\n",
       "    </tr>\n",
       "  </tbody>\n",
       "</table>\n",
       "</div>"
      ],
      "text/plain": [
       "                      지번주소                   도로명주소  표준화후표준편차              x  \\\n",
       "8950    서울특별시 강동구 둔촌동 98-8  서울특별시 강동구 진황도로61길 42-0  0.482562  968672.396136   \n",
       "8989   서울특별시 강동구 둔촌동 98-88  서울특별시 강동구 진황도로61길 38-6       NaN  968648.204406   \n",
       "48132  서울특별시 강동구 둔촌동 98-69  서울특별시 강동구 진황도로61길 38-4       NaN  968654.136595   \n",
       "\n",
       "                  y    구    동  \n",
       "8950   1.947751e+06  강동구  둔촌동  \n",
       "8989   1.947733e+06  강동구  둔촌동  \n",
       "48132  1.947746e+06  강동구  둔촌동  "
      ]
     },
     "execution_count": 45,
     "metadata": {},
     "output_type": "execute_result"
    }
   ],
   "source": [
    "target_df = dunchon_df[(dunchon_df['x'] > 968500)&(dunchon_df['x'] > 968600)&(dunchon_df['y'] < 1.9478* 1000000)&(dunchon_df['y'] > 1.9477 * 1000000)]\n",
    "print(target_df.shape)\n",
    "target_df.head()"
   ]
  },
  {
   "cell_type": "code",
   "execution_count": null,
   "metadata": {},
   "outputs": [],
   "source": []
  },
  {
   "cell_type": "code",
   "execution_count": null,
   "metadata": {},
   "outputs": [],
   "source": []
  },
  {
   "cell_type": "code",
   "execution_count": null,
   "metadata": {},
   "outputs": [],
   "source": []
  },
  {
   "cell_type": "code",
   "execution_count": null,
   "metadata": {},
   "outputs": [],
   "source": []
  },
  {
   "cell_type": "code",
   "execution_count": null,
   "metadata": {},
   "outputs": [],
   "source": []
  },
  {
   "cell_type": "code",
   "execution_count": null,
   "metadata": {},
   "outputs": [],
   "source": []
  },
  {
   "cell_type": "code",
   "execution_count": null,
   "metadata": {},
   "outputs": [],
   "source": []
  },
  {
   "cell_type": "code",
   "execution_count": null,
   "metadata": {},
   "outputs": [],
   "source": []
  },
  {
   "cell_type": "code",
   "execution_count": null,
   "metadata": {},
   "outputs": [],
   "source": []
  }
 ],
 "metadata": {
  "kernelspec": {
   "display_name": "Python 3",
   "language": "python",
   "name": "python3"
  }
 },
 "nbformat": 4,
 "nbformat_minor": 4
}
