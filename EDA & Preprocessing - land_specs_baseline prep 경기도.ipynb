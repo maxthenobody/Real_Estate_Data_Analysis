{
 "cells": [
  {
   "cell_type": "code",
   "execution_count": 1,
   "metadata": {},
   "outputs": [],
   "source": [
    "import multiprocess as mp\n",
    "import numpy as np\n",
    "import pandas as pd\n",
    "import matplotlib.pyplot as plt\n",
    "import os\n",
    "import math\n",
    "from tqdm import tqdm\n",
    "import requests\n",
    "from urllib.parse import urlparse\n",
    "pd.set_option('display.max_rows', 500)\n",
    "pd.set_option('display.max_columns', 500)\n",
    "import datetime\n",
    "from sklearn.preprocessing import quantile_transform\n",
    "pd.options.mode.chained_assignment = None  # default='warn'\n",
    "import gc"
   ]
  },
  {
   "cell_type": "code",
   "execution_count": 2,
   "metadata": {},
   "outputs": [],
   "source": [
    "def landnum_modifier(x):\n",
    "    # x is a string\n",
    "    \n",
    "    if pd.isna(x) == True:\n",
    "        return x\n",
    "    else:\n",
    "        splitted = x.split('-')\n",
    "        if len(splitted) == 1:\n",
    "            return x + '-0'\n",
    "        else:\n",
    "            return x"
   ]
  },
  {
   "cell_type": "code",
   "execution_count": 3,
   "metadata": {},
   "outputs": [],
   "source": [
    "def create_land_specs_df():\n",
    "    basedir = './토지특성정보/경기도/'\n",
    "    filenames = [f for f in os.listdir(basedir) if (f.endswith('.csv'))&('AL_' in f)]\n",
    "    \n",
    "    dfs_list = []\n",
    "    for file in filenames:\n",
    "        df = pd.read_csv(basedir + file, encoding='euc-kr')\n",
    "        dfs_list.append(df)\n",
    "    \n",
    "    df = pd.concat(dfs_list).drop_duplicates().reset_index(drop=True)\n",
    "    \n",
    "    df['지번주소'] = df['법정동명'] + ' ' + df['지번'].apply(landnum_modifier)\n",
    "    df.drop(columns=['법정동명', '지번'], inplace=True)\n",
    "    \n",
    "    return df.sort_values(['지번주소', '기준년도'])"
   ]
  },
  {
   "cell_type": "code",
   "execution_count": 4,
   "metadata": {
    "scrolled": true
   },
   "outputs": [
    {
     "name": "stderr",
     "output_type": "stream",
     "text": [
      "c:\\users\\max6296\\ml\\lib\\site-packages\\IPython\\core\\interactiveshell.py:3338: DtypeWarning: Columns (0) have mixed types.Specify dtype option on import or set low_memory=False.\n",
      "  if (await self.run_code(code, result,  async_=asy)):\n"
     ]
    },
    {
     "name": "stdout",
     "output_type": "stream",
     "text": [
      "(35909968, 25)\n"
     ]
    },
    {
     "data": {
      "text/plain": [
       "(35711880, 25)"
      ]
     },
     "execution_count": 4,
     "metadata": {},
     "output_type": "execute_result"
    }
   ],
   "source": [
    "land_specs_df = create_land_specs_df()\n",
    "print(land_specs_df.shape)\n",
    "land_specs_df = land_specs_df[(land_specs_df['대장구분명'] == '일반')|(land_specs_df['대장구분명'] == '산')]\n",
    "land_specs_df.shape"
   ]
  },
  {
   "cell_type": "code",
   "execution_count": 5,
   "metadata": {},
   "outputs": [
    {
     "data": {
      "text/html": [
       "<div>\n",
       "<style scoped>\n",
       "    .dataframe tbody tr th:only-of-type {\n",
       "        vertical-align: middle;\n",
       "    }\n",
       "\n",
       "    .dataframe tbody tr th {\n",
       "        vertical-align: top;\n",
       "    }\n",
       "\n",
       "    .dataframe thead th {\n",
       "        text-align: right;\n",
       "    }\n",
       "</style>\n",
       "<table border=\"1\" class=\"dataframe\">\n",
       "  <thead>\n",
       "    <tr style=\"text-align: right;\">\n",
       "      <th></th>\n",
       "      <th>고유번호</th>\n",
       "      <th>법정동코드</th>\n",
       "      <th>대장구분코드</th>\n",
       "      <th>대장구분명</th>\n",
       "      <th>토지일련번호</th>\n",
       "      <th>기준년도</th>\n",
       "      <th>기준월</th>\n",
       "      <th>지목코드</th>\n",
       "      <th>지목명</th>\n",
       "      <th>토지면적</th>\n",
       "      <th>용도지역코드1</th>\n",
       "      <th>용도지역명1</th>\n",
       "      <th>용도지역코드2</th>\n",
       "      <th>용도지역명2</th>\n",
       "      <th>토지이용상황코드</th>\n",
       "      <th>토지이동상황</th>\n",
       "      <th>지형높이코드</th>\n",
       "      <th>지형높이</th>\n",
       "      <th>지형형상코드</th>\n",
       "      <th>지형형상</th>\n",
       "      <th>도로접면코드</th>\n",
       "      <th>도로접면</th>\n",
       "      <th>공시지가</th>\n",
       "      <th>데이터기준일자</th>\n",
       "      <th>지번주소</th>\n",
       "    </tr>\n",
       "  </thead>\n",
       "  <tbody>\n",
       "    <tr>\n",
       "      <th>32427361</th>\n",
       "      <td>4182025030100010000</td>\n",
       "      <td>4182025030</td>\n",
       "      <td>1</td>\n",
       "      <td>일반</td>\n",
       "      <td>21885</td>\n",
       "      <td>2013</td>\n",
       "      <td>1</td>\n",
       "      <td>5</td>\n",
       "      <td>임야</td>\n",
       "      <td>1861.0</td>\n",
       "      <td>62</td>\n",
       "      <td>보전관리지역</td>\n",
       "      <td>0</td>\n",
       "      <td>지정되지않음</td>\n",
       "      <td>710</td>\n",
       "      <td>조림</td>\n",
       "      <td>4</td>\n",
       "      <td>급경사</td>\n",
       "      <td>7</td>\n",
       "      <td>부정형</td>\n",
       "      <td>8</td>\n",
       "      <td>세로한면(가)</td>\n",
       "      <td>11800</td>\n",
       "      <td>2017-10-17</td>\n",
       "      <td>경기도 가평군 가평읍 개곡리 1-0</td>\n",
       "    </tr>\n",
       "    <tr>\n",
       "      <th>32443451</th>\n",
       "      <td>4182025030200010000</td>\n",
       "      <td>4182025030</td>\n",
       "      <td>2</td>\n",
       "      <td>산</td>\n",
       "      <td>23785</td>\n",
       "      <td>2013</td>\n",
       "      <td>1</td>\n",
       "      <td>5</td>\n",
       "      <td>임야</td>\n",
       "      <td>10017.0</td>\n",
       "      <td>71</td>\n",
       "      <td>농림지역</td>\n",
       "      <td>0</td>\n",
       "      <td>지정되지않음</td>\n",
       "      <td>720</td>\n",
       "      <td>자연림</td>\n",
       "      <td>4</td>\n",
       "      <td>급경사</td>\n",
       "      <td>7</td>\n",
       "      <td>부정형</td>\n",
       "      <td>12</td>\n",
       "      <td>맹지</td>\n",
       "      <td>1390</td>\n",
       "      <td>2017-10-17</td>\n",
       "      <td>경기도 가평군 가평읍 개곡리 1-0</td>\n",
       "    </tr>\n",
       "    <tr>\n",
       "      <th>32427362</th>\n",
       "      <td>4182025030100010000</td>\n",
       "      <td>4182025030</td>\n",
       "      <td>1</td>\n",
       "      <td>일반</td>\n",
       "      <td>22340</td>\n",
       "      <td>2014</td>\n",
       "      <td>1</td>\n",
       "      <td>5</td>\n",
       "      <td>임야</td>\n",
       "      <td>1861.0</td>\n",
       "      <td>62</td>\n",
       "      <td>보전관리지역</td>\n",
       "      <td>0</td>\n",
       "      <td>지정되지않음</td>\n",
       "      <td>710</td>\n",
       "      <td>조림</td>\n",
       "      <td>4</td>\n",
       "      <td>급경사</td>\n",
       "      <td>7</td>\n",
       "      <td>부정형</td>\n",
       "      <td>8</td>\n",
       "      <td>세로한면(가)</td>\n",
       "      <td>13100</td>\n",
       "      <td>2017-10-17</td>\n",
       "      <td>경기도 가평군 가평읍 개곡리 1-0</td>\n",
       "    </tr>\n",
       "    <tr>\n",
       "      <th>32443452</th>\n",
       "      <td>4182025030200010000</td>\n",
       "      <td>4182025030</td>\n",
       "      <td>2</td>\n",
       "      <td>산</td>\n",
       "      <td>24256</td>\n",
       "      <td>2014</td>\n",
       "      <td>1</td>\n",
       "      <td>5</td>\n",
       "      <td>임야</td>\n",
       "      <td>10017.0</td>\n",
       "      <td>71</td>\n",
       "      <td>농림지역</td>\n",
       "      <td>0</td>\n",
       "      <td>지정되지않음</td>\n",
       "      <td>720</td>\n",
       "      <td>자연림</td>\n",
       "      <td>4</td>\n",
       "      <td>급경사</td>\n",
       "      <td>7</td>\n",
       "      <td>부정형</td>\n",
       "      <td>12</td>\n",
       "      <td>맹지</td>\n",
       "      <td>1490</td>\n",
       "      <td>2017-10-17</td>\n",
       "      <td>경기도 가평군 가평읍 개곡리 1-0</td>\n",
       "    </tr>\n",
       "    <tr>\n",
       "      <th>32427363</th>\n",
       "      <td>4182025030100010000</td>\n",
       "      <td>4182025030</td>\n",
       "      <td>1</td>\n",
       "      <td>일반</td>\n",
       "      <td>22656</td>\n",
       "      <td>2015</td>\n",
       "      <td>1</td>\n",
       "      <td>5</td>\n",
       "      <td>임야</td>\n",
       "      <td>1861.0</td>\n",
       "      <td>62</td>\n",
       "      <td>보전관리지역</td>\n",
       "      <td>0</td>\n",
       "      <td>지정되지않음</td>\n",
       "      <td>710</td>\n",
       "      <td>조림</td>\n",
       "      <td>4</td>\n",
       "      <td>급경사</td>\n",
       "      <td>7</td>\n",
       "      <td>부정형</td>\n",
       "      <td>8</td>\n",
       "      <td>세로한면(가)</td>\n",
       "      <td>13600</td>\n",
       "      <td>2017-10-17</td>\n",
       "      <td>경기도 가평군 가평읍 개곡리 1-0</td>\n",
       "    </tr>\n",
       "  </tbody>\n",
       "</table>\n",
       "</div>"
      ],
      "text/plain": [
       "                         고유번호       법정동코드  대장구분코드 대장구분명  토지일련번호  기준년도  기준월  \\\n",
       "32427361  4182025030100010000  4182025030       1    일반   21885  2013    1   \n",
       "32443451  4182025030200010000  4182025030       2     산   23785  2013    1   \n",
       "32427362  4182025030100010000  4182025030       1    일반   22340  2014    1   \n",
       "32443452  4182025030200010000  4182025030       2     산   24256  2014    1   \n",
       "32427363  4182025030100010000  4182025030       1    일반   22656  2015    1   \n",
       "\n",
       "          지목코드 지목명     토지면적  용도지역코드1  용도지역명1  용도지역코드2  용도지역명2  토지이용상황코드  \\\n",
       "32427361     5  임야   1861.0       62  보전관리지역        0  지정되지않음       710   \n",
       "32443451     5  임야  10017.0       71    농림지역        0  지정되지않음       720   \n",
       "32427362     5  임야   1861.0       62  보전관리지역        0  지정되지않음       710   \n",
       "32443452     5  임야  10017.0       71    농림지역        0  지정되지않음       720   \n",
       "32427363     5  임야   1861.0       62  보전관리지역        0  지정되지않음       710   \n",
       "\n",
       "         토지이동상황  지형높이코드 지형높이  지형형상코드 지형형상  도로접면코드     도로접면   공시지가     데이터기준일자  \\\n",
       "32427361     조림       4  급경사       7  부정형       8  세로한면(가)  11800  2017-10-17   \n",
       "32443451    자연림       4  급경사       7  부정형      12       맹지   1390  2017-10-17   \n",
       "32427362     조림       4  급경사       7  부정형       8  세로한면(가)  13100  2017-10-17   \n",
       "32443452    자연림       4  급경사       7  부정형      12       맹지   1490  2017-10-17   \n",
       "32427363     조림       4  급경사       7  부정형       8  세로한면(가)  13600  2017-10-17   \n",
       "\n",
       "                         지번주소  \n",
       "32427361  경기도 가평군 가평읍 개곡리 1-0  \n",
       "32443451  경기도 가평군 가평읍 개곡리 1-0  \n",
       "32427362  경기도 가평군 가평읍 개곡리 1-0  \n",
       "32443452  경기도 가평군 가평읍 개곡리 1-0  \n",
       "32427363  경기도 가평군 가평읍 개곡리 1-0  "
      ]
     },
     "execution_count": 5,
     "metadata": {},
     "output_type": "execute_result"
    }
   ],
   "source": [
    "land_specs_df.head()"
   ]
  },
  {
   "cell_type": "code",
   "execution_count": 6,
   "metadata": {
    "scrolled": true
   },
   "outputs": [],
   "source": [
    "san_df = land_specs_df[land_specs_df['대장구분명'] == '산']"
   ]
  },
  {
   "cell_type": "code",
   "execution_count": 7,
   "metadata": {},
   "outputs": [],
   "source": [
    "def modify_san_addr(x):\n",
    "    # x is a string\n",
    "    \n",
    "    if pd.isna(x) == True:\n",
    "        return x\n",
    "    else:\n",
    "        splitted = x.split(' ')\n",
    "        return splitted[0] + ' ' + splitted[1] + ' ' + splitted[2] + ' ' + '산' + splitted[3]"
   ]
  },
  {
   "cell_type": "code",
   "execution_count": 8,
   "metadata": {},
   "outputs": [],
   "source": [
    "san_df['지번주소'] = san_df['지번주소'].apply(modify_san_addr)"
   ]
  },
  {
   "cell_type": "code",
   "execution_count": 9,
   "metadata": {},
   "outputs": [],
   "source": [
    "land_specs_df.loc[san_df.index, '지번주소'] = san_df['지번주소']"
   ]
  },
  {
   "cell_type": "code",
   "execution_count": 10,
   "metadata": {},
   "outputs": [],
   "source": [
    "land_specs_df.rename(columns={'기준년도':'년'}, inplace=True)"
   ]
  },
  {
   "cell_type": "code",
   "execution_count": 11,
   "metadata": {},
   "outputs": [
    {
     "data": {
      "text/plain": [
       "(32868339, 25)"
      ]
     },
     "execution_count": 11,
     "metadata": {},
     "output_type": "execute_result"
    }
   ],
   "source": [
    "land_specs_df.drop_duplicates(subset=['지번주소', '대장구분명', '년'], keep='first', inplace=True)\n",
    "land_specs_df.shape"
   ]
  },
  {
   "cell_type": "code",
   "execution_count": 12,
   "metadata": {},
   "outputs": [
    {
     "name": "stdout",
     "output_type": "stream",
     "text": [
      "(32868339, 10)\n"
     ]
    }
   ],
   "source": [
    "selected_df = land_specs_df[['지번주소', '년', '지목명', '토지면적', '용도지역명1', '용도지역명2', '토지이동상황',\n",
    "                           '지형높이', '지형형상', '도로접면']]\n",
    "print(selected_df.shape)"
   ]
  },
  {
   "cell_type": "code",
   "execution_count": 16,
   "metadata": {},
   "outputs": [],
   "source": [
    "selected_df = selected_df.sort_values(['지번주소', '년']).reset_index(drop=True)"
   ]
  },
  {
   "cell_type": "code",
   "execution_count": 17,
   "metadata": {},
   "outputs": [
    {
     "data": {
      "text/html": [
       "<div>\n",
       "<style scoped>\n",
       "    .dataframe tbody tr th:only-of-type {\n",
       "        vertical-align: middle;\n",
       "    }\n",
       "\n",
       "    .dataframe tbody tr th {\n",
       "        vertical-align: top;\n",
       "    }\n",
       "\n",
       "    .dataframe thead th {\n",
       "        text-align: right;\n",
       "    }\n",
       "</style>\n",
       "<table border=\"1\" class=\"dataframe\">\n",
       "  <thead>\n",
       "    <tr style=\"text-align: right;\">\n",
       "      <th></th>\n",
       "      <th>지번주소</th>\n",
       "      <th>년</th>\n",
       "      <th>지목명</th>\n",
       "      <th>토지면적</th>\n",
       "      <th>용도지역명1</th>\n",
       "      <th>용도지역명2</th>\n",
       "      <th>토지이동상황</th>\n",
       "      <th>지형높이</th>\n",
       "      <th>지형형상</th>\n",
       "      <th>도로접면</th>\n",
       "    </tr>\n",
       "  </thead>\n",
       "  <tbody>\n",
       "    <tr>\n",
       "      <th>0</th>\n",
       "      <td>경기도 가평군 가평읍 개곡리 1-0</td>\n",
       "      <td>2013</td>\n",
       "      <td>임야</td>\n",
       "      <td>1861.0</td>\n",
       "      <td>보전관리지역</td>\n",
       "      <td>지정되지않음</td>\n",
       "      <td>조림</td>\n",
       "      <td>급경사</td>\n",
       "      <td>부정형</td>\n",
       "      <td>세로한면(가)</td>\n",
       "    </tr>\n",
       "    <tr>\n",
       "      <th>1</th>\n",
       "      <td>경기도 가평군 가평읍 개곡리 1-0</td>\n",
       "      <td>2014</td>\n",
       "      <td>임야</td>\n",
       "      <td>1861.0</td>\n",
       "      <td>보전관리지역</td>\n",
       "      <td>지정되지않음</td>\n",
       "      <td>조림</td>\n",
       "      <td>급경사</td>\n",
       "      <td>부정형</td>\n",
       "      <td>세로한면(가)</td>\n",
       "    </tr>\n",
       "    <tr>\n",
       "      <th>2</th>\n",
       "      <td>경기도 가평군 가평읍 개곡리 1-0</td>\n",
       "      <td>2015</td>\n",
       "      <td>임야</td>\n",
       "      <td>1861.0</td>\n",
       "      <td>보전관리지역</td>\n",
       "      <td>지정되지않음</td>\n",
       "      <td>조림</td>\n",
       "      <td>급경사</td>\n",
       "      <td>부정형</td>\n",
       "      <td>세로한면(가)</td>\n",
       "    </tr>\n",
       "    <tr>\n",
       "      <th>3</th>\n",
       "      <td>경기도 가평군 가평읍 개곡리 1-0</td>\n",
       "      <td>2016</td>\n",
       "      <td>임야</td>\n",
       "      <td>1861.0</td>\n",
       "      <td>보전관리지역</td>\n",
       "      <td>지정되지않음</td>\n",
       "      <td>조림</td>\n",
       "      <td>급경사</td>\n",
       "      <td>부정형</td>\n",
       "      <td>세로한면(가)</td>\n",
       "    </tr>\n",
       "    <tr>\n",
       "      <th>4</th>\n",
       "      <td>경기도 가평군 가평읍 개곡리 1-0</td>\n",
       "      <td>2017</td>\n",
       "      <td>임야</td>\n",
       "      <td>1861.0</td>\n",
       "      <td>보전관리지역</td>\n",
       "      <td>지정되지않음</td>\n",
       "      <td>조림</td>\n",
       "      <td>급경사</td>\n",
       "      <td>부정형</td>\n",
       "      <td>세로한면(가)</td>\n",
       "    </tr>\n",
       "  </tbody>\n",
       "</table>\n",
       "</div>"
      ],
      "text/plain": [
       "                  지번주소     년 지목명    토지면적  용도지역명1  용도지역명2 토지이동상황 지형높이 지형형상  \\\n",
       "0  경기도 가평군 가평읍 개곡리 1-0  2013  임야  1861.0  보전관리지역  지정되지않음     조림  급경사  부정형   \n",
       "1  경기도 가평군 가평읍 개곡리 1-0  2014  임야  1861.0  보전관리지역  지정되지않음     조림  급경사  부정형   \n",
       "2  경기도 가평군 가평읍 개곡리 1-0  2015  임야  1861.0  보전관리지역  지정되지않음     조림  급경사  부정형   \n",
       "3  경기도 가평군 가평읍 개곡리 1-0  2016  임야  1861.0  보전관리지역  지정되지않음     조림  급경사  부정형   \n",
       "4  경기도 가평군 가평읍 개곡리 1-0  2017  임야  1861.0  보전관리지역  지정되지않음     조림  급경사  부정형   \n",
       "\n",
       "      도로접면  \n",
       "0  세로한면(가)  \n",
       "1  세로한면(가)  \n",
       "2  세로한면(가)  \n",
       "3  세로한면(가)  \n",
       "4  세로한면(가)  "
      ]
     },
     "execution_count": 17,
     "metadata": {},
     "output_type": "execute_result"
    }
   ],
   "source": [
    "selected_df.head()"
   ]
  },
  {
   "cell_type": "code",
   "execution_count": 18,
   "metadata": {},
   "outputs": [
    {
     "name": "stdout",
     "output_type": "stream",
     "text": [
      "Wall time: 2min 7s\n"
     ]
    }
   ],
   "source": [
    "%%time\n",
    "selected_df.to_csv('./prepped_data/land_specs_baseline_경기도.csv', index=False)"
   ]
  },
  {
   "cell_type": "code",
   "execution_count": null,
   "metadata": {},
   "outputs": [],
   "source": []
  }
 ],
 "metadata": {
  "kernelspec": {
   "display_name": "Python 3",
   "language": "python",
   "name": "python3"
  },
  "language_info": {
   "codemirror_mode": {
    "name": "ipython",
    "version": 3
   },
   "file_extension": ".py",
   "mimetype": "text/x-python",
   "name": "python",
   "nbconvert_exporter": "python",
   "pygments_lexer": "ipython3",
   "version": "3.7.9"
  }
 },
 "nbformat": 4,
 "nbformat_minor": 4
}
