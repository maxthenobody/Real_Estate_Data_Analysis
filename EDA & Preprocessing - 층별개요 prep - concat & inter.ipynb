{
 "cells": [
  {
   "cell_type": "code",
   "execution_count": 1,
   "metadata": {},
   "outputs": [],
   "source": [
    "import multiprocessing as mp\n",
    "import numpy as np\n",
    "import pandas as pd\n",
    "import matplotlib.pyplot as plt\n",
    "import os\n",
    "import math\n",
    "from tqdm import tqdm\n",
    "pd.set_option('display.max_rows', 500)\n",
    "pd.set_option('display.max_columns', 500)\n",
    "import datetime\n",
    "from sklearn.preprocessing import quantile_transform\n",
    "pd.options.mode.chained_assignment = None  # default='warn'\n",
    "import gc"
   ]
  },
  {
   "cell_type": "code",
   "execution_count": 2,
   "metadata": {},
   "outputs": [
    {
     "data": {
      "text/plain": [
       "['floor_info_baseline_seoul_201412.csv',\n",
       " 'floor_info_baseline_seoul_201512.csv',\n",
       " 'floor_info_baseline_seoul_201612.csv',\n",
       " 'floor_info_baseline_seoul_201712.csv',\n",
       " 'floor_info_baseline_seoul_201812.csv',\n",
       " 'floor_info_baseline_seoul_201912.csv',\n",
       " 'floor_info_baseline_seoul_202011.csv']"
      ]
     },
     "execution_count": 2,
     "metadata": {},
     "output_type": "execute_result"
    }
   ],
   "source": [
    "basedir = './국토교통부_건축물대장_층별개요/'\n",
    "filenames = [f for f in os.listdir(basedir) if (f.endswith('.csv'))&(f.startswith('floor'))]\n",
    "filenames"
   ]
  },
  {
   "cell_type": "code",
   "execution_count": 3,
   "metadata": {},
   "outputs": [
    {
     "name": "stderr",
     "output_type": "stream",
     "text": [
      "c:\\users\\max6296\\ml\\lib\\site-packages\\IPython\\core\\interactiveshell.py:3147: DtypeWarning: Columns (10,11,12,31) have mixed types. Specify dtype option on import or set low_memory=False.\n",
      "  interactivity=interactivity, compiler=compiler, result=result)\n",
      "c:\\users\\max6296\\ml\\lib\\site-packages\\IPython\\core\\interactiveshell.py:3147: DtypeWarning: Columns (9,10,11) have mixed types. Specify dtype option on import or set low_memory=False.\n",
      "  interactivity=interactivity, compiler=compiler, result=result)\n",
      "c:\\users\\max6296\\ml\\lib\\site-packages\\IPython\\core\\interactiveshell.py:3147: DtypeWarning: Columns (10,11) have mixed types. Specify dtype option on import or set low_memory=False.\n",
      "  interactivity=interactivity, compiler=compiler, result=result)\n"
     ]
    }
   ],
   "source": [
    "dfs_list = []\n",
    "for file in filenames:\n",
    "    df = pd.read_csv(basedir + file)\n",
    "    dfs_list.append(df)"
   ]
  },
  {
   "cell_type": "code",
   "execution_count": 4,
   "metadata": {},
   "outputs": [],
   "source": [
    "first_cols = dfs_list[0].columns"
   ]
  },
  {
   "cell_type": "code",
   "execution_count": 5,
   "metadata": {},
   "outputs": [
    {
     "name": "stdout",
     "output_type": "stream",
     "text": [
      "[ True  True  True  True  True  True  True  True  True  True  True  True\n",
      "  True  True  True  True  True  True  True  True  True  True  True  True\n",
      "  True  True  True  True  True  True  True  True  True  True  True  True\n",
      "  True  True  True  True]\n"
     ]
    },
    {
     "ename": "ValueError",
     "evalue": "Lengths must match to compare",
     "output_type": "error",
     "traceback": [
      "\u001b[1;31m---------------------------------------------------------------------------\u001b[0m",
      "\u001b[1;31mValueError\u001b[0m                                Traceback (most recent call last)",
      "\u001b[1;32m<ipython-input-5-9a9e0a00f060>\u001b[0m in \u001b[0;36m<module>\u001b[1;34m\u001b[0m\n\u001b[0;32m      1\u001b[0m \u001b[1;32mfor\u001b[0m \u001b[0mdf\u001b[0m \u001b[1;32min\u001b[0m \u001b[0mdfs_list\u001b[0m\u001b[1;33m:\u001b[0m\u001b[1;33m\u001b[0m\u001b[1;33m\u001b[0m\u001b[0m\n\u001b[1;32m----> 2\u001b[1;33m     \u001b[0mprint\u001b[0m\u001b[1;33m(\u001b[0m\u001b[0mfirst_cols\u001b[0m \u001b[1;33m==\u001b[0m \u001b[0mdf\u001b[0m\u001b[1;33m.\u001b[0m\u001b[0mcolumns\u001b[0m\u001b[1;33m)\u001b[0m\u001b[1;33m\u001b[0m\u001b[1;33m\u001b[0m\u001b[0m\n\u001b[0m",
      "\u001b[1;32mc:\\users\\max6296\\ml\\lib\\site-packages\\pandas\\core\\indexes\\base.py\u001b[0m in \u001b[0;36mcmp_method\u001b[1;34m(self, other)\u001b[0m\n\u001b[0;32m    100\u001b[0m         \u001b[1;32mif\u001b[0m \u001b[0misinstance\u001b[0m\u001b[1;33m(\u001b[0m\u001b[0mother\u001b[0m\u001b[1;33m,\u001b[0m \u001b[1;33m(\u001b[0m\u001b[0mnp\u001b[0m\u001b[1;33m.\u001b[0m\u001b[0mndarray\u001b[0m\u001b[1;33m,\u001b[0m \u001b[0mIndex\u001b[0m\u001b[1;33m,\u001b[0m \u001b[0mABCSeries\u001b[0m\u001b[1;33m)\u001b[0m\u001b[1;33m)\u001b[0m\u001b[1;33m:\u001b[0m\u001b[1;33m\u001b[0m\u001b[1;33m\u001b[0m\u001b[0m\n\u001b[0;32m    101\u001b[0m             \u001b[1;32mif\u001b[0m \u001b[0mother\u001b[0m\u001b[1;33m.\u001b[0m\u001b[0mndim\u001b[0m \u001b[1;33m>\u001b[0m \u001b[1;36m0\u001b[0m \u001b[1;32mand\u001b[0m \u001b[0mlen\u001b[0m\u001b[1;33m(\u001b[0m\u001b[0mself\u001b[0m\u001b[1;33m)\u001b[0m \u001b[1;33m!=\u001b[0m \u001b[0mlen\u001b[0m\u001b[1;33m(\u001b[0m\u001b[0mother\u001b[0m\u001b[1;33m)\u001b[0m\u001b[1;33m:\u001b[0m\u001b[1;33m\u001b[0m\u001b[1;33m\u001b[0m\u001b[0m\n\u001b[1;32m--> 102\u001b[1;33m                 \u001b[1;32mraise\u001b[0m \u001b[0mValueError\u001b[0m\u001b[1;33m(\u001b[0m\u001b[1;34m\"Lengths must match to compare\"\u001b[0m\u001b[1;33m)\u001b[0m\u001b[1;33m\u001b[0m\u001b[1;33m\u001b[0m\u001b[0m\n\u001b[0m\u001b[0;32m    103\u001b[0m \u001b[1;33m\u001b[0m\u001b[0m\n\u001b[0;32m    104\u001b[0m         \u001b[1;32mif\u001b[0m \u001b[0mis_object_dtype\u001b[0m\u001b[1;33m(\u001b[0m\u001b[0mself\u001b[0m\u001b[1;33m)\u001b[0m \u001b[1;32mand\u001b[0m \u001b[1;32mnot\u001b[0m \u001b[0misinstance\u001b[0m\u001b[1;33m(\u001b[0m\u001b[0mself\u001b[0m\u001b[1;33m,\u001b[0m \u001b[0mABCMultiIndex\u001b[0m\u001b[1;33m)\u001b[0m\u001b[1;33m:\u001b[0m\u001b[1;33m\u001b[0m\u001b[1;33m\u001b[0m\u001b[0m\n",
      "\u001b[1;31mValueError\u001b[0m: Lengths must match to compare"
     ]
    }
   ],
   "source": [
    "for df in dfs_list:\n",
    "    print(first_cols == df.columns)"
   ]
  },
  {
   "cell_type": "code",
   "execution_count": 6,
   "metadata": {},
   "outputs": [
    {
     "name": "stdout",
     "output_type": "stream",
     "text": [
      "(956287, 40)\n",
      "(2931131, 34)\n",
      "(2945430, 34)\n",
      "(2952425, 34)\n",
      "(2963206, 34)\n",
      "(2977877, 34)\n",
      "(2986252, 34)\n"
     ]
    }
   ],
   "source": [
    "for df in dfs_list:\n",
    "    print(df.shape)"
   ]
  },
  {
   "cell_type": "code",
   "execution_count": 7,
   "metadata": {},
   "outputs": [
    {
     "name": "stdout",
     "output_type": "stream",
     "text": [
      "[ True  True  True  True  True  True  True  True  True  True  True  True\n",
      "  True  True  True  True  True  True  True  True  True  True  True  True\n",
      "  True  True  True  True  True  True  True  True  True  True]\n",
      "[ True  True  True  True  True  True  True  True  True  True  True  True\n",
      "  True  True  True  True  True  True  True  True  True  True  True  True\n",
      "  True  True  True  True  True  True  True  True  True  True]\n",
      "[ True  True  True  True  True  True  True  True  True  True  True  True\n",
      "  True  True  True  True  True  True  True  True  True  True  True  True\n",
      "  True  True  True  True  True  True  True  True  True  True]\n",
      "[ True  True  True  True  True  True  True  True  True  True  True  True\n",
      "  True  True  True  True  True  True  True  True  True  True  True  True\n",
      "  True  True  True  True  True  True  True  True  True  True]\n",
      "[ True  True  True  True  True  True  True  True  True  True  True  True\n",
      "  True  True  True  True  True  True  True  True  True  True  True  True\n",
      "  True  True  True  True  True  True  True  True  True  True]\n",
      "[ True  True  True  True  True  True  True  True  True  True  True  True\n",
      "  True  True  True  True  True  True  True  True  True  True  True  True\n",
      "  True  True  True  True  True  True  True  True  True  True]\n"
     ]
    }
   ],
   "source": [
    "second_cols = dfs_list[1].columns\n",
    "for i, df in enumerate(dfs_list):\n",
    "    if i == 0:\n",
    "        pass\n",
    "    else:\n",
    "        print(second_cols == df.columns)"
   ]
  },
  {
   "cell_type": "code",
   "execution_count": 8,
   "metadata": {},
   "outputs": [
    {
     "data": {
      "text/plain": [
       "Index(['마트_층별_개요_PK', '건축물대장_PK', '대지_위치', '도로명_대지_위치', '건물_명', '시군구_코드',\n",
       "       '법정동_코드', '대지_구분_코드', '번', '지', '특수지_명', '블럭', '로트', '지번_좌표_X',\n",
       "       '지번_좌표_Y', '도로명_좌표_X', '도로명_좌표_Y', '기타_기재_사항', '새주소_도로_코드',\n",
       "       '새주소_법정동_코드', '새주소_지상지하_코드', '새주소_본_번', '새주소_부_번', '동_명칭', '층_구분_코드',\n",
       "       '층_구분_코드_명', '층_번호', '층_번호_명', '구조_코드', '구조_코드_명', '기타_구조', '주_용도_코드',\n",
       "       '주_용도_코드_명', '기타_용도', '면적', '주_부속_구분_코드', '주_부속_구분_코드_명', '면적_제외_여부',\n",
       "       '생성_일자', '기준년월'],\n",
       "      dtype='object')"
      ]
     },
     "execution_count": 8,
     "metadata": {},
     "output_type": "execute_result"
    }
   ],
   "source": [
    "first_cols"
   ]
  },
  {
   "cell_type": "code",
   "execution_count": 9,
   "metadata": {},
   "outputs": [
    {
     "data": {
      "text/plain": [
       "Index(['관리_건축물대장_PK', '대지_위치', '도로명_대지_위치', '건물_명', '시군구_코드', '법정동_코드',\n",
       "       '대지_구분_코드', '번', '지', '특수지_명', '블록', '로트', '새주소_도로_코드', '새주소_법정동_코드',\n",
       "       '새주소_지상지하_코드', '새주소_본_번', '새주소_부_번', '동_명', '층_구분_코드', '층_구분_코드_명',\n",
       "       '층_번호', '층_번호_명', '구조_코드', '구조_코드_명', '기타_구조', '주_용도_코드', '주_용도_코드_명',\n",
       "       '기타_용도', '면적(㎡)', '주_부속_구분_코드', '주_부속_구분_코드_명', '면적_제외_여부', '생성_일자',\n",
       "       '기준년월'],\n",
       "      dtype='object')"
      ]
     },
     "execution_count": 9,
     "metadata": {},
     "output_type": "execute_result"
    }
   ],
   "source": [
    "second_cols"
   ]
  },
  {
   "cell_type": "code",
   "execution_count": 10,
   "metadata": {},
   "outputs": [],
   "source": [
    "unshared_cols = []\n",
    "for col in first_cols:\n",
    "    if col not in second_cols:\n",
    "        unshared_cols.append(col)"
   ]
  },
  {
   "cell_type": "code",
   "execution_count": 11,
   "metadata": {},
   "outputs": [
    {
     "data": {
      "text/plain": [
       "['마트_층별_개요_PK',\n",
       " '건축물대장_PK',\n",
       " '블럭',\n",
       " '지번_좌표_X',\n",
       " '지번_좌표_Y',\n",
       " '도로명_좌표_X',\n",
       " '도로명_좌표_Y',\n",
       " '기타_기재_사항',\n",
       " '동_명칭',\n",
       " '면적']"
      ]
     },
     "execution_count": 11,
     "metadata": {},
     "output_type": "execute_result"
    }
   ],
   "source": [
    "unshared_cols"
   ]
  },
  {
   "cell_type": "code",
   "execution_count": 12,
   "metadata": {},
   "outputs": [],
   "source": [
    "dfs_list[0] = dfs_list[0].rename(columns={'건축물대장_PK':'관리_건축물대장_PK', '블럭':'블록', '동_명칭':'동_명', '면적':'면적(㎡)'})"
   ]
  },
  {
   "cell_type": "code",
   "execution_count": 13,
   "metadata": {},
   "outputs": [],
   "source": [
    "dfs_list[0] = dfs_list[0].drop(columns=['마트_층별_개요_PK', '지번_좌표_X', '지번_좌표_Y', '도로명_좌표_X', '도로명_좌표_Y',\n",
    "                                        '기타_기재_사항'\n",
    "                                       ])"
   ]
  },
  {
   "cell_type": "code",
   "execution_count": 14,
   "metadata": {},
   "outputs": [],
   "source": [
    "first_cols = dfs_list[0].columns"
   ]
  },
  {
   "cell_type": "code",
   "execution_count": 15,
   "metadata": {},
   "outputs": [
    {
     "name": "stdout",
     "output_type": "stream",
     "text": [
      "[ True  True  True  True  True  True  True  True  True  True  True  True\n",
      "  True  True  True  True  True  True  True  True  True  True  True  True\n",
      "  True  True  True  True  True  True  True  True  True  True]\n",
      "[ True  True  True  True  True  True  True  True  True  True  True  True\n",
      "  True  True  True  True  True  True  True  True  True  True  True  True\n",
      "  True  True  True  True  True  True  True  True  True  True]\n",
      "[ True  True  True  True  True  True  True  True  True  True  True  True\n",
      "  True  True  True  True  True  True  True  True  True  True  True  True\n",
      "  True  True  True  True  True  True  True  True  True  True]\n",
      "[ True  True  True  True  True  True  True  True  True  True  True  True\n",
      "  True  True  True  True  True  True  True  True  True  True  True  True\n",
      "  True  True  True  True  True  True  True  True  True  True]\n",
      "[ True  True  True  True  True  True  True  True  True  True  True  True\n",
      "  True  True  True  True  True  True  True  True  True  True  True  True\n",
      "  True  True  True  True  True  True  True  True  True  True]\n",
      "[ True  True  True  True  True  True  True  True  True  True  True  True\n",
      "  True  True  True  True  True  True  True  True  True  True  True  True\n",
      "  True  True  True  True  True  True  True  True  True  True]\n",
      "[ True  True  True  True  True  True  True  True  True  True  True  True\n",
      "  True  True  True  True  True  True  True  True  True  True  True  True\n",
      "  True  True  True  True  True  True  True  True  True  True]\n"
     ]
    }
   ],
   "source": [
    "for df in dfs_list:\n",
    "    print(first_cols == df.columns)"
   ]
  },
  {
   "cell_type": "code",
   "execution_count": 16,
   "metadata": {},
   "outputs": [],
   "source": [
    "concat_df = pd.concat(dfs_list)"
   ]
  },
  {
   "cell_type": "code",
   "execution_count": 17,
   "metadata": {},
   "outputs": [],
   "source": [
    "concat_df.reset_index(drop=True, inplace=True)"
   ]
  },
  {
   "cell_type": "code",
   "execution_count": 18,
   "metadata": {},
   "outputs": [
    {
     "name": "stdout",
     "output_type": "stream",
     "text": [
      "(18712608, 34)\n"
     ]
    },
    {
     "data": {
      "text/html": [
       "<div>\n",
       "<style scoped>\n",
       "    .dataframe tbody tr th:only-of-type {\n",
       "        vertical-align: middle;\n",
       "    }\n",
       "\n",
       "    .dataframe tbody tr th {\n",
       "        vertical-align: top;\n",
       "    }\n",
       "\n",
       "    .dataframe thead th {\n",
       "        text-align: right;\n",
       "    }\n",
       "</style>\n",
       "<table border=\"1\" class=\"dataframe\">\n",
       "  <thead>\n",
       "    <tr style=\"text-align: right;\">\n",
       "      <th></th>\n",
       "      <th>관리_건축물대장_PK</th>\n",
       "      <th>대지_위치</th>\n",
       "      <th>도로명_대지_위치</th>\n",
       "      <th>건물_명</th>\n",
       "      <th>시군구_코드</th>\n",
       "      <th>법정동_코드</th>\n",
       "      <th>대지_구분_코드</th>\n",
       "      <th>번</th>\n",
       "      <th>지</th>\n",
       "      <th>특수지_명</th>\n",
       "      <th>블록</th>\n",
       "      <th>로트</th>\n",
       "      <th>새주소_도로_코드</th>\n",
       "      <th>새주소_법정동_코드</th>\n",
       "      <th>새주소_지상지하_코드</th>\n",
       "      <th>새주소_본_번</th>\n",
       "      <th>새주소_부_번</th>\n",
       "      <th>동_명</th>\n",
       "      <th>층_구분_코드</th>\n",
       "      <th>층_구분_코드_명</th>\n",
       "      <th>층_번호</th>\n",
       "      <th>층_번호_명</th>\n",
       "      <th>구조_코드</th>\n",
       "      <th>구조_코드_명</th>\n",
       "      <th>기타_구조</th>\n",
       "      <th>주_용도_코드</th>\n",
       "      <th>주_용도_코드_명</th>\n",
       "      <th>기타_용도</th>\n",
       "      <th>면적(㎡)</th>\n",
       "      <th>주_부속_구분_코드</th>\n",
       "      <th>주_부속_구분_코드_명</th>\n",
       "      <th>면적_제외_여부</th>\n",
       "      <th>생성_일자</th>\n",
       "      <th>기준년월</th>\n",
       "    </tr>\n",
       "  </thead>\n",
       "  <tbody>\n",
       "    <tr>\n",
       "      <th>0</th>\n",
       "      <td>11440-3279202</td>\n",
       "      <td>서울특별시 마포구 중동 81-29번지</td>\n",
       "      <td>NaN</td>\n",
       "      <td>중동빌라</td>\n",
       "      <td>11440</td>\n",
       "      <td>12600.0</td>\n",
       "      <td>0.0</td>\n",
       "      <td>81.0</td>\n",
       "      <td>29.0</td>\n",
       "      <td>NaN</td>\n",
       "      <td>NaN</td>\n",
       "      <td>NaN</td>\n",
       "      <td>1.144041e+11</td>\n",
       "      <td>12601.0</td>\n",
       "      <td>0.0</td>\n",
       "      <td>9.0</td>\n",
       "      <td>6.0</td>\n",
       "      <td>NaN</td>\n",
       "      <td>20.0</td>\n",
       "      <td>지상</td>\n",
       "      <td>1</td>\n",
       "      <td>1층</td>\n",
       "      <td>21.0</td>\n",
       "      <td>철근콘크리트구조</td>\n",
       "      <td>철근콘크리트구조</td>\n",
       "      <td>02003</td>\n",
       "      <td>다세대주택</td>\n",
       "      <td>다세대주택</td>\n",
       "      <td>57.62</td>\n",
       "      <td>0.0</td>\n",
       "      <td>주건축물</td>\n",
       "      <td>NaN</td>\n",
       "      <td>20141109</td>\n",
       "      <td>201412</td>\n",
       "    </tr>\n",
       "    <tr>\n",
       "      <th>1</th>\n",
       "      <td>11440-3279202</td>\n",
       "      <td>서울특별시 마포구 중동 81-29번지</td>\n",
       "      <td>NaN</td>\n",
       "      <td>중동빌라</td>\n",
       "      <td>11440</td>\n",
       "      <td>12600.0</td>\n",
       "      <td>0.0</td>\n",
       "      <td>81.0</td>\n",
       "      <td>29.0</td>\n",
       "      <td>NaN</td>\n",
       "      <td>NaN</td>\n",
       "      <td>NaN</td>\n",
       "      <td>1.144041e+11</td>\n",
       "      <td>12601.0</td>\n",
       "      <td>0.0</td>\n",
       "      <td>9.0</td>\n",
       "      <td>6.0</td>\n",
       "      <td>NaN</td>\n",
       "      <td>20.0</td>\n",
       "      <td>지상</td>\n",
       "      <td>2</td>\n",
       "      <td>2층</td>\n",
       "      <td>21.0</td>\n",
       "      <td>철근콘크리트구조</td>\n",
       "      <td>철근콘크리트구조</td>\n",
       "      <td>02003</td>\n",
       "      <td>다세대주택</td>\n",
       "      <td>다세대주택</td>\n",
       "      <td>67.20</td>\n",
       "      <td>0.0</td>\n",
       "      <td>주건축물</td>\n",
       "      <td>NaN</td>\n",
       "      <td>20141109</td>\n",
       "      <td>201412</td>\n",
       "    </tr>\n",
       "    <tr>\n",
       "      <th>2</th>\n",
       "      <td>11440-3279202</td>\n",
       "      <td>서울특별시 마포구 중동 81-29번지</td>\n",
       "      <td>NaN</td>\n",
       "      <td>중동빌라</td>\n",
       "      <td>11440</td>\n",
       "      <td>12600.0</td>\n",
       "      <td>0.0</td>\n",
       "      <td>81.0</td>\n",
       "      <td>29.0</td>\n",
       "      <td>NaN</td>\n",
       "      <td>NaN</td>\n",
       "      <td>NaN</td>\n",
       "      <td>1.144041e+11</td>\n",
       "      <td>12601.0</td>\n",
       "      <td>0.0</td>\n",
       "      <td>9.0</td>\n",
       "      <td>6.0</td>\n",
       "      <td>NaN</td>\n",
       "      <td>20.0</td>\n",
       "      <td>지상</td>\n",
       "      <td>3</td>\n",
       "      <td>3층</td>\n",
       "      <td>21.0</td>\n",
       "      <td>철근콘크리트구조</td>\n",
       "      <td>철근콘크리트구조</td>\n",
       "      <td>02003</td>\n",
       "      <td>다세대주택</td>\n",
       "      <td>다세대주택</td>\n",
       "      <td>67.20</td>\n",
       "      <td>0.0</td>\n",
       "      <td>주건축물</td>\n",
       "      <td>NaN</td>\n",
       "      <td>20141109</td>\n",
       "      <td>201412</td>\n",
       "    </tr>\n",
       "    <tr>\n",
       "      <th>3</th>\n",
       "      <td>11440-3279202</td>\n",
       "      <td>서울특별시 마포구 중동 81-29번지</td>\n",
       "      <td>NaN</td>\n",
       "      <td>중동빌라</td>\n",
       "      <td>11440</td>\n",
       "      <td>12600.0</td>\n",
       "      <td>0.0</td>\n",
       "      <td>81.0</td>\n",
       "      <td>29.0</td>\n",
       "      <td>NaN</td>\n",
       "      <td>NaN</td>\n",
       "      <td>NaN</td>\n",
       "      <td>1.144041e+11</td>\n",
       "      <td>12601.0</td>\n",
       "      <td>0.0</td>\n",
       "      <td>9.0</td>\n",
       "      <td>6.0</td>\n",
       "      <td>NaN</td>\n",
       "      <td>20.0</td>\n",
       "      <td>지상</td>\n",
       "      <td>4</td>\n",
       "      <td>4층</td>\n",
       "      <td>21.0</td>\n",
       "      <td>철근콘크리트구조</td>\n",
       "      <td>철근콘크리트구조</td>\n",
       "      <td>02003</td>\n",
       "      <td>다세대주택</td>\n",
       "      <td>다세대주택</td>\n",
       "      <td>59.68</td>\n",
       "      <td>0.0</td>\n",
       "      <td>주건축물</td>\n",
       "      <td>NaN</td>\n",
       "      <td>20141109</td>\n",
       "      <td>201412</td>\n",
       "    </tr>\n",
       "    <tr>\n",
       "      <th>4</th>\n",
       "      <td>11440-3279202</td>\n",
       "      <td>서울특별시 마포구 중동 81-29번지</td>\n",
       "      <td>NaN</td>\n",
       "      <td>중동빌라</td>\n",
       "      <td>11440</td>\n",
       "      <td>12600.0</td>\n",
       "      <td>0.0</td>\n",
       "      <td>81.0</td>\n",
       "      <td>29.0</td>\n",
       "      <td>NaN</td>\n",
       "      <td>NaN</td>\n",
       "      <td>NaN</td>\n",
       "      <td>1.144041e+11</td>\n",
       "      <td>12601.0</td>\n",
       "      <td>0.0</td>\n",
       "      <td>9.0</td>\n",
       "      <td>6.0</td>\n",
       "      <td>NaN</td>\n",
       "      <td>30.0</td>\n",
       "      <td>옥탑</td>\n",
       "      <td>1</td>\n",
       "      <td>옥탑 1층</td>\n",
       "      <td>21.0</td>\n",
       "      <td>철근콘크리트구조</td>\n",
       "      <td>철근콘크리트구조</td>\n",
       "      <td>02003</td>\n",
       "      <td>다세대주택</td>\n",
       "      <td>계단실(연면적제외)</td>\n",
       "      <td>7.68</td>\n",
       "      <td>0.0</td>\n",
       "      <td>주건축물</td>\n",
       "      <td>NaN</td>\n",
       "      <td>20141109</td>\n",
       "      <td>201412</td>\n",
       "    </tr>\n",
       "  </tbody>\n",
       "</table>\n",
       "</div>"
      ],
      "text/plain": [
       "     관리_건축물대장_PK                 대지_위치 도로명_대지_위치  건물_명  시군구_코드   법정동_코드  \\\n",
       "0  11440-3279202  서울특별시 마포구 중동 81-29번지       NaN  중동빌라   11440  12600.0   \n",
       "1  11440-3279202  서울특별시 마포구 중동 81-29번지       NaN  중동빌라   11440  12600.0   \n",
       "2  11440-3279202  서울특별시 마포구 중동 81-29번지       NaN  중동빌라   11440  12600.0   \n",
       "3  11440-3279202  서울특별시 마포구 중동 81-29번지       NaN  중동빌라   11440  12600.0   \n",
       "4  11440-3279202  서울특별시 마포구 중동 81-29번지       NaN  중동빌라   11440  12600.0   \n",
       "\n",
       "   대지_구분_코드     번     지 특수지_명   블록   로트     새주소_도로_코드  새주소_법정동_코드  \\\n",
       "0       0.0  81.0  29.0   NaN  NaN  NaN  1.144041e+11     12601.0   \n",
       "1       0.0  81.0  29.0   NaN  NaN  NaN  1.144041e+11     12601.0   \n",
       "2       0.0  81.0  29.0   NaN  NaN  NaN  1.144041e+11     12601.0   \n",
       "3       0.0  81.0  29.0   NaN  NaN  NaN  1.144041e+11     12601.0   \n",
       "4       0.0  81.0  29.0   NaN  NaN  NaN  1.144041e+11     12601.0   \n",
       "\n",
       "   새주소_지상지하_코드  새주소_본_번  새주소_부_번  동_명  층_구분_코드 층_구분_코드_명  층_번호 층_번호_명  구조_코드  \\\n",
       "0          0.0      9.0      6.0  NaN     20.0        지상     1     1층   21.0   \n",
       "1          0.0      9.0      6.0  NaN     20.0        지상     2     2층   21.0   \n",
       "2          0.0      9.0      6.0  NaN     20.0        지상     3     3층   21.0   \n",
       "3          0.0      9.0      6.0  NaN     20.0        지상     4     4층   21.0   \n",
       "4          0.0      9.0      6.0  NaN     30.0        옥탑     1  옥탑 1층   21.0   \n",
       "\n",
       "    구조_코드_명     기타_구조 주_용도_코드 주_용도_코드_명       기타_용도  면적(㎡)  주_부속_구분_코드  \\\n",
       "0  철근콘크리트구조  철근콘크리트구조   02003     다세대주택       다세대주택  57.62         0.0   \n",
       "1  철근콘크리트구조  철근콘크리트구조   02003     다세대주택       다세대주택  67.20         0.0   \n",
       "2  철근콘크리트구조  철근콘크리트구조   02003     다세대주택       다세대주택  67.20         0.0   \n",
       "3  철근콘크리트구조  철근콘크리트구조   02003     다세대주택       다세대주택  59.68         0.0   \n",
       "4  철근콘크리트구조  철근콘크리트구조   02003     다세대주택  계단실(연면적제외)   7.68         0.0   \n",
       "\n",
       "  주_부속_구분_코드_명  면적_제외_여부     생성_일자    기준년월  \n",
       "0         주건축물       NaN  20141109  201412  \n",
       "1         주건축물       NaN  20141109  201412  \n",
       "2         주건축물       NaN  20141109  201412  \n",
       "3         주건축물       NaN  20141109  201412  \n",
       "4         주건축물       NaN  20141109  201412  "
      ]
     },
     "execution_count": 18,
     "metadata": {},
     "output_type": "execute_result"
    }
   ],
   "source": [
    "print(concat_df.shape)\n",
    "concat_df.head()"
   ]
  },
  {
   "cell_type": "code",
   "execution_count": 19,
   "metadata": {},
   "outputs": [
    {
     "data": {
      "text/plain": [
       "(18712608, 24)"
      ]
     },
     "execution_count": 19,
     "metadata": {},
     "output_type": "execute_result"
    }
   ],
   "source": [
    "concat_df.drop(columns=[col for col in concat_df.columns if col.endswith('_코드')], inplace=True)\n",
    "concat_df.shape"
   ]
  },
  {
   "cell_type": "code",
   "execution_count": 20,
   "metadata": {},
   "outputs": [
    {
     "data": {
      "text/html": [
       "<div>\n",
       "<style scoped>\n",
       "    .dataframe tbody tr th:only-of-type {\n",
       "        vertical-align: middle;\n",
       "    }\n",
       "\n",
       "    .dataframe tbody tr th {\n",
       "        vertical-align: top;\n",
       "    }\n",
       "\n",
       "    .dataframe thead th {\n",
       "        text-align: right;\n",
       "    }\n",
       "</style>\n",
       "<table border=\"1\" class=\"dataframe\">\n",
       "  <thead>\n",
       "    <tr style=\"text-align: right;\">\n",
       "      <th></th>\n",
       "      <th>관리_건축물대장_PK</th>\n",
       "      <th>대지_위치</th>\n",
       "      <th>도로명_대지_위치</th>\n",
       "      <th>건물_명</th>\n",
       "      <th>번</th>\n",
       "      <th>지</th>\n",
       "      <th>특수지_명</th>\n",
       "      <th>블록</th>\n",
       "      <th>로트</th>\n",
       "      <th>새주소_본_번</th>\n",
       "      <th>새주소_부_번</th>\n",
       "      <th>동_명</th>\n",
       "      <th>층_구분</th>\n",
       "      <th>층_번호</th>\n",
       "      <th>층_번호_명</th>\n",
       "      <th>구조</th>\n",
       "      <th>기타_구조</th>\n",
       "      <th>주_용도</th>\n",
       "      <th>기타_용도</th>\n",
       "      <th>면적(㎡)</th>\n",
       "      <th>주_부속_구분</th>\n",
       "      <th>면적_제외_여부</th>\n",
       "      <th>생성_일자</th>\n",
       "      <th>기준년월</th>\n",
       "    </tr>\n",
       "  </thead>\n",
       "  <tbody>\n",
       "    <tr>\n",
       "      <th>0</th>\n",
       "      <td>11440-3279202</td>\n",
       "      <td>서울특별시 마포구 중동 81-29번지</td>\n",
       "      <td>NaN</td>\n",
       "      <td>중동빌라</td>\n",
       "      <td>81.0</td>\n",
       "      <td>29.0</td>\n",
       "      <td>NaN</td>\n",
       "      <td>NaN</td>\n",
       "      <td>NaN</td>\n",
       "      <td>9.0</td>\n",
       "      <td>6.0</td>\n",
       "      <td>NaN</td>\n",
       "      <td>지상</td>\n",
       "      <td>1</td>\n",
       "      <td>1층</td>\n",
       "      <td>철근콘크리트구조</td>\n",
       "      <td>철근콘크리트구조</td>\n",
       "      <td>다세대주택</td>\n",
       "      <td>다세대주택</td>\n",
       "      <td>57.62</td>\n",
       "      <td>주건축물</td>\n",
       "      <td>NaN</td>\n",
       "      <td>20141109</td>\n",
       "      <td>201412</td>\n",
       "    </tr>\n",
       "    <tr>\n",
       "      <th>1</th>\n",
       "      <td>11440-3279202</td>\n",
       "      <td>서울특별시 마포구 중동 81-29번지</td>\n",
       "      <td>NaN</td>\n",
       "      <td>중동빌라</td>\n",
       "      <td>81.0</td>\n",
       "      <td>29.0</td>\n",
       "      <td>NaN</td>\n",
       "      <td>NaN</td>\n",
       "      <td>NaN</td>\n",
       "      <td>9.0</td>\n",
       "      <td>6.0</td>\n",
       "      <td>NaN</td>\n",
       "      <td>지상</td>\n",
       "      <td>2</td>\n",
       "      <td>2층</td>\n",
       "      <td>철근콘크리트구조</td>\n",
       "      <td>철근콘크리트구조</td>\n",
       "      <td>다세대주택</td>\n",
       "      <td>다세대주택</td>\n",
       "      <td>67.20</td>\n",
       "      <td>주건축물</td>\n",
       "      <td>NaN</td>\n",
       "      <td>20141109</td>\n",
       "      <td>201412</td>\n",
       "    </tr>\n",
       "    <tr>\n",
       "      <th>2</th>\n",
       "      <td>11440-3279202</td>\n",
       "      <td>서울특별시 마포구 중동 81-29번지</td>\n",
       "      <td>NaN</td>\n",
       "      <td>중동빌라</td>\n",
       "      <td>81.0</td>\n",
       "      <td>29.0</td>\n",
       "      <td>NaN</td>\n",
       "      <td>NaN</td>\n",
       "      <td>NaN</td>\n",
       "      <td>9.0</td>\n",
       "      <td>6.0</td>\n",
       "      <td>NaN</td>\n",
       "      <td>지상</td>\n",
       "      <td>3</td>\n",
       "      <td>3층</td>\n",
       "      <td>철근콘크리트구조</td>\n",
       "      <td>철근콘크리트구조</td>\n",
       "      <td>다세대주택</td>\n",
       "      <td>다세대주택</td>\n",
       "      <td>67.20</td>\n",
       "      <td>주건축물</td>\n",
       "      <td>NaN</td>\n",
       "      <td>20141109</td>\n",
       "      <td>201412</td>\n",
       "    </tr>\n",
       "    <tr>\n",
       "      <th>3</th>\n",
       "      <td>11440-3279202</td>\n",
       "      <td>서울특별시 마포구 중동 81-29번지</td>\n",
       "      <td>NaN</td>\n",
       "      <td>중동빌라</td>\n",
       "      <td>81.0</td>\n",
       "      <td>29.0</td>\n",
       "      <td>NaN</td>\n",
       "      <td>NaN</td>\n",
       "      <td>NaN</td>\n",
       "      <td>9.0</td>\n",
       "      <td>6.0</td>\n",
       "      <td>NaN</td>\n",
       "      <td>지상</td>\n",
       "      <td>4</td>\n",
       "      <td>4층</td>\n",
       "      <td>철근콘크리트구조</td>\n",
       "      <td>철근콘크리트구조</td>\n",
       "      <td>다세대주택</td>\n",
       "      <td>다세대주택</td>\n",
       "      <td>59.68</td>\n",
       "      <td>주건축물</td>\n",
       "      <td>NaN</td>\n",
       "      <td>20141109</td>\n",
       "      <td>201412</td>\n",
       "    </tr>\n",
       "    <tr>\n",
       "      <th>4</th>\n",
       "      <td>11440-3279202</td>\n",
       "      <td>서울특별시 마포구 중동 81-29번지</td>\n",
       "      <td>NaN</td>\n",
       "      <td>중동빌라</td>\n",
       "      <td>81.0</td>\n",
       "      <td>29.0</td>\n",
       "      <td>NaN</td>\n",
       "      <td>NaN</td>\n",
       "      <td>NaN</td>\n",
       "      <td>9.0</td>\n",
       "      <td>6.0</td>\n",
       "      <td>NaN</td>\n",
       "      <td>옥탑</td>\n",
       "      <td>1</td>\n",
       "      <td>옥탑 1층</td>\n",
       "      <td>철근콘크리트구조</td>\n",
       "      <td>철근콘크리트구조</td>\n",
       "      <td>다세대주택</td>\n",
       "      <td>계단실(연면적제외)</td>\n",
       "      <td>7.68</td>\n",
       "      <td>주건축물</td>\n",
       "      <td>NaN</td>\n",
       "      <td>20141109</td>\n",
       "      <td>201412</td>\n",
       "    </tr>\n",
       "  </tbody>\n",
       "</table>\n",
       "</div>"
      ],
      "text/plain": [
       "     관리_건축물대장_PK                 대지_위치 도로명_대지_위치  건물_명     번     지 특수지_명   블록  \\\n",
       "0  11440-3279202  서울특별시 마포구 중동 81-29번지       NaN  중동빌라  81.0  29.0   NaN  NaN   \n",
       "1  11440-3279202  서울특별시 마포구 중동 81-29번지       NaN  중동빌라  81.0  29.0   NaN  NaN   \n",
       "2  11440-3279202  서울특별시 마포구 중동 81-29번지       NaN  중동빌라  81.0  29.0   NaN  NaN   \n",
       "3  11440-3279202  서울특별시 마포구 중동 81-29번지       NaN  중동빌라  81.0  29.0   NaN  NaN   \n",
       "4  11440-3279202  서울특별시 마포구 중동 81-29번지       NaN  중동빌라  81.0  29.0   NaN  NaN   \n",
       "\n",
       "    로트  새주소_본_번  새주소_부_번  동_명 층_구분  층_번호 층_번호_명        구조     기타_구조   주_용도  \\\n",
       "0  NaN      9.0      6.0  NaN   지상     1     1층  철근콘크리트구조  철근콘크리트구조  다세대주택   \n",
       "1  NaN      9.0      6.0  NaN   지상     2     2층  철근콘크리트구조  철근콘크리트구조  다세대주택   \n",
       "2  NaN      9.0      6.0  NaN   지상     3     3층  철근콘크리트구조  철근콘크리트구조  다세대주택   \n",
       "3  NaN      9.0      6.0  NaN   지상     4     4층  철근콘크리트구조  철근콘크리트구조  다세대주택   \n",
       "4  NaN      9.0      6.0  NaN   옥탑     1  옥탑 1층  철근콘크리트구조  철근콘크리트구조  다세대주택   \n",
       "\n",
       "        기타_용도  면적(㎡) 주_부속_구분  면적_제외_여부     생성_일자    기준년월  \n",
       "0       다세대주택  57.62    주건축물       NaN  20141109  201412  \n",
       "1       다세대주택  67.20    주건축물       NaN  20141109  201412  \n",
       "2       다세대주택  67.20    주건축물       NaN  20141109  201412  \n",
       "3       다세대주택  59.68    주건축물       NaN  20141109  201412  \n",
       "4  계단실(연면적제외)   7.68    주건축물       NaN  20141109  201412  "
      ]
     },
     "execution_count": 20,
     "metadata": {},
     "output_type": "execute_result"
    }
   ],
   "source": [
    "concat_df.columns = [col.replace('_코드_명', '') for col in concat_df.columns]\n",
    "concat_df.head()"
   ]
  },
  {
   "cell_type": "code",
   "execution_count": 21,
   "metadata": {},
   "outputs": [],
   "source": [
    "def correct_addr(x):\n",
    "    # x is a string\n",
    "    if (pd.isna(x) == True)|(x == '없음'):\n",
    "        return x\n",
    "    else:\n",
    "        x = x.replace('번지', '')\n",
    "        if x[0] == ' ':\n",
    "            for i in range(len(x)):\n",
    "                if x[i] != ' ':\n",
    "                    x = x[i:]\n",
    "                    break\n",
    "        \n",
    "        splitted = x.split('-')\n",
    "        if len(splitted) == 1:\n",
    "            return x+'-0'\n",
    "        else:\n",
    "            return x"
   ]
  },
  {
   "cell_type": "code",
   "execution_count": 22,
   "metadata": {},
   "outputs": [],
   "source": [
    "concat_df['지번주소'] = concat_df['대지_위치'].apply(correct_addr)"
   ]
  },
  {
   "cell_type": "code",
   "execution_count": 24,
   "metadata": {},
   "outputs": [],
   "source": [
    "# 생각해보니 건축물에 관한 정보, 특히 사용승인일짜 같은 정보가 없으므로, 기존에 있는 living_area_per_building.csv를 쓰는 게 낫겠음."
   ]
  },
  {
   "cell_type": "code",
   "execution_count": null,
   "metadata": {},
   "outputs": [],
   "source": []
  }
 ],
 "metadata": {
  "kernelspec": {
   "display_name": "Python 3",
   "language": "python",
   "name": "python3"
  },
  "language_info": {
   "codemirror_mode": {
    "name": "ipython",
    "version": 3
   },
   "file_extension": ".py",
   "mimetype": "text/x-python",
   "name": "python",
   "nbconvert_exporter": "python",
   "pygments_lexer": "ipython3",
   "version": "3.7.9"
  }
 },
 "nbformat": 4,
 "nbformat_minor": 4
}
