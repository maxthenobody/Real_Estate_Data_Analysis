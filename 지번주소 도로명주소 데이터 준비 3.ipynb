{
 "cells": [
  {
   "cell_type": "code",
   "execution_count": 1,
   "metadata": {},
   "outputs": [],
   "source": [
    "import pandas as pd\n",
    "import numpy as np\n",
    "import os\n",
    "from tqdm import tqdm\n",
    "pd.set_option('display.max_rows', 500)\n",
    "pd.set_option('display.max_columns', 500)"
   ]
  },
  {
   "cell_type": "code",
   "execution_count": 2,
   "metadata": {},
   "outputs": [
    {
     "name": "stdout",
     "output_type": "stream",
     "text": [
      "(572321, 2)\n"
     ]
    },
    {
     "data": {
      "text/html": [
       "<div>\n",
       "<style scoped>\n",
       "    .dataframe tbody tr th:only-of-type {\n",
       "        vertical-align: middle;\n",
       "    }\n",
       "\n",
       "    .dataframe tbody tr th {\n",
       "        vertical-align: top;\n",
       "    }\n",
       "\n",
       "    .dataframe thead th {\n",
       "        text-align: right;\n",
       "    }\n",
       "</style>\n",
       "<table border=\"1\" class=\"dataframe\">\n",
       "  <thead>\n",
       "    <tr style=\"text-align: right;\">\n",
       "      <th></th>\n",
       "      <th>지번주소</th>\n",
       "      <th>도로명주소</th>\n",
       "    </tr>\n",
       "  </thead>\n",
       "  <tbody>\n",
       "    <tr>\n",
       "      <th>0</th>\n",
       "      <td>서울특별시 종로구 청운동 144-3</td>\n",
       "      <td>서울특별시 종로구 자하문로 94-0</td>\n",
       "    </tr>\n",
       "    <tr>\n",
       "      <th>1</th>\n",
       "      <td>서울특별시 종로구 청운동 108-14</td>\n",
       "      <td>서울특별시 종로구 자하문로 96-0</td>\n",
       "    </tr>\n",
       "    <tr>\n",
       "      <th>2</th>\n",
       "      <td>서울특별시 종로구 청운동 108-13</td>\n",
       "      <td>서울특별시 종로구 자하문로 98-0</td>\n",
       "    </tr>\n",
       "    <tr>\n",
       "      <th>3</th>\n",
       "      <td>서울특별시 종로구 청운동 134-2</td>\n",
       "      <td>서울특별시 종로구 자하문로 99-3</td>\n",
       "    </tr>\n",
       "    <tr>\n",
       "      <th>4</th>\n",
       "      <td>서울특별시 종로구 청운동 130-2</td>\n",
       "      <td>서울특별시 종로구 자하문로 99-4</td>\n",
       "    </tr>\n",
       "  </tbody>\n",
       "</table>\n",
       "</div>"
      ],
      "text/plain": [
       "                   지번주소                도로명주소\n",
       "0   서울특별시 종로구 청운동 144-3  서울특별시 종로구 자하문로 94-0\n",
       "1  서울특별시 종로구 청운동 108-14  서울특별시 종로구 자하문로 96-0\n",
       "2  서울특별시 종로구 청운동 108-13  서울특별시 종로구 자하문로 98-0\n",
       "3   서울특별시 종로구 청운동 134-2  서울특별시 종로구 자하문로 99-3\n",
       "4   서울특별시 종로구 청운동 130-2  서울특별시 종로구 자하문로 99-4"
      ]
     },
     "execution_count": 2,
     "metadata": {},
     "output_type": "execute_result"
    }
   ],
   "source": [
    "addr1_df = pd.read_csv('./prepped_data/addr_data_ver_1.csv')\n",
    "print(addr1_df.shape)\n",
    "addr1_df.head()"
   ]
  },
  {
   "cell_type": "code",
   "execution_count": 3,
   "metadata": {},
   "outputs": [
    {
     "name": "stdout",
     "output_type": "stream",
     "text": [
      "(33720, 2)\n"
     ]
    },
    {
     "data": {
      "text/html": [
       "<div>\n",
       "<style scoped>\n",
       "    .dataframe tbody tr th:only-of-type {\n",
       "        vertical-align: middle;\n",
       "    }\n",
       "\n",
       "    .dataframe tbody tr th {\n",
       "        vertical-align: top;\n",
       "    }\n",
       "\n",
       "    .dataframe thead th {\n",
       "        text-align: right;\n",
       "    }\n",
       "</style>\n",
       "<table border=\"1\" class=\"dataframe\">\n",
       "  <thead>\n",
       "    <tr style=\"text-align: right;\">\n",
       "      <th></th>\n",
       "      <th>지번주소</th>\n",
       "      <th>도로명주소</th>\n",
       "    </tr>\n",
       "  </thead>\n",
       "  <tbody>\n",
       "    <tr>\n",
       "      <th>0</th>\n",
       "      <td>서울특별시 강남구 청담동 129-16</td>\n",
       "      <td>서울특별시 강남구 압구정로79길 72</td>\n",
       "    </tr>\n",
       "    <tr>\n",
       "      <th>1</th>\n",
       "      <td>서울특별시 강서구 공항동 49-1</td>\n",
       "      <td>서울특별시 강서구 공항대로 18-1</td>\n",
       "    </tr>\n",
       "    <tr>\n",
       "      <th>2</th>\n",
       "      <td>서울특별시 노원구 상계동 341-15</td>\n",
       "      <td>서울특별시 노원구 상계로 90</td>\n",
       "    </tr>\n",
       "    <tr>\n",
       "      <th>3</th>\n",
       "      <td>서울특별시 동대문구 용두동 236-4</td>\n",
       "      <td>서울특별시 동대문구 왕산로 52</td>\n",
       "    </tr>\n",
       "    <tr>\n",
       "      <th>4</th>\n",
       "      <td>서울특별시 영등포구 당산동2가 15-2</td>\n",
       "      <td>서울특별시 영등포구 영등포로 112</td>\n",
       "    </tr>\n",
       "  </tbody>\n",
       "</table>\n",
       "</div>"
      ],
      "text/plain": [
       "                    지번주소                 도로명주소\n",
       "0   서울특별시 강남구 청담동 129-16  서울특별시 강남구 압구정로79길 72\n",
       "1     서울특별시 강서구 공항동 49-1   서울특별시 강서구 공항대로 18-1\n",
       "2   서울특별시 노원구 상계동 341-15      서울특별시 노원구 상계로 90\n",
       "3   서울특별시 동대문구 용두동 236-4     서울특별시 동대문구 왕산로 52\n",
       "4  서울특별시 영등포구 당산동2가 15-2   서울특별시 영등포구 영등포로 112"
      ]
     },
     "execution_count": 3,
     "metadata": {},
     "output_type": "execute_result"
    }
   ],
   "source": [
    "addr2_df = pd.read_csv('./prepped_data/additional_addr_1.csv')\n",
    "print(addr2_df.shape)\n",
    "addr2_df.head()"
   ]
  },
  {
   "cell_type": "code",
   "execution_count": 5,
   "metadata": {},
   "outputs": [
    {
     "name": "stdout",
     "output_type": "stream",
     "text": [
      "(606041, 2)\n"
     ]
    },
    {
     "data": {
      "text/html": [
       "<div>\n",
       "<style scoped>\n",
       "    .dataframe tbody tr th:only-of-type {\n",
       "        vertical-align: middle;\n",
       "    }\n",
       "\n",
       "    .dataframe tbody tr th {\n",
       "        vertical-align: top;\n",
       "    }\n",
       "\n",
       "    .dataframe thead th {\n",
       "        text-align: right;\n",
       "    }\n",
       "</style>\n",
       "<table border=\"1\" class=\"dataframe\">\n",
       "  <thead>\n",
       "    <tr style=\"text-align: right;\">\n",
       "      <th></th>\n",
       "      <th>지번주소</th>\n",
       "      <th>도로명주소</th>\n",
       "    </tr>\n",
       "  </thead>\n",
       "  <tbody>\n",
       "    <tr>\n",
       "      <th>0</th>\n",
       "      <td>서울특별시 종로구 청운동 144-3</td>\n",
       "      <td>서울특별시 종로구 자하문로 94-0</td>\n",
       "    </tr>\n",
       "    <tr>\n",
       "      <th>1</th>\n",
       "      <td>서울특별시 종로구 청운동 108-14</td>\n",
       "      <td>서울특별시 종로구 자하문로 96-0</td>\n",
       "    </tr>\n",
       "    <tr>\n",
       "      <th>2</th>\n",
       "      <td>서울특별시 종로구 청운동 108-13</td>\n",
       "      <td>서울특별시 종로구 자하문로 98-0</td>\n",
       "    </tr>\n",
       "    <tr>\n",
       "      <th>3</th>\n",
       "      <td>서울특별시 종로구 청운동 134-2</td>\n",
       "      <td>서울특별시 종로구 자하문로 99-3</td>\n",
       "    </tr>\n",
       "    <tr>\n",
       "      <th>4</th>\n",
       "      <td>서울특별시 종로구 청운동 130-2</td>\n",
       "      <td>서울특별시 종로구 자하문로 99-4</td>\n",
       "    </tr>\n",
       "  </tbody>\n",
       "</table>\n",
       "</div>"
      ],
      "text/plain": [
       "                   지번주소                도로명주소\n",
       "0   서울특별시 종로구 청운동 144-3  서울특별시 종로구 자하문로 94-0\n",
       "1  서울특별시 종로구 청운동 108-14  서울특별시 종로구 자하문로 96-0\n",
       "2  서울특별시 종로구 청운동 108-13  서울특별시 종로구 자하문로 98-0\n",
       "3   서울특별시 종로구 청운동 134-2  서울특별시 종로구 자하문로 99-3\n",
       "4   서울특별시 종로구 청운동 130-2  서울특별시 종로구 자하문로 99-4"
      ]
     },
     "execution_count": 5,
     "metadata": {},
     "output_type": "execute_result"
    }
   ],
   "source": [
    "concat_df = pd.concat([addr1_df, addr2_df]).drop_duplicates(subset=['지번주소']).reset_index(drop=True)\n",
    "print(concat_df.shape)\n",
    "concat_df.head()"
   ]
  },
  {
   "cell_type": "code",
   "execution_count": 7,
   "metadata": {},
   "outputs": [],
   "source": [
    "concat_df.to_csv('./prepped_data/addr_data_ver_2.csv', index=False)"
   ]
  },
  {
   "cell_type": "code",
   "execution_count": null,
   "metadata": {},
   "outputs": [],
   "source": []
  }
 ],
 "metadata": {
  "kernelspec": {
   "display_name": "Python 3",
   "language": "python",
   "name": "python3"
  },
  "language_info": {
   "codemirror_mode": {
    "name": "ipython",
    "version": 3
   },
   "file_extension": ".py",
   "mimetype": "text/x-python",
   "name": "python",
   "nbconvert_exporter": "python",
   "pygments_lexer": "ipython3",
   "version": "3.7.9"
  }
 },
 "nbformat": 4,
 "nbformat_minor": 4
}
