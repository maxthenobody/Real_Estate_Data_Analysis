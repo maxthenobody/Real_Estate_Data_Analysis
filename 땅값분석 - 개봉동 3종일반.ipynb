{
 "cells": [
  {
   "cell_type": "code",
   "execution_count": 1,
   "metadata": {},
   "outputs": [],
   "source": [
    "import pandas as pd\n",
    "import os\n",
    "pd.set_option('display.max_rows', 500)\n",
    "pd.set_option('display.max_columns', 500)\n",
    "import tqdm\n",
    "import matplotlib.pyplot as plt\n",
    "import seaborn as sns\n",
    "import matplotlib\n",
    "matplotlib.rcParams['axes.unicode_minus'] = False\n",
    "pd.options.mode.chained_assignment = None  # default='warn'\n",
    "plt.rcParams['font.family'] = 'Malgun Gothic'\n",
    "font = {'size': 16}\n",
    "matplotlib.rc('font', **font)"
   ]
  },
  {
   "cell_type": "code",
   "execution_count": 2,
   "metadata": {},
   "outputs": [],
   "source": [
    "basedir = './국토교통부_실거래가_공개시스템/땅값분석/'\n",
    "yunrip_df = pd.read_csv(basedir + 'yunrip_30.csv')\n",
    "commerce_df = pd.read_csv(basedir + 'commerce_30.csv')\n",
    "land_df = pd.read_csv(basedir + 'land.csv')"
   ]
  },
  {
   "cell_type": "code",
   "execution_count": 3,
   "metadata": {},
   "outputs": [
    {
     "name": "stdout",
     "output_type": "stream",
     "text": [
      "(168873, 11)\n"
     ]
    },
    {
     "data": {
      "text/html": [
       "<div>\n",
       "<style scoped>\n",
       "    .dataframe tbody tr th:only-of-type {\n",
       "        vertical-align: middle;\n",
       "    }\n",
       "\n",
       "    .dataframe tbody tr th {\n",
       "        vertical-align: top;\n",
       "    }\n",
       "\n",
       "    .dataframe thead th {\n",
       "        text-align: right;\n",
       "    }\n",
       "</style>\n",
       "<table border=\"1\" class=\"dataframe\">\n",
       "  <thead>\n",
       "    <tr style=\"text-align: right;\">\n",
       "      <th></th>\n",
       "      <th>시군구</th>\n",
       "      <th>번지</th>\n",
       "      <th>용도지역</th>\n",
       "      <th>도로조건</th>\n",
       "      <th>계약날짜</th>\n",
       "      <th>대지면적(㎡)</th>\n",
       "      <th>거래금액(만원)</th>\n",
       "      <th>단가(㎡)</th>\n",
       "      <th>단가(평)</th>\n",
       "      <th>거래유형</th>\n",
       "      <th>건물연식</th>\n",
       "    </tr>\n",
       "  </thead>\n",
       "  <tbody>\n",
       "    <tr>\n",
       "      <th>0</th>\n",
       "      <td>서울특별시 강남구 개포동</td>\n",
       "      <td>171-13</td>\n",
       "      <td>제2종일반주거지역</td>\n",
       "      <td>8m미만</td>\n",
       "      <td>2019-10-23</td>\n",
       "      <td>56.1</td>\n",
       "      <td>60000.0</td>\n",
       "      <td>1069.518717</td>\n",
       "      <td>3535.598930</td>\n",
       "      <td>연립/다세대</td>\n",
       "      <td>31.0</td>\n",
       "    </tr>\n",
       "    <tr>\n",
       "      <th>1</th>\n",
       "      <td>서울특별시 강남구 개포동</td>\n",
       "      <td>1239-7</td>\n",
       "      <td>제2종일반주거지역</td>\n",
       "      <td>8m미만</td>\n",
       "      <td>2018-06-14</td>\n",
       "      <td>45.0</td>\n",
       "      <td>52000.0</td>\n",
       "      <td>1155.555556</td>\n",
       "      <td>3820.018222</td>\n",
       "      <td>연립/다세대</td>\n",
       "      <td>30.0</td>\n",
       "    </tr>\n",
       "    <tr>\n",
       "      <th>2</th>\n",
       "      <td>서울특별시 강남구 개포동</td>\n",
       "      <td>1239-7</td>\n",
       "      <td>제2종일반주거지역</td>\n",
       "      <td>8m미만</td>\n",
       "      <td>2019-03-05</td>\n",
       "      <td>45.0</td>\n",
       "      <td>50000.0</td>\n",
       "      <td>1111.111111</td>\n",
       "      <td>3673.094444</td>\n",
       "      <td>연립/다세대</td>\n",
       "      <td>31.0</td>\n",
       "    </tr>\n",
       "    <tr>\n",
       "      <th>3</th>\n",
       "      <td>서울특별시 강남구 개포동</td>\n",
       "      <td>1239-7</td>\n",
       "      <td>제2종일반주거지역</td>\n",
       "      <td>8m미만</td>\n",
       "      <td>2020-06-01</td>\n",
       "      <td>45.0</td>\n",
       "      <td>58000.0</td>\n",
       "      <td>1288.888889</td>\n",
       "      <td>4260.789556</td>\n",
       "      <td>연립/다세대</td>\n",
       "      <td>32.0</td>\n",
       "    </tr>\n",
       "    <tr>\n",
       "      <th>4</th>\n",
       "      <td>서울특별시 강남구 개포동</td>\n",
       "      <td>1239-7</td>\n",
       "      <td>제2종일반주거지역</td>\n",
       "      <td>8m미만</td>\n",
       "      <td>2020-06-13</td>\n",
       "      <td>45.0</td>\n",
       "      <td>57000.0</td>\n",
       "      <td>1266.666667</td>\n",
       "      <td>4187.327667</td>\n",
       "      <td>연립/다세대</td>\n",
       "      <td>32.0</td>\n",
       "    </tr>\n",
       "  </tbody>\n",
       "</table>\n",
       "</div>"
      ],
      "text/plain": [
       "             시군구      번지       용도지역  도로조건       계약날짜  대지면적(㎡)  거래금액(만원)  \\\n",
       "0  서울특별시 강남구 개포동  171-13  제2종일반주거지역  8m미만 2019-10-23     56.1   60000.0   \n",
       "1  서울특별시 강남구 개포동  1239-7  제2종일반주거지역  8m미만 2018-06-14     45.0   52000.0   \n",
       "2  서울특별시 강남구 개포동  1239-7  제2종일반주거지역  8m미만 2019-03-05     45.0   50000.0   \n",
       "3  서울특별시 강남구 개포동  1239-7  제2종일반주거지역  8m미만 2020-06-01     45.0   58000.0   \n",
       "4  서울특별시 강남구 개포동  1239-7  제2종일반주거지역  8m미만 2020-06-13     45.0   57000.0   \n",
       "\n",
       "         단가(㎡)        단가(평)    거래유형  건물연식  \n",
       "0  1069.518717  3535.598930  연립/다세대  31.0  \n",
       "1  1155.555556  3820.018222  연립/다세대  30.0  \n",
       "2  1111.111111  3673.094444  연립/다세대  31.0  \n",
       "3  1288.888889  4260.789556  연립/다세대  32.0  \n",
       "4  1266.666667  4187.327667  연립/다세대  32.0  "
      ]
     },
     "execution_count": 3,
     "metadata": {},
     "output_type": "execute_result"
    }
   ],
   "source": [
    "common_cols = ['시군구', '번지', '용도지역', '도로조건', '계약날짜', '대지면적(㎡)', '거래금액(만원)', '단가(㎡)', '단가(평)', '거래유형', '건물연식']\n",
    "common_df = pd.concat([yunrip_df[common_cols], commerce_df[common_cols], land_df[[col for col in land_df.columns if col not in ['지목', '지분구분', '해제사유발생일']]]])\n",
    "common_df['계약날짜'] = pd.to_datetime(common_df['계약날짜'], format='%Y-%m-%d')\n",
    "print(common_df.shape)\n",
    "common_df.head()"
   ]
  },
  {
   "cell_type": "code",
   "execution_count": 4,
   "metadata": {},
   "outputs": [
    {
     "data": {
      "text/plain": [
       "['단독다가구(매매)_실거래가_20130101_20131231.csv',\n",
       " '단독다가구(매매)_실거래가_20140101_20141231.csv',\n",
       " '단독다가구(매매)_실거래가_20150101_20151231.csv',\n",
       " '단독다가구(매매)_실거래가_20160101_20161231.csv',\n",
       " '단독다가구(매매)_실거래가_20170101_20171231.csv',\n",
       " '단독다가구(매매)_실거래가_20180101_20181231.csv',\n",
       " '단독다가구(매매)_실거래가_20190101_20191231.csv',\n",
       " '단독다가구(매매)_실거래가_20200101_20201231.csv',\n",
       " '단독다가구(매매)_실거래가_20210101_20210406.csv']"
      ]
     },
     "execution_count": 4,
     "metadata": {},
     "output_type": "execute_result"
    }
   ],
   "source": [
    "dandok_filenames = [f for f in os.listdir('./국토교통부_실거래가_공개시스템/단독다가구매매/') if (f.endswith('.csv'))&('(매매)' in f)]\n",
    "dandok_filenames"
   ]
  },
  {
   "cell_type": "code",
   "execution_count": 5,
   "metadata": {},
   "outputs": [],
   "source": [
    "dfs_list = []\n",
    "for f in dandok_filenames:\n",
    "    df = pd.read_csv('./국토교통부_실거래가_공개시스템/단독다가구매매/' + f, encoding='euc-kr', header=15)\n",
    "    if '해제사유발생일' in df.columns:\n",
    "        df = df.drop(columns=['해제사유발생일'])\n",
    "    dfs_list.append(df)"
   ]
  },
  {
   "cell_type": "code",
   "execution_count": 6,
   "metadata": {},
   "outputs": [
    {
     "name": "stdout",
     "output_type": "stream",
     "text": [
      "(109267, 11)\n"
     ]
    },
    {
     "data": {
      "text/html": [
       "<div>\n",
       "<style scoped>\n",
       "    .dataframe tbody tr th:only-of-type {\n",
       "        vertical-align: middle;\n",
       "    }\n",
       "\n",
       "    .dataframe tbody tr th {\n",
       "        vertical-align: top;\n",
       "    }\n",
       "\n",
       "    .dataframe thead th {\n",
       "        text-align: right;\n",
       "    }\n",
       "</style>\n",
       "<table border=\"1\" class=\"dataframe\">\n",
       "  <thead>\n",
       "    <tr style=\"text-align: right;\">\n",
       "      <th></th>\n",
       "      <th>시군구</th>\n",
       "      <th>번지</th>\n",
       "      <th>주택유형</th>\n",
       "      <th>도로조건</th>\n",
       "      <th>연면적(㎡)</th>\n",
       "      <th>대지면적(㎡)</th>\n",
       "      <th>계약년월</th>\n",
       "      <th>계약일</th>\n",
       "      <th>거래금액(만원)</th>\n",
       "      <th>건축년도</th>\n",
       "      <th>도로명</th>\n",
       "    </tr>\n",
       "  </thead>\n",
       "  <tbody>\n",
       "    <tr>\n",
       "      <th>0</th>\n",
       "      <td>서울특별시 강남구 논현동</td>\n",
       "      <td>8*</td>\n",
       "      <td>다가구</td>\n",
       "      <td>8m미만</td>\n",
       "      <td>329.78</td>\n",
       "      <td>165.4</td>\n",
       "      <td>201305</td>\n",
       "      <td>24</td>\n",
       "      <td>177,500</td>\n",
       "      <td>1993.0</td>\n",
       "      <td>논현로138길</td>\n",
       "    </tr>\n",
       "    <tr>\n",
       "      <th>1</th>\n",
       "      <td>서울특별시 강남구 논현동</td>\n",
       "      <td>1**</td>\n",
       "      <td>다가구</td>\n",
       "      <td>8m미만</td>\n",
       "      <td>335.90</td>\n",
       "      <td>171.4</td>\n",
       "      <td>201312</td>\n",
       "      <td>18</td>\n",
       "      <td>173,500</td>\n",
       "      <td>1990.0</td>\n",
       "      <td>학동로12길</td>\n",
       "    </tr>\n",
       "    <tr>\n",
       "      <th>2</th>\n",
       "      <td>서울특별시 강남구 논현동</td>\n",
       "      <td>7*</td>\n",
       "      <td>다가구</td>\n",
       "      <td>8m미만</td>\n",
       "      <td>435.32</td>\n",
       "      <td>177.2</td>\n",
       "      <td>201304</td>\n",
       "      <td>23</td>\n",
       "      <td>138,000</td>\n",
       "      <td>1992.0</td>\n",
       "      <td>논현로146길</td>\n",
       "    </tr>\n",
       "    <tr>\n",
       "      <th>3</th>\n",
       "      <td>서울특별시 강남구 논현동</td>\n",
       "      <td>1**</td>\n",
       "      <td>다가구</td>\n",
       "      <td>8m미만</td>\n",
       "      <td>347.10</td>\n",
       "      <td>181.9</td>\n",
       "      <td>201308</td>\n",
       "      <td>28</td>\n",
       "      <td>169,000</td>\n",
       "      <td>1991.0</td>\n",
       "      <td>선릉로135길</td>\n",
       "    </tr>\n",
       "    <tr>\n",
       "      <th>4</th>\n",
       "      <td>서울특별시 강남구 논현동</td>\n",
       "      <td>2**</td>\n",
       "      <td>다가구</td>\n",
       "      <td>8m미만</td>\n",
       "      <td>401.33</td>\n",
       "      <td>193.8</td>\n",
       "      <td>201305</td>\n",
       "      <td>21</td>\n",
       "      <td>179,000</td>\n",
       "      <td>1997.0</td>\n",
       "      <td>논현로124길</td>\n",
       "    </tr>\n",
       "  </tbody>\n",
       "</table>\n",
       "</div>"
      ],
      "text/plain": [
       "             시군구   번지 주택유형  도로조건  연면적(㎡)  대지면적(㎡)    계약년월  계약일 거래금액(만원)  \\\n",
       "0  서울특별시 강남구 논현동   8*  다가구  8m미만  329.78    165.4  201305   24  177,500   \n",
       "1  서울특별시 강남구 논현동  1**  다가구  8m미만  335.90    171.4  201312   18  173,500   \n",
       "2  서울특별시 강남구 논현동   7*  다가구  8m미만  435.32    177.2  201304   23  138,000   \n",
       "3  서울특별시 강남구 논현동  1**  다가구  8m미만  347.10    181.9  201308   28  169,000   \n",
       "4  서울특별시 강남구 논현동  2**  다가구  8m미만  401.33    193.8  201305   21  179,000   \n",
       "\n",
       "     건축년도      도로명  \n",
       "0  1993.0  논현로138길  \n",
       "1  1990.0   학동로12길  \n",
       "2  1992.0  논현로146길  \n",
       "3  1991.0  선릉로135길  \n",
       "4  1997.0  논현로124길  "
      ]
     },
     "execution_count": 6,
     "metadata": {},
     "output_type": "execute_result"
    }
   ],
   "source": [
    "dandok_df = pd.concat(dfs_list).reset_index(drop=True)\n",
    "print(dandok_df.shape)\n",
    "dandok_df.head()"
   ]
  },
  {
   "cell_type": "code",
   "execution_count": 7,
   "metadata": {},
   "outputs": [],
   "source": [
    "dandok_df['구'] = dandok_df['시군구'].apply(lambda x: x.split(' ')[1])\n",
    "dandok_df['동'] = dandok_df['시군구'].apply(lambda x: x.split(' ')[2])\n",
    "dandok_df['거래금액(만원)'] = dandok_df['거래금액(만원)'].apply(lambda x: int(x.replace(',','')))\n",
    "dandok_df['대지면적(㎡)'] = dandok_df['대지면적(㎡)'].apply(float)\n",
    "dandok_df['단가(평)'] = dandok_df['거래금액(만원)'] / dandok_df['대지면적(㎡)'] * 3.305785"
   ]
  },
  {
   "cell_type": "code",
   "execution_count": 8,
   "metadata": {},
   "outputs": [],
   "source": [
    "def day_modifier(x):\n",
    "    # x is a number\n",
    "    \n",
    "    if pd.isna(x) == True:\n",
    "        return x\n",
    "    else:\n",
    "        x = str(x)\n",
    "        if len(x) == 1:\n",
    "            return '0' + x\n",
    "        else:\n",
    "            return x"
   ]
  },
  {
   "cell_type": "code",
   "execution_count": 9,
   "metadata": {},
   "outputs": [],
   "source": [
    "dandok_df['계약날짜'] = dandok_df['계약년월'].apply(lambda x: str(x)[:4]) + '-' +\\\n",
    "dandok_df['계약년월'].apply(lambda x: str(x)[-2:]) + '-' + dandok_df['계약일'].apply(day_modifier)"
   ]
  },
  {
   "cell_type": "code",
   "execution_count": 10,
   "metadata": {},
   "outputs": [],
   "source": [
    "dandok_df['계약날짜'] = pd.to_datetime(dandok_df['계약날짜'])"
   ]
  },
  {
   "cell_type": "code",
   "execution_count": 11,
   "metadata": {},
   "outputs": [],
   "source": [
    "dandok_df.drop(columns=['계약년월', '계약일'], inplace=True)"
   ]
  },
  {
   "cell_type": "code",
   "execution_count": 12,
   "metadata": {},
   "outputs": [],
   "source": [
    "target = '개봉동'\n",
    "target_purpose = '3종일반'\n",
    "계약일자시점 = 2018"
   ]
  },
  {
   "cell_type": "code",
   "execution_count": 13,
   "metadata": {},
   "outputs": [
    {
     "name": "stdout",
     "output_type": "stream",
     "text": [
      "(67, 11)\n"
     ]
    },
    {
     "data": {
      "text/html": [
       "<div>\n",
       "<style scoped>\n",
       "    .dataframe tbody tr th:only-of-type {\n",
       "        vertical-align: middle;\n",
       "    }\n",
       "\n",
       "    .dataframe tbody tr th {\n",
       "        vertical-align: top;\n",
       "    }\n",
       "\n",
       "    .dataframe thead th {\n",
       "        text-align: right;\n",
       "    }\n",
       "</style>\n",
       "<table border=\"1\" class=\"dataframe\">\n",
       "  <thead>\n",
       "    <tr style=\"text-align: right;\">\n",
       "      <th></th>\n",
       "      <th>시군구</th>\n",
       "      <th>번지</th>\n",
       "      <th>용도지역</th>\n",
       "      <th>도로조건</th>\n",
       "      <th>계약날짜</th>\n",
       "      <th>대지면적(㎡)</th>\n",
       "      <th>거래금액(만원)</th>\n",
       "      <th>단가(㎡)</th>\n",
       "      <th>단가(평)</th>\n",
       "      <th>거래유형</th>\n",
       "      <th>건물연식</th>\n",
       "    </tr>\n",
       "  </thead>\n",
       "  <tbody>\n",
       "    <tr>\n",
       "      <th>9562</th>\n",
       "      <td>서울특별시 구로구 개봉동</td>\n",
       "      <td>4**</td>\n",
       "      <td>제3종일반주거</td>\n",
       "      <td>25m이상</td>\n",
       "      <td>2020-05-25</td>\n",
       "      <td>744.80</td>\n",
       "      <td>950000.0</td>\n",
       "      <td>1275.510204</td>\n",
       "      <td>4216.562500</td>\n",
       "      <td>상업/업무</td>\n",
       "      <td>37.0</td>\n",
       "    </tr>\n",
       "    <tr>\n",
       "      <th>9561</th>\n",
       "      <td>서울특별시 구로구 개봉동</td>\n",
       "      <td>9*</td>\n",
       "      <td>제3종일반주거</td>\n",
       "      <td>25m미만</td>\n",
       "      <td>2020-04-15</td>\n",
       "      <td>160.00</td>\n",
       "      <td>195000.0</td>\n",
       "      <td>1218.750000</td>\n",
       "      <td>4028.925469</td>\n",
       "      <td>상업/업무</td>\n",
       "      <td>36.0</td>\n",
       "    </tr>\n",
       "    <tr>\n",
       "      <th>9563</th>\n",
       "      <td>서울특별시 구로구 개봉동</td>\n",
       "      <td>1**</td>\n",
       "      <td>제3종일반주거</td>\n",
       "      <td>25m미만</td>\n",
       "      <td>2020-05-27</td>\n",
       "      <td>79.43</td>\n",
       "      <td>90000.0</td>\n",
       "      <td>1133.073146</td>\n",
       "      <td>3745.696210</td>\n",
       "      <td>상업/업무</td>\n",
       "      <td>32.0</td>\n",
       "    </tr>\n",
       "    <tr>\n",
       "      <th>9569</th>\n",
       "      <td>서울특별시 구로구 개봉동</td>\n",
       "      <td>4**</td>\n",
       "      <td>제3종일반주거</td>\n",
       "      <td>25m이상</td>\n",
       "      <td>2020-11-06</td>\n",
       "      <td>33.36</td>\n",
       "      <td>36000.0</td>\n",
       "      <td>1079.136691</td>\n",
       "      <td>3567.393885</td>\n",
       "      <td>상업/업무</td>\n",
       "      <td>44.0</td>\n",
       "    </tr>\n",
       "    <tr>\n",
       "      <th>6950</th>\n",
       "      <td>서울특별시 구로구 개봉동</td>\n",
       "      <td>170-37</td>\n",
       "      <td>제3종일반주거지역</td>\n",
       "      <td>8m미만</td>\n",
       "      <td>2020-08-25</td>\n",
       "      <td>32.80</td>\n",
       "      <td>34500.0</td>\n",
       "      <td>1051.829268</td>\n",
       "      <td>3477.121418</td>\n",
       "      <td>연립/다세대</td>\n",
       "      <td>42.0</td>\n",
       "    </tr>\n",
       "  </tbody>\n",
       "</table>\n",
       "</div>"
      ],
      "text/plain": [
       "                시군구      번지       용도지역   도로조건       계약날짜  대지면적(㎡)  거래금액(만원)  \\\n",
       "9562  서울특별시 구로구 개봉동     4**    제3종일반주거  25m이상 2020-05-25   744.80  950000.0   \n",
       "9561  서울특별시 구로구 개봉동      9*    제3종일반주거  25m미만 2020-04-15   160.00  195000.0   \n",
       "9563  서울특별시 구로구 개봉동     1**    제3종일반주거  25m미만 2020-05-27    79.43   90000.0   \n",
       "9569  서울특별시 구로구 개봉동     4**    제3종일반주거  25m이상 2020-11-06    33.36   36000.0   \n",
       "6950  서울특별시 구로구 개봉동  170-37  제3종일반주거지역   8m미만 2020-08-25    32.80   34500.0   \n",
       "\n",
       "            단가(㎡)        단가(평)    거래유형  건물연식  \n",
       "9562  1275.510204  4216.562500   상업/업무  37.0  \n",
       "9561  1218.750000  4028.925469   상업/업무  36.0  \n",
       "9563  1133.073146  3745.696210   상업/업무  32.0  \n",
       "9569  1079.136691  3567.393885   상업/업무  44.0  \n",
       "6950  1051.829268  3477.121418  연립/다세대  42.0  "
      ]
     },
     "execution_count": 13,
     "metadata": {},
     "output_type": "execute_result"
    }
   ],
   "source": [
    "target_df = common_df[(common_df['시군구'].str.contains(target))&(common_df['용도지역'].str.contains(target_purpose))&(common_df['계약날짜'].dt.year >= 계약일자시점)].sort_values(['단가(평)'], ascending=False)\n",
    "print(target_df.shape)\n",
    "target_df.head()"
   ]
  },
  {
   "cell_type": "code",
   "execution_count": 14,
   "metadata": {},
   "outputs": [
    {
     "name": "stdout",
     "output_type": "stream",
     "text": [
      "(342, 13)\n"
     ]
    },
    {
     "data": {
      "text/html": [
       "<div>\n",
       "<style scoped>\n",
       "    .dataframe tbody tr th:only-of-type {\n",
       "        vertical-align: middle;\n",
       "    }\n",
       "\n",
       "    .dataframe tbody tr th {\n",
       "        vertical-align: top;\n",
       "    }\n",
       "\n",
       "    .dataframe thead th {\n",
       "        text-align: right;\n",
       "    }\n",
       "</style>\n",
       "<table border=\"1\" class=\"dataframe\">\n",
       "  <thead>\n",
       "    <tr style=\"text-align: right;\">\n",
       "      <th></th>\n",
       "      <th>시군구</th>\n",
       "      <th>번지</th>\n",
       "      <th>주택유형</th>\n",
       "      <th>도로조건</th>\n",
       "      <th>연면적(㎡)</th>\n",
       "      <th>대지면적(㎡)</th>\n",
       "      <th>거래금액(만원)</th>\n",
       "      <th>건축년도</th>\n",
       "      <th>도로명</th>\n",
       "      <th>구</th>\n",
       "      <th>동</th>\n",
       "      <th>단가(평)</th>\n",
       "      <th>계약날짜</th>\n",
       "    </tr>\n",
       "  </thead>\n",
       "  <tbody>\n",
       "    <tr>\n",
       "      <th>74153</th>\n",
       "      <td>서울특별시 구로구 개봉동</td>\n",
       "      <td>1**</td>\n",
       "      <td>다가구</td>\n",
       "      <td>8m미만</td>\n",
       "      <td>142.32</td>\n",
       "      <td>72.0</td>\n",
       "      <td>31700</td>\n",
       "      <td>2006.0</td>\n",
       "      <td>경인로33나길</td>\n",
       "      <td>구로구</td>\n",
       "      <td>개봉동</td>\n",
       "      <td>1455.463674</td>\n",
       "      <td>2018-12-03</td>\n",
       "    </tr>\n",
       "    <tr>\n",
       "      <th>74154</th>\n",
       "      <td>서울특별시 구로구 개봉동</td>\n",
       "      <td>3*</td>\n",
       "      <td>다가구</td>\n",
       "      <td>12m미만</td>\n",
       "      <td>145.26</td>\n",
       "      <td>89.0</td>\n",
       "      <td>38500</td>\n",
       "      <td>1991.0</td>\n",
       "      <td>고척로19길</td>\n",
       "      <td>구로구</td>\n",
       "      <td>개봉동</td>\n",
       "      <td>1430.030590</td>\n",
       "      <td>2018-11-22</td>\n",
       "    </tr>\n",
       "    <tr>\n",
       "      <th>74155</th>\n",
       "      <td>서울특별시 구로구 개봉동</td>\n",
       "      <td>3**</td>\n",
       "      <td>다가구</td>\n",
       "      <td>8m미만</td>\n",
       "      <td>147.96</td>\n",
       "      <td>98.0</td>\n",
       "      <td>45000</td>\n",
       "      <td>1993.0</td>\n",
       "      <td>개봉로1다길</td>\n",
       "      <td>구로구</td>\n",
       "      <td>개봉동</td>\n",
       "      <td>1517.962500</td>\n",
       "      <td>2018-12-06</td>\n",
       "    </tr>\n",
       "    <tr>\n",
       "      <th>74156</th>\n",
       "      <td>서울특별시 구로구 개봉동</td>\n",
       "      <td>6*</td>\n",
       "      <td>다가구</td>\n",
       "      <td>8m미만</td>\n",
       "      <td>118.35</td>\n",
       "      <td>99.0</td>\n",
       "      <td>34000</td>\n",
       "      <td>1994.0</td>\n",
       "      <td>고척로18길</td>\n",
       "      <td>구로구</td>\n",
       "      <td>개봉동</td>\n",
       "      <td>1135.320101</td>\n",
       "      <td>2018-10-08</td>\n",
       "    </tr>\n",
       "    <tr>\n",
       "      <th>74157</th>\n",
       "      <td>서울특별시 구로구 개봉동</td>\n",
       "      <td>2**</td>\n",
       "      <td>다가구</td>\n",
       "      <td>8m미만</td>\n",
       "      <td>139.24</td>\n",
       "      <td>112.4</td>\n",
       "      <td>60000</td>\n",
       "      <td>1973.0</td>\n",
       "      <td>개봉로6길</td>\n",
       "      <td>구로구</td>\n",
       "      <td>개봉동</td>\n",
       "      <td>1764.653915</td>\n",
       "      <td>2018-10-09</td>\n",
       "    </tr>\n",
       "  </tbody>\n",
       "</table>\n",
       "</div>"
      ],
      "text/plain": [
       "                 시군구   번지 주택유형   도로조건  연면적(㎡)  대지면적(㎡)  거래금액(만원)    건축년도  \\\n",
       "74153  서울특별시 구로구 개봉동  1**  다가구   8m미만  142.32     72.0     31700  2006.0   \n",
       "74154  서울특별시 구로구 개봉동   3*  다가구  12m미만  145.26     89.0     38500  1991.0   \n",
       "74155  서울특별시 구로구 개봉동  3**  다가구   8m미만  147.96     98.0     45000  1993.0   \n",
       "74156  서울특별시 구로구 개봉동   6*  다가구   8m미만  118.35     99.0     34000  1994.0   \n",
       "74157  서울특별시 구로구 개봉동  2**  다가구   8m미만  139.24    112.4     60000  1973.0   \n",
       "\n",
       "           도로명    구    동        단가(평)       계약날짜  \n",
       "74153  경인로33나길  구로구  개봉동  1455.463674 2018-12-03  \n",
       "74154   고척로19길  구로구  개봉동  1430.030590 2018-11-22  \n",
       "74155   개봉로1다길  구로구  개봉동  1517.962500 2018-12-06  \n",
       "74156   고척로18길  구로구  개봉동  1135.320101 2018-10-08  \n",
       "74157    개봉로6길  구로구  개봉동  1764.653915 2018-10-09  "
      ]
     },
     "execution_count": 14,
     "metadata": {},
     "output_type": "execute_result"
    }
   ],
   "source": [
    "dandok_target_df = dandok_df[(dandok_df['시군구'].str.contains(target))&(dandok_df['계약날짜'].dt.year >= 계약일자시점)]\n",
    "print(dandok_target_df.shape)\n",
    "dandok_target_df.head()"
   ]
  },
  {
   "cell_type": "code",
   "execution_count": 15,
   "metadata": {},
   "outputs": [
    {
     "data": {
      "text/plain": [
       "<AxesSubplot:>"
      ]
     },
     "execution_count": 15,
     "metadata": {},
     "output_type": "execute_result"
    },
    {
     "data": {
      "image/png": "[encoded data removed]",
      "text/plain": [
       "<Figure size 432x288 with 1 Axes>"
      ]
     },
     "metadata": {
      "needs_background": "light"
     },
     "output_type": "display_data"
    }
   ],
   "source": [
    "dandok_target_df['단가(평)'].hist(bins=100)"
   ]
  },
  {
   "cell_type": "code",
   "execution_count": 16,
   "metadata": {},
   "outputs": [
    {
     "data": {
      "text/plain": [
       "2253.5749304572387"
      ]
     },
     "execution_count": 16,
     "metadata": {},
     "output_type": "execute_result"
    }
   ],
   "source": [
    "dandok_target_df['단가(평)'].quantile(0.95)"
   ]
  },
  {
   "cell_type": "code",
   "execution_count": 17,
   "metadata": {},
   "outputs": [
    {
     "data": {
      "text/plain": [
       "3314.592436415074"
      ]
     },
     "execution_count": 17,
     "metadata": {},
     "output_type": "execute_result"
    }
   ],
   "source": [
    "target_df['단가(평)'].quantile(0.90)"
   ]
  },
  {
   "cell_type": "code",
   "execution_count": 18,
   "metadata": {},
   "outputs": [
    {
     "data": {
      "text/plain": [
       "(67, 11)"
      ]
     },
     "execution_count": 18,
     "metadata": {},
     "output_type": "execute_result"
    }
   ],
   "source": [
    "#target_df = target_df[target_df['단가(평)'] <= target_df['단가(평)'].quantile(0.9)]\n",
    "target_df.shape"
   ]
  },
  {
   "cell_type": "code",
   "execution_count": 19,
   "metadata": {},
   "outputs": [
    {
     "data": {
      "image/png": "[encoded data removed]",
      "text/plain": [
       "<Figure size 1440x720 with 1 Axes>"
      ]
     },
     "metadata": {
      "needs_background": "light"
     },
     "output_type": "display_data"
    }
   ],
   "source": [
    "font = {'size': 16}\n",
    "matplotlib.rc('font', **font)\n",
    "f, ax = plt.subplots(figsize=(20,10))\n",
    "plt.title('{}~최신 {} {} 토지, 연립/다세대, 상업/업무용 30년이상 건물 실거래 {}건과 (파랑) 및 단독주택 실거래 {}건의 (주홍) 단가 산포도와 회귀선'.format(계약일자시점, target, target_purpose, target_df.shape[0], dandok_target_df.shape[0]))\n",
    "plt.grid(True)\n",
    "ax.xaxis.update_units(target_df['계약날짜'])\n",
    "sns.regplot(x=ax.xaxis.convert_units(target_df['계약날짜']), y=target_df['단가(평)'])\n",
    "ax.xaxis.update_units(dandok_target_df['계약날짜'])\n",
    "sns.regplot(x=ax.xaxis.convert_units(dandok_target_df['계약날짜']), y=dandok_target_df['단가(평)'])\n",
    "plt.savefig(basedir + '{}{}/산포도.png'.format(target, target_purpose))"
   ]
  },
  {
   "cell_type": "code",
   "execution_count": null,
   "metadata": {},
   "outputs": [],
   "source": [
    "font = {'size': 10}\n",
    "matplotlib.rc('font', **font)\n",
    "f, ax = plt.subplots(figsize=(10,6))\n",
    "plt.title('{}~최신 {} {} 토지, 연립/다세대 및 상업/업무용 30년이상 건물 실거래 {}건의 단가 분포도'.format(계약일자시점, target, target_purpose, target_df.shape[0]))\n",
    "sns.histplot(target_df['단가(평)'])\n",
    "plt.savefig(basedir + '{}{}/분포도.png'.format(target, target_purpose))\n",
    "plt.show()\n",
    "plt.clf()\n",
    "\n",
    "description = target_df['단가(평)'].describe()\n",
    "print('거래량:', description['count'])\n",
    "print('평균:', description['mean'])\n",
    "print('표준편차:', description['std'])\n",
    "print('최소:', description['min'])\n",
    "print('25분위:', description['25%'])\n",
    "print('중간값:', description['50%'])\n",
    "print('75분위:', description['75%'])\n",
    "print('최대:', description['max'])\n"
   ]
  },
  {
   "cell_type": "code",
   "execution_count": null,
   "metadata": {
    "scrolled": false
   },
   "outputs": [],
   "source": [
    "for year in sorted(target_df['계약날짜'].dt.year.unique()):\n",
    "    year_df = target_df[target_df['계약날짜'].dt.year == year]\n",
    "    \n",
    "    f, ax = plt.subplots(figsize=(10,6))\n",
    "    plt.title('{}년 {} {}주거지역 토지 및 연립/다세대, 상업/업무용 30년이상 건물 실거래 {}건의 단가 분포도'.format(year, target, target_purpose, year_df.shape[0]))\n",
    "    plt.ylabel('거래량')\n",
    "    sns.histplot(year_df['단가(평)'])\n",
    "    plt.savefig(basedir + '{}{}/{}분포도.png'.format(target, target_purpose, year))\n",
    "    plt.show()\n",
    "    plt.clf()\n",
    "    \n",
    "    description = year_df['단가(평)'].describe()\n",
    "    print('거래량:', description['count'])\n",
    "    print('평균:', description['mean'])\n",
    "    print('표준편차:', description['std'])\n",
    "    print('최소:', description['min'])\n",
    "    print('25분위:', description['25%'])\n",
    "    print('중간값:', description['50%'])\n",
    "    print('75분위:', description['75%'])\n",
    "    print('최대:', description['max'])"
   ]
  },
  {
   "cell_type": "code",
   "execution_count": null,
   "metadata": {},
   "outputs": [],
   "source": [
    "target_df = target_df.sort_values(['단가(평)'], ascending=False).reset_index(drop=True)"
   ]
  },
  {
   "cell_type": "code",
   "execution_count": null,
   "metadata": {},
   "outputs": [],
   "source": [
    "target_df.head(20)"
   ]
  },
  {
   "cell_type": "code",
   "execution_count": null,
   "metadata": {},
   "outputs": [],
   "source": [
    "target_df.tail(20)"
   ]
  },
  {
   "cell_type": "code",
   "execution_count": null,
   "metadata": {},
   "outputs": [],
   "source": [
    "target_df.to_excel('./국토교통부_실거래가_공개시스템/땅값분석/{}{}/{}_{}_땅값분석.xlsx'.format(target, target_purpose, target, target_purpose), index=False)"
   ]
  },
  {
   "cell_type": "code",
   "execution_count": null,
   "metadata": {},
   "outputs": [],
   "source": []
  }
 ],
 "metadata": {
  "kernelspec": {
   "display_name": "Python 3",
   "language": "python",
   "name": "python3"
  },
  "language_info": {
   "codemirror_mode": {
    "name": "ipython",
    "version": 3
   },
   "file_extension": ".py",
   "mimetype": "text/x-python",
   "name": "python",
   "nbconvert_exporter": "python",
   "pygments_lexer": "ipython3",
   "version": "3.7.9"
  }
 },
 "nbformat": 4,
 "nbformat_minor": 4
}
