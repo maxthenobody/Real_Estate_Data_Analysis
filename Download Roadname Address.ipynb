{
 "cells": [
  {
   "cell_type": "code",
   "execution_count": 1,
   "metadata": {},
   "outputs": [],
   "source": [
    "import numpy as np\n",
    "import pandas as pd\n",
    "import matplotlib.pyplot as plt\n",
    "import os\n",
    "import math\n",
    "from tqdm import tqdm\n",
    "import requests\n",
    "from urllib.parse import urlparse\n",
    "pd.set_option('display.max_rows', 500)\n",
    "pd.set_option('display.max_columns', 500)\n",
    "import datetime\n",
    "from sklearn.preprocessing import quantile_transform\n",
    "pd.options.mode.chained_assignment = None  # default='warn'"
   ]
  },
  {
   "cell_type": "code",
   "execution_count": 2,
   "metadata": {},
   "outputs": [],
   "source": [
    "main_data_df = pd.read_csv('./prepped_data/main_data_baseline_checkpoint_1.csv')"
   ]
  },
  {
   "cell_type": "code",
   "execution_count": 31,
   "metadata": {},
   "outputs": [
    {
     "data": {
      "text/plain": [
       "(4553162, 17)"
      ]
     },
     "execution_count": 31,
     "metadata": {},
     "output_type": "execute_result"
    }
   ],
   "source": [
    "main_data_df = main_data_df[main_data_df['대장구분명'] == '일반']\n",
    "main_data_df.shape"
   ]
  },
  {
   "cell_type": "code",
   "execution_count": 32,
   "metadata": {},
   "outputs": [
    {
     "data": {
      "text/plain": [
       "지번주소         0\n",
       "도로명주소    46330\n",
       "dtype: int64"
      ]
     },
     "execution_count": 32,
     "metadata": {},
     "output_type": "execute_result"
    }
   ],
   "source": [
    "nan_df = main_data_df[main_data_df['도로명주소'].isna()]\n",
    "nan_df[['지번주소', '도로명주소']].isna().sum()"
   ]
  },
  {
   "cell_type": "code",
   "execution_count": 33,
   "metadata": {},
   "outputs": [
    {
     "data": {
      "text/plain": [
       "1644"
      ]
     },
     "execution_count": 33,
     "metadata": {},
     "output_type": "execute_result"
    }
   ],
   "source": [
    "addr_to_download = nan_df['지번주소'].unique().tolist()\n",
    "len(addr_to_download)"
   ]
  },
  {
   "cell_type": "code",
   "execution_count": 36,
   "metadata": {},
   "outputs": [],
   "source": [
    "# download coordinates from an open api\n",
    "\n",
    "def fetch_coor_data(addr_list):\n",
    "    roadname_url = 'https://www.juso.go.kr/addrlink/addrLinkApi.do?'\n",
    "    roadname_apikey = 'devU01TX0FVVEgyMDIxMDEyNDExMDM0MDExMDczNjE='\n",
    "    #apikey 만료시 https://www.juso.go.kr/addrlink/devAddrLinkRequestWrite.do?returnFn=write&cntcMenu=URL 가서 새로 받을 것.\n",
    "    \n",
    "    addr_df = pd.DataFrame({'지번주소':[], '도로명주소': []})\n",
    "    for i, address in tqdm(enumerate(addr_list)):\n",
    "        address_no_zero = address.replace('-0','')\n",
    "        \n",
    "        roadname_result = requests.get(roadname_url + 'confmKey=' + roadname_apikey + '&currentPage=1' + '&countPerPage=1' + '&keyword=' \\\n",
    "                                       + address_no_zero + '&resultType=json' + '&hstryYn=Y')\n",
    "        roadname_info = roadname_result.json()['results']['juso']\n",
    "        \n",
    "        if roadname_info == []:\n",
    "            splitted = address_no_zero.split('-')\n",
    "            space_splitted = address_no_zero.split(' ')\n",
    "            \n",
    "            if len(splitted) == 1:\n",
    "                bonbun = int(space_splitted[3])\n",
    "                bonbun_positive = bonbun\n",
    "                bonbun_negative = bonbun\n",
    "                \n",
    "                while roadname_info == []:\n",
    "                \n",
    "                    bonbun_positive += 1\n",
    "                    bonbun_negative -= 1\n",
    "                    \n",
    "                    addr = space_splitted[0] + ' ' + space_splitted[1] + ' ' + space_splitted[2] + ' ' + str(bonbun_positive)\n",
    "                    \n",
    "                    roadname_result = requests.get(roadname_url + 'confmKey=' + roadname_apikey + '&currentPage=1' + '&countPerPage=1' + '&keyword=' \\\n",
    "                                               + addr + '&resultType=json' + '&hstryYn=Y')\n",
    "                    roadname_info = roadname_result.json()['results']['juso']\n",
    "                    \n",
    "                    if roadname_info == []:\n",
    "                        \n",
    "                        addr = space_splitted[0] + ' ' + space_splitted[1] + ' ' + space_splitted[2] + ' ' + str(bonbun_negative)\n",
    "                        \n",
    "                        roadname_result = requests.get(roadname_url + 'confmKey=' + roadname_apikey + '&currentPage=1' + '&countPerPage=1' + '&keyword=' \\\n",
    "                                                   + addr + '&resultType=json' + '&hstryYn=Y')\n",
    "                        roadname_info = roadname_result.json()['results']['juso']\n",
    "                \n",
    "                \n",
    "            else:\n",
    "                bubun = int(splitted[1])\n",
    "                bubun_positive = bubun\n",
    "                bubun_negative = bubun\n",
    "                \n",
    "                count = 0\n",
    "                while roadname_info == []:\n",
    "                    \n",
    "                    bubun_positive += 1\n",
    "                    bubun_negative -= 1\n",
    "                    \n",
    "                    addr = splitted[0] + '-' + str(bubun_positive)\n",
    "                    \n",
    "                    roadname_result = requests.get(roadname_url + 'confmKey=' + roadname_apikey + '&currentPage=1' + '&countPerPage=1' + '&keyword=' \\\n",
    "                                               + addr + '&resultType=json' + '&hstryYn=Y')\n",
    "                    roadname_info = roadname_result.json()['results']['juso']\n",
    "                    \n",
    "                    if roadname_info == []:\n",
    "                        \n",
    "                        addr = splitted[0] + '-' + str(bubun_negative)\n",
    "                        \n",
    "                        roadname_result = requests.get(roadname_url + 'confmKey=' + roadname_apikey + '&currentPage=1' + '&countPerPage=1' + '&keyword=' \\\n",
    "                                                   + addr + '&resultType=json' + '&hstryYn=Y')\n",
    "                        roadname_info = roadname_result.json()['results']['juso']\n",
    "                    \n",
    "                    count += 1\n",
    "                    \n",
    "                    if count > 10:\n",
    "                        \n",
    "                        addr = splitted[0]\n",
    "                        \n",
    "                        space_splitted = addr.split(' ')\n",
    "                        \n",
    "                        bonbun = int(space_splitted[3])\n",
    "                        bonbun_positive = bonbun\n",
    "                        bonbun_negative = bonbun\n",
    "                        \n",
    "                        while roadname_info == []:\n",
    "\n",
    "                            bonbun_positive += 1\n",
    "                            bonbun_negative -= 1\n",
    "\n",
    "                            addr = space_splitted[0] + ' ' + space_splitted[1] + ' ' + space_splitted[2] + ' ' + str(bonbun_positive)\n",
    "                            \n",
    "                            roadname_result = requests.get(roadname_url + 'confmKey=' + roadname_apikey + '&currentPage=1' + '&countPerPage=1' + '&keyword=' \\\n",
    "                                                       + addr + '&resultType=json' + '&hstryYn=Y')\n",
    "                            roadname_info = roadname_result.json()['results']['juso']\n",
    "\n",
    "                            if roadname_info == []:\n",
    "\n",
    "                                addr = space_splitted[0] + ' ' + space_splitted[1] + ' ' + space_splitted[2] + ' ' + str(bonbun_negative)\n",
    "                                \n",
    "                                roadname_result = requests.get(roadname_url + 'confmKey=' + roadname_apikey + '&currentPage=1' + '&countPerPage=1' + '&keyword=' \\\n",
    "                                                           + addr + '&resultType=json' + '&hstryYn=Y')\n",
    "                                roadname_info = roadname_result.json()['results']['juso']\n",
    "                                \n",
    "                    \n",
    "        \n",
    "        \n",
    "        roadname_addr = roadname_info[0]['roadAddrPart1']\n",
    "        \n",
    "        addr_df.loc[i,'지번주소'] = address\n",
    "        addr_df.loc[i,'도로명주소'] = roadname_addr\n",
    "    \n",
    "    \n",
    "    return addr_df"
   ]
  },
  {
   "cell_type": "code",
   "execution_count": 37,
   "metadata": {},
   "outputs": [
    {
     "name": "stderr",
     "output_type": "stream",
     "text": [
      "1644it [20:48,  1.32it/s]\n"
     ]
    }
   ],
   "source": [
    "roadname_addr_df = fetch_coor_data(addr_to_download)"
   ]
  },
  {
   "cell_type": "code",
   "execution_count": 38,
   "metadata": {},
   "outputs": [
    {
     "data": {
      "text/plain": [
       "(1644, 2)"
      ]
     },
     "execution_count": 38,
     "metadata": {},
     "output_type": "execute_result"
    }
   ],
   "source": [
    "roadname_addr_df.shape"
   ]
  },
  {
   "cell_type": "code",
   "execution_count": 39,
   "metadata": {},
   "outputs": [
    {
     "data": {
      "text/html": [
       "<div>\n",
       "<style scoped>\n",
       "    .dataframe tbody tr th:only-of-type {\n",
       "        vertical-align: middle;\n",
       "    }\n",
       "\n",
       "    .dataframe tbody tr th {\n",
       "        vertical-align: top;\n",
       "    }\n",
       "\n",
       "    .dataframe thead th {\n",
       "        text-align: right;\n",
       "    }\n",
       "</style>\n",
       "<table border=\"1\" class=\"dataframe\">\n",
       "  <thead>\n",
       "    <tr style=\"text-align: right;\">\n",
       "      <th></th>\n",
       "      <th>지번주소</th>\n",
       "      <th>도로명주소</th>\n",
       "    </tr>\n",
       "  </thead>\n",
       "  <tbody>\n",
       "    <tr>\n",
       "      <th>0</th>\n",
       "      <td>서울특별시 강남구 논현동 276-0</td>\n",
       "      <td>서울특별시 강남구 언주로 604</td>\n",
       "    </tr>\n",
       "    <tr>\n",
       "      <th>1</th>\n",
       "      <td>서울특별시 강남구 대치동 633-0</td>\n",
       "      <td>서울특별시 강남구 삼성로51길 42</td>\n",
       "    </tr>\n",
       "    <tr>\n",
       "      <th>2</th>\n",
       "      <td>서울특별시 강남구 대치동 610-0</td>\n",
       "      <td>서울특별시 강남구 삼성로51길 35</td>\n",
       "    </tr>\n",
       "    <tr>\n",
       "      <th>3</th>\n",
       "      <td>서울특별시 강남구 도곡동 538-0</td>\n",
       "      <td>서울특별시 강남구 도곡로 320</td>\n",
       "    </tr>\n",
       "    <tr>\n",
       "      <th>4</th>\n",
       "      <td>서울특별시 강남구 신사동 506-7</td>\n",
       "      <td>서울특별시 강남구 압구정로2길 18-3</td>\n",
       "    </tr>\n",
       "  </tbody>\n",
       "</table>\n",
       "</div>"
      ],
      "text/plain": [
       "                  지번주소                  도로명주소\n",
       "0  서울특별시 강남구 논현동 276-0      서울특별시 강남구 언주로 604\n",
       "1  서울특별시 강남구 대치동 633-0    서울특별시 강남구 삼성로51길 42\n",
       "2  서울특별시 강남구 대치동 610-0    서울특별시 강남구 삼성로51길 35\n",
       "3  서울특별시 강남구 도곡동 538-0      서울특별시 강남구 도곡로 320\n",
       "4  서울특별시 강남구 신사동 506-7  서울특별시 강남구 압구정로2길 18-3"
      ]
     },
     "execution_count": 39,
     "metadata": {},
     "output_type": "execute_result"
    }
   ],
   "source": [
    "roadname_addr_df.head()"
   ]
  },
  {
   "cell_type": "code",
   "execution_count": 42,
   "metadata": {},
   "outputs": [
    {
     "name": "stderr",
     "output_type": "stream",
     "text": [
      "100%|██████████████████████████████████████████████████████████████████████████████| 1644/1644 [05:44<00:00,  4.77it/s]\n"
     ]
    }
   ],
   "source": [
    "for i in tqdm(range(roadname_addr_df.shape[0])):\n",
    "    addr_df = main_data_df[main_data_df['지번주소'] == roadname_addr_df.loc[i,'지번주소']]\n",
    "    addr_df['도로명주소'] = roadname_addr_df.loc[i,'도로명주소']\n",
    "    main_data_df.loc[addr_df.index,'도로명주소'] = addr_df['도로명주소']"
   ]
  },
  {
   "cell_type": "code",
   "execution_count": 43,
   "metadata": {},
   "outputs": [
    {
     "data": {
      "text/plain": [
       "0"
      ]
     },
     "execution_count": 43,
     "metadata": {},
     "output_type": "execute_result"
    }
   ],
   "source": [
    "main_data_df['도로명주소'].isna().sum()"
   ]
  },
  {
   "cell_type": "code",
   "execution_count": 44,
   "metadata": {},
   "outputs": [],
   "source": [
    "main_data_df.to_csv('./prepped_data/main_data_baseline_checkpoint_1.csv')"
   ]
  }
 ],
 "metadata": {
  "kernelspec": {
   "display_name": "Python 3",
   "language": "python",
   "name": "python3"
  },
  "language_info": {
   "codemirror_mode": {
    "name": "ipython",
    "version": 3
   },
   "file_extension": ".py",
   "mimetype": "text/x-python",
   "name": "python",
   "nbconvert_exporter": "python",
   "pygments_lexer": "ipython3",
   "version": "3.7.9"
  }
 },
 "nbformat": 4,
 "nbformat_minor": 4
}
