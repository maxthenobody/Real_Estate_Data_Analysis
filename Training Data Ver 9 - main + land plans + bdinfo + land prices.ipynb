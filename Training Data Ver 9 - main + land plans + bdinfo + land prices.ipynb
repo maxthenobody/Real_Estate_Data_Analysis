{
 "cells": [
  {
   "cell_type": "code",
   "execution_count": 1,
   "metadata": {},
   "outputs": [],
   "source": [
    "import multiprocess as mp\n",
    "import numpy as np\n",
    "import pandas as pd\n",
    "import matplotlib.pyplot as plt\n",
    "import os\n",
    "import math\n",
    "from tqdm import tqdm\n",
    "pd.set_option('display.max_rows', 500)\n",
    "pd.set_option('display.max_columns', 500)\n",
    "import datetime\n",
    "from sklearn.preprocessing import quantile_transform\n",
    "pd.options.mode.chained_assignment = None  # default='warn'\n",
    "import gc"
   ]
  },
  {
   "cell_type": "code",
   "execution_count": 2,
   "metadata": {},
   "outputs": [],
   "source": [
    "basedir = './prepped_data/'"
   ]
  },
  {
   "cell_type": "code",
   "execution_count": 3,
   "metadata": {},
   "outputs": [
    {
     "name": "stdout",
     "output_type": "stream",
     "text": [
      "Wall time: 5.71 s\n"
     ]
    },
    {
     "data": {
      "text/plain": [
       "(4555253, 17)"
      ]
     },
     "execution_count": 3,
     "metadata": {},
     "output_type": "execute_result"
    }
   ],
   "source": [
    "%%time\n",
    "main_data_df = pd.read_csv(basedir + 'main_data_baseline_checkpoint_1.csv')\n",
    "main_data_df.shape"
   ]
  },
  {
   "cell_type": "code",
   "execution_count": null,
   "metadata": {},
   "outputs": [],
   "source": [
    "%%time\n",
    "land_plans_df = pd.read_csv(basedir + 'land_plans_ver_2.csv')\n",
    "land_plans_df.shape"
   ]
  },
  {
   "cell_type": "code",
   "execution_count": null,
   "metadata": {},
   "outputs": [],
   "source": [
    "%%time\n",
    "bdinfo_df = pd.read_csv(basedir + 'merged_bdinfo_floor_info_features.csv')\n",
    "bdinfo_df.shape"
   ]
  },
  {
   "cell_type": "code",
   "execution_count": null,
   "metadata": {},
   "outputs": [],
   "source": [
    "%%time\n",
    "land_prices_df = pd.read_csv(basedir + 'land_prices_ver_2.csv')\n",
    "land_prices_df.shape"
   ]
  },
  {
   "cell_type": "code",
   "execution_count": 4,
   "metadata": {},
   "outputs": [
    {
     "data": {
      "text/html": [
       "<div>\n",
       "<style scoped>\n",
       "    .dataframe tbody tr th:only-of-type {\n",
       "        vertical-align: middle;\n",
       "    }\n",
       "\n",
       "    .dataframe tbody tr th {\n",
       "        vertical-align: top;\n",
       "    }\n",
       "\n",
       "    .dataframe thead th {\n",
       "        text-align: right;\n",
       "    }\n",
       "</style>\n",
       "<table border=\"1\" class=\"dataframe\">\n",
       "  <thead>\n",
       "    <tr style=\"text-align: right;\">\n",
       "      <th></th>\n",
       "      <th>전월세매매구분</th>\n",
       "      <th>전용면적(㎡)</th>\n",
       "      <th>계약일</th>\n",
       "      <th>금액(만원)</th>\n",
       "      <th>월세(만원)</th>\n",
       "      <th>층</th>\n",
       "      <th>건축년도</th>\n",
       "      <th>가격/면적</th>\n",
       "      <th>년</th>\n",
       "      <th>월</th>\n",
       "      <th>target_log_transformed</th>\n",
       "      <th>target/area_log_transformed</th>\n",
       "      <th>건물종류</th>\n",
       "      <th>지번주소</th>\n",
       "      <th>대장구분명</th>\n",
       "      <th>도로명주소</th>\n",
       "      <th>addr_split_len</th>\n",
       "    </tr>\n",
       "  </thead>\n",
       "  <tbody>\n",
       "    <tr>\n",
       "      <th>0</th>\n",
       "      <td>매매</td>\n",
       "      <td>77.75</td>\n",
       "      <td>8</td>\n",
       "      <td>57000</td>\n",
       "      <td>0</td>\n",
       "      <td>2</td>\n",
       "      <td>1988</td>\n",
       "      <td>733.118971</td>\n",
       "      <td>2013</td>\n",
       "      <td>9</td>\n",
       "      <td>10.950807</td>\n",
       "      <td>6.597308</td>\n",
       "      <td>아파트</td>\n",
       "      <td>서울특별시 강남구 개포동 655-2</td>\n",
       "      <td>일반</td>\n",
       "      <td>서울특별시 강남구 언주로 103-0</td>\n",
       "      <td>4.0</td>\n",
       "    </tr>\n",
       "    <tr>\n",
       "      <th>1</th>\n",
       "      <td>매매</td>\n",
       "      <td>77.75</td>\n",
       "      <td>16</td>\n",
       "      <td>57000</td>\n",
       "      <td>0</td>\n",
       "      <td>2</td>\n",
       "      <td>1988</td>\n",
       "      <td>733.118971</td>\n",
       "      <td>2013</td>\n",
       "      <td>12</td>\n",
       "      <td>10.950807</td>\n",
       "      <td>6.597308</td>\n",
       "      <td>아파트</td>\n",
       "      <td>서울특별시 강남구 개포동 655-2</td>\n",
       "      <td>일반</td>\n",
       "      <td>서울특별시 강남구 언주로 103-0</td>\n",
       "      <td>4.0</td>\n",
       "    </tr>\n",
       "    <tr>\n",
       "      <th>2</th>\n",
       "      <td>매매</td>\n",
       "      <td>67.28</td>\n",
       "      <td>11</td>\n",
       "      <td>55000</td>\n",
       "      <td>0</td>\n",
       "      <td>5</td>\n",
       "      <td>1987</td>\n",
       "      <td>817.479191</td>\n",
       "      <td>2013</td>\n",
       "      <td>2</td>\n",
       "      <td>10.915088</td>\n",
       "      <td>6.706225</td>\n",
       "      <td>아파트</td>\n",
       "      <td>서울특별시 강남구 개포동 658-1</td>\n",
       "      <td>일반</td>\n",
       "      <td>서울특별시 강남구 언주로 3-0</td>\n",
       "      <td>4.0</td>\n",
       "    </tr>\n",
       "    <tr>\n",
       "      <th>3</th>\n",
       "      <td>매매</td>\n",
       "      <td>67.28</td>\n",
       "      <td>22</td>\n",
       "      <td>58250</td>\n",
       "      <td>0</td>\n",
       "      <td>4</td>\n",
       "      <td>1987</td>\n",
       "      <td>865.784780</td>\n",
       "      <td>2013</td>\n",
       "      <td>2</td>\n",
       "      <td>10.972499</td>\n",
       "      <td>6.763636</td>\n",
       "      <td>아파트</td>\n",
       "      <td>서울특별시 강남구 개포동 658-1</td>\n",
       "      <td>일반</td>\n",
       "      <td>서울특별시 강남구 언주로 3-0</td>\n",
       "      <td>4.0</td>\n",
       "    </tr>\n",
       "    <tr>\n",
       "      <th>4</th>\n",
       "      <td>매매</td>\n",
       "      <td>67.28</td>\n",
       "      <td>10</td>\n",
       "      <td>60000</td>\n",
       "      <td>0</td>\n",
       "      <td>5</td>\n",
       "      <td>1987</td>\n",
       "      <td>891.795482</td>\n",
       "      <td>2013</td>\n",
       "      <td>5</td>\n",
       "      <td>11.002100</td>\n",
       "      <td>6.793237</td>\n",
       "      <td>아파트</td>\n",
       "      <td>서울특별시 강남구 개포동 658-1</td>\n",
       "      <td>일반</td>\n",
       "      <td>서울특별시 강남구 언주로 3-0</td>\n",
       "      <td>4.0</td>\n",
       "    </tr>\n",
       "  </tbody>\n",
       "</table>\n",
       "</div>"
      ],
      "text/plain": [
       "  전월세매매구분  전용면적(㎡)  계약일  금액(만원)  월세(만원)  층  건축년도       가격/면적     년   월  \\\n",
       "0      매매    77.75    8   57000       0  2  1988  733.118971  2013   9   \n",
       "1      매매    77.75   16   57000       0  2  1988  733.118971  2013  12   \n",
       "2      매매    67.28   11   55000       0  5  1987  817.479191  2013   2   \n",
       "3      매매    67.28   22   58250       0  4  1987  865.784780  2013   2   \n",
       "4      매매    67.28   10   60000       0  5  1987  891.795482  2013   5   \n",
       "\n",
       "   target_log_transformed  target/area_log_transformed 건물종류  \\\n",
       "0               10.950807                     6.597308  아파트   \n",
       "1               10.950807                     6.597308  아파트   \n",
       "2               10.915088                     6.706225  아파트   \n",
       "3               10.972499                     6.763636  아파트   \n",
       "4               11.002100                     6.793237  아파트   \n",
       "\n",
       "                  지번주소 대장구분명                도로명주소  addr_split_len  \n",
       "0  서울특별시 강남구 개포동 655-2    일반  서울특별시 강남구 언주로 103-0             4.0  \n",
       "1  서울특별시 강남구 개포동 655-2    일반  서울특별시 강남구 언주로 103-0             4.0  \n",
       "2  서울특별시 강남구 개포동 658-1    일반    서울특별시 강남구 언주로 3-0             4.0  \n",
       "3  서울특별시 강남구 개포동 658-1    일반    서울특별시 강남구 언주로 3-0             4.0  \n",
       "4  서울특별시 강남구 개포동 658-1    일반    서울특별시 강남구 언주로 3-0             4.0  "
      ]
     },
     "execution_count": 4,
     "metadata": {},
     "output_type": "execute_result"
    }
   ],
   "source": [
    "main_data_df.head()"
   ]
  },
  {
   "cell_type": "code",
   "execution_count": 5,
   "metadata": {},
   "outputs": [
    {
     "data": {
      "text/plain": [
       "(46345, 17)"
      ]
     },
     "execution_count": 5,
     "metadata": {},
     "output_type": "execute_result"
    }
   ],
   "source": [
    "nan_df = main_data_df[main_data_df['도로명주소'].isna()]\n",
    "nan_df.shape"
   ]
  },
  {
   "cell_type": "code",
   "execution_count": 7,
   "metadata": {},
   "outputs": [
    {
     "data": {
      "text/plain": [
       "1650"
      ]
     },
     "execution_count": 7,
     "metadata": {},
     "output_type": "execute_result"
    }
   ],
   "source": [
    "nan_df['지번주소'].nunique()"
   ]
  },
  {
   "cell_type": "code",
   "execution_count": null,
   "metadata": {},
   "outputs": [],
   "source": []
  },
  {
   "cell_type": "code",
   "execution_count": null,
   "metadata": {},
   "outputs": [],
   "source": []
  },
  {
   "cell_type": "code",
   "execution_count": null,
   "metadata": {},
   "outputs": [],
   "source": []
  },
  {
   "cell_type": "code",
   "execution_count": 7,
   "metadata": {},
   "outputs": [],
   "source": [
    "main_data_df.dropna(inplace=True)"
   ]
  },
  {
   "cell_type": "code",
   "execution_count": 10,
   "metadata": {},
   "outputs": [
    {
     "data": {
      "text/plain": [
       "(1173, 17)"
      ]
     },
     "execution_count": 10,
     "metadata": {},
     "output_type": "execute_result"
    }
   ],
   "source": [
    "san_df = main_data_df[main_data_df['지번주소'].str.contains('산1')]\n",
    "san_df.shape"
   ]
  },
  {
   "cell_type": "code",
   "execution_count": 11,
   "metadata": {},
   "outputs": [
    {
     "data": {
      "text/html": [
       "<div>\n",
       "<style scoped>\n",
       "    .dataframe tbody tr th:only-of-type {\n",
       "        vertical-align: middle;\n",
       "    }\n",
       "\n",
       "    .dataframe tbody tr th {\n",
       "        vertical-align: top;\n",
       "    }\n",
       "\n",
       "    .dataframe thead th {\n",
       "        text-align: right;\n",
       "    }\n",
       "</style>\n",
       "<table border=\"1\" class=\"dataframe\">\n",
       "  <thead>\n",
       "    <tr style=\"text-align: right;\">\n",
       "      <th></th>\n",
       "      <th>전월세매매구분</th>\n",
       "      <th>전용면적(㎡)</th>\n",
       "      <th>계약일</th>\n",
       "      <th>금액(만원)</th>\n",
       "      <th>월세(만원)</th>\n",
       "      <th>층</th>\n",
       "      <th>건축년도</th>\n",
       "      <th>가격/면적</th>\n",
       "      <th>년</th>\n",
       "      <th>월</th>\n",
       "      <th>target_log_transformed</th>\n",
       "      <th>target/area_log_transformed</th>\n",
       "      <th>건물종류</th>\n",
       "      <th>지번주소</th>\n",
       "      <th>대장구분명</th>\n",
       "      <th>도로명주소</th>\n",
       "      <th>addr_split_len</th>\n",
       "    </tr>\n",
       "  </thead>\n",
       "  <tbody>\n",
       "    <tr>\n",
       "      <th>348901</th>\n",
       "      <td>매매</td>\n",
       "      <td>79.42</td>\n",
       "      <td>2</td>\n",
       "      <td>25000</td>\n",
       "      <td>0</td>\n",
       "      <td>6</td>\n",
       "      <td>1986</td>\n",
       "      <td>314.782171</td>\n",
       "      <td>2013</td>\n",
       "      <td>1</td>\n",
       "      <td>10.126631</td>\n",
       "      <td>5.751881</td>\n",
       "      <td>아파트</td>\n",
       "      <td>서울특별시 금천구 시흥동 산173-8</td>\n",
       "      <td>산</td>\n",
       "      <td>서울특별시 금천구 시흥대로51길 55-0</td>\n",
       "      <td>4.0</td>\n",
       "    </tr>\n",
       "    <tr>\n",
       "      <th>348902</th>\n",
       "      <td>매매</td>\n",
       "      <td>55.30</td>\n",
       "      <td>18</td>\n",
       "      <td>17100</td>\n",
       "      <td>0</td>\n",
       "      <td>4</td>\n",
       "      <td>1986</td>\n",
       "      <td>309.222423</td>\n",
       "      <td>2013</td>\n",
       "      <td>1</td>\n",
       "      <td>9.746834</td>\n",
       "      <td>5.734061</td>\n",
       "      <td>아파트</td>\n",
       "      <td>서울특별시 금천구 시흥동 산173-8</td>\n",
       "      <td>산</td>\n",
       "      <td>서울특별시 금천구 시흥대로51길 55-0</td>\n",
       "      <td>4.0</td>\n",
       "    </tr>\n",
       "    <tr>\n",
       "      <th>348903</th>\n",
       "      <td>매매</td>\n",
       "      <td>79.42</td>\n",
       "      <td>12</td>\n",
       "      <td>28000</td>\n",
       "      <td>0</td>\n",
       "      <td>10</td>\n",
       "      <td>1986</td>\n",
       "      <td>352.556031</td>\n",
       "      <td>2013</td>\n",
       "      <td>2</td>\n",
       "      <td>10.239960</td>\n",
       "      <td>5.865210</td>\n",
       "      <td>아파트</td>\n",
       "      <td>서울특별시 금천구 시흥동 산173-8</td>\n",
       "      <td>산</td>\n",
       "      <td>서울특별시 금천구 시흥대로51길 55-0</td>\n",
       "      <td>4.0</td>\n",
       "    </tr>\n",
       "    <tr>\n",
       "      <th>348904</th>\n",
       "      <td>매매</td>\n",
       "      <td>67.27</td>\n",
       "      <td>15</td>\n",
       "      <td>23700</td>\n",
       "      <td>0</td>\n",
       "      <td>8</td>\n",
       "      <td>1986</td>\n",
       "      <td>352.311580</td>\n",
       "      <td>2013</td>\n",
       "      <td>2</td>\n",
       "      <td>10.073230</td>\n",
       "      <td>5.864516</td>\n",
       "      <td>아파트</td>\n",
       "      <td>서울특별시 금천구 시흥동 산173-8</td>\n",
       "      <td>산</td>\n",
       "      <td>서울특별시 금천구 시흥대로51길 55-0</td>\n",
       "      <td>4.0</td>\n",
       "    </tr>\n",
       "    <tr>\n",
       "      <th>348905</th>\n",
       "      <td>매매</td>\n",
       "      <td>55.30</td>\n",
       "      <td>18</td>\n",
       "      <td>18100</td>\n",
       "      <td>0</td>\n",
       "      <td>5</td>\n",
       "      <td>1986</td>\n",
       "      <td>327.305606</td>\n",
       "      <td>2013</td>\n",
       "      <td>2</td>\n",
       "      <td>9.803667</td>\n",
       "      <td>5.790894</td>\n",
       "      <td>아파트</td>\n",
       "      <td>서울특별시 금천구 시흥동 산173-8</td>\n",
       "      <td>산</td>\n",
       "      <td>서울특별시 금천구 시흥대로51길 55-0</td>\n",
       "      <td>4.0</td>\n",
       "    </tr>\n",
       "  </tbody>\n",
       "</table>\n",
       "</div>"
      ],
      "text/plain": [
       "       전월세매매구분  전용면적(㎡)  계약일  금액(만원)  월세(만원)   층  건축년도       가격/면적     년  월  \\\n",
       "348901      매매    79.42    2   25000       0   6  1986  314.782171  2013  1   \n",
       "348902      매매    55.30   18   17100       0   4  1986  309.222423  2013  1   \n",
       "348903      매매    79.42   12   28000       0  10  1986  352.556031  2013  2   \n",
       "348904      매매    67.27   15   23700       0   8  1986  352.311580  2013  2   \n",
       "348905      매매    55.30   18   18100       0   5  1986  327.305606  2013  2   \n",
       "\n",
       "        target_log_transformed  target/area_log_transformed 건물종류  \\\n",
       "348901               10.126631                     5.751881  아파트   \n",
       "348902                9.746834                     5.734061  아파트   \n",
       "348903               10.239960                     5.865210  아파트   \n",
       "348904               10.073230                     5.864516  아파트   \n",
       "348905                9.803667                     5.790894  아파트   \n",
       "\n",
       "                        지번주소 대장구분명                   도로명주소  addr_split_len  \n",
       "348901  서울특별시 금천구 시흥동 산173-8     산  서울특별시 금천구 시흥대로51길 55-0             4.0  \n",
       "348902  서울특별시 금천구 시흥동 산173-8     산  서울특별시 금천구 시흥대로51길 55-0             4.0  \n",
       "348903  서울특별시 금천구 시흥동 산173-8     산  서울특별시 금천구 시흥대로51길 55-0             4.0  \n",
       "348904  서울특별시 금천구 시흥동 산173-8     산  서울특별시 금천구 시흥대로51길 55-0             4.0  \n",
       "348905  서울특별시 금천구 시흥동 산173-8     산  서울특별시 금천구 시흥대로51길 55-0             4.0  "
      ]
     },
     "execution_count": 11,
     "metadata": {},
     "output_type": "execute_result"
    }
   ],
   "source": [
    "san_df.head()"
   ]
  },
  {
   "cell_type": "code",
   "execution_count": null,
   "metadata": {},
   "outputs": [],
   "source": []
  },
  {
   "cell_type": "code",
   "execution_count": null,
   "metadata": {},
   "outputs": [],
   "source": []
  },
  {
   "cell_type": "code",
   "execution_count": null,
   "metadata": {},
   "outputs": [],
   "source": []
  },
  {
   "cell_type": "code",
   "execution_count": null,
   "metadata": {},
   "outputs": [],
   "source": []
  },
  {
   "cell_type": "code",
   "execution_count": 4,
   "metadata": {},
   "outputs": [],
   "source": [
    "land_plans_df.fillna('해당사항없음', inplace=True)"
   ]
  },
  {
   "cell_type": "code",
   "execution_count": 5,
   "metadata": {},
   "outputs": [
    {
     "name": "stdout",
     "output_type": "stream",
     "text": [
      "(4555253, 17)\n",
      "(874028, 272)\n",
      "(718969, 255)\n",
      "(1594565, 4)\n"
     ]
    }
   ],
   "source": [
    "dfs_list = [main_data_df, land_plans_df, bdinfo_df, land_prices_df]\n",
    "for df in dfs_list:\n",
    "    print(df.shape)"
   ]
  },
  {
   "cell_type": "code",
   "execution_count": 6,
   "metadata": {},
   "outputs": [],
   "source": [
    "main_data_df.drop(columns=['대장구분명', '도로명주소', 'addr_split_len'], inplace=True)"
   ]
  },
  {
   "cell_type": "code",
   "execution_count": 7,
   "metadata": {},
   "outputs": [],
   "source": [
    "main_data_df.rename(columns={'전용면적(㎡)':'전용면적'}, inplace=True)"
   ]
  },
  {
   "cell_type": "code",
   "execution_count": 8,
   "metadata": {},
   "outputs": [
    {
     "name": "stdout",
     "output_type": "stream",
     "text": [
      "Wall time: 1.76 s\n"
     ]
    }
   ],
   "source": [
    "%%time\n",
    "main_data_df['전용면적_mean'] = main_data_df[['지번주소', '건축년도', '전용면적']].groupby(['지번주소', '건축년도']).transform('mean')['전용면적']\n",
    "main_data_df['전용면적_min'] = main_data_df[['지번주소', '건축년도', '전용면적']].groupby(['지번주소', '건축년도']).transform('min')['전용면적']\n",
    "main_data_df['전용면적_max'] = main_data_df[['지번주소', '건축년도', '전용면적']].groupby(['지번주소', '건축년도']).transform('max')['전용면적']"
   ]
  },
  {
   "cell_type": "code",
   "execution_count": 9,
   "metadata": {},
   "outputs": [
    {
     "name": "stdout",
     "output_type": "stream",
     "text": [
      "(3705841, 16)\n"
     ]
    }
   ],
   "source": [
    "main_data_df = main_data_df[(main_data_df['전월세매매구분'] == '매매')|(main_data_df['전월세매매구분'] == '전세')].drop(columns=['월세(만원)'])\n",
    "print(main_data_df.shape)"
   ]
  },
  {
   "cell_type": "code",
   "execution_count": 10,
   "metadata": {},
   "outputs": [
    {
     "data": {
      "text/plain": [
       "count    3.705841e+06\n",
       "mean     1.420577e+01\n",
       "std      1.002407e+01\n",
       "min     -1.200000e+01\n",
       "25%      6.000000e+00\n",
       "50%      1.300000e+01\n",
       "75%      2.100000e+01\n",
       "max      8.900000e+01\n",
       "Name: 건물나이, dtype: float64"
      ]
     },
     "execution_count": 10,
     "metadata": {},
     "output_type": "execute_result"
    }
   ],
   "source": [
    "main_data_df['건물나이'] = main_data_df['년'] - main_data_df['건축년도']\n",
    "main_data_df['건물나이'].describe()"
   ]
  },
  {
   "cell_type": "code",
   "execution_count": 11,
   "metadata": {
    "scrolled": true
   },
   "outputs": [
    {
     "data": {
      "text/plain": [
       "count    3.705841e+06\n",
       "mean     3.022858e+02\n",
       "std      3.576561e+02\n",
       "min      0.000000e+00\n",
       "25%      3.600000e+01\n",
       "50%      1.690000e+02\n",
       "75%      4.410000e+02\n",
       "max      7.921000e+03\n",
       "Name: 건물나이, dtype: float64"
      ]
     },
     "execution_count": 11,
     "metadata": {},
     "output_type": "execute_result"
    }
   ],
   "source": [
    "main_data_df['건물나이'] = main_data_df['건물나이']**2\n",
    "main_data_df['건물나이'].describe()"
   ]
  },
  {
   "cell_type": "code",
   "execution_count": 12,
   "metadata": {},
   "outputs": [],
   "source": [
    "main_data_df.rename(columns={'건물나이':'건물나이**2'}, inplace=True)"
   ]
  },
  {
   "cell_type": "code",
   "execution_count": 13,
   "metadata": {},
   "outputs": [],
   "source": [
    "main_data_df.drop(columns=['건축년도'], inplace=True)"
   ]
  },
  {
   "cell_type": "code",
   "execution_count": 14,
   "metadata": {},
   "outputs": [],
   "source": [
    "main_data_df['year_linear'] = (main_data_df['년'] - main_data_df['년'].min()) + ((main_data_df['월']-1)/12)"
   ]
  },
  {
   "cell_type": "code",
   "execution_count": 15,
   "metadata": {},
   "outputs": [],
   "source": [
    "def month_circular_sine_func(x):\n",
    "    return math.sin(2*math.pi*((x-1)/12))\n",
    "\n",
    "def month_circular_cosine_func(x):\n",
    "    return math.cos(2*math.pi*((x-1)/12))"
   ]
  },
  {
   "cell_type": "code",
   "execution_count": 16,
   "metadata": {},
   "outputs": [],
   "source": [
    "main_data_df['month_sin'] = main_data_df['월'].apply(month_circular_sine_func)\n",
    "main_data_df['month_cos'] = main_data_df['월'].apply(month_circular_cosine_func)"
   ]
  },
  {
   "cell_type": "code",
   "execution_count": 17,
   "metadata": {},
   "outputs": [],
   "source": [
    "main_data_df.drop(columns=['월', '계약일'], inplace=True)"
   ]
  },
  {
   "cell_type": "code",
   "execution_count": 19,
   "metadata": {},
   "outputs": [
    {
     "data": {
      "text/plain": [
       "count    3.705841e+06\n",
       "mean     5.104996e+02\n",
       "std      2.852378e+02\n",
       "min      2.066340e+01\n",
       "25%      3.229527e+02\n",
       "50%      4.464286e+02\n",
       "75%      6.212858e+02\n",
       "max      4.426360e+03\n",
       "Name: 가격/면적, dtype: float64"
      ]
     },
     "execution_count": 19,
     "metadata": {},
     "output_type": "execute_result"
    }
   ],
   "source": [
    "main_data_df['가격/면적'].describe()"
   ]
  },
  {
   "cell_type": "code",
   "execution_count": 18,
   "metadata": {},
   "outputs": [
    {
     "data": {
      "text/plain": [
       "<AxesSubplot:>"
      ]
     },
     "execution_count": 18,
     "metadata": {},
     "output_type": "execute_result"
    },
    {
     "data": {
      "image/png": "[encoded data removed]",
      "text/plain": [
       "<Figure size 432x288 with 1 Axes>"
      ]
     },
     "metadata": {
      "needs_background": "light"
     },
     "output_type": "display_data"
    }
   ],
   "source": [
    "main_data_df['가격/면적'].hist(bins=100)"
   ]
  },
  {
   "cell_type": "code",
   "execution_count": null,
   "metadata": {},
   "outputs": [],
   "source": [
    "merge1_df = main_data_df.merge(land_plans_df, on=['지번주소', '년'])\n",
    "merge1_df.shape"
   ]
  },
  {
   "cell_type": "code",
   "execution_count": null,
   "metadata": {},
   "outputs": [],
   "source": [
    "bdinfo_df['기준년월'] = bdinfo_df['기준년월'].apply(lambda x:int(str(x)[:4]))\n",
    "bdinfo_df.rename(columns={'기준년월':'년'}, inplace=True)\n",
    "bdinfo_df.drop(columns=['기준년월_최초사용승인일', '주소별_최초생성일자'], inplace=True)"
   ]
  },
  {
   "cell_type": "code",
   "execution_count": null,
   "metadata": {},
   "outputs": [],
   "source": [
    "merge2_df = merge1_df.merge(bdinfo_df, on=['지번주소', '년'])\n",
    "merge2_df.shape"
   ]
  },
  {
   "cell_type": "code",
   "execution_count": null,
   "metadata": {
    "scrolled": true
   },
   "outputs": [],
   "source": [
    "merge2_df['구'] = merge2_df['지번주소'].apply(lambda x: x.split(' ')[1])\n",
    "merge2_df['동'] = merge2_df['지번주소'].apply(lambda x: x.split(' ')[2])"
   ]
  },
  {
   "cell_type": "code",
   "execution_count": null,
   "metadata": {},
   "outputs": [],
   "source": [
    "merge3_df = merge2_df.merge(land_prices_df, on=['지번주소', '년'])\n",
    "merge3_df.shape"
   ]
  },
  {
   "cell_type": "code",
   "execution_count": null,
   "metadata": {},
   "outputs": [],
   "source": [
    "merge3_df['공시지가'] = merge3_df['공시지가'] / 10000\n",
    "merge3_df.rename(columns={'공시지가':'공시지가(만원)'}, inplace=True)"
   ]
  },
  {
   "cell_type": "code",
   "execution_count": null,
   "metadata": {},
   "outputs": [],
   "source": []
  },
  {
   "cell_type": "code",
   "execution_count": null,
   "metadata": {},
   "outputs": [],
   "source": []
  },
  {
   "cell_type": "code",
   "execution_count": null,
   "metadata": {},
   "outputs": [],
   "source": []
  },
  {
   "cell_type": "code",
   "execution_count": null,
   "metadata": {},
   "outputs": [],
   "source": []
  },
  {
   "cell_type": "code",
   "execution_count": null,
   "metadata": {},
   "outputs": [],
   "source": [
    "merge3_df.drop(columns=['지번주소'], inplace=True)"
   ]
  },
  {
   "cell_type": "code",
   "execution_count": null,
   "metadata": {},
   "outputs": [],
   "source": [
    "merge3_df.columns = [col.replace(':','').replace('/','').replace('\\\\','').replace('*','').replace('?','').replace('\\\"','')\\\n",
    "                     .replace('|','').replace('<','').replace('>','') for col in merge3_df.columns]"
   ]
  },
  {
   "cell_type": "code",
   "execution_count": null,
   "metadata": {},
   "outputs": [],
   "source": [
    "land_plans_df.columns = [col.replace(':','').replace('/','').replace('\\\\','').replace('*','').replace('?','').replace('\\\"','')\\\n",
    "                     .replace('|','').replace('<','').replace('>','') for col in land_plans_df.columns]"
   ]
  },
  {
   "cell_type": "code",
   "execution_count": null,
   "metadata": {},
   "outputs": [],
   "source": [
    "lp_catcols = land_plans_df.columns.tolist()[2:]"
   ]
  },
  {
   "cell_type": "code",
   "execution_count": null,
   "metadata": {},
   "outputs": [],
   "source": [
    "cat_cols = ['전월세매매구분', '건물종류', '구', '동', '표준지여부'] + lp_catcols + ['최빈지붕', '최빈용도', '최빈구조']"
   ]
  },
  {
   "cell_type": "code",
   "execution_count": null,
   "metadata": {},
   "outputs": [],
   "source": [
    "for col in tqdm(cat_cols):\n",
    "    col_map = {}\n",
    "    col_map_df = pd.DataFrame({'cat':merge3_df[col].unique(),'map':[i for i in range(len(merge3_df[col].unique()))]})\n",
    "    for i in range(col_map_df.shape[0]):\n",
    "        col_map[col_map_df['cat'][i]] = col_map_df['map'][i]\n",
    "    merge3_df[col] = merge3_df[col].map(col_map)\n",
    "    col_map_df.to_csv('./Training/training_data_ver_9/feature_maps/{}_map.csv'.format(col))"
   ]
  },
  {
   "cell_type": "code",
   "execution_count": null,
   "metadata": {},
   "outputs": [],
   "source": [
    "merge3_df.head()"
   ]
  },
  {
   "cell_type": "code",
   "execution_count": null,
   "metadata": {},
   "outputs": [],
   "source": [
    "target_cols = ['금액(만원)', '가격면적', 'target_log_transformed', 'targetarea_log_transformed']"
   ]
  },
  {
   "cell_type": "code",
   "execution_count": null,
   "metadata": {},
   "outputs": [],
   "source": [
    "cat_cols_df = pd.DataFrame({'colname':cat_cols})\n",
    "cat_cols_df.head()"
   ]
  },
  {
   "cell_type": "code",
   "execution_count": null,
   "metadata": {},
   "outputs": [],
   "source": [
    "cat_cols_df.to_csv('./Training/training_data_ver_9/cat_cols.csv', index=False)"
   ]
  },
  {
   "cell_type": "code",
   "execution_count": null,
   "metadata": {},
   "outputs": [],
   "source": [
    "len(cat_cols)"
   ]
  },
  {
   "cell_type": "code",
   "execution_count": null,
   "metadata": {},
   "outputs": [],
   "source": [
    "total_cat_cols = cat_cols + [col for col in bdinfo_df.columns if col not in cat_cols + ['지번주소', '년']]\n",
    "len(total_cat_cols)"
   ]
  },
  {
   "cell_type": "code",
   "execution_count": null,
   "metadata": {},
   "outputs": [],
   "source": [
    "cols_to_drop = []\n",
    "for col in tqdm(total_cat_cols):\n",
    "    if (merge3_df[col].value_counts()[0] / merge3_df.shape[0]) > 0.999:\n",
    "        cols_to_drop.append(col)"
   ]
  },
  {
   "cell_type": "code",
   "execution_count": null,
   "metadata": {},
   "outputs": [],
   "source": [
    "len(cols_to_drop)"
   ]
  },
  {
   "cell_type": "code",
   "execution_count": null,
   "metadata": {},
   "outputs": [],
   "source": [
    "cols_to_drop"
   ]
  },
  {
   "cell_type": "code",
   "execution_count": null,
   "metadata": {},
   "outputs": [],
   "source": [
    "merge3_df.drop(columns=cols_to_drop, inplace=True)"
   ]
  },
  {
   "cell_type": "code",
   "execution_count": null,
   "metadata": {},
   "outputs": [],
   "source": [
    "%%time\n",
    "merge3_df.to_csv('./Training/training_data_ver_9/training_data_ver_9.csv', index=False)"
   ]
  },
  {
   "cell_type": "code",
   "execution_count": null,
   "metadata": {},
   "outputs": [],
   "source": []
  }
 ],
 "metadata": {
  "kernelspec": {
   "display_name": "Python 3",
   "language": "python",
   "name": "python3"
  },
  "language_info": {
   "codemirror_mode": {
    "name": "ipython",
    "version": 3
   },
   "file_extension": ".py",
   "mimetype": "text/x-python",
   "name": "python",
   "nbconvert_exporter": "python",
   "pygments_lexer": "ipython3",
   "version": "3.7.9"
  }
 },
 "nbformat": 4,
 "nbformat_minor": 4
}
