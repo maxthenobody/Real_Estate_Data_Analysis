{
 "cells": [
  {
   "cell_type": "code",
   "execution_count": 1,
   "metadata": {},
   "outputs": [],
   "source": [
    "import pandas as pd\n",
    "import numpy as np\n",
    "import os\n",
    "from tqdm import tqdm\n",
    "pd.set_option('display.max_rows', 500)\n",
    "pd.set_option('display.max_columns', 500)"
   ]
  },
  {
   "cell_type": "code",
   "execution_count": 2,
   "metadata": {},
   "outputs": [
    {
     "name": "stdout",
     "output_type": "stream",
     "text": [
      "(406005, 4)\n"
     ]
    },
    {
     "data": {
      "text/html": [
       "<div>\n",
       "<style scoped>\n",
       "    .dataframe tbody tr th:only-of-type {\n",
       "        vertical-align: middle;\n",
       "    }\n",
       "\n",
       "    .dataframe tbody tr th {\n",
       "        vertical-align: top;\n",
       "    }\n",
       "\n",
       "    .dataframe thead th {\n",
       "        text-align: right;\n",
       "    }\n",
       "</style>\n",
       "<table border=\"1\" class=\"dataframe\">\n",
       "  <thead>\n",
       "    <tr style=\"text-align: right;\">\n",
       "      <th></th>\n",
       "      <th>지번주소</th>\n",
       "      <th>건축년도</th>\n",
       "      <th>건물면적</th>\n",
       "      <th>대지권면적</th>\n",
       "    </tr>\n",
       "  </thead>\n",
       "  <tbody>\n",
       "    <tr>\n",
       "      <th>0</th>\n",
       "      <td>서울특별시 강동구 천호동 214-60</td>\n",
       "      <td>1990.0</td>\n",
       "      <td>50.25</td>\n",
       "      <td>44.36</td>\n",
       "    </tr>\n",
       "    <tr>\n",
       "      <th>1</th>\n",
       "      <td>서울특별시 강동구 천호동 7401-900</td>\n",
       "      <td>2005.0</td>\n",
       "      <td>190.36</td>\n",
       "      <td>126.00</td>\n",
       "    </tr>\n",
       "    <tr>\n",
       "      <th>2</th>\n",
       "      <td>서울특별시 강동구 길동 386-8</td>\n",
       "      <td>1990.0</td>\n",
       "      <td>33.20</td>\n",
       "      <td>40.68</td>\n",
       "    </tr>\n",
       "    <tr>\n",
       "      <th>3</th>\n",
       "      <td>서울특별시 강동구 천호동 451-20</td>\n",
       "      <td>2003.0</td>\n",
       "      <td>28.43</td>\n",
       "      <td>38.74</td>\n",
       "    </tr>\n",
       "    <tr>\n",
       "      <th>4</th>\n",
       "      <td>서울특별시 강동구 천호동 233-30</td>\n",
       "      <td>2002.0</td>\n",
       "      <td>73.66</td>\n",
       "      <td>36.16</td>\n",
       "    </tr>\n",
       "  </tbody>\n",
       "</table>\n",
       "</div>"
      ],
      "text/plain": [
       "                     지번주소    건축년도    건물면적   대지권면적\n",
       "0    서울특별시 강동구 천호동 214-60  1990.0   50.25   44.36\n",
       "1  서울특별시 강동구 천호동 7401-900  2005.0  190.36  126.00\n",
       "2      서울특별시 강동구 길동 386-8  1990.0   33.20   40.68\n",
       "3    서울특별시 강동구 천호동 451-20  2003.0   28.43   38.74\n",
       "4    서울특별시 강동구 천호동 233-30  2002.0   73.66   36.16"
      ]
     },
     "execution_count": 2,
     "metadata": {},
     "output_type": "execute_result"
    }
   ],
   "source": [
    "landarea_df = pd.read_csv('./서울_열린데이터_광장_서울특별시_부동산_실거래가_정보/실거래_대지권면적.csv')\n",
    "print(landarea_df.shape)\n",
    "landarea_df.head()"
   ]
  },
  {
   "cell_type": "code",
   "execution_count": 3,
   "metadata": {},
   "outputs": [
    {
     "name": "stdout",
     "output_type": "stream",
     "text": [
      "(4441027, 17)\n",
      "Wall time: 10.7 s\n"
     ]
    },
    {
     "data": {
      "text/html": [
       "<div>\n",
       "<style scoped>\n",
       "    .dataframe tbody tr th:only-of-type {\n",
       "        vertical-align: middle;\n",
       "    }\n",
       "\n",
       "    .dataframe tbody tr th {\n",
       "        vertical-align: top;\n",
       "    }\n",
       "\n",
       "    .dataframe thead th {\n",
       "        text-align: right;\n",
       "    }\n",
       "</style>\n",
       "<table border=\"1\" class=\"dataframe\">\n",
       "  <thead>\n",
       "    <tr style=\"text-align: right;\">\n",
       "      <th></th>\n",
       "      <th>전월세매매구분</th>\n",
       "      <th>전용면적(㎡)</th>\n",
       "      <th>계약일</th>\n",
       "      <th>금액(만원)</th>\n",
       "      <th>층</th>\n",
       "      <th>건축년도</th>\n",
       "      <th>가격/면적</th>\n",
       "      <th>년</th>\n",
       "      <th>월</th>\n",
       "      <th>target_log_transformed</th>\n",
       "      <th>target/area_log_transformed</th>\n",
       "      <th>건물종류</th>\n",
       "      <th>지번주소</th>\n",
       "      <th>도로명주소</th>\n",
       "      <th>X좌표</th>\n",
       "      <th>Y좌표</th>\n",
       "      <th>주택가격지수</th>\n",
       "    </tr>\n",
       "  </thead>\n",
       "  <tbody>\n",
       "    <tr>\n",
       "      <th>0</th>\n",
       "      <td>매매</td>\n",
       "      <td>77.75</td>\n",
       "      <td>8</td>\n",
       "      <td>57000.0</td>\n",
       "      <td>2</td>\n",
       "      <td>1988</td>\n",
       "      <td>733.118971</td>\n",
       "      <td>2013</td>\n",
       "      <td>9</td>\n",
       "      <td>10.950807</td>\n",
       "      <td>6.597308</td>\n",
       "      <td>아파트</td>\n",
       "      <td>서울특별시 강남구 개포동 655-2</td>\n",
       "      <td>서울특별시 강남구 언주로 103-0</td>\n",
       "      <td>960473.743425</td>\n",
       "      <td>1.942553e+06</td>\n",
       "      <td>79.100</td>\n",
       "    </tr>\n",
       "    <tr>\n",
       "      <th>1</th>\n",
       "      <td>매매</td>\n",
       "      <td>77.75</td>\n",
       "      <td>16</td>\n",
       "      <td>57000.0</td>\n",
       "      <td>2</td>\n",
       "      <td>1988</td>\n",
       "      <td>733.118971</td>\n",
       "      <td>2013</td>\n",
       "      <td>12</td>\n",
       "      <td>10.950807</td>\n",
       "      <td>6.597308</td>\n",
       "      <td>아파트</td>\n",
       "      <td>서울특별시 강남구 개포동 655-2</td>\n",
       "      <td>서울특별시 강남구 언주로 103-0</td>\n",
       "      <td>960473.743425</td>\n",
       "      <td>1.942553e+06</td>\n",
       "      <td>79.213</td>\n",
       "    </tr>\n",
       "    <tr>\n",
       "      <th>2</th>\n",
       "      <td>매매</td>\n",
       "      <td>77.75</td>\n",
       "      <td>29</td>\n",
       "      <td>55000.0</td>\n",
       "      <td>7</td>\n",
       "      <td>1988</td>\n",
       "      <td>707.395498</td>\n",
       "      <td>2014</td>\n",
       "      <td>1</td>\n",
       "      <td>10.915088</td>\n",
       "      <td>6.561590</td>\n",
       "      <td>아파트</td>\n",
       "      <td>서울특별시 강남구 개포동 655-2</td>\n",
       "      <td>서울특별시 강남구 언주로 103-0</td>\n",
       "      <td>960473.743425</td>\n",
       "      <td>1.942553e+06</td>\n",
       "      <td>79.451</td>\n",
       "    </tr>\n",
       "    <tr>\n",
       "      <th>3</th>\n",
       "      <td>매매</td>\n",
       "      <td>77.75</td>\n",
       "      <td>10</td>\n",
       "      <td>59500.0</td>\n",
       "      <td>4</td>\n",
       "      <td>1988</td>\n",
       "      <td>765.273312</td>\n",
       "      <td>2014</td>\n",
       "      <td>11</td>\n",
       "      <td>10.993732</td>\n",
       "      <td>6.640233</td>\n",
       "      <td>아파트</td>\n",
       "      <td>서울특별시 강남구 개포동 655-2</td>\n",
       "      <td>서울특별시 강남구 언주로 103-0</td>\n",
       "      <td>960473.743425</td>\n",
       "      <td>1.942553e+06</td>\n",
       "      <td>82.100</td>\n",
       "    </tr>\n",
       "    <tr>\n",
       "      <th>4</th>\n",
       "      <td>매매</td>\n",
       "      <td>77.75</td>\n",
       "      <td>28</td>\n",
       "      <td>75000.0</td>\n",
       "      <td>5</td>\n",
       "      <td>1988</td>\n",
       "      <td>964.630225</td>\n",
       "      <td>2016</td>\n",
       "      <td>3</td>\n",
       "      <td>11.225243</td>\n",
       "      <td>6.871745</td>\n",
       "      <td>아파트</td>\n",
       "      <td>서울특별시 강남구 개포동 655-2</td>\n",
       "      <td>서울특별시 강남구 언주로 103-0</td>\n",
       "      <td>960473.743425</td>\n",
       "      <td>1.942553e+06</td>\n",
       "      <td>89.466</td>\n",
       "    </tr>\n",
       "  </tbody>\n",
       "</table>\n",
       "</div>"
      ],
      "text/plain": [
       "  전월세매매구분  전용면적(㎡)  계약일   금액(만원)  층  건축년도       가격/면적     년   월  \\\n",
       "0      매매    77.75    8  57000.0  2  1988  733.118971  2013   9   \n",
       "1      매매    77.75   16  57000.0  2  1988  733.118971  2013  12   \n",
       "2      매매    77.75   29  55000.0  7  1988  707.395498  2014   1   \n",
       "3      매매    77.75   10  59500.0  4  1988  765.273312  2014  11   \n",
       "4      매매    77.75   28  75000.0  5  1988  964.630225  2016   3   \n",
       "\n",
       "   target_log_transformed  target/area_log_transformed 건물종류  \\\n",
       "0               10.950807                     6.597308  아파트   \n",
       "1               10.950807                     6.597308  아파트   \n",
       "2               10.915088                     6.561590  아파트   \n",
       "3               10.993732                     6.640233  아파트   \n",
       "4               11.225243                     6.871745  아파트   \n",
       "\n",
       "                  지번주소                도로명주소            X좌표           Y좌표  \\\n",
       "0  서울특별시 강남구 개포동 655-2  서울특별시 강남구 언주로 103-0  960473.743425  1.942553e+06   \n",
       "1  서울특별시 강남구 개포동 655-2  서울특별시 강남구 언주로 103-0  960473.743425  1.942553e+06   \n",
       "2  서울특별시 강남구 개포동 655-2  서울특별시 강남구 언주로 103-0  960473.743425  1.942553e+06   \n",
       "3  서울특별시 강남구 개포동 655-2  서울특별시 강남구 언주로 103-0  960473.743425  1.942553e+06   \n",
       "4  서울특별시 강남구 개포동 655-2  서울특별시 강남구 언주로 103-0  960473.743425  1.942553e+06   \n",
       "\n",
       "   주택가격지수  \n",
       "0  79.100  \n",
       "1  79.213  \n",
       "2  79.451  \n",
       "3  82.100  \n",
       "4  89.466  "
      ]
     },
     "execution_count": 3,
     "metadata": {},
     "output_type": "execute_result"
    }
   ],
   "source": [
    "%%time\n",
    "main_data_df = pd.read_csv('./prepped_data/main_data_monthly_converted.csv')\n",
    "print(main_data_df.shape)\n",
    "main_data_df.head()"
   ]
  },
  {
   "cell_type": "code",
   "execution_count": 4,
   "metadata": {},
   "outputs": [],
   "source": [
    "main_data_df = main_data_df.rename(columns={'전용면적(㎡)':'건물면적'})"
   ]
  },
  {
   "cell_type": "code",
   "execution_count": 5,
   "metadata": {},
   "outputs": [
    {
     "name": "stdout",
     "output_type": "stream",
     "text": [
      "(1609412, 18)\n"
     ]
    },
    {
     "data": {
      "text/html": [
       "<div>\n",
       "<style scoped>\n",
       "    .dataframe tbody tr th:only-of-type {\n",
       "        vertical-align: middle;\n",
       "    }\n",
       "\n",
       "    .dataframe tbody tr th {\n",
       "        vertical-align: top;\n",
       "    }\n",
       "\n",
       "    .dataframe thead th {\n",
       "        text-align: right;\n",
       "    }\n",
       "</style>\n",
       "<table border=\"1\" class=\"dataframe\">\n",
       "  <thead>\n",
       "    <tr style=\"text-align: right;\">\n",
       "      <th></th>\n",
       "      <th>전월세매매구분</th>\n",
       "      <th>건물면적</th>\n",
       "      <th>계약일</th>\n",
       "      <th>금액(만원)</th>\n",
       "      <th>층</th>\n",
       "      <th>건축년도</th>\n",
       "      <th>가격/면적</th>\n",
       "      <th>년</th>\n",
       "      <th>월</th>\n",
       "      <th>target_log_transformed</th>\n",
       "      <th>target/area_log_transformed</th>\n",
       "      <th>건물종류</th>\n",
       "      <th>지번주소</th>\n",
       "      <th>도로명주소</th>\n",
       "      <th>X좌표</th>\n",
       "      <th>Y좌표</th>\n",
       "      <th>주택가격지수</th>\n",
       "      <th>대지권면적</th>\n",
       "    </tr>\n",
       "  </thead>\n",
       "  <tbody>\n",
       "    <tr>\n",
       "      <th>0</th>\n",
       "      <td>매매</td>\n",
       "      <td>85.76</td>\n",
       "      <td>5</td>\n",
       "      <td>56800.0</td>\n",
       "      <td>5</td>\n",
       "      <td>2007</td>\n",
       "      <td>662.313433</td>\n",
       "      <td>2013</td>\n",
       "      <td>2</td>\n",
       "      <td>10.947292</td>\n",
       "      <td>6.495739</td>\n",
       "      <td>오피스텔</td>\n",
       "      <td>서울특별시 강남구 논현동 241-1</td>\n",
       "      <td>서울특별시 강남구 학동로 338-0</td>\n",
       "      <td>959359.054275</td>\n",
       "      <td>1.946475e+06</td>\n",
       "      <td>82.511</td>\n",
       "      <td>116.15</td>\n",
       "    </tr>\n",
       "    <tr>\n",
       "      <th>1</th>\n",
       "      <td>매매</td>\n",
       "      <td>85.76</td>\n",
       "      <td>23</td>\n",
       "      <td>59000.0</td>\n",
       "      <td>6</td>\n",
       "      <td>2007</td>\n",
       "      <td>687.966418</td>\n",
       "      <td>2013</td>\n",
       "      <td>5</td>\n",
       "      <td>10.985293</td>\n",
       "      <td>6.533740</td>\n",
       "      <td>오피스텔</td>\n",
       "      <td>서울특별시 강남구 논현동 241-1</td>\n",
       "      <td>서울특별시 강남구 학동로 338-0</td>\n",
       "      <td>959359.054275</td>\n",
       "      <td>1.946475e+06</td>\n",
       "      <td>83.789</td>\n",
       "      <td>116.15</td>\n",
       "    </tr>\n",
       "    <tr>\n",
       "      <th>2</th>\n",
       "      <td>매매</td>\n",
       "      <td>85.76</td>\n",
       "      <td>3</td>\n",
       "      <td>64000.0</td>\n",
       "      <td>17</td>\n",
       "      <td>2007</td>\n",
       "      <td>746.268657</td>\n",
       "      <td>2014</td>\n",
       "      <td>4</td>\n",
       "      <td>11.066638</td>\n",
       "      <td>6.615086</td>\n",
       "      <td>오피스텔</td>\n",
       "      <td>서울특별시 강남구 논현동 241-1</td>\n",
       "      <td>서울특별시 강남구 학동로 338-0</td>\n",
       "      <td>959359.054275</td>\n",
       "      <td>1.946475e+06</td>\n",
       "      <td>84.167</td>\n",
       "      <td>116.15</td>\n",
       "    </tr>\n",
       "    <tr>\n",
       "      <th>3</th>\n",
       "      <td>매매</td>\n",
       "      <td>85.76</td>\n",
       "      <td>9</td>\n",
       "      <td>64000.0</td>\n",
       "      <td>16</td>\n",
       "      <td>2007</td>\n",
       "      <td>746.268657</td>\n",
       "      <td>2014</td>\n",
       "      <td>4</td>\n",
       "      <td>11.066638</td>\n",
       "      <td>6.615086</td>\n",
       "      <td>오피스텔</td>\n",
       "      <td>서울특별시 강남구 논현동 241-1</td>\n",
       "      <td>서울특별시 강남구 학동로 338-0</td>\n",
       "      <td>959359.054275</td>\n",
       "      <td>1.946475e+06</td>\n",
       "      <td>84.167</td>\n",
       "      <td>116.15</td>\n",
       "    </tr>\n",
       "    <tr>\n",
       "      <th>4</th>\n",
       "      <td>매매</td>\n",
       "      <td>85.76</td>\n",
       "      <td>4</td>\n",
       "      <td>62000.0</td>\n",
       "      <td>8</td>\n",
       "      <td>2007</td>\n",
       "      <td>722.947761</td>\n",
       "      <td>2014</td>\n",
       "      <td>9</td>\n",
       "      <td>11.034890</td>\n",
       "      <td>6.583337</td>\n",
       "      <td>오피스텔</td>\n",
       "      <td>서울특별시 강남구 논현동 241-1</td>\n",
       "      <td>서울특별시 강남구 학동로 338-0</td>\n",
       "      <td>959359.054275</td>\n",
       "      <td>1.946475e+06</td>\n",
       "      <td>85.080</td>\n",
       "      <td>116.15</td>\n",
       "    </tr>\n",
       "  </tbody>\n",
       "</table>\n",
       "</div>"
      ],
      "text/plain": [
       "  전월세매매구분   건물면적  계약일   금액(만원)   층  건축년도       가격/면적     년  월  \\\n",
       "0      매매  85.76    5  56800.0   5  2007  662.313433  2013  2   \n",
       "1      매매  85.76   23  59000.0   6  2007  687.966418  2013  5   \n",
       "2      매매  85.76    3  64000.0  17  2007  746.268657  2014  4   \n",
       "3      매매  85.76    9  64000.0  16  2007  746.268657  2014  4   \n",
       "4      매매  85.76    4  62000.0   8  2007  722.947761  2014  9   \n",
       "\n",
       "   target_log_transformed  target/area_log_transformed  건물종류  \\\n",
       "0               10.947292                     6.495739  오피스텔   \n",
       "1               10.985293                     6.533740  오피스텔   \n",
       "2               11.066638                     6.615086  오피스텔   \n",
       "3               11.066638                     6.615086  오피스텔   \n",
       "4               11.034890                     6.583337  오피스텔   \n",
       "\n",
       "                  지번주소                도로명주소            X좌표           Y좌표  \\\n",
       "0  서울특별시 강남구 논현동 241-1  서울특별시 강남구 학동로 338-0  959359.054275  1.946475e+06   \n",
       "1  서울특별시 강남구 논현동 241-1  서울특별시 강남구 학동로 338-0  959359.054275  1.946475e+06   \n",
       "2  서울특별시 강남구 논현동 241-1  서울특별시 강남구 학동로 338-0  959359.054275  1.946475e+06   \n",
       "3  서울특별시 강남구 논현동 241-1  서울특별시 강남구 학동로 338-0  959359.054275  1.946475e+06   \n",
       "4  서울특별시 강남구 논현동 241-1  서울특별시 강남구 학동로 338-0  959359.054275  1.946475e+06   \n",
       "\n",
       "   주택가격지수   대지권면적  \n",
       "0  82.511  116.15  \n",
       "1  83.789  116.15  \n",
       "2  84.167  116.15  \n",
       "3  84.167  116.15  \n",
       "4  85.080  116.15  "
      ]
     },
     "execution_count": 5,
     "metadata": {},
     "output_type": "execute_result"
    }
   ],
   "source": [
    "merge_df = main_data_df.merge(landarea_df, on=['지번주소', '건물면적', '건축년도'])\n",
    "print(merge_df.shape)\n",
    "merge_df.head()"
   ]
  },
  {
   "cell_type": "code",
   "execution_count": 6,
   "metadata": {},
   "outputs": [
    {
     "data": {
      "text/plain": [
       "다세대연립    1168535\n",
       "오피스텔      435598\n",
       "아파트         5279\n",
       "Name: 건물종류, dtype: int64"
      ]
     },
     "execution_count": 6,
     "metadata": {},
     "output_type": "execute_result"
    }
   ],
   "source": [
    "merge_df['건물종류'].value_counts()"
   ]
  },
  {
   "cell_type": "code",
   "execution_count": 14,
   "metadata": {},
   "outputs": [
    {
     "data": {
      "text/plain": [
       "<AxesSubplot:>"
      ]
     },
     "execution_count": 14,
     "metadata": {},
     "output_type": "execute_result"
    },
    {
     "data": {
      "image/png": "[encoded data removed]",
      "text/plain": [
       "<Figure size 432x288 with 1 Axes>"
      ]
     },
     "metadata": {
      "needs_background": "light"
     },
     "output_type": "display_data"
    }
   ],
   "source": [
    "main_data_df['건물면적'].hist(bins=5000)"
   ]
  },
  {
   "cell_type": "code",
   "execution_count": 15,
   "metadata": {},
   "outputs": [
    {
     "data": {
      "text/plain": [
       "(1609412, 18)"
      ]
     },
     "execution_count": 15,
     "metadata": {},
     "output_type": "execute_result"
    }
   ],
   "source": [
    "merge_df.shape"
   ]
  },
  {
   "cell_type": "code",
   "execution_count": 16,
   "metadata": {},
   "outputs": [
    {
     "data": {
      "text/plain": [
       "전월세매매구분                             0\n",
       "건물면적                                0\n",
       "계약일                                 0\n",
       "금액(만원)                              0\n",
       "층                                   0\n",
       "건축년도                                0\n",
       "가격/면적                               0\n",
       "년                                   0\n",
       "월                                   0\n",
       "target_log_transformed              0\n",
       "target/area_log_transformed         0\n",
       "건물종류                                0\n",
       "지번주소                                0\n",
       "도로명주소                               0\n",
       "X좌표                                 2\n",
       "Y좌표                                 2\n",
       "주택가격지수                         272686\n",
       "대지권면적                               0\n",
       "dtype: int64"
      ]
     },
     "execution_count": 16,
     "metadata": {},
     "output_type": "execute_result"
    }
   ],
   "source": [
    "merge_df.isna().sum()"
   ]
  },
  {
   "cell_type": "code",
   "execution_count": 17,
   "metadata": {},
   "outputs": [],
   "source": [
    "merge_df.drop(columns=['주택가격지수'], inplace=True)"
   ]
  },
  {
   "cell_type": "code",
   "execution_count": 18,
   "metadata": {},
   "outputs": [
    {
     "data": {
      "text/plain": [
       "array(['서울특별시 강남구 학동로 338-0', '서울특별시 강남구 언주로 615-0',\n",
       "       '서울특별시 강남구 삼성로85길 42-0', '서울특별시 강남구 선릉로90길 56-0',\n",
       "       '서울특별시 강남구 선릉로62길 38-0', '서울특별시 강남구 테헤란로64길 9-0',\n",
       "       '서울특별시 강남구 테헤란로 428-0', '서울특별시 강남구 테헤란로68길 15-0',\n",
       "       '서울특별시 강남구 삼성로85길 33-0', '서울특별시 강남구 언주로 118-0',\n",
       "       '서울특별시 강남구 언주로30길 56-0', '서울특별시 강남구 언주로30길 57-0',\n",
       "       '서울특별시 강남구 언주로30길 26-0', '서울특별시 강남구 언주로30길 10-0',\n",
       "       '서울특별시 강남구 강남대로 272-0', '서울특별시 강남구 언주로30길 27-0',\n",
       "       '서울특별시 강남구 언주로 122-0', '서울특별시 강남구 선릉로100길 42-0',\n",
       "       '서울특별시 강남구 테헤란로63길 12-0', '서울특별시 강남구 봉은사로 516-0',\n",
       "       '서울특별시 강남구 학동로82길 6-0', '서울특별시 강남구 삼성로 517-0',\n",
       "       '서울특별시 강남구 봉은사로 510-0', '서울특별시 강남구 봉은사로 448-0',\n",
       "       '서울특별시 강남구 언주로 427-0', '서울특별시 강남구 강남대로84길 33-0',\n",
       "       '서울특별시 강남구 테헤란로4길 46-0', '서울특별시 강남구 역삼로 109-0',\n",
       "       '서울특별시 강남구 강남대로 324-0', '서울특별시 강남구 언주로90길 4-0',\n",
       "       '서울특별시 강남구 언주로86길 25-0', '서울특별시 강남구 선릉로87길 14-0',\n",
       "       '서울특별시 강남구 언주로86길 7-0', '서울특별시 강남구 언주로86길 11-0',\n",
       "       '서울특별시 강남구 테헤란로10길 10-0', '서울특별시 강남구 언주로90길 6-0',\n",
       "       '서울특별시 강남구 테헤란로14길 13-0', '서울특별시 강남구 역삼로19길 25-0',\n",
       "       '서울특별시 강남구 역삼로10길 13-0', '서울특별시 강남구 도곡로 113-0',\n",
       "       '서울특별시 강남구 압구정로79길 72-0', '서울특별시 강남구 삼성로135길 15-0',\n",
       "       '서울특별시 강남구 도산대로92길 28-0', '서울특별시 강남구 학동로97길 51-0',\n",
       "       '서울특별시 강남구 학동로81길 28-0', '서울특별시 강동구 고덕로 399-0',\n",
       "       '서울특별시 강동구 천호대로 1107-0', '서울특별시 강동구 천호대로175길 16-0',\n",
       "       '서울특별시 강동구 진황도로 85-0', '서울특별시 강동구 천중로38가길 53-0'], dtype=object)"
      ]
     },
     "execution_count": 18,
     "metadata": {},
     "output_type": "execute_result"
    }
   ],
   "source": [
    "merge_df['도로명주소'].unique()[:50]"
   ]
  },
  {
   "cell_type": "code",
   "execution_count": 19,
   "metadata": {},
   "outputs": [
    {
     "name": "stdout",
     "output_type": "stream",
     "text": [
      "(305732, 17)\n"
     ]
    },
    {
     "data": {
      "text/html": [
       "<div>\n",
       "<style scoped>\n",
       "    .dataframe tbody tr th:only-of-type {\n",
       "        vertical-align: middle;\n",
       "    }\n",
       "\n",
       "    .dataframe tbody tr th {\n",
       "        vertical-align: top;\n",
       "    }\n",
       "\n",
       "    .dataframe thead th {\n",
       "        text-align: right;\n",
       "    }\n",
       "</style>\n",
       "<table border=\"1\" class=\"dataframe\">\n",
       "  <thead>\n",
       "    <tr style=\"text-align: right;\">\n",
       "      <th></th>\n",
       "      <th>전월세매매구분</th>\n",
       "      <th>건물면적</th>\n",
       "      <th>계약일</th>\n",
       "      <th>금액(만원)</th>\n",
       "      <th>층</th>\n",
       "      <th>건축년도</th>\n",
       "      <th>가격/면적</th>\n",
       "      <th>년</th>\n",
       "      <th>월</th>\n",
       "      <th>target_log_transformed</th>\n",
       "      <th>target/area_log_transformed</th>\n",
       "      <th>건물종류</th>\n",
       "      <th>지번주소</th>\n",
       "      <th>도로명주소</th>\n",
       "      <th>X좌표</th>\n",
       "      <th>Y좌표</th>\n",
       "      <th>대지권면적</th>\n",
       "    </tr>\n",
       "  </thead>\n",
       "  <tbody>\n",
       "    <tr>\n",
       "      <th>0</th>\n",
       "      <td>매매</td>\n",
       "      <td>85.76</td>\n",
       "      <td>5</td>\n",
       "      <td>56800.0</td>\n",
       "      <td>5</td>\n",
       "      <td>2007</td>\n",
       "      <td>662.313433</td>\n",
       "      <td>2013</td>\n",
       "      <td>2</td>\n",
       "      <td>10.947292</td>\n",
       "      <td>6.495739</td>\n",
       "      <td>오피스텔</td>\n",
       "      <td>서울특별시 강남구 논현동 241-1</td>\n",
       "      <td>서울특별시 강남구 학동로 338-0</td>\n",
       "      <td>959359.054275</td>\n",
       "      <td>1.946475e+06</td>\n",
       "      <td>116.15</td>\n",
       "    </tr>\n",
       "    <tr>\n",
       "      <th>1</th>\n",
       "      <td>매매</td>\n",
       "      <td>85.76</td>\n",
       "      <td>23</td>\n",
       "      <td>59000.0</td>\n",
       "      <td>6</td>\n",
       "      <td>2007</td>\n",
       "      <td>687.966418</td>\n",
       "      <td>2013</td>\n",
       "      <td>5</td>\n",
       "      <td>10.985293</td>\n",
       "      <td>6.533740</td>\n",
       "      <td>오피스텔</td>\n",
       "      <td>서울특별시 강남구 논현동 241-1</td>\n",
       "      <td>서울특별시 강남구 학동로 338-0</td>\n",
       "      <td>959359.054275</td>\n",
       "      <td>1.946475e+06</td>\n",
       "      <td>116.15</td>\n",
       "    </tr>\n",
       "    <tr>\n",
       "      <th>2</th>\n",
       "      <td>매매</td>\n",
       "      <td>85.76</td>\n",
       "      <td>3</td>\n",
       "      <td>64000.0</td>\n",
       "      <td>17</td>\n",
       "      <td>2007</td>\n",
       "      <td>746.268657</td>\n",
       "      <td>2014</td>\n",
       "      <td>4</td>\n",
       "      <td>11.066638</td>\n",
       "      <td>6.615086</td>\n",
       "      <td>오피스텔</td>\n",
       "      <td>서울특별시 강남구 논현동 241-1</td>\n",
       "      <td>서울특별시 강남구 학동로 338-0</td>\n",
       "      <td>959359.054275</td>\n",
       "      <td>1.946475e+06</td>\n",
       "      <td>116.15</td>\n",
       "    </tr>\n",
       "    <tr>\n",
       "      <th>3</th>\n",
       "      <td>매매</td>\n",
       "      <td>85.76</td>\n",
       "      <td>9</td>\n",
       "      <td>64000.0</td>\n",
       "      <td>16</td>\n",
       "      <td>2007</td>\n",
       "      <td>746.268657</td>\n",
       "      <td>2014</td>\n",
       "      <td>4</td>\n",
       "      <td>11.066638</td>\n",
       "      <td>6.615086</td>\n",
       "      <td>오피스텔</td>\n",
       "      <td>서울특별시 강남구 논현동 241-1</td>\n",
       "      <td>서울특별시 강남구 학동로 338-0</td>\n",
       "      <td>959359.054275</td>\n",
       "      <td>1.946475e+06</td>\n",
       "      <td>116.15</td>\n",
       "    </tr>\n",
       "    <tr>\n",
       "      <th>4</th>\n",
       "      <td>매매</td>\n",
       "      <td>85.76</td>\n",
       "      <td>4</td>\n",
       "      <td>62000.0</td>\n",
       "      <td>8</td>\n",
       "      <td>2007</td>\n",
       "      <td>722.947761</td>\n",
       "      <td>2014</td>\n",
       "      <td>9</td>\n",
       "      <td>11.034890</td>\n",
       "      <td>6.583337</td>\n",
       "      <td>오피스텔</td>\n",
       "      <td>서울특별시 강남구 논현동 241-1</td>\n",
       "      <td>서울특별시 강남구 학동로 338-0</td>\n",
       "      <td>959359.054275</td>\n",
       "      <td>1.946475e+06</td>\n",
       "      <td>116.15</td>\n",
       "    </tr>\n",
       "  </tbody>\n",
       "</table>\n",
       "</div>"
      ],
      "text/plain": [
       "  전월세매매구분   건물면적  계약일   금액(만원)   층  건축년도       가격/면적     년  월  \\\n",
       "0      매매  85.76    5  56800.0   5  2007  662.313433  2013  2   \n",
       "1      매매  85.76   23  59000.0   6  2007  687.966418  2013  5   \n",
       "2      매매  85.76    3  64000.0  17  2007  746.268657  2014  4   \n",
       "3      매매  85.76    9  64000.0  16  2007  746.268657  2014  4   \n",
       "4      매매  85.76    4  62000.0   8  2007  722.947761  2014  9   \n",
       "\n",
       "   target_log_transformed  target/area_log_transformed  건물종류  \\\n",
       "0               10.947292                     6.495739  오피스텔   \n",
       "1               10.985293                     6.533740  오피스텔   \n",
       "2               11.066638                     6.615086  오피스텔   \n",
       "3               11.066638                     6.615086  오피스텔   \n",
       "4               11.034890                     6.583337  오피스텔   \n",
       "\n",
       "                  지번주소                도로명주소            X좌표           Y좌표  \\\n",
       "0  서울특별시 강남구 논현동 241-1  서울특별시 강남구 학동로 338-0  959359.054275  1.946475e+06   \n",
       "1  서울특별시 강남구 논현동 241-1  서울특별시 강남구 학동로 338-0  959359.054275  1.946475e+06   \n",
       "2  서울특별시 강남구 논현동 241-1  서울특별시 강남구 학동로 338-0  959359.054275  1.946475e+06   \n",
       "3  서울특별시 강남구 논현동 241-1  서울특별시 강남구 학동로 338-0  959359.054275  1.946475e+06   \n",
       "4  서울특별시 강남구 논현동 241-1  서울특별시 강남구 학동로 338-0  959359.054275  1.946475e+06   \n",
       "\n",
       "    대지권면적  \n",
       "0  116.15  \n",
       "1  116.15  \n",
       "2  116.15  \n",
       "3  116.15  \n",
       "4  116.15  "
      ]
     },
     "execution_count": 19,
     "metadata": {},
     "output_type": "execute_result"
    }
   ],
   "source": [
    "dong_df = merge_df[merge_df['도로명주소'].str.contains('동')]\n",
    "print(dong_df.shape)\n",
    "dong_df.head()"
   ]
  },
  {
   "cell_type": "code",
   "execution_count": 20,
   "metadata": {},
   "outputs": [
    {
     "name": "stderr",
     "output_type": "stream",
     "text": [
      "c:\\users\\max6296\\ml\\lib\\site-packages\\ipykernel_launcher.py:1: SettingWithCopyWarning: \n",
      "A value is trying to be set on a copy of a slice from a DataFrame.\n",
      "Try using .loc[row_indexer,col_indexer] = value instead\n",
      "\n",
      "See the caveats in the documentation: https://pandas.pydata.org/pandas-docs/stable/user_guide/indexing.html#returning-a-view-versus-a-copy\n",
      "  \"\"\"Entry point for launching an IPython kernel.\n"
     ]
    }
   ],
   "source": [
    "dong_df['dong'] = dong_df['도로명주소'].apply(lambda x: x.split(' ')[2])"
   ]
  },
  {
   "cell_type": "code",
   "execution_count": 22,
   "metadata": {},
   "outputs": [
    {
     "data": {
      "text/plain": [
       "2189"
      ]
     },
     "execution_count": 22,
     "metadata": {},
     "output_type": "execute_result"
    }
   ],
   "source": [
    "dong_df['dong'].nunique()"
   ]
  },
  {
   "cell_type": "code",
   "execution_count": 29,
   "metadata": {},
   "outputs": [
    {
     "name": "stderr",
     "output_type": "stream",
     "text": [
      "c:\\users\\max6296\\ml\\lib\\site-packages\\ipykernel_launcher.py:1: SettingWithCopyWarning: \n",
      "A value is trying to be set on a copy of a slice from a DataFrame.\n",
      "Try using .loc[row_indexer,col_indexer] = value instead\n",
      "\n",
      "See the caveats in the documentation: https://pandas.pydata.org/pandas-docs/stable/user_guide/indexing.html#returning-a-view-versus-a-copy\n",
      "  \"\"\"Entry point for launching an IPython kernel.\n"
     ]
    }
   ],
   "source": [
    "dong_df['dong2'] = dong_df['dong'].apply(lambda x: x.replace('0','').replace('1','').replace('2','').replace('3','')\\\n",
    "                                       .replace('4','').replace('5','').replace('6','').replace('7','').replace('8','')\\\n",
    "                                       .replace('9','').replace('길','').replace('가',''))"
   ]
  },
  {
   "cell_type": "code",
   "execution_count": 30,
   "metadata": {},
   "outputs": [
    {
     "data": {
      "text/plain": [
       "353"
      ]
     },
     "execution_count": 30,
     "metadata": {},
     "output_type": "execute_result"
    }
   ],
   "source": [
    "dong_df['dong2'].nunique()"
   ]
  },
  {
   "cell_type": "code",
   "execution_count": 31,
   "metadata": {},
   "outputs": [
    {
     "data": {
      "text/plain": [
       "array(['학동로', '고덕로', '천호대로', '진황도로', '천중로', '성안로', '양재대로', '강동대로', '올림픽로',\n",
       "       '개화동로', '동일로', '능동로', '연동로', '사정로', '황물로', '청계천로', '왕산로', '이문로',\n",
       "       '답십리로', '장한로', '장한로다', '장한로나', '한천로', '장안벚꽃로', '답십리로나', '서울시립대로',\n",
       "       '전농로', '왕산로라', '망우로', '노량진로', '국사봉', '신대방', '보라매로', '서달로', '동광로',\n",
       "       '왕십리로', '동소문로', '동소문로나', '목동서로', '목동동로', '목동중앙본로', '목동중앙서로',\n",
       "       '목동중앙남로', '여의동로', '동일로나', '신림동나', '신이문로', '상도로', '매봉로', '목동중앙북로',\n",
       "       '목동중앙남로나', '목동중앙북로나', '구로동로', '영동대로', '상일로', '아리수로', '동남로', '명일로',\n",
       "       '풍성로', '명일로나', '구천면로', '암사', '상암로', '천호대로다', '천호대로나', '성내로',\n",
       "       '양재대로나', '천호대로라', '천호옛', '성내로다', '성내로나', '고덕로라', '고덕로마', '고덕로나',\n",
       "       '선사로', '구천면로나', '고덕로다', '진황도로라', '성안로다', '상암로나', '천중로나', '성안로나',\n",
       "       '성안로라', '성안로마', '진황도로다', '개화동로나', '방화동로', '방화동로나', '신림동', '동일로다',\n",
       "       '능동로나', '동일로라', '능동로다', '구로동로나', '구로동로다', '동일로바', '동일로마', '답십리로라',\n",
       "       '한천로다', '무학로', '왕산로나', '무학로다', '고산자로', '안암로', '외대역동로', '휘경로',\n",
       "       '휘경로나', '화랑로', '화랑로마', '천장산로', '이문로마', '이문로사', '이문로바', '이문로라',\n",
       "       '이문로다', '이문로아', '이문로나', '휘경로다', '경희대로', '회기로', '휘경로라', '사정로나',\n",
       "       '제기로', '전농로나', '전농로다', '답십리로다', '전농로라', '약령시로', '정릉천동로', '홍릉로',\n",
       "       '제기로다', '왕산로바', '제기로나', '약령중앙로', '왕산로다', '경동시장로', '왕산로마', '약령서',\n",
       "       '경동시장로나', '회기로다', '회기로나', '경희대로나', '망우로라', '망우로다', '망우로나', '망우로마',\n",
       "       '서울시립대로나', '외대역동로나', '노량진로마', '등용로', '만양로', '장승배기로', '만양로바',\n",
       "       '노량진로나', '노량진로다', '장승배기로라', '장승배기로나', '노량진로라', '만양로아', '장승배기로다',\n",
       "       '대방동', '여의대방로나', '여의대방로', '대방동나', '여의대방로마', '여의대방로다', '알마타',\n",
       "       '대방동다', '등용로다', '등용로나', '동작대로', '사당로나', '사당로', '사당로다', '사당로사',\n",
       "       '남부순환로', '사당로마', '남부순환로라', '동작대로차', '사당로라', '남부순환로나', '사당로자',\n",
       "       '동작대로나', '솔밭로', '사당로바', '남부순환로마', '남부순환로다', '사당로차', '동작대로다',\n",
       "       '동작대로아', '동작대로라', '사당로아', '동작대로바', '동작대로마', '동작대로자', '남부순환로바',\n",
       "       '상도로다', '양녕로', '상도로나', '상도로바', '상도로마', '강남초등', '상도로아', '상도로라',\n",
       "       '흑석로', '성대로', '성대로바', '양녕로바', '양녕로다', '양녕로라', '상도로자', '양녕로나',\n",
       "       '성대로다', '국사봉나', '양녕로마', '성대로마', '상도로카', '국사봉라', '양녕로사', '상도로사',\n",
       "       '성대로나', '상도로타', '성대로라', '국사봉바', '상도로차', '성대로사', '성대로자', '여의대방로카',\n",
       "       '여의대방로바', '여의대방로아', '여의대방로사', '국사봉마', '신대방나', '보라매로라', '여의대방로차',\n",
       "       '신대방라', '대림로', '여의대방로라', '보라매로다', '여의대방로자', '국사봉다', '보라매로나', '현충로',\n",
       "       '서달로다', '흑석로마', '흑석로바', '현충로다', '현충로나', '서달로라', '서달로사', '동교로',\n",
       "       '동교로안', '연대동문', '동산로', '행당로', '금호로', '독서당로', '무수막', '금호산', '금호산나',\n",
       "       '장터', '동호로', '매봉', '난계로', '동호로나', '마조로', '청계천로다', '마장로', '마장로다',\n",
       "       '마장로나', '사근동', '사근동나', '살곶이', '사근동다', '상원', '둘레', '뚝섬로', '왕십리로다',\n",
       "       '서울숲', '성덕정', '연무장', '성수일로', '성수이로', '광나루로', '아차산로', '광나루로다',\n",
       "       '둘레나', '상원다', '상원나', '송정', '송정라', '송정마', '송정나', '송정바', '송정다',\n",
       "       '한림말', '용답', '용답중앙', '자동차시장', '독서당로다', '독서당로나', '왕십리로라', '무학봉라',\n",
       "       '무학봉', '왕십리로나', '고산자로다', '고산자로라', '고산자로나', '왕십리로마', '마조로나',\n",
       "       '동소문로마', '동소문로라', '동소문로다', '동남로나', '동남로다', '목동중앙로', '목동중앙남로마',\n",
       "       '목동중앙로나', '목동중앙남로다', '목동중앙서로나', '목동중앙서로다', '목동중앙로다', '목동중앙남로라',\n",
       "       '목동중앙북로라', '목동로', '목동남로', '선유동로', '계동', '동숭나', '동숭', '동숭라', '동숭다',\n",
       "       '백석동', '숭인동', '숭인동다', '숭인동나', '동망산', '낙산성곽동', '동호로다', '동호로마',\n",
       "       '동호로아', '동호로자', '동호로바', '동호로라', '동호로차', '필동로', '하정로', '시흥대로', '람',\n",
       "       '인사동', '명동', '마곡동로', '한빛로'], dtype=object)"
      ]
     },
     "execution_count": 31,
     "metadata": {},
     "output_type": "execute_result"
    }
   ],
   "source": [
    "dong_df['dong2'].unique()"
   ]
  },
  {
   "cell_type": "code",
   "execution_count": 32,
   "metadata": {},
   "outputs": [
    {
     "name": "stderr",
     "output_type": "stream",
     "text": [
      "c:\\users\\max6296\\ml\\lib\\site-packages\\ipykernel_launcher.py:1: SettingWithCopyWarning: \n",
      "A value is trying to be set on a copy of a slice from a DataFrame.\n",
      "Try using .loc[row_indexer,col_indexer] = value instead\n",
      "\n",
      "See the caveats in the documentation: https://pandas.pydata.org/pandas-docs/stable/user_guide/indexing.html#returning-a-view-versus-a-copy\n",
      "  \"\"\"Entry point for launching an IPython kernel.\n"
     ]
    }
   ],
   "source": [
    "dong_df['endswithdong'] = dong_df['dong'].apply(lambda x: 1 if x.endswith('동') else 0)"
   ]
  },
  {
   "cell_type": "code",
   "execution_count": 33,
   "metadata": {},
   "outputs": [
    {
     "data": {
      "text/plain": [
       "0    305732\n",
       "Name: endswithdong, dtype: int64"
      ]
     },
     "execution_count": 33,
     "metadata": {},
     "output_type": "execute_result"
    }
   ],
   "source": [
    "dong_df['endswithdong'].value_counts()"
   ]
  },
  {
   "cell_type": "code",
   "execution_count": 34,
   "metadata": {},
   "outputs": [],
   "source": [
    "merge_df.to_csv('./prepped_data/대지권면적적용_메인데이터.csv', index=False)"
   ]
  },
  {
   "cell_type": "code",
   "execution_count": null,
   "metadata": {},
   "outputs": [],
   "source": []
  }
 ],
 "metadata": {
  "kernelspec": {
   "display_name": "Python 3",
   "language": "python",
   "name": "python3"
  },
  "language_info": {
   "codemirror_mode": {
    "name": "ipython",
    "version": 3
   },
   "file_extension": ".py",
   "mimetype": "text/x-python",
   "name": "python",
   "nbconvert_exporter": "python",
   "pygments_lexer": "ipython3",
   "version": "3.7.9"
  }
 },
 "nbformat": 4,
 "nbformat_minor": 4
}
