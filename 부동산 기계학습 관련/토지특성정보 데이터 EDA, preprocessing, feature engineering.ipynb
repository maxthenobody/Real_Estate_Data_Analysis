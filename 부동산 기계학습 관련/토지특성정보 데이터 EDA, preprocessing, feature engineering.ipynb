{
 "cells": [
  {
   "cell_type": "code",
   "execution_count": 1,
   "metadata": {},
   "outputs": [],
   "source": [
    "import pandas as pd\n",
    "pd.set_option('display.max_rows', 500)\n",
    "pd.set_option('display.max_columns', 500)\n",
    "import numpy as np\n",
    "import os\n",
    "import time\n",
    "from tqdm import tqdm\n",
    "import matplotlib.pyplot as plt\n",
    "import seaborn as sns\n",
    "import datetime"
   ]
  },
  {
   "cell_type": "code",
   "execution_count": 2,
   "metadata": {},
   "outputs": [
    {
     "name": "stdout",
     "output_type": "stream",
     "text": [
      "(1000126, 16)\n",
      "Wall time: 1.95 s\n"
     ]
    },
    {
     "data": {
      "text/html": [
       "<div>\n",
       "<style scoped>\n",
       "    .dataframe tbody tr th:only-of-type {\n",
       "        vertical-align: middle;\n",
       "    }\n",
       "\n",
       "    .dataframe tbody tr th {\n",
       "        vertical-align: top;\n",
       "    }\n",
       "\n",
       "    .dataframe thead th {\n",
       "        text-align: right;\n",
       "    }\n",
       "</style>\n",
       "<table border=\"1\" class=\"dataframe\">\n",
       "  <thead>\n",
       "    <tr style=\"text-align: right;\">\n",
       "      <th></th>\n",
       "      <th>법정동명</th>\n",
       "      <th>대장구분명</th>\n",
       "      <th>지번</th>\n",
       "      <th>토지일련번호</th>\n",
       "      <th>기준년도</th>\n",
       "      <th>기준월</th>\n",
       "      <th>지목명</th>\n",
       "      <th>토지면적</th>\n",
       "      <th>용도지역명1</th>\n",
       "      <th>용도지역명2</th>\n",
       "      <th>토지이동상황</th>\n",
       "      <th>지형높이</th>\n",
       "      <th>지형형상</th>\n",
       "      <th>도로접면</th>\n",
       "      <th>공시지가</th>\n",
       "      <th>데이터기준일자</th>\n",
       "    </tr>\n",
       "  </thead>\n",
       "  <tbody>\n",
       "    <tr>\n",
       "      <th>0</th>\n",
       "      <td>서울특별시 강남구 개포동</td>\n",
       "      <td>일반</td>\n",
       "      <td>100</td>\n",
       "      <td>5934</td>\n",
       "      <td>2021</td>\n",
       "      <td>1</td>\n",
       "      <td>전</td>\n",
       "      <td>876.0</td>\n",
       "      <td>자연녹지지역</td>\n",
       "      <td>지정되지않음</td>\n",
       "      <td>전</td>\n",
       "      <td>완경사</td>\n",
       "      <td>부정형</td>\n",
       "      <td>맹지</td>\n",
       "      <td>424000</td>\n",
       "      <td>2021-07-29</td>\n",
       "    </tr>\n",
       "    <tr>\n",
       "      <th>1</th>\n",
       "      <td>서울특별시 강남구 개포동</td>\n",
       "      <td>일반</td>\n",
       "      <td>101</td>\n",
       "      <td>5935</td>\n",
       "      <td>2021</td>\n",
       "      <td>1</td>\n",
       "      <td>전</td>\n",
       "      <td>641.0</td>\n",
       "      <td>자연녹지지역</td>\n",
       "      <td>지정되지않음</td>\n",
       "      <td>전</td>\n",
       "      <td>평지</td>\n",
       "      <td>부정형</td>\n",
       "      <td>맹지</td>\n",
       "      <td>513000</td>\n",
       "      <td>2021-07-29</td>\n",
       "    </tr>\n",
       "    <tr>\n",
       "      <th>2</th>\n",
       "      <td>서울특별시 강남구 개포동</td>\n",
       "      <td>일반</td>\n",
       "      <td>102</td>\n",
       "      <td>5936</td>\n",
       "      <td>2021</td>\n",
       "      <td>1</td>\n",
       "      <td>전</td>\n",
       "      <td>509.0</td>\n",
       "      <td>자연녹지지역</td>\n",
       "      <td>지정되지않음</td>\n",
       "      <td>전</td>\n",
       "      <td>평지</td>\n",
       "      <td>부정형</td>\n",
       "      <td>맹지</td>\n",
       "      <td>513000</td>\n",
       "      <td>2021-07-29</td>\n",
       "    </tr>\n",
       "    <tr>\n",
       "      <th>3</th>\n",
       "      <td>서울특별시 강남구 개포동</td>\n",
       "      <td>일반</td>\n",
       "      <td>103</td>\n",
       "      <td>5937</td>\n",
       "      <td>2021</td>\n",
       "      <td>1</td>\n",
       "      <td>전</td>\n",
       "      <td>48.7</td>\n",
       "      <td>자연녹지지역</td>\n",
       "      <td>개발제한구역</td>\n",
       "      <td>전</td>\n",
       "      <td>평지</td>\n",
       "      <td>부정형</td>\n",
       "      <td>맹지</td>\n",
       "      <td>351000</td>\n",
       "      <td>2021-07-29</td>\n",
       "    </tr>\n",
       "    <tr>\n",
       "      <th>4</th>\n",
       "      <td>서울특별시 강남구 개포동</td>\n",
       "      <td>일반</td>\n",
       "      <td>104-1</td>\n",
       "      <td>5938</td>\n",
       "      <td>2021</td>\n",
       "      <td>1</td>\n",
       "      <td>전</td>\n",
       "      <td>2995.0</td>\n",
       "      <td>개발제한구역</td>\n",
       "      <td>자연녹지지역</td>\n",
       "      <td>전</td>\n",
       "      <td>완경사</td>\n",
       "      <td>부정형</td>\n",
       "      <td>맹지</td>\n",
       "      <td>422600</td>\n",
       "      <td>2021-07-29</td>\n",
       "    </tr>\n",
       "  </tbody>\n",
       "</table>\n",
       "</div>"
      ],
      "text/plain": [
       "            법정동명 대장구분명     지번  토지일련번호  기준년도  기준월 지목명    토지면적  용도지역명1  용도지역명2  \\\n",
       "0  서울특별시 강남구 개포동    일반    100    5934  2021    1   전   876.0  자연녹지지역  지정되지않음   \n",
       "1  서울특별시 강남구 개포동    일반    101    5935  2021    1   전   641.0  자연녹지지역  지정되지않음   \n",
       "2  서울특별시 강남구 개포동    일반    102    5936  2021    1   전   509.0  자연녹지지역  지정되지않음   \n",
       "3  서울특별시 강남구 개포동    일반    103    5937  2021    1   전    48.7  자연녹지지역  개발제한구역   \n",
       "4  서울특별시 강남구 개포동    일반  104-1    5938  2021    1   전  2995.0  개발제한구역  자연녹지지역   \n",
       "\n",
       "  토지이동상황 지형높이 지형형상 도로접면    공시지가     데이터기준일자  \n",
       "0      전  완경사  부정형   맹지  424000  2021-07-29  \n",
       "1      전   평지  부정형   맹지  513000  2021-07-29  \n",
       "2      전   평지  부정형   맹지  513000  2021-07-29  \n",
       "3      전   평지  부정형   맹지  351000  2021-07-29  \n",
       "4      전  완경사  부정형   맹지  422600  2021-07-29  "
      ]
     },
     "execution_count": 2,
     "metadata": {},
     "output_type": "execute_result"
    }
   ],
   "source": [
    "%%time\n",
    "last_df = pd.read_csv('./Prepped Data/land_specs_last_baseline_20211116.csv')\n",
    "print(last_df.shape)\n",
    "last_df.head()"
   ]
  },
  {
   "cell_type": "code",
   "execution_count": 3,
   "metadata": {},
   "outputs": [
    {
     "data": {
      "text/plain": [
       "지정되지않음       947213\n",
       "제1종일반주거지역     15345\n",
       "제2종일반주거지역     13709\n",
       "제3종일반주거지역     12111\n",
       "일반상업지역         3623\n",
       "준주거지역          3286\n",
       "자연녹지지역         2797\n",
       "개발제한구역          923\n",
       "준공업지역           500\n",
       "제1종전용주거지역       332\n",
       "근린상업지역          145\n",
       "생산녹지지역           98\n",
       "보전녹지지역           21\n",
       "중심상업지역           10\n",
       "제2종전용주거지역        10\n",
       "유통상업지역            3\n",
       "Name: 용도지역명2, dtype: int64"
      ]
     },
     "execution_count": 3,
     "metadata": {},
     "output_type": "execute_result"
    }
   ],
   "source": [
    "last_df['용도지역명2'].value_counts()"
   ]
  },
  {
   "cell_type": "code",
   "execution_count": 4,
   "metadata": {},
   "outputs": [
    {
     "data": {
      "text/plain": [
       "2021    909150\n",
       "2016     15074\n",
       "2020     13349\n",
       "2013     11248\n",
       "2019     10770\n",
       "2014     10559\n",
       "2018     10037\n",
       "2017      9982\n",
       "2015      9957\n",
       "Name: 기준년도, dtype: int64"
      ]
     },
     "execution_count": 4,
     "metadata": {},
     "output_type": "execute_result"
    }
   ],
   "source": [
    "last_df['기준년도'].value_counts()"
   ]
  },
  {
   "cell_type": "code",
   "execution_count": null,
   "metadata": {},
   "outputs": [],
   "source": []
  },
  {
   "cell_type": "code",
   "execution_count": null,
   "metadata": {},
   "outputs": [],
   "source": []
  },
  {
   "cell_type": "code",
   "execution_count": null,
   "metadata": {},
   "outputs": [],
   "source": []
  },
  {
   "cell_type": "code",
   "execution_count": null,
   "metadata": {},
   "outputs": [],
   "source": []
  },
  {
   "cell_type": "code",
   "execution_count": null,
   "metadata": {},
   "outputs": [],
   "source": []
  },
  {
   "cell_type": "code",
   "execution_count": null,
   "metadata": {},
   "outputs": [],
   "source": []
  },
  {
   "cell_type": "code",
   "execution_count": null,
   "metadata": {},
   "outputs": [],
   "source": []
  }
 ],
 "metadata": {
  "kernelspec": {
   "display_name": "Python 3",
   "language": "python",
   "name": "python3"
  },
  "language_info": {
   "codemirror_mode": {
    "name": "ipython",
    "version": 3
   },
   "file_extension": ".py",
   "mimetype": "text/x-python",
   "name": "python",
   "nbconvert_exporter": "python",
   "pygments_lexer": "ipython3",
   "version": "3.7.9"
  }
 },
 "nbformat": 4,
 "nbformat_minor": 4
}
