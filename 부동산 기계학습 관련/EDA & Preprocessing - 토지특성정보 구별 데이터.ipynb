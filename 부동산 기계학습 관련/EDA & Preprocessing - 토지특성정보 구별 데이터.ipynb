{
 "cells": [
  {
   "cell_type": "code",
   "execution_count": 1,
   "metadata": {},
   "outputs": [],
   "source": [
    "import pandas as pd\n",
    "import numpy as np\n",
    "import os\n",
    "pd.set_option('display.max_rows', 500)\n",
    "pd.set_option('display.max_columns', 500)\n",
    "import tqdm\n",
    "import matplotlib.pyplot as plt\n",
    "import seaborn as sns\n",
    "import matplotlib\n",
    "matplotlib.rcParams['axes.unicode_minus'] = False\n",
    "pd.options.mode.chained_assignment = None  # default='warn'\n",
    "plt.rcParams['font.family'] = 'Malgun Gothic'\n",
    "font = {'size': 16}\n",
    "matplotlib.rc('font', **font)\n",
    "tqdm.tqdm.pandas()\n",
    "#import multiprocess as mp"
   ]
  },
  {
   "cell_type": "code",
   "execution_count": 2,
   "metadata": {},
   "outputs": [
    {
     "data": {
      "text/plain": [
       "['.ipynb_checkpoints',\n",
       " 'catboost_info',\n",
       " 'csv to excel.ipynb',\n",
       " 'Dask practice.ipynb',\n",
       " 'Dropna.ipynb',\n",
       " 'EDA & Preprocessing - 개별공시지가 구별 데이터.ipynb',\n",
       " 'Feature Engineering - Main Data - range 2 - 1 year-Copy1.ipynb',\n",
       " 'Feature Engineering - Main Data - range 2 - 1 year.ipynb',\n",
       " 'Feature Engineering - Main Data - range.ipynb',\n",
       " 'Feature Engineering - 메인 데이터 - 계약날짜일수.ipynb',\n",
       " 'Feature Engineering - 메인 데이터에 공시지가 합침.ipynb',\n",
       " 'Feature Engineering - 메인 데이터에 토지특성정보 합침.ipynb',\n",
       " 'Feature Engineering - 메인데이터에 좌표 합침.ipynb',\n",
       " 'merge selected.ipynb',\n",
       " 'Numba cuda practice.ipynb',\n",
       " 'Numba practice with real data.ipynb',\n",
       " 'Numba practice.ipynb',\n",
       " 'Prepped Data',\n",
       " 'range data preprocessing.ipynb',\n",
       " 'Training',\n",
       " 'Training 20211223.ipynb',\n",
       " 'Training 20211230.ipynb',\n",
       " 'training data prep 2 - main data + land specs - 20211230.ipynb',\n",
       " 'training data prep 20211223.ipynb',\n",
       " 'training data prep 3 & feat engi - main + range + land specs - 20220104-Copy1.ipynb',\n",
       " '개별공시지가정보',\n",
       " '개별공시지가정보 EDA - intersection with main data prep.ipynb',\n",
       " '메인 데이터 EDA 1 - 주소 nan, top1 도로명.ipynb',\n",
       " '메인 데이터 베이스라인 준비 20211202.ipynb',\n",
       " '서울시 개별공시지가 정보',\n",
       " '서울시 개별공시지가 정보 EDA & Preprocessing.ipynb',\n",
       " '연속지적_서울',\n",
       " '연속지적도 SHP 파일 EDA.ipynb',\n",
       " '연속지적도로부터 좌표 구하기 - polylabel 활용.ipynb',\n",
       " '연속지적도출처 좌표자료 정리.ipynb',\n",
       " '위치정보관련',\n",
       " '좌표 데이터 prep 2 - up to date data.ipynb',\n",
       " '좌표 데이터 준비.ipynb',\n",
       " '토지소유정보',\n",
       " '토지소유정보 EDA.ipynb',\n",
       " '토지특성정보 + 좌표 데이터 합침.ipynb',\n",
       " '토지특성정보 EDA.ipynb',\n",
       " '토지특성정보 데이터 EDA, preprocessing, feature engineering - land_specs_last_baseline_20211116.csv.ipynb',\n",
       " '토지특성정보 데이터 EDA, preprocessing, feature engineering.ipynb',\n",
       " '토지특성정보 데이터 베이스라인 준비 20211116.ipynb']"
      ]
     },
     "execution_count": 2,
     "metadata": {},
     "output_type": "execute_result"
    }
   ],
   "source": [
    "os.listdir()"
   ]
  },
  {
   "cell_type": "code",
   "execution_count": 3,
   "metadata": {},
   "outputs": [],
   "source": [
    "basedir = './개별공시지가정보/구별/'"
   ]
  },
  {
   "cell_type": "code",
   "execution_count": 4,
   "metadata": {},
   "outputs": [
    {
     "data": {
      "text/plain": [
       "['AL_11740_D195_20171105.csv']"
      ]
     },
     "execution_count": 4,
     "metadata": {},
     "output_type": "execute_result"
    }
   ],
   "source": [
    "os.listdir(basedir)"
   ]
  },
  {
   "cell_type": "code",
   "execution_count": 5,
   "metadata": {},
   "outputs": [
    {
     "data": {
      "text/plain": [
       "['AL_11740_D195_20171105.csv']"
      ]
     },
     "execution_count": 5,
     "metadata": {},
     "output_type": "execute_result"
    }
   ],
   "source": [
    "filenames = [f for f in os.listdir(basedir) if '.csv' in f]\n",
    "filenames"
   ]
  },
  {
   "cell_type": "code",
   "execution_count": 7,
   "metadata": {},
   "outputs": [],
   "source": [
    "dfs_list = []\n",
    "for file in filenames:\n",
    "    df = pd.read_csv(basedir + file, encoding='euc-kr')\n",
    "    dfs_list.append(df)"
   ]
  },
  {
   "cell_type": "code",
   "execution_count": 8,
   "metadata": {},
   "outputs": [
    {
     "name": "stdout",
     "output_type": "stream",
     "text": [
      "(151014, 26)\n"
     ]
    },
    {
     "data": {
      "text/html": [
       "<div>\n",
       "<style scoped>\n",
       "    .dataframe tbody tr th:only-of-type {\n",
       "        vertical-align: middle;\n",
       "    }\n",
       "\n",
       "    .dataframe tbody tr th {\n",
       "        vertical-align: top;\n",
       "    }\n",
       "\n",
       "    .dataframe thead th {\n",
       "        text-align: right;\n",
       "    }\n",
       "</style>\n",
       "<table border=\"1\" class=\"dataframe\">\n",
       "  <thead>\n",
       "    <tr style=\"text-align: right;\">\n",
       "      <th></th>\n",
       "      <th>고유번호</th>\n",
       "      <th>법정동코드</th>\n",
       "      <th>법정동명</th>\n",
       "      <th>대장구분코드</th>\n",
       "      <th>대장구분명</th>\n",
       "      <th>지번</th>\n",
       "      <th>토지일련번호</th>\n",
       "      <th>기준년도</th>\n",
       "      <th>기준월</th>\n",
       "      <th>지목코드</th>\n",
       "      <th>지목명</th>\n",
       "      <th>토지면적</th>\n",
       "      <th>용도지역코드1</th>\n",
       "      <th>용도지역명1</th>\n",
       "      <th>용도지역코드2</th>\n",
       "      <th>용도지역명2</th>\n",
       "      <th>토지이용상황코드</th>\n",
       "      <th>토지이동상황</th>\n",
       "      <th>지형높이코드</th>\n",
       "      <th>지형높이</th>\n",
       "      <th>지형형상코드</th>\n",
       "      <th>지형형상</th>\n",
       "      <th>도로접면코드</th>\n",
       "      <th>도로접면</th>\n",
       "      <th>공시지가</th>\n",
       "      <th>데이터기준일자</th>\n",
       "    </tr>\n",
       "  </thead>\n",
       "  <tbody>\n",
       "    <tr>\n",
       "      <th>0</th>\n",
       "      <td>1174010100100010000</td>\n",
       "      <td>1174010100</td>\n",
       "      <td>서울특별시 강동구 명일동</td>\n",
       "      <td>1</td>\n",
       "      <td>일반</td>\n",
       "      <td>1</td>\n",
       "      <td>1</td>\n",
       "      <td>2013</td>\n",
       "      <td>1</td>\n",
       "      <td>14</td>\n",
       "      <td>도로</td>\n",
       "      <td>2231.6</td>\n",
       "      <td>15</td>\n",
       "      <td>제3종일반주거지역</td>\n",
       "      <td>0</td>\n",
       "      <td>지정되지않음</td>\n",
       "      <td>910</td>\n",
       "      <td>도로등</td>\n",
       "      <td>0</td>\n",
       "      <td>지정되지않음</td>\n",
       "      <td>0</td>\n",
       "      <td>지정되지않음</td>\n",
       "      <td>0</td>\n",
       "      <td>지정되지않음</td>\n",
       "      <td>1800000</td>\n",
       "      <td>2017-10-17</td>\n",
       "    </tr>\n",
       "    <tr>\n",
       "      <th>1</th>\n",
       "      <td>1174010100100010000</td>\n",
       "      <td>1174010100</td>\n",
       "      <td>서울특별시 강동구 명일동</td>\n",
       "      <td>1</td>\n",
       "      <td>일반</td>\n",
       "      <td>1</td>\n",
       "      <td>1</td>\n",
       "      <td>2014</td>\n",
       "      <td>1</td>\n",
       "      <td>14</td>\n",
       "      <td>도로</td>\n",
       "      <td>2231.6</td>\n",
       "      <td>15</td>\n",
       "      <td>제3종일반주거지역</td>\n",
       "      <td>0</td>\n",
       "      <td>지정되지않음</td>\n",
       "      <td>910</td>\n",
       "      <td>도로등</td>\n",
       "      <td>0</td>\n",
       "      <td>지정되지않음</td>\n",
       "      <td>0</td>\n",
       "      <td>지정되지않음</td>\n",
       "      <td>0</td>\n",
       "      <td>지정되지않음</td>\n",
       "      <td>1848000</td>\n",
       "      <td>2017-10-17</td>\n",
       "    </tr>\n",
       "    <tr>\n",
       "      <th>2</th>\n",
       "      <td>1174010100100010000</td>\n",
       "      <td>1174010100</td>\n",
       "      <td>서울특별시 강동구 명일동</td>\n",
       "      <td>1</td>\n",
       "      <td>일반</td>\n",
       "      <td>1</td>\n",
       "      <td>1</td>\n",
       "      <td>2015</td>\n",
       "      <td>1</td>\n",
       "      <td>14</td>\n",
       "      <td>도로</td>\n",
       "      <td>2231.6</td>\n",
       "      <td>15</td>\n",
       "      <td>제3종일반주거지역</td>\n",
       "      <td>0</td>\n",
       "      <td>지정되지않음</td>\n",
       "      <td>910</td>\n",
       "      <td>도로등</td>\n",
       "      <td>0</td>\n",
       "      <td>지정되지않음</td>\n",
       "      <td>0</td>\n",
       "      <td>지정되지않음</td>\n",
       "      <td>0</td>\n",
       "      <td>지정되지않음</td>\n",
       "      <td>1904000</td>\n",
       "      <td>2017-10-17</td>\n",
       "    </tr>\n",
       "    <tr>\n",
       "      <th>3</th>\n",
       "      <td>1174010100100010000</td>\n",
       "      <td>1174010100</td>\n",
       "      <td>서울특별시 강동구 명일동</td>\n",
       "      <td>1</td>\n",
       "      <td>일반</td>\n",
       "      <td>1</td>\n",
       "      <td>1</td>\n",
       "      <td>2016</td>\n",
       "      <td>1</td>\n",
       "      <td>14</td>\n",
       "      <td>도로</td>\n",
       "      <td>2231.6</td>\n",
       "      <td>15</td>\n",
       "      <td>제3종일반주거지역</td>\n",
       "      <td>0</td>\n",
       "      <td>지정되지않음</td>\n",
       "      <td>910</td>\n",
       "      <td>도로등</td>\n",
       "      <td>0</td>\n",
       "      <td>지정되지않음</td>\n",
       "      <td>0</td>\n",
       "      <td>지정되지않음</td>\n",
       "      <td>0</td>\n",
       "      <td>지정되지않음</td>\n",
       "      <td>1947000</td>\n",
       "      <td>2017-10-17</td>\n",
       "    </tr>\n",
       "    <tr>\n",
       "      <th>4</th>\n",
       "      <td>1174010100100010000</td>\n",
       "      <td>1174010100</td>\n",
       "      <td>서울특별시 강동구 명일동</td>\n",
       "      <td>1</td>\n",
       "      <td>일반</td>\n",
       "      <td>1</td>\n",
       "      <td>1</td>\n",
       "      <td>2017</td>\n",
       "      <td>1</td>\n",
       "      <td>14</td>\n",
       "      <td>도로</td>\n",
       "      <td>2231.6</td>\n",
       "      <td>15</td>\n",
       "      <td>제3종일반주거지역</td>\n",
       "      <td>0</td>\n",
       "      <td>지정되지않음</td>\n",
       "      <td>910</td>\n",
       "      <td>도로등</td>\n",
       "      <td>0</td>\n",
       "      <td>지정되지않음</td>\n",
       "      <td>0</td>\n",
       "      <td>지정되지않음</td>\n",
       "      <td>0</td>\n",
       "      <td>지정되지않음</td>\n",
       "      <td>2003000</td>\n",
       "      <td>2017-10-17</td>\n",
       "    </tr>\n",
       "  </tbody>\n",
       "</table>\n",
       "</div>"
      ],
      "text/plain": [
       "                  고유번호       법정동코드           법정동명  대장구분코드 대장구분명 지번  토지일련번호  \\\n",
       "0  1174010100100010000  1174010100  서울특별시 강동구 명일동       1    일반  1       1   \n",
       "1  1174010100100010000  1174010100  서울특별시 강동구 명일동       1    일반  1       1   \n",
       "2  1174010100100010000  1174010100  서울특별시 강동구 명일동       1    일반  1       1   \n",
       "3  1174010100100010000  1174010100  서울특별시 강동구 명일동       1    일반  1       1   \n",
       "4  1174010100100010000  1174010100  서울특별시 강동구 명일동       1    일반  1       1   \n",
       "\n",
       "   기준년도  기준월  지목코드 지목명    토지면적  용도지역코드1     용도지역명1  용도지역코드2  용도지역명2  토지이용상황코드  \\\n",
       "0  2013    1    14  도로  2231.6       15  제3종일반주거지역        0  지정되지않음       910   \n",
       "1  2014    1    14  도로  2231.6       15  제3종일반주거지역        0  지정되지않음       910   \n",
       "2  2015    1    14  도로  2231.6       15  제3종일반주거지역        0  지정되지않음       910   \n",
       "3  2016    1    14  도로  2231.6       15  제3종일반주거지역        0  지정되지않음       910   \n",
       "4  2017    1    14  도로  2231.6       15  제3종일반주거지역        0  지정되지않음       910   \n",
       "\n",
       "  토지이동상황  지형높이코드    지형높이  지형형상코드    지형형상  도로접면코드    도로접면     공시지가     데이터기준일자  \n",
       "0    도로등       0  지정되지않음       0  지정되지않음       0  지정되지않음  1800000  2017-10-17  \n",
       "1    도로등       0  지정되지않음       0  지정되지않음       0  지정되지않음  1848000  2017-10-17  \n",
       "2    도로등       0  지정되지않음       0  지정되지않음       0  지정되지않음  1904000  2017-10-17  \n",
       "3    도로등       0  지정되지않음       0  지정되지않음       0  지정되지않음  1947000  2017-10-17  \n",
       "4    도로등       0  지정되지않음       0  지정되지않음       0  지정되지않음  2003000  2017-10-17  "
      ]
     },
     "execution_count": 8,
     "metadata": {},
     "output_type": "execute_result"
    }
   ],
   "source": [
    "concat_df = pd.concat(dfs_list).reset_index(drop=True)\n",
    "print(concat_df.shape)\n",
    "concat_df.head()"
   ]
  },
  {
   "cell_type": "code",
   "execution_count": 9,
   "metadata": {},
   "outputs": [
    {
     "data": {
      "text/plain": [
       "2016    30286\n",
       "2015    30243\n",
       "2014    30234\n",
       "2013    30222\n",
       "2017    30029\n",
       "Name: 기준년도, dtype: int64"
      ]
     },
     "execution_count": 9,
     "metadata": {},
     "output_type": "execute_result"
    }
   ],
   "source": [
    "concat_df['기준년도'].value_counts()"
   ]
  },
  {
   "cell_type": "code",
   "execution_count": null,
   "metadata": {},
   "outputs": [],
   "source": []
  },
  {
   "cell_type": "code",
   "execution_count": null,
   "metadata": {},
   "outputs": [],
   "source": []
  }
 ],
 "metadata": {
  "kernelspec": {
   "display_name": "Python 3 (ipykernel)",
   "language": "python",
   "name": "python3"
  },
  "language_info": {
   "codemirror_mode": {
    "name": "ipython",
    "version": 3
   },
   "file_extension": ".py",
   "mimetype": "text/x-python",
   "name": "python",
   "nbconvert_exporter": "python",
   "pygments_lexer": "ipython3",
   "version": "3.7.9"
  }
 },
 "nbformat": 4,
 "nbformat_minor": 4
}
