{
 "cells": [
  {
   "cell_type": "code",
   "execution_count": 1,
   "metadata": {},
   "outputs": [],
   "source": [
    "import pandas as pd\n",
    "import numpy as np\n",
    "import os\n",
    "pd.set_option('display.max_rows', 500)\n",
    "pd.set_option('display.max_columns', 500)\n",
    "import tqdm\n",
    "import matplotlib.pyplot as plt\n",
    "import seaborn as sns\n",
    "import matplotlib\n",
    "matplotlib.rcParams['axes.unicode_minus'] = False\n",
    "pd.options.mode.chained_assignment = None  # default='warn'\n",
    "plt.rcParams['font.family'] = 'Malgun Gothic'\n",
    "font = {'size': 16}\n",
    "matplotlib.rc('font', **font)\n",
    "tqdm.tqdm.pandas()"
   ]
  },
  {
   "cell_type": "code",
   "execution_count": 2,
   "metadata": {},
   "outputs": [
    {
     "name": "stdout",
     "output_type": "stream",
     "text": [
      "(5068169, 15)\n",
      "Wall time: 5.87 s\n"
     ]
    },
    {
     "data": {
      "text/html": [
       "<div>\n",
       "<style scoped>\n",
       "    .dataframe tbody tr th:only-of-type {\n",
       "        vertical-align: middle;\n",
       "    }\n",
       "\n",
       "    .dataframe tbody tr th {\n",
       "        vertical-align: top;\n",
       "    }\n",
       "\n",
       "    .dataframe thead th {\n",
       "        text-align: right;\n",
       "    }\n",
       "</style>\n",
       "<table border=\"1\" class=\"dataframe\">\n",
       "  <thead>\n",
       "    <tr style=\"text-align: right;\">\n",
       "      <th></th>\n",
       "      <th>주소_건축년도</th>\n",
       "      <th>전용면적(㎡)</th>\n",
       "      <th>월세(만원)</th>\n",
       "      <th>x좌표</th>\n",
       "      <th>y좌표</th>\n",
       "      <th>계약날짜일수_2006년기준</th>\n",
       "      <th>거래유형</th>\n",
       "      <th>층</th>\n",
       "      <th>건축년도</th>\n",
       "      <th>부동산유형</th>\n",
       "      <th>브랜드</th>\n",
       "      <th>대장구분명</th>\n",
       "      <th>구</th>\n",
       "      <th>동</th>\n",
       "      <th>거래/보증금(만원)</th>\n",
       "    </tr>\n",
       "  </thead>\n",
       "  <tbody>\n",
       "    <tr>\n",
       "      <th>0</th>\n",
       "      <td>서울특별시 강남구 개포동 12 1991</td>\n",
       "      <td>25.35</td>\n",
       "      <td>12</td>\n",
       "      <td>206607.181143</td>\n",
       "      <td>443586.061143</td>\n",
       "      <td>4070</td>\n",
       "      <td>0</td>\n",
       "      <td>0</td>\n",
       "      <td>0</td>\n",
       "      <td>0</td>\n",
       "      <td>0</td>\n",
       "      <td>0</td>\n",
       "      <td>0</td>\n",
       "      <td>0</td>\n",
       "      <td>2253</td>\n",
       "    </tr>\n",
       "    <tr>\n",
       "      <th>1</th>\n",
       "      <td>서울특별시 강남구 개포동 12 1991</td>\n",
       "      <td>25.35</td>\n",
       "      <td>10</td>\n",
       "      <td>206607.181143</td>\n",
       "      <td>443586.061143</td>\n",
       "      <td>4133</td>\n",
       "      <td>0</td>\n",
       "      <td>1</td>\n",
       "      <td>0</td>\n",
       "      <td>0</td>\n",
       "      <td>0</td>\n",
       "      <td>0</td>\n",
       "      <td>0</td>\n",
       "      <td>0</td>\n",
       "      <td>730</td>\n",
       "    </tr>\n",
       "    <tr>\n",
       "      <th>2</th>\n",
       "      <td>서울특별시 강남구 개포동 12 1991</td>\n",
       "      <td>25.35</td>\n",
       "      <td>4</td>\n",
       "      <td>206607.181143</td>\n",
       "      <td>443586.061143</td>\n",
       "      <td>4260</td>\n",
       "      <td>0</td>\n",
       "      <td>1</td>\n",
       "      <td>0</td>\n",
       "      <td>0</td>\n",
       "      <td>0</td>\n",
       "      <td>0</td>\n",
       "      <td>0</td>\n",
       "      <td>0</td>\n",
       "      <td>1815</td>\n",
       "    </tr>\n",
       "    <tr>\n",
       "      <th>3</th>\n",
       "      <td>서울특별시 강남구 개포동 12 1991</td>\n",
       "      <td>25.35</td>\n",
       "      <td>17</td>\n",
       "      <td>206607.181143</td>\n",
       "      <td>443586.061143</td>\n",
       "      <td>4470</td>\n",
       "      <td>0</td>\n",
       "      <td>2</td>\n",
       "      <td>0</td>\n",
       "      <td>0</td>\n",
       "      <td>0</td>\n",
       "      <td>0</td>\n",
       "      <td>0</td>\n",
       "      <td>0</td>\n",
       "      <td>3865</td>\n",
       "    </tr>\n",
       "    <tr>\n",
       "      <th>4</th>\n",
       "      <td>서울특별시 강남구 개포동 12 1991</td>\n",
       "      <td>25.35</td>\n",
       "      <td>7</td>\n",
       "      <td>206607.181143</td>\n",
       "      <td>443586.061143</td>\n",
       "      <td>4577</td>\n",
       "      <td>0</td>\n",
       "      <td>3</td>\n",
       "      <td>0</td>\n",
       "      <td>0</td>\n",
       "      <td>0</td>\n",
       "      <td>0</td>\n",
       "      <td>0</td>\n",
       "      <td>0</td>\n",
       "      <td>3062</td>\n",
       "    </tr>\n",
       "  </tbody>\n",
       "</table>\n",
       "</div>"
      ],
      "text/plain": [
       "                 주소_건축년도  전용면적(㎡)  월세(만원)            x좌표            y좌표  \\\n",
       "0  서울특별시 강남구 개포동 12 1991    25.35      12  206607.181143  443586.061143   \n",
       "1  서울특별시 강남구 개포동 12 1991    25.35      10  206607.181143  443586.061143   \n",
       "2  서울특별시 강남구 개포동 12 1991    25.35       4  206607.181143  443586.061143   \n",
       "3  서울특별시 강남구 개포동 12 1991    25.35      17  206607.181143  443586.061143   \n",
       "4  서울특별시 강남구 개포동 12 1991    25.35       7  206607.181143  443586.061143   \n",
       "\n",
       "   계약날짜일수_2006년기준  거래유형  층  건축년도  부동산유형  브랜드  대장구분명  구  동  거래/보증금(만원)  \n",
       "0            4070     0  0     0      0    0      0  0  0        2253  \n",
       "1            4133     0  1     0      0    0      0  0  0         730  \n",
       "2            4260     0  1     0      0    0      0  0  0        1815  \n",
       "3            4470     0  2     0      0    0      0  0  0        3865  \n",
       "4            4577     0  3     0      0    0      0  0  0        3062  "
      ]
     },
     "execution_count": 2,
     "metadata": {},
     "output_type": "execute_result"
    }
   ],
   "source": [
    "%%time\n",
    "training_data_df = pd.read_csv('./Prepped Data/training_data_20211223.csv')\n",
    "print(training_data_df.shape)\n",
    "training_data_df.head()"
   ]
  },
  {
   "cell_type": "code",
   "execution_count": 3,
   "metadata": {},
   "outputs": [],
   "source": [
    "basedir = './Training/Training1_20211223/cat_col_maps/'"
   ]
  },
  {
   "cell_type": "code",
   "execution_count": 4,
   "metadata": {},
   "outputs": [
    {
     "data": {
      "text/plain": [
       "['거래유형.xlsx',\n",
       " '건축년도.xlsx',\n",
       " '구.xlsx',\n",
       " '대장구분명.xlsx',\n",
       " '동.xlsx',\n",
       " '부동산유형.xlsx',\n",
       " '브랜드.xlsx',\n",
       " '층.xlsx']"
      ]
     },
     "execution_count": 4,
     "metadata": {},
     "output_type": "execute_result"
    }
   ],
   "source": [
    "filenames = [f for f in os.listdir(basedir)]\n",
    "filenames"
   ]
  },
  {
   "cell_type": "code",
   "execution_count": 5,
   "metadata": {},
   "outputs": [
    {
     "data": {
      "text/plain": [
       "['거래유형', '건축년도', '구', '대장구분명', '동', '부동산유형', '브랜드', '층']"
      ]
     },
     "execution_count": 5,
     "metadata": {},
     "output_type": "execute_result"
    }
   ],
   "source": [
    "cat_cols = [col.replace('.xlsx', '') for col in filenames]\n",
    "cat_cols"
   ]
  },
  {
   "cell_type": "markdown",
   "metadata": {},
   "source": [
    "# Training - Catboost Regressor"
   ]
  },
  {
   "cell_type": "code",
   "execution_count": 6,
   "metadata": {},
   "outputs": [],
   "source": [
    "import catboost"
   ]
  },
  {
   "cell_type": "code",
   "execution_count": 7,
   "metadata": {},
   "outputs": [],
   "source": [
    "from sklearn.model_selection import GroupKFold"
   ]
  },
  {
   "cell_type": "code",
   "execution_count": 8,
   "metadata": {},
   "outputs": [],
   "source": [
    "gkfold = GroupKFold(n_splits=5)"
   ]
  },
  {
   "cell_type": "code",
   "execution_count": 9,
   "metadata": {
    "scrolled": true
   },
   "outputs": [
    {
     "name": "stdout",
     "output_type": "stream",
     "text": [
      "-------------- Fold 0 starting ---------------\n",
      "Learning rate set to 0.079026\n",
      "0:\tlearn: 29495.4130184\ttest: 29224.0833510\tbest: 29224.0833510 (0)\ttotal: 416ms\tremaining: 1h 9m 16s\n",
      "50:\tlearn: 13107.5961292\ttest: 13899.4340976\tbest: 13899.4340976 (50)\ttotal: 8.5s\tremaining: 27m 37s\n",
      "100:\tlearn: 11452.1981834\ttest: 12738.3843224\tbest: 12738.3843224 (100)\ttotal: 16.4s\tremaining: 26m 45s\n",
      "150:\tlearn: 10645.0050800\ttest: 12203.3633587\tbest: 12203.3633587 (150)\ttotal: 24.1s\tremaining: 26m 13s\n",
      "200:\tlearn: 10099.4094592\ttest: 11894.6813997\tbest: 11894.6813997 (200)\ttotal: 32.2s\tremaining: 26m 7s\n",
      "250:\tlearn: 9726.2781054\ttest: 11790.6130185\tbest: 11788.0866266 (249)\ttotal: 40.2s\tremaining: 26m 1s\n",
      "300:\tlearn: 9459.0826921\ttest: 11661.6142151\tbest: 11661.6142151 (300)\ttotal: 47.9s\tremaining: 25m 44s\n",
      "350:\tlearn: 9237.9533715\ttest: 11630.3586631\tbest: 11630.3586631 (350)\ttotal: 55.6s\tremaining: 25m 28s\n",
      "400:\tlearn: 9061.4117854\ttest: 11541.4135533\tbest: 11541.4135533 (400)\ttotal: 1m 3s\tremaining: 25m 16s\n",
      "450:\tlearn: 8890.7489002\ttest: 11582.7241890\tbest: 11539.2356655 (402)\ttotal: 1m 11s\tremaining: 25m 4s\n",
      "500:\tlearn: 8751.9481666\ttest: 11580.3028762\tbest: 11539.2356655 (402)\ttotal: 1m 18s\tremaining: 24m 52s\n",
      "550:\tlearn: 8631.4342936\ttest: 11555.7624938\tbest: 11539.2356655 (402)\ttotal: 1m 26s\tremaining: 24m 42s\n",
      "600:\tlearn: 8520.5012010\ttest: 11535.4601403\tbest: 11534.3932867 (571)\ttotal: 1m 34s\tremaining: 24m 33s\n",
      "650:\tlearn: 8416.4563745\ttest: 11556.5685038\tbest: 11528.7154916 (605)\ttotal: 1m 41s\tremaining: 24m 22s\n",
      "700:\tlearn: 8327.1729670\ttest: 11532.6105527\tbest: 11528.7154916 (605)\ttotal: 1m 49s\tremaining: 24m 12s\n",
      "750:\tlearn: 8243.5385079\ttest: 11533.7026848\tbest: 11515.9056940 (726)\ttotal: 1m 57s\tremaining: 24m 8s\n",
      "800:\tlearn: 8161.5717773\ttest: 11530.0247579\tbest: 11509.4433184 (793)\ttotal: 2m 5s\tremaining: 23m 58s\n",
      "850:\tlearn: 8100.4444639\ttest: 11535.7628878\tbest: 11509.4433184 (793)\ttotal: 2m 13s\tremaining: 23m 50s\n",
      "900:\tlearn: 8033.4409103\ttest: 11496.0660322\tbest: 11494.4353907 (893)\ttotal: 2m 20s\tremaining: 23m 41s\n",
      "950:\tlearn: 7965.4486051\ttest: 11542.4016065\tbest: 11494.4353907 (893)\ttotal: 2m 28s\tremaining: 23m 33s\n",
      "1000:\tlearn: 7914.2012305\ttest: 11526.1977509\tbest: 11494.4353907 (893)\ttotal: 2m 36s\tremaining: 23m 24s\n",
      "1050:\tlearn: 7865.9933195\ttest: 11594.9238066\tbest: 11494.4353907 (893)\ttotal: 2m 43s\tremaining: 23m 15s\n",
      "bestTest = 11494.43539\n",
      "bestIteration = 893\n",
      "Shrink model to first 894 iterations.\n",
      "-------------- Fold 0 ending ---------------\n",
      "-------------- Fold 1 starting ---------------\n",
      "Learning rate set to 0.079026\n",
      "0:\tlearn: 29714.1345180\ttest: 28197.2561592\tbest: 28197.2561592 (0)\ttotal: 382ms\tremaining: 1h 3m 44s\n",
      "50:\tlearn: 13182.4180629\ttest: 13846.4326066\tbest: 13846.4326066 (50)\ttotal: 8.05s\tremaining: 26m 11s\n",
      "100:\tlearn: 11541.6709608\ttest: 12807.2544219\tbest: 12807.2544219 (100)\ttotal: 15.9s\tremaining: 25m 59s\n",
      "150:\tlearn: 10707.2011068\ttest: 12388.8051612\tbest: 12388.8051612 (150)\ttotal: 23.5s\tremaining: 25m 30s\n",
      "200:\tlearn: 10180.4335452\ttest: 12138.4342525\tbest: 12138.4342525 (200)\ttotal: 31.1s\tremaining: 25m 14s\n",
      "250:\tlearn: 9812.3783766\ttest: 11963.3309697\tbest: 11963.3309697 (250)\ttotal: 38.7s\tremaining: 25m 2s\n",
      "300:\tlearn: 9555.2067377\ttest: 11849.1182393\tbest: 11846.8697808 (290)\ttotal: 46.4s\tremaining: 24m 54s\n",
      "350:\tlearn: 9339.3853780\ttest: 11765.2061628\tbest: 11765.2061628 (350)\ttotal: 53.9s\tremaining: 24m 42s\n",
      "400:\tlearn: 9142.1222363\ttest: 11665.4872486\tbest: 11663.7876998 (397)\ttotal: 1m 1s\tremaining: 24m 31s\n",
      "450:\tlearn: 8971.1022694\ttest: 11644.3268684\tbest: 11637.2111665 (431)\ttotal: 1m 9s\tremaining: 24m 24s\n",
      "500:\tlearn: 8826.7736083\ttest: 11603.2726447\tbest: 11602.0094496 (497)\ttotal: 1m 16s\tremaining: 24m 16s\n",
      "550:\tlearn: 8693.4093250\ttest: 11540.4139416\tbest: 11534.9152466 (547)\ttotal: 1m 24s\tremaining: 24m 10s\n",
      "600:\tlearn: 8579.0198507\ttest: 11500.4744455\tbest: 11500.4744455 (600)\ttotal: 1m 32s\tremaining: 24m 3s\n",
      "650:\tlearn: 8470.8558558\ttest: 11455.2903217\tbest: 11455.2903217 (650)\ttotal: 1m 39s\tremaining: 23m 53s\n",
      "700:\tlearn: 8386.2388689\ttest: 11421.2572062\tbest: 11421.2572062 (700)\ttotal: 1m 47s\tremaining: 23m 46s\n",
      "750:\tlearn: 8301.9045648\ttest: 11397.7844948\tbest: 11397.7844948 (750)\ttotal: 1m 55s\tremaining: 23m 41s\n",
      "800:\tlearn: 8225.4034901\ttest: 11390.6346580\tbest: 11388.3701643 (793)\ttotal: 2m 3s\tremaining: 23m 35s\n",
      "850:\tlearn: 8158.1873803\ttest: 11399.9480269\tbest: 11375.0181911 (812)\ttotal: 2m 10s\tremaining: 23m 27s\n",
      "900:\tlearn: 8077.3286914\ttest: 11420.8499770\tbest: 11375.0181911 (812)\ttotal: 2m 18s\tremaining: 23m 19s\n",
      "950:\tlearn: 8019.6952342\ttest: 11402.5419091\tbest: 11375.0181911 (812)\ttotal: 2m 26s\tremaining: 23m 12s\n",
      "1000:\tlearn: 7959.9215012\ttest: 11392.9441013\tbest: 11375.0181911 (812)\ttotal: 2m 33s\tremaining: 23m 2s\n",
      "bestTest = 11375.01819\n",
      "bestIteration = 812\n",
      "Shrink model to first 813 iterations.\n",
      "-------------- Fold 1 ending ---------------\n",
      "-------------- Fold 2 starting ---------------\n",
      "Learning rate set to 0.079026\n",
      "0:\tlearn: 29397.9721404\ttest: 29590.3312097\tbest: 29590.3312097 (0)\ttotal: 374ms\tremaining: 1h 2m 21s\n",
      "50:\tlearn: 13219.5803900\ttest: 13324.7494039\tbest: 13324.7494039 (50)\ttotal: 8.33s\tremaining: 27m 5s\n",
      "100:\tlearn: 11622.6786876\ttest: 12086.4488046\tbest: 12086.4488046 (100)\ttotal: 16.1s\tremaining: 26m 19s\n",
      "150:\tlearn: 10782.2894952\ttest: 11413.4651611\tbest: 11413.4651611 (150)\ttotal: 23.9s\tremaining: 25m 57s\n",
      "200:\tlearn: 10227.8050085\ttest: 11050.8165366\tbest: 11050.8165366 (200)\ttotal: 31.7s\tremaining: 25m 44s\n",
      "250:\tlearn: 9832.1362582\ttest: 10861.4222227\tbest: 10861.4222227 (250)\ttotal: 39.4s\tremaining: 25m 29s\n",
      "300:\tlearn: 9533.4566954\ttest: 10698.7337719\tbest: 10691.7186621 (299)\ttotal: 47.1s\tremaining: 25m 18s\n",
      "350:\tlearn: 9298.5569548\ttest: 10567.6260760\tbest: 10567.6260760 (350)\ttotal: 54.9s\tremaining: 25m 10s\n",
      "400:\tlearn: 9104.1065660\ttest: 10502.5984937\tbest: 10501.8041858 (387)\ttotal: 1m 2s\tremaining: 24m 56s\n",
      "450:\tlearn: 8936.2413328\ttest: 10390.6771596\tbest: 10390.6771596 (450)\ttotal: 1m 10s\tremaining: 24m 50s\n",
      "500:\tlearn: 8793.8242602\ttest: 10339.5363444\tbest: 10323.9556034 (498)\ttotal: 1m 18s\tremaining: 24m 39s\n",
      "550:\tlearn: 8669.1762502\ttest: 10290.1263855\tbest: 10285.9261664 (545)\ttotal: 1m 25s\tremaining: 24m 31s\n",
      "600:\tlearn: 8557.6527037\ttest: 10299.5349602\tbest: 10278.0922765 (572)\ttotal: 1m 33s\tremaining: 24m 20s\n",
      "650:\tlearn: 8460.8144610\ttest: 10270.4445927\tbest: 10267.8125598 (649)\ttotal: 1m 40s\tremaining: 24m 7s\n",
      "700:\tlearn: 8370.2083104\ttest: 10227.2810262\tbest: 10227.2810262 (700)\ttotal: 1m 48s\tremaining: 23m 59s\n",
      "750:\tlearn: 8279.1918510\ttest: 10167.2232801\tbest: 10167.2232801 (750)\ttotal: 1m 56s\tremaining: 23m 53s\n",
      "800:\tlearn: 8197.1666911\ttest: 10167.6912999\tbest: 10161.0385117 (757)\ttotal: 2m 4s\tremaining: 23m 45s\n",
      "850:\tlearn: 8112.5725267\ttest: 10163.4502536\tbest: 10154.3658800 (848)\ttotal: 2m 11s\tremaining: 23m 36s\n",
      "900:\tlearn: 8050.3294706\ttest: 10131.4365433\tbest: 10131.4365433 (900)\ttotal: 2m 19s\tremaining: 23m 28s\n",
      "950:\tlearn: 7984.0183596\ttest: 10135.4199038\tbest: 10117.3562589 (920)\ttotal: 2m 27s\tremaining: 23m 21s\n",
      "1000:\tlearn: 7921.4884060\ttest: 10150.5416022\tbest: 10117.3562589 (920)\ttotal: 2m 34s\tremaining: 23m 13s\n",
      "1050:\tlearn: 7867.1205594\ttest: 10166.3575902\tbest: 10117.3562589 (920)\ttotal: 2m 42s\tremaining: 23m 4s\n",
      "1100:\tlearn: 7814.7177520\ttest: 10180.1241922\tbest: 10117.3562589 (920)\ttotal: 2m 50s\tremaining: 22m 56s\n",
      "bestTest = 10117.35626\n",
      "bestIteration = 920\n",
      "Shrink model to first 921 iterations.\n",
      "-------------- Fold 2 ending ---------------\n",
      "-------------- Fold 3 starting ---------------\n",
      "Learning rate set to 0.079026\n",
      "0:\tlearn: 28580.8719197\ttest: 32737.5719913\tbest: 32737.5719913 (0)\ttotal: 479ms\tremaining: 1h 19m 53s\n",
      "50:\tlearn: 12754.0872449\ttest: 16348.1851964\tbest: 16348.1851964 (50)\ttotal: 8.27s\tremaining: 26m 52s\n",
      "100:\tlearn: 11225.4368269\ttest: 14874.7783306\tbest: 14874.7783306 (100)\ttotal: 16.1s\tremaining: 26m 22s\n",
      "150:\tlearn: 10442.3403355\ttest: 14219.0405982\tbest: 14219.0405982 (150)\ttotal: 23.7s\tremaining: 25m 46s\n",
      "200:\tlearn: 9925.6154421\ttest: 13907.3721361\tbest: 13895.2025140 (197)\ttotal: 31.3s\tremaining: 25m 25s\n",
      "250:\tlearn: 9559.7167625\ttest: 13715.7040975\tbest: 13706.6576606 (248)\ttotal: 39s\tremaining: 25m 14s\n",
      "300:\tlearn: 9259.4394248\ttest: 13655.1794986\tbest: 13592.3970667 (276)\ttotal: 46.8s\tremaining: 25m 7s\n"
     ]
    },
    {
     "name": "stdout",
     "output_type": "stream",
     "text": [
      "350:\tlearn: 9032.2003244\ttest: 13600.7777844\tbest: 13577.9150819 (338)\ttotal: 54.5s\tremaining: 24m 57s\n",
      "400:\tlearn: 8842.6596776\ttest: 13483.1633629\tbest: 13483.1633629 (400)\ttotal: 1m 2s\tremaining: 24m 49s\n",
      "450:\tlearn: 8689.3492194\ttest: 13446.1423699\tbest: 13444.6294451 (441)\ttotal: 1m 9s\tremaining: 24m 41s\n",
      "500:\tlearn: 8547.7471603\ttest: 13452.3590854\tbest: 13433.1840517 (456)\ttotal: 1m 17s\tremaining: 24m 33s\n",
      "550:\tlearn: 8408.6454645\ttest: 13419.0322558\tbest: 13398.7243576 (523)\ttotal: 1m 25s\tremaining: 24m 23s\n",
      "600:\tlearn: 8281.9789820\ttest: 13372.2211702\tbest: 13372.2211702 (600)\ttotal: 1m 33s\tremaining: 24m 17s\n",
      "650:\tlearn: 8171.8750494\ttest: 13437.5740623\tbest: 13370.6225123 (602)\ttotal: 1m 40s\tremaining: 24m 9s\n",
      "700:\tlearn: 8070.3788697\ttest: 13383.2184458\tbest: 13370.6225123 (602)\ttotal: 1m 48s\tremaining: 24m 3s\n",
      "750:\tlearn: 7985.3750790\ttest: 13425.9081477\tbest: 13369.5591101 (713)\ttotal: 1m 56s\tremaining: 23m 55s\n",
      "800:\tlearn: 7904.3588546\ttest: 13383.0453012\tbest: 13369.5591101 (713)\ttotal: 2m 4s\tremaining: 23m 49s\n",
      "850:\tlearn: 7833.1511867\ttest: 13408.3013665\tbest: 13369.5591101 (713)\ttotal: 2m 12s\tremaining: 23m 44s\n",
      "900:\tlearn: 7772.7403973\ttest: 13447.2723361\tbest: 13369.5591101 (713)\ttotal: 2m 20s\tremaining: 23m 36s\n",
      "bestTest = 13369.55911\n",
      "bestIteration = 713\n",
      "Shrink model to first 714 iterations.\n",
      "-------------- Fold 3 ending ---------------\n",
      "-------------- Fold 4 starting ---------------\n",
      "Learning rate set to 0.079026\n",
      "0:\tlearn: 29955.7578913\ttest: 27226.6875490\tbest: 27226.6875490 (0)\ttotal: 438ms\tremaining: 1h 12m 59s\n",
      "50:\tlearn: 13290.6798131\ttest: 12284.3222213\tbest: 12284.3222213 (50)\ttotal: 8.06s\tremaining: 26m 12s\n",
      "100:\tlearn: 11693.1715924\ttest: 11203.1155874\tbest: 11203.1155874 (100)\ttotal: 15.8s\tremaining: 25m 47s\n",
      "150:\tlearn: 10787.8774367\ttest: 10672.0817468\tbest: 10672.0817468 (150)\ttotal: 23.6s\tremaining: 25m 37s\n",
      "200:\tlearn: 10252.3238138\ttest: 10459.4747691\tbest: 10455.7031169 (199)\ttotal: 31.4s\tremaining: 25m 28s\n",
      "250:\tlearn: 9868.6100943\ttest: 10287.2361751\tbest: 10287.2361751 (250)\ttotal: 38.9s\tremaining: 25m 12s\n",
      "300:\tlearn: 9591.1517372\ttest: 10177.2327204\tbest: 10177.2327204 (300)\ttotal: 46.4s\tremaining: 24m 54s\n",
      "350:\tlearn: 9358.5728464\ttest: 10159.0112379\tbest: 10151.9239724 (337)\ttotal: 53.9s\tremaining: 24m 42s\n",
      "400:\tlearn: 9183.7932637\ttest: 10113.5548884\tbest: 10112.2246764 (397)\ttotal: 1m 1s\tremaining: 24m 37s\n",
      "450:\tlearn: 9014.1341754\ttest: 10096.9234536\tbest: 10086.9530079 (429)\ttotal: 1m 9s\tremaining: 24m 29s\n",
      "500:\tlearn: 8865.5508292\ttest: 10071.1298129\tbest: 10057.6102079 (496)\ttotal: 1m 17s\tremaining: 24m 22s\n",
      "550:\tlearn: 8734.2873499\ttest: 10079.6213134\tbest: 10057.6102079 (496)\ttotal: 1m 24s\tremaining: 24m 13s\n",
      "600:\tlearn: 8619.3377035\ttest: 10088.9801224\tbest: 10057.6102079 (496)\ttotal: 1m 32s\tremaining: 24m 5s\n",
      "650:\tlearn: 8520.5336593\ttest: 10067.3614600\tbest: 10057.6102079 (496)\ttotal: 1m 40s\tremaining: 23m 58s\n",
      "bestTest = 10057.61021\n",
      "bestIteration = 496\n",
      "Shrink model to first 497 iterations.\n",
      "-------------- Fold 4 ending ---------------\n"
     ]
    }
   ],
   "source": [
    "count = 0\n",
    "for train_idx, val_idx in gkfold.split(training_data_df, groups=training_data_df['주소_건축년도']):\n",
    "    print('-------------- Fold {} starting ---------------'.format(count))\n",
    "    \n",
    "    x_train = training_data_df.drop(columns=['주소_건축년도', '거래/보증금(만원)']).loc[train_idx, :]\n",
    "    y_train = training_data_df['거래/보증금(만원)'].loc[train_idx]\n",
    "    \n",
    "    x_val = training_data_df.drop(columns=['주소_건축년도', '거래/보증금(만원)']).loc[val_idx, :]\n",
    "    y_val = training_data_df['거래/보증금(만원)'].loc[val_idx]\n",
    "    \n",
    "    train_pool = catboost.Pool(x_train, y_train, cat_features=cat_cols)\n",
    "    val_pool = catboost.Pool(x_val, y_val, cat_features=cat_cols)\n",
    "    \n",
    "    model = catboost.CatBoostRegressor(iterations=10000, depth=6, task_type='GPU', loss_function='RMSE')\n",
    "    \n",
    "    model.fit(train_pool, eval_set=val_pool, verbose=50, early_stopping_rounds=200)\n",
    "    \n",
    "    print('-------------- Fold {} ending ---------------'.format(count))\n",
    "    count += 1"
   ]
  },
  {
   "cell_type": "code",
   "execution_count": null,
   "metadata": {},
   "outputs": [],
   "source": []
  },
  {
   "cell_type": "code",
   "execution_count": null,
   "metadata": {},
   "outputs": [],
   "source": []
  },
  {
   "cell_type": "code",
   "execution_count": null,
   "metadata": {},
   "outputs": [],
   "source": []
  },
  {
   "cell_type": "code",
   "execution_count": null,
   "metadata": {},
   "outputs": [],
   "source": []
  },
  {
   "cell_type": "code",
   "execution_count": null,
   "metadata": {},
   "outputs": [],
   "source": []
  },
  {
   "cell_type": "code",
   "execution_count": null,
   "metadata": {},
   "outputs": [],
   "source": []
  }
 ],
 "metadata": {
  "kernelspec": {
   "display_name": "Python 3",
   "language": "python",
   "name": "python3"
  },
  "language_info": {
   "codemirror_mode": {
    "name": "ipython",
    "version": 3
   },
   "file_extension": ".py",
   "mimetype": "text/x-python",
   "name": "python",
   "nbconvert_exporter": "python",
   "pygments_lexer": "ipython3",
   "version": "3.7.9"
  }
 },
 "nbformat": 4,
 "nbformat_minor": 4
}
