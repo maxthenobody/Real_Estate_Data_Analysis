{
 "cells": [
  {
   "cell_type": "code",
   "execution_count": 1,
   "metadata": {},
   "outputs": [],
   "source": [
    "import pandas as pd\n",
    "import numpy as np\n",
    "import os\n",
    "pd.set_option('display.max_rows', 500)\n",
    "pd.set_option('display.max_columns', 500)\n",
    "from tqdm import tqdm\n",
    "import matplotlib.pyplot as plt\n",
    "import seaborn as sns\n",
    "import matplotlib\n",
    "matplotlib.rcParams['axes.unicode_minus'] = False\n",
    "pd.options.mode.chained_assignment = None  # default='warn'\n",
    "plt.rcParams['font.family'] = 'Malgun Gothic'\n",
    "font = {'size': 16}\n",
    "matplotlib.rc('font', **font)\n",
    "tqdm.pandas()"
   ]
  },
  {
   "cell_type": "code",
   "execution_count": 2,
   "metadata": {},
   "outputs": [
    {
     "name": "stdout",
     "output_type": "stream",
     "text": [
      "(5188101, 18)\n"
     ]
    },
    {
     "data": {
      "text/html": [
       "<div>\n",
       "<style scoped>\n",
       "    .dataframe tbody tr th:only-of-type {\n",
       "        vertical-align: middle;\n",
       "    }\n",
       "\n",
       "    .dataframe tbody tr th {\n",
       "        vertical-align: top;\n",
       "    }\n",
       "\n",
       "    .dataframe thead th {\n",
       "        text-align: right;\n",
       "    }\n",
       "</style>\n",
       "<table border=\"1\" class=\"dataframe\">\n",
       "  <thead>\n",
       "    <tr style=\"text-align: right;\">\n",
       "      <th></th>\n",
       "      <th>시군구</th>\n",
       "      <th>번지</th>\n",
       "      <th>본번</th>\n",
       "      <th>부번</th>\n",
       "      <th>건물/단지명</th>\n",
       "      <th>거래유형</th>\n",
       "      <th>전용면적(㎡)</th>\n",
       "      <th>계약년월</th>\n",
       "      <th>계약일</th>\n",
       "      <th>거래/보증금(만원)</th>\n",
       "      <th>월세(만원)</th>\n",
       "      <th>층</th>\n",
       "      <th>건축년도</th>\n",
       "      <th>도로명</th>\n",
       "      <th>부동산유형</th>\n",
       "      <th>가격범위</th>\n",
       "      <th>건물단지명_키워드</th>\n",
       "      <th>브랜드</th>\n",
       "    </tr>\n",
       "  </thead>\n",
       "  <tbody>\n",
       "    <tr>\n",
       "      <th>0</th>\n",
       "      <td>서울특별시 강남구 개포동</td>\n",
       "      <td>655-2</td>\n",
       "      <td>655.0</td>\n",
       "      <td>2.0</td>\n",
       "      <td>개포2차현대아파트(220)</td>\n",
       "      <td>전세</td>\n",
       "      <td>77.75</td>\n",
       "      <td>201101</td>\n",
       "      <td>5</td>\n",
       "      <td>35000</td>\n",
       "      <td>0</td>\n",
       "      <td>7.0</td>\n",
       "      <td>1988.0</td>\n",
       "      <td>언주로 103</td>\n",
       "      <td>아파트</td>\n",
       "      <td>34000~36000</td>\n",
       "      <td>개포현대</td>\n",
       "      <td>현대</td>\n",
       "    </tr>\n",
       "    <tr>\n",
       "      <th>1</th>\n",
       "      <td>서울특별시 강남구 개포동</td>\n",
       "      <td>655-2</td>\n",
       "      <td>655.0</td>\n",
       "      <td>2.0</td>\n",
       "      <td>개포2차현대아파트(220)</td>\n",
       "      <td>전세</td>\n",
       "      <td>77.75</td>\n",
       "      <td>201101</td>\n",
       "      <td>18</td>\n",
       "      <td>20000</td>\n",
       "      <td>0</td>\n",
       "      <td>8.0</td>\n",
       "      <td>1988.0</td>\n",
       "      <td>언주로 103</td>\n",
       "      <td>아파트</td>\n",
       "      <td>18000~20000</td>\n",
       "      <td>개포현대</td>\n",
       "      <td>현대</td>\n",
       "    </tr>\n",
       "    <tr>\n",
       "      <th>2</th>\n",
       "      <td>서울특별시 강남구 개포동</td>\n",
       "      <td>655-2</td>\n",
       "      <td>655.0</td>\n",
       "      <td>2.0</td>\n",
       "      <td>개포2차현대아파트(220)</td>\n",
       "      <td>전세</td>\n",
       "      <td>77.75</td>\n",
       "      <td>201102</td>\n",
       "      <td>1</td>\n",
       "      <td>24000</td>\n",
       "      <td>0</td>\n",
       "      <td>5.0</td>\n",
       "      <td>1988.0</td>\n",
       "      <td>언주로 103</td>\n",
       "      <td>아파트</td>\n",
       "      <td>22000~24000</td>\n",
       "      <td>개포현대</td>\n",
       "      <td>현대</td>\n",
       "    </tr>\n",
       "    <tr>\n",
       "      <th>3</th>\n",
       "      <td>서울특별시 강남구 개포동</td>\n",
       "      <td>655-2</td>\n",
       "      <td>655.0</td>\n",
       "      <td>2.0</td>\n",
       "      <td>개포2차현대아파트(220)</td>\n",
       "      <td>전세</td>\n",
       "      <td>77.75</td>\n",
       "      <td>201102</td>\n",
       "      <td>11</td>\n",
       "      <td>31000</td>\n",
       "      <td>0</td>\n",
       "      <td>9.0</td>\n",
       "      <td>1988.0</td>\n",
       "      <td>언주로 103</td>\n",
       "      <td>아파트</td>\n",
       "      <td>30000~32000</td>\n",
       "      <td>개포현대</td>\n",
       "      <td>현대</td>\n",
       "    </tr>\n",
       "    <tr>\n",
       "      <th>4</th>\n",
       "      <td>서울특별시 강남구 개포동</td>\n",
       "      <td>655-2</td>\n",
       "      <td>655.0</td>\n",
       "      <td>2.0</td>\n",
       "      <td>개포2차현대아파트(220)</td>\n",
       "      <td>전세</td>\n",
       "      <td>77.75</td>\n",
       "      <td>201102</td>\n",
       "      <td>24</td>\n",
       "      <td>30500</td>\n",
       "      <td>0</td>\n",
       "      <td>9.0</td>\n",
       "      <td>1988.0</td>\n",
       "      <td>언주로 103</td>\n",
       "      <td>아파트</td>\n",
       "      <td>30000~32000</td>\n",
       "      <td>개포현대</td>\n",
       "      <td>현대</td>\n",
       "    </tr>\n",
       "  </tbody>\n",
       "</table>\n",
       "</div>"
      ],
      "text/plain": [
       "             시군구     번지     본번   부번          건물/단지명 거래유형  전용면적(㎡)    계약년월  \\\n",
       "0  서울특별시 강남구 개포동  655-2  655.0  2.0  개포2차현대아파트(220)   전세    77.75  201101   \n",
       "1  서울특별시 강남구 개포동  655-2  655.0  2.0  개포2차현대아파트(220)   전세    77.75  201101   \n",
       "2  서울특별시 강남구 개포동  655-2  655.0  2.0  개포2차현대아파트(220)   전세    77.75  201102   \n",
       "3  서울특별시 강남구 개포동  655-2  655.0  2.0  개포2차현대아파트(220)   전세    77.75  201102   \n",
       "4  서울특별시 강남구 개포동  655-2  655.0  2.0  개포2차현대아파트(220)   전세    77.75  201102   \n",
       "\n",
       "   계약일  거래/보증금(만원)  월세(만원)    층    건축년도      도로명 부동산유형         가격범위 건물단지명_키워드  \\\n",
       "0    5       35000       0  7.0  1988.0  언주로 103   아파트  34000~36000      개포현대   \n",
       "1   18       20000       0  8.0  1988.0  언주로 103   아파트  18000~20000      개포현대   \n",
       "2    1       24000       0  5.0  1988.0  언주로 103   아파트  22000~24000      개포현대   \n",
       "3   11       31000       0  9.0  1988.0  언주로 103   아파트  30000~32000      개포현대   \n",
       "4   24       30500       0  9.0  1988.0  언주로 103   아파트  30000~32000      개포현대   \n",
       "\n",
       "  브랜드  \n",
       "0  현대  \n",
       "1  현대  \n",
       "2  현대  \n",
       "3  현대  \n",
       "4  현대  "
      ]
     },
     "execution_count": 2,
     "metadata": {},
     "output_type": "execute_result"
    }
   ],
   "source": [
    "main_data_df = pd.read_csv('./Prepped Data/main_data_baseline_20211202.csv')\n",
    "print(main_data_df.shape)\n",
    "main_data_df.head()"
   ]
  },
  {
   "cell_type": "code",
   "execution_count": 3,
   "metadata": {},
   "outputs": [
    {
     "data": {
      "text/plain": [
       "2755"
      ]
     },
     "execution_count": 3,
     "metadata": {},
     "output_type": "execute_result"
    }
   ],
   "source": [
    "main_data_df['번지'].isna().sum()"
   ]
  },
  {
   "cell_type": "code",
   "execution_count": 4,
   "metadata": {},
   "outputs": [
    {
     "data": {
      "text/plain": [
       "274"
      ]
     },
     "execution_count": 4,
     "metadata": {},
     "output_type": "execute_result"
    }
   ],
   "source": [
    "main_data_df['부번'].isna().sum()"
   ]
  },
  {
   "cell_type": "code",
   "execution_count": 5,
   "metadata": {},
   "outputs": [
    {
     "data": {
      "text/plain": [
       "0"
      ]
     },
     "execution_count": 5,
     "metadata": {},
     "output_type": "execute_result"
    }
   ],
   "source": [
    "main_data_df['도로명'].isna().sum()"
   ]
  },
  {
   "cell_type": "code",
   "execution_count": 6,
   "metadata": {},
   "outputs": [
    {
     "data": {
      "text/plain": [
       "             65601\n",
       "올림픽로 435     15925\n",
       "올림픽로 99      13442\n",
       "올림픽로 135     13032\n",
       "삼성로 212      12477\n",
       "             ...  \n",
       "광장로1가길           1\n",
       "도림로14길 9         1\n",
       "우마1길 7-4         1\n",
       "토정로33길 36        1\n",
       "자하문로28길 9        1\n",
       "Name: 도로명, Length: 114779, dtype: int64"
      ]
     },
     "execution_count": 6,
     "metadata": {},
     "output_type": "execute_result"
    }
   ],
   "source": [
    "main_data_df['도로명'].value_counts()"
   ]
  },
  {
   "cell_type": "code",
   "execution_count": 8,
   "metadata": {},
   "outputs": [
    {
     "data": {
      "text/plain": [
       "65601"
      ]
     },
     "execution_count": 8,
     "metadata": {},
     "output_type": "execute_result"
    }
   ],
   "source": [
    "(main_data_df['도로명'] == ' ').sum()"
   ]
  },
  {
   "cell_type": "code",
   "execution_count": 9,
   "metadata": {},
   "outputs": [
    {
     "name": "stdout",
     "output_type": "stream",
     "text": [
      "(65601, 18)\n"
     ]
    },
    {
     "data": {
      "text/html": [
       "<div>\n",
       "<style scoped>\n",
       "    .dataframe tbody tr th:only-of-type {\n",
       "        vertical-align: middle;\n",
       "    }\n",
       "\n",
       "    .dataframe tbody tr th {\n",
       "        vertical-align: top;\n",
       "    }\n",
       "\n",
       "    .dataframe thead th {\n",
       "        text-align: right;\n",
       "    }\n",
       "</style>\n",
       "<table border=\"1\" class=\"dataframe\">\n",
       "  <thead>\n",
       "    <tr style=\"text-align: right;\">\n",
       "      <th></th>\n",
       "      <th>시군구</th>\n",
       "      <th>번지</th>\n",
       "      <th>본번</th>\n",
       "      <th>부번</th>\n",
       "      <th>건물/단지명</th>\n",
       "      <th>거래유형</th>\n",
       "      <th>전용면적(㎡)</th>\n",
       "      <th>계약년월</th>\n",
       "      <th>계약일</th>\n",
       "      <th>거래/보증금(만원)</th>\n",
       "      <th>월세(만원)</th>\n",
       "      <th>층</th>\n",
       "      <th>건축년도</th>\n",
       "      <th>도로명</th>\n",
       "      <th>부동산유형</th>\n",
       "      <th>가격범위</th>\n",
       "      <th>건물단지명_키워드</th>\n",
       "      <th>브랜드</th>\n",
       "    </tr>\n",
       "  </thead>\n",
       "  <tbody>\n",
       "    <tr>\n",
       "      <th>145719</th>\n",
       "      <td>서울특별시 종로구 평창동</td>\n",
       "      <td>596</td>\n",
       "      <td>596.0</td>\n",
       "      <td>0.0</td>\n",
       "      <td>삼성</td>\n",
       "      <td>전세</td>\n",
       "      <td>84.930</td>\n",
       "      <td>201112</td>\n",
       "      <td>13</td>\n",
       "      <td>25000</td>\n",
       "      <td>0</td>\n",
       "      <td>14.0</td>\n",
       "      <td>1998.0</td>\n",
       "      <td></td>\n",
       "      <td>아파트</td>\n",
       "      <td>24000~26000</td>\n",
       "      <td>삼성</td>\n",
       "      <td>삼성</td>\n",
       "    </tr>\n",
       "    <tr>\n",
       "      <th>209617</th>\n",
       "      <td>서울특별시 노원구 월계동</td>\n",
       "      <td>382-15</td>\n",
       "      <td>382.0</td>\n",
       "      <td>15.0</td>\n",
       "      <td>새봄드림빌</td>\n",
       "      <td>월세</td>\n",
       "      <td>59.916</td>\n",
       "      <td>201201</td>\n",
       "      <td>17</td>\n",
       "      <td>2000</td>\n",
       "      <td>85</td>\n",
       "      <td>9.0</td>\n",
       "      <td>2012.0</td>\n",
       "      <td></td>\n",
       "      <td>아파트</td>\n",
       "      <td>1억4천 이하</td>\n",
       "      <td>새봄드림빌</td>\n",
       "      <td>기타</td>\n",
       "    </tr>\n",
       "    <tr>\n",
       "      <th>209618</th>\n",
       "      <td>서울특별시 노원구 월계동</td>\n",
       "      <td>382-15</td>\n",
       "      <td>382.0</td>\n",
       "      <td>15.0</td>\n",
       "      <td>새봄드림빌</td>\n",
       "      <td>월세</td>\n",
       "      <td>84.831</td>\n",
       "      <td>201207</td>\n",
       "      <td>11</td>\n",
       "      <td>3000</td>\n",
       "      <td>100</td>\n",
       "      <td>1.0</td>\n",
       "      <td>2012.0</td>\n",
       "      <td></td>\n",
       "      <td>아파트</td>\n",
       "      <td>1억4천 이하</td>\n",
       "      <td>새봄드림빌</td>\n",
       "      <td>기타</td>\n",
       "    </tr>\n",
       "    <tr>\n",
       "      <th>298928</th>\n",
       "      <td>서울특별시 종로구 평창동</td>\n",
       "      <td>596</td>\n",
       "      <td>596.0</td>\n",
       "      <td>0.0</td>\n",
       "      <td>삼성</td>\n",
       "      <td>월세</td>\n",
       "      <td>84.930</td>\n",
       "      <td>201201</td>\n",
       "      <td>14</td>\n",
       "      <td>5000</td>\n",
       "      <td>130</td>\n",
       "      <td>12.0</td>\n",
       "      <td>1998.0</td>\n",
       "      <td></td>\n",
       "      <td>아파트</td>\n",
       "      <td>1억4천 이하</td>\n",
       "      <td>삼성</td>\n",
       "      <td>삼성</td>\n",
       "    </tr>\n",
       "    <tr>\n",
       "      <th>298932</th>\n",
       "      <td>서울특별시 종로구 평창동</td>\n",
       "      <td>596</td>\n",
       "      <td>596.0</td>\n",
       "      <td>0.0</td>\n",
       "      <td>삼성</td>\n",
       "      <td>전세</td>\n",
       "      <td>84.930</td>\n",
       "      <td>201206</td>\n",
       "      <td>2</td>\n",
       "      <td>20000</td>\n",
       "      <td>0</td>\n",
       "      <td>7.0</td>\n",
       "      <td>1998.0</td>\n",
       "      <td></td>\n",
       "      <td>아파트</td>\n",
       "      <td>18000~20000</td>\n",
       "      <td>삼성</td>\n",
       "      <td>삼성</td>\n",
       "    </tr>\n",
       "  </tbody>\n",
       "</table>\n",
       "</div>"
      ],
      "text/plain": [
       "                  시군구      번지     본번    부번 건물/단지명 거래유형  전용면적(㎡)    계약년월  계약일  \\\n",
       "145719  서울특별시 종로구 평창동     596  596.0   0.0     삼성   전세   84.930  201112   13   \n",
       "209617  서울특별시 노원구 월계동  382-15  382.0  15.0  새봄드림빌   월세   59.916  201201   17   \n",
       "209618  서울특별시 노원구 월계동  382-15  382.0  15.0  새봄드림빌   월세   84.831  201207   11   \n",
       "298928  서울특별시 종로구 평창동     596  596.0   0.0     삼성   월세   84.930  201201   14   \n",
       "298932  서울특별시 종로구 평창동     596  596.0   0.0     삼성   전세   84.930  201206    2   \n",
       "\n",
       "        거래/보증금(만원)  월세(만원)     층    건축년도 도로명 부동산유형         가격범위 건물단지명_키워드 브랜드  \n",
       "145719       25000       0  14.0  1998.0       아파트  24000~26000        삼성  삼성  \n",
       "209617        2000      85   9.0  2012.0       아파트      1억4천 이하     새봄드림빌  기타  \n",
       "209618        3000     100   1.0  2012.0       아파트      1억4천 이하     새봄드림빌  기타  \n",
       "298928        5000     130  12.0  1998.0       아파트      1억4천 이하        삼성  삼성  \n",
       "298932       20000       0   7.0  1998.0       아파트  18000~20000        삼성  삼성  "
      ]
     },
     "execution_count": 9,
     "metadata": {},
     "output_type": "execute_result"
    }
   ],
   "source": [
    "space_df = main_data_df[main_data_df['도로명'] == ' ']\n",
    "print(space_df.shape)\n",
    "space_df.head()"
   ]
  },
  {
   "cell_type": "code",
   "execution_count": 10,
   "metadata": {},
   "outputs": [],
   "source": [
    "main_data_df.loc[space_df.index, '도로명'] = np.nan"
   ]
  },
  {
   "cell_type": "code",
   "execution_count": 11,
   "metadata": {},
   "outputs": [
    {
     "data": {
      "text/plain": [
       "65601"
      ]
     },
     "execution_count": 11,
     "metadata": {},
     "output_type": "execute_result"
    }
   ],
   "source": [
    "main_data_df['도로명'].isna().sum()"
   ]
  },
  {
   "cell_type": "code",
   "execution_count": 12,
   "metadata": {},
   "outputs": [
    {
     "data": {
      "text/plain": [
       "올림픽로 435         15925\n",
       "올림픽로 99          13442\n",
       "올림픽로 135         13032\n",
       "삼성로 212          12477\n",
       "송파대로 345         10931\n",
       "                 ...  \n",
       "우마1길 7-4             1\n",
       "광장로1가길               1\n",
       "도림로14길 9             1\n",
       "토정로33길 36            1\n",
       "봉은사로109길 49-7        1\n",
       "Name: 도로명, Length: 114778, dtype: int64"
      ]
     },
     "execution_count": 12,
     "metadata": {},
     "output_type": "execute_result"
    }
   ],
   "source": [
    "main_data_df['도로명'].value_counts()"
   ]
  },
  {
   "cell_type": "code",
   "execution_count": 13,
   "metadata": {},
   "outputs": [
    {
     "name": "stdout",
     "output_type": "stream",
     "text": [
      "(15925, 18)\n"
     ]
    },
    {
     "data": {
      "text/html": [
       "<div>\n",
       "<style scoped>\n",
       "    .dataframe tbody tr th:only-of-type {\n",
       "        vertical-align: middle;\n",
       "    }\n",
       "\n",
       "    .dataframe tbody tr th {\n",
       "        vertical-align: top;\n",
       "    }\n",
       "\n",
       "    .dataframe thead th {\n",
       "        text-align: right;\n",
       "    }\n",
       "</style>\n",
       "<table border=\"1\" class=\"dataframe\">\n",
       "  <thead>\n",
       "    <tr style=\"text-align: right;\">\n",
       "      <th></th>\n",
       "      <th>시군구</th>\n",
       "      <th>번지</th>\n",
       "      <th>본번</th>\n",
       "      <th>부번</th>\n",
       "      <th>건물/단지명</th>\n",
       "      <th>거래유형</th>\n",
       "      <th>전용면적(㎡)</th>\n",
       "      <th>계약년월</th>\n",
       "      <th>계약일</th>\n",
       "      <th>거래/보증금(만원)</th>\n",
       "      <th>월세(만원)</th>\n",
       "      <th>층</th>\n",
       "      <th>건축년도</th>\n",
       "      <th>도로명</th>\n",
       "      <th>부동산유형</th>\n",
       "      <th>가격범위</th>\n",
       "      <th>건물단지명_키워드</th>\n",
       "      <th>브랜드</th>\n",
       "    </tr>\n",
       "  </thead>\n",
       "  <tbody>\n",
       "    <tr>\n",
       "      <th>117005</th>\n",
       "      <td>서울특별시 송파구 신천동</td>\n",
       "      <td>17</td>\n",
       "      <td>17.0</td>\n",
       "      <td>0.0</td>\n",
       "      <td>파크리오</td>\n",
       "      <td>전세</td>\n",
       "      <td>84.97</td>\n",
       "      <td>201101</td>\n",
       "      <td>3</td>\n",
       "      <td>42000</td>\n",
       "      <td>0</td>\n",
       "      <td>18.0</td>\n",
       "      <td>2008.0</td>\n",
       "      <td>올림픽로 435</td>\n",
       "      <td>아파트</td>\n",
       "      <td>40000~42000</td>\n",
       "      <td>파크리오</td>\n",
       "      <td>기타</td>\n",
       "    </tr>\n",
       "    <tr>\n",
       "      <th>117006</th>\n",
       "      <td>서울특별시 송파구 신천동</td>\n",
       "      <td>17</td>\n",
       "      <td>17.0</td>\n",
       "      <td>0.0</td>\n",
       "      <td>파크리오</td>\n",
       "      <td>전세</td>\n",
       "      <td>59.95</td>\n",
       "      <td>201101</td>\n",
       "      <td>3</td>\n",
       "      <td>36000</td>\n",
       "      <td>0</td>\n",
       "      <td>20.0</td>\n",
       "      <td>2008.0</td>\n",
       "      <td>올림픽로 435</td>\n",
       "      <td>아파트</td>\n",
       "      <td>34000~36000</td>\n",
       "      <td>파크리오</td>\n",
       "      <td>기타</td>\n",
       "    </tr>\n",
       "    <tr>\n",
       "      <th>117007</th>\n",
       "      <td>서울특별시 송파구 신천동</td>\n",
       "      <td>17</td>\n",
       "      <td>17.0</td>\n",
       "      <td>0.0</td>\n",
       "      <td>파크리오</td>\n",
       "      <td>월세</td>\n",
       "      <td>84.97</td>\n",
       "      <td>201101</td>\n",
       "      <td>3</td>\n",
       "      <td>10000</td>\n",
       "      <td>170</td>\n",
       "      <td>11.0</td>\n",
       "      <td>2008.0</td>\n",
       "      <td>올림픽로 435</td>\n",
       "      <td>아파트</td>\n",
       "      <td>1억4천 이하</td>\n",
       "      <td>파크리오</td>\n",
       "      <td>기타</td>\n",
       "    </tr>\n",
       "    <tr>\n",
       "      <th>117008</th>\n",
       "      <td>서울특별시 송파구 신천동</td>\n",
       "      <td>17</td>\n",
       "      <td>17.0</td>\n",
       "      <td>0.0</td>\n",
       "      <td>파크리오</td>\n",
       "      <td>전세</td>\n",
       "      <td>84.79</td>\n",
       "      <td>201101</td>\n",
       "      <td>4</td>\n",
       "      <td>43000</td>\n",
       "      <td>0</td>\n",
       "      <td>16.0</td>\n",
       "      <td>2008.0</td>\n",
       "      <td>올림픽로 435</td>\n",
       "      <td>아파트</td>\n",
       "      <td>42000~44000</td>\n",
       "      <td>파크리오</td>\n",
       "      <td>기타</td>\n",
       "    </tr>\n",
       "    <tr>\n",
       "      <th>117009</th>\n",
       "      <td>서울특별시 송파구 신천동</td>\n",
       "      <td>17</td>\n",
       "      <td>17.0</td>\n",
       "      <td>0.0</td>\n",
       "      <td>파크리오</td>\n",
       "      <td>전세</td>\n",
       "      <td>59.95</td>\n",
       "      <td>201101</td>\n",
       "      <td>4</td>\n",
       "      <td>35000</td>\n",
       "      <td>0</td>\n",
       "      <td>8.0</td>\n",
       "      <td>2008.0</td>\n",
       "      <td>올림픽로 435</td>\n",
       "      <td>아파트</td>\n",
       "      <td>34000~36000</td>\n",
       "      <td>파크리오</td>\n",
       "      <td>기타</td>\n",
       "    </tr>\n",
       "  </tbody>\n",
       "</table>\n",
       "</div>"
      ],
      "text/plain": [
       "                  시군구  번지    본번   부번 건물/단지명 거래유형  전용면적(㎡)    계약년월  계약일  \\\n",
       "117005  서울특별시 송파구 신천동  17  17.0  0.0   파크리오   전세    84.97  201101    3   \n",
       "117006  서울특별시 송파구 신천동  17  17.0  0.0   파크리오   전세    59.95  201101    3   \n",
       "117007  서울특별시 송파구 신천동  17  17.0  0.0   파크리오   월세    84.97  201101    3   \n",
       "117008  서울특별시 송파구 신천동  17  17.0  0.0   파크리오   전세    84.79  201101    4   \n",
       "117009  서울특별시 송파구 신천동  17  17.0  0.0   파크리오   전세    59.95  201101    4   \n",
       "\n",
       "        거래/보증금(만원)  월세(만원)     층    건축년도       도로명 부동산유형         가격범위  \\\n",
       "117005       42000       0  18.0  2008.0  올림픽로 435   아파트  40000~42000   \n",
       "117006       36000       0  20.0  2008.0  올림픽로 435   아파트  34000~36000   \n",
       "117007       10000     170  11.0  2008.0  올림픽로 435   아파트      1억4천 이하   \n",
       "117008       43000       0  16.0  2008.0  올림픽로 435   아파트  42000~44000   \n",
       "117009       35000       0   8.0  2008.0  올림픽로 435   아파트  34000~36000   \n",
       "\n",
       "       건물단지명_키워드 브랜드  \n",
       "117005      파크리오  기타  \n",
       "117006      파크리오  기타  \n",
       "117007      파크리오  기타  \n",
       "117008      파크리오  기타  \n",
       "117009      파크리오  기타  "
      ]
     },
     "execution_count": 13,
     "metadata": {},
     "output_type": "execute_result"
    }
   ],
   "source": [
    "inv_df = main_data_df[main_data_df['도로명'] == '올림픽로 435']\n",
    "print(inv_df.shape)\n",
    "inv_df.head()"
   ]
  },
  {
   "cell_type": "code",
   "execution_count": 14,
   "metadata": {},
   "outputs": [
    {
     "data": {
      "text/plain": [
       "1"
      ]
     },
     "execution_count": 14,
     "metadata": {},
     "output_type": "execute_result"
    }
   ],
   "source": [
    "inv_df['번지'].nunique()"
   ]
  },
  {
   "cell_type": "code",
   "execution_count": 15,
   "metadata": {},
   "outputs": [
    {
     "data": {
      "text/plain": [
       "1"
      ]
     },
     "execution_count": 15,
     "metadata": {},
     "output_type": "execute_result"
    }
   ],
   "source": [
    "inv_df['시군구'].nunique()"
   ]
  },
  {
   "cell_type": "code",
   "execution_count": 16,
   "metadata": {},
   "outputs": [
    {
     "data": {
      "text/plain": [
       "dtype('int64')"
      ]
     },
     "execution_count": 16,
     "metadata": {},
     "output_type": "execute_result"
    }
   ],
   "source": [
    "main_data_df['계약년월'].dtype"
   ]
  },
  {
   "cell_type": "code",
   "execution_count": 17,
   "metadata": {},
   "outputs": [
    {
     "data": {
      "text/plain": [
       "dtype('int64')"
      ]
     },
     "execution_count": 17,
     "metadata": {},
     "output_type": "execute_result"
    }
   ],
   "source": [
    "main_data_df['계약일'].dtype"
   ]
  },
  {
   "cell_type": "code",
   "execution_count": 18,
   "metadata": {},
   "outputs": [],
   "source": [
    "main_data_df['계약년월'] = main_data_df['계약년월'].astype(str)"
   ]
  },
  {
   "cell_type": "code",
   "execution_count": 19,
   "metadata": {},
   "outputs": [],
   "source": [
    "main_data_df['계약일'] = main_data_df['계약일'].astype(str)"
   ]
  },
  {
   "cell_type": "code",
   "execution_count": 20,
   "metadata": {},
   "outputs": [
    {
     "data": {
      "text/plain": [
       "20    191293\n",
       "10    184788\n",
       "15    180596\n",
       "28    177073\n",
       "23    175001\n",
       "27    174017\n",
       "16    173316\n",
       "18    172858\n",
       "25    171581\n",
       "14    171197\n",
       "9     171170\n",
       "26    170707\n",
       "11    170610\n",
       "19    170452\n",
       "22    170164\n",
       "13    169968\n",
       "21    169963\n",
       "12    169957\n",
       "30    168269\n",
       "17    167199\n",
       "7     167087\n",
       "8     166453\n",
       "24    166364\n",
       "5     164477\n",
       "4     161313\n",
       "6     161169\n",
       "1     160901\n",
       "2     157790\n",
       "29    157222\n",
       "3     156137\n",
       "31     99009\n",
       "Name: 계약일, dtype: int64"
      ]
     },
     "execution_count": 20,
     "metadata": {},
     "output_type": "execute_result"
    }
   ],
   "source": [
    "main_data_df['계약일'].value_counts()"
   ]
  },
  {
   "cell_type": "code",
   "execution_count": 21,
   "metadata": {},
   "outputs": [],
   "source": [
    "main_data_df['계약날짜'] = main_data_df['계약년월'] + main_data_df['계약일'].apply(lambda x: '0'+x if len(x) < 2 else x)"
   ]
  },
  {
   "cell_type": "code",
   "execution_count": 22,
   "metadata": {},
   "outputs": [
    {
     "data": {
      "text/plain": [
       "0    20110105\n",
       "1    20110118\n",
       "2    20110201\n",
       "3    20110211\n",
       "4    20110224\n",
       "Name: 계약날짜, dtype: object"
      ]
     },
     "execution_count": 22,
     "metadata": {},
     "output_type": "execute_result"
    }
   ],
   "source": [
    "main_data_df['계약날짜'].iloc[:5]"
   ]
  },
  {
   "cell_type": "code",
   "execution_count": 23,
   "metadata": {},
   "outputs": [],
   "source": [
    "main_data_df['계약날짜'] = pd.to_datetime(main_data_df['계약날짜'], format='%Y%m%d')"
   ]
  },
  {
   "cell_type": "code",
   "execution_count": 24,
   "metadata": {},
   "outputs": [
    {
     "data": {
      "text/html": [
       "<div>\n",
       "<style scoped>\n",
       "    .dataframe tbody tr th:only-of-type {\n",
       "        vertical-align: middle;\n",
       "    }\n",
       "\n",
       "    .dataframe tbody tr th {\n",
       "        vertical-align: top;\n",
       "    }\n",
       "\n",
       "    .dataframe thead th {\n",
       "        text-align: right;\n",
       "    }\n",
       "</style>\n",
       "<table border=\"1\" class=\"dataframe\">\n",
       "  <thead>\n",
       "    <tr style=\"text-align: right;\">\n",
       "      <th></th>\n",
       "      <th>시군구</th>\n",
       "      <th>번지</th>\n",
       "      <th>본번</th>\n",
       "      <th>부번</th>\n",
       "      <th>건물/단지명</th>\n",
       "      <th>거래유형</th>\n",
       "      <th>전용면적(㎡)</th>\n",
       "      <th>계약년월</th>\n",
       "      <th>계약일</th>\n",
       "      <th>거래/보증금(만원)</th>\n",
       "      <th>월세(만원)</th>\n",
       "      <th>층</th>\n",
       "      <th>건축년도</th>\n",
       "      <th>도로명</th>\n",
       "      <th>부동산유형</th>\n",
       "      <th>가격범위</th>\n",
       "      <th>건물단지명_키워드</th>\n",
       "      <th>브랜드</th>\n",
       "      <th>계약날짜</th>\n",
       "    </tr>\n",
       "  </thead>\n",
       "  <tbody>\n",
       "    <tr>\n",
       "      <th>0</th>\n",
       "      <td>서울특별시 강남구 개포동</td>\n",
       "      <td>655-2</td>\n",
       "      <td>655.0</td>\n",
       "      <td>2.0</td>\n",
       "      <td>개포2차현대아파트(220)</td>\n",
       "      <td>전세</td>\n",
       "      <td>77.75</td>\n",
       "      <td>201101</td>\n",
       "      <td>5</td>\n",
       "      <td>35000</td>\n",
       "      <td>0</td>\n",
       "      <td>7.0</td>\n",
       "      <td>1988.0</td>\n",
       "      <td>언주로 103</td>\n",
       "      <td>아파트</td>\n",
       "      <td>34000~36000</td>\n",
       "      <td>개포현대</td>\n",
       "      <td>현대</td>\n",
       "      <td>2011-01-05</td>\n",
       "    </tr>\n",
       "    <tr>\n",
       "      <th>1</th>\n",
       "      <td>서울특별시 강남구 개포동</td>\n",
       "      <td>655-2</td>\n",
       "      <td>655.0</td>\n",
       "      <td>2.0</td>\n",
       "      <td>개포2차현대아파트(220)</td>\n",
       "      <td>전세</td>\n",
       "      <td>77.75</td>\n",
       "      <td>201101</td>\n",
       "      <td>18</td>\n",
       "      <td>20000</td>\n",
       "      <td>0</td>\n",
       "      <td>8.0</td>\n",
       "      <td>1988.0</td>\n",
       "      <td>언주로 103</td>\n",
       "      <td>아파트</td>\n",
       "      <td>18000~20000</td>\n",
       "      <td>개포현대</td>\n",
       "      <td>현대</td>\n",
       "      <td>2011-01-18</td>\n",
       "    </tr>\n",
       "    <tr>\n",
       "      <th>2</th>\n",
       "      <td>서울특별시 강남구 개포동</td>\n",
       "      <td>655-2</td>\n",
       "      <td>655.0</td>\n",
       "      <td>2.0</td>\n",
       "      <td>개포2차현대아파트(220)</td>\n",
       "      <td>전세</td>\n",
       "      <td>77.75</td>\n",
       "      <td>201102</td>\n",
       "      <td>1</td>\n",
       "      <td>24000</td>\n",
       "      <td>0</td>\n",
       "      <td>5.0</td>\n",
       "      <td>1988.0</td>\n",
       "      <td>언주로 103</td>\n",
       "      <td>아파트</td>\n",
       "      <td>22000~24000</td>\n",
       "      <td>개포현대</td>\n",
       "      <td>현대</td>\n",
       "      <td>2011-02-01</td>\n",
       "    </tr>\n",
       "    <tr>\n",
       "      <th>3</th>\n",
       "      <td>서울특별시 강남구 개포동</td>\n",
       "      <td>655-2</td>\n",
       "      <td>655.0</td>\n",
       "      <td>2.0</td>\n",
       "      <td>개포2차현대아파트(220)</td>\n",
       "      <td>전세</td>\n",
       "      <td>77.75</td>\n",
       "      <td>201102</td>\n",
       "      <td>11</td>\n",
       "      <td>31000</td>\n",
       "      <td>0</td>\n",
       "      <td>9.0</td>\n",
       "      <td>1988.0</td>\n",
       "      <td>언주로 103</td>\n",
       "      <td>아파트</td>\n",
       "      <td>30000~32000</td>\n",
       "      <td>개포현대</td>\n",
       "      <td>현대</td>\n",
       "      <td>2011-02-11</td>\n",
       "    </tr>\n",
       "    <tr>\n",
       "      <th>4</th>\n",
       "      <td>서울특별시 강남구 개포동</td>\n",
       "      <td>655-2</td>\n",
       "      <td>655.0</td>\n",
       "      <td>2.0</td>\n",
       "      <td>개포2차현대아파트(220)</td>\n",
       "      <td>전세</td>\n",
       "      <td>77.75</td>\n",
       "      <td>201102</td>\n",
       "      <td>24</td>\n",
       "      <td>30500</td>\n",
       "      <td>0</td>\n",
       "      <td>9.0</td>\n",
       "      <td>1988.0</td>\n",
       "      <td>언주로 103</td>\n",
       "      <td>아파트</td>\n",
       "      <td>30000~32000</td>\n",
       "      <td>개포현대</td>\n",
       "      <td>현대</td>\n",
       "      <td>2011-02-24</td>\n",
       "    </tr>\n",
       "  </tbody>\n",
       "</table>\n",
       "</div>"
      ],
      "text/plain": [
       "             시군구     번지     본번   부번          건물/단지명 거래유형  전용면적(㎡)    계약년월 계약일  \\\n",
       "0  서울특별시 강남구 개포동  655-2  655.0  2.0  개포2차현대아파트(220)   전세    77.75  201101   5   \n",
       "1  서울특별시 강남구 개포동  655-2  655.0  2.0  개포2차현대아파트(220)   전세    77.75  201101  18   \n",
       "2  서울특별시 강남구 개포동  655-2  655.0  2.0  개포2차현대아파트(220)   전세    77.75  201102   1   \n",
       "3  서울특별시 강남구 개포동  655-2  655.0  2.0  개포2차현대아파트(220)   전세    77.75  201102  11   \n",
       "4  서울특별시 강남구 개포동  655-2  655.0  2.0  개포2차현대아파트(220)   전세    77.75  201102  24   \n",
       "\n",
       "   거래/보증금(만원)  월세(만원)    층    건축년도      도로명 부동산유형         가격범위 건물단지명_키워드 브랜드  \\\n",
       "0       35000       0  7.0  1988.0  언주로 103   아파트  34000~36000      개포현대  현대   \n",
       "1       20000       0  8.0  1988.0  언주로 103   아파트  18000~20000      개포현대  현대   \n",
       "2       24000       0  5.0  1988.0  언주로 103   아파트  22000~24000      개포현대  현대   \n",
       "3       31000       0  9.0  1988.0  언주로 103   아파트  30000~32000      개포현대  현대   \n",
       "4       30500       0  9.0  1988.0  언주로 103   아파트  30000~32000      개포현대  현대   \n",
       "\n",
       "        계약날짜  \n",
       "0 2011-01-05  \n",
       "1 2011-01-18  \n",
       "2 2011-02-01  \n",
       "3 2011-02-11  \n",
       "4 2011-02-24  "
      ]
     },
     "execution_count": 24,
     "metadata": {},
     "output_type": "execute_result"
    }
   ],
   "source": [
    "main_data_df.head()"
   ]
  },
  {
   "cell_type": "code",
   "execution_count": 25,
   "metadata": {},
   "outputs": [
    {
     "name": "stdout",
     "output_type": "stream",
     "text": [
      "(15925, 19)\n"
     ]
    },
    {
     "data": {
      "text/html": [
       "<div>\n",
       "<style scoped>\n",
       "    .dataframe tbody tr th:only-of-type {\n",
       "        vertical-align: middle;\n",
       "    }\n",
       "\n",
       "    .dataframe tbody tr th {\n",
       "        vertical-align: top;\n",
       "    }\n",
       "\n",
       "    .dataframe thead th {\n",
       "        text-align: right;\n",
       "    }\n",
       "</style>\n",
       "<table border=\"1\" class=\"dataframe\">\n",
       "  <thead>\n",
       "    <tr style=\"text-align: right;\">\n",
       "      <th></th>\n",
       "      <th>시군구</th>\n",
       "      <th>번지</th>\n",
       "      <th>본번</th>\n",
       "      <th>부번</th>\n",
       "      <th>건물/단지명</th>\n",
       "      <th>거래유형</th>\n",
       "      <th>전용면적(㎡)</th>\n",
       "      <th>계약년월</th>\n",
       "      <th>계약일</th>\n",
       "      <th>거래/보증금(만원)</th>\n",
       "      <th>월세(만원)</th>\n",
       "      <th>층</th>\n",
       "      <th>건축년도</th>\n",
       "      <th>도로명</th>\n",
       "      <th>부동산유형</th>\n",
       "      <th>가격범위</th>\n",
       "      <th>건물단지명_키워드</th>\n",
       "      <th>브랜드</th>\n",
       "      <th>계약날짜</th>\n",
       "    </tr>\n",
       "  </thead>\n",
       "  <tbody>\n",
       "    <tr>\n",
       "      <th>2016841</th>\n",
       "      <td>서울특별시 송파구 신천동</td>\n",
       "      <td>17</td>\n",
       "      <td>17.0</td>\n",
       "      <td>0.0</td>\n",
       "      <td>파크리오</td>\n",
       "      <td>매매</td>\n",
       "      <td>59.95</td>\n",
       "      <td>200809</td>\n",
       "      <td>6</td>\n",
       "      <td>57000</td>\n",
       "      <td>0</td>\n",
       "      <td>10.0</td>\n",
       "      <td>2008.0</td>\n",
       "      <td>올림픽로 435</td>\n",
       "      <td>아파트</td>\n",
       "      <td>56000~58000</td>\n",
       "      <td>파크리오</td>\n",
       "      <td>기타</td>\n",
       "      <td>2008-09-06</td>\n",
       "    </tr>\n",
       "    <tr>\n",
       "      <th>2016842</th>\n",
       "      <td>서울특별시 송파구 신천동</td>\n",
       "      <td>17</td>\n",
       "      <td>17.0</td>\n",
       "      <td>0.0</td>\n",
       "      <td>파크리오</td>\n",
       "      <td>매매</td>\n",
       "      <td>84.79</td>\n",
       "      <td>200809</td>\n",
       "      <td>10</td>\n",
       "      <td>83000</td>\n",
       "      <td>0</td>\n",
       "      <td>26.0</td>\n",
       "      <td>2008.0</td>\n",
       "      <td>올림픽로 435</td>\n",
       "      <td>아파트</td>\n",
       "      <td>82000~84000</td>\n",
       "      <td>파크리오</td>\n",
       "      <td>기타</td>\n",
       "      <td>2008-09-10</td>\n",
       "    </tr>\n",
       "    <tr>\n",
       "      <th>2016843</th>\n",
       "      <td>서울특별시 송파구 신천동</td>\n",
       "      <td>17</td>\n",
       "      <td>17.0</td>\n",
       "      <td>0.0</td>\n",
       "      <td>파크리오</td>\n",
       "      <td>매매</td>\n",
       "      <td>84.79</td>\n",
       "      <td>200809</td>\n",
       "      <td>22</td>\n",
       "      <td>90000</td>\n",
       "      <td>0</td>\n",
       "      <td>26.0</td>\n",
       "      <td>2008.0</td>\n",
       "      <td>올림픽로 435</td>\n",
       "      <td>아파트</td>\n",
       "      <td>88000~90000</td>\n",
       "      <td>파크리오</td>\n",
       "      <td>기타</td>\n",
       "      <td>2008-09-22</td>\n",
       "    </tr>\n",
       "    <tr>\n",
       "      <th>2016844</th>\n",
       "      <td>서울특별시 송파구 신천동</td>\n",
       "      <td>17</td>\n",
       "      <td>17.0</td>\n",
       "      <td>0.0</td>\n",
       "      <td>파크리오</td>\n",
       "      <td>매매</td>\n",
       "      <td>59.95</td>\n",
       "      <td>200810</td>\n",
       "      <td>10</td>\n",
       "      <td>51000</td>\n",
       "      <td>0</td>\n",
       "      <td>3.0</td>\n",
       "      <td>2008.0</td>\n",
       "      <td>올림픽로 435</td>\n",
       "      <td>아파트</td>\n",
       "      <td>50000~52000</td>\n",
       "      <td>파크리오</td>\n",
       "      <td>기타</td>\n",
       "      <td>2008-10-10</td>\n",
       "    </tr>\n",
       "    <tr>\n",
       "      <th>2016845</th>\n",
       "      <td>서울특별시 송파구 신천동</td>\n",
       "      <td>17</td>\n",
       "      <td>17.0</td>\n",
       "      <td>0.0</td>\n",
       "      <td>파크리오</td>\n",
       "      <td>매매</td>\n",
       "      <td>84.79</td>\n",
       "      <td>200810</td>\n",
       "      <td>17</td>\n",
       "      <td>71500</td>\n",
       "      <td>0</td>\n",
       "      <td>3.0</td>\n",
       "      <td>2008.0</td>\n",
       "      <td>올림픽로 435</td>\n",
       "      <td>아파트</td>\n",
       "      <td>70000~72000</td>\n",
       "      <td>파크리오</td>\n",
       "      <td>기타</td>\n",
       "      <td>2008-10-17</td>\n",
       "    </tr>\n",
       "  </tbody>\n",
       "</table>\n",
       "</div>"
      ],
      "text/plain": [
       "                   시군구  번지    본번   부번 건물/단지명 거래유형  전용면적(㎡)    계약년월 계약일  \\\n",
       "2016841  서울특별시 송파구 신천동  17  17.0  0.0   파크리오   매매    59.95  200809   6   \n",
       "2016842  서울특별시 송파구 신천동  17  17.0  0.0   파크리오   매매    84.79  200809  10   \n",
       "2016843  서울특별시 송파구 신천동  17  17.0  0.0   파크리오   매매    84.79  200809  22   \n",
       "2016844  서울특별시 송파구 신천동  17  17.0  0.0   파크리오   매매    59.95  200810  10   \n",
       "2016845  서울특별시 송파구 신천동  17  17.0  0.0   파크리오   매매    84.79  200810  17   \n",
       "\n",
       "         거래/보증금(만원)  월세(만원)     층    건축년도       도로명 부동산유형         가격범위  \\\n",
       "2016841       57000       0  10.0  2008.0  올림픽로 435   아파트  56000~58000   \n",
       "2016842       83000       0  26.0  2008.0  올림픽로 435   아파트  82000~84000   \n",
       "2016843       90000       0  26.0  2008.0  올림픽로 435   아파트  88000~90000   \n",
       "2016844       51000       0   3.0  2008.0  올림픽로 435   아파트  50000~52000   \n",
       "2016845       71500       0   3.0  2008.0  올림픽로 435   아파트  70000~72000   \n",
       "\n",
       "        건물단지명_키워드 브랜드       계약날짜  \n",
       "2016841      파크리오  기타 2008-09-06  \n",
       "2016842      파크리오  기타 2008-09-10  \n",
       "2016843      파크리오  기타 2008-09-22  \n",
       "2016844      파크리오  기타 2008-10-10  \n",
       "2016845      파크리오  기타 2008-10-17  "
      ]
     },
     "execution_count": 25,
     "metadata": {},
     "output_type": "execute_result"
    }
   ],
   "source": [
    "inv_df = main_data_df[main_data_df['도로명'] == '올림픽로 435'].sort_values(['계약날짜'])\n",
    "print(inv_df.shape)\n",
    "inv_df.head()"
   ]
  }
 ],
 "metadata": {
  "kernelspec": {
   "display_name": "Python 3",
   "language": "python",
   "name": "python3"
  },
  "language_info": {
   "codemirror_mode": {
    "name": "ipython",
    "version": 3
   },
   "file_extension": ".py",
   "mimetype": "text/x-python",
   "name": "python",
   "nbconvert_exporter": "python",
   "pygments_lexer": "ipython3",
   "version": "3.7.9"
  }
 },
 "nbformat": 4,
 "nbformat_minor": 4
}
