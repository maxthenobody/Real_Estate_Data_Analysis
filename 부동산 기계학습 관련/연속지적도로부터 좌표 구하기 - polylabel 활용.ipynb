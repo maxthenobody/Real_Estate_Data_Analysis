{
 "cells": [
  {
   "cell_type": "code",
   "execution_count": 1,
   "metadata": {},
   "outputs": [],
   "source": [
    "import pandas as pd\n",
    "import numpy as np\n",
    "import os\n",
    "pd.set_option('display.max_rows', 500)\n",
    "pd.set_option('display.max_columns', 500)\n",
    "import tqdm\n",
    "import matplotlib.pyplot as plt\n",
    "import seaborn as sns\n",
    "import matplotlib\n",
    "matplotlib.rcParams['axes.unicode_minus'] = False\n",
    "pd.options.mode.chained_assignment = None  # default='warn'\n",
    "plt.rcParams['font.family'] = 'Malgun Gothic'\n",
    "font = {'size': 16}\n",
    "matplotlib.rc('font', **font)\n",
    "tqdm.tqdm.pandas()\n",
    "import shapefile\n",
    "from polylabel import polylabel"
   ]
  },
  {
   "cell_type": "code",
   "execution_count": 2,
   "metadata": {},
   "outputs": [],
   "source": [
    "basedir = './연속지적_서울/'"
   ]
  },
  {
   "cell_type": "code",
   "execution_count": 3,
   "metadata": {},
   "outputs": [
    {
     "data": {
      "text/plain": [
       "['LSMD_CONT_LDREG_서울_강남구',\n",
       " 'LSMD_CONT_LDREG_서울_강동구',\n",
       " 'LSMD_CONT_LDREG_서울_강북구',\n",
       " 'LSMD_CONT_LDREG_서울_강서구',\n",
       " 'LSMD_CONT_LDREG_서울_관악구',\n",
       " 'LSMD_CONT_LDREG_서울_광진구',\n",
       " 'LSMD_CONT_LDREG_서울_구로구',\n",
       " 'LSMD_CONT_LDREG_서울_금천구',\n",
       " 'LSMD_CONT_LDREG_서울_노원구',\n",
       " 'LSMD_CONT_LDREG_서울_도봉구',\n",
       " 'LSMD_CONT_LDREG_서울_동대문구',\n",
       " 'LSMD_CONT_LDREG_서울_동작구',\n",
       " 'LSMD_CONT_LDREG_서울_마포구',\n",
       " 'LSMD_CONT_LDREG_서울_서대문구',\n",
       " 'LSMD_CONT_LDREG_서울_서초구',\n",
       " 'LSMD_CONT_LDREG_서울_성동구',\n",
       " 'LSMD_CONT_LDREG_서울_성북구',\n",
       " 'LSMD_CONT_LDREG_서울_송파구',\n",
       " 'LSMD_CONT_LDREG_서울_양천구',\n",
       " 'LSMD_CONT_LDREG_서울_영등포구',\n",
       " 'LSMD_CONT_LDREG_서울_용산구',\n",
       " 'LSMD_CONT_LDREG_서울_은평구',\n",
       " 'LSMD_CONT_LDREG_서울_종로구',\n",
       " 'LSMD_CONT_LDREG_서울_중구',\n",
       " 'LSMD_CONT_LDREG_서울_중랑구']"
      ]
     },
     "execution_count": 3,
     "metadata": {},
     "output_type": "execute_result"
    }
   ],
   "source": [
    "foldernames = [f for f in os.listdir(basedir) if '.' not in f]\n",
    "foldernames"
   ]
  },
  {
   "cell_type": "code",
   "execution_count": 4,
   "metadata": {},
   "outputs": [
    {
     "name": "stdout",
     "output_type": "stream",
     "text": [
      "(94131, 9)\n"
     ]
    },
    {
     "data": {
      "text/html": [
       "<div>\n",
       "<style scoped>\n",
       "    .dataframe tbody tr th:only-of-type {\n",
       "        vertical-align: middle;\n",
       "    }\n",
       "\n",
       "    .dataframe tbody tr th {\n",
       "        vertical-align: top;\n",
       "    }\n",
       "\n",
       "    .dataframe thead th {\n",
       "        text-align: right;\n",
       "    }\n",
       "</style>\n",
       "<table border=\"1\" class=\"dataframe\">\n",
       "  <thead>\n",
       "    <tr style=\"text-align: right;\">\n",
       "      <th></th>\n",
       "      <th>시군구코드</th>\n",
       "      <th>법정동코드</th>\n",
       "      <th>행정동코드</th>\n",
       "      <th>시도명</th>\n",
       "      <th>시군구명</th>\n",
       "      <th>법정동명</th>\n",
       "      <th>행정동명</th>\n",
       "      <th>적용시작일</th>\n",
       "      <th>적용만료일</th>\n",
       "    </tr>\n",
       "  </thead>\n",
       "  <tbody>\n",
       "    <tr>\n",
       "      <th>0</th>\n",
       "      <td>27290</td>\n",
       "      <td>11800</td>\n",
       "      <td>617</td>\n",
       "      <td>대구광역시</td>\n",
       "      <td>달서구</td>\n",
       "      <td>유천동</td>\n",
       "      <td>유천동</td>\n",
       "      <td>20211129</td>\n",
       "      <td>20211129</td>\n",
       "    </tr>\n",
       "    <tr>\n",
       "      <th>1</th>\n",
       "      <td>41210</td>\n",
       "      <td>10600</td>\n",
       "      <td>655</td>\n",
       "      <td>경기도</td>\n",
       "      <td>광명시</td>\n",
       "      <td>일직동</td>\n",
       "      <td>일직동</td>\n",
       "      <td>20211129</td>\n",
       "      <td>99991231</td>\n",
       "    </tr>\n",
       "    <tr>\n",
       "      <th>2</th>\n",
       "      <td>27290</td>\n",
       "      <td>11900</td>\n",
       "      <td>617</td>\n",
       "      <td>대구광역시</td>\n",
       "      <td>달서구</td>\n",
       "      <td>대천동</td>\n",
       "      <td>유천동</td>\n",
       "      <td>20211129</td>\n",
       "      <td>20211129</td>\n",
       "    </tr>\n",
       "    <tr>\n",
       "      <th>3</th>\n",
       "      <td>27290</td>\n",
       "      <td>12000</td>\n",
       "      <td>617</td>\n",
       "      <td>대구광역시</td>\n",
       "      <td>달서구</td>\n",
       "      <td>월성동</td>\n",
       "      <td>유천동</td>\n",
       "      <td>20211129</td>\n",
       "      <td>20211129</td>\n",
       "    </tr>\n",
       "    <tr>\n",
       "      <th>4</th>\n",
       "      <td>27290</td>\n",
       "      <td>12100</td>\n",
       "      <td>617</td>\n",
       "      <td>대구광역시</td>\n",
       "      <td>달서구</td>\n",
       "      <td>월암동</td>\n",
       "      <td>유천동</td>\n",
       "      <td>20211129</td>\n",
       "      <td>20211129</td>\n",
       "    </tr>\n",
       "  </tbody>\n",
       "</table>\n",
       "</div>"
      ],
      "text/plain": [
       "   시군구코드  법정동코드  행정동코드    시도명 시군구명 법정동명 행정동명     적용시작일     적용만료일\n",
       "0  27290  11800    617  대구광역시  달서구  유천동  유천동  20211129  20211129\n",
       "1  41210  10600    655    경기도  광명시  일직동  일직동  20211129  99991231\n",
       "2  27290  11900    617  대구광역시  달서구  대천동  유천동  20211129  20211129\n",
       "3  27290  12000    617  대구광역시  달서구  월성동  유천동  20211129  20211129\n",
       "4  27290  12100    617  대구광역시  달서구  월암동  유천동  20211129  20211129"
      ]
     },
     "execution_count": 4,
     "metadata": {},
     "output_type": "execute_result"
    }
   ],
   "source": [
    "pnu_df = pd.read_csv('./Prepped Data/서울특별시 건축물대장 법정동 코드정보.csv', encoding='euc-kr')\n",
    "print(pnu_df.shape)\n",
    "pnu_df.head()"
   ]
  },
  {
   "cell_type": "code",
   "execution_count": 5,
   "metadata": {},
   "outputs": [],
   "source": [
    "def intable(x):\n",
    "    # x is a str or a number\n",
    "    \n",
    "    try:\n",
    "        int(x)\n",
    "        return 1\n",
    "    except:\n",
    "        return 0"
   ]
  },
  {
   "cell_type": "code",
   "execution_count": 6,
   "metadata": {},
   "outputs": [
    {
     "name": "stdout",
     "output_type": "stream",
     "text": [
      "LSMD_CONT_LDREG_서울_강남구\n"
     ]
    },
    {
     "name": "stderr",
     "output_type": "stream",
     "text": [
      "c:\\users\\max6296\\ml\\lib\\site-packages\\ipykernel_launcher.py:19: TqdmDeprecationWarning: This function will be removed in tqdm==5.0.0\n",
      "Please use `tqdm.notebook.tqdm` instead of `tqdm.tqdm_notebook`\n"
     ]
    },
    {
     "data": {
      "application/vnd.jupyter.widget-view+json": {
       "model_id": "7daf0cd56ee7486bbceb008ef7220df1",
       "version_major": 2,
       "version_minor": 0
      },
      "text/plain": [
       "  0%|          | 0/34503 [00:00<?, ?it/s]"
      ]
     },
     "metadata": {},
     "output_type": "display_data"
    },
    {
     "name": "stdout",
     "output_type": "stream",
     "text": [
      "LSMD_CONT_LDREG_서울_강동구\n"
     ]
    },
    {
     "name": "stderr",
     "output_type": "stream",
     "text": [
      "c:\\users\\max6296\\ml\\lib\\site-packages\\ipykernel_launcher.py:19: TqdmDeprecationWarning: This function will be removed in tqdm==5.0.0\n",
      "Please use `tqdm.notebook.tqdm` instead of `tqdm.tqdm_notebook`\n"
     ]
    },
    {
     "data": {
      "application/vnd.jupyter.widget-view+json": {
       "model_id": "b872e1043e5b4e03b83e6df0259f8dac",
       "version_major": 2,
       "version_minor": 0
      },
      "text/plain": [
       "  0%|          | 0/30736 [00:00<?, ?it/s]"
      ]
     },
     "metadata": {},
     "output_type": "display_data"
    },
    {
     "name": "stdout",
     "output_type": "stream",
     "text": [
      "LSMD_CONT_LDREG_서울_강북구\n"
     ]
    },
    {
     "name": "stderr",
     "output_type": "stream",
     "text": [
      "c:\\users\\max6296\\ml\\lib\\site-packages\\ipykernel_launcher.py:19: TqdmDeprecationWarning: This function will be removed in tqdm==5.0.0\n",
      "Please use `tqdm.notebook.tqdm` instead of `tqdm.tqdm_notebook`\n"
     ]
    },
    {
     "data": {
      "application/vnd.jupyter.widget-view+json": {
       "model_id": "b50ca662787f4f66a661f380557df85c",
       "version_major": 2,
       "version_minor": 0
      },
      "text/plain": [
       "  0%|          | 0/40487 [00:00<?, ?it/s]"
      ]
     },
     "metadata": {},
     "output_type": "display_data"
    },
    {
     "name": "stdout",
     "output_type": "stream",
     "text": [
      "LSMD_CONT_LDREG_서울_강서구\n"
     ]
    },
    {
     "name": "stderr",
     "output_type": "stream",
     "text": [
      "c:\\users\\max6296\\ml\\lib\\site-packages\\ipykernel_launcher.py:19: TqdmDeprecationWarning: This function will be removed in tqdm==5.0.0\n",
      "Please use `tqdm.notebook.tqdm` instead of `tqdm.tqdm_notebook`\n"
     ]
    },
    {
     "data": {
      "application/vnd.jupyter.widget-view+json": {
       "model_id": "ae7d8c98baf0400682faab4b8dc8e8b9",
       "version_major": 2,
       "version_minor": 0
      },
      "text/plain": [
       "  0%|          | 0/42882 [00:00<?, ?it/s]"
      ]
     },
     "metadata": {},
     "output_type": "display_data"
    },
    {
     "name": "stdout",
     "output_type": "stream",
     "text": [
      "LSMD_CONT_LDREG_서울_관악구\n"
     ]
    },
    {
     "name": "stderr",
     "output_type": "stream",
     "text": [
      "c:\\users\\max6296\\ml\\lib\\site-packages\\ipykernel_launcher.py:19: TqdmDeprecationWarning: This function will be removed in tqdm==5.0.0\n",
      "Please use `tqdm.notebook.tqdm` instead of `tqdm.tqdm_notebook`\n"
     ]
    },
    {
     "data": {
      "application/vnd.jupyter.widget-view+json": {
       "model_id": "296f3f257aef4665b0c3e06f7b05e107",
       "version_major": 2,
       "version_minor": 0
      },
      "text/plain": [
       "  0%|          | 0/45471 [00:00<?, ?it/s]"
      ]
     },
     "metadata": {},
     "output_type": "display_data"
    },
    {
     "name": "stdout",
     "output_type": "stream",
     "text": [
      "LSMD_CONT_LDREG_서울_광진구\n"
     ]
    },
    {
     "name": "stderr",
     "output_type": "stream",
     "text": [
      "c:\\users\\max6296\\ml\\lib\\site-packages\\ipykernel_launcher.py:19: TqdmDeprecationWarning: This function will be removed in tqdm==5.0.0\n",
      "Please use `tqdm.notebook.tqdm` instead of `tqdm.tqdm_notebook`\n"
     ]
    },
    {
     "data": {
      "application/vnd.jupyter.widget-view+json": {
       "model_id": "b4ffd1243a2b4a4d9351f252ff27924a",
       "version_major": 2,
       "version_minor": 0
      },
      "text/plain": [
       "  0%|          | 0/32810 [00:00<?, ?it/s]"
      ]
     },
     "metadata": {},
     "output_type": "display_data"
    },
    {
     "name": "stdout",
     "output_type": "stream",
     "text": [
      "LSMD_CONT_LDREG_서울_구로구\n"
     ]
    },
    {
     "name": "stderr",
     "output_type": "stream",
     "text": [
      "c:\\users\\max6296\\ml\\lib\\site-packages\\ipykernel_launcher.py:19: TqdmDeprecationWarning: This function will be removed in tqdm==5.0.0\n",
      "Please use `tqdm.notebook.tqdm` instead of `tqdm.tqdm_notebook`\n"
     ]
    },
    {
     "data": {
      "application/vnd.jupyter.widget-view+json": {
       "model_id": "455723689fe546d7be7f21bbff8df8aa",
       "version_major": 2,
       "version_minor": 0
      },
      "text/plain": [
       "  0%|          | 0/36590 [00:00<?, ?it/s]"
      ]
     },
     "metadata": {},
     "output_type": "display_data"
    },
    {
     "name": "stdout",
     "output_type": "stream",
     "text": [
      "LSMD_CONT_LDREG_서울_금천구\n"
     ]
    },
    {
     "name": "stderr",
     "output_type": "stream",
     "text": [
      "c:\\users\\max6296\\ml\\lib\\site-packages\\ipykernel_launcher.py:19: TqdmDeprecationWarning: This function will be removed in tqdm==5.0.0\n",
      "Please use `tqdm.notebook.tqdm` instead of `tqdm.tqdm_notebook`\n"
     ]
    },
    {
     "data": {
      "application/vnd.jupyter.widget-view+json": {
       "model_id": "770ca2987dd446e7895730696a5e6bc1",
       "version_major": 2,
       "version_minor": 0
      },
      "text/plain": [
       "  0%|          | 0/19914 [00:00<?, ?it/s]"
      ]
     },
     "metadata": {},
     "output_type": "display_data"
    },
    {
     "name": "stdout",
     "output_type": "stream",
     "text": [
      "LSMD_CONT_LDREG_서울_노원구\n"
     ]
    },
    {
     "name": "stderr",
     "output_type": "stream",
     "text": [
      "c:\\users\\max6296\\ml\\lib\\site-packages\\ipykernel_launcher.py:19: TqdmDeprecationWarning: This function will be removed in tqdm==5.0.0\n",
      "Please use `tqdm.notebook.tqdm` instead of `tqdm.tqdm_notebook`\n"
     ]
    },
    {
     "data": {
      "application/vnd.jupyter.widget-view+json": {
       "model_id": "7c61096b000545a9bfab96049f3a9bad",
       "version_major": 2,
       "version_minor": 0
      },
      "text/plain": [
       "  0%|          | 0/20863 [00:00<?, ?it/s]"
      ]
     },
     "metadata": {},
     "output_type": "display_data"
    },
    {
     "name": "stdout",
     "output_type": "stream",
     "text": [
      "LSMD_CONT_LDREG_서울_도봉구\n"
     ]
    },
    {
     "name": "stderr",
     "output_type": "stream",
     "text": [
      "c:\\users\\max6296\\ml\\lib\\site-packages\\ipykernel_launcher.py:19: TqdmDeprecationWarning: This function will be removed in tqdm==5.0.0\n",
      "Please use `tqdm.notebook.tqdm` instead of `tqdm.tqdm_notebook`\n"
     ]
    },
    {
     "data": {
      "application/vnd.jupyter.widget-view+json": {
       "model_id": "f17fc731f52f4879896c0943f2dc023c",
       "version_major": 2,
       "version_minor": 0
      },
      "text/plain": [
       "  0%|          | 0/22877 [00:00<?, ?it/s]"
      ]
     },
     "metadata": {},
     "output_type": "display_data"
    },
    {
     "name": "stdout",
     "output_type": "stream",
     "text": [
      "LSMD_CONT_LDREG_서울_동대문구\n"
     ]
    },
    {
     "name": "stderr",
     "output_type": "stream",
     "text": [
      "c:\\users\\max6296\\ml\\lib\\site-packages\\ipykernel_launcher.py:19: TqdmDeprecationWarning: This function will be removed in tqdm==5.0.0\n",
      "Please use `tqdm.notebook.tqdm` instead of `tqdm.tqdm_notebook`\n"
     ]
    },
    {
     "data": {
      "application/vnd.jupyter.widget-view+json": {
       "model_id": "8084345791fc4ddb9d8bc3d2657a104a",
       "version_major": 2,
       "version_minor": 0
      },
      "text/plain": [
       "  0%|          | 0/41321 [00:00<?, ?it/s]"
      ]
     },
     "metadata": {},
     "output_type": "display_data"
    },
    {
     "name": "stdout",
     "output_type": "stream",
     "text": [
      "LSMD_CONT_LDREG_서울_동작구\n"
     ]
    },
    {
     "name": "stderr",
     "output_type": "stream",
     "text": [
      "c:\\users\\max6296\\ml\\lib\\site-packages\\ipykernel_launcher.py:19: TqdmDeprecationWarning: This function will be removed in tqdm==5.0.0\n",
      "Please use `tqdm.notebook.tqdm` instead of `tqdm.tqdm_notebook`\n"
     ]
    },
    {
     "data": {
      "application/vnd.jupyter.widget-view+json": {
       "model_id": "59116333b7a94817a7a3e384cc4580bd",
       "version_major": 2,
       "version_minor": 0
      },
      "text/plain": [
       "  0%|          | 0/38868 [00:00<?, ?it/s]"
      ]
     },
     "metadata": {},
     "output_type": "display_data"
    },
    {
     "name": "stdout",
     "output_type": "stream",
     "text": [
      "LSMD_CONT_LDREG_서울_마포구\n"
     ]
    },
    {
     "name": "stderr",
     "output_type": "stream",
     "text": [
      "c:\\users\\max6296\\ml\\lib\\site-packages\\ipykernel_launcher.py:19: TqdmDeprecationWarning: This function will be removed in tqdm==5.0.0\n",
      "Please use `tqdm.notebook.tqdm` instead of `tqdm.tqdm_notebook`\n"
     ]
    },
    {
     "data": {
      "application/vnd.jupyter.widget-view+json": {
       "model_id": "0c4bb85d6007451db4f81b35383d8a15",
       "version_major": 2,
       "version_minor": 0
      },
      "text/plain": [
       "  0%|          | 0/42629 [00:00<?, ?it/s]"
      ]
     },
     "metadata": {},
     "output_type": "display_data"
    },
    {
     "name": "stdout",
     "output_type": "stream",
     "text": [
      "LSMD_CONT_LDREG_서울_서대문구\n"
     ]
    },
    {
     "name": "stderr",
     "output_type": "stream",
     "text": [
      "c:\\users\\max6296\\ml\\lib\\site-packages\\ipykernel_launcher.py:19: TqdmDeprecationWarning: This function will be removed in tqdm==5.0.0\n",
      "Please use `tqdm.notebook.tqdm` instead of `tqdm.tqdm_notebook`\n"
     ]
    },
    {
     "data": {
      "application/vnd.jupyter.widget-view+json": {
       "model_id": "b7bf9e7fa64847a4a5d9059c698f390d",
       "version_major": 2,
       "version_minor": 0
      },
      "text/plain": [
       "  0%|          | 0/41208 [00:00<?, ?it/s]"
      ]
     },
     "metadata": {},
     "output_type": "display_data"
    },
    {
     "name": "stdout",
     "output_type": "stream",
     "text": [
      "LSMD_CONT_LDREG_서울_서초구\n"
     ]
    },
    {
     "name": "stderr",
     "output_type": "stream",
     "text": [
      "c:\\users\\max6296\\ml\\lib\\site-packages\\ipykernel_launcher.py:19: TqdmDeprecationWarning: This function will be removed in tqdm==5.0.0\n",
      "Please use `tqdm.notebook.tqdm` instead of `tqdm.tqdm_notebook`\n"
     ]
    },
    {
     "data": {
      "application/vnd.jupyter.widget-view+json": {
       "model_id": "6f65e2d244eb4efb80caa675413c061c",
       "version_major": 2,
       "version_minor": 0
      },
      "text/plain": [
       "  0%|          | 0/34953 [00:00<?, ?it/s]"
      ]
     },
     "metadata": {},
     "output_type": "display_data"
    },
    {
     "name": "stdout",
     "output_type": "stream",
     "text": [
      "LSMD_CONT_LDREG_서울_성동구\n"
     ]
    },
    {
     "name": "stderr",
     "output_type": "stream",
     "text": [
      "c:\\users\\max6296\\ml\\lib\\site-packages\\ipykernel_launcher.py:19: TqdmDeprecationWarning: This function will be removed in tqdm==5.0.0\n",
      "Please use `tqdm.notebook.tqdm` instead of `tqdm.tqdm_notebook`\n"
     ]
    },
    {
     "data": {
      "application/vnd.jupyter.widget-view+json": {
       "model_id": "be424384402c44e68c917fdb33390ee0",
       "version_major": 2,
       "version_minor": 0
      },
      "text/plain": [
       "  0%|          | 0/26859 [00:00<?, ?it/s]"
      ]
     },
     "metadata": {},
     "output_type": "display_data"
    },
    {
     "name": "stdout",
     "output_type": "stream",
     "text": [
      "LSMD_CONT_LDREG_서울_성북구\n"
     ]
    },
    {
     "name": "stderr",
     "output_type": "stream",
     "text": [
      "c:\\users\\max6296\\ml\\lib\\site-packages\\ipykernel_launcher.py:19: TqdmDeprecationWarning: This function will be removed in tqdm==5.0.0\n",
      "Please use `tqdm.notebook.tqdm` instead of `tqdm.tqdm_notebook`\n"
     ]
    },
    {
     "data": {
      "application/vnd.jupyter.widget-view+json": {
       "model_id": "1c4a5c5b249640caac964b99b6e2b475",
       "version_major": 2,
       "version_minor": 0
      },
      "text/plain": [
       "  0%|          | 0/54890 [00:00<?, ?it/s]"
      ]
     },
     "metadata": {},
     "output_type": "display_data"
    },
    {
     "name": "stdout",
     "output_type": "stream",
     "text": [
      "LSMD_CONT_LDREG_서울_송파구\n"
     ]
    },
    {
     "name": "stderr",
     "output_type": "stream",
     "text": [
      "c:\\users\\max6296\\ml\\lib\\site-packages\\ipykernel_launcher.py:19: TqdmDeprecationWarning: This function will be removed in tqdm==5.0.0\n",
      "Please use `tqdm.notebook.tqdm` instead of `tqdm.tqdm_notebook`\n"
     ]
    },
    {
     "data": {
      "application/vnd.jupyter.widget-view+json": {
       "model_id": "7b3531bb6d2e49c89cf0dd436176339d",
       "version_major": 2,
       "version_minor": 0
      },
      "text/plain": [
       "  0%|          | 0/32416 [00:00<?, ?it/s]"
      ]
     },
     "metadata": {},
     "output_type": "display_data"
    },
    {
     "name": "stdout",
     "output_type": "stream",
     "text": [
      "LSMD_CONT_LDREG_서울_양천구\n"
     ]
    },
    {
     "name": "stderr",
     "output_type": "stream",
     "text": [
      "c:\\users\\max6296\\ml\\lib\\site-packages\\ipykernel_launcher.py:19: TqdmDeprecationWarning: This function will be removed in tqdm==5.0.0\n",
      "Please use `tqdm.notebook.tqdm` instead of `tqdm.tqdm_notebook`\n"
     ]
    },
    {
     "data": {
      "application/vnd.jupyter.widget-view+json": {
       "model_id": "fc9ba28d228c44aaa1692fea1d69f815",
       "version_major": 2,
       "version_minor": 0
      },
      "text/plain": [
       "  0%|          | 0/22543 [00:00<?, ?it/s]"
      ]
     },
     "metadata": {},
     "output_type": "display_data"
    },
    {
     "name": "stdout",
     "output_type": "stream",
     "text": [
      "LSMD_CONT_LDREG_서울_영등포구\n"
     ]
    },
    {
     "name": "stderr",
     "output_type": "stream",
     "text": [
      "c:\\users\\max6296\\ml\\lib\\site-packages\\ipykernel_launcher.py:19: TqdmDeprecationWarning: This function will be removed in tqdm==5.0.0\n",
      "Please use `tqdm.notebook.tqdm` instead of `tqdm.tqdm_notebook`\n"
     ]
    },
    {
     "data": {
      "application/vnd.jupyter.widget-view+json": {
       "model_id": "85bc7a758515454ab364b9de2cc6e273",
       "version_major": 2,
       "version_minor": 0
      },
      "text/plain": [
       "  0%|          | 0/37824 [00:00<?, ?it/s]"
      ]
     },
     "metadata": {},
     "output_type": "display_data"
    },
    {
     "name": "stdout",
     "output_type": "stream",
     "text": [
      "LSMD_CONT_LDREG_서울_용산구\n"
     ]
    },
    {
     "name": "stderr",
     "output_type": "stream",
     "text": [
      "c:\\users\\max6296\\ml\\lib\\site-packages\\ipykernel_launcher.py:19: TqdmDeprecationWarning: This function will be removed in tqdm==5.0.0\n",
      "Please use `tqdm.notebook.tqdm` instead of `tqdm.tqdm_notebook`\n"
     ]
    },
    {
     "data": {
      "application/vnd.jupyter.widget-view+json": {
       "model_id": "eb92729890b6498197fe9551de9a6ff4",
       "version_major": 2,
       "version_minor": 0
      },
      "text/plain": [
       "  0%|          | 0/44900 [00:00<?, ?it/s]"
      ]
     },
     "metadata": {},
     "output_type": "display_data"
    },
    {
     "name": "stdout",
     "output_type": "stream",
     "text": [
      "LSMD_CONT_LDREG_서울_은평구\n"
     ]
    },
    {
     "name": "stderr",
     "output_type": "stream",
     "text": [
      "c:\\users\\max6296\\ml\\lib\\site-packages\\ipykernel_launcher.py:19: TqdmDeprecationWarning: This function will be removed in tqdm==5.0.0\n",
      "Please use `tqdm.notebook.tqdm` instead of `tqdm.tqdm_notebook`\n"
     ]
    },
    {
     "data": {
      "application/vnd.jupyter.widget-view+json": {
       "model_id": "00d579d93a3848239938d979f06dbc2f",
       "version_major": 2,
       "version_minor": 0
      },
      "text/plain": [
       "  0%|          | 0/52737 [00:00<?, ?it/s]"
      ]
     },
     "metadata": {},
     "output_type": "display_data"
    },
    {
     "name": "stdout",
     "output_type": "stream",
     "text": [
      "LSMD_CONT_LDREG_서울_종로구\n"
     ]
    },
    {
     "name": "stderr",
     "output_type": "stream",
     "text": [
      "c:\\users\\max6296\\ml\\lib\\site-packages\\ipykernel_launcher.py:19: TqdmDeprecationWarning: This function will be removed in tqdm==5.0.0\n",
      "Please use `tqdm.notebook.tqdm` instead of `tqdm.tqdm_notebook`\n"
     ]
    },
    {
     "data": {
      "application/vnd.jupyter.widget-view+json": {
       "model_id": "8b69059285e643408139a36b5db672f4",
       "version_major": 2,
       "version_minor": 0
      },
      "text/plain": [
       "  0%|          | 0/49207 [00:00<?, ?it/s]"
      ]
     },
     "metadata": {},
     "output_type": "display_data"
    },
    {
     "name": "stdout",
     "output_type": "stream",
     "text": [
      "LSMD_CONT_LDREG_서울_중구\n"
     ]
    },
    {
     "name": "stderr",
     "output_type": "stream",
     "text": [
      "c:\\users\\max6296\\ml\\lib\\site-packages\\ipykernel_launcher.py:19: TqdmDeprecationWarning: This function will be removed in tqdm==5.0.0\n",
      "Please use `tqdm.notebook.tqdm` instead of `tqdm.tqdm_notebook`\n"
     ]
    },
    {
     "data": {
      "application/vnd.jupyter.widget-view+json": {
       "model_id": "bec2e81ba8944ac9811328584b2ce963",
       "version_major": 2,
       "version_minor": 0
      },
      "text/plain": [
       "  0%|          | 0/35579 [00:00<?, ?it/s]"
      ]
     },
     "metadata": {},
     "output_type": "display_data"
    },
    {
     "name": "stdout",
     "output_type": "stream",
     "text": [
      "LSMD_CONT_LDREG_서울_중랑구\n"
     ]
    },
    {
     "name": "stderr",
     "output_type": "stream",
     "text": [
      "c:\\users\\max6296\\ml\\lib\\site-packages\\ipykernel_launcher.py:19: TqdmDeprecationWarning: This function will be removed in tqdm==5.0.0\n",
      "Please use `tqdm.notebook.tqdm` instead of `tqdm.tqdm_notebook`\n"
     ]
    },
    {
     "data": {
      "application/vnd.jupyter.widget-view+json": {
       "model_id": "b145c4ca0c6d4ddd8f0e1b2a58f07f87",
       "version_major": 2,
       "version_minor": 0
      },
      "text/plain": [
       "  0%|          | 0/39251 [00:00<?, ?it/s]"
      ]
     },
     "metadata": {},
     "output_type": "display_data"
    },
    {
     "name": "stdout",
     "output_type": "stream",
     "text": [
      "Wall time: 23min 26s\n"
     ]
    }
   ],
   "source": [
    "%%time\n",
    "count = 0\n",
    "\n",
    "sigungu_name_list = []\n",
    "bubjungdong_name_list = []\n",
    "jibun_jimok_list = []\n",
    "jibun_list = []\n",
    "jimok_list = []\n",
    "coor_x_list = []\n",
    "coor_y_list = []\n",
    "\n",
    "for folder in foldernames:\n",
    "    print(folder)\n",
    "    \n",
    "    shp_filename = [f for f in os.listdir(basedir + folder) if '.shp' in f][0]\n",
    "    shp_dir = basedir + folder + '/' + shp_filename\n",
    "    \n",
    "    sf = shapefile.Reader(shp_dir, encoding='euc-kr')\n",
    "    \n",
    "    for i in tqdm.tqdm_notebook(range(len(sf))):\n",
    "        #points\n",
    "        points = sf.shape(i).points\n",
    "        \n",
    "        labeled = polylabel([[list(p) for p in points]])\n",
    "        \n",
    "        coor_x = labeled[0]\n",
    "        coor_y = labeled[1]       \n",
    "        \n",
    "        #records\n",
    "        record = sf.record(i)\n",
    "        \n",
    "        pnu = record[0]\n",
    "        jibun_jimok = record[1]        \n",
    "        jibun_jimok_list.append(jibun_jimok)\n",
    "\n",
    "        sigungu_code = int(pnu[:5])\n",
    "        bubjungdong_code = int(pnu[5:10])\n",
    "        \n",
    "        jibun_jimok = jibun_jimok.replace(' ', '')\n",
    "        jibun = jibun_jimok[:-1]\n",
    "        jimok = jibun_jimok[-1]\n",
    "        \n",
    "        if intable(jimok) == 1:\n",
    "            jibun = jibun_jimok\n",
    "            jimok = '입력없음'\n",
    "        \n",
    "        '''splitted = jibun_jimok.split(' ')\n",
    "        \n",
    "        if len(splitted) <= 2:        \n",
    "            jibun = splitted[0]\n",
    "            try:\n",
    "                jimok = splitted[1]\n",
    "                \n",
    "                if (len(jimok) != 1) | (intable(jimok) == 1):\n",
    "                    jibun = ''.join\n",
    "                \n",
    "                \n",
    "            except:        \n",
    "                jibun = jibun_jimok[:-1]\n",
    "                jimok = jibun_jimok[-1]\n",
    "                \n",
    "        else:\n",
    "            jibun = ''.join(splitted[:-1])\n",
    "            jimok = splitted[-1]'''\n",
    "\n",
    "        target_df = pnu_df[(pnu_df['시군구코드'] == sigungu_code) & (pnu_df['법정동코드'] == bubjungdong_code)]\n",
    "        \n",
    "        #writing\n",
    "        sigungu_name_list.append(target_df['시군구명'].iloc[0])\n",
    "        bubjungdong_name_list.append(target_df['법정동명'].iloc[0])\n",
    "        jibun_list.append(jibun)\n",
    "        jimok_list.append(jimok)\n",
    "        coor_x_list.append(coor_x)\n",
    "        coor_y_list.append(coor_y)\n",
    "        \n",
    "        '''sf_df.loc[count, '시군구명'] = target_df['시군구명'].iloc[0]\n",
    "        sf_df.loc[count, '법정동명'] = target_df['법정동명'].iloc[0]\n",
    "        sf_df.loc[count, '지번'] = jibun\n",
    "        sf_df.loc[count, '지목'] = jimok\n",
    "        sf_df.loc[count, 'x좌표'] = coor_x\n",
    "        sf_df.loc[count, 'y좌표'] = coor_y'''\n",
    "        \n",
    "        count += 1"
   ]
  },
  {
   "cell_type": "code",
   "execution_count": 11,
   "metadata": {},
   "outputs": [],
   "source": [
    "sf_df = pd.DataFrame({\n",
    "    '시군구명':sigungu_name_list, '법정동명':bubjungdong_name_list, '지번_지목':jibun_jimok_list, '지번':jibun_list,\n",
    "    '지목':jimok_list, 'x좌표':coor_x_list, 'y좌표':coor_y_list\n",
    "})"
   ]
  },
  {
   "cell_type": "code",
   "execution_count": 12,
   "metadata": {},
   "outputs": [
    {
     "name": "stdout",
     "output_type": "stream",
     "text": [
      "(922318, 7)\n"
     ]
    },
    {
     "data": {
      "text/html": [
       "<div>\n",
       "<style scoped>\n",
       "    .dataframe tbody tr th:only-of-type {\n",
       "        vertical-align: middle;\n",
       "    }\n",
       "\n",
       "    .dataframe tbody tr th {\n",
       "        vertical-align: top;\n",
       "    }\n",
       "\n",
       "    .dataframe thead th {\n",
       "        text-align: right;\n",
       "    }\n",
       "</style>\n",
       "<table border=\"1\" class=\"dataframe\">\n",
       "  <thead>\n",
       "    <tr style=\"text-align: right;\">\n",
       "      <th></th>\n",
       "      <th>시군구명</th>\n",
       "      <th>법정동명</th>\n",
       "      <th>지번_지목</th>\n",
       "      <th>지번</th>\n",
       "      <th>지목</th>\n",
       "      <th>x좌표</th>\n",
       "      <th>y좌표</th>\n",
       "    </tr>\n",
       "  </thead>\n",
       "  <tbody>\n",
       "    <tr>\n",
       "      <th>0</th>\n",
       "      <td>강남구</td>\n",
       "      <td>논현동</td>\n",
       "      <td>67-26 도</td>\n",
       "      <td>67-26</td>\n",
       "      <td>도</td>\n",
       "      <td>202648.630547</td>\n",
       "      <td>446277.538516</td>\n",
       "    </tr>\n",
       "    <tr>\n",
       "      <th>1</th>\n",
       "      <td>강남구</td>\n",
       "      <td>논현동</td>\n",
       "      <td>67-27 대</td>\n",
       "      <td>67-27</td>\n",
       "      <td>대</td>\n",
       "      <td>202676.093470</td>\n",
       "      <td>446297.563160</td>\n",
       "    </tr>\n",
       "    <tr>\n",
       "      <th>2</th>\n",
       "      <td>강남구</td>\n",
       "      <td>논현동</td>\n",
       "      <td>67-28 대</td>\n",
       "      <td>67-28</td>\n",
       "      <td>대</td>\n",
       "      <td>202584.375000</td>\n",
       "      <td>446275.930000</td>\n",
       "    </tr>\n",
       "    <tr>\n",
       "      <th>3</th>\n",
       "      <td>강남구</td>\n",
       "      <td>논현동</td>\n",
       "      <td>68 대</td>\n",
       "      <td>68</td>\n",
       "      <td>대</td>\n",
       "      <td>202695.885000</td>\n",
       "      <td>446317.525000</td>\n",
       "    </tr>\n",
       "    <tr>\n",
       "      <th>4</th>\n",
       "      <td>강남구</td>\n",
       "      <td>논현동</td>\n",
       "      <td>68-1 대</td>\n",
       "      <td>68-1</td>\n",
       "      <td>대</td>\n",
       "      <td>202707.844582</td>\n",
       "      <td>446324.121631</td>\n",
       "    </tr>\n",
       "  </tbody>\n",
       "</table>\n",
       "</div>"
      ],
      "text/plain": [
       "  시군구명 법정동명    지번_지목     지번 지목            x좌표            y좌표\n",
       "0  강남구  논현동  67-26 도  67-26  도  202648.630547  446277.538516\n",
       "1  강남구  논현동  67-27 대  67-27  대  202676.093470  446297.563160\n",
       "2  강남구  논현동  67-28 대  67-28  대  202584.375000  446275.930000\n",
       "3  강남구  논현동     68 대     68  대  202695.885000  446317.525000\n",
       "4  강남구  논현동   68-1 대   68-1  대  202707.844582  446324.121631"
      ]
     },
     "execution_count": 12,
     "metadata": {},
     "output_type": "execute_result"
    }
   ],
   "source": [
    "print(sf_df.shape)\n",
    "sf_df.head()"
   ]
  },
  {
   "cell_type": "code",
   "execution_count": 13,
   "metadata": {},
   "outputs": [
    {
     "data": {
      "text/plain": [
       "대       681945\n",
       "도       145987\n",
       "임        20913\n",
       "전        16087\n",
       "답        10165\n",
       "천         9336\n",
       "잡         7656\n",
       "구         6655\n",
       "공         5793\n",
       "철         4909\n",
       "학         2986\n",
       "종         2117\n",
       "제         2007\n",
       "장         1291\n",
       "차         1080\n",
       "주          813\n",
       "수          626\n",
       "사          464\n",
       "묘          401\n",
       "유          321\n",
       "가          298\n",
       "과          243\n",
       "창          102\n",
       "체           97\n",
       "원           20\n",
       "입력없음         5\n",
       "목            1\n",
       "Name: 지목, dtype: int64"
      ]
     },
     "execution_count": 13,
     "metadata": {},
     "output_type": "execute_result"
    }
   ],
   "source": [
    "sf_df['지목'].value_counts()"
   ]
  },
  {
   "cell_type": "code",
   "execution_count": 14,
   "metadata": {},
   "outputs": [
    {
     "name": "stdout",
     "output_type": "stream",
     "text": [
      "(1, 7)\n"
     ]
    },
    {
     "data": {
      "text/html": [
       "<div>\n",
       "<style scoped>\n",
       "    .dataframe tbody tr th:only-of-type {\n",
       "        vertical-align: middle;\n",
       "    }\n",
       "\n",
       "    .dataframe tbody tr th {\n",
       "        vertical-align: top;\n",
       "    }\n",
       "\n",
       "    .dataframe thead th {\n",
       "        text-align: right;\n",
       "    }\n",
       "</style>\n",
       "<table border=\"1\" class=\"dataframe\">\n",
       "  <thead>\n",
       "    <tr style=\"text-align: right;\">\n",
       "      <th></th>\n",
       "      <th>시군구명</th>\n",
       "      <th>법정동명</th>\n",
       "      <th>지번_지목</th>\n",
       "      <th>지번</th>\n",
       "      <th>지목</th>\n",
       "      <th>x좌표</th>\n",
       "      <th>y좌표</th>\n",
       "    </tr>\n",
       "  </thead>\n",
       "  <tbody>\n",
       "    <tr>\n",
       "      <th>498907</th>\n",
       "      <td>서초구</td>\n",
       "      <td>내곡동</td>\n",
       "      <td>228-1목</td>\n",
       "      <td>228-1</td>\n",
       "      <td>목</td>\n",
       "      <td>205488.353438</td>\n",
       "      <td>439597.629312</td>\n",
       "    </tr>\n",
       "  </tbody>\n",
       "</table>\n",
       "</div>"
      ],
      "text/plain": [
       "       시군구명 법정동명   지번_지목     지번 지목            x좌표            y좌표\n",
       "498907  서초구  내곡동  228-1목  228-1  목  205488.353438  439597.629312"
      ]
     },
     "execution_count": 14,
     "metadata": {},
     "output_type": "execute_result"
    }
   ],
   "source": [
    "inv_df = sf_df[sf_df['지목'] == '목']\n",
    "print(inv_df.shape)\n",
    "inv_df.head()"
   ]
  },
  {
   "cell_type": "code",
   "execution_count": 15,
   "metadata": {},
   "outputs": [
    {
     "name": "stdout",
     "output_type": "stream",
     "text": [
      "(813, 7)\n"
     ]
    },
    {
     "data": {
      "text/html": [
       "<div>\n",
       "<style scoped>\n",
       "    .dataframe tbody tr th:only-of-type {\n",
       "        vertical-align: middle;\n",
       "    }\n",
       "\n",
       "    .dataframe tbody tr th {\n",
       "        vertical-align: top;\n",
       "    }\n",
       "\n",
       "    .dataframe thead th {\n",
       "        text-align: right;\n",
       "    }\n",
       "</style>\n",
       "<table border=\"1\" class=\"dataframe\">\n",
       "  <thead>\n",
       "    <tr style=\"text-align: right;\">\n",
       "      <th></th>\n",
       "      <th>시군구명</th>\n",
       "      <th>법정동명</th>\n",
       "      <th>지번_지목</th>\n",
       "      <th>지번</th>\n",
       "      <th>지목</th>\n",
       "      <th>x좌표</th>\n",
       "      <th>y좌표</th>\n",
       "    </tr>\n",
       "  </thead>\n",
       "  <tbody>\n",
       "    <tr>\n",
       "      <th>398</th>\n",
       "      <td>강남구</td>\n",
       "      <td>역삼동</td>\n",
       "      <td>668-13 주</td>\n",
       "      <td>668-13</td>\n",
       "      <td>주</td>\n",
       "      <td>203148.467100</td>\n",
       "      <td>444500.062804</td>\n",
       "    </tr>\n",
       "    <tr>\n",
       "      <th>803</th>\n",
       "      <td>강남구</td>\n",
       "      <td>율현동</td>\n",
       "      <td>527 주</td>\n",
       "      <td>527</td>\n",
       "      <td>주</td>\n",
       "      <td>210053.825586</td>\n",
       "      <td>441278.417961</td>\n",
       "    </tr>\n",
       "    <tr>\n",
       "      <th>908</th>\n",
       "      <td>강남구</td>\n",
       "      <td>수서동</td>\n",
       "      <td>522-1 주</td>\n",
       "      <td>522-1</td>\n",
       "      <td>주</td>\n",
       "      <td>208330.505375</td>\n",
       "      <td>442436.871125</td>\n",
       "    </tr>\n",
       "    <tr>\n",
       "      <th>2377</th>\n",
       "      <td>강남구</td>\n",
       "      <td>신사동</td>\n",
       "      <td>592-2 주</td>\n",
       "      <td>592-2</td>\n",
       "      <td>주</td>\n",
       "      <td>202454.510000</td>\n",
       "      <td>446695.510000</td>\n",
       "    </tr>\n",
       "    <tr>\n",
       "      <th>2403</th>\n",
       "      <td>강남구</td>\n",
       "      <td>신사동</td>\n",
       "      <td>638 주</td>\n",
       "      <td>638</td>\n",
       "      <td>주</td>\n",
       "      <td>202944.893938</td>\n",
       "      <td>447403.428129</td>\n",
       "    </tr>\n",
       "  </tbody>\n",
       "</table>\n",
       "</div>"
      ],
      "text/plain": [
       "     시군구명 법정동명     지번_지목      지번 지목            x좌표            y좌표\n",
       "398   강남구  역삼동  668-13 주  668-13  주  203148.467100  444500.062804\n",
       "803   강남구  율현동     527 주     527  주  210053.825586  441278.417961\n",
       "908   강남구  수서동   522-1 주   522-1  주  208330.505375  442436.871125\n",
       "2377  강남구  신사동   592-2 주   592-2  주  202454.510000  446695.510000\n",
       "2403  강남구  신사동     638 주     638  주  202944.893938  447403.428129"
      ]
     },
     "execution_count": 15,
     "metadata": {},
     "output_type": "execute_result"
    }
   ],
   "source": [
    "inv_df = sf_df[sf_df['지목'] == '주']\n",
    "print(inv_df.shape)\n",
    "inv_df.head()"
   ]
  },
  {
   "cell_type": "code",
   "execution_count": 18,
   "metadata": {},
   "outputs": [
    {
     "name": "stdout",
     "output_type": "stream",
     "text": [
      "Wall time: 2.68 s\n"
     ]
    }
   ],
   "source": [
    "%%time\n",
    "sf_df.to_csv('./Prepped Data/연속지적도출처_지번별좌표_baseline_20211222.csv', index=False)"
   ]
  },
  {
   "cell_type": "code",
   "execution_count": 17,
   "metadata": {},
   "outputs": [
    {
     "name": "stderr",
     "output_type": "stream",
     "text": [
      "c:\\users\\max6296\\ml\\lib\\site-packages\\seaborn\\_decorators.py:43: FutureWarning: Pass the following variables as keyword args: x, y. From version 0.12, the only valid positional argument will be `data`, and passing other arguments without an explicit keyword will result in an error or misinterpretation.\n",
      "  FutureWarning\n"
     ]
    },
    {
     "data": {
      "text/plain": [
       "<AxesSubplot:xlabel='x좌표', ylabel='y좌표'>"
      ]
     },
     "execution_count": 17,
     "metadata": {},
     "output_type": "execute_result"
    },
    {
     "data": {
      "image/png": "[encoded data removed]",
      "text/plain": [
       "<Figure size 432x288 with 1 Axes>"
      ]
     },
     "metadata": {
      "needs_background": "light"
     },
     "output_type": "display_data"
    }
   ],
   "source": [
    "sns.scatterplot(sf_df['x좌표'], sf_df['y좌표'])"
   ]
  }
 ],
 "metadata": {
  "kernelspec": {
   "display_name": "Python 3 (ipykernel)",
   "language": "python",
   "name": "python3"
  },
  "language_info": {
   "codemirror_mode": {
    "name": "ipython",
    "version": 3
   },
   "file_extension": ".py",
   "mimetype": "text/x-python",
   "name": "python",
   "nbconvert_exporter": "python",
   "pygments_lexer": "ipython3",
   "version": "3.7.9"
  }
 },
 "nbformat": 4,
 "nbformat_minor": 4
}
