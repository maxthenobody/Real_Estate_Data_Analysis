{
 "cells": [
  {
   "cell_type": "code",
   "execution_count": 1,
   "metadata": {},
   "outputs": [],
   "source": [
    "import pandas as pd\n",
    "import numpy as np\n",
    "import os\n",
    "pd.set_option('display.max_rows', 500)\n",
    "pd.set_option('display.max_columns', 500)\n",
    "import tqdm\n",
    "import matplotlib.pyplot as plt\n",
    "import seaborn as sns\n",
    "import matplotlib\n",
    "matplotlib.rcParams['axes.unicode_minus'] = False\n",
    "pd.options.mode.chained_assignment = None  # default='warn'\n",
    "plt.rcParams['font.family'] = 'Malgun Gothic'\n",
    "font = {'size': 16}\n",
    "matplotlib.rc('font', **font)\n",
    "tqdm.tqdm.pandas()\n",
    "import gc"
   ]
  },
  {
   "cell_type": "code",
   "execution_count": null,
   "metadata": {
    "scrolled": true
   },
   "outputs": [],
   "source": [
    "%%time\n",
    "training_data_df = pd.read_csv('./Prepped Data/training_data7_one_hot_encoding_20220207.csv')\n",
    "print(training_data_df.shape)\n",
    "training_data_df.head()"
   ]
  },
  {
   "cell_type": "markdown",
   "metadata": {},
   "source": [
    "# Sklearn Linear Regressor"
   ]
  },
  {
   "cell_type": "code",
   "execution_count": null,
   "metadata": {},
   "outputs": [],
   "source": [
    "from sklearn.model_selection import GroupKFold\n",
    "from sklearn.linear_model import LinearRegression"
   ]
  },
  {
   "cell_type": "code",
   "execution_count": null,
   "metadata": {},
   "outputs": [],
   "source": [
    "gkfold = GroupKFold(n_splits=5)"
   ]
  },
  {
   "cell_type": "code",
   "execution_count": null,
   "metadata": {},
   "outputs": [],
   "source": [
    "from sklearn.metrics import mean_squared_error"
   ]
  },
  {
   "cell_type": "code",
   "execution_count": null,
   "metadata": {},
   "outputs": [],
   "source": []
  },
  {
   "cell_type": "markdown",
   "metadata": {},
   "source": [
    "# Sklearn Quantile Regressor"
   ]
  },
  {
   "cell_type": "code",
   "execution_count": null,
   "metadata": {},
   "outputs": [],
   "source": [
    "from sklearn.linear_model import QuantileRegressor"
   ]
  },
  {
   "cell_type": "code",
   "execution_count": null,
   "metadata": {},
   "outputs": [],
   "source": [
    "from sklearn.model_selection import cross_validate"
   ]
  },
  {
   "cell_type": "code",
   "execution_count": null,
   "metadata": {
    "scrolled": true
   },
   "outputs": [],
   "source": [
    "#count = 0\n",
    "models_list = []\n",
    "for i, (train_idx, val_idx) in enumerate(gkfold.split(training_data_df, groups=training_data_df['주소_건축년도'])):\n",
    "    print('-------------- Fold {} starting ---------------'.format(i))\n",
    "    \n",
    "    print(i)\n",
    "    print(len(train_idx), len(val_idx))\n",
    "    \n",
    "    x_train = training_data_df.drop(columns=['주소_건축년도', '거래/보증금(만원)']).loc[train_idx, :]\n",
    "    y_train = training_data_df['거래/보증금(만원)'].loc[train_idx]\n",
    "\n",
    "    x_val = training_data_df.drop(columns=['주소_건축년도', '거래/보증금(만원)']).loc[val_idx, :]\n",
    "    y_val = training_data_df['거래/보증금(만원)'].loc[val_idx]\n",
    "\n",
    "    model = QuantileRegressor(quantile=0.5)\n",
    "    \n",
    "    model.fit(x_train, y_train)\n",
    "\n",
    "    dump(model, './Training/Training7_20220208/quantile05_regression_model_{}.joblib'.format(i))\n",
    "    \n",
    "    print('-------------- Fold {} ending ---------------'.format(i))\n",
    "    #count += 1"
   ]
  },
  {
   "cell_type": "code",
   "execution_count": null,
   "metadata": {},
   "outputs": [],
   "source": []
  },
  {
   "cell_type": "code",
   "execution_count": null,
   "metadata": {
    "scrolled": true
   },
   "outputs": [],
   "source": [
    "count = 0\n",
    "models_list = []\n",
    "for train_idx, val_idx in gkfold.split(training_data_df, groups=training_data_df['주소_건축년도']):\n",
    "    print('-------------- Fold {} starting ---------------'.format(count))\n",
    "    \n",
    "    x_train = training_data_df.drop(columns=['주소_건축년도', '거래/보증금(만원)']).loc[train_idx, :]\n",
    "    y_train = training_data_df['거래/보증금(만원)'].loc[train_idx]\n",
    "    \n",
    "    x_val = training_data_df.drop(columns=['주소_건축년도', '거래/보증금(만원)']).loc[val_idx, :]\n",
    "    y_val = training_data_df['거래/보증금(만원)'].loc[val_idx]\n",
    "    \n",
    "    model = QuantileRegressor(quantile=0.25)\n",
    "    \n",
    "    model.fit(x_train, y_train)\n",
    "\n",
    "    dump(model, './Training/Training7_20220208/quantile05_regression_model_{}.joblib'.format(i))\n",
    "    \n",
    "    print('-------------- Fold {} ending ---------------'.format(count))\n",
    "    count += 1"
   ]
  },
  {
   "cell_type": "code",
   "execution_count": null,
   "metadata": {},
   "outputs": [],
   "source": []
  },
  {
   "cell_type": "code",
   "execution_count": null,
   "metadata": {},
   "outputs": [],
   "source": [
    "count = 0\n",
    "models_list = []\n",
    "for train_idx, val_idx in gkfold.split(training_data_df, groups=training_data_df['주소_건축년도']):\n",
    "    print('-------------- Fold {} starting ---------------'.format(count))\n",
    "    \n",
    "    x_train = training_data_df.drop(columns=['주소_건축년도', '거래/보증금(만원)']).loc[train_idx, :]\n",
    "    y_train = training_data_df['거래/보증금(만원)'].loc[train_idx]\n",
    "    \n",
    "    x_val = training_data_df.drop(columns=['주소_건축년도', '거래/보증금(만원)']).loc[val_idx, :]\n",
    "    y_val = training_data_df['거래/보증금(만원)'].loc[val_idx]\n",
    "    \n",
    "    train_pool = catboost.Pool(x_train, y_train, cat_features=cat_cols)\n",
    "    val_pool = catboost.Pool(x_val, y_val, cat_features=cat_cols)\n",
    "    \n",
    "    model = catboost.CatBoostRegressor(iterations=10000, depth=6, task_type='GPU', loss_function='Quantile:alpha=0.75')\n",
    "    \n",
    "    model.fit(train_pool, eval_set=val_pool, verbose=50, early_stopping_rounds=200)\n",
    "    \n",
    "    model.save_model('./Training/Training6_20220207/catboost_quantile075_{}'.format(count))\n",
    "    \n",
    "    print('-------------- Fold {} ending ---------------'.format(count))\n",
    "    count += 1"
   ]
  },
  {
   "cell_type": "code",
   "execution_count": null,
   "metadata": {},
   "outputs": [],
   "source": []
  },
  {
   "cell_type": "code",
   "execution_count": null,
   "metadata": {},
   "outputs": [],
   "source": [
    "count = 0\n",
    "models_list = []\n",
    "for train_idx, val_idx in gkfold.split(training_data_df, groups=training_data_df['주소_건축년도']):\n",
    "    print('-------------- Fold {} starting ---------------'.format(count))\n",
    "    \n",
    "    x_train = training_data_df.drop(columns=['주소_건축년도', '거래/보증금(만원)']).loc[train_idx, :]\n",
    "    y_train = training_data_df['거래/보증금(만원)'].loc[train_idx]\n",
    "    \n",
    "    x_val = training_data_df.drop(columns=['주소_건축년도', '거래/보증금(만원)']).loc[val_idx, :]\n",
    "    y_val = training_data_df['거래/보증금(만원)'].loc[val_idx]\n",
    "    \n",
    "    train_pool = catboost.Pool(x_train, y_train, cat_features=cat_cols)\n",
    "    val_pool = catboost.Pool(x_val, y_val, cat_features=cat_cols)\n",
    "    \n",
    "    model = catboost.CatBoostRegressor(iterations=10000, depth=6, task_type='GPU', loss_function='Quantile:alpha=0.125')\n",
    "    \n",
    "    model.fit(train_pool, eval_set=val_pool, verbose=50, early_stopping_rounds=200)\n",
    "    \n",
    "    model.save_model('./Training/Training6_20220207/catboost_quantile0125_{}'.format(count))\n",
    "    \n",
    "    print('-------------- Fold {} ending ---------------'.format(count))\n",
    "    count += 1"
   ]
  },
  {
   "cell_type": "code",
   "execution_count": null,
   "metadata": {},
   "outputs": [],
   "source": []
  },
  {
   "cell_type": "code",
   "execution_count": null,
   "metadata": {},
   "outputs": [],
   "source": [
    "count = 0\n",
    "models_list = []\n",
    "for train_idx, val_idx in gkfold.split(training_data_df, groups=training_data_df['주소_건축년도']):\n",
    "    print('-------------- Fold {} starting ---------------'.format(count))\n",
    "    \n",
    "    x_train = training_data_df.drop(columns=['주소_건축년도', '거래/보증금(만원)']).loc[train_idx, :]\n",
    "    y_train = training_data_df['거래/보증금(만원)'].loc[train_idx]\n",
    "    \n",
    "    x_val = training_data_df.drop(columns=['주소_건축년도', '거래/보증금(만원)']).loc[val_idx, :]\n",
    "    y_val = training_data_df['거래/보증금(만원)'].loc[val_idx]\n",
    "    \n",
    "    train_pool = catboost.Pool(x_train, y_train, cat_features=cat_cols)\n",
    "    val_pool = catboost.Pool(x_val, y_val, cat_features=cat_cols)\n",
    "    \n",
    "    model = catboost.CatBoostRegressor(iterations=10000, depth=6, task_type='GPU', loss_function='Quantile:alpha=0.875')\n",
    "    \n",
    "    model.fit(train_pool, eval_set=val_pool, verbose=50, early_stopping_rounds=200)\n",
    "    \n",
    "    model.save_model('./Training/Training6_20220207/catboost_quantile0875_{}'.format(count))\n",
    "    \n",
    "    print('-------------- Fold {} ending ---------------'.format(count))\n",
    "    count += 1"
   ]
  },
  {
   "cell_type": "code",
   "execution_count": null,
   "metadata": {},
   "outputs": [],
   "source": []
  },
  {
   "cell_type": "code",
   "execution_count": null,
   "metadata": {},
   "outputs": [],
   "source": []
  },
  {
   "cell_type": "code",
   "execution_count": null,
   "metadata": {},
   "outputs": [],
   "source": []
  },
  {
   "cell_type": "code",
   "execution_count": null,
   "metadata": {},
   "outputs": [],
   "source": []
  },
  {
   "cell_type": "code",
   "execution_count": null,
   "metadata": {},
   "outputs": [],
   "source": []
  },
  {
   "cell_type": "code",
   "execution_count": null,
   "metadata": {},
   "outputs": [],
   "source": []
  },
  {
   "cell_type": "code",
   "execution_count": null,
   "metadata": {},
   "outputs": [],
   "source": []
  }
 ],
 "metadata": {
  "kernelspec": {
   "display_name": "Python 3 (ipykernel)",
   "language": "python",
   "name": "python3"
  },
  "language_info": {
   "codemirror_mode": {
    "name": "ipython",
    "version": 3
   },
   "file_extension": ".py",
   "mimetype": "text/x-python",
   "name": "python",
   "nbconvert_exporter": "python",
   "pygments_lexer": "ipython3",
   "version": "3.7.9"
  }
 },
 "nbformat": 4,
 "nbformat_minor": 4
}
