{
 "cells": [
  {
   "cell_type": "code",
   "execution_count": null,
   "metadata": {},
   "outputs": [],
   "source": [
    "import pandas as pd\n",
    "import numpy as np\n",
    "import os\n",
    "pd.set_option('display.max_rows', 500)\n",
    "pd.set_option('display.max_columns', 500)\n",
    "from tqdm import tqdm\n",
    "import matplotlib.pyplot as plt\n",
    "import seaborn as sns\n",
    "import matplotlib\n",
    "matplotlib.rcParams['axes.unicode_minus'] = False\n",
    "pd.options.mode.chained_assignment = None  # default='warn'\n",
    "plt.rcParams['font.family'] = 'Malgun Gothic'\n",
    "font = {'size': 16}\n",
    "matplotlib.rc('font', **font)\n",
    "tqdm.pandas()"
   ]
  },
  {
   "cell_type": "code",
   "execution_count": null,
   "metadata": {},
   "outputs": [],
   "source": [
    "def read_coor_data():\n",
    "    \n",
    "    col_names = [\n",
    "    '시군구코드', '출입구일련번호', '법정동코드', '시도명', '시군구명', '읍면동명', '도로명코드', '도로명', '지하여부', '건물본번',\n",
    "    '건물부번', '건물명', '우편번호', '건물용도분류', '건물군여부', '관할행정동', 'X좌표', 'Y좌표'\n",
    "    ]\n",
    "    \n",
    "    basedir = './위치정보관련/위치정보요약DB/'\n",
    "    filenames = [f for f in os.listdir(basedir) if f.endswith('.txt')]\n",
    "    print('filenames:', filenames)\n",
    "    \n",
    "    dfs_list = []\n",
    "    for file in tqdm(filenames):\n",
    "        df = pd.read_csv(basedir + file, sep='|', encoding='ansi', names=col_names)\n",
    "        \n",
    "        dfs_list.append(df)\n",
    "    \n",
    "    concat_df = pd.concat(dfs_list).drop_duplicates().reset_index(drop=True)\n",
    "    \n",
    "    return concat_df    "
   ]
  },
  {
   "cell_type": "code",
   "execution_count": null,
   "metadata": {},
   "outputs": [],
   "source": [
    "coor_df = read_coor_data()\n",
    "print(coor_df.shape)\n",
    "coor_df.head()"
   ]
  },
  {
   "cell_type": "code",
   "execution_count": null,
   "metadata": {},
   "outputs": [],
   "source": [
    "underground_df = coor_df[coor_df['지하여부'] == 1]\n",
    "print(underground_df.shape)\n",
    "underground_df.head()"
   ]
  },
  {
   "cell_type": "code",
   "execution_count": null,
   "metadata": {},
   "outputs": [],
   "source": []
  },
  {
   "cell_type": "code",
   "execution_count": null,
   "metadata": {},
   "outputs": [],
   "source": []
  },
  {
   "cell_type": "code",
   "execution_count": null,
   "metadata": {},
   "outputs": [],
   "source": []
  },
  {
   "cell_type": "code",
   "execution_count": null,
   "metadata": {},
   "outputs": [],
   "source": [
    "def read_addr_data():\n",
    "    \n",
    "    col_names = [\n",
    "        '관리번호', '도로명코드', '읍면동일련번호', '지하여부', '건물본번', '건물부번', '기초구역번호', '변경사유코드', '고시일자',\n",
    "        '변경전도로명주소', '상세주소부여 여부'\n",
    "    ]\n",
    "    \n",
    "    basedir = './위치정보관련/주소DB/'\n",
    "    filenames = [f for f in os.listdir(basedir) if (f.startswith('주소_'))&(f.endswith('.txt'))]\n",
    "    print('filenames:', filenames)\n",
    "    \n",
    "    dfs_list = []\n",
    "    for file in tqdm(filenames):\n",
    "        df = pd.read_csv(basedir + file, sep='|', names=col_names)\n",
    "        \n",
    "        dfs_list.append(df)\n",
    "    \n",
    "    concat_df = pd.concat(dfs_list).drop_duplicates().reset_index(drop=True)\n",
    "    \n",
    "    return concat_df"
   ]
  },
  {
   "cell_type": "code",
   "execution_count": null,
   "metadata": {},
   "outputs": [],
   "source": [
    "addr_df = read_addr_data()\n",
    "print(addr_df.shape)\n",
    "addr_df.head()"
   ]
  },
  {
   "cell_type": "code",
   "execution_count": null,
   "metadata": {},
   "outputs": [],
   "source": [
    "def read_landnum_data():\n",
    "    \n",
    "    col_names = [\n",
    "        '관리번호', '일련번호', '법정동코드', '시도명', '시군구명', '법정읍면동명', '법정리명', '산여부', '지번본번(번지)',\n",
    "        '지번부번(호)', '대표번호'\n",
    "    ]\n",
    "    \n",
    "    basedir = './위치정보관련/주소DB/'\n",
    "    filenames = [f for f in os.listdir(basedir) if (f.startswith('지번_'))&(f.endswith('.txt'))]\n",
    "    print('filenames:', filenames)\n",
    "    \n",
    "    dfs_list = []\n",
    "    for file in tqdm(filenames):\n",
    "        df = pd.read_csv(basedir + file, sep='|', encoding='ansi', names=col_names)\n",
    "        \n",
    "        dfs_list.append(df)\n",
    "    \n",
    "    concat_df = pd.concat(dfs_list).drop_duplicates().reset_index(drop=True)\n",
    "    \n",
    "    return concat_df"
   ]
  },
  {
   "cell_type": "code",
   "execution_count": null,
   "metadata": {},
   "outputs": [],
   "source": [
    "landnum_df = read_landnum_data()\n",
    "print(landnum_df.shape)\n",
    "landnum_df.head()"
   ]
  },
  {
   "cell_type": "code",
   "execution_count": null,
   "metadata": {},
   "outputs": [],
   "source": [
    "landnum_df['산여부'] = landnum_df['산여부'].apply(lambda x: '일반' if x == 0 else '산')"
   ]
  },
  {
   "cell_type": "code",
   "execution_count": null,
   "metadata": {},
   "outputs": [],
   "source": [
    "landnum_df.head()"
   ]
  },
  {
   "cell_type": "code",
   "execution_count": null,
   "metadata": {},
   "outputs": [],
   "source": [
    "landnum_df['법정리명'].isna().sum()"
   ]
  },
  {
   "cell_type": "code",
   "execution_count": null,
   "metadata": {},
   "outputs": [],
   "source": [
    "landnum_df = landnum_df.drop(columns=['법정리명', '대표번호'])"
   ]
  },
  {
   "cell_type": "code",
   "execution_count": null,
   "metadata": {},
   "outputs": [],
   "source": [
    "landnum_df.head()"
   ]
  },
  {
   "cell_type": "code",
   "execution_count": null,
   "metadata": {},
   "outputs": [],
   "source": [
    "landnum_df['관리번호'].nunique()"
   ]
  },
  {
   "cell_type": "code",
   "execution_count": null,
   "metadata": {},
   "outputs": [],
   "source": [
    "landnum_df.dtypes"
   ]
  },
  {
   "cell_type": "code",
   "execution_count": null,
   "metadata": {},
   "outputs": [],
   "source": [
    "landnum_df.isna().sum()"
   ]
  },
  {
   "cell_type": "code",
   "execution_count": null,
   "metadata": {},
   "outputs": [],
   "source": [
    "landnum_df['산여부'].value_counts()"
   ]
  },
  {
   "cell_type": "code",
   "execution_count": null,
   "metadata": {},
   "outputs": [],
   "source": [
    "landnum_df['지번주소'] = landnum_df['시도명'] + ' ' + landnum_df['시군구명'] + ' ' + landnum_df['법정읍면동명']\\\n",
    "+ ' ' + landnum_df['산여부'] + ' ' + landnum_df['지번본번(번지)'].apply(str) + '-' + landnum_df['지번부번(호)'].apply(str)"
   ]
  },
  {
   "cell_type": "code",
   "execution_count": null,
   "metadata": {},
   "outputs": [],
   "source": [
    "landnum_df.head()"
   ]
  },
  {
   "cell_type": "code",
   "execution_count": null,
   "metadata": {},
   "outputs": [],
   "source": [
    "landnum_df = landnum_df.drop(columns=['시도명', '시군구명', '법정읍면동명', '산여부', '지번본번(번지)', '지번부번(호)'])\n",
    "print(landnum_df.shape)\n",
    "landnum_df.head()"
   ]
  },
  {
   "cell_type": "code",
   "execution_count": null,
   "metadata": {},
   "outputs": [],
   "source": [
    "landnum_df['지번주소'].nunique()"
   ]
  },
  {
   "cell_type": "code",
   "execution_count": null,
   "metadata": {},
   "outputs": [],
   "source": [
    "landnum_df['관리번호'].nunique()"
   ]
  },
  {
   "cell_type": "code",
   "execution_count": null,
   "metadata": {},
   "outputs": [],
   "source": [
    "addr_df.head()"
   ]
  },
  {
   "cell_type": "code",
   "execution_count": null,
   "metadata": {},
   "outputs": [],
   "source": [
    "addr_df['관리번호'].nunique()"
   ]
  },
  {
   "cell_type": "code",
   "execution_count": null,
   "metadata": {},
   "outputs": [],
   "source": [
    "addr_df = addr_df.drop(columns=['변경사유코드', '고시일자', '변경전도로명주소', '상세주소부여 여부', '기초구역번호'])\n",
    "print(addr_df.shape)\n",
    "addr_df.head()"
   ]
  },
  {
   "cell_type": "code",
   "execution_count": null,
   "metadata": {},
   "outputs": [],
   "source": [
    "addr_df = addr_df.rename(columns={'읍면동일련번호':'일련번호'})\n",
    "print(addr_df.shape)\n",
    "addr_df.head()"
   ]
  },
  {
   "cell_type": "code",
   "execution_count": null,
   "metadata": {},
   "outputs": [],
   "source": [
    "addr_df = addr_df.drop(columns=['일련번호'])\n",
    "landnum_df = landnum_df.drop(columns=['일련번호'])"
   ]
  },
  {
   "cell_type": "code",
   "execution_count": null,
   "metadata": {},
   "outputs": [],
   "source": [
    "addr_landnum_df = landnum_df.merge(addr_df, on=['관리번호'])\n",
    "print(addr_landnum_df.shape)\n",
    "addr_landnum_df.head()"
   ]
  },
  {
   "cell_type": "code",
   "execution_count": null,
   "metadata": {},
   "outputs": [],
   "source": [
    "coor_df.head()"
   ]
  },
  {
   "cell_type": "code",
   "execution_count": null,
   "metadata": {},
   "outputs": [],
   "source": [
    "coor_df = coor_df.drop(columns=['시군구코드', '출입구일련번호', '시도명', '시군구명', '읍면동명', '도로명', '건물명',\n",
    "                                '우편번호', '관할행정동'\n",
    "                               ])"
   ]
  },
  {
   "cell_type": "code",
   "execution_count": null,
   "metadata": {},
   "outputs": [],
   "source": [
    "print(coor_df.shape)\n",
    "coor_df.head()"
   ]
  },
  {
   "cell_type": "code",
   "execution_count": null,
   "metadata": {},
   "outputs": [],
   "source": [
    "#a"
   ]
  },
  {
   "cell_type": "code",
   "execution_count": null,
   "metadata": {},
   "outputs": [],
   "source": [
    "os.listdir('./Prepped Data/')"
   ]
  },
  {
   "cell_type": "code",
   "execution_count": null,
   "metadata": {},
   "outputs": [],
   "source": [
    "main_data_df = pd.read_csv('./Prepped Data/main_data_baseline_20211202.csv')\n",
    "print(main_data_df.shape)\n",
    "main_data_df.head()"
   ]
  },
  {
   "cell_type": "code",
   "execution_count": null,
   "metadata": {},
   "outputs": [],
   "source": [
    "main_data_df['도로명'].isna().sum()"
   ]
  },
  {
   "cell_type": "code",
   "execution_count": null,
   "metadata": {},
   "outputs": [],
   "source": [
    "main_data_df['도로명'].value_counts()"
   ]
  },
  {
   "cell_type": "code",
   "execution_count": null,
   "metadata": {},
   "outputs": [],
   "source": [
    "inv_df = main_data_df[main_data_df['도로명'] == ' ']\n",
    "print(inv_df.shape)\n",
    "inv_df.head()"
   ]
  },
  {
   "cell_type": "code",
   "execution_count": null,
   "metadata": {},
   "outputs": [],
   "source": []
  },
  {
   "cell_type": "code",
   "execution_count": null,
   "metadata": {},
   "outputs": [],
   "source": []
  },
  {
   "cell_type": "code",
   "execution_count": null,
   "metadata": {},
   "outputs": [],
   "source": [
    "print(addr_landnum_df.shape)\n",
    "addr_landnum_df.head()"
   ]
  },
  {
   "cell_type": "code",
   "execution_count": null,
   "metadata": {},
   "outputs": [],
   "source": [
    "addr_landnum_df = addr_landnum_df.drop(columns=['법정동코드'])\n",
    "coor_df = coor_df.drop(columns=['법정동코드'])"
   ]
  },
  {
   "cell_type": "code",
   "execution_count": null,
   "metadata": {},
   "outputs": [],
   "source": [
    "merge_df = addr_landnum_df.merge(coor_df, on=['도로명코드', '지하여부', '건물본번', '건물부번'])\n",
    "print(merge_df.shape)\n",
    "merge_df.head()"
   ]
  },
  {
   "cell_type": "code",
   "execution_count": null,
   "metadata": {},
   "outputs": [],
   "source": [
    "merge_df['지번주소'].nunique()"
   ]
  },
  {
   "cell_type": "code",
   "execution_count": null,
   "metadata": {},
   "outputs": [],
   "source": [
    "merge_df = merge_df.sort_values(['지번주소', '지하여부', '건물본번', '건물부번'])\n",
    "print(merge_df.shape)\n",
    "merge_df.head()"
   ]
  },
  {
   "cell_type": "code",
   "execution_count": null,
   "metadata": {},
   "outputs": [],
   "source": [
    "merge_df = merge_df.drop_duplicates(subset=['지번주소'], keep='first').reset_index(drop=True)\n",
    "print(merge_df.shape)\n",
    "merge_df.head()"
   ]
  },
  {
   "cell_type": "code",
   "execution_count": null,
   "metadata": {},
   "outputs": [],
   "source": [
    "%%time\n",
    "merge_df.to_csv('./prepped_data/지번_도로명_좌표_20210917.csv', index=False)"
   ]
  },
  {
   "cell_type": "code",
   "execution_count": null,
   "metadata": {},
   "outputs": [],
   "source": []
  },
  {
   "cell_type": "code",
   "execution_count": null,
   "metadata": {},
   "outputs": [],
   "source": []
  },
  {
   "cell_type": "code",
   "execution_count": null,
   "metadata": {},
   "outputs": [],
   "source": [
    "land_specs_df.to_csv('./prepped_data/토지특성정보_last_20210819.csv', index=False)"
   ]
  },
  {
   "cell_type": "code",
   "execution_count": null,
   "metadata": {},
   "outputs": [],
   "source": [
    "land_specs_df['토지이동상황'].value_counts()"
   ]
  },
  {
   "cell_type": "code",
   "execution_count": null,
   "metadata": {},
   "outputs": [],
   "source": []
  },
  {
   "cell_type": "code",
   "execution_count": null,
   "metadata": {},
   "outputs": [],
   "source": []
  },
  {
   "cell_type": "code",
   "execution_count": null,
   "metadata": {},
   "outputs": [],
   "source": []
  },
  {
   "cell_type": "code",
   "execution_count": null,
   "metadata": {},
   "outputs": [],
   "source": []
  },
  {
   "cell_type": "code",
   "execution_count": null,
   "metadata": {},
   "outputs": [],
   "source": []
  },
  {
   "cell_type": "code",
   "execution_count": null,
   "metadata": {},
   "outputs": [],
   "source": []
  },
  {
   "cell_type": "code",
   "execution_count": null,
   "metadata": {},
   "outputs": [],
   "source": []
  },
  {
   "cell_type": "code",
   "execution_count": null,
   "metadata": {},
   "outputs": [],
   "source": []
  },
  {
   "cell_type": "code",
   "execution_count": null,
   "metadata": {},
   "outputs": [],
   "source": []
  },
  {
   "cell_type": "code",
   "execution_count": null,
   "metadata": {},
   "outputs": [],
   "source": [
    "%%time\n",
    "land_specs_df = pd.read_csv('./prepped_data/land_specs_ver_4.csv').sort_values(['지번주소', '년']).reset_index(drop=True).drop(columns=['공시지가'])\n",
    "print(land_specs_df.shape)\n",
    "land_specs_df.head()"
   ]
  },
  {
   "cell_type": "code",
   "execution_count": null,
   "metadata": {},
   "outputs": [],
   "source": [
    "last_df = land_specs_df.drop_duplicates(subset=['지번주소'], keep='last')\n",
    "print(last_df.shape)\n",
    "last_df.head()"
   ]
  },
  {
   "cell_type": "code",
   "execution_count": null,
   "metadata": {},
   "outputs": [],
   "source": [
    "last_df['토지이동상황'].value_counts()"
   ]
  },
  {
   "cell_type": "code",
   "execution_count": null,
   "metadata": {},
   "outputs": [],
   "source": [
    "addr_coor_df = pd.read_csv('./prepped_data/addr_coor_data_ver_1.csv')\n",
    "print(addr_coor_df.shape)\n",
    "addr_coor_df.head()"
   ]
  },
  {
   "cell_type": "code",
   "execution_count": null,
   "metadata": {},
   "outputs": [],
   "source": [
    "merge_df = last_df.merge(addr_coor_df, on=['지번주소'])\n",
    "print(merge_df.shape)\n",
    "merge_df.head()"
   ]
  },
  {
   "cell_type": "code",
   "execution_count": null,
   "metadata": {},
   "outputs": [],
   "source": [
    "merge_df['토지이동상황'].value_counts()"
   ]
  },
  {
   "cell_type": "code",
   "execution_count": null,
   "metadata": {},
   "outputs": [],
   "source": [
    "dandok_df = merge_df[merge_df['토지이동상황'] == '단독']\n",
    "print(dandok_df.shape)"
   ]
  },
  {
   "cell_type": "code",
   "execution_count": null,
   "metadata": {},
   "outputs": [],
   "source": [
    "dasede_df = merge_df[merge_df['토지이동상황'] == '다세대']"
   ]
  },
  {
   "cell_type": "code",
   "execution_count": null,
   "metadata": {},
   "outputs": [],
   "source": [
    "apart_df = merge_df[merge_df['토지이동상황'] == '아파트']"
   ]
  },
  {
   "cell_type": "code",
   "execution_count": null,
   "metadata": {},
   "outputs": [],
   "source": [
    "commercial_df = merge_df[merge_df['토지이동상황'] == '상업용']"
   ]
  },
  {
   "cell_type": "code",
   "execution_count": null,
   "metadata": {},
   "outputs": [],
   "source": [
    "jusang_df = merge_df[merge_df['토지이동상황'] == '주상용']"
   ]
  },
  {
   "cell_type": "code",
   "execution_count": null,
   "metadata": {},
   "outputs": [],
   "source": [
    "not_dandok_df = merge_df[merge_df['토지이동상황'] != '단독']"
   ]
  },
  {
   "cell_type": "code",
   "execution_count": null,
   "metadata": {},
   "outputs": [],
   "source": []
  },
  {
   "cell_type": "code",
   "execution_count": null,
   "metadata": {},
   "outputs": [],
   "source": [
    "f, ax = plt.subplots(figsize=(100,100))\n",
    "plt.axis('equal')\n",
    "#plt.title('{} {}'.format('서울전체', '지번평균'))\n",
    "sns.scatterplot(dandok_df['X좌표'], dandok_df['Y좌표'], s=5)\n",
    "sns.scatterplot(dasede_df['X좌표'], dasede_df['Y좌표'], s=5)\n",
    "#plt.savefig(basedir + '{} {}.png'.format('서울전체', '지번평균'))\n",
    "\n",
    "plt.show()\n",
    "plt.clf()"
   ]
  },
  {
   "cell_type": "code",
   "execution_count": null,
   "metadata": {},
   "outputs": [],
   "source": [
    "merge_df['구'] = merge_df['지번주소'].apply(lambda x: x.split(' ')[1])\n",
    "merge_df['동'] = merge_df['지번주소'].apply(lambda x: x.split(' ')[2])"
   ]
  },
  {
   "cell_type": "code",
   "execution_count": null,
   "metadata": {},
   "outputs": [],
   "source": [
    "merge_df['구'].unique()"
   ]
  },
  {
   "cell_type": "code",
   "execution_count": null,
   "metadata": {},
   "outputs": [],
   "source": [
    "basedir = './국토교통부_실거래가_공개시스템/땅값분석/단독다가구_and_다세대/'"
   ]
  },
  {
   "cell_type": "code",
   "execution_count": null,
   "metadata": {
    "scrolled": false
   },
   "outputs": [],
   "source": [
    "for gu in merge_df['구'].unique():\n",
    "    print(gu)\n",
    "    \n",
    "    gu_df = merge_df[merge_df['구'] == gu]\n",
    "    \n",
    "    dandok_df = gu_df[gu_df['토지이동상황'] == '단독']\n",
    "    dasede_df = gu_df[gu_df['토지이동상황'] == '다세대']\n",
    "    \n",
    "    f, ax = plt.subplots(figsize=(30,30))\n",
    "    plt.axis('equal')\n",
    "    plt.title('{}'.format(gu))\n",
    "    sns.scatterplot(dandok_df['X좌표'], dandok_df['Y좌표'], s=5)\n",
    "    sns.scatterplot(dasede_df['X좌표'], dasede_df['Y좌표'], s=5)\n",
    "    plt.savefig(basedir + '{}.png'.format(gu))\n",
    "\n",
    "    plt.show()\n",
    "    plt.clf()"
   ]
  },
  {
   "cell_type": "code",
   "execution_count": null,
   "metadata": {},
   "outputs": [],
   "source": [
    "dongjak_df = merge_df[merge_df['구'] == '동작구']\n",
    "print(dongjak_df.shape)"
   ]
  },
  {
   "cell_type": "code",
   "execution_count": null,
   "metadata": {},
   "outputs": [],
   "source": [
    "dongjak_df.head()"
   ]
  },
  {
   "cell_type": "code",
   "execution_count": null,
   "metadata": {},
   "outputs": [],
   "source": [
    "dandok_df = dongjak_df[dongjak_df['토지이동상황'] == '단독']\n",
    "dasede_df = dongjak_df[dongjak_df['토지이동상황'] == '다세대']\n",
    "\n",
    "f, ax = plt.subplots(figsize=(30,30))\n",
    "plt.axis('equal')\n",
    "plt.title('{}'.format('동작구'))\n",
    "sns.scatterplot(dandok_df['X좌표'], dandok_df['Y좌표'], s=5)\n",
    "sns.scatterplot(dasede_df['X좌표'], dasede_df['Y좌표'], s=5)\n",
    "#plt.savefig(basedir + '{}.png'.format(gu))\n",
    "\n",
    "plt.show()\n",
    "plt.clf()"
   ]
  },
  {
   "cell_type": "code",
   "execution_count": null,
   "metadata": {},
   "outputs": [],
   "source": [
    "target_df = dandok_df[(dandok_df['X좌표']>=950100)&(dandok_df['X좌표']<=950700)&(dandok_df['Y좌표']>=1.9455*1000000)&\n",
    "                      (dandok_df['Y좌표']<=1.946*1000000)\n",
    "                     ]\n",
    "print(target_df.shape)"
   ]
  },
  {
   "cell_type": "code",
   "execution_count": null,
   "metadata": {},
   "outputs": [],
   "source": [
    "f, ax = plt.subplots(figsize=(30,30))\n",
    "plt.axis('equal')\n",
    "plt.title('{}'.format('동작구'))\n",
    "sns.scatterplot(target_df['X좌표'], target_df['Y좌표'], s=5)\n",
    "#plt.savefig(basedir + '{}.png'.format(gu))\n",
    "\n",
    "plt.show()\n",
    "plt.clf()"
   ]
  },
  {
   "cell_type": "code",
   "execution_count": null,
   "metadata": {},
   "outputs": [],
   "source": [
    "target_df.head(100)"
   ]
  },
  {
   "cell_type": "code",
   "execution_count": null,
   "metadata": {},
   "outputs": [],
   "source": []
  },
  {
   "cell_type": "code",
   "execution_count": null,
   "metadata": {},
   "outputs": [],
   "source": []
  },
  {
   "cell_type": "code",
   "execution_count": null,
   "metadata": {},
   "outputs": [],
   "source": []
  },
  {
   "cell_type": "code",
   "execution_count": null,
   "metadata": {},
   "outputs": [],
   "source": []
  },
  {
   "cell_type": "code",
   "execution_count": null,
   "metadata": {},
   "outputs": [],
   "source": [
    "chunho_df = merge_df[merge_df['동'].str.contains('천호동')]\n",
    "print(chunho_df.shape)\n",
    "chunho_df.head()"
   ]
  },
  {
   "cell_type": "code",
   "execution_count": null,
   "metadata": {},
   "outputs": [],
   "source": []
  },
  {
   "cell_type": "code",
   "execution_count": null,
   "metadata": {},
   "outputs": [],
   "source": [
    "merge_df.shape"
   ]
  },
  {
   "cell_type": "code",
   "execution_count": null,
   "metadata": {},
   "outputs": [],
   "source": [
    "merge_df['토지이동상황'].value_counts()"
   ]
  },
  {
   "cell_type": "code",
   "execution_count": null,
   "metadata": {},
   "outputs": [],
   "source": [
    "dandok_df = chunho_df[chunho_df['토지이동상황']]"
   ]
  }
 ],
 "metadata": {
  "kernelspec": {
   "display_name": "Python 3",
   "language": "python",
   "name": "python3"
  },
  "language_info": {
   "codemirror_mode": {
    "name": "ipython",
    "version": 3
   },
   "file_extension": ".py",
   "mimetype": "text/x-python",
   "name": "python",
   "nbconvert_exporter": "python",
   "pygments_lexer": "ipython3",
   "version": "3.7.9"
  }
 },
 "nbformat": 4,
 "nbformat_minor": 4
}
