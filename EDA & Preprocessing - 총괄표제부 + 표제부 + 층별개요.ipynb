{
 "cells": [
  {
   "cell_type": "code",
   "execution_count": 1,
   "metadata": {},
   "outputs": [],
   "source": [
    "import multiprocess as mp\n",
    "import numpy as np\n",
    "import pandas as pd\n",
    "import matplotlib.pyplot as plt\n",
    "import os\n",
    "import math\n",
    "from tqdm import tqdm\n",
    "pd.set_option('display.max_rows', 500)\n",
    "pd.set_option('display.max_columns', 500)\n",
    "import datetime\n",
    "from sklearn.preprocessing import quantile_transform\n",
    "pd.options.mode.chained_assignment = None  # default='warn'\n",
    "import gc"
   ]
  },
  {
   "cell_type": "code",
   "execution_count": 2,
   "metadata": {},
   "outputs": [],
   "source": [
    "basedir = './prepped_data/'"
   ]
  },
  {
   "cell_type": "code",
   "execution_count": 5,
   "metadata": {},
   "outputs": [
    {
     "name": "stdout",
     "output_type": "stream",
     "text": [
      "(894005, 6)\n"
     ]
    },
    {
     "data": {
      "text/html": [
       "<div>\n",
       "<style scoped>\n",
       "    .dataframe tbody tr th:only-of-type {\n",
       "        vertical-align: middle;\n",
       "    }\n",
       "\n",
       "    .dataframe tbody tr th {\n",
       "        vertical-align: top;\n",
       "    }\n",
       "\n",
       "    .dataframe thead th {\n",
       "        text-align: right;\n",
       "    }\n",
       "</style>\n",
       "<table border=\"1\" class=\"dataframe\">\n",
       "  <thead>\n",
       "    <tr style=\"text-align: right;\">\n",
       "      <th></th>\n",
       "      <th>지번주소</th>\n",
       "      <th>기준년월</th>\n",
       "      <th>관리_건축물대장_PK</th>\n",
       "      <th>주소별_기준년월_총세대수합</th>\n",
       "      <th>기준년월_최초사용승인일</th>\n",
       "      <th>주소별_최초생성일자</th>\n",
       "    </tr>\n",
       "  </thead>\n",
       "  <tbody>\n",
       "    <tr>\n",
       "      <th>0</th>\n",
       "      <td>서울특별시 강남구 개포동 1163-4</td>\n",
       "      <td>201412</td>\n",
       "      <td>11680-100218729</td>\n",
       "      <td>20</td>\n",
       "      <td>20130307.0</td>\n",
       "      <td>20130313</td>\n",
       "    </tr>\n",
       "    <tr>\n",
       "      <th>1</th>\n",
       "      <td>서울특별시 강남구 개포동 1163-4</td>\n",
       "      <td>201512</td>\n",
       "      <td>11680-100218729</td>\n",
       "      <td>20</td>\n",
       "      <td>20130307.0</td>\n",
       "      <td>20130313</td>\n",
       "    </tr>\n",
       "    <tr>\n",
       "      <th>2</th>\n",
       "      <td>서울특별시 강남구 개포동 1163-4</td>\n",
       "      <td>201612</td>\n",
       "      <td>11680-100218729</td>\n",
       "      <td>20</td>\n",
       "      <td>20130307.0</td>\n",
       "      <td>20130313</td>\n",
       "    </tr>\n",
       "    <tr>\n",
       "      <th>3</th>\n",
       "      <td>서울특별시 강남구 개포동 1163-4</td>\n",
       "      <td>201712</td>\n",
       "      <td>11680-100218729</td>\n",
       "      <td>20</td>\n",
       "      <td>20130307.0</td>\n",
       "      <td>20130313</td>\n",
       "    </tr>\n",
       "    <tr>\n",
       "      <th>4</th>\n",
       "      <td>서울특별시 강남구 개포동 1163-4</td>\n",
       "      <td>201812</td>\n",
       "      <td>11680-100218729</td>\n",
       "      <td>20</td>\n",
       "      <td>20130307.0</td>\n",
       "      <td>20130313</td>\n",
       "    </tr>\n",
       "  </tbody>\n",
       "</table>\n",
       "</div>"
      ],
      "text/plain": [
       "                   지번주소    기준년월      관리_건축물대장_PK  주소별_기준년월_총세대수합  \\\n",
       "0  서울특별시 강남구 개포동 1163-4  201412  11680-100218729              20   \n",
       "1  서울특별시 강남구 개포동 1163-4  201512  11680-100218729              20   \n",
       "2  서울특별시 강남구 개포동 1163-4  201612  11680-100218729              20   \n",
       "3  서울특별시 강남구 개포동 1163-4  201712  11680-100218729              20   \n",
       "4  서울특별시 강남구 개포동 1163-4  201812  11680-100218729              20   \n",
       "\n",
       "   기준년월_최초사용승인일  주소별_최초생성일자  \n",
       "0    20130307.0    20130313  \n",
       "1    20130307.0    20130313  \n",
       "2    20130307.0    20130313  \n",
       "3    20130307.0    20130313  \n",
       "4    20130307.0    20130313  "
      ]
     },
     "execution_count": 5,
     "metadata": {},
     "output_type": "execute_result"
    }
   ],
   "source": [
    "bdinfo_house_number_df = pd.read_csv(basedir + '표제부_기준년월별_총세대수합.csv')\n",
    "print(bdinfo_house_number_df.shape)\n",
    "bdinfo_house_number_df = bdinfo_house_number_df[['지번주소', '기준년월', '관리_건축물대장_PK', '주소별_기준년월_총세대수합',\n",
    "                                                 '기준년월_최초사용승인일', '주소별_최초생성일자'\n",
    "                                                ]]\n",
    "bdinfo_house_number_df.head()"
   ]
  },
  {
   "cell_type": "code",
   "execution_count": 6,
   "metadata": {},
   "outputs": [
    {
     "name": "stdout",
     "output_type": "stream",
     "text": [
      "(45376, 6)\n"
     ]
    },
    {
     "data": {
      "text/html": [
       "<div>\n",
       "<style scoped>\n",
       "    .dataframe tbody tr th:only-of-type {\n",
       "        vertical-align: middle;\n",
       "    }\n",
       "\n",
       "    .dataframe tbody tr th {\n",
       "        vertical-align: top;\n",
       "    }\n",
       "\n",
       "    .dataframe thead th {\n",
       "        text-align: right;\n",
       "    }\n",
       "</style>\n",
       "<table border=\"1\" class=\"dataframe\">\n",
       "  <thead>\n",
       "    <tr style=\"text-align: right;\">\n",
       "      <th></th>\n",
       "      <th>지번주소</th>\n",
       "      <th>기준년월</th>\n",
       "      <th>관리_건축물대장_PK</th>\n",
       "      <th>주소별_기준년월_총세대수합</th>\n",
       "      <th>기준년월_최초사용승인일</th>\n",
       "      <th>주소별_최초생성일자</th>\n",
       "    </tr>\n",
       "  </thead>\n",
       "  <tbody>\n",
       "    <tr>\n",
       "      <th>0</th>\n",
       "      <td>서울특별시 강남구 개포동 1193-5</td>\n",
       "      <td>201812</td>\n",
       "      <td>11680-100276255</td>\n",
       "      <td>29</td>\n",
       "      <td>20181112.0</td>\n",
       "      <td>20181114</td>\n",
       "    </tr>\n",
       "    <tr>\n",
       "      <th>1</th>\n",
       "      <td>서울특별시 강남구 개포동 1193-5</td>\n",
       "      <td>201912</td>\n",
       "      <td>11680-100276255</td>\n",
       "      <td>29</td>\n",
       "      <td>20181112.0</td>\n",
       "      <td>20181114</td>\n",
       "    </tr>\n",
       "    <tr>\n",
       "      <th>2</th>\n",
       "      <td>서울특별시 강남구 개포동 1193-5</td>\n",
       "      <td>202011</td>\n",
       "      <td>11680-100276255</td>\n",
       "      <td>29</td>\n",
       "      <td>20181112.0</td>\n",
       "      <td>20181114</td>\n",
       "    </tr>\n",
       "    <tr>\n",
       "      <th>3</th>\n",
       "      <td>서울특별시 강남구 개포동 12-0</td>\n",
       "      <td>201412</td>\n",
       "      <td>11680-103</td>\n",
       "      <td>4199</td>\n",
       "      <td>NaN</td>\n",
       "      <td>20120822</td>\n",
       "    </tr>\n",
       "    <tr>\n",
       "      <th>4</th>\n",
       "      <td>서울특별시 강남구 개포동 12-0</td>\n",
       "      <td>201512</td>\n",
       "      <td>11680-103</td>\n",
       "      <td>4199</td>\n",
       "      <td>NaN</td>\n",
       "      <td>20120822</td>\n",
       "    </tr>\n",
       "  </tbody>\n",
       "</table>\n",
       "</div>"
      ],
      "text/plain": [
       "                   지번주소    기준년월      관리_건축물대장_PK  주소별_기준년월_총세대수합  \\\n",
       "0  서울특별시 강남구 개포동 1193-5  201812  11680-100276255              29   \n",
       "1  서울특별시 강남구 개포동 1193-5  201912  11680-100276255              29   \n",
       "2  서울특별시 강남구 개포동 1193-5  202011  11680-100276255              29   \n",
       "3    서울특별시 강남구 개포동 12-0  201412        11680-103            4199   \n",
       "4    서울특별시 강남구 개포동 12-0  201512        11680-103            4199   \n",
       "\n",
       "   기준년월_최초사용승인일  주소별_최초생성일자  \n",
       "0    20181112.0    20181114  \n",
       "1    20181112.0    20181114  \n",
       "2    20181112.0    20181114  \n",
       "3           NaN    20120822  \n",
       "4           NaN    20120822  "
      ]
     },
     "execution_count": 6,
     "metadata": {},
     "output_type": "execute_result"
    }
   ],
   "source": [
    "wbdinfo_house_number_df = pd.read_csv('./prepped_data/총괄표제부_기준년월별_총세대수합.csv')\n",
    "print(wbdinfo_house_number_df.shape)\n",
    "wbdinfo_house_number_df.head()"
   ]
  },
  {
   "cell_type": "code",
   "execution_count": 7,
   "metadata": {},
   "outputs": [
    {
     "name": "stdout",
     "output_type": "stream",
     "text": [
      "(939381, 6)\n"
     ]
    }
   ],
   "source": [
    "concat_df = pd.concat([bdinfo_house_number_df, wbdinfo_house_number_df]).sort_values(['지번주소', '기준년월']).reset_index(drop=True)\n",
    "print(concat_df.shape)"
   ]
  },
  {
   "cell_type": "code",
   "execution_count": 8,
   "metadata": {},
   "outputs": [
    {
     "data": {
      "text/html": [
       "<div>\n",
       "<style scoped>\n",
       "    .dataframe tbody tr th:only-of-type {\n",
       "        vertical-align: middle;\n",
       "    }\n",
       "\n",
       "    .dataframe tbody tr th {\n",
       "        vertical-align: top;\n",
       "    }\n",
       "\n",
       "    .dataframe thead th {\n",
       "        text-align: right;\n",
       "    }\n",
       "</style>\n",
       "<table border=\"1\" class=\"dataframe\">\n",
       "  <thead>\n",
       "    <tr style=\"text-align: right;\">\n",
       "      <th></th>\n",
       "      <th>지번주소</th>\n",
       "      <th>기준년월</th>\n",
       "      <th>관리_건축물대장_PK</th>\n",
       "      <th>주소별_기준년월_총세대수합</th>\n",
       "      <th>기준년월_최초사용승인일</th>\n",
       "      <th>주소별_최초생성일자</th>\n",
       "    </tr>\n",
       "  </thead>\n",
       "  <tbody>\n",
       "    <tr>\n",
       "      <th>0</th>\n",
       "      <td>서울특별시 강남구 개포동 1163-4</td>\n",
       "      <td>201412</td>\n",
       "      <td>11680-100218729</td>\n",
       "      <td>20</td>\n",
       "      <td>20130307.0</td>\n",
       "      <td>20130313</td>\n",
       "    </tr>\n",
       "    <tr>\n",
       "      <th>1</th>\n",
       "      <td>서울특별시 강남구 개포동 1163-4</td>\n",
       "      <td>201512</td>\n",
       "      <td>11680-100218729</td>\n",
       "      <td>20</td>\n",
       "      <td>20130307.0</td>\n",
       "      <td>20130313</td>\n",
       "    </tr>\n",
       "    <tr>\n",
       "      <th>2</th>\n",
       "      <td>서울특별시 강남구 개포동 1163-4</td>\n",
       "      <td>201612</td>\n",
       "      <td>11680-100218729</td>\n",
       "      <td>20</td>\n",
       "      <td>20130307.0</td>\n",
       "      <td>20130313</td>\n",
       "    </tr>\n",
       "    <tr>\n",
       "      <th>3</th>\n",
       "      <td>서울특별시 강남구 개포동 1163-4</td>\n",
       "      <td>201712</td>\n",
       "      <td>11680-100218729</td>\n",
       "      <td>20</td>\n",
       "      <td>20130307.0</td>\n",
       "      <td>20130313</td>\n",
       "    </tr>\n",
       "    <tr>\n",
       "      <th>4</th>\n",
       "      <td>서울특별시 강남구 개포동 1163-4</td>\n",
       "      <td>201812</td>\n",
       "      <td>11680-100218729</td>\n",
       "      <td>20</td>\n",
       "      <td>20130307.0</td>\n",
       "      <td>20130313</td>\n",
       "    </tr>\n",
       "  </tbody>\n",
       "</table>\n",
       "</div>"
      ],
      "text/plain": [
       "                   지번주소    기준년월      관리_건축물대장_PK  주소별_기준년월_총세대수합  \\\n",
       "0  서울특별시 강남구 개포동 1163-4  201412  11680-100218729              20   \n",
       "1  서울특별시 강남구 개포동 1163-4  201512  11680-100218729              20   \n",
       "2  서울특별시 강남구 개포동 1163-4  201612  11680-100218729              20   \n",
       "3  서울특별시 강남구 개포동 1163-4  201712  11680-100218729              20   \n",
       "4  서울특별시 강남구 개포동 1163-4  201812  11680-100218729              20   \n",
       "\n",
       "   기준년월_최초사용승인일  주소별_최초생성일자  \n",
       "0    20130307.0    20130313  \n",
       "1    20130307.0    20130313  \n",
       "2    20130307.0    20130313  \n",
       "3    20130307.0    20130313  \n",
       "4    20130307.0    20130313  "
      ]
     },
     "execution_count": 8,
     "metadata": {},
     "output_type": "execute_result"
    }
   ],
   "source": [
    "concat_df.head()"
   ]
  },
  {
   "cell_type": "code",
   "execution_count": 9,
   "metadata": {},
   "outputs": [],
   "source": [
    "concat_df['기준년월_최초사용승인일'] = concat_df['기준년월_최초사용승인일'].astype('Int64')"
   ]
  },
  {
   "cell_type": "code",
   "execution_count": 10,
   "metadata": {},
   "outputs": [
    {
     "data": {
      "text/html": [
       "<div>\n",
       "<style scoped>\n",
       "    .dataframe tbody tr th:only-of-type {\n",
       "        vertical-align: middle;\n",
       "    }\n",
       "\n",
       "    .dataframe tbody tr th {\n",
       "        vertical-align: top;\n",
       "    }\n",
       "\n",
       "    .dataframe thead th {\n",
       "        text-align: right;\n",
       "    }\n",
       "</style>\n",
       "<table border=\"1\" class=\"dataframe\">\n",
       "  <thead>\n",
       "    <tr style=\"text-align: right;\">\n",
       "      <th></th>\n",
       "      <th>지번주소</th>\n",
       "      <th>기준년월</th>\n",
       "      <th>관리_건축물대장_PK</th>\n",
       "      <th>주소별_기준년월_총세대수합</th>\n",
       "      <th>기준년월_최초사용승인일</th>\n",
       "      <th>주소별_최초생성일자</th>\n",
       "      <th>주소별_기준년월_총세대수합_최대</th>\n",
       "    </tr>\n",
       "  </thead>\n",
       "  <tbody>\n",
       "    <tr>\n",
       "      <th>0</th>\n",
       "      <td>서울특별시 강남구 개포동 1163-4</td>\n",
       "      <td>201412</td>\n",
       "      <td>11680-100218729</td>\n",
       "      <td>20</td>\n",
       "      <td>20130307</td>\n",
       "      <td>20130313</td>\n",
       "      <td>20</td>\n",
       "    </tr>\n",
       "    <tr>\n",
       "      <th>1</th>\n",
       "      <td>서울특별시 강남구 개포동 1163-4</td>\n",
       "      <td>201512</td>\n",
       "      <td>11680-100218729</td>\n",
       "      <td>20</td>\n",
       "      <td>20130307</td>\n",
       "      <td>20130313</td>\n",
       "      <td>20</td>\n",
       "    </tr>\n",
       "    <tr>\n",
       "      <th>2</th>\n",
       "      <td>서울특별시 강남구 개포동 1163-4</td>\n",
       "      <td>201612</td>\n",
       "      <td>11680-100218729</td>\n",
       "      <td>20</td>\n",
       "      <td>20130307</td>\n",
       "      <td>20130313</td>\n",
       "      <td>20</td>\n",
       "    </tr>\n",
       "    <tr>\n",
       "      <th>3</th>\n",
       "      <td>서울특별시 강남구 개포동 1163-4</td>\n",
       "      <td>201712</td>\n",
       "      <td>11680-100218729</td>\n",
       "      <td>20</td>\n",
       "      <td>20130307</td>\n",
       "      <td>20130313</td>\n",
       "      <td>20</td>\n",
       "    </tr>\n",
       "    <tr>\n",
       "      <th>4</th>\n",
       "      <td>서울특별시 강남구 개포동 1163-4</td>\n",
       "      <td>201812</td>\n",
       "      <td>11680-100218729</td>\n",
       "      <td>20</td>\n",
       "      <td>20130307</td>\n",
       "      <td>20130313</td>\n",
       "      <td>20</td>\n",
       "    </tr>\n",
       "  </tbody>\n",
       "</table>\n",
       "</div>"
      ],
      "text/plain": [
       "                   지번주소    기준년월      관리_건축물대장_PK  주소별_기준년월_총세대수합  \\\n",
       "0  서울특별시 강남구 개포동 1163-4  201412  11680-100218729              20   \n",
       "1  서울특별시 강남구 개포동 1163-4  201512  11680-100218729              20   \n",
       "2  서울특별시 강남구 개포동 1163-4  201612  11680-100218729              20   \n",
       "3  서울특별시 강남구 개포동 1163-4  201712  11680-100218729              20   \n",
       "4  서울특별시 강남구 개포동 1163-4  201812  11680-100218729              20   \n",
       "\n",
       "   기준년월_최초사용승인일  주소별_최초생성일자  주소별_기준년월_총세대수합_최대  \n",
       "0      20130307    20130313                 20  \n",
       "1      20130307    20130313                 20  \n",
       "2      20130307    20130313                 20  \n",
       "3      20130307    20130313                 20  \n",
       "4      20130307    20130313                 20  "
      ]
     },
     "execution_count": 10,
     "metadata": {},
     "output_type": "execute_result"
    }
   ],
   "source": [
    "concat_df['주소별_기준년월_총세대수합_최대'] = concat_df[['지번주소', '기준년월', '주소별_기준년월_총세대수합']].groupby(['지번주소', '기준년월']).transform('max')['주소별_기준년월_총세대수합']\n",
    "concat_df.head()"
   ]
  },
  {
   "cell_type": "code",
   "execution_count": 11,
   "metadata": {},
   "outputs": [
    {
     "data": {
      "text/plain": [
       "count    939381.000000\n",
       "mean        189.263049\n",
       "std         621.500722\n",
       "min           0.000000\n",
       "25%           7.000000\n",
       "50%          10.000000\n",
       "75%          20.000000\n",
       "max        6920.000000\n",
       "Name: 주소별_기준년월_총세대수합_최대, dtype: float64"
      ]
     },
     "execution_count": 11,
     "metadata": {},
     "output_type": "execute_result"
    }
   ],
   "source": [
    "concat_df.drop(columns=['주소별_기준년월_총세대수합'], inplace=True)\n",
    "concat_df.drop_duplicates(inplace=True)\n",
    "concat_df['주소별_기준년월_총세대수합_최대'].describe()"
   ]
  },
  {
   "cell_type": "code",
   "execution_count": 12,
   "metadata": {},
   "outputs": [
    {
     "data": {
      "text/plain": [
       "(939381, 6)"
      ]
     },
     "execution_count": 12,
     "metadata": {},
     "output_type": "execute_result"
    }
   ],
   "source": [
    "concat_df.shape"
   ]
  },
  {
   "cell_type": "code",
   "execution_count": 13,
   "metadata": {},
   "outputs": [
    {
     "name": "stdout",
     "output_type": "stream",
     "text": [
      "(416654, 4)\n"
     ]
    },
    {
     "data": {
      "text/html": [
       "<div>\n",
       "<style scoped>\n",
       "    .dataframe tbody tr th:only-of-type {\n",
       "        vertical-align: middle;\n",
       "    }\n",
       "\n",
       "    .dataframe tbody tr th {\n",
       "        vertical-align: top;\n",
       "    }\n",
       "\n",
       "    .dataframe thead th {\n",
       "        text-align: right;\n",
       "    }\n",
       "</style>\n",
       "<table border=\"1\" class=\"dataframe\">\n",
       "  <thead>\n",
       "    <tr style=\"text-align: right;\">\n",
       "      <th></th>\n",
       "      <th>관리_건축물대장_PK</th>\n",
       "      <th>지번주소</th>\n",
       "      <th>도로명주소</th>\n",
       "      <th>주거용연면적</th>\n",
       "    </tr>\n",
       "  </thead>\n",
       "  <tbody>\n",
       "    <tr>\n",
       "      <th>0</th>\n",
       "      <td>11440-3279202</td>\n",
       "      <td>서울특별시 마포구 중동 81-29</td>\n",
       "      <td>NaN</td>\n",
       "      <td>259.38</td>\n",
       "    </tr>\n",
       "    <tr>\n",
       "      <th>1</th>\n",
       "      <td>11440-501202</td>\n",
       "      <td>서울특별시 마포구 아현동 694-1</td>\n",
       "      <td>NaN</td>\n",
       "      <td>503.38</td>\n",
       "    </tr>\n",
       "    <tr>\n",
       "      <th>2</th>\n",
       "      <td>11440-506902</td>\n",
       "      <td>서울특별시 마포구 아현동 702-5</td>\n",
       "      <td>NaN</td>\n",
       "      <td>857.46</td>\n",
       "    </tr>\n",
       "    <tr>\n",
       "      <th>3</th>\n",
       "      <td>11545-642602</td>\n",
       "      <td>서울특별시 금천구 독산동 978-4</td>\n",
       "      <td>NaN</td>\n",
       "      <td>587.17</td>\n",
       "    </tr>\n",
       "    <tr>\n",
       "      <th>4</th>\n",
       "      <td>11545-648502</td>\n",
       "      <td>서울특별시 금천구 독산동 182-10</td>\n",
       "      <td>NaN</td>\n",
       "      <td>502.22</td>\n",
       "    </tr>\n",
       "  </tbody>\n",
       "</table>\n",
       "</div>"
      ],
      "text/plain": [
       "     관리_건축물대장_PK                  지번주소 도로명주소  주거용연면적\n",
       "0  11440-3279202    서울특별시 마포구 중동 81-29   NaN  259.38\n",
       "1   11440-501202   서울특별시 마포구 아현동 694-1   NaN  503.38\n",
       "2   11440-506902   서울특별시 마포구 아현동 702-5   NaN  857.46\n",
       "3   11545-642602   서울특별시 금천구 독산동 978-4   NaN  587.17\n",
       "4   11545-648502  서울특별시 금천구 독산동 182-10   NaN  502.22"
      ]
     },
     "execution_count": 13,
     "metadata": {},
     "output_type": "execute_result"
    }
   ],
   "source": [
    "floor_info_df = pd.read_csv(basedir + 'living_area_per_building.csv')\n",
    "print(floor_info_df.shape)\n",
    "floor_info_df.head()"
   ]
  },
  {
   "cell_type": "code",
   "execution_count": 14,
   "metadata": {},
   "outputs": [],
   "source": [
    "floor_info_df.drop(columns=['도로명주소'], inplace=True)"
   ]
  },
  {
   "cell_type": "code",
   "execution_count": 15,
   "metadata": {},
   "outputs": [
    {
     "data": {
      "text/plain": [
       "4    413153\n",
       "5      3264\n",
       "6       210\n",
       "7        15\n",
       "3         8\n",
       "8         3\n",
       "9         1\n",
       "Name: addr_split_len, dtype: int64"
      ]
     },
     "execution_count": 15,
     "metadata": {},
     "output_type": "execute_result"
    }
   ],
   "source": [
    "floor_info_df['addr_split_len'] = floor_info_df['지번주소'].apply(lambda x: len(x.split(' ')))\n",
    "floor_info_df['addr_split_len'].value_counts()"
   ]
  },
  {
   "cell_type": "code",
   "execution_count": 16,
   "metadata": {},
   "outputs": [],
   "source": [
    "len3_df = floor_info_df[floor_info_df['addr_split_len'] == 3]\n",
    "floor_info_df.drop(len3_df.index, inplace=True)\n",
    "len6_df = floor_info_df[floor_info_df['addr_split_len'] == 6]\n",
    "floor_info_df.drop(len6_df.index, inplace=True)\n",
    "len7_df = floor_info_df[floor_info_df['addr_split_len'] == 7]\n",
    "floor_info_df.drop(len7_df.index, inplace=True)\n",
    "len8_df = floor_info_df[floor_info_df['addr_split_len'] == 8]\n",
    "floor_info_df.drop(len8_df.index, inplace=True)\n",
    "len9_df = floor_info_df[floor_info_df['addr_split_len'] == 9]\n",
    "floor_info_df.drop(len9_df.index, inplace=True)"
   ]
  },
  {
   "cell_type": "code",
   "execution_count": 17,
   "metadata": {},
   "outputs": [
    {
     "data": {
      "text/plain": [
       "4    413153\n",
       "5      3264\n",
       "Name: addr_split_len, dtype: int64"
      ]
     },
     "execution_count": 17,
     "metadata": {},
     "output_type": "execute_result"
    }
   ],
   "source": [
    "floor_info_df['addr_split_len'].value_counts()"
   ]
  },
  {
   "cell_type": "code",
   "execution_count": 18,
   "metadata": {},
   "outputs": [
    {
     "data": {
      "text/html": [
       "<div>\n",
       "<style scoped>\n",
       "    .dataframe tbody tr th:only-of-type {\n",
       "        vertical-align: middle;\n",
       "    }\n",
       "\n",
       "    .dataframe tbody tr th {\n",
       "        vertical-align: top;\n",
       "    }\n",
       "\n",
       "    .dataframe thead th {\n",
       "        text-align: right;\n",
       "    }\n",
       "</style>\n",
       "<table border=\"1\" class=\"dataframe\">\n",
       "  <thead>\n",
       "    <tr style=\"text-align: right;\">\n",
       "      <th></th>\n",
       "      <th>관리_건축물대장_PK</th>\n",
       "      <th>지번주소</th>\n",
       "      <th>주거용연면적</th>\n",
       "      <th>addr_split_len</th>\n",
       "    </tr>\n",
       "  </thead>\n",
       "  <tbody>\n",
       "    <tr>\n",
       "      <th>6194</th>\n",
       "      <td>11590-671702</td>\n",
       "      <td>서울특별시 동작구 사당동 산 10-32</td>\n",
       "      <td>423.95</td>\n",
       "      <td>5</td>\n",
       "    </tr>\n",
       "    <tr>\n",
       "      <th>16522</th>\n",
       "      <td>11620-1293202</td>\n",
       "      <td>서울특별시 관악구 봉천동 산 101-407</td>\n",
       "      <td>240.96</td>\n",
       "      <td>5</td>\n",
       "    </tr>\n",
       "    <tr>\n",
       "      <th>21631</th>\n",
       "      <td>11620-2355902</td>\n",
       "      <td>서울특별시 관악구 봉천동 산 101-420</td>\n",
       "      <td>204.30</td>\n",
       "      <td>5</td>\n",
       "    </tr>\n",
       "    <tr>\n",
       "      <th>23486</th>\n",
       "      <td>11620-2110802</td>\n",
       "      <td>서울특별시 관악구 봉천동 산 101-193</td>\n",
       "      <td>247.80</td>\n",
       "      <td>5</td>\n",
       "    </tr>\n",
       "    <tr>\n",
       "      <th>23864</th>\n",
       "      <td>11740-983102</td>\n",
       "      <td>서울특별시 강동구 성내동 산 17-4</td>\n",
       "      <td>246.06</td>\n",
       "      <td>5</td>\n",
       "    </tr>\n",
       "  </tbody>\n",
       "</table>\n",
       "</div>"
      ],
      "text/plain": [
       "         관리_건축물대장_PK                     지번주소  주거용연면적  addr_split_len\n",
       "6194    11590-671702    서울특별시 동작구 사당동 산 10-32  423.95               5\n",
       "16522  11620-1293202  서울특별시 관악구 봉천동 산 101-407  240.96               5\n",
       "21631  11620-2355902  서울특별시 관악구 봉천동 산 101-420  204.30               5\n",
       "23486  11620-2110802  서울특별시 관악구 봉천동 산 101-193  247.80               5\n",
       "23864   11740-983102     서울특별시 강동구 성내동 산 17-4  246.06               5"
      ]
     },
     "execution_count": 18,
     "metadata": {},
     "output_type": "execute_result"
    }
   ],
   "source": [
    "len5_df = floor_info_df[floor_info_df['addr_split_len'] == 5]\n",
    "len5_df.head()"
   ]
  },
  {
   "cell_type": "code",
   "execution_count": 19,
   "metadata": {},
   "outputs": [
    {
     "data": {
      "text/plain": [
       "산               3023\n",
       "블록               227\n",
       "블록천왕도시개발사업지구      14\n",
       "Name: fourth_addr, dtype: int64"
      ]
     },
     "execution_count": 19,
     "metadata": {},
     "output_type": "execute_result"
    }
   ],
   "source": [
    "len5_df['fourth_addr'] = len5_df['지번주소'].apply(lambda x: x.split(' ')[3])\n",
    "len5_df['fourth_addr'].value_counts()"
   ]
  },
  {
   "cell_type": "code",
   "execution_count": 20,
   "metadata": {},
   "outputs": [
    {
     "data": {
      "text/plain": [
       "(241, 5)"
      ]
     },
     "execution_count": 20,
     "metadata": {},
     "output_type": "execute_result"
    }
   ],
   "source": [
    "not_san_df = len5_df[len5_df['fourth_addr'] != '산']\n",
    "not_san_df.shape"
   ]
  },
  {
   "cell_type": "code",
   "execution_count": 21,
   "metadata": {},
   "outputs": [],
   "source": [
    "floor_info_df.drop(not_san_df.index, inplace=True)"
   ]
  },
  {
   "cell_type": "code",
   "execution_count": 22,
   "metadata": {},
   "outputs": [],
   "source": [
    "def new_addr(x):\n",
    "    # x is a string\n",
    "    \n",
    "    if pd.isna(x) == True:\n",
    "        return x\n",
    "    else:\n",
    "        splitted = x.split(' ')\n",
    "        return splitted[0] + ' ' + splitted[1] + ' ' + splitted[2] + ' ' + splitted[3] + splitted[4]"
   ]
  },
  {
   "cell_type": "code",
   "execution_count": 23,
   "metadata": {},
   "outputs": [],
   "source": [
    "len5_df['지번주소'] = len5_df['지번주소'].apply(new_addr)"
   ]
  },
  {
   "cell_type": "code",
   "execution_count": 24,
   "metadata": {},
   "outputs": [],
   "source": [
    "len5_df = len5_df[len5_df['fourth_addr'] == '산']"
   ]
  },
  {
   "cell_type": "code",
   "execution_count": 25,
   "metadata": {},
   "outputs": [],
   "source": [
    "floor_info_df.loc[len5_df.index, '지번주소'] = len5_df['지번주소']"
   ]
  },
  {
   "cell_type": "code",
   "execution_count": 26,
   "metadata": {},
   "outputs": [],
   "source": [
    "floor_info_df.reset_index(drop=True, inplace=True)"
   ]
  },
  {
   "cell_type": "code",
   "execution_count": 27,
   "metadata": {
    "scrolled": true
   },
   "outputs": [
    {
     "data": {
      "text/plain": [
       "array(['서울특별시 동작구 사당동 산10-32', '서울특별시 관악구 봉천동 산101-407',\n",
       "       '서울특별시 관악구 봉천동 산101-420', '서울특별시 관악구 봉천동 산101-193',\n",
       "       '서울특별시 강동구 성내동 산17-4', '서울특별시 관악구 봉천동 산101-419',\n",
       "       '서울특별시 관악구 봉천동 산101-196', '서울특별시 관악구 봉천동 산101-112',\n",
       "       '서울특별시 관악구 봉천동 산101-76', '서울특별시 관악구 봉천동 산101-306',\n",
       "       '서울특별시 관악구 봉천동 산101-336', '서울특별시 관악구 봉천동 산101-410',\n",
       "       '서울특별시 관악구 봉천동 산101-411', '서울특별시 동작구 노량진동 산12-0',\n",
       "       '서울특별시 관악구 봉천동 산101-409', '서울특별시 동작구 본동 산13-0',\n",
       "       '서울특별시 서대문구 홍은동 산11-209', '서울특별시 서대문구 홍은동 산26-112',\n",
       "       '서울특별시 강서구 화곡동 산172-4', '서울특별시 관악구 봉천동 산101-414',\n",
       "       '서울특별시 동작구 사당동 산25-2', '서울특별시 구로구 개봉동 산2-29',\n",
       "       '서울특별시 금천구 시흥동 산173-8', '서울특별시 구로구 개봉동 산2-28',\n",
       "       '서울특별시 관악구 봉천동 산101-413', '서울특별시 노원구 월계동 산144-1',\n",
       "       '서울특별시 관악구 봉천동 산101-416', '서울특별시 관악구 봉천동 산101-101',\n",
       "       '서울특별시 관악구 신림동 산160-35', '서울특별시 관악구 봉천동 산133-15',\n",
       "       '서울특별시 서대문구 연희동 산22-10', '서울특별시 서대문구 연희동 산118-57',\n",
       "       '서울특별시 은평구 신사동 산86-11', '서울특별시 관악구 봉천동 산101-111',\n",
       "       '서울특별시 관악구 봉천동 산101-417', '서울특별시 관악구 봉천동 산101-415',\n",
       "       '서울특별시 은평구 증산동 산10-22', '서울특별시 용산구 한남동 산8-0',\n",
       "       '서울특별시 도봉구 쌍문동 산69-1', '서울특별시 성북구 정릉동 산87-85',\n",
       "       '서울특별시 관악구 신림동 산28-9', '서울특별시 동작구 상도동 산65-76',\n",
       "       '서울특별시 강동구 천호동 산49-0', '서울특별시 강동구 천호동 산34-1',\n",
       "       '서울특별시 강동구 천호동 산51-0', '서울특별시 강동구 성내동 산27-1', '서울특별시 강동구 천호동 산9-0',\n",
       "       '서울특별시 강동구 성내동 산18-0', '서울특별시 강동구 천호동 산40-0', '서울특별시 강동구 강일동 산2-1'],\n",
       "      dtype=object)"
      ]
     },
     "execution_count": 27,
     "metadata": {},
     "output_type": "execute_result"
    }
   ],
   "source": [
    "len5_df['지번주소'].unique()[:50]"
   ]
  },
  {
   "cell_type": "code",
   "execution_count": 38,
   "metadata": {},
   "outputs": [],
   "source": [
    "floor_info_df.to_csv('./prepped_data/living_area_per_building_2.csv', index=False)"
   ]
  },
  {
   "cell_type": "code",
   "execution_count": 30,
   "metadata": {},
   "outputs": [
    {
     "data": {
      "text/html": [
       "<div>\n",
       "<style scoped>\n",
       "    .dataframe tbody tr th:only-of-type {\n",
       "        vertical-align: middle;\n",
       "    }\n",
       "\n",
       "    .dataframe tbody tr th {\n",
       "        vertical-align: top;\n",
       "    }\n",
       "\n",
       "    .dataframe thead th {\n",
       "        text-align: right;\n",
       "    }\n",
       "</style>\n",
       "<table border=\"1\" class=\"dataframe\">\n",
       "  <thead>\n",
       "    <tr style=\"text-align: right;\">\n",
       "      <th></th>\n",
       "      <th>지번주소</th>\n",
       "      <th>기준년월</th>\n",
       "      <th>관리_건축물대장_PK</th>\n",
       "      <th>기준년월_최초사용승인일</th>\n",
       "      <th>주소별_최초생성일자</th>\n",
       "      <th>주소별_기준년월_총세대수합_최대</th>\n",
       "    </tr>\n",
       "  </thead>\n",
       "  <tbody>\n",
       "    <tr>\n",
       "      <th>0</th>\n",
       "      <td>서울특별시 강남구 개포동 1163-4</td>\n",
       "      <td>201412</td>\n",
       "      <td>11680-100218729</td>\n",
       "      <td>20130307</td>\n",
       "      <td>20130313</td>\n",
       "      <td>20</td>\n",
       "    </tr>\n",
       "    <tr>\n",
       "      <th>1</th>\n",
       "      <td>서울특별시 강남구 개포동 1163-4</td>\n",
       "      <td>201512</td>\n",
       "      <td>11680-100218729</td>\n",
       "      <td>20130307</td>\n",
       "      <td>20130313</td>\n",
       "      <td>20</td>\n",
       "    </tr>\n",
       "    <tr>\n",
       "      <th>2</th>\n",
       "      <td>서울특별시 강남구 개포동 1163-4</td>\n",
       "      <td>201612</td>\n",
       "      <td>11680-100218729</td>\n",
       "      <td>20130307</td>\n",
       "      <td>20130313</td>\n",
       "      <td>20</td>\n",
       "    </tr>\n",
       "    <tr>\n",
       "      <th>3</th>\n",
       "      <td>서울특별시 강남구 개포동 1163-4</td>\n",
       "      <td>201712</td>\n",
       "      <td>11680-100218729</td>\n",
       "      <td>20130307</td>\n",
       "      <td>20130313</td>\n",
       "      <td>20</td>\n",
       "    </tr>\n",
       "    <tr>\n",
       "      <th>4</th>\n",
       "      <td>서울특별시 강남구 개포동 1163-4</td>\n",
       "      <td>201812</td>\n",
       "      <td>11680-100218729</td>\n",
       "      <td>20130307</td>\n",
       "      <td>20130313</td>\n",
       "      <td>20</td>\n",
       "    </tr>\n",
       "  </tbody>\n",
       "</table>\n",
       "</div>"
      ],
      "text/plain": [
       "                   지번주소    기준년월      관리_건축물대장_PK  기준년월_최초사용승인일  주소별_최초생성일자  \\\n",
       "0  서울특별시 강남구 개포동 1163-4  201412  11680-100218729      20130307    20130313   \n",
       "1  서울특별시 강남구 개포동 1163-4  201512  11680-100218729      20130307    20130313   \n",
       "2  서울특별시 강남구 개포동 1163-4  201612  11680-100218729      20130307    20130313   \n",
       "3  서울특별시 강남구 개포동 1163-4  201712  11680-100218729      20130307    20130313   \n",
       "4  서울특별시 강남구 개포동 1163-4  201812  11680-100218729      20130307    20130313   \n",
       "\n",
       "   주소별_기준년월_총세대수합_최대  \n",
       "0                 20  \n",
       "1                 20  \n",
       "2                 20  \n",
       "3                 20  \n",
       "4                 20  "
      ]
     },
     "execution_count": 30,
     "metadata": {},
     "output_type": "execute_result"
    }
   ],
   "source": [
    "concat_df.head()"
   ]
  },
  {
   "cell_type": "code",
   "execution_count": 31,
   "metadata": {},
   "outputs": [
    {
     "data": {
      "text/html": [
       "<div>\n",
       "<style scoped>\n",
       "    .dataframe tbody tr th:only-of-type {\n",
       "        vertical-align: middle;\n",
       "    }\n",
       "\n",
       "    .dataframe tbody tr th {\n",
       "        vertical-align: top;\n",
       "    }\n",
       "\n",
       "    .dataframe thead th {\n",
       "        text-align: right;\n",
       "    }\n",
       "</style>\n",
       "<table border=\"1\" class=\"dataframe\">\n",
       "  <thead>\n",
       "    <tr style=\"text-align: right;\">\n",
       "      <th></th>\n",
       "      <th>관리_건축물대장_PK</th>\n",
       "      <th>지번주소</th>\n",
       "      <th>주거용연면적</th>\n",
       "      <th>addr_split_len</th>\n",
       "    </tr>\n",
       "  </thead>\n",
       "  <tbody>\n",
       "    <tr>\n",
       "      <th>0</th>\n",
       "      <td>11440-3279202</td>\n",
       "      <td>서울특별시 마포구 중동 81-29</td>\n",
       "      <td>259.38</td>\n",
       "      <td>4</td>\n",
       "    </tr>\n",
       "    <tr>\n",
       "      <th>1</th>\n",
       "      <td>11440-501202</td>\n",
       "      <td>서울특별시 마포구 아현동 694-1</td>\n",
       "      <td>503.38</td>\n",
       "      <td>4</td>\n",
       "    </tr>\n",
       "    <tr>\n",
       "      <th>2</th>\n",
       "      <td>11440-506902</td>\n",
       "      <td>서울특별시 마포구 아현동 702-5</td>\n",
       "      <td>857.46</td>\n",
       "      <td>4</td>\n",
       "    </tr>\n",
       "    <tr>\n",
       "      <th>3</th>\n",
       "      <td>11545-642602</td>\n",
       "      <td>서울특별시 금천구 독산동 978-4</td>\n",
       "      <td>587.17</td>\n",
       "      <td>4</td>\n",
       "    </tr>\n",
       "    <tr>\n",
       "      <th>4</th>\n",
       "      <td>11545-648502</td>\n",
       "      <td>서울특별시 금천구 독산동 182-10</td>\n",
       "      <td>502.22</td>\n",
       "      <td>4</td>\n",
       "    </tr>\n",
       "  </tbody>\n",
       "</table>\n",
       "</div>"
      ],
      "text/plain": [
       "     관리_건축물대장_PK                  지번주소  주거용연면적  addr_split_len\n",
       "0  11440-3279202    서울특별시 마포구 중동 81-29  259.38               4\n",
       "1   11440-501202   서울특별시 마포구 아현동 694-1  503.38               4\n",
       "2   11440-506902   서울특별시 마포구 아현동 702-5  857.46               4\n",
       "3   11545-642602   서울특별시 금천구 독산동 978-4  587.17               4\n",
       "4   11545-648502  서울특별시 금천구 독산동 182-10  502.22               4"
      ]
     },
     "execution_count": 31,
     "metadata": {},
     "output_type": "execute_result"
    }
   ],
   "source": [
    "floor_info_df.head()"
   ]
  },
  {
   "cell_type": "code",
   "execution_count": 32,
   "metadata": {},
   "outputs": [
    {
     "data": {
      "text/plain": [
       "(416176, 4)"
      ]
     },
     "execution_count": 32,
     "metadata": {},
     "output_type": "execute_result"
    }
   ],
   "source": [
    "floor_info_df.shape"
   ]
  },
  {
   "cell_type": "code",
   "execution_count": 36,
   "metadata": {},
   "outputs": [
    {
     "data": {
      "text/plain": [
       "(293183, 4)"
      ]
     },
     "execution_count": 36,
     "metadata": {},
     "output_type": "execute_result"
    }
   ],
   "source": [
    "floor_info_df.drop_duplicates(inplace=True)\n",
    "floor_info_df.shape"
   ]
  },
  {
   "cell_type": "code",
   "execution_count": 39,
   "metadata": {},
   "outputs": [
    {
     "data": {
      "text/plain": [
       "293074"
      ]
     },
     "execution_count": 39,
     "metadata": {},
     "output_type": "execute_result"
    }
   ],
   "source": [
    "floor_info_df['관리_건축물대장_PK'].nunique()"
   ]
  },
  {
   "cell_type": "code",
   "execution_count": 41,
   "metadata": {},
   "outputs": [
    {
     "data": {
      "text/plain": [
       "(939381, 6)"
      ]
     },
     "execution_count": 41,
     "metadata": {},
     "output_type": "execute_result"
    }
   ],
   "source": [
    "concat_df.shape"
   ]
  },
  {
   "cell_type": "code",
   "execution_count": 44,
   "metadata": {},
   "outputs": [
    {
     "name": "stdout",
     "output_type": "stream",
     "text": [
      "(864866, 7)\n"
     ]
    }
   ],
   "source": [
    "merge1_df = concat_df.merge(floor_info_df[['관리_건축물대장_PK', '주거용연면적']], on=['관리_건축물대장_PK'])\n",
    "print(merge1_df.shape)"
   ]
  },
  {
   "cell_type": "code",
   "execution_count": null,
   "metadata": {},
   "outputs": [],
   "source": []
  },
  {
   "cell_type": "code",
   "execution_count": null,
   "metadata": {},
   "outputs": [],
   "source": []
  }
 ],
 "metadata": {
  "kernelspec": {
   "display_name": "Python 3",
   "language": "python",
   "name": "python3"
  },
  "language_info": {
   "codemirror_mode": {
    "name": "ipython",
    "version": 3
   },
   "file_extension": ".py",
   "mimetype": "text/x-python",
   "name": "python",
   "nbconvert_exporter": "python",
   "pygments_lexer": "ipython3",
   "version": "3.7.9"
  }
 },
 "nbformat": 4,
 "nbformat_minor": 4
}
