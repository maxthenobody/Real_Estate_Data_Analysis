{
 "cells": [
  {
   "cell_type": "code",
   "execution_count": 1,
   "metadata": {},
   "outputs": [],
   "source": [
    "import multiprocess as mp\n",
    "import numpy as np\n",
    "import pandas as pd\n",
    "import matplotlib.pyplot as plt\n",
    "import os\n",
    "import math\n",
    "from tqdm import tqdm\n",
    "import requests\n",
    "from urllib.parse import urlparse\n",
    "pd.set_option('display.max_rows', 500)\n",
    "pd.set_option('display.max_columns', 500)\n",
    "import datetime\n",
    "from sklearn.preprocessing import quantile_transform\n",
    "pd.options.mode.chained_assignment = None  # default='warn'\n",
    "import gc"
   ]
  },
  {
   "cell_type": "code",
   "execution_count": 2,
   "metadata": {},
   "outputs": [],
   "source": [
    "def bon_bun_allocator(x):\n",
    "    splitted = x.split('-')\n",
    "    return int(splitted[0])\n",
    "\n",
    "def bu_bun_allocator(x):\n",
    "    splitted = x.split('-')\n",
    "    if len(splitted) == 2:\n",
    "        return int(splitted[1])\n",
    "    elif len(splitted) == 1:\n",
    "        return 0\n",
    "    else:\n",
    "        print('error')\n",
    "        return"
   ]
  },
  {
   "cell_type": "code",
   "execution_count": 3,
   "metadata": {},
   "outputs": [],
   "source": [
    "def land_plans_full_address_allocator(df):    \n",
    "    bonbun = df['지번'].apply(bon_bun_allocator)\n",
    "    bubun = df['지번'].apply(bu_bun_allocator)\n",
    "    \n",
    "    df['지번주소'] = df['법정동명'] + ' ' + bonbun.apply(str) + '-' + bubun.apply(str)\n",
    "    \n",
    "    return df"
   ]
  },
  {
   "cell_type": "code",
   "execution_count": 4,
   "metadata": {},
   "outputs": [],
   "source": [
    "def land_plan_unstack(df):\n",
    "    df = df.set_index(['지번주소', '년', '용도지역지구명']).unstack(-1).reset_index()\n",
    "    \n",
    "    return df"
   ]
  },
  {
   "cell_type": "code",
   "execution_count": 5,
   "metadata": {},
   "outputs": [],
   "source": [
    "def san_addr_modifier(x):\n",
    "    # x is a string\n",
    "    \n",
    "    if pd.isna(x) == True:\n",
    "        return x\n",
    "    else:\n",
    "        splitted = x.split(' ')\n",
    "        return splitted[0] + ' ' + splitted[1] + ' ' + splitted[2] + ' 산' + splitted[3]"
   ]
  },
  {
   "cell_type": "code",
   "execution_count": 6,
   "metadata": {},
   "outputs": [
    {
     "data": {
      "text/plain": [
       "['AL_11_D155_20160919.csv',\n",
       " 'AL_11_D155_20171104.csv',\n",
       " 'AL_11_D155_20181214.csv',\n",
       " 'AL_11_D155_20191207.csv',\n",
       " 'AL_11_D155_20201205.csv',\n",
       " 'AL_11_D155_20210306.csv']"
      ]
     },
     "execution_count": 6,
     "metadata": {},
     "output_type": "execute_result"
    }
   ],
   "source": [
    "basedir = './토지이용계획정보/'\n",
    "filenames = [f for f in os.listdir(basedir) if (f.endswith('.csv'))&('AL_' in f)]\n",
    "filenames"
   ]
  },
  {
   "cell_type": "code",
   "execution_count": 7,
   "metadata": {},
   "outputs": [
    {
     "name": "stderr",
     "output_type": "stream",
     "text": [
      "100%|████████████████████████████████████████████████████████████████████████████████████| 6/6 [01:56<00:00, 19.49s/it]\n"
     ]
    }
   ],
   "source": [
    "dfs_list = []\n",
    "for file in tqdm(filenames):\n",
    "    df = pd.read_csv(basedir + file, encoding='euc-kr')\n",
    "    df = df[['법정동명', '대장구분명', '지번', '저촉여부', '용도지역지구명', '등록일자']]\n",
    "    dfs_list.append(df)"
   ]
  },
  {
   "cell_type": "code",
   "execution_count": 8,
   "metadata": {
    "scrolled": true
   },
   "outputs": [
    {
     "data": {
      "text/plain": [
       "46"
      ]
     },
     "execution_count": 8,
     "metadata": {},
     "output_type": "execute_result"
    }
   ],
   "source": [
    "del df\n",
    "gc.collect()"
   ]
  },
  {
   "cell_type": "code",
   "execution_count": 9,
   "metadata": {},
   "outputs": [
    {
     "name": "stdout",
     "output_type": "stream",
     "text": [
      "(50300540, 6)\n"
     ]
    },
    {
     "data": {
      "text/html": [
       "<div>\n",
       "<style scoped>\n",
       "    .dataframe tbody tr th:only-of-type {\n",
       "        vertical-align: middle;\n",
       "    }\n",
       "\n",
       "    .dataframe tbody tr th {\n",
       "        vertical-align: top;\n",
       "    }\n",
       "\n",
       "    .dataframe thead th {\n",
       "        text-align: right;\n",
       "    }\n",
       "</style>\n",
       "<table border=\"1\" class=\"dataframe\">\n",
       "  <thead>\n",
       "    <tr style=\"text-align: right;\">\n",
       "      <th></th>\n",
       "      <th>법정동명</th>\n",
       "      <th>대장구분명</th>\n",
       "      <th>지번</th>\n",
       "      <th>저촉여부</th>\n",
       "      <th>용도지역지구명</th>\n",
       "      <th>등록일자</th>\n",
       "    </tr>\n",
       "  </thead>\n",
       "  <tbody>\n",
       "    <tr>\n",
       "      <th>0</th>\n",
       "      <td>서울특별시 종로구 청운동</td>\n",
       "      <td>토지대장</td>\n",
       "      <td>1</td>\n",
       "      <td>포함</td>\n",
       "      <td>대공방어협조구역(위탁고도:54-236m)</td>\n",
       "      <td>2009-12-29</td>\n",
       "    </tr>\n",
       "    <tr>\n",
       "      <th>1</th>\n",
       "      <td>서울특별시 종로구 청운동</td>\n",
       "      <td>토지대장</td>\n",
       "      <td>1</td>\n",
       "      <td>저촉</td>\n",
       "      <td>상대정화구역</td>\n",
       "      <td>2009-12-28</td>\n",
       "    </tr>\n",
       "    <tr>\n",
       "      <th>2</th>\n",
       "      <td>서울특별시 종로구 청운동</td>\n",
       "      <td>토지대장</td>\n",
       "      <td>1</td>\n",
       "      <td>저촉</td>\n",
       "      <td>상대정화구역</td>\n",
       "      <td>2009-12-28</td>\n",
       "    </tr>\n",
       "    <tr>\n",
       "      <th>3</th>\n",
       "      <td>서울특별시 종로구 청운동</td>\n",
       "      <td>토지대장</td>\n",
       "      <td>1</td>\n",
       "      <td>포함</td>\n",
       "      <td>도시지역</td>\n",
       "      <td>2009-12-28</td>\n",
       "    </tr>\n",
       "    <tr>\n",
       "      <th>4</th>\n",
       "      <td>서울특별시 종로구 청운동</td>\n",
       "      <td>토지대장</td>\n",
       "      <td>1</td>\n",
       "      <td>저촉</td>\n",
       "      <td>자연경관지구</td>\n",
       "      <td>2009-12-28</td>\n",
       "    </tr>\n",
       "  </tbody>\n",
       "</table>\n",
       "</div>"
      ],
      "text/plain": [
       "            법정동명 대장구분명 지번 저촉여부                 용도지역지구명        등록일자\n",
       "0  서울특별시 종로구 청운동  토지대장  1   포함  대공방어협조구역(위탁고도:54-236m)  2009-12-29\n",
       "1  서울특별시 종로구 청운동  토지대장  1   저촉                  상대정화구역  2009-12-28\n",
       "2  서울특별시 종로구 청운동  토지대장  1   저촉                  상대정화구역  2009-12-28\n",
       "3  서울특별시 종로구 청운동  토지대장  1   포함                    도시지역  2009-12-28\n",
       "4  서울특별시 종로구 청운동  토지대장  1   저촉                  자연경관지구  2009-12-28"
      ]
     },
     "execution_count": 9,
     "metadata": {},
     "output_type": "execute_result"
    }
   ],
   "source": [
    "concat_df = pd.concat(dfs_list).reset_index(drop=True)\n",
    "print(concat_df.shape)\n",
    "concat_df.head()"
   ]
  },
  {
   "cell_type": "code",
   "execution_count": 10,
   "metadata": {},
   "outputs": [],
   "source": [
    "concat_df['등록일자'] = concat_df['등록일자'].apply(lambda x: str(x).split('-')[0])\n",
    "concat_df.rename(columns={'등록일자':'년'}, inplace=True)"
   ]
  },
  {
   "cell_type": "code",
   "execution_count": 11,
   "metadata": {},
   "outputs": [],
   "source": [
    "concat_df = concat_df.dropna().drop_duplicates().reset_index(drop=True)"
   ]
  },
  {
   "cell_type": "code",
   "execution_count": 12,
   "metadata": {},
   "outputs": [
    {
     "data": {
      "text/plain": [
       "20"
      ]
     },
     "execution_count": 12,
     "metadata": {},
     "output_type": "execute_result"
    }
   ],
   "source": [
    "gc.collect()"
   ]
  },
  {
   "cell_type": "code",
   "execution_count": 13,
   "metadata": {},
   "outputs": [
    {
     "data": {
      "text/plain": [
       "353"
      ]
     },
     "execution_count": 13,
     "metadata": {},
     "output_type": "execute_result"
    }
   ],
   "source": [
    "concat_df['용도지역지구명'].nunique()"
   ]
  },
  {
   "cell_type": "code",
   "execution_count": 14,
   "metadata": {},
   "outputs": [
    {
     "data": {
      "text/plain": [
       "array(['대공방어협조구역(위탁고도:54-236m)', '상대정화구역', '도시지역', '자연경관지구', '역사문화미관지구',\n",
       "       '도로', '제1종일반주거지역', '가축사육제한구역', '자연녹지지역', '과밀억제권역', '공원',\n",
       "       '문화재보존영향 검토대상구역', '통제보호구역(민통선이남:300m)', '공익용산지', '문화재보호구역',\n",
       "       '국가지정문화재구역', '제1종지구단위계획구역', '제한보호구역(후방지역:500m)', '임업용산지', '개발제한구역',\n",
       "       '기타교통시설', '시도지정문화재구역', '비오톱1등급', '학교', '최고고도지구', '문화재', '절대정화구역',\n",
       "       '제2종일반주거지역', '등록문화재구역', '주차장', '도시기타용도지역지구용도지역지구', '도시관리계획 입안중',\n",
       "       '제1종전용주거지역', '정비구역', '사회복지시설', '공공청사', '문화시설', '방화지구', '노외주차장',\n",
       "       '제3종일반주거지역', '중심지미관지구', '일반상업지역', '4대문안', '도시철도', '교통광장', '녹지',\n",
       "       '시·도 생태·경관보전지역', '전기공급설비', '소로2류(폭 8M~10M)', '경관녹지'], dtype=object)"
      ]
     },
     "execution_count": 14,
     "metadata": {},
     "output_type": "execute_result"
    }
   ],
   "source": [
    "concat_df['용도지역지구명'].unique()[:50]"
   ]
  },
  {
   "cell_type": "code",
   "execution_count": 15,
   "metadata": {},
   "outputs": [],
   "source": [
    "concat_df = land_plans_full_address_allocator(concat_df)"
   ]
  },
  {
   "cell_type": "code",
   "execution_count": 16,
   "metadata": {},
   "outputs": [
    {
     "data": {
      "text/plain": [
       "0"
      ]
     },
     "execution_count": 16,
     "metadata": {},
     "output_type": "execute_result"
    }
   ],
   "source": [
    "san_df = concat_df[concat_df['대장구분명'] == '임야대장']\n",
    "san_df['지번주소'] = san_df['지번주소'].apply(san_addr_modifier)\n",
    "concat_df.loc[san_df.index, '지번주소'] = san_df['지번주소']\n",
    "\n",
    "simple_cols = ['지번주소', '저촉여부', '용도지역지구명', '년']\n",
    "\n",
    "concat_df = concat_df[simple_cols]\n",
    "concat_df = concat_df.drop_duplicates(subset=['지번주소', '용도지역지구명', '년'], keep='first').reset_index(drop=True)\n",
    "gc.collect()"
   ]
  },
  {
   "cell_type": "code",
   "execution_count": 17,
   "metadata": {},
   "outputs": [
    {
     "data": {
      "text/plain": [
       "20"
      ]
     },
     "execution_count": 17,
     "metadata": {},
     "output_type": "execute_result"
    }
   ],
   "source": [
    "del san_df\n",
    "gc.collect()"
   ]
  },
  {
   "cell_type": "code",
   "execution_count": 18,
   "metadata": {},
   "outputs": [
    {
     "name": "stdout",
     "output_type": "stream",
     "text": [
      "Wall time: 1min 48s\n"
     ]
    }
   ],
   "source": [
    "%%time\n",
    "concat_df = land_plan_unstack(concat_df)"
   ]
  },
  {
   "cell_type": "code",
   "execution_count": 19,
   "metadata": {},
   "outputs": [
    {
     "data": {
      "text/plain": [
       "20"
      ]
     },
     "execution_count": 19,
     "metadata": {},
     "output_type": "execute_result"
    }
   ],
   "source": [
    "gc.collect()"
   ]
  },
  {
   "cell_type": "code",
   "execution_count": 20,
   "metadata": {},
   "outputs": [],
   "source": [
    "correct_cols = []\n",
    "cols = concat_df.columns\n",
    "for i in range(len(cols)):\n",
    "    if (i == 0)|(i == 1):\n",
    "        correct_cols.append(cols[i][0])\n",
    "    else:\n",
    "        correct_cols.append(cols[i][1])\n",
    "\n",
    "concat_df.columns = correct_cols"
   ]
  },
  {
   "cell_type": "code",
   "execution_count": 21,
   "metadata": {},
   "outputs": [
    {
     "data": {
      "text/plain": [
       "40"
      ]
     },
     "execution_count": 21,
     "metadata": {},
     "output_type": "execute_result"
    }
   ],
   "source": [
    "concat_df = concat_df.sort_values(['지번주소', '년']).reset_index(drop=True)\n",
    "gc.collect()"
   ]
  },
  {
   "cell_type": "code",
   "execution_count": 22,
   "metadata": {},
   "outputs": [],
   "source": [
    "concat_df.to_csv('./토지이용계획정보/original_land_plans.csv', index=False)"
   ]
  },
  {
   "cell_type": "code",
   "execution_count": 23,
   "metadata": {},
   "outputs": [
    {
     "name": "stdout",
     "output_type": "stream",
     "text": [
      "<class 'pandas.core.frame.DataFrame'>\n",
      "RangeIndex: 5149472 entries, 0 to 5149471\n",
      "Columns: 355 entries, 지번주소 to 환경정비구역\n",
      "dtypes: object(355)\n",
      "memory usage: 13.6+ GB\n"
     ]
    }
   ],
   "source": [
    "concat_df.info()"
   ]
  },
  {
   "cell_type": "code",
   "execution_count": null,
   "metadata": {},
   "outputs": [],
   "source": []
  },
  {
   "cell_type": "code",
   "execution_count": null,
   "metadata": {},
   "outputs": [],
   "source": []
  },
  {
   "cell_type": "code",
   "execution_count": null,
   "metadata": {},
   "outputs": [],
   "source": []
  },
  {
   "cell_type": "code",
   "execution_count": null,
   "metadata": {},
   "outputs": [],
   "source": [
    "def create_complete_land_plans_df_iteratively(df):\n",
    "    import numpy as np\n",
    "    import pandas as pd\n",
    "    import gc\n",
    "    \n",
    "    df = df.copy()\n",
    "    \n",
    "    dfs_list = []\n",
    "    count = 0\n",
    "    for addr in df['지번주소'].unique():\n",
    "        if (count%5000) == 0:\n",
    "            gc.collect()\n",
    "        \n",
    "        addr_df = df[df['지번주소'] == addr]\n",
    "        \n",
    "        min_year = addr_df['년'].min()\n",
    "        \n",
    "        years_list = [i for i in range(2006, 2021) if i not in addr_df['년'].unique().tolist()]\n",
    "        if years_list == []:\n",
    "            dfs_list.append(addr_df)\n",
    "            continue\n",
    "        \n",
    "        empty_row = addr_df.iloc[[0], :]\n",
    "        empty_row.iloc[:,2:] = np.nan\n",
    "\n",
    "        empty_rows_list = []\n",
    "        for y in years_list:\n",
    "            empty_row_copy = empty_row.copy()\n",
    "            empty_row_copy.iloc[0, 1] = y\n",
    "            empty_rows_list.append(empty_row_copy)\n",
    "        \n",
    "        empty_df = pd.concat(empty_rows_list)\n",
    "\n",
    "        mini_concat_df = pd.concat([addr_df, empty_df]).sort_values(['년']).reset_index(drop=True)\n",
    "        \n",
    "        min_year_and_below_df = mini_concat_df[mini_concat_df['년'] <= min_year].fillna(method='bfill')\n",
    "        \n",
    "        min_year_and_above_df = mini_concat_df[mini_concat_df['년'] >= min_year].fillna(method='ffill')\n",
    "        \n",
    "        mini_concat_updated_df = pd.concat([min_year_and_below_df, min_year_and_above_df]).drop_duplicates().sort_values(['년']).reset_index(drop=True)\n",
    "        \n",
    "        dfs_list.append(mini_concat_updated_df)\n",
    "                \n",
    "        count += 1\n",
    "\n",
    "    concat_df = pd.concat(dfs_list).reset_index(drop=True)\n",
    "    \n",
    "    return concat_df"
   ]
  },
  {
   "cell_type": "code",
   "execution_count": null,
   "metadata": {},
   "outputs": [],
   "source": [
    "def parallelize(df, func, num_processors=6):\n",
    "    #data_split = np.array_split(data, num_processors)\n",
    "    \n",
    "    data_split = []\n",
    "    unique_addrs = df['지번주소'].unique()\n",
    "    divided = int(len(unique_addrs) / num_processors)\n",
    "    for i in range(num_processors):\n",
    "        if i < (num_processors - 1):\n",
    "            picked_addrs = unique_addrs[divided*i:divided*(i+1)]\n",
    "        else:\n",
    "            picked_addrs = unique_addrs[divided*i:]\n",
    "        data_split.append(df[df['지번주소'].isin(picked_addrs)])\n",
    "            \n",
    "    pool = mp.Pool(num_processors)\n",
    "    concat_df = pd.concat(pool.map(func, data_split))\n",
    "    pool.close()\n",
    "    pool.join()\n",
    "    \n",
    "    concat_df = concat_df.sort_values(['지번주소', '년']).reset_index(drop=True)\n",
    "    \n",
    "    return concat_df"
   ]
  },
  {
   "cell_type": "code",
   "execution_count": null,
   "metadata": {},
   "outputs": [],
   "source": [
    "%%time\n",
    "completed_df = parallelize(land_plans_df, create_complete_land_plans_df_iteratively)\n",
    "print(completed_df.shape)\n",
    "completed_df.head()"
   ]
  },
  {
   "cell_type": "code",
   "execution_count": null,
   "metadata": {},
   "outputs": [],
   "source": [
    "completed_df.to_csv('./prepped_data/land_plans_ver_3.csv', index=False)"
   ]
  },
  {
   "cell_type": "code",
   "execution_count": null,
   "metadata": {},
   "outputs": [],
   "source": []
  }
 ],
 "metadata": {
  "kernelspec": {
   "display_name": "Python 3",
   "language": "python",
   "name": "python3"
  },
  "language_info": {
   "codemirror_mode": {
    "name": "ipython",
    "version": 3
   },
   "file_extension": ".py",
   "mimetype": "text/x-python",
   "name": "python",
   "nbconvert_exporter": "python",
   "pygments_lexer": "ipython3",
   "version": "3.7.9"
  }
 },
 "nbformat": 4,
 "nbformat_minor": 4
}
