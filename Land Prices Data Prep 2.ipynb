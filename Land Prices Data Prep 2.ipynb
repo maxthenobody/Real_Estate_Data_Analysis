{
 "cells": [
  {
   "cell_type": "code",
   "execution_count": 1,
   "metadata": {},
   "outputs": [],
   "source": [
    "import multiprocess as mp\n",
    "import numpy as np\n",
    "import pandas as pd\n",
    "import matplotlib.pyplot as plt\n",
    "import os\n",
    "import math\n",
    "from tqdm import tqdm\n",
    "import requests\n",
    "from urllib.parse import urlparse\n",
    "pd.set_option('display.max_rows', 500)\n",
    "pd.set_option('display.max_columns', 500)\n",
    "import datetime\n",
    "from sklearn.preprocessing import quantile_transform\n",
    "pd.options.mode.chained_assignment = None  # default='warn'\n",
    "import gc"
   ]
  },
  {
   "cell_type": "code",
   "execution_count": 2,
   "metadata": {},
   "outputs": [],
   "source": [
    "def create_land_prices_df():\n",
    "    basedir = './공시지가/'\n",
    "    filenames = [f for f in os.listdir(basedir) if f.endswith('.csv')]\n",
    "    \n",
    "    df = pd.read_csv(basedir + filenames[0], encoding='euc-kr', usecols=[2,4,5,6,8,10])\n",
    "    \n",
    "    df = df[df['기준년도'] >= 2006]\n",
    "    \n",
    "    df.drop_duplicates(subset=['법정동명', '특수지구분명', '지번', '기준년도'])\n",
    "    \n",
    "    return df"
   ]
  },
  {
   "cell_type": "code",
   "execution_count": 3,
   "metadata": {},
   "outputs": [
    {
     "name": "stdout",
     "output_type": "stream",
     "text": [
      "(13772806, 6)\n"
     ]
    },
    {
     "data": {
      "text/html": [
       "<div>\n",
       "<style scoped>\n",
       "    .dataframe tbody tr th:only-of-type {\n",
       "        vertical-align: middle;\n",
       "    }\n",
       "\n",
       "    .dataframe tbody tr th {\n",
       "        vertical-align: top;\n",
       "    }\n",
       "\n",
       "    .dataframe thead th {\n",
       "        text-align: right;\n",
       "    }\n",
       "</style>\n",
       "<table border=\"1\" class=\"dataframe\">\n",
       "  <thead>\n",
       "    <tr style=\"text-align: right;\">\n",
       "      <th></th>\n",
       "      <th>법정동명</th>\n",
       "      <th>특수지구분명</th>\n",
       "      <th>지번</th>\n",
       "      <th>기준년도</th>\n",
       "      <th>공시지가</th>\n",
       "      <th>표준지여부</th>\n",
       "    </tr>\n",
       "  </thead>\n",
       "  <tbody>\n",
       "    <tr>\n",
       "      <th>16</th>\n",
       "      <td>서울특별시 종로구 청운동</td>\n",
       "      <td>일반</td>\n",
       "      <td>1</td>\n",
       "      <td>2006</td>\n",
       "      <td>2420000</td>\n",
       "      <td>N</td>\n",
       "    </tr>\n",
       "    <tr>\n",
       "      <th>17</th>\n",
       "      <td>서울특별시 종로구 청운동</td>\n",
       "      <td>일반</td>\n",
       "      <td>1</td>\n",
       "      <td>2007</td>\n",
       "      <td>2580000</td>\n",
       "      <td>N</td>\n",
       "    </tr>\n",
       "    <tr>\n",
       "      <th>18</th>\n",
       "      <td>서울특별시 종로구 청운동</td>\n",
       "      <td>일반</td>\n",
       "      <td>1</td>\n",
       "      <td>2008</td>\n",
       "      <td>2830000</td>\n",
       "      <td>N</td>\n",
       "    </tr>\n",
       "    <tr>\n",
       "      <th>19</th>\n",
       "      <td>서울특별시 종로구 청운동</td>\n",
       "      <td>일반</td>\n",
       "      <td>1</td>\n",
       "      <td>2009</td>\n",
       "      <td>2770000</td>\n",
       "      <td>N</td>\n",
       "    </tr>\n",
       "    <tr>\n",
       "      <th>20</th>\n",
       "      <td>서울특별시 종로구 청운동</td>\n",
       "      <td>일반</td>\n",
       "      <td>1</td>\n",
       "      <td>2010</td>\n",
       "      <td>2840000</td>\n",
       "      <td>N</td>\n",
       "    </tr>\n",
       "  </tbody>\n",
       "</table>\n",
       "</div>"
      ],
      "text/plain": [
       "             법정동명 특수지구분명 지번  기준년도     공시지가 표준지여부\n",
       "16  서울특별시 종로구 청운동     일반  1  2006  2420000     N\n",
       "17  서울특별시 종로구 청운동     일반  1  2007  2580000     N\n",
       "18  서울특별시 종로구 청운동     일반  1  2008  2830000     N\n",
       "19  서울특별시 종로구 청운동     일반  1  2009  2770000     N\n",
       "20  서울특별시 종로구 청운동     일반  1  2010  2840000     N"
      ]
     },
     "execution_count": 3,
     "metadata": {},
     "output_type": "execute_result"
    }
   ],
   "source": [
    "land_prices_df = create_land_prices_df()\n",
    "print(land_prices_df.shape)\n",
    "land_prices_df.head()"
   ]
  },
  {
   "cell_type": "code",
   "execution_count": 4,
   "metadata": {},
   "outputs": [
    {
     "data": {
      "text/plain": [
       "일반    13532391\n",
       "산       240415\n",
       "Name: 특수지구분명, dtype: int64"
      ]
     },
     "execution_count": 4,
     "metadata": {},
     "output_type": "execute_result"
    }
   ],
   "source": [
    "land_prices_df['특수지구분명'].value_counts()"
   ]
  },
  {
   "cell_type": "code",
   "execution_count": 5,
   "metadata": {},
   "outputs": [],
   "source": [
    "def landnum_modifier(x):\n",
    "    # x is a string\n",
    "    \n",
    "    splitted = x.split('-')\n",
    "    if len(splitted) == 1:\n",
    "        return x+'-0'\n",
    "    elif len(splitted) == 2:\n",
    "        return x\n",
    "    else:\n",
    "        raise ValueError('myerror')"
   ]
  },
  {
   "cell_type": "code",
   "execution_count": 6,
   "metadata": {},
   "outputs": [
    {
     "data": {
      "text/html": [
       "<div>\n",
       "<style scoped>\n",
       "    .dataframe tbody tr th:only-of-type {\n",
       "        vertical-align: middle;\n",
       "    }\n",
       "\n",
       "    .dataframe tbody tr th {\n",
       "        vertical-align: top;\n",
       "    }\n",
       "\n",
       "    .dataframe thead th {\n",
       "        text-align: right;\n",
       "    }\n",
       "</style>\n",
       "<table border=\"1\" class=\"dataframe\">\n",
       "  <thead>\n",
       "    <tr style=\"text-align: right;\">\n",
       "      <th></th>\n",
       "      <th>법정동명</th>\n",
       "      <th>특수지구분명</th>\n",
       "      <th>지번</th>\n",
       "      <th>기준년도</th>\n",
       "      <th>공시지가</th>\n",
       "      <th>표준지여부</th>\n",
       "      <th>지번주소</th>\n",
       "    </tr>\n",
       "  </thead>\n",
       "  <tbody>\n",
       "    <tr>\n",
       "      <th>16</th>\n",
       "      <td>서울특별시 종로구 청운동</td>\n",
       "      <td>일반</td>\n",
       "      <td>1</td>\n",
       "      <td>2006</td>\n",
       "      <td>2420000</td>\n",
       "      <td>N</td>\n",
       "      <td>서울특별시 종로구 청운동 1-0</td>\n",
       "    </tr>\n",
       "    <tr>\n",
       "      <th>17</th>\n",
       "      <td>서울특별시 종로구 청운동</td>\n",
       "      <td>일반</td>\n",
       "      <td>1</td>\n",
       "      <td>2007</td>\n",
       "      <td>2580000</td>\n",
       "      <td>N</td>\n",
       "      <td>서울특별시 종로구 청운동 1-0</td>\n",
       "    </tr>\n",
       "    <tr>\n",
       "      <th>18</th>\n",
       "      <td>서울특별시 종로구 청운동</td>\n",
       "      <td>일반</td>\n",
       "      <td>1</td>\n",
       "      <td>2008</td>\n",
       "      <td>2830000</td>\n",
       "      <td>N</td>\n",
       "      <td>서울특별시 종로구 청운동 1-0</td>\n",
       "    </tr>\n",
       "    <tr>\n",
       "      <th>19</th>\n",
       "      <td>서울특별시 종로구 청운동</td>\n",
       "      <td>일반</td>\n",
       "      <td>1</td>\n",
       "      <td>2009</td>\n",
       "      <td>2770000</td>\n",
       "      <td>N</td>\n",
       "      <td>서울특별시 종로구 청운동 1-0</td>\n",
       "    </tr>\n",
       "    <tr>\n",
       "      <th>20</th>\n",
       "      <td>서울특별시 종로구 청운동</td>\n",
       "      <td>일반</td>\n",
       "      <td>1</td>\n",
       "      <td>2010</td>\n",
       "      <td>2840000</td>\n",
       "      <td>N</td>\n",
       "      <td>서울특별시 종로구 청운동 1-0</td>\n",
       "    </tr>\n",
       "  </tbody>\n",
       "</table>\n",
       "</div>"
      ],
      "text/plain": [
       "             법정동명 특수지구분명 지번  기준년도     공시지가 표준지여부               지번주소\n",
       "16  서울특별시 종로구 청운동     일반  1  2006  2420000     N  서울특별시 종로구 청운동 1-0\n",
       "17  서울특별시 종로구 청운동     일반  1  2007  2580000     N  서울특별시 종로구 청운동 1-0\n",
       "18  서울특별시 종로구 청운동     일반  1  2008  2830000     N  서울특별시 종로구 청운동 1-0\n",
       "19  서울특별시 종로구 청운동     일반  1  2009  2770000     N  서울특별시 종로구 청운동 1-0\n",
       "20  서울특별시 종로구 청운동     일반  1  2010  2840000     N  서울특별시 종로구 청운동 1-0"
      ]
     },
     "execution_count": 6,
     "metadata": {},
     "output_type": "execute_result"
    }
   ],
   "source": [
    "land_prices_df['지번주소'] = land_prices_df['법정동명'] + ' ' + land_prices_df['지번'].apply(landnum_modifier)\n",
    "land_prices_df.head()"
   ]
  },
  {
   "cell_type": "code",
   "execution_count": 7,
   "metadata": {},
   "outputs": [],
   "source": [
    "land_prices_df.drop(columns=['법정동명', '지번'], inplace=True)"
   ]
  },
  {
   "cell_type": "code",
   "execution_count": 8,
   "metadata": {},
   "outputs": [
    {
     "data": {
      "text/html": [
       "<div>\n",
       "<style scoped>\n",
       "    .dataframe tbody tr th:only-of-type {\n",
       "        vertical-align: middle;\n",
       "    }\n",
       "\n",
       "    .dataframe tbody tr th {\n",
       "        vertical-align: top;\n",
       "    }\n",
       "\n",
       "    .dataframe thead th {\n",
       "        text-align: right;\n",
       "    }\n",
       "</style>\n",
       "<table border=\"1\" class=\"dataframe\">\n",
       "  <thead>\n",
       "    <tr style=\"text-align: right;\">\n",
       "      <th></th>\n",
       "      <th>특수지구분명</th>\n",
       "      <th>기준년도</th>\n",
       "      <th>공시지가</th>\n",
       "      <th>표준지여부</th>\n",
       "      <th>지번주소</th>\n",
       "    </tr>\n",
       "  </thead>\n",
       "  <tbody>\n",
       "    <tr>\n",
       "      <th>16</th>\n",
       "      <td>일반</td>\n",
       "      <td>2006</td>\n",
       "      <td>2420000</td>\n",
       "      <td>N</td>\n",
       "      <td>서울특별시 종로구 청운동 1-0</td>\n",
       "    </tr>\n",
       "    <tr>\n",
       "      <th>17</th>\n",
       "      <td>일반</td>\n",
       "      <td>2007</td>\n",
       "      <td>2580000</td>\n",
       "      <td>N</td>\n",
       "      <td>서울특별시 종로구 청운동 1-0</td>\n",
       "    </tr>\n",
       "    <tr>\n",
       "      <th>18</th>\n",
       "      <td>일반</td>\n",
       "      <td>2008</td>\n",
       "      <td>2830000</td>\n",
       "      <td>N</td>\n",
       "      <td>서울특별시 종로구 청운동 1-0</td>\n",
       "    </tr>\n",
       "    <tr>\n",
       "      <th>19</th>\n",
       "      <td>일반</td>\n",
       "      <td>2009</td>\n",
       "      <td>2770000</td>\n",
       "      <td>N</td>\n",
       "      <td>서울특별시 종로구 청운동 1-0</td>\n",
       "    </tr>\n",
       "    <tr>\n",
       "      <th>20</th>\n",
       "      <td>일반</td>\n",
       "      <td>2010</td>\n",
       "      <td>2840000</td>\n",
       "      <td>N</td>\n",
       "      <td>서울특별시 종로구 청운동 1-0</td>\n",
       "    </tr>\n",
       "  </tbody>\n",
       "</table>\n",
       "</div>"
      ],
      "text/plain": [
       "   특수지구분명  기준년도     공시지가 표준지여부               지번주소\n",
       "16     일반  2006  2420000     N  서울특별시 종로구 청운동 1-0\n",
       "17     일반  2007  2580000     N  서울특별시 종로구 청운동 1-0\n",
       "18     일반  2008  2830000     N  서울특별시 종로구 청운동 1-0\n",
       "19     일반  2009  2770000     N  서울특별시 종로구 청운동 1-0\n",
       "20     일반  2010  2840000     N  서울특별시 종로구 청운동 1-0"
      ]
     },
     "execution_count": 8,
     "metadata": {},
     "output_type": "execute_result"
    }
   ],
   "source": [
    "land_prices_df.head()"
   ]
  },
  {
   "cell_type": "code",
   "execution_count": 9,
   "metadata": {},
   "outputs": [],
   "source": [
    "land_prices_df.rename(columns={'기준년도':'년'}, inplace=True)"
   ]
  },
  {
   "cell_type": "code",
   "execution_count": 10,
   "metadata": {},
   "outputs": [],
   "source": [
    "def san_addr_modifier(x):\n",
    "    # x is a string\n",
    "    \n",
    "    if pd.isna(x) == True:\n",
    "        return x\n",
    "    else:\n",
    "        splitted = x.split(' ')\n",
    "        return splitted[0] + ' ' + splitted[1] + ' ' + splitted[2] + ' 산' + splitted[3]"
   ]
  },
  {
   "cell_type": "code",
   "execution_count": 11,
   "metadata": {},
   "outputs": [],
   "source": [
    "san_df = land_prices_df[land_prices_df['특수지구분명'] == '산']"
   ]
  },
  {
   "cell_type": "code",
   "execution_count": 12,
   "metadata": {},
   "outputs": [],
   "source": [
    "san_df['지번주소'] = san_df['지번주소'].apply(san_addr_modifier)"
   ]
  },
  {
   "cell_type": "code",
   "execution_count": 13,
   "metadata": {},
   "outputs": [
    {
     "data": {
      "text/plain": [
       "array(['서울특별시 종로구 청운동 산1-1', '서울특별시 종로구 청운동 산1-13', '서울특별시 종로구 청운동 산1-36',\n",
       "       '서울특별시 종로구 청운동 산1-76', '서울특별시 종로구 청운동 산1-77',\n",
       "       '서울특별시 종로구 청운동 산1-79', '서울특별시 종로구 청운동 산1-83',\n",
       "       '서울특별시 종로구 청운동 산1-84', '서울특별시 종로구 청운동 산4-11',\n",
       "       '서울특별시 종로구 청운동 산4-15', '서울특별시 종로구 청운동 산4-34',\n",
       "       '서울특별시 종로구 청운동 산4-35', '서울특별시 종로구 청운동 산4-36',\n",
       "       '서울특별시 종로구 청운동 산4-38', '서울특별시 종로구 청운동 산4-39',\n",
       "       '서울특별시 종로구 청운동 산4-41', '서울특별시 종로구 청운동 산4-56', '서울특별시 종로구 청운동 산7-2',\n",
       "       '서울특별시 종로구 청운동 산7-14', '서울특별시 종로구 청운동 산7-15'], dtype=object)"
      ]
     },
     "execution_count": 13,
     "metadata": {},
     "output_type": "execute_result"
    }
   ],
   "source": [
    "san_df['지번주소'].unique()[:20]"
   ]
  },
  {
   "cell_type": "code",
   "execution_count": 13,
   "metadata": {},
   "outputs": [],
   "source": [
    "land_prices_df.loc[san_df.index, '지번주소'] = san_df['지번주소']"
   ]
  },
  {
   "cell_type": "code",
   "execution_count": 14,
   "metadata": {},
   "outputs": [],
   "source": [
    "del san_df"
   ]
  },
  {
   "cell_type": "code",
   "execution_count": 15,
   "metadata": {},
   "outputs": [],
   "source": [
    "land_prices_df.drop(columns=['특수지구분명'], inplace=True)"
   ]
  },
  {
   "cell_type": "code",
   "execution_count": 16,
   "metadata": {},
   "outputs": [
    {
     "name": "stdout",
     "output_type": "stream",
     "text": [
      "(13772806, 4)\n"
     ]
    },
    {
     "data": {
      "text/plain": [
       "(13742333, 4)"
      ]
     },
     "execution_count": 16,
     "metadata": {},
     "output_type": "execute_result"
    }
   ],
   "source": [
    "print(land_prices_df.shape)\n",
    "land_prices_df.drop_duplicates(subset=['지번주소', '년'], keep='first', inplace=True)\n",
    "land_prices_df.shape"
   ]
  },
  {
   "cell_type": "code",
   "execution_count": 17,
   "metadata": {},
   "outputs": [
    {
     "data": {
      "text/html": [
       "<div>\n",
       "<style scoped>\n",
       "    .dataframe tbody tr th:only-of-type {\n",
       "        vertical-align: middle;\n",
       "    }\n",
       "\n",
       "    .dataframe tbody tr th {\n",
       "        vertical-align: top;\n",
       "    }\n",
       "\n",
       "    .dataframe thead th {\n",
       "        text-align: right;\n",
       "    }\n",
       "</style>\n",
       "<table border=\"1\" class=\"dataframe\">\n",
       "  <thead>\n",
       "    <tr style=\"text-align: right;\">\n",
       "      <th></th>\n",
       "      <th>년</th>\n",
       "      <th>공시지가</th>\n",
       "      <th>표준지여부</th>\n",
       "      <th>지번주소</th>\n",
       "    </tr>\n",
       "  </thead>\n",
       "  <tbody>\n",
       "    <tr>\n",
       "      <th>16</th>\n",
       "      <td>2006</td>\n",
       "      <td>2420000</td>\n",
       "      <td>N</td>\n",
       "      <td>서울특별시 종로구 청운동 1-0</td>\n",
       "    </tr>\n",
       "    <tr>\n",
       "      <th>17</th>\n",
       "      <td>2007</td>\n",
       "      <td>2580000</td>\n",
       "      <td>N</td>\n",
       "      <td>서울특별시 종로구 청운동 1-0</td>\n",
       "    </tr>\n",
       "    <tr>\n",
       "      <th>18</th>\n",
       "      <td>2008</td>\n",
       "      <td>2830000</td>\n",
       "      <td>N</td>\n",
       "      <td>서울특별시 종로구 청운동 1-0</td>\n",
       "    </tr>\n",
       "    <tr>\n",
       "      <th>19</th>\n",
       "      <td>2009</td>\n",
       "      <td>2770000</td>\n",
       "      <td>N</td>\n",
       "      <td>서울특별시 종로구 청운동 1-0</td>\n",
       "    </tr>\n",
       "    <tr>\n",
       "      <th>20</th>\n",
       "      <td>2010</td>\n",
       "      <td>2840000</td>\n",
       "      <td>N</td>\n",
       "      <td>서울특별시 종로구 청운동 1-0</td>\n",
       "    </tr>\n",
       "  </tbody>\n",
       "</table>\n",
       "</div>"
      ],
      "text/plain": [
       "       년     공시지가 표준지여부               지번주소\n",
       "16  2006  2420000     N  서울특별시 종로구 청운동 1-0\n",
       "17  2007  2580000     N  서울특별시 종로구 청운동 1-0\n",
       "18  2008  2830000     N  서울특별시 종로구 청운동 1-0\n",
       "19  2009  2770000     N  서울특별시 종로구 청운동 1-0\n",
       "20  2010  2840000     N  서울특별시 종로구 청운동 1-0"
      ]
     },
     "execution_count": 17,
     "metadata": {},
     "output_type": "execute_result"
    }
   ],
   "source": [
    "land_prices_df.head()"
   ]
  },
  {
   "cell_type": "code",
   "execution_count": 18,
   "metadata": {},
   "outputs": [
    {
     "name": "stdout",
     "output_type": "stream",
     "text": [
      "(4555253, 17)\n"
     ]
    },
    {
     "data": {
      "text/html": [
       "<div>\n",
       "<style scoped>\n",
       "    .dataframe tbody tr th:only-of-type {\n",
       "        vertical-align: middle;\n",
       "    }\n",
       "\n",
       "    .dataframe tbody tr th {\n",
       "        vertical-align: top;\n",
       "    }\n",
       "\n",
       "    .dataframe thead th {\n",
       "        text-align: right;\n",
       "    }\n",
       "</style>\n",
       "<table border=\"1\" class=\"dataframe\">\n",
       "  <thead>\n",
       "    <tr style=\"text-align: right;\">\n",
       "      <th></th>\n",
       "      <th>전월세매매구분</th>\n",
       "      <th>전용면적(㎡)</th>\n",
       "      <th>계약일</th>\n",
       "      <th>금액(만원)</th>\n",
       "      <th>월세(만원)</th>\n",
       "      <th>층</th>\n",
       "      <th>건축년도</th>\n",
       "      <th>가격/면적</th>\n",
       "      <th>년</th>\n",
       "      <th>월</th>\n",
       "      <th>target_log_transformed</th>\n",
       "      <th>target/area_log_transformed</th>\n",
       "      <th>건물종류</th>\n",
       "      <th>지번주소</th>\n",
       "      <th>대장구분명</th>\n",
       "      <th>도로명주소</th>\n",
       "      <th>addr_split_len</th>\n",
       "    </tr>\n",
       "  </thead>\n",
       "  <tbody>\n",
       "    <tr>\n",
       "      <th>0</th>\n",
       "      <td>매매</td>\n",
       "      <td>77.75</td>\n",
       "      <td>8</td>\n",
       "      <td>57000</td>\n",
       "      <td>0</td>\n",
       "      <td>2</td>\n",
       "      <td>1988</td>\n",
       "      <td>733.118971</td>\n",
       "      <td>2013</td>\n",
       "      <td>9</td>\n",
       "      <td>10.950807</td>\n",
       "      <td>6.597308</td>\n",
       "      <td>아파트</td>\n",
       "      <td>서울특별시 강남구 개포동 655-2</td>\n",
       "      <td>일반</td>\n",
       "      <td>서울특별시 강남구 언주로 103-0</td>\n",
       "      <td>4.0</td>\n",
       "    </tr>\n",
       "    <tr>\n",
       "      <th>1</th>\n",
       "      <td>매매</td>\n",
       "      <td>77.75</td>\n",
       "      <td>16</td>\n",
       "      <td>57000</td>\n",
       "      <td>0</td>\n",
       "      <td>2</td>\n",
       "      <td>1988</td>\n",
       "      <td>733.118971</td>\n",
       "      <td>2013</td>\n",
       "      <td>12</td>\n",
       "      <td>10.950807</td>\n",
       "      <td>6.597308</td>\n",
       "      <td>아파트</td>\n",
       "      <td>서울특별시 강남구 개포동 655-2</td>\n",
       "      <td>일반</td>\n",
       "      <td>서울특별시 강남구 언주로 103-0</td>\n",
       "      <td>4.0</td>\n",
       "    </tr>\n",
       "    <tr>\n",
       "      <th>2</th>\n",
       "      <td>매매</td>\n",
       "      <td>67.28</td>\n",
       "      <td>11</td>\n",
       "      <td>55000</td>\n",
       "      <td>0</td>\n",
       "      <td>5</td>\n",
       "      <td>1987</td>\n",
       "      <td>817.479191</td>\n",
       "      <td>2013</td>\n",
       "      <td>2</td>\n",
       "      <td>10.915088</td>\n",
       "      <td>6.706225</td>\n",
       "      <td>아파트</td>\n",
       "      <td>서울특별시 강남구 개포동 658-1</td>\n",
       "      <td>일반</td>\n",
       "      <td>서울특별시 강남구 언주로 3-0</td>\n",
       "      <td>4.0</td>\n",
       "    </tr>\n",
       "    <tr>\n",
       "      <th>3</th>\n",
       "      <td>매매</td>\n",
       "      <td>67.28</td>\n",
       "      <td>22</td>\n",
       "      <td>58250</td>\n",
       "      <td>0</td>\n",
       "      <td>4</td>\n",
       "      <td>1987</td>\n",
       "      <td>865.784780</td>\n",
       "      <td>2013</td>\n",
       "      <td>2</td>\n",
       "      <td>10.972499</td>\n",
       "      <td>6.763636</td>\n",
       "      <td>아파트</td>\n",
       "      <td>서울특별시 강남구 개포동 658-1</td>\n",
       "      <td>일반</td>\n",
       "      <td>서울특별시 강남구 언주로 3-0</td>\n",
       "      <td>4.0</td>\n",
       "    </tr>\n",
       "    <tr>\n",
       "      <th>4</th>\n",
       "      <td>매매</td>\n",
       "      <td>67.28</td>\n",
       "      <td>10</td>\n",
       "      <td>60000</td>\n",
       "      <td>0</td>\n",
       "      <td>5</td>\n",
       "      <td>1987</td>\n",
       "      <td>891.795482</td>\n",
       "      <td>2013</td>\n",
       "      <td>5</td>\n",
       "      <td>11.002100</td>\n",
       "      <td>6.793237</td>\n",
       "      <td>아파트</td>\n",
       "      <td>서울특별시 강남구 개포동 658-1</td>\n",
       "      <td>일반</td>\n",
       "      <td>서울특별시 강남구 언주로 3-0</td>\n",
       "      <td>4.0</td>\n",
       "    </tr>\n",
       "  </tbody>\n",
       "</table>\n",
       "</div>"
      ],
      "text/plain": [
       "  전월세매매구분  전용면적(㎡)  계약일  금액(만원)  월세(만원)  층  건축년도       가격/면적     년   월  \\\n",
       "0      매매    77.75    8   57000       0  2  1988  733.118971  2013   9   \n",
       "1      매매    77.75   16   57000       0  2  1988  733.118971  2013  12   \n",
       "2      매매    67.28   11   55000       0  5  1987  817.479191  2013   2   \n",
       "3      매매    67.28   22   58250       0  4  1987  865.784780  2013   2   \n",
       "4      매매    67.28   10   60000       0  5  1987  891.795482  2013   5   \n",
       "\n",
       "   target_log_transformed  target/area_log_transformed 건물종류  \\\n",
       "0               10.950807                     6.597308  아파트   \n",
       "1               10.950807                     6.597308  아파트   \n",
       "2               10.915088                     6.706225  아파트   \n",
       "3               10.972499                     6.763636  아파트   \n",
       "4               11.002100                     6.793237  아파트   \n",
       "\n",
       "                  지번주소 대장구분명                도로명주소  addr_split_len  \n",
       "0  서울특별시 강남구 개포동 655-2    일반  서울특별시 강남구 언주로 103-0             4.0  \n",
       "1  서울특별시 강남구 개포동 655-2    일반  서울특별시 강남구 언주로 103-0             4.0  \n",
       "2  서울특별시 강남구 개포동 658-1    일반    서울특별시 강남구 언주로 3-0             4.0  \n",
       "3  서울특별시 강남구 개포동 658-1    일반    서울특별시 강남구 언주로 3-0             4.0  \n",
       "4  서울특별시 강남구 개포동 658-1    일반    서울특별시 강남구 언주로 3-0             4.0  "
      ]
     },
     "execution_count": 18,
     "metadata": {},
     "output_type": "execute_result"
    }
   ],
   "source": [
    "main_data_df = pd.read_csv('./prepped_data/main_data_baseline_checkpoint_1.csv')\n",
    "print(main_data_df.shape)\n",
    "main_data_df.head()"
   ]
  },
  {
   "cell_type": "code",
   "execution_count": 19,
   "metadata": {},
   "outputs": [
    {
     "name": "stdout",
     "output_type": "stream",
     "text": [
      "(1594565, 4)\n"
     ]
    },
    {
     "data": {
      "text/html": [
       "<div>\n",
       "<style scoped>\n",
       "    .dataframe tbody tr th:only-of-type {\n",
       "        vertical-align: middle;\n",
       "    }\n",
       "\n",
       "    .dataframe tbody tr th {\n",
       "        vertical-align: top;\n",
       "    }\n",
       "\n",
       "    .dataframe thead th {\n",
       "        text-align: right;\n",
       "    }\n",
       "</style>\n",
       "<table border=\"1\" class=\"dataframe\">\n",
       "  <thead>\n",
       "    <tr style=\"text-align: right;\">\n",
       "      <th></th>\n",
       "      <th>년</th>\n",
       "      <th>공시지가</th>\n",
       "      <th>표준지여부</th>\n",
       "      <th>지번주소</th>\n",
       "    </tr>\n",
       "  </thead>\n",
       "  <tbody>\n",
       "    <tr>\n",
       "      <th>16</th>\n",
       "      <td>2006</td>\n",
       "      <td>2420000</td>\n",
       "      <td>N</td>\n",
       "      <td>서울특별시 종로구 청운동 1-0</td>\n",
       "    </tr>\n",
       "    <tr>\n",
       "      <th>17</th>\n",
       "      <td>2007</td>\n",
       "      <td>2580000</td>\n",
       "      <td>N</td>\n",
       "      <td>서울특별시 종로구 청운동 1-0</td>\n",
       "    </tr>\n",
       "    <tr>\n",
       "      <th>18</th>\n",
       "      <td>2008</td>\n",
       "      <td>2830000</td>\n",
       "      <td>N</td>\n",
       "      <td>서울특별시 종로구 청운동 1-0</td>\n",
       "    </tr>\n",
       "    <tr>\n",
       "      <th>19</th>\n",
       "      <td>2009</td>\n",
       "      <td>2770000</td>\n",
       "      <td>N</td>\n",
       "      <td>서울특별시 종로구 청운동 1-0</td>\n",
       "    </tr>\n",
       "    <tr>\n",
       "      <th>20</th>\n",
       "      <td>2010</td>\n",
       "      <td>2840000</td>\n",
       "      <td>N</td>\n",
       "      <td>서울특별시 종로구 청운동 1-0</td>\n",
       "    </tr>\n",
       "  </tbody>\n",
       "</table>\n",
       "</div>"
      ],
      "text/plain": [
       "       년     공시지가 표준지여부               지번주소\n",
       "16  2006  2420000     N  서울특별시 종로구 청운동 1-0\n",
       "17  2007  2580000     N  서울특별시 종로구 청운동 1-0\n",
       "18  2008  2830000     N  서울특별시 종로구 청운동 1-0\n",
       "19  2009  2770000     N  서울특별시 종로구 청운동 1-0\n",
       "20  2010  2840000     N  서울특별시 종로구 청운동 1-0"
      ]
     },
     "execution_count": 19,
     "metadata": {},
     "output_type": "execute_result"
    }
   ],
   "source": [
    "selected_df = land_prices_df[land_prices_df['지번주소'].isin(main_data_df['지번주소'].unique())]\n",
    "print(selected_df.shape)\n",
    "selected_df.head()"
   ]
  },
  {
   "cell_type": "code",
   "execution_count": 20,
   "metadata": {},
   "outputs": [],
   "source": [
    "selected_df.to_csv('./prepped_data/land_prices_ver_2.csv', index=False)"
   ]
  }
 ],
 "metadata": {
  "kernelspec": {
   "display_name": "Python 3",
   "language": "python",
   "name": "python3"
  },
  "language_info": {
   "codemirror_mode": {
    "name": "ipython",
    "version": 3
   },
   "file_extension": ".py",
   "mimetype": "text/x-python",
   "name": "python",
   "nbconvert_exporter": "python",
   "pygments_lexer": "ipython3",
   "version": "3.7.9"
  }
 },
 "nbformat": 4,
 "nbformat_minor": 4
}
