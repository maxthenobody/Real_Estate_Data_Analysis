{
 "cells": [
  {
   "cell_type": "code",
   "execution_count": 1,
   "metadata": {},
   "outputs": [],
   "source": [
    "import numpy as np\n",
    "import pandas as pd\n",
    "import matplotlib.pyplot as plt\n",
    "import os\n",
    "import math\n",
    "from tqdm import tqdm\n",
    "import requests\n",
    "from urllib.parse import urlparse\n",
    "pd.set_option('display.max_rows', 500)\n",
    "pd.set_option('display.max_columns', 500)\n",
    "import datetime\n",
    "from sklearn.preprocessing import quantile_transform\n",
    "pd.options.mode.chained_assignment = None  # default='warn'\n",
    "from time import sleep"
   ]
  },
  {
   "cell_type": "code",
   "execution_count": 2,
   "metadata": {},
   "outputs": [],
   "source": [
    "# 지번주소로 도로명주소와 좌표를 다운로드함. 출처 - 행정안전부 도로명주소 안내시스템 개발자센터\n",
    "\n",
    "def fetch_coor_data(df):\n",
    "    df = df.copy()\n",
    "    \n",
    "    roadname_url = 'https://www.juso.go.kr/addrlink/addrLinkApi.do?'\n",
    "    roadname_apikey = 'devU01TX0FVVEgyMDIxMDEyNDExMDM0MDExMDczNjE='\n",
    "    coor_base_url = 'https://www.juso.go.kr/addrlink/addrCoordApi.do?'\n",
    "    coor_apikey = 'devU01TX0FVVEgyMDIxMDIyNjExMDQwMDExMDg1ODU='\n",
    "    # 도로명주소 검색 api key 만료일 2021년 4월 24일\n",
    "    # 좌표검색 api key 만료일 2021년 5월 27일\n",
    "    #apikey 만료시 https://www.juso.go.kr/addrlink/devAddrLinkRequestWrite.do?returnFn=write&cntcMenu=URL 가서 새로 받을 것.\n",
    "    \n",
    "    coor_data_df = pd.DataFrame({'지번주소':[], '도로명주소':[], '역명':[], 'x좌표':[], 'y좌표':[]})\n",
    "    \n",
    "    for i in tqdm(range(df.shape[0])):\n",
    "        address_no_zero = df['역주소'].loc[i].split('(')[0]\n",
    "        station_name = df['역명'].loc[i]\n",
    "        if station_name.endswith('역') == False:\n",
    "            station_name += '역'\n",
    "            \n",
    "        roadname_result = None\n",
    "        coor_result = None\n",
    "        coor_info = None\n",
    "        \n",
    "        roadname_result = requests.get(roadname_url + 'confmKey=' + roadname_apikey + '&currentPage=1' + '&countPerPage=5' + '&keyword=' \\\n",
    "                                       + address_no_zero + '&resultType=json' + '&hstryYn=Y')\n",
    "        sleep(1)\n",
    "        roadname_info = roadname_result.json()['results']['juso']\n",
    "        \n",
    "        the_idx = None        \n",
    "        if roadname_info == []:\n",
    "            roadname_result = requests.get(roadname_url + 'confmKey=' + roadname_apikey + '&currentPage=1' + '&countPerPage=5' + '&keyword=' \\\n",
    "                                       + station_name + '&resultType=json' + '&hstryYn=Y')\n",
    "            sleep(1)\n",
    "            roadname_info = roadname_result.json()['results']['juso']\n",
    "            \n",
    "        for j in range(len(roadname_info)):\n",
    "            if roadname_info[j]['bdNm'] == station_name:\n",
    "                the_idx = j\n",
    "                break\n",
    "        \n",
    "        if the_idx == None:\n",
    "            roadname_info = roadname_info[0]\n",
    "        else:\n",
    "            roadname_info = roadname_info[the_idx]\n",
    "        \n",
    "        coor_result = requests.get(coor_base_url + 'confmKey=' + coor_apikey + '&admCd=' + roadname_info['admCd']\\\n",
    "                                   + '&rnMgtSn=' + roadname_info['rnMgtSn'] + '&udrtYn=' + roadname_info['udrtYn']\\\n",
    "                                   + '&buldMnnm=' + roadname_info['buldMnnm'] + '&buldSlno=' + roadname_info['buldSlno']\\\n",
    "                                   + '&resultType=json')\n",
    "        sleep(1)\n",
    "        #return coor_result\n",
    "        \n",
    "        if coor_result.json()['results']['juso'] == None:\n",
    "            print(address_no_zero)\n",
    "            continue\n",
    "        \n",
    "        coor_info = coor_result.json()['results']['juso'][0]\n",
    "        \n",
    "        coor_x = pd.to_numeric(coor_info['entX'])\n",
    "        coor_y = pd.to_numeric(coor_info['entY'])\n",
    "        \n",
    "        roadname_addr = roadname_info['roadAddrPart1']\n",
    "        \n",
    "        coor_data_df.loc[i,'지번주소'] = address_no_zero\n",
    "        coor_data_df.loc[i,'도로명주소'] = roadname_addr\n",
    "        coor_data_df.loc[i, '역명'] = station_name\n",
    "        coor_data_df.loc[i, 'x좌표'] = coor_x\n",
    "        coor_data_df.loc[i, 'y좌표'] = coor_y\n",
    "        \n",
    "    \n",
    "    \n",
    "    return coor_data_df"
   ]
  },
  {
   "cell_type": "code",
   "execution_count": 3,
   "metadata": {},
   "outputs": [
    {
     "data": {
      "text/plain": [
       "['서울교통공사_역주소 및 전화번호_20200715.xlsx']"
      ]
     },
     "execution_count": 3,
     "metadata": {},
     "output_type": "execute_result"
    }
   ],
   "source": [
    "basedir = './지하철역/'\n",
    "filenames = [f for f in os.listdir(basedir) if f.endswith('.xlsx')]\n",
    "filenames"
   ]
  },
  {
   "cell_type": "code",
   "execution_count": 4,
   "metadata": {},
   "outputs": [
    {
     "name": "stdout",
     "output_type": "stream",
     "text": [
      "(292, 6)\n"
     ]
    },
    {
     "data": {
      "text/html": [
       "<div>\n",
       "<style scoped>\n",
       "    .dataframe tbody tr th:only-of-type {\n",
       "        vertical-align: middle;\n",
       "    }\n",
       "\n",
       "    .dataframe tbody tr th {\n",
       "        vertical-align: top;\n",
       "    }\n",
       "\n",
       "    .dataframe thead th {\n",
       "        text-align: right;\n",
       "    }\n",
       "</style>\n",
       "<table border=\"1\" class=\"dataframe\">\n",
       "  <thead>\n",
       "    <tr style=\"text-align: right;\">\n",
       "      <th></th>\n",
       "      <th>연번</th>\n",
       "      <th>역번호</th>\n",
       "      <th>호선</th>\n",
       "      <th>역명</th>\n",
       "      <th>역전화번호</th>\n",
       "      <th>역주소</th>\n",
       "    </tr>\n",
       "  </thead>\n",
       "  <tbody>\n",
       "    <tr>\n",
       "      <th>0</th>\n",
       "      <td>1</td>\n",
       "      <td>150</td>\n",
       "      <td>1</td>\n",
       "      <td>서울역</td>\n",
       "      <td>02-6110-1331</td>\n",
       "      <td>서울특별시 중구 세종대로 지하 2 (남대문로 5가)</td>\n",
       "    </tr>\n",
       "    <tr>\n",
       "      <th>1</th>\n",
       "      <td>2</td>\n",
       "      <td>151</td>\n",
       "      <td>1</td>\n",
       "      <td>시청</td>\n",
       "      <td>02-6110-1321</td>\n",
       "      <td>서울특별시 중구 세종대로 지하 101 (정동)</td>\n",
       "    </tr>\n",
       "    <tr>\n",
       "      <th>2</th>\n",
       "      <td>3</td>\n",
       "      <td>152</td>\n",
       "      <td>1</td>\n",
       "      <td>종각</td>\n",
       "      <td>02-6110-1311</td>\n",
       "      <td>서울특별시 종로구 종로 지하 55 (종로1가)</td>\n",
       "    </tr>\n",
       "    <tr>\n",
       "      <th>3</th>\n",
       "      <td>4</td>\n",
       "      <td>153</td>\n",
       "      <td>1</td>\n",
       "      <td>종로3가</td>\n",
       "      <td>02-6110-1301</td>\n",
       "      <td>서울특별시 종로구 종로 지하 129 (종로3가)</td>\n",
       "    </tr>\n",
       "    <tr>\n",
       "      <th>4</th>\n",
       "      <td>5</td>\n",
       "      <td>154</td>\n",
       "      <td>1</td>\n",
       "      <td>종로5가</td>\n",
       "      <td>02-6110-1291</td>\n",
       "      <td>서울특별시 종로구 종로 지하 216  (종로5가)</td>\n",
       "    </tr>\n",
       "  </tbody>\n",
       "</table>\n",
       "</div>"
      ],
      "text/plain": [
       "   연번  역번호  호선    역명         역전화번호                           역주소\n",
       "0   1  150   1   서울역  02-6110-1331  서울특별시 중구 세종대로 지하 2 (남대문로 5가)\n",
       "1   2  151   1    시청  02-6110-1321     서울특별시 중구 세종대로 지하 101 (정동)\n",
       "2   3  152   1    종각  02-6110-1311     서울특별시 종로구 종로 지하 55 (종로1가)\n",
       "3   4  153   1  종로3가  02-6110-1301    서울특별시 종로구 종로 지하 129 (종로3가)\n",
       "4   5  154   1  종로5가  02-6110-1291   서울특별시 종로구 종로 지하 216  (종로5가)"
      ]
     },
     "execution_count": 4,
     "metadata": {},
     "output_type": "execute_result"
    }
   ],
   "source": [
    "subway_df = pd.read_excel(basedir + filenames[0])\n",
    "print(subway_df.shape)\n",
    "subway_df.head()"
   ]
  },
  {
   "cell_type": "code",
   "execution_count": 5,
   "metadata": {},
   "outputs": [
    {
     "name": "stderr",
     "output_type": "stream",
     "text": [
      "100%|████████████████████████████████████████████████████████████████████████████████| 292/292 [12:09<00:00,  2.50s/it]\n"
     ]
    }
   ],
   "source": [
    "subway_coor_df = fetch_coor_data(subway_df)"
   ]
  },
  {
   "cell_type": "code",
   "execution_count": 6,
   "metadata": {
    "scrolled": true
   },
   "outputs": [
    {
     "name": "stdout",
     "output_type": "stream",
     "text": [
      "(292, 5)\n"
     ]
    },
    {
     "data": {
      "text/html": [
       "<div>\n",
       "<style scoped>\n",
       "    .dataframe tbody tr th:only-of-type {\n",
       "        vertical-align: middle;\n",
       "    }\n",
       "\n",
       "    .dataframe tbody tr th {\n",
       "        vertical-align: top;\n",
       "    }\n",
       "\n",
       "    .dataframe thead th {\n",
       "        text-align: right;\n",
       "    }\n",
       "</style>\n",
       "<table border=\"1\" class=\"dataframe\">\n",
       "  <thead>\n",
       "    <tr style=\"text-align: right;\">\n",
       "      <th></th>\n",
       "      <th>지번주소</th>\n",
       "      <th>도로명주소</th>\n",
       "      <th>역명</th>\n",
       "      <th>x좌표</th>\n",
       "      <th>y좌표</th>\n",
       "    </tr>\n",
       "  </thead>\n",
       "  <tbody>\n",
       "    <tr>\n",
       "      <th>0</th>\n",
       "      <td>서울특별시 중구 세종대로 지하 2</td>\n",
       "      <td>서울특별시 중구 세종대로 지하 2</td>\n",
       "      <td>서울역</td>\n",
       "      <td>953414.452778</td>\n",
       "      <td>1.950998e+06</td>\n",
       "    </tr>\n",
       "    <tr>\n",
       "      <th>1</th>\n",
       "      <td>서울특별시 중구 세종대로 지하 101</td>\n",
       "      <td>서울특별시 중구 세종대로 지하 101</td>\n",
       "      <td>시청역</td>\n",
       "      <td>953808.786159</td>\n",
       "      <td>1.951915e+06</td>\n",
       "    </tr>\n",
       "    <tr>\n",
       "      <th>2</th>\n",
       "      <td>서울특별시 종로구 종로 지하 55</td>\n",
       "      <td>서울특별시 종로구 종로 지하 55</td>\n",
       "      <td>종각역</td>\n",
       "      <td>954366.404325</td>\n",
       "      <td>1.952442e+06</td>\n",
       "    </tr>\n",
       "    <tr>\n",
       "      <th>3</th>\n",
       "      <td>서울특별시 종로구 종로 지하 129</td>\n",
       "      <td>서울특별시 종로구 종로 지하 129</td>\n",
       "      <td>종로3가역</td>\n",
       "      <td>955141.774693</td>\n",
       "      <td>1.952461e+06</td>\n",
       "    </tr>\n",
       "    <tr>\n",
       "      <th>4</th>\n",
       "      <td>서울특별시 종로구 종로 지하 216</td>\n",
       "      <td>서울특별시 종로구 종로 지하 216</td>\n",
       "      <td>종로5가역</td>\n",
       "      <td>956016.193934</td>\n",
       "      <td>1.952509e+06</td>\n",
       "    </tr>\n",
       "  </tbody>\n",
       "</table>\n",
       "</div>"
      ],
      "text/plain": [
       "                    지번주소                 도로명주소     역명            x좌표  \\\n",
       "0    서울특별시 중구 세종대로 지하 2     서울특별시 중구 세종대로 지하 2    서울역  953414.452778   \n",
       "1  서울특별시 중구 세종대로 지하 101   서울특별시 중구 세종대로 지하 101    시청역  953808.786159   \n",
       "2    서울특별시 종로구 종로 지하 55     서울특별시 종로구 종로 지하 55    종각역  954366.404325   \n",
       "3   서울특별시 종로구 종로 지하 129    서울특별시 종로구 종로 지하 129  종로3가역  955141.774693   \n",
       "4  서울특별시 종로구 종로 지하 216     서울특별시 종로구 종로 지하 216  종로5가역  956016.193934   \n",
       "\n",
       "            y좌표  \n",
       "0  1.950998e+06  \n",
       "1  1.951915e+06  \n",
       "2  1.952442e+06  \n",
       "3  1.952461e+06  \n",
       "4  1.952509e+06  "
      ]
     },
     "execution_count": 6,
     "metadata": {},
     "output_type": "execute_result"
    }
   ],
   "source": [
    "print(subway_coor_df.shape)\n",
    "subway_coor_df.head()"
   ]
  },
  {
   "cell_type": "code",
   "execution_count": 7,
   "metadata": {},
   "outputs": [],
   "source": [
    "for v in subway_coor_df['역명'].unique():\n",
    "    v_df = subway_coor_df[subway_coor_df['역명'] == v]\n",
    "    \n",
    "    if v_df.shape[0] > 1:\n",
    "        for i in range(v_df.shape[0]):\n",
    "            v_df.iloc[i, 2] = v + '_{}'.format(i)\n",
    "        \n",
    "        subway_coor_df.loc[v_df.index, '역명'] = v_df['역명']"
   ]
  },
  {
   "cell_type": "code",
   "execution_count": 8,
   "metadata": {},
   "outputs": [
    {
     "data": {
      "text/plain": [
       "292"
      ]
     },
     "execution_count": 8,
     "metadata": {},
     "output_type": "execute_result"
    }
   ],
   "source": [
    "subway_coor_df['역명'].nunique()"
   ]
  },
  {
   "cell_type": "code",
   "execution_count": 9,
   "metadata": {},
   "outputs": [
    {
     "data": {
      "text/plain": [
       "array(['서울역_0', '시청역_0', '종각역', '종로3가역_0', '종로5가역', '동대문역_0', '신설동역_0',\n",
       "       '제기동역', '청량리역', '동묘앞역_0', '까치산역_0', '시청역_1', '을지로입구역', '을지로3가역_0',\n",
       "       '을지로4가역_0', '동대문역사문화공원역_0', '신당역_0', '상왕십리역', '왕십리역_0', '한양대역',\n",
       "       '뚝섬역', '성수역', '건대입구역_0', '구의역', '강변역', '잠실나루역', '잠실역_0', '잠실새내역',\n",
       "       '종합운동장역_0', '삼성역', '선릉역', '역삼역', '강남역', '교대역_0', '서초역', '방배역',\n",
       "       '사당역_0', '낙성대역', '서울대입구역', '봉천역', '신림역', '신대방역', '구로디지털단지역',\n",
       "       '대림역_0', '신도림역', '문래역', '영등포구청역_0', '당산역', '합정역_0', '홍대입구역', '신촌역',\n",
       "       '이대역', '아현역', '충정로역_0', '용답역', '신답역', '신설동역_1', '도림천역', '양천구청역',\n",
       "       '신정네거리역', '용두역', '지축역', '구파발역', '연신내역_0', '불광역_0', '녹번역', '홍제역',\n",
       "       '무악재역', '독립문역', '경복궁역', '안국역', '종로3가역_1', '을지로3가역_1', '충무로역_0',\n",
       "       '동대입구역', '약수역_0', '금호역', '옥수역', '압구정역', '신사역', '잠원역', '고속터미널역_0',\n",
       "       '교대역_1', '남부터미널역', '양재역', '매봉역', '도곡역', '대치역', '학여울역', '대청역',\n",
       "       '일원역', '수서역', '가락시장역_0', '경찰병원역', '오금역_0', '당고개역', '상계역', '노원역_0',\n",
       "       '창동역', '쌍문역', '수유역', '미아역', '미아사거리역', '길음역', '성신여대입구역', '한성대입구역',\n",
       "       '혜화역', '동대문역_1', '동대문역사문화공원역_1', '충무로역_1', '명동역', '회현역', '서울역_1',\n",
       "       '숙대입구역', '삼각지역_0', '신용산역', '이촌역', '동작역', '총신대입구역', '사당역_1', '남태령역',\n",
       "       '방화역', '개화산역', '김포공항역', '송정역', '마곡역', '발산역', '우장산역', '화곡역',\n",
       "       '까치산역_1', '신정역', '목동역', '오목교역', '양평역', '영등포구청역_1', '영등포시장역', '신길역',\n",
       "       '여의도역', '여의나루역', '마포역', '공덕역_0', '애오개역', '충정로역_1', '서대문역', '광화문역',\n",
       "       '종로3가역_2', '을지로4가역_1', '동대문역사문화공원역_2', '청구역_0', '신금호역', '행당역',\n",
       "       '왕십리역_1', '마장역', '답십리역', '장한평역', '군자역_0', '아차산역', '광나루역', '천호역_0',\n",
       "       '강동역', '길동역', '굽은다리역', '명일역', '고덕역', '상일동역', '둔촌동역', '올림픽공원역_0',\n",
       "       '방이역', '오금역_1', '개롱역', '거여역', '마천역', '응암역', '역촌역', '불광역_1', '독바위역',\n",
       "       '연신내역_1', '구산역', '새절역', '증산역', '디지털미디어시티역', '월드컵경기장역', '마포구청역',\n",
       "       '망원역', '합정역_1', '상수역', '광흥창역', '대흥역', '공덕역_1', '효창공원앞역', '삼각지역_1',\n",
       "       '녹사평역', '이태원역', '한강진역', '버티고개역', '약수역_1', '청구역_1', '신당역_1',\n",
       "       '동묘앞역_1', '창신역', '보문역', '안암역', '고려대역', '월곡역', '상월곡역', '돌곶이역',\n",
       "       '석계역', '태릉입구역_0', '화랑대역', '봉화산역', '신내역', '장암역', '도봉산역', '수락산역',\n",
       "       '마들역', '노원역_1', '중계역', '하계역', '공릉역', '태릉입구역_1', '먹골역', '중화역',\n",
       "       '상봉역', '면목역', '사가정역', '용마산역', '중곡역', '군자역_1', '어린이대공원역', '건대입구역_1',\n",
       "       '뚝섬유원지역', '청담역', '강남구청역', '학동역', '논현역', '반포역', '고속터미널역_1', '내방역',\n",
       "       '이수역', '남성역', '숭실대입구역', '상도역', '장승배기역', '신대방삼거리역', '보라매역', '신풍역',\n",
       "       '대림역_1', '남구로역', '가산디지털단지역', '철산역', '광명사거리역', '천왕역', '온수역', '까치울역',\n",
       "       '부천종합운동장역', '춘의역', '신중동역', '부천시청역', '상동역', '삼산체육관역', '굴포천역',\n",
       "       '부평구청역', '암사역', '천호역_1', '강동구청역', '몽촌토성역', '잠실역_1', '석촌역_0', '송파역',\n",
       "       '가락시장역_1', '문정역', '장지역', '복정역', '산성역', '남한산성입구역', '단대오거리역', '신흥역',\n",
       "       '수진역', '모란역', '언주역', '선정릉역', '삼성중앙역', '봉은사역', '종합운동장역_1', '삼전역',\n",
       "       '석촌고분역', '석촌역_1', '송파나루역', '한성백제역', '올림픽공원역_1', '둔촌오륜역', '중앙보훈병원역'],\n",
       "      dtype=object)"
      ]
     },
     "execution_count": 9,
     "metadata": {},
     "output_type": "execute_result"
    }
   ],
   "source": [
    "subway_coor_df['역명'].unique()"
   ]
  },
  {
   "cell_type": "code",
   "execution_count": 10,
   "metadata": {},
   "outputs": [],
   "source": [
    "subway_coor_df.to_csv('./지하철역/subway_coor.csv', index=False)"
   ]
  },
  {
   "cell_type": "code",
   "execution_count": null,
   "metadata": {},
   "outputs": [],
   "source": []
  }
 ],
 "metadata": {
  "kernelspec": {
   "display_name": "Python 3",
   "language": "python",
   "name": "python3"
  },
  "language_info": {
   "codemirror_mode": {
    "name": "ipython",
    "version": 3
   },
   "file_extension": ".py",
   "mimetype": "text/x-python",
   "name": "python",
   "nbconvert_exporter": "python",
   "pygments_lexer": "ipython3",
   "version": "3.7.9"
  }
 },
 "nbformat": 4,
 "nbformat_minor": 4
}
