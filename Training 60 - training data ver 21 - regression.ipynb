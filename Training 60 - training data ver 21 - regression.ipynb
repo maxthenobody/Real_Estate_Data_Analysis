{
 "cells": [
  {
   "cell_type": "code",
   "execution_count": 1,
   "metadata": {},
   "outputs": [],
   "source": [
    "import numpy as np\n",
    "import pandas as pd\n",
    "import matplotlib.pyplot as plt\n",
    "import seaborn as sns"
   ]
  },
  {
   "cell_type": "code",
   "execution_count": null,
   "metadata": {
    "scrolled": true
   },
   "outputs": [],
   "source": [
    "%%time\n",
    "# Read Data\n",
    "basedir = './Training/training_data_ver_21/'\n",
    "training_data_df = pd.read_csv(basedir + 'training_data_ver_21.csv')\n",
    "print(training_data_df.shape)\n",
    "training_data_df.head()"
   ]
  },
  {
   "cell_type": "code",
   "execution_count": null,
   "metadata": {},
   "outputs": [],
   "source": [
    "training_data_df.isna().sum()"
   ]
  },
  {
   "cell_type": "code",
   "execution_count": null,
   "metadata": {},
   "outputs": [],
   "source": [
    "training_data_df['가격_면적'].hist(bins=100)"
   ]
  },
  {
   "cell_type": "code",
   "execution_count": null,
   "metadata": {},
   "outputs": [],
   "source": [
    "def price_over_area_feature_engi(x):\n",
    "    # x is a number\n",
    "    \n",
    "    if pd.isna(x) == True:\n",
    "        return x\n",
    "    else:\n",
    "        for i in range(201):\n",
    "            if x < ((i+1)*15):\n",
    "                return '{}~{}'.format((i*15), (i+1)*15)\n",
    "        \n",
    "        return '3000초과'"
   ]
  },
  {
   "cell_type": "code",
   "execution_count": null,
   "metadata": {},
   "outputs": [],
   "source": [
    "training_data_df['가격_면적_classes'] = training_data_df['가격_면적'].apply(price_over_area_feature_engi)"
   ]
  },
  {
   "cell_type": "code",
   "execution_count": null,
   "metadata": {},
   "outputs": [],
   "source": [
    "col_map = {}\n",
    "col_map_df = pd.DataFrame({'cat':training_data_df['가격_면적_classes'].unique(),\n",
    "                           'map':[i for i in range(len(training_data_df['가격_면적_classes'].unique()))]})\n",
    "for i in range(col_map_df.shape[0]):\n",
    "    col_map[col_map_df['cat'][i]] = col_map_df['map'][i]\n",
    "training_data_df['가격_면적_classes'] = training_data_df['가격_면적_classes'].map(col_map)\n",
    "col_map_df.to_csv('./Training/training_data_ver_21/feature_maps/가격_면적_classes_map.csv')"
   ]
  },
  {
   "cell_type": "code",
   "execution_count": null,
   "metadata": {
    "scrolled": true
   },
   "outputs": [],
   "source": [
    "training_data_df.head()"
   ]
  },
  {
   "cell_type": "code",
   "execution_count": null,
   "metadata": {},
   "outputs": [],
   "source": [
    "training_data_df['가격_면적_classes'].nunique()"
   ]
  },
  {
   "cell_type": "code",
   "execution_count": null,
   "metadata": {},
   "outputs": [],
   "source": [
    "training_data_df['가격_면적_classes'].value_counts()"
   ]
  },
  {
   "cell_type": "code",
   "execution_count": null,
   "metadata": {},
   "outputs": [],
   "source": [
    "cols_to_drop = ['지번주소', '도로명주소', '건물(단지)명', '전용면적(㎡)', '거래금액(만원)', '계약날짜', '가격_면적', '년', '가격_면적_classes']"
   ]
  },
  {
   "cell_type": "markdown",
   "metadata": {},
   "source": [
    "# Training"
   ]
  },
  {
   "cell_type": "code",
   "execution_count": null,
   "metadata": {},
   "outputs": [],
   "source": [
    "from sklearn.model_selection import KFold, GroupKFold, GroupShuffleSplit"
   ]
  },
  {
   "cell_type": "code",
   "execution_count": null,
   "metadata": {},
   "outputs": [],
   "source": [
    "import lightgbm as lgb"
   ]
  },
  {
   "cell_type": "code",
   "execution_count": null,
   "metadata": {},
   "outputs": [],
   "source": [
    "from sklearn.metrics import r2_score"
   ]
  },
  {
   "cell_type": "code",
   "execution_count": null,
   "metadata": {},
   "outputs": [],
   "source": [
    "gkf = GroupKFold(n_splits=5)"
   ]
  },
  {
   "cell_type": "code",
   "execution_count": null,
   "metadata": {},
   "outputs": [],
   "source": [
    "from sklearn.metrics import mean_squared_error"
   ]
  },
  {
   "cell_type": "code",
   "execution_count": null,
   "metadata": {},
   "outputs": [],
   "source": [
    "target_cols = ['가격_면적_classes']"
   ]
  },
  {
   "cell_type": "code",
   "execution_count": null,
   "metadata": {},
   "outputs": [],
   "source": [
    "cat_cols_df = pd.read_csv(basedir + 'cat_cols.csv')\n",
    "cat_cols_df"
   ]
  },
  {
   "cell_type": "code",
   "execution_count": null,
   "metadata": {},
   "outputs": [],
   "source": [
    "cat_cols = cat_cols_df['colname'].tolist()\n",
    "cat_cols"
   ]
  },
  {
   "cell_type": "code",
   "execution_count": null,
   "metadata": {},
   "outputs": [],
   "source": [
    "cat_cols.remove('가격_면적_classes')"
   ]
  },
  {
   "cell_type": "code",
   "execution_count": null,
   "metadata": {},
   "outputs": [],
   "source": [
    "count = 0\n",
    "oof = np.zeros(training_data_df.shape[0])\n",
    "\n",
    "for train_idx, val_idx in gkf.split(training_data_df, groups=training_data_df['지번주소']):\n",
    "    print('Fold {} start'.format(count))\n",
    "    train_data = training_data_df.loc[train_idx].sample(frac=1).reset_index(drop=True)\n",
    "    val_data = training_data_df.loc[val_idx]\n",
    "    \n",
    "    x_train = train_data.drop(columns=cols_to_drop)\n",
    "    y_train = train_data['가격_면적']\n",
    "    \n",
    "    print(x_train.shape)\n",
    "    \n",
    "    x_val = val_data.drop(columns=cols_to_drop)\n",
    "    y_val = val_data['가격_면적']\n",
    "    \n",
    "    print('y dist plot')\n",
    "    y_val.hist(bins=100)\n",
    "    plt.show()\n",
    "    plt.clf()\n",
    "    \n",
    "    params = {\n",
    "        'objective': 'regression',\n",
    "        #'num_class':200,\n",
    "        #'alpha': 1.35,\n",
    "        'learning_rate': 0.01,\n",
    "        'seed': 42,\n",
    "        'max_depth': 6,\n",
    "        'num_leaves': 51,\n",
    "        'min_data_in_leaf': 256,\n",
    "        #'bagging_fraction':0.8,\n",
    "        'feature_fraction':0.7,\n",
    "        #'lambda_l2': 0,\n",
    "        'metric': 'rmse',\n",
    "        'num_threads': 6,\n",
    "        #'is_unbalance': True\n",
    "    }\n",
    "    \n",
    "    train_dataset = lgb.Dataset(x_train, label=y_train, categorical_feature=cat_cols)\n",
    "    val_dataset = lgb.Dataset(x_val, label=y_val, categorical_feature=cat_cols)\n",
    "    \n",
    "    num_rounds = 50000\n",
    "\n",
    "    bst = lgb.train(params, train_dataset, num_rounds, valid_sets=[train_dataset, val_dataset], early_stopping_rounds=100, verbose_eval=50)\n",
    "    \n",
    "    bst.save_model(basedir + 'lightgbm_regression_{}.txt'.format(count), num_iteration=bst.best_iteration)\n",
    "    \n",
    "    preds = bst.predict(x_val, num_iteration=bst.best_iteration)\n",
    "    \n",
    "    print('preds dist plot')\n",
    "    sns.displot(preds)\n",
    "    plt.show()\n",
    "    plt.clf()\n",
    "    \n",
    "    oof[val_idx] = preds\n",
    "    \n",
    "    print(np.sqrt(mean_squared_error(y_val, preds)))\n",
    "    \n",
    "    print('Fold {} end'.format(count))\n",
    "    count += 1\n",
    "    "
   ]
  },
  {
   "cell_type": "code",
   "execution_count": null,
   "metadata": {},
   "outputs": [],
   "source": [
    "np.sqrt(mean_squared_error(training_data_df['가격_면적'], oof))"
   ]
  },
  {
   "cell_type": "code",
   "execution_count": null,
   "metadata": {},
   "outputs": [],
   "source": [
    "count = 0\n",
    "oof = np.zeros(training_data_df.shape[0])\n",
    "\n",
    "for train_idx, val_idx in gkf.split(training_data_df, groups=training_data_df['지번주소']):\n",
    "    print('Fold {} start'.format(count))\n",
    "    train_data = training_data_df.loc[train_idx].sample(frac=1).reset_index(drop=True)\n",
    "    val_data = training_data_df.loc[val_idx]\n",
    "    \n",
    "    x_train = train_data.drop(columns=cols_to_drop)\n",
    "    y_train = train_data['가격_면적']\n",
    "    \n",
    "    print(x_train.shape)\n",
    "    \n",
    "    x_val = val_data.drop(columns=cols_to_drop)\n",
    "    y_val = val_data['가격_면적']\n",
    "    \n",
    "    print('y dist plot')\n",
    "    y_val.hist(bins=100)\n",
    "    plt.show()\n",
    "    plt.clf()\n",
    "    \n",
    "    params = {\n",
    "        'objective': 'huber',\n",
    "        #'num_class':200,\n",
    "        'alpha': 1.35,\n",
    "        'learning_rate': 1,\n",
    "        'seed': 42,\n",
    "        #'max_depth': 7,\n",
    "        #'num_leaves': 41,\n",
    "        #'min_data_in_leaf': 64,\n",
    "        #'bagging_fraction':0.7,\n",
    "        #'feature_fraction':0.7,\n",
    "        #'lambda_l2': 0,\n",
    "        'metric': 'rmse',\n",
    "        'num_threads': 6,\n",
    "        #'is_unbalance': True\n",
    "    }\n",
    "    \n",
    "    train_dataset = lgb.Dataset(x_train, label=y_train, categorical_feature=cat_cols)\n",
    "    val_dataset = lgb.Dataset(x_val, label=y_val, categorical_feature=cat_cols)\n",
    "    \n",
    "    num_rounds = 50000\n",
    "\n",
    "    bst = lgb.train(params, train_dataset, num_rounds, valid_sets=[train_dataset, val_dataset], early_stopping_rounds=100, verbose_eval=50)\n",
    "    \n",
    "    bst.save_model(basedir + 'lightgbm_huber_{}.txt'.format(count), num_iteration=bst.best_iteration)\n",
    "    \n",
    "    preds = bst.predict(x_val, num_iteration=bst.best_iteration)\n",
    "    \n",
    "    print('preds dist plot')\n",
    "    sns.displot(preds)\n",
    "    plt.show()\n",
    "    plt.clf()\n",
    "    \n",
    "    oof[val_idx] = preds\n",
    "    \n",
    "    print(np.sqrt(mean_squared_error(y_val, preds)))\n",
    "    \n",
    "    print('Fold {} end'.format(count))\n",
    "    count += 1\n",
    "    "
   ]
  },
  {
   "cell_type": "code",
   "execution_count": null,
   "metadata": {},
   "outputs": [],
   "source": [
    "np.sqrt(mean_squared_error(training_data_df['가격_면적'], oof))"
   ]
  },
  {
   "cell_type": "code",
   "execution_count": null,
   "metadata": {},
   "outputs": [],
   "source": []
  }
 ],
 "metadata": {
  "kernelspec": {
   "display_name": "Python 3",
   "language": "python",
   "name": "python3"
  },
  "language_info": {
   "codemirror_mode": {
    "name": "ipython",
    "version": 3
   },
   "file_extension": ".py",
   "mimetype": "text/x-python",
   "name": "python",
   "nbconvert_exporter": "python",
   "pygments_lexer": "ipython3",
   "version": "3.7.9"
  }
 },
 "nbformat": 4,
 "nbformat_minor": 4
}
