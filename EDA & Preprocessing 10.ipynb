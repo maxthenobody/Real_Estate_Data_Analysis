{
 "cells": [
  {
   "cell_type": "code",
   "execution_count": 1,
   "metadata": {},
   "outputs": [],
   "source": [
    "import numpy as np\n",
    "import pandas as pd\n",
    "import matplotlib.pyplot as plt\n",
    "import os\n",
    "import math\n",
    "from tqdm import tqdm\n",
    "import requests\n",
    "from urllib.parse import urlparse\n",
    "pd.set_option('display.max_rows', 500)\n",
    "pd.set_option('display.max_columns', 500)\n",
    "import datetime\n",
    "from sklearn.preprocessing import quantile_transform\n",
    "pd.options.mode.chained_assignment = None  # default='warn'"
   ]
  },
  {
   "cell_type": "markdown",
   "metadata": {},
   "source": [
    "# Read Data"
   ]
  },
  {
   "cell_type": "code",
   "execution_count": 2,
   "metadata": {},
   "outputs": [],
   "source": [
    "def file_reader(basedir, filename):\n",
    "    if filename.endswith('.csv'):\n",
    "        try:\n",
    "            df = pd.read_csv(basedir + filename, header=15)\n",
    "        except:\n",
    "            df = pd.read_csv(basedir + filename, encoding='euc-kr', header=15)\n",
    "    elif filename.endswith('.xlsx'):\n",
    "        try:\n",
    "            df = pd.read_excel(basedir + filename, header=16)\n",
    "        except:\n",
    "            df = pd.read_excel(basedir + filename, encoding='euc-kr', header=16)\n",
    "    else:\n",
    "        print('error')\n",
    "    \n",
    "    return df"
   ]
  },
  {
   "cell_type": "code",
   "execution_count": 3,
   "metadata": {},
   "outputs": [],
   "source": [
    "def read_data():\n",
    "    basedir = './국토교통부_실거래가_공개시스템/'\n",
    "    filenames = os.listdir(basedir)\n",
    "    \n",
    "    apart_trade_files = [filename for filename in filenames if filename.startswith('아파트(매매)')]\n",
    "    apart_lease_files = [filename for filename in filenames if filename.startswith('아파트(전월세)')]\n",
    "    multiplex_trade_files = [filename for filename in filenames if filename.startswith('연립다세대(매매)')]\n",
    "    multiplex_lease_files = [filename for filename in filenames if filename.startswith('연립다세대(전월세)')]\n",
    "    officetel_trade_files = [filename for filename in filenames if filename.startswith('오피스텔(매매)')]\n",
    "    officetel_lease_files = [filename for filename in filenames if filename.startswith('오피스텔(전월세)')]\n",
    "    \n",
    "    #\n",
    "    apart_trade_dfs_list = []\n",
    "    for filename in apart_trade_files:\n",
    "        df = file_reader(basedir, filename)\n",
    "        apart_trade_dfs_list.append(df)\n",
    "    apart_trade_df = pd.concat(apart_trade_dfs_list).reset_index(drop=True)\n",
    "    \n",
    "    #\n",
    "    apart_lease_dfs_list = []\n",
    "    for filename in apart_lease_files:\n",
    "        df = file_reader(basedir, filename)\n",
    "        apart_lease_dfs_list.append(df)\n",
    "    apart_lease_df = pd.concat(apart_lease_dfs_list).reset_index(drop=True)\n",
    "    \n",
    "    #\n",
    "    multiplex_trade_dfs_list = []\n",
    "    for filename in multiplex_trade_files:\n",
    "        df = file_reader(basedir, filename)\n",
    "        multiplex_trade_dfs_list.append(df)\n",
    "    multiplex_trade_df = pd.concat(multiplex_trade_dfs_list).reset_index(drop=True)\n",
    "    \n",
    "    #\n",
    "    multiplex_lease_dfs_list = []\n",
    "    for filename in multiplex_lease_files:\n",
    "        df = file_reader(basedir, filename)\n",
    "        multiplex_lease_dfs_list.append(df)\n",
    "    multiplex_lease_df = pd.concat(multiplex_lease_dfs_list).reset_index(drop=True)\n",
    "    \n",
    "    #\n",
    "    officetel_trade_dfs_list = []\n",
    "    for filename in officetel_trade_files:\n",
    "        df = file_reader(basedir, filename)\n",
    "        officetel_trade_dfs_list.append(df)\n",
    "    officetel_trade_df = pd.concat(officetel_trade_dfs_list).reset_index(drop=True)\n",
    "    \n",
    "    #\n",
    "    officetel_lease_dfs_list = []\n",
    "    for filename in officetel_lease_files:\n",
    "        df = file_reader(basedir, filename)\n",
    "        officetel_lease_dfs_list.append(df)\n",
    "    officetel_lease_df = pd.concat(officetel_lease_dfs_list).reset_index(drop=True)\n",
    "    \n",
    "    \n",
    "    return apart_trade_df, apart_lease_df, multiplex_trade_df, multiplex_lease_df, officetel_trade_df, officetel_lease_df"
   ]
  },
  {
   "cell_type": "code",
   "execution_count": 4,
   "metadata": {},
   "outputs": [
    {
     "name": "stderr",
     "output_type": "stream",
     "text": [
      "C:\\Users\\나\\AppData\\Roaming\\Python\\Python37\\site-packages\\ipykernel_launcher.py:9: FutureWarning: Your version of xlrd is 1.2.0. In xlrd >= 2.0, only the xls format is supported. As a result, the openpyxl engine will be used if it is installed and the engine argument is not specified. Install openpyxl instead.\n",
      "  if __name__ == '__main__':\n",
      "C:\\Users\\나\\AppData\\Roaming\\Python\\Python37\\site-packages\\IPython\\core\\magics\\execution.py:1321: DtypeWarning: Columns (10) have mixed types.Specify dtype option on import or set low_memory=False.\n",
      "  exec(code, glob, local_ns)\n"
     ]
    },
    {
     "name": "stdout",
     "output_type": "stream",
     "text": [
      "Wall time: 4min 50s\n"
     ]
    }
   ],
   "source": [
    "%%time\n",
    "apart_trade_df, apart_lease_df, multiplex_trade_df, multiplex_lease_df, officetel_trade_df, officetel_lease_df\\\n",
    "= read_data()"
   ]
  },
  {
   "cell_type": "markdown",
   "metadata": {},
   "source": [
    "# From previous EDA and Preprocessing"
   ]
  },
  {
   "cell_type": "code",
   "execution_count": 5,
   "metadata": {},
   "outputs": [],
   "source": [
    "apart_lease_df.drop(apart_lease_df[apart_lease_df['전용면적(㎡)'].isna()].index, inplace=True)"
   ]
  },
  {
   "cell_type": "code",
   "execution_count": 6,
   "metadata": {},
   "outputs": [],
   "source": [
    "multiplex_trade_df.loc[multiplex_trade_df[multiplex_trade_df['건축년도'].isna()].index, '건축년도'] = 1971\n",
    "multiplex_lease_df.drop(multiplex_lease_df[multiplex_lease_df['층'].isna()].index, inplace=True)"
   ]
  },
  {
   "cell_type": "code",
   "execution_count": 7,
   "metadata": {},
   "outputs": [],
   "source": [
    "# 모든 df 도로명 빈 칸 null 로 교체\n",
    "\n",
    "def replace_empty_to_null(df):\n",
    "    df = df.copy()\n",
    "    \n",
    "    empty_df = df[df['도로명'] == ' ']\n",
    "    \n",
    "    df.loc[empty_df.index, '도로명'] = np.nan\n",
    "    \n",
    "    return df"
   ]
  },
  {
   "cell_type": "code",
   "execution_count": 8,
   "metadata": {},
   "outputs": [],
   "source": [
    "apart_trade_df = replace_empty_to_null(apart_trade_df)\n",
    "apart_lease_df = replace_empty_to_null(apart_lease_df)\n",
    "multiplex_trade_df = replace_empty_to_null(multiplex_trade_df)\n",
    "multiplex_lease_df = replace_empty_to_null(multiplex_lease_df)\n",
    "officetel_trade_df = replace_empty_to_null(officetel_trade_df)\n",
    "officetel_lease_df = replace_empty_to_null(officetel_lease_df)"
   ]
  },
  {
   "cell_type": "code",
   "execution_count": 9,
   "metadata": {},
   "outputs": [],
   "source": [
    "multiplex_lease_df.loc[multiplex_lease_df[multiplex_lease_df['건축년도'].isna()].index, '건축년도'] = 1971"
   ]
  },
  {
   "cell_type": "code",
   "execution_count": 10,
   "metadata": {},
   "outputs": [],
   "source": [
    "# 건축년도가 null 인 row 들에 있는 주소들 중에서, 같은 주소지만 건축년도 값이 있는 주소는 null 을 채워넣고, 없는 주소는 df 에서 제거.\n",
    "# 추가적으로, 한 주소지, 단지이름에 건축년도가 두 가지 이상 있는지도 조사함.\n",
    "\n",
    "def bltyear_fill_and_remove_null(df):\n",
    "    df = df.copy()\n",
    "    \n",
    "    df['temp_full_addr'] = df['시군구'] + df['번지'] + df['단지명']\n",
    "    \n",
    "    bltyear_null_df = df[df['건축년도'].isna()]\n",
    "    \n",
    "    unique_addrs = bltyear_null_df['temp_full_addr'].unique()\n",
    "    \n",
    "    concat_list = []\n",
    "    for addr in unique_addrs:\n",
    "        addr_df = df[df['temp_full_addr'] == addr]\n",
    "        if addr_df['건축년도'].isna().sum() != addr_df.shape[0]:\n",
    "            if addr_df['건축년도'].std() != 0:\n",
    "                print('건축년도가 두 가지 이상인 주소가 있음.')\n",
    "            \n",
    "            addr_df['건축년도'].fillna(addr_df['건축년도'].mean(), inplace=True)\n",
    "            \n",
    "            concat_list.append(addr_df)\n",
    "    \n",
    "    df.drop(columns=['temp_full_addr'], inplace=True)\n",
    "    \n",
    "    if len(concat_list) > 0:\n",
    "        concat_df = pd.concat(concat_list)\n",
    "    else:\n",
    "        return df\n",
    "    \n",
    "    #return concat_df\n",
    "    \n",
    "    df.loc[concat_df.index, '건축년도'] = concat_df['건축년도']\n",
    "    \n",
    "    bltyear_null_df = df[df['건축년도'].isna()]\n",
    "    \n",
    "    df.drop(bltyear_null_df.index, inplace=True)\n",
    "        \n",
    "    return df.reset_index(drop=True)"
   ]
  },
  {
   "cell_type": "code",
   "execution_count": 11,
   "metadata": {},
   "outputs": [],
   "source": [
    "officetel_trade_df = bltyear_fill_and_remove_null(officetel_trade_df)\n",
    "officetel_lease_df = bltyear_fill_and_remove_null(officetel_lease_df)"
   ]
  },
  {
   "cell_type": "code",
   "execution_count": 12,
   "metadata": {},
   "outputs": [],
   "source": [
    "def trade_dfs_change_dtype(df):\n",
    "    df = df.copy()\n",
    "    \n",
    "    df['거래금액(만원)'] = df['거래금액(만원)'].apply(str)\n",
    "    df['거래금액(만원)'] = pd.to_numeric(df['거래금액(만원)'].str.replace(',', ''))\n",
    "    df['층'] = df['층'].astype('int')\n",
    "    df['건축년도'] = df['건축년도'].astype('int')\n",
    "    \n",
    "    return df"
   ]
  },
  {
   "cell_type": "code",
   "execution_count": 13,
   "metadata": {},
   "outputs": [],
   "source": [
    "apart_trade_df = trade_dfs_change_dtype(apart_trade_df)\n",
    "multiplex_trade_df = trade_dfs_change_dtype(multiplex_trade_df)\n",
    "officetel_trade_df = trade_dfs_change_dtype(officetel_trade_df)"
   ]
  },
  {
   "cell_type": "code",
   "execution_count": 14,
   "metadata": {},
   "outputs": [],
   "source": [
    "def lease_dfs_change_dtype(df):\n",
    "    df = df.copy()\n",
    "    \n",
    "    df['보증금(만원)'] = df['보증금(만원)'].apply(str)\n",
    "    df['월세(만원)'] = df['월세(만원)'].apply(str)\n",
    "    df['보증금(만원)'] = pd.to_numeric(df['보증금(만원)'].str.replace(',', ''))\n",
    "    df['월세(만원)'] = pd.to_numeric(df['월세(만원)'].str.replace(',', ''))\n",
    "    df['층'] = df['층'].astype('int')\n",
    "    df['건축년도'] = df['건축년도'].astype('int')\n",
    "    \n",
    "    return df"
   ]
  },
  {
   "cell_type": "code",
   "execution_count": 15,
   "metadata": {},
   "outputs": [],
   "source": [
    "apart_lease_df = lease_dfs_change_dtype(apart_lease_df)\n",
    "multiplex_lease_df = lease_dfs_change_dtype(multiplex_lease_df)\n",
    "officetel_lease_df = lease_dfs_change_dtype(officetel_lease_df)"
   ]
  },
  {
   "cell_type": "code",
   "execution_count": 16,
   "metadata": {},
   "outputs": [],
   "source": [
    "def price_per_area_and_year_month(df, mode='trade'):\n",
    "    df = df.copy()\n",
    "    \n",
    "    if mode == 'trade':\n",
    "        df['가격/면적'] = df['거래금액(만원)'] / df['전용면적(㎡)']\n",
    "    elif mode == 'lease':\n",
    "        df['가격/면적'] = df['보증금(만원)'] / df['전용면적(㎡)']\n",
    "    \n",
    "    df['year'] = pd.to_numeric(df['계약년월'].astype('str').str[:4])\n",
    "    df['month'] = pd.to_numeric(df['계약년월'].astype('str').str[4:])\n",
    "    \n",
    "    return df   "
   ]
  },
  {
   "cell_type": "code",
   "execution_count": 17,
   "metadata": {},
   "outputs": [],
   "source": [
    "apart_trade_df = price_per_area_and_year_month(apart_trade_df)\n",
    "multiplex_trade_df = price_per_area_and_year_month(multiplex_trade_df)\n",
    "officetel_trade_df = price_per_area_and_year_month(officetel_trade_df)"
   ]
  },
  {
   "cell_type": "code",
   "execution_count": 18,
   "metadata": {},
   "outputs": [],
   "source": [
    "apart_lease_df = price_per_area_and_year_month(apart_lease_df, mode='lease')\n",
    "multiplex_lease_df = price_per_area_and_year_month(multiplex_lease_df, mode='lease')\n",
    "officetel_lease_df = price_per_area_and_year_month(officetel_lease_df, mode='lease')"
   ]
  },
  {
   "cell_type": "code",
   "execution_count": 19,
   "metadata": {},
   "outputs": [],
   "source": [
    "def si_gu(df):\n",
    "    df = df.copy()\n",
    "    \n",
    "    df['시'] = df['시군구'].str.split(' ').apply(lambda x: x[0])\n",
    "    df['구'] = df['시군구'].str.split(' ').apply(lambda x: x[1])\n",
    "    \n",
    "    return df"
   ]
  },
  {
   "cell_type": "code",
   "execution_count": 20,
   "metadata": {},
   "outputs": [],
   "source": [
    "apart_trade_df = si_gu(apart_trade_df)\n",
    "apart_lease_df = si_gu(apart_lease_df)\n",
    "multiplex_trade_df = si_gu(multiplex_trade_df)\n",
    "multiplex_lease_df = si_gu(multiplex_lease_df)\n",
    "officetel_trade_df = si_gu(officetel_trade_df)\n",
    "officetel_lease_df = si_gu(officetel_lease_df)"
   ]
  },
  {
   "cell_type": "code",
   "execution_count": 21,
   "metadata": {},
   "outputs": [],
   "source": [
    "def remove_zero_price(df, mode='trade'):\n",
    "    df = df.copy()\n",
    "    \n",
    "    if mode == 'trade':\n",
    "        df = df[df['거래금액(만원)'] != 0].reset_index(drop=True)\n",
    "    elif mode == 'lease':\n",
    "        df = df[df['보증금(만원)'] != 0].reset_index(drop=True)\n",
    "    \n",
    "    return df"
   ]
  },
  {
   "cell_type": "code",
   "execution_count": 22,
   "metadata": {},
   "outputs": [],
   "source": [
    "apart_trade_df = remove_zero_price(apart_trade_df)\n",
    "apart_lease_df = remove_zero_price(apart_lease_df, mode='lease')\n",
    "multiplex_trade_df = remove_zero_price(multiplex_trade_df)\n",
    "multiplex_lease_df = remove_zero_price(multiplex_lease_df, mode='lease')\n",
    "officetel_trade_df = remove_zero_price(officetel_trade_df)\n",
    "officetel_lease_df = remove_zero_price(officetel_lease_df, mode='lease')"
   ]
  },
  {
   "cell_type": "code",
   "execution_count": 23,
   "metadata": {},
   "outputs": [],
   "source": [
    "def remove_zero_area(df):\n",
    "    df = df.copy()\n",
    "    \n",
    "    df = df[df['전용면적(㎡)'] != 0].reset_index(drop=True)\n",
    "    \n",
    "    return df"
   ]
  },
  {
   "cell_type": "code",
   "execution_count": 24,
   "metadata": {},
   "outputs": [],
   "source": [
    "apart_trade_df = remove_zero_area(apart_trade_df)\n",
    "apart_lease_df = remove_zero_area(apart_lease_df)\n",
    "multiplex_trade_df = remove_zero_area(multiplex_trade_df)\n",
    "multiplex_lease_df = remove_zero_area(multiplex_lease_df)\n",
    "officetel_trade_df = remove_zero_area(officetel_trade_df)\n",
    "officetel_lease_df = remove_zero_area(officetel_lease_df)"
   ]
  },
  {
   "cell_type": "code",
   "execution_count": 25,
   "metadata": {},
   "outputs": [],
   "source": [
    "def correct_lease_type(df):\n",
    "    df = df.copy()\n",
    "    \n",
    "    wrong_df = df[(df['전월세구분'] == '월세') & (df['월세(만원)'] == 0)]\n",
    "    \n",
    "    df.loc[wrong_df.index, '전월세구분'] = '전세'\n",
    "    \n",
    "    return df"
   ]
  },
  {
   "cell_type": "code",
   "execution_count": 26,
   "metadata": {},
   "outputs": [],
   "source": [
    "apart_lease_df = correct_lease_type(apart_lease_df)\n",
    "multiplex_lease_df = correct_lease_type(multiplex_lease_df)\n",
    "officetel_lease_df = correct_lease_type(officetel_lease_df)"
   ]
  },
  {
   "cell_type": "code",
   "execution_count": 27,
   "metadata": {},
   "outputs": [],
   "source": [
    "'''apart_lease_deposit_only_df = apart_lease_df[apart_lease_df['전월세구분'] == '전세'].reset_index(drop=True)\n",
    "apart_lease_monthly_pay_df = apart_lease_df[apart_lease_df['전월세구분'] == '월세'].reset_index(drop=True)\n",
    "multiplex_lease_deposit_only_df = multiplex_lease_df[multiplex_lease_df['전월세구분'] == '전세'].reset_index(drop=True)\n",
    "multiplex_lease_monthly_pay_df = multiplex_lease_df[multiplex_lease_df['전월세구분'] == '월세'].reset_index(drop=True)\n",
    "officetel_lease_deposit_only_df = officetel_lease_df[officetel_lease_df['전월세구분'] == '전세'].reset_index(drop=True)\n",
    "officetel_lease_monthly_pay_df = officetel_lease_df[officetel_lease_df['전월세구분'] == '월세'].reset_index(drop=True)'''"
   ]
  },
  {
   "cell_type": "markdown",
   "metadata": {},
   "source": [
    "# EDA & Preprocessing 10"
   ]
  },
  {
   "cell_type": "code",
   "execution_count": 29,
   "metadata": {},
   "outputs": [],
   "source": [
    "apart_trade_df['target_log_transformed'] = apart_trade_df['거래금액(만원)'].apply(lambda x: np.log(x))\n",
    "apart_lease_df['target_log_transformed'] = apart_lease_df['보증금(만원)'].apply(lambda x: np.log(x))\n",
    "multiplex_trade_df['target_log_transformed'] = multiplex_trade_df['거래금액(만원)'].apply(lambda x: np.log(x))\n",
    "multiplex_lease_df['target_log_transformed'] = multiplex_lease_df['보증금(만원)'].apply(lambda x: np.log(x))\n",
    "officetel_trade_df['target_log_transformed'] = officetel_trade_df['거래금액(만원)'].apply(lambda x: np.log(x))\n",
    "officetel_lease_df['target_log_transformed'] = officetel_lease_df['보증금(만원)'].apply(lambda x: np.log(x))"
   ]
  },
  {
   "cell_type": "code",
   "execution_count": 37,
   "metadata": {},
   "outputs": [],
   "source": [
    "# Tukey의 기법을 사용하여 이상치 (outlier) 검색 후 제거 (가격)\n",
    "\n",
    "def find_and_remove_Tukey_outliers_price(df):\n",
    "    df = df.copy()\n",
    "    \n",
    "    q1 = df['target_log_transformed'].quantile(0.25)\n",
    "    q3 = df['target_log_transformed'].quantile(0.75)\n",
    "    iqr = q3 - q1\n",
    "    outlier_step = iqr * 1.5\n",
    "\n",
    "    outlier_df = df[(df['target_log_transformed'] < q1 - outlier_step) | (df['target_log_transformed'] > q3 + outlier_step)]\n",
    "    \n",
    "    df.drop(outlier_df.index, inplace=True)\n",
    "    df = df.reset_index(drop=True)\n",
    "    \n",
    "    print('{}개의 이상치를 찾아서 제거했습니다.'.format(outlier_df.shape[0]))\n",
    "    \n",
    "    return df"
   ]
  },
  {
   "cell_type": "code",
   "execution_count": 38,
   "metadata": {},
   "outputs": [
    {
     "name": "stdout",
     "output_type": "stream",
     "text": [
      "15464개의 이상치를 찾아서 제거했습니다.\n"
     ]
    }
   ],
   "source": [
    "prac_df = find_and_remove_Tukey_outliers_price(apart_trade_df)"
   ]
  },
  {
   "cell_type": "code",
   "execution_count": 39,
   "metadata": {},
   "outputs": [
    {
     "name": "stdout",
     "output_type": "stream",
     "text": [
      "(1168192, 18)\n",
      "(1152728, 18)\n"
     ]
    }
   ],
   "source": [
    "print(apart_trade_df.shape)\n",
    "print(prac_df.shape)"
   ]
  },
  {
   "cell_type": "code",
   "execution_count": 40,
   "metadata": {},
   "outputs": [
    {
     "data": {
      "text/plain": [
       "count    1.168192e+06\n",
       "mean     1.065605e+01\n",
       "std      6.316795e-01\n",
       "min      5.857933e+00\n",
       "25%      1.023996e+01\n",
       "50%      1.062862e+01\n",
       "75%      1.105089e+01\n",
       "max      1.364116e+01\n",
       "Name: target_log_transformed, dtype: float64"
      ]
     },
     "execution_count": 40,
     "metadata": {},
     "output_type": "execute_result"
    }
   ],
   "source": [
    "apart_trade_df['target_log_transformed'].describe()"
   ]
  },
  {
   "cell_type": "code",
   "execution_count": 41,
   "metadata": {},
   "outputs": [
    {
     "data": {
      "text/plain": [
       "<AxesSubplot:>"
      ]
     },
     "execution_count": 41,
     "metadata": {},
     "output_type": "execute_result"
    },
    {
     "data": {
      "image/png": "[encoded data removed]",
      "text/plain": [
       "<Figure size 432x288 with 1 Axes>"
      ]
     },
     "metadata": {
      "needs_background": "light"
     },
     "output_type": "display_data"
    }
   ],
   "source": [
    "apart_trade_df['target_log_transformed'].hist(bins=100)"
   ]
  },
  {
   "cell_type": "code",
   "execution_count": 42,
   "metadata": {},
   "outputs": [
    {
     "data": {
      "text/plain": [
       "count    1.152728e+06\n",
       "mean     1.064599e+01\n",
       "std      5.983538e-01\n",
       "min      9.024011e+00\n",
       "25%      1.024708e+01\n",
       "50%      1.062133e+01\n",
       "75%      1.103489e+01\n",
       "max      1.226700e+01\n",
       "Name: target_log_transformed, dtype: float64"
      ]
     },
     "execution_count": 42,
     "metadata": {},
     "output_type": "execute_result"
    }
   ],
   "source": [
    "prac_df['target_log_transformed'].describe()"
   ]
  },
  {
   "cell_type": "code",
   "execution_count": 43,
   "metadata": {},
   "outputs": [
    {
     "data": {
      "text/plain": [
       "<AxesSubplot:>"
      ]
     },
     "execution_count": 43,
     "metadata": {},
     "output_type": "execute_result"
    },
    {
     "data": {
      "image/png": "[encoded data removed]",
      "text/plain": [
       "<Figure size 432x288 with 1 Axes>"
      ]
     },
     "metadata": {
      "needs_background": "light"
     },
     "output_type": "display_data"
    }
   ],
   "source": [
    "prac_df['target_log_transformed'].hist(bins=100)"
   ]
  },
  {
   "cell_type": "code",
   "execution_count": 44,
   "metadata": {},
   "outputs": [
    {
     "data": {
      "text/html": [
       "<div>\n",
       "<style scoped>\n",
       "    .dataframe tbody tr th:only-of-type {\n",
       "        vertical-align: middle;\n",
       "    }\n",
       "\n",
       "    .dataframe tbody tr th {\n",
       "        vertical-align: top;\n",
       "    }\n",
       "\n",
       "    .dataframe thead th {\n",
       "        text-align: right;\n",
       "    }\n",
       "</style>\n",
       "<table border=\"1\" class=\"dataframe\">\n",
       "  <thead>\n",
       "    <tr style=\"text-align: right;\">\n",
       "      <th></th>\n",
       "      <th>시군구</th>\n",
       "      <th>번지</th>\n",
       "      <th>본번</th>\n",
       "      <th>부번</th>\n",
       "      <th>단지명</th>\n",
       "      <th>전용면적(㎡)</th>\n",
       "      <th>계약년월</th>\n",
       "      <th>계약일</th>\n",
       "      <th>거래금액(만원)</th>\n",
       "      <th>층</th>\n",
       "      <th>건축년도</th>\n",
       "      <th>도로명</th>\n",
       "      <th>가격/면적</th>\n",
       "      <th>year</th>\n",
       "      <th>month</th>\n",
       "      <th>시</th>\n",
       "      <th>구</th>\n",
       "      <th>target_log_transformed</th>\n",
       "    </tr>\n",
       "  </thead>\n",
       "  <tbody>\n",
       "    <tr>\n",
       "      <th>0</th>\n",
       "      <td>서울특별시 강남구 개포동</td>\n",
       "      <td>655-2</td>\n",
       "      <td>655</td>\n",
       "      <td>2</td>\n",
       "      <td>개포2차현대아파트(220)</td>\n",
       "      <td>77.75</td>\n",
       "      <td>201309</td>\n",
       "      <td>8</td>\n",
       "      <td>57000</td>\n",
       "      <td>2</td>\n",
       "      <td>1988</td>\n",
       "      <td>언주로 103</td>\n",
       "      <td>733.118971</td>\n",
       "      <td>2013</td>\n",
       "      <td>9</td>\n",
       "      <td>서울특별시</td>\n",
       "      <td>강남구</td>\n",
       "      <td>10.950807</td>\n",
       "    </tr>\n",
       "    <tr>\n",
       "      <th>1</th>\n",
       "      <td>서울특별시 강남구 개포동</td>\n",
       "      <td>655-2</td>\n",
       "      <td>655</td>\n",
       "      <td>2</td>\n",
       "      <td>개포2차현대아파트(220)</td>\n",
       "      <td>77.75</td>\n",
       "      <td>201312</td>\n",
       "      <td>16</td>\n",
       "      <td>57000</td>\n",
       "      <td>2</td>\n",
       "      <td>1988</td>\n",
       "      <td>언주로 103</td>\n",
       "      <td>733.118971</td>\n",
       "      <td>2013</td>\n",
       "      <td>12</td>\n",
       "      <td>서울특별시</td>\n",
       "      <td>강남구</td>\n",
       "      <td>10.950807</td>\n",
       "    </tr>\n",
       "    <tr>\n",
       "      <th>2</th>\n",
       "      <td>서울특별시 강남구 개포동</td>\n",
       "      <td>658-1</td>\n",
       "      <td>658</td>\n",
       "      <td>1</td>\n",
       "      <td>개포6차우성아파트1동~8동</td>\n",
       "      <td>67.28</td>\n",
       "      <td>201302</td>\n",
       "      <td>11</td>\n",
       "      <td>55000</td>\n",
       "      <td>5</td>\n",
       "      <td>1987</td>\n",
       "      <td>언주로 3</td>\n",
       "      <td>817.479191</td>\n",
       "      <td>2013</td>\n",
       "      <td>2</td>\n",
       "      <td>서울특별시</td>\n",
       "      <td>강남구</td>\n",
       "      <td>10.915088</td>\n",
       "    </tr>\n",
       "    <tr>\n",
       "      <th>3</th>\n",
       "      <td>서울특별시 강남구 개포동</td>\n",
       "      <td>658-1</td>\n",
       "      <td>658</td>\n",
       "      <td>1</td>\n",
       "      <td>개포6차우성아파트1동~8동</td>\n",
       "      <td>67.28</td>\n",
       "      <td>201302</td>\n",
       "      <td>22</td>\n",
       "      <td>58250</td>\n",
       "      <td>4</td>\n",
       "      <td>1987</td>\n",
       "      <td>언주로 3</td>\n",
       "      <td>865.784780</td>\n",
       "      <td>2013</td>\n",
       "      <td>2</td>\n",
       "      <td>서울특별시</td>\n",
       "      <td>강남구</td>\n",
       "      <td>10.972499</td>\n",
       "    </tr>\n",
       "    <tr>\n",
       "      <th>4</th>\n",
       "      <td>서울특별시 강남구 개포동</td>\n",
       "      <td>658-1</td>\n",
       "      <td>658</td>\n",
       "      <td>1</td>\n",
       "      <td>개포6차우성아파트1동~8동</td>\n",
       "      <td>67.28</td>\n",
       "      <td>201305</td>\n",
       "      <td>10</td>\n",
       "      <td>60000</td>\n",
       "      <td>5</td>\n",
       "      <td>1987</td>\n",
       "      <td>언주로 3</td>\n",
       "      <td>891.795482</td>\n",
       "      <td>2013</td>\n",
       "      <td>5</td>\n",
       "      <td>서울특별시</td>\n",
       "      <td>강남구</td>\n",
       "      <td>11.002100</td>\n",
       "    </tr>\n",
       "  </tbody>\n",
       "</table>\n",
       "</div>"
      ],
      "text/plain": [
       "             시군구     번지   본번  부번             단지명  전용면적(㎡)    계약년월  계약일  \\\n",
       "0  서울특별시 강남구 개포동  655-2  655   2  개포2차현대아파트(220)    77.75  201309    8   \n",
       "1  서울특별시 강남구 개포동  655-2  655   2  개포2차현대아파트(220)    77.75  201312   16   \n",
       "2  서울특별시 강남구 개포동  658-1  658   1  개포6차우성아파트1동~8동    67.28  201302   11   \n",
       "3  서울특별시 강남구 개포동  658-1  658   1  개포6차우성아파트1동~8동    67.28  201302   22   \n",
       "4  서울특별시 강남구 개포동  658-1  658   1  개포6차우성아파트1동~8동    67.28  201305   10   \n",
       "\n",
       "   거래금액(만원)  층  건축년도      도로명       가격/면적  year  month      시    구  \\\n",
       "0     57000  2  1988  언주로 103  733.118971  2013      9  서울특별시  강남구   \n",
       "1     57000  2  1988  언주로 103  733.118971  2013     12  서울특별시  강남구   \n",
       "2     55000  5  1987    언주로 3  817.479191  2013      2  서울특별시  강남구   \n",
       "3     58250  4  1987    언주로 3  865.784780  2013      2  서울특별시  강남구   \n",
       "4     60000  5  1987    언주로 3  891.795482  2013      5  서울특별시  강남구   \n",
       "\n",
       "   target_log_transformed  \n",
       "0               10.950807  \n",
       "1               10.950807  \n",
       "2               10.915088  \n",
       "3               10.972499  \n",
       "4               11.002100  "
      ]
     },
     "execution_count": 44,
     "metadata": {},
     "output_type": "execute_result"
    }
   ],
   "source": [
    "apart_trade_df.head()"
   ]
  },
  {
   "cell_type": "code",
   "execution_count": 47,
   "metadata": {},
   "outputs": [],
   "source": [
    "def show_target_log_hist_every_gu(df):\n",
    "    df = df.copy()\n",
    "    \n",
    "    unique_gus = df['구'].unique()\n",
    "    \n",
    "    for gu in unique_gus:\n",
    "        gu_df = df[df['구'] == gu]\n",
    "        \n",
    "        print(gu)\n",
    "        display(gu_df['target_log_transformed'].hist(bins=100))\n",
    "        plt.show()\n",
    "        plt.clf()"
   ]
  },
  {
   "cell_type": "code",
   "execution_count": 48,
   "metadata": {},
   "outputs": [
    {
     "name": "stdout",
     "output_type": "stream",
     "text": [
      "강남구\n"
     ]
    },
    {
     "data": {
      "text/plain": [
       "<AxesSubplot:>"
      ]
     },
     "metadata": {},
     "output_type": "display_data"
    },
    {
     "data": {
      "image/png": "[encoded data removed]",
      "text/plain": [
       "<Figure size 432x288 with 1 Axes>"
      ]
     },
     "metadata": {
      "needs_background": "light"
     },
     "output_type": "display_data"
    },
    {
     "name": "stdout",
     "output_type": "stream",
     "text": [
      "강동구\n"
     ]
    },
    {
     "data": {
      "text/plain": [
       "<AxesSubplot:>"
      ]
     },
     "metadata": {},
     "output_type": "display_data"
    },
    {
     "data": {
      "image/png": "[encoded data removed]",
      "text/plain": [
       "<Figure size 432x288 with 1 Axes>"
      ]
     },
     "metadata": {
      "needs_background": "light"
     },
     "output_type": "display_data"
    },
    {
     "name": "stdout",
     "output_type": "stream",
     "text": [
      "강북구\n"
     ]
    },
    {
     "data": {
      "text/plain": [
       "<AxesSubplot:>"
      ]
     },
     "metadata": {},
     "output_type": "display_data"
    },
    {
     "data": {
      "image/png": "[encoded data removed]",
      "text/plain": [
       "<Figure size 432x288 with 1 Axes>"
      ]
     },
     "metadata": {
      "needs_background": "light"
     },
     "output_type": "display_data"
    },
    {
     "name": "stdout",
     "output_type": "stream",
     "text": [
      "강서구\n"
     ]
    },
    {
     "data": {
      "text/plain": [
       "<AxesSubplot:>"
      ]
     },
     "metadata": {},
     "output_type": "display_data"
    },
    {
     "data": {
      "image/png": "[encoded data removed]",
      "text/plain": [
       "<Figure size 432x288 with 1 Axes>"
      ]
     },
     "metadata": {
      "needs_background": "light"
     },
     "output_type": "display_data"
    },
    {
     "name": "stdout",
     "output_type": "stream",
     "text": [
      "관악구\n"
     ]
    },
    {
     "data": {
      "text/plain": [
       "<AxesSubplot:>"
      ]
     },
     "metadata": {},
     "output_type": "display_data"
    },
    {
     "data": {
      "image/png": "[encoded data removed]",
      "text/plain": [
       "<Figure size 432x288 with 1 Axes>"
      ]
     },
     "metadata": {
      "needs_background": "light"
     },
     "output_type": "display_data"
    },
    {
     "name": "stdout",
     "output_type": "stream",
     "text": [
      "광진구\n"
     ]
    },
    {
     "data": {
      "text/plain": [
       "<AxesSubplot:>"
      ]
     },
     "metadata": {},
     "output_type": "display_data"
    },
    {
     "data": {
      "image/png": "[encoded data removed]",
      "text/plain": [
       "<Figure size 432x288 with 1 Axes>"
      ]
     },
     "metadata": {
      "needs_background": "light"
     },
     "output_type": "display_data"
    },
    {
     "name": "stdout",
     "output_type": "stream",
     "text": [
      "구로구\n"
     ]
    },
    {
     "data": {
      "text/plain": [
       "<AxesSubplot:>"
      ]
     },
     "metadata": {},
     "output_type": "display_data"
    },
    {
     "data": {
      "image/png": "[encoded data removed]",
      "text/plain": [
       "<Figure size 432x288 with 1 Axes>"
      ]
     },
     "metadata": {
      "needs_background": "light"
     },
     "output_type": "display_data"
    },
    {
     "name": "stdout",
     "output_type": "stream",
     "text": [
      "금천구\n"
     ]
    },
    {
     "data": {
      "text/plain": [
       "<AxesSubplot:>"
      ]
     },
     "metadata": {},
     "output_type": "display_data"
    },
    {
     "data": {
      "image/png": "[encoded data removed]",
      "text/plain": [
       "<Figure size 432x288 with 1 Axes>"
      ]
     },
     "metadata": {
      "needs_background": "light"
     },
     "output_type": "display_data"
    },
    {
     "name": "stdout",
     "output_type": "stream",
     "text": [
      "노원구\n"
     ]
    },
    {
     "data": {
      "text/plain": [
       "<AxesSubplot:>"
      ]
     },
     "metadata": {},
     "output_type": "display_data"
    },
    {
     "data": {
      "image/png": "[encoded data removed]",
      "text/plain": [
       "<Figure size 432x288 with 1 Axes>"
      ]
     },
     "metadata": {
      "needs_background": "light"
     },
     "output_type": "display_data"
    },
    {
     "name": "stdout",
     "output_type": "stream",
     "text": [
      "도봉구\n"
     ]
    },
    {
     "data": {
      "text/plain": [
       "<AxesSubplot:>"
      ]
     },
     "metadata": {},
     "output_type": "display_data"
    },
    {
     "data": {
      "image/png": "[encoded data removed]",
      "text/plain": [
       "<Figure size 432x288 with 1 Axes>"
      ]
     },
     "metadata": {
      "needs_background": "light"
     },
     "output_type": "display_data"
    },
    {
     "name": "stdout",
     "output_type": "stream",
     "text": [
      "동대문구\n"
     ]
    },
    {
     "data": {
      "text/plain": [
       "<AxesSubplot:>"
      ]
     },
     "metadata": {},
     "output_type": "display_data"
    },
    {
     "data": {
      "image/png": "[encoded data removed]",
      "text/plain": [
       "<Figure size 432x288 with 1 Axes>"
      ]
     },
     "metadata": {
      "needs_background": "light"
     },
     "output_type": "display_data"
    },
    {
     "name": "stdout",
     "output_type": "stream",
     "text": [
      "동작구\n"
     ]
    },
    {
     "data": {
      "text/plain": [
       "<AxesSubplot:>"
      ]
     },
     "metadata": {},
     "output_type": "display_data"
    },
    {
     "data": {
      "image/png": "[encoded data removed]",
      "text/plain": [
       "<Figure size 432x288 with 1 Axes>"
      ]
     },
     "metadata": {
      "needs_background": "light"
     },
     "output_type": "display_data"
    },
    {
     "name": "stdout",
     "output_type": "stream",
     "text": [
      "마포구\n"
     ]
    },
    {
     "data": {
      "text/plain": [
       "<AxesSubplot:>"
      ]
     },
     "metadata": {},
     "output_type": "display_data"
    },
    {
     "data": {
      "image/png": "[encoded data removed]",
      "text/plain": [
       "<Figure size 432x288 with 1 Axes>"
      ]
     },
     "metadata": {
      "needs_background": "light"
     },
     "output_type": "display_data"
    },
    {
     "name": "stdout",
     "output_type": "stream",
     "text": [
      "서대문구\n"
     ]
    },
    {
     "data": {
      "text/plain": [
       "<AxesSubplot:>"
      ]
     },
     "metadata": {},
     "output_type": "display_data"
    },
    {
     "data": {
      "image/png": "[encoded data removed]",
      "text/plain": [
       "<Figure size 432x288 with 1 Axes>"
      ]
     },
     "metadata": {
      "needs_background": "light"
     },
     "output_type": "display_data"
    },
    {
     "name": "stdout",
     "output_type": "stream",
     "text": [
      "서초구\n"
     ]
    },
    {
     "data": {
      "text/plain": [
       "<AxesSubplot:>"
      ]
     },
     "metadata": {},
     "output_type": "display_data"
    },
    {
     "data": {
      "image/png": "[encoded data removed]",
      "text/plain": [
       "<Figure size 432x288 with 1 Axes>"
      ]
     },
     "metadata": {
      "needs_background": "light"
     },
     "output_type": "display_data"
    },
    {
     "name": "stdout",
     "output_type": "stream",
     "text": [
      "성동구\n"
     ]
    },
    {
     "data": {
      "text/plain": [
       "<AxesSubplot:>"
      ]
     },
     "metadata": {},
     "output_type": "display_data"
    },
    {
     "data": {
      "image/png": "[encoded data removed]",
      "text/plain": [
       "<Figure size 432x288 with 1 Axes>"
      ]
     },
     "metadata": {
      "needs_background": "light"
     },
     "output_type": "display_data"
    },
    {
     "name": "stdout",
     "output_type": "stream",
     "text": [
      "성북구\n"
     ]
    },
    {
     "data": {
      "text/plain": [
       "<AxesSubplot:>"
      ]
     },
     "metadata": {},
     "output_type": "display_data"
    },
    {
     "data": {
      "image/png": "[encoded data removed]",
      "text/plain": [
       "<Figure size 432x288 with 1 Axes>"
      ]
     },
     "metadata": {
      "needs_background": "light"
     },
     "output_type": "display_data"
    },
    {
     "name": "stdout",
     "output_type": "stream",
     "text": [
      "송파구\n"
     ]
    },
    {
     "data": {
      "text/plain": [
       "<AxesSubplot:>"
      ]
     },
     "metadata": {},
     "output_type": "display_data"
    },
    {
     "data": {
      "image/png": "[encoded data removed]",
      "text/plain": [
       "<Figure size 432x288 with 1 Axes>"
      ]
     },
     "metadata": {
      "needs_background": "light"
     },
     "output_type": "display_data"
    },
    {
     "name": "stdout",
     "output_type": "stream",
     "text": [
      "양천구\n"
     ]
    },
    {
     "data": {
      "text/plain": [
       "<AxesSubplot:>"
      ]
     },
     "metadata": {},
     "output_type": "display_data"
    },
    {
     "data": {
      "image/png": "[encoded data removed]",
      "text/plain": [
       "<Figure size 432x288 with 1 Axes>"
      ]
     },
     "metadata": {
      "needs_background": "light"
     },
     "output_type": "display_data"
    },
    {
     "name": "stdout",
     "output_type": "stream",
     "text": [
      "영등포구\n"
     ]
    },
    {
     "data": {
      "text/plain": [
       "<AxesSubplot:>"
      ]
     },
     "metadata": {},
     "output_type": "display_data"
    },
    {
     "data": {
      "image/png": "[encoded data removed]",
      "text/plain": [
       "<Figure size 432x288 with 1 Axes>"
      ]
     },
     "metadata": {
      "needs_background": "light"
     },
     "output_type": "display_data"
    },
    {
     "name": "stdout",
     "output_type": "stream",
     "text": [
      "용산구\n"
     ]
    },
    {
     "data": {
      "text/plain": [
       "<AxesSubplot:>"
      ]
     },
     "metadata": {},
     "output_type": "display_data"
    },
    {
     "data": {
      "image/png": "[encoded data removed]",
      "text/plain": [
       "<Figure size 432x288 with 1 Axes>"
      ]
     },
     "metadata": {
      "needs_background": "light"
     },
     "output_type": "display_data"
    },
    {
     "name": "stdout",
     "output_type": "stream",
     "text": [
      "은평구\n"
     ]
    },
    {
     "data": {
      "text/plain": [
       "<AxesSubplot:>"
      ]
     },
     "metadata": {},
     "output_type": "display_data"
    },
    {
     "data": {
      "image/png": "[encoded data removed]",
      "text/plain": [
       "<Figure size 432x288 with 1 Axes>"
      ]
     },
     "metadata": {
      "needs_background": "light"
     },
     "output_type": "display_data"
    },
    {
     "name": "stdout",
     "output_type": "stream",
     "text": [
      "종로구\n"
     ]
    },
    {
     "data": {
      "text/plain": [
       "<AxesSubplot:>"
      ]
     },
     "metadata": {},
     "output_type": "display_data"
    },
    {
     "data": {
      "image/png": "[encoded data removed]",
      "text/plain": [
       "<Figure size 432x288 with 1 Axes>"
      ]
     },
     "metadata": {
      "needs_background": "light"
     },
     "output_type": "display_data"
    },
    {
     "name": "stdout",
     "output_type": "stream",
     "text": [
      "중구\n"
     ]
    },
    {
     "data": {
      "text/plain": [
       "<AxesSubplot:>"
      ]
     },
     "metadata": {},
     "output_type": "display_data"
    },
    {
     "data": {
      "image/png": "[encoded data removed]",
      "text/plain": [
       "<Figure size 432x288 with 1 Axes>"
      ]
     },
     "metadata": {
      "needs_background": "light"
     },
     "output_type": "display_data"
    },
    {
     "name": "stdout",
     "output_type": "stream",
     "text": [
      "중랑구\n"
     ]
    },
    {
     "data": {
      "text/plain": [
       "<AxesSubplot:>"
      ]
     },
     "metadata": {},
     "output_type": "display_data"
    },
    {
     "data": {
      "image/png": "[encoded data removed]",
      "text/plain": [
       "<Figure size 432x288 with 1 Axes>"
      ]
     },
     "metadata": {
      "needs_background": "light"
     },
     "output_type": "display_data"
    },
    {
     "data": {
      "text/plain": [
       "<Figure size 432x288 with 0 Axes>"
      ]
     },
     "metadata": {},
     "output_type": "display_data"
    }
   ],
   "source": [
    "show_target_log_hist_every_gu(apart_trade_df)"
   ]
  },
  {
   "cell_type": "code",
   "execution_count": 57,
   "metadata": {},
   "outputs": [],
   "source": [
    "# Tukey의 기법을 사용하여 각 구 별 이상치 (outlier) 검색 후 제거 (가격)\n",
    "\n",
    "def find_and_remove_Tukey_outliers_price_per_gu(df):\n",
    "    df = df.copy()\n",
    "    \n",
    "    unique_gus = df['구'].unique()\n",
    "    \n",
    "    count = 0\n",
    "    dfs_list = []\n",
    "    for gu in unique_gus:\n",
    "        gu_df = df[df['구'] == gu]\n",
    "    \n",
    "        q1 = gu_df['target_log_transformed'].quantile(0.25)\n",
    "        q3 = gu_df['target_log_transformed'].quantile(0.75)\n",
    "        iqr = q3 - q1\n",
    "        outlier_step = iqr * 1.5\n",
    "\n",
    "        outlier_df = gu_df[(gu_df['target_log_transformed'] < q1 - outlier_step) | (gu_df['target_log_transformed'] > q3 + outlier_step)]\n",
    "\n",
    "        gu_df.drop(outlier_df.index, inplace=True)\n",
    "        \n",
    "        dfs_list.append(gu_df)\n",
    "\n",
    "        print('{}에서 {}개의 이상치를 찾아서 제거했습니다.'.format(gu, outlier_df.shape[0]))\n",
    "        \n",
    "        count += outlier_df.shape[0]\n",
    "    \n",
    "    print('총 {}개의 이상치를 찾아서 제거했습니다.'.format(count))\n",
    "    \n",
    "    concat_df = pd.concat(dfs_list).reset_index(drop=True)   \n",
    "    \n",
    "    return concat_df"
   ]
  },
  {
   "cell_type": "code",
   "execution_count": 51,
   "metadata": {},
   "outputs": [
    {
     "name": "stdout",
     "output_type": "stream",
     "text": [
      "강남구에서 1694개의 이상치를 찾아서 제거했습니다.\n",
      "강동구에서 1608개의 이상치를 찾아서 제거했습니다.\n",
      "강북구에서 612개의 이상치를 찾아서 제거했습니다.\n",
      "강서구에서 468개의 이상치를 찾아서 제거했습니다.\n",
      "관악구에서 812개의 이상치를 찾아서 제거했습니다.\n",
      "광진구에서 578개의 이상치를 찾아서 제거했습니다.\n",
      "구로구에서 1367개의 이상치를 찾아서 제거했습니다.\n",
      "금천구에서 730개의 이상치를 찾아서 제거했습니다.\n",
      "노원구에서 356개의 이상치를 찾아서 제거했습니다.\n",
      "도봉구에서 566개의 이상치를 찾아서 제거했습니다.\n",
      "동대문구에서 1549개의 이상치를 찾아서 제거했습니다.\n",
      "동작구에서 664개의 이상치를 찾아서 제거했습니다.\n",
      "마포구에서 508개의 이상치를 찾아서 제거했습니다.\n",
      "서대문구에서 320개의 이상치를 찾아서 제거했습니다.\n",
      "서초구에서 1376개의 이상치를 찾아서 제거했습니다.\n",
      "성동구에서 530개의 이상치를 찾아서 제거했습니다.\n",
      "성북구에서 1358개의 이상치를 찾아서 제거했습니다.\n",
      "송파구에서 886개의 이상치를 찾아서 제거했습니다.\n",
      "양천구에서 96개의 이상치를 찾아서 제거했습니다.\n",
      "영등포구에서 849개의 이상치를 찾아서 제거했습니다.\n",
      "용산구에서 638개의 이상치를 찾아서 제거했습니다.\n",
      "은평구에서 321개의 이상치를 찾아서 제거했습니다.\n",
      "종로구에서 21개의 이상치를 찾아서 제거했습니다.\n",
      "중구에서 347개의 이상치를 찾아서 제거했습니다.\n",
      "중랑구에서 753개의 이상치를 찾아서 제거했습니다.\n",
      "총 19007개의 이상치를 찾아서 제거했습니다.\n"
     ]
    }
   ],
   "source": [
    "prac_df = find_and_remove_Tukey_outliers_price_per_gu(apart_trade_df)"
   ]
  },
  {
   "cell_type": "code",
   "execution_count": 52,
   "metadata": {},
   "outputs": [
    {
     "data": {
      "text/plain": [
       "<AxesSubplot:>"
      ]
     },
     "execution_count": 52,
     "metadata": {},
     "output_type": "execute_result"
    },
    {
     "data": {
      "image/png": "[encoded data removed]",
      "text/plain": [
       "<Figure size 432x288 with 1 Axes>"
      ]
     },
     "metadata": {
      "needs_background": "light"
     },
     "output_type": "display_data"
    }
   ],
   "source": [
    "prac_df['target_log_transformed'].hist(bins=100)"
   ]
  },
  {
   "cell_type": "code",
   "execution_count": 53,
   "metadata": {},
   "outputs": [
    {
     "data": {
      "text/plain": [
       "<AxesSubplot:>"
      ]
     },
     "execution_count": 53,
     "metadata": {},
     "output_type": "execute_result"
    },
    {
     "data": {
      "image/png": "[encoded data removed]",
      "text/plain": [
       "<Figure size 432x288 with 1 Axes>"
      ]
     },
     "metadata": {
      "needs_background": "light"
     },
     "output_type": "display_data"
    }
   ],
   "source": [
    "prac_df['거래금액(만원)'].hist(bins=100)"
   ]
  },
  {
   "cell_type": "code",
   "execution_count": 54,
   "metadata": {},
   "outputs": [
    {
     "data": {
      "text/plain": [
       "count    1.149185e+06\n",
       "mean     5.223752e+04\n",
       "std      3.799491e+04\n",
       "min      6.500000e+03\n",
       "25%      2.870000e+04\n",
       "50%      4.160000e+04\n",
       "75%      6.300000e+04\n",
       "max      4.380000e+05\n",
       "Name: 거래금액(만원), dtype: float64"
      ]
     },
     "execution_count": 54,
     "metadata": {},
     "output_type": "execute_result"
    }
   ],
   "source": [
    "prac_df['거래금액(만원)'].describe()"
   ]
  },
  {
   "cell_type": "code",
   "execution_count": 56,
   "metadata": {},
   "outputs": [],
   "source": [
    "# Tukey의 기법을 사용하여 각 동 별 이상치 (outlier) 검색 후 제거 (가격)\n",
    "\n",
    "def find_and_remove_Tukey_outliers_price_per_dong(df):\n",
    "    df = df.copy()\n",
    "    \n",
    "    unique_dongs = df['시군구'].unique()\n",
    "    \n",
    "    count = 0\n",
    "    dfs_list = []\n",
    "    for dong in unique_dongs:\n",
    "        dong_df = df[df['시군구'] == dong]\n",
    "    \n",
    "        q1 = dong_df['target_log_transformed'].quantile(0.25)\n",
    "        q3 = dong_df['target_log_transformed'].quantile(0.75)\n",
    "        iqr = q3 - q1\n",
    "        outlier_step = iqr * 1.5\n",
    "\n",
    "        outlier_df = dong_df[(dong_df['target_log_transformed'] < q1 - outlier_step) | (dong_df['target_log_transformed'] > q3 + outlier_step)]\n",
    "\n",
    "        dong_df.drop(outlier_df.index, inplace=True)\n",
    "        \n",
    "        dfs_list.append(dong_df)\n",
    "\n",
    "        print('{}에서 {}개의 이상치를 찾아서 제거했습니다.'.format(dong, outlier_df.shape[0]))\n",
    "        \n",
    "        count += outlier_df.shape[0]\n",
    "    \n",
    "    print('총 {}개의 이상치를 찾아서 제거했습니다.'.format(count))\n",
    "    \n",
    "    concat_df = pd.concat(dfs_list).reset_index(drop=True)   \n",
    "    \n",
    "    return concat_df"
   ]
  },
  {
   "cell_type": "code",
   "execution_count": 58,
   "metadata": {},
   "outputs": [
    {
     "name": "stdout",
     "output_type": "stream",
     "text": [
      "서울특별시 강남구 개포동에서 339개의 이상치를 찾아서 제거했습니다.\n",
      "서울특별시 강남구 논현동에서 37개의 이상치를 찾아서 제거했습니다.\n",
      "서울특별시 강남구 대치동에서 615개의 이상치를 찾아서 제거했습니다.\n",
      "서울특별시 강남구 도곡동에서 364개의 이상치를 찾아서 제거했습니다.\n",
      "서울특별시 강남구 삼성동에서 143개의 이상치를 찾아서 제거했습니다.\n",
      "서울특별시 강남구 세곡동에서 3개의 이상치를 찾아서 제거했습니다.\n",
      "서울특별시 강남구 수서동에서 11개의 이상치를 찾아서 제거했습니다.\n",
      "서울특별시 강남구 신사동에서 55개의 이상치를 찾아서 제거했습니다.\n",
      "서울특별시 강남구 압구정동에서 19개의 이상치를 찾아서 제거했습니다.\n",
      "서울특별시 강남구 역삼동에서 0개의 이상치를 찾아서 제거했습니다.\n",
      "서울특별시 강남구 일원동에서 103개의 이상치를 찾아서 제거했습니다.\n",
      "서울특별시 강남구 청담동에서 108개의 이상치를 찾아서 제거했습니다.\n",
      "서울특별시 강동구 강일동에서 42개의 이상치를 찾아서 제거했습니다.\n",
      "서울특별시 강동구 고덕동에서 75개의 이상치를 찾아서 제거했습니다.\n",
      "서울특별시 강동구 길동에서 572개의 이상치를 찾아서 제거했습니다.\n",
      "서울특별시 강동구 둔촌동에서 15개의 이상치를 찾아서 제거했습니다.\n",
      "서울특별시 강동구 명일동에서 54개의 이상치를 찾아서 제거했습니다.\n",
      "서울특별시 강동구 상일동에서 256개의 이상치를 찾아서 제거했습니다.\n",
      "서울특별시 강동구 성내동에서 176개의 이상치를 찾아서 제거했습니다.\n",
      "서울특별시 강동구 암사동에서 45개의 이상치를 찾아서 제거했습니다.\n",
      "서울특별시 강동구 천호동에서 186개의 이상치를 찾아서 제거했습니다.\n",
      "서울특별시 강북구 미아동에서 351개의 이상치를 찾아서 제거했습니다.\n",
      "서울특별시 강북구 번동에서 91개의 이상치를 찾아서 제거했습니다.\n",
      "서울특별시 강북구 수유동에서 59개의 이상치를 찾아서 제거했습니다.\n",
      "서울특별시 강북구 우이동에서 5개의 이상치를 찾아서 제거했습니다.\n",
      "서울특별시 강서구 가양동에서 0개의 이상치를 찾아서 제거했습니다.\n",
      "서울특별시 강서구 공항동에서 0개의 이상치를 찾아서 제거했습니다.\n",
      "서울특별시 강서구 내발산동에서 5개의 이상치를 찾아서 제거했습니다.\n",
      "서울특별시 강서구 등촌동에서 60개의 이상치를 찾아서 제거했습니다.\n",
      "서울특별시 강서구 마곡동에서 6개의 이상치를 찾아서 제거했습니다.\n",
      "서울특별시 강서구 방화동에서 45개의 이상치를 찾아서 제거했습니다.\n",
      "서울특별시 강서구 염창동에서 80개의 이상치를 찾아서 제거했습니다.\n",
      "서울특별시 강서구 화곡동에서 6개의 이상치를 찾아서 제거했습니다.\n",
      "서울특별시 관악구 남현동에서 8개의 이상치를 찾아서 제거했습니다.\n",
      "서울특별시 관악구 봉천동에서 525개의 이상치를 찾아서 제거했습니다.\n",
      "서울특별시 관악구 신림동에서 103개의 이상치를 찾아서 제거했습니다.\n",
      "서울특별시 광진구 광장동에서 63개의 이상치를 찾아서 제거했습니다.\n",
      "서울특별시 광진구 구의동에서 280개의 이상치를 찾아서 제거했습니다.\n",
      "서울특별시 광진구 군자동에서 0개의 이상치를 찾아서 제거했습니다.\n",
      "서울특별시 광진구 능동에서 2개의 이상치를 찾아서 제거했습니다.\n",
      "서울특별시 광진구 자양동에서 44개의 이상치를 찾아서 제거했습니다.\n",
      "서울특별시 광진구 중곡동에서 2개의 이상치를 찾아서 제거했습니다.\n",
      "서울특별시 광진구 화양동에서 0개의 이상치를 찾아서 제거했습니다.\n",
      "서울특별시 구로구 가리봉동에서 0개의 이상치를 찾아서 제거했습니다.\n",
      "서울특별시 구로구 개봉동에서 55개의 이상치를 찾아서 제거했습니다.\n",
      "서울특별시 구로구 고척동에서 74개의 이상치를 찾아서 제거했습니다.\n",
      "서울특별시 구로구 구로동에서 324개의 이상치를 찾아서 제거했습니다.\n",
      "서울특별시 구로구 궁동에서 14개의 이상치를 찾아서 제거했습니다.\n",
      "서울특별시 구로구 신도림동에서 57개의 이상치를 찾아서 제거했습니다.\n",
      "서울특별시 구로구 오류동에서 157개의 이상치를 찾아서 제거했습니다.\n",
      "서울특별시 구로구 온수동에서 4개의 이상치를 찾아서 제거했습니다.\n",
      "서울특별시 구로구 천왕동에서 27개의 이상치를 찾아서 제거했습니다.\n",
      "서울특별시 구로구 항동에서 16개의 이상치를 찾아서 제거했습니다.\n",
      "서울특별시 금천구 가산동에서 0개의 이상치를 찾아서 제거했습니다.\n",
      "서울특별시 금천구 독산동에서 347개의 이상치를 찾아서 제거했습니다.\n",
      "서울특별시 금천구 시흥동에서 340개의 이상치를 찾아서 제거했습니다.\n",
      "서울특별시 노원구 공릉동에서 201개의 이상치를 찾아서 제거했습니다.\n",
      "서울특별시 노원구 상계동에서 257개의 이상치를 찾아서 제거했습니다.\n",
      "서울특별시 노원구 월계동에서 113개의 이상치를 찾아서 제거했습니다.\n",
      "서울특별시 노원구 중계동에서 4개의 이상치를 찾아서 제거했습니다.\n",
      "서울특별시 노원구 하계동에서 36개의 이상치를 찾아서 제거했습니다.\n",
      "서울특별시 도봉구 도봉동에서 228개의 이상치를 찾아서 제거했습니다.\n",
      "서울특별시 도봉구 방학동에서 125개의 이상치를 찾아서 제거했습니다.\n",
      "서울특별시 도봉구 쌍문동에서 170개의 이상치를 찾아서 제거했습니다.\n",
      "서울특별시 도봉구 창동에서 27개의 이상치를 찾아서 제거했습니다.\n",
      "서울특별시 동대문구 답십리동에서 109개의 이상치를 찾아서 제거했습니다.\n",
      "서울특별시 동대문구 신설동에서 0개의 이상치를 찾아서 제거했습니다.\n",
      "서울특별시 동대문구 용두동에서 2개의 이상치를 찾아서 제거했습니다.\n",
      "서울특별시 동대문구 이문동에서 161개의 이상치를 찾아서 제거했습니다.\n",
      "서울특별시 동대문구 장안동에서 528개의 이상치를 찾아서 제거했습니다.\n",
      "서울특별시 동대문구 전농동에서 25개의 이상치를 찾아서 제거했습니다.\n",
      "서울특별시 동대문구 제기동에서 67개의 이상치를 찾아서 제거했습니다.\n",
      "서울특별시 동대문구 청량리동에서 36개의 이상치를 찾아서 제거했습니다.\n",
      "서울특별시 동대문구 회기동에서 5개의 이상치를 찾아서 제거했습니다.\n",
      "서울특별시 동대문구 휘경동에서 171개의 이상치를 찾아서 제거했습니다.\n",
      "서울특별시 동작구 노량진동에서 56개의 이상치를 찾아서 제거했습니다.\n",
      "서울특별시 동작구 대방동에서 71개의 이상치를 찾아서 제거했습니다.\n",
      "서울특별시 동작구 동작동에서 5개의 이상치를 찾아서 제거했습니다.\n",
      "서울특별시 동작구 본동에서 39개의 이상치를 찾아서 제거했습니다.\n",
      "서울특별시 동작구 사당동에서 83개의 이상치를 찾아서 제거했습니다.\n",
      "서울특별시 동작구 상도1동에서 5개의 이상치를 찾아서 제거했습니다.\n",
      "서울특별시 동작구 상도동에서 378개의 이상치를 찾아서 제거했습니다.\n",
      "서울특별시 동작구 신대방동에서 53개의 이상치를 찾아서 제거했습니다.\n",
      "서울특별시 동작구 흑석동에서 53개의 이상치를 찾아서 제거했습니다.\n",
      "서울특별시 마포구 공덕동에서 83개의 이상치를 찾아서 제거했습니다.\n",
      "서울특별시 마포구 노고산동에서 0개의 이상치를 찾아서 제거했습니다.\n",
      "서울특별시 마포구 대흥동에서 0개의 이상치를 찾아서 제거했습니다.\n",
      "서울특별시 마포구 도화동에서 85개의 이상치를 찾아서 제거했습니다.\n",
      "서울특별시 마포구 동교동에서 0개의 이상치를 찾아서 제거했습니다.\n",
      "서울특별시 마포구 마포동에서 0개의 이상치를 찾아서 제거했습니다.\n",
      "서울특별시 마포구 망원동에서 44개의 이상치를 찾아서 제거했습니다.\n",
      "서울특별시 마포구 상수동에서 0개의 이상치를 찾아서 제거했습니다.\n",
      "서울특별시 마포구 상암동에서 49개의 이상치를 찾아서 제거했습니다.\n",
      "서울특별시 마포구 서교동에서 0개의 이상치를 찾아서 제거했습니다.\n",
      "서울특별시 마포구 성산동에서 105개의 이상치를 찾아서 제거했습니다.\n",
      "서울특별시 마포구 신공덕동에서 18개의 이상치를 찾아서 제거했습니다.\n",
      "서울특별시 마포구 신수동에서 99개의 이상치를 찾아서 제거했습니다.\n",
      "서울특별시 마포구 신정동에서 0개의 이상치를 찾아서 제거했습니다.\n",
      "서울특별시 마포구 아현동에서 53개의 이상치를 찾아서 제거했습니다.\n",
      "서울특별시 마포구 연남동에서 4개의 이상치를 찾아서 제거했습니다.\n",
      "서울특별시 마포구 염리동에서 0개의 이상치를 찾아서 제거했습니다.\n",
      "서울특별시 마포구 용강동에서 6개의 이상치를 찾아서 제거했습니다.\n",
      "서울특별시 마포구 중동에서 9개의 이상치를 찾아서 제거했습니다.\n",
      "서울특별시 마포구 창전동에서 140개의 이상치를 찾아서 제거했습니다.\n",
      "서울특별시 마포구 토정동에서 4개의 이상치를 찾아서 제거했습니다.\n",
      "서울특별시 마포구 하중동에서 0개의 이상치를 찾아서 제거했습니다.\n",
      "서울특별시 마포구 합정동에서 4개의 이상치를 찾아서 제거했습니다.\n",
      "서울특별시 마포구 현석동에서 0개의 이상치를 찾아서 제거했습니다.\n",
      "서울특별시 서대문구 남가좌동에서 4개의 이상치를 찾아서 제거했습니다.\n",
      "서울특별시 서대문구 냉천동에서 0개의 이상치를 찾아서 제거했습니다.\n",
      "서울특별시 서대문구 대현동에서 3개의 이상치를 찾아서 제거했습니다.\n",
      "서울특별시 서대문구 미근동에서 2개의 이상치를 찾아서 제거했습니다.\n",
      "서울특별시 서대문구 북가좌동에서 16개의 이상치를 찾아서 제거했습니다.\n",
      "서울특별시 서대문구 북아현동에서 1개의 이상치를 찾아서 제거했습니다.\n",
      "서울특별시 서대문구 연희동에서 9개의 이상치를 찾아서 제거했습니다.\n",
      "서울특별시 서대문구 영천동에서 6개의 이상치를 찾아서 제거했습니다.\n",
      "서울특별시 서대문구 창천동에서 0개의 이상치를 찾아서 제거했습니다.\n",
      "서울특별시 서대문구 천연동에서 30개의 이상치를 찾아서 제거했습니다.\n",
      "서울특별시 서대문구 충정로2가에서 8개의 이상치를 찾아서 제거했습니다.\n",
      "서울특별시 서대문구 충정로3가에서 5개의 이상치를 찾아서 제거했습니다.\n",
      "서울특별시 서대문구 합동에서 4개의 이상치를 찾아서 제거했습니다.\n",
      "서울특별시 서대문구 현저동에서 9개의 이상치를 찾아서 제거했습니다.\n",
      "서울특별시 서대문구 홍은동에서 121개의 이상치를 찾아서 제거했습니다.\n",
      "서울특별시 서대문구 홍제동에서 93개의 이상치를 찾아서 제거했습니다.\n",
      "서울특별시 서초구 반포동에서 18개의 이상치를 찾아서 제거했습니다.\n",
      "서울특별시 서초구 방배동에서 310개의 이상치를 찾아서 제거했습니다.\n",
      "서울특별시 서초구 서초동에서 364개의 이상치를 찾아서 제거했습니다.\n",
      "서울특별시 서초구 신원동에서 8개의 이상치를 찾아서 제거했습니다.\n",
      "서울특별시 서초구 양재동에서 142개의 이상치를 찾아서 제거했습니다.\n",
      "서울특별시 서초구 우면동에서 29개의 이상치를 찾아서 제거했습니다.\n",
      "서울특별시 서초구 잠원동에서 243개의 이상치를 찾아서 제거했습니다.\n",
      "서울특별시 성동구 금호동1가에서 46개의 이상치를 찾아서 제거했습니다.\n",
      "서울특별시 성동구 금호동2가에서 16개의 이상치를 찾아서 제거했습니다.\n",
      "서울특별시 성동구 금호동3가에서 6개의 이상치를 찾아서 제거했습니다.\n",
      "서울특별시 성동구 금호동4가에서 24개의 이상치를 찾아서 제거했습니다.\n",
      "서울특별시 성동구 도선동에서 32개의 이상치를 찾아서 제거했습니다.\n",
      "서울특별시 성동구 마장동에서 39개의 이상치를 찾아서 제거했습니다.\n",
      "서울특별시 성동구 사근동에서 0개의 이상치를 찾아서 제거했습니다.\n",
      "서울특별시 성동구 성수동1가에서 271개의 이상치를 찾아서 제거했습니다.\n",
      "서울특별시 성동구 성수동2가에서 36개의 이상치를 찾아서 제거했습니다.\n",
      "서울특별시 성동구 송정동에서 7개의 이상치를 찾아서 제거했습니다.\n",
      "서울특별시 성동구 옥수동에서 20개의 이상치를 찾아서 제거했습니다.\n",
      "서울특별시 성동구 용답동에서 7개의 이상치를 찾아서 제거했습니다.\n",
      "서울특별시 성동구 응봉동에서 10개의 이상치를 찾아서 제거했습니다.\n",
      "서울특별시 성동구 하왕십리동에서 22개의 이상치를 찾아서 제거했습니다.\n",
      "서울특별시 성동구 행당동에서 34개의 이상치를 찾아서 제거했습니다.\n",
      "서울특별시 성동구 홍익동에서 8개의 이상치를 찾아서 제거했습니다.\n",
      "서울특별시 성북구 길음동에서 133개의 이상치를 찾아서 제거했습니다.\n",
      "서울특별시 성북구 돈암동에서 89개의 이상치를 찾아서 제거했습니다.\n",
      "서울특별시 성북구 동선동1가에서 0개의 이상치를 찾아서 제거했습니다.\n",
      "서울특별시 성북구 동선동3가에서 1개의 이상치를 찾아서 제거했습니다.\n",
      "서울특별시 성북구 동선동4가에서 3개의 이상치를 찾아서 제거했습니다.\n",
      "서울특별시 성북구 동소문동4가에서 0개의 이상치를 찾아서 제거했습니다.\n",
      "서울특별시 성북구 동소문동5가에서 10개의 이상치를 찾아서 제거했습니다.\n",
      "서울특별시 성북구 동소문동7가에서 0개의 이상치를 찾아서 제거했습니다.\n",
      "서울특별시 성북구 보문동2가에서 0개의 이상치를 찾아서 제거했습니다.\n",
      "서울특별시 성북구 보문동3가에서 0개의 이상치를 찾아서 제거했습니다.\n",
      "서울특별시 성북구 보문동4가에서 0개의 이상치를 찾아서 제거했습니다.\n",
      "서울특별시 성북구 보문동6가에서 0개의 이상치를 찾아서 제거했습니다.\n",
      "서울특별시 성북구 삼선동2가에서 7개의 이상치를 찾아서 제거했습니다.\n",
      "서울특별시 성북구 삼선동3가에서 9개의 이상치를 찾아서 제거했습니다.\n",
      "서울특별시 성북구 삼선동4가에서 1개의 이상치를 찾아서 제거했습니다.\n",
      "서울특별시 성북구 상월곡동에서 5개의 이상치를 찾아서 제거했습니다.\n",
      "서울특별시 성북구 석관동에서 15개의 이상치를 찾아서 제거했습니다.\n",
      "서울특별시 성북구 성북동에서 12개의 이상치를 찾아서 제거했습니다.\n",
      "서울특별시 성북구 안암동1가에서 0개의 이상치를 찾아서 제거했습니다.\n",
      "서울특별시 성북구 안암동3가에서 25개의 이상치를 찾아서 제거했습니다.\n",
      "서울특별시 성북구 안암동4가에서 0개의 이상치를 찾아서 제거했습니다.\n",
      "서울특별시 성북구 장위동에서 60개의 이상치를 찾아서 제거했습니다.\n",
      "서울특별시 성북구 정릉동에서 159개의 이상치를 찾아서 제거했습니다.\n",
      "서울특별시 성북구 종암동에서 145개의 이상치를 찾아서 제거했습니다.\n",
      "서울특별시 성북구 하월곡동에서 301개의 이상치를 찾아서 제거했습니다.\n",
      "서울특별시 송파구 가락동에서 680개의 이상치를 찾아서 제거했습니다.\n",
      "서울특별시 송파구 거여동에서 12개의 이상치를 찾아서 제거했습니다.\n",
      "서울특별시 송파구 마천동에서 12개의 이상치를 찾아서 제거했습니다.\n",
      "서울특별시 송파구 문정동에서 6개의 이상치를 찾아서 제거했습니다.\n",
      "서울특별시 송파구 방이동에서 222개의 이상치를 찾아서 제거했습니다.\n",
      "서울특별시 송파구 삼전동에서 0개의 이상치를 찾아서 제거했습니다.\n",
      "서울특별시 송파구 석촌동에서 3개의 이상치를 찾아서 제거했습니다.\n",
      "서울특별시 송파구 송파동에서 33개의 이상치를 찾아서 제거했습니다.\n",
      "서울특별시 송파구 신천동에서 56개의 이상치를 찾아서 제거했습니다.\n",
      "서울특별시 송파구 오금동에서 32개의 이상치를 찾아서 제거했습니다.\n",
      "서울특별시 송파구 잠실동에서 322개의 이상치를 찾아서 제거했습니다.\n",
      "서울특별시 송파구 장지동에서 63개의 이상치를 찾아서 제거했습니다.\n",
      "서울특별시 송파구 풍납동에서 150개의 이상치를 찾아서 제거했습니다.\n",
      "서울특별시 양천구 목동에서 85개의 이상치를 찾아서 제거했습니다.\n",
      "서울특별시 양천구 신월동에서 243개의 이상치를 찾아서 제거했습니다.\n",
      "서울특별시 양천구 신정동에서 84개의 이상치를 찾아서 제거했습니다.\n",
      "서울특별시 영등포구 당산동에서 145개의 이상치를 찾아서 제거했습니다.\n",
      "서울특별시 영등포구 당산동1가에서 4개의 이상치를 찾아서 제거했습니다.\n",
      "서울특별시 영등포구 당산동2가에서 0개의 이상치를 찾아서 제거했습니다.\n",
      "서울특별시 영등포구 당산동3가에서 27개의 이상치를 찾아서 제거했습니다.\n",
      "서울특별시 영등포구 당산동4가에서 11개의 이상치를 찾아서 제거했습니다.\n",
      "서울특별시 영등포구 당산동5가에서 30개의 이상치를 찾아서 제거했습니다.\n",
      "서울특별시 영등포구 당산동6가에서 0개의 이상치를 찾아서 제거했습니다.\n",
      "서울특별시 영등포구 대림동에서 174개의 이상치를 찾아서 제거했습니다.\n",
      "서울특별시 영등포구 도림동에서 0개의 이상치를 찾아서 제거했습니다.\n",
      "서울특별시 영등포구 문래동2가에서 19개의 이상치를 찾아서 제거했습니다.\n",
      "서울특별시 영등포구 문래동3가에서 33개의 이상치를 찾아서 제거했습니다.\n",
      "서울특별시 영등포구 문래동4가에서 22개의 이상치를 찾아서 제거했습니다.\n",
      "서울특별시 영등포구 문래동5가에서 32개의 이상치를 찾아서 제거했습니다.\n",
      "서울특별시 영등포구 문래동6가에서 16개의 이상치를 찾아서 제거했습니다.\n",
      "서울특별시 영등포구 신길동에서 363개의 이상치를 찾아서 제거했습니다.\n",
      "서울특별시 영등포구 양평동1가에서 18개의 이상치를 찾아서 제거했습니다.\n",
      "서울특별시 영등포구 양평동2가에서 12개의 이상치를 찾아서 제거했습니다.\n",
      "서울특별시 영등포구 양평동3가에서 93개의 이상치를 찾아서 제거했습니다.\n",
      "서울특별시 영등포구 양평동4가에서 49개의 이상치를 찾아서 제거했습니다.\n",
      "서울특별시 영등포구 양평동5가에서 13개의 이상치를 찾아서 제거했습니다.\n",
      "서울특별시 영등포구 양평동6가에서 2개의 이상치를 찾아서 제거했습니다.\n",
      "서울특별시 영등포구 여의도동에서 68개의 이상치를 찾아서 제거했습니다.\n",
      "서울특별시 영등포구 영등포동에서 368개의 이상치를 찾아서 제거했습니다.\n",
      "서울특별시 영등포구 영등포동1가에서 36개의 이상치를 찾아서 제거했습니다.\n",
      "서울특별시 영등포구 영등포동2가에서 10개의 이상치를 찾아서 제거했습니다.\n",
      "서울특별시 영등포구 영등포동4가에서 0개의 이상치를 찾아서 제거했습니다.\n"
     ]
    },
    {
     "name": "stdout",
     "output_type": "stream",
     "text": [
      "서울특별시 영등포구 영등포동5가에서 15개의 이상치를 찾아서 제거했습니다.\n",
      "서울특별시 영등포구 영등포동7가에서 80개의 이상치를 찾아서 제거했습니다.\n",
      "서울특별시 영등포구 영등포동8가에서 60개의 이상치를 찾아서 제거했습니다.\n",
      "서울특별시 용산구 도원동에서 46개의 이상치를 찾아서 제거했습니다.\n",
      "서울특별시 용산구 동빙고동에서 5개의 이상치를 찾아서 제거했습니다.\n",
      "서울특별시 용산구 동자동에서 54개의 이상치를 찾아서 제거했습니다.\n",
      "서울특별시 용산구 문배동에서 138개의 이상치를 찾아서 제거했습니다.\n",
      "서울특별시 용산구 보광동에서 29개의 이상치를 찾아서 제거했습니다.\n",
      "서울특별시 용산구 산천동에서 2개의 이상치를 찾아서 제거했습니다.\n",
      "서울특별시 용산구 서빙고동에서 3개의 이상치를 찾아서 제거했습니다.\n",
      "서울특별시 용산구 신계동에서 0개의 이상치를 찾아서 제거했습니다.\n",
      "서울특별시 용산구 신창동에서 12개의 이상치를 찾아서 제거했습니다.\n",
      "서울특별시 용산구 용문동에서 9개의 이상치를 찾아서 제거했습니다.\n",
      "서울특별시 용산구 용산동2가에서 2개의 이상치를 찾아서 제거했습니다.\n",
      "서울특별시 용산구 용산동5가에서 3개의 이상치를 찾아서 제거했습니다.\n",
      "서울특별시 용산구 원효로1가에서 16개의 이상치를 찾아서 제거했습니다.\n",
      "서울특별시 용산구 원효로4가에서 10개의 이상치를 찾아서 제거했습니다.\n",
      "서울특별시 용산구 이촌동에서 50개의 이상치를 찾아서 제거했습니다.\n",
      "서울특별시 용산구 이태원동에서 27개의 이상치를 찾아서 제거했습니다.\n",
      "서울특별시 용산구 청암동에서 0개의 이상치를 찾아서 제거했습니다.\n",
      "서울특별시 용산구 청파동1가에서 0개의 이상치를 찾아서 제거했습니다.\n",
      "서울특별시 용산구 한강로1가에서 6개의 이상치를 찾아서 제거했습니다.\n",
      "서울특별시 용산구 한강로2가에서 0개의 이상치를 찾아서 제거했습니다.\n",
      "서울특별시 용산구 한강로3가에서 3개의 이상치를 찾아서 제거했습니다.\n",
      "서울특별시 용산구 한남동에서 0개의 이상치를 찾아서 제거했습니다.\n",
      "서울특별시 용산구 효창동에서 8개의 이상치를 찾아서 제거했습니다.\n",
      "서울특별시 용산구 후암동에서 9개의 이상치를 찾아서 제거했습니다.\n",
      "서울특별시 은평구 갈현동에서 0개의 이상치를 찾아서 제거했습니다.\n",
      "서울특별시 은평구 구산동에서 79개의 이상치를 찾아서 제거했습니다.\n",
      "서울특별시 은평구 녹번동에서 3개의 이상치를 찾아서 제거했습니다.\n",
      "서울특별시 은평구 대조동에서 0개의 이상치를 찾아서 제거했습니다.\n",
      "서울특별시 은평구 불광동에서 58개의 이상치를 찾아서 제거했습니다.\n",
      "서울특별시 은평구 수색동에서 15개의 이상치를 찾아서 제거했습니다.\n",
      "서울특별시 은평구 신사동에서 100개의 이상치를 찾아서 제거했습니다.\n",
      "서울특별시 은평구 역촌동에서 32개의 이상치를 찾아서 제거했습니다.\n",
      "서울특별시 은평구 응암동에서 56개의 이상치를 찾아서 제거했습니다.\n",
      "서울특별시 은평구 증산동에서 81개의 이상치를 찾아서 제거했습니다.\n",
      "서울특별시 은평구 진관동에서 17개의 이상치를 찾아서 제거했습니다.\n",
      "서울특별시 종로구 교북동에서 0개의 이상치를 찾아서 제거했습니다.\n",
      "서울특별시 종로구 구기동에서 1개의 이상치를 찾아서 제거했습니다.\n",
      "서울특별시 종로구 낙원동에서 0개의 이상치를 찾아서 제거했습니다.\n",
      "서울특별시 종로구 내수동에서 35개의 이상치를 찾아서 제거했습니다.\n",
      "서울특별시 종로구 당주동에서 3개의 이상치를 찾아서 제거했습니다.\n",
      "서울특별시 종로구 명륜1가에서 8개의 이상치를 찾아서 제거했습니다.\n",
      "서울특별시 종로구 명륜2가에서 21개의 이상치를 찾아서 제거했습니다.\n",
      "서울특별시 종로구 명륜3가에서 0개의 이상치를 찾아서 제거했습니다.\n",
      "서울특별시 종로구 무악동에서 44개의 이상치를 찾아서 제거했습니다.\n",
      "서울특별시 종로구 사직동에서 0개의 이상치를 찾아서 제거했습니다.\n",
      "서울특별시 종로구 수송동에서 16개의 이상치를 찾아서 제거했습니다.\n",
      "서울특별시 종로구 숭인동에서 0개의 이상치를 찾아서 제거했습니다.\n",
      "서울특별시 종로구 신교동에서 1개의 이상치를 찾아서 제거했습니다.\n",
      "서울특별시 종로구 신영동에서 0개의 이상치를 찾아서 제거했습니다.\n",
      "서울특별시 종로구 익선동에서 3개의 이상치를 찾아서 제거했습니다.\n",
      "서울특별시 종로구 인의동에서 5개의 이상치를 찾아서 제거했습니다.\n",
      "서울특별시 종로구 창신동에서 10개의 이상치를 찾아서 제거했습니다.\n",
      "서울특별시 종로구 청운동에서 0개의 이상치를 찾아서 제거했습니다.\n",
      "서울특별시 종로구 통인동에서 0개의 이상치를 찾아서 제거했습니다.\n",
      "서울특별시 종로구 평창동에서 0개의 이상치를 찾아서 제거했습니다.\n",
      "서울특별시 종로구 필운동에서 1개의 이상치를 찾아서 제거했습니다.\n",
      "서울특별시 종로구 혜화동에서 0개의 이상치를 찾아서 제거했습니다.\n",
      "서울특별시 중구 남대문로5가에서 0개의 이상치를 찾아서 제거했습니다.\n",
      "서울특별시 중구 남산동2가에서 1개의 이상치를 찾아서 제거했습니다.\n",
      "서울특별시 중구 만리동1가에서 0개의 이상치를 찾아서 제거했습니다.\n",
      "서울특별시 중구 만리동2가에서 0개의 이상치를 찾아서 제거했습니다.\n",
      "서울특별시 중구 묵정동에서 2개의 이상치를 찾아서 제거했습니다.\n",
      "서울특별시 중구 산림동에서 1개의 이상치를 찾아서 제거했습니다.\n",
      "서울특별시 중구 순화동에서 0개의 이상치를 찾아서 제거했습니다.\n",
      "서울특별시 중구 신당동에서 198개의 이상치를 찾아서 제거했습니다.\n",
      "서울특별시 중구 예장동에서 0개의 이상치를 찾아서 제거했습니다.\n",
      "서울특별시 중구 을지로5가에서 5개의 이상치를 찾아서 제거했습니다.\n",
      "서울특별시 중구 인현동2가에서 9개의 이상치를 찾아서 제거했습니다.\n",
      "서울특별시 중구 장충동2가에서 0개의 이상치를 찾아서 제거했습니다.\n",
      "서울특별시 중구 정동에서 0개의 이상치를 찾아서 제거했습니다.\n",
      "서울특별시 중구 중림동에서 27개의 이상치를 찾아서 제거했습니다.\n",
      "서울특별시 중구 충무로4가에서 0개의 이상치를 찾아서 제거했습니다.\n",
      "서울특별시 중구 황학동에서 133개의 이상치를 찾아서 제거했습니다.\n",
      "서울특별시 중구 회현동1가에서 5개의 이상치를 찾아서 제거했습니다.\n",
      "서울특별시 중구 회현동2가에서 4개의 이상치를 찾아서 제거했습니다.\n",
      "서울특별시 중구 흥인동에서 0개의 이상치를 찾아서 제거했습니다.\n",
      "서울특별시 중랑구 망우동에서 12개의 이상치를 찾아서 제거했습니다.\n",
      "서울특별시 중랑구 면목동에서 287개의 이상치를 찾아서 제거했습니다.\n",
      "서울특별시 중랑구 묵동에서 6개의 이상치를 찾아서 제거했습니다.\n",
      "서울특별시 중랑구 상봉동에서 97개의 이상치를 찾아서 제거했습니다.\n",
      "서울특별시 중랑구 신내동에서 243개의 이상치를 찾아서 제거했습니다.\n",
      "서울특별시 중랑구 중화동에서 90개의 이상치를 찾아서 제거했습니다.\n",
      "서울특별시 강남구 율현동에서 6개의 이상치를 찾아서 제거했습니다.\n",
      "서울특별시 강남구 자곡동에서 0개의 이상치를 찾아서 제거했습니다.\n",
      "서울특별시 서초구 내곡동에서 0개의 이상치를 찾아서 제거했습니다.\n",
      "서울특별시 성동구 상왕십리동에서 3개의 이상치를 찾아서 제거했습니다.\n",
      "서울특별시 성북구 삼선동5가에서 0개의 이상치를 찾아서 제거했습니다.\n",
      "서울특별시 성북구 성북동1가에서 2개의 이상치를 찾아서 제거했습니다.\n",
      "서울특별시 영등포구 영등포동3가에서 0개의 이상치를 찾아서 제거했습니다.\n",
      "서울특별시 용산구 갈월동에서 1개의 이상치를 찾아서 제거했습니다.\n",
      "서울특별시 용산구 원효로2가에서 0개의 이상치를 찾아서 제거했습니다.\n",
      "서울특별시 용산구 청파동3가에서 0개의 이상치를 찾아서 제거했습니다.\n",
      "서울특별시 종로구 동숭동에서 0개의 이상치를 찾아서 제거했습니다.\n",
      "서울특별시 종로구 부암동에서 3개의 이상치를 찾아서 제거했습니다.\n",
      "서울특별시 종로구 신문로1가에서 0개의 이상치를 찾아서 제거했습니다.\n",
      "서울특별시 종로구 연건동에서 4개의 이상치를 찾아서 제거했습니다.\n",
      "서울특별시 종로구 옥인동에서 5개의 이상치를 찾아서 제거했습니다.\n",
      "서울특별시 종로구 이화동에서 0개의 이상치를 찾아서 제거했습니다.\n",
      "서울특별시 종로구 충신동에서 0개의 이상치를 찾아서 제거했습니다.\n",
      "서울특별시 종로구 행촌동에서 0개의 이상치를 찾아서 제거했습니다.\n",
      "서울특별시 중구 남창동에서 0개의 이상치를 찾아서 제거했습니다.\n",
      "서울특별시 중구 오장동에서 6개의 이상치를 찾아서 제거했습니다.\n",
      "서울특별시 중구 필동3가에서 1개의 이상치를 찾아서 제거했습니다.\n",
      "서울특별시 성북구 동선동5가에서 1개의 이상치를 찾아서 제거했습니다.\n",
      "서울특별시 성북구 동소문동6가에서 1개의 이상치를 찾아서 제거했습니다.\n",
      "서울특별시 용산구 원효로3가에서 0개의 이상치를 찾아서 제거했습니다.\n",
      "서울특별시 종로구 견지동에서 1개의 이상치를 찾아서 제거했습니다.\n",
      "서울특별시 중구 장충동1가에서 0개의 이상치를 찾아서 제거했습니다.\n",
      "서울특별시 중구 충무로5가에서 0개의 이상치를 찾아서 제거했습니다.\n",
      "서울특별시 중구 필동1가에서 1개의 이상치를 찾아서 제거했습니다.\n",
      "서울특별시 마포구 구수동에서 0개의 이상치를 찾아서 제거했습니다.\n",
      "서울특별시 용산구 주성동에서 0개의 이상치를 찾아서 제거했습니다.\n",
      "서울특별시 종로구 교남동에서 1개의 이상치를 찾아서 제거했습니다.\n",
      "서울특별시 종로구 홍파동에서 5개의 이상치를 찾아서 제거했습니다.\n",
      "서울특별시 종로구 효제동에서 2개의 이상치를 찾아서 제거했습니다.\n",
      "서울특별시 종로구 누상동에서 0개의 이상치를 찾아서 제거했습니다.\n",
      "서울특별시 종로구 평동에서 0개의 이상치를 찾아서 제거했습니다.\n",
      "서울특별시 종로구 연지동에서 0개의 이상치를 찾아서 제거했습니다.\n",
      "서울특별시 종로구 원남동에서 12개의 이상치를 찾아서 제거했습니다.\n",
      "총 18956개의 이상치를 찾아서 제거했습니다.\n"
     ]
    }
   ],
   "source": [
    "prac_df = find_and_remove_Tukey_outliers_price_per_dong(apart_trade_df)"
   ]
  },
  {
   "cell_type": "code",
   "execution_count": 62,
   "metadata": {},
   "outputs": [
    {
     "name": "stdout",
     "output_type": "stream",
     "text": [
      "(1168192, 18)\n",
      "(1149236, 18)\n"
     ]
    }
   ],
   "source": [
    "print(apart_trade_df.shape)\n",
    "print(prac_df.shape)"
   ]
  },
  {
   "cell_type": "code",
   "execution_count": 59,
   "metadata": {},
   "outputs": [
    {
     "data": {
      "text/plain": [
       "count    1.149236e+06\n",
       "mean     5.234825e+04\n",
       "std      3.924765e+04\n",
       "min      2.300000e+03\n",
       "25%      2.850000e+04\n",
       "50%      4.150000e+04\n",
       "75%      6.290000e+04\n",
       "max      8.400000e+05\n",
       "Name: 거래금액(만원), dtype: float64"
      ]
     },
     "execution_count": 59,
     "metadata": {},
     "output_type": "execute_result"
    }
   ],
   "source": [
    "prac_df['거래금액(만원)'].describe()"
   ]
  },
  {
   "cell_type": "code",
   "execution_count": 61,
   "metadata": {},
   "outputs": [
    {
     "data": {
      "text/plain": [
       "<AxesSubplot:>"
      ]
     },
     "execution_count": 61,
     "metadata": {},
     "output_type": "execute_result"
    },
    {
     "data": {
      "image/png": "[encoded data removed]",
      "text/plain": [
       "<Figure size 432x288 with 1 Axes>"
      ]
     },
     "metadata": {
      "needs_background": "light"
     },
     "output_type": "display_data"
    }
   ],
   "source": [
    "prac_df['거래금액(만원)'].hist(bins=100)"
   ]
  },
  {
   "cell_type": "code",
   "execution_count": 63,
   "metadata": {},
   "outputs": [
    {
     "data": {
      "text/plain": [
       "<AxesSubplot:>"
      ]
     },
     "execution_count": 63,
     "metadata": {},
     "output_type": "execute_result"
    },
    {
     "data": {
      "image/png": "[encoded data removed]",
      "text/plain": [
       "<Figure size 432x288 with 1 Axes>"
      ]
     },
     "metadata": {
      "needs_background": "light"
     },
     "output_type": "display_data"
    }
   ],
   "source": [
    "prac_df['target_log_transformed'].hist(bins=100)"
   ]
  },
  {
   "cell_type": "code",
   "execution_count": 64,
   "metadata": {},
   "outputs": [
    {
     "data": {
      "text/plain": [
       "(1, 18)"
      ]
     },
     "execution_count": 64,
     "metadata": {},
     "output_type": "execute_result"
    }
   ],
   "source": [
    "min_df = prac_df[prac_df['거래금액(만원)'] == prac_df['거래금액(만원)'].min()]\n",
    "min_df.shape"
   ]
  },
  {
   "cell_type": "code",
   "execution_count": 65,
   "metadata": {},
   "outputs": [
    {
     "data": {
      "text/html": [
       "<div>\n",
       "<style scoped>\n",
       "    .dataframe tbody tr th:only-of-type {\n",
       "        vertical-align: middle;\n",
       "    }\n",
       "\n",
       "    .dataframe tbody tr th {\n",
       "        vertical-align: top;\n",
       "    }\n",
       "\n",
       "    .dataframe thead th {\n",
       "        text-align: right;\n",
       "    }\n",
       "</style>\n",
       "<table border=\"1\" class=\"dataframe\">\n",
       "  <thead>\n",
       "    <tr style=\"text-align: right;\">\n",
       "      <th></th>\n",
       "      <th>시군구</th>\n",
       "      <th>번지</th>\n",
       "      <th>본번</th>\n",
       "      <th>부번</th>\n",
       "      <th>단지명</th>\n",
       "      <th>전용면적(㎡)</th>\n",
       "      <th>계약년월</th>\n",
       "      <th>계약일</th>\n",
       "      <th>거래금액(만원)</th>\n",
       "      <th>층</th>\n",
       "      <th>건축년도</th>\n",
       "      <th>도로명</th>\n",
       "      <th>가격/면적</th>\n",
       "      <th>year</th>\n",
       "      <th>month</th>\n",
       "      <th>시</th>\n",
       "      <th>구</th>\n",
       "      <th>target_log_transformed</th>\n",
       "    </tr>\n",
       "  </thead>\n",
       "  <tbody>\n",
       "    <tr>\n",
       "      <th>1148737</th>\n",
       "      <td>서울특별시 종로구 행촌동</td>\n",
       "      <td>41-1</td>\n",
       "      <td>41</td>\n",
       "      <td>1</td>\n",
       "      <td>대성맨션</td>\n",
       "      <td>19.27</td>\n",
       "      <td>200602</td>\n",
       "      <td>27</td>\n",
       "      <td>2300</td>\n",
       "      <td>1</td>\n",
       "      <td>1971</td>\n",
       "      <td>사직로 21</td>\n",
       "      <td>119.356513</td>\n",
       "      <td>2006</td>\n",
       "      <td>2</td>\n",
       "      <td>서울특별시</td>\n",
       "      <td>종로구</td>\n",
       "      <td>7.740664</td>\n",
       "    </tr>\n",
       "  </tbody>\n",
       "</table>\n",
       "</div>"
      ],
      "text/plain": [
       "                   시군구    번지  본번  부번   단지명  전용면적(㎡)    계약년월  계약일  거래금액(만원)  층  \\\n",
       "1148737  서울특별시 종로구 행촌동  41-1  41   1  대성맨션    19.27  200602   27      2300  1   \n",
       "\n",
       "         건축년도     도로명       가격/면적  year  month      시    구  \\\n",
       "1148737  1971  사직로 21  119.356513  2006      2  서울특별시  종로구   \n",
       "\n",
       "         target_log_transformed  \n",
       "1148737                7.740664  "
      ]
     },
     "execution_count": 65,
     "metadata": {},
     "output_type": "execute_result"
    }
   ],
   "source": [
    "min_df"
   ]
  },
  {
   "cell_type": "code",
   "execution_count": 66,
   "metadata": {},
   "outputs": [
    {
     "data": {
      "text/plain": [
       "(52, 18)"
      ]
     },
     "execution_count": 66,
     "metadata": {},
     "output_type": "execute_result"
    }
   ],
   "source": [
    "min_addr_df = prac_df[prac_df['단지명'] == min_df['단지명'].iloc[0]]\n",
    "min_addr_df.shape"
   ]
  },
  {
   "cell_type": "code",
   "execution_count": null,
   "metadata": {},
   "outputs": [],
   "source": []
  },
  {
   "cell_type": "markdown",
   "metadata": {},
   "source": [
    "# 가격log/면적"
   ]
  },
  {
   "cell_type": "code",
   "execution_count": 71,
   "metadata": {},
   "outputs": [
    {
     "data": {
      "text/html": [
       "<div>\n",
       "<style scoped>\n",
       "    .dataframe tbody tr th:only-of-type {\n",
       "        vertical-align: middle;\n",
       "    }\n",
       "\n",
       "    .dataframe tbody tr th {\n",
       "        vertical-align: top;\n",
       "    }\n",
       "\n",
       "    .dataframe thead th {\n",
       "        text-align: right;\n",
       "    }\n",
       "</style>\n",
       "<table border=\"1\" class=\"dataframe\">\n",
       "  <thead>\n",
       "    <tr style=\"text-align: right;\">\n",
       "      <th></th>\n",
       "      <th>시군구</th>\n",
       "      <th>번지</th>\n",
       "      <th>본번</th>\n",
       "      <th>부번</th>\n",
       "      <th>단지명</th>\n",
       "      <th>전용면적(㎡)</th>\n",
       "      <th>계약년월</th>\n",
       "      <th>계약일</th>\n",
       "      <th>거래금액(만원)</th>\n",
       "      <th>층</th>\n",
       "      <th>건축년도</th>\n",
       "      <th>도로명</th>\n",
       "      <th>가격/면적</th>\n",
       "      <th>year</th>\n",
       "      <th>month</th>\n",
       "      <th>시</th>\n",
       "      <th>구</th>\n",
       "      <th>target_log_transformed</th>\n",
       "      <th>target/area_log_transformed</th>\n",
       "    </tr>\n",
       "  </thead>\n",
       "  <tbody>\n",
       "    <tr>\n",
       "      <th>0</th>\n",
       "      <td>서울특별시 강남구 개포동</td>\n",
       "      <td>655-2</td>\n",
       "      <td>655</td>\n",
       "      <td>2</td>\n",
       "      <td>개포2차현대아파트(220)</td>\n",
       "      <td>77.75</td>\n",
       "      <td>201309</td>\n",
       "      <td>8</td>\n",
       "      <td>57000</td>\n",
       "      <td>2</td>\n",
       "      <td>1988</td>\n",
       "      <td>언주로 103</td>\n",
       "      <td>733.118971</td>\n",
       "      <td>2013</td>\n",
       "      <td>9</td>\n",
       "      <td>서울특별시</td>\n",
       "      <td>강남구</td>\n",
       "      <td>10.950807</td>\n",
       "      <td>6.597308</td>\n",
       "    </tr>\n",
       "    <tr>\n",
       "      <th>1</th>\n",
       "      <td>서울특별시 강남구 개포동</td>\n",
       "      <td>655-2</td>\n",
       "      <td>655</td>\n",
       "      <td>2</td>\n",
       "      <td>개포2차현대아파트(220)</td>\n",
       "      <td>77.75</td>\n",
       "      <td>201312</td>\n",
       "      <td>16</td>\n",
       "      <td>57000</td>\n",
       "      <td>2</td>\n",
       "      <td>1988</td>\n",
       "      <td>언주로 103</td>\n",
       "      <td>733.118971</td>\n",
       "      <td>2013</td>\n",
       "      <td>12</td>\n",
       "      <td>서울특별시</td>\n",
       "      <td>강남구</td>\n",
       "      <td>10.950807</td>\n",
       "      <td>6.597308</td>\n",
       "    </tr>\n",
       "    <tr>\n",
       "      <th>2</th>\n",
       "      <td>서울특별시 강남구 개포동</td>\n",
       "      <td>658-1</td>\n",
       "      <td>658</td>\n",
       "      <td>1</td>\n",
       "      <td>개포6차우성아파트1동~8동</td>\n",
       "      <td>67.28</td>\n",
       "      <td>201302</td>\n",
       "      <td>11</td>\n",
       "      <td>55000</td>\n",
       "      <td>5</td>\n",
       "      <td>1987</td>\n",
       "      <td>언주로 3</td>\n",
       "      <td>817.479191</td>\n",
       "      <td>2013</td>\n",
       "      <td>2</td>\n",
       "      <td>서울특별시</td>\n",
       "      <td>강남구</td>\n",
       "      <td>10.915088</td>\n",
       "      <td>6.706225</td>\n",
       "    </tr>\n",
       "    <tr>\n",
       "      <th>3</th>\n",
       "      <td>서울특별시 강남구 개포동</td>\n",
       "      <td>658-1</td>\n",
       "      <td>658</td>\n",
       "      <td>1</td>\n",
       "      <td>개포6차우성아파트1동~8동</td>\n",
       "      <td>67.28</td>\n",
       "      <td>201302</td>\n",
       "      <td>22</td>\n",
       "      <td>58250</td>\n",
       "      <td>4</td>\n",
       "      <td>1987</td>\n",
       "      <td>언주로 3</td>\n",
       "      <td>865.784780</td>\n",
       "      <td>2013</td>\n",
       "      <td>2</td>\n",
       "      <td>서울특별시</td>\n",
       "      <td>강남구</td>\n",
       "      <td>10.972499</td>\n",
       "      <td>6.763636</td>\n",
       "    </tr>\n",
       "    <tr>\n",
       "      <th>4</th>\n",
       "      <td>서울특별시 강남구 개포동</td>\n",
       "      <td>658-1</td>\n",
       "      <td>658</td>\n",
       "      <td>1</td>\n",
       "      <td>개포6차우성아파트1동~8동</td>\n",
       "      <td>67.28</td>\n",
       "      <td>201305</td>\n",
       "      <td>10</td>\n",
       "      <td>60000</td>\n",
       "      <td>5</td>\n",
       "      <td>1987</td>\n",
       "      <td>언주로 3</td>\n",
       "      <td>891.795482</td>\n",
       "      <td>2013</td>\n",
       "      <td>5</td>\n",
       "      <td>서울특별시</td>\n",
       "      <td>강남구</td>\n",
       "      <td>11.002100</td>\n",
       "      <td>6.793237</td>\n",
       "    </tr>\n",
       "  </tbody>\n",
       "</table>\n",
       "</div>"
      ],
      "text/plain": [
       "             시군구     번지   본번  부번             단지명  전용면적(㎡)    계약년월  계약일  \\\n",
       "0  서울특별시 강남구 개포동  655-2  655   2  개포2차현대아파트(220)    77.75  201309    8   \n",
       "1  서울특별시 강남구 개포동  655-2  655   2  개포2차현대아파트(220)    77.75  201312   16   \n",
       "2  서울특별시 강남구 개포동  658-1  658   1  개포6차우성아파트1동~8동    67.28  201302   11   \n",
       "3  서울특별시 강남구 개포동  658-1  658   1  개포6차우성아파트1동~8동    67.28  201302   22   \n",
       "4  서울특별시 강남구 개포동  658-1  658   1  개포6차우성아파트1동~8동    67.28  201305   10   \n",
       "\n",
       "   거래금액(만원)  층  건축년도      도로명       가격/면적  year  month      시    구  \\\n",
       "0     57000  2  1988  언주로 103  733.118971  2013      9  서울특별시  강남구   \n",
       "1     57000  2  1988  언주로 103  733.118971  2013     12  서울특별시  강남구   \n",
       "2     55000  5  1987    언주로 3  817.479191  2013      2  서울특별시  강남구   \n",
       "3     58250  4  1987    언주로 3  865.784780  2013      2  서울특별시  강남구   \n",
       "4     60000  5  1987    언주로 3  891.795482  2013      5  서울특별시  강남구   \n",
       "\n",
       "   target_log_transformed  target/area_log_transformed  \n",
       "0               10.950807                     6.597308  \n",
       "1               10.950807                     6.597308  \n",
       "2               10.915088                     6.706225  \n",
       "3               10.972499                     6.763636  \n",
       "4               11.002100                     6.793237  "
      ]
     },
     "execution_count": 71,
     "metadata": {},
     "output_type": "execute_result"
    }
   ],
   "source": [
    "apart_trade_df.head()"
   ]
  },
  {
   "cell_type": "code",
   "execution_count": 72,
   "metadata": {},
   "outputs": [],
   "source": [
    "apart_trade_df['가격log/면적'] = apart_trade_df['target_log_transformed'] / apart_trade_df['전용면적(㎡)']"
   ]
  },
  {
   "cell_type": "code",
   "execution_count": 73,
   "metadata": {},
   "outputs": [
    {
     "data": {
      "text/plain": [
       "count    1.168192e+06\n",
       "mean     1.580686e-01\n",
       "std      7.245738e-02\n",
       "min      3.088762e-02\n",
       "25%      1.238074e-01\n",
       "50%      1.359105e-01\n",
       "75%      1.778752e-01\n",
       "max      9.738984e-01\n",
       "Name: 가격log/면적, dtype: float64"
      ]
     },
     "execution_count": 73,
     "metadata": {},
     "output_type": "execute_result"
    }
   ],
   "source": [
    "apart_trade_df['가격log/면적'].describe()"
   ]
  },
  {
   "cell_type": "code",
   "execution_count": 74,
   "metadata": {},
   "outputs": [
    {
     "data": {
      "text/plain": [
       "<AxesSubplot:>"
      ]
     },
     "execution_count": 74,
     "metadata": {},
     "output_type": "execute_result"
    },
    {
     "data": {
      "image/png": "[encoded data removed]",
      "text/plain": [
       "<Figure size 432x288 with 1 Axes>"
      ]
     },
     "metadata": {
      "needs_background": "light"
     },
     "output_type": "display_data"
    }
   ],
   "source": [
    "apart_trade_df['가격log/면적'].hist(bins=100)"
   ]
  },
  {
   "cell_type": "markdown",
   "metadata": {},
   "source": [
    "# 가격/면적"
   ]
  },
  {
   "cell_type": "code",
   "execution_count": 69,
   "metadata": {},
   "outputs": [
    {
     "data": {
      "text/plain": [
       "<AxesSubplot:>"
      ]
     },
     "execution_count": 69,
     "metadata": {},
     "output_type": "execute_result"
    },
    {
     "data": {
      "image/png": "[encoded data removed]",
      "text/plain": [
       "<Figure size 432x288 with 1 Axes>"
      ]
     },
     "metadata": {
      "needs_background": "light"
     },
     "output_type": "display_data"
    }
   ],
   "source": [
    "apart_trade_df['가격/면적'].hist(bins=100)"
   ]
  },
  {
   "cell_type": "code",
   "execution_count": 70,
   "metadata": {},
   "outputs": [],
   "source": [
    "apart_trade_df['target/area_log_transformed'] = apart_trade_df['가격/면적'].apply(lambda x: np.log(x))\n",
    "apart_lease_df['target/area_log_transformed'] = apart_lease_df['가격/면적'].apply(lambda x: np.log(x))\n",
    "multiplex_trade_df['target/area_log_transformed'] = multiplex_trade_df['가격/면적'].apply(lambda x: np.log(x))\n",
    "multiplex_lease_df['target/area_log_transformed'] = multiplex_lease_df['가격/면적'].apply(lambda x: np.log(x))\n",
    "officetel_trade_df['target/area_log_transformed'] = officetel_trade_df['가격/면적'].apply(lambda x: np.log(x))\n",
    "officetel_lease_df['target/area_log_transformed'] = officetel_lease_df['가격/면적'].apply(lambda x: np.log(x))"
   ]
  },
  {
   "cell_type": "code",
   "execution_count": 75,
   "metadata": {},
   "outputs": [
    {
     "data": {
      "text/plain": [
       "<AxesSubplot:>"
      ]
     },
     "execution_count": 75,
     "metadata": {},
     "output_type": "execute_result"
    },
    {
     "data": {
      "image/png": "[encoded data removed]",
      "text/plain": [
       "<Figure size 432x288 with 1 Axes>"
      ]
     },
     "metadata": {
      "needs_background": "light"
     },
     "output_type": "display_data"
    }
   ],
   "source": [
    "apart_trade_df['target/area_log_transformed'].hist(bins=100)"
   ]
  },
  {
   "cell_type": "code",
   "execution_count": null,
   "metadata": {},
   "outputs": [],
   "source": []
  },
  {
   "cell_type": "code",
   "execution_count": null,
   "metadata": {},
   "outputs": [],
   "source": []
  },
  {
   "cell_type": "code",
   "execution_count": null,
   "metadata": {},
   "outputs": [],
   "source": []
  },
  {
   "cell_type": "code",
   "execution_count": 76,
   "metadata": {},
   "outputs": [],
   "source": [
    "# Tukey의 기법을 사용하여 각 동 별 이상치 (outlier) 검색 후 제거 (가격/면적 log)\n",
    "\n",
    "def find_and_remove_Tukey_outliers_price_per_area_log_per_dong(df):\n",
    "    df = df.copy()\n",
    "    \n",
    "    unique_dongs = df['시군구'].unique()\n",
    "    \n",
    "    count = 0\n",
    "    dfs_list = []\n",
    "    for dong in unique_dongs:\n",
    "        dong_df = df[df['시군구'] == dong]\n",
    "    \n",
    "        q1 = dong_df['target/area_log_transformed'].quantile(0.25)\n",
    "        q3 = dong_df['target/area_log_transformed'].quantile(0.75)\n",
    "        iqr = q3 - q1\n",
    "        outlier_step = iqr * 1.5\n",
    "\n",
    "        outlier_df = dong_df[(dong_df['target/area_log_transformed'] < q1 - outlier_step) |\\\n",
    "                             (dong_df['target/area_log_transformed'] > q3 + outlier_step)]\n",
    "\n",
    "        dong_df.drop(outlier_df.index, inplace=True)\n",
    "        \n",
    "        dfs_list.append(dong_df)\n",
    "\n",
    "        print('{}에서 {}개의 이상치를 찾아서 제거했습니다.'.format(dong, outlier_df.shape[0]))\n",
    "        \n",
    "        count += outlier_df.shape[0]\n",
    "    \n",
    "    print('총 {}개의 이상치를 찾아서 제거했습니다.'.format(count))\n",
    "    \n",
    "    concat_df = pd.concat(dfs_list).reset_index(drop=True)   \n",
    "    \n",
    "    return concat_df"
   ]
  },
  {
   "cell_type": "code",
   "execution_count": 77,
   "metadata": {},
   "outputs": [
    {
     "name": "stdout",
     "output_type": "stream",
     "text": [
      "서울특별시 강남구 개포동에서 288개의 이상치를 찾아서 제거했습니다.\n",
      "서울특별시 강남구 논현동에서 63개의 이상치를 찾아서 제거했습니다.\n",
      "서울특별시 강남구 대치동에서 660개의 이상치를 찾아서 제거했습니다.\n",
      "서울특별시 강남구 도곡동에서 145개의 이상치를 찾아서 제거했습니다.\n",
      "서울특별시 강남구 삼성동에서 68개의 이상치를 찾아서 제거했습니다.\n",
      "서울특별시 강남구 세곡동에서 0개의 이상치를 찾아서 제거했습니다.\n",
      "서울특별시 강남구 수서동에서 77개의 이상치를 찾아서 제거했습니다.\n",
      "서울특별시 강남구 신사동에서 6개의 이상치를 찾아서 제거했습니다.\n",
      "서울특별시 강남구 압구정동에서 56개의 이상치를 찾아서 제거했습니다.\n",
      "서울특별시 강남구 역삼동에서 15개의 이상치를 찾아서 제거했습니다.\n",
      "서울특별시 강남구 일원동에서 386개의 이상치를 찾아서 제거했습니다.\n",
      "서울특별시 강남구 청담동에서 114개의 이상치를 찾아서 제거했습니다.\n",
      "서울특별시 강동구 강일동에서 31개의 이상치를 찾아서 제거했습니다.\n",
      "서울특별시 강동구 고덕동에서 0개의 이상치를 찾아서 제거했습니다.\n",
      "서울특별시 강동구 길동에서 141개의 이상치를 찾아서 제거했습니다.\n",
      "서울특별시 강동구 둔촌동에서 42개의 이상치를 찾아서 제거했습니다.\n",
      "서울특별시 강동구 명일동에서 373개의 이상치를 찾아서 제거했습니다.\n",
      "서울특별시 강동구 상일동에서 142개의 이상치를 찾아서 제거했습니다.\n",
      "서울특별시 강동구 성내동에서 146개의 이상치를 찾아서 제거했습니다.\n",
      "서울특별시 강동구 암사동에서 538개의 이상치를 찾아서 제거했습니다.\n",
      "서울특별시 강동구 천호동에서 341개의 이상치를 찾아서 제거했습니다.\n",
      "서울특별시 강북구 미아동에서 256개의 이상치를 찾아서 제거했습니다.\n",
      "서울특별시 강북구 번동에서 298개의 이상치를 찾아서 제거했습니다.\n",
      "서울특별시 강북구 수유동에서 136개의 이상치를 찾아서 제거했습니다.\n",
      "서울특별시 강북구 우이동에서 4개의 이상치를 찾아서 제거했습니다.\n",
      "서울특별시 강서구 가양동에서 288개의 이상치를 찾아서 제거했습니다.\n",
      "서울특별시 강서구 공항동에서 6개의 이상치를 찾아서 제거했습니다.\n",
      "서울특별시 강서구 내발산동에서 0개의 이상치를 찾아서 제거했습니다.\n",
      "서울특별시 강서구 등촌동에서 316개의 이상치를 찾아서 제거했습니다.\n",
      "서울특별시 강서구 마곡동에서 1개의 이상치를 찾아서 제거했습니다.\n",
      "서울특별시 강서구 방화동에서 102개의 이상치를 찾아서 제거했습니다.\n",
      "서울특별시 강서구 염창동에서 210개의 이상치를 찾아서 제거했습니다.\n",
      "서울특별시 강서구 화곡동에서 18개의 이상치를 찾아서 제거했습니다.\n",
      "서울특별시 관악구 남현동에서 19개의 이상치를 찾아서 제거했습니다.\n",
      "서울특별시 관악구 봉천동에서 787개의 이상치를 찾아서 제거했습니다.\n",
      "서울특별시 관악구 신림동에서 448개의 이상치를 찾아서 제거했습니다.\n",
      "서울특별시 광진구 광장동에서 294개의 이상치를 찾아서 제거했습니다.\n",
      "서울특별시 광진구 구의동에서 371개의 이상치를 찾아서 제거했습니다.\n",
      "서울특별시 광진구 군자동에서 58개의 이상치를 찾아서 제거했습니다.\n",
      "서울특별시 광진구 능동에서 0개의 이상치를 찾아서 제거했습니다.\n",
      "서울특별시 광진구 자양동에서 249개의 이상치를 찾아서 제거했습니다.\n",
      "서울특별시 광진구 중곡동에서 54개의 이상치를 찾아서 제거했습니다.\n",
      "서울특별시 광진구 화양동에서 0개의 이상치를 찾아서 제거했습니다.\n",
      "서울특별시 구로구 가리봉동에서 7개의 이상치를 찾아서 제거했습니다.\n",
      "서울특별시 구로구 개봉동에서 171개의 이상치를 찾아서 제거했습니다.\n",
      "서울특별시 구로구 고척동에서 137개의 이상치를 찾아서 제거했습니다.\n",
      "서울특별시 구로구 구로동에서 436개의 이상치를 찾아서 제거했습니다.\n",
      "서울특별시 구로구 궁동에서 21개의 이상치를 찾아서 제거했습니다.\n",
      "서울특별시 구로구 신도림동에서 308개의 이상치를 찾아서 제거했습니다.\n",
      "서울특별시 구로구 오류동에서 85개의 이상치를 찾아서 제거했습니다.\n",
      "서울특별시 구로구 온수동에서 44개의 이상치를 찾아서 제거했습니다.\n",
      "서울특별시 구로구 천왕동에서 7개의 이상치를 찾아서 제거했습니다.\n",
      "서울특별시 구로구 항동에서 9개의 이상치를 찾아서 제거했습니다.\n",
      "서울특별시 금천구 가산동에서 1개의 이상치를 찾아서 제거했습니다.\n",
      "서울특별시 금천구 독산동에서 345개의 이상치를 찾아서 제거했습니다.\n",
      "서울특별시 금천구 시흥동에서 394개의 이상치를 찾아서 제거했습니다.\n",
      "서울특별시 노원구 공릉동에서 708개의 이상치를 찾아서 제거했습니다.\n",
      "서울특별시 노원구 상계동에서 2064개의 이상치를 찾아서 제거했습니다.\n",
      "서울특별시 노원구 월계동에서 959개의 이상치를 찾아서 제거했습니다.\n",
      "서울특별시 노원구 중계동에서 1473개의 이상치를 찾아서 제거했습니다.\n",
      "서울특별시 노원구 하계동에서 773개의 이상치를 찾아서 제거했습니다.\n",
      "서울특별시 도봉구 도봉동에서 285개의 이상치를 찾아서 제거했습니다.\n",
      "서울특별시 도봉구 방학동에서 678개의 이상치를 찾아서 제거했습니다.\n",
      "서울특별시 도봉구 쌍문동에서 666개의 이상치를 찾아서 제거했습니다.\n",
      "서울특별시 도봉구 창동에서 1483개의 이상치를 찾아서 제거했습니다.\n",
      "서울특별시 동대문구 답십리동에서 47개의 이상치를 찾아서 제거했습니다.\n",
      "서울특별시 동대문구 신설동에서 16개의 이상치를 찾아서 제거했습니다.\n",
      "서울특별시 동대문구 용두동에서 1개의 이상치를 찾아서 제거했습니다.\n",
      "서울특별시 동대문구 이문동에서 265개의 이상치를 찾아서 제거했습니다.\n",
      "서울특별시 동대문구 장안동에서 147개의 이상치를 찾아서 제거했습니다.\n",
      "서울특별시 동대문구 전농동에서 74개의 이상치를 찾아서 제거했습니다.\n",
      "서울특별시 동대문구 제기동에서 201개의 이상치를 찾아서 제거했습니다.\n",
      "서울특별시 동대문구 청량리동에서 136개의 이상치를 찾아서 제거했습니다.\n",
      "서울특별시 동대문구 회기동에서 0개의 이상치를 찾아서 제거했습니다.\n",
      "서울특별시 동대문구 휘경동에서 125개의 이상치를 찾아서 제거했습니다.\n",
      "서울특별시 동작구 노량진동에서 5개의 이상치를 찾아서 제거했습니다.\n",
      "서울특별시 동작구 대방동에서 249개의 이상치를 찾아서 제거했습니다.\n",
      "서울특별시 동작구 동작동에서 3개의 이상치를 찾아서 제거했습니다.\n",
      "서울특별시 동작구 본동에서 42개의 이상치를 찾아서 제거했습니다.\n",
      "서울특별시 동작구 사당동에서 426개의 이상치를 찾아서 제거했습니다.\n",
      "서울특별시 동작구 상도1동에서 2개의 이상치를 찾아서 제거했습니다.\n",
      "서울특별시 동작구 상도동에서 461개의 이상치를 찾아서 제거했습니다.\n",
      "서울특별시 동작구 신대방동에서 225개의 이상치를 찾아서 제거했습니다.\n",
      "서울특별시 동작구 흑석동에서 98개의 이상치를 찾아서 제거했습니다.\n",
      "서울특별시 마포구 공덕동에서 191개의 이상치를 찾아서 제거했습니다.\n",
      "서울특별시 마포구 노고산동에서 0개의 이상치를 찾아서 제거했습니다.\n",
      "서울특별시 마포구 대흥동에서 0개의 이상치를 찾아서 제거했습니다.\n",
      "서울특별시 마포구 도화동에서 197개의 이상치를 찾아서 제거했습니다.\n",
      "서울특별시 마포구 동교동에서 0개의 이상치를 찾아서 제거했습니다.\n",
      "서울특별시 마포구 마포동에서 20개의 이상치를 찾아서 제거했습니다.\n",
      "서울특별시 마포구 망원동에서 26개의 이상치를 찾아서 제거했습니다.\n",
      "서울특별시 마포구 상수동에서 1개의 이상치를 찾아서 제거했습니다.\n",
      "서울특별시 마포구 상암동에서 184개의 이상치를 찾아서 제거했습니다.\n",
      "서울특별시 마포구 서교동에서 0개의 이상치를 찾아서 제거했습니다.\n",
      "서울특별시 마포구 성산동에서 167개의 이상치를 찾아서 제거했습니다.\n",
      "서울특별시 마포구 신공덕동에서 129개의 이상치를 찾아서 제거했습니다.\n",
      "서울특별시 마포구 신수동에서 123개의 이상치를 찾아서 제거했습니다.\n",
      "서울특별시 마포구 신정동에서 51개의 이상치를 찾아서 제거했습니다.\n",
      "서울특별시 마포구 아현동에서 14개의 이상치를 찾아서 제거했습니다.\n",
      "서울특별시 마포구 연남동에서 46개의 이상치를 찾아서 제거했습니다.\n",
      "서울특별시 마포구 염리동에서 13개의 이상치를 찾아서 제거했습니다.\n",
      "서울특별시 마포구 용강동에서 21개의 이상치를 찾아서 제거했습니다.\n",
      "서울특별시 마포구 중동에서 63개의 이상치를 찾아서 제거했습니다.\n",
      "서울특별시 마포구 창전동에서 136개의 이상치를 찾아서 제거했습니다.\n",
      "서울특별시 마포구 토정동에서 44개의 이상치를 찾아서 제거했습니다.\n",
      "서울특별시 마포구 하중동에서 16개의 이상치를 찾아서 제거했습니다.\n",
      "서울특별시 마포구 합정동에서 61개의 이상치를 찾아서 제거했습니다.\n",
      "서울특별시 마포구 현석동에서 5개의 이상치를 찾아서 제거했습니다.\n",
      "서울특별시 서대문구 남가좌동에서 1개의 이상치를 찾아서 제거했습니다.\n",
      "서울특별시 서대문구 냉천동에서 5개의 이상치를 찾아서 제거했습니다.\n",
      "서울특별시 서대문구 대현동에서 86개의 이상치를 찾아서 제거했습니다.\n",
      "서울특별시 서대문구 미근동에서 1개의 이상치를 찾아서 제거했습니다.\n",
      "서울특별시 서대문구 북가좌동에서 13개의 이상치를 찾아서 제거했습니다.\n",
      "서울특별시 서대문구 북아현동에서 1개의 이상치를 찾아서 제거했습니다.\n",
      "서울특별시 서대문구 연희동에서 32개의 이상치를 찾아서 제거했습니다.\n",
      "서울특별시 서대문구 영천동에서 83개의 이상치를 찾아서 제거했습니다.\n",
      "서울특별시 서대문구 창천동에서 0개의 이상치를 찾아서 제거했습니다.\n",
      "서울특별시 서대문구 천연동에서 36개의 이상치를 찾아서 제거했습니다.\n",
      "서울특별시 서대문구 충정로2가에서 7개의 이상치를 찾아서 제거했습니다.\n",
      "서울특별시 서대문구 충정로3가에서 14개의 이상치를 찾아서 제거했습니다.\n",
      "서울특별시 서대문구 합동에서 5개의 이상치를 찾아서 제거했습니다.\n",
      "서울특별시 서대문구 현저동에서 120개의 이상치를 찾아서 제거했습니다.\n",
      "서울특별시 서대문구 홍은동에서 225개의 이상치를 찾아서 제거했습니다.\n",
      "서울특별시 서대문구 홍제동에서 367개의 이상치를 찾아서 제거했습니다.\n",
      "서울특별시 서초구 반포동에서 39개의 이상치를 찾아서 제거했습니다.\n",
      "서울특별시 서초구 방배동에서 336개의 이상치를 찾아서 제거했습니다.\n",
      "서울특별시 서초구 서초동에서 568개의 이상치를 찾아서 제거했습니다.\n",
      "서울특별시 서초구 신원동에서 0개의 이상치를 찾아서 제거했습니다.\n",
      "서울특별시 서초구 양재동에서 89개의 이상치를 찾아서 제거했습니다.\n",
      "서울특별시 서초구 우면동에서 26개의 이상치를 찾아서 제거했습니다.\n",
      "서울특별시 서초구 잠원동에서 1061개의 이상치를 찾아서 제거했습니다.\n",
      "서울특별시 성동구 금호동1가에서 183개의 이상치를 찾아서 제거했습니다.\n",
      "서울특별시 성동구 금호동2가에서 9개의 이상치를 찾아서 제거했습니다.\n",
      "서울특별시 성동구 금호동3가에서 21개의 이상치를 찾아서 제거했습니다.\n",
      "서울특별시 성동구 금호동4가에서 62개의 이상치를 찾아서 제거했습니다.\n",
      "서울특별시 성동구 도선동에서 21개의 이상치를 찾아서 제거했습니다.\n",
      "서울특별시 성동구 마장동에서 122개의 이상치를 찾아서 제거했습니다.\n",
      "서울특별시 성동구 사근동에서 0개의 이상치를 찾아서 제거했습니다.\n",
      "서울특별시 성동구 성수동1가에서 115개의 이상치를 찾아서 제거했습니다.\n",
      "서울특별시 성동구 성수동2가에서 77개의 이상치를 찾아서 제거했습니다.\n",
      "서울특별시 성동구 송정동에서 16개의 이상치를 찾아서 제거했습니다.\n",
      "서울특별시 성동구 옥수동에서 13개의 이상치를 찾아서 제거했습니다.\n",
      "서울특별시 성동구 용답동에서 9개의 이상치를 찾아서 제거했습니다.\n",
      "서울특별시 성동구 응봉동에서 153개의 이상치를 찾아서 제거했습니다.\n",
      "서울특별시 성동구 하왕십리동에서 1개의 이상치를 찾아서 제거했습니다.\n",
      "서울특별시 성동구 행당동에서 244개의 이상치를 찾아서 제거했습니다.\n",
      "서울특별시 성동구 홍익동에서 23개의 이상치를 찾아서 제거했습니다.\n",
      "서울특별시 성북구 길음동에서 348개의 이상치를 찾아서 제거했습니다.\n",
      "서울특별시 성북구 돈암동에서 313개의 이상치를 찾아서 제거했습니다.\n",
      "서울특별시 성북구 동선동1가에서 4개의 이상치를 찾아서 제거했습니다.\n",
      "서울특별시 성북구 동선동3가에서 2개의 이상치를 찾아서 제거했습니다.\n",
      "서울특별시 성북구 동선동4가에서 2개의 이상치를 찾아서 제거했습니다.\n",
      "서울특별시 성북구 동소문동4가에서 3개의 이상치를 찾아서 제거했습니다.\n",
      "서울특별시 성북구 동소문동5가에서 25개의 이상치를 찾아서 제거했습니다.\n",
      "서울특별시 성북구 동소문동7가에서 13개의 이상치를 찾아서 제거했습니다.\n",
      "서울특별시 성북구 보문동2가에서 0개의 이상치를 찾아서 제거했습니다.\n",
      "서울특별시 성북구 보문동3가에서 33개의 이상치를 찾아서 제거했습니다.\n",
      "서울특별시 성북구 보문동4가에서 3개의 이상치를 찾아서 제거했습니다.\n",
      "서울특별시 성북구 보문동6가에서 0개의 이상치를 찾아서 제거했습니다.\n",
      "서울특별시 성북구 삼선동2가에서 24개의 이상치를 찾아서 제거했습니다.\n",
      "서울특별시 성북구 삼선동3가에서 27개의 이상치를 찾아서 제거했습니다.\n",
      "서울특별시 성북구 삼선동4가에서 23개의 이상치를 찾아서 제거했습니다.\n",
      "서울특별시 성북구 상월곡동에서 39개의 이상치를 찾아서 제거했습니다.\n",
      "서울특별시 성북구 석관동에서 105개의 이상치를 찾아서 제거했습니다.\n",
      "서울특별시 성북구 성북동에서 3개의 이상치를 찾아서 제거했습니다.\n",
      "서울특별시 성북구 안암동1가에서 42개의 이상치를 찾아서 제거했습니다.\n",
      "서울특별시 성북구 안암동3가에서 3개의 이상치를 찾아서 제거했습니다.\n",
      "서울특별시 성북구 안암동4가에서 0개의 이상치를 찾아서 제거했습니다.\n",
      "서울특별시 성북구 장위동에서 56개의 이상치를 찾아서 제거했습니다.\n",
      "서울특별시 성북구 정릉동에서 340개의 이상치를 찾아서 제거했습니다.\n",
      "서울특별시 성북구 종암동에서 271개의 이상치를 찾아서 제거했습니다.\n",
      "서울특별시 성북구 하월곡동에서 211개의 이상치를 찾아서 제거했습니다.\n",
      "서울특별시 송파구 가락동에서 26개의 이상치를 찾아서 제거했습니다.\n",
      "서울특별시 송파구 거여동에서 280개의 이상치를 찾아서 제거했습니다.\n",
      "서울특별시 송파구 마천동에서 76개의 이상치를 찾아서 제거했습니다.\n",
      "서울특별시 송파구 문정동에서 100개의 이상치를 찾아서 제거했습니다.\n",
      "서울특별시 송파구 방이동에서 89개의 이상치를 찾아서 제거했습니다.\n",
      "서울특별시 송파구 삼전동에서 2개의 이상치를 찾아서 제거했습니다.\n",
      "서울특별시 송파구 석촌동에서 12개의 이상치를 찾아서 제거했습니다.\n",
      "서울특별시 송파구 송파동에서 134개의 이상치를 찾아서 제거했습니다.\n",
      "서울특별시 송파구 신천동에서 797개의 이상치를 찾아서 제거했습니다.\n",
      "서울특별시 송파구 오금동에서 181개의 이상치를 찾아서 제거했습니다.\n",
      "서울특별시 송파구 잠실동에서 235개의 이상치를 찾아서 제거했습니다.\n",
      "서울특별시 송파구 장지동에서 5개의 이상치를 찾아서 제거했습니다.\n",
      "서울특별시 송파구 풍납동에서 394개의 이상치를 찾아서 제거했습니다.\n",
      "서울특별시 양천구 목동에서 164개의 이상치를 찾아서 제거했습니다.\n",
      "서울특별시 양천구 신월동에서 418개의 이상치를 찾아서 제거했습니다.\n",
      "서울특별시 양천구 신정동에서 126개의 이상치를 찾아서 제거했습니다.\n",
      "서울특별시 영등포구 당산동에서 116개의 이상치를 찾아서 제거했습니다.\n",
      "서울특별시 영등포구 당산동1가에서 19개의 이상치를 찾아서 제거했습니다.\n",
      "서울특별시 영등포구 당산동2가에서 54개의 이상치를 찾아서 제거했습니다.\n",
      "서울특별시 영등포구 당산동3가에서 0개의 이상치를 찾아서 제거했습니다.\n",
      "서울특별시 영등포구 당산동4가에서 49개의 이상치를 찾아서 제거했습니다.\n",
      "서울특별시 영등포구 당산동5가에서 161개의 이상치를 찾아서 제거했습니다.\n",
      "서울특별시 영등포구 당산동6가에서 0개의 이상치를 찾아서 제거했습니다.\n",
      "서울특별시 영등포구 대림동에서 180개의 이상치를 찾아서 제거했습니다.\n",
      "서울특별시 영등포구 도림동에서 3개의 이상치를 찾아서 제거했습니다.\n",
      "서울특별시 영등포구 문래동2가에서 17개의 이상치를 찾아서 제거했습니다.\n",
      "서울특별시 영등포구 문래동3가에서 90개의 이상치를 찾아서 제거했습니다.\n",
      "서울특별시 영등포구 문래동4가에서 47개의 이상치를 찾아서 제거했습니다.\n",
      "서울특별시 영등포구 문래동5가에서 88개의 이상치를 찾아서 제거했습니다.\n",
      "서울특별시 영등포구 문래동6가에서 94개의 이상치를 찾아서 제거했습니다.\n",
      "서울특별시 영등포구 신길동에서 335개의 이상치를 찾아서 제거했습니다.\n",
      "서울특별시 영등포구 양평동1가에서 12개의 이상치를 찾아서 제거했습니다.\n",
      "서울특별시 영등포구 양평동2가에서 64개의 이상치를 찾아서 제거했습니다.\n",
      "서울특별시 영등포구 양평동3가에서 186개의 이상치를 찾아서 제거했습니다.\n",
      "서울특별시 영등포구 양평동4가에서 50개의 이상치를 찾아서 제거했습니다.\n",
      "서울특별시 영등포구 양평동5가에서 117개의 이상치를 찾아서 제거했습니다.\n",
      "서울특별시 영등포구 양평동6가에서 23개의 이상치를 찾아서 제거했습니다.\n",
      "서울특별시 영등포구 여의도동에서 169개의 이상치를 찾아서 제거했습니다.\n",
      "서울특별시 영등포구 영등포동에서 439개의 이상치를 찾아서 제거했습니다.\n"
     ]
    },
    {
     "name": "stdout",
     "output_type": "stream",
     "text": [
      "서울특별시 영등포구 영등포동1가에서 0개의 이상치를 찾아서 제거했습니다.\n",
      "서울특별시 영등포구 영등포동2가에서 6개의 이상치를 찾아서 제거했습니다.\n",
      "서울특별시 영등포구 영등포동4가에서 0개의 이상치를 찾아서 제거했습니다.\n",
      "서울특별시 영등포구 영등포동5가에서 1개의 이상치를 찾아서 제거했습니다.\n",
      "서울특별시 영등포구 영등포동7가에서 93개의 이상치를 찾아서 제거했습니다.\n",
      "서울특별시 영등포구 영등포동8가에서 28개의 이상치를 찾아서 제거했습니다.\n",
      "서울특별시 용산구 도원동에서 170개의 이상치를 찾아서 제거했습니다.\n",
      "서울특별시 용산구 동빙고동에서 4개의 이상치를 찾아서 제거했습니다.\n",
      "서울특별시 용산구 동자동에서 17개의 이상치를 찾아서 제거했습니다.\n",
      "서울특별시 용산구 문배동에서 4개의 이상치를 찾아서 제거했습니다.\n",
      "서울특별시 용산구 보광동에서 26개의 이상치를 찾아서 제거했습니다.\n",
      "서울특별시 용산구 산천동에서 108개의 이상치를 찾아서 제거했습니다.\n",
      "서울특별시 용산구 서빙고동에서 33개의 이상치를 찾아서 제거했습니다.\n",
      "서울특별시 용산구 신계동에서 30개의 이상치를 찾아서 제거했습니다.\n",
      "서울특별시 용산구 신창동에서 13개의 이상치를 찾아서 제거했습니다.\n",
      "서울특별시 용산구 용문동에서 20개의 이상치를 찾아서 제거했습니다.\n",
      "서울특별시 용산구 용산동2가에서 3개의 이상치를 찾아서 제거했습니다.\n",
      "서울특별시 용산구 용산동5가에서 1개의 이상치를 찾아서 제거했습니다.\n",
      "서울특별시 용산구 원효로1가에서 7개의 이상치를 찾아서 제거했습니다.\n",
      "서울특별시 용산구 원효로4가에서 24개의 이상치를 찾아서 제거했습니다.\n",
      "서울특별시 용산구 이촌동에서 334개의 이상치를 찾아서 제거했습니다.\n",
      "서울특별시 용산구 이태원동에서 37개의 이상치를 찾아서 제거했습니다.\n",
      "서울특별시 용산구 청암동에서 3개의 이상치를 찾아서 제거했습니다.\n",
      "서울특별시 용산구 청파동1가에서 0개의 이상치를 찾아서 제거했습니다.\n",
      "서울특별시 용산구 한강로1가에서 12개의 이상치를 찾아서 제거했습니다.\n",
      "서울특별시 용산구 한강로2가에서 4개의 이상치를 찾아서 제거했습니다.\n",
      "서울특별시 용산구 한강로3가에서 38개의 이상치를 찾아서 제거했습니다.\n",
      "서울특별시 용산구 한남동에서 9개의 이상치를 찾아서 제거했습니다.\n",
      "서울특별시 용산구 효창동에서 4개의 이상치를 찾아서 제거했습니다.\n",
      "서울특별시 용산구 후암동에서 5개의 이상치를 찾아서 제거했습니다.\n",
      "서울특별시 은평구 갈현동에서 53개의 이상치를 찾아서 제거했습니다.\n",
      "서울특별시 은평구 구산동에서 71개의 이상치를 찾아서 제거했습니다.\n",
      "서울특별시 은평구 녹번동에서 4개의 이상치를 찾아서 제거했습니다.\n",
      "서울특별시 은평구 대조동에서 1개의 이상치를 찾아서 제거했습니다.\n",
      "서울특별시 은평구 불광동에서 32개의 이상치를 찾아서 제거했습니다.\n",
      "서울특별시 은평구 수색동에서 67개의 이상치를 찾아서 제거했습니다.\n",
      "서울특별시 은평구 신사동에서 168개의 이상치를 찾아서 제거했습니다.\n",
      "서울특별시 은평구 역촌동에서 39개의 이상치를 찾아서 제거했습니다.\n",
      "서울특별시 은평구 응암동에서 41개의 이상치를 찾아서 제거했습니다.\n",
      "서울특별시 은평구 증산동에서 18개의 이상치를 찾아서 제거했습니다.\n",
      "서울특별시 은평구 진관동에서 326개의 이상치를 찾아서 제거했습니다.\n",
      "서울특별시 종로구 교북동에서 0개의 이상치를 찾아서 제거했습니다.\n",
      "서울특별시 종로구 구기동에서 1개의 이상치를 찾아서 제거했습니다.\n",
      "서울특별시 종로구 낙원동에서 0개의 이상치를 찾아서 제거했습니다.\n",
      "서울특별시 종로구 내수동에서 18개의 이상치를 찾아서 제거했습니다.\n",
      "서울특별시 종로구 당주동에서 4개의 이상치를 찾아서 제거했습니다.\n",
      "서울특별시 종로구 명륜1가에서 3개의 이상치를 찾아서 제거했습니다.\n",
      "서울특별시 종로구 명륜2가에서 21개의 이상치를 찾아서 제거했습니다.\n",
      "서울특별시 종로구 명륜3가에서 0개의 이상치를 찾아서 제거했습니다.\n",
      "서울특별시 종로구 무악동에서 53개의 이상치를 찾아서 제거했습니다.\n",
      "서울특별시 종로구 사직동에서 12개의 이상치를 찾아서 제거했습니다.\n",
      "서울특별시 종로구 수송동에서 0개의 이상치를 찾아서 제거했습니다.\n",
      "서울특별시 종로구 숭인동에서 67개의 이상치를 찾아서 제거했습니다.\n",
      "서울특별시 종로구 신교동에서 0개의 이상치를 찾아서 제거했습니다.\n",
      "서울특별시 종로구 신영동에서 1개의 이상치를 찾아서 제거했습니다.\n",
      "서울특별시 종로구 익선동에서 1개의 이상치를 찾아서 제거했습니다.\n",
      "서울특별시 종로구 인의동에서 1개의 이상치를 찾아서 제거했습니다.\n",
      "서울특별시 종로구 창신동에서 33개의 이상치를 찾아서 제거했습니다.\n",
      "서울특별시 종로구 청운동에서 6개의 이상치를 찾아서 제거했습니다.\n",
      "서울특별시 종로구 통인동에서 0개의 이상치를 찾아서 제거했습니다.\n",
      "서울특별시 종로구 평창동에서 3개의 이상치를 찾아서 제거했습니다.\n",
      "서울특별시 종로구 필운동에서 2개의 이상치를 찾아서 제거했습니다.\n",
      "서울특별시 종로구 혜화동에서 0개의 이상치를 찾아서 제거했습니다.\n",
      "서울특별시 중구 남대문로5가에서 4개의 이상치를 찾아서 제거했습니다.\n",
      "서울특별시 중구 남산동2가에서 0개의 이상치를 찾아서 제거했습니다.\n",
      "서울특별시 중구 만리동1가에서 1개의 이상치를 찾아서 제거했습니다.\n",
      "서울특별시 중구 만리동2가에서 0개의 이상치를 찾아서 제거했습니다.\n",
      "서울특별시 중구 묵정동에서 3개의 이상치를 찾아서 제거했습니다.\n",
      "서울특별시 중구 산림동에서 0개의 이상치를 찾아서 제거했습니다.\n",
      "서울특별시 중구 순화동에서 0개의 이상치를 찾아서 제거했습니다.\n",
      "서울특별시 중구 신당동에서 458개의 이상치를 찾아서 제거했습니다.\n",
      "서울특별시 중구 예장동에서 2개의 이상치를 찾아서 제거했습니다.\n",
      "서울특별시 중구 을지로5가에서 5개의 이상치를 찾아서 제거했습니다.\n",
      "서울특별시 중구 인현동2가에서 2개의 이상치를 찾아서 제거했습니다.\n",
      "서울특별시 중구 장충동2가에서 0개의 이상치를 찾아서 제거했습니다.\n",
      "서울특별시 중구 정동에서 2개의 이상치를 찾아서 제거했습니다.\n",
      "서울특별시 중구 중림동에서 69개의 이상치를 찾아서 제거했습니다.\n",
      "서울특별시 중구 충무로4가에서 0개의 이상치를 찾아서 제거했습니다.\n",
      "서울특별시 중구 황학동에서 15개의 이상치를 찾아서 제거했습니다.\n",
      "서울특별시 중구 회현동1가에서 94개의 이상치를 찾아서 제거했습니다.\n",
      "서울특별시 중구 회현동2가에서 4개의 이상치를 찾아서 제거했습니다.\n",
      "서울특별시 중구 흥인동에서 3개의 이상치를 찾아서 제거했습니다.\n",
      "서울특별시 중랑구 망우동에서 55개의 이상치를 찾아서 제거했습니다.\n",
      "서울특별시 중랑구 면목동에서 337개의 이상치를 찾아서 제거했습니다.\n",
      "서울특별시 중랑구 묵동에서 249개의 이상치를 찾아서 제거했습니다.\n",
      "서울특별시 중랑구 상봉동에서 106개의 이상치를 찾아서 제거했습니다.\n",
      "서울특별시 중랑구 신내동에서 374개의 이상치를 찾아서 제거했습니다.\n",
      "서울특별시 중랑구 중화동에서 98개의 이상치를 찾아서 제거했습니다.\n",
      "서울특별시 강남구 율현동에서 0개의 이상치를 찾아서 제거했습니다.\n",
      "서울특별시 강남구 자곡동에서 0개의 이상치를 찾아서 제거했습니다.\n",
      "서울특별시 서초구 내곡동에서 4개의 이상치를 찾아서 제거했습니다.\n",
      "서울특별시 성동구 상왕십리동에서 2개의 이상치를 찾아서 제거했습니다.\n",
      "서울특별시 성북구 삼선동5가에서 0개의 이상치를 찾아서 제거했습니다.\n",
      "서울특별시 성북구 성북동1가에서 0개의 이상치를 찾아서 제거했습니다.\n",
      "서울특별시 영등포구 영등포동3가에서 0개의 이상치를 찾아서 제거했습니다.\n",
      "서울특별시 용산구 갈월동에서 1개의 이상치를 찾아서 제거했습니다.\n",
      "서울특별시 용산구 원효로2가에서 0개의 이상치를 찾아서 제거했습니다.\n",
      "서울특별시 용산구 청파동3가에서 0개의 이상치를 찾아서 제거했습니다.\n",
      "서울특별시 종로구 동숭동에서 0개의 이상치를 찾아서 제거했습니다.\n",
      "서울특별시 종로구 부암동에서 0개의 이상치를 찾아서 제거했습니다.\n",
      "서울특별시 종로구 신문로1가에서 0개의 이상치를 찾아서 제거했습니다.\n",
      "서울특별시 종로구 연건동에서 8개의 이상치를 찾아서 제거했습니다.\n",
      "서울특별시 종로구 옥인동에서 6개의 이상치를 찾아서 제거했습니다.\n",
      "서울특별시 종로구 이화동에서 0개의 이상치를 찾아서 제거했습니다.\n",
      "서울특별시 종로구 충신동에서 0개의 이상치를 찾아서 제거했습니다.\n",
      "서울특별시 종로구 행촌동에서 1개의 이상치를 찾아서 제거했습니다.\n",
      "서울특별시 중구 남창동에서 0개의 이상치를 찾아서 제거했습니다.\n",
      "서울특별시 중구 오장동에서 8개의 이상치를 찾아서 제거했습니다.\n",
      "서울특별시 중구 필동3가에서 2개의 이상치를 찾아서 제거했습니다.\n",
      "서울특별시 성북구 동선동5가에서 1개의 이상치를 찾아서 제거했습니다.\n",
      "서울특별시 성북구 동소문동6가에서 0개의 이상치를 찾아서 제거했습니다.\n",
      "서울특별시 용산구 원효로3가에서 0개의 이상치를 찾아서 제거했습니다.\n",
      "서울특별시 종로구 견지동에서 1개의 이상치를 찾아서 제거했습니다.\n",
      "서울특별시 중구 장충동1가에서 0개의 이상치를 찾아서 제거했습니다.\n",
      "서울특별시 중구 충무로5가에서 0개의 이상치를 찾아서 제거했습니다.\n",
      "서울특별시 중구 필동1가에서 1개의 이상치를 찾아서 제거했습니다.\n",
      "서울특별시 마포구 구수동에서 0개의 이상치를 찾아서 제거했습니다.\n",
      "서울특별시 용산구 주성동에서 0개의 이상치를 찾아서 제거했습니다.\n",
      "서울특별시 종로구 교남동에서 0개의 이상치를 찾아서 제거했습니다.\n",
      "서울특별시 종로구 홍파동에서 6개의 이상치를 찾아서 제거했습니다.\n",
      "서울특별시 종로구 효제동에서 0개의 이상치를 찾아서 제거했습니다.\n",
      "서울특별시 종로구 누상동에서 0개의 이상치를 찾아서 제거했습니다.\n",
      "서울특별시 종로구 평동에서 1개의 이상치를 찾아서 제거했습니다.\n",
      "서울특별시 종로구 연지동에서 0개의 이상치를 찾아서 제거했습니다.\n",
      "서울특별시 종로구 원남동에서 0개의 이상치를 찾아서 제거했습니다.\n",
      "총 38061개의 이상치를 찾아서 제거했습니다.\n"
     ]
    }
   ],
   "source": [
    "prac_df = find_and_remove_Tukey_outliers_price_per_area_log_per_dong(apart_trade_df)"
   ]
  },
  {
   "cell_type": "code",
   "execution_count": 78,
   "metadata": {},
   "outputs": [
    {
     "data": {
      "text/plain": [
       "<AxesSubplot:>"
      ]
     },
     "execution_count": 78,
     "metadata": {},
     "output_type": "execute_result"
    },
    {
     "data": {
      "image/png": "[encoded data removed]",
      "text/plain": [
       "<Figure size 432x288 with 1 Axes>"
      ]
     },
     "metadata": {
      "needs_background": "light"
     },
     "output_type": "display_data"
    }
   ],
   "source": [
    "apart_trade_df['target/area_log_transformed'].hist(bins=100)"
   ]
  },
  {
   "cell_type": "code",
   "execution_count": 79,
   "metadata": {},
   "outputs": [
    {
     "data": {
      "text/plain": [
       "<AxesSubplot:>"
      ]
     },
     "execution_count": 79,
     "metadata": {},
     "output_type": "execute_result"
    },
    {
     "data": {
      "image/png": "[encoded data removed]",
      "text/plain": [
       "<Figure size 432x288 with 1 Axes>"
      ]
     },
     "metadata": {
      "needs_background": "light"
     },
     "output_type": "display_data"
    }
   ],
   "source": [
    "prac_df['target/area_log_transformed'].hist(bins=100)"
   ]
  },
  {
   "cell_type": "code",
   "execution_count": 80,
   "metadata": {},
   "outputs": [
    {
     "data": {
      "text/plain": [
       "count    1.168192e+06\n",
       "mean     5.231642e+04\n",
       "std      4.018041e+04\n",
       "min      3.500000e+02\n",
       "25%      2.800000e+04\n",
       "50%      4.130000e+04\n",
       "75%      6.300000e+04\n",
       "max      8.400000e+05\n",
       "Name: 거래금액(만원), dtype: float64"
      ]
     },
     "execution_count": 80,
     "metadata": {},
     "output_type": "execute_result"
    }
   ],
   "source": [
    "apart_trade_df['거래금액(만원)'].describe()"
   ]
  },
  {
   "cell_type": "code",
   "execution_count": 81,
   "metadata": {},
   "outputs": [
    {
     "data": {
      "text/plain": [
       "count    1.130131e+06\n",
       "mean     5.189409e+04\n",
       "std      3.935123e+04\n",
       "min      3.400000e+03\n",
       "25%      2.840000e+04\n",
       "50%      4.100000e+04\n",
       "75%      6.200000e+04\n",
       "max      8.400000e+05\n",
       "Name: 거래금액(만원), dtype: float64"
      ]
     },
     "execution_count": 81,
     "metadata": {},
     "output_type": "execute_result"
    }
   ],
   "source": [
    "prac_df['거래금액(만원)'].describe()"
   ]
  },
  {
   "cell_type": "code",
   "execution_count": 82,
   "metadata": {},
   "outputs": [
    {
     "data": {
      "text/plain": [
       "<AxesSubplot:>"
      ]
     },
     "execution_count": 82,
     "metadata": {},
     "output_type": "execute_result"
    },
    {
     "data": {
      "image/png": "[encoded data removed]",
      "text/plain": [
       "<Figure size 432x288 with 1 Axes>"
      ]
     },
     "metadata": {
      "needs_background": "light"
     },
     "output_type": "display_data"
    }
   ],
   "source": [
    "apart_trade_df['거래금액(만원)'].hist(bins=100)"
   ]
  },
  {
   "cell_type": "code",
   "execution_count": 83,
   "metadata": {},
   "outputs": [
    {
     "data": {
      "text/plain": [
       "<AxesSubplot:>"
      ]
     },
     "execution_count": 83,
     "metadata": {},
     "output_type": "execute_result"
    },
    {
     "data": {
      "image/png": "[encoded data removed]",
      "text/plain": [
       "<Figure size 432x288 with 1 Axes>"
      ]
     },
     "metadata": {
      "needs_background": "light"
     },
     "output_type": "display_data"
    }
   ],
   "source": [
    "prac_df['거래금액(만원)'].hist(bins=100)"
   ]
  },
  {
   "cell_type": "code",
   "execution_count": 84,
   "metadata": {},
   "outputs": [
    {
     "data": {
      "text/html": [
       "<div>\n",
       "<style scoped>\n",
       "    .dataframe tbody tr th:only-of-type {\n",
       "        vertical-align: middle;\n",
       "    }\n",
       "\n",
       "    .dataframe tbody tr th {\n",
       "        vertical-align: top;\n",
       "    }\n",
       "\n",
       "    .dataframe thead th {\n",
       "        text-align: right;\n",
       "    }\n",
       "</style>\n",
       "<table border=\"1\" class=\"dataframe\">\n",
       "  <thead>\n",
       "    <tr style=\"text-align: right;\">\n",
       "      <th></th>\n",
       "      <th>시군구</th>\n",
       "      <th>번지</th>\n",
       "      <th>본번</th>\n",
       "      <th>부번</th>\n",
       "      <th>단지명</th>\n",
       "      <th>전용면적(㎡)</th>\n",
       "      <th>계약년월</th>\n",
       "      <th>계약일</th>\n",
       "      <th>거래금액(만원)</th>\n",
       "      <th>층</th>\n",
       "      <th>건축년도</th>\n",
       "      <th>도로명</th>\n",
       "      <th>가격/면적</th>\n",
       "      <th>year</th>\n",
       "      <th>month</th>\n",
       "      <th>시</th>\n",
       "      <th>구</th>\n",
       "      <th>target_log_transformed</th>\n",
       "      <th>target/area_log_transformed</th>\n",
       "      <th>가격log/면적</th>\n",
       "    </tr>\n",
       "  </thead>\n",
       "  <tbody>\n",
       "    <tr>\n",
       "      <th>0</th>\n",
       "      <td>서울특별시 강남구 개포동</td>\n",
       "      <td>655-2</td>\n",
       "      <td>655</td>\n",
       "      <td>2</td>\n",
       "      <td>개포2차현대아파트(220)</td>\n",
       "      <td>77.75</td>\n",
       "      <td>201309</td>\n",
       "      <td>8</td>\n",
       "      <td>57000</td>\n",
       "      <td>2</td>\n",
       "      <td>1988</td>\n",
       "      <td>언주로 103</td>\n",
       "      <td>733.118971</td>\n",
       "      <td>2013</td>\n",
       "      <td>9</td>\n",
       "      <td>서울특별시</td>\n",
       "      <td>강남구</td>\n",
       "      <td>10.950807</td>\n",
       "      <td>6.597308</td>\n",
       "      <td>0.140846</td>\n",
       "    </tr>\n",
       "    <tr>\n",
       "      <th>1</th>\n",
       "      <td>서울특별시 강남구 개포동</td>\n",
       "      <td>655-2</td>\n",
       "      <td>655</td>\n",
       "      <td>2</td>\n",
       "      <td>개포2차현대아파트(220)</td>\n",
       "      <td>77.75</td>\n",
       "      <td>201312</td>\n",
       "      <td>16</td>\n",
       "      <td>57000</td>\n",
       "      <td>2</td>\n",
       "      <td>1988</td>\n",
       "      <td>언주로 103</td>\n",
       "      <td>733.118971</td>\n",
       "      <td>2013</td>\n",
       "      <td>12</td>\n",
       "      <td>서울특별시</td>\n",
       "      <td>강남구</td>\n",
       "      <td>10.950807</td>\n",
       "      <td>6.597308</td>\n",
       "      <td>0.140846</td>\n",
       "    </tr>\n",
       "    <tr>\n",
       "      <th>2</th>\n",
       "      <td>서울특별시 강남구 개포동</td>\n",
       "      <td>658-1</td>\n",
       "      <td>658</td>\n",
       "      <td>1</td>\n",
       "      <td>개포6차우성아파트1동~8동</td>\n",
       "      <td>67.28</td>\n",
       "      <td>201302</td>\n",
       "      <td>11</td>\n",
       "      <td>55000</td>\n",
       "      <td>5</td>\n",
       "      <td>1987</td>\n",
       "      <td>언주로 3</td>\n",
       "      <td>817.479191</td>\n",
       "      <td>2013</td>\n",
       "      <td>2</td>\n",
       "      <td>서울특별시</td>\n",
       "      <td>강남구</td>\n",
       "      <td>10.915088</td>\n",
       "      <td>6.706225</td>\n",
       "      <td>0.162234</td>\n",
       "    </tr>\n",
       "    <tr>\n",
       "      <th>3</th>\n",
       "      <td>서울특별시 강남구 개포동</td>\n",
       "      <td>658-1</td>\n",
       "      <td>658</td>\n",
       "      <td>1</td>\n",
       "      <td>개포6차우성아파트1동~8동</td>\n",
       "      <td>67.28</td>\n",
       "      <td>201302</td>\n",
       "      <td>22</td>\n",
       "      <td>58250</td>\n",
       "      <td>4</td>\n",
       "      <td>1987</td>\n",
       "      <td>언주로 3</td>\n",
       "      <td>865.784780</td>\n",
       "      <td>2013</td>\n",
       "      <td>2</td>\n",
       "      <td>서울특별시</td>\n",
       "      <td>강남구</td>\n",
       "      <td>10.972499</td>\n",
       "      <td>6.763636</td>\n",
       "      <td>0.163087</td>\n",
       "    </tr>\n",
       "    <tr>\n",
       "      <th>4</th>\n",
       "      <td>서울특별시 강남구 개포동</td>\n",
       "      <td>658-1</td>\n",
       "      <td>658</td>\n",
       "      <td>1</td>\n",
       "      <td>개포6차우성아파트1동~8동</td>\n",
       "      <td>67.28</td>\n",
       "      <td>201305</td>\n",
       "      <td>10</td>\n",
       "      <td>60000</td>\n",
       "      <td>5</td>\n",
       "      <td>1987</td>\n",
       "      <td>언주로 3</td>\n",
       "      <td>891.795482</td>\n",
       "      <td>2013</td>\n",
       "      <td>5</td>\n",
       "      <td>서울특별시</td>\n",
       "      <td>강남구</td>\n",
       "      <td>11.002100</td>\n",
       "      <td>6.793237</td>\n",
       "      <td>0.163527</td>\n",
       "    </tr>\n",
       "  </tbody>\n",
       "</table>\n",
       "</div>"
      ],
      "text/plain": [
       "             시군구     번지   본번  부번             단지명  전용면적(㎡)    계약년월  계약일  \\\n",
       "0  서울특별시 강남구 개포동  655-2  655   2  개포2차현대아파트(220)    77.75  201309    8   \n",
       "1  서울특별시 강남구 개포동  655-2  655   2  개포2차현대아파트(220)    77.75  201312   16   \n",
       "2  서울특별시 강남구 개포동  658-1  658   1  개포6차우성아파트1동~8동    67.28  201302   11   \n",
       "3  서울특별시 강남구 개포동  658-1  658   1  개포6차우성아파트1동~8동    67.28  201302   22   \n",
       "4  서울특별시 강남구 개포동  658-1  658   1  개포6차우성아파트1동~8동    67.28  201305   10   \n",
       "\n",
       "   거래금액(만원)  층  건축년도      도로명       가격/면적  year  month      시    구  \\\n",
       "0     57000  2  1988  언주로 103  733.118971  2013      9  서울특별시  강남구   \n",
       "1     57000  2  1988  언주로 103  733.118971  2013     12  서울특별시  강남구   \n",
       "2     55000  5  1987    언주로 3  817.479191  2013      2  서울특별시  강남구   \n",
       "3     58250  4  1987    언주로 3  865.784780  2013      2  서울특별시  강남구   \n",
       "4     60000  5  1987    언주로 3  891.795482  2013      5  서울특별시  강남구   \n",
       "\n",
       "   target_log_transformed  target/area_log_transformed  가격log/면적  \n",
       "0               10.950807                     6.597308  0.140846  \n",
       "1               10.950807                     6.597308  0.140846  \n",
       "2               10.915088                     6.706225  0.162234  \n",
       "3               10.972499                     6.763636  0.163087  \n",
       "4               11.002100                     6.793237  0.163527  "
      ]
     },
     "execution_count": 84,
     "metadata": {},
     "output_type": "execute_result"
    }
   ],
   "source": [
    "apart_trade_df.head()"
   ]
  },
  {
   "cell_type": "code",
   "execution_count": null,
   "metadata": {},
   "outputs": [],
   "source": []
  },
  {
   "cell_type": "code",
   "execution_count": null,
   "metadata": {},
   "outputs": [],
   "source": []
  },
  {
   "cell_type": "code",
   "execution_count": null,
   "metadata": {},
   "outputs": [],
   "source": []
  },
  {
   "cell_type": "code",
   "execution_count": null,
   "metadata": {},
   "outputs": [],
   "source": []
  },
  {
   "cell_type": "code",
   "execution_count": null,
   "metadata": {},
   "outputs": [],
   "source": []
  },
  {
   "cell_type": "code",
   "execution_count": null,
   "metadata": {},
   "outputs": [],
   "source": []
  },
  {
   "cell_type": "code",
   "execution_count": null,
   "metadata": {},
   "outputs": [],
   "source": [
    "apart_trade_df = find_and_remove_Tukey_outliers_price(apart_trade_df)\n",
    "multiplex_trade_df = find_and_remove_Tukey_outliers_price(multiplex_trade_df)\n",
    "officetel_trade_df = find_and_remove_Tukey_outliers_price(officetel_trade_df)"
   ]
  },
  {
   "cell_type": "code",
   "execution_count": null,
   "metadata": {},
   "outputs": [],
   "source": [
    "apart_lease_deposit_only_df = find_and_remove_Tukey_outliers_price(apart_lease_deposit_only_df, mode='lease')\n",
    "apart_lease_monthly_pay_df = find_and_remove_Tukey_outliers_price(apart_lease_monthly_pay_df, mode='lease')\n",
    "multiplex_lease_deposit_only_df = find_and_remove_Tukey_outliers_price(multiplex_lease_deposit_only_df, mode='lease')\n",
    "multiplex_lease_monthly_pay_df = find_and_remove_Tukey_outliers_price(multiplex_lease_monthly_pay_df, mode='lease')\n",
    "officetel_lease_deposit_only_df = find_and_remove_Tukey_outliers_price(officetel_lease_deposit_only_df, mode='lease')\n",
    "officetel_lease_monthly_pay_df = find_and_remove_Tukey_outliers_price(officetel_lease_monthly_pay_df, mode='lease')"
   ]
  },
  {
   "cell_type": "code",
   "execution_count": null,
   "metadata": {},
   "outputs": [],
   "source": []
  },
  {
   "cell_type": "code",
   "execution_count": null,
   "metadata": {},
   "outputs": [],
   "source": []
  },
  {
   "cell_type": "code",
   "execution_count": null,
   "metadata": {},
   "outputs": [],
   "source": []
  },
  {
   "cell_type": "code",
   "execution_count": null,
   "metadata": {},
   "outputs": [],
   "source": []
  },
  {
   "cell_type": "code",
   "execution_count": null,
   "metadata": {},
   "outputs": [],
   "source": []
  }
 ],
 "metadata": {
  "kernelspec": {
   "display_name": "Python 3",
   "language": "python",
   "name": "python3"
  },
  "language_info": {
   "codemirror_mode": {
    "name": "ipython",
    "version": 3
   },
   "file_extension": ".py",
   "mimetype": "text/x-python",
   "name": "python",
   "nbconvert_exporter": "python",
   "pygments_lexer": "ipython3",
   "version": "3.7.9"
  }
 },
 "nbformat": 4,
 "nbformat_minor": 4
}
