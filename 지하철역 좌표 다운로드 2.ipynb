{
 "cells": [
  {
   "cell_type": "code",
   "execution_count": 1,
   "metadata": {},
   "outputs": [],
   "source": [
    "import numpy as np\n",
    "import pandas as pd\n",
    "import matplotlib.pyplot as plt\n",
    "import os\n",
    "import math\n",
    "from tqdm import tqdm\n",
    "import requests\n",
    "from urllib.parse import urlparse\n",
    "pd.set_option('display.max_rows', 500)\n",
    "pd.set_option('display.max_columns', 500)\n",
    "import datetime\n",
    "from sklearn.preprocessing import quantile_transform\n",
    "pd.options.mode.chained_assignment = None  # default='warn'\n",
    "from time import sleep"
   ]
  },
  {
   "cell_type": "code",
   "execution_count": 2,
   "metadata": {},
   "outputs": [],
   "source": [
    "# 지번주소로 도로명주소와 좌표를 다운로드함. 출처 - 행정안전부 도로명주소 안내시스템 개발자센터\n",
    "\n",
    "def fetch_coor_data(df):\n",
    "    df = df.copy()\n",
    "    \n",
    "    roadname_url = 'https://www.juso.go.kr/addrlink/addrLinkApi.do?'\n",
    "    roadname_apikey = 'devU01TX0FVVEgyMDIxMDUwNDE1NTMwMDExMTEyNzc='\n",
    "    coor_base_url = 'https://www.juso.go.kr/addrlink/addrCoordApi.do?'\n",
    "    coor_apikey = 'devU01TX0FVVEgyMDIxMDIyNjExMDQwMDExMDg1ODU='\n",
    "    # 도로명주소 검색 api key 만료일 2021년 8월 2일\n",
    "    # 좌표검색 api key 만료일 2021년 5월 27일\n",
    "    #apikey 만료시 https://www.juso.go.kr/addrlink/devAddrLinkRequestWrite.do?returnFn=write&cntcMenu=URL 가서 새로 받을 것.\n",
    "    \n",
    "    coor_data_df = pd.DataFrame({'지번주소':[], '도로명주소':[], '역명':[], '노선명':[], 'x좌표':[], 'y좌표':[]})\n",
    "    \n",
    "    for i in tqdm(range(df.shape[0])):\n",
    "        address_no_zero = df['주소'].loc[i]\n",
    "        station_name = df['역명'].loc[i]\n",
    "        line_name = df['노선명'].loc[i]\n",
    "        \n",
    "        if station_name.endswith('역') == False:\n",
    "            station_name += '역'\n",
    "            \n",
    "        roadname_result = None\n",
    "        coor_result = None\n",
    "        coor_info = None\n",
    "        \n",
    "        roadname_result = requests.get(roadname_url + 'confmKey=' + roadname_apikey + '&currentPage=1' + '&countPerPage=5' + '&keyword=' \\\n",
    "                                       + address_no_zero + '&resultType=json' + '&hstryYn=Y')\n",
    "        sleep(1)\n",
    "        roadname_info = roadname_result.json()['results']['juso']\n",
    "        \n",
    "        the_idx = None        \n",
    "        if roadname_info == []:\n",
    "            roadname_result = requests.get(roadname_url + 'confmKey=' + roadname_apikey + '&currentPage=1' + '&countPerPage=5' + '&keyword=' \\\n",
    "                                       + station_name + '&resultType=json' + '&hstryYn=Y')\n",
    "            sleep(1)\n",
    "            roadname_info = roadname_result.json()['results']['juso']\n",
    "            \n",
    "        for j in range(len(roadname_info)):\n",
    "            if (roadname_info[j]['bdNm'] == station_name)|((station_name in roadname_info[j]['bdNm'])&(line_name in roadname_info[j]['bdNm'])):\n",
    "                the_idx = j\n",
    "                break\n",
    "        \n",
    "        if the_idx == None:\n",
    "            roadname_info = roadname_info[0]\n",
    "        else:\n",
    "            roadname_info = roadname_info[the_idx]\n",
    "        \n",
    "        coor_result = requests.get(coor_base_url + 'confmKey=' + coor_apikey + '&admCd=' + roadname_info['admCd']\\\n",
    "                                   + '&rnMgtSn=' + roadname_info['rnMgtSn'] + '&udrtYn=' + roadname_info['udrtYn']\\\n",
    "                                   + '&buldMnnm=' + roadname_info['buldMnnm'] + '&buldSlno=' + roadname_info['buldSlno']\\\n",
    "                                   + '&resultType=json')\n",
    "        sleep(1)\n",
    "        #return coor_result\n",
    "        \n",
    "        if coor_result.json()['results']['juso'] == None:\n",
    "            print(address_no_zero)\n",
    "            continue\n",
    "        \n",
    "        coor_info = coor_result.json()['results']['juso'][0]\n",
    "        \n",
    "        coor_x = pd.to_numeric(coor_info['entX'])\n",
    "        coor_y = pd.to_numeric(coor_info['entY'])\n",
    "        \n",
    "        roadname_addr = roadname_info['roadAddrPart1']\n",
    "        \n",
    "        coor_data_df.loc[i,'지번주소'] = address_no_zero\n",
    "        coor_data_df.loc[i,'도로명주소'] = roadname_addr\n",
    "        coor_data_df.loc[i, '역명'] = station_name\n",
    "        coor_data_df.loc[i, '노선명'] = line_name\n",
    "        coor_data_df.loc[i, 'x좌표'] = coor_x\n",
    "        coor_data_df.loc[i, 'y좌표'] = coor_y\n",
    "        \n",
    "    \n",
    "    \n",
    "    return coor_data_df"
   ]
  },
  {
   "cell_type": "code",
   "execution_count": 3,
   "metadata": {},
   "outputs": [
    {
     "data": {
      "text/plain": [
       "['서울교통공사_역주소 및 전화번호_20200715.xlsx', '지하철역.xlsx', '지하철역_역명_주소.xlsx']"
      ]
     },
     "execution_count": 3,
     "metadata": {},
     "output_type": "execute_result"
    }
   ],
   "source": [
    "basedir = './지하철역/'\n",
    "filenames = [f for f in os.listdir(basedir) if f.endswith('.xlsx')]\n",
    "filenames"
   ]
  },
  {
   "cell_type": "code",
   "execution_count": 4,
   "metadata": {},
   "outputs": [
    {
     "name": "stdout",
     "output_type": "stream",
     "text": [
      "(743, 3)\n"
     ]
    },
    {
     "data": {
      "text/html": [
       "<div>\n",
       "<style scoped>\n",
       "    .dataframe tbody tr th:only-of-type {\n",
       "        vertical-align: middle;\n",
       "    }\n",
       "\n",
       "    .dataframe tbody tr th {\n",
       "        vertical-align: top;\n",
       "    }\n",
       "\n",
       "    .dataframe thead th {\n",
       "        text-align: right;\n",
       "    }\n",
       "</style>\n",
       "<table border=\"1\" class=\"dataframe\">\n",
       "  <thead>\n",
       "    <tr style=\"text-align: right;\">\n",
       "      <th></th>\n",
       "      <th>역명</th>\n",
       "      <th>노선명</th>\n",
       "      <th>주소</th>\n",
       "    </tr>\n",
       "  </thead>\n",
       "  <tbody>\n",
       "    <tr>\n",
       "      <th>0</th>\n",
       "      <td>인천</td>\n",
       "      <td>1</td>\n",
       "      <td>인천광역시 중구 제물량로 269</td>\n",
       "    </tr>\n",
       "    <tr>\n",
       "      <th>1</th>\n",
       "      <td>동인천</td>\n",
       "      <td>1</td>\n",
       "      <td>인천광역시 중구 참외전로 121</td>\n",
       "    </tr>\n",
       "    <tr>\n",
       "      <th>2</th>\n",
       "      <td>도원</td>\n",
       "      <td>1</td>\n",
       "      <td>인천광역시 동구 참외전로 245</td>\n",
       "    </tr>\n",
       "    <tr>\n",
       "      <th>3</th>\n",
       "      <td>제물포</td>\n",
       "      <td>1</td>\n",
       "      <td>인천광역시 미추홀구 경인로 129</td>\n",
       "    </tr>\n",
       "    <tr>\n",
       "      <th>4</th>\n",
       "      <td>도화</td>\n",
       "      <td>1</td>\n",
       "      <td>인천광역시 미추홀구 숙골로 24번길 9</td>\n",
       "    </tr>\n",
       "  </tbody>\n",
       "</table>\n",
       "</div>"
      ],
      "text/plain": [
       "    역명 노선명                     주소\n",
       "0   인천   1      인천광역시 중구 제물량로 269\n",
       "1  동인천   1      인천광역시 중구 참외전로 121\n",
       "2   도원   1      인천광역시 동구 참외전로 245\n",
       "3  제물포   1     인천광역시 미추홀구 경인로 129\n",
       "4   도화   1  인천광역시 미추홀구 숙골로 24번길 9"
      ]
     },
     "execution_count": 4,
     "metadata": {},
     "output_type": "execute_result"
    }
   ],
   "source": [
    "subway_df = pd.read_excel(basedir + filenames[-1]).dropna().reset_index(drop=True)\n",
    "print(subway_df.shape)\n",
    "subway_df.head()"
   ]
  },
  {
   "cell_type": "code",
   "execution_count": 5,
   "metadata": {},
   "outputs": [],
   "source": [
    "def rename_station_name(x):\n",
    "    # x is a string\n",
    "    \n",
    "    if pd.isna(x) == True:\n",
    "        return x\n",
    "    else:\n",
    "        if x.endswith('역'):\n",
    "            return x\n",
    "        else:\n",
    "            return x + '역'"
   ]
  },
  {
   "cell_type": "code",
   "execution_count": 6,
   "metadata": {},
   "outputs": [],
   "source": [
    "subway_df['역명'] = subway_df['역명'].apply(rename_station_name)"
   ]
  },
  {
   "cell_type": "code",
   "execution_count": 7,
   "metadata": {},
   "outputs": [],
   "source": [
    "def rename_line_name(x):\n",
    "    # x is a number or a string\n",
    "    \n",
    "    if pd.isna(x) == True:\n",
    "        return x\n",
    "    else:\n",
    "        x = str(x)\n",
    "        for i in range(10):\n",
    "            if x.endswith(str(i)):\n",
    "                return x + '호선'\n",
    "        return x + '선'"
   ]
  },
  {
   "cell_type": "code",
   "execution_count": 8,
   "metadata": {},
   "outputs": [
    {
     "data": {
      "text/html": [
       "<div>\n",
       "<style scoped>\n",
       "    .dataframe tbody tr th:only-of-type {\n",
       "        vertical-align: middle;\n",
       "    }\n",
       "\n",
       "    .dataframe tbody tr th {\n",
       "        vertical-align: top;\n",
       "    }\n",
       "\n",
       "    .dataframe thead th {\n",
       "        text-align: right;\n",
       "    }\n",
       "</style>\n",
       "<table border=\"1\" class=\"dataframe\">\n",
       "  <thead>\n",
       "    <tr style=\"text-align: right;\">\n",
       "      <th></th>\n",
       "      <th>역명</th>\n",
       "      <th>노선명</th>\n",
       "      <th>주소</th>\n",
       "    </tr>\n",
       "  </thead>\n",
       "  <tbody>\n",
       "    <tr>\n",
       "      <th>0</th>\n",
       "      <td>인천역</td>\n",
       "      <td>1</td>\n",
       "      <td>인천광역시 중구 제물량로 269</td>\n",
       "    </tr>\n",
       "    <tr>\n",
       "      <th>1</th>\n",
       "      <td>동인천역</td>\n",
       "      <td>1</td>\n",
       "      <td>인천광역시 중구 참외전로 121</td>\n",
       "    </tr>\n",
       "    <tr>\n",
       "      <th>2</th>\n",
       "      <td>도원역</td>\n",
       "      <td>1</td>\n",
       "      <td>인천광역시 동구 참외전로 245</td>\n",
       "    </tr>\n",
       "    <tr>\n",
       "      <th>3</th>\n",
       "      <td>제물포역</td>\n",
       "      <td>1</td>\n",
       "      <td>인천광역시 미추홀구 경인로 129</td>\n",
       "    </tr>\n",
       "    <tr>\n",
       "      <th>4</th>\n",
       "      <td>도화역</td>\n",
       "      <td>1</td>\n",
       "      <td>인천광역시 미추홀구 숙골로 24번길 9</td>\n",
       "    </tr>\n",
       "  </tbody>\n",
       "</table>\n",
       "</div>"
      ],
      "text/plain": [
       "     역명 노선명                     주소\n",
       "0   인천역   1      인천광역시 중구 제물량로 269\n",
       "1  동인천역   1      인천광역시 중구 참외전로 121\n",
       "2   도원역   1      인천광역시 동구 참외전로 245\n",
       "3  제물포역   1     인천광역시 미추홀구 경인로 129\n",
       "4   도화역   1  인천광역시 미추홀구 숙골로 24번길 9"
      ]
     },
     "execution_count": 8,
     "metadata": {},
     "output_type": "execute_result"
    }
   ],
   "source": [
    "subway_df.head()"
   ]
  },
  {
   "cell_type": "code",
   "execution_count": 10,
   "metadata": {},
   "outputs": [],
   "source": [
    "subway_df['노선명'] = subway_df['노선명'].apply(str)"
   ]
  },
  {
   "cell_type": "code",
   "execution_count": 11,
   "metadata": {},
   "outputs": [
    {
     "data": {
      "text/plain": [
       "array(['1', '2', '3', '4', '5', '6', '7', '8', '9', '인천1', '인천2', '수인분당',\n",
       "       '신분당', '경의중앙', '공항', '경춘', '의정부경전철', '용인경전철', '경강', '우이신설경전철',\n",
       "       '서해', '김포'], dtype=object)"
      ]
     },
     "execution_count": 11,
     "metadata": {},
     "output_type": "execute_result"
    }
   ],
   "source": [
    "subway_df['노선명'].unique()"
   ]
  },
  {
   "cell_type": "code",
   "execution_count": 12,
   "metadata": {},
   "outputs": [],
   "source": [
    "ui_df = subway_df[subway_df['노선명'].str.contains('우이신설')]"
   ]
  },
  {
   "cell_type": "code",
   "execution_count": 13,
   "metadata": {},
   "outputs": [],
   "source": [
    "subway_df.loc[ui_df.index, '노선명'] = '우이'"
   ]
  },
  {
   "cell_type": "code",
   "execution_count": 14,
   "metadata": {},
   "outputs": [],
   "source": [
    "uijungbu_df = subway_df[subway_df['노선명'].str.contains('의정부경')]"
   ]
  },
  {
   "cell_type": "code",
   "execution_count": 15,
   "metadata": {},
   "outputs": [],
   "source": [
    "subway_df.loc[uijungbu_df.index, '노선명'] = '의정부경'"
   ]
  },
  {
   "cell_type": "code",
   "execution_count": 16,
   "metadata": {},
   "outputs": [],
   "source": [
    "yongin_df = subway_df[subway_df['노선명'].str.contains('용인경')]"
   ]
  },
  {
   "cell_type": "code",
   "execution_count": 17,
   "metadata": {},
   "outputs": [],
   "source": [
    "subway_df.loc[yongin_df.index, '노선명'] = '용인경'"
   ]
  },
  {
   "cell_type": "code",
   "execution_count": 18,
   "metadata": {},
   "outputs": [
    {
     "data": {
      "text/plain": [
       "array(['1', '2', '3', '4', '5', '6', '7', '8', '9', '인천1', '인천2', '수인분당',\n",
       "       '신분당', '경의중앙', '공항', '경춘', '의정부경', '용인경', '경강', '우이', '서해', '김포'],\n",
       "      dtype=object)"
      ]
     },
     "execution_count": 18,
     "metadata": {},
     "output_type": "execute_result"
    }
   ],
   "source": [
    "subway_df['노선명'].unique()"
   ]
  },
  {
   "cell_type": "code",
   "execution_count": 20,
   "metadata": {},
   "outputs": [
    {
     "name": "stdout",
     "output_type": "stream",
     "text": [
      "(379, 3)\n"
     ]
    },
    {
     "data": {
      "text/html": [
       "<div>\n",
       "<style scoped>\n",
       "    .dataframe tbody tr th:only-of-type {\n",
       "        vertical-align: middle;\n",
       "    }\n",
       "\n",
       "    .dataframe tbody tr th {\n",
       "        vertical-align: top;\n",
       "    }\n",
       "\n",
       "    .dataframe thead th {\n",
       "        text-align: right;\n",
       "    }\n",
       "</style>\n",
       "<table border=\"1\" class=\"dataframe\">\n",
       "  <thead>\n",
       "    <tr style=\"text-align: right;\">\n",
       "      <th></th>\n",
       "      <th>역명</th>\n",
       "      <th>노선명</th>\n",
       "      <th>주소</th>\n",
       "    </tr>\n",
       "  </thead>\n",
       "  <tbody>\n",
       "    <tr>\n",
       "      <th>16</th>\n",
       "      <td>온수역</td>\n",
       "      <td>1</td>\n",
       "      <td>서울특별시 구로구 부일로 872</td>\n",
       "    </tr>\n",
       "    <tr>\n",
       "      <th>17</th>\n",
       "      <td>오류동역</td>\n",
       "      <td>1</td>\n",
       "      <td>서울특별시 구로구 경인로 20길 13</td>\n",
       "    </tr>\n",
       "    <tr>\n",
       "      <th>18</th>\n",
       "      <td>개봉역</td>\n",
       "      <td>1</td>\n",
       "      <td>서울특별시 구로구 경인로 40길 47</td>\n",
       "    </tr>\n",
       "    <tr>\n",
       "      <th>19</th>\n",
       "      <td>구일역</td>\n",
       "      <td>1</td>\n",
       "      <td>서울특별시 구로구 구일로 133</td>\n",
       "    </tr>\n",
       "    <tr>\n",
       "      <th>20</th>\n",
       "      <td>구로역</td>\n",
       "      <td>1</td>\n",
       "      <td>서울특별시 구로구 구로중앙로 174</td>\n",
       "    </tr>\n",
       "  </tbody>\n",
       "</table>\n",
       "</div>"
      ],
      "text/plain": [
       "      역명 노선명                    주소\n",
       "16   온수역   1     서울특별시 구로구 부일로 872\n",
       "17  오류동역   1  서울특별시 구로구 경인로 20길 13\n",
       "18   개봉역   1  서울특별시 구로구 경인로 40길 47\n",
       "19   구일역   1     서울특별시 구로구 구일로 133\n",
       "20   구로역   1   서울특별시 구로구 구로중앙로 174"
      ]
     },
     "execution_count": 20,
     "metadata": {},
     "output_type": "execute_result"
    }
   ],
   "source": [
    "seoul_df = subway_df[subway_df['주소'].str.contains('서울특별시')]\n",
    "print(seoul_df.shape)\n",
    "seoul_df.head()"
   ]
  },
  {
   "cell_type": "code",
   "execution_count": 21,
   "metadata": {},
   "outputs": [
    {
     "name": "stderr",
     "output_type": "stream",
     "text": [
      "100%|████████████████████████████████████████████████████████████████████████████████| 743/743 [29:22<00:00,  2.37s/it]\n"
     ]
    }
   ],
   "source": [
    "subway_coor_df = fetch_coor_data(subway_df)"
   ]
  },
  {
   "cell_type": "code",
   "execution_count": 22,
   "metadata": {
    "scrolled": true
   },
   "outputs": [
    {
     "name": "stdout",
     "output_type": "stream",
     "text": [
      "(743, 6)\n"
     ]
    },
    {
     "data": {
      "text/html": [
       "<div>\n",
       "<style scoped>\n",
       "    .dataframe tbody tr th:only-of-type {\n",
       "        vertical-align: middle;\n",
       "    }\n",
       "\n",
       "    .dataframe tbody tr th {\n",
       "        vertical-align: top;\n",
       "    }\n",
       "\n",
       "    .dataframe thead th {\n",
       "        text-align: right;\n",
       "    }\n",
       "</style>\n",
       "<table border=\"1\" class=\"dataframe\">\n",
       "  <thead>\n",
       "    <tr style=\"text-align: right;\">\n",
       "      <th></th>\n",
       "      <th>지번주소</th>\n",
       "      <th>도로명주소</th>\n",
       "      <th>역명</th>\n",
       "      <th>노선명</th>\n",
       "      <th>x좌표</th>\n",
       "      <th>y좌표</th>\n",
       "    </tr>\n",
       "  </thead>\n",
       "  <tbody>\n",
       "    <tr>\n",
       "      <th>0</th>\n",
       "      <td>인천광역시 중구 제물량로 269</td>\n",
       "      <td>인천광역시 중구 제물량로 269</td>\n",
       "      <td>인천역</td>\n",
       "      <td>1</td>\n",
       "      <td>921930.430042</td>\n",
       "      <td>1.942218e+06</td>\n",
       "    </tr>\n",
       "    <tr>\n",
       "      <th>1</th>\n",
       "      <td>인천광역시 중구 참외전로 121</td>\n",
       "      <td>인천광역시 중구 참외전로 121</td>\n",
       "      <td>동인천역</td>\n",
       "      <td>1</td>\n",
       "      <td>923228.488111</td>\n",
       "      <td>1.942197e+06</td>\n",
       "    </tr>\n",
       "    <tr>\n",
       "      <th>2</th>\n",
       "      <td>인천광역시 동구 참외전로 245</td>\n",
       "      <td>인천광역시 동구 참외전로 245</td>\n",
       "      <td>도원역</td>\n",
       "      <td>1</td>\n",
       "      <td>924164.778287</td>\n",
       "      <td>1.941409e+06</td>\n",
       "    </tr>\n",
       "    <tr>\n",
       "      <th>3</th>\n",
       "      <td>인천광역시 미추홀구 경인로 129</td>\n",
       "      <td>인천광역시 미추홀구 경인로 129</td>\n",
       "      <td>제물포역</td>\n",
       "      <td>1</td>\n",
       "      <td>925441.957270</td>\n",
       "      <td>1.941177e+06</td>\n",
       "    </tr>\n",
       "    <tr>\n",
       "      <th>4</th>\n",
       "      <td>인천광역시 미추홀구 숙골로 24번길 9</td>\n",
       "      <td>인천광역시 미추홀구 숙골로24번길 9</td>\n",
       "      <td>도화역</td>\n",
       "      <td>1</td>\n",
       "      <td>926458.789932</td>\n",
       "      <td>1.941091e+06</td>\n",
       "    </tr>\n",
       "  </tbody>\n",
       "</table>\n",
       "</div>"
      ],
      "text/plain": [
       "                    지번주소                 도로명주소    역명 노선명            x좌표  \\\n",
       "0      인천광역시 중구 제물량로 269     인천광역시 중구 제물량로 269   인천역   1  921930.430042   \n",
       "1      인천광역시 중구 참외전로 121     인천광역시 중구 참외전로 121  동인천역   1  923228.488111   \n",
       "2      인천광역시 동구 참외전로 245     인천광역시 동구 참외전로 245   도원역   1  924164.778287   \n",
       "3     인천광역시 미추홀구 경인로 129    인천광역시 미추홀구 경인로 129  제물포역   1  925441.957270   \n",
       "4  인천광역시 미추홀구 숙골로 24번길 9  인천광역시 미추홀구 숙골로24번길 9   도화역   1  926458.789932   \n",
       "\n",
       "            y좌표  \n",
       "0  1.942218e+06  \n",
       "1  1.942197e+06  \n",
       "2  1.941409e+06  \n",
       "3  1.941177e+06  \n",
       "4  1.941091e+06  "
      ]
     },
     "execution_count": 22,
     "metadata": {},
     "output_type": "execute_result"
    }
   ],
   "source": [
    "print(subway_coor_df.shape)\n",
    "subway_coor_df.head()"
   ]
  },
  {
   "cell_type": "code",
   "execution_count": 23,
   "metadata": {},
   "outputs": [],
   "source": [
    "for v in subway_coor_df['역명'].unique():\n",
    "    v_df = subway_coor_df[subway_coor_df['역명'] == v]\n",
    "    \n",
    "    if v_df.shape[0] > 1:\n",
    "        for i in range(v_df.shape[0]):\n",
    "            v_df.iloc[i, 2] = v + '_{}'.format(i)\n",
    "        \n",
    "        subway_coor_df.loc[v_df.index, '역명'] = v_df['역명']"
   ]
  },
  {
   "cell_type": "code",
   "execution_count": 24,
   "metadata": {},
   "outputs": [
    {
     "data": {
      "text/plain": [
       "743"
      ]
     },
     "execution_count": 24,
     "metadata": {},
     "output_type": "execute_result"
    }
   ],
   "source": [
    "subway_coor_df['역명'].nunique()"
   ]
  },
  {
   "cell_type": "code",
   "execution_count": 25,
   "metadata": {},
   "outputs": [
    {
     "data": {
      "text/plain": [
       "array(['인천역_0', '동인천역', '도원역', '제물포역', '도화역', '주안역_0', '간석역', '동암역',\n",
       "       '백운역', '부평역_0', '부개역', '송내역', '중동역', '부천역', '소사역_0', '역곡역',\n",
       "       '온수역_0', '오류동역', '개봉역', '구일역', '구로역', '신도림역_0', '영등포역', '신길역_0',\n",
       "       '대방역', '노량진역_0', '용산역_0', '남영역', '서울역_0', '시청역_0', '종각역',\n",
       "       '종로3가역_0', '종로5가역', '동대문역_0', '동묘앞역_0', '신설동역_0', '제기동역', '청량리역_0',\n",
       "       '회기역_0', '외대앞역', '신이문역', '석계역_0', '광운대역_0', '월계역', '녹천역', '창동역_0',\n",
       "       '방학역', '도봉역', '도봉산역_0', '망월사역', '회룡역_0', '의정부역', '가능역', '녹양역',\n",
       "       '양주역', '덕계역', '덕정역', '지행역', '동두천중앙역', '보산역', '동두천역', '소요산역',\n",
       "       '가산 디지털단지역', '독산역', '금천구청역', '광명역', '석수역', '관악역', '안양역', '명학역',\n",
       "       '금정역_0', '군포역', '당정역', '의왕역', '성균관대역', '화서역', '수원역_0', '세류역',\n",
       "       '병점역', '서동탄역', '세마역', '오산대역', '오산역', '진위역', '송탄역', '서정리역', '평택지제역',\n",
       "       '평택역', '성환역', '직산역', '두정역', '천안역', '봉명역', '쌍용역', '아산역', '배방역',\n",
       "       '온양온천역', '신창역', '까치산역_0', '신정네거리역', '양천구청역', '도림천역', '신도림역_1',\n",
       "       '문래역', '영등포구청역_0', '당산역_0', '합정역_0', '홍대입구역_0', '신촌역_0', '이대역',\n",
       "       '아현역', '충정로역_0', '시청역_1', '을지로입구역', '을지로3가역_0', '을지로4가역_0',\n",
       "       '동대문역사 문화공원역_0', '신당역_0', '상왕십리역', '왕십리역_0', '한양대역', '뚝섬역', '성수역',\n",
       "       '용답역', '신답역', '용두역', '신설동역_1', '건대입구역_0', '구의역', '강변역', '잠실나루역',\n",
       "       '잠실역_0', '잠실새내역', '종합운동장역_0', '삼성역', '선릉역_0', '역삼역', '강남역_0',\n",
       "       '교대역_0', '서초역', '방배역', '사당역_0', '낙성대역', '서울대입구역', '봉천역', '신림역',\n",
       "       '신대방역', '구로디지털단지역', '대림역_0', '대화역', '주엽역', '정발산역', '마두역', '백석역',\n",
       "       '대곡역_0', '화정역', '원당역', '원흥역', '삼송역', '지축역', '구파발역', '연신내역_0',\n",
       "       '불광역_0', '녹번역', '홍제역', '무악재역', '독립문역', '경복궁역', '안국역', '종로3가역_1',\n",
       "       '을지로3가역_1', '충무로역_0', '동대입구역', '약수역_0', '금호역', '옥수역_0', '압구정역',\n",
       "       '신사역', '잠원역', '고속터미널역_0', '교대역_1', '남부터미널역', '양재역_0', '매봉역',\n",
       "       '도곡역_0', '대치역', '학여울역', '대청역', '일원역', '수서역_0', '가락시장역_0', '경찰병원역',\n",
       "       '오금역_0', '오이도역_0', '정왕역_0', '신길온천역_0', '안산역_0', '초지역_0', '고잔역_0',\n",
       "       '중앙역_0', '한대앞역_0', '상록수역', '반월역', '대야미역', '수리산역', '산본역', '금정역_1',\n",
       "       '범계역', '평촌역', '인덕원역', '정부과천청사역', '과천역', '대공원역', '경마공원역', '선바위역',\n",
       "       '남태령역', '사당역_1', '총신대입구역', '동작역_0', '이촌역_0', '신용산역', '삼각지역_0',\n",
       "       '숙대입구역', '서울역_1', '회현역', '명동역', '충무로역_1', '동대문역사 문화공원역_1',\n",
       "       '동대문역_1', '혜화역', '한성대입구역', '성신여대입구역_0', '길음역', '미아사거리역', '미아역',\n",
       "       '수유역', '쌍문역', '창동역_1', '노원역_0', '상계역', '당고개역', '방화역', '개화산역',\n",
       "       '김포공항역_0', '송정역', '마곡역', '발산역', '우장산역', '화곡역', '까치산역_1', '신정역',\n",
       "       '목동역', '오목교역', '양평역_0', '영등포구청역_1', '영등포시장역', '신길역_1', '여의도역_0',\n",
       "       '여의나루역', '마포역', '공덕역_0', '애오개역', '충정로역_1', '서대문역', '광화문역',\n",
       "       '종로3가역_2', '을지로4가역_1', '동대문역사 문화공원역_2', '청구역_0', '신금호역', '행당역',\n",
       "       '왕십리역_1', '마장역', '답십리역', '장한평역', '군자역_0', '아차산역', '광나루역', '천호역_0',\n",
       "       '강동역', '길동역', '굽은다리역', '명일역', '고덕역', '상일동역', '강일역', '미사역', '하남풍산역',\n",
       "       '하남시청역', '하남검단산역', '둔촌동역', '올림픽공원역_0', '방이역', '오금역_1', '개롱역',\n",
       "       '거여역', '마천역', '신내역_0', '봉화산역', '화랑대역', '태릉입구역_0', '석계역_1', '돌곶이역',\n",
       "       '상월곡역', '월곡역', '고려대역', '안암역', '보문역_0', '창신역', '동묘앞역_1', '신당역_1',\n",
       "       '청구역_1', '약수역_1', '버티고개역', '한강진역', '이태원역', '녹사평역', '삼각지역_1',\n",
       "       '효창공원앞역_0', '공덕역_1', '대흥역', '광흥창역', '상수역', '합정역_1', '망원역', '마포구청역',\n",
       "       '월드컵경기장역', '디지털미디어시티역_0', '증산역', '새절역', '응암역', '구산역', '연신내역_1',\n",
       "       '독바위역', '불광역_1', '역촌역', '부평구청역_0', '굴포천역', '삼산체육관역', '상동역',\n",
       "       '부천시청역', '신중동역', '춘의역', '부천종합운동장역', '까치울역', '온수역_1', '천왕역',\n",
       "       '광명사거리역', '철산역', '가산디지털단지역', '남구로역', '대림역_1', '신풍역', '보라매역',\n",
       "       '신대방삼거리역', '장승배기역', '상도역', '숭실대입구역', '남성역', '이수역', '내방역',\n",
       "       '고속터미널역_1', '반포역', '논현역', '학동역', '강남구청역_0', '청담역', '뚝섬유원지역',\n",
       "       '건대입구역_1', '어린이대공원역', '군자역_1', '중곡역', '용마산역', '사가정역', '면목역',\n",
       "       '상봉역_0', '중화역', '먹골역', '태릉입구역_1', '공릉역', '하계역', '중계역', '노원역_1',\n",
       "       '마들역', '수락산역', '도봉산역_1', '장암역', '암사역', '천호역_1', '강동구청역', '몽촌토성역',\n",
       "       '잠실역_1', '석촌역_0', '송파역', '가락시장역_1', '문정역', '장지역', '복정역_0', '산성역',\n",
       "       '남한산성입구역', '단대오거리역', '신흥역', '수진역', '모란역_0', '개화역', '김포공항역_1',\n",
       "       '공항시장역', '신방화역', '마곡나루역_0', '양천향교역', '가양역', '증미역', '등촌역', '염창역',\n",
       "       '신목동역', '선유도역', '당산역_1', '국회의사당역', '여의도역_1', '샛강역', '노량진역_1',\n",
       "       '노들역', '흑석역', '동작역_1', '구반포역', '신반포역', '고속터미널역_2', '사평역', '신논현역',\n",
       "       '언주역', '선정릉역_0', '삼성중앙역', '봉은사역', '종합운동장역_1', '삼전역', '석촌고분역',\n",
       "       '석촌역_1', '송파나루역', '한성백제역', '올림픽공원역_1', '둔촌오륜역', '중앙보훈병원역',\n",
       "       '송도달빛축제공원역', '국제업무지구역', '센트럴파크역', '인천대입구역', '지식정보단지역', '테크노파크역',\n",
       "       '캠퍼스타운역', '동막역', '동춘역', '원인재역_0', '신연수역', '선학역', '문학경기장역',\n",
       "       '인천터미널역', '예술회관역', '인천시청역_0', '간석오거리역', '부평삼거리역', '동수역', '부평역_1',\n",
       "       '부평시장역', '부평구청역_1', '갈산역', '작전역', '경인교대입구역', '계산역', '임학역', '박촌역',\n",
       "       '귤현역', '계양역_0', '검단오류역', '왕길역', '검단사거리역', '마전역', '완정역', '독정역',\n",
       "       '검암역_0', '검바위역', '아시아드경기장역', '서구청역', '가정역', '가정중앙시장역', '석남역',\n",
       "       '서부여성회관역', '인천가좌역', '가재울역', '주안국가산단역', '주안역_1', '시민공원역', '석바위시장역',\n",
       "       '인천시청역_1', '석천사거리역', '모래내시장역', '만수역', '남동구청역', '인천대공원역', '운연역',\n",
       "       '인천역_1', '신포역', '인하대역', '송도역', '연수역', '원인재역_1', '남동 인더스파크역',\n",
       "       '호구포역', '인천논현역', '소래포구역', '월곶역', '달월역', '오이도역_1', '정왕역_1',\n",
       "       '신길온천역_1', '안산역_1', '초지역_1', '고잔역_1', '중앙역_1', '한대앞역_1', '사리역',\n",
       "       '야목역', '어천역', '오목천역', '고색역', '수원역_1', '매교역', '수원시청역', '매탄권선역',\n",
       "       '망포역', '영통역', '청명역', '상갈역', '기흥역_0', '신갈역', '구성역', '보정역', '죽전역',\n",
       "       '오리역', '미금역_0', '정자역_0', '수내역', '서현역', '이매역_0', '야탑역', '모란역_1',\n",
       "       '태평역', '가천대역', '복정역_1', '수서역_1', '대모산입구역', '개포동역', '구룡역', '도곡역_1',\n",
       "       '한티역', '선릉역_1', '선정릉역_1', '강남구청역_1', '압구정로데오역', '서울숲역', '왕십리역_2',\n",
       "       '청량리역_1', '광교중앙역', '상현역', '성복역', '수지구청역', '동천역', '미금역_1', '정자역_1',\n",
       "       '판교역_0', '청계산입구역', '양재시민의숲역', '양재역_1', '강남역_1', '임진강역', '문산역',\n",
       "       '파주역', '월롱역', '금촌역', '금릉역', '운정역', '야당역', '탄현역', '일산역', '풍산역',\n",
       "       '백마역', '곡산역', '대곡역_1', '능곡역', '행신역', '강매역', '화전역', '수색역',\n",
       "       '디지털미디어시티역_1', '가좌역', '신촌역_1', '서울역_2', '홍대입구역_1', '서강대역', '공덕역_2',\n",
       "       '효창공원앞역_1', '용산역_1', '이촌역_1', '서빙고역', '한남역', '옥수역_1', '응봉역',\n",
       "       '왕십리역_3', '청량리역_2', '회기역_1', '중랑역_0', '상봉역_1', '망우역_0', '양원역',\n",
       "       '구리역', '도농역', '양정역', '덕소역', '도심역', '팔당역', '운길산역', '양수역', '신원역',\n",
       "       '국수역', '아신역', '오빈역', '양평역_1', '원덕역', '용문역', '지평역', '인천공항2터미널역',\n",
       "       '인천공항1터미널역', '공항화물청사역', '운서역', '영종역', '청라국제도시역', '검암역_1', '계양역_1',\n",
       "       '김포공항역_2', '마곡나루역_1', '디지털미디어시티역_2', '홍대입구역_2', '공덕역_3', '서울역_3',\n",
       "       '청량리역_3', '회기역_2', '광운대역_1', '중랑역_1', '상봉역_2', '망우역_1', '신내역_1',\n",
       "       '갈매역', '별내역', '퇴계원역', '사릉역', '금곡역', '평내호평역', '천마산역', '마석역', '대성리역',\n",
       "       '청평역', '상천역', '가평역', '굴봉산역', '백양리역', '강촌역', '김유정역', '남춘천역', '춘천역',\n",
       "       '탑석역', '송산역', '어룡역', '곤제역', '효자역', '경기도청 북부청사역', '새말역', '동오역',\n",
       "       '의정부중앙역', '흥선역', '의정부시청역', '경전철의정부역', '범골역', '회룡역_1', '발곡역',\n",
       "       '기흥역_1', '강남대역', '지석역', '어정역', '동백역', '초당역', '삼가역', '시청용인대역',\n",
       "       '명지대역', '김량장역', '운동장송담대역', '고진역', '보평역', '둔전역', '전대에버랜드역', '판교역_1',\n",
       "       '이매역_1', '삼동역', '경기광주역', '초월역', '곤지암역', '신둔도예촌역', '이천역', '부발역',\n",
       "       '세종대왕릉역', '여주역', '북한산우이역', '솔밭공원역', '419민주묘지역', '가오리역', '화계역',\n",
       "       '삼양역', '삼양사거리역', '솔샘역', '북한산보국문역', '정릉역', '성신여대입구역_1', '보문역_1',\n",
       "       '신설동역_2', '원시역', '초지역_2', '선부역', '달미역', '시흥능곡역', '시흥시청역', '신현역',\n",
       "       '신천역', '시흥대야역', '소새울역', '소사역_1', '양촌역', '구래역', '마산역', '장기역', '운양역',\n",
       "       '걸포북변역', '사우역', '풍무역', '고촌역', '김포공항역_3'], dtype=object)"
      ]
     },
     "execution_count": 25,
     "metadata": {},
     "output_type": "execute_result"
    }
   ],
   "source": [
    "subway_coor_df['역명'].unique()"
   ]
  },
  {
   "cell_type": "code",
   "execution_count": 26,
   "metadata": {},
   "outputs": [],
   "source": [
    "subway_coor_df.to_csv('./지하철역/subway_coor_2.csv', index=False)"
   ]
  },
  {
   "cell_type": "code",
   "execution_count": null,
   "metadata": {},
   "outputs": [],
   "source": []
  }
 ],
 "metadata": {
  "kernelspec": {
   "display_name": "Python 3",
   "language": "python",
   "name": "python3"
  },
  "language_info": {
   "codemirror_mode": {
    "name": "ipython",
    "version": 3
   },
   "file_extension": ".py",
   "mimetype": "text/x-python",
   "name": "python",
   "nbconvert_exporter": "python",
   "pygments_lexer": "ipython3",
   "version": "3.7.9"
  }
 },
 "nbformat": 4,
 "nbformat_minor": 4
}
