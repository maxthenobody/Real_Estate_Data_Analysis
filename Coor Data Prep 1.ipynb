{
 "cells": [
  {
   "cell_type": "code",
   "execution_count": 1,
   "metadata": {},
   "outputs": [],
   "source": [
    "import multiprocess as mp\n",
    "import numpy as np\n",
    "import pandas as pd\n",
    "import matplotlib.pyplot as plt\n",
    "import os\n",
    "import math\n",
    "from tqdm import tqdm\n",
    "import requests\n",
    "from urllib.parse import urlparse\n",
    "pd.set_option('display.max_rows', 500)\n",
    "pd.set_option('display.max_columns', 500)\n",
    "import datetime\n",
    "from sklearn.preprocessing import quantile_transform\n",
    "pd.options.mode.chained_assignment = None  # default='warn'\n",
    "import gc"
   ]
  },
  {
   "cell_type": "code",
   "execution_count": 2,
   "metadata": {},
   "outputs": [],
   "source": [
    "def bonbubun_allocator(x):\n",
    "    # x is a string\n",
    "    try:\n",
    "        if pd.isna(x) == True:\n",
    "            return x\n",
    "        else:\n",
    "            return str(int(x))\n",
    "    except:\n",
    "        return np.nan"
   ]
  },
  {
   "cell_type": "code",
   "execution_count": 3,
   "metadata": {},
   "outputs": [],
   "source": [
    "def buildinggroup_modifier(x):\n",
    "    # x is a string\n",
    "    \n",
    "    try:\n",
    "        return int(x)\n",
    "    except:\n",
    "        return x"
   ]
  },
  {
   "cell_type": "code",
   "execution_count": 4,
   "metadata": {},
   "outputs": [],
   "source": [
    "def read_coor_data1():\n",
    "    basedir = './좌표데이터/'\n",
    "    filenames = [f for f in os.listdir(basedir) if f.endswith('.txt')]\n",
    "    \n",
    "    dfs_list = []\n",
    "    \n",
    "    for filename in tqdm(filenames, position=0):\n",
    "        if filename.endswith('.txt'):\n",
    "            try:\n",
    "                df = pd.read_csv(basedir + filename, sep='|', header=None, usecols=[3,4,7,9,10,16,17])\n",
    "            except:\n",
    "                df = pd.read_csv(basedir + filename, sep='|', header=None, encoding='euc-kr', usecols=[3,4,7,9,10,16,17])\n",
    "            \n",
    "            df['도로명주소'] = df[3] + ' ' + df[4] + ' ' + df[7] + ' ' + df[9].apply(bonbubun_allocator) + '-' + df[10].apply(bonbubun_allocator)\n",
    "            \n",
    "            df['x좌표'] = df[16]\n",
    "            df['y좌표'] = df[17]\n",
    "            \n",
    "            #df['건물군여부'] = df[14].apply(buildinggroup_modifier)\n",
    "            \n",
    "            df = df[['도로명주소', 'x좌표', 'y좌표']]\n",
    "            \n",
    "            #df['dtype'] = df['건물군여부'].apply(type)\n",
    "            \n",
    "            #df = df[df['dtype'] != str]\n",
    "            \n",
    "            #df.drop(columns=['dtype'], inplace=True)\n",
    "                        \n",
    "            dfs_list.append(df)\n",
    "            \n",
    "    concat_df = pd.concat(dfs_list).dropna().drop_duplicates(subset=['도로명주소'], keep='last').reset_index(drop=True)\n",
    "        \n",
    "    return concat_df"
   ]
  },
  {
   "cell_type": "code",
   "execution_count": 5,
   "metadata": {},
   "outputs": [],
   "source": [
    "def read_coor_data2():\n",
    "    basedir = './좌표데이터2/'\n",
    "    filenames = [f for f in os.listdir(basedir) if f.endswith('.txt')]\n",
    "    \n",
    "    dfs_list = []\n",
    "    \n",
    "    for filename in tqdm(filenames, position=0):\n",
    "        if filename.endswith('.txt'):\n",
    "            try:\n",
    "                df = pd.read_csv(basedir + filename, sep='|', header=None, usecols=[1,2,5,7,8,23,24])\n",
    "            except:\n",
    "                df = pd.read_csv(basedir + filename, sep='|', header=None, encoding='ansi', usecols=[1,2,5,7,8,23,24])\n",
    "                \n",
    "            df['도로명주소'] = df[1] + ' ' + df[2] + ' ' + df[5] + ' ' + df[7].apply(bonbubun_allocator) + '-'\\\n",
    "            + df[8].apply(bonbubun_allocator)\n",
    "            \n",
    "            df['x좌표'] = df[23]\n",
    "            df['y좌표'] = df[24]\n",
    "            \n",
    "            df = df[['도로명주소', 'x좌표', 'y좌표']]\n",
    "            \n",
    "            dfs_list.append(df)\n",
    "            \n",
    "    concat_df = pd.concat(dfs_list).dropna().drop_duplicates(subset=['도로명주소'], keep='last').reset_index(drop=True)\n",
    "        \n",
    "    return concat_df"
   ]
  },
  {
   "cell_type": "code",
   "execution_count": 6,
   "metadata": {},
   "outputs": [],
   "source": [
    "def read_coor_data3():\n",
    "    basedir = './좌표데이터3/'\n",
    "    filenames = [f for f in os.listdir(basedir) if f.endswith('.csv')]\n",
    "    \n",
    "    dfs_list = []\n",
    "    \n",
    "    for filename in tqdm(filenames, position=0):\n",
    "        if filename.endswith('.csv'):\n",
    "            df = pd.read_csv(basedir + filename, index_col=0)\n",
    "            \n",
    "            dfs_list.append(df)\n",
    "            \n",
    "    concat_df = pd.concat(dfs_list).dropna().drop_duplicates(subset=['전체주소'], keep='last').reset_index(drop=True)\n",
    "    concat_df['지번주소'] = concat_df['전체주소'].copy()\n",
    "    concat_df['도로명주소'] = concat_df['전체주소'].copy()\n",
    "    concat_df = concat_df[['지번주소', '도로명주소', 'x좌표', 'y좌표']]\n",
    "    \n",
    "    return concat_df"
   ]
  },
  {
   "cell_type": "code",
   "execution_count": 7,
   "metadata": {},
   "outputs": [],
   "source": [
    "def add_0(x):\n",
    "    if pd.isnull(x) == False:\n",
    "        splitted = x.split('-')\n",
    "        if len(splitted) == 1:\n",
    "            return x+'-0'\n",
    "        else:\n",
    "            return x\n",
    "    else:\n",
    "        return x"
   ]
  },
  {
   "cell_type": "code",
   "execution_count": 8,
   "metadata": {},
   "outputs": [],
   "source": [
    "def read_coor_data():\n",
    "    coor_df1 = read_coor_data1()\n",
    "    coor_df2 = read_coor_data2()\n",
    "    coor_df3 = read_coor_data3()    \n",
    "    \n",
    "    coor_df = pd.concat([coor_df1, coor_df2, coor_df3]).drop_duplicates(subset=['도로명주소'], keep='last').reset_index(drop=True)\n",
    "    coor_df = coor_df[['지번주소', '도로명주소', 'x좌표', 'y좌표']]    \n",
    "            \n",
    "    return coor_df"
   ]
  },
  {
   "cell_type": "code",
   "execution_count": 9,
   "metadata": {},
   "outputs": [
    {
     "name": "stderr",
     "output_type": "stream",
     "text": [
      "100%|██████████████████████████████████████████████████████████████████████████████████| 26/26 [00:32<00:00,  1.26s/it]\n",
      "100%|██████████████████████████████████████████████████████████████████████████████████| 25/25 [00:40<00:00,  1.60s/it]\n",
      "100%|█████████████████████████████████████████████████████████████████████████████████| 31/31 [00:00<00:00, 111.49it/s]\n",
      "c:\\users\\max6296\\ml\\lib\\site-packages\\ipykernel_launcher.py:6: FutureWarning: Sorting because non-concatenation axis is not aligned. A future version\n",
      "of pandas will change to not sort by default.\n",
      "\n",
      "To accept the future behavior, pass 'sort=False'.\n",
      "\n",
      "To retain the current behavior and silence the warning, pass 'sort=True'.\n",
      "\n",
      "  \n"
     ]
    },
    {
     "name": "stdout",
     "output_type": "stream",
     "text": [
      "(657309, 4)\n"
     ]
    },
    {
     "data": {
      "text/html": [
       "<div>\n",
       "<style scoped>\n",
       "    .dataframe tbody tr th:only-of-type {\n",
       "        vertical-align: middle;\n",
       "    }\n",
       "\n",
       "    .dataframe tbody tr th {\n",
       "        vertical-align: top;\n",
       "    }\n",
       "\n",
       "    .dataframe thead th {\n",
       "        text-align: right;\n",
       "    }\n",
       "</style>\n",
       "<table border=\"1\" class=\"dataframe\">\n",
       "  <thead>\n",
       "    <tr style=\"text-align: right;\">\n",
       "      <th></th>\n",
       "      <th>지번주소</th>\n",
       "      <th>도로명주소</th>\n",
       "      <th>x좌표</th>\n",
       "      <th>y좌표</th>\n",
       "    </tr>\n",
       "  </thead>\n",
       "  <tbody>\n",
       "    <tr>\n",
       "      <th>0</th>\n",
       "      <td>NaN</td>\n",
       "      <td>서울특별시 관악구 난곡로24가길 18-0</td>\n",
       "      <td>948851.369529</td>\n",
       "      <td>1.941318e+06</td>\n",
       "    </tr>\n",
       "    <tr>\n",
       "      <th>1</th>\n",
       "      <td>NaN</td>\n",
       "      <td>서울특별시 종로구 성균관로15길 33-0</td>\n",
       "      <td>955591.635372</td>\n",
       "      <td>1.954533e+06</td>\n",
       "    </tr>\n",
       "    <tr>\n",
       "      <th>2</th>\n",
       "      <td>NaN</td>\n",
       "      <td>서울특별시 성북구 인촌로7길 70-0</td>\n",
       "      <td>957563.072605</td>\n",
       "      <td>1.954475e+06</td>\n",
       "    </tr>\n",
       "    <tr>\n",
       "      <th>3</th>\n",
       "      <td>NaN</td>\n",
       "      <td>서울특별시 서초구 강남대로91길 5-0</td>\n",
       "      <td>957617.535913</td>\n",
       "      <td>1.945960e+06</td>\n",
       "    </tr>\n",
       "    <tr>\n",
       "      <th>4</th>\n",
       "      <td>NaN</td>\n",
       "      <td>서울특별시 서초구 바우뫼로11길 54-0</td>\n",
       "      <td>958121.727726</td>\n",
       "      <td>1.941641e+06</td>\n",
       "    </tr>\n",
       "  </tbody>\n",
       "</table>\n",
       "</div>"
      ],
      "text/plain": [
       "  지번주소                   도로명주소            x좌표           y좌표\n",
       "0  NaN  서울특별시 관악구 난곡로24가길 18-0  948851.369529  1.941318e+06\n",
       "1  NaN  서울특별시 종로구 성균관로15길 33-0  955591.635372  1.954533e+06\n",
       "2  NaN    서울특별시 성북구 인촌로7길 70-0  957563.072605  1.954475e+06\n",
       "3  NaN   서울특별시 서초구 강남대로91길 5-0  957617.535913  1.945960e+06\n",
       "4  NaN  서울특별시 서초구 바우뫼로11길 54-0  958121.727726  1.941641e+06"
      ]
     },
     "execution_count": 9,
     "metadata": {},
     "output_type": "execute_result"
    }
   ],
   "source": [
    "coor_df = read_coor_data()\n",
    "print(coor_df.shape)\n",
    "coor_df.head()"
   ]
  },
  {
   "cell_type": "code",
   "execution_count": 11,
   "metadata": {},
   "outputs": [
    {
     "name": "stdout",
     "output_type": "stream",
     "text": [
      "(4559866, 27)\n"
     ]
    },
    {
     "data": {
      "text/html": [
       "<div>\n",
       "<style scoped>\n",
       "    .dataframe tbody tr th:only-of-type {\n",
       "        vertical-align: middle;\n",
       "    }\n",
       "\n",
       "    .dataframe tbody tr th {\n",
       "        vertical-align: top;\n",
       "    }\n",
       "\n",
       "    .dataframe thead th {\n",
       "        text-align: right;\n",
       "    }\n",
       "</style>\n",
       "<table border=\"1\" class=\"dataframe\">\n",
       "  <thead>\n",
       "    <tr style=\"text-align: right;\">\n",
       "      <th></th>\n",
       "      <th>시군구</th>\n",
       "      <th>번지</th>\n",
       "      <th>본번</th>\n",
       "      <th>부번</th>\n",
       "      <th>건물명</th>\n",
       "      <th>전월세매매구분</th>\n",
       "      <th>전용면적(㎡)</th>\n",
       "      <th>계약년월</th>\n",
       "      <th>계약일</th>\n",
       "      <th>금액(만원)</th>\n",
       "      <th>월세(만원)</th>\n",
       "      <th>층</th>\n",
       "      <th>건축년도</th>\n",
       "      <th>도로명</th>\n",
       "      <th>가격/면적</th>\n",
       "      <th>year</th>\n",
       "      <th>month</th>\n",
       "      <th>시</th>\n",
       "      <th>구</th>\n",
       "      <th>target_log_transformed</th>\n",
       "      <th>target/area_log_transformed</th>\n",
       "      <th>동</th>\n",
       "      <th>건물종류</th>\n",
       "      <th>trade_type</th>\n",
       "      <th>지번주소</th>\n",
       "      <th>대장구분코드</th>\n",
       "      <th>대장구분명</th>\n",
       "    </tr>\n",
       "  </thead>\n",
       "  <tbody>\n",
       "    <tr>\n",
       "      <th>0</th>\n",
       "      <td>서울특별시 강남구 개포동</td>\n",
       "      <td>655-2</td>\n",
       "      <td>655</td>\n",
       "      <td>2</td>\n",
       "      <td>개포2차현대아파트(220)</td>\n",
       "      <td>매매</td>\n",
       "      <td>77.75</td>\n",
       "      <td>201309</td>\n",
       "      <td>8</td>\n",
       "      <td>57000</td>\n",
       "      <td>0</td>\n",
       "      <td>2</td>\n",
       "      <td>1988</td>\n",
       "      <td>언주로 103</td>\n",
       "      <td>733.118971</td>\n",
       "      <td>2013</td>\n",
       "      <td>9</td>\n",
       "      <td>서울특별시</td>\n",
       "      <td>강남구</td>\n",
       "      <td>10.950807</td>\n",
       "      <td>6.597308</td>\n",
       "      <td>서울특별시 강남구 개포동</td>\n",
       "      <td>아파트</td>\n",
       "      <td>아파트_매매</td>\n",
       "      <td>서울특별시 강남구 개포동 655-2</td>\n",
       "      <td>1</td>\n",
       "      <td>일반</td>\n",
       "    </tr>\n",
       "    <tr>\n",
       "      <th>1</th>\n",
       "      <td>서울특별시 강남구 개포동</td>\n",
       "      <td>655-2</td>\n",
       "      <td>655</td>\n",
       "      <td>2</td>\n",
       "      <td>개포2차현대아파트(220)</td>\n",
       "      <td>매매</td>\n",
       "      <td>77.75</td>\n",
       "      <td>201312</td>\n",
       "      <td>16</td>\n",
       "      <td>57000</td>\n",
       "      <td>0</td>\n",
       "      <td>2</td>\n",
       "      <td>1988</td>\n",
       "      <td>언주로 103</td>\n",
       "      <td>733.118971</td>\n",
       "      <td>2013</td>\n",
       "      <td>12</td>\n",
       "      <td>서울특별시</td>\n",
       "      <td>강남구</td>\n",
       "      <td>10.950807</td>\n",
       "      <td>6.597308</td>\n",
       "      <td>서울특별시 강남구 개포동</td>\n",
       "      <td>아파트</td>\n",
       "      <td>아파트_매매</td>\n",
       "      <td>서울특별시 강남구 개포동 655-2</td>\n",
       "      <td>1</td>\n",
       "      <td>일반</td>\n",
       "    </tr>\n",
       "    <tr>\n",
       "      <th>2</th>\n",
       "      <td>서울특별시 강남구 개포동</td>\n",
       "      <td>658-1</td>\n",
       "      <td>658</td>\n",
       "      <td>1</td>\n",
       "      <td>개포6차우성아파트1동~8동</td>\n",
       "      <td>매매</td>\n",
       "      <td>67.28</td>\n",
       "      <td>201302</td>\n",
       "      <td>11</td>\n",
       "      <td>55000</td>\n",
       "      <td>0</td>\n",
       "      <td>5</td>\n",
       "      <td>1987</td>\n",
       "      <td>언주로 3</td>\n",
       "      <td>817.479191</td>\n",
       "      <td>2013</td>\n",
       "      <td>2</td>\n",
       "      <td>서울특별시</td>\n",
       "      <td>강남구</td>\n",
       "      <td>10.915088</td>\n",
       "      <td>6.706225</td>\n",
       "      <td>서울특별시 강남구 개포동</td>\n",
       "      <td>아파트</td>\n",
       "      <td>아파트_매매</td>\n",
       "      <td>서울특별시 강남구 개포동 658-1</td>\n",
       "      <td>1</td>\n",
       "      <td>일반</td>\n",
       "    </tr>\n",
       "    <tr>\n",
       "      <th>3</th>\n",
       "      <td>서울특별시 강남구 개포동</td>\n",
       "      <td>658-1</td>\n",
       "      <td>658</td>\n",
       "      <td>1</td>\n",
       "      <td>개포6차우성아파트1동~8동</td>\n",
       "      <td>매매</td>\n",
       "      <td>67.28</td>\n",
       "      <td>201302</td>\n",
       "      <td>22</td>\n",
       "      <td>58250</td>\n",
       "      <td>0</td>\n",
       "      <td>4</td>\n",
       "      <td>1987</td>\n",
       "      <td>언주로 3</td>\n",
       "      <td>865.784780</td>\n",
       "      <td>2013</td>\n",
       "      <td>2</td>\n",
       "      <td>서울특별시</td>\n",
       "      <td>강남구</td>\n",
       "      <td>10.972499</td>\n",
       "      <td>6.763636</td>\n",
       "      <td>서울특별시 강남구 개포동</td>\n",
       "      <td>아파트</td>\n",
       "      <td>아파트_매매</td>\n",
       "      <td>서울특별시 강남구 개포동 658-1</td>\n",
       "      <td>1</td>\n",
       "      <td>일반</td>\n",
       "    </tr>\n",
       "    <tr>\n",
       "      <th>4</th>\n",
       "      <td>서울특별시 강남구 개포동</td>\n",
       "      <td>658-1</td>\n",
       "      <td>658</td>\n",
       "      <td>1</td>\n",
       "      <td>개포6차우성아파트1동~8동</td>\n",
       "      <td>매매</td>\n",
       "      <td>67.28</td>\n",
       "      <td>201305</td>\n",
       "      <td>10</td>\n",
       "      <td>60000</td>\n",
       "      <td>0</td>\n",
       "      <td>5</td>\n",
       "      <td>1987</td>\n",
       "      <td>언주로 3</td>\n",
       "      <td>891.795482</td>\n",
       "      <td>2013</td>\n",
       "      <td>5</td>\n",
       "      <td>서울특별시</td>\n",
       "      <td>강남구</td>\n",
       "      <td>11.002100</td>\n",
       "      <td>6.793237</td>\n",
       "      <td>서울특별시 강남구 개포동</td>\n",
       "      <td>아파트</td>\n",
       "      <td>아파트_매매</td>\n",
       "      <td>서울특별시 강남구 개포동 658-1</td>\n",
       "      <td>1</td>\n",
       "      <td>일반</td>\n",
       "    </tr>\n",
       "  </tbody>\n",
       "</table>\n",
       "</div>"
      ],
      "text/plain": [
       "             시군구     번지   본번  부번             건물명 전월세매매구분  전용면적(㎡)    계약년월  \\\n",
       "0  서울특별시 강남구 개포동  655-2  655   2  개포2차현대아파트(220)      매매    77.75  201309   \n",
       "1  서울특별시 강남구 개포동  655-2  655   2  개포2차현대아파트(220)      매매    77.75  201312   \n",
       "2  서울특별시 강남구 개포동  658-1  658   1  개포6차우성아파트1동~8동      매매    67.28  201302   \n",
       "3  서울특별시 강남구 개포동  658-1  658   1  개포6차우성아파트1동~8동      매매    67.28  201302   \n",
       "4  서울특별시 강남구 개포동  658-1  658   1  개포6차우성아파트1동~8동      매매    67.28  201305   \n",
       "\n",
       "   계약일  금액(만원)  월세(만원)  층  건축년도      도로명       가격/면적  year  month      시    구  \\\n",
       "0    8   57000       0  2  1988  언주로 103  733.118971  2013      9  서울특별시  강남구   \n",
       "1   16   57000       0  2  1988  언주로 103  733.118971  2013     12  서울특별시  강남구   \n",
       "2   11   55000       0  5  1987    언주로 3  817.479191  2013      2  서울특별시  강남구   \n",
       "3   22   58250       0  4  1987    언주로 3  865.784780  2013      2  서울특별시  강남구   \n",
       "4   10   60000       0  5  1987    언주로 3  891.795482  2013      5  서울특별시  강남구   \n",
       "\n",
       "   target_log_transformed  target/area_log_transformed              동 건물종류  \\\n",
       "0               10.950807                     6.597308  서울특별시 강남구 개포동  아파트   \n",
       "1               10.950807                     6.597308  서울특별시 강남구 개포동  아파트   \n",
       "2               10.915088                     6.706225  서울특별시 강남구 개포동  아파트   \n",
       "3               10.972499                     6.763636  서울특별시 강남구 개포동  아파트   \n",
       "4               11.002100                     6.793237  서울특별시 강남구 개포동  아파트   \n",
       "\n",
       "  trade_type                 지번주소  대장구분코드 대장구분명  \n",
       "0     아파트_매매  서울특별시 강남구 개포동 655-2       1    일반  \n",
       "1     아파트_매매  서울특별시 강남구 개포동 655-2       1    일반  \n",
       "2     아파트_매매  서울특별시 강남구 개포동 658-1       1    일반  \n",
       "3     아파트_매매  서울특별시 강남구 개포동 658-1       1    일반  \n",
       "4     아파트_매매  서울특별시 강남구 개포동 658-1       1    일반  "
      ]
     },
     "execution_count": 11,
     "metadata": {},
     "output_type": "execute_result"
    }
   ],
   "source": [
    "main_data_df = pd.read_csv('./prepped_data/main_data_ver_2.2.csv')\n",
    "print(main_data_df.shape)\n",
    "main_data_df.head()"
   ]
  },
  {
   "cell_type": "code",
   "execution_count": 12,
   "metadata": {},
   "outputs": [],
   "source": [
    "def roadname_modifier(x):\n",
    "    # x is a string\n",
    "    \n",
    "    if pd.isna(x) == True:\n",
    "        return x\n",
    "    else:\n",
    "        splitted = x.split('-')\n",
    "        \n",
    "        if len(splitted) == 1:\n",
    "            return x+'-0'\n",
    "        elif len(splitted) == 2:\n",
    "            return x\n",
    "        else:\n",
    "            raise ValueError('myerror')\n",
    "            "
   ]
  },
  {
   "cell_type": "code",
   "execution_count": 13,
   "metadata": {},
   "outputs": [],
   "source": [
    "main_data_df['도로명주소'] = main_data_df['시']+' '+main_data_df['구']+' '+main_data_df['도로명'].apply(roadname_modifier)"
   ]
  },
  {
   "cell_type": "code",
   "execution_count": 14,
   "metadata": {},
   "outputs": [],
   "source": [
    "#main_data_df.to_csv('main_data_ver_2.3.csv', index=False)"
   ]
  },
  {
   "cell_type": "code",
   "execution_count": 13,
   "metadata": {},
   "outputs": [],
   "source": [
    "selected_df = main_data_df[(main_data_df['지번주소'].isin(coor_df['지번주소'].unique()))\n",
    "                           |(main_data_df['지번주소'].isin(coor_df['도로명주소'].unique()))\n",
    "                          ]"
   ]
  },
  {
   "cell_type": "code",
   "execution_count": 14,
   "metadata": {},
   "outputs": [],
   "source": [
    "no_jibun_df = main_data_df.drop(selected_df.index)"
   ]
  },
  {
   "cell_type": "code",
   "execution_count": 15,
   "metadata": {},
   "outputs": [],
   "source": [
    "reselected_df = no_jibun_df[(no_jibun_df['도로명주소'].isin(coor_df['지번주소'].unique()))\n",
    "                       |(no_jibun_df['도로명주소'].isin(coor_df['도로명주소'].unique()))\n",
    "                      ]"
   ]
  },
  {
   "cell_type": "code",
   "execution_count": 16,
   "metadata": {},
   "outputs": [],
   "source": [
    "no_coor_df = no_jibun_df.drop(reselected_df.index)"
   ]
  },
  {
   "cell_type": "code",
   "execution_count": 18,
   "metadata": {},
   "outputs": [],
   "source": [
    "no_coor_df2 = pd.DataFrame({'지번주소':no_coor_df['지번주소'].unique().tolist()})"
   ]
  },
  {
   "cell_type": "code",
   "execution_count": 19,
   "metadata": {},
   "outputs": [],
   "source": [
    "no_coor_df2.to_csv('no_coor_addrs.csv', index=False)"
   ]
  },
  {
   "cell_type": "code",
   "execution_count": 20,
   "metadata": {},
   "outputs": [
    {
     "data": {
      "text/html": [
       "<div>\n",
       "<style scoped>\n",
       "    .dataframe tbody tr th:only-of-type {\n",
       "        vertical-align: middle;\n",
       "    }\n",
       "\n",
       "    .dataframe tbody tr th {\n",
       "        vertical-align: top;\n",
       "    }\n",
       "\n",
       "    .dataframe thead th {\n",
       "        text-align: right;\n",
       "    }\n",
       "</style>\n",
       "<table border=\"1\" class=\"dataframe\">\n",
       "  <thead>\n",
       "    <tr style=\"text-align: right;\">\n",
       "      <th></th>\n",
       "      <th>지번주소</th>\n",
       "      <th>도로명주소</th>\n",
       "      <th>x좌표</th>\n",
       "      <th>y좌표</th>\n",
       "    </tr>\n",
       "  </thead>\n",
       "  <tbody>\n",
       "    <tr>\n",
       "      <th>0</th>\n",
       "      <td>NaN</td>\n",
       "      <td>서울특별시 관악구 난곡로24가길 18-0</td>\n",
       "      <td>948851.369529</td>\n",
       "      <td>1.941318e+06</td>\n",
       "    </tr>\n",
       "    <tr>\n",
       "      <th>1</th>\n",
       "      <td>NaN</td>\n",
       "      <td>서울특별시 종로구 성균관로15길 33-0</td>\n",
       "      <td>955591.635372</td>\n",
       "      <td>1.954533e+06</td>\n",
       "    </tr>\n",
       "    <tr>\n",
       "      <th>2</th>\n",
       "      <td>NaN</td>\n",
       "      <td>서울특별시 성북구 인촌로7길 70-0</td>\n",
       "      <td>957563.072605</td>\n",
       "      <td>1.954475e+06</td>\n",
       "    </tr>\n",
       "    <tr>\n",
       "      <th>3</th>\n",
       "      <td>NaN</td>\n",
       "      <td>서울특별시 서초구 강남대로91길 5-0</td>\n",
       "      <td>957617.535913</td>\n",
       "      <td>1.945960e+06</td>\n",
       "    </tr>\n",
       "    <tr>\n",
       "      <th>4</th>\n",
       "      <td>NaN</td>\n",
       "      <td>서울특별시 서초구 바우뫼로11길 54-0</td>\n",
       "      <td>958121.727726</td>\n",
       "      <td>1.941641e+06</td>\n",
       "    </tr>\n",
       "  </tbody>\n",
       "</table>\n",
       "</div>"
      ],
      "text/plain": [
       "  지번주소                   도로명주소            x좌표           y좌표\n",
       "0  NaN  서울특별시 관악구 난곡로24가길 18-0  948851.369529  1.941318e+06\n",
       "1  NaN  서울특별시 종로구 성균관로15길 33-0  955591.635372  1.954533e+06\n",
       "2  NaN    서울특별시 성북구 인촌로7길 70-0  957563.072605  1.954475e+06\n",
       "3  NaN   서울특별시 서초구 강남대로91길 5-0  957617.535913  1.945960e+06\n",
       "4  NaN  서울특별시 서초구 바우뫼로11길 54-0  958121.727726  1.941641e+06"
      ]
     },
     "execution_count": 20,
     "metadata": {},
     "output_type": "execute_result"
    }
   ],
   "source": [
    "coor_df.head()"
   ]
  },
  {
   "cell_type": "code",
   "execution_count": null,
   "metadata": {},
   "outputs": [],
   "source": []
  },
  {
   "cell_type": "code",
   "execution_count": 22,
   "metadata": {},
   "outputs": [],
   "source": [
    "selected_df = coor_df[(coor_df['지번주소'].isin(main_data_df['지번주소'].unique()))\n",
    "                      |(coor_df['지번주소'].isin(main_data_df['도로명주소'].unique()))\n",
    "                     ]"
   ]
  },
  {
   "cell_type": "code",
   "execution_count": 23,
   "metadata": {},
   "outputs": [],
   "source": [
    "no_jibun_df = coor_df.drop(selected_df.index)"
   ]
  },
  {
   "cell_type": "code",
   "execution_count": 24,
   "metadata": {},
   "outputs": [],
   "source": [
    "reselected_df = no_jibun_df[(no_jibun_df['도로명주소'].isin(main_data_df['지번주소'].unique()))\n",
    "                       |(no_jibun_df['도로명주소'].isin(main_data_df['도로명주소'].unique()))\n",
    "                      ]"
   ]
  },
  {
   "cell_type": "code",
   "execution_count": 26,
   "metadata": {},
   "outputs": [
    {
     "name": "stdout",
     "output_type": "stream",
     "text": [
      "(6274, 4)\n"
     ]
    }
   ],
   "source": [
    "no_addr_df = no_jibun_df.drop(reselected_df.index)\n",
    "print(no_addr_df.shape)"
   ]
  },
  {
   "cell_type": "code",
   "execution_count": 27,
   "metadata": {},
   "outputs": [
    {
     "data": {
      "text/html": [
       "<div>\n",
       "<style scoped>\n",
       "    .dataframe tbody tr th:only-of-type {\n",
       "        vertical-align: middle;\n",
       "    }\n",
       "\n",
       "    .dataframe tbody tr th {\n",
       "        vertical-align: top;\n",
       "    }\n",
       "\n",
       "    .dataframe thead th {\n",
       "        text-align: right;\n",
       "    }\n",
       "</style>\n",
       "<table border=\"1\" class=\"dataframe\">\n",
       "  <thead>\n",
       "    <tr style=\"text-align: right;\">\n",
       "      <th></th>\n",
       "      <th>지번주소</th>\n",
       "      <th>도로명주소</th>\n",
       "      <th>x좌표</th>\n",
       "      <th>y좌표</th>\n",
       "    </tr>\n",
       "  </thead>\n",
       "  <tbody>\n",
       "    <tr>\n",
       "      <th>566442</th>\n",
       "      <td>서울특별시 서초구 고무래로</td>\n",
       "      <td>서울특별시 서초구 고무래로</td>\n",
       "      <td>956676.746259</td>\n",
       "      <td>1.945089e+06</td>\n",
       "    </tr>\n",
       "    <tr>\n",
       "      <th>566448</th>\n",
       "      <td>서울특별시 강남구  260</td>\n",
       "      <td>서울특별시 강남구  260</td>\n",
       "      <td>960294.041765</td>\n",
       "      <td>1.942320e+06</td>\n",
       "    </tr>\n",
       "    <tr>\n",
       "      <th>566450</th>\n",
       "      <td>서울특별시 마포구 망원동 521</td>\n",
       "      <td>서울특별시 마포구 망원동 521</td>\n",
       "      <td>947232.206233</td>\n",
       "      <td>1.950512e+06</td>\n",
       "    </tr>\n",
       "    <tr>\n",
       "      <th>566451</th>\n",
       "      <td>서울특별시 강남구 개포로</td>\n",
       "      <td>서울특별시 강남구 개포로</td>\n",
       "      <td>962615.409421</td>\n",
       "      <td>1.943838e+06</td>\n",
       "    </tr>\n",
       "    <tr>\n",
       "      <th>566452</th>\n",
       "      <td>서울특별시 강남구  310</td>\n",
       "      <td>서울특별시 강남구  310</td>\n",
       "      <td>958582.891361</td>\n",
       "      <td>1.943629e+06</td>\n",
       "    </tr>\n",
       "  </tbody>\n",
       "</table>\n",
       "</div>"
      ],
      "text/plain": [
       "                     지번주소              도로명주소            x좌표           y좌표\n",
       "566442    서울특별시 서초구 고무래로     서울특별시 서초구 고무래로   956676.746259  1.945089e+06\n",
       "566448     서울특별시 강남구  260     서울특별시 강남구  260  960294.041765  1.942320e+06\n",
       "566450  서울특별시 마포구 망원동 521  서울특별시 마포구 망원동 521  947232.206233  1.950512e+06\n",
       "566451     서울특별시 강남구 개포로      서울특별시 강남구 개포로   962615.409421  1.943838e+06\n",
       "566452     서울특별시 강남구  310     서울특별시 강남구  310  958582.891361  1.943629e+06"
      ]
     },
     "execution_count": 27,
     "metadata": {},
     "output_type": "execute_result"
    }
   ],
   "source": [
    "no_addr_df.head()"
   ]
  },
  {
   "cell_type": "code",
   "execution_count": 30,
   "metadata": {},
   "outputs": [
    {
     "name": "stdout",
     "output_type": "stream",
     "text": [
      "(657309, 4)\n"
     ]
    },
    {
     "data": {
      "text/plain": [
       "(651035, 4)"
      ]
     },
     "execution_count": 30,
     "metadata": {},
     "output_type": "execute_result"
    }
   ],
   "source": [
    "print(coor_df.shape)\n",
    "coor_df.drop(no_addr_df.index, inplace=True)\n",
    "coor_df.shape"
   ]
  },
  {
   "cell_type": "code",
   "execution_count": 31,
   "metadata": {},
   "outputs": [],
   "source": [
    "coor_df.to_csv('coor_data_ver_1.csv', index=False)"
   ]
  },
  {
   "cell_type": "code",
   "execution_count": null,
   "metadata": {},
   "outputs": [],
   "source": []
  }
 ],
 "metadata": {
  "kernelspec": {
   "display_name": "Python 3",
   "language": "python",
   "name": "python3"
  },
  "language_info": {
   "codemirror_mode": {
    "name": "ipython",
    "version": 3
   },
   "file_extension": ".py",
   "mimetype": "text/x-python",
   "name": "python",
   "nbconvert_exporter": "python",
   "pygments_lexer": "ipython3",
   "version": "3.7.9"
  }
 },
 "nbformat": 4,
 "nbformat_minor": 4
}
