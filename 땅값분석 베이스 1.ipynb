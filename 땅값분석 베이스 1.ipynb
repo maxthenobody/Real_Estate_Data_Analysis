{
 "cells": [
  {
   "cell_type": "code",
   "execution_count": 1,
   "metadata": {},
   "outputs": [],
   "source": [
    "import pandas as pd\n",
    "import os"
   ]
  },
  {
   "cell_type": "code",
   "execution_count": 2,
   "metadata": {},
   "outputs": [
    {
     "data": {
      "text/plain": [
       "['단독다가구(매매)_실거래가_20200101_20201231.csv',\n",
       " '단독다가구(매매)_실거래가_20210101_20210331.csv',\n",
       " '연립다세대(매매)__실거래가_20200101_20201231.csv',\n",
       " '연립다세대(매매)__실거래가_20210101_20210331.csv',\n",
       " '오피스텔(매매)__실거래가_20200101_20201231.csv',\n",
       " '오피스텔(매매)__실거래가_20210101_20210331.csv',\n",
       " '토지(매매)__실거래가_20200101_20201231.csv',\n",
       " '토지(매매)__실거래가_20210101_20210331.csv']"
      ]
     },
     "execution_count": 2,
     "metadata": {},
     "output_type": "execute_result"
    }
   ],
   "source": [
    "basedir = './국토교통부_실거래가_공개시스템/땅값분석/'\n",
    "filenames = [f for f in os.listdir(basedir) if f.endswith('.csv')]\n",
    "filenames"
   ]
  },
  {
   "cell_type": "code",
   "execution_count": 9,
   "metadata": {},
   "outputs": [
    {
     "name": "stdout",
     "output_type": "stream",
     "text": [
      "단독다가구(매매)_실거래가_20200101_20201231.csv\n",
      "(12234, 12)\n"
     ]
    },
    {
     "data": {
      "text/html": [
       "<div>\n",
       "<style scoped>\n",
       "    .dataframe tbody tr th:only-of-type {\n",
       "        vertical-align: middle;\n",
       "    }\n",
       "\n",
       "    .dataframe tbody tr th {\n",
       "        vertical-align: top;\n",
       "    }\n",
       "\n",
       "    .dataframe thead th {\n",
       "        text-align: right;\n",
       "    }\n",
       "</style>\n",
       "<table border=\"1\" class=\"dataframe\">\n",
       "  <thead>\n",
       "    <tr style=\"text-align: right;\">\n",
       "      <th></th>\n",
       "      <th>시군구</th>\n",
       "      <th>번지</th>\n",
       "      <th>주택유형</th>\n",
       "      <th>도로조건</th>\n",
       "      <th>연면적(㎡)</th>\n",
       "      <th>대지면적(㎡)</th>\n",
       "      <th>계약년월</th>\n",
       "      <th>계약일</th>\n",
       "      <th>거래금액(만원)</th>\n",
       "      <th>건축년도</th>\n",
       "      <th>도로명</th>\n",
       "      <th>해제사유발생일</th>\n",
       "    </tr>\n",
       "  </thead>\n",
       "  <tbody>\n",
       "    <tr>\n",
       "      <th>0</th>\n",
       "      <td>서울특별시 강남구 개포동</td>\n",
       "      <td>1***</td>\n",
       "      <td>다가구</td>\n",
       "      <td>8m미만</td>\n",
       "      <td>415.33</td>\n",
       "      <td>180.0</td>\n",
       "      <td>202003</td>\n",
       "      <td>13</td>\n",
       "      <td>260,000</td>\n",
       "      <td>1991.0</td>\n",
       "      <td>논현로18길</td>\n",
       "      <td>NaN</td>\n",
       "    </tr>\n",
       "  </tbody>\n",
       "</table>\n",
       "</div>"
      ],
      "text/plain": [
       "             시군구    번지 주택유형  도로조건  연면적(㎡)  대지면적(㎡)    계약년월  계약일 거래금액(만원)  \\\n",
       "0  서울특별시 강남구 개포동  1***  다가구  8m미만  415.33    180.0  202003   13  260,000   \n",
       "\n",
       "     건축년도     도로명  해제사유발생일  \n",
       "0  1991.0  논현로18길      NaN  "
      ]
     },
     "metadata": {},
     "output_type": "display_data"
    },
    {
     "name": "stdout",
     "output_type": "stream",
     "text": [
      "단독다가구(매매)_실거래가_20210101_20210331.csv\n",
      "(1611, 12)\n"
     ]
    },
    {
     "data": {
      "text/html": [
       "<div>\n",
       "<style scoped>\n",
       "    .dataframe tbody tr th:only-of-type {\n",
       "        vertical-align: middle;\n",
       "    }\n",
       "\n",
       "    .dataframe tbody tr th {\n",
       "        vertical-align: top;\n",
       "    }\n",
       "\n",
       "    .dataframe thead th {\n",
       "        text-align: right;\n",
       "    }\n",
       "</style>\n",
       "<table border=\"1\" class=\"dataframe\">\n",
       "  <thead>\n",
       "    <tr style=\"text-align: right;\">\n",
       "      <th></th>\n",
       "      <th>시군구</th>\n",
       "      <th>번지</th>\n",
       "      <th>주택유형</th>\n",
       "      <th>도로조건</th>\n",
       "      <th>연면적(㎡)</th>\n",
       "      <th>대지면적(㎡)</th>\n",
       "      <th>계약년월</th>\n",
       "      <th>계약일</th>\n",
       "      <th>거래금액(만원)</th>\n",
       "      <th>건축년도</th>\n",
       "      <th>도로명</th>\n",
       "      <th>해제사유발생일</th>\n",
       "    </tr>\n",
       "  </thead>\n",
       "  <tbody>\n",
       "    <tr>\n",
       "      <th>0</th>\n",
       "      <td>서울특별시 강남구 개포동</td>\n",
       "      <td>1***</td>\n",
       "      <td>단독</td>\n",
       "      <td>8m미만</td>\n",
       "      <td>498.42</td>\n",
       "      <td>540.1</td>\n",
       "      <td>202101</td>\n",
       "      <td>7</td>\n",
       "      <td>820,000</td>\n",
       "      <td>1997.0</td>\n",
       "      <td>개포로31길</td>\n",
       "      <td>NaN</td>\n",
       "    </tr>\n",
       "  </tbody>\n",
       "</table>\n",
       "</div>"
      ],
      "text/plain": [
       "             시군구    번지 주택유형  도로조건  연면적(㎡)  대지면적(㎡)    계약년월  계약일 거래금액(만원)  \\\n",
       "0  서울특별시 강남구 개포동  1***   단독  8m미만  498.42    540.1  202101    7  820,000   \n",
       "\n",
       "     건축년도     도로명  해제사유발생일  \n",
       "0  1997.0  개포로31길      NaN  "
      ]
     },
     "metadata": {},
     "output_type": "display_data"
    },
    {
     "name": "stdout",
     "output_type": "stream",
     "text": [
      "연립다세대(매매)__실거래가_20200101_20201231.csv\n",
      "(61984, 14)\n"
     ]
    },
    {
     "data": {
      "text/html": [
       "<div>\n",
       "<style scoped>\n",
       "    .dataframe tbody tr th:only-of-type {\n",
       "        vertical-align: middle;\n",
       "    }\n",
       "\n",
       "    .dataframe tbody tr th {\n",
       "        vertical-align: top;\n",
       "    }\n",
       "\n",
       "    .dataframe thead th {\n",
       "        text-align: right;\n",
       "    }\n",
       "</style>\n",
       "<table border=\"1\" class=\"dataframe\">\n",
       "  <thead>\n",
       "    <tr style=\"text-align: right;\">\n",
       "      <th></th>\n",
       "      <th>시군구</th>\n",
       "      <th>번지</th>\n",
       "      <th>본번</th>\n",
       "      <th>부번</th>\n",
       "      <th>건물명</th>\n",
       "      <th>전용면적(㎡)</th>\n",
       "      <th>대지권면적(㎡)</th>\n",
       "      <th>계약년월</th>\n",
       "      <th>계약일</th>\n",
       "      <th>거래금액(만원)</th>\n",
       "      <th>층</th>\n",
       "      <th>건축년도</th>\n",
       "      <th>도로명</th>\n",
       "      <th>해제사유발생일</th>\n",
       "    </tr>\n",
       "  </thead>\n",
       "  <tbody>\n",
       "    <tr>\n",
       "      <th>0</th>\n",
       "      <td>서울특별시 강남구 개포동</td>\n",
       "      <td>1164-27</td>\n",
       "      <td>1164</td>\n",
       "      <td>27</td>\n",
       "      <td>(1164-27)</td>\n",
       "      <td>51.78</td>\n",
       "      <td>38.86</td>\n",
       "      <td>202004</td>\n",
       "      <td>10</td>\n",
       "      <td>57,000</td>\n",
       "      <td>5</td>\n",
       "      <td>2016.0</td>\n",
       "      <td>논현로2길 66</td>\n",
       "      <td>NaN</td>\n",
       "    </tr>\n",
       "  </tbody>\n",
       "</table>\n",
       "</div>"
      ],
      "text/plain": [
       "             시군구       번지    본번  부번        건물명  전용면적(㎡)  대지권면적(㎡)    계약년월  \\\n",
       "0  서울특별시 강남구 개포동  1164-27  1164  27  (1164-27)    51.78     38.86  202004   \n",
       "\n",
       "   계약일 거래금액(만원)  층    건축년도       도로명  해제사유발생일  \n",
       "0   10   57,000  5  2016.0  논현로2길 66      NaN  "
      ]
     },
     "metadata": {},
     "output_type": "display_data"
    },
    {
     "name": "stdout",
     "output_type": "stream",
     "text": [
      "연립다세대(매매)__실거래가_20210101_20210331.csv\n",
      "(10930, 14)\n"
     ]
    },
    {
     "data": {
      "text/html": [
       "<div>\n",
       "<style scoped>\n",
       "    .dataframe tbody tr th:only-of-type {\n",
       "        vertical-align: middle;\n",
       "    }\n",
       "\n",
       "    .dataframe tbody tr th {\n",
       "        vertical-align: top;\n",
       "    }\n",
       "\n",
       "    .dataframe thead th {\n",
       "        text-align: right;\n",
       "    }\n",
       "</style>\n",
       "<table border=\"1\" class=\"dataframe\">\n",
       "  <thead>\n",
       "    <tr style=\"text-align: right;\">\n",
       "      <th></th>\n",
       "      <th>시군구</th>\n",
       "      <th>번지</th>\n",
       "      <th>본번</th>\n",
       "      <th>부번</th>\n",
       "      <th>건물명</th>\n",
       "      <th>전용면적(㎡)</th>\n",
       "      <th>대지권면적(㎡)</th>\n",
       "      <th>계약년월</th>\n",
       "      <th>계약일</th>\n",
       "      <th>거래금액(만원)</th>\n",
       "      <th>층</th>\n",
       "      <th>건축년도</th>\n",
       "      <th>도로명</th>\n",
       "      <th>해제사유발생일</th>\n",
       "    </tr>\n",
       "  </thead>\n",
       "  <tbody>\n",
       "    <tr>\n",
       "      <th>0</th>\n",
       "      <td>서울특별시 강남구 개포동</td>\n",
       "      <td>162-6</td>\n",
       "      <td>162</td>\n",
       "      <td>6</td>\n",
       "      <td>(162-6)</td>\n",
       "      <td>41.38</td>\n",
       "      <td>16.56</td>\n",
       "      <td>202102</td>\n",
       "      <td>17</td>\n",
       "      <td>19,000</td>\n",
       "      <td>-1</td>\n",
       "      <td>1987</td>\n",
       "      <td>선릉로10길 22-7</td>\n",
       "      <td>NaN</td>\n",
       "    </tr>\n",
       "  </tbody>\n",
       "</table>\n",
       "</div>"
      ],
      "text/plain": [
       "             시군구     번지   본번  부번      건물명  전용면적(㎡)  대지권면적(㎡)    계약년월  계약일  \\\n",
       "0  서울특별시 강남구 개포동  162-6  162   6  (162-6)    41.38     16.56  202102   17   \n",
       "\n",
       "  거래금액(만원)  층  건축년도          도로명  해제사유발생일  \n",
       "0   19,000 -1  1987  선릉로10길 22-7      NaN  "
      ]
     },
     "metadata": {},
     "output_type": "display_data"
    },
    {
     "name": "stdout",
     "output_type": "stream",
     "text": [
      "오피스텔(매매)__실거래가_20200101_20201231.csv\n",
      "(15202, 13)\n"
     ]
    },
    {
     "data": {
      "text/html": [
       "<div>\n",
       "<style scoped>\n",
       "    .dataframe tbody tr th:only-of-type {\n",
       "        vertical-align: middle;\n",
       "    }\n",
       "\n",
       "    .dataframe tbody tr th {\n",
       "        vertical-align: top;\n",
       "    }\n",
       "\n",
       "    .dataframe thead th {\n",
       "        text-align: right;\n",
       "    }\n",
       "</style>\n",
       "<table border=\"1\" class=\"dataframe\">\n",
       "  <thead>\n",
       "    <tr style=\"text-align: right;\">\n",
       "      <th></th>\n",
       "      <th>시군구</th>\n",
       "      <th>번지</th>\n",
       "      <th>본번</th>\n",
       "      <th>부번</th>\n",
       "      <th>단지명</th>\n",
       "      <th>전용면적(㎡)</th>\n",
       "      <th>계약년월</th>\n",
       "      <th>계약일</th>\n",
       "      <th>거래금액(만원)</th>\n",
       "      <th>층</th>\n",
       "      <th>건축년도</th>\n",
       "      <th>도로명</th>\n",
       "      <th>해제사유발생일</th>\n",
       "    </tr>\n",
       "  </thead>\n",
       "  <tbody>\n",
       "    <tr>\n",
       "      <th>0</th>\n",
       "      <td>서울특별시 강남구 개포동</td>\n",
       "      <td>13-3</td>\n",
       "      <td>13</td>\n",
       "      <td>3</td>\n",
       "      <td>대청타워</td>\n",
       "      <td>31.91</td>\n",
       "      <td>202001</td>\n",
       "      <td>14</td>\n",
       "      <td>22,000</td>\n",
       "      <td>9</td>\n",
       "      <td>1997.0</td>\n",
       "      <td>개포로 623</td>\n",
       "      <td>NaN</td>\n",
       "    </tr>\n",
       "  </tbody>\n",
       "</table>\n",
       "</div>"
      ],
      "text/plain": [
       "             시군구    번지  본번  부번   단지명  전용면적(㎡)    계약년월  계약일 거래금액(만원)  층  \\\n",
       "0  서울특별시 강남구 개포동  13-3  13   3  대청타워    31.91  202001   14   22,000  9   \n",
       "\n",
       "     건축년도      도로명  해제사유발생일  \n",
       "0  1997.0  개포로 623      NaN  "
      ]
     },
     "metadata": {},
     "output_type": "display_data"
    },
    {
     "name": "stdout",
     "output_type": "stream",
     "text": [
      "오피스텔(매매)__실거래가_20210101_20210331.csv\n",
      "(3333, 13)\n"
     ]
    },
    {
     "data": {
      "text/html": [
       "<div>\n",
       "<style scoped>\n",
       "    .dataframe tbody tr th:only-of-type {\n",
       "        vertical-align: middle;\n",
       "    }\n",
       "\n",
       "    .dataframe tbody tr th {\n",
       "        vertical-align: top;\n",
       "    }\n",
       "\n",
       "    .dataframe thead th {\n",
       "        text-align: right;\n",
       "    }\n",
       "</style>\n",
       "<table border=\"1\" class=\"dataframe\">\n",
       "  <thead>\n",
       "    <tr style=\"text-align: right;\">\n",
       "      <th></th>\n",
       "      <th>시군구</th>\n",
       "      <th>번지</th>\n",
       "      <th>본번</th>\n",
       "      <th>부번</th>\n",
       "      <th>단지명</th>\n",
       "      <th>전용면적(㎡)</th>\n",
       "      <th>계약년월</th>\n",
       "      <th>계약일</th>\n",
       "      <th>거래금액(만원)</th>\n",
       "      <th>층</th>\n",
       "      <th>건축년도</th>\n",
       "      <th>도로명</th>\n",
       "      <th>해제사유발생일</th>\n",
       "    </tr>\n",
       "  </thead>\n",
       "  <tbody>\n",
       "    <tr>\n",
       "      <th>0</th>\n",
       "      <td>서울특별시 강남구 개포동</td>\n",
       "      <td>13-3</td>\n",
       "      <td>13</td>\n",
       "      <td>3</td>\n",
       "      <td>대청타워</td>\n",
       "      <td>31.91</td>\n",
       "      <td>202101</td>\n",
       "      <td>13</td>\n",
       "      <td>23,500</td>\n",
       "      <td>14</td>\n",
       "      <td>1997.0</td>\n",
       "      <td>개포로 623</td>\n",
       "      <td>NaN</td>\n",
       "    </tr>\n",
       "  </tbody>\n",
       "</table>\n",
       "</div>"
      ],
      "text/plain": [
       "             시군구    번지  본번  부번   단지명  전용면적(㎡)    계약년월  계약일 거래금액(만원)   층  \\\n",
       "0  서울특별시 강남구 개포동  13-3  13   3  대청타워    31.91  202101   13   23,500  14   \n",
       "\n",
       "     건축년도      도로명  해제사유발생일  \n",
       "0  1997.0  개포로 623      NaN  "
      ]
     },
     "metadata": {},
     "output_type": "display_data"
    },
    {
     "name": "stdout",
     "output_type": "stream",
     "text": [
      "토지(매매)__실거래가_20200101_20201231.csv\n",
      "(7178, 11)\n"
     ]
    },
    {
     "data": {
      "text/html": [
       "<div>\n",
       "<style scoped>\n",
       "    .dataframe tbody tr th:only-of-type {\n",
       "        vertical-align: middle;\n",
       "    }\n",
       "\n",
       "    .dataframe tbody tr th {\n",
       "        vertical-align: top;\n",
       "    }\n",
       "\n",
       "    .dataframe thead th {\n",
       "        text-align: right;\n",
       "    }\n",
       "</style>\n",
       "<table border=\"1\" class=\"dataframe\">\n",
       "  <thead>\n",
       "    <tr style=\"text-align: right;\">\n",
       "      <th></th>\n",
       "      <th>시군구</th>\n",
       "      <th>번지</th>\n",
       "      <th>지목</th>\n",
       "      <th>용도지역</th>\n",
       "      <th>도로조건</th>\n",
       "      <th>계약년월</th>\n",
       "      <th>계약일</th>\n",
       "      <th>계약면적(㎡)</th>\n",
       "      <th>거래금액(만원)</th>\n",
       "      <th>지분구분</th>\n",
       "      <th>해제사유발생일</th>\n",
       "    </tr>\n",
       "  </thead>\n",
       "  <tbody>\n",
       "    <tr>\n",
       "      <th>0</th>\n",
       "      <td>서울특별시 동작구 상도동</td>\n",
       "      <td>1**</td>\n",
       "      <td>잡종지</td>\n",
       "      <td>제2종일반주거지역</td>\n",
       "      <td>8m미만</td>\n",
       "      <td>202001</td>\n",
       "      <td>2</td>\n",
       "      <td>4.67</td>\n",
       "      <td>1,400</td>\n",
       "      <td>지분</td>\n",
       "      <td>NaN</td>\n",
       "    </tr>\n",
       "  </tbody>\n",
       "</table>\n",
       "</div>"
      ],
      "text/plain": [
       "             시군구   번지   지목       용도지역  도로조건    계약년월  계약일  계약면적(㎡) 거래금액(만원)  \\\n",
       "0  서울특별시 동작구 상도동  1**  잡종지  제2종일반주거지역  8m미만  202001    2     4.67    1,400   \n",
       "\n",
       "  지분구분  해제사유발생일  \n",
       "0   지분      NaN  "
      ]
     },
     "metadata": {},
     "output_type": "display_data"
    },
    {
     "name": "stdout",
     "output_type": "stream",
     "text": [
      "토지(매매)__실거래가_20210101_20210331.csv\n",
      "(1115, 11)\n"
     ]
    },
    {
     "data": {
      "text/html": [
       "<div>\n",
       "<style scoped>\n",
       "    .dataframe tbody tr th:only-of-type {\n",
       "        vertical-align: middle;\n",
       "    }\n",
       "\n",
       "    .dataframe tbody tr th {\n",
       "        vertical-align: top;\n",
       "    }\n",
       "\n",
       "    .dataframe thead th {\n",
       "        text-align: right;\n",
       "    }\n",
       "</style>\n",
       "<table border=\"1\" class=\"dataframe\">\n",
       "  <thead>\n",
       "    <tr style=\"text-align: right;\">\n",
       "      <th></th>\n",
       "      <th>시군구</th>\n",
       "      <th>번지</th>\n",
       "      <th>지목</th>\n",
       "      <th>용도지역</th>\n",
       "      <th>도로조건</th>\n",
       "      <th>계약년월</th>\n",
       "      <th>계약일</th>\n",
       "      <th>계약면적(㎡)</th>\n",
       "      <th>거래금액(만원)</th>\n",
       "      <th>지분구분</th>\n",
       "      <th>해제사유발생일</th>\n",
       "    </tr>\n",
       "  </thead>\n",
       "  <tbody>\n",
       "    <tr>\n",
       "      <th>0</th>\n",
       "      <td>서울특별시 동작구 노량진동</td>\n",
       "      <td>2**</td>\n",
       "      <td>도로</td>\n",
       "      <td>제3종일반주거지역</td>\n",
       "      <td>-</td>\n",
       "      <td>202101</td>\n",
       "      <td>2</td>\n",
       "      <td>50.0</td>\n",
       "      <td>50,000</td>\n",
       "      <td></td>\n",
       "      <td>NaN</td>\n",
       "    </tr>\n",
       "  </tbody>\n",
       "</table>\n",
       "</div>"
      ],
      "text/plain": [
       "              시군구   번지  지목       용도지역 도로조건    계약년월  계약일  계약면적(㎡) 거래금액(만원)  \\\n",
       "0  서울특별시 동작구 노량진동  2**  도로  제3종일반주거지역    -  202101    2     50.0   50,000   \n",
       "\n",
       "  지분구분  해제사유발생일  \n",
       "0           NaN  "
      ]
     },
     "metadata": {},
     "output_type": "display_data"
    }
   ],
   "source": [
    "for f in filenames:\n",
    "    if '토지' in f:\n",
    "        df = pd.read_csv(basedir + f, header=14, encoding='euc-kr')\n",
    "    else:\n",
    "        df = pd.read_csv(basedir + f, header=15, encoding='euc-kr')\n",
    "    print(f)\n",
    "    print(df.shape)\n",
    "    display(df.head(1))"
   ]
  },
  {
   "cell_type": "code",
   "execution_count": 5,
   "metadata": {},
   "outputs": [
    {
     "name": "stdout",
     "output_type": "stream",
     "text": [
      "(12234, 12)\n"
     ]
    },
    {
     "data": {
      "text/html": [
       "<div>\n",
       "<style scoped>\n",
       "    .dataframe tbody tr th:only-of-type {\n",
       "        vertical-align: middle;\n",
       "    }\n",
       "\n",
       "    .dataframe tbody tr th {\n",
       "        vertical-align: top;\n",
       "    }\n",
       "\n",
       "    .dataframe thead th {\n",
       "        text-align: right;\n",
       "    }\n",
       "</style>\n",
       "<table border=\"1\" class=\"dataframe\">\n",
       "  <thead>\n",
       "    <tr style=\"text-align: right;\">\n",
       "      <th></th>\n",
       "      <th>시군구</th>\n",
       "      <th>번지</th>\n",
       "      <th>주택유형</th>\n",
       "      <th>도로조건</th>\n",
       "      <th>연면적(㎡)</th>\n",
       "      <th>대지면적(㎡)</th>\n",
       "      <th>계약년월</th>\n",
       "      <th>계약일</th>\n",
       "      <th>거래금액(만원)</th>\n",
       "      <th>건축년도</th>\n",
       "      <th>도로명</th>\n",
       "      <th>해제사유발생일</th>\n",
       "    </tr>\n",
       "  </thead>\n",
       "  <tbody>\n",
       "    <tr>\n",
       "      <th>0</th>\n",
       "      <td>서울특별시 강남구 개포동</td>\n",
       "      <td>1***</td>\n",
       "      <td>다가구</td>\n",
       "      <td>8m미만</td>\n",
       "      <td>415.33</td>\n",
       "      <td>180.0</td>\n",
       "      <td>202003</td>\n",
       "      <td>13</td>\n",
       "      <td>260,000</td>\n",
       "      <td>1991.0</td>\n",
       "      <td>논현로18길</td>\n",
       "      <td>NaN</td>\n",
       "    </tr>\n",
       "    <tr>\n",
       "      <th>1</th>\n",
       "      <td>서울특별시 강남구 개포동</td>\n",
       "      <td>1***</td>\n",
       "      <td>다가구</td>\n",
       "      <td>12m미만</td>\n",
       "      <td>477.74</td>\n",
       "      <td>219.6</td>\n",
       "      <td>202011</td>\n",
       "      <td>21</td>\n",
       "      <td>385,000</td>\n",
       "      <td>2003.0</td>\n",
       "      <td>논현로8길</td>\n",
       "      <td>NaN</td>\n",
       "    </tr>\n",
       "    <tr>\n",
       "      <th>2</th>\n",
       "      <td>서울특별시 강남구 개포동</td>\n",
       "      <td>1***</td>\n",
       "      <td>단독</td>\n",
       "      <td>8m미만</td>\n",
       "      <td>435.09</td>\n",
       "      <td>168.8</td>\n",
       "      <td>202007</td>\n",
       "      <td>16</td>\n",
       "      <td>265,000</td>\n",
       "      <td>1991.0</td>\n",
       "      <td>논현로6길</td>\n",
       "      <td>NaN</td>\n",
       "    </tr>\n",
       "    <tr>\n",
       "      <th>3</th>\n",
       "      <td>서울특별시 강남구 개포동</td>\n",
       "      <td>1***</td>\n",
       "      <td>단독</td>\n",
       "      <td>12m미만</td>\n",
       "      <td>467.38</td>\n",
       "      <td>168.9</td>\n",
       "      <td>202007</td>\n",
       "      <td>10</td>\n",
       "      <td>250,000</td>\n",
       "      <td>1990.0</td>\n",
       "      <td>논현로4길</td>\n",
       "      <td>NaN</td>\n",
       "    </tr>\n",
       "    <tr>\n",
       "      <th>4</th>\n",
       "      <td>서울특별시 강남구 개포동</td>\n",
       "      <td>1***</td>\n",
       "      <td>단독</td>\n",
       "      <td>12m미만</td>\n",
       "      <td>395.12</td>\n",
       "      <td>184.9</td>\n",
       "      <td>202001</td>\n",
       "      <td>17</td>\n",
       "      <td>245,000</td>\n",
       "      <td>1988.0</td>\n",
       "      <td>개포로20길</td>\n",
       "      <td>NaN</td>\n",
       "    </tr>\n",
       "  </tbody>\n",
       "</table>\n",
       "</div>"
      ],
      "text/plain": [
       "             시군구    번지 주택유형   도로조건  연면적(㎡)  대지면적(㎡)    계약년월  계약일 거래금액(만원)  \\\n",
       "0  서울특별시 강남구 개포동  1***  다가구   8m미만  415.33    180.0  202003   13  260,000   \n",
       "1  서울특별시 강남구 개포동  1***  다가구  12m미만  477.74    219.6  202011   21  385,000   \n",
       "2  서울특별시 강남구 개포동  1***   단독   8m미만  435.09    168.8  202007   16  265,000   \n",
       "3  서울특별시 강남구 개포동  1***   단독  12m미만  467.38    168.9  202007   10  250,000   \n",
       "4  서울특별시 강남구 개포동  1***   단독  12m미만  395.12    184.9  202001   17  245,000   \n",
       "\n",
       "     건축년도     도로명  해제사유발생일  \n",
       "0  1991.0  논현로18길      NaN  \n",
       "1  2003.0   논현로8길      NaN  \n",
       "2  1991.0   논현로6길      NaN  \n",
       "3  1990.0   논현로4길      NaN  \n",
       "4  1988.0  개포로20길      NaN  "
      ]
     },
     "execution_count": 5,
     "metadata": {},
     "output_type": "execute_result"
    }
   ],
   "source": [
    "first_df = pd.read_csv(basedir + filenames[0], header=15, encoding='euc-kr')\n",
    "print(first_df.shape)\n",
    "first_df.head()"
   ]
  },
  {
   "cell_type": "code",
   "execution_count": 10,
   "metadata": {},
   "outputs": [
    {
     "name": "stdout",
     "output_type": "stream",
     "text": [
      "(15, 12)\n"
     ]
    }
   ],
   "source": [
    "gaepo_df = first_df[first_df['시군구'].str.contains('개포동')]\n",
    "print(gaepo_df.shape)"
   ]
  },
  {
   "cell_type": "code",
   "execution_count": 11,
   "metadata": {},
   "outputs": [
    {
     "data": {
      "text/plain": [
       "array(['1***', '1**'], dtype=object)"
      ]
     },
     "execution_count": 11,
     "metadata": {},
     "output_type": "execute_result"
    }
   ],
   "source": [
    "gaepo_df['번지'].unique()"
   ]
  },
  {
   "cell_type": "code",
   "execution_count": 12,
   "metadata": {},
   "outputs": [
    {
     "data": {
      "text/plain": [
       "array(['1***', '1**', '7*', '5*', '*', '2**', '1*', '8*', '6*', '2*',\n",
       "       '9**', '8**', '5**', '4*', '9*', '4**', '7**', '6**', '3*', '3**',\n",
       "       '산1**', '산7*', '산*', '6***', '2***', '산2*', '4***', '3***', '산1*'],\n",
       "      dtype=object)"
      ]
     },
     "execution_count": 12,
     "metadata": {},
     "output_type": "execute_result"
    }
   ],
   "source": [
    "first_df['번지'].unique()"
   ]
  },
  {
   "cell_type": "code",
   "execution_count": 14,
   "metadata": {},
   "outputs": [
    {
     "name": "stdout",
     "output_type": "stream",
     "text": [
      "(983625, 9)\n"
     ]
    },
    {
     "data": {
      "text/html": [
       "<div>\n",
       "<style scoped>\n",
       "    .dataframe tbody tr th:only-of-type {\n",
       "        vertical-align: middle;\n",
       "    }\n",
       "\n",
       "    .dataframe tbody tr th {\n",
       "        vertical-align: top;\n",
       "    }\n",
       "\n",
       "    .dataframe thead th {\n",
       "        text-align: right;\n",
       "    }\n",
       "</style>\n",
       "<table border=\"1\" class=\"dataframe\">\n",
       "  <thead>\n",
       "    <tr style=\"text-align: right;\">\n",
       "      <th></th>\n",
       "      <th>지목명</th>\n",
       "      <th>토지면적</th>\n",
       "      <th>용도지역명1</th>\n",
       "      <th>용도지역명2</th>\n",
       "      <th>토지이동상황</th>\n",
       "      <th>지형높이</th>\n",
       "      <th>지형형상</th>\n",
       "      <th>도로접면</th>\n",
       "      <th>지번주소</th>\n",
       "    </tr>\n",
       "  </thead>\n",
       "  <tbody>\n",
       "    <tr>\n",
       "      <th>0</th>\n",
       "      <td>전</td>\n",
       "      <td>876.0</td>\n",
       "      <td>자연녹지지역</td>\n",
       "      <td>지정되지않음</td>\n",
       "      <td>전</td>\n",
       "      <td>완경사</td>\n",
       "      <td>부정형</td>\n",
       "      <td>맹지</td>\n",
       "      <td>서울특별시 강남구 개포동 100-0</td>\n",
       "    </tr>\n",
       "    <tr>\n",
       "      <th>1</th>\n",
       "      <td>전</td>\n",
       "      <td>641.0</td>\n",
       "      <td>자연녹지지역</td>\n",
       "      <td>지정되지않음</td>\n",
       "      <td>전</td>\n",
       "      <td>평지</td>\n",
       "      <td>부정형</td>\n",
       "      <td>맹지</td>\n",
       "      <td>서울특별시 강남구 개포동 101-0</td>\n",
       "    </tr>\n",
       "    <tr>\n",
       "      <th>2</th>\n",
       "      <td>전</td>\n",
       "      <td>509.0</td>\n",
       "      <td>자연녹지지역</td>\n",
       "      <td>지정되지않음</td>\n",
       "      <td>전</td>\n",
       "      <td>평지</td>\n",
       "      <td>부정형</td>\n",
       "      <td>맹지</td>\n",
       "      <td>서울특별시 강남구 개포동 102-0</td>\n",
       "    </tr>\n",
       "    <tr>\n",
       "      <th>3</th>\n",
       "      <td>전</td>\n",
       "      <td>48.7</td>\n",
       "      <td>자연녹지지역</td>\n",
       "      <td>개발제한구역</td>\n",
       "      <td>전</td>\n",
       "      <td>평지</td>\n",
       "      <td>부정형</td>\n",
       "      <td>맹지</td>\n",
       "      <td>서울특별시 강남구 개포동 103-0</td>\n",
       "    </tr>\n",
       "    <tr>\n",
       "      <th>4</th>\n",
       "      <td>전</td>\n",
       "      <td>2995.0</td>\n",
       "      <td>개발제한구역</td>\n",
       "      <td>자연녹지지역</td>\n",
       "      <td>전</td>\n",
       "      <td>완경사</td>\n",
       "      <td>부정형</td>\n",
       "      <td>맹지</td>\n",
       "      <td>서울특별시 강남구 개포동 104-1</td>\n",
       "    </tr>\n",
       "  </tbody>\n",
       "</table>\n",
       "</div>"
      ],
      "text/plain": [
       "  지목명    토지면적  용도지역명1  용도지역명2 토지이동상황 지형높이 지형형상 도로접면                 지번주소\n",
       "0   전   876.0  자연녹지지역  지정되지않음      전  완경사  부정형   맹지  서울특별시 강남구 개포동 100-0\n",
       "1   전   641.0  자연녹지지역  지정되지않음      전   평지  부정형   맹지  서울특별시 강남구 개포동 101-0\n",
       "2   전   509.0  자연녹지지역  지정되지않음      전   평지  부정형   맹지  서울특별시 강남구 개포동 102-0\n",
       "3   전    48.7  자연녹지지역  개발제한구역      전   평지  부정형   맹지  서울특별시 강남구 개포동 103-0\n",
       "4   전  2995.0  개발제한구역  자연녹지지역      전  완경사  부정형   맹지  서울특별시 강남구 개포동 104-1"
      ]
     },
     "execution_count": 14,
     "metadata": {},
     "output_type": "execute_result"
    }
   ],
   "source": [
    "land_specs_df = pd.read_csv('./토지특성정보/land_specs_production_ver_1.csv')\n",
    "print(land_specs_df.shape)\n",
    "land_specs_df.head()"
   ]
  },
  {
   "cell_type": "code",
   "execution_count": 15,
   "metadata": {},
   "outputs": [
    {
     "data": {
      "text/plain": [
       "array(['전', '답', '주거기타', '도로등', '전기타', '자연림', '토지임야', '하천등', '상업용',\n",
       "       '상업나지', '상업기타', '업무용', '아파트', '연립', '다세대', '단독', '주거나지', '주상용',\n",
       "       '주상기타', '공원등', '답기타', '주차장등', '임야기타', '유해.혐오시설', '위험시설', '주상나지',\n",
       "       '기타', '공업용', '공업기타', '공업나지', '운동장등', nan, '과수원', '콘도미니엄', '공항',\n",
       "       '조림', '특수기타', '골프장 대중제', '여객자동차터미널', '발전소', '고속도로휴게소', '유원지'],\n",
       "      dtype=object)"
      ]
     },
     "execution_count": 15,
     "metadata": {},
     "output_type": "execute_result"
    }
   ],
   "source": [
    "land_specs_df['토지이동상황'].unique()"
   ]
  },
  {
   "cell_type": "code",
   "execution_count": 17,
   "metadata": {},
   "outputs": [
    {
     "data": {
      "text/plain": [
       "array(['자연녹지지역', '개발제한구역', '제3종일반주거지역', '제2종일반주거지역', '제1종일반주거지역', '준주거지역',\n",
       "       '일반상업지역', '제1종전용주거지역', '생산녹지지역', '근린상업지역', '준공업지역', '유통상업지역',\n",
       "       '제2종전용주거지역', '중심상업지역', '보전녹지지역'], dtype=object)"
      ]
     },
     "execution_count": 17,
     "metadata": {},
     "output_type": "execute_result"
    }
   ],
   "source": [
    "land_specs_df['용도지역명1'].unique()"
   ]
  },
  {
   "cell_type": "code",
   "execution_count": 18,
   "metadata": {},
   "outputs": [
    {
     "data": {
      "text/plain": [
       "array(['지정되지않음', '개발제한구역', '자연녹지지역', '제3종일반주거지역', '제2종일반주거지역', '준주거지역',\n",
       "       '제1종일반주거지역', '일반상업지역', '제1종전용주거지역', '생산녹지지역', '근린상업지역', '준공업지역',\n",
       "       '제2종전용주거지역', '유통상업지역', '보전녹지지역', '중심상업지역'], dtype=object)"
      ]
     },
     "execution_count": 18,
     "metadata": {},
     "output_type": "execute_result"
    }
   ],
   "source": [
    "land_specs_df['용도지역명2'].unique()"
   ]
  },
  {
   "cell_type": "code",
   "execution_count": 19,
   "metadata": {},
   "outputs": [],
   "source": [
    "land_specs_df['본번'] = land_specs_df['지번주소'].apply(lambda x: x.split(' ')[3].split('-')[0])"
   ]
  },
  {
   "cell_type": "code",
   "execution_count": 20,
   "metadata": {},
   "outputs": [],
   "source": [
    "gaepo_df = land_specs_df[land_specs_df['지번주소'].str.contains('개포동')]"
   ]
  },
  {
   "cell_type": "code",
   "execution_count": 21,
   "metadata": {},
   "outputs": [],
   "source": [
    "gaepo_1000_df = gaepo_df[(gaepo_df['본번'].apply(int) >= 1000) & (gaepo_df['본번'].apply(int) < 2000)]"
   ]
  },
  {
   "cell_type": "code",
   "execution_count": 22,
   "metadata": {},
   "outputs": [
    {
     "data": {
      "text/plain": [
       "(1300, 10)"
      ]
     },
     "execution_count": 22,
     "metadata": {},
     "output_type": "execute_result"
    }
   ],
   "source": [
    "gaepo_1000_df.shape"
   ]
  },
  {
   "cell_type": "code",
   "execution_count": 23,
   "metadata": {},
   "outputs": [
    {
     "data": {
      "text/html": [
       "<div>\n",
       "<style scoped>\n",
       "    .dataframe tbody tr th:only-of-type {\n",
       "        vertical-align: middle;\n",
       "    }\n",
       "\n",
       "    .dataframe tbody tr th {\n",
       "        vertical-align: top;\n",
       "    }\n",
       "\n",
       "    .dataframe thead th {\n",
       "        text-align: right;\n",
       "    }\n",
       "</style>\n",
       "<table border=\"1\" class=\"dataframe\">\n",
       "  <thead>\n",
       "    <tr style=\"text-align: right;\">\n",
       "      <th></th>\n",
       "      <th>지목명</th>\n",
       "      <th>토지면적</th>\n",
       "      <th>용도지역명1</th>\n",
       "      <th>용도지역명2</th>\n",
       "      <th>토지이동상황</th>\n",
       "      <th>지형높이</th>\n",
       "      <th>지형형상</th>\n",
       "      <th>도로접면</th>\n",
       "      <th>지번주소</th>\n",
       "      <th>본번</th>\n",
       "    </tr>\n",
       "  </thead>\n",
       "  <tbody>\n",
       "    <tr>\n",
       "      <th>8</th>\n",
       "      <td>답</td>\n",
       "      <td>502.0</td>\n",
       "      <td>자연녹지지역</td>\n",
       "      <td>지정되지않음</td>\n",
       "      <td>전</td>\n",
       "      <td>완경사</td>\n",
       "      <td>삼각형</td>\n",
       "      <td>광대로한면</td>\n",
       "      <td>서울특별시 강남구 개포동 1042-15</td>\n",
       "      <td>1042</td>\n",
       "    </tr>\n",
       "    <tr>\n",
       "      <th>10</th>\n",
       "      <td>대</td>\n",
       "      <td>3017.0</td>\n",
       "      <td>자연녹지지역</td>\n",
       "      <td>지정되지않음</td>\n",
       "      <td>주거기타</td>\n",
       "      <td>완경사</td>\n",
       "      <td>사다리형</td>\n",
       "      <td>광대로한면</td>\n",
       "      <td>서울특별시 강남구 개포동 1055-0</td>\n",
       "      <td>1055</td>\n",
       "    </tr>\n",
       "    <tr>\n",
       "      <th>11</th>\n",
       "      <td>도로</td>\n",
       "      <td>170.0</td>\n",
       "      <td>자연녹지지역</td>\n",
       "      <td>지정되지않음</td>\n",
       "      <td>도로등</td>\n",
       "      <td>지정되지않음</td>\n",
       "      <td>지정되지않음</td>\n",
       "      <td>지정되지않음</td>\n",
       "      <td>서울특별시 강남구 개포동 1055-11</td>\n",
       "      <td>1055</td>\n",
       "    </tr>\n",
       "    <tr>\n",
       "      <th>12</th>\n",
       "      <td>잡종지</td>\n",
       "      <td>897.0</td>\n",
       "      <td>개발제한구역</td>\n",
       "      <td>자연녹지지역</td>\n",
       "      <td>전기타</td>\n",
       "      <td>완경사</td>\n",
       "      <td>부정형</td>\n",
       "      <td>맹지</td>\n",
       "      <td>서울특별시 강남구 개포동 1055-12</td>\n",
       "      <td>1055</td>\n",
       "    </tr>\n",
       "    <tr>\n",
       "      <th>13</th>\n",
       "      <td>전</td>\n",
       "      <td>416.0</td>\n",
       "      <td>개발제한구역</td>\n",
       "      <td>자연녹지지역</td>\n",
       "      <td>전기타</td>\n",
       "      <td>완경사</td>\n",
       "      <td>사다리형</td>\n",
       "      <td>맹지</td>\n",
       "      <td>서울특별시 강남구 개포동 1055-14</td>\n",
       "      <td>1055</td>\n",
       "    </tr>\n",
       "  </tbody>\n",
       "</table>\n",
       "</div>"
      ],
      "text/plain": [
       "    지목명    토지면적  용도지역명1  용도지역명2 토지이동상황    지형높이    지형형상    도로접면  \\\n",
       "8     답   502.0  자연녹지지역  지정되지않음      전     완경사     삼각형   광대로한면   \n",
       "10    대  3017.0  자연녹지지역  지정되지않음   주거기타     완경사    사다리형   광대로한면   \n",
       "11   도로   170.0  자연녹지지역  지정되지않음    도로등  지정되지않음  지정되지않음  지정되지않음   \n",
       "12  잡종지   897.0  개발제한구역  자연녹지지역    전기타     완경사     부정형      맹지   \n",
       "13    전   416.0  개발제한구역  자연녹지지역    전기타     완경사    사다리형      맹지   \n",
       "\n",
       "                     지번주소    본번  \n",
       "8   서울특별시 강남구 개포동 1042-15  1042  \n",
       "10   서울특별시 강남구 개포동 1055-0  1055  \n",
       "11  서울특별시 강남구 개포동 1055-11  1055  \n",
       "12  서울특별시 강남구 개포동 1055-12  1055  \n",
       "13  서울특별시 강남구 개포동 1055-14  1055  "
      ]
     },
     "execution_count": 23,
     "metadata": {},
     "output_type": "execute_result"
    }
   ],
   "source": [
    "gaepo_1000_df.head()"
   ]
  },
  {
   "cell_type": "code",
   "execution_count": 24,
   "metadata": {},
   "outputs": [
    {
     "data": {
      "text/plain": [
       "array(['자연녹지지역', '개발제한구역', '제3종일반주거지역', '제2종일반주거지역', '제1종일반주거지역', '준주거지역'],\n",
       "      dtype=object)"
      ]
     },
     "execution_count": 24,
     "metadata": {},
     "output_type": "execute_result"
    }
   ],
   "source": [
    "gaepo_1000_df['용도지역명1'].unique()"
   ]
  },
  {
   "cell_type": "code",
   "execution_count": 25,
   "metadata": {},
   "outputs": [
    {
     "data": {
      "text/plain": [
       "array(['전', '주거기타', '도로등', '전기타', '자연림', '토지임야', '하천등', '상업용', '상업나지',\n",
       "       '상업기타', '업무용', '아파트', '연립', '다세대', '단독', '주거나지', '주상용', '주상기타',\n",
       "       '공원등'], dtype=object)"
      ]
     },
     "execution_count": 25,
     "metadata": {},
     "output_type": "execute_result"
    }
   ],
   "source": [
    "gaepo_1000_df['토지이동상황'].unique()"
   ]
  },
  {
   "cell_type": "code",
   "execution_count": 26,
   "metadata": {},
   "outputs": [
    {
     "data": {
      "text/plain": [
       "(146, 10)"
      ]
     },
     "execution_count": 26,
     "metadata": {},
     "output_type": "execute_result"
    }
   ],
   "source": [
    "dandok_df = gaepo_1000_df[gaepo_1000_df['토지이동상황'] == '단독']\n",
    "dandok_df.shape"
   ]
  },
  {
   "cell_type": "code",
   "execution_count": 27,
   "metadata": {},
   "outputs": [
    {
     "data": {
      "text/plain": [
       "array(['제2종일반주거지역'], dtype=object)"
      ]
     },
     "execution_count": 27,
     "metadata": {},
     "output_type": "execute_result"
    }
   ],
   "source": [
    "dandok_df['용도지역명1'].unique()"
   ]
  },
  {
   "cell_type": "code",
   "execution_count": 28,
   "metadata": {},
   "outputs": [
    {
     "data": {
      "text/plain": [
       "['연립다세대(매매)__실거래가_20200101_20201231.csv',\n",
       " '연립다세대(매매)__실거래가_20210101_20210331.csv']"
      ]
     },
     "execution_count": 28,
     "metadata": {},
     "output_type": "execute_result"
    }
   ],
   "source": [
    "yunrip_filenames = [f for f in filenames if '연립' in f]\n",
    "yunrip_filenames"
   ]
  },
  {
   "cell_type": "code",
   "execution_count": 29,
   "metadata": {},
   "outputs": [],
   "source": [
    "yunrip_dfs_list = []\n",
    "for f in yunrip_filenames:\n",
    "    df = pd.read_csv(basedir + f, header=15, encoding='euc-kr')\n",
    "    yunrip_dfs_list.append(df)"
   ]
  },
  {
   "cell_type": "code",
   "execution_count": 30,
   "metadata": {},
   "outputs": [
    {
     "name": "stdout",
     "output_type": "stream",
     "text": [
      "(72914, 14)\n"
     ]
    },
    {
     "data": {
      "text/html": [
       "<div>\n",
       "<style scoped>\n",
       "    .dataframe tbody tr th:only-of-type {\n",
       "        vertical-align: middle;\n",
       "    }\n",
       "\n",
       "    .dataframe tbody tr th {\n",
       "        vertical-align: top;\n",
       "    }\n",
       "\n",
       "    .dataframe thead th {\n",
       "        text-align: right;\n",
       "    }\n",
       "</style>\n",
       "<table border=\"1\" class=\"dataframe\">\n",
       "  <thead>\n",
       "    <tr style=\"text-align: right;\">\n",
       "      <th></th>\n",
       "      <th>시군구</th>\n",
       "      <th>번지</th>\n",
       "      <th>본번</th>\n",
       "      <th>부번</th>\n",
       "      <th>건물명</th>\n",
       "      <th>전용면적(㎡)</th>\n",
       "      <th>대지권면적(㎡)</th>\n",
       "      <th>계약년월</th>\n",
       "      <th>계약일</th>\n",
       "      <th>거래금액(만원)</th>\n",
       "      <th>층</th>\n",
       "      <th>건축년도</th>\n",
       "      <th>도로명</th>\n",
       "      <th>해제사유발생일</th>\n",
       "    </tr>\n",
       "  </thead>\n",
       "  <tbody>\n",
       "    <tr>\n",
       "      <th>0</th>\n",
       "      <td>서울특별시 강남구 개포동</td>\n",
       "      <td>1164-27</td>\n",
       "      <td>1164</td>\n",
       "      <td>27</td>\n",
       "      <td>(1164-27)</td>\n",
       "      <td>51.78</td>\n",
       "      <td>38.86</td>\n",
       "      <td>202004</td>\n",
       "      <td>10</td>\n",
       "      <td>57,000</td>\n",
       "      <td>5</td>\n",
       "      <td>2016.0</td>\n",
       "      <td>논현로2길 66</td>\n",
       "      <td>NaN</td>\n",
       "    </tr>\n",
       "    <tr>\n",
       "      <th>1</th>\n",
       "      <td>서울특별시 강남구 개포동</td>\n",
       "      <td>1172-2</td>\n",
       "      <td>1172</td>\n",
       "      <td>2</td>\n",
       "      <td>(1172-2)</td>\n",
       "      <td>42.15</td>\n",
       "      <td>24.69</td>\n",
       "      <td>202007</td>\n",
       "      <td>21</td>\n",
       "      <td>30,700</td>\n",
       "      <td>3</td>\n",
       "      <td>2012.0</td>\n",
       "      <td>논현로6길 22-6</td>\n",
       "      <td>NaN</td>\n",
       "    </tr>\n",
       "    <tr>\n",
       "      <th>2</th>\n",
       "      <td>서울특별시 강남구 개포동</td>\n",
       "      <td>1216-4</td>\n",
       "      <td>1216</td>\n",
       "      <td>4</td>\n",
       "      <td>(1216-4)</td>\n",
       "      <td>36.52</td>\n",
       "      <td>23.44</td>\n",
       "      <td>202001</td>\n",
       "      <td>11</td>\n",
       "      <td>27,500</td>\n",
       "      <td>3</td>\n",
       "      <td>2012.0</td>\n",
       "      <td>개포로26길 16</td>\n",
       "      <td>NaN</td>\n",
       "    </tr>\n",
       "    <tr>\n",
       "      <th>3</th>\n",
       "      <td>서울특별시 강남구 개포동</td>\n",
       "      <td>170-18</td>\n",
       "      <td>170</td>\n",
       "      <td>18</td>\n",
       "      <td>(170-18)</td>\n",
       "      <td>54.63</td>\n",
       "      <td>44.19</td>\n",
       "      <td>202010</td>\n",
       "      <td>16</td>\n",
       "      <td>65,000</td>\n",
       "      <td>2</td>\n",
       "      <td>1988.0</td>\n",
       "      <td>선릉로12길 17</td>\n",
       "      <td>NaN</td>\n",
       "    </tr>\n",
       "    <tr>\n",
       "      <th>4</th>\n",
       "      <td>서울특별시 강남구 개포동</td>\n",
       "      <td>170-18</td>\n",
       "      <td>170</td>\n",
       "      <td>18</td>\n",
       "      <td>(170-18)</td>\n",
       "      <td>26.60</td>\n",
       "      <td>21.53</td>\n",
       "      <td>202012</td>\n",
       "      <td>23</td>\n",
       "      <td>31,000</td>\n",
       "      <td>1</td>\n",
       "      <td>1988.0</td>\n",
       "      <td>선릉로12길 17</td>\n",
       "      <td>NaN</td>\n",
       "    </tr>\n",
       "  </tbody>\n",
       "</table>\n",
       "</div>"
      ],
      "text/plain": [
       "             시군구       번지    본번  부번        건물명  전용면적(㎡)  대지권면적(㎡)    계약년월  \\\n",
       "0  서울특별시 강남구 개포동  1164-27  1164  27  (1164-27)    51.78     38.86  202004   \n",
       "1  서울특별시 강남구 개포동   1172-2  1172   2   (1172-2)    42.15     24.69  202007   \n",
       "2  서울특별시 강남구 개포동   1216-4  1216   4   (1216-4)    36.52     23.44  202001   \n",
       "3  서울특별시 강남구 개포동   170-18   170  18   (170-18)    54.63     44.19  202010   \n",
       "4  서울특별시 강남구 개포동   170-18   170  18   (170-18)    26.60     21.53  202012   \n",
       "\n",
       "   계약일 거래금액(만원)  층    건축년도         도로명  해제사유발생일  \n",
       "0   10   57,000  5  2016.0    논현로2길 66      NaN  \n",
       "1   21   30,700  3  2012.0  논현로6길 22-6      NaN  \n",
       "2   11   27,500  3  2012.0   개포로26길 16      NaN  \n",
       "3   16   65,000  2  1988.0   선릉로12길 17      NaN  \n",
       "4   23   31,000  1  1988.0   선릉로12길 17      NaN  "
      ]
     },
     "execution_count": 30,
     "metadata": {},
     "output_type": "execute_result"
    }
   ],
   "source": [
    "yunrip_df = pd.concat(yunrip_dfs_list).reset_index(drop=True)\n",
    "print(yunrip_df.shape)\n",
    "yunrip_df.head()"
   ]
  },
  {
   "cell_type": "code",
   "execution_count": 31,
   "metadata": {},
   "outputs": [
    {
     "data": {
      "text/plain": [
       "['오피스텔(매매)__실거래가_20200101_20201231.csv',\n",
       " '오피스텔(매매)__실거래가_20210101_20210331.csv']"
      ]
     },
     "execution_count": 31,
     "metadata": {},
     "output_type": "execute_result"
    }
   ],
   "source": [
    "officetel_filenames = [f for f in filenames if '오피' in f]\n",
    "officetel_filenames"
   ]
  },
  {
   "cell_type": "code",
   "execution_count": 32,
   "metadata": {},
   "outputs": [],
   "source": [
    "officetel_dfs_list = []\n",
    "for f in officetel_filenames:\n",
    "    df = pd.read_csv(basedir + f, header=15, encoding='euc-kr')\n",
    "    officetel_dfs_list.append(df)"
   ]
  },
  {
   "cell_type": "code",
   "execution_count": 33,
   "metadata": {},
   "outputs": [
    {
     "name": "stdout",
     "output_type": "stream",
     "text": [
      "(18535, 13)\n"
     ]
    },
    {
     "data": {
      "text/html": [
       "<div>\n",
       "<style scoped>\n",
       "    .dataframe tbody tr th:only-of-type {\n",
       "        vertical-align: middle;\n",
       "    }\n",
       "\n",
       "    .dataframe tbody tr th {\n",
       "        vertical-align: top;\n",
       "    }\n",
       "\n",
       "    .dataframe thead th {\n",
       "        text-align: right;\n",
       "    }\n",
       "</style>\n",
       "<table border=\"1\" class=\"dataframe\">\n",
       "  <thead>\n",
       "    <tr style=\"text-align: right;\">\n",
       "      <th></th>\n",
       "      <th>시군구</th>\n",
       "      <th>번지</th>\n",
       "      <th>본번</th>\n",
       "      <th>부번</th>\n",
       "      <th>단지명</th>\n",
       "      <th>전용면적(㎡)</th>\n",
       "      <th>계약년월</th>\n",
       "      <th>계약일</th>\n",
       "      <th>거래금액(만원)</th>\n",
       "      <th>층</th>\n",
       "      <th>건축년도</th>\n",
       "      <th>도로명</th>\n",
       "      <th>해제사유발생일</th>\n",
       "    </tr>\n",
       "  </thead>\n",
       "  <tbody>\n",
       "    <tr>\n",
       "      <th>0</th>\n",
       "      <td>서울특별시 강남구 개포동</td>\n",
       "      <td>13-3</td>\n",
       "      <td>13</td>\n",
       "      <td>3</td>\n",
       "      <td>대청타워</td>\n",
       "      <td>31.91</td>\n",
       "      <td>202001</td>\n",
       "      <td>14</td>\n",
       "      <td>22,000</td>\n",
       "      <td>9</td>\n",
       "      <td>1997.0</td>\n",
       "      <td>개포로 623</td>\n",
       "      <td>NaN</td>\n",
       "    </tr>\n",
       "    <tr>\n",
       "      <th>1</th>\n",
       "      <td>서울특별시 강남구 개포동</td>\n",
       "      <td>13-3</td>\n",
       "      <td>13</td>\n",
       "      <td>3</td>\n",
       "      <td>대청타워</td>\n",
       "      <td>32.44</td>\n",
       "      <td>202002</td>\n",
       "      <td>12</td>\n",
       "      <td>20,000</td>\n",
       "      <td>18</td>\n",
       "      <td>1997.0</td>\n",
       "      <td>개포로 623</td>\n",
       "      <td>NaN</td>\n",
       "    </tr>\n",
       "    <tr>\n",
       "      <th>2</th>\n",
       "      <td>서울특별시 강남구 개포동</td>\n",
       "      <td>13-3</td>\n",
       "      <td>13</td>\n",
       "      <td>3</td>\n",
       "      <td>대청타워</td>\n",
       "      <td>32.44</td>\n",
       "      <td>202002</td>\n",
       "      <td>14</td>\n",
       "      <td>23,000</td>\n",
       "      <td>11</td>\n",
       "      <td>1997.0</td>\n",
       "      <td>개포로 623</td>\n",
       "      <td>NaN</td>\n",
       "    </tr>\n",
       "    <tr>\n",
       "      <th>3</th>\n",
       "      <td>서울특별시 강남구 개포동</td>\n",
       "      <td>13-3</td>\n",
       "      <td>13</td>\n",
       "      <td>3</td>\n",
       "      <td>대청타워</td>\n",
       "      <td>32.86</td>\n",
       "      <td>202002</td>\n",
       "      <td>18</td>\n",
       "      <td>20,500</td>\n",
       "      <td>6</td>\n",
       "      <td>1997.0</td>\n",
       "      <td>개포로 623</td>\n",
       "      <td>NaN</td>\n",
       "    </tr>\n",
       "    <tr>\n",
       "      <th>4</th>\n",
       "      <td>서울특별시 강남구 개포동</td>\n",
       "      <td>13-3</td>\n",
       "      <td>13</td>\n",
       "      <td>3</td>\n",
       "      <td>대청타워</td>\n",
       "      <td>32.44</td>\n",
       "      <td>202002</td>\n",
       "      <td>26</td>\n",
       "      <td>22,000</td>\n",
       "      <td>19</td>\n",
       "      <td>1997.0</td>\n",
       "      <td>개포로 623</td>\n",
       "      <td>NaN</td>\n",
       "    </tr>\n",
       "  </tbody>\n",
       "</table>\n",
       "</div>"
      ],
      "text/plain": [
       "             시군구    번지  본번  부번   단지명  전용면적(㎡)    계약년월  계약일 거래금액(만원)   층  \\\n",
       "0  서울특별시 강남구 개포동  13-3  13   3  대청타워    31.91  202001   14   22,000   9   \n",
       "1  서울특별시 강남구 개포동  13-3  13   3  대청타워    32.44  202002   12   20,000  18   \n",
       "2  서울특별시 강남구 개포동  13-3  13   3  대청타워    32.44  202002   14   23,000  11   \n",
       "3  서울특별시 강남구 개포동  13-3  13   3  대청타워    32.86  202002   18   20,500   6   \n",
       "4  서울특별시 강남구 개포동  13-3  13   3  대청타워    32.44  202002   26   22,000  19   \n",
       "\n",
       "     건축년도      도로명  해제사유발생일  \n",
       "0  1997.0  개포로 623      NaN  \n",
       "1  1997.0  개포로 623      NaN  \n",
       "2  1997.0  개포로 623      NaN  \n",
       "3  1997.0  개포로 623      NaN  \n",
       "4  1997.0  개포로 623      NaN  "
      ]
     },
     "execution_count": 33,
     "metadata": {},
     "output_type": "execute_result"
    }
   ],
   "source": [
    "officetel_df = pd.concat(officetel_dfs_list).reset_index(drop=True)\n",
    "print(officetel_df.shape)\n",
    "officetel_df.head()"
   ]
  },
  {
   "cell_type": "code",
   "execution_count": 34,
   "metadata": {},
   "outputs": [
    {
     "data": {
      "text/plain": [
       "20210104.0    63\n",
       "20200831.0    39\n",
       "20201112.0    32\n",
       "20200925.0    31\n",
       "20200513.0    31\n",
       "              ..\n",
       "20201024.0     1\n",
       "20210130.0     1\n",
       "20200312.0     1\n",
       "20210103.0     1\n",
       "20200613.0     1\n",
       "Name: 해제사유발생일, Length: 333, dtype: int64"
      ]
     },
     "execution_count": 34,
     "metadata": {},
     "output_type": "execute_result"
    }
   ],
   "source": [
    "yunrip_df['해제사유발생일'].value_counts()"
   ]
  },
  {
   "cell_type": "code",
   "execution_count": null,
   "metadata": {},
   "outputs": [],
   "source": []
  }
 ],
 "metadata": {
  "kernelspec": {
   "display_name": "Python 3",
   "language": "python",
   "name": "python3"
  },
  "language_info": {
   "codemirror_mode": {
    "name": "ipython",
    "version": 3
   },
   "file_extension": ".py",
   "mimetype": "text/x-python",
   "name": "python",
   "nbconvert_exporter": "python",
   "pygments_lexer": "ipython3",
   "version": "3.7.9"
  }
 },
 "nbformat": 4,
 "nbformat_minor": 4
}
