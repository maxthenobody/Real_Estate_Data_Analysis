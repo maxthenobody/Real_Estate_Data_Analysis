{
 "cells": [
  {
   "cell_type": "code",
   "execution_count": 1,
   "metadata": {},
   "outputs": [],
   "source": [
    "import multiprocess as mp\n",
    "import numpy as np\n",
    "import pandas as pd\n",
    "import matplotlib.pyplot as plt\n",
    "import os\n",
    "import math\n",
    "from tqdm import tqdm\n",
    "import requests\n",
    "from urllib.parse import urlparse\n",
    "pd.set_option('display.max_rows', 500)\n",
    "pd.set_option('display.max_columns', 500)\n",
    "import datetime\n",
    "from sklearn.preprocessing import quantile_transform\n",
    "pd.options.mode.chained_assignment = None  # default='warn'\n",
    "import gc"
   ]
  },
  {
   "cell_type": "code",
   "execution_count": 2,
   "metadata": {},
   "outputs": [],
   "source": [
    "def landnum_modifier(x):\n",
    "    # x is a string\n",
    "    \n",
    "    splitted = x.split('-')\n",
    "    if len(splitted) == 1:\n",
    "        return x+'-0'\n",
    "    elif len(splitted) == 2:\n",
    "        return x\n",
    "    else:\n",
    "        raise ValueError('myerror')"
   ]
  },
  {
   "cell_type": "code",
   "execution_count": 3,
   "metadata": {},
   "outputs": [],
   "source": [
    "def create_land_specs_df():\n",
    "    basedir = './토지특성정보/'\n",
    "    filenames = [f for f in os.listdir(basedir) if (f.endswith('.csv'))&('AL_' in f)]\n",
    "    \n",
    "    dfs_list = []\n",
    "    for file in filenames:\n",
    "        df = pd.read_csv(basedir + file, encoding='euc-kr')\n",
    "        dfs_list.append(df)\n",
    "    \n",
    "    df = pd.concat(dfs_list).drop_duplicates().reset_index(drop=True)\n",
    "    \n",
    "    df['지번주소'] = df['법정동명'] + ' ' + df['지번'].apply(landnum_modifier)\n",
    "    df.drop(columns=['법정동명', '지번'], inplace=True)\n",
    "    \n",
    "    return df.sort_values(['지번주소', '기준년도'])"
   ]
  },
  {
   "cell_type": "code",
   "execution_count": 4,
   "metadata": {
    "scrolled": true
   },
   "outputs": [
    {
     "name": "stderr",
     "output_type": "stream",
     "text": [
      "c:\\users\\max6296\\ml\\lib\\site-packages\\IPython\\core\\interactiveshell.py:3338: DtypeWarning: Columns (0) have mixed types.Specify dtype option on import or set low_memory=False.\n",
      "  if (await self.run_code(code, result,  async_=asy)):\n"
     ]
    },
    {
     "name": "stdout",
     "output_type": "stream",
     "text": [
      "(14987366, 26)\n"
     ]
    },
    {
     "data": {
      "text/plain": [
       "(14922293, 26)"
      ]
     },
     "execution_count": 4,
     "metadata": {},
     "output_type": "execute_result"
    }
   ],
   "source": [
    "land_specs_df = create_land_specs_df()\n",
    "print(land_specs_df.shape)\n",
    "land_specs_df = land_specs_df[(land_specs_df['대장구분명'] == '일반')|(land_specs_df['대장구분명'] == '산')]\n",
    "land_specs_df.shape"
   ]
  },
  {
   "cell_type": "code",
   "execution_count": 5,
   "metadata": {},
   "outputs": [
    {
     "data": {
      "text/html": [
       "<div>\n",
       "<style scoped>\n",
       "    .dataframe tbody tr th:only-of-type {\n",
       "        vertical-align: middle;\n",
       "    }\n",
       "\n",
       "    .dataframe tbody tr th {\n",
       "        vertical-align: top;\n",
       "    }\n",
       "\n",
       "    .dataframe thead th {\n",
       "        text-align: right;\n",
       "    }\n",
       "</style>\n",
       "<table border=\"1\" class=\"dataframe\">\n",
       "  <thead>\n",
       "    <tr style=\"text-align: right;\">\n",
       "      <th></th>\n",
       "      <th>고유번호</th>\n",
       "      <th>법정동코드</th>\n",
       "      <th>대장구분코드</th>\n",
       "      <th>대장구분명</th>\n",
       "      <th>토지일련번호</th>\n",
       "      <th>기준년도</th>\n",
       "      <th>기준월</th>\n",
       "      <th>지목코드</th>\n",
       "      <th>지목명</th>\n",
       "      <th>토지면적</th>\n",
       "      <th>용도지역코드1</th>\n",
       "      <th>용도지역명1</th>\n",
       "      <th>용도지역코드2</th>\n",
       "      <th>용도지역명2</th>\n",
       "      <th>토지이용상황코드</th>\n",
       "      <th>토지이동상황</th>\n",
       "      <th>지형높이코드</th>\n",
       "      <th>지형높이</th>\n",
       "      <th>지형형상코드</th>\n",
       "      <th>지형형상</th>\n",
       "      <th>도로접면코드</th>\n",
       "      <th>도로접면</th>\n",
       "      <th>공시지가</th>\n",
       "      <th>데이터기준일자</th>\n",
       "      <th>기준연도</th>\n",
       "      <th>지번주소</th>\n",
       "    </tr>\n",
       "  </thead>\n",
       "  <tbody>\n",
       "    <tr>\n",
       "      <th>5931139</th>\n",
       "      <td>1168010300101000000</td>\n",
       "      <td>1168010300</td>\n",
       "      <td>1.0</td>\n",
       "      <td>일반</td>\n",
       "      <td>5961</td>\n",
       "      <td>2013.0</td>\n",
       "      <td>1</td>\n",
       "      <td>1</td>\n",
       "      <td>전</td>\n",
       "      <td>876.0</td>\n",
       "      <td>43</td>\n",
       "      <td>자연녹지지역</td>\n",
       "      <td>0</td>\n",
       "      <td>지정되지않음</td>\n",
       "      <td>510</td>\n",
       "      <td>전</td>\n",
       "      <td>3</td>\n",
       "      <td>완경사</td>\n",
       "      <td>7</td>\n",
       "      <td>부정형</td>\n",
       "      <td>12</td>\n",
       "      <td>맹지</td>\n",
       "      <td>325000</td>\n",
       "      <td>2017-10-17</td>\n",
       "      <td>NaN</td>\n",
       "      <td>서울특별시 강남구 개포동 100-0</td>\n",
       "    </tr>\n",
       "    <tr>\n",
       "      <th>5931140</th>\n",
       "      <td>1168010300101000000</td>\n",
       "      <td>1168010300</td>\n",
       "      <td>1.0</td>\n",
       "      <td>일반</td>\n",
       "      <td>5960</td>\n",
       "      <td>2014.0</td>\n",
       "      <td>1</td>\n",
       "      <td>1</td>\n",
       "      <td>전</td>\n",
       "      <td>876.0</td>\n",
       "      <td>43</td>\n",
       "      <td>자연녹지지역</td>\n",
       "      <td>0</td>\n",
       "      <td>지정되지않음</td>\n",
       "      <td>510</td>\n",
       "      <td>전</td>\n",
       "      <td>3</td>\n",
       "      <td>완경사</td>\n",
       "      <td>7</td>\n",
       "      <td>부정형</td>\n",
       "      <td>12</td>\n",
       "      <td>맹지</td>\n",
       "      <td>330000</td>\n",
       "      <td>2017-10-17</td>\n",
       "      <td>NaN</td>\n",
       "      <td>서울특별시 강남구 개포동 100-0</td>\n",
       "    </tr>\n",
       "    <tr>\n",
       "      <th>5931141</th>\n",
       "      <td>1168010300101000000</td>\n",
       "      <td>1168010300</td>\n",
       "      <td>1.0</td>\n",
       "      <td>일반</td>\n",
       "      <td>5954</td>\n",
       "      <td>2015.0</td>\n",
       "      <td>1</td>\n",
       "      <td>1</td>\n",
       "      <td>전</td>\n",
       "      <td>876.0</td>\n",
       "      <td>43</td>\n",
       "      <td>자연녹지지역</td>\n",
       "      <td>0</td>\n",
       "      <td>지정되지않음</td>\n",
       "      <td>510</td>\n",
       "      <td>전</td>\n",
       "      <td>3</td>\n",
       "      <td>완경사</td>\n",
       "      <td>7</td>\n",
       "      <td>부정형</td>\n",
       "      <td>12</td>\n",
       "      <td>맹지</td>\n",
       "      <td>335000</td>\n",
       "      <td>2017-10-17</td>\n",
       "      <td>NaN</td>\n",
       "      <td>서울특별시 강남구 개포동 100-0</td>\n",
       "    </tr>\n",
       "    <tr>\n",
       "      <th>5931142</th>\n",
       "      <td>1168010300101000000</td>\n",
       "      <td>1168010300</td>\n",
       "      <td>1.0</td>\n",
       "      <td>일반</td>\n",
       "      <td>5987</td>\n",
       "      <td>2016.0</td>\n",
       "      <td>1</td>\n",
       "      <td>1</td>\n",
       "      <td>전</td>\n",
       "      <td>876.0</td>\n",
       "      <td>43</td>\n",
       "      <td>자연녹지지역</td>\n",
       "      <td>0</td>\n",
       "      <td>지정되지않음</td>\n",
       "      <td>510</td>\n",
       "      <td>전</td>\n",
       "      <td>3</td>\n",
       "      <td>완경사</td>\n",
       "      <td>7</td>\n",
       "      <td>부정형</td>\n",
       "      <td>12</td>\n",
       "      <td>맹지</td>\n",
       "      <td>345000</td>\n",
       "      <td>2017-10-17</td>\n",
       "      <td>NaN</td>\n",
       "      <td>서울특별시 강남구 개포동 100-0</td>\n",
       "    </tr>\n",
       "    <tr>\n",
       "      <th>5931143</th>\n",
       "      <td>1168010300101000000</td>\n",
       "      <td>1168010300</td>\n",
       "      <td>1.0</td>\n",
       "      <td>일반</td>\n",
       "      <td>5964</td>\n",
       "      <td>2017.0</td>\n",
       "      <td>1</td>\n",
       "      <td>1</td>\n",
       "      <td>전</td>\n",
       "      <td>876.0</td>\n",
       "      <td>43</td>\n",
       "      <td>자연녹지지역</td>\n",
       "      <td>0</td>\n",
       "      <td>지정되지않음</td>\n",
       "      <td>510</td>\n",
       "      <td>전</td>\n",
       "      <td>3</td>\n",
       "      <td>완경사</td>\n",
       "      <td>7</td>\n",
       "      <td>부정형</td>\n",
       "      <td>12</td>\n",
       "      <td>맹지</td>\n",
       "      <td>355000</td>\n",
       "      <td>2018-05-23</td>\n",
       "      <td>NaN</td>\n",
       "      <td>서울특별시 강남구 개포동 100-0</td>\n",
       "    </tr>\n",
       "  </tbody>\n",
       "</table>\n",
       "</div>"
      ],
      "text/plain": [
       "                        고유번호       법정동코드  대장구분코드 대장구분명  토지일련번호    기준년도  기준월  \\\n",
       "5931139  1168010300101000000  1168010300     1.0    일반    5961  2013.0    1   \n",
       "5931140  1168010300101000000  1168010300     1.0    일반    5960  2014.0    1   \n",
       "5931141  1168010300101000000  1168010300     1.0    일반    5954  2015.0    1   \n",
       "5931142  1168010300101000000  1168010300     1.0    일반    5987  2016.0    1   \n",
       "5931143  1168010300101000000  1168010300     1.0    일반    5964  2017.0    1   \n",
       "\n",
       "         지목코드 지목명   토지면적  용도지역코드1  용도지역명1  용도지역코드2  용도지역명2  토지이용상황코드 토지이동상황  \\\n",
       "5931139     1   전  876.0       43  자연녹지지역        0  지정되지않음       510      전   \n",
       "5931140     1   전  876.0       43  자연녹지지역        0  지정되지않음       510      전   \n",
       "5931141     1   전  876.0       43  자연녹지지역        0  지정되지않음       510      전   \n",
       "5931142     1   전  876.0       43  자연녹지지역        0  지정되지않음       510      전   \n",
       "5931143     1   전  876.0       43  자연녹지지역        0  지정되지않음       510      전   \n",
       "\n",
       "         지형높이코드 지형높이  지형형상코드 지형형상  도로접면코드 도로접면    공시지가     데이터기준일자  기준연도  \\\n",
       "5931139       3  완경사       7  부정형      12   맹지  325000  2017-10-17   NaN   \n",
       "5931140       3  완경사       7  부정형      12   맹지  330000  2017-10-17   NaN   \n",
       "5931141       3  완경사       7  부정형      12   맹지  335000  2017-10-17   NaN   \n",
       "5931142       3  완경사       7  부정형      12   맹지  345000  2017-10-17   NaN   \n",
       "5931143       3  완경사       7  부정형      12   맹지  355000  2018-05-23   NaN   \n",
       "\n",
       "                        지번주소  \n",
       "5931139  서울특별시 강남구 개포동 100-0  \n",
       "5931140  서울특별시 강남구 개포동 100-0  \n",
       "5931141  서울특별시 강남구 개포동 100-0  \n",
       "5931142  서울특별시 강남구 개포동 100-0  \n",
       "5931143  서울특별시 강남구 개포동 100-0  "
      ]
     },
     "execution_count": 5,
     "metadata": {},
     "output_type": "execute_result"
    }
   ],
   "source": [
    "land_specs_df.head()"
   ]
  },
  {
   "cell_type": "code",
   "execution_count": 6,
   "metadata": {
    "scrolled": true
   },
   "outputs": [],
   "source": [
    "san_df = land_specs_df[land_specs_df['대장구분명'] == '산']"
   ]
  },
  {
   "cell_type": "code",
   "execution_count": 7,
   "metadata": {},
   "outputs": [],
   "source": [
    "def modify_san_addr(x):\n",
    "    # x is a string\n",
    "    \n",
    "    if pd.isna(x) == True:\n",
    "        return x\n",
    "    else:\n",
    "        splitted = x.split(' ')\n",
    "        return splitted[0] + ' ' + splitted[1] + ' ' + splitted[2] + ' ' + '산' + splitted[3]"
   ]
  },
  {
   "cell_type": "code",
   "execution_count": 8,
   "metadata": {},
   "outputs": [],
   "source": [
    "san_df['지번주소'] = san_df['지번주소'].apply(modify_san_addr)"
   ]
  },
  {
   "cell_type": "code",
   "execution_count": 9,
   "metadata": {},
   "outputs": [],
   "source": [
    "land_specs_df.loc[san_df.index, '지번주소'] = san_df['지번주소']"
   ]
  },
  {
   "cell_type": "code",
   "execution_count": 10,
   "metadata": {},
   "outputs": [],
   "source": [
    "land_specs_df.rename(columns={'기준년도':'년'}, inplace=True)"
   ]
  },
  {
   "cell_type": "code",
   "execution_count": 11,
   "metadata": {},
   "outputs": [
    {
     "data": {
      "text/plain": [
       "(8405705, 26)"
      ]
     },
     "execution_count": 11,
     "metadata": {},
     "output_type": "execute_result"
    }
   ],
   "source": [
    "land_specs_df.drop_duplicates(subset=['지번주소', '대장구분명', '년'], keep='first', inplace=True)\n",
    "land_specs_df.shape"
   ]
  },
  {
   "cell_type": "code",
   "execution_count": 12,
   "metadata": {},
   "outputs": [
    {
     "name": "stdout",
     "output_type": "stream",
     "text": [
      "(8405705, 10)\n"
     ]
    }
   ],
   "source": [
    "selected_df = land_specs_df[['지번주소', '년', '지목명', '토지면적', '용도지역명1', '용도지역명2', '토지이동상황',\n",
    "                           '지형높이', '지형형상', '도로접면']]\n",
    "print(selected_df.shape)"
   ]
  },
  {
   "cell_type": "code",
   "execution_count": 13,
   "metadata": {},
   "outputs": [
    {
     "data": {
      "text/html": [
       "<div>\n",
       "<style scoped>\n",
       "    .dataframe tbody tr th:only-of-type {\n",
       "        vertical-align: middle;\n",
       "    }\n",
       "\n",
       "    .dataframe tbody tr th {\n",
       "        vertical-align: top;\n",
       "    }\n",
       "\n",
       "    .dataframe thead th {\n",
       "        text-align: right;\n",
       "    }\n",
       "</style>\n",
       "<table border=\"1\" class=\"dataframe\">\n",
       "  <thead>\n",
       "    <tr style=\"text-align: right;\">\n",
       "      <th></th>\n",
       "      <th>지번주소</th>\n",
       "      <th>년</th>\n",
       "      <th>지목명</th>\n",
       "      <th>토지면적</th>\n",
       "      <th>용도지역명1</th>\n",
       "      <th>용도지역명2</th>\n",
       "      <th>토지이동상황</th>\n",
       "      <th>지형높이</th>\n",
       "      <th>지형형상</th>\n",
       "      <th>도로접면</th>\n",
       "    </tr>\n",
       "  </thead>\n",
       "  <tbody>\n",
       "    <tr>\n",
       "      <th>5931139</th>\n",
       "      <td>서울특별시 강남구 개포동 100-0</td>\n",
       "      <td>2013.0</td>\n",
       "      <td>전</td>\n",
       "      <td>876.0</td>\n",
       "      <td>자연녹지지역</td>\n",
       "      <td>지정되지않음</td>\n",
       "      <td>전</td>\n",
       "      <td>완경사</td>\n",
       "      <td>부정형</td>\n",
       "      <td>맹지</td>\n",
       "    </tr>\n",
       "    <tr>\n",
       "      <th>5931140</th>\n",
       "      <td>서울특별시 강남구 개포동 100-0</td>\n",
       "      <td>2014.0</td>\n",
       "      <td>전</td>\n",
       "      <td>876.0</td>\n",
       "      <td>자연녹지지역</td>\n",
       "      <td>지정되지않음</td>\n",
       "      <td>전</td>\n",
       "      <td>완경사</td>\n",
       "      <td>부정형</td>\n",
       "      <td>맹지</td>\n",
       "    </tr>\n",
       "    <tr>\n",
       "      <th>5931141</th>\n",
       "      <td>서울특별시 강남구 개포동 100-0</td>\n",
       "      <td>2015.0</td>\n",
       "      <td>전</td>\n",
       "      <td>876.0</td>\n",
       "      <td>자연녹지지역</td>\n",
       "      <td>지정되지않음</td>\n",
       "      <td>전</td>\n",
       "      <td>완경사</td>\n",
       "      <td>부정형</td>\n",
       "      <td>맹지</td>\n",
       "    </tr>\n",
       "    <tr>\n",
       "      <th>5931142</th>\n",
       "      <td>서울특별시 강남구 개포동 100-0</td>\n",
       "      <td>2016.0</td>\n",
       "      <td>전</td>\n",
       "      <td>876.0</td>\n",
       "      <td>자연녹지지역</td>\n",
       "      <td>지정되지않음</td>\n",
       "      <td>전</td>\n",
       "      <td>완경사</td>\n",
       "      <td>부정형</td>\n",
       "      <td>맹지</td>\n",
       "    </tr>\n",
       "    <tr>\n",
       "      <th>5931143</th>\n",
       "      <td>서울특별시 강남구 개포동 100-0</td>\n",
       "      <td>2017.0</td>\n",
       "      <td>전</td>\n",
       "      <td>876.0</td>\n",
       "      <td>자연녹지지역</td>\n",
       "      <td>지정되지않음</td>\n",
       "      <td>전</td>\n",
       "      <td>완경사</td>\n",
       "      <td>부정형</td>\n",
       "      <td>맹지</td>\n",
       "    </tr>\n",
       "  </tbody>\n",
       "</table>\n",
       "</div>"
      ],
      "text/plain": [
       "                        지번주소       년 지목명   토지면적  용도지역명1  용도지역명2 토지이동상황 지형높이  \\\n",
       "5931139  서울특별시 강남구 개포동 100-0  2013.0   전  876.0  자연녹지지역  지정되지않음      전  완경사   \n",
       "5931140  서울특별시 강남구 개포동 100-0  2014.0   전  876.0  자연녹지지역  지정되지않음      전  완경사   \n",
       "5931141  서울특별시 강남구 개포동 100-0  2015.0   전  876.0  자연녹지지역  지정되지않음      전  완경사   \n",
       "5931142  서울특별시 강남구 개포동 100-0  2016.0   전  876.0  자연녹지지역  지정되지않음      전  완경사   \n",
       "5931143  서울특별시 강남구 개포동 100-0  2017.0   전  876.0  자연녹지지역  지정되지않음      전  완경사   \n",
       "\n",
       "        지형형상 도로접면  \n",
       "5931139  부정형   맹지  \n",
       "5931140  부정형   맹지  \n",
       "5931141  부정형   맹지  \n",
       "5931142  부정형   맹지  \n",
       "5931143  부정형   맹지  "
      ]
     },
     "execution_count": 13,
     "metadata": {},
     "output_type": "execute_result"
    }
   ],
   "source": [
    "selected_df.head()"
   ]
  },
  {
   "cell_type": "code",
   "execution_count": 14,
   "metadata": {},
   "outputs": [
    {
     "name": "stdout",
     "output_type": "stream",
     "text": [
      "Wall time: 20.9 s\n"
     ]
    }
   ],
   "source": [
    "%%time\n",
    "selected_df.to_csv('./prepped_data/land_specs_baseline.csv', index=False)"
   ]
  }
 ],
 "metadata": {
  "kernelspec": {
   "display_name": "Python 3",
   "language": "python",
   "name": "python3"
  },
  "language_info": {
   "codemirror_mode": {
    "name": "ipython",
    "version": 3
   },
   "file_extension": ".py",
   "mimetype": "text/x-python",
   "name": "python",
   "nbconvert_exporter": "python",
   "pygments_lexer": "ipython3",
   "version": "3.7.9"
  }
 },
 "nbformat": 4,
 "nbformat_minor": 4
}
