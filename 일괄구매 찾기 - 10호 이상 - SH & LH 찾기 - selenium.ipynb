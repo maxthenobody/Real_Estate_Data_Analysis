{
 "cells": [
  {
   "cell_type": "code",
   "execution_count": 1,
   "metadata": {},
   "outputs": [],
   "source": [
    "import pandas as pd\n",
    "import numpy as np\n",
    "import os\n",
    "pd.set_option('display.max_rows', 500)\n",
    "pd.set_option('display.max_columns', 500)\n",
    "from tqdm import tqdm\n",
    "import matplotlib.pyplot as plt\n",
    "import seaborn as sns\n",
    "import matplotlib\n",
    "matplotlib.rcParams['axes.unicode_minus'] = False\n",
    "pd.options.mode.chained_assignment = None  # default='warn'\n",
    "plt.rcParams['font.family'] = 'Malgun Gothic'\n",
    "import datetime\n",
    "import time"
   ]
  },
  {
   "cell_type": "code",
   "execution_count": 2,
   "metadata": {},
   "outputs": [],
   "source": [
    "def day_modifier(x):\n",
    "    # x is a number\n",
    "    \n",
    "    if pd.isna(x) == True:\n",
    "        return x\n",
    "    else:\n",
    "        x = str(x)\n",
    "        if len(x) == 1:\n",
    "            return '0' + x\n",
    "        else:\n",
    "            return x"
   ]
  },
  {
   "cell_type": "code",
   "execution_count": 3,
   "metadata": {},
   "outputs": [],
   "source": [
    "def landnum_modifier(x):\n",
    "    # x is a string\n",
    "    \n",
    "    if pd.isna(x) == True:\n",
    "        return x\n",
    "    else:\n",
    "        x = str(x).replace('외', '').replace(' ','')\n",
    "        splitted = x.split('-')\n",
    "        if len(splitted) == 1:\n",
    "            return x + '-0'\n",
    "        else:\n",
    "            return x"
   ]
  },
  {
   "cell_type": "code",
   "execution_count": 4,
   "metadata": {},
   "outputs": [],
   "source": [
    "def data_prep(bdtype, tradetype):\n",
    "    # bdtype is a string: one of 아파트, 연립다세대 or 오피스텔\n",
    "    # tradetype is a string: one of 매매 or 전월세\n",
    "    \n",
    "    basedir = './국토교통부_실거래가_공개시스템/{}/{}/'.format(bdtype, tradetype)\n",
    "    filenames = [f for f in os.listdir(basedir) if (f.endswith('.csv'))&('(' in f)]\n",
    "    \n",
    "    dfs_list = []\n",
    "    for i, f in tqdm(enumerate(filenames)):\n",
    "        df = pd.read_csv(basedir + f, encoding='euc-kr', header=15)\n",
    "        if '해제사유발생일' in df.columns.tolist():\n",
    "            df = df[df['해제사유발생일'].isna()]\n",
    "            df = df.drop(columns=['해제사유발생일'])\n",
    "\n",
    "        dfs_list.append(df)\n",
    "    \n",
    "    concat_df = pd.concat(dfs_list).reset_index(drop=True)\n",
    "        \n",
    "    concat_df['번지'] = concat_df['번지'].apply(landnum_modifier)\n",
    "    \n",
    "    concat_df['계약년월'] = concat_df['계약년월'].apply(str)\n",
    "    concat_df['계약일'] = concat_df['계약일'].apply(str)\n",
    "    \n",
    "    concat_df['계약날짜기준_건물연식'] = concat_df['계약년월'].apply(lambda x: int(x[:4])) - concat_df['건축년도']\n",
    "    \n",
    "    concat_df['계약일'] = concat_df['계약일'].apply(day_modifier)\n",
    "    \n",
    "    concat_df['계약날짜'] = concat_df['계약년월'].apply(lambda x: x[:4]) + '-' + concat_df['계약년월'].apply(lambda x: x[-2:])\\\n",
    "    + '-' + concat_df['계약일']\n",
    "    \n",
    "    concat_df['계약날짜'] = pd.to_datetime(concat_df['계약날짜'], format='%Y-%m-%d')\n",
    "    \n",
    "    concat_df['거래금액(만원)'] = concat_df['거래금액(만원)'].apply(lambda x: int(x.replace(',','')))\n",
    "    concat_df['단가(만원/㎡)'] = concat_df['거래금액(만원)'] / concat_df['전용면적(㎡)']\n",
    "    \n",
    "    concat_df['지번주소'] = concat_df['시군구'] + ' ' + concat_df['번지']\n",
    "        \n",
    "    cols_to_drop = ['시군구', '번지', '본번', '부번', '지번주소', '계약년월', '계약일', '도로명']\n",
    "        \n",
    "    concat_df = concat_df[['지번주소', '도로명'] + [col for col in concat_df.columns if col not in cols_to_drop]]\n",
    "    \n",
    "    date_today = pd.to_datetime(datetime.datetime.now().strftime('%Y-%m-%d'), format='%Y-%m-%d')\n",
    "    concat_df['건물연식'] = date_today.year - concat_df['건축년도']\n",
    "    \n",
    "    concat_df = concat_df.dropna(subset=['지번주소'])\n",
    "    \n",
    "    if '건물명' in concat_df.columns:\n",
    "        concat_df.rename(columns={'건물명':'건물(단지)명'}, inplace=True)\n",
    "    elif '단지명' in concat_df.columns:\n",
    "        concat_df.rename(columns={'단지명':'건물(단지)명'}, inplace=True)\n",
    "    \n",
    "    concat_df = concat_df[concat_df['층'] >= 0].reset_index(drop=True)\n",
    "    \n",
    "    return concat_df"
   ]
  },
  {
   "cell_type": "code",
   "execution_count": 5,
   "metadata": {},
   "outputs": [
    {
     "name": "stderr",
     "output_type": "stream",
     "text": [
      "16it [00:01, 10.44it/s]\n"
     ]
    },
    {
     "name": "stdout",
     "output_type": "stream",
     "text": [
      "(101278, 13)\n"
     ]
    },
    {
     "data": {
      "text/html": [
       "<div>\n",
       "<style scoped>\n",
       "    .dataframe tbody tr th:only-of-type {\n",
       "        vertical-align: middle;\n",
       "    }\n",
       "\n",
       "    .dataframe tbody tr th {\n",
       "        vertical-align: top;\n",
       "    }\n",
       "\n",
       "    .dataframe thead th {\n",
       "        text-align: right;\n",
       "    }\n",
       "</style>\n",
       "<table border=\"1\" class=\"dataframe\">\n",
       "  <thead>\n",
       "    <tr style=\"text-align: right;\">\n",
       "      <th></th>\n",
       "      <th>지번주소</th>\n",
       "      <th>도로명</th>\n",
       "      <th>건물(단지)명</th>\n",
       "      <th>전용면적(㎡)</th>\n",
       "      <th>대지권면적(㎡)</th>\n",
       "      <th>거래금액(만원)</th>\n",
       "      <th>층</th>\n",
       "      <th>건축년도</th>\n",
       "      <th>계약날짜기준_건물연식</th>\n",
       "      <th>계약날짜</th>\n",
       "      <th>단가(만원/㎡)</th>\n",
       "      <th>건물연식</th>\n",
       "      <th>부동산유형</th>\n",
       "    </tr>\n",
       "  </thead>\n",
       "  <tbody>\n",
       "    <tr>\n",
       "      <th>0</th>\n",
       "      <td>서울특별시 강남구 개포동 1216-4</td>\n",
       "      <td>개포로26길 16</td>\n",
       "      <td>(1216-4)</td>\n",
       "      <td>33.77</td>\n",
       "      <td>21.67</td>\n",
       "      <td>24800</td>\n",
       "      <td>4</td>\n",
       "      <td>2012.0</td>\n",
       "      <td>3.0</td>\n",
       "      <td>2015-03-26</td>\n",
       "      <td>734.379627</td>\n",
       "      <td>9.0</td>\n",
       "      <td>연립다세대</td>\n",
       "    </tr>\n",
       "    <tr>\n",
       "      <th>1</th>\n",
       "      <td>서울특별시 강남구 개포동 1216-4</td>\n",
       "      <td>개포로26길 16</td>\n",
       "      <td>(1216-4)</td>\n",
       "      <td>35.87</td>\n",
       "      <td>23.02</td>\n",
       "      <td>27200</td>\n",
       "      <td>4</td>\n",
       "      <td>2012.0</td>\n",
       "      <td>3.0</td>\n",
       "      <td>2015-06-23</td>\n",
       "      <td>758.293839</td>\n",
       "      <td>9.0</td>\n",
       "      <td>연립다세대</td>\n",
       "    </tr>\n",
       "    <tr>\n",
       "      <th>2</th>\n",
       "      <td>서울특별시 강남구 개포동 1216-4</td>\n",
       "      <td>개포로26길 16</td>\n",
       "      <td>(1216-4)</td>\n",
       "      <td>29.12</td>\n",
       "      <td>18.68</td>\n",
       "      <td>22200</td>\n",
       "      <td>4</td>\n",
       "      <td>2012.0</td>\n",
       "      <td>3.0</td>\n",
       "      <td>2015-07-20</td>\n",
       "      <td>762.362637</td>\n",
       "      <td>9.0</td>\n",
       "      <td>연립다세대</td>\n",
       "    </tr>\n",
       "    <tr>\n",
       "      <th>3</th>\n",
       "      <td>서울특별시 강남구 개포동 1216-4</td>\n",
       "      <td>개포로26길 16</td>\n",
       "      <td>(1216-4)</td>\n",
       "      <td>29.97</td>\n",
       "      <td>19.23</td>\n",
       "      <td>22500</td>\n",
       "      <td>3</td>\n",
       "      <td>2012.0</td>\n",
       "      <td>3.0</td>\n",
       "      <td>2015-08-06</td>\n",
       "      <td>750.750751</td>\n",
       "      <td>9.0</td>\n",
       "      <td>연립다세대</td>\n",
       "    </tr>\n",
       "    <tr>\n",
       "      <th>4</th>\n",
       "      <td>서울특별시 강남구 개포동 1169-5</td>\n",
       "      <td>논현로6길 10-14</td>\n",
       "      <td>RAON</td>\n",
       "      <td>47.19</td>\n",
       "      <td>28.71</td>\n",
       "      <td>46500</td>\n",
       "      <td>3</td>\n",
       "      <td>2015.0</td>\n",
       "      <td>0.0</td>\n",
       "      <td>2015-10-22</td>\n",
       "      <td>985.378258</td>\n",
       "      <td>6.0</td>\n",
       "      <td>연립다세대</td>\n",
       "    </tr>\n",
       "  </tbody>\n",
       "</table>\n",
       "</div>"
      ],
      "text/plain": [
       "                   지번주소          도로명   건물(단지)명  전용면적(㎡)  대지권면적(㎡)  거래금액(만원)  \\\n",
       "0  서울특별시 강남구 개포동 1216-4    개포로26길 16  (1216-4)    33.77     21.67     24800   \n",
       "1  서울특별시 강남구 개포동 1216-4    개포로26길 16  (1216-4)    35.87     23.02     27200   \n",
       "2  서울특별시 강남구 개포동 1216-4    개포로26길 16  (1216-4)    29.12     18.68     22200   \n",
       "3  서울특별시 강남구 개포동 1216-4    개포로26길 16  (1216-4)    29.97     19.23     22500   \n",
       "4  서울특별시 강남구 개포동 1169-5  논현로6길 10-14      RAON    47.19     28.71     46500   \n",
       "\n",
       "   층    건축년도  계약날짜기준_건물연식       계약날짜    단가(만원/㎡)  건물연식  부동산유형  \n",
       "0  4  2012.0          3.0 2015-03-26  734.379627   9.0  연립다세대  \n",
       "1  4  2012.0          3.0 2015-06-23  758.293839   9.0  연립다세대  \n",
       "2  4  2012.0          3.0 2015-07-20  762.362637   9.0  연립다세대  \n",
       "3  3  2012.0          3.0 2015-08-06  750.750751   9.0  연립다세대  \n",
       "4  3  2015.0          0.0 2015-10-22  985.378258   6.0  연립다세대  "
      ]
     },
     "execution_count": 5,
     "metadata": {},
     "output_type": "execute_result"
    }
   ],
   "source": [
    "yunrip_df = data_prep('연립다세대', '매매')\n",
    "yunrip_df = yunrip_df[(yunrip_df['계약날짜'] >= pd.to_datetime('2015-01-01'))\n",
    "                      &(yunrip_df['계약날짜기준_건물연식'] <= 5)\n",
    "                     ]\n",
    "yunrip_df = yunrip_df.reset_index(drop=True)\n",
    "yunrip_df['부동산유형'] = '연립다세대'\n",
    "print(yunrip_df.shape)\n",
    "yunrip_df.head()"
   ]
  },
  {
   "cell_type": "code",
   "execution_count": 6,
   "metadata": {},
   "outputs": [
    {
     "name": "stdout",
     "output_type": "stream",
     "text": [
      "(101278, 12)\n"
     ]
    },
    {
     "data": {
      "text/html": [
       "<div>\n",
       "<style scoped>\n",
       "    .dataframe tbody tr th:only-of-type {\n",
       "        vertical-align: middle;\n",
       "    }\n",
       "\n",
       "    .dataframe tbody tr th {\n",
       "        vertical-align: top;\n",
       "    }\n",
       "\n",
       "    .dataframe thead th {\n",
       "        text-align: right;\n",
       "    }\n",
       "</style>\n",
       "<table border=\"1\" class=\"dataframe\">\n",
       "  <thead>\n",
       "    <tr style=\"text-align: right;\">\n",
       "      <th></th>\n",
       "      <th>지번주소</th>\n",
       "      <th>도로명</th>\n",
       "      <th>건물(단지)명</th>\n",
       "      <th>전용면적(㎡)</th>\n",
       "      <th>거래금액(만원)</th>\n",
       "      <th>층</th>\n",
       "      <th>건축년도</th>\n",
       "      <th>계약날짜기준_건물연식</th>\n",
       "      <th>계약날짜</th>\n",
       "      <th>단가(만원/㎡)</th>\n",
       "      <th>건물연식</th>\n",
       "      <th>부동산유형</th>\n",
       "    </tr>\n",
       "  </thead>\n",
       "  <tbody>\n",
       "    <tr>\n",
       "      <th>0</th>\n",
       "      <td>서울특별시 강남구 개포동 1216-4</td>\n",
       "      <td>개포로26길 16</td>\n",
       "      <td>(1216-4)</td>\n",
       "      <td>33.77</td>\n",
       "      <td>24800</td>\n",
       "      <td>4</td>\n",
       "      <td>2012.0</td>\n",
       "      <td>3.0</td>\n",
       "      <td>2015-03-26</td>\n",
       "      <td>734.379627</td>\n",
       "      <td>9.0</td>\n",
       "      <td>연립다세대</td>\n",
       "    </tr>\n",
       "    <tr>\n",
       "      <th>1</th>\n",
       "      <td>서울특별시 강남구 개포동 1216-4</td>\n",
       "      <td>개포로26길 16</td>\n",
       "      <td>(1216-4)</td>\n",
       "      <td>35.87</td>\n",
       "      <td>27200</td>\n",
       "      <td>4</td>\n",
       "      <td>2012.0</td>\n",
       "      <td>3.0</td>\n",
       "      <td>2015-06-23</td>\n",
       "      <td>758.293839</td>\n",
       "      <td>9.0</td>\n",
       "      <td>연립다세대</td>\n",
       "    </tr>\n",
       "    <tr>\n",
       "      <th>2</th>\n",
       "      <td>서울특별시 강남구 개포동 1216-4</td>\n",
       "      <td>개포로26길 16</td>\n",
       "      <td>(1216-4)</td>\n",
       "      <td>29.12</td>\n",
       "      <td>22200</td>\n",
       "      <td>4</td>\n",
       "      <td>2012.0</td>\n",
       "      <td>3.0</td>\n",
       "      <td>2015-07-20</td>\n",
       "      <td>762.362637</td>\n",
       "      <td>9.0</td>\n",
       "      <td>연립다세대</td>\n",
       "    </tr>\n",
       "    <tr>\n",
       "      <th>3</th>\n",
       "      <td>서울특별시 강남구 개포동 1216-4</td>\n",
       "      <td>개포로26길 16</td>\n",
       "      <td>(1216-4)</td>\n",
       "      <td>29.97</td>\n",
       "      <td>22500</td>\n",
       "      <td>3</td>\n",
       "      <td>2012.0</td>\n",
       "      <td>3.0</td>\n",
       "      <td>2015-08-06</td>\n",
       "      <td>750.750751</td>\n",
       "      <td>9.0</td>\n",
       "      <td>연립다세대</td>\n",
       "    </tr>\n",
       "    <tr>\n",
       "      <th>4</th>\n",
       "      <td>서울특별시 강남구 개포동 1169-5</td>\n",
       "      <td>논현로6길 10-14</td>\n",
       "      <td>RAON</td>\n",
       "      <td>47.19</td>\n",
       "      <td>46500</td>\n",
       "      <td>3</td>\n",
       "      <td>2015.0</td>\n",
       "      <td>0.0</td>\n",
       "      <td>2015-10-22</td>\n",
       "      <td>985.378258</td>\n",
       "      <td>6.0</td>\n",
       "      <td>연립다세대</td>\n",
       "    </tr>\n",
       "  </tbody>\n",
       "</table>\n",
       "</div>"
      ],
      "text/plain": [
       "                   지번주소          도로명   건물(단지)명  전용면적(㎡)  거래금액(만원)  층    건축년도  \\\n",
       "0  서울특별시 강남구 개포동 1216-4    개포로26길 16  (1216-4)    33.77     24800  4  2012.0   \n",
       "1  서울특별시 강남구 개포동 1216-4    개포로26길 16  (1216-4)    35.87     27200  4  2012.0   \n",
       "2  서울특별시 강남구 개포동 1216-4    개포로26길 16  (1216-4)    29.12     22200  4  2012.0   \n",
       "3  서울특별시 강남구 개포동 1216-4    개포로26길 16  (1216-4)    29.97     22500  3  2012.0   \n",
       "4  서울특별시 강남구 개포동 1169-5  논현로6길 10-14      RAON    47.19     46500  3  2015.0   \n",
       "\n",
       "   계약날짜기준_건물연식       계약날짜    단가(만원/㎡)  건물연식  부동산유형  \n",
       "0          3.0 2015-03-26  734.379627   9.0  연립다세대  \n",
       "1          3.0 2015-06-23  758.293839   9.0  연립다세대  \n",
       "2          3.0 2015-07-20  762.362637   9.0  연립다세대  \n",
       "3          3.0 2015-08-06  750.750751   9.0  연립다세대  \n",
       "4          0.0 2015-10-22  985.378258   6.0  연립다세대  "
      ]
     },
     "execution_count": 6,
     "metadata": {},
     "output_type": "execute_result"
    }
   ],
   "source": [
    "yunrip_df.drop(columns=['대지권면적(㎡)'], inplace=True)\n",
    "print(yunrip_df.shape)\n",
    "yunrip_df.head()"
   ]
  },
  {
   "cell_type": "code",
   "execution_count": 7,
   "metadata": {},
   "outputs": [
    {
     "name": "stderr",
     "output_type": "stream",
     "text": [
      "16it [00:00, 40.10it/s]\n"
     ]
    },
    {
     "name": "stdout",
     "output_type": "stream",
     "text": [
      "(21860, 12)\n"
     ]
    },
    {
     "data": {
      "text/html": [
       "<div>\n",
       "<style scoped>\n",
       "    .dataframe tbody tr th:only-of-type {\n",
       "        vertical-align: middle;\n",
       "    }\n",
       "\n",
       "    .dataframe tbody tr th {\n",
       "        vertical-align: top;\n",
       "    }\n",
       "\n",
       "    .dataframe thead th {\n",
       "        text-align: right;\n",
       "    }\n",
       "</style>\n",
       "<table border=\"1\" class=\"dataframe\">\n",
       "  <thead>\n",
       "    <tr style=\"text-align: right;\">\n",
       "      <th></th>\n",
       "      <th>지번주소</th>\n",
       "      <th>도로명</th>\n",
       "      <th>건물(단지)명</th>\n",
       "      <th>전용면적(㎡)</th>\n",
       "      <th>거래금액(만원)</th>\n",
       "      <th>층</th>\n",
       "      <th>건축년도</th>\n",
       "      <th>계약날짜기준_건물연식</th>\n",
       "      <th>계약날짜</th>\n",
       "      <th>단가(만원/㎡)</th>\n",
       "      <th>건물연식</th>\n",
       "      <th>부동산유형</th>\n",
       "    </tr>\n",
       "  </thead>\n",
       "  <tbody>\n",
       "    <tr>\n",
       "      <th>0</th>\n",
       "      <td>서울특별시 강남구 삼성동 58-2</td>\n",
       "      <td>영동대로 647</td>\n",
       "      <td>청담역 푸르지오시티</td>\n",
       "      <td>29.32</td>\n",
       "      <td>32180</td>\n",
       "      <td>10</td>\n",
       "      <td>2014.0</td>\n",
       "      <td>1.0</td>\n",
       "      <td>2015-01-12</td>\n",
       "      <td>1097.544338</td>\n",
       "      <td>7.0</td>\n",
       "      <td>오피스텔</td>\n",
       "    </tr>\n",
       "    <tr>\n",
       "      <th>1</th>\n",
       "      <td>서울특별시 강남구 삼성동 58-2</td>\n",
       "      <td>영동대로 647</td>\n",
       "      <td>청담역 푸르지오시티</td>\n",
       "      <td>25.84</td>\n",
       "      <td>32900</td>\n",
       "      <td>19</td>\n",
       "      <td>2014.0</td>\n",
       "      <td>1.0</td>\n",
       "      <td>2015-01-14</td>\n",
       "      <td>1273.219814</td>\n",
       "      <td>7.0</td>\n",
       "      <td>오피스텔</td>\n",
       "    </tr>\n",
       "    <tr>\n",
       "      <th>2</th>\n",
       "      <td>서울특별시 강남구 삼성동 58-2</td>\n",
       "      <td>영동대로 647</td>\n",
       "      <td>청담역 푸르지오시티</td>\n",
       "      <td>25.84</td>\n",
       "      <td>38000</td>\n",
       "      <td>20</td>\n",
       "      <td>2014.0</td>\n",
       "      <td>1.0</td>\n",
       "      <td>2015-01-15</td>\n",
       "      <td>1470.588235</td>\n",
       "      <td>7.0</td>\n",
       "      <td>오피스텔</td>\n",
       "    </tr>\n",
       "    <tr>\n",
       "      <th>3</th>\n",
       "      <td>서울특별시 강남구 삼성동 58-2</td>\n",
       "      <td>영동대로 647</td>\n",
       "      <td>청담역 푸르지오시티</td>\n",
       "      <td>29.32</td>\n",
       "      <td>34000</td>\n",
       "      <td>5</td>\n",
       "      <td>2014.0</td>\n",
       "      <td>1.0</td>\n",
       "      <td>2015-02-24</td>\n",
       "      <td>1159.618008</td>\n",
       "      <td>7.0</td>\n",
       "      <td>오피스텔</td>\n",
       "    </tr>\n",
       "    <tr>\n",
       "      <th>4</th>\n",
       "      <td>서울특별시 강남구 삼성동 58-2</td>\n",
       "      <td>영동대로 647</td>\n",
       "      <td>청담역 푸르지오시티</td>\n",
       "      <td>25.84</td>\n",
       "      <td>32000</td>\n",
       "      <td>8</td>\n",
       "      <td>2014.0</td>\n",
       "      <td>1.0</td>\n",
       "      <td>2015-03-02</td>\n",
       "      <td>1238.390093</td>\n",
       "      <td>7.0</td>\n",
       "      <td>오피스텔</td>\n",
       "    </tr>\n",
       "  </tbody>\n",
       "</table>\n",
       "</div>"
      ],
      "text/plain": [
       "                 지번주소       도로명     건물(단지)명  전용면적(㎡)  거래금액(만원)   층    건축년도  \\\n",
       "0  서울특별시 강남구 삼성동 58-2  영동대로 647  청담역 푸르지오시티    29.32     32180  10  2014.0   \n",
       "1  서울특별시 강남구 삼성동 58-2  영동대로 647  청담역 푸르지오시티    25.84     32900  19  2014.0   \n",
       "2  서울특별시 강남구 삼성동 58-2  영동대로 647  청담역 푸르지오시티    25.84     38000  20  2014.0   \n",
       "3  서울특별시 강남구 삼성동 58-2  영동대로 647  청담역 푸르지오시티    29.32     34000   5  2014.0   \n",
       "4  서울특별시 강남구 삼성동 58-2  영동대로 647  청담역 푸르지오시티    25.84     32000   8  2014.0   \n",
       "\n",
       "   계약날짜기준_건물연식       계약날짜     단가(만원/㎡)  건물연식 부동산유형  \n",
       "0          1.0 2015-01-12  1097.544338   7.0  오피스텔  \n",
       "1          1.0 2015-01-14  1273.219814   7.0  오피스텔  \n",
       "2          1.0 2015-01-15  1470.588235   7.0  오피스텔  \n",
       "3          1.0 2015-02-24  1159.618008   7.0  오피스텔  \n",
       "4          1.0 2015-03-02  1238.390093   7.0  오피스텔  "
      ]
     },
     "execution_count": 7,
     "metadata": {},
     "output_type": "execute_result"
    }
   ],
   "source": [
    "officetel_df = data_prep('오피스텔', '매매')\n",
    "officetel_df = officetel_df[(officetel_df['계약날짜'] >= pd.to_datetime('2015-01-01'))\n",
    "                            &(officetel_df['계약날짜기준_건물연식'] <= 5)\n",
    "                           ]\n",
    "officetel_df = officetel_df.reset_index(drop=True)\n",
    "officetel_df['부동산유형'] = '오피스텔'\n",
    "print(officetel_df.shape)\n",
    "officetel_df.head()"
   ]
  },
  {
   "cell_type": "code",
   "execution_count": 8,
   "metadata": {},
   "outputs": [
    {
     "name": "stdout",
     "output_type": "stream",
     "text": [
      "(123138, 12)\n"
     ]
    },
    {
     "data": {
      "text/html": [
       "<div>\n",
       "<style scoped>\n",
       "    .dataframe tbody tr th:only-of-type {\n",
       "        vertical-align: middle;\n",
       "    }\n",
       "\n",
       "    .dataframe tbody tr th {\n",
       "        vertical-align: top;\n",
       "    }\n",
       "\n",
       "    .dataframe thead th {\n",
       "        text-align: right;\n",
       "    }\n",
       "</style>\n",
       "<table border=\"1\" class=\"dataframe\">\n",
       "  <thead>\n",
       "    <tr style=\"text-align: right;\">\n",
       "      <th></th>\n",
       "      <th>지번주소</th>\n",
       "      <th>도로명</th>\n",
       "      <th>건물(단지)명</th>\n",
       "      <th>전용면적(㎡)</th>\n",
       "      <th>거래금액(만원)</th>\n",
       "      <th>층</th>\n",
       "      <th>건축년도</th>\n",
       "      <th>계약날짜기준_건물연식</th>\n",
       "      <th>계약날짜</th>\n",
       "      <th>단가(만원/㎡)</th>\n",
       "      <th>건물연식</th>\n",
       "      <th>부동산유형</th>\n",
       "    </tr>\n",
       "  </thead>\n",
       "  <tbody>\n",
       "    <tr>\n",
       "      <th>0</th>\n",
       "      <td>서울특별시 강남구 개포동 1164-0</td>\n",
       "      <td>논현로2길 6</td>\n",
       "      <td>골드캐슬</td>\n",
       "      <td>58.05</td>\n",
       "      <td>57500</td>\n",
       "      <td>2</td>\n",
       "      <td>2017.0</td>\n",
       "      <td>1.0</td>\n",
       "      <td>2018-01-20</td>\n",
       "      <td>990.525409</td>\n",
       "      <td>4.0</td>\n",
       "      <td>연립다세대</td>\n",
       "    </tr>\n",
       "    <tr>\n",
       "      <th>1</th>\n",
       "      <td>서울특별시 강남구 개포동 1164-0</td>\n",
       "      <td>논현로2길 6</td>\n",
       "      <td>골드캐슬</td>\n",
       "      <td>58.05</td>\n",
       "      <td>57000</td>\n",
       "      <td>1</td>\n",
       "      <td>2017.0</td>\n",
       "      <td>1.0</td>\n",
       "      <td>2018-06-01</td>\n",
       "      <td>981.912145</td>\n",
       "      <td>4.0</td>\n",
       "      <td>연립다세대</td>\n",
       "    </tr>\n",
       "    <tr>\n",
       "      <th>2</th>\n",
       "      <td>서울특별시 강남구 개포동 1164-0</td>\n",
       "      <td>논현로2길 6</td>\n",
       "      <td>골드캐슬</td>\n",
       "      <td>58.05</td>\n",
       "      <td>63000</td>\n",
       "      <td>2</td>\n",
       "      <td>2017.0</td>\n",
       "      <td>2.0</td>\n",
       "      <td>2019-01-19</td>\n",
       "      <td>1085.271318</td>\n",
       "      <td>4.0</td>\n",
       "      <td>연립다세대</td>\n",
       "    </tr>\n",
       "    <tr>\n",
       "      <th>3</th>\n",
       "      <td>서울특별시 강남구 개포동 1164-26</td>\n",
       "      <td>논현로2길 64</td>\n",
       "      <td>슈베르트빌</td>\n",
       "      <td>57.67</td>\n",
       "      <td>52000</td>\n",
       "      <td>5</td>\n",
       "      <td>2015.0</td>\n",
       "      <td>0.0</td>\n",
       "      <td>2015-05-15</td>\n",
       "      <td>901.681984</td>\n",
       "      <td>6.0</td>\n",
       "      <td>연립다세대</td>\n",
       "    </tr>\n",
       "    <tr>\n",
       "      <th>4</th>\n",
       "      <td>서울특별시 강남구 개포동 1164-26</td>\n",
       "      <td>논현로2길 64</td>\n",
       "      <td>슈베르트빌</td>\n",
       "      <td>72.44</td>\n",
       "      <td>56000</td>\n",
       "      <td>5</td>\n",
       "      <td>2015.0</td>\n",
       "      <td>0.0</td>\n",
       "      <td>2015-06-17</td>\n",
       "      <td>773.053562</td>\n",
       "      <td>6.0</td>\n",
       "      <td>연립다세대</td>\n",
       "    </tr>\n",
       "  </tbody>\n",
       "</table>\n",
       "</div>"
      ],
      "text/plain": [
       "                    지번주소       도로명 건물(단지)명  전용면적(㎡)  거래금액(만원)  층    건축년도  \\\n",
       "0   서울특별시 강남구 개포동 1164-0   논현로2길 6    골드캐슬    58.05     57500  2  2017.0   \n",
       "1   서울특별시 강남구 개포동 1164-0   논현로2길 6    골드캐슬    58.05     57000  1  2017.0   \n",
       "2   서울특별시 강남구 개포동 1164-0   논현로2길 6    골드캐슬    58.05     63000  2  2017.0   \n",
       "3  서울특별시 강남구 개포동 1164-26  논현로2길 64   슈베르트빌    57.67     52000  5  2015.0   \n",
       "4  서울특별시 강남구 개포동 1164-26  논현로2길 64   슈베르트빌    72.44     56000  5  2015.0   \n",
       "\n",
       "   계약날짜기준_건물연식       계약날짜     단가(만원/㎡)  건물연식  부동산유형  \n",
       "0          1.0 2018-01-20   990.525409   4.0  연립다세대  \n",
       "1          1.0 2018-06-01   981.912145   4.0  연립다세대  \n",
       "2          2.0 2019-01-19  1085.271318   4.0  연립다세대  \n",
       "3          0.0 2015-05-15   901.681984   6.0  연립다세대  \n",
       "4          0.0 2015-06-17   773.053562   6.0  연립다세대  "
      ]
     },
     "execution_count": 8,
     "metadata": {},
     "output_type": "execute_result"
    }
   ],
   "source": [
    "concat_df = pd.concat([yunrip_df, officetel_df]).sort_values(['지번주소', '건축년도', '계약날짜', '전용면적(㎡)']).reset_index(drop=True)\n",
    "print(concat_df.shape)\n",
    "concat_df.head()"
   ]
  },
  {
   "cell_type": "code",
   "execution_count": 9,
   "metadata": {},
   "outputs": [],
   "source": [
    "def find_bulktrade(df):\n",
    "    idx_list = []\n",
    "    for addr in tqdm(df['지번주소'].unique()):\n",
    "        addr_df = df[df['지번주소'] == addr]\n",
    "        \n",
    "        for built_year in addr_df['건축년도'].unique():\n",
    "            built_year_df = addr_df[addr_df['건축년도'] == built_year]\n",
    "\n",
    "            for date in built_year_df['계약날짜'].unique():\n",
    "                date_df = built_year_df[built_year_df['계약날짜'] == date]\n",
    "\n",
    "                if date_df.shape[0] >= 10:\n",
    "                    [idx_list.append(idx) for idx in date_df.index]\n",
    "    \n",
    "    selected_df = df.loc[idx_list,:]\n",
    "    \n",
    "    return selected_df"
   ]
  },
  {
   "cell_type": "code",
   "execution_count": 10,
   "metadata": {},
   "outputs": [
    {
     "name": "stderr",
     "output_type": "stream",
     "text": [
      "100%|███████████████████████████████████████████████████████████████████████████| 17643/17643 [02:13<00:00, 132.64it/s]"
     ]
    },
    {
     "name": "stdout",
     "output_type": "stream",
     "text": [
      "(30157, 12)\n"
     ]
    },
    {
     "name": "stderr",
     "output_type": "stream",
     "text": [
      "\n"
     ]
    },
    {
     "data": {
      "text/html": [
       "<div>\n",
       "<style scoped>\n",
       "    .dataframe tbody tr th:only-of-type {\n",
       "        vertical-align: middle;\n",
       "    }\n",
       "\n",
       "    .dataframe tbody tr th {\n",
       "        vertical-align: top;\n",
       "    }\n",
       "\n",
       "    .dataframe thead th {\n",
       "        text-align: right;\n",
       "    }\n",
       "</style>\n",
       "<table border=\"1\" class=\"dataframe\">\n",
       "  <thead>\n",
       "    <tr style=\"text-align: right;\">\n",
       "      <th></th>\n",
       "      <th>지번주소</th>\n",
       "      <th>도로명</th>\n",
       "      <th>건물(단지)명</th>\n",
       "      <th>전용면적(㎡)</th>\n",
       "      <th>거래금액(만원)</th>\n",
       "      <th>층</th>\n",
       "      <th>건축년도</th>\n",
       "      <th>계약날짜기준_건물연식</th>\n",
       "      <th>계약날짜</th>\n",
       "      <th>단가(만원/㎡)</th>\n",
       "      <th>건물연식</th>\n",
       "      <th>부동산유형</th>\n",
       "    </tr>\n",
       "  </thead>\n",
       "  <tbody>\n",
       "    <tr>\n",
       "      <th>110</th>\n",
       "      <td>서울특별시 강남구 개포동 1174-11</td>\n",
       "      <td>논현로6길 26-9</td>\n",
       "      <td>지호빌라B</td>\n",
       "      <td>32.89</td>\n",
       "      <td>24050</td>\n",
       "      <td>3</td>\n",
       "      <td>2016.0</td>\n",
       "      <td>0.0</td>\n",
       "      <td>2016-11-29</td>\n",
       "      <td>731.225296</td>\n",
       "      <td>5.0</td>\n",
       "      <td>연립다세대</td>\n",
       "    </tr>\n",
       "    <tr>\n",
       "      <th>111</th>\n",
       "      <td>서울특별시 강남구 개포동 1174-11</td>\n",
       "      <td>논현로6길 26-9</td>\n",
       "      <td>지호빌라B</td>\n",
       "      <td>32.89</td>\n",
       "      <td>24050</td>\n",
       "      <td>2</td>\n",
       "      <td>2016.0</td>\n",
       "      <td>0.0</td>\n",
       "      <td>2016-11-29</td>\n",
       "      <td>731.225296</td>\n",
       "      <td>5.0</td>\n",
       "      <td>연립다세대</td>\n",
       "    </tr>\n",
       "    <tr>\n",
       "      <th>112</th>\n",
       "      <td>서울특별시 강남구 개포동 1174-11</td>\n",
       "      <td>논현로6길 26-9</td>\n",
       "      <td>지호빌라B</td>\n",
       "      <td>33.06</td>\n",
       "      <td>22950</td>\n",
       "      <td>5</td>\n",
       "      <td>2016.0</td>\n",
       "      <td>0.0</td>\n",
       "      <td>2016-11-29</td>\n",
       "      <td>694.192377</td>\n",
       "      <td>5.0</td>\n",
       "      <td>연립다세대</td>\n",
       "    </tr>\n",
       "    <tr>\n",
       "      <th>113</th>\n",
       "      <td>서울특별시 강남구 개포동 1174-11</td>\n",
       "      <td>논현로6길 26-9</td>\n",
       "      <td>지호빌라B</td>\n",
       "      <td>39.91</td>\n",
       "      <td>28950</td>\n",
       "      <td>3</td>\n",
       "      <td>2016.0</td>\n",
       "      <td>0.0</td>\n",
       "      <td>2016-11-29</td>\n",
       "      <td>725.382110</td>\n",
       "      <td>5.0</td>\n",
       "      <td>연립다세대</td>\n",
       "    </tr>\n",
       "    <tr>\n",
       "      <th>114</th>\n",
       "      <td>서울특별시 강남구 개포동 1174-11</td>\n",
       "      <td>논현로6길 26-9</td>\n",
       "      <td>지호빌라B</td>\n",
       "      <td>39.91</td>\n",
       "      <td>28950</td>\n",
       "      <td>2</td>\n",
       "      <td>2016.0</td>\n",
       "      <td>0.0</td>\n",
       "      <td>2016-11-29</td>\n",
       "      <td>725.382110</td>\n",
       "      <td>5.0</td>\n",
       "      <td>연립다세대</td>\n",
       "    </tr>\n",
       "  </tbody>\n",
       "</table>\n",
       "</div>"
      ],
      "text/plain": [
       "                      지번주소         도로명 건물(단지)명  전용면적(㎡)  거래금액(만원)  층    건축년도  \\\n",
       "110  서울특별시 강남구 개포동 1174-11  논현로6길 26-9   지호빌라B    32.89     24050  3  2016.0   \n",
       "111  서울특별시 강남구 개포동 1174-11  논현로6길 26-9   지호빌라B    32.89     24050  2  2016.0   \n",
       "112  서울특별시 강남구 개포동 1174-11  논현로6길 26-9   지호빌라B    33.06     22950  5  2016.0   \n",
       "113  서울특별시 강남구 개포동 1174-11  논현로6길 26-9   지호빌라B    39.91     28950  3  2016.0   \n",
       "114  서울특별시 강남구 개포동 1174-11  논현로6길 26-9   지호빌라B    39.91     28950  2  2016.0   \n",
       "\n",
       "     계약날짜기준_건물연식       계약날짜    단가(만원/㎡)  건물연식  부동산유형  \n",
       "110          0.0 2016-11-29  731.225296   5.0  연립다세대  \n",
       "111          0.0 2016-11-29  731.225296   5.0  연립다세대  \n",
       "112          0.0 2016-11-29  694.192377   5.0  연립다세대  \n",
       "113          0.0 2016-11-29  725.382110   5.0  연립다세대  \n",
       "114          0.0 2016-11-29  725.382110   5.0  연립다세대  "
      ]
     },
     "execution_count": 10,
     "metadata": {},
     "output_type": "execute_result"
    }
   ],
   "source": [
    "concat_selected_df = find_bulktrade(concat_df)\n",
    "print(concat_selected_df.shape)\n",
    "concat_selected_df.head()"
   ]
  },
  {
   "cell_type": "code",
   "execution_count": 11,
   "metadata": {},
   "outputs": [
    {
     "name": "stderr",
     "output_type": "stream",
     "text": [
      "100%|█████████████████████████████████████████████████████████████████████████████| 1764/1764 [00:02<00:00, 665.59it/s]\n"
     ]
    }
   ],
   "source": [
    "idx_to_drop = []\n",
    "for addr in tqdm(concat_selected_df['지번주소'].unique()):\n",
    "    addr_df = concat_selected_df[concat_selected_df['지번주소'] == addr]\n",
    "    if addr_df['건축년도'].nunique() > 1:\n",
    "        non_max_df = addr_df[addr_df['건축년도'] != addr_df['건축년도'].max()]\n",
    "        [idx_to_drop.append(i) for i in non_max_df.index]"
   ]
  },
  {
   "cell_type": "code",
   "execution_count": 12,
   "metadata": {},
   "outputs": [
    {
     "data": {
      "text/plain": [
       "0"
      ]
     },
     "execution_count": 12,
     "metadata": {},
     "output_type": "execute_result"
    }
   ],
   "source": [
    "len(idx_to_drop)"
   ]
  },
  {
   "cell_type": "code",
   "execution_count": 13,
   "metadata": {},
   "outputs": [],
   "source": [
    "bulktrade_basedir = './국토교통부_실거래가_공개시스템/집값분석/일괄구매/10호이상/'"
   ]
  },
  {
   "cell_type": "code",
   "execution_count": 14,
   "metadata": {},
   "outputs": [
    {
     "name": "stdout",
     "output_type": "stream",
     "text": [
      "Wall time: 276 ms\n"
     ]
    }
   ],
   "source": [
    "%%time\n",
    "concat_selected_df.to_csv(bulktrade_basedir+'연립다세대_오피스텔_일괄구매_전체.csv')"
   ]
  },
  {
   "cell_type": "code",
   "execution_count": 15,
   "metadata": {},
   "outputs": [],
   "source": [
    "concat_selected_df['소유자'] = np.nan"
   ]
  },
  {
   "cell_type": "code",
   "execution_count": 16,
   "metadata": {},
   "outputs": [],
   "source": [
    "from selenium import webdriver\n",
    "from selenium.webdriver.common.keys import Keys\n",
    "from webdriver_manager.chrome import ChromeDriverManager"
   ]
  },
  {
   "cell_type": "code",
   "execution_count": 17,
   "metadata": {},
   "outputs": [
    {
     "name": "stderr",
     "output_type": "stream",
     "text": [
      "\n",
      "\n",
      "====== WebDriver manager ======\n",
      "Current google-chrome version is 91.0.4472\n",
      "Get LATEST driver version for 91.0.4472\n",
      "Driver [C:\\Users\\max6296\\.wdm\\drivers\\chromedriver\\win32\\91.0.4472.101\\chromedriver.exe] found in cache\n"
     ]
    }
   ],
   "source": [
    "driver = webdriver.Chrome(ChromeDriverManager().install())"
   ]
  },
  {
   "cell_type": "code",
   "execution_count": 20,
   "metadata": {},
   "outputs": [],
   "source": [
    "driver.get(\"http://www.iros.go.kr/PMainJ.jsp\")"
   ]
  },
  {
   "cell_type": "code",
   "execution_count": 21,
   "metadata": {},
   "outputs": [],
   "source": [
    "driver.get(\"http://www.iros.go.kr/frontservlet?cmd=RISUWelcomeViewC\")"
   ]
  },
  {
   "cell_type": "code",
   "execution_count": 22,
   "metadata": {},
   "outputs": [],
   "source": [
    "def get_owner_name(df):\n",
    "    df = df.copy()\n",
    "    \n",
    "    count = 0\n",
    "    for addr in tqdm(df['지번주소'].unique()):\n",
    "        owner_name = np.nan\n",
    "        addr = addr.replace('-0', '')\n",
    "        \n",
    "        addr_df = df[df['지번주소'] == addr]\n",
    "        driver.switch_to.default_content()\n",
    "        \n",
    "        \n",
    "        driver.switch_to.frame(\"inputFrame\")\n",
    "        \n",
    "        elem_search = driver.find_element_by_xpath('html/body/form[1]/div[24]/div/div/div/fieldset/div/table/tbody/tr[5]/td/span/input')\n",
    "        elem_search.clear()\n",
    "        elem_search.send_keys(addr)\n",
    "        elem_search.send_keys(Keys.RETURN)\n",
    "        time.sleep(2)\n",
    "        \n",
    "        try:\n",
    "            driver.switch_to.alert.accept()\n",
    "        except:\n",
    "            pass\n",
    "        \n",
    "        driver.switch_to.default_content()\n",
    "        driver.switch_to.frame('resultFrame')\n",
    "        driver.switch_to.frame('frmOuterModal')\n",
    "        \n",
    "        try:\n",
    "            driver.find_element_by_xpath('/html/body/div[2]/div[2]/table/tbody/tr[3]/td[6]/button').click()\n",
    "        except:\n",
    "            continue\n",
    "        \n",
    "        time.sleep(0.5)\n",
    "        \n",
    "        elem_result = driver.find_element_by_xpath('/html/body/div[2]/div[2]/table/tbody/tr/td[3]')\n",
    "        \n",
    "        owner_name = elem_result.text\n",
    "        \n",
    "        driver.switch_to.default_content()\n",
    "        \n",
    "        df.loc[addr_df.index, '소유자'] = owner_name\n",
    "        \n",
    "        count += 1\n",
    "    \n",
    "    return df"
   ]
  },
  {
   "cell_type": "code",
   "execution_count": 23,
   "metadata": {},
   "outputs": [
    {
     "name": "stderr",
     "output_type": "stream",
     "text": [
      "100%|████████████████████████████████████████████████████████████████████████████| 1764/1764 [1:25:36<00:00,  2.91s/it]\n"
     ]
    }
   ],
   "source": [
    "prac_df = get_owner_name(concat_selected_df)"
   ]
  },
  {
   "cell_type": "code",
   "execution_count": 24,
   "metadata": {},
   "outputs": [],
   "source": [
    "concat_selected_df = prac_df.copy()"
   ]
  },
  {
   "cell_type": "code",
   "execution_count": 25,
   "metadata": {},
   "outputs": [],
   "source": [
    "driver.close()"
   ]
  },
  {
   "cell_type": "code",
   "execution_count": 26,
   "metadata": {},
   "outputs": [],
   "source": [
    "concat_selected_df.reset_index(drop=True, inplace=True)"
   ]
  },
  {
   "cell_type": "code",
   "execution_count": 27,
   "metadata": {},
   "outputs": [],
   "source": [
    "concat_selected_df.to_csv(bulktrade_basedir+'연립다세대_오피스텔_일괄구매_전체_소유자_포함.csv', index=False)"
   ]
  },
  {
   "cell_type": "code",
   "execution_count": null,
   "metadata": {},
   "outputs": [],
   "source": [
    "yunrip_selected_df.head()"
   ]
  },
  {
   "cell_type": "code",
   "execution_count": null,
   "metadata": {},
   "outputs": [],
   "source": [
    "yunrip_selected_df['소유자'].value_counts()"
   ]
  },
  {
   "cell_type": "code",
   "execution_count": null,
   "metadata": {},
   "outputs": [],
   "source": [
    "inv_df = yunrip_selected_df[\n",
    "    yunrip_selected_df['소유자'] == '에***~'\n",
    "]\n",
    "print(inv_df.shape)\n",
    "inv_df.head()"
   ]
  },
  {
   "cell_type": "code",
   "execution_count": null,
   "metadata": {
    "scrolled": false
   },
   "outputs": [],
   "source": [
    "count = 0\n",
    "for addr in inv_df['지번주소'].unique():\n",
    "    addr_df = inv_df[inv_df['지번주소'] == addr]\n",
    "    \n",
    "    print(addr_df.shape)\n",
    "    display(addr_df)\n",
    "    \n",
    "    count += 1\n",
    "    if count > 5:\n",
    "        break"
   ]
  },
  {
   "cell_type": "code",
   "execution_count": null,
   "metadata": {},
   "outputs": [],
   "source": [
    "print(yunrip_selected_df.shape)\n",
    "yunrip_selected_df = yunrip_selected_df[\n",
    "    (yunrip_selected_df['소유자'] == '서***~')\n",
    "    |(yunrip_selected_df['소유자'] == '한***~')\n",
    "    |(yunrip_selected_df['소유자'] == '에***~')\n",
    "]\n",
    "print(yunrip_selected_df.shape)\n",
    "yunrip_selected_df.head()"
   ]
  },
  {
   "cell_type": "code",
   "execution_count": null,
   "metadata": {},
   "outputs": [],
   "source": [
    "officetel_selected_df['소유자'].value_counts()"
   ]
  },
  {
   "cell_type": "code",
   "execution_count": null,
   "metadata": {},
   "outputs": [],
   "source": [
    "inv_df = officetel_selected_df[\n",
    "    officetel_selected_df['소유자'] == '중***~'\n",
    "]\n",
    "print(inv_df.shape)\n",
    "inv_df.head()"
   ]
  },
  {
   "cell_type": "code",
   "execution_count": null,
   "metadata": {},
   "outputs": [],
   "source": [
    "count = 0\n",
    "for addr in inv_df['지번주소'].unique():\n",
    "    addr_df = inv_df[inv_df['지번주소'] == addr]\n",
    "    \n",
    "    print(addr_df.shape)\n",
    "    display(addr_df)\n",
    "    \n",
    "    count += 1\n",
    "    if count > 5:\n",
    "        break"
   ]
  },
  {
   "cell_type": "code",
   "execution_count": null,
   "metadata": {},
   "outputs": [],
   "source": [
    "officetel_selected_df = officetel_selected_df[\n",
    "    (officetel_selected_df['소유자'] == '서***~')\n",
    "    |(officetel_selected_df['소유자'] == '한***~')\n",
    "]\n",
    "print(officetel_selected_df.shape)\n",
    "officetel_selected_df.head()"
   ]
  },
  {
   "cell_type": "code",
   "execution_count": null,
   "metadata": {},
   "outputs": [],
   "source": [
    "count = 0\n",
    "for addr in officetel_selected_df['지번주소'].unique():\n",
    "    addr_df = officetel_selected_df[officetel_selected_df['지번주소'] == addr]\n",
    "    \n",
    "    print(addr_df.shape)\n",
    "    display(addr_df)\n",
    "    \n",
    "    count += 1\n",
    "    if count > 5:\n",
    "        break"
   ]
  },
  {
   "cell_type": "code",
   "execution_count": null,
   "metadata": {},
   "outputs": [],
   "source": []
  },
  {
   "cell_type": "code",
   "execution_count": null,
   "metadata": {},
   "outputs": [],
   "source": [
    "yunrip_selected_df['지번주소'].nunique()"
   ]
  },
  {
   "cell_type": "code",
   "execution_count": null,
   "metadata": {},
   "outputs": [],
   "source": [
    "yunrip_selected_df.head()"
   ]
  },
  {
   "cell_type": "code",
   "execution_count": null,
   "metadata": {},
   "outputs": [],
   "source": [
    "yunrip_selected_df['구'] = yunrip_selected_df['지번주소'].apply(lambda x: x.split(' ')[1])\n",
    "yunrip_selected_df['동'] = yunrip_selected_df['지번주소'].apply(lambda x: x.split(' ')[2])"
   ]
  },
  {
   "cell_type": "code",
   "execution_count": null,
   "metadata": {},
   "outputs": [],
   "source": [
    "yunrip_selected_df.head()"
   ]
  },
  {
   "cell_type": "code",
   "execution_count": null,
   "metadata": {},
   "outputs": [],
   "source": [
    "yunrip_selected_df['구'].value_counts()"
   ]
  },
  {
   "cell_type": "code",
   "execution_count": null,
   "metadata": {},
   "outputs": [],
   "source": []
  },
  {
   "cell_type": "code",
   "execution_count": null,
   "metadata": {},
   "outputs": [],
   "source": []
  },
  {
   "cell_type": "code",
   "execution_count": null,
   "metadata": {},
   "outputs": [],
   "source": []
  },
  {
   "cell_type": "code",
   "execution_count": null,
   "metadata": {},
   "outputs": [],
   "source": []
  },
  {
   "cell_type": "code",
   "execution_count": null,
   "metadata": {},
   "outputs": [],
   "source": []
  },
  {
   "cell_type": "code",
   "execution_count": null,
   "metadata": {},
   "outputs": [],
   "source": []
  },
  {
   "cell_type": "code",
   "execution_count": null,
   "metadata": {},
   "outputs": [],
   "source": []
  },
  {
   "cell_type": "code",
   "execution_count": null,
   "metadata": {},
   "outputs": [],
   "source": []
  },
  {
   "cell_type": "code",
   "execution_count": null,
   "metadata": {},
   "outputs": [],
   "source": []
  },
  {
   "cell_type": "code",
   "execution_count": null,
   "metadata": {},
   "outputs": [],
   "source": []
  },
  {
   "cell_type": "code",
   "execution_count": null,
   "metadata": {},
   "outputs": [],
   "source": []
  },
  {
   "cell_type": "code",
   "execution_count": null,
   "metadata": {},
   "outputs": [],
   "source": []
  },
  {
   "cell_type": "code",
   "execution_count": null,
   "metadata": {},
   "outputs": [],
   "source": []
  },
  {
   "cell_type": "code",
   "execution_count": null,
   "metadata": {},
   "outputs": [],
   "source": [
    "def mean_prices_per_size(df):\n",
    "    df = df.copy()\n",
    "    \n",
    "    df['크기별_평균단가'] = df[['지번주소', '건축년도', '계약날짜', '전용면적(㎡)', '단가(만원/㎡)']].groupby(['지번주소', '건축년도', '계약날짜', '전용면적(㎡)']).transform('mean')['단가(만원/㎡)']\n",
    "    df['크기별_평균총액'] = df[['지번주소', '건축년도', '계약날짜', '전용면적(㎡)', '거래금액(만원)']].groupby(['지번주소', '건축년도', '계약날짜', '전용면적(㎡)']).transform('mean')['거래금액(만원)']\n",
    "    df = df[['지번주소', '건축년도', '건물연식', '계약날짜', '계약날짜기준_건물연식', '전용면적(㎡)', '크기별_평균총액', '크기별_평균단가']]\n",
    "    df = df.drop_duplicates().reset_index(drop=True)\n",
    "    \n",
    "    return df"
   ]
  },
  {
   "cell_type": "code",
   "execution_count": null,
   "metadata": {},
   "outputs": [],
   "source": [
    "yunrip_short_df = mean_prices_per_size(yunrip_selected_df)\n",
    "print(yunrip_short_df.shape)\n",
    "yunrip_short_df.head()"
   ]
  },
  {
   "cell_type": "code",
   "execution_count": null,
   "metadata": {},
   "outputs": [],
   "source": []
  },
  {
   "cell_type": "code",
   "execution_count": null,
   "metadata": {},
   "outputs": [],
   "source": []
  },
  {
   "cell_type": "code",
   "execution_count": null,
   "metadata": {},
   "outputs": [],
   "source": []
  },
  {
   "cell_type": "code",
   "execution_count": null,
   "metadata": {},
   "outputs": [],
   "source": []
  },
  {
   "cell_type": "code",
   "execution_count": null,
   "metadata": {},
   "outputs": [],
   "source": []
  },
  {
   "cell_type": "code",
   "execution_count": null,
   "metadata": {},
   "outputs": [],
   "source": []
  },
  {
   "cell_type": "code",
   "execution_count": null,
   "metadata": {},
   "outputs": [],
   "source": []
  },
  {
   "cell_type": "code",
   "execution_count": null,
   "metadata": {},
   "outputs": [],
   "source": []
  },
  {
   "cell_type": "code",
   "execution_count": null,
   "metadata": {},
   "outputs": [],
   "source": []
  },
  {
   "cell_type": "code",
   "execution_count": null,
   "metadata": {},
   "outputs": [],
   "source": []
  }
 ],
 "metadata": {
  "kernelspec": {
   "display_name": "Python 3",
   "language": "python",
   "name": "python3"
  },
  "language_info": {
   "codemirror_mode": {
    "name": "ipython",
    "version": 3
   },
   "file_extension": ".py",
   "mimetype": "text/x-python",
   "name": "python",
   "nbconvert_exporter": "python",
   "pygments_lexer": "ipython3",
   "version": "3.7.9"
  }
 },
 "nbformat": 4,
 "nbformat_minor": 4
}
