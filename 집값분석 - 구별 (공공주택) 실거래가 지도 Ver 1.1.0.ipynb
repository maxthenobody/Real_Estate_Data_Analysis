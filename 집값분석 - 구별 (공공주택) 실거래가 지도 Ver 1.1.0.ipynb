{
 "cells": [
  {
   "cell_type": "code",
   "execution_count": 1,
   "metadata": {},
   "outputs": [],
   "source": [
    "# Ver. 1.1.0\n",
    "\n",
    "# 업데이트 내용: 인천, 경기 검색 가능. 단, 인천, 경기 선택 시 등치지도는 생성되지 않음.\n",
    "\n",
    "# 불편한 점이나 오류 발견 시 피드백 바람."
   ]
  },
  {
   "cell_type": "code",
   "execution_count": 2,
   "metadata": {},
   "outputs": [],
   "source": [
    "import pandas as pd\n",
    "import numpy as np\n",
    "import os\n",
    "pd.set_option('display.max_rows', 500)\n",
    "pd.set_option('display.max_columns', 500)\n",
    "import tqdm\n",
    "import matplotlib.pyplot as plt\n",
    "import seaborn as sns\n",
    "import matplotlib\n",
    "#matplotlib.rcParams['axes.unicode_minus'] = False\n",
    "#pd.options.mode.chained_assignment = None  # default='warn'\n",
    "#plt.rcParams['font.family'] = 'Malgun Gothic'\n",
    "import datetime\n",
    "import time\n",
    "from dateutil.relativedelta import relativedelta\n",
    "tqdm.tqdm.pandas()\n",
    "import ipywidgets as widgets"
   ]
  },
  {
   "cell_type": "code",
   "execution_count": 3,
   "metadata": {},
   "outputs": [],
   "source": [
    "search_city = widgets.RadioButtons(\n",
    "    options=['서울', '인천', '경기'],\n",
    "    layout={'width': 'max-content'}\n",
    ")\n",
    "\n",
    "search_city_box = widgets.Box(\n",
    "    [\n",
    "        widgets.Label(value='검색 지역 선택:'),\n",
    "        search_city\n",
    "    ]\n",
    ")\n",
    "\n",
    "search_range = widgets.IntText(\n",
    "    value=12,\n",
    "    layout={'width': 'max-content'}\n",
    ")\n",
    "\n",
    "search_range_box = widgets.Box(\n",
    "    [\n",
    "        widgets.Label(value='검색 범위(개월):'),\n",
    "        search_range\n",
    "    ]\n",
    ")\n",
    "\n",
    "estate_type = widgets.RadioButtons(\n",
    "    options=['아파트', '연립다세대', '오피스텔'],\n",
    "    layout={'width': 'max-content'}\n",
    ")\n",
    "\n",
    "estate_type_box = widgets.Box(\n",
    "    [\n",
    "        widgets.Label(value='주택 유형 선택:'),\n",
    "        estate_type        \n",
    "    ]\n",
    ")\n",
    "\n",
    "buyer_type = widgets.RadioButtons(\n",
    "    options=['SH', 'LH', 'IH', 'GH', 'SH, LH, IH & GH', 'SH, LH, IH, GH를 제외한 거래사례', 'SH, LH, IH, GH, 일반분양 전체'],\n",
    "    layout={'width': 'max-content'}\n",
    ")\n",
    "\n",
    "buyer_type_box = widgets.Box(\n",
    "    [\n",
    "        widgets.Label(value='매수자 유형 선택:'),\n",
    "        buyer_type        \n",
    "    ]\n",
    ")\n",
    "\n",
    "map_display_value_selection = widgets.RadioButtons(\n",
    "    options=['최소', '최대', '평균', '분위'],\n",
    "    layout={'width': 'max-content'}\n",
    ")\n",
    "\n",
    "map_display_value_selection_box = widgets.Box(\n",
    "    [\n",
    "        widgets.Label(value='지도 표시값 선택:'),\n",
    "        map_display_value_selection        \n",
    "    ]\n",
    ")\n",
    "\n",
    "area_search_range_options = widgets.RadioButtons(\n",
    "    options=['~이상', '~이하', '~이상 & ~이하'],\n",
    "    layout={'width': 'max-content'}\n",
    ")\n",
    "\n",
    "area_search_range_options_box = widgets.Box(\n",
    "    [\n",
    "        widgets.Label(value='전용면적 검색 범위:'),\n",
    "        area_search_range_options        \n",
    "    ]\n",
    ")"
   ]
  },
  {
   "cell_type": "markdown",
   "metadata": {},
   "source": [
    "# 검색값 입력 시작 -----------------------------------------------------------"
   ]
  },
  {
   "cell_type": "code",
   "execution_count": 4,
   "metadata": {},
   "outputs": [
    {
     "data": {
      "application/vnd.jupyter.widget-view+json": {
       "model_id": "",
       "version_major": 2,
       "version_minor": 0
      },
      "text/plain": [
       "Box(children=(Label(value='검색 지역 선택:'), RadioButtons(layout=Layout(width='max-content'), options=('서울', '인천', …"
      ]
     },
     "metadata": {},
     "output_type": "display_data"
    },
    {
     "data": {
      "application/vnd.jupyter.widget-view+json": {
       "model_id": "",
       "version_major": 2,
       "version_minor": 0
      },
      "text/plain": [
       "Box(children=(Label(value='검색 범위(개월):'), IntText(value=12, layout=Layout(width='max-content'))))"
      ]
     },
     "metadata": {},
     "output_type": "display_data"
    },
    {
     "data": {
      "application/vnd.jupyter.widget-view+json": {
       "model_id": "",
       "version_major": 2,
       "version_minor": 0
      },
      "text/plain": [
       "Box(children=(Label(value='주택 유형 선택:'), RadioButtons(layout=Layout(width='max-content'), options=('아파트', '연립다세…"
      ]
     },
     "metadata": {},
     "output_type": "display_data"
    },
    {
     "data": {
      "application/vnd.jupyter.widget-view+json": {
       "model_id": "",
       "version_major": 2,
       "version_minor": 0
      },
      "text/plain": [
       "Box(children=(Label(value='매수자 유형 선택:'), RadioButtons(layout=Layout(width='max-content'), options=('SH', 'LH',…"
      ]
     },
     "metadata": {},
     "output_type": "display_data"
    },
    {
     "data": {
      "application/vnd.jupyter.widget-view+json": {
       "model_id": "",
       "version_major": 2,
       "version_minor": 0
      },
      "text/plain": [
       "Box(children=(Label(value='지도 표시값 선택:'), RadioButtons(layout=Layout(width='max-content'), options=('최소', '최대',…"
      ]
     },
     "metadata": {},
     "output_type": "display_data"
    },
    {
     "data": {
      "application/vnd.jupyter.widget-view+json": {
       "model_id": "",
       "version_major": 2,
       "version_minor": 0
      },
      "text/plain": [
       "Box(children=(Label(value='전용면적 검색 범위:'), RadioButtons(layout=Layout(width='max-content'), options=('~이상', '~이…"
      ]
     },
     "metadata": {},
     "output_type": "display_data"
    }
   ],
   "source": [
    "display(search_city_box)\n",
    "display(search_range_box)\n",
    "display(estate_type_box)\n",
    "display(buyer_type_box)\n",
    "display(map_display_value_selection_box)\n",
    "display(area_search_range_options_box)"
   ]
  },
  {
   "cell_type": "code",
   "execution_count": 5,
   "metadata": {},
   "outputs": [
    {
     "name": "stdout",
     "output_type": "stream",
     "text": [
      "검색 지역 서울 (으)로 설정됨.\n",
      "검색 범위 12 개월로 설정됨.\n",
      "주택 유형 연립다세대 (으)로 설정됨.\n",
      "매수자 유형 SH (으)로 설정됨.\n",
      "지도 표시값 평균 (으)로 설정됨.\n",
      "전용면적 검색 범위 ~이하 (으)로 설정됨.\n"
     ]
    }
   ],
   "source": [
    "search_city_box.close()\n",
    "search_range_box.close()\n",
    "estate_type_box.close()\n",
    "buyer_type_box.close()\n",
    "map_display_value_selection_box.close()\n",
    "area_search_range_options_box.close()\n",
    "\n",
    "print('검색 지역', search_city.value, '(으)로 설정됨.')\n",
    "print('검색 범위', search_range.value, '개월로 설정됨.')\n",
    "print('주택 유형', estate_type.value, '(으)로 설정됨.')\n",
    "print('매수자 유형', buyer_type.value, '(으)로 설정됨.')\n",
    "print('지도 표시값', map_display_value_selection.value, '(으)로 설정됨.')\n",
    "print('전용면적 검색 범위', area_search_range_options.value, '(으)로 설정됨.')"
   ]
  },
  {
   "cell_type": "code",
   "execution_count": 6,
   "metadata": {},
   "outputs": [
    {
     "data": {
      "application/vnd.jupyter.widget-view+json": {
       "model_id": "",
       "version_major": 2,
       "version_minor": 0
      },
      "text/plain": [
       "Box(children=(Label(value='전용면적 ~이하:'), FloatText(value=0.0)))"
      ]
     },
     "metadata": {},
     "output_type": "display_data"
    }
   ],
   "source": [
    "quantile_range = widgets.IntSlider(0, 0, 100, description='분위값 설정:')\n",
    "if map_display_value_selection.value == '분위':\n",
    "    display(quantile_range)\n",
    "\n",
    "range_min = widgets.FloatText()\n",
    "range_min_box = widgets.Box(\n",
    "    [\n",
    "        widgets.Label(value='전용면적 ~이상:'),\n",
    "        range_min\n",
    "    ]\n",
    ")\n",
    "\n",
    "range_max = widgets.FloatText()\n",
    "range_max_box = widgets.Box(\n",
    "    [\n",
    "        widgets.Label(value='전용면적 ~이하:'),\n",
    "        range_max\n",
    "    ]\n",
    ")\n",
    "\n",
    "if area_search_range_options.value == '~이상':\n",
    "    display(range_min_box)\n",
    "elif area_search_range_options.value == '~이하':\n",
    "    display(range_max_box)\n",
    "elif area_search_range_options.value == '~이상 & ~이하':\n",
    "    display(range_min_box)\n",
    "    display(range_max_box)"
   ]
  },
  {
   "cell_type": "code",
   "execution_count": 7,
   "metadata": {},
   "outputs": [
    {
     "name": "stdout",
     "output_type": "stream",
     "text": [
      "전용면적 40.0 이하로 설정됨.\n"
     ]
    }
   ],
   "source": [
    "if map_display_value_selection.value == '분위':\n",
    "    quantile_range.close()\n",
    "    print(quantile_range.value, '분위로 설정됨.')\n",
    "if area_search_range_options.value == '~이상':\n",
    "    range_min_box.close()\n",
    "    range_max_box.close()\n",
    "    print('전용면적', range_min.value, '이상으로 설정됨.')\n",
    "elif area_search_range_options.value == '~이하':\n",
    "    range_min_box.close()\n",
    "    range_max_box.close()\n",
    "    print('전용면적', range_max.value, '이하로 설정됨.')\n",
    "elif area_search_range_options.value == '~이상 & ~이하':\n",
    "    range_min_box.close()\n",
    "    range_max_box.close()\n",
    "    print('전용면적', range_min.value, '이상 &', range_max.value, '이하로 설정됨.')\n",
    "    \n",
    "    if range_min.value > range_max.value:\n",
    "        raise ValueError('에러: 검색 범위 최소(이상) 값이 최대(이하) 값보다 클 수 없음.')"
   ]
  },
  {
   "cell_type": "code",
   "execution_count": 8,
   "metadata": {},
   "outputs": [],
   "source": [
    "timedelta_result = datetime.datetime.now() - relativedelta(months=search_range.value)"
   ]
  },
  {
   "cell_type": "code",
   "execution_count": 9,
   "metadata": {},
   "outputs": [
    {
     "name": "stdout",
     "output_type": "stream",
     "text": [
      "검색 시작 날짜: 2022-01-21\n"
     ]
    }
   ],
   "source": [
    "print('검색 시작 날짜:', str(timedelta_result.date()))"
   ]
  },
  {
   "cell_type": "markdown",
   "metadata": {},
   "source": [
    "# 검색값 입력란 여기까지 --------------------------------------------------------"
   ]
  },
  {
   "cell_type": "code",
   "execution_count": 10,
   "metadata": {},
   "outputs": [],
   "source": [
    "def day_modifier(x):\n",
    "    # x is a number\n",
    "    \n",
    "    if pd.isna(x) == True:\n",
    "        return x\n",
    "    else:\n",
    "        x = str(x)\n",
    "        if len(x) == 1:\n",
    "            return '0' + x\n",
    "        else:\n",
    "            return x"
   ]
  },
  {
   "cell_type": "code",
   "execution_count": 11,
   "metadata": {},
   "outputs": [],
   "source": [
    "def landnum_modifier(x):\n",
    "    # x is a string\n",
    "    \n",
    "    if pd.isna(x) == True:\n",
    "        return x\n",
    "    else:\n",
    "        x = str(x).replace('외', '').replace(' ','')\n",
    "        splitted = x.split('-')\n",
    "        if len(splitted) == 1:\n",
    "            return x + '-0'\n",
    "        else:\n",
    "            return x"
   ]
  },
  {
   "cell_type": "code",
   "execution_count": 12,
   "metadata": {},
   "outputs": [],
   "source": [
    "def data_prep(\n",
    "    bdtype=estate_type.value,\n",
    "    tradetype='매매',\n",
    "    starting_year=timedelta_result.year,\n",
    "    starting_date=str(timedelta_result.date()),\n",
    "    city=search_city.value\n",
    "):\n",
    "    # bdtype is a string: one of 아파트, 연립다세대 or 오피스텔\n",
    "    # tradetype is a string: one of 매매 or 전월세\n",
    "    if (tradetype != '매매') & (tradetype != '전월세'):\n",
    "        raise ValueError('두번째 변수는 매매 또는 전월세만 입력 가능')\n",
    "    \n",
    "    if city == '서울':\n",
    "        basedir = './국토교통부_실거래가_공개시스템/{}/{}/'.format(bdtype, tradetype)\n",
    "    elif city == '인천':\n",
    "        basedir = './국토교통부_실거래가_공개시스템/인천/{}/{}/'.format(bdtype, tradetype)\n",
    "    elif city == '경기':\n",
    "        basedir = './국토교통부_실거래가_공개시스템/경기도/{}/{}/'.format(bdtype, tradetype)    \n",
    "    \n",
    "    filenames = [f for f in os.listdir(basedir) if (f.endswith('.csv'))&('(' in f)]\n",
    "    \n",
    "    dfs_list = []\n",
    "    for i, f in tqdm.tqdm_notebook(enumerate(filenames)):\n",
    "        splitted_filename = f.split('실거래가_')       \n",
    "        file_year = int(splitted_filename[-1][:4])\n",
    "        \n",
    "        if file_year < starting_year:\n",
    "            continue\n",
    "        \n",
    "        try:\n",
    "            df = pd.read_csv(basedir + f, encoding='euc-kr', header=15)\n",
    "        except:\n",
    "            try:\n",
    "                df = pd.read_csv(basedir + f, encoding='utf-8', header=15)\n",
    "            except:\n",
    "                df = pd.read_csv(basedir + f, header=15)\n",
    "        \n",
    "        if '건물명' in df.columns:\n",
    "            df.rename(columns={'건물명':'건물(단지)명'}, inplace=True)\n",
    "        elif '단지명' in df.columns:\n",
    "            df.rename(columns={'단지명':'건물(단지)명'}, inplace=True)\n",
    "            \n",
    "        if '대지권면적(㎡)' in df.columns:\n",
    "            df = df.drop(columns=['대지권면적(㎡)'])\n",
    "                \n",
    "            \n",
    "        if '해제사유발생일' in df.columns.tolist():\n",
    "            df = df[df['해제사유발생일'].isna()]\n",
    "            df = df.drop(columns=['해제사유발생일'])\n",
    "            \n",
    "        dfs_list.append(df)\n",
    "    \n",
    "    concat_df = pd.concat(dfs_list).reset_index(drop=True)\n",
    "    \n",
    "    if tradetype == '전월세':\n",
    "        concat_df = concat_df.rename(columns={'전월세구분':'거래구분', '보증금(만원)':'거래금액(만원)'})\n",
    "        concat_df = concat_df.drop(columns=['월세(만원)'])\n",
    "        concat_df = concat_df[concat_df['거래구분'] == '전세']\n",
    "    elif tradetype == '매매':\n",
    "        concat_df['거래구분'] = '매매'\n",
    "        \n",
    "    concat_df['번지'] = concat_df['번지'].apply(landnum_modifier)\n",
    "    \n",
    "    concat_df['계약년월'] = concat_df['계약년월'].astype('Int64')\n",
    "    concat_df['계약일'] = concat_df['계약일'].astype('Int64')\n",
    "    \n",
    "    concat_df['계약년월'] = concat_df['계약년월'].apply(str)\n",
    "    concat_df['계약일'] = concat_df['계약일'].apply(str)\n",
    "    \n",
    "    concat_df['계약날짜기준_건물연식'] = concat_df['계약년월'].apply(lambda x: int(x[:4])) - concat_df['건축년도']\n",
    "    \n",
    "    concat_df['계약일'] = concat_df['계약일'].apply(day_modifier)\n",
    "    \n",
    "    concat_df['계약날짜'] = concat_df['계약년월'].apply(lambda x: x[:4]) + '-' + concat_df['계약년월'].apply(lambda x: x[-2:])\\\n",
    "    + '-' + concat_df['계약일']\n",
    "    \n",
    "    concat_df['계약날짜'] = pd.to_datetime(concat_df['계약날짜'], format='%Y-%m-%d')\n",
    "    \n",
    "    concat_df['거래금액(만원)'] = concat_df['거래금액(만원)'].apply(lambda x: int(x.replace(',','')))\n",
    "    concat_df['단가(만원/㎡)'] = concat_df['거래금액(만원)'] / concat_df['전용면적(㎡)']\n",
    "    \n",
    "    concat_df['지번주소'] = concat_df['시군구'] + ' ' + concat_df['번지']\n",
    "        \n",
    "    cols_to_drop = ['번지', '지번주소', '계약년월', '계약일', '도로명']\n",
    "        \n",
    "    concat_df = concat_df[['지번주소', '도로명'] + [col for col in concat_df.columns if col not in cols_to_drop]]\n",
    "    \n",
    "    date_today = pd.to_datetime(datetime.datetime.now().strftime('%Y-%m-%d'), format='%Y-%m-%d')\n",
    "    concat_df['건물연식'] = date_today.year - concat_df['건축년도']\n",
    "    \n",
    "    concat_df = concat_df.dropna(subset=['지번주소'])\n",
    "    \n",
    "    concat_df = concat_df[concat_df['층'] >= 0].reset_index(drop=True)\n",
    "    \n",
    "    concat_df = concat_df[concat_df['계약날짜'] > pd.to_datetime(starting_date)]\n",
    "    \n",
    "    if '거래유형' in concat_df.columns:\n",
    "        concat_df = concat_df.drop(columns=['거래유형'])\n",
    "    if '중개사소재지' in concat_df.columns:\n",
    "        concat_df = concat_df.drop(columns=['중개사소재지'])\n",
    "    if '거래구분' in concat_df.columns:\n",
    "        concat_df = concat_df.drop(columns=['거래구분'])\n",
    "    concat_df = concat_df.drop(columns=['계약날짜기준_건물연식', '도로명', '시군구', '본번', '부번'])\n",
    "    \n",
    "    return concat_df"
   ]
  },
  {
   "cell_type": "code",
   "execution_count": 13,
   "metadata": {},
   "outputs": [
    {
     "name": "stderr",
     "output_type": "stream",
     "text": [
      "C:\\Users\\max6296\\AppData\\Local\\Temp\\ipykernel_9700\\2420055747.py:23: TqdmDeprecationWarning: This function will be removed in tqdm==5.0.0\n",
      "Please use `tqdm.notebook.tqdm` instead of `tqdm.tqdm_notebook`\n",
      "  for i, f in tqdm.tqdm_notebook(enumerate(filenames)):\n"
     ]
    },
    {
     "data": {
      "application/vnd.jupyter.widget-view+json": {
       "model_id": "57a2efb19e85459490d53167762d8c54",
       "version_major": 2,
       "version_minor": 0
      },
      "text/plain": [
       "0it [00:00, ?it/s]"
      ]
     },
     "metadata": {},
     "output_type": "display_data"
    },
    {
     "name": "stdout",
     "output_type": "stream",
     "text": [
      "(22430, 9)\n"
     ]
    },
    {
     "data": {
      "text/html": [
       "<div>\n",
       "<style scoped>\n",
       "    .dataframe tbody tr th:only-of-type {\n",
       "        vertical-align: middle;\n",
       "    }\n",
       "\n",
       "    .dataframe tbody tr th {\n",
       "        vertical-align: top;\n",
       "    }\n",
       "\n",
       "    .dataframe thead th {\n",
       "        text-align: right;\n",
       "    }\n",
       "</style>\n",
       "<table border=\"1\" class=\"dataframe\">\n",
       "  <thead>\n",
       "    <tr style=\"text-align: right;\">\n",
       "      <th></th>\n",
       "      <th>지번주소</th>\n",
       "      <th>건물(단지)명</th>\n",
       "      <th>전용면적(㎡)</th>\n",
       "      <th>거래금액(만원)</th>\n",
       "      <th>층</th>\n",
       "      <th>건축년도</th>\n",
       "      <th>계약날짜</th>\n",
       "      <th>단가(만원/㎡)</th>\n",
       "      <th>건물연식</th>\n",
       "    </tr>\n",
       "  </thead>\n",
       "  <tbody>\n",
       "    <tr>\n",
       "      <th>0</th>\n",
       "      <td>서울특별시 강남구 개포동 1172-2</td>\n",
       "      <td>(1172-2)</td>\n",
       "      <td>42.15</td>\n",
       "      <td>50000</td>\n",
       "      <td>3</td>\n",
       "      <td>2012.0</td>\n",
       "      <td>2022-03-21</td>\n",
       "      <td>1186.239620</td>\n",
       "      <td>11.0</td>\n",
       "    </tr>\n",
       "    <tr>\n",
       "      <th>2</th>\n",
       "      <td>서울특별시 강남구 개포동 1216-4</td>\n",
       "      <td>(1216-4)</td>\n",
       "      <td>29.97</td>\n",
       "      <td>55000</td>\n",
       "      <td>3</td>\n",
       "      <td>2012.0</td>\n",
       "      <td>2022-07-05</td>\n",
       "      <td>1835.168502</td>\n",
       "      <td>11.0</td>\n",
       "    </tr>\n",
       "    <tr>\n",
       "      <th>3</th>\n",
       "      <td>서울특별시 강남구 개포동 159-2</td>\n",
       "      <td>(159-2)</td>\n",
       "      <td>57.55</td>\n",
       "      <td>110000</td>\n",
       "      <td>2</td>\n",
       "      <td>1987.0</td>\n",
       "      <td>2022-06-09</td>\n",
       "      <td>1911.381407</td>\n",
       "      <td>36.0</td>\n",
       "    </tr>\n",
       "    <tr>\n",
       "      <th>4</th>\n",
       "      <td>서울특별시 강남구 개포동 159-2</td>\n",
       "      <td>(159-2)</td>\n",
       "      <td>121.23</td>\n",
       "      <td>199000</td>\n",
       "      <td>3</td>\n",
       "      <td>1987.0</td>\n",
       "      <td>2022-06-09</td>\n",
       "      <td>1641.507878</td>\n",
       "      <td>36.0</td>\n",
       "    </tr>\n",
       "    <tr>\n",
       "      <th>5</th>\n",
       "      <td>서울특별시 강남구 개포동 159-2</td>\n",
       "      <td>(159-2)</td>\n",
       "      <td>41.45</td>\n",
       "      <td>78000</td>\n",
       "      <td>2</td>\n",
       "      <td>1987.0</td>\n",
       "      <td>2022-06-09</td>\n",
       "      <td>1881.785283</td>\n",
       "      <td>36.0</td>\n",
       "    </tr>\n",
       "  </tbody>\n",
       "</table>\n",
       "</div>"
      ],
      "text/plain": [
       "                   지번주소   건물(단지)명  전용면적(㎡)  거래금액(만원)  층    건축년도       계약날짜  \\\n",
       "0  서울특별시 강남구 개포동 1172-2  (1172-2)    42.15     50000  3  2012.0 2022-03-21   \n",
       "2  서울특별시 강남구 개포동 1216-4  (1216-4)    29.97     55000  3  2012.0 2022-07-05   \n",
       "3   서울특별시 강남구 개포동 159-2   (159-2)    57.55    110000  2  1987.0 2022-06-09   \n",
       "4   서울특별시 강남구 개포동 159-2   (159-2)   121.23    199000  3  1987.0 2022-06-09   \n",
       "5   서울특별시 강남구 개포동 159-2   (159-2)    41.45     78000  2  1987.0 2022-06-09   \n",
       "\n",
       "      단가(만원/㎡)  건물연식  \n",
       "0  1186.239620  11.0  \n",
       "2  1835.168502  11.0  \n",
       "3  1911.381407  36.0  \n",
       "4  1641.507878  36.0  \n",
       "5  1881.785283  36.0  "
      ]
     },
     "execution_count": 13,
     "metadata": {},
     "output_type": "execute_result"
    }
   ],
   "source": [
    "main_data_df = data_prep()\n",
    "print(main_data_df.shape)\n",
    "main_data_df.head()"
   ]
  },
  {
   "cell_type": "code",
   "execution_count": 14,
   "metadata": {},
   "outputs": [],
   "source": [
    "date_today = str(datetime.datetime.now().date())\n",
    "\n",
    "if area_search_range_options.value == '~이상':\n",
    "    area_range_name = str(range_min.value) + '이상'\n",
    "elif area_search_range_options.value == '~이하':\n",
    "    area_range_name = str(range_max.value) + '이하'\n",
    "elif area_search_range_options.value == '~이상 & ~이하':\n",
    "    area_range_name = str(range_min.value) + '이상_' + str(range_max.value) + '이하'\n",
    "\n",
    "basedir = './구별_실거래가_지도/{}/{}_{}_전용면적_{}_최근_{}개월_{}'.format(\n",
    "    date_today, search_city.value, estate_type.value, area_range_name, search_range.value, date_today\n",
    ")\n",
    "\n",
    "try:\n",
    "    os.makedirs('./구별_실거래가_지도/{}/'.format(date_today))\n",
    "except:\n",
    "    pass"
   ]
  },
  {
   "cell_type": "code",
   "execution_count": 15,
   "metadata": {},
   "outputs": [],
   "source": [
    "main_data_df.to_excel(basedir + '_전체_거래사례_자료.xlsx', index=False)"
   ]
  },
  {
   "cell_type": "code",
   "execution_count": 16,
   "metadata": {},
   "outputs": [],
   "source": [
    "main_data_df['지번주소_건축년도'] = main_data_df['지번주소'] + '_' + main_data_df['건축년도'].astype('Int64').apply(str)"
   ]
  },
  {
   "cell_type": "code",
   "execution_count": 17,
   "metadata": {},
   "outputs": [],
   "source": [
    "main_data_df['소유자'] = np.nan"
   ]
  },
  {
   "cell_type": "code",
   "execution_count": 18,
   "metadata": {},
   "outputs": [],
   "source": [
    "def get_owner_name(df):\n",
    "    df = df.copy()\n",
    "    \n",
    "    count = 0\n",
    "    for addr in tqdm.tqdm_notebook(df['지번주소'].unique()):\n",
    "        owner_name = np.nan        \n",
    "        addr_df = df[df['지번주소'] == addr]\n",
    "        addr = addr.replace('-0', '')\n",
    "        \n",
    "        driver.switch_to.default_content()\n",
    "        \n",
    "        \n",
    "        driver.switch_to.frame(\"inputFrame\")\n",
    "        \n",
    "        elem_search = driver.find_element_by_xpath('html/body/form[1]/div[24]/div/div/div/fieldset/div/table/tbody/tr[5]/td/span/input')\n",
    "        elem_search.clear()\n",
    "        elem_search.send_keys(addr)\n",
    "        elem_search.send_keys(Keys.RETURN)\n",
    "        time.sleep(2)\n",
    "        \n",
    "        try:\n",
    "            driver.switch_to.alert.accept()\n",
    "        except:\n",
    "            pass\n",
    "        \n",
    "        time.sleep(1)\n",
    "        \n",
    "        try:\n",
    "            driver.switch_to.alert.accept()\n",
    "        except:\n",
    "            pass\n",
    "        \n",
    "        driver.switch_to.default_content()\n",
    "        driver.switch_to.frame('resultFrame')\n",
    "        driver.switch_to.frame('frmOuterModal')\n",
    "        \n",
    "        try:\n",
    "            driver.find_element_by_xpath('/html/body/div[2]/div[2]/table/tbody/tr[3]/td[6]/button').click()\n",
    "        except:\n",
    "            continue\n",
    "        \n",
    "        time.sleep(1)\n",
    "        \n",
    "        elem_result = driver.find_element_by_xpath('/html/body/div[2]/div[2]/table/tbody/tr/td[3]')\n",
    "        \n",
    "        owner_name = elem_result.text\n",
    "        \n",
    "        driver.switch_to.default_content()\n",
    "        \n",
    "        df.loc[addr_df.index, '소유자'] = owner_name\n",
    "        \n",
    "        count += 1\n",
    "    \n",
    "    return df"
   ]
  },
  {
   "cell_type": "code",
   "execution_count": 19,
   "metadata": {},
   "outputs": [],
   "source": [
    "def name_filter(x):\n",
    "    if pd.isna(x) == True:\n",
    "        return x\n",
    "    else:\n",
    "        if x == '서***~':\n",
    "            return 'SH'\n",
    "        elif x == '한***~':\n",
    "            return 'LH'\n",
    "        elif x == '경***~':\n",
    "            return 'GH'\n",
    "        elif x == '인***~':\n",
    "            return 'IH'\n",
    "        else:\n",
    "            return x"
   ]
  },
  {
   "cell_type": "code",
   "execution_count": 20,
   "metadata": {},
   "outputs": [],
   "source": [
    "def buying_company_filter(df):\n",
    "    df = df.copy()\n",
    "    \n",
    "    df['소유자'] = df['소유자'].apply(name_filter)\n",
    "    \n",
    "    return df"
   ]
  },
  {
   "cell_type": "code",
   "execution_count": 21,
   "metadata": {},
   "outputs": [],
   "source": [
    "def export_data(df):\n",
    "    df = df.copy()\n",
    "    \n",
    "    df = df[\n",
    "        (df['소유자'] == 'SH')\n",
    "        |(df['소유자'] == 'LH')\n",
    "        |(df['소유자'] == 'GH')\n",
    "        |(df['소유자'] == 'IH')\n",
    "    ]\n",
    "    \n",
    "    df.to_excel(basedir + '_거래사례_베이스.xlsx', index=False)\n",
    "    \n",
    "    df['전용면적(㎡)_최소'] = df[['지번주소', '건축년도', '전용면적(㎡)']].groupby(['지번주소', '건축년도']).transform('min')['전용면적(㎡)']\n",
    "    df['전용면적(㎡)_평균'] = df[['지번주소', '건축년도', '전용면적(㎡)']].groupby(['지번주소', '건축년도']).transform('mean')['전용면적(㎡)']\n",
    "    df['전용면적(㎡)_최대'] = df[['지번주소', '건축년도', '전용면적(㎡)']].groupby(['지번주소', '건축년도']).transform('max')['전용면적(㎡)']\n",
    "    df['전용면적(㎡)_합'] = df[['지번주소', '건축년도', '전용면적(㎡)']].groupby(['지번주소', '건축년도']).transform('sum')['전용면적(㎡)']\n",
    "    \n",
    "    df['거래금액(만원)_최소'] = df[['지번주소', '건축년도', '거래금액(만원)']].groupby(['지번주소', '건축년도']).transform('min')['거래금액(만원)']\n",
    "    df['거래금액(만원)_평균'] = df[['지번주소', '건축년도', '거래금액(만원)']].groupby(['지번주소', '건축년도']).transform('mean')['거래금액(만원)']\n",
    "    df['거래금액(만원)_최대'] = df[['지번주소', '건축년도', '거래금액(만원)']].groupby(['지번주소', '건축년도']).transform('max')['거래금액(만원)']\n",
    "    df['거래금액(만원)_합'] = df[['지번주소', '건축년도', '거래금액(만원)']].groupby(['지번주소', '건축년도']).transform('sum')['거래금액(만원)']\n",
    "    \n",
    "    df['층_최대'] = df[['지번주소', '건축년도', '층']].groupby(['지번주소', '건축년도']).transform('max')['층']\n",
    "    \n",
    "    df['단가(만원/㎡)_최소'] = df[['지번주소', '건축년도', '단가(만원/㎡)']].groupby(['지번주소', '건축년도']).transform('min')['단가(만원/㎡)']\n",
    "    df['단가(만원/㎡)_평균'] = df[['지번주소', '건축년도', '단가(만원/㎡)']].groupby(['지번주소', '건축년도']).transform('mean')['단가(만원/㎡)']\n",
    "    df['단가(만원/㎡)_최대'] = df[['지번주소', '건축년도', '단가(만원/㎡)']].groupby(['지번주소', '건축년도']).transform('max')['단가(만원/㎡)']\n",
    "    \n",
    "    summary_df = df.drop(columns=['전용면적(㎡)', '거래금액(만원)', '층', '단가(만원/㎡)', '건물연식']).drop_duplicates()\n",
    "    summary_df['구'] = summary_df['지번주소'].apply(lambda x: x.split(' ')[1])\n",
    "    summary_df['동'] = summary_df['지번주소'].apply(lambda x: x.split(' ')[2])\n",
    "    summary_df = summary_df.sort_values(['구', '동', '계약날짜', '지번주소']).reset_index(drop=True)\n",
    "    summary_df = summary_df.drop(columns=['구', '동'])\n",
    "    \n",
    "    summary_df.to_excel(basedir + '_거래사례_요약.xlsx', index=False)"
   ]
  },
  {
   "cell_type": "code",
   "execution_count": 22,
   "metadata": {},
   "outputs": [
    {
     "name": "stdout",
     "output_type": "stream",
     "text": [
      "일괄계약 사례 검색 중...\n"
     ]
    },
    {
     "name": "stderr",
     "output_type": "stream",
     "text": [
      "C:\\Users\\max6296\\AppData\\Local\\Temp\\ipykernel_9700\\2841512543.py:5: TqdmDeprecationWarning: This function will be removed in tqdm==5.0.0\n",
      "Please use `tqdm.notebook.tqdm` instead of `tqdm.tqdm_notebook`\n",
      "  for addr in tqdm.tqdm_notebook(main_data_df['지번주소_건축년도'].unique()):\n"
     ]
    },
    {
     "data": {
      "application/vnd.jupyter.widget-view+json": {
       "model_id": "554558a552c94d71af705817dc6fab0e",
       "version_major": 2,
       "version_minor": 0
      },
      "text/plain": [
       "  0%|          | 0/13152 [00:00<?, ?it/s]"
      ]
     },
     "metadata": {},
     "output_type": "display_data"
    },
    {
     "name": "stdout",
     "output_type": "stream",
     "text": [
      "일괄계약이 이루어진 지번주소 갯수: 190\n",
      "소유자 정보를 가져오는 중...\n"
     ]
    },
    {
     "name": "stderr",
     "output_type": "stream",
     "text": [
      "C:\\Users\\max6296\\AppData\\Local\\Temp\\ipykernel_9700\\2841512543.py:21: DeprecationWarning: executable_path has been deprecated, please pass in a Service object\n",
      "  driver = webdriver.Chrome(ChromeDriverManager().install())\n",
      "C:\\Users\\max6296\\AppData\\Local\\Temp\\ipykernel_9700\\2801118761.py:5: TqdmDeprecationWarning: This function will be removed in tqdm==5.0.0\n",
      "Please use `tqdm.notebook.tqdm` instead of `tqdm.tqdm_notebook`\n",
      "  for addr in tqdm.tqdm_notebook(df['지번주소'].unique()):\n"
     ]
    },
    {
     "data": {
      "application/vnd.jupyter.widget-view+json": {
       "model_id": "289cdee1bb3940b085e6596db65caada",
       "version_major": 2,
       "version_minor": 0
      },
      "text/plain": [
       "  0%|          | 0/190 [00:00<?, ?it/s]"
      ]
     },
     "metadata": {},
     "output_type": "display_data"
    },
    {
     "ename": "AttributeError",
     "evalue": "'WebDriver' object has no attribute 'find_element_by_xpath'",
     "output_type": "error",
     "traceback": [
      "\u001b[1;31m---------------------------------------------------------------------------\u001b[0m",
      "\u001b[1;31mAttributeError\u001b[0m                            Traceback (most recent call last)",
      "Cell \u001b[1;32mIn[22], line 27\u001b[0m\n\u001b[0;32m     25\u001b[0m driver\u001b[38;5;241m.\u001b[39mget(\u001b[38;5;124m\"\u001b[39m\u001b[38;5;124mhttp://www.iros.go.kr/frontservlet?cmd=RISUWelcomeViewC\u001b[39m\u001b[38;5;124m\"\u001b[39m)\n\u001b[0;32m     26\u001b[0m time\u001b[38;5;241m.\u001b[39msleep(\u001b[38;5;241m1\u001b[39m)\n\u001b[1;32m---> 27\u001b[0m bulk_trade_df \u001b[38;5;241m=\u001b[39m \u001b[43mget_owner_name\u001b[49m\u001b[43m(\u001b[49m\u001b[43mbulk_trade_df\u001b[49m\u001b[43m)\u001b[49m\n\u001b[0;32m     29\u001b[0m bulk_trade_df \u001b[38;5;241m=\u001b[39m buying_company_filter(bulk_trade_df)\n\u001b[0;32m     31\u001b[0m export_data(bulk_trade_df)\n",
      "Cell \u001b[1;32mIn[18], line 15\u001b[0m, in \u001b[0;36mget_owner_name\u001b[1;34m(df)\u001b[0m\n\u001b[0;32m     10\u001b[0m driver\u001b[38;5;241m.\u001b[39mswitch_to\u001b[38;5;241m.\u001b[39mdefault_content()\n\u001b[0;32m     13\u001b[0m driver\u001b[38;5;241m.\u001b[39mswitch_to\u001b[38;5;241m.\u001b[39mframe(\u001b[38;5;124m\"\u001b[39m\u001b[38;5;124minputFrame\u001b[39m\u001b[38;5;124m\"\u001b[39m)\n\u001b[1;32m---> 15\u001b[0m elem_search \u001b[38;5;241m=\u001b[39m \u001b[43mdriver\u001b[49m\u001b[38;5;241;43m.\u001b[39;49m\u001b[43mfind_element_by_xpath\u001b[49m(\u001b[38;5;124m'\u001b[39m\u001b[38;5;124mhtml/body/form[1]/div[24]/div/div/div/fieldset/div/table/tbody/tr[5]/td/span/input\u001b[39m\u001b[38;5;124m'\u001b[39m)\n\u001b[0;32m     16\u001b[0m elem_search\u001b[38;5;241m.\u001b[39mclear()\n\u001b[0;32m     17\u001b[0m elem_search\u001b[38;5;241m.\u001b[39msend_keys(addr)\n",
      "\u001b[1;31mAttributeError\u001b[0m: 'WebDriver' object has no attribute 'find_element_by_xpath'"
     ]
    }
   ],
   "source": [
    "if buyer_type.value != 'SH, LH, IH, GH, 일반분양 전체':\n",
    "    bulk_trade_idx = []\n",
    "\n",
    "    print('일괄계약 사례 검색 중...')\n",
    "    for addr in tqdm.tqdm_notebook(main_data_df['지번주소_건축년도'].unique()):\n",
    "        addr_df = main_data_df[main_data_df['지번주소_건축년도'] == addr]\n",
    "\n",
    "        if (addr_df.shape[0] >= 10) & (addr_df['계약날짜'].nunique() == 1):\n",
    "            [bulk_trade_idx.append(idx) for idx in addr_df.index]\n",
    "    \n",
    "    bulk_trade_df = main_data_df.loc[bulk_trade_idx]\n",
    "    \n",
    "    print('일괄계약이 이루어진 지번주소 갯수:', bulk_trade_df['지번주소'].nunique())\n",
    "    \n",
    "    from selenium import webdriver\n",
    "    from selenium.webdriver.common.keys import Keys\n",
    "    from webdriver_manager.chrome import ChromeDriverManager\n",
    "    \n",
    "    print('소유자 정보를 가져오는 중...')\n",
    "    time.sleep(1)\n",
    "    driver = webdriver.Chrome(ChromeDriverManager().install())\n",
    "    time.sleep(1)\n",
    "    driver.get(\"http://www.iros.go.kr/PMainJ.jsp\")\n",
    "    time.sleep(1)\n",
    "    driver.get(\"http://www.iros.go.kr/frontservlet?cmd=RISUWelcomeViewC\")\n",
    "    time.sleep(1)\n",
    "    bulk_trade_df = get_owner_name(bulk_trade_df)\n",
    "    \n",
    "    bulk_trade_df = buying_company_filter(bulk_trade_df)\n",
    "    \n",
    "    export_data(bulk_trade_df)\n",
    "    \n",
    "    main_data_df.loc[bulk_trade_df.index, '소유자'] = bulk_trade_df['소유자']\n",
    "    \n",
    "    del bulk_trade_df\n",
    "    \n",
    "    main_data_df['소유자'].fillna('기타', inplace=True)\n",
    "    \n",
    "    if buyer_type.value == 'SH':\n",
    "        main_data_df = main_data_df[main_data_df['소유자'] == 'SH']\n",
    "    elif buyer_type.value == 'LH':\n",
    "        main_data_df = main_data_df[main_data_df['소유자'] == 'LH']\n",
    "    elif buyer_type.value == 'IH':\n",
    "        main_data_df = main_data_df[main_data_df['소유자'] == 'IH']\n",
    "    elif buyer_type.value == 'GH':\n",
    "        main_data_df = main_data_df[main_data_df['소유자'] == 'GH']\n",
    "    elif buyer_type.value == 'SH, LH, IH & GH':\n",
    "        main_data_df = main_data_df[(main_data_df['소유자'] == 'SH')\n",
    "                                    |(main_data_df['소유자'] == 'LH')\n",
    "                                    |(main_data_df['소유자'] == 'IH')\n",
    "                                    |(main_data_df['소유자'] == 'GH')\n",
    "                                   ]\n",
    "    elif buyer_type.value == 'SH, LH, IH, GH를 제외한 거래사례':\n",
    "        main_data_df = main_data_df[\n",
    "            (main_data_df['소유자'] != 'SH')\n",
    "            &(main_data_df['소유자'] != 'LH')\n",
    "            &(main_data_df['소유자'] != 'IH')\n",
    "            &(main_data_df['소유자'] != 'GH')\n",
    "        ]"
   ]
  },
  {
   "cell_type": "code",
   "execution_count": null,
   "metadata": {},
   "outputs": [],
   "source": [
    "if search_city.value != '서울':\n",
    "    raise ValueError('검색 지역이 서울이 아닐 시 등치지도는 생성되지 않습니다.')\n",
    "    quit()"
   ]
  },
  {
   "cell_type": "code",
   "execution_count": null,
   "metadata": {},
   "outputs": [],
   "source": [
    "def filter_and_generate_map_data(\n",
    "    df,\n",
    "    data_type=map_display_value_selection.value,\n",
    "    qr_value=quantile_range.value / 100,\n",
    "    area_range_type=area_search_range_options.value,\n",
    "    area_range_min=range_min.value,\n",
    "    area_range_max=range_max.value\n",
    "):\n",
    "    df = df.copy()\n",
    "    \n",
    "    ['~이상', '~이하', '~이상 & ~이하']\n",
    "    if area_range_type == '~이상':\n",
    "        df = df[df['전용면적(㎡)'] >= area_range_min]\n",
    "    elif area_range_type == '~이하':\n",
    "        df = df[df['전용면적(㎡)'] <= area_range_max]\n",
    "    elif area_range_type == '~이상 & ~이하':\n",
    "        df = df[\n",
    "            (df['전용면적(㎡)'] >= area_range_min)\n",
    "            &(df['전용면적(㎡)'] <= area_range_max)\n",
    "        ]\n",
    "    \n",
    "    df['구'] = df['지번주소'].apply(lambda x: x.split(' ')[1])\n",
    "    \n",
    "    gu_data_df = pd.DataFrame()\n",
    "    for i, gu in enumerate(df['구'].unique()):\n",
    "        gu_df = df[df['구'] == gu]\n",
    "        \n",
    "        gu_data_df.loc[i, 'name'] = gu\n",
    "        if data_type == '최소':\n",
    "            gu_data_df.loc[i, 'value'] = gu_df['단가(만원/㎡)'].min()\n",
    "        elif data_type == '최대':\n",
    "            gu_data_df.loc[i, 'value'] = gu_df['단가(만원/㎡)'].max()\n",
    "        elif data_type == '평균':\n",
    "            gu_data_df.loc[i, 'value'] = gu_df['단가(만원/㎡)'].mean()\n",
    "        elif data_type == '분위':\n",
    "            gu_data_df.loc[i, 'value'] = gu_df['단가(만원/㎡)'].quantile(qr_value)\n",
    "    \n",
    "    return df, gu_data_df    "
   ]
  },
  {
   "cell_type": "code",
   "execution_count": null,
   "metadata": {},
   "outputs": [],
   "source": [
    "filtered_df, map_data_df = filter_and_generate_map_data(main_data_df)"
   ]
  },
  {
   "cell_type": "code",
   "execution_count": null,
   "metadata": {},
   "outputs": [],
   "source": [
    "print(map_data_df.shape)\n",
    "map_data_df"
   ]
  },
  {
   "cell_type": "code",
   "execution_count": null,
   "metadata": {},
   "outputs": [],
   "source": [
    "print('지도 자료 구 갯수:', map_data_df.shape[0])"
   ]
  },
  {
   "cell_type": "code",
   "execution_count": null,
   "metadata": {},
   "outputs": [],
   "source": [
    "filtered_df.to_excel(basedir + '_지도_베이스_자료_전체.xlsx', index=False)\n",
    "map_data_df.to_excel(basedir + '_지도_자료.xlsx', index=False)"
   ]
  },
  {
   "cell_type": "code",
   "execution_count": null,
   "metadata": {},
   "outputs": [],
   "source": [
    "import folium"
   ]
  },
  {
   "cell_type": "code",
   "execution_count": null,
   "metadata": {},
   "outputs": [],
   "source": [
    "geo_json = 'https://raw.githubusercontent.com/southkorea/seoul-maps/master/kostat/2013/json/seoul_municipalities_geo_simple.json'"
   ]
  },
  {
   "cell_type": "code",
   "execution_count": null,
   "metadata": {},
   "outputs": [],
   "source": [
    "color_list = ['블루그린', '블루퍼플', '그린블루', '오렌지레드', '퍼플블루', '퍼플블루그린', '퍼플레드', '레드퍼플',\n",
    "              '옐로우그린', '옐로우그린블루', '옐로우오렌지브라운', '옐로우오렌지레드']\n",
    "\n",
    "folium_color_names = ['BuGn', 'BuPu', 'GnBu', 'OrRd', 'PuBu', 'PuBuGn', 'PuRd', 'RdPu', 'YlGn', 'YlGnBu', 'YlOrBr',\n",
    "                      'YlOrRd']\n",
    "\n",
    "color_dict = {color_list[i]: folium_color_names[i] for i in range(len(color_list))}"
   ]
  },
  {
   "cell_type": "code",
   "execution_count": null,
   "metadata": {},
   "outputs": [],
   "source": [
    "map_color_options = widgets.RadioButtons(\n",
    "    options=['화이트블루', '블루그린', '블루퍼플', '그린블루', '오렌지레드', '퍼플블루', '퍼플블루그린', '퍼플레드', '레드퍼플',\n",
    "             '옐로우그린', '옐로우그린블루', '옐로우오렌지브라운', '옐로우오렌지레드'\n",
    "            ]\n",
    ")\n",
    "\n",
    "map_color_options_box = widgets.Box(\n",
    "    [\n",
    "        widgets.Label(value='지도 표시 색깔:'),\n",
    "        map_color_options        \n",
    "    ]\n",
    ")\n",
    "\n",
    "display(map_color_options_box)"
   ]
  },
  {
   "cell_type": "code",
   "execution_count": null,
   "metadata": {},
   "outputs": [],
   "source": [
    "m = folium.Map(\n",
    "    location=[37.566345, 126.977893]#,\n",
    "    #tiles='Stamen Terrain'\n",
    ")\n",
    "\n",
    "if map_color_options.value == '화이트블루':\n",
    "    folium.Choropleth(\n",
    "        geo_data=geo_json,\n",
    "        name='choropleth',\n",
    "        data=map_data_df,\n",
    "        columns=['name', 'value'],\n",
    "        key_on='feature.properties.name'\n",
    "    ).add_to(m)\n",
    "else:\n",
    "    folium.Choropleth(\n",
    "        geo_data=geo_json,\n",
    "        name='choropleth',\n",
    "        data=map_data_df,\n",
    "        columns=['name', 'value'],\n",
    "        key_on='feature.properties.name',\n",
    "        fill_color=color_dict[map_color_options.value]\n",
    "    ).add_to(m)\n",
    "    \n",
    "map_title = '{}_전용면적_{}_최근_{}개월_{}'.format(\n",
    "    estate_type.value, area_range_name, search_range.value, date_today\n",
    ")\n",
    "\n",
    "print(map_title)\n",
    "m\n",
    "\n",
    "m.save(basedir + '_등치지도_{}.html'.format(map_color_options.value))"
   ]
  },
  {
   "cell_type": "code",
   "execution_count": null,
   "metadata": {},
   "outputs": [],
   "source": []
  },
  {
   "cell_type": "code",
   "execution_count": null,
   "metadata": {},
   "outputs": [],
   "source": []
  },
  {
   "cell_type": "code",
   "execution_count": null,
   "metadata": {},
   "outputs": [],
   "source": []
  },
  {
   "cell_type": "code",
   "execution_count": null,
   "metadata": {},
   "outputs": [],
   "source": []
  },
  {
   "cell_type": "code",
   "execution_count": null,
   "metadata": {},
   "outputs": [],
   "source": []
  },
  {
   "cell_type": "code",
   "execution_count": null,
   "metadata": {},
   "outputs": [],
   "source": []
  }
 ],
 "metadata": {
  "kernelspec": {
   "display_name": "Python 3 (ipykernel)",
   "language": "python",
   "name": "python3"
  },
  "language_info": {
   "codemirror_mode": {
    "name": "ipython",
    "version": 3
   },
   "file_extension": ".py",
   "mimetype": "text/x-python",
   "name": "python",
   "nbconvert_exporter": "python",
   "pygments_lexer": "ipython3",
   "version": "3.9.13"
  }
 },
 "nbformat": 4,
 "nbformat_minor": 4
}
