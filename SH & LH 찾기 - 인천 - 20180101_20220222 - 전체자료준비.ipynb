{
 "cells": [
  {
   "cell_type": "code",
   "execution_count": 1,
   "metadata": {},
   "outputs": [],
   "source": [
    "import pandas as pd\n",
    "import numpy as np\n",
    "import os\n",
    "pd.set_option('display.max_rows', 500)\n",
    "pd.set_option('display.max_columns', 500)\n",
    "import tqdm\n",
    "import matplotlib.pyplot as plt\n",
    "import seaborn as sns\n",
    "import matplotlib\n",
    "matplotlib.rcParams['axes.unicode_minus'] = False\n",
    "pd.options.mode.chained_assignment = None  # default='warn'\n",
    "plt.rcParams['font.family'] = 'Malgun Gothic'\n",
    "import datetime\n",
    "tqdm.tqdm.pandas()"
   ]
  },
  {
   "cell_type": "code",
   "execution_count": 2,
   "metadata": {},
   "outputs": [],
   "source": [
    "date_today = pd.to_datetime(datetime.datetime.now().strftime('%Y-%m-%d'), format='%Y-%m-%d')"
   ]
  },
  {
   "cell_type": "code",
   "execution_count": 3,
   "metadata": {},
   "outputs": [
    {
     "data": {
      "text/plain": [
       "'20220224'"
      ]
     },
     "execution_count": 3,
     "metadata": {},
     "output_type": "execute_result"
    }
   ],
   "source": [
    "date_today_record = str(date_today).split(' ')[0].replace('-', '')\n",
    "date_today_record"
   ]
  },
  {
   "cell_type": "code",
   "execution_count": 4,
   "metadata": {},
   "outputs": [],
   "source": [
    "def day_modifier(x):\n",
    "    # x is a number\n",
    "    \n",
    "    if pd.isna(x) == True:\n",
    "        return x\n",
    "    else:\n",
    "        x = str(x)\n",
    "        if len(x) == 1:\n",
    "            return '0' + x\n",
    "        else:\n",
    "            return x"
   ]
  },
  {
   "cell_type": "code",
   "execution_count": 5,
   "metadata": {},
   "outputs": [],
   "source": [
    "def landnum_modifier(x):\n",
    "    # x is a string\n",
    "    \n",
    "    if pd.isna(x) == True:\n",
    "        return x\n",
    "    else:\n",
    "        x = str(x).replace('외', '').replace(' ','')\n",
    "        splitted = x.split('-')\n",
    "        if len(splitted) == 1:\n",
    "            return x + '-0'\n",
    "        else:\n",
    "            return x"
   ]
  },
  {
   "cell_type": "code",
   "execution_count": 6,
   "metadata": {},
   "outputs": [],
   "source": [
    "def data_prep(bdtype, tradetype, starting_year=2018):\n",
    "    # bdtype is a string: one of 아파트, 연립다세대 or 오피스텔\n",
    "    # tradetype is a string: one of 매매 or 전월세\n",
    "    if (tradetype != '매매') & (tradetype != '전월세'):\n",
    "        raise ValueError('두번째 변수는 매매 또는 전월세만 입력 가능')\n",
    "    \n",
    "    \n",
    "    basedir = './국토교통부_실거래가_공개시스템/인천/{}/{}/'.format(bdtype, tradetype)\n",
    "    filenames = [f for f in os.listdir(basedir) if f.endswith('.csv')]\n",
    "    \n",
    "    dfs_list = []\n",
    "    for i, f in tqdm.tqdm_notebook(enumerate(filenames)):\n",
    "        splitted_filename = f.split('실거래가_')       \n",
    "        file_year = int(splitted_filename[-1][:4])\n",
    "        \n",
    "        '''if file_year < starting_year:\n",
    "            continue'''\n",
    "        \n",
    "        try:\n",
    "            df = pd.read_csv(basedir + f, encoding='euc-kr', header=15)\n",
    "        except:\n",
    "            try:\n",
    "                df = pd.read_csv(basedir + f, encoding='utf-8', header=15)\n",
    "            except:\n",
    "                df = pd.read_csv(basedir + f, header=15)\n",
    "        \n",
    "        if '건물명' in df.columns:\n",
    "            df.rename(columns={'건물명':'건물(단지)명'}, inplace=True)\n",
    "        elif '단지명' in df.columns:\n",
    "            df.rename(columns={'단지명':'건물(단지)명'}, inplace=True)\n",
    "            \n",
    "        if '대지권면적(㎡)' in df.columns:\n",
    "            df = df.drop(columns=['대지권면적(㎡)'])\n",
    "                \n",
    "            \n",
    "        if '해제사유발생일' in df.columns.tolist():\n",
    "            df = df[df['해제사유발생일'].isna()]\n",
    "            df = df.drop(columns=['해제사유발생일'])\n",
    "            \n",
    "        dfs_list.append(df)\n",
    "    \n",
    "    concat_df = pd.concat(dfs_list).reset_index(drop=True)\n",
    "    \n",
    "    if tradetype == '전월세':\n",
    "        concat_df = concat_df.rename(columns={'전월세구분':'거래구분', '보증금(만원)':'거래금액(만원)'})\n",
    "        concat_df = concat_df.drop(columns=['월세(만원)'])\n",
    "        concat_df = concat_df[concat_df['거래구분'] == '전세']\n",
    "    elif tradetype == '매매':\n",
    "        concat_df['거래구분'] = '매매'\n",
    "        \n",
    "    concat_df['번지'] = concat_df['번지'].apply(landnum_modifier)\n",
    "    \n",
    "    concat_df['계약년월'] = concat_df['계약년월'].astype('Int64')\n",
    "    concat_df['계약일'] = concat_df['계약일'].astype('Int64')\n",
    "    \n",
    "    concat_df['계약년월'] = concat_df['계약년월'].apply(str)\n",
    "    concat_df['계약일'] = concat_df['계약일'].apply(str)\n",
    "    \n",
    "    concat_df['계약날짜기준_건물연식'] = concat_df['계약년월'].apply(lambda x: int(x[:4])) - concat_df['건축년도']\n",
    "    \n",
    "    concat_df['계약일'] = concat_df['계약일'].apply(day_modifier)\n",
    "    \n",
    "    concat_df['계약날짜'] = concat_df['계약년월'].apply(lambda x: x[:4]) + '-' + concat_df['계약년월'].apply(lambda x: x[-2:])\\\n",
    "    + '-' + concat_df['계약일']\n",
    "    \n",
    "    concat_df['계약날짜'] = pd.to_datetime(concat_df['계약날짜'], format='%Y-%m-%d')\n",
    "    \n",
    "    concat_df['거래금액(만원)'] = concat_df['거래금액(만원)'].apply(lambda x: int(x.replace(',','')))\n",
    "    concat_df['단가(만원/㎡)'] = concat_df['거래금액(만원)'] / concat_df['전용면적(㎡)']\n",
    "    \n",
    "    concat_df['지번주소'] = concat_df['시군구'] + ' ' + concat_df['번지']\n",
    "        \n",
    "    cols_to_drop = ['번지', '지번주소', '계약년월', '계약일', '도로명']\n",
    "        \n",
    "    concat_df = concat_df[['지번주소', '도로명'] + [col for col in concat_df.columns if col not in cols_to_drop]]\n",
    "    \n",
    "    date_today = pd.to_datetime(datetime.datetime.now().strftime('%Y-%m-%d'), format='%Y-%m-%d')\n",
    "    concat_df['건물연식'] = date_today.year - concat_df['건축년도']\n",
    "    \n",
    "    concat_df = concat_df.dropna(subset=['지번주소'])\n",
    "    \n",
    "    concat_df = concat_df[concat_df['층'] >= 0].reset_index(drop=True)\n",
    "    \n",
    "    return concat_df"
   ]
  },
  {
   "cell_type": "code",
   "execution_count": 7,
   "metadata": {},
   "outputs": [
    {
     "name": "stderr",
     "output_type": "stream",
     "text": [
      "c:\\users\\max6296\\ml\\lib\\site-packages\\ipykernel_launcher.py:12: TqdmDeprecationWarning: This function will be removed in tqdm==5.0.0\n",
      "Please use `tqdm.notebook.tqdm` instead of `tqdm.tqdm_notebook`\n",
      "  if sys.path[0] == '':\n"
     ]
    },
    {
     "data": {
      "application/vnd.jupyter.widget-view+json": {
       "model_id": "6e243a2a471b41b2bc4082ef7f4dcaaa",
       "version_major": 2,
       "version_minor": 0
      },
      "text/plain": [
       "0it [00:00, ?it/s]"
      ]
     },
     "metadata": {},
     "output_type": "display_data"
    },
    {
     "name": "stdout",
     "output_type": "stream",
     "text": [
      "(158894, 18)\n"
     ]
    },
    {
     "data": {
      "text/html": [
       "<div>\n",
       "<style scoped>\n",
       "    .dataframe tbody tr th:only-of-type {\n",
       "        vertical-align: middle;\n",
       "    }\n",
       "\n",
       "    .dataframe tbody tr th {\n",
       "        vertical-align: top;\n",
       "    }\n",
       "\n",
       "    .dataframe thead th {\n",
       "        text-align: right;\n",
       "    }\n",
       "</style>\n",
       "<table border=\"1\" class=\"dataframe\">\n",
       "  <thead>\n",
       "    <tr style=\"text-align: right;\">\n",
       "      <th></th>\n",
       "      <th>지번주소</th>\n",
       "      <th>도로명</th>\n",
       "      <th>시군구</th>\n",
       "      <th>본번</th>\n",
       "      <th>부번</th>\n",
       "      <th>건물(단지)명</th>\n",
       "      <th>전용면적(㎡)</th>\n",
       "      <th>거래금액(만원)</th>\n",
       "      <th>층</th>\n",
       "      <th>건축년도</th>\n",
       "      <th>거래유형</th>\n",
       "      <th>중개사소재지</th>\n",
       "      <th>거래구분</th>\n",
       "      <th>계약날짜기준_건물연식</th>\n",
       "      <th>계약날짜</th>\n",
       "      <th>단가(만원/㎡)</th>\n",
       "      <th>건물연식</th>\n",
       "      <th>부동산유형</th>\n",
       "    </tr>\n",
       "  </thead>\n",
       "  <tbody>\n",
       "    <tr>\n",
       "      <th>0</th>\n",
       "      <td>인천광역시 강화군 강화읍 갑곳리 165-1</td>\n",
       "      <td>갑룡길 35</td>\n",
       "      <td>인천광역시 강화군 강화읍 갑곳리</td>\n",
       "      <td>165</td>\n",
       "      <td>1</td>\n",
       "      <td>그랑드빌</td>\n",
       "      <td>84.89</td>\n",
       "      <td>15000</td>\n",
       "      <td>6</td>\n",
       "      <td>2001</td>\n",
       "      <td>-</td>\n",
       "      <td>-</td>\n",
       "      <td>매매</td>\n",
       "      <td>17</td>\n",
       "      <td>2018-03-06</td>\n",
       "      <td>176.699258</td>\n",
       "      <td>21</td>\n",
       "      <td>아파트</td>\n",
       "    </tr>\n",
       "    <tr>\n",
       "      <th>1</th>\n",
       "      <td>인천광역시 강화군 강화읍 갑곳리 165-1</td>\n",
       "      <td>갑룡길 35</td>\n",
       "      <td>인천광역시 강화군 강화읍 갑곳리</td>\n",
       "      <td>165</td>\n",
       "      <td>1</td>\n",
       "      <td>그랑드빌</td>\n",
       "      <td>114.86</td>\n",
       "      <td>20500</td>\n",
       "      <td>7</td>\n",
       "      <td>2001</td>\n",
       "      <td>-</td>\n",
       "      <td>-</td>\n",
       "      <td>매매</td>\n",
       "      <td>17</td>\n",
       "      <td>2018-04-12</td>\n",
       "      <td>178.478147</td>\n",
       "      <td>21</td>\n",
       "      <td>아파트</td>\n",
       "    </tr>\n",
       "    <tr>\n",
       "      <th>2</th>\n",
       "      <td>인천광역시 강화군 강화읍 갑곳리 165-1</td>\n",
       "      <td>갑룡길 35</td>\n",
       "      <td>인천광역시 강화군 강화읍 갑곳리</td>\n",
       "      <td>165</td>\n",
       "      <td>1</td>\n",
       "      <td>그랑드빌</td>\n",
       "      <td>84.89</td>\n",
       "      <td>17000</td>\n",
       "      <td>9</td>\n",
       "      <td>2001</td>\n",
       "      <td>-</td>\n",
       "      <td>-</td>\n",
       "      <td>매매</td>\n",
       "      <td>17</td>\n",
       "      <td>2018-09-13</td>\n",
       "      <td>200.259159</td>\n",
       "      <td>21</td>\n",
       "      <td>아파트</td>\n",
       "    </tr>\n",
       "    <tr>\n",
       "      <th>3</th>\n",
       "      <td>인천광역시 강화군 강화읍 갑곳리 165-1</td>\n",
       "      <td>갑룡길 35</td>\n",
       "      <td>인천광역시 강화군 강화읍 갑곳리</td>\n",
       "      <td>165</td>\n",
       "      <td>1</td>\n",
       "      <td>그랑드빌</td>\n",
       "      <td>84.89</td>\n",
       "      <td>18500</td>\n",
       "      <td>9</td>\n",
       "      <td>2001</td>\n",
       "      <td>-</td>\n",
       "      <td>-</td>\n",
       "      <td>매매</td>\n",
       "      <td>17</td>\n",
       "      <td>2018-11-06</td>\n",
       "      <td>217.929085</td>\n",
       "      <td>21</td>\n",
       "      <td>아파트</td>\n",
       "    </tr>\n",
       "    <tr>\n",
       "      <th>4</th>\n",
       "      <td>인천광역시 강화군 강화읍 갑곳리 165-1</td>\n",
       "      <td>갑룡길 35</td>\n",
       "      <td>인천광역시 강화군 강화읍 갑곳리</td>\n",
       "      <td>165</td>\n",
       "      <td>1</td>\n",
       "      <td>그랑드빌</td>\n",
       "      <td>84.89</td>\n",
       "      <td>18500</td>\n",
       "      <td>9</td>\n",
       "      <td>2001</td>\n",
       "      <td>-</td>\n",
       "      <td>-</td>\n",
       "      <td>매매</td>\n",
       "      <td>17</td>\n",
       "      <td>2018-12-05</td>\n",
       "      <td>217.929085</td>\n",
       "      <td>21</td>\n",
       "      <td>아파트</td>\n",
       "    </tr>\n",
       "  </tbody>\n",
       "</table>\n",
       "</div>"
      ],
      "text/plain": [
       "                      지번주소     도로명                시군구   본번  부번 건물(단지)명  \\\n",
       "0  인천광역시 강화군 강화읍 갑곳리 165-1  갑룡길 35  인천광역시 강화군 강화읍 갑곳리  165   1    그랑드빌   \n",
       "1  인천광역시 강화군 강화읍 갑곳리 165-1  갑룡길 35  인천광역시 강화군 강화읍 갑곳리  165   1    그랑드빌   \n",
       "2  인천광역시 강화군 강화읍 갑곳리 165-1  갑룡길 35  인천광역시 강화군 강화읍 갑곳리  165   1    그랑드빌   \n",
       "3  인천광역시 강화군 강화읍 갑곳리 165-1  갑룡길 35  인천광역시 강화군 강화읍 갑곳리  165   1    그랑드빌   \n",
       "4  인천광역시 강화군 강화읍 갑곳리 165-1  갑룡길 35  인천광역시 강화군 강화읍 갑곳리  165   1    그랑드빌   \n",
       "\n",
       "   전용면적(㎡)  거래금액(만원)  층  건축년도 거래유형 중개사소재지 거래구분  계약날짜기준_건물연식       계약날짜  \\\n",
       "0    84.89     15000  6  2001    -      -   매매           17 2018-03-06   \n",
       "1   114.86     20500  7  2001    -      -   매매           17 2018-04-12   \n",
       "2    84.89     17000  9  2001    -      -   매매           17 2018-09-13   \n",
       "3    84.89     18500  9  2001    -      -   매매           17 2018-11-06   \n",
       "4    84.89     18500  9  2001    -      -   매매           17 2018-12-05   \n",
       "\n",
       "     단가(만원/㎡)  건물연식 부동산유형  \n",
       "0  176.699258    21   아파트  \n",
       "1  178.478147    21   아파트  \n",
       "2  200.259159    21   아파트  \n",
       "3  217.929085    21   아파트  \n",
       "4  217.929085    21   아파트  "
      ]
     },
     "execution_count": 7,
     "metadata": {},
     "output_type": "execute_result"
    }
   ],
   "source": [
    "apart_df = data_prep('아파트', '매매')\n",
    "apart_df['부동산유형'] = '아파트'\n",
    "print(apart_df.shape)\n",
    "apart_df.head()"
   ]
  },
  {
   "cell_type": "code",
   "execution_count": 8,
   "metadata": {},
   "outputs": [
    {
     "name": "stderr",
     "output_type": "stream",
     "text": [
      "c:\\users\\max6296\\ml\\lib\\site-packages\\ipykernel_launcher.py:12: TqdmDeprecationWarning: This function will be removed in tqdm==5.0.0\n",
      "Please use `tqdm.notebook.tqdm` instead of `tqdm.tqdm_notebook`\n",
      "  if sys.path[0] == '':\n"
     ]
    },
    {
     "data": {
      "application/vnd.jupyter.widget-view+json": {
       "model_id": "639841c7a7294ac39aa3faf2967f29b4",
       "version_major": 2,
       "version_minor": 0
      },
      "text/plain": [
       "0it [00:00, ?it/s]"
      ]
     },
     "metadata": {},
     "output_type": "display_data"
    },
    {
     "name": "stdout",
     "output_type": "stream",
     "text": [
      "(92683, 18)\n"
     ]
    },
    {
     "data": {
      "text/html": [
       "<div>\n",
       "<style scoped>\n",
       "    .dataframe tbody tr th:only-of-type {\n",
       "        vertical-align: middle;\n",
       "    }\n",
       "\n",
       "    .dataframe tbody tr th {\n",
       "        vertical-align: top;\n",
       "    }\n",
       "\n",
       "    .dataframe thead th {\n",
       "        text-align: right;\n",
       "    }\n",
       "</style>\n",
       "<table border=\"1\" class=\"dataframe\">\n",
       "  <thead>\n",
       "    <tr style=\"text-align: right;\">\n",
       "      <th></th>\n",
       "      <th>지번주소</th>\n",
       "      <th>도로명</th>\n",
       "      <th>시군구</th>\n",
       "      <th>본번</th>\n",
       "      <th>부번</th>\n",
       "      <th>건물(단지)명</th>\n",
       "      <th>전용면적(㎡)</th>\n",
       "      <th>거래금액(만원)</th>\n",
       "      <th>층</th>\n",
       "      <th>건축년도</th>\n",
       "      <th>거래유형</th>\n",
       "      <th>중개사소재지</th>\n",
       "      <th>거래구분</th>\n",
       "      <th>계약날짜기준_건물연식</th>\n",
       "      <th>계약날짜</th>\n",
       "      <th>단가(만원/㎡)</th>\n",
       "      <th>건물연식</th>\n",
       "      <th>부동산유형</th>\n",
       "    </tr>\n",
       "  </thead>\n",
       "  <tbody>\n",
       "    <tr>\n",
       "      <th>0</th>\n",
       "      <td>인천광역시 강화군 강화읍 갑곳리 37-1</td>\n",
       "      <td>갑룡길 105-23</td>\n",
       "      <td>인천광역시 강화군 강화읍 갑곳리</td>\n",
       "      <td>37</td>\n",
       "      <td>1</td>\n",
       "      <td>갑룡라이너스A동</td>\n",
       "      <td>58.410</td>\n",
       "      <td>12000</td>\n",
       "      <td>2</td>\n",
       "      <td>2014.0</td>\n",
       "      <td>-</td>\n",
       "      <td>-</td>\n",
       "      <td>매매</td>\n",
       "      <td>4.0</td>\n",
       "      <td>2018-01-18</td>\n",
       "      <td>205.444273</td>\n",
       "      <td>8.0</td>\n",
       "      <td>연립다세대</td>\n",
       "    </tr>\n",
       "    <tr>\n",
       "      <th>1</th>\n",
       "      <td>인천광역시 강화군 강화읍 갑곳리 37-11</td>\n",
       "      <td>갑룡길 105-25</td>\n",
       "      <td>인천광역시 강화군 강화읍 갑곳리</td>\n",
       "      <td>37</td>\n",
       "      <td>11</td>\n",
       "      <td>갑룡라이너스B동C동</td>\n",
       "      <td>58.410</td>\n",
       "      <td>11000</td>\n",
       "      <td>1</td>\n",
       "      <td>2014.0</td>\n",
       "      <td>-</td>\n",
       "      <td>-</td>\n",
       "      <td>매매</td>\n",
       "      <td>4.0</td>\n",
       "      <td>2018-01-19</td>\n",
       "      <td>188.323917</td>\n",
       "      <td>8.0</td>\n",
       "      <td>연립다세대</td>\n",
       "    </tr>\n",
       "    <tr>\n",
       "      <th>2</th>\n",
       "      <td>인천광역시 강화군 강화읍 갑곳리 37-11</td>\n",
       "      <td>갑룡길 105-25</td>\n",
       "      <td>인천광역시 강화군 강화읍 갑곳리</td>\n",
       "      <td>37</td>\n",
       "      <td>11</td>\n",
       "      <td>갑룡라이너스B동C동</td>\n",
       "      <td>58.410</td>\n",
       "      <td>10500</td>\n",
       "      <td>1</td>\n",
       "      <td>2014.0</td>\n",
       "      <td>-</td>\n",
       "      <td>-</td>\n",
       "      <td>매매</td>\n",
       "      <td>4.0</td>\n",
       "      <td>2018-07-07</td>\n",
       "      <td>179.763739</td>\n",
       "      <td>8.0</td>\n",
       "      <td>연립다세대</td>\n",
       "    </tr>\n",
       "    <tr>\n",
       "      <th>3</th>\n",
       "      <td>인천광역시 강화군 강화읍 갑곳리 345-0</td>\n",
       "      <td>강화대로312번길 20-3</td>\n",
       "      <td>인천광역시 강화군 강화읍 갑곳리</td>\n",
       "      <td>345</td>\n",
       "      <td>0</td>\n",
       "      <td>강화</td>\n",
       "      <td>61.740</td>\n",
       "      <td>4600</td>\n",
       "      <td>3</td>\n",
       "      <td>1985.0</td>\n",
       "      <td>-</td>\n",
       "      <td>-</td>\n",
       "      <td>매매</td>\n",
       "      <td>33.0</td>\n",
       "      <td>2018-06-09</td>\n",
       "      <td>74.505993</td>\n",
       "      <td>37.0</td>\n",
       "      <td>연립다세대</td>\n",
       "    </tr>\n",
       "    <tr>\n",
       "      <th>4</th>\n",
       "      <td>인천광역시 강화군 강화읍 갑곳리 152-3</td>\n",
       "      <td>갑룡길5번길 11-1</td>\n",
       "      <td>인천광역시 강화군 강화읍 갑곳리</td>\n",
       "      <td>152</td>\n",
       "      <td>3</td>\n",
       "      <td>강화그린빌라(1동)</td>\n",
       "      <td>49.015</td>\n",
       "      <td>6500</td>\n",
       "      <td>1</td>\n",
       "      <td>2002.0</td>\n",
       "      <td>-</td>\n",
       "      <td>-</td>\n",
       "      <td>매매</td>\n",
       "      <td>16.0</td>\n",
       "      <td>2018-06-14</td>\n",
       "      <td>132.612466</td>\n",
       "      <td>20.0</td>\n",
       "      <td>연립다세대</td>\n",
       "    </tr>\n",
       "  </tbody>\n",
       "</table>\n",
       "</div>"
      ],
      "text/plain": [
       "                      지번주소             도로명                시군구   본번  부번  \\\n",
       "0   인천광역시 강화군 강화읍 갑곳리 37-1      갑룡길 105-23  인천광역시 강화군 강화읍 갑곳리   37   1   \n",
       "1  인천광역시 강화군 강화읍 갑곳리 37-11      갑룡길 105-25  인천광역시 강화군 강화읍 갑곳리   37  11   \n",
       "2  인천광역시 강화군 강화읍 갑곳리 37-11      갑룡길 105-25  인천광역시 강화군 강화읍 갑곳리   37  11   \n",
       "3  인천광역시 강화군 강화읍 갑곳리 345-0  강화대로312번길 20-3  인천광역시 강화군 강화읍 갑곳리  345   0   \n",
       "4  인천광역시 강화군 강화읍 갑곳리 152-3     갑룡길5번길 11-1  인천광역시 강화군 강화읍 갑곳리  152   3   \n",
       "\n",
       "      건물(단지)명  전용면적(㎡)  거래금액(만원)  층    건축년도 거래유형 중개사소재지 거래구분  계약날짜기준_건물연식  \\\n",
       "0    갑룡라이너스A동   58.410     12000  2  2014.0    -      -   매매          4.0   \n",
       "1  갑룡라이너스B동C동   58.410     11000  1  2014.0    -      -   매매          4.0   \n",
       "2  갑룡라이너스B동C동   58.410     10500  1  2014.0    -      -   매매          4.0   \n",
       "3          강화   61.740      4600  3  1985.0    -      -   매매         33.0   \n",
       "4  강화그린빌라(1동)   49.015      6500  1  2002.0    -      -   매매         16.0   \n",
       "\n",
       "        계약날짜    단가(만원/㎡)  건물연식  부동산유형  \n",
       "0 2018-01-18  205.444273   8.0  연립다세대  \n",
       "1 2018-01-19  188.323917   8.0  연립다세대  \n",
       "2 2018-07-07  179.763739   8.0  연립다세대  \n",
       "3 2018-06-09   74.505993  37.0  연립다세대  \n",
       "4 2018-06-14  132.612466  20.0  연립다세대  "
      ]
     },
     "execution_count": 8,
     "metadata": {},
     "output_type": "execute_result"
    }
   ],
   "source": [
    "yunrip_df = data_prep('연립다세대', '매매')\n",
    "yunrip_df['부동산유형'] = '연립다세대'\n",
    "print(yunrip_df.shape)\n",
    "yunrip_df.head()"
   ]
  },
  {
   "cell_type": "code",
   "execution_count": 9,
   "metadata": {},
   "outputs": [
    {
     "name": "stderr",
     "output_type": "stream",
     "text": [
      "c:\\users\\max6296\\ml\\lib\\site-packages\\ipykernel_launcher.py:12: TqdmDeprecationWarning: This function will be removed in tqdm==5.0.0\n",
      "Please use `tqdm.notebook.tqdm` instead of `tqdm.tqdm_notebook`\n",
      "  if sys.path[0] == '':\n"
     ]
    },
    {
     "data": {
      "application/vnd.jupyter.widget-view+json": {
       "model_id": "4500bfb798f54d8e8c38d623e96655ff",
       "version_major": 2,
       "version_minor": 0
      },
      "text/plain": [
       "0it [00:00, ?it/s]"
      ]
     },
     "metadata": {},
     "output_type": "display_data"
    },
    {
     "name": "stdout",
     "output_type": "stream",
     "text": [
      "(22249, 18)\n"
     ]
    },
    {
     "data": {
      "text/html": [
       "<div>\n",
       "<style scoped>\n",
       "    .dataframe tbody tr th:only-of-type {\n",
       "        vertical-align: middle;\n",
       "    }\n",
       "\n",
       "    .dataframe tbody tr th {\n",
       "        vertical-align: top;\n",
       "    }\n",
       "\n",
       "    .dataframe thead th {\n",
       "        text-align: right;\n",
       "    }\n",
       "</style>\n",
       "<table border=\"1\" class=\"dataframe\">\n",
       "  <thead>\n",
       "    <tr style=\"text-align: right;\">\n",
       "      <th></th>\n",
       "      <th>지번주소</th>\n",
       "      <th>도로명</th>\n",
       "      <th>시군구</th>\n",
       "      <th>본번</th>\n",
       "      <th>부번</th>\n",
       "      <th>건물(단지)명</th>\n",
       "      <th>전용면적(㎡)</th>\n",
       "      <th>거래금액(만원)</th>\n",
       "      <th>층</th>\n",
       "      <th>건축년도</th>\n",
       "      <th>거래유형</th>\n",
       "      <th>중개사소재지</th>\n",
       "      <th>거래구분</th>\n",
       "      <th>계약날짜기준_건물연식</th>\n",
       "      <th>계약날짜</th>\n",
       "      <th>단가(만원/㎡)</th>\n",
       "      <th>건물연식</th>\n",
       "      <th>부동산유형</th>\n",
       "    </tr>\n",
       "  </thead>\n",
       "  <tbody>\n",
       "    <tr>\n",
       "      <th>0</th>\n",
       "      <td>인천광역시 강화군 강화읍 남산리 191-2</td>\n",
       "      <td>충렬사로22번길 16</td>\n",
       "      <td>인천광역시 강화군 강화읍 남산리</td>\n",
       "      <td>191</td>\n",
       "      <td>2</td>\n",
       "      <td>고려팰리스6차</td>\n",
       "      <td>84.97</td>\n",
       "      <td>16000</td>\n",
       "      <td>4</td>\n",
       "      <td>2018.0</td>\n",
       "      <td>-</td>\n",
       "      <td>-</td>\n",
       "      <td>매매</td>\n",
       "      <td>0.0</td>\n",
       "      <td>2018-09-05</td>\n",
       "      <td>188.301754</td>\n",
       "      <td>4.0</td>\n",
       "      <td>오피스텔</td>\n",
       "    </tr>\n",
       "    <tr>\n",
       "      <th>1</th>\n",
       "      <td>인천광역시 강화군 강화읍 남산리 191-2</td>\n",
       "      <td>충렬사로22번길 16</td>\n",
       "      <td>인천광역시 강화군 강화읍 남산리</td>\n",
       "      <td>191</td>\n",
       "      <td>2</td>\n",
       "      <td>고려팰리스6차</td>\n",
       "      <td>84.97</td>\n",
       "      <td>16000</td>\n",
       "      <td>3</td>\n",
       "      <td>2018.0</td>\n",
       "      <td>-</td>\n",
       "      <td>-</td>\n",
       "      <td>매매</td>\n",
       "      <td>0.0</td>\n",
       "      <td>2018-09-10</td>\n",
       "      <td>188.301754</td>\n",
       "      <td>4.0</td>\n",
       "      <td>오피스텔</td>\n",
       "    </tr>\n",
       "    <tr>\n",
       "      <th>2</th>\n",
       "      <td>인천광역시 강화군 강화읍 남산리 191-2</td>\n",
       "      <td>충렬사로22번길 16</td>\n",
       "      <td>인천광역시 강화군 강화읍 남산리</td>\n",
       "      <td>191</td>\n",
       "      <td>2</td>\n",
       "      <td>고려팰리스6차</td>\n",
       "      <td>84.97</td>\n",
       "      <td>16000</td>\n",
       "      <td>7</td>\n",
       "      <td>2018.0</td>\n",
       "      <td>-</td>\n",
       "      <td>-</td>\n",
       "      <td>매매</td>\n",
       "      <td>0.0</td>\n",
       "      <td>2018-09-13</td>\n",
       "      <td>188.301754</td>\n",
       "      <td>4.0</td>\n",
       "      <td>오피스텔</td>\n",
       "    </tr>\n",
       "    <tr>\n",
       "      <th>3</th>\n",
       "      <td>인천광역시 강화군 강화읍 남산리 191-2</td>\n",
       "      <td>충렬사로22번길 16</td>\n",
       "      <td>인천광역시 강화군 강화읍 남산리</td>\n",
       "      <td>191</td>\n",
       "      <td>2</td>\n",
       "      <td>고려팰리스6차</td>\n",
       "      <td>84.41</td>\n",
       "      <td>16000</td>\n",
       "      <td>3</td>\n",
       "      <td>2018.0</td>\n",
       "      <td>-</td>\n",
       "      <td>-</td>\n",
       "      <td>매매</td>\n",
       "      <td>0.0</td>\n",
       "      <td>2018-09-13</td>\n",
       "      <td>189.551001</td>\n",
       "      <td>4.0</td>\n",
       "      <td>오피스텔</td>\n",
       "    </tr>\n",
       "    <tr>\n",
       "      <th>4</th>\n",
       "      <td>인천광역시 강화군 강화읍 남산리 191-2</td>\n",
       "      <td>충렬사로22번길 16</td>\n",
       "      <td>인천광역시 강화군 강화읍 남산리</td>\n",
       "      <td>191</td>\n",
       "      <td>2</td>\n",
       "      <td>고려팰리스6차</td>\n",
       "      <td>84.41</td>\n",
       "      <td>16000</td>\n",
       "      <td>5</td>\n",
       "      <td>2018.0</td>\n",
       "      <td>-</td>\n",
       "      <td>-</td>\n",
       "      <td>매매</td>\n",
       "      <td>0.0</td>\n",
       "      <td>2018-09-13</td>\n",
       "      <td>189.551001</td>\n",
       "      <td>4.0</td>\n",
       "      <td>오피스텔</td>\n",
       "    </tr>\n",
       "  </tbody>\n",
       "</table>\n",
       "</div>"
      ],
      "text/plain": [
       "                      지번주소          도로명                시군구   본번  부번  건물(단지)명  \\\n",
       "0  인천광역시 강화군 강화읍 남산리 191-2  충렬사로22번길 16  인천광역시 강화군 강화읍 남산리  191   2  고려팰리스6차   \n",
       "1  인천광역시 강화군 강화읍 남산리 191-2  충렬사로22번길 16  인천광역시 강화군 강화읍 남산리  191   2  고려팰리스6차   \n",
       "2  인천광역시 강화군 강화읍 남산리 191-2  충렬사로22번길 16  인천광역시 강화군 강화읍 남산리  191   2  고려팰리스6차   \n",
       "3  인천광역시 강화군 강화읍 남산리 191-2  충렬사로22번길 16  인천광역시 강화군 강화읍 남산리  191   2  고려팰리스6차   \n",
       "4  인천광역시 강화군 강화읍 남산리 191-2  충렬사로22번길 16  인천광역시 강화군 강화읍 남산리  191   2  고려팰리스6차   \n",
       "\n",
       "   전용면적(㎡)  거래금액(만원)  층    건축년도 거래유형 중개사소재지 거래구분  계약날짜기준_건물연식       계약날짜  \\\n",
       "0    84.97     16000  4  2018.0    -      -   매매          0.0 2018-09-05   \n",
       "1    84.97     16000  3  2018.0    -      -   매매          0.0 2018-09-10   \n",
       "2    84.97     16000  7  2018.0    -      -   매매          0.0 2018-09-13   \n",
       "3    84.41     16000  3  2018.0    -      -   매매          0.0 2018-09-13   \n",
       "4    84.41     16000  5  2018.0    -      -   매매          0.0 2018-09-13   \n",
       "\n",
       "     단가(만원/㎡)  건물연식 부동산유형  \n",
       "0  188.301754   4.0  오피스텔  \n",
       "1  188.301754   4.0  오피스텔  \n",
       "2  188.301754   4.0  오피스텔  \n",
       "3  189.551001   4.0  오피스텔  \n",
       "4  189.551001   4.0  오피스텔  "
      ]
     },
     "execution_count": 9,
     "metadata": {},
     "output_type": "execute_result"
    }
   ],
   "source": [
    "officetel_df = data_prep('오피스텔', '매매')\n",
    "officetel_df['부동산유형'] = '오피스텔'\n",
    "print(officetel_df.shape)\n",
    "officetel_df.head()"
   ]
  },
  {
   "cell_type": "code",
   "execution_count": 10,
   "metadata": {},
   "outputs": [
    {
     "name": "stdout",
     "output_type": "stream",
     "text": [
      "(273826, 14)\n"
     ]
    },
    {
     "data": {
      "text/html": [
       "<div>\n",
       "<style scoped>\n",
       "    .dataframe tbody tr th:only-of-type {\n",
       "        vertical-align: middle;\n",
       "    }\n",
       "\n",
       "    .dataframe tbody tr th {\n",
       "        vertical-align: top;\n",
       "    }\n",
       "\n",
       "    .dataframe thead th {\n",
       "        text-align: right;\n",
       "    }\n",
       "</style>\n",
       "<table border=\"1\" class=\"dataframe\">\n",
       "  <thead>\n",
       "    <tr style=\"text-align: right;\">\n",
       "      <th></th>\n",
       "      <th>지번주소</th>\n",
       "      <th>도로명</th>\n",
       "      <th>시군구</th>\n",
       "      <th>본번</th>\n",
       "      <th>부번</th>\n",
       "      <th>건물(단지)명</th>\n",
       "      <th>전용면적(㎡)</th>\n",
       "      <th>거래금액(만원)</th>\n",
       "      <th>층</th>\n",
       "      <th>건축년도</th>\n",
       "      <th>계약날짜</th>\n",
       "      <th>단가(만원/㎡)</th>\n",
       "      <th>건물연식</th>\n",
       "      <th>부동산유형</th>\n",
       "    </tr>\n",
       "  </thead>\n",
       "  <tbody>\n",
       "    <tr>\n",
       "      <th>0</th>\n",
       "      <td>인천광역시 강화군 강화읍 갑곳리 15-0</td>\n",
       "      <td>갑룡길 105-13</td>\n",
       "      <td>인천광역시 강화군 강화읍 갑곳리</td>\n",
       "      <td>15</td>\n",
       "      <td>0</td>\n",
       "      <td>정흔하이빌</td>\n",
       "      <td>75.105</td>\n",
       "      <td>15500</td>\n",
       "      <td>2</td>\n",
       "      <td>2014.0</td>\n",
       "      <td>2018-06-21</td>\n",
       "      <td>206.377738</td>\n",
       "      <td>8.0</td>\n",
       "      <td>연립다세대</td>\n",
       "    </tr>\n",
       "    <tr>\n",
       "      <th>1</th>\n",
       "      <td>인천광역시 강화군 강화읍 갑곳리 15-0</td>\n",
       "      <td>갑룡길 105-13</td>\n",
       "      <td>인천광역시 강화군 강화읍 갑곳리</td>\n",
       "      <td>15</td>\n",
       "      <td>0</td>\n",
       "      <td>정흔하이빌</td>\n",
       "      <td>75.105</td>\n",
       "      <td>15000</td>\n",
       "      <td>2</td>\n",
       "      <td>2014.0</td>\n",
       "      <td>2021-09-24</td>\n",
       "      <td>199.720391</td>\n",
       "      <td>8.0</td>\n",
       "      <td>연립다세대</td>\n",
       "    </tr>\n",
       "    <tr>\n",
       "      <th>2</th>\n",
       "      <td>인천광역시 강화군 강화읍 갑곳리 26-1</td>\n",
       "      <td>갑룡길 95</td>\n",
       "      <td>인천광역시 강화군 강화읍 갑곳리</td>\n",
       "      <td>26</td>\n",
       "      <td>1</td>\n",
       "      <td>승화래미향(1,2)동</td>\n",
       "      <td>64.350</td>\n",
       "      <td>11400</td>\n",
       "      <td>3</td>\n",
       "      <td>2009.0</td>\n",
       "      <td>2019-01-05</td>\n",
       "      <td>177.156177</td>\n",
       "      <td>13.0</td>\n",
       "      <td>연립다세대</td>\n",
       "    </tr>\n",
       "    <tr>\n",
       "      <th>3</th>\n",
       "      <td>인천광역시 강화군 강화읍 갑곳리 26-1</td>\n",
       "      <td>갑룡길 95</td>\n",
       "      <td>인천광역시 강화군 강화읍 갑곳리</td>\n",
       "      <td>26</td>\n",
       "      <td>1</td>\n",
       "      <td>승화래미향(1,2)동</td>\n",
       "      <td>64.350</td>\n",
       "      <td>11100</td>\n",
       "      <td>1</td>\n",
       "      <td>2009.0</td>\n",
       "      <td>2021-05-13</td>\n",
       "      <td>172.494172</td>\n",
       "      <td>13.0</td>\n",
       "      <td>연립다세대</td>\n",
       "    </tr>\n",
       "    <tr>\n",
       "      <th>4</th>\n",
       "      <td>인천광역시 강화군 강화읍 갑곳리 26-1</td>\n",
       "      <td>갑룡길 95</td>\n",
       "      <td>인천광역시 강화군 강화읍 갑곳리</td>\n",
       "      <td>26</td>\n",
       "      <td>1</td>\n",
       "      <td>승화래미향(1,2)동</td>\n",
       "      <td>64.350</td>\n",
       "      <td>11500</td>\n",
       "      <td>3</td>\n",
       "      <td>2009.0</td>\n",
       "      <td>2021-11-16</td>\n",
       "      <td>178.710179</td>\n",
       "      <td>13.0</td>\n",
       "      <td>연립다세대</td>\n",
       "    </tr>\n",
       "  </tbody>\n",
       "</table>\n",
       "</div>"
      ],
      "text/plain": [
       "                     지번주소         도로명                시군구  본번  부번      건물(단지)명  \\\n",
       "0  인천광역시 강화군 강화읍 갑곳리 15-0  갑룡길 105-13  인천광역시 강화군 강화읍 갑곳리  15   0        정흔하이빌   \n",
       "1  인천광역시 강화군 강화읍 갑곳리 15-0  갑룡길 105-13  인천광역시 강화군 강화읍 갑곳리  15   0        정흔하이빌   \n",
       "2  인천광역시 강화군 강화읍 갑곳리 26-1      갑룡길 95  인천광역시 강화군 강화읍 갑곳리  26   1  승화래미향(1,2)동   \n",
       "3  인천광역시 강화군 강화읍 갑곳리 26-1      갑룡길 95  인천광역시 강화군 강화읍 갑곳리  26   1  승화래미향(1,2)동   \n",
       "4  인천광역시 강화군 강화읍 갑곳리 26-1      갑룡길 95  인천광역시 강화군 강화읍 갑곳리  26   1  승화래미향(1,2)동   \n",
       "\n",
       "   전용면적(㎡)  거래금액(만원)  층    건축년도       계약날짜    단가(만원/㎡)  건물연식  부동산유형  \n",
       "0   75.105     15500  2  2014.0 2018-06-21  206.377738   8.0  연립다세대  \n",
       "1   75.105     15000  2  2014.0 2021-09-24  199.720391   8.0  연립다세대  \n",
       "2   64.350     11400  3  2009.0 2019-01-05  177.156177  13.0  연립다세대  \n",
       "3   64.350     11100  1  2009.0 2021-05-13  172.494172  13.0  연립다세대  \n",
       "4   64.350     11500  3  2009.0 2021-11-16  178.710179  13.0  연립다세대  "
      ]
     },
     "execution_count": 10,
     "metadata": {},
     "output_type": "execute_result"
    }
   ],
   "source": [
    "house_df = pd.concat([apart_df, yunrip_df, officetel_df]).sort_values(['시군구', '본번', '부번', '건축년도', '전용면적(㎡)', '계약날짜']).reset_index(drop=True)\n",
    "house_df = house_df.drop(columns=['거래유형', '중개사소재지', '거래구분', '계약날짜기준_건물연식'])\n",
    "del apart_df, yunrip_df, officetel_df\n",
    "print(house_df.shape)\n",
    "house_df.head()"
   ]
  },
  {
   "cell_type": "code",
   "execution_count": 11,
   "metadata": {},
   "outputs": [
    {
     "data": {
      "text/plain": [
       "\"land_specs_df = pd.read_csv('./prepped_data/land_specs_ver_4.csv')\\nprint(land_specs_df.shape)\\nland_specs_df.head()\""
      ]
     },
     "execution_count": 11,
     "metadata": {},
     "output_type": "execute_result"
    }
   ],
   "source": [
    "'''land_specs_df = pd.read_csv('./prepped_data/land_specs_ver_4.csv')\n",
    "print(land_specs_df.shape)\n",
    "land_specs_df.head()'''"
   ]
  },
  {
   "cell_type": "code",
   "execution_count": 12,
   "metadata": {},
   "outputs": [
    {
     "data": {
      "text/plain": [
       "\"last_df = land_specs_df.drop_duplicates(subset=['지번주소'], keep='last').drop(columns=['년', '공시지가']).reset_index(drop=True)\\nprint(last_df.shape)\\nlast_df.head()\""
      ]
     },
     "execution_count": 12,
     "metadata": {},
     "output_type": "execute_result"
    }
   ],
   "source": [
    "'''last_df = land_specs_df.drop_duplicates(subset=['지번주소'], keep='last').drop(columns=['년', '공시지가']).reset_index(drop=True)\n",
    "print(last_df.shape)\n",
    "last_df.head()'''"
   ]
  },
  {
   "cell_type": "code",
   "execution_count": 13,
   "metadata": {},
   "outputs": [
    {
     "data": {
      "text/plain": [
       "\"house_merge_df = house_df.merge(last_df, on=['지번주소']).reset_index(drop=True)\\nprint(house_merge_df.shape)\""
      ]
     },
     "execution_count": 13,
     "metadata": {},
     "output_type": "execute_result"
    }
   ],
   "source": [
    "'''house_merge_df = house_df.merge(last_df, on=['지번주소']).reset_index(drop=True)\n",
    "print(house_merge_df.shape)'''"
   ]
  },
  {
   "cell_type": "code",
   "execution_count": 14,
   "metadata": {},
   "outputs": [],
   "source": [
    "house_df['일괄계약'] = 'N'"
   ]
  },
  {
   "cell_type": "code",
   "execution_count": 15,
   "metadata": {},
   "outputs": [],
   "source": [
    "#house_df = house_df.merge(last_df, on=['지번주소']).reset_index(drop=True)"
   ]
  },
  {
   "cell_type": "code",
   "execution_count": 16,
   "metadata": {},
   "outputs": [
    {
     "data": {
      "text/plain": [
       "'print(house_df.shape)\\nhouse_df.head()'"
      ]
     },
     "execution_count": 16,
     "metadata": {},
     "output_type": "execute_result"
    }
   ],
   "source": [
    "'''print(house_df.shape)\n",
    "house_df.head()'''"
   ]
  },
  {
   "cell_type": "code",
   "execution_count": 17,
   "metadata": {},
   "outputs": [],
   "source": [
    "def identify_bulk_contract(df):\n",
    "    df = df.copy()\n",
    "    \n",
    "    for addr in tqdm.tqdm_notebook(df['지번주소'].unique()):\n",
    "        addr_df = df[df['지번주소'] == addr]\n",
    "        \n",
    "        for btyear in addr_df['건축년도'].unique():\n",
    "            btyear_df = addr_df[addr_df['건축년도'] == btyear]\n",
    "            \n",
    "            if (btyear_df.shape[0] >= 10) & (btyear_df['계약날짜'].nunique() == 1):\n",
    "                df.loc[btyear_df.index, '일괄계약'] = 'Y'\n",
    "\n",
    "    return df"
   ]
  },
  {
   "cell_type": "code",
   "execution_count": 18,
   "metadata": {},
   "outputs": [
    {
     "name": "stderr",
     "output_type": "stream",
     "text": [
      "c:\\users\\max6296\\ml\\lib\\site-packages\\ipykernel_launcher.py:1: FutureWarning: Treating datetime data as categorical rather than numeric in `.describe` is deprecated and will be removed in a future version of pandas. Specify `datetime_is_numeric=True` to silence this warning and adopt the future behavior now.\n",
      "  \"\"\"Entry point for launching an IPython kernel.\n"
     ]
    },
    {
     "data": {
      "text/plain": [
       "count                  273826\n",
       "unique                   1515\n",
       "top       2020-06-16 00:00:00\n",
       "freq                      755\n",
       "first     2018-01-01 00:00:00\n",
       "last      2022-02-23 00:00:00\n",
       "Name: 계약날짜, dtype: object"
      ]
     },
     "execution_count": 18,
     "metadata": {},
     "output_type": "execute_result"
    }
   ],
   "source": [
    "house_df['계약날짜'].describe()"
   ]
  },
  {
   "cell_type": "code",
   "execution_count": 19,
   "metadata": {},
   "outputs": [
    {
     "name": "stderr",
     "output_type": "stream",
     "text": [
      "c:\\users\\max6296\\ml\\lib\\site-packages\\ipykernel_launcher.py:4: TqdmDeprecationWarning: This function will be removed in tqdm==5.0.0\n",
      "Please use `tqdm.notebook.tqdm` instead of `tqdm.tqdm_notebook`\n",
      "  after removing the cwd from sys.path.\n"
     ]
    },
    {
     "data": {
      "application/vnd.jupyter.widget-view+json": {
       "model_id": "c9a5f12245b74ccc82a5c6111bdb5542",
       "version_major": 2,
       "version_minor": 0
      },
      "text/plain": [
       "  0%|          | 0/23753 [00:00<?, ?it/s]"
      ]
     },
     "metadata": {},
     "output_type": "display_data"
    }
   ],
   "source": [
    "house_df = identify_bulk_contract(house_df)"
   ]
  },
  {
   "cell_type": "code",
   "execution_count": 20,
   "metadata": {},
   "outputs": [
    {
     "name": "stdout",
     "output_type": "stream",
     "text": [
      "(4686, 15)\n"
     ]
    },
    {
     "data": {
      "text/html": [
       "<div>\n",
       "<style scoped>\n",
       "    .dataframe tbody tr th:only-of-type {\n",
       "        vertical-align: middle;\n",
       "    }\n",
       "\n",
       "    .dataframe tbody tr th {\n",
       "        vertical-align: top;\n",
       "    }\n",
       "\n",
       "    .dataframe thead th {\n",
       "        text-align: right;\n",
       "    }\n",
       "</style>\n",
       "<table border=\"1\" class=\"dataframe\">\n",
       "  <thead>\n",
       "    <tr style=\"text-align: right;\">\n",
       "      <th></th>\n",
       "      <th>지번주소</th>\n",
       "      <th>도로명</th>\n",
       "      <th>시군구</th>\n",
       "      <th>본번</th>\n",
       "      <th>부번</th>\n",
       "      <th>건물(단지)명</th>\n",
       "      <th>전용면적(㎡)</th>\n",
       "      <th>거래금액(만원)</th>\n",
       "      <th>층</th>\n",
       "      <th>건축년도</th>\n",
       "      <th>계약날짜</th>\n",
       "      <th>단가(만원/㎡)</th>\n",
       "      <th>건물연식</th>\n",
       "      <th>부동산유형</th>\n",
       "      <th>일괄계약</th>\n",
       "    </tr>\n",
       "  </thead>\n",
       "  <tbody>\n",
       "    <tr>\n",
       "      <th>649</th>\n",
       "      <td>인천광역시 강화군 강화읍 관청리 555-4</td>\n",
       "      <td>북문길9번길 21</td>\n",
       "      <td>인천광역시 강화군 강화읍 관청리</td>\n",
       "      <td>555</td>\n",
       "      <td>4</td>\n",
       "      <td>송학하얀집1동2동</td>\n",
       "      <td>67.94</td>\n",
       "      <td>14140</td>\n",
       "      <td>4</td>\n",
       "      <td>2018.0</td>\n",
       "      <td>2018-12-31</td>\n",
       "      <td>208.124816</td>\n",
       "      <td>4.0</td>\n",
       "      <td>연립다세대</td>\n",
       "      <td>Y</td>\n",
       "    </tr>\n",
       "    <tr>\n",
       "      <th>650</th>\n",
       "      <td>인천광역시 강화군 강화읍 관청리 555-4</td>\n",
       "      <td>북문길9번길 21</td>\n",
       "      <td>인천광역시 강화군 강화읍 관청리</td>\n",
       "      <td>555</td>\n",
       "      <td>4</td>\n",
       "      <td>송학하얀집1동2동</td>\n",
       "      <td>67.94</td>\n",
       "      <td>14140</td>\n",
       "      <td>3</td>\n",
       "      <td>2018.0</td>\n",
       "      <td>2018-12-31</td>\n",
       "      <td>208.124816</td>\n",
       "      <td>4.0</td>\n",
       "      <td>연립다세대</td>\n",
       "      <td>Y</td>\n",
       "    </tr>\n",
       "    <tr>\n",
       "      <th>651</th>\n",
       "      <td>인천광역시 강화군 강화읍 관청리 555-4</td>\n",
       "      <td>북문길9번길 21</td>\n",
       "      <td>인천광역시 강화군 강화읍 관청리</td>\n",
       "      <td>555</td>\n",
       "      <td>4</td>\n",
       "      <td>송학하얀집1동2동</td>\n",
       "      <td>67.94</td>\n",
       "      <td>14140</td>\n",
       "      <td>2</td>\n",
       "      <td>2018.0</td>\n",
       "      <td>2018-12-31</td>\n",
       "      <td>208.124816</td>\n",
       "      <td>4.0</td>\n",
       "      <td>연립다세대</td>\n",
       "      <td>Y</td>\n",
       "    </tr>\n",
       "    <tr>\n",
       "      <th>652</th>\n",
       "      <td>인천광역시 강화군 강화읍 관청리 555-4</td>\n",
       "      <td>북문길9번길 21</td>\n",
       "      <td>인천광역시 강화군 강화읍 관청리</td>\n",
       "      <td>555</td>\n",
       "      <td>4</td>\n",
       "      <td>송학하얀집1동2동</td>\n",
       "      <td>68.59</td>\n",
       "      <td>14275</td>\n",
       "      <td>5</td>\n",
       "      <td>2018.0</td>\n",
       "      <td>2018-12-31</td>\n",
       "      <td>208.120717</td>\n",
       "      <td>4.0</td>\n",
       "      <td>연립다세대</td>\n",
       "      <td>Y</td>\n",
       "    </tr>\n",
       "    <tr>\n",
       "      <th>653</th>\n",
       "      <td>인천광역시 강화군 강화읍 관청리 555-4</td>\n",
       "      <td>북문길9번길 21</td>\n",
       "      <td>인천광역시 강화군 강화읍 관청리</td>\n",
       "      <td>555</td>\n",
       "      <td>4</td>\n",
       "      <td>송학하얀집1동2동</td>\n",
       "      <td>69.09</td>\n",
       "      <td>14379</td>\n",
       "      <td>4</td>\n",
       "      <td>2018.0</td>\n",
       "      <td>2018-12-31</td>\n",
       "      <td>208.119844</td>\n",
       "      <td>4.0</td>\n",
       "      <td>연립다세대</td>\n",
       "      <td>Y</td>\n",
       "    </tr>\n",
       "  </tbody>\n",
       "</table>\n",
       "</div>"
      ],
      "text/plain": [
       "                        지번주소        도로명                시군구   본번  부번  \\\n",
       "649  인천광역시 강화군 강화읍 관청리 555-4  북문길9번길 21  인천광역시 강화군 강화읍 관청리  555   4   \n",
       "650  인천광역시 강화군 강화읍 관청리 555-4  북문길9번길 21  인천광역시 강화군 강화읍 관청리  555   4   \n",
       "651  인천광역시 강화군 강화읍 관청리 555-4  북문길9번길 21  인천광역시 강화군 강화읍 관청리  555   4   \n",
       "652  인천광역시 강화군 강화읍 관청리 555-4  북문길9번길 21  인천광역시 강화군 강화읍 관청리  555   4   \n",
       "653  인천광역시 강화군 강화읍 관청리 555-4  북문길9번길 21  인천광역시 강화군 강화읍 관청리  555   4   \n",
       "\n",
       "       건물(단지)명  전용면적(㎡)  거래금액(만원)  층    건축년도       계약날짜    단가(만원/㎡)  건물연식  \\\n",
       "649  송학하얀집1동2동    67.94     14140  4  2018.0 2018-12-31  208.124816   4.0   \n",
       "650  송학하얀집1동2동    67.94     14140  3  2018.0 2018-12-31  208.124816   4.0   \n",
       "651  송학하얀집1동2동    67.94     14140  2  2018.0 2018-12-31  208.124816   4.0   \n",
       "652  송학하얀집1동2동    68.59     14275  5  2018.0 2018-12-31  208.120717   4.0   \n",
       "653  송학하얀집1동2동    69.09     14379  4  2018.0 2018-12-31  208.119844   4.0   \n",
       "\n",
       "     부동산유형 일괄계약  \n",
       "649  연립다세대    Y  \n",
       "650  연립다세대    Y  \n",
       "651  연립다세대    Y  \n",
       "652  연립다세대    Y  \n",
       "653  연립다세대    Y  "
      ]
     },
     "execution_count": 20,
     "metadata": {},
     "output_type": "execute_result"
    }
   ],
   "source": [
    "bulk_df = house_df[house_df['일괄계약'] == 'Y']\n",
    "print(bulk_df.shape)\n",
    "bulk_df.head()"
   ]
  },
  {
   "cell_type": "code",
   "execution_count": 21,
   "metadata": {},
   "outputs": [
    {
     "data": {
      "text/plain": [
       "246"
      ]
     },
     "execution_count": 21,
     "metadata": {},
     "output_type": "execute_result"
    }
   ],
   "source": [
    "bulk_df['지번주소'].nunique()"
   ]
  },
  {
   "cell_type": "code",
   "execution_count": 22,
   "metadata": {},
   "outputs": [
    {
     "name": "stdout",
     "output_type": "stream",
     "text": [
      "Wall time: 1.38 s\n"
     ]
    }
   ],
   "source": [
    "%%time\n",
    "bulk_df.to_excel('./공공주택찾기/인천/일괄계약전체_20180101_20220224.xlsx', index=False)"
   ]
  },
  {
   "cell_type": "code",
   "execution_count": null,
   "metadata": {},
   "outputs": [],
   "source": []
  },
  {
   "cell_type": "code",
   "execution_count": null,
   "metadata": {},
   "outputs": [],
   "source": []
  },
  {
   "cell_type": "code",
   "execution_count": null,
   "metadata": {},
   "outputs": [],
   "source": []
  },
  {
   "cell_type": "code",
   "execution_count": null,
   "metadata": {},
   "outputs": [],
   "source": []
  },
  {
   "cell_type": "code",
   "execution_count": null,
   "metadata": {},
   "outputs": [],
   "source": []
  },
  {
   "cell_type": "code",
   "execution_count": null,
   "metadata": {},
   "outputs": [],
   "source": []
  },
  {
   "cell_type": "code",
   "execution_count": null,
   "metadata": {},
   "outputs": [],
   "source": []
  },
  {
   "cell_type": "code",
   "execution_count": null,
   "metadata": {},
   "outputs": [],
   "source": []
  },
  {
   "cell_type": "code",
   "execution_count": null,
   "metadata": {},
   "outputs": [],
   "source": []
  },
  {
   "cell_type": "code",
   "execution_count": null,
   "metadata": {},
   "outputs": [],
   "source": []
  },
  {
   "cell_type": "code",
   "execution_count": null,
   "metadata": {},
   "outputs": [],
   "source": []
  },
  {
   "cell_type": "code",
   "execution_count": null,
   "metadata": {},
   "outputs": [],
   "source": []
  },
  {
   "cell_type": "code",
   "execution_count": null,
   "metadata": {},
   "outputs": [],
   "source": []
  },
  {
   "cell_type": "code",
   "execution_count": null,
   "metadata": {},
   "outputs": [],
   "source": []
  },
  {
   "cell_type": "code",
   "execution_count": null,
   "metadata": {},
   "outputs": [],
   "source": []
  },
  {
   "cell_type": "code",
   "execution_count": null,
   "metadata": {},
   "outputs": [],
   "source": []
  },
  {
   "cell_type": "code",
   "execution_count": null,
   "metadata": {},
   "outputs": [],
   "source": []
  },
  {
   "cell_type": "code",
   "execution_count": null,
   "metadata": {},
   "outputs": [],
   "source": []
  },
  {
   "cell_type": "code",
   "execution_count": null,
   "metadata": {},
   "outputs": [],
   "source": []
  },
  {
   "cell_type": "code",
   "execution_count": null,
   "metadata": {},
   "outputs": [],
   "source": []
  },
  {
   "cell_type": "code",
   "execution_count": null,
   "metadata": {},
   "outputs": [],
   "source": []
  }
 ],
 "metadata": {
  "kernelspec": {
   "display_name": "Python 3 (ipykernel)",
   "language": "python",
   "name": "python3"
  },
  "language_info": {
   "codemirror_mode": {
    "name": "ipython",
    "version": 3
   },
   "file_extension": ".py",
   "mimetype": "text/x-python",
   "name": "python",
   "nbconvert_exporter": "python",
   "pygments_lexer": "ipython3",
   "version": "3.7.9"
  }
 },
 "nbformat": 4,
 "nbformat_minor": 4
}
