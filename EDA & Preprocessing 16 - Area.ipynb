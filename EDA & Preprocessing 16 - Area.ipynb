{
 "cells": [
  {
   "cell_type": "code",
   "execution_count": 1,
   "metadata": {},
   "outputs": [],
   "source": [
    "import numpy as np\n",
    "import pandas as pd\n",
    "import matplotlib.pyplot as plt\n",
    "import os\n",
    "import math\n",
    "from tqdm import tqdm\n",
    "import requests\n",
    "from urllib.parse import urlparse\n",
    "pd.set_option('display.max_rows', 500)\n",
    "pd.set_option('display.max_columns', 500)\n",
    "import datetime\n",
    "from sklearn.preprocessing import quantile_transform\n",
    "pd.options.mode.chained_assignment = None  # default='warn'"
   ]
  },
  {
   "cell_type": "markdown",
   "metadata": {},
   "source": [
    "# Read Data"
   ]
  },
  {
   "cell_type": "code",
   "execution_count": 2,
   "metadata": {},
   "outputs": [],
   "source": [
    "def file_reader(basedir, filename):\n",
    "    if filename.endswith('.csv'):\n",
    "        try:\n",
    "            df = pd.read_csv(basedir + filename, header=15)\n",
    "        except:\n",
    "            df = pd.read_csv(basedir + filename, encoding='euc-kr', header=15)\n",
    "    elif filename.endswith('.xlsx'):\n",
    "        try:\n",
    "            df = pd.read_excel(basedir + filename, header=16)\n",
    "        except:\n",
    "            df = pd.read_excel(basedir + filename, encoding='euc-kr', header=16)\n",
    "    else:\n",
    "        print('error')\n",
    "    \n",
    "    return df"
   ]
  },
  {
   "cell_type": "code",
   "execution_count": 3,
   "metadata": {},
   "outputs": [],
   "source": [
    "def read_data():\n",
    "    basedir = './국토교통부_실거래가_공개시스템/'\n",
    "    filenames = os.listdir(basedir)\n",
    "    \n",
    "    apart_trade_files = [filename for filename in filenames if filename.startswith('아파트(매매)')]\n",
    "    apart_lease_files = [filename for filename in filenames if filename.startswith('아파트(전월세)')]\n",
    "    multiplex_trade_files = [filename for filename in filenames if filename.startswith('연립다세대(매매)')]\n",
    "    multiplex_lease_files = [filename for filename in filenames if filename.startswith('연립다세대(전월세)')]\n",
    "    officetel_trade_files = [filename for filename in filenames if filename.startswith('오피스텔(매매)')]\n",
    "    officetel_lease_files = [filename for filename in filenames if filename.startswith('오피스텔(전월세)')]\n",
    "    \n",
    "    #\n",
    "    apart_trade_dfs_list = []\n",
    "    for filename in apart_trade_files:\n",
    "        df = file_reader(basedir, filename)\n",
    "        apart_trade_dfs_list.append(df)\n",
    "    apart_trade_df = pd.concat(apart_trade_dfs_list).reset_index(drop=True)\n",
    "    \n",
    "    #\n",
    "    apart_lease_dfs_list = []\n",
    "    for filename in apart_lease_files:\n",
    "        df = file_reader(basedir, filename)\n",
    "        apart_lease_dfs_list.append(df)\n",
    "    apart_lease_df = pd.concat(apart_lease_dfs_list).reset_index(drop=True)\n",
    "    \n",
    "    #\n",
    "    multiplex_trade_dfs_list = []\n",
    "    for filename in multiplex_trade_files:\n",
    "        df = file_reader(basedir, filename)\n",
    "        multiplex_trade_dfs_list.append(df)\n",
    "    multiplex_trade_df = pd.concat(multiplex_trade_dfs_list).reset_index(drop=True)\n",
    "    \n",
    "    #\n",
    "    multiplex_lease_dfs_list = []\n",
    "    for filename in multiplex_lease_files:\n",
    "        df = file_reader(basedir, filename)\n",
    "        multiplex_lease_dfs_list.append(df)\n",
    "    multiplex_lease_df = pd.concat(multiplex_lease_dfs_list).reset_index(drop=True)\n",
    "    \n",
    "    #\n",
    "    officetel_trade_dfs_list = []\n",
    "    for filename in officetel_trade_files:\n",
    "        df = file_reader(basedir, filename)\n",
    "        officetel_trade_dfs_list.append(df)\n",
    "    officetel_trade_df = pd.concat(officetel_trade_dfs_list).reset_index(drop=True)\n",
    "    \n",
    "    #\n",
    "    officetel_lease_dfs_list = []\n",
    "    for filename in officetel_lease_files:\n",
    "        df = file_reader(basedir, filename)\n",
    "        officetel_lease_dfs_list.append(df)\n",
    "    officetel_lease_df = pd.concat(officetel_lease_dfs_list).reset_index(drop=True)\n",
    "    \n",
    "    \n",
    "    return apart_trade_df, apart_lease_df, multiplex_trade_df, multiplex_lease_df, officetel_trade_df, officetel_lease_df"
   ]
  },
  {
   "cell_type": "code",
   "execution_count": 4,
   "metadata": {},
   "outputs": [
    {
     "name": "stderr",
     "output_type": "stream",
     "text": [
      "c:\\users\\max6296\\ml\\lib\\site-packages\\ipykernel_launcher.py:9: FutureWarning: Your version of xlrd is 1.2.0. In xlrd >= 2.0, only the xls format is supported. As a result, the openpyxl engine will be used if it is installed and the engine argument is not specified. Install openpyxl instead.\n",
      "  if __name__ == '__main__':\n",
      "c:\\users\\max6296\\ml\\lib\\site-packages\\IPython\\core\\magics\\execution.py:1321: DtypeWarning: Columns (10) have mixed types.Specify dtype option on import or set low_memory=False.\n",
      "  exec(code, glob, local_ns)\n"
     ]
    },
    {
     "name": "stdout",
     "output_type": "stream",
     "text": [
      "Wall time: 2min 53s\n"
     ]
    }
   ],
   "source": [
    "%%time\n",
    "apart_trade_df, apart_lease_df, multiplex_trade_df, multiplex_lease_df, officetel_trade_df, officetel_lease_df\\\n",
    "= read_data()"
   ]
  },
  {
   "cell_type": "code",
   "execution_count": 5,
   "metadata": {},
   "outputs": [
    {
     "data": {
      "text/html": [
       "<div>\n",
       "<style scoped>\n",
       "    .dataframe tbody tr th:only-of-type {\n",
       "        vertical-align: middle;\n",
       "    }\n",
       "\n",
       "    .dataframe tbody tr th {\n",
       "        vertical-align: top;\n",
       "    }\n",
       "\n",
       "    .dataframe thead th {\n",
       "        text-align: right;\n",
       "    }\n",
       "</style>\n",
       "<table border=\"1\" class=\"dataframe\">\n",
       "  <thead>\n",
       "    <tr style=\"text-align: right;\">\n",
       "      <th></th>\n",
       "      <th>시군구</th>\n",
       "      <th>번지</th>\n",
       "      <th>본번</th>\n",
       "      <th>부번</th>\n",
       "      <th>단지명</th>\n",
       "      <th>전용면적(㎡)</th>\n",
       "      <th>계약년월</th>\n",
       "      <th>계약일</th>\n",
       "      <th>거래금액(만원)</th>\n",
       "      <th>층</th>\n",
       "      <th>건축년도</th>\n",
       "      <th>도로명</th>\n",
       "    </tr>\n",
       "  </thead>\n",
       "  <tbody>\n",
       "    <tr>\n",
       "      <th>0</th>\n",
       "      <td>서울특별시 강남구 개포동</td>\n",
       "      <td>655-2</td>\n",
       "      <td>655</td>\n",
       "      <td>2</td>\n",
       "      <td>개포2차현대아파트(220)</td>\n",
       "      <td>77.75</td>\n",
       "      <td>201309</td>\n",
       "      <td>8</td>\n",
       "      <td>57,000</td>\n",
       "      <td>2</td>\n",
       "      <td>1988</td>\n",
       "      <td>언주로 103</td>\n",
       "    </tr>\n",
       "    <tr>\n",
       "      <th>1</th>\n",
       "      <td>서울특별시 강남구 개포동</td>\n",
       "      <td>655-2</td>\n",
       "      <td>655</td>\n",
       "      <td>2</td>\n",
       "      <td>개포2차현대아파트(220)</td>\n",
       "      <td>77.75</td>\n",
       "      <td>201312</td>\n",
       "      <td>16</td>\n",
       "      <td>57,000</td>\n",
       "      <td>2</td>\n",
       "      <td>1988</td>\n",
       "      <td>언주로 103</td>\n",
       "    </tr>\n",
       "    <tr>\n",
       "      <th>2</th>\n",
       "      <td>서울특별시 강남구 개포동</td>\n",
       "      <td>658-1</td>\n",
       "      <td>658</td>\n",
       "      <td>1</td>\n",
       "      <td>개포6차우성아파트1동~8동</td>\n",
       "      <td>67.28</td>\n",
       "      <td>201302</td>\n",
       "      <td>11</td>\n",
       "      <td>55,000</td>\n",
       "      <td>5</td>\n",
       "      <td>1987</td>\n",
       "      <td>언주로 3</td>\n",
       "    </tr>\n",
       "    <tr>\n",
       "      <th>3</th>\n",
       "      <td>서울특별시 강남구 개포동</td>\n",
       "      <td>658-1</td>\n",
       "      <td>658</td>\n",
       "      <td>1</td>\n",
       "      <td>개포6차우성아파트1동~8동</td>\n",
       "      <td>67.28</td>\n",
       "      <td>201302</td>\n",
       "      <td>22</td>\n",
       "      <td>58,250</td>\n",
       "      <td>4</td>\n",
       "      <td>1987</td>\n",
       "      <td>언주로 3</td>\n",
       "    </tr>\n",
       "    <tr>\n",
       "      <th>4</th>\n",
       "      <td>서울특별시 강남구 개포동</td>\n",
       "      <td>658-1</td>\n",
       "      <td>658</td>\n",
       "      <td>1</td>\n",
       "      <td>개포6차우성아파트1동~8동</td>\n",
       "      <td>67.28</td>\n",
       "      <td>201305</td>\n",
       "      <td>10</td>\n",
       "      <td>60,000</td>\n",
       "      <td>5</td>\n",
       "      <td>1987</td>\n",
       "      <td>언주로 3</td>\n",
       "    </tr>\n",
       "  </tbody>\n",
       "</table>\n",
       "</div>"
      ],
      "text/plain": [
       "             시군구     번지   본번  부번             단지명  전용면적(㎡)    계약년월  계약일  \\\n",
       "0  서울특별시 강남구 개포동  655-2  655   2  개포2차현대아파트(220)    77.75  201309    8   \n",
       "1  서울특별시 강남구 개포동  655-2  655   2  개포2차현대아파트(220)    77.75  201312   16   \n",
       "2  서울특별시 강남구 개포동  658-1  658   1  개포6차우성아파트1동~8동    67.28  201302   11   \n",
       "3  서울특별시 강남구 개포동  658-1  658   1  개포6차우성아파트1동~8동    67.28  201302   22   \n",
       "4  서울특별시 강남구 개포동  658-1  658   1  개포6차우성아파트1동~8동    67.28  201305   10   \n",
       "\n",
       "  거래금액(만원)  층  건축년도      도로명  \n",
       "0   57,000  2  1988  언주로 103  \n",
       "1   57,000  2  1988  언주로 103  \n",
       "2   55,000  5  1987    언주로 3  \n",
       "3   58,250  4  1987    언주로 3  \n",
       "4   60,000  5  1987    언주로 3  "
      ]
     },
     "execution_count": 5,
     "metadata": {},
     "output_type": "execute_result"
    }
   ],
   "source": [
    "apart_trade_df.head()"
   ]
  },
  {
   "cell_type": "code",
   "execution_count": 6,
   "metadata": {},
   "outputs": [
    {
     "data": {
      "text/plain": [
       "count    1.168192e+06\n",
       "mean     7.722697e+01\n",
       "std      2.882979e+01\n",
       "min      1.002000e+01\n",
       "25%      5.966250e+01\n",
       "50%      8.185000e+01\n",
       "75%      8.496000e+01\n",
       "max      4.243200e+02\n",
       "Name: 전용면적(㎡), dtype: float64"
      ]
     },
     "execution_count": 6,
     "metadata": {},
     "output_type": "execute_result"
    }
   ],
   "source": [
    "apart_trade_df['전용면적(㎡)'].describe()"
   ]
  },
  {
   "cell_type": "code",
   "execution_count": null,
   "metadata": {},
   "outputs": [],
   "source": []
  }
 ],
 "metadata": {
  "kernelspec": {
   "display_name": "Python 3",
   "language": "python",
   "name": "python3"
  },
  "language_info": {
   "codemirror_mode": {
    "name": "ipython",
    "version": 3
   },
   "file_extension": ".py",
   "mimetype": "text/x-python",
   "name": "python",
   "nbconvert_exporter": "python",
   "pygments_lexer": "ipython3",
   "version": "3.7.9"
  }
 },
 "nbformat": 4,
 "nbformat_minor": 4
}
