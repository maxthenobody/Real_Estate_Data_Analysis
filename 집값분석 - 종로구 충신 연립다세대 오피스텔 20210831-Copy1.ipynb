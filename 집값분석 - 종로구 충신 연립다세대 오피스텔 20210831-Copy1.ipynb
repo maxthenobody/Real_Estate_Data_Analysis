{
 "cells": [
  {
   "cell_type": "code",
   "execution_count": 10,
   "metadata": {},
   "outputs": [],
   "source": [
    "# 2021/08/28 업데이트 내용\n",
    "# 1. 건물연식 5년으로 고정하고, 계약날짜 검색범위만 6개월, 12개월, 24개월, 36개월로 조정\n",
    "# 2. 전세 포함"
   ]
  },
  {
   "cell_type": "code",
   "execution_count": 11,
   "metadata": {},
   "outputs": [],
   "source": [
    "import pandas as pd\n",
    "import numpy as np\n",
    "import os\n",
    "pd.set_option('display.max_rows', 500)\n",
    "pd.set_option('display.max_columns', 500)\n",
    "from tqdm import tqdm\n",
    "import matplotlib.pyplot as plt\n",
    "import seaborn as sns\n",
    "import matplotlib\n",
    "matplotlib.rcParams['axes.unicode_minus'] = False\n",
    "pd.options.mode.chained_assignment = None  # default='warn'\n",
    "plt.rcParams['font.family'] = 'Malgun Gothic'\n",
    "import datetime"
   ]
  },
  {
   "cell_type": "code",
   "execution_count": 12,
   "metadata": {},
   "outputs": [],
   "source": [
    "target_gu = '종로구' # 구 명\n",
    "target_dong = '충신' # 동 명: 동 명에서 마지막 글자 '동' 뺄 것\n",
    "#target_purpose = '준주거' # 종 명: 건드릴 필요 없음\n",
    "target_building_age = 5 # 건물연식: 건드릴 필요 없음\n",
    "target_period = 36 # 계약날짜 검색범위: 건드릴 필요 없음\n",
    "target_starting_year = 2018 # 검색 시작 계약 년도: 건드릴 필요 없음"
   ]
  },
  {
   "cell_type": "code",
   "execution_count": 13,
   "metadata": {},
   "outputs": [],
   "source": [
    "date_today = pd.to_datetime(datetime.datetime.now().strftime('%Y-%m-%d'), format='%Y-%m-%d')"
   ]
  },
  {
   "cell_type": "code",
   "execution_count": 14,
   "metadata": {},
   "outputs": [
    {
     "data": {
      "text/plain": [
       "'20210831'"
      ]
     },
     "execution_count": 14,
     "metadata": {},
     "output_type": "execute_result"
    }
   ],
   "source": [
    "date_today_record = str(date_today).split(' ')[0].replace('-', '')\n",
    "date_today_record"
   ]
  },
  {
   "cell_type": "code",
   "execution_count": 15,
   "metadata": {},
   "outputs": [],
   "source": [
    "def day_modifier(x):\n",
    "    # x is a number\n",
    "    \n",
    "    if pd.isna(x) == True:\n",
    "        return x\n",
    "    else:\n",
    "        x = str(x)\n",
    "        if len(x) == 1:\n",
    "            return '0' + x\n",
    "        else:\n",
    "            return x"
   ]
  },
  {
   "cell_type": "code",
   "execution_count": 16,
   "metadata": {},
   "outputs": [],
   "source": [
    "def landnum_modifier(x):\n",
    "    # x is a string\n",
    "    \n",
    "    if pd.isna(x) == True:\n",
    "        return x\n",
    "    else:\n",
    "        x = str(x).replace('외', '').replace(' ','')\n",
    "        splitted = x.split('-')\n",
    "        if len(splitted) == 1:\n",
    "            return x + '-0'\n",
    "        else:\n",
    "            return x"
   ]
  },
  {
   "cell_type": "code",
   "execution_count": 17,
   "metadata": {},
   "outputs": [],
   "source": [
    "def data_prep(bdtype, tradetype, starting_year=2018):\n",
    "    # bdtype is a string: one of 아파트, 연립다세대 or 오피스텔\n",
    "    # tradetype is a string: one of 매매 or 전월세\n",
    "    if (tradetype != '매매') & (tradetype != '전월세'):\n",
    "        raise ValueError('두번째 변수는 매매 또는 전월세만 입력 가능')\n",
    "    \n",
    "    \n",
    "    basedir = './국토교통부_실거래가_공개시스템/{}/{}/'.format(bdtype, tradetype)\n",
    "    filenames = [f for f in os.listdir(basedir) if (f.endswith('.csv'))&('(' in f)]\n",
    "    \n",
    "    dfs_list = []\n",
    "    for i, f in tqdm(enumerate(filenames)):\n",
    "        splitted_filename = f.split('실거래가_')       \n",
    "        file_year = int(splitted_filename[-1][:4])\n",
    "        \n",
    "        if file_year < starting_year:\n",
    "            continue\n",
    "        \n",
    "        try:\n",
    "            df = pd.read_csv(basedir + f, encoding='euc-kr', header=15)\n",
    "        except:\n",
    "            try:\n",
    "                df = pd.read_csv(basedir + f, encoding='utf-8', header=15)\n",
    "            except:\n",
    "                df = pd.read_csv(basedir + f, header=15)\n",
    "        \n",
    "        if '건물명' in df.columns:\n",
    "            df.rename(columns={'건물명':'건물(단지)명'}, inplace=True)\n",
    "        elif '단지명' in df.columns:\n",
    "            df.rename(columns={'단지명':'건물(단지)명'}, inplace=True)\n",
    "            \n",
    "        if '대지권면적(㎡)' in df.columns:\n",
    "            df = df.drop(columns=['대지권면적(㎡)'])\n",
    "                \n",
    "            \n",
    "        if '해제사유발생일' in df.columns.tolist():\n",
    "            df = df[df['해제사유발생일'].isna()]\n",
    "            df = df.drop(columns=['해제사유발생일'])\n",
    "            \n",
    "        dfs_list.append(df)\n",
    "    \n",
    "    concat_df = pd.concat(dfs_list).reset_index(drop=True)\n",
    "    \n",
    "    if tradetype == '전월세':\n",
    "        concat_df = concat_df.rename(columns={'전월세구분':'거래구분', '보증금(만원)':'거래금액(만원)'})\n",
    "        concat_df = concat_df.drop(columns=['월세(만원)'])\n",
    "        concat_df = concat_df[concat_df['거래구분'] == '전세']\n",
    "    elif tradetype == '매매':\n",
    "        concat_df['거래구분'] = '매매'\n",
    "        \n",
    "    concat_df['번지'] = concat_df['번지'].apply(landnum_modifier)\n",
    "    \n",
    "    concat_df['계약년월'] = concat_df['계약년월'].astype('Int64')\n",
    "    concat_df['계약일'] = concat_df['계약일'].astype('Int64')\n",
    "    \n",
    "    concat_df['계약년월'] = concat_df['계약년월'].apply(str)\n",
    "    concat_df['계약일'] = concat_df['계약일'].apply(str)\n",
    "    \n",
    "    concat_df['계약날짜기준_건물연식'] = concat_df['계약년월'].apply(lambda x: int(x[:4])) - concat_df['건축년도']\n",
    "    \n",
    "    concat_df['계약일'] = concat_df['계약일'].apply(day_modifier)\n",
    "    \n",
    "    concat_df['계약날짜'] = concat_df['계약년월'].apply(lambda x: x[:4]) + '-' + concat_df['계약년월'].apply(lambda x: x[-2:])\\\n",
    "    + '-' + concat_df['계약일']\n",
    "    \n",
    "    concat_df['계약날짜'] = pd.to_datetime(concat_df['계약날짜'], format='%Y-%m-%d')\n",
    "    \n",
    "    concat_df['거래금액(만원)'] = concat_df['거래금액(만원)'].apply(lambda x: int(x.replace(',','')))\n",
    "    concat_df['단가(만원/㎡)'] = concat_df['거래금액(만원)'] / concat_df['전용면적(㎡)']\n",
    "    \n",
    "    concat_df['지번주소'] = concat_df['시군구'] + ' ' + concat_df['번지']\n",
    "        \n",
    "    cols_to_drop = ['시군구', '번지', '본번', '부번', '지번주소', '계약년월', '계약일', '도로명']\n",
    "        \n",
    "    concat_df = concat_df[['지번주소', '도로명'] + [col for col in concat_df.columns if col not in cols_to_drop]]\n",
    "    \n",
    "    date_today = pd.to_datetime(datetime.datetime.now().strftime('%Y-%m-%d'), format='%Y-%m-%d')\n",
    "    concat_df['건물연식'] = date_today.year - concat_df['건축년도']\n",
    "    \n",
    "    concat_df = concat_df.dropna(subset=['지번주소'])\n",
    "    \n",
    "    concat_df = concat_df[concat_df['층'] >= 0].reset_index(drop=True)\n",
    "    \n",
    "    return concat_df"
   ]
  },
  {
   "cell_type": "code",
   "execution_count": 18,
   "metadata": {},
   "outputs": [
    {
     "name": "stderr",
     "output_type": "stream",
     "text": [
      "16it [00:00, 31.99it/s] \n",
      "16it [00:01, 13.85it/s]\n"
     ]
    },
    {
     "name": "stdout",
     "output_type": "stream",
     "text": [
      "(719649, 13)\n"
     ]
    },
    {
     "data": {
      "text/html": [
       "<div>\n",
       "<style scoped>\n",
       "    .dataframe tbody tr th:only-of-type {\n",
       "        vertical-align: middle;\n",
       "    }\n",
       "\n",
       "    .dataframe tbody tr th {\n",
       "        vertical-align: top;\n",
       "    }\n",
       "\n",
       "    .dataframe thead th {\n",
       "        text-align: right;\n",
       "    }\n",
       "</style>\n",
       "<table border=\"1\" class=\"dataframe\">\n",
       "  <thead>\n",
       "    <tr style=\"text-align: right;\">\n",
       "      <th></th>\n",
       "      <th>지번주소</th>\n",
       "      <th>도로명</th>\n",
       "      <th>건물(단지)명</th>\n",
       "      <th>전용면적(㎡)</th>\n",
       "      <th>거래금액(만원)</th>\n",
       "      <th>층</th>\n",
       "      <th>건축년도</th>\n",
       "      <th>거래구분</th>\n",
       "      <th>계약날짜기준_건물연식</th>\n",
       "      <th>계약날짜</th>\n",
       "      <th>단가(만원/㎡)</th>\n",
       "      <th>건물연식</th>\n",
       "      <th>부동산유형</th>\n",
       "    </tr>\n",
       "  </thead>\n",
       "  <tbody>\n",
       "    <tr>\n",
       "      <th>0</th>\n",
       "      <td>서울특별시 강남구 개포동 658-1</td>\n",
       "      <td>언주로 3</td>\n",
       "      <td>개포6차우성아파트1동~8동</td>\n",
       "      <td>79.97</td>\n",
       "      <td>130000</td>\n",
       "      <td>4</td>\n",
       "      <td>1987</td>\n",
       "      <td>매매</td>\n",
       "      <td>31</td>\n",
       "      <td>2018-01-03</td>\n",
       "      <td>1625.609604</td>\n",
       "      <td>34</td>\n",
       "      <td>아파트</td>\n",
       "    </tr>\n",
       "    <tr>\n",
       "      <th>1</th>\n",
       "      <td>서울특별시 강남구 개포동 658-1</td>\n",
       "      <td>언주로 3</td>\n",
       "      <td>개포6차우성아파트1동~8동</td>\n",
       "      <td>79.97</td>\n",
       "      <td>117000</td>\n",
       "      <td>2</td>\n",
       "      <td>1987</td>\n",
       "      <td>매매</td>\n",
       "      <td>31</td>\n",
       "      <td>2018-01-08</td>\n",
       "      <td>1463.048643</td>\n",
       "      <td>34</td>\n",
       "      <td>아파트</td>\n",
       "    </tr>\n",
       "    <tr>\n",
       "      <th>2</th>\n",
       "      <td>서울특별시 강남구 개포동 658-1</td>\n",
       "      <td>언주로 3</td>\n",
       "      <td>개포6차우성아파트1동~8동</td>\n",
       "      <td>79.97</td>\n",
       "      <td>130000</td>\n",
       "      <td>1</td>\n",
       "      <td>1987</td>\n",
       "      <td>매매</td>\n",
       "      <td>31</td>\n",
       "      <td>2018-01-11</td>\n",
       "      <td>1625.609604</td>\n",
       "      <td>34</td>\n",
       "      <td>아파트</td>\n",
       "    </tr>\n",
       "    <tr>\n",
       "      <th>3</th>\n",
       "      <td>서울특별시 강남구 개포동 658-1</td>\n",
       "      <td>언주로 3</td>\n",
       "      <td>개포6차우성아파트1동~8동</td>\n",
       "      <td>79.97</td>\n",
       "      <td>139500</td>\n",
       "      <td>2</td>\n",
       "      <td>1987</td>\n",
       "      <td>매매</td>\n",
       "      <td>31</td>\n",
       "      <td>2018-03-19</td>\n",
       "      <td>1744.404152</td>\n",
       "      <td>34</td>\n",
       "      <td>아파트</td>\n",
       "    </tr>\n",
       "    <tr>\n",
       "      <th>4</th>\n",
       "      <td>서울특별시 강남구 개포동 658-1</td>\n",
       "      <td>언주로 3</td>\n",
       "      <td>개포6차우성아파트1동~8동</td>\n",
       "      <td>54.98</td>\n",
       "      <td>107500</td>\n",
       "      <td>5</td>\n",
       "      <td>1987</td>\n",
       "      <td>매매</td>\n",
       "      <td>31</td>\n",
       "      <td>2018-04-05</td>\n",
       "      <td>1955.256457</td>\n",
       "      <td>34</td>\n",
       "      <td>아파트</td>\n",
       "    </tr>\n",
       "  </tbody>\n",
       "</table>\n",
       "</div>"
      ],
      "text/plain": [
       "                  지번주소    도로명         건물(단지)명  전용면적(㎡)  거래금액(만원)  층  건축년도  \\\n",
       "0  서울특별시 강남구 개포동 658-1  언주로 3  개포6차우성아파트1동~8동    79.97    130000  4  1987   \n",
       "1  서울특별시 강남구 개포동 658-1  언주로 3  개포6차우성아파트1동~8동    79.97    117000  2  1987   \n",
       "2  서울특별시 강남구 개포동 658-1  언주로 3  개포6차우성아파트1동~8동    79.97    130000  1  1987   \n",
       "3  서울특별시 강남구 개포동 658-1  언주로 3  개포6차우성아파트1동~8동    79.97    139500  2  1987   \n",
       "4  서울특별시 강남구 개포동 658-1  언주로 3  개포6차우성아파트1동~8동    54.98    107500  5  1987   \n",
       "\n",
       "  거래구분  계약날짜기준_건물연식       계약날짜     단가(만원/㎡)  건물연식 부동산유형  \n",
       "0   매매           31 2018-01-03  1625.609604    34   아파트  \n",
       "1   매매           31 2018-01-08  1463.048643    34   아파트  \n",
       "2   매매           31 2018-01-11  1625.609604    34   아파트  \n",
       "3   매매           31 2018-03-19  1744.404152    34   아파트  \n",
       "4   매매           31 2018-04-05  1955.256457    34   아파트  "
      ]
     },
     "execution_count": 18,
     "metadata": {},
     "output_type": "execute_result"
    }
   ],
   "source": [
    "apart_trade_df = data_prep('아파트', '매매')\n",
    "apart_lease_df = data_prep('아파트', '전월세')\n",
    "apart_df = pd.concat([apart_trade_df, apart_lease_df]).reset_index(drop=True)\n",
    "del apart_trade_df, apart_lease_df\n",
    "apart_df['부동산유형'] = '아파트'\n",
    "print(apart_df.shape)\n",
    "apart_df.head()"
   ]
  },
  {
   "cell_type": "code",
   "execution_count": 19,
   "metadata": {
    "scrolled": false
   },
   "outputs": [
    {
     "name": "stderr",
     "output_type": "stream",
     "text": [
      "16it [00:00, 36.92it/s] \n",
      "13it [00:00, 74.83it/s]c:\\users\\max6296\\ml\\lib\\site-packages\\IPython\\core\\interactiveshell.py:3338: DtypeWarning: Columns (10) have mixed types.Specify dtype option on import or set low_memory=False.\n",
      "  if (await self.run_code(code, result,  async_=asy)):\n",
      "16it [00:00, 21.85it/s]\n"
     ]
    },
    {
     "name": "stdout",
     "output_type": "stream",
     "text": [
      "(424585, 13)\n"
     ]
    },
    {
     "data": {
      "text/html": [
       "<div>\n",
       "<style scoped>\n",
       "    .dataframe tbody tr th:only-of-type {\n",
       "        vertical-align: middle;\n",
       "    }\n",
       "\n",
       "    .dataframe tbody tr th {\n",
       "        vertical-align: top;\n",
       "    }\n",
       "\n",
       "    .dataframe thead th {\n",
       "        text-align: right;\n",
       "    }\n",
       "</style>\n",
       "<table border=\"1\" class=\"dataframe\">\n",
       "  <thead>\n",
       "    <tr style=\"text-align: right;\">\n",
       "      <th></th>\n",
       "      <th>지번주소</th>\n",
       "      <th>도로명</th>\n",
       "      <th>건물(단지)명</th>\n",
       "      <th>전용면적(㎡)</th>\n",
       "      <th>거래금액(만원)</th>\n",
       "      <th>층</th>\n",
       "      <th>건축년도</th>\n",
       "      <th>거래구분</th>\n",
       "      <th>계약날짜기준_건물연식</th>\n",
       "      <th>계약날짜</th>\n",
       "      <th>단가(만원/㎡)</th>\n",
       "      <th>건물연식</th>\n",
       "      <th>부동산유형</th>\n",
       "    </tr>\n",
       "  </thead>\n",
       "  <tbody>\n",
       "    <tr>\n",
       "      <th>0</th>\n",
       "      <td>서울특별시 강남구 개포동 1172-2</td>\n",
       "      <td>논현로6길 22-6</td>\n",
       "      <td>(1172-2)</td>\n",
       "      <td>29.95</td>\n",
       "      <td>25000</td>\n",
       "      <td>4</td>\n",
       "      <td>2012.0</td>\n",
       "      <td>매매</td>\n",
       "      <td>6.0</td>\n",
       "      <td>2018-01-13</td>\n",
       "      <td>834.724541</td>\n",
       "      <td>9.0</td>\n",
       "      <td>연립다세대</td>\n",
       "    </tr>\n",
       "    <tr>\n",
       "      <th>1</th>\n",
       "      <td>서울특별시 강남구 개포동 1216-4</td>\n",
       "      <td>개포로26길 16</td>\n",
       "      <td>(1216-4)</td>\n",
       "      <td>29.12</td>\n",
       "      <td>25300</td>\n",
       "      <td>4</td>\n",
       "      <td>2012.0</td>\n",
       "      <td>매매</td>\n",
       "      <td>6.0</td>\n",
       "      <td>2018-10-23</td>\n",
       "      <td>868.818681</td>\n",
       "      <td>9.0</td>\n",
       "      <td>연립다세대</td>\n",
       "    </tr>\n",
       "    <tr>\n",
       "      <th>2</th>\n",
       "      <td>서울특별시 강남구 개포동 1187-8</td>\n",
       "      <td>논현로8길 17</td>\n",
       "      <td>1187-8</td>\n",
       "      <td>55.96</td>\n",
       "      <td>45500</td>\n",
       "      <td>4</td>\n",
       "      <td>2015.0</td>\n",
       "      <td>매매</td>\n",
       "      <td>3.0</td>\n",
       "      <td>2018-01-04</td>\n",
       "      <td>813.080772</td>\n",
       "      <td>6.0</td>\n",
       "      <td>연립다세대</td>\n",
       "    </tr>\n",
       "    <tr>\n",
       "      <th>3</th>\n",
       "      <td>서울특별시 강남구 개포동 1187-8</td>\n",
       "      <td>논현로8길 17</td>\n",
       "      <td>1187-8</td>\n",
       "      <td>59.84</td>\n",
       "      <td>51000</td>\n",
       "      <td>3</td>\n",
       "      <td>2015.0</td>\n",
       "      <td>매매</td>\n",
       "      <td>3.0</td>\n",
       "      <td>2018-03-09</td>\n",
       "      <td>852.272727</td>\n",
       "      <td>6.0</td>\n",
       "      <td>연립다세대</td>\n",
       "    </tr>\n",
       "    <tr>\n",
       "      <th>4</th>\n",
       "      <td>서울특별시 강남구 개포동 1187-8</td>\n",
       "      <td>논현로8길 17</td>\n",
       "      <td>1187-8</td>\n",
       "      <td>59.84</td>\n",
       "      <td>51000</td>\n",
       "      <td>2</td>\n",
       "      <td>2015.0</td>\n",
       "      <td>매매</td>\n",
       "      <td>3.0</td>\n",
       "      <td>2018-04-14</td>\n",
       "      <td>852.272727</td>\n",
       "      <td>6.0</td>\n",
       "      <td>연립다세대</td>\n",
       "    </tr>\n",
       "  </tbody>\n",
       "</table>\n",
       "</div>"
      ],
      "text/plain": [
       "                   지번주소         도로명   건물(단지)명  전용면적(㎡)  거래금액(만원)  층    건축년도  \\\n",
       "0  서울특별시 강남구 개포동 1172-2  논현로6길 22-6  (1172-2)    29.95     25000  4  2012.0   \n",
       "1  서울특별시 강남구 개포동 1216-4   개포로26길 16  (1216-4)    29.12     25300  4  2012.0   \n",
       "2  서울특별시 강남구 개포동 1187-8    논현로8길 17    1187-8    55.96     45500  4  2015.0   \n",
       "3  서울특별시 강남구 개포동 1187-8    논현로8길 17    1187-8    59.84     51000  3  2015.0   \n",
       "4  서울특별시 강남구 개포동 1187-8    논현로8길 17    1187-8    59.84     51000  2  2015.0   \n",
       "\n",
       "  거래구분  계약날짜기준_건물연식       계약날짜    단가(만원/㎡)  건물연식  부동산유형  \n",
       "0   매매          6.0 2018-01-13  834.724541   9.0  연립다세대  \n",
       "1   매매          6.0 2018-10-23  868.818681   9.0  연립다세대  \n",
       "2   매매          3.0 2018-01-04  813.080772   6.0  연립다세대  \n",
       "3   매매          3.0 2018-03-09  852.272727   6.0  연립다세대  \n",
       "4   매매          3.0 2018-04-14  852.272727   6.0  연립다세대  "
      ]
     },
     "execution_count": 19,
     "metadata": {},
     "output_type": "execute_result"
    }
   ],
   "source": [
    "yunrip_trade_df = data_prep('연립다세대', '매매')\n",
    "yunrip_lease_df = data_prep('연립다세대', '전월세')\n",
    "yunrip_df = pd.concat([yunrip_trade_df, yunrip_lease_df]).reset_index(drop=True)\n",
    "del yunrip_trade_df, yunrip_lease_df\n",
    "yunrip_df['부동산유형'] = '연립다세대'\n",
    "print(yunrip_df.shape)\n",
    "yunrip_df.head()"
   ]
  },
  {
   "cell_type": "code",
   "execution_count": 20,
   "metadata": {},
   "outputs": [
    {
     "name": "stderr",
     "output_type": "stream",
     "text": [
      "16it [00:00, 156.83it/s]\n",
      "16it [00:00, 50.94it/s]\n"
     ]
    },
    {
     "name": "stdout",
     "output_type": "stream",
     "text": [
      "(134883, 13)\n"
     ]
    },
    {
     "data": {
      "text/html": [
       "<div>\n",
       "<style scoped>\n",
       "    .dataframe tbody tr th:only-of-type {\n",
       "        vertical-align: middle;\n",
       "    }\n",
       "\n",
       "    .dataframe tbody tr th {\n",
       "        vertical-align: top;\n",
       "    }\n",
       "\n",
       "    .dataframe thead th {\n",
       "        text-align: right;\n",
       "    }\n",
       "</style>\n",
       "<table border=\"1\" class=\"dataframe\">\n",
       "  <thead>\n",
       "    <tr style=\"text-align: right;\">\n",
       "      <th></th>\n",
       "      <th>지번주소</th>\n",
       "      <th>도로명</th>\n",
       "      <th>건물(단지)명</th>\n",
       "      <th>전용면적(㎡)</th>\n",
       "      <th>거래금액(만원)</th>\n",
       "      <th>층</th>\n",
       "      <th>건축년도</th>\n",
       "      <th>거래구분</th>\n",
       "      <th>계약날짜기준_건물연식</th>\n",
       "      <th>계약날짜</th>\n",
       "      <th>단가(만원/㎡)</th>\n",
       "      <th>건물연식</th>\n",
       "      <th>부동산유형</th>\n",
       "    </tr>\n",
       "  </thead>\n",
       "  <tbody>\n",
       "    <tr>\n",
       "      <th>0</th>\n",
       "      <td>서울특별시 강남구 개포동 13-3</td>\n",
       "      <td>개포로 623</td>\n",
       "      <td>대청타워</td>\n",
       "      <td>31.91</td>\n",
       "      <td>18500</td>\n",
       "      <td>20</td>\n",
       "      <td>1997.0</td>\n",
       "      <td>매매</td>\n",
       "      <td>21.0</td>\n",
       "      <td>2018-01-02</td>\n",
       "      <td>579.755563</td>\n",
       "      <td>24.0</td>\n",
       "      <td>오피스텔</td>\n",
       "    </tr>\n",
       "    <tr>\n",
       "      <th>1</th>\n",
       "      <td>서울특별시 강남구 개포동 13-3</td>\n",
       "      <td>개포로 623</td>\n",
       "      <td>대청타워</td>\n",
       "      <td>31.91</td>\n",
       "      <td>19900</td>\n",
       "      <td>14</td>\n",
       "      <td>1997.0</td>\n",
       "      <td>매매</td>\n",
       "      <td>21.0</td>\n",
       "      <td>2018-01-04</td>\n",
       "      <td>623.628956</td>\n",
       "      <td>24.0</td>\n",
       "      <td>오피스텔</td>\n",
       "    </tr>\n",
       "    <tr>\n",
       "      <th>2</th>\n",
       "      <td>서울특별시 강남구 개포동 13-3</td>\n",
       "      <td>개포로 623</td>\n",
       "      <td>대청타워</td>\n",
       "      <td>32.44</td>\n",
       "      <td>20000</td>\n",
       "      <td>26</td>\n",
       "      <td>1997.0</td>\n",
       "      <td>매매</td>\n",
       "      <td>21.0</td>\n",
       "      <td>2018-01-08</td>\n",
       "      <td>616.522811</td>\n",
       "      <td>24.0</td>\n",
       "      <td>오피스텔</td>\n",
       "    </tr>\n",
       "    <tr>\n",
       "      <th>3</th>\n",
       "      <td>서울특별시 강남구 개포동 13-3</td>\n",
       "      <td>개포로 623</td>\n",
       "      <td>대청타워</td>\n",
       "      <td>32.44</td>\n",
       "      <td>20000</td>\n",
       "      <td>26</td>\n",
       "      <td>1997.0</td>\n",
       "      <td>매매</td>\n",
       "      <td>21.0</td>\n",
       "      <td>2018-01-18</td>\n",
       "      <td>616.522811</td>\n",
       "      <td>24.0</td>\n",
       "      <td>오피스텔</td>\n",
       "    </tr>\n",
       "    <tr>\n",
       "      <th>4</th>\n",
       "      <td>서울특별시 강남구 개포동 13-3</td>\n",
       "      <td>개포로 623</td>\n",
       "      <td>대청타워</td>\n",
       "      <td>32.44</td>\n",
       "      <td>21000</td>\n",
       "      <td>22</td>\n",
       "      <td>1997.0</td>\n",
       "      <td>매매</td>\n",
       "      <td>21.0</td>\n",
       "      <td>2018-01-20</td>\n",
       "      <td>647.348952</td>\n",
       "      <td>24.0</td>\n",
       "      <td>오피스텔</td>\n",
       "    </tr>\n",
       "  </tbody>\n",
       "</table>\n",
       "</div>"
      ],
      "text/plain": [
       "                 지번주소      도로명 건물(단지)명  전용면적(㎡)  거래금액(만원)   층    건축년도 거래구분  \\\n",
       "0  서울특별시 강남구 개포동 13-3  개포로 623    대청타워    31.91     18500  20  1997.0   매매   \n",
       "1  서울특별시 강남구 개포동 13-3  개포로 623    대청타워    31.91     19900  14  1997.0   매매   \n",
       "2  서울특별시 강남구 개포동 13-3  개포로 623    대청타워    32.44     20000  26  1997.0   매매   \n",
       "3  서울특별시 강남구 개포동 13-3  개포로 623    대청타워    32.44     20000  26  1997.0   매매   \n",
       "4  서울특별시 강남구 개포동 13-3  개포로 623    대청타워    32.44     21000  22  1997.0   매매   \n",
       "\n",
       "   계약날짜기준_건물연식       계약날짜    단가(만원/㎡)  건물연식 부동산유형  \n",
       "0         21.0 2018-01-02  579.755563  24.0  오피스텔  \n",
       "1         21.0 2018-01-04  623.628956  24.0  오피스텔  \n",
       "2         21.0 2018-01-08  616.522811  24.0  오피스텔  \n",
       "3         21.0 2018-01-18  616.522811  24.0  오피스텔  \n",
       "4         21.0 2018-01-20  647.348952  24.0  오피스텔  "
      ]
     },
     "execution_count": 20,
     "metadata": {},
     "output_type": "execute_result"
    }
   ],
   "source": [
    "officetel_trade_df = data_prep('오피스텔', '매매')\n",
    "officetel_lease_df = data_prep('오피스텔', '전월세')\n",
    "officetel_df = pd.concat([officetel_trade_df, officetel_lease_df]).reset_index(drop=True)\n",
    "del officetel_trade_df, officetel_lease_df\n",
    "officetel_df['부동산유형'] = '오피스텔'\n",
    "print(officetel_df.shape)\n",
    "officetel_df.head()"
   ]
  },
  {
   "cell_type": "code",
   "execution_count": 21,
   "metadata": {},
   "outputs": [
    {
     "name": "stdout",
     "output_type": "stream",
     "text": [
      "(1279117, 13)\n"
     ]
    },
    {
     "data": {
      "text/html": [
       "<div>\n",
       "<style scoped>\n",
       "    .dataframe tbody tr th:only-of-type {\n",
       "        vertical-align: middle;\n",
       "    }\n",
       "\n",
       "    .dataframe tbody tr th {\n",
       "        vertical-align: top;\n",
       "    }\n",
       "\n",
       "    .dataframe thead th {\n",
       "        text-align: right;\n",
       "    }\n",
       "</style>\n",
       "<table border=\"1\" class=\"dataframe\">\n",
       "  <thead>\n",
       "    <tr style=\"text-align: right;\">\n",
       "      <th></th>\n",
       "      <th>지번주소</th>\n",
       "      <th>도로명</th>\n",
       "      <th>건물(단지)명</th>\n",
       "      <th>전용면적(㎡)</th>\n",
       "      <th>거래금액(만원)</th>\n",
       "      <th>층</th>\n",
       "      <th>건축년도</th>\n",
       "      <th>거래구분</th>\n",
       "      <th>계약날짜기준_건물연식</th>\n",
       "      <th>계약날짜</th>\n",
       "      <th>단가(만원/㎡)</th>\n",
       "      <th>건물연식</th>\n",
       "      <th>부동산유형</th>\n",
       "    </tr>\n",
       "  </thead>\n",
       "  <tbody>\n",
       "    <tr>\n",
       "      <th>0</th>\n",
       "      <td>서울특별시 강남구 개포동 1163-4</td>\n",
       "      <td>논현로 10</td>\n",
       "      <td>(1163-4)</td>\n",
       "      <td>13.56</td>\n",
       "      <td>10000</td>\n",
       "      <td>5</td>\n",
       "      <td>2013.0</td>\n",
       "      <td>전세</td>\n",
       "      <td>5.0</td>\n",
       "      <td>2018-07-09</td>\n",
       "      <td>737.463127</td>\n",
       "      <td>8.0</td>\n",
       "      <td>연립다세대</td>\n",
       "    </tr>\n",
       "    <tr>\n",
       "      <th>1</th>\n",
       "      <td>서울특별시 강남구 개포동 1163-4</td>\n",
       "      <td>논현로 10</td>\n",
       "      <td>(1163-4)</td>\n",
       "      <td>21.88</td>\n",
       "      <td>15000</td>\n",
       "      <td>4</td>\n",
       "      <td>2013.0</td>\n",
       "      <td>전세</td>\n",
       "      <td>5.0</td>\n",
       "      <td>2018-04-03</td>\n",
       "      <td>685.557587</td>\n",
       "      <td>8.0</td>\n",
       "      <td>연립다세대</td>\n",
       "    </tr>\n",
       "    <tr>\n",
       "      <th>2</th>\n",
       "      <td>서울특별시 강남구 개포동 1163-4</td>\n",
       "      <td>논현로 10</td>\n",
       "      <td>(1163-4)</td>\n",
       "      <td>21.88</td>\n",
       "      <td>15000</td>\n",
       "      <td>3</td>\n",
       "      <td>2013.0</td>\n",
       "      <td>전세</td>\n",
       "      <td>6.0</td>\n",
       "      <td>2019-02-24</td>\n",
       "      <td>685.557587</td>\n",
       "      <td>8.0</td>\n",
       "      <td>연립다세대</td>\n",
       "    </tr>\n",
       "    <tr>\n",
       "      <th>3</th>\n",
       "      <td>서울특별시 강남구 개포동 1163-4</td>\n",
       "      <td>논현로 10</td>\n",
       "      <td>(1163-4)</td>\n",
       "      <td>21.88</td>\n",
       "      <td>16000</td>\n",
       "      <td>4</td>\n",
       "      <td>2013.0</td>\n",
       "      <td>전세</td>\n",
       "      <td>6.0</td>\n",
       "      <td>2019-03-16</td>\n",
       "      <td>731.261426</td>\n",
       "      <td>8.0</td>\n",
       "      <td>연립다세대</td>\n",
       "    </tr>\n",
       "    <tr>\n",
       "      <th>4</th>\n",
       "      <td>서울특별시 강남구 개포동 1163-4</td>\n",
       "      <td>논현로 10</td>\n",
       "      <td>(1163-4)</td>\n",
       "      <td>21.88</td>\n",
       "      <td>16000</td>\n",
       "      <td>3</td>\n",
       "      <td>2013.0</td>\n",
       "      <td>전세</td>\n",
       "      <td>6.0</td>\n",
       "      <td>2019-04-02</td>\n",
       "      <td>731.261426</td>\n",
       "      <td>8.0</td>\n",
       "      <td>연립다세대</td>\n",
       "    </tr>\n",
       "  </tbody>\n",
       "</table>\n",
       "</div>"
      ],
      "text/plain": [
       "                   지번주소     도로명   건물(단지)명  전용면적(㎡)  거래금액(만원)  층    건축년도 거래구분  \\\n",
       "0  서울특별시 강남구 개포동 1163-4  논현로 10  (1163-4)    13.56     10000  5  2013.0   전세   \n",
       "1  서울특별시 강남구 개포동 1163-4  논현로 10  (1163-4)    21.88     15000  4  2013.0   전세   \n",
       "2  서울특별시 강남구 개포동 1163-4  논현로 10  (1163-4)    21.88     15000  3  2013.0   전세   \n",
       "3  서울특별시 강남구 개포동 1163-4  논현로 10  (1163-4)    21.88     16000  4  2013.0   전세   \n",
       "4  서울특별시 강남구 개포동 1163-4  논현로 10  (1163-4)    21.88     16000  3  2013.0   전세   \n",
       "\n",
       "   계약날짜기준_건물연식       계약날짜    단가(만원/㎡)  건물연식  부동산유형  \n",
       "0          5.0 2018-07-09  737.463127   8.0  연립다세대  \n",
       "1          5.0 2018-04-03  685.557587   8.0  연립다세대  \n",
       "2          6.0 2019-02-24  685.557587   8.0  연립다세대  \n",
       "3          6.0 2019-03-16  731.261426   8.0  연립다세대  \n",
       "4          6.0 2019-04-02  731.261426   8.0  연립다세대  "
      ]
     },
     "execution_count": 21,
     "metadata": {},
     "output_type": "execute_result"
    }
   ],
   "source": [
    "house_df = pd.concat([apart_df, yunrip_df, officetel_df]).sort_values(['지번주소', '건축년도', '전용면적(㎡)', '계약날짜']).reset_index(drop=True)\n",
    "del apart_df, yunrip_df, officetel_df\n",
    "print(house_df.shape)\n",
    "house_df.head()"
   ]
  },
  {
   "cell_type": "code",
   "execution_count": 22,
   "metadata": {},
   "outputs": [
    {
     "data": {
      "text/plain": [
       "\"land_specs_df = pd.read_csv('./prepped_data/land_specs_ver_4.csv')\\nprint(land_specs_df.shape)\\nland_specs_df.head()\""
      ]
     },
     "execution_count": 22,
     "metadata": {},
     "output_type": "execute_result"
    }
   ],
   "source": [
    "'''land_specs_df = pd.read_csv('./prepped_data/land_specs_ver_4.csv')\n",
    "print(land_specs_df.shape)\n",
    "land_specs_df.head()'''"
   ]
  },
  {
   "cell_type": "code",
   "execution_count": 23,
   "metadata": {},
   "outputs": [
    {
     "data": {
      "text/plain": [
       "\"last_df = land_specs_df.drop_duplicates(subset=['지번주소'], keep='last').drop(columns=['년', '공시지가']).reset_index(drop=True)\\nprint(last_df.shape)\\nlast_df.head()\""
      ]
     },
     "execution_count": 23,
     "metadata": {},
     "output_type": "execute_result"
    }
   ],
   "source": [
    "'''last_df = land_specs_df.drop_duplicates(subset=['지번주소'], keep='last').drop(columns=['년', '공시지가']).reset_index(drop=True)\n",
    "print(last_df.shape)\n",
    "last_df.head()'''"
   ]
  },
  {
   "cell_type": "code",
   "execution_count": 24,
   "metadata": {},
   "outputs": [
    {
     "data": {
      "text/plain": [
       "\"house_merge_df = house_df.merge(last_df, on=['지번주소']).reset_index(drop=True)\\nprint(house_merge_df.shape)\""
      ]
     },
     "execution_count": 24,
     "metadata": {},
     "output_type": "execute_result"
    }
   ],
   "source": [
    "'''house_merge_df = house_df.merge(last_df, on=['지번주소']).reset_index(drop=True)\n",
    "print(house_merge_df.shape)'''"
   ]
  },
  {
   "cell_type": "code",
   "execution_count": 25,
   "metadata": {},
   "outputs": [],
   "source": [
    "house_df['구'] = house_df['지번주소'].apply(lambda x: x.split(' ')[1])\n",
    "house_df['동'] = house_df['지번주소'].apply(lambda x: x.split(' ')[2])\n",
    "#house_merge_df['구'] = house_merge_df['지번주소'].apply(lambda x: x.split(' ')[1])\n",
    "#house_merge_df['동'] = house_merge_df['지번주소'].apply(lambda x: x.split(' ')[2])"
   ]
  },
  {
   "cell_type": "code",
   "execution_count": 26,
   "metadata": {},
   "outputs": [],
   "source": [
    "house_df['일괄계약'] = 'N'"
   ]
  },
  {
   "cell_type": "code",
   "execution_count": 27,
   "metadata": {},
   "outputs": [],
   "source": [
    "#house_df = house_df.merge(last_df, on=['지번주소']).reset_index(drop=True)"
   ]
  },
  {
   "cell_type": "code",
   "execution_count": 28,
   "metadata": {},
   "outputs": [
    {
     "data": {
      "text/plain": [
       "'print(house_df.shape)\\nhouse_df.head()'"
      ]
     },
     "execution_count": 28,
     "metadata": {},
     "output_type": "execute_result"
    }
   ],
   "source": [
    "'''print(house_df.shape)\n",
    "house_df.head()'''"
   ]
  },
  {
   "cell_type": "code",
   "execution_count": 29,
   "metadata": {},
   "outputs": [],
   "source": [
    "def identify_bulk_contract(df):\n",
    "    df = df.copy()\n",
    "    \n",
    "    for addr in tqdm(df['지번주소'].unique()):\n",
    "        addr_df = df[df['지번주소'] == addr]\n",
    "        \n",
    "        for btyear in addr_df['건축년도'].unique():\n",
    "            btyear_df = addr_df[addr_df['건축년도'] == btyear]\n",
    "        \n",
    "            for contract_date in btyear_df['계약날짜'].unique():\n",
    "                contract_date_df = btyear_df[btyear_df['계약날짜'] == contract_date]\n",
    "\n",
    "                if contract_date_df.shape[0] >= 5:\n",
    "                    df.loc[contract_date_df.index, '일괄계약'] = 'Y'\n",
    "    \n",
    "    return df"
   ]
  },
  {
   "cell_type": "code",
   "execution_count": 30,
   "metadata": {},
   "outputs": [
    {
     "name": "stdout",
     "output_type": "stream",
     "text": [
      "(0, 16)\n"
     ]
    },
    {
     "data": {
      "text/html": [
       "<div>\n",
       "<style scoped>\n",
       "    .dataframe tbody tr th:only-of-type {\n",
       "        vertical-align: middle;\n",
       "    }\n",
       "\n",
       "    .dataframe tbody tr th {\n",
       "        vertical-align: top;\n",
       "    }\n",
       "\n",
       "    .dataframe thead th {\n",
       "        text-align: right;\n",
       "    }\n",
       "</style>\n",
       "<table border=\"1\" class=\"dataframe\">\n",
       "  <thead>\n",
       "    <tr style=\"text-align: right;\">\n",
       "      <th></th>\n",
       "      <th>지번주소</th>\n",
       "      <th>도로명</th>\n",
       "      <th>건물(단지)명</th>\n",
       "      <th>전용면적(㎡)</th>\n",
       "      <th>거래금액(만원)</th>\n",
       "      <th>층</th>\n",
       "      <th>건축년도</th>\n",
       "      <th>거래구분</th>\n",
       "      <th>계약날짜기준_건물연식</th>\n",
       "      <th>계약날짜</th>\n",
       "      <th>단가(만원/㎡)</th>\n",
       "      <th>건물연식</th>\n",
       "      <th>부동산유형</th>\n",
       "      <th>구</th>\n",
       "      <th>동</th>\n",
       "      <th>일괄계약</th>\n",
       "    </tr>\n",
       "  </thead>\n",
       "  <tbody>\n",
       "  </tbody>\n",
       "</table>\n",
       "</div>"
      ],
      "text/plain": [
       "Empty DataFrame\n",
       "Columns: [지번주소, 도로명, 건물(단지)명, 전용면적(㎡), 거래금액(만원), 층, 건축년도, 거래구분, 계약날짜기준_건물연식, 계약날짜, 단가(만원/㎡), 건물연식, 부동산유형, 구, 동, 일괄계약]\n",
       "Index: []"
      ]
     },
     "execution_count": 30,
     "metadata": {},
     "output_type": "execute_result"
    }
   ],
   "source": [
    "target_1_12_df = house_df[\n",
    "    (house_df['지번주소'].str.contains(target_gu + ' ' + target_dong))\n",
    "    #&(house_df['동'] == target_dong)\n",
    "    &(house_df['계약날짜'] >= (date_today - pd.DateOffset(months=6)))\n",
    "    &(house_df['건물연식'] <= target_building_age)\n",
    "    #&(house_merge_df['용도지역명1'].str.contains(target_purpose))\n",
    "]\n",
    "print(target_1_12_df.shape)\n",
    "target_1_12_df.head()"
   ]
  },
  {
   "cell_type": "code",
   "execution_count": 31,
   "metadata": {},
   "outputs": [
    {
     "name": "stdout",
     "output_type": "stream",
     "text": [
      "(0, 16)\n"
     ]
    },
    {
     "data": {
      "text/html": [
       "<div>\n",
       "<style scoped>\n",
       "    .dataframe tbody tr th:only-of-type {\n",
       "        vertical-align: middle;\n",
       "    }\n",
       "\n",
       "    .dataframe tbody tr th {\n",
       "        vertical-align: top;\n",
       "    }\n",
       "\n",
       "    .dataframe thead th {\n",
       "        text-align: right;\n",
       "    }\n",
       "</style>\n",
       "<table border=\"1\" class=\"dataframe\">\n",
       "  <thead>\n",
       "    <tr style=\"text-align: right;\">\n",
       "      <th></th>\n",
       "      <th>지번주소</th>\n",
       "      <th>도로명</th>\n",
       "      <th>건물(단지)명</th>\n",
       "      <th>전용면적(㎡)</th>\n",
       "      <th>거래금액(만원)</th>\n",
       "      <th>층</th>\n",
       "      <th>건축년도</th>\n",
       "      <th>거래구분</th>\n",
       "      <th>계약날짜기준_건물연식</th>\n",
       "      <th>계약날짜</th>\n",
       "      <th>단가(만원/㎡)</th>\n",
       "      <th>건물연식</th>\n",
       "      <th>부동산유형</th>\n",
       "      <th>구</th>\n",
       "      <th>동</th>\n",
       "      <th>일괄계약</th>\n",
       "    </tr>\n",
       "  </thead>\n",
       "  <tbody>\n",
       "  </tbody>\n",
       "</table>\n",
       "</div>"
      ],
      "text/plain": [
       "Empty DataFrame\n",
       "Columns: [지번주소, 도로명, 건물(단지)명, 전용면적(㎡), 거래금액(만원), 층, 건축년도, 거래구분, 계약날짜기준_건물연식, 계약날짜, 단가(만원/㎡), 건물연식, 부동산유형, 구, 동, 일괄계약]\n",
       "Index: []"
      ]
     },
     "execution_count": 31,
     "metadata": {},
     "output_type": "execute_result"
    }
   ],
   "source": [
    "target_2_24_df = house_df[\n",
    "    (house_df['지번주소'].str.contains(target_gu + ' ' + target_dong))\n",
    "    #&(house_df['동'] == target_dong)\n",
    "    &(house_df['계약날짜'] >= (date_today - pd.DateOffset(months=12)))\n",
    "    &(house_df['건물연식'] <= target_building_age)\n",
    "    #&(house_merge_df['용도지역명1'].str.contains(target_purpose))\n",
    "]\n",
    "print(target_2_24_df.shape)\n",
    "target_2_24_df.head()"
   ]
  },
  {
   "cell_type": "code",
   "execution_count": 32,
   "metadata": {},
   "outputs": [
    {
     "name": "stdout",
     "output_type": "stream",
     "text": [
      "(0, 16)\n"
     ]
    },
    {
     "data": {
      "text/html": [
       "<div>\n",
       "<style scoped>\n",
       "    .dataframe tbody tr th:only-of-type {\n",
       "        vertical-align: middle;\n",
       "    }\n",
       "\n",
       "    .dataframe tbody tr th {\n",
       "        vertical-align: top;\n",
       "    }\n",
       "\n",
       "    .dataframe thead th {\n",
       "        text-align: right;\n",
       "    }\n",
       "</style>\n",
       "<table border=\"1\" class=\"dataframe\">\n",
       "  <thead>\n",
       "    <tr style=\"text-align: right;\">\n",
       "      <th></th>\n",
       "      <th>지번주소</th>\n",
       "      <th>도로명</th>\n",
       "      <th>건물(단지)명</th>\n",
       "      <th>전용면적(㎡)</th>\n",
       "      <th>거래금액(만원)</th>\n",
       "      <th>층</th>\n",
       "      <th>건축년도</th>\n",
       "      <th>거래구분</th>\n",
       "      <th>계약날짜기준_건물연식</th>\n",
       "      <th>계약날짜</th>\n",
       "      <th>단가(만원/㎡)</th>\n",
       "      <th>건물연식</th>\n",
       "      <th>부동산유형</th>\n",
       "      <th>구</th>\n",
       "      <th>동</th>\n",
       "      <th>일괄계약</th>\n",
       "    </tr>\n",
       "  </thead>\n",
       "  <tbody>\n",
       "  </tbody>\n",
       "</table>\n",
       "</div>"
      ],
      "text/plain": [
       "Empty DataFrame\n",
       "Columns: [지번주소, 도로명, 건물(단지)명, 전용면적(㎡), 거래금액(만원), 층, 건축년도, 거래구분, 계약날짜기준_건물연식, 계약날짜, 단가(만원/㎡), 건물연식, 부동산유형, 구, 동, 일괄계약]\n",
       "Index: []"
      ]
     },
     "execution_count": 32,
     "metadata": {},
     "output_type": "execute_result"
    }
   ],
   "source": [
    "target_3_36_df = house_df[\n",
    "    (house_df['지번주소'].str.contains(target_gu + ' ' + target_dong))\n",
    "    #&(house_df['동'] == target_dong)\n",
    "    &(house_df['계약날짜'] >= (date_today - pd.DateOffset(months=24)))\n",
    "    &(house_df['건물연식'] <= target_building_age)\n",
    "    #&(house_merge_df['용도지역명1'].str.contains(target_purpose))\n",
    "]\n",
    "print(target_3_36_df.shape)\n",
    "target_3_36_df.head()"
   ]
  },
  {
   "cell_type": "code",
   "execution_count": 33,
   "metadata": {},
   "outputs": [
    {
     "name": "stdout",
     "output_type": "stream",
     "text": [
      "(0, 16)\n"
     ]
    },
    {
     "data": {
      "text/html": [
       "<div>\n",
       "<style scoped>\n",
       "    .dataframe tbody tr th:only-of-type {\n",
       "        vertical-align: middle;\n",
       "    }\n",
       "\n",
       "    .dataframe tbody tr th {\n",
       "        vertical-align: top;\n",
       "    }\n",
       "\n",
       "    .dataframe thead th {\n",
       "        text-align: right;\n",
       "    }\n",
       "</style>\n",
       "<table border=\"1\" class=\"dataframe\">\n",
       "  <thead>\n",
       "    <tr style=\"text-align: right;\">\n",
       "      <th></th>\n",
       "      <th>지번주소</th>\n",
       "      <th>도로명</th>\n",
       "      <th>건물(단지)명</th>\n",
       "      <th>전용면적(㎡)</th>\n",
       "      <th>거래금액(만원)</th>\n",
       "      <th>층</th>\n",
       "      <th>건축년도</th>\n",
       "      <th>거래구분</th>\n",
       "      <th>계약날짜기준_건물연식</th>\n",
       "      <th>계약날짜</th>\n",
       "      <th>단가(만원/㎡)</th>\n",
       "      <th>건물연식</th>\n",
       "      <th>부동산유형</th>\n",
       "      <th>구</th>\n",
       "      <th>동</th>\n",
       "      <th>일괄계약</th>\n",
       "    </tr>\n",
       "  </thead>\n",
       "  <tbody>\n",
       "  </tbody>\n",
       "</table>\n",
       "</div>"
      ],
      "text/plain": [
       "Empty DataFrame\n",
       "Columns: [지번주소, 도로명, 건물(단지)명, 전용면적(㎡), 거래금액(만원), 층, 건축년도, 거래구분, 계약날짜기준_건물연식, 계약날짜, 단가(만원/㎡), 건물연식, 부동산유형, 구, 동, 일괄계약]\n",
       "Index: []"
      ]
     },
     "execution_count": 33,
     "metadata": {},
     "output_type": "execute_result"
    }
   ],
   "source": [
    "target_5_60_df = house_df[\n",
    "    (house_df['지번주소'].str.contains(target_gu + ' ' + target_dong))\n",
    "    #&(house_df['동'] == target_dong)\n",
    "    &(house_df['계약날짜'] >= (date_today - pd.DateOffset(months=36)))\n",
    "    &(house_df['건물연식'] <= target_building_age)\n",
    "    #&(house_merge_df['용도지역명1'].str.contains(target_purpose))\n",
    "]\n",
    "print(target_5_60_df.shape)\n",
    "target_5_60_df.head()"
   ]
  },
  {
   "cell_type": "code",
   "execution_count": 34,
   "metadata": {},
   "outputs": [
    {
     "name": "stderr",
     "output_type": "stream",
     "text": [
      "0it [00:00, ?it/s]\n"
     ]
    }
   ],
   "source": [
    "target_1_12_df = identify_bulk_contract(target_1_12_df)"
   ]
  },
  {
   "cell_type": "code",
   "execution_count": 35,
   "metadata": {},
   "outputs": [
    {
     "name": "stderr",
     "output_type": "stream",
     "text": [
      "0it [00:00, ?it/s]\n"
     ]
    }
   ],
   "source": [
    "target_2_24_df = identify_bulk_contract(target_2_24_df)"
   ]
  },
  {
   "cell_type": "code",
   "execution_count": 36,
   "metadata": {},
   "outputs": [
    {
     "name": "stderr",
     "output_type": "stream",
     "text": [
      "0it [00:00, ?it/s]\n"
     ]
    }
   ],
   "source": [
    "target_3_36_df = identify_bulk_contract(target_3_36_df)"
   ]
  },
  {
   "cell_type": "code",
   "execution_count": 37,
   "metadata": {},
   "outputs": [
    {
     "name": "stderr",
     "output_type": "stream",
     "text": [
      "0it [00:00, ?it/s]\n"
     ]
    }
   ],
   "source": [
    "target_5_60_df = identify_bulk_contract(target_5_60_df)"
   ]
  },
  {
   "cell_type": "code",
   "execution_count": 38,
   "metadata": {},
   "outputs": [],
   "source": [
    "sales_idx_basedir = './한국부동산원/실거래가격지수/'\n",
    "filenames = [f for f in os.listdir(sales_idx_basedir) if '연립다세대' in f]\n",
    "\n",
    "sales_idx_df = pd.read_excel(sales_idx_basedir + filenames[0], header=[10, 11])\n",
    "\n",
    "sales_idx_cols_list = []\n",
    "for i in range(sales_idx_df.shape[1]):\n",
    "    if i == 0:\n",
    "        sales_idx_cols_list.append(sales_idx_df.columns[i][0])\n",
    "    else:\n",
    "        sales_idx_cols_list.append(sales_idx_df.columns[i][0] + '_' + sales_idx_df.columns[i][1])\n",
    "\n",
    "sales_idx_df.columns = sales_idx_cols_list"
   ]
  },
  {
   "cell_type": "code",
   "execution_count": 39,
   "metadata": {},
   "outputs": [],
   "source": [
    "def get_sales_idx(x):\n",
    "    # x is a pandas timestamp\n",
    "    \n",
    "    df = sales_idx_df.copy()\n",
    "    \n",
    "    if pd.isna(x) == True:\n",
    "        return x\n",
    "    else:\n",
    "        year = str(x.year)\n",
    "        month = str(x.month)\n",
    "        if len(month) == 1:\n",
    "            month = '0'+month\n",
    "        \n",
    "        idx = df[year+'년 '+month+'월_지수'].iloc[0]\n",
    "        \n",
    "        return idx"
   ]
  },
  {
   "cell_type": "code",
   "execution_count": 40,
   "metadata": {},
   "outputs": [],
   "source": [
    "def get_index_applied_prices(df):\n",
    "    df = df.copy()\n",
    "    \n",
    "    last_idx = sales_idx_df.iloc[0,-2]\n",
    "    \n",
    "    last_date = sales_idx_df.columns[-1].split('_')[0]\n",
    "    \n",
    "    last_date = last_date.split(' ')[0].replace('년','') + '-' + last_date.split(' ')[1].replace('월','') + '-01'\n",
    "    \n",
    "    target_upper_limit_df = df[df['계약날짜'] < pd.to_datetime(last_date)]\n",
    "    target_upper_limit_df['계약날짜_실거래지수'] = target_upper_limit_df['계약날짜'].apply(get_sales_idx)\n",
    "    target_upper_limit_df['지수적용단가'] = target_upper_limit_df['단가(만원/㎡)'] / target_upper_limit_df['계약날짜_실거래지수'] * last_idx\n",
    "    df['지수적용단가'] = df['단가(만원/㎡)']\n",
    "    df.loc[target_upper_limit_df.index, '지수적용단가'] = target_upper_limit_df['지수적용단가']\n",
    "    df['지수적용날짜'] = df['계약날짜']\n",
    "    df.loc[target_upper_limit_df.index, '지수적용날짜'] = pd.to_datetime(last_date[:-2] + '01')\n",
    "    \n",
    "    return df"
   ]
  },
  {
   "cell_type": "code",
   "execution_count": 41,
   "metadata": {},
   "outputs": [
    {
     "ename": "TypeError",
     "evalue": "cannot perform __rtruediv__ with this index type: DatetimeArray",
     "output_type": "error",
     "traceback": [
      "\u001b[1;31m---------------------------------------------------------------------------\u001b[0m",
      "\u001b[1;31mTypeError\u001b[0m                                 Traceback (most recent call last)",
      "\u001b[1;32m<ipython-input-41-2a08232da783>\u001b[0m in \u001b[0;36m<module>\u001b[1;34m\u001b[0m\n\u001b[1;32m----> 1\u001b[1;33m \u001b[0mtarget_1_12_df\u001b[0m \u001b[1;33m=\u001b[0m \u001b[0mget_index_applied_prices\u001b[0m\u001b[1;33m(\u001b[0m\u001b[0mtarget_1_12_df\u001b[0m\u001b[1;33m)\u001b[0m\u001b[1;33m\u001b[0m\u001b[1;33m\u001b[0m\u001b[0m\n\u001b[0m\u001b[0;32m      2\u001b[0m \u001b[0mprint\u001b[0m\u001b[1;33m(\u001b[0m\u001b[0mtarget_1_12_df\u001b[0m\u001b[1;33m.\u001b[0m\u001b[0mshape\u001b[0m\u001b[1;33m)\u001b[0m\u001b[1;33m\u001b[0m\u001b[1;33m\u001b[0m\u001b[0m\n\u001b[0;32m      3\u001b[0m \u001b[0mtarget_1_12_df\u001b[0m\u001b[1;33m.\u001b[0m\u001b[0mhead\u001b[0m\u001b[1;33m(\u001b[0m\u001b[1;33m)\u001b[0m\u001b[1;33m\u001b[0m\u001b[1;33m\u001b[0m\u001b[0m\n",
      "\u001b[1;32m<ipython-input-40-874b1d989819>\u001b[0m in \u001b[0;36mget_index_applied_prices\u001b[1;34m(df)\u001b[0m\n\u001b[0;32m     10\u001b[0m     \u001b[0mtarget_upper_limit_df\u001b[0m \u001b[1;33m=\u001b[0m \u001b[0mdf\u001b[0m\u001b[1;33m[\u001b[0m\u001b[0mdf\u001b[0m\u001b[1;33m[\u001b[0m\u001b[1;34m'계약날짜'\u001b[0m\u001b[1;33m]\u001b[0m \u001b[1;33m<\u001b[0m \u001b[0mpd\u001b[0m\u001b[1;33m.\u001b[0m\u001b[0mto_datetime\u001b[0m\u001b[1;33m(\u001b[0m\u001b[0mlast_date\u001b[0m\u001b[1;33m)\u001b[0m\u001b[1;33m]\u001b[0m\u001b[1;33m\u001b[0m\u001b[1;33m\u001b[0m\u001b[0m\n\u001b[0;32m     11\u001b[0m     \u001b[0mtarget_upper_limit_df\u001b[0m\u001b[1;33m[\u001b[0m\u001b[1;34m'계약날짜_실거래지수'\u001b[0m\u001b[1;33m]\u001b[0m \u001b[1;33m=\u001b[0m \u001b[0mtarget_upper_limit_df\u001b[0m\u001b[1;33m[\u001b[0m\u001b[1;34m'계약날짜'\u001b[0m\u001b[1;33m]\u001b[0m\u001b[1;33m.\u001b[0m\u001b[0mapply\u001b[0m\u001b[1;33m(\u001b[0m\u001b[0mget_sales_idx\u001b[0m\u001b[1;33m)\u001b[0m\u001b[1;33m\u001b[0m\u001b[1;33m\u001b[0m\u001b[0m\n\u001b[1;32m---> 12\u001b[1;33m     \u001b[0mtarget_upper_limit_df\u001b[0m\u001b[1;33m[\u001b[0m\u001b[1;34m'지수적용단가'\u001b[0m\u001b[1;33m]\u001b[0m \u001b[1;33m=\u001b[0m \u001b[0mtarget_upper_limit_df\u001b[0m\u001b[1;33m[\u001b[0m\u001b[1;34m'단가(만원/㎡)'\u001b[0m\u001b[1;33m]\u001b[0m \u001b[1;33m/\u001b[0m \u001b[0mtarget_upper_limit_df\u001b[0m\u001b[1;33m[\u001b[0m\u001b[1;34m'계약날짜_실거래지수'\u001b[0m\u001b[1;33m]\u001b[0m \u001b[1;33m*\u001b[0m \u001b[0mlast_idx\u001b[0m\u001b[1;33m\u001b[0m\u001b[1;33m\u001b[0m\u001b[0m\n\u001b[0m\u001b[0;32m     13\u001b[0m     \u001b[0mdf\u001b[0m\u001b[1;33m[\u001b[0m\u001b[1;34m'지수적용단가'\u001b[0m\u001b[1;33m]\u001b[0m \u001b[1;33m=\u001b[0m \u001b[0mdf\u001b[0m\u001b[1;33m[\u001b[0m\u001b[1;34m'단가(만원/㎡)'\u001b[0m\u001b[1;33m]\u001b[0m\u001b[1;33m\u001b[0m\u001b[1;33m\u001b[0m\u001b[0m\n\u001b[0;32m     14\u001b[0m     \u001b[0mdf\u001b[0m\u001b[1;33m.\u001b[0m\u001b[0mloc\u001b[0m\u001b[1;33m[\u001b[0m\u001b[0mtarget_upper_limit_df\u001b[0m\u001b[1;33m.\u001b[0m\u001b[0mindex\u001b[0m\u001b[1;33m,\u001b[0m \u001b[1;34m'지수적용단가'\u001b[0m\u001b[1;33m]\u001b[0m \u001b[1;33m=\u001b[0m \u001b[0mtarget_upper_limit_df\u001b[0m\u001b[1;33m[\u001b[0m\u001b[1;34m'지수적용단가'\u001b[0m\u001b[1;33m]\u001b[0m\u001b[1;33m\u001b[0m\u001b[1;33m\u001b[0m\u001b[0m\n",
      "\u001b[1;32mc:\\users\\max6296\\ml\\lib\\site-packages\\pandas\\core\\ops\\common.py\u001b[0m in \u001b[0;36mnew_method\u001b[1;34m(self, other)\u001b[0m\n\u001b[0;32m     63\u001b[0m         \u001b[0mother\u001b[0m \u001b[1;33m=\u001b[0m \u001b[0mitem_from_zerodim\u001b[0m\u001b[1;33m(\u001b[0m\u001b[0mother\u001b[0m\u001b[1;33m)\u001b[0m\u001b[1;33m\u001b[0m\u001b[1;33m\u001b[0m\u001b[0m\n\u001b[0;32m     64\u001b[0m \u001b[1;33m\u001b[0m\u001b[0m\n\u001b[1;32m---> 65\u001b[1;33m         \u001b[1;32mreturn\u001b[0m \u001b[0mmethod\u001b[0m\u001b[1;33m(\u001b[0m\u001b[0mself\u001b[0m\u001b[1;33m,\u001b[0m \u001b[0mother\u001b[0m\u001b[1;33m)\u001b[0m\u001b[1;33m\u001b[0m\u001b[1;33m\u001b[0m\u001b[0m\n\u001b[0m\u001b[0;32m     66\u001b[0m \u001b[1;33m\u001b[0m\u001b[0m\n\u001b[0;32m     67\u001b[0m     \u001b[1;32mreturn\u001b[0m \u001b[0mnew_method\u001b[0m\u001b[1;33m\u001b[0m\u001b[1;33m\u001b[0m\u001b[0m\n",
      "\u001b[1;32mc:\\users\\max6296\\ml\\lib\\site-packages\\pandas\\core\\arraylike.py\u001b[0m in \u001b[0;36m__truediv__\u001b[1;34m(self, other)\u001b[0m\n\u001b[0;32m    111\u001b[0m     \u001b[1;33m@\u001b[0m\u001b[0munpack_zerodim_and_defer\u001b[0m\u001b[1;33m(\u001b[0m\u001b[1;34m\"__truediv__\"\u001b[0m\u001b[1;33m)\u001b[0m\u001b[1;33m\u001b[0m\u001b[1;33m\u001b[0m\u001b[0m\n\u001b[0;32m    112\u001b[0m     \u001b[1;32mdef\u001b[0m \u001b[0m__truediv__\u001b[0m\u001b[1;33m(\u001b[0m\u001b[0mself\u001b[0m\u001b[1;33m,\u001b[0m \u001b[0mother\u001b[0m\u001b[1;33m)\u001b[0m\u001b[1;33m:\u001b[0m\u001b[1;33m\u001b[0m\u001b[1;33m\u001b[0m\u001b[0m\n\u001b[1;32m--> 113\u001b[1;33m         \u001b[1;32mreturn\u001b[0m \u001b[0mself\u001b[0m\u001b[1;33m.\u001b[0m\u001b[0m_arith_method\u001b[0m\u001b[1;33m(\u001b[0m\u001b[0mother\u001b[0m\u001b[1;33m,\u001b[0m \u001b[0moperator\u001b[0m\u001b[1;33m.\u001b[0m\u001b[0mtruediv\u001b[0m\u001b[1;33m)\u001b[0m\u001b[1;33m\u001b[0m\u001b[1;33m\u001b[0m\u001b[0m\n\u001b[0m\u001b[0;32m    114\u001b[0m \u001b[1;33m\u001b[0m\u001b[0m\n\u001b[0;32m    115\u001b[0m     \u001b[1;33m@\u001b[0m\u001b[0munpack_zerodim_and_defer\u001b[0m\u001b[1;33m(\u001b[0m\u001b[1;34m\"__rtruediv__\"\u001b[0m\u001b[1;33m)\u001b[0m\u001b[1;33m\u001b[0m\u001b[1;33m\u001b[0m\u001b[0m\n",
      "\u001b[1;32mc:\\users\\max6296\\ml\\lib\\site-packages\\pandas\\core\\series.py\u001b[0m in \u001b[0;36m_arith_method\u001b[1;34m(self, other, op)\u001b[0m\n\u001b[0;32m   4996\u001b[0m         \u001b[0mlvalues\u001b[0m \u001b[1;33m=\u001b[0m \u001b[0mextract_array\u001b[0m\u001b[1;33m(\u001b[0m\u001b[0mself\u001b[0m\u001b[1;33m,\u001b[0m \u001b[0mextract_numpy\u001b[0m\u001b[1;33m=\u001b[0m\u001b[1;32mTrue\u001b[0m\u001b[1;33m)\u001b[0m\u001b[1;33m\u001b[0m\u001b[1;33m\u001b[0m\u001b[0m\n\u001b[0;32m   4997\u001b[0m         \u001b[0mrvalues\u001b[0m \u001b[1;33m=\u001b[0m \u001b[0mextract_array\u001b[0m\u001b[1;33m(\u001b[0m\u001b[0mother\u001b[0m\u001b[1;33m,\u001b[0m \u001b[0mextract_numpy\u001b[0m\u001b[1;33m=\u001b[0m\u001b[1;32mTrue\u001b[0m\u001b[1;33m)\u001b[0m\u001b[1;33m\u001b[0m\u001b[1;33m\u001b[0m\u001b[0m\n\u001b[1;32m-> 4998\u001b[1;33m         \u001b[0mresult\u001b[0m \u001b[1;33m=\u001b[0m \u001b[0mops\u001b[0m\u001b[1;33m.\u001b[0m\u001b[0marithmetic_op\u001b[0m\u001b[1;33m(\u001b[0m\u001b[0mlvalues\u001b[0m\u001b[1;33m,\u001b[0m \u001b[0mrvalues\u001b[0m\u001b[1;33m,\u001b[0m \u001b[0mop\u001b[0m\u001b[1;33m)\u001b[0m\u001b[1;33m\u001b[0m\u001b[1;33m\u001b[0m\u001b[0m\n\u001b[0m\u001b[0;32m   4999\u001b[0m \u001b[1;33m\u001b[0m\u001b[0m\n\u001b[0;32m   5000\u001b[0m         \u001b[1;32mreturn\u001b[0m \u001b[0mself\u001b[0m\u001b[1;33m.\u001b[0m\u001b[0m_construct_result\u001b[0m\u001b[1;33m(\u001b[0m\u001b[0mresult\u001b[0m\u001b[1;33m,\u001b[0m \u001b[0mname\u001b[0m\u001b[1;33m=\u001b[0m\u001b[0mres_name\u001b[0m\u001b[1;33m)\u001b[0m\u001b[1;33m\u001b[0m\u001b[1;33m\u001b[0m\u001b[0m\n",
      "\u001b[1;32mc:\\users\\max6296\\ml\\lib\\site-packages\\pandas\\core\\ops\\array_ops.py\u001b[0m in \u001b[0;36marithmetic_op\u001b[1;34m(left, right, op)\u001b[0m\n\u001b[0;32m    183\u001b[0m     \u001b[1;32mif\u001b[0m \u001b[0mshould_extension_dispatch\u001b[0m\u001b[1;33m(\u001b[0m\u001b[0mlvalues\u001b[0m\u001b[1;33m,\u001b[0m \u001b[0mrvalues\u001b[0m\u001b[1;33m)\u001b[0m \u001b[1;32mor\u001b[0m \u001b[0misinstance\u001b[0m\u001b[1;33m(\u001b[0m\u001b[0mrvalues\u001b[0m\u001b[1;33m,\u001b[0m \u001b[0mTimedelta\u001b[0m\u001b[1;33m)\u001b[0m\u001b[1;33m:\u001b[0m\u001b[1;33m\u001b[0m\u001b[1;33m\u001b[0m\u001b[0m\n\u001b[0;32m    184\u001b[0m         \u001b[1;31m# Timedelta is included because numexpr will fail on it, see GH#31457\u001b[0m\u001b[1;33m\u001b[0m\u001b[1;33m\u001b[0m\u001b[1;33m\u001b[0m\u001b[0m\n\u001b[1;32m--> 185\u001b[1;33m         \u001b[0mres_values\u001b[0m \u001b[1;33m=\u001b[0m \u001b[0mop\u001b[0m\u001b[1;33m(\u001b[0m\u001b[0mlvalues\u001b[0m\u001b[1;33m,\u001b[0m \u001b[0mrvalues\u001b[0m\u001b[1;33m)\u001b[0m\u001b[1;33m\u001b[0m\u001b[1;33m\u001b[0m\u001b[0m\n\u001b[0m\u001b[0;32m    186\u001b[0m \u001b[1;33m\u001b[0m\u001b[0m\n\u001b[0;32m    187\u001b[0m     \u001b[1;32melse\u001b[0m\u001b[1;33m:\u001b[0m\u001b[1;33m\u001b[0m\u001b[1;33m\u001b[0m\u001b[0m\n",
      "\u001b[1;32mc:\\users\\max6296\\ml\\lib\\site-packages\\pandas\\core\\ops\\invalid.py\u001b[0m in \u001b[0;36minvalid_op\u001b[1;34m(self, other)\u001b[0m\n\u001b[0;32m     51\u001b[0m     \u001b[1;32mdef\u001b[0m \u001b[0minvalid_op\u001b[0m\u001b[1;33m(\u001b[0m\u001b[0mself\u001b[0m\u001b[1;33m,\u001b[0m \u001b[0mother\u001b[0m\u001b[1;33m=\u001b[0m\u001b[1;32mNone\u001b[0m\u001b[1;33m)\u001b[0m\u001b[1;33m:\u001b[0m\u001b[1;33m\u001b[0m\u001b[1;33m\u001b[0m\u001b[0m\n\u001b[0;32m     52\u001b[0m         \u001b[0mtyp\u001b[0m \u001b[1;33m=\u001b[0m \u001b[0mtype\u001b[0m\u001b[1;33m(\u001b[0m\u001b[0mself\u001b[0m\u001b[1;33m)\u001b[0m\u001b[1;33m.\u001b[0m\u001b[0m__name__\u001b[0m\u001b[1;33m\u001b[0m\u001b[1;33m\u001b[0m\u001b[0m\n\u001b[1;32m---> 53\u001b[1;33m         \u001b[1;32mraise\u001b[0m \u001b[0mTypeError\u001b[0m\u001b[1;33m(\u001b[0m\u001b[1;34mf\"cannot perform {name} with this index type: {typ}\"\u001b[0m\u001b[1;33m)\u001b[0m\u001b[1;33m\u001b[0m\u001b[1;33m\u001b[0m\u001b[0m\n\u001b[0m\u001b[0;32m     54\u001b[0m \u001b[1;33m\u001b[0m\u001b[0m\n\u001b[0;32m     55\u001b[0m     \u001b[0minvalid_op\u001b[0m\u001b[1;33m.\u001b[0m\u001b[0m__name__\u001b[0m \u001b[1;33m=\u001b[0m \u001b[0mname\u001b[0m\u001b[1;33m\u001b[0m\u001b[1;33m\u001b[0m\u001b[0m\n",
      "\u001b[1;31mTypeError\u001b[0m: cannot perform __rtruediv__ with this index type: DatetimeArray"
     ]
    }
   ],
   "source": [
    "target_1_12_df = get_index_applied_prices(target_1_12_df)\n",
    "print(target_1_12_df.shape)\n",
    "target_1_12_df.head()"
   ]
  },
  {
   "cell_type": "code",
   "execution_count": null,
   "metadata": {},
   "outputs": [],
   "source": [
    "target_2_24_df = get_index_applied_prices(target_2_24_df)\n",
    "print(target_2_24_df.shape)\n",
    "target_2_24_df.head()"
   ]
  },
  {
   "cell_type": "code",
   "execution_count": null,
   "metadata": {},
   "outputs": [],
   "source": [
    "target_3_36_df = get_index_applied_prices(target_3_36_df)\n",
    "print(target_3_36_df.shape)\n",
    "target_3_36_df.head()"
   ]
  },
  {
   "cell_type": "code",
   "execution_count": null,
   "metadata": {},
   "outputs": [],
   "source": [
    "target_5_60_df = get_index_applied_prices(target_5_60_df)\n",
    "print(target_5_60_df.shape)\n",
    "target_5_60_df.head()"
   ]
  },
  {
   "cell_type": "code",
   "execution_count": null,
   "metadata": {},
   "outputs": [],
   "source": [
    "target_1_12_df = target_1_12_df.sort_values(['지번주소', '건축년도', '부동산유형', '거래구분', '계약날짜', '전용면적(㎡)']).reset_index(drop=True)\n",
    "target_1_12_df1 = target_1_12_df[['지번주소', '건물(단지)명', '건물연식', '층', '거래구분', '전용면적(㎡)', '계약날짜', '거래금액(만원)', '단가(만원/㎡)', '지수적용날짜', '지수적용단가', '부동산유형', '일괄계약']]\n",
    "target_1_12_df1.to_excel('./국토교통부_실거래가_공개시스템/집값분석/{}_{}_연립다세대_오피스텔_{}/실거래가_건물연식{}년_계약최근6개월.xlsx'.format(target_gu, target_dong, date_today_record, target_building_age), index=False)"
   ]
  },
  {
   "cell_type": "code",
   "execution_count": null,
   "metadata": {},
   "outputs": [],
   "source": [
    "target_2_24_df = target_2_24_df.sort_values(['지번주소', '건축년도', '부동산유형', '거래구분', '계약날짜', '전용면적(㎡)']).reset_index(drop=True)\n",
    "target_2_24_df1 = target_2_24_df[['지번주소', '건물(단지)명', '건물연식', '층', '거래구분', '전용면적(㎡)', '계약날짜', '거래금액(만원)', '단가(만원/㎡)', '지수적용날짜', '지수적용단가', '부동산유형', '일괄계약']]\n",
    "target_2_24_df1.to_excel('./국토교통부_실거래가_공개시스템/집값분석/{}_{}_연립다세대_오피스텔_{}/실거래가_건물연식{}년_계약최근12개월.xlsx'.format(target_gu, target_dong, date_today_record, target_building_age), index=False)"
   ]
  },
  {
   "cell_type": "code",
   "execution_count": null,
   "metadata": {},
   "outputs": [],
   "source": [
    "target_3_36_df = target_3_36_df.sort_values(['지번주소', '건축년도', '부동산유형', '거래구분', '계약날짜', '전용면적(㎡)']).reset_index(drop=True)\n",
    "target_3_36_df1 = target_3_36_df[['지번주소', '건물(단지)명', '건물연식', '층', '거래구분', '전용면적(㎡)', '계약날짜', '거래금액(만원)', '단가(만원/㎡)', '지수적용날짜', '지수적용단가', '부동산유형', '일괄계약']]\n",
    "target_3_36_df1.to_excel('./국토교통부_실거래가_공개시스템/집값분석/{}_{}_연립다세대_오피스텔_{}/실거래가_건물연식{}년_계약최근24개월.xlsx'.format(target_gu, target_dong, date_today_record, target_building_age), index=False)"
   ]
  },
  {
   "cell_type": "code",
   "execution_count": null,
   "metadata": {},
   "outputs": [],
   "source": [
    "target_5_60_df = target_5_60_df.sort_values(['지번주소', '건축년도', '부동산유형', '거래구분', '계약날짜', '전용면적(㎡)']).reset_index(drop=True)\n",
    "target_5_60_df1 = target_5_60_df[['지번주소', '건물(단지)명', '건물연식', '층', '거래구분', '전용면적(㎡)', '계약날짜', '거래금액(만원)', '단가(만원/㎡)', '지수적용날짜', '지수적용단가', '부동산유형', '일괄계약']]\n",
    "target_5_60_df1.to_excel('./국토교통부_실거래가_공개시스템/집값분석/{}_{}_연립다세대_오피스텔_{}/실거래가_건물연식{}년_계약최근36개월.xlsx'.format(target_gu, target_dong, date_today_record, target_building_age), index=False)"
   ]
  },
  {
   "cell_type": "code",
   "execution_count": null,
   "metadata": {},
   "outputs": [],
   "source": [
    "target_df = target_3_36_df.copy()"
   ]
  },
  {
   "cell_type": "code",
   "execution_count": null,
   "metadata": {},
   "outputs": [],
   "source": [
    "font = {'size': 16}\n",
    "matplotlib.rc('font', **font)\n",
    "f, ax = plt.subplots(figsize=(20,10))\n",
    "plt.title('최근 {}개월 {} {} 건물연식 {}년이하 연립다세대 및 오피스텔 매매 실거래 {}건의 전용면적 단가'.format(target_period, target_gu, target_dong, target_building_age, target_df.shape[0]))\n",
    "plt.grid(True)\n",
    "ax.xaxis.update_units(target_df['계약날짜'])\n",
    "sns.regplot(x=ax.xaxis.convert_units(target_df['계약날짜']), y=target_df['단가(만원/㎡)'])\n",
    "plt.savefig('./국토교통부_실거래가_공개시스템/집값분석/{}_{}_연립다세대_오피스텔_{}/산포도.png'.format(target_gu, target_dong, date_today_record))"
   ]
  },
  {
   "cell_type": "code",
   "execution_count": null,
   "metadata": {},
   "outputs": [],
   "source": [
    "target_last_df = target_df.drop_duplicates(subset=['지번주소', '건축년도'], keep='last').reset_index(drop=True)"
   ]
  },
  {
   "cell_type": "code",
   "execution_count": null,
   "metadata": {},
   "outputs": [],
   "source": [
    "font = {'size': 16}\n",
    "matplotlib.rc('font', **font)\n",
    "f, ax = plt.subplots(figsize=(20,10))\n",
    "plt.title('최근 {}개월 {} {} 건물연식 {}년이하 연립다세대 및 오피스텔 매매 실거래 {}건의 전용면적 단가'.format(target_period, target_gu, target_dong, target_building_age, target_last_df.shape[0]))\n",
    "plt.grid(True)\n",
    "ax.xaxis.update_units(target_last_df['계약날짜'])\n",
    "sns.regplot(x=ax.xaxis.convert_units(target_last_df['계약날짜']), y=target_last_df['단가(만원/㎡)'])\n",
    "plt.savefig('./국토교통부_실거래가_공개시스템/집값분석/{}_{}_연립다세대_오피스텔_{}/마지막_산포도.png'.format(target_gu, target_dong, date_today_record))"
   ]
  },
  {
   "cell_type": "code",
   "execution_count": null,
   "metadata": {},
   "outputs": [],
   "source": [
    "target_last_df.to_excel('./국토교통부_실거래가_공개시스템/집값분석/{}_{}_연립다세대_오피스텔_{}/마지막_실거래가.xlsx'.format(target_gu, target_dong, date_today_record), index=False)"
   ]
  },
  {
   "cell_type": "code",
   "execution_count": null,
   "metadata": {},
   "outputs": [],
   "source": [
    "target_df2 = house_df[\n",
    "    (house_df['지번주소'].str.contains(target_gu + ' ' + target_dong))\n",
    "    #&(house_df['동'] == target_dong)\n",
    "    #&(house_merge_df['계약날짜'] >= (date_today - pd.DateOffset(months=target_period)))\n",
    "    &(house_df['계약날짜기준_건물연식'] <= target_building_age)\n",
    "    #&(house_merge_df['용도지역명1'].str.contains(target_purpose))\n",
    "]\n",
    "print(target_df2.shape)\n",
    "target_df2.head()"
   ]
  },
  {
   "cell_type": "code",
   "execution_count": null,
   "metadata": {},
   "outputs": [],
   "source": [
    "target_df2 = get_index_applied_prices(target_df2)"
   ]
  },
  {
   "cell_type": "code",
   "execution_count": null,
   "metadata": {},
   "outputs": [],
   "source": [
    "font = {'size': 12}\n",
    "matplotlib.rc('font', **font)\n",
    "f, ax = plt.subplots(figsize=(12,6))\n",
    "plt.title('{} {} 계약날짜기준 건물연식 {}년이하 연립다세대 및 오피스텔 매매 실거래 {}건의 전용면적 단가'.format(target_gu, target_dong, target_building_age, target_df2.shape[0]))\n",
    "plt.grid(True)\n",
    "sns.histplot(target_df2['단가(만원/㎡)'], kde=True)"
   ]
  },
  {
   "cell_type": "code",
   "execution_count": null,
   "metadata": {},
   "outputs": [],
   "source": [
    "target_df3 = target_df2[['지번주소', '건물(단지)명', '건축년도', '층', '전용면적(㎡)', '계약날짜', '단가(만원/㎡)', '지수적용날짜', '지수적용단가', '부동산유형']]\n",
    "target_df3 = target_df3.sort_values(['지번주소', '건축년도', '계약날짜']).reset_index(drop=True)\n",
    "target_df3.to_excel('./국토교통부_실거래가_공개시스템/집값분석/{}_{}_연립다세대_오피스텔_{}/전체_실거래가.xlsx'.format(target_gu, target_dong, date_today_record), index=False)"
   ]
  },
  {
   "cell_type": "code",
   "execution_count": null,
   "metadata": {},
   "outputs": [],
   "source": [
    "target_df3_30 = target_df3[\n",
    "    (target_df3['전용면적(㎡)'] >= 28)\n",
    "    &(target_df3['전용면적(㎡)'] <= 32)\n",
    "]"
   ]
  },
  {
   "cell_type": "code",
   "execution_count": null,
   "metadata": {},
   "outputs": [],
   "source": [
    "target_df3_30.to_excel('./국토교통부_실거래가_공개시스템/집값분석/{}_{}_연립다세대_오피스텔_{}/전체_실거래가_30.xlsx'.format(target_gu, target_dong, date_today_record), index=False)"
   ]
  },
  {
   "cell_type": "code",
   "execution_count": null,
   "metadata": {},
   "outputs": [],
   "source": [
    "concat_df = pd.concat([target_df2])"
   ]
  },
  {
   "cell_type": "code",
   "execution_count": null,
   "metadata": {},
   "outputs": [],
   "source": [
    "concat_df = concat_df.sort_values(['지번주소', '건축년도', '전용면적(㎡)', '계약날짜']).reset_index(drop=True)\n",
    "concat_df = concat_df.drop_duplicates(['지번주소', '건축년도', '전용면적(㎡)'], keep='last').reset_index(drop=True)"
   ]
  },
  {
   "cell_type": "code",
   "execution_count": null,
   "metadata": {},
   "outputs": [],
   "source": [
    "concat_df['단가평균'] = concat_df[['지번주소', '건축년도', '단가(만원/㎡)']].groupby(['지번주소', '건축년도']).transform('mean')['단가(만원/㎡)']\n",
    "concat_df['지수적용단가평균'] = concat_df[['지번주소', '건축년도', '지수적용단가']].groupby(['지번주소', '건축년도']).transform('mean')['지수적용단가']"
   ]
  },
  {
   "cell_type": "code",
   "execution_count": null,
   "metadata": {
    "scrolled": true
   },
   "outputs": [],
   "source": [
    "concat_df = concat_df.sort_values(['지번주소', '건축년도', '지수적용날짜']).reset_index(drop=True)\n",
    "print(concat_df.shape)\n",
    "concat_df.head()"
   ]
  },
  {
   "cell_type": "code",
   "execution_count": null,
   "metadata": {},
   "outputs": [],
   "source": [
    "concat_last_df = concat_df.drop_duplicates(subset=['지번주소', '건축년도'], keep='last')\n",
    "print(concat_last_df.shape)\n",
    "concat_last_df.head()"
   ]
  },
  {
   "cell_type": "code",
   "execution_count": null,
   "metadata": {},
   "outputs": [],
   "source": [
    "font = {'size': 16}\n",
    "matplotlib.rc('font', **font)\n",
    "f, ax = plt.subplots(figsize=(20,10))\n",
    "plt.title('{} {} 계약날짜기준 건물연식 {}년이하 연립다세대 및 오피스텔 매매 실거래 지번별 {}곳의 전용면적 실거래가격지수 적용후 단가평균'.format(target_gu, target_dong, target_building_age, concat_last_df.shape[0]))\n",
    "plt.grid(True)\n",
    "sns.histplot(concat_last_df['지수적용단가'], kde=True)\n",
    "plt.savefig('./국토교통부_실거래가_공개시스템/집값분석/{}_{}_연립다세대_오피스텔_{}/지번별_분포도.png'.format(target_gu, target_dong, date_today_record))"
   ]
  },
  {
   "cell_type": "code",
   "execution_count": null,
   "metadata": {},
   "outputs": [],
   "source": [
    "concat_last_df = concat_last_df.sort_values(['지번주소']).reset_index(drop=True)"
   ]
  },
  {
   "cell_type": "code",
   "execution_count": null,
   "metadata": {
    "scrolled": true
   },
   "outputs": [],
   "source": [
    "concat_last_df = concat_last_df[['지번주소', '건물(단지)명', '건축년도', '전용면적(㎡)', '층', '계약날짜', '단가(만원/㎡)', '지수적용날짜', '지수적용단가', '부동산유형']]\n",
    "concat_last_df.rename(columns={'계약날짜':'마지막_계약날짜'}, inplace=True)\n",
    "concat_last_df.head()"
   ]
  },
  {
   "cell_type": "code",
   "execution_count": null,
   "metadata": {},
   "outputs": [],
   "source": [
    "concat_last_df.to_excel('./국토교통부_실거래가_공개시스템/집값분석/{}_{}_연립다세대_오피스텔_{}/전체_마지막_실거래가.xlsx'.format(target_gu, target_dong, date_today_record), index=False)"
   ]
  },
  {
   "cell_type": "code",
   "execution_count": null,
   "metadata": {},
   "outputs": [],
   "source": []
  }
 ],
 "metadata": {
  "kernelspec": {
   "display_name": "Python 3",
   "language": "python",
   "name": "python3"
  },
  "language_info": {
   "codemirror_mode": {
    "name": "ipython",
    "version": 3
   },
   "file_extension": ".py",
   "mimetype": "text/x-python",
   "name": "python",
   "nbconvert_exporter": "python",
   "pygments_lexer": "ipython3",
   "version": "3.7.9"
  }
 },
 "nbformat": 4,
 "nbformat_minor": 4
}
