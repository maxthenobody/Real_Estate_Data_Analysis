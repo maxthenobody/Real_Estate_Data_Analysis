{
 "cells": [
  {
   "cell_type": "code",
   "execution_count": 1,
   "metadata": {},
   "outputs": [],
   "source": [
    "import numpy as np\n",
    "import pandas as pd\n",
    "import matplotlib.pyplot as plt\n",
    "import os\n",
    "import math\n",
    "from tqdm import tqdm\n",
    "import requests\n",
    "from urllib.parse import urlparse\n",
    "pd.set_option('display.max_rows', 500)\n",
    "pd.set_option('display.max_columns', 500)\n",
    "import datetime\n",
    "from sklearn.preprocessing import quantile_transform\n",
    "pd.options.mode.chained_assignment = None  # default='warn'\n",
    "import gc\n",
    "import matplotlib\n",
    "matplotlib.rcParams['axes.unicode_minus'] = False\n",
    "font_path = './NanumFontSetup_TTF_BARUNGOTHIC/NanumBarunGothic.ttf'\n",
    "import matplotlib.font_manager as fm\n",
    "fontprop = fm.FontProperties(fname=font_path, size=18)\n",
    "import seaborn as sns\n",
    "import shap"
   ]
  },
  {
   "cell_type": "code",
   "execution_count": 2,
   "metadata": {},
   "outputs": [
    {
     "name": "stdout",
     "output_type": "stream",
     "text": [
      "(3658226, 64)\n",
      "Wall time: 10.2 s\n"
     ]
    },
    {
     "data": {
      "text/html": [
       "<div>\n",
       "<style scoped>\n",
       "    .dataframe tbody tr th:only-of-type {\n",
       "        vertical-align: middle;\n",
       "    }\n",
       "\n",
       "    .dataframe tbody tr th {\n",
       "        vertical-align: top;\n",
       "    }\n",
       "\n",
       "    .dataframe thead th {\n",
       "        text-align: right;\n",
       "    }\n",
       "</style>\n",
       "<table border=\"1\" class=\"dataframe\">\n",
       "  <thead>\n",
       "    <tr style=\"text-align: right;\">\n",
       "      <th></th>\n",
       "      <th>토지면적over총연면적times공시지가</th>\n",
       "      <th>year_linear</th>\n",
       "      <th>건축년도</th>\n",
       "      <th>전용면적</th>\n",
       "      <th>ynorm</th>\n",
       "      <th>xy</th>\n",
       "      <th>x_2nd</th>\n",
       "      <th>층mean</th>\n",
       "      <th>주건축물수</th>\n",
       "      <th>총건축면적</th>\n",
       "      <th>호수대비연면적</th>\n",
       "      <th>xnorm</th>\n",
       "      <th>옥내자주식대수</th>\n",
       "      <th>호수대비부속건축물면적</th>\n",
       "      <th>총호수</th>\n",
       "      <th>층</th>\n",
       "      <th>y_2nd</th>\n",
       "      <th>호수대비주차수</th>\n",
       "      <th>가격면적</th>\n",
       "      <th>trade_type_아파트_매매</th>\n",
       "      <th>trade_type_아파트_전세</th>\n",
       "      <th>trade_type_오피스텔_매매</th>\n",
       "      <th>trade_type_오피스텔_전세</th>\n",
       "      <th>trade_type_다세대연립_매매</th>\n",
       "      <th>trade_type_다세대연립_전세</th>\n",
       "      <th>용도지역명1_제3종일반주거지역</th>\n",
       "      <th>용도지역명1_제2종일반주거지역</th>\n",
       "      <th>용도지역명1_준주거지역</th>\n",
       "      <th>용도지역명1_일반상업지역</th>\n",
       "      <th>용도지역명1_제1종일반주거지역</th>\n",
       "      <th>용도지역명1_근린상업지역</th>\n",
       "      <th>용도지역명1_준공업지역</th>\n",
       "      <th>용도지역명1_제1종전용주거지역</th>\n",
       "      <th>용도지역명1_유통상업지역</th>\n",
       "      <th>용도지역명1_제2종전용주거지역</th>\n",
       "      <th>용도지역명1_자연녹지지역</th>\n",
       "      <th>용도지역명1_개발제한구역</th>\n",
       "      <th>용도지역명1_중심상업지역</th>\n",
       "      <th>토지이동상황_아파트</th>\n",
       "      <th>토지이동상황_상업기타</th>\n",
       "      <th>토지이동상황_주거기타</th>\n",
       "      <th>토지이동상황_주상용</th>\n",
       "      <th>토지이동상황_주상기타</th>\n",
       "      <th>토지이동상황_업무용</th>\n",
       "      <th>토지이동상황_상업용</th>\n",
       "      <th>토지이동상황_상업나지</th>\n",
       "      <th>토지이동상황_연립</th>\n",
       "      <th>토지이동상황_단독</th>\n",
       "      <th>토지이동상황_다세대</th>\n",
       "      <th>토지이동상황_주거나지</th>\n",
       "      <th>토지이동상황_주상나지</th>\n",
       "      <th>토지이동상황_공업기타</th>\n",
       "      <th>토지이동상황_도로등</th>\n",
       "      <th>토지이동상황_공원등</th>\n",
       "      <th>토지이동상황_전</th>\n",
       "      <th>토지이동상황_주차장등</th>\n",
       "      <th>토지이동상황_공업용</th>\n",
       "      <th>토지이동상황_공업나지</th>\n",
       "      <th>토지이동상황_토지임야</th>\n",
       "      <th>토지이동상황_위험시설</th>\n",
       "      <th>아파트지구_해당사항없음</th>\n",
       "      <th>아파트지구_포함</th>\n",
       "      <th>아파트지구_접함</th>\n",
       "      <th>아파트지구_저촉</th>\n",
       "    </tr>\n",
       "  </thead>\n",
       "  <tbody>\n",
       "    <tr>\n",
       "      <th>0</th>\n",
       "      <td>202.216536</td>\n",
       "      <td>7.666667</td>\n",
       "      <td>1988</td>\n",
       "      <td>77.75</td>\n",
       "      <td>-9048.956121</td>\n",
       "      <td>-5.048499e+07</td>\n",
       "      <td>1.556315e+07</td>\n",
       "      <td>9.0</td>\n",
       "      <td>1.0</td>\n",
       "      <td>6.27131</td>\n",
       "      <td>98.537963</td>\n",
       "      <td>5579.095707</td>\n",
       "      <td>0.0</td>\n",
       "      <td>0.0</td>\n",
       "      <td>54.0</td>\n",
       "      <td>2</td>\n",
       "      <td>4.094180e+07</td>\n",
       "      <td>0.0</td>\n",
       "      <td>733.118971</td>\n",
       "      <td>1</td>\n",
       "      <td>0</td>\n",
       "      <td>0</td>\n",
       "      <td>0</td>\n",
       "      <td>0</td>\n",
       "      <td>0</td>\n",
       "      <td>1</td>\n",
       "      <td>0</td>\n",
       "      <td>0</td>\n",
       "      <td>0</td>\n",
       "      <td>0</td>\n",
       "      <td>0</td>\n",
       "      <td>0</td>\n",
       "      <td>0</td>\n",
       "      <td>0</td>\n",
       "      <td>0</td>\n",
       "      <td>0</td>\n",
       "      <td>0</td>\n",
       "      <td>0</td>\n",
       "      <td>1</td>\n",
       "      <td>0</td>\n",
       "      <td>0</td>\n",
       "      <td>0</td>\n",
       "      <td>0</td>\n",
       "      <td>0</td>\n",
       "      <td>0</td>\n",
       "      <td>0</td>\n",
       "      <td>0</td>\n",
       "      <td>0</td>\n",
       "      <td>0</td>\n",
       "      <td>0</td>\n",
       "      <td>0</td>\n",
       "      <td>0</td>\n",
       "      <td>0</td>\n",
       "      <td>0</td>\n",
       "      <td>0</td>\n",
       "      <td>0</td>\n",
       "      <td>0</td>\n",
       "      <td>0</td>\n",
       "      <td>0</td>\n",
       "      <td>0</td>\n",
       "      <td>1</td>\n",
       "      <td>0</td>\n",
       "      <td>0</td>\n",
       "      <td>0</td>\n",
       "    </tr>\n",
       "    <tr>\n",
       "      <th>1</th>\n",
       "      <td>202.216536</td>\n",
       "      <td>7.916667</td>\n",
       "      <td>1988</td>\n",
       "      <td>77.75</td>\n",
       "      <td>-9048.956121</td>\n",
       "      <td>-5.048499e+07</td>\n",
       "      <td>1.556315e+07</td>\n",
       "      <td>9.0</td>\n",
       "      <td>1.0</td>\n",
       "      <td>6.27131</td>\n",
       "      <td>98.537963</td>\n",
       "      <td>5579.095707</td>\n",
       "      <td>0.0</td>\n",
       "      <td>0.0</td>\n",
       "      <td>54.0</td>\n",
       "      <td>2</td>\n",
       "      <td>4.094180e+07</td>\n",
       "      <td>0.0</td>\n",
       "      <td>733.118971</td>\n",
       "      <td>1</td>\n",
       "      <td>0</td>\n",
       "      <td>0</td>\n",
       "      <td>0</td>\n",
       "      <td>0</td>\n",
       "      <td>0</td>\n",
       "      <td>1</td>\n",
       "      <td>0</td>\n",
       "      <td>0</td>\n",
       "      <td>0</td>\n",
       "      <td>0</td>\n",
       "      <td>0</td>\n",
       "      <td>0</td>\n",
       "      <td>0</td>\n",
       "      <td>0</td>\n",
       "      <td>0</td>\n",
       "      <td>0</td>\n",
       "      <td>0</td>\n",
       "      <td>0</td>\n",
       "      <td>1</td>\n",
       "      <td>0</td>\n",
       "      <td>0</td>\n",
       "      <td>0</td>\n",
       "      <td>0</td>\n",
       "      <td>0</td>\n",
       "      <td>0</td>\n",
       "      <td>0</td>\n",
       "      <td>0</td>\n",
       "      <td>0</td>\n",
       "      <td>0</td>\n",
       "      <td>0</td>\n",
       "      <td>0</td>\n",
       "      <td>0</td>\n",
       "      <td>0</td>\n",
       "      <td>0</td>\n",
       "      <td>0</td>\n",
       "      <td>0</td>\n",
       "      <td>0</td>\n",
       "      <td>0</td>\n",
       "      <td>0</td>\n",
       "      <td>0</td>\n",
       "      <td>1</td>\n",
       "      <td>0</td>\n",
       "      <td>0</td>\n",
       "      <td>0</td>\n",
       "    </tr>\n",
       "    <tr>\n",
       "      <th>2</th>\n",
       "      <td>202.216536</td>\n",
       "      <td>7.000000</td>\n",
       "      <td>1988</td>\n",
       "      <td>77.75</td>\n",
       "      <td>-9048.956121</td>\n",
       "      <td>-5.048499e+07</td>\n",
       "      <td>1.556315e+07</td>\n",
       "      <td>9.0</td>\n",
       "      <td>1.0</td>\n",
       "      <td>6.27131</td>\n",
       "      <td>98.537963</td>\n",
       "      <td>5579.095707</td>\n",
       "      <td>0.0</td>\n",
       "      <td>0.0</td>\n",
       "      <td>54.0</td>\n",
       "      <td>4</td>\n",
       "      <td>4.094180e+07</td>\n",
       "      <td>0.0</td>\n",
       "      <td>450.160772</td>\n",
       "      <td>0</td>\n",
       "      <td>1</td>\n",
       "      <td>0</td>\n",
       "      <td>0</td>\n",
       "      <td>0</td>\n",
       "      <td>0</td>\n",
       "      <td>1</td>\n",
       "      <td>0</td>\n",
       "      <td>0</td>\n",
       "      <td>0</td>\n",
       "      <td>0</td>\n",
       "      <td>0</td>\n",
       "      <td>0</td>\n",
       "      <td>0</td>\n",
       "      <td>0</td>\n",
       "      <td>0</td>\n",
       "      <td>0</td>\n",
       "      <td>0</td>\n",
       "      <td>0</td>\n",
       "      <td>1</td>\n",
       "      <td>0</td>\n",
       "      <td>0</td>\n",
       "      <td>0</td>\n",
       "      <td>0</td>\n",
       "      <td>0</td>\n",
       "      <td>0</td>\n",
       "      <td>0</td>\n",
       "      <td>0</td>\n",
       "      <td>0</td>\n",
       "      <td>0</td>\n",
       "      <td>0</td>\n",
       "      <td>0</td>\n",
       "      <td>0</td>\n",
       "      <td>0</td>\n",
       "      <td>0</td>\n",
       "      <td>0</td>\n",
       "      <td>0</td>\n",
       "      <td>0</td>\n",
       "      <td>0</td>\n",
       "      <td>0</td>\n",
       "      <td>0</td>\n",
       "      <td>1</td>\n",
       "      <td>0</td>\n",
       "      <td>0</td>\n",
       "      <td>0</td>\n",
       "    </tr>\n",
       "    <tr>\n",
       "      <th>3</th>\n",
       "      <td>202.216536</td>\n",
       "      <td>7.166667</td>\n",
       "      <td>1988</td>\n",
       "      <td>77.75</td>\n",
       "      <td>-9048.956121</td>\n",
       "      <td>-5.048499e+07</td>\n",
       "      <td>1.556315e+07</td>\n",
       "      <td>9.0</td>\n",
       "      <td>1.0</td>\n",
       "      <td>6.27131</td>\n",
       "      <td>98.537963</td>\n",
       "      <td>5579.095707</td>\n",
       "      <td>0.0</td>\n",
       "      <td>0.0</td>\n",
       "      <td>54.0</td>\n",
       "      <td>9</td>\n",
       "      <td>4.094180e+07</td>\n",
       "      <td>0.0</td>\n",
       "      <td>411.575563</td>\n",
       "      <td>0</td>\n",
       "      <td>1</td>\n",
       "      <td>0</td>\n",
       "      <td>0</td>\n",
       "      <td>0</td>\n",
       "      <td>0</td>\n",
       "      <td>1</td>\n",
       "      <td>0</td>\n",
       "      <td>0</td>\n",
       "      <td>0</td>\n",
       "      <td>0</td>\n",
       "      <td>0</td>\n",
       "      <td>0</td>\n",
       "      <td>0</td>\n",
       "      <td>0</td>\n",
       "      <td>0</td>\n",
       "      <td>0</td>\n",
       "      <td>0</td>\n",
       "      <td>0</td>\n",
       "      <td>1</td>\n",
       "      <td>0</td>\n",
       "      <td>0</td>\n",
       "      <td>0</td>\n",
       "      <td>0</td>\n",
       "      <td>0</td>\n",
       "      <td>0</td>\n",
       "      <td>0</td>\n",
       "      <td>0</td>\n",
       "      <td>0</td>\n",
       "      <td>0</td>\n",
       "      <td>0</td>\n",
       "      <td>0</td>\n",
       "      <td>0</td>\n",
       "      <td>0</td>\n",
       "      <td>0</td>\n",
       "      <td>0</td>\n",
       "      <td>0</td>\n",
       "      <td>0</td>\n",
       "      <td>0</td>\n",
       "      <td>0</td>\n",
       "      <td>0</td>\n",
       "      <td>1</td>\n",
       "      <td>0</td>\n",
       "      <td>0</td>\n",
       "      <td>0</td>\n",
       "    </tr>\n",
       "    <tr>\n",
       "      <th>4</th>\n",
       "      <td>202.216536</td>\n",
       "      <td>7.666667</td>\n",
       "      <td>1988</td>\n",
       "      <td>77.75</td>\n",
       "      <td>-9048.956121</td>\n",
       "      <td>-5.048499e+07</td>\n",
       "      <td>1.556315e+07</td>\n",
       "      <td>9.0</td>\n",
       "      <td>1.0</td>\n",
       "      <td>6.27131</td>\n",
       "      <td>98.537963</td>\n",
       "      <td>5579.095707</td>\n",
       "      <td>0.0</td>\n",
       "      <td>0.0</td>\n",
       "      <td>54.0</td>\n",
       "      <td>1</td>\n",
       "      <td>4.094180e+07</td>\n",
       "      <td>0.0</td>\n",
       "      <td>475.884244</td>\n",
       "      <td>0</td>\n",
       "      <td>1</td>\n",
       "      <td>0</td>\n",
       "      <td>0</td>\n",
       "      <td>0</td>\n",
       "      <td>0</td>\n",
       "      <td>1</td>\n",
       "      <td>0</td>\n",
       "      <td>0</td>\n",
       "      <td>0</td>\n",
       "      <td>0</td>\n",
       "      <td>0</td>\n",
       "      <td>0</td>\n",
       "      <td>0</td>\n",
       "      <td>0</td>\n",
       "      <td>0</td>\n",
       "      <td>0</td>\n",
       "      <td>0</td>\n",
       "      <td>0</td>\n",
       "      <td>1</td>\n",
       "      <td>0</td>\n",
       "      <td>0</td>\n",
       "      <td>0</td>\n",
       "      <td>0</td>\n",
       "      <td>0</td>\n",
       "      <td>0</td>\n",
       "      <td>0</td>\n",
       "      <td>0</td>\n",
       "      <td>0</td>\n",
       "      <td>0</td>\n",
       "      <td>0</td>\n",
       "      <td>0</td>\n",
       "      <td>0</td>\n",
       "      <td>0</td>\n",
       "      <td>0</td>\n",
       "      <td>0</td>\n",
       "      <td>0</td>\n",
       "      <td>0</td>\n",
       "      <td>0</td>\n",
       "      <td>0</td>\n",
       "      <td>0</td>\n",
       "      <td>1</td>\n",
       "      <td>0</td>\n",
       "      <td>0</td>\n",
       "      <td>0</td>\n",
       "    </tr>\n",
       "  </tbody>\n",
       "</table>\n",
       "</div>"
      ],
      "text/plain": [
       "   토지면적over총연면적times공시지가  year_linear  건축년도   전용면적        ynorm            xy  \\\n",
       "0             202.216536     7.666667  1988  77.75 -9048.956121 -5.048499e+07   \n",
       "1             202.216536     7.916667  1988  77.75 -9048.956121 -5.048499e+07   \n",
       "2             202.216536     7.000000  1988  77.75 -9048.956121 -5.048499e+07   \n",
       "3             202.216536     7.166667  1988  77.75 -9048.956121 -5.048499e+07   \n",
       "4             202.216536     7.666667  1988  77.75 -9048.956121 -5.048499e+07   \n",
       "\n",
       "          x_2nd  층mean  주건축물수    총건축면적    호수대비연면적        xnorm  옥내자주식대수  \\\n",
       "0  1.556315e+07    9.0    1.0  6.27131  98.537963  5579.095707      0.0   \n",
       "1  1.556315e+07    9.0    1.0  6.27131  98.537963  5579.095707      0.0   \n",
       "2  1.556315e+07    9.0    1.0  6.27131  98.537963  5579.095707      0.0   \n",
       "3  1.556315e+07    9.0    1.0  6.27131  98.537963  5579.095707      0.0   \n",
       "4  1.556315e+07    9.0    1.0  6.27131  98.537963  5579.095707      0.0   \n",
       "\n",
       "   호수대비부속건축물면적   총호수  층         y_2nd  호수대비주차수        가격면적  trade_type_아파트_매매  \\\n",
       "0          0.0  54.0  2  4.094180e+07      0.0  733.118971                  1   \n",
       "1          0.0  54.0  2  4.094180e+07      0.0  733.118971                  1   \n",
       "2          0.0  54.0  4  4.094180e+07      0.0  450.160772                  0   \n",
       "3          0.0  54.0  9  4.094180e+07      0.0  411.575563                  0   \n",
       "4          0.0  54.0  1  4.094180e+07      0.0  475.884244                  0   \n",
       "\n",
       "   trade_type_아파트_전세  trade_type_오피스텔_매매  trade_type_오피스텔_전세  \\\n",
       "0                  0                   0                   0   \n",
       "1                  0                   0                   0   \n",
       "2                  1                   0                   0   \n",
       "3                  1                   0                   0   \n",
       "4                  1                   0                   0   \n",
       "\n",
       "   trade_type_다세대연립_매매  trade_type_다세대연립_전세  용도지역명1_제3종일반주거지역  \\\n",
       "0                    0                    0                 1   \n",
       "1                    0                    0                 1   \n",
       "2                    0                    0                 1   \n",
       "3                    0                    0                 1   \n",
       "4                    0                    0                 1   \n",
       "\n",
       "   용도지역명1_제2종일반주거지역  용도지역명1_준주거지역  용도지역명1_일반상업지역  용도지역명1_제1종일반주거지역  \\\n",
       "0                 0             0              0                 0   \n",
       "1                 0             0              0                 0   \n",
       "2                 0             0              0                 0   \n",
       "3                 0             0              0                 0   \n",
       "4                 0             0              0                 0   \n",
       "\n",
       "   용도지역명1_근린상업지역  용도지역명1_준공업지역  용도지역명1_제1종전용주거지역  용도지역명1_유통상업지역  \\\n",
       "0              0             0                 0              0   \n",
       "1              0             0                 0              0   \n",
       "2              0             0                 0              0   \n",
       "3              0             0                 0              0   \n",
       "4              0             0                 0              0   \n",
       "\n",
       "   용도지역명1_제2종전용주거지역  용도지역명1_자연녹지지역  용도지역명1_개발제한구역  용도지역명1_중심상업지역  토지이동상황_아파트  \\\n",
       "0                 0              0              0              0           1   \n",
       "1                 0              0              0              0           1   \n",
       "2                 0              0              0              0           1   \n",
       "3                 0              0              0              0           1   \n",
       "4                 0              0              0              0           1   \n",
       "\n",
       "   토지이동상황_상업기타  토지이동상황_주거기타  토지이동상황_주상용  토지이동상황_주상기타  토지이동상황_업무용  토지이동상황_상업용  \\\n",
       "0            0            0           0            0           0           0   \n",
       "1            0            0           0            0           0           0   \n",
       "2            0            0           0            0           0           0   \n",
       "3            0            0           0            0           0           0   \n",
       "4            0            0           0            0           0           0   \n",
       "\n",
       "   토지이동상황_상업나지  토지이동상황_연립  토지이동상황_단독  토지이동상황_다세대  토지이동상황_주거나지  토지이동상황_주상나지  \\\n",
       "0            0          0          0           0            0            0   \n",
       "1            0          0          0           0            0            0   \n",
       "2            0          0          0           0            0            0   \n",
       "3            0          0          0           0            0            0   \n",
       "4            0          0          0           0            0            0   \n",
       "\n",
       "   토지이동상황_공업기타  토지이동상황_도로등  토지이동상황_공원등  토지이동상황_전  토지이동상황_주차장등  토지이동상황_공업용  \\\n",
       "0            0           0           0         0            0           0   \n",
       "1            0           0           0         0            0           0   \n",
       "2            0           0           0         0            0           0   \n",
       "3            0           0           0         0            0           0   \n",
       "4            0           0           0         0            0           0   \n",
       "\n",
       "   토지이동상황_공업나지  토지이동상황_토지임야  토지이동상황_위험시설  아파트지구_해당사항없음  아파트지구_포함  아파트지구_접함  \\\n",
       "0            0            0            0             1         0         0   \n",
       "1            0            0            0             1         0         0   \n",
       "2            0            0            0             1         0         0   \n",
       "3            0            0            0             1         0         0   \n",
       "4            0            0            0             1         0         0   \n",
       "\n",
       "   아파트지구_저촉  \n",
       "0         0  \n",
       "1         0  \n",
       "2         0  \n",
       "3         0  \n",
       "4         0  "
      ]
     },
     "execution_count": 2,
     "metadata": {},
     "output_type": "execute_result"
    }
   ],
   "source": [
    "%%time\n",
    "# Read Data\n",
    "basedir = './Training/training_data_ver_16/'\n",
    "training_data_df = pd.read_csv(basedir + 'top22_ohe.csv')\n",
    "print(training_data_df.shape)\n",
    "training_data_df.head()"
   ]
  },
  {
   "cell_type": "markdown",
   "metadata": {},
   "source": [
    "# CV"
   ]
  },
  {
   "cell_type": "code",
   "execution_count": 3,
   "metadata": {},
   "outputs": [],
   "source": [
    "from sklearn.model_selection import GridSearchCV"
   ]
  },
  {
   "cell_type": "code",
   "execution_count": 4,
   "metadata": {},
   "outputs": [],
   "source": [
    "from sklearn.linear_model import HuberRegressor, LinearRegression, GammaRegressor"
   ]
  },
  {
   "cell_type": "code",
   "execution_count": 5,
   "metadata": {},
   "outputs": [],
   "source": [
    "from sklearn.neighbors import KNeighborsRegressor"
   ]
  },
  {
   "cell_type": "code",
   "execution_count": null,
   "metadata": {},
   "outputs": [],
   "source": [
    "huber_model = HuberRegressor(alpha=0)"
   ]
  },
  {
   "cell_type": "code",
   "execution_count": null,
   "metadata": {},
   "outputs": [],
   "source": [
    "params = {'max_iter':[10,20,30,40,50]}"
   ]
  },
  {
   "cell_type": "code",
   "execution_count": null,
   "metadata": {},
   "outputs": [],
   "source": [
    "cv_model = GridSearchCV(huber_model, params, n_jobs=6, verbose=3, scoring='neg_root_mean_squared_error')"
   ]
  },
  {
   "cell_type": "code",
   "execution_count": null,
   "metadata": {},
   "outputs": [],
   "source": [
    "%%time\n",
    "cv_model.fit(training_data_df.drop(columns=['가격면적']), training_data_df['가격면적'])"
   ]
  },
  {
   "cell_type": "code",
   "execution_count": null,
   "metadata": {},
   "outputs": [],
   "source": [
    "cv_results_df = pd.DataFrame(cv_model.cv_results_)"
   ]
  },
  {
   "cell_type": "code",
   "execution_count": null,
   "metadata": {},
   "outputs": [],
   "source": [
    "cv_results_df"
   ]
  },
  {
   "cell_type": "code",
   "execution_count": null,
   "metadata": {},
   "outputs": [],
   "source": [
    "lr_model = LinearRegression()"
   ]
  },
  {
   "cell_type": "code",
   "execution_count": null,
   "metadata": {},
   "outputs": [],
   "source": [
    "params = {'normalize':[True, False]}"
   ]
  },
  {
   "cell_type": "code",
   "execution_count": null,
   "metadata": {},
   "outputs": [],
   "source": [
    "cv_model = GridSearchCV(lr_model, params, n_jobs=6, verbose=3, scoring='neg_root_mean_squared_error')"
   ]
  },
  {
   "cell_type": "code",
   "execution_count": null,
   "metadata": {},
   "outputs": [],
   "source": [
    "%%time\n",
    "cv_model.fit(training_data_df.drop(columns=['가격면적']), training_data_df['가격면적'])"
   ]
  },
  {
   "cell_type": "code",
   "execution_count": null,
   "metadata": {},
   "outputs": [],
   "source": [
    "cv_results_df = pd.DataFrame(cv_model.cv_results_)"
   ]
  },
  {
   "cell_type": "code",
   "execution_count": null,
   "metadata": {},
   "outputs": [],
   "source": [
    "cv_results_df"
   ]
  },
  {
   "cell_type": "code",
   "execution_count": null,
   "metadata": {},
   "outputs": [],
   "source": [
    "knn_model = KNeighborsRegressor()"
   ]
  },
  {
   "cell_type": "code",
   "execution_count": null,
   "metadata": {},
   "outputs": [],
   "source": [
    "params = {'n_neighbors':[5,6,7,8,9,10]}"
   ]
  },
  {
   "cell_type": "code",
   "execution_count": null,
   "metadata": {},
   "outputs": [],
   "source": [
    "cv_model = GridSearchCV(knn_model, params, n_jobs=6, verbose=3, scoring='neg_root_mean_squared_error')"
   ]
  },
  {
   "cell_type": "code",
   "execution_count": null,
   "metadata": {},
   "outputs": [],
   "source": [
    "%%time\n",
    "cv_model.fit(training_data_df.drop(columns=['가격면적']), training_data_df['가격면적'])"
   ]
  },
  {
   "cell_type": "code",
   "execution_count": null,
   "metadata": {},
   "outputs": [],
   "source": [
    "cv_results_df = pd.DataFrame(cv_model.cv_results_)"
   ]
  },
  {
   "cell_type": "code",
   "execution_count": null,
   "metadata": {},
   "outputs": [],
   "source": [
    "cv_results_df"
   ]
  },
  {
   "cell_type": "markdown",
   "metadata": {},
   "source": [
    "# Training"
   ]
  },
  {
   "cell_type": "code",
   "execution_count": 6,
   "metadata": {},
   "outputs": [],
   "source": [
    "from sklearn.model_selection import KFold, GroupKFold"
   ]
  },
  {
   "cell_type": "code",
   "execution_count": 7,
   "metadata": {},
   "outputs": [],
   "source": [
    "import lightgbm as lgb"
   ]
  },
  {
   "cell_type": "code",
   "execution_count": 8,
   "metadata": {},
   "outputs": [],
   "source": [
    "from sklearn.metrics import r2_score"
   ]
  },
  {
   "cell_type": "code",
   "execution_count": 9,
   "metadata": {},
   "outputs": [],
   "source": [
    "kf = KFold(n_splits=5, shuffle=True, random_state=42)"
   ]
  },
  {
   "cell_type": "code",
   "execution_count": 10,
   "metadata": {},
   "outputs": [],
   "source": [
    "from sklearn.metrics import mean_squared_error"
   ]
  },
  {
   "cell_type": "code",
   "execution_count": 11,
   "metadata": {},
   "outputs": [],
   "source": [
    "# Next things to do:\n",
    "# 1. Do Variance Inflation Factor (VIF) analysis.\n",
    "# 2. keep the feature with the highest shap value\n",
    "# 3. Retrain\n",
    "# 4. Remove 1 feature at a time and find out the set of feature with the lowest loss.\n",
    "# 5. Retrain\n",
    "# 6. Continue production prep"
   ]
  },
  {
   "cell_type": "code",
   "execution_count": 12,
   "metadata": {},
   "outputs": [],
   "source": [
    "target_cols = ['가격면적']"
   ]
  },
  {
   "cell_type": "code",
   "execution_count": 16,
   "metadata": {},
   "outputs": [
    {
     "name": "stdout",
     "output_type": "stream",
     "text": [
      "Fold 0 start\n",
      "(2926580, 63)\n",
      "y dist plot\n"
     ]
    },
    {
     "data": {
      "image/png": "[encoded data removed]",
      "text/plain": [
       "<Figure size 432x288 with 1 Axes>"
      ]
     },
     "metadata": {
      "needs_background": "light"
     },
     "output_type": "display_data"
    },
    {
     "name": "stdout",
     "output_type": "stream",
     "text": [
      "preds dist plot\n"
     ]
    },
    {
     "data": {
      "text/plain": [
       "<Figure size 432x288 with 0 Axes>"
      ]
     },
     "metadata": {},
     "output_type": "display_data"
    },
    {
     "data": {
      "image/png": "[encoded data removed]",
      "text/plain": [
       "<Figure size 360x360 with 1 Axes>"
      ]
     },
     "metadata": {
      "needs_background": "light"
     },
     "output_type": "display_data"
    },
    {
     "name": "stdout",
     "output_type": "stream",
     "text": [
      "122.49571502422909\n",
      "Fold 0 end\n"
     ]
    },
    {
     "data": {
      "text/plain": [
       "<Figure size 432x288 with 0 Axes>"
      ]
     },
     "metadata": {},
     "output_type": "display_data"
    }
   ],
   "source": [
    "count = 0\n",
    "oof = np.zeros(training_data_df.shape[0])\n",
    "\n",
    "shap_summary_df = pd.DataFrame()\n",
    "\n",
    "for train_idx, val_idx in kf.split(training_data_df):\n",
    "    print('Fold {} start'.format(count))\n",
    "    train_data = training_data_df.loc[train_idx]\n",
    "    val_data = training_data_df.loc[val_idx]\n",
    "    \n",
    "    x_train = train_data.drop(columns=target_cols)\n",
    "    y_train = train_data['가격면적']\n",
    "    \n",
    "    print(x_train.shape)\n",
    "    \n",
    "    x_val = val_data.drop(columns=target_cols)\n",
    "    y_val = val_data['가격면적']\n",
    "    \n",
    "    print('y dist plot')\n",
    "    y_val.hist(bins=100)\n",
    "    plt.show()\n",
    "    plt.clf()\n",
    "    \n",
    "    ml_model = KNeighborsRegressor(algorithm='ball_tree')\n",
    "    \n",
    "    ml_model.fit(x_train, y_train)\n",
    "    \n",
    "    preds = ml_model.predict(x_val)\n",
    "    \n",
    "    print('preds dist plot')\n",
    "    sns.displot(preds)\n",
    "    plt.show()\n",
    "    plt.clf()\n",
    "    \n",
    "    print(np.sqrt(mean_squared_error(y_val, preds)))\n",
    "    \n",
    "    print('Fold {} end'.format(count))\n",
    "    count += 1\n",
    "    \n",
    "    break"
   ]
  },
  {
   "cell_type": "code",
   "execution_count": 20,
   "metadata": {},
   "outputs": [
    {
     "name": "stdout",
     "output_type": "stream",
     "text": [
      "Fold 0 start\n",
      "(2926580, 63)\n",
      "y dist plot\n"
     ]
    },
    {
     "data": {
      "image/png": "[encoded data removed]",
      "text/plain": [
       "<Figure size 432x288 with 1 Axes>"
      ]
     },
     "metadata": {
      "needs_background": "light"
     },
     "output_type": "display_data"
    },
    {
     "name": "stdout",
     "output_type": "stream",
     "text": [
      "preds dist plot\n"
     ]
    },
    {
     "data": {
      "text/plain": [
       "<Figure size 432x288 with 0 Axes>"
      ]
     },
     "metadata": {},
     "output_type": "display_data"
    },
    {
     "data": {
      "image/png": "[encoded data removed]",
      "text/plain": [
       "<Figure size 360x360 with 1 Axes>"
      ]
     },
     "metadata": {
      "needs_background": "light"
     },
     "output_type": "display_data"
    },
    {
     "name": "stdout",
     "output_type": "stream",
     "text": [
      "133.29685892833353\n",
      "Fold 0 end\n"
     ]
    },
    {
     "data": {
      "text/plain": [
       "<Figure size 432x288 with 0 Axes>"
      ]
     },
     "metadata": {},
     "output_type": "display_data"
    }
   ],
   "source": [
    "count = 0\n",
    "oof = np.zeros(training_data_df.shape[0])\n",
    "\n",
    "shap_summary_df = pd.DataFrame()\n",
    "\n",
    "for train_idx, val_idx in kf.split(training_data_df):\n",
    "    print('Fold {} start'.format(count))\n",
    "    train_data = training_data_df.loc[train_idx]\n",
    "    val_data = training_data_df.loc[val_idx]\n",
    "    \n",
    "    x_train = train_data.drop(columns=target_cols)\n",
    "    y_train = train_data['가격면적']\n",
    "    \n",
    "    print(x_train.shape)\n",
    "    \n",
    "    x_val = val_data.drop(columns=target_cols)\n",
    "    y_val = val_data['가격면적']\n",
    "    \n",
    "    print('y dist plot')\n",
    "    y_val.hist(bins=100)\n",
    "    plt.show()\n",
    "    plt.clf()\n",
    "    \n",
    "    ml_model = KNeighborsRegressor(algorithm='ball_tree', n_neighbors=10)\n",
    "    \n",
    "    ml_model.fit(x_train, y_train)\n",
    "    \n",
    "    preds = ml_model.predict(x_val)\n",
    "    \n",
    "    print('preds dist plot')\n",
    "    sns.displot(preds)\n",
    "    plt.show()\n",
    "    plt.clf()\n",
    "    \n",
    "    print(np.sqrt(mean_squared_error(y_val, preds)))\n",
    "    \n",
    "    print('Fold {} end'.format(count))\n",
    "    count += 1\n",
    "    \n",
    "    break"
   ]
  },
  {
   "cell_type": "code",
   "execution_count": 13,
   "metadata": {},
   "outputs": [],
   "source": [
    "from sklearn.ensemble import AdaBoostRegressor"
   ]
  },
  {
   "cell_type": "code",
   "execution_count": 14,
   "metadata": {},
   "outputs": [
    {
     "name": "stdout",
     "output_type": "stream",
     "text": [
      "Fold 0 start\n",
      "(2926580, 63)\n",
      "y dist plot\n"
     ]
    },
    {
     "data": {
      "image/png": "[encoded data removed]",
      "text/plain": [
       "<Figure size 432x288 with 1 Axes>"
      ]
     },
     "metadata": {
      "needs_background": "light"
     },
     "output_type": "display_data"
    },
    {
     "name": "stdout",
     "output_type": "stream",
     "text": [
      "preds dist plot\n"
     ]
    },
    {
     "data": {
      "text/plain": [
       "<Figure size 432x288 with 0 Axes>"
      ]
     },
     "metadata": {},
     "output_type": "display_data"
    },
    {
     "data": {
      "image/png": "[encoded data removed]",
      "text/plain": [
       "<Figure size 360x360 with 1 Axes>"
      ]
     },
     "metadata": {
      "needs_background": "light"
     },
     "output_type": "display_data"
    },
    {
     "name": "stdout",
     "output_type": "stream",
     "text": [
      "321.41120202561075\n",
      "Fold 0 end\n"
     ]
    },
    {
     "data": {
      "text/plain": [
       "<Figure size 432x288 with 0 Axes>"
      ]
     },
     "metadata": {},
     "output_type": "display_data"
    }
   ],
   "source": [
    "count = 0\n",
    "oof = np.zeros(training_data_df.shape[0])\n",
    "\n",
    "shap_summary_df = pd.DataFrame()\n",
    "\n",
    "for train_idx, val_idx in kf.split(training_data_df):\n",
    "    print('Fold {} start'.format(count))\n",
    "    train_data = training_data_df.loc[train_idx]\n",
    "    val_data = training_data_df.loc[val_idx]\n",
    "    \n",
    "    x_train = train_data.drop(columns=target_cols)\n",
    "    y_train = train_data['가격면적']\n",
    "    \n",
    "    print(x_train.shape)\n",
    "    \n",
    "    x_val = val_data.drop(columns=target_cols)\n",
    "    y_val = val_data['가격면적']\n",
    "    \n",
    "    print('y dist plot')\n",
    "    y_val.hist(bins=100)\n",
    "    plt.show()\n",
    "    plt.clf()\n",
    "    \n",
    "    ml_model = AdaBoostRegressor()\n",
    "    \n",
    "    ml_model.fit(x_train, y_train)\n",
    "    \n",
    "    preds = ml_model.predict(x_val)\n",
    "    \n",
    "    print('preds dist plot')\n",
    "    sns.displot(preds)\n",
    "    plt.show()\n",
    "    plt.clf()\n",
    "    \n",
    "    print(np.sqrt(mean_squared_error(y_val, preds)))\n",
    "    \n",
    "    print('Fold {} end'.format(count))\n",
    "    count += 1\n",
    "    \n",
    "    break"
   ]
  },
  {
   "cell_type": "code",
   "execution_count": 17,
   "metadata": {},
   "outputs": [],
   "source": [
    "from sklearn.ensemble import RandomForestRegressor, GradientBoostingRegressor"
   ]
  },
  {
   "cell_type": "code",
   "execution_count": 16,
   "metadata": {},
   "outputs": [
    {
     "name": "stdout",
     "output_type": "stream",
     "text": [
      "Fold 0 start\n",
      "(2926580, 63)\n",
      "y dist plot\n"
     ]
    },
    {
     "data": {
      "image/png": "[encoded data removed]",
      "text/plain": [
       "<Figure size 432x288 with 1 Axes>"
      ]
     },
     "metadata": {
      "needs_background": "light"
     },
     "output_type": "display_data"
    },
    {
     "name": "stdout",
     "output_type": "stream",
     "text": [
      "preds dist plot\n"
     ]
    },
    {
     "data": {
      "text/plain": [
       "<Figure size 432x288 with 0 Axes>"
      ]
     },
     "metadata": {},
     "output_type": "display_data"
    },
    {
     "data": {
      "image/png": "[encoded data removed]",
      "text/plain": [
       "<Figure size 360x360 with 1 Axes>"
      ]
     },
     "metadata": {
      "needs_background": "light"
     },
     "output_type": "display_data"
    },
    {
     "name": "stdout",
     "output_type": "stream",
     "text": [
      "60.19760591393465\n",
      "Fold 0 end\n"
     ]
    },
    {
     "data": {
      "text/plain": [
       "<Figure size 432x288 with 0 Axes>"
      ]
     },
     "metadata": {},
     "output_type": "display_data"
    }
   ],
   "source": [
    "count = 0\n",
    "oof = np.zeros(training_data_df.shape[0])\n",
    "\n",
    "shap_summary_df = pd.DataFrame()\n",
    "\n",
    "for train_idx, val_idx in kf.split(training_data_df):\n",
    "    print('Fold {} start'.format(count))\n",
    "    train_data = training_data_df.loc[train_idx]\n",
    "    val_data = training_data_df.loc[val_idx]\n",
    "    \n",
    "    x_train = train_data.drop(columns=target_cols)\n",
    "    y_train = train_data['가격면적']\n",
    "    \n",
    "    print(x_train.shape)\n",
    "    \n",
    "    x_val = val_data.drop(columns=target_cols)\n",
    "    y_val = val_data['가격면적']\n",
    "    \n",
    "    print('y dist plot')\n",
    "    y_val.hist(bins=100)\n",
    "    plt.show()\n",
    "    plt.clf()\n",
    "    \n",
    "    ml_model = RandomForestRegressor()\n",
    "    \n",
    "    ml_model.fit(x_train, y_train)\n",
    "    \n",
    "    preds = ml_model.predict(x_val)\n",
    "    \n",
    "    print('preds dist plot')\n",
    "    sns.displot(preds)\n",
    "    plt.show()\n",
    "    plt.clf()\n",
    "    \n",
    "    print(np.sqrt(mean_squared_error(y_val, preds)))\n",
    "    \n",
    "    print('Fold {} end'.format(count))\n",
    "    count += 1\n",
    "    \n",
    "    break"
   ]
  },
  {
   "cell_type": "code",
   "execution_count": 18,
   "metadata": {},
   "outputs": [
    {
     "name": "stdout",
     "output_type": "stream",
     "text": [
      "Fold 0 start\n",
      "(2926580, 63)\n",
      "y dist plot\n"
     ]
    },
    {
     "data": {
      "image/png": "[encoded data removed]",
      "text/plain": [
       "<Figure size 432x288 with 1 Axes>"
      ]
     },
     "metadata": {
      "needs_background": "light"
     },
     "output_type": "display_data"
    },
    {
     "name": "stdout",
     "output_type": "stream",
     "text": [
      "preds dist plot\n"
     ]
    },
    {
     "data": {
      "text/plain": [
       "<Figure size 432x288 with 0 Axes>"
      ]
     },
     "metadata": {},
     "output_type": "display_data"
    },
    {
     "data": {
      "image/png": "[encoded data removed]",
      "text/plain": [
       "<Figure size 360x360 with 1 Axes>"
      ]
     },
     "metadata": {
      "needs_background": "light"
     },
     "output_type": "display_data"
    },
    {
     "name": "stdout",
     "output_type": "stream",
     "text": [
      "121.99152880589614\n",
      "Fold 0 end\n"
     ]
    },
    {
     "data": {
      "text/plain": [
       "<Figure size 432x288 with 0 Axes>"
      ]
     },
     "metadata": {},
     "output_type": "display_data"
    }
   ],
   "source": [
    "count = 0\n",
    "oof = np.zeros(training_data_df.shape[0])\n",
    "\n",
    "shap_summary_df = pd.DataFrame()\n",
    "\n",
    "for train_idx, val_idx in kf.split(training_data_df):\n",
    "    print('Fold {} start'.format(count))\n",
    "    train_data = training_data_df.loc[train_idx]\n",
    "    val_data = training_data_df.loc[val_idx]\n",
    "    \n",
    "    x_train = train_data.drop(columns=target_cols)\n",
    "    y_train = train_data['가격면적']\n",
    "    \n",
    "    print(x_train.shape)\n",
    "    \n",
    "    x_val = val_data.drop(columns=target_cols)\n",
    "    y_val = val_data['가격면적']\n",
    "    \n",
    "    print('y dist plot')\n",
    "    y_val.hist(bins=100)\n",
    "    plt.show()\n",
    "    plt.clf()\n",
    "    \n",
    "    ml_model = GradientBoostingRegressor()\n",
    "    \n",
    "    ml_model.fit(x_train, y_train)\n",
    "    \n",
    "    preds = ml_model.predict(x_val)\n",
    "    \n",
    "    print('preds dist plot')\n",
    "    sns.displot(preds)\n",
    "    plt.show()\n",
    "    plt.clf()\n",
    "    \n",
    "    print(np.sqrt(mean_squared_error(y_val, preds)))\n",
    "    \n",
    "    print('Fold {} end'.format(count))\n",
    "    count += 1\n",
    "    \n",
    "    break"
   ]
  },
  {
   "cell_type": "code",
   "execution_count": null,
   "metadata": {},
   "outputs": [],
   "source": []
  }
 ],
 "metadata": {
  "kernelspec": {
   "display_name": "Python 3",
   "language": "python",
   "name": "python3"
  },
  "language_info": {
   "codemirror_mode": {
    "name": "ipython",
    "version": 3
   },
   "file_extension": ".py",
   "mimetype": "text/x-python",
   "name": "python",
   "nbconvert_exporter": "python",
   "pygments_lexer": "ipython3",
   "version": "3.7.9"
  }
 },
 "nbformat": 4,
 "nbformat_minor": 4
}
