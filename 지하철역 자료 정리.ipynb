{
 "cells": [
  {
   "cell_type": "code",
   "execution_count": 1,
   "metadata": {},
   "outputs": [],
   "source": [
    "import numpy as np\n",
    "import pandas as pd"
   ]
  },
  {
   "cell_type": "code",
   "execution_count": 2,
   "metadata": {},
   "outputs": [
    {
     "name": "stdout",
     "output_type": "stream",
     "text": [
      "(744, 4)\n"
     ]
    },
    {
     "data": {
      "text/html": [
       "<div>\n",
       "<style scoped>\n",
       "    .dataframe tbody tr th:only-of-type {\n",
       "        vertical-align: middle;\n",
       "    }\n",
       "\n",
       "    .dataframe tbody tr th {\n",
       "        vertical-align: top;\n",
       "    }\n",
       "\n",
       "    .dataframe thead th {\n",
       "        text-align: right;\n",
       "    }\n",
       "</style>\n",
       "<table border=\"1\" class=\"dataframe\">\n",
       "  <thead>\n",
       "    <tr style=\"text-align: right;\">\n",
       "      <th></th>\n",
       "      <th>철도역</th>\n",
       "      <th>영문 철도역</th>\n",
       "      <th>소재지</th>\n",
       "      <th>이용 가능한 노선</th>\n",
       "    </tr>\n",
       "  </thead>\n",
       "  <tbody>\n",
       "    <tr>\n",
       "      <th>0</th>\n",
       "      <td>가능</td>\n",
       "      <td>Ganeung</td>\n",
       "      <td>경기도 의정부시</td>\n",
       "      <td>1호선</td>\n",
       "    </tr>\n",
       "    <tr>\n",
       "      <th>1</th>\n",
       "      <td>가락시장</td>\n",
       "      <td>Garak Market</td>\n",
       "      <td>서울특별시 송파구</td>\n",
       "      <td>3호선</td>\n",
       "    </tr>\n",
       "    <tr>\n",
       "      <th>2</th>\n",
       "      <td>NaN</td>\n",
       "      <td>NaN</td>\n",
       "      <td>NaN</td>\n",
       "      <td>8호선</td>\n",
       "    </tr>\n",
       "    <tr>\n",
       "      <th>3</th>\n",
       "      <td>가산디지털단지</td>\n",
       "      <td>Gasan Digital Complex</td>\n",
       "      <td>서울특별시 금천구</td>\n",
       "      <td>1호선</td>\n",
       "    </tr>\n",
       "    <tr>\n",
       "      <th>4</th>\n",
       "      <td>NaN</td>\n",
       "      <td>NaN</td>\n",
       "      <td>NaN</td>\n",
       "      <td>7호선</td>\n",
       "    </tr>\n",
       "  </tbody>\n",
       "</table>\n",
       "</div>"
      ],
      "text/plain": [
       "       철도역                 영문 철도역        소재지 이용 가능한 노선\n",
       "0       가능                Ganeung   경기도 의정부시       1호선\n",
       "1     가락시장           Garak Market  서울특별시 송파구       3호선\n",
       "2      NaN                    NaN        NaN       8호선\n",
       "3  가산디지털단지  Gasan Digital Complex  서울특별시 금천구       1호선\n",
       "4      NaN                    NaN        NaN       7호선"
      ]
     },
     "execution_count": 2,
     "metadata": {},
     "output_type": "execute_result"
    }
   ],
   "source": [
    "subway_df = pd.read_excel('./지하철역/지하철역.xlsx')\n",
    "print(subway_df.shape)\n",
    "subway_df.head()"
   ]
  },
  {
   "cell_type": "code",
   "execution_count": 12,
   "metadata": {},
   "outputs": [
    {
     "name": "stdout",
     "output_type": "stream",
     "text": [
      "(744, 3)\n"
     ]
    },
    {
     "data": {
      "text/html": [
       "<div>\n",
       "<style scoped>\n",
       "    .dataframe tbody tr th:only-of-type {\n",
       "        vertical-align: middle;\n",
       "    }\n",
       "\n",
       "    .dataframe tbody tr th {\n",
       "        vertical-align: top;\n",
       "    }\n",
       "\n",
       "    .dataframe thead th {\n",
       "        text-align: right;\n",
       "    }\n",
       "</style>\n",
       "<table border=\"1\" class=\"dataframe\">\n",
       "  <thead>\n",
       "    <tr style=\"text-align: right;\">\n",
       "      <th></th>\n",
       "      <th>철도역</th>\n",
       "      <th>영문 철도역</th>\n",
       "      <th>소재지</th>\n",
       "    </tr>\n",
       "  </thead>\n",
       "  <tbody>\n",
       "    <tr>\n",
       "      <th>0</th>\n",
       "      <td>가능</td>\n",
       "      <td>Ganeung</td>\n",
       "      <td>경기도 의정부시</td>\n",
       "    </tr>\n",
       "    <tr>\n",
       "      <th>1</th>\n",
       "      <td>가락시장</td>\n",
       "      <td>Garak Market</td>\n",
       "      <td>서울특별시 송파구</td>\n",
       "    </tr>\n",
       "    <tr>\n",
       "      <th>2</th>\n",
       "      <td>NaN</td>\n",
       "      <td>NaN</td>\n",
       "      <td>NaN</td>\n",
       "    </tr>\n",
       "    <tr>\n",
       "      <th>3</th>\n",
       "      <td>가산디지털단지</td>\n",
       "      <td>Gasan Digital Complex</td>\n",
       "      <td>서울특별시 금천구</td>\n",
       "    </tr>\n",
       "    <tr>\n",
       "      <th>4</th>\n",
       "      <td>NaN</td>\n",
       "      <td>NaN</td>\n",
       "      <td>NaN</td>\n",
       "    </tr>\n",
       "  </tbody>\n",
       "</table>\n",
       "</div>"
      ],
      "text/plain": [
       "       철도역                 영문 철도역        소재지\n",
       "0       가능                Ganeung   경기도 의정부시\n",
       "1     가락시장           Garak Market  서울특별시 송파구\n",
       "2      NaN                    NaN        NaN\n",
       "3  가산디지털단지  Gasan Digital Complex  서울특별시 금천구\n",
       "4      NaN                    NaN        NaN"
      ]
     },
     "execution_count": 12,
     "metadata": {},
     "output_type": "execute_result"
    }
   ],
   "source": [
    "seoul_subway_df = subway_df.drop(columns=['이용 가능한 노선']).reset_index(drop=True)\n",
    "#seoul_subway_df = seoul_subway_df[seoul_subway_df['소재지'].str.contains('서울특별시')]\n",
    "print(seoul_subway_df.shape)\n",
    "seoul_subway_df.head()"
   ]
  },
  {
   "cell_type": "code",
   "execution_count": 13,
   "metadata": {},
   "outputs": [
    {
     "data": {
      "text/plain": [
       "철도역       120\n",
       "영문 철도역    120\n",
       "소재지       113\n",
       "dtype: int64"
      ]
     },
     "execution_count": 13,
     "metadata": {},
     "output_type": "execute_result"
    }
   ],
   "source": [
    "seoul_subway_df.isna().sum()"
   ]
  },
  {
   "cell_type": "code",
   "execution_count": 14,
   "metadata": {},
   "outputs": [],
   "source": [
    "seoul_subway_df.fillna(0, inplace=True)"
   ]
  },
  {
   "cell_type": "code",
   "execution_count": 15,
   "metadata": {},
   "outputs": [
    {
     "data": {
      "text/html": [
       "<div>\n",
       "<style scoped>\n",
       "    .dataframe tbody tr th:only-of-type {\n",
       "        vertical-align: middle;\n",
       "    }\n",
       "\n",
       "    .dataframe tbody tr th {\n",
       "        vertical-align: top;\n",
       "    }\n",
       "\n",
       "    .dataframe thead th {\n",
       "        text-align: right;\n",
       "    }\n",
       "</style>\n",
       "<table border=\"1\" class=\"dataframe\">\n",
       "  <thead>\n",
       "    <tr style=\"text-align: right;\">\n",
       "      <th></th>\n",
       "      <th>철도역</th>\n",
       "      <th>영문 철도역</th>\n",
       "      <th>소재지</th>\n",
       "    </tr>\n",
       "  </thead>\n",
       "  <tbody>\n",
       "    <tr>\n",
       "      <th>0</th>\n",
       "      <td>가능</td>\n",
       "      <td>Ganeung</td>\n",
       "      <td>경기도 의정부시</td>\n",
       "    </tr>\n",
       "    <tr>\n",
       "      <th>1</th>\n",
       "      <td>가락시장</td>\n",
       "      <td>Garak Market</td>\n",
       "      <td>서울특별시 송파구</td>\n",
       "    </tr>\n",
       "    <tr>\n",
       "      <th>2</th>\n",
       "      <td>0</td>\n",
       "      <td>0</td>\n",
       "      <td>0</td>\n",
       "    </tr>\n",
       "    <tr>\n",
       "      <th>3</th>\n",
       "      <td>가산디지털단지</td>\n",
       "      <td>Gasan Digital Complex</td>\n",
       "      <td>서울특별시 금천구</td>\n",
       "    </tr>\n",
       "    <tr>\n",
       "      <th>4</th>\n",
       "      <td>0</td>\n",
       "      <td>0</td>\n",
       "      <td>0</td>\n",
       "    </tr>\n",
       "  </tbody>\n",
       "</table>\n",
       "</div>"
      ],
      "text/plain": [
       "       철도역                 영문 철도역        소재지\n",
       "0       가능                Ganeung   경기도 의정부시\n",
       "1     가락시장           Garak Market  서울특별시 송파구\n",
       "2        0                      0          0\n",
       "3  가산디지털단지  Gasan Digital Complex  서울특별시 금천구\n",
       "4        0                      0          0"
      ]
     },
     "execution_count": 15,
     "metadata": {},
     "output_type": "execute_result"
    }
   ],
   "source": [
    "seoul_subway_df.head()"
   ]
  },
  {
   "cell_type": "code",
   "execution_count": 16,
   "metadata": {},
   "outputs": [
    {
     "name": "stdout",
     "output_type": "stream",
     "text": [
      "(624, 3)\n"
     ]
    }
   ],
   "source": [
    "seoul_subway_df = seoul_subway_df[seoul_subway_df['철도역'] != 0]\n",
    "print(seoul_subway_df.shape)"
   ]
  },
  {
   "cell_type": "code",
   "execution_count": 17,
   "metadata": {},
   "outputs": [
    {
     "name": "stdout",
     "output_type": "stream",
     "text": [
      "(624, 3)\n"
     ]
    }
   ],
   "source": [
    "seoul_subway_df = seoul_subway_df[seoul_subway_df['소재지'] != 0]\n",
    "print(seoul_subway_df.shape)"
   ]
  },
  {
   "cell_type": "code",
   "execution_count": 18,
   "metadata": {},
   "outputs": [
    {
     "data": {
      "text/html": [
       "<div>\n",
       "<style scoped>\n",
       "    .dataframe tbody tr th:only-of-type {\n",
       "        vertical-align: middle;\n",
       "    }\n",
       "\n",
       "    .dataframe tbody tr th {\n",
       "        vertical-align: top;\n",
       "    }\n",
       "\n",
       "    .dataframe thead th {\n",
       "        text-align: right;\n",
       "    }\n",
       "</style>\n",
       "<table border=\"1\" class=\"dataframe\">\n",
       "  <thead>\n",
       "    <tr style=\"text-align: right;\">\n",
       "      <th></th>\n",
       "      <th>철도역</th>\n",
       "      <th>영문 철도역</th>\n",
       "      <th>소재지</th>\n",
       "    </tr>\n",
       "  </thead>\n",
       "  <tbody>\n",
       "    <tr>\n",
       "      <th>0</th>\n",
       "      <td>가능</td>\n",
       "      <td>Ganeung</td>\n",
       "      <td>경기도 의정부시</td>\n",
       "    </tr>\n",
       "    <tr>\n",
       "      <th>1</th>\n",
       "      <td>가락시장</td>\n",
       "      <td>Garak Market</td>\n",
       "      <td>서울특별시 송파구</td>\n",
       "    </tr>\n",
       "    <tr>\n",
       "      <th>3</th>\n",
       "      <td>가산디지털단지</td>\n",
       "      <td>Gasan Digital Complex</td>\n",
       "      <td>서울특별시 금천구</td>\n",
       "    </tr>\n",
       "    <tr>\n",
       "      <th>5</th>\n",
       "      <td>가양</td>\n",
       "      <td>Gayang</td>\n",
       "      <td>서울특별시 강서구</td>\n",
       "    </tr>\n",
       "    <tr>\n",
       "      <th>6</th>\n",
       "      <td>가오리</td>\n",
       "      <td>Gaori</td>\n",
       "      <td>서울특별시 강북구</td>\n",
       "    </tr>\n",
       "  </tbody>\n",
       "</table>\n",
       "</div>"
      ],
      "text/plain": [
       "       철도역                 영문 철도역        소재지\n",
       "0       가능                Ganeung   경기도 의정부시\n",
       "1     가락시장           Garak Market  서울특별시 송파구\n",
       "3  가산디지털단지  Gasan Digital Complex  서울특별시 금천구\n",
       "5       가양                 Gayang  서울특별시 강서구\n",
       "6      가오리                  Gaori  서울특별시 강북구"
      ]
     },
     "execution_count": 18,
     "metadata": {},
     "output_type": "execute_result"
    }
   ],
   "source": [
    "seoul_subway_df.head()"
   ]
  },
  {
   "cell_type": "code",
   "execution_count": 19,
   "metadata": {},
   "outputs": [
    {
     "data": {
      "text/plain": [
       "array(['경기도\\xa0의정부시', '서울특별시\\xa0송파구', '서울특별시\\xa0금천구', '서울특별시\\xa0강서구',\n",
       "       '서울특별시\\xa0강북구', '인천광역시\\xa0서구', '서울특별시\\xa0서대문구', '경기도\\xa0성남시',\n",
       "       '경기도\\xa0가평군', '인천광역시\\xa0남동구', '경기도\\xa0구리시', '인천광역시\\xa0부평구',\n",
       "       '서울특별시\\xa0강남구', '경기도\\xa0용인시', '서울특별시\\xa0강동구', '경기도\\xa0고양시',\n",
       "       '서울특별시\\xa0광진구', '강원도\\xa0춘천시', '서울특별시\\xa0구로구', '경기도\\xa0김포시',\n",
       "       '경기도\\xa0광주시', '경기도\\xa0과천시', '서울특별시\\xa0종로구', '인천광역시\\xa0계양구',\n",
       "       '서울특별시\\xa0성북구', '경기도\\xa0수원시', '서울특별시\\xa0서초구', '경기도\\xa0안산시',\n",
       "       '서울특별시\\xa0마포구', '서울특별시\\xa0노원구', '인천광역시\\xa0중구', '경기도\\xa0안양시',\n",
       "       '경기도\\xa0광명시', '서울특별시\\xa0은평구', '경기도\\xa0양평군', '인천광역시\\xa0연수구',\n",
       "       '서울특별시\\xa0영등포구', '경기도\\xa0군포시', '경기도\\xa0남양주시', '경기도\\xa0파주시',\n",
       "       '서울특별시\\xa0성동구', '경기도\\xa0부천시', '서울특별시\\xa0관악구', '서울특별시\\xa0동작구',\n",
       "       '서울특별시\\xa0용산구', '경기도\\xa0시흥시', '서울특별시\\xa0동대문구', '경기도\\xa0양주시',\n",
       "       '서울특별시\\xa0도봉구', '인천광역시\\xa0동구', '인천광역시\\xa0미추홀구', '서울특별시\\xa0중구',\n",
       "       '경기도\\xa0동두천시', '충청남도\\xa0천안시', '서울특별시\\xa0양천구', '서울특별시\\xa0중랑구',\n",
       "       '경기도\\xa0하남시', '충청남도\\xa0아산시', '경기도\\xa0화성시', '경기도\\xa0이천시',\n",
       "       '경기도\\xa0오산시', '경기도\\xa0평택시', '경기도\\xa0여주시', '경기도\\xa0의왕시'],\n",
       "      dtype=object)"
      ]
     },
     "execution_count": 19,
     "metadata": {},
     "output_type": "execute_result"
    }
   ],
   "source": [
    "seoul_subway_df['소재지'].unique()"
   ]
  },
  {
   "cell_type": "code",
   "execution_count": 20,
   "metadata": {},
   "outputs": [
    {
     "name": "stdout",
     "output_type": "stream",
     "text": [
      "(298, 3)\n"
     ]
    }
   ],
   "source": [
    "seoul_subway_df = seoul_subway_df[seoul_subway_df['소재지'].str.contains('서울특별시')]\n",
    "print(seoul_subway_df.shape)"
   ]
  },
  {
   "cell_type": "code",
   "execution_count": 21,
   "metadata": {},
   "outputs": [
    {
     "data": {
      "text/html": [
       "<div>\n",
       "<style scoped>\n",
       "    .dataframe tbody tr th:only-of-type {\n",
       "        vertical-align: middle;\n",
       "    }\n",
       "\n",
       "    .dataframe tbody tr th {\n",
       "        vertical-align: top;\n",
       "    }\n",
       "\n",
       "    .dataframe thead th {\n",
       "        text-align: right;\n",
       "    }\n",
       "</style>\n",
       "<table border=\"1\" class=\"dataframe\">\n",
       "  <thead>\n",
       "    <tr style=\"text-align: right;\">\n",
       "      <th></th>\n",
       "      <th>철도역</th>\n",
       "      <th>영문 철도역</th>\n",
       "      <th>소재지</th>\n",
       "    </tr>\n",
       "  </thead>\n",
       "  <tbody>\n",
       "    <tr>\n",
       "      <th>1</th>\n",
       "      <td>가락시장</td>\n",
       "      <td>Garak Market</td>\n",
       "      <td>서울특별시 송파구</td>\n",
       "    </tr>\n",
       "    <tr>\n",
       "      <th>3</th>\n",
       "      <td>가산디지털단지</td>\n",
       "      <td>Gasan Digital Complex</td>\n",
       "      <td>서울특별시 금천구</td>\n",
       "    </tr>\n",
       "    <tr>\n",
       "      <th>5</th>\n",
       "      <td>가양</td>\n",
       "      <td>Gayang</td>\n",
       "      <td>서울특별시 강서구</td>\n",
       "    </tr>\n",
       "    <tr>\n",
       "      <th>6</th>\n",
       "      <td>가오리</td>\n",
       "      <td>Gaori</td>\n",
       "      <td>서울특별시 강북구</td>\n",
       "    </tr>\n",
       "    <tr>\n",
       "      <th>10</th>\n",
       "      <td>가좌</td>\n",
       "      <td>Gajwa</td>\n",
       "      <td>서울특별시 서대문구</td>\n",
       "    </tr>\n",
       "  </tbody>\n",
       "</table>\n",
       "</div>"
      ],
      "text/plain": [
       "        철도역                 영문 철도역         소재지\n",
       "1      가락시장           Garak Market   서울특별시 송파구\n",
       "3   가산디지털단지  Gasan Digital Complex   서울특별시 금천구\n",
       "5        가양                 Gayang   서울특별시 강서구\n",
       "6       가오리                  Gaori   서울특별시 강북구\n",
       "10       가좌                  Gajwa  서울특별시 서대문구"
      ]
     },
     "execution_count": 21,
     "metadata": {},
     "output_type": "execute_result"
    }
   ],
   "source": [
    "seoul_subway_df.head()"
   ]
  },
  {
   "cell_type": "code",
   "execution_count": 22,
   "metadata": {},
   "outputs": [
    {
     "name": "stdout",
     "output_type": "stream",
     "text": [
      "(2, 3)\n"
     ]
    },
    {
     "data": {
      "text/html": [
       "<div>\n",
       "<style scoped>\n",
       "    .dataframe tbody tr th:only-of-type {\n",
       "        vertical-align: middle;\n",
       "    }\n",
       "\n",
       "    .dataframe tbody tr th {\n",
       "        vertical-align: top;\n",
       "    }\n",
       "\n",
       "    .dataframe thead th {\n",
       "        text-align: right;\n",
       "    }\n",
       "</style>\n",
       "<table border=\"1\" class=\"dataframe\">\n",
       "  <thead>\n",
       "    <tr style=\"text-align: right;\">\n",
       "      <th></th>\n",
       "      <th>철도역</th>\n",
       "      <th>영문 철도역</th>\n",
       "      <th>소재지</th>\n",
       "    </tr>\n",
       "  </thead>\n",
       "  <tbody>\n",
       "    <tr>\n",
       "      <th>485</th>\n",
       "      <td>양재</td>\n",
       "      <td>Yangjae</td>\n",
       "      <td>서울특별시 서초구</td>\n",
       "    </tr>\n",
       "    <tr>\n",
       "      <th>487</th>\n",
       "      <td>양재시민의숲</td>\n",
       "      <td>Yangjae Citizen's Forest</td>\n",
       "      <td>서울특별시 서초구</td>\n",
       "    </tr>\n",
       "  </tbody>\n",
       "</table>\n",
       "</div>"
      ],
      "text/plain": [
       "        철도역                    영문 철도역        소재지\n",
       "485      양재                   Yangjae  서울특별시 서초구\n",
       "487  양재시민의숲  Yangjae Citizen's Forest  서울특별시 서초구"
      ]
     },
     "execution_count": 22,
     "metadata": {},
     "output_type": "execute_result"
    }
   ],
   "source": [
    "inv_df = seoul_subway_df[seoul_subway_df['철도역'].str.contains('양재')]\n",
    "print(inv_df.shape)\n",
    "inv_df"
   ]
  }
 ],
 "metadata": {
  "kernelspec": {
   "display_name": "Python 3",
   "language": "python",
   "name": "python3"
  },
  "language_info": {
   "codemirror_mode": {
    "name": "ipython",
    "version": 3
   },
   "file_extension": ".py",
   "mimetype": "text/x-python",
   "name": "python",
   "nbconvert_exporter": "python",
   "pygments_lexer": "ipython3",
   "version": "3.7.9"
  }
 },
 "nbformat": 4,
 "nbformat_minor": 4
}
