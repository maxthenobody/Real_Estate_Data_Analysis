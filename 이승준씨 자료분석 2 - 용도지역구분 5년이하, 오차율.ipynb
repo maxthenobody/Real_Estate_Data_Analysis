{
 "cells": [
  {
   "cell_type": "code",
   "execution_count": 1,
   "metadata": {},
   "outputs": [],
   "source": [
    "import pandas as pd\n",
    "import numpy as np\n",
    "import os\n",
    "pd.set_option('display.max_rows', 500)\n",
    "pd.set_option('display.max_columns', 500)\n",
    "from tqdm import tqdm\n",
    "import matplotlib.pyplot as plt\n",
    "import seaborn as sns\n",
    "import matplotlib\n",
    "matplotlib.rcParams['axes.unicode_minus'] = False\n",
    "pd.options.mode.chained_assignment = None  # default='warn'\n",
    "plt.rcParams['font.family'] = 'Malgun Gothic'\n",
    "font = {'size': 16}\n",
    "matplotlib.rc('font', **font)"
   ]
  },
  {
   "cell_type": "code",
   "execution_count": 2,
   "metadata": {},
   "outputs": [],
   "source": [
    "def day_modifier(x):\n",
    "    # x is a number\n",
    "    \n",
    "    if pd.isna(x) == True:\n",
    "        return x\n",
    "    else:\n",
    "        x = str(x)\n",
    "        if len(x) == 1:\n",
    "            return '0' + x\n",
    "        else:\n",
    "            return x"
   ]
  },
  {
   "cell_type": "code",
   "execution_count": 3,
   "metadata": {},
   "outputs": [],
   "source": [
    "def landnum_modifier(x):\n",
    "    # x is a string\n",
    "    \n",
    "    if pd.isna(x) == True:\n",
    "        return x\n",
    "    else:\n",
    "        x = str(x).replace('외', '').replace(' ','')\n",
    "        splitted = x.split('-')\n",
    "        if len(splitted) == 1:\n",
    "            return x + '-0'\n",
    "        else:\n",
    "            return x"
   ]
  },
  {
   "cell_type": "code",
   "execution_count": 4,
   "metadata": {},
   "outputs": [],
   "source": [
    "def yunrip_data_prep():\n",
    "    basedir = './국토교통부_실거래가_공개시스템/연립다세대/매매/'\n",
    "    filenames = [f for f in os.listdir(basedir) if (f.endswith('.csv'))&('(' in f)]\n",
    "    \n",
    "    dfs_list = []\n",
    "    for i, f in tqdm(enumerate(filenames)):\n",
    "        df = pd.read_csv(basedir + f, encoding='euc-kr', header=15)\n",
    "        if '해제사유발생일' in df.columns.tolist():\n",
    "            df = df.drop(columns=['해제사유발생일'])\n",
    "\n",
    "        dfs_list.append(df)\n",
    "    \n",
    "    concat_df = pd.concat(dfs_list).reset_index(drop=True)\n",
    "    \n",
    "    concat_df['번지'] = concat_df['번지'].apply(landnum_modifier)\n",
    "    \n",
    "    concat_df['계약년월'] = concat_df['계약년월'].apply(str)\n",
    "    concat_df['계약일'] = concat_df['계약일'].apply(str)\n",
    "    \n",
    "    concat_df['건물연식'] = concat_df['계약년월'].apply(lambda x: int(x[:4])) - concat_df['건축년도']\n",
    "    \n",
    "    concat_df['계약일'] = concat_df['계약일'].apply(day_modifier)\n",
    "    \n",
    "    concat_df['계약날짜'] = concat_df['계약년월'].apply(lambda x: x[:4]) + '-' + concat_df['계약년월'].apply(lambda x: x[-2:])\\\n",
    "    + '-' + concat_df['계약일']\n",
    "    \n",
    "    concat_df['계약날짜'] = pd.to_datetime(concat_df['계약날짜'], format='%Y-%m-%d')\n",
    "    \n",
    "    concat_df['거래금액(만원)'] = concat_df['거래금액(만원)'].apply(lambda x: int(x.replace(',','')))\n",
    "    concat_df['전용면적단가(만원/㎡)'] = concat_df['거래금액(만원)'] / concat_df['전용면적(㎡)']\n",
    "    \n",
    "    concat_df['지번주소'] = concat_df['시군구'] + ' ' + concat_df['번지']\n",
    "    \n",
    "    concat_df['년'] = concat_df['계약날짜'].dt.year\n",
    "    \n",
    "    cols_to_drop = ['시군구', '번지', '본번', '부번', '지번주소', '계약년월', '계약일', '도로명']\n",
    "    \n",
    "    concat_df = concat_df[concat_df['년'] >= 2015]\n",
    "    \n",
    "    return concat_df[['지번주소'] + [col for col in concat_df.columns if col not in cols_to_drop]]"
   ]
  },
  {
   "cell_type": "code",
   "execution_count": 5,
   "metadata": {},
   "outputs": [],
   "source": [
    "def officetel_data_prep():\n",
    "    basedir = './국토교통부_실거래가_공개시스템/오피스텔/매매/'\n",
    "    filenames = [f for f in os.listdir(basedir) if (f.endswith('.csv'))&('(' in f)]\n",
    "    \n",
    "    dfs_list = []\n",
    "    for i, f in tqdm(enumerate(filenames)):\n",
    "        df = pd.read_csv(basedir + f, encoding='euc-kr', header=15)\n",
    "        if '해제사유발생일' in df.columns.tolist():\n",
    "            df = df.drop(columns=['해제사유발생일'])\n",
    "\n",
    "        dfs_list.append(df)\n",
    "    \n",
    "    concat_df = pd.concat(dfs_list).reset_index(drop=True)\n",
    "    \n",
    "    concat_df['번지'] = concat_df['번지'].apply(landnum_modifier)\n",
    "    \n",
    "    concat_df['계약년월'] = concat_df['계약년월'].apply(str)\n",
    "    concat_df['계약일'] = concat_df['계약일'].apply(str)\n",
    "    \n",
    "    concat_df['건물연식'] = concat_df['계약년월'].apply(lambda x: int(x[:4])) - concat_df['건축년도']\n",
    "    \n",
    "    concat_df['계약일'] = concat_df['계약일'].apply(day_modifier)\n",
    "    \n",
    "    concat_df['계약날짜'] = concat_df['계약년월'].apply(lambda x: x[:4]) + '-' + concat_df['계약년월'].apply(lambda x: x[-2:])\\\n",
    "    + '-' + concat_df['계약일']\n",
    "    \n",
    "    concat_df['계약날짜'] = pd.to_datetime(concat_df['계약날짜'], format='%Y-%m-%d')\n",
    "    \n",
    "    concat_df['거래금액(만원)'] = concat_df['거래금액(만원)'].apply(lambda x: int(x.replace(',','')))\n",
    "    concat_df['전용면적단가(만원/㎡)'] = concat_df['거래금액(만원)'] / concat_df['전용면적(㎡)']\n",
    "    \n",
    "    concat_df['지번주소'] = concat_df['시군구'] + ' ' + concat_df['번지']\n",
    "    \n",
    "    concat_df['년'] = concat_df['계약날짜'].dt.year\n",
    "    \n",
    "    cols_to_drop = ['시군구', '번지', '본번', '부번', '지번주소', '계약년월', '계약일', '도로명']\n",
    "    \n",
    "    concat_df = concat_df[concat_df['년'] >= 2015]\n",
    "        \n",
    "    return concat_df[['지번주소'] + [col for col in concat_df.columns if col not in cols_to_drop]]"
   ]
  },
  {
   "cell_type": "code",
   "execution_count": 6,
   "metadata": {},
   "outputs": [
    {
     "name": "stderr",
     "output_type": "stream",
     "text": [
      "16it [00:01, 10.74it/s]\n"
     ]
    },
    {
     "name": "stdout",
     "output_type": "stream",
     "text": [
      "(329098, 11)\n"
     ]
    },
    {
     "data": {
      "text/html": [
       "<div>\n",
       "<style scoped>\n",
       "    .dataframe tbody tr th:only-of-type {\n",
       "        vertical-align: middle;\n",
       "    }\n",
       "\n",
       "    .dataframe tbody tr th {\n",
       "        vertical-align: top;\n",
       "    }\n",
       "\n",
       "    .dataframe thead th {\n",
       "        text-align: right;\n",
       "    }\n",
       "</style>\n",
       "<table border=\"1\" class=\"dataframe\">\n",
       "  <thead>\n",
       "    <tr style=\"text-align: right;\">\n",
       "      <th></th>\n",
       "      <th>지번주소</th>\n",
       "      <th>건물명</th>\n",
       "      <th>전용면적(㎡)</th>\n",
       "      <th>대지권면적(㎡)</th>\n",
       "      <th>거래금액(만원)</th>\n",
       "      <th>층</th>\n",
       "      <th>건축년도</th>\n",
       "      <th>건물연식</th>\n",
       "      <th>계약날짜</th>\n",
       "      <th>전용면적단가(만원/㎡)</th>\n",
       "      <th>년</th>\n",
       "    </tr>\n",
       "  </thead>\n",
       "  <tbody>\n",
       "    <tr>\n",
       "      <th>358389</th>\n",
       "      <td>서울특별시 강남구 개포동 1216-4</td>\n",
       "      <td>(1216-4)</td>\n",
       "      <td>33.77</td>\n",
       "      <td>21.67</td>\n",
       "      <td>24800</td>\n",
       "      <td>4</td>\n",
       "      <td>2012.0</td>\n",
       "      <td>3.0</td>\n",
       "      <td>2015-03-26</td>\n",
       "      <td>734.379627</td>\n",
       "      <td>2015</td>\n",
       "    </tr>\n",
       "    <tr>\n",
       "      <th>358390</th>\n",
       "      <td>서울특별시 강남구 개포동 1216-4</td>\n",
       "      <td>(1216-4)</td>\n",
       "      <td>35.87</td>\n",
       "      <td>23.02</td>\n",
       "      <td>27200</td>\n",
       "      <td>4</td>\n",
       "      <td>2012.0</td>\n",
       "      <td>3.0</td>\n",
       "      <td>2015-06-23</td>\n",
       "      <td>758.293839</td>\n",
       "      <td>2015</td>\n",
       "    </tr>\n",
       "    <tr>\n",
       "      <th>358391</th>\n",
       "      <td>서울특별시 강남구 개포동 1216-4</td>\n",
       "      <td>(1216-4)</td>\n",
       "      <td>29.12</td>\n",
       "      <td>18.68</td>\n",
       "      <td>22200</td>\n",
       "      <td>4</td>\n",
       "      <td>2012.0</td>\n",
       "      <td>3.0</td>\n",
       "      <td>2015-07-20</td>\n",
       "      <td>762.362637</td>\n",
       "      <td>2015</td>\n",
       "    </tr>\n",
       "    <tr>\n",
       "      <th>358392</th>\n",
       "      <td>서울특별시 강남구 개포동 1216-4</td>\n",
       "      <td>(1216-4)</td>\n",
       "      <td>29.97</td>\n",
       "      <td>19.23</td>\n",
       "      <td>22500</td>\n",
       "      <td>3</td>\n",
       "      <td>2012.0</td>\n",
       "      <td>3.0</td>\n",
       "      <td>2015-08-06</td>\n",
       "      <td>750.750751</td>\n",
       "      <td>2015</td>\n",
       "    </tr>\n",
       "    <tr>\n",
       "      <th>358393</th>\n",
       "      <td>서울특별시 강남구 개포동 170-18</td>\n",
       "      <td>(170-18)</td>\n",
       "      <td>26.60</td>\n",
       "      <td>21.53</td>\n",
       "      <td>21000</td>\n",
       "      <td>1</td>\n",
       "      <td>1988.0</td>\n",
       "      <td>27.0</td>\n",
       "      <td>2015-08-21</td>\n",
       "      <td>789.473684</td>\n",
       "      <td>2015</td>\n",
       "    </tr>\n",
       "  </tbody>\n",
       "</table>\n",
       "</div>"
      ],
      "text/plain": [
       "                        지번주소       건물명  전용면적(㎡)  대지권면적(㎡)  거래금액(만원)  층  \\\n",
       "358389  서울특별시 강남구 개포동 1216-4  (1216-4)    33.77     21.67     24800  4   \n",
       "358390  서울특별시 강남구 개포동 1216-4  (1216-4)    35.87     23.02     27200  4   \n",
       "358391  서울특별시 강남구 개포동 1216-4  (1216-4)    29.12     18.68     22200  4   \n",
       "358392  서울특별시 강남구 개포동 1216-4  (1216-4)    29.97     19.23     22500  3   \n",
       "358393  서울특별시 강남구 개포동 170-18  (170-18)    26.60     21.53     21000  1   \n",
       "\n",
       "          건축년도  건물연식       계약날짜  전용면적단가(만원/㎡)     년  \n",
       "358389  2012.0   3.0 2015-03-26    734.379627  2015  \n",
       "358390  2012.0   3.0 2015-06-23    758.293839  2015  \n",
       "358391  2012.0   3.0 2015-07-20    762.362637  2015  \n",
       "358392  2012.0   3.0 2015-08-06    750.750751  2015  \n",
       "358393  1988.0  27.0 2015-08-21    789.473684  2015  "
      ]
     },
     "execution_count": 6,
     "metadata": {},
     "output_type": "execute_result"
    }
   ],
   "source": [
    "yunrip_df = yunrip_data_prep()\n",
    "print(yunrip_df.shape)\n",
    "yunrip_df.head()"
   ]
  },
  {
   "cell_type": "code",
   "execution_count": 7,
   "metadata": {},
   "outputs": [
    {
     "name": "stderr",
     "output_type": "stream",
     "text": [
      "16it [00:00, 41.66it/s]\n"
     ]
    },
    {
     "name": "stdout",
     "output_type": "stream",
     "text": [
      "(77955, 10)\n"
     ]
    },
    {
     "data": {
      "text/html": [
       "<div>\n",
       "<style scoped>\n",
       "    .dataframe tbody tr th:only-of-type {\n",
       "        vertical-align: middle;\n",
       "    }\n",
       "\n",
       "    .dataframe tbody tr th {\n",
       "        vertical-align: top;\n",
       "    }\n",
       "\n",
       "    .dataframe thead th {\n",
       "        text-align: right;\n",
       "    }\n",
       "</style>\n",
       "<table border=\"1\" class=\"dataframe\">\n",
       "  <thead>\n",
       "    <tr style=\"text-align: right;\">\n",
       "      <th></th>\n",
       "      <th>지번주소</th>\n",
       "      <th>단지명</th>\n",
       "      <th>전용면적(㎡)</th>\n",
       "      <th>거래금액(만원)</th>\n",
       "      <th>층</th>\n",
       "      <th>건축년도</th>\n",
       "      <th>건물연식</th>\n",
       "      <th>계약날짜</th>\n",
       "      <th>전용면적단가(만원/㎡)</th>\n",
       "      <th>년</th>\n",
       "    </tr>\n",
       "  </thead>\n",
       "  <tbody>\n",
       "    <tr>\n",
       "      <th>100156</th>\n",
       "      <td>서울특별시 강남구 개포동 13-3</td>\n",
       "      <td>대청타워</td>\n",
       "      <td>43.24</td>\n",
       "      <td>22000</td>\n",
       "      <td>14</td>\n",
       "      <td>1997.0</td>\n",
       "      <td>18.0</td>\n",
       "      <td>2015-01-08</td>\n",
       "      <td>508.788159</td>\n",
       "      <td>2015</td>\n",
       "    </tr>\n",
       "    <tr>\n",
       "      <th>100157</th>\n",
       "      <td>서울특별시 강남구 개포동 13-3</td>\n",
       "      <td>대청타워</td>\n",
       "      <td>32.44</td>\n",
       "      <td>15800</td>\n",
       "      <td>21</td>\n",
       "      <td>1997.0</td>\n",
       "      <td>18.0</td>\n",
       "      <td>2015-01-12</td>\n",
       "      <td>487.053021</td>\n",
       "      <td>2015</td>\n",
       "    </tr>\n",
       "    <tr>\n",
       "      <th>100158</th>\n",
       "      <td>서울특별시 강남구 개포동 13-3</td>\n",
       "      <td>대청타워</td>\n",
       "      <td>32.44</td>\n",
       "      <td>16000</td>\n",
       "      <td>10</td>\n",
       "      <td>1997.0</td>\n",
       "      <td>18.0</td>\n",
       "      <td>2015-01-19</td>\n",
       "      <td>493.218249</td>\n",
       "      <td>2015</td>\n",
       "    </tr>\n",
       "    <tr>\n",
       "      <th>100159</th>\n",
       "      <td>서울특별시 강남구 개포동 13-3</td>\n",
       "      <td>대청타워</td>\n",
       "      <td>32.44</td>\n",
       "      <td>15400</td>\n",
       "      <td>21</td>\n",
       "      <td>1997.0</td>\n",
       "      <td>18.0</td>\n",
       "      <td>2015-01-26</td>\n",
       "      <td>474.722565</td>\n",
       "      <td>2015</td>\n",
       "    </tr>\n",
       "    <tr>\n",
       "      <th>100160</th>\n",
       "      <td>서울특별시 강남구 개포동 13-3</td>\n",
       "      <td>대청타워</td>\n",
       "      <td>31.91</td>\n",
       "      <td>16000</td>\n",
       "      <td>26</td>\n",
       "      <td>1997.0</td>\n",
       "      <td>18.0</td>\n",
       "      <td>2015-01-28</td>\n",
       "      <td>501.410216</td>\n",
       "      <td>2015</td>\n",
       "    </tr>\n",
       "  </tbody>\n",
       "</table>\n",
       "</div>"
      ],
      "text/plain": [
       "                      지번주소   단지명  전용면적(㎡)  거래금액(만원)   층    건축년도  건물연식  \\\n",
       "100156  서울특별시 강남구 개포동 13-3  대청타워    43.24     22000  14  1997.0  18.0   \n",
       "100157  서울특별시 강남구 개포동 13-3  대청타워    32.44     15800  21  1997.0  18.0   \n",
       "100158  서울특별시 강남구 개포동 13-3  대청타워    32.44     16000  10  1997.0  18.0   \n",
       "100159  서울특별시 강남구 개포동 13-3  대청타워    32.44     15400  21  1997.0  18.0   \n",
       "100160  서울특별시 강남구 개포동 13-3  대청타워    31.91     16000  26  1997.0  18.0   \n",
       "\n",
       "             계약날짜  전용면적단가(만원/㎡)     년  \n",
       "100156 2015-01-08    508.788159  2015  \n",
       "100157 2015-01-12    487.053021  2015  \n",
       "100158 2015-01-19    493.218249  2015  \n",
       "100159 2015-01-26    474.722565  2015  \n",
       "100160 2015-01-28    501.410216  2015  "
      ]
     },
     "execution_count": 7,
     "metadata": {},
     "output_type": "execute_result"
    }
   ],
   "source": [
    "officetel_df = officetel_data_prep()\n",
    "print(officetel_df.shape)\n",
    "officetel_df.head()"
   ]
  },
  {
   "cell_type": "code",
   "execution_count": 8,
   "metadata": {},
   "outputs": [
    {
     "name": "stdout",
     "output_type": "stream",
     "text": [
      "(8706295, 11)\n"
     ]
    },
    {
     "data": {
      "text/html": [
       "<div>\n",
       "<style scoped>\n",
       "    .dataframe tbody tr th:only-of-type {\n",
       "        vertical-align: middle;\n",
       "    }\n",
       "\n",
       "    .dataframe tbody tr th {\n",
       "        vertical-align: top;\n",
       "    }\n",
       "\n",
       "    .dataframe thead th {\n",
       "        text-align: right;\n",
       "    }\n",
       "</style>\n",
       "<table border=\"1\" class=\"dataframe\">\n",
       "  <thead>\n",
       "    <tr style=\"text-align: right;\">\n",
       "      <th></th>\n",
       "      <th>지번주소</th>\n",
       "      <th>년</th>\n",
       "      <th>지목명</th>\n",
       "      <th>토지면적</th>\n",
       "      <th>용도지역명1</th>\n",
       "      <th>용도지역명2</th>\n",
       "      <th>토지이동상황</th>\n",
       "      <th>지형높이</th>\n",
       "      <th>지형형상</th>\n",
       "      <th>도로접면</th>\n",
       "      <th>공시지가</th>\n",
       "    </tr>\n",
       "  </thead>\n",
       "  <tbody>\n",
       "    <tr>\n",
       "      <th>0</th>\n",
       "      <td>서울특별시 강남구 개포동 100-0</td>\n",
       "      <td>2013</td>\n",
       "      <td>전</td>\n",
       "      <td>876.0</td>\n",
       "      <td>자연녹지지역</td>\n",
       "      <td>지정되지않음</td>\n",
       "      <td>전</td>\n",
       "      <td>완경사</td>\n",
       "      <td>부정형</td>\n",
       "      <td>맹지</td>\n",
       "      <td>325000.0</td>\n",
       "    </tr>\n",
       "    <tr>\n",
       "      <th>1</th>\n",
       "      <td>서울특별시 강남구 개포동 100-0</td>\n",
       "      <td>2014</td>\n",
       "      <td>전</td>\n",
       "      <td>876.0</td>\n",
       "      <td>자연녹지지역</td>\n",
       "      <td>지정되지않음</td>\n",
       "      <td>전</td>\n",
       "      <td>완경사</td>\n",
       "      <td>부정형</td>\n",
       "      <td>맹지</td>\n",
       "      <td>330000.0</td>\n",
       "    </tr>\n",
       "    <tr>\n",
       "      <th>2</th>\n",
       "      <td>서울특별시 강남구 개포동 100-0</td>\n",
       "      <td>2015</td>\n",
       "      <td>전</td>\n",
       "      <td>876.0</td>\n",
       "      <td>자연녹지지역</td>\n",
       "      <td>지정되지않음</td>\n",
       "      <td>전</td>\n",
       "      <td>완경사</td>\n",
       "      <td>부정형</td>\n",
       "      <td>맹지</td>\n",
       "      <td>335000.0</td>\n",
       "    </tr>\n",
       "    <tr>\n",
       "      <th>3</th>\n",
       "      <td>서울특별시 강남구 개포동 100-0</td>\n",
       "      <td>2016</td>\n",
       "      <td>전</td>\n",
       "      <td>876.0</td>\n",
       "      <td>자연녹지지역</td>\n",
       "      <td>지정되지않음</td>\n",
       "      <td>전</td>\n",
       "      <td>완경사</td>\n",
       "      <td>부정형</td>\n",
       "      <td>맹지</td>\n",
       "      <td>345000.0</td>\n",
       "    </tr>\n",
       "    <tr>\n",
       "      <th>4</th>\n",
       "      <td>서울특별시 강남구 개포동 100-0</td>\n",
       "      <td>2017</td>\n",
       "      <td>전</td>\n",
       "      <td>876.0</td>\n",
       "      <td>자연녹지지역</td>\n",
       "      <td>지정되지않음</td>\n",
       "      <td>전</td>\n",
       "      <td>완경사</td>\n",
       "      <td>부정형</td>\n",
       "      <td>맹지</td>\n",
       "      <td>355000.0</td>\n",
       "    </tr>\n",
       "  </tbody>\n",
       "</table>\n",
       "</div>"
      ],
      "text/plain": [
       "                  지번주소     년 지목명   토지면적  용도지역명1  용도지역명2 토지이동상황 지형높이 지형형상 도로접면  \\\n",
       "0  서울특별시 강남구 개포동 100-0  2013   전  876.0  자연녹지지역  지정되지않음      전  완경사  부정형   맹지   \n",
       "1  서울특별시 강남구 개포동 100-0  2014   전  876.0  자연녹지지역  지정되지않음      전  완경사  부정형   맹지   \n",
       "2  서울특별시 강남구 개포동 100-0  2015   전  876.0  자연녹지지역  지정되지않음      전  완경사  부정형   맹지   \n",
       "3  서울특별시 강남구 개포동 100-0  2016   전  876.0  자연녹지지역  지정되지않음      전  완경사  부정형   맹지   \n",
       "4  서울특별시 강남구 개포동 100-0  2017   전  876.0  자연녹지지역  지정되지않음      전  완경사  부정형   맹지   \n",
       "\n",
       "       공시지가  \n",
       "0  325000.0  \n",
       "1  330000.0  \n",
       "2  335000.0  \n",
       "3  345000.0  \n",
       "4  355000.0  "
      ]
     },
     "execution_count": 8,
     "metadata": {},
     "output_type": "execute_result"
    }
   ],
   "source": [
    "land_specs_df = pd.read_csv('./prepped_data/land_specs_ver_4.csv')\n",
    "print(land_specs_df.shape)\n",
    "land_specs_df.head()"
   ]
  },
  {
   "cell_type": "code",
   "execution_count": null,
   "metadata": {},
   "outputs": [],
   "source": [
    "last_df = land_specs_df.drop_duplicates(subset=['지번주소'], keep='last').drop(columns=['년', '공시지가']).reset_index(drop=True)\n",
    "print(last_df.shape)\n",
    "last_df.head()"
   ]
  },
  {
   "cell_type": "code",
   "execution_count": null,
   "metadata": {},
   "outputs": [],
   "source": [
    "land_specs_df['도로접면'].value_counts()"
   ]
  },
  {
   "cell_type": "code",
   "execution_count": null,
   "metadata": {},
   "outputs": [],
   "source": [
    "yunrip_merge_df = yunrip_df.merge(land_specs_df, on=['지번주소', '년'])\n",
    "print(yunrip_merge_df.shape)\n",
    "yunrip_merge_df.head()"
   ]
  },
  {
   "cell_type": "code",
   "execution_count": null,
   "metadata": {},
   "outputs": [],
   "source": [
    "officetel_merge_df = officetel_df.merge(land_specs_df, on=['지번주소', '년'])\n",
    "print(officetel_merge_df.shape)\n",
    "officetel_merge_df.head()"
   ]
  },
  {
   "cell_type": "code",
   "execution_count": null,
   "metadata": {},
   "outputs": [],
   "source": [
    "reference_df = pd.read_excel('./감정평가사_자료/이승준_총괄표.xlsx', header=[0,1]).dropna(subset=[('소재지','소재지')]).sort_values([('소재지', '지역'),('소재지', '소재지'), ('소재지', '지번')]).reset_index(drop=True)\n",
    "print(reference_df.shape)\n",
    "reference_df.head()"
   ]
  },
  {
   "cell_type": "code",
   "execution_count": null,
   "metadata": {},
   "outputs": [],
   "source": [
    "reference_df[('소재지', '지번')] = reference_df[('소재지', '지번')].apply(landnum_modifier)"
   ]
  },
  {
   "cell_type": "code",
   "execution_count": null,
   "metadata": {},
   "outputs": [],
   "source": [
    "reference_df['지번주소'] = '서울특별시 ' + reference_df[('소재지', '지역')] + ' ' + reference_df[('소재지', '소재지')]\\\n",
    "+ ' ' + reference_df[('소재지', '지번')]"
   ]
  },
  {
   "cell_type": "code",
   "execution_count": null,
   "metadata": {},
   "outputs": [],
   "source": [
    "def date_modifier(x):\n",
    "    # x is a string or datetime\n",
    "    if pd.isna(x) == True:\n",
    "        return x\n",
    "    else:\n",
    "        x = str(x)\n",
    "        if '-' in x:\n",
    "            x = x.replace('-', '.')\n",
    "            \n",
    "        splitted = x.split('.')\n",
    "        \n",
    "        if len(splitted) == 1:\n",
    "            return np.nan\n",
    "        else:\n",
    "            return x"
   ]
  },
  {
   "cell_type": "code",
   "execution_count": null,
   "metadata": {},
   "outputs": [],
   "source": [
    "reference_df['기준시점2'] = reference_df[('수입/비용', '기준시점')].apply(date_modifier)"
   ]
  },
  {
   "cell_type": "code",
   "execution_count": null,
   "metadata": {},
   "outputs": [],
   "source": [
    "def get_year(x):\n",
    "    if pd.isna(x) == True:\n",
    "        return x\n",
    "    else:\n",
    "        return int(x.split('.')[0])"
   ]
  },
  {
   "cell_type": "code",
   "execution_count": null,
   "metadata": {},
   "outputs": [],
   "source": [
    "reference_df['년'] = reference_df['기준시점2'].apply(get_year)"
   ]
  },
  {
   "cell_type": "code",
   "execution_count": null,
   "metadata": {},
   "outputs": [],
   "source": [
    "reference_df['년'] = reference_df['년'].fillna(2020)\n",
    "reference_df['년'].isna().sum()"
   ]
  },
  {
   "cell_type": "code",
   "execution_count": null,
   "metadata": {},
   "outputs": [],
   "source": [
    "def get_bd_type(x):\n",
    "    # x is a string\n",
    "    \n",
    "    if pd.isna(x) == True:\n",
    "        return x\n",
    "    else:\n",
    "        if '오피' in x:\n",
    "            return '오피스텔'\n",
    "        else:\n",
    "            return '다세대'"
   ]
  },
  {
   "cell_type": "code",
   "execution_count": null,
   "metadata": {},
   "outputs": [],
   "source": [
    "reference_df['건물유형'] = reference_df[('건물내용', '건물용도')].apply(get_bd_type)"
   ]
  },
  {
   "cell_type": "code",
   "execution_count": null,
   "metadata": {},
   "outputs": [],
   "source": [
    "reference_df = reference_df.merge(last_df, on=['지번주소']).reset_index(drop=True)"
   ]
  },
  {
   "cell_type": "code",
   "execution_count": null,
   "metadata": {},
   "outputs": [],
   "source": [
    "reference_df.head()"
   ]
  },
  {
   "cell_type": "code",
   "execution_count": null,
   "metadata": {},
   "outputs": [],
   "source": [
    "reference_df['최근3년50분위'] = np.nan\n",
    "reference_df['최근3년50분위_평가단가와의격차'] = np.nan\n",
    "reference_df['최근3년평균'] = np.nan\n",
    "reference_df['최근3년평균_평가단가와의격차'] = np.nan\n",
    "reference_df['최근2년50분위'] = np.nan\n",
    "reference_df['최근2년50분위_평가단가와의격차'] = np.nan\n",
    "reference_df['최근2년평균'] = np.nan\n",
    "reference_df['최근2년평균_평가단가와의격차'] = np.nan\n",
    "reference_df['당해50분위'] = np.nan\n",
    "reference_df['당해50분위_평가단가와의격차'] = np.nan\n",
    "reference_df['당해평균'] = np.nan\n",
    "reference_df['당해평균_평가단가와의격차'] = np.nan"
   ]
  },
  {
   "cell_type": "code",
   "execution_count": null,
   "metadata": {},
   "outputs": [],
   "source": [
    "for i in tqdm(range(reference_df.shape[0])):\n",
    "    gu = reference_df.loc[i, ('소재지', '지역')].replace(' ', '')\n",
    "    dong = reference_df.loc[i, ('소재지', '소재지')].replace(' ', '')\n",
    "    \n",
    "    \n",
    "    land_purpose = reference_df.loc[i, ('토지내용', '용도지역')].replace(' ', '')[:3]\n",
    "    year = int(reference_df.loc[i, '년'])\n",
    "    bd_type = reference_df.loc[i, '건물유형'][0]\n",
    "    doro_ = reference_df.loc[]\n",
    "    \n",
    "    if bd_type == '오피스텔':\n",
    "        target_df = officetel_merge_df[(officetel_merge_df['지번주소'].str.contains(gu+' '+dong))&\n",
    "                                       (officetel_merge_df['용도지역명1'].str.contains(land_purpose))&\n",
    "                                       (officetel_merge_df['건물연식'] <= 5)\n",
    "                                      ]\n",
    "    else:\n",
    "        target_df = yunrip_merge_df[(yunrip_merge_df['지번주소'].str.contains(gu+' '+dong))&\n",
    "                                    (yunrip_merge_df['용도지역명1'].str.contains(land_purpose))&\n",
    "                                    (yunrip_merge_df['건물연식'] <= 5)\n",
    "                                   ]    \n",
    "    \n",
    "    \n",
    "    target_year_minus_two_df = target_df[(target_df['년'] <= year)&(target_df['년'] >= year-2)]\n",
    "    target_year_minus_one_df = target_df[(target_df['년'] <= year)&(target_df['년'] >= year-1)]\n",
    "    target_year_df = target_df[target_df['년'] == year]\n",
    "        \n",
    "        \n",
    "    reference_df.loc[i, '최근3년50분위'] = target_year_minus_two_df['전용면적단가(만원/㎡)'].median()\n",
    "    reference_df.loc[i, '최근3년평균'] = target_year_minus_two_df['전용면적단가(만원/㎡)'].mean()\n",
    "    reference_df.loc[i, '최근2년50분위'] = target_year_minus_one_df['전용면적단가(만원/㎡)'].median()\n",
    "    reference_df.loc[i, '최근2년평균'] = target_year_minus_one_df['전용면적단가(만원/㎡)'].mean()\n",
    "    reference_df.loc[i, '당해50분위'] = target_year_df['전용면적단가(만원/㎡)'].median()\n",
    "    reference_df.loc[i, '당해평균'] = target_year_df['전용면적단가(만원/㎡)'].mean()"
   ]
  },
  {
   "cell_type": "code",
   "execution_count": null,
   "metadata": {},
   "outputs": [],
   "source": [
    "cols_list = []\n",
    "for i in range(reference_df.shape[1]):\n",
    "    if i < 39:\n",
    "        cols_list.append(reference_df.columns[i][0] + '_' + reference_df.columns[i][1])\n",
    "    else:\n",
    "        cols_list.append(reference_df.columns[i][0])"
   ]
  },
  {
   "cell_type": "code",
   "execution_count": null,
   "metadata": {},
   "outputs": [],
   "source": [
    "reference_df.columns = cols_list"
   ]
  },
  {
   "cell_type": "code",
   "execution_count": null,
   "metadata": {},
   "outputs": [],
   "source": [
    "cols = ['지번주소', '기준시점2', '건물내용_건물용도', '건물유형', '토지내용_용도지역', '토지내용_도로너비',\n",
    "        '평가단가(원/전유㎡) _전유면적', '최근3년50분위', '최근3년50분위_평가단가와의격차', '최근3년평균',\n",
    "        '최근3년평균_평가단가와의격차', '최근2년50분위', '최근2년50분위_평가단가와의격차', '최근2년평균',\n",
    "        '최근2년평균_평가단가와의격차', '당해50분위', '당해50분위_평가단가와의격차', '당해평균', '당해평균_평가단가와의격차'\n",
    "       ]\n",
    "selected_df = reference_df[cols]"
   ]
  },
  {
   "cell_type": "code",
   "execution_count": null,
   "metadata": {},
   "outputs": [],
   "source": [
    "selected_df['평가단가(원/전유㎡) _전유면적'] = selected_df['평가단가(원/전유㎡) _전유면적'] / 10000"
   ]
  },
  {
   "cell_type": "code",
   "execution_count": null,
   "metadata": {},
   "outputs": [],
   "source": [
    "selected_cols = ['최근3년50분위', '최근3년평균', '최근2년50분위', '최근2년평균', '당해50분위', '당해평균']\n",
    "for col in selected_cols:\n",
    "    selected_df[col+'_평가단가와의격차'] = selected_df[col] / selected_df['평가단가(원/전유㎡) _전유면적']\n",
    "    selected_df[col+'_오차'] = selected_df[col] - selected_df['평가단가(원/전유㎡) _전유면적']\n",
    "    selected_df[col+'_오차절대값'] = np.abs(selected_df[col+'_오차'])\n",
    "    selected_df[col+'_오차율'] = selected_df[col+'_오차'] / selected_df['평가단가(원/전유㎡) _전유면적'] * 100\n",
    "    selected_df[col+'_절대값오차율'] = selected_df[col+'_오차절대값'] / selected_df['평가단가(원/전유㎡) _전유면적'] * 100"
   ]
  },
  {
   "cell_type": "code",
   "execution_count": null,
   "metadata": {},
   "outputs": [],
   "source": [
    "base_cols = ['지번주소', '기준시점2', '건물내용_건물용도', '건물유형', '토지내용_용도지역', '토지내용_도로너비',\n",
    "             '평가단가(원/전유㎡) _전유면적'\n",
    "            ]\n",
    "cols_to_show = []\n",
    "for col in selected_cols:\n",
    "    cols_to_show.append(col)\n",
    "    cols_to_show.append(col+'_오차율')"
   ]
  },
  {
   "cell_type": "code",
   "execution_count": null,
   "metadata": {},
   "outputs": [],
   "source": [
    "selected2_df = selected_df[(selected_df['건물내용_건물용도'].str.contains('다세'))|(selected_df['건물내용_건물용도'].str.contains('오피'))].dropna(subset=['기준시점2'])\n",
    "selected2_df = selected2_df[base_cols + cols_to_show]\n",
    "print(selected2_df.shape)\n",
    "selected2_df"
   ]
  },
  {
   "cell_type": "code",
   "execution_count": null,
   "metadata": {},
   "outputs": [],
   "source": [
    "inv_df = land_specs_df[land_specs_df['지번주소'] == '서울특별시 금천구 시흥동 169-30']\n",
    "inv_df"
   ]
  },
  {
   "cell_type": "code",
   "execution_count": null,
   "metadata": {},
   "outputs": [],
   "source": [
    "reference_df.head()"
   ]
  },
  {
   "cell_type": "code",
   "execution_count": null,
   "metadata": {},
   "outputs": [],
   "source": [
    "reference_df.shape"
   ]
  },
  {
   "cell_type": "code",
   "execution_count": null,
   "metadata": {},
   "outputs": [],
   "source": [
    "merge_df = reference_df.merge(land_specs_df, on=['지번주소', '년'], how='left')\n",
    "print(merge_df.shape)\n",
    "merge_df.head()"
   ]
  },
  {
   "cell_type": "code",
   "execution_count": null,
   "metadata": {},
   "outputs": [],
   "source": [
    "nan_df = merge_df[merge_df['용도지역명1'].isna()]\n",
    "print(nan_df.shape)"
   ]
  },
  {
   "cell_type": "code",
   "execution_count": null,
   "metadata": {},
   "outputs": [],
   "source": [
    "nan_df"
   ]
  },
  {
   "cell_type": "code",
   "execution_count": null,
   "metadata": {},
   "outputs": [],
   "source": [
    "inv_df = land_specs_df[land_specs_df['지번주소'].str.contains('우이동 23-8')]\n",
    "print(inv_df.shape)"
   ]
  },
  {
   "cell_type": "code",
   "execution_count": null,
   "metadata": {},
   "outputs": [],
   "source": [
    "inv_df"
   ]
  },
  {
   "cell_type": "code",
   "execution_count": null,
   "metadata": {},
   "outputs": [],
   "source": [
    "inv_df = land_specs_df[land_specs_df['지번주소'].str.contains('구로구 개봉동 128-')]\n",
    "print(inv_df.shape)"
   ]
  },
  {
   "cell_type": "code",
   "execution_count": null,
   "metadata": {},
   "outputs": [],
   "source": [
    "inv_df['지번주소'].unique()"
   ]
  },
  {
   "cell_type": "code",
   "execution_count": null,
   "metadata": {},
   "outputs": [],
   "source": [
    "land_specs_df = land_specs_df.sort_values(['지번주소', '년']).reset_index(drop=True)"
   ]
  },
  {
   "cell_type": "code",
   "execution_count": null,
   "metadata": {},
   "outputs": [],
   "source": [
    "merge_df = reference_df.merge(last_df, on=['지번주소'])\n",
    "print(merge_df.shape)\n",
    "merge_df.head()"
   ]
  },
  {
   "cell_type": "code",
   "execution_count": null,
   "metadata": {},
   "outputs": [],
   "source": []
  }
 ],
 "metadata": {
  "kernelspec": {
   "display_name": "Python 3",
   "language": "python",
   "name": "python3"
  },
  "language_info": {
   "codemirror_mode": {
    "name": "ipython",
    "version": 3
   },
   "file_extension": ".py",
   "mimetype": "text/x-python",
   "name": "python",
   "nbconvert_exporter": "python",
   "pygments_lexer": "ipython3",
   "version": "3.7.9"
  }
 },
 "nbformat": 4,
 "nbformat_minor": 4
}
