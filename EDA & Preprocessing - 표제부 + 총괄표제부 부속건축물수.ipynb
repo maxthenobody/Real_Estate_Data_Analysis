{
 "cells": [
  {
   "cell_type": "code",
   "execution_count": 1,
   "metadata": {},
   "outputs": [],
   "source": [
    "import multiprocess as mp\n",
    "import numpy as np\n",
    "import pandas as pd\n",
    "import matplotlib.pyplot as plt\n",
    "import os\n",
    "import math\n",
    "from tqdm import tqdm\n",
    "pd.set_option('display.max_rows', 500)\n",
    "pd.set_option('display.max_columns', 500)\n",
    "import datetime\n",
    "from sklearn.preprocessing import quantile_transform\n",
    "pd.options.mode.chained_assignment = None  # default='warn'\n",
    "import gc"
   ]
  },
  {
   "cell_type": "code",
   "execution_count": 2,
   "metadata": {},
   "outputs": [
    {
     "data": {
      "text/plain": [
       "['enviro.csv',\n",
       " 'epi.csv',\n",
       " 'first_approved_date.csv',\n",
       " 'floor_info_main_data_inter_has_primary_usage.csv',\n",
       " 'floor_min_max_mean_median.csv',\n",
       " 'new_structure_features.csv',\n",
       " 'roof_fraction.csv',\n",
       " '총괄표제부상_epi점수.csv',\n",
       " '총괄표제부상_부속건축물면적.csv',\n",
       " '총괄표제부상_부속건축물수.csv',\n",
       " '총괄표제부상_연면적.csv',\n",
       " '총괄표제부상_외필지수.csv',\n",
       " '총괄표제부상_용적연면적.csv',\n",
       " '총괄표제부상_지능형점수.csv',\n",
       " '총괄표제부상_총기계식주차수.csv',\n",
       " '총괄표제부상_총세대수.csv',\n",
       " '총괄표제부상_총주차수.csv',\n",
       " '총괄표제부상_최초승인일.csv',\n",
       " '총괄표제부상_친환경점수.csv',\n",
       " '표제부상_부속건축물수.csv',\n",
       " '표제부상_연면적.csv',\n",
       " '표제부상_외필지수.csv',\n",
       " '표제부상_용적률산정연면적.csv',\n",
       " '표제부상_총주차수.csv']"
      ]
     },
     "execution_count": 2,
     "metadata": {},
     "output_type": "execute_result"
    }
   ],
   "source": [
    "basedir = './추출한_건물정보/'\n",
    "filenames = [f for f in os.listdir(basedir) if f.endswith('.csv')]\n",
    "filenames"
   ]
  },
  {
   "cell_type": "code",
   "execution_count": 3,
   "metadata": {},
   "outputs": [
    {
     "name": "stdout",
     "output_type": "stream",
     "text": [
      "(44963, 3)\n"
     ]
    },
    {
     "data": {
      "text/html": [
       "<div>\n",
       "<style scoped>\n",
       "    .dataframe tbody tr th:only-of-type {\n",
       "        vertical-align: middle;\n",
       "    }\n",
       "\n",
       "    .dataframe tbody tr th {\n",
       "        vertical-align: top;\n",
       "    }\n",
       "\n",
       "    .dataframe thead th {\n",
       "        text-align: right;\n",
       "    }\n",
       "</style>\n",
       "<table border=\"1\" class=\"dataframe\">\n",
       "  <thead>\n",
       "    <tr style=\"text-align: right;\">\n",
       "      <th></th>\n",
       "      <th>지번주소</th>\n",
       "      <th>기준년월</th>\n",
       "      <th>사용승인년도</th>\n",
       "    </tr>\n",
       "  </thead>\n",
       "  <tbody>\n",
       "    <tr>\n",
       "      <th>0</th>\n",
       "      <td>서울특별시 강남구 개포동 1193-5</td>\n",
       "      <td>201812</td>\n",
       "      <td>2018</td>\n",
       "    </tr>\n",
       "    <tr>\n",
       "      <th>1</th>\n",
       "      <td>서울특별시 강남구 개포동 1193-5</td>\n",
       "      <td>201912</td>\n",
       "      <td>2018</td>\n",
       "    </tr>\n",
       "    <tr>\n",
       "      <th>2</th>\n",
       "      <td>서울특별시 강남구 개포동 1193-5</td>\n",
       "      <td>202011</td>\n",
       "      <td>2018</td>\n",
       "    </tr>\n",
       "    <tr>\n",
       "      <th>3</th>\n",
       "      <td>서울특별시 강남구 개포동 12-0</td>\n",
       "      <td>201412</td>\n",
       "      <td>2012</td>\n",
       "    </tr>\n",
       "    <tr>\n",
       "      <th>4</th>\n",
       "      <td>서울특별시 강남구 개포동 12-0</td>\n",
       "      <td>201512</td>\n",
       "      <td>2012</td>\n",
       "    </tr>\n",
       "  </tbody>\n",
       "</table>\n",
       "</div>"
      ],
      "text/plain": [
       "                   지번주소    기준년월  사용승인년도\n",
       "0  서울특별시 강남구 개포동 1193-5  201812    2018\n",
       "1  서울특별시 강남구 개포동 1193-5  201912    2018\n",
       "2  서울특별시 강남구 개포동 1193-5  202011    2018\n",
       "3    서울특별시 강남구 개포동 12-0  201412    2012\n",
       "4    서울특별시 강남구 개포동 12-0  201512    2012"
      ]
     },
     "execution_count": 3,
     "metadata": {},
     "output_type": "execute_result"
    }
   ],
   "source": [
    "wbdinfo_date_df = pd.read_csv(basedir + '총괄표제부상_최초승인일.csv')\n",
    "print(wbdinfo_date_df.shape)\n",
    "wbdinfo_date_df.head()"
   ]
  },
  {
   "cell_type": "code",
   "execution_count": 4,
   "metadata": {},
   "outputs": [
    {
     "name": "stdout",
     "output_type": "stream",
     "text": [
      "(44963, 3)\n"
     ]
    },
    {
     "data": {
      "text/html": [
       "<div>\n",
       "<style scoped>\n",
       "    .dataframe tbody tr th:only-of-type {\n",
       "        vertical-align: middle;\n",
       "    }\n",
       "\n",
       "    .dataframe tbody tr th {\n",
       "        vertical-align: top;\n",
       "    }\n",
       "\n",
       "    .dataframe thead th {\n",
       "        text-align: right;\n",
       "    }\n",
       "</style>\n",
       "<table border=\"1\" class=\"dataframe\">\n",
       "  <thead>\n",
       "    <tr style=\"text-align: right;\">\n",
       "      <th></th>\n",
       "      <th>지번주소</th>\n",
       "      <th>기준년월</th>\n",
       "      <th>부속건축물수</th>\n",
       "    </tr>\n",
       "  </thead>\n",
       "  <tbody>\n",
       "    <tr>\n",
       "      <th>0</th>\n",
       "      <td>서울특별시 강남구 개포동 1193-5</td>\n",
       "      <td>201812</td>\n",
       "      <td>0</td>\n",
       "    </tr>\n",
       "    <tr>\n",
       "      <th>1</th>\n",
       "      <td>서울특별시 강남구 개포동 1193-5</td>\n",
       "      <td>201912</td>\n",
       "      <td>0</td>\n",
       "    </tr>\n",
       "    <tr>\n",
       "      <th>2</th>\n",
       "      <td>서울특별시 강남구 개포동 1193-5</td>\n",
       "      <td>202011</td>\n",
       "      <td>0</td>\n",
       "    </tr>\n",
       "    <tr>\n",
       "      <th>3</th>\n",
       "      <td>서울특별시 강남구 개포동 12-0</td>\n",
       "      <td>201412</td>\n",
       "      <td>3</td>\n",
       "    </tr>\n",
       "    <tr>\n",
       "      <th>4</th>\n",
       "      <td>서울특별시 강남구 개포동 12-0</td>\n",
       "      <td>201512</td>\n",
       "      <td>3</td>\n",
       "    </tr>\n",
       "  </tbody>\n",
       "</table>\n",
       "</div>"
      ],
      "text/plain": [
       "                   지번주소    기준년월  부속건축물수\n",
       "0  서울특별시 강남구 개포동 1193-5  201812       0\n",
       "1  서울특별시 강남구 개포동 1193-5  201912       0\n",
       "2  서울특별시 강남구 개포동 1193-5  202011       0\n",
       "3    서울특별시 강남구 개포동 12-0  201412       3\n",
       "4    서울특별시 강남구 개포동 12-0  201512       3"
      ]
     },
     "execution_count": 4,
     "metadata": {},
     "output_type": "execute_result"
    }
   ],
   "source": [
    "wsub_df = pd.read_csv(basedir + '총괄표제부상_부속건축물수.csv')\n",
    "print(wsub_df.shape)\n",
    "wsub_df.head()"
   ]
  },
  {
   "cell_type": "code",
   "execution_count": 5,
   "metadata": {},
   "outputs": [
    {
     "data": {
      "text/plain": [
       "(44963, 4)"
      ]
     },
     "execution_count": 5,
     "metadata": {},
     "output_type": "execute_result"
    }
   ],
   "source": [
    "wmerge1_df = wbdinfo_date_df.merge(wsub_df, on=['지번주소', '기준년월'])\n",
    "wmerge1_df.shape"
   ]
  },
  {
   "cell_type": "code",
   "execution_count": 6,
   "metadata": {},
   "outputs": [
    {
     "name": "stdout",
     "output_type": "stream",
     "text": [
      "(716540, 3)\n"
     ]
    },
    {
     "data": {
      "text/html": [
       "<div>\n",
       "<style scoped>\n",
       "    .dataframe tbody tr th:only-of-type {\n",
       "        vertical-align: middle;\n",
       "    }\n",
       "\n",
       "    .dataframe tbody tr th {\n",
       "        vertical-align: top;\n",
       "    }\n",
       "\n",
       "    .dataframe thead th {\n",
       "        text-align: right;\n",
       "    }\n",
       "</style>\n",
       "<table border=\"1\" class=\"dataframe\">\n",
       "  <thead>\n",
       "    <tr style=\"text-align: right;\">\n",
       "      <th></th>\n",
       "      <th>지번주소</th>\n",
       "      <th>기준년월</th>\n",
       "      <th>사용승인년도</th>\n",
       "    </tr>\n",
       "  </thead>\n",
       "  <tbody>\n",
       "    <tr>\n",
       "      <th>0</th>\n",
       "      <td>서울특별시 마포구 서교동 484-16</td>\n",
       "      <td>201412</td>\n",
       "      <td>2004</td>\n",
       "    </tr>\n",
       "    <tr>\n",
       "      <th>1</th>\n",
       "      <td>서울특별시 동작구 상도동 302-28</td>\n",
       "      <td>201412</td>\n",
       "      <td>2008</td>\n",
       "    </tr>\n",
       "    <tr>\n",
       "      <th>2</th>\n",
       "      <td>서울특별시 도봉구 쌍문동 380-24</td>\n",
       "      <td>201412</td>\n",
       "      <td>2008</td>\n",
       "    </tr>\n",
       "    <tr>\n",
       "      <th>3</th>\n",
       "      <td>서울특별시 마포구 성산동 200-260</td>\n",
       "      <td>201412</td>\n",
       "      <td>2005</td>\n",
       "    </tr>\n",
       "    <tr>\n",
       "      <th>4</th>\n",
       "      <td>서울특별시 강동구 강일동 674-0</td>\n",
       "      <td>201412</td>\n",
       "      <td>2009</td>\n",
       "    </tr>\n",
       "  </tbody>\n",
       "</table>\n",
       "</div>"
      ],
      "text/plain": [
       "                    지번주소    기준년월  사용승인년도\n",
       "0   서울특별시 마포구 서교동 484-16  201412    2004\n",
       "1   서울특별시 동작구 상도동 302-28  201412    2008\n",
       "2   서울특별시 도봉구 쌍문동 380-24  201412    2008\n",
       "3  서울특별시 마포구 성산동 200-260  201412    2005\n",
       "4    서울특별시 강동구 강일동 674-0  201412    2009"
      ]
     },
     "execution_count": 6,
     "metadata": {},
     "output_type": "execute_result"
    }
   ],
   "source": [
    "bdinfo_date_df = pd.read_csv(basedir + 'first_approved_date.csv')\n",
    "print(bdinfo_date_df.shape)\n",
    "bdinfo_date_df.head()"
   ]
  },
  {
   "cell_type": "code",
   "execution_count": 7,
   "metadata": {},
   "outputs": [
    {
     "name": "stdout",
     "output_type": "stream",
     "text": [
      "(716540, 3)\n"
     ]
    },
    {
     "data": {
      "text/html": [
       "<div>\n",
       "<style scoped>\n",
       "    .dataframe tbody tr th:only-of-type {\n",
       "        vertical-align: middle;\n",
       "    }\n",
       "\n",
       "    .dataframe tbody tr th {\n",
       "        vertical-align: top;\n",
       "    }\n",
       "\n",
       "    .dataframe thead th {\n",
       "        text-align: right;\n",
       "    }\n",
       "</style>\n",
       "<table border=\"1\" class=\"dataframe\">\n",
       "  <thead>\n",
       "    <tr style=\"text-align: right;\">\n",
       "      <th></th>\n",
       "      <th>지번주소</th>\n",
       "      <th>기준년월</th>\n",
       "      <th>부속건축물_수</th>\n",
       "    </tr>\n",
       "  </thead>\n",
       "  <tbody>\n",
       "    <tr>\n",
       "      <th>0</th>\n",
       "      <td>서울특별시 마포구 서교동 484-16</td>\n",
       "      <td>201412</td>\n",
       "      <td>0</td>\n",
       "    </tr>\n",
       "    <tr>\n",
       "      <th>1</th>\n",
       "      <td>서울특별시 동작구 상도동 302-28</td>\n",
       "      <td>201412</td>\n",
       "      <td>0</td>\n",
       "    </tr>\n",
       "    <tr>\n",
       "      <th>2</th>\n",
       "      <td>서울특별시 도봉구 쌍문동 380-24</td>\n",
       "      <td>201412</td>\n",
       "      <td>0</td>\n",
       "    </tr>\n",
       "    <tr>\n",
       "      <th>3</th>\n",
       "      <td>서울특별시 마포구 성산동 200-260</td>\n",
       "      <td>201412</td>\n",
       "      <td>0</td>\n",
       "    </tr>\n",
       "    <tr>\n",
       "      <th>4</th>\n",
       "      <td>서울특별시 강동구 강일동 674-0</td>\n",
       "      <td>201412</td>\n",
       "      <td>7</td>\n",
       "    </tr>\n",
       "  </tbody>\n",
       "</table>\n",
       "</div>"
      ],
      "text/plain": [
       "                    지번주소    기준년월  부속건축물_수\n",
       "0   서울특별시 마포구 서교동 484-16  201412        0\n",
       "1   서울특별시 동작구 상도동 302-28  201412        0\n",
       "2   서울특별시 도봉구 쌍문동 380-24  201412        0\n",
       "3  서울특별시 마포구 성산동 200-260  201412        0\n",
       "4    서울특별시 강동구 강일동 674-0  201412        7"
      ]
     },
     "execution_count": 7,
     "metadata": {},
     "output_type": "execute_result"
    }
   ],
   "source": [
    "sub_df = pd.read_csv(basedir + '표제부상_부속건축물수.csv')\n",
    "print(sub_df.shape)\n",
    "sub_df.head()"
   ]
  },
  {
   "cell_type": "code",
   "execution_count": 8,
   "metadata": {},
   "outputs": [
    {
     "data": {
      "text/plain": [
       "(716540, 4)"
      ]
     },
     "execution_count": 8,
     "metadata": {},
     "output_type": "execute_result"
    }
   ],
   "source": [
    "merge1_df = bdinfo_date_df.merge(sub_df, on=['지번주소', '기준년월'])\n",
    "merge1_df.shape"
   ]
  },
  {
   "cell_type": "code",
   "execution_count": 9,
   "metadata": {},
   "outputs": [
    {
     "data": {
      "text/html": [
       "<div>\n",
       "<style scoped>\n",
       "    .dataframe tbody tr th:only-of-type {\n",
       "        vertical-align: middle;\n",
       "    }\n",
       "\n",
       "    .dataframe tbody tr th {\n",
       "        vertical-align: top;\n",
       "    }\n",
       "\n",
       "    .dataframe thead th {\n",
       "        text-align: right;\n",
       "    }\n",
       "</style>\n",
       "<table border=\"1\" class=\"dataframe\">\n",
       "  <thead>\n",
       "    <tr style=\"text-align: right;\">\n",
       "      <th></th>\n",
       "      <th>지번주소</th>\n",
       "      <th>기준년월</th>\n",
       "      <th>사용승인년도</th>\n",
       "      <th>부속건축물수</th>\n",
       "    </tr>\n",
       "  </thead>\n",
       "  <tbody>\n",
       "    <tr>\n",
       "      <th>0</th>\n",
       "      <td>서울특별시 강남구 개포동 1193-5</td>\n",
       "      <td>201812</td>\n",
       "      <td>2018</td>\n",
       "      <td>0</td>\n",
       "    </tr>\n",
       "    <tr>\n",
       "      <th>1</th>\n",
       "      <td>서울특별시 강남구 개포동 1193-5</td>\n",
       "      <td>201912</td>\n",
       "      <td>2018</td>\n",
       "      <td>0</td>\n",
       "    </tr>\n",
       "    <tr>\n",
       "      <th>2</th>\n",
       "      <td>서울특별시 강남구 개포동 1193-5</td>\n",
       "      <td>202011</td>\n",
       "      <td>2018</td>\n",
       "      <td>0</td>\n",
       "    </tr>\n",
       "    <tr>\n",
       "      <th>3</th>\n",
       "      <td>서울특별시 강남구 개포동 12-0</td>\n",
       "      <td>201412</td>\n",
       "      <td>2012</td>\n",
       "      <td>3</td>\n",
       "    </tr>\n",
       "    <tr>\n",
       "      <th>4</th>\n",
       "      <td>서울특별시 강남구 개포동 12-0</td>\n",
       "      <td>201512</td>\n",
       "      <td>2012</td>\n",
       "      <td>3</td>\n",
       "    </tr>\n",
       "  </tbody>\n",
       "</table>\n",
       "</div>"
      ],
      "text/plain": [
       "                   지번주소    기준년월  사용승인년도  부속건축물수\n",
       "0  서울특별시 강남구 개포동 1193-5  201812    2018       0\n",
       "1  서울특별시 강남구 개포동 1193-5  201912    2018       0\n",
       "2  서울특별시 강남구 개포동 1193-5  202011    2018       0\n",
       "3    서울특별시 강남구 개포동 12-0  201412    2012       3\n",
       "4    서울특별시 강남구 개포동 12-0  201512    2012       3"
      ]
     },
     "execution_count": 9,
     "metadata": {},
     "output_type": "execute_result"
    }
   ],
   "source": [
    "wmerge1_df.head()"
   ]
  },
  {
   "cell_type": "code",
   "execution_count": 10,
   "metadata": {},
   "outputs": [
    {
     "data": {
      "text/html": [
       "<div>\n",
       "<style scoped>\n",
       "    .dataframe tbody tr th:only-of-type {\n",
       "        vertical-align: middle;\n",
       "    }\n",
       "\n",
       "    .dataframe tbody tr th {\n",
       "        vertical-align: top;\n",
       "    }\n",
       "\n",
       "    .dataframe thead th {\n",
       "        text-align: right;\n",
       "    }\n",
       "</style>\n",
       "<table border=\"1\" class=\"dataframe\">\n",
       "  <thead>\n",
       "    <tr style=\"text-align: right;\">\n",
       "      <th></th>\n",
       "      <th>지번주소</th>\n",
       "      <th>기준년월</th>\n",
       "      <th>사용승인년도</th>\n",
       "      <th>부속건축물_수</th>\n",
       "    </tr>\n",
       "  </thead>\n",
       "  <tbody>\n",
       "    <tr>\n",
       "      <th>0</th>\n",
       "      <td>서울특별시 마포구 서교동 484-16</td>\n",
       "      <td>201412</td>\n",
       "      <td>2004</td>\n",
       "      <td>0</td>\n",
       "    </tr>\n",
       "    <tr>\n",
       "      <th>1</th>\n",
       "      <td>서울특별시 동작구 상도동 302-28</td>\n",
       "      <td>201412</td>\n",
       "      <td>2008</td>\n",
       "      <td>0</td>\n",
       "    </tr>\n",
       "    <tr>\n",
       "      <th>2</th>\n",
       "      <td>서울특별시 도봉구 쌍문동 380-24</td>\n",
       "      <td>201412</td>\n",
       "      <td>2008</td>\n",
       "      <td>0</td>\n",
       "    </tr>\n",
       "    <tr>\n",
       "      <th>3</th>\n",
       "      <td>서울특별시 마포구 성산동 200-260</td>\n",
       "      <td>201412</td>\n",
       "      <td>2005</td>\n",
       "      <td>0</td>\n",
       "    </tr>\n",
       "    <tr>\n",
       "      <th>4</th>\n",
       "      <td>서울특별시 강동구 강일동 674-0</td>\n",
       "      <td>201412</td>\n",
       "      <td>2009</td>\n",
       "      <td>7</td>\n",
       "    </tr>\n",
       "  </tbody>\n",
       "</table>\n",
       "</div>"
      ],
      "text/plain": [
       "                    지번주소    기준년월  사용승인년도  부속건축물_수\n",
       "0   서울특별시 마포구 서교동 484-16  201412    2004        0\n",
       "1   서울특별시 동작구 상도동 302-28  201412    2008        0\n",
       "2   서울특별시 도봉구 쌍문동 380-24  201412    2008        0\n",
       "3  서울특별시 마포구 성산동 200-260  201412    2005        0\n",
       "4    서울특별시 강동구 강일동 674-0  201412    2009        7"
      ]
     },
     "execution_count": 10,
     "metadata": {},
     "output_type": "execute_result"
    }
   ],
   "source": [
    "merge1_df.head()"
   ]
  },
  {
   "cell_type": "code",
   "execution_count": 11,
   "metadata": {},
   "outputs": [],
   "source": [
    "merge1_df.rename(columns={'부속건축물_수':'부속건축물수'}, inplace=True)"
   ]
  },
  {
   "cell_type": "code",
   "execution_count": 12,
   "metadata": {},
   "outputs": [
    {
     "data": {
      "text/plain": [
       "(761503, 4)"
      ]
     },
     "execution_count": 12,
     "metadata": {},
     "output_type": "execute_result"
    }
   ],
   "source": [
    "concat_df = pd.concat([merge1_df, wmerge1_df])\n",
    "concat_df.shape"
   ]
  },
  {
   "cell_type": "code",
   "execution_count": 13,
   "metadata": {},
   "outputs": [],
   "source": [
    "concat_df['사용승인년도'] = concat_df[['지번주소', '기준년월', '사용승인년도']].groupby(['지번주소', '기준년월']).transform('min')['사용승인년도']"
   ]
  },
  {
   "cell_type": "code",
   "execution_count": 14,
   "metadata": {},
   "outputs": [],
   "source": [
    "concat_df['부속건축물수'] = concat_df[['지번주소', '기준년월', '부속건축물수']].groupby(['지번주소', '기준년월']).transform('max')['부속건축물수']"
   ]
  },
  {
   "cell_type": "code",
   "execution_count": 15,
   "metadata": {},
   "outputs": [
    {
     "data": {
      "text/plain": [
       "(717462, 4)"
      ]
     },
     "execution_count": 15,
     "metadata": {},
     "output_type": "execute_result"
    }
   ],
   "source": [
    "concat_df.drop_duplicates(inplace=True)\n",
    "concat_df.shape"
   ]
  },
  {
   "cell_type": "code",
   "execution_count": 16,
   "metadata": {},
   "outputs": [
    {
     "data": {
      "text/html": [
       "<div>\n",
       "<style scoped>\n",
       "    .dataframe tbody tr th:only-of-type {\n",
       "        vertical-align: middle;\n",
       "    }\n",
       "\n",
       "    .dataframe tbody tr th {\n",
       "        vertical-align: top;\n",
       "    }\n",
       "\n",
       "    .dataframe thead th {\n",
       "        text-align: right;\n",
       "    }\n",
       "</style>\n",
       "<table border=\"1\" class=\"dataframe\">\n",
       "  <thead>\n",
       "    <tr style=\"text-align: right;\">\n",
       "      <th></th>\n",
       "      <th>지번주소</th>\n",
       "      <th>기준년도</th>\n",
       "      <th>사용승인년도</th>\n",
       "      <th>부속건축물수</th>\n",
       "    </tr>\n",
       "  </thead>\n",
       "  <tbody>\n",
       "    <tr>\n",
       "      <th>0</th>\n",
       "      <td>서울특별시 마포구 서교동 484-16</td>\n",
       "      <td>2014</td>\n",
       "      <td>2004</td>\n",
       "      <td>0</td>\n",
       "    </tr>\n",
       "    <tr>\n",
       "      <th>1</th>\n",
       "      <td>서울특별시 동작구 상도동 302-28</td>\n",
       "      <td>2014</td>\n",
       "      <td>2008</td>\n",
       "      <td>0</td>\n",
       "    </tr>\n",
       "    <tr>\n",
       "      <th>2</th>\n",
       "      <td>서울특별시 도봉구 쌍문동 380-24</td>\n",
       "      <td>2014</td>\n",
       "      <td>2008</td>\n",
       "      <td>0</td>\n",
       "    </tr>\n",
       "    <tr>\n",
       "      <th>3</th>\n",
       "      <td>서울특별시 마포구 성산동 200-260</td>\n",
       "      <td>2014</td>\n",
       "      <td>2005</td>\n",
       "      <td>0</td>\n",
       "    </tr>\n",
       "    <tr>\n",
       "      <th>4</th>\n",
       "      <td>서울특별시 강동구 강일동 674-0</td>\n",
       "      <td>2014</td>\n",
       "      <td>2009</td>\n",
       "      <td>7</td>\n",
       "    </tr>\n",
       "  </tbody>\n",
       "</table>\n",
       "</div>"
      ],
      "text/plain": [
       "                    지번주소  기준년도  사용승인년도  부속건축물수\n",
       "0   서울특별시 마포구 서교동 484-16  2014    2004       0\n",
       "1   서울특별시 동작구 상도동 302-28  2014    2008       0\n",
       "2   서울특별시 도봉구 쌍문동 380-24  2014    2008       0\n",
       "3  서울특별시 마포구 성산동 200-260  2014    2005       0\n",
       "4    서울특별시 강동구 강일동 674-0  2014    2009       7"
      ]
     },
     "execution_count": 16,
     "metadata": {},
     "output_type": "execute_result"
    }
   ],
   "source": [
    "concat_df['기준년월'] = concat_df['기준년월'].apply(lambda x: int(str(x)[:4]))\n",
    "concat_df.rename(columns={'기준년월':'기준년도'}, inplace=True)\n",
    "concat_df.head()"
   ]
  },
  {
   "cell_type": "code",
   "execution_count": 17,
   "metadata": {},
   "outputs": [],
   "source": [
    "def create_full_df_iteratively(df):\n",
    "    # df is a pandas dataframe\n",
    "    \n",
    "    import pandas as pd\n",
    "    import numpy as np\n",
    "    import gc\n",
    "    \n",
    "    df = df.copy()\n",
    "    \n",
    "    dfs_list = []\n",
    "    count = 0\n",
    "    for addr in df['지번주소'].unique():\n",
    "        addr_df = df[df['지번주소'] == addr]\n",
    "        \n",
    "        min_record_year = addr_df['기준년도'].min()\n",
    "        max_record_year = addr_df['기준년도'].max()\n",
    "        unique_record_years = addr_df['기준년도'].unique()\n",
    "\n",
    "        unique_approv_years = sorted(addr_df['사용승인년도'].unique().tolist())\n",
    "        min_approved_year = addr_df['사용승인년도'].min()\n",
    "        max_approved_year = addr_df['사용승인년도'].max()\n",
    "\n",
    "        if min_approved_year <= 2006:\n",
    "            min_year = 2006\n",
    "        else:\n",
    "            min_year = min_approved_year\n",
    "\n",
    "        years_for_concat = [y for y in range(min_year, max_record_year) if y not in unique_record_years]\n",
    "        if years_for_concat == []:\n",
    "            dfs_list.append(addr_df)\n",
    "            continue\n",
    "\n",
    "        rows_list = []\n",
    "        for y in years_for_concat:\n",
    "            empty_row = addr_df.iloc[[0],:]\n",
    "            empty_row['기준년도'] = y\n",
    "            empty_row.iloc[0, 2:] = np.nan\n",
    "            rows_list.append(empty_row)\n",
    "\n",
    "        empty_df = pd.concat(rows_list)\n",
    "\n",
    "        addr_concat_df = pd.concat([addr_df, empty_df]).sort_values(['기준년도']).reset_index(drop=True)\n",
    "\n",
    "        addr_concat_df.fillna(method='ffill', inplace=True)\n",
    "        addr_concat_df.fillna(method='bfill', inplace=True)\n",
    "        \n",
    "        dfs_list.append(addr_concat_df)\n",
    "        count += 1\n",
    "        if count % 5000 == 0:\n",
    "            gc.collect()\n",
    "    \n",
    "    concat_df = pd.concat(dfs_list).reset_index(drop=True)\n",
    "    \n",
    "    return concat_df"
   ]
  },
  {
   "cell_type": "code",
   "execution_count": 18,
   "metadata": {},
   "outputs": [],
   "source": [
    "def parallelize(df, func, num_processors=6):\n",
    "    # df is a pandas dataframe\n",
    "    # func is the function to use\n",
    "    # num_processors is the number of cpu cores\n",
    "    \n",
    "    data_split = []\n",
    "    unique_addrs = df['지번주소'].unique()\n",
    "    divided = int(len(unique_addrs) / num_processors)\n",
    "    for i in range(num_processors):\n",
    "        if i < (num_processors - 1):\n",
    "            picked_addrs = unique_addrs[divided*i:divided*(i+1)]\n",
    "        else:\n",
    "            picked_addrs = unique_addrs[divided*i:]\n",
    "        data_split.append(df[df['지번주소'].isin(picked_addrs)])\n",
    "            \n",
    "    pool = mp.Pool(num_processors)\n",
    "    concat_df = pd.concat(pool.map(func, data_split))\n",
    "    pool.close()\n",
    "    pool.join()\n",
    "    return concat_df"
   ]
  },
  {
   "cell_type": "code",
   "execution_count": 19,
   "metadata": {},
   "outputs": [
    {
     "name": "stdout",
     "output_type": "stream",
     "text": [
      "(1438766, 4)\n",
      "Wall time: 4min 52s\n"
     ]
    },
    {
     "data": {
      "text/html": [
       "<div>\n",
       "<style scoped>\n",
       "    .dataframe tbody tr th:only-of-type {\n",
       "        vertical-align: middle;\n",
       "    }\n",
       "\n",
       "    .dataframe tbody tr th {\n",
       "        vertical-align: top;\n",
       "    }\n",
       "\n",
       "    .dataframe thead th {\n",
       "        text-align: right;\n",
       "    }\n",
       "</style>\n",
       "<table border=\"1\" class=\"dataframe\">\n",
       "  <thead>\n",
       "    <tr style=\"text-align: right;\">\n",
       "      <th></th>\n",
       "      <th>지번주소</th>\n",
       "      <th>기준년도</th>\n",
       "      <th>사용승인년도</th>\n",
       "      <th>부속건축물수</th>\n",
       "    </tr>\n",
       "  </thead>\n",
       "  <tbody>\n",
       "    <tr>\n",
       "      <th>0</th>\n",
       "      <td>서울특별시 마포구 서교동 484-16</td>\n",
       "      <td>2006</td>\n",
       "      <td>2004.0</td>\n",
       "      <td>0.0</td>\n",
       "    </tr>\n",
       "    <tr>\n",
       "      <th>1</th>\n",
       "      <td>서울특별시 마포구 서교동 484-16</td>\n",
       "      <td>2007</td>\n",
       "      <td>2004.0</td>\n",
       "      <td>0.0</td>\n",
       "    </tr>\n",
       "    <tr>\n",
       "      <th>2</th>\n",
       "      <td>서울특별시 마포구 서교동 484-16</td>\n",
       "      <td>2008</td>\n",
       "      <td>2004.0</td>\n",
       "      <td>0.0</td>\n",
       "    </tr>\n",
       "    <tr>\n",
       "      <th>3</th>\n",
       "      <td>서울특별시 마포구 서교동 484-16</td>\n",
       "      <td>2009</td>\n",
       "      <td>2004.0</td>\n",
       "      <td>0.0</td>\n",
       "    </tr>\n",
       "    <tr>\n",
       "      <th>4</th>\n",
       "      <td>서울특별시 마포구 서교동 484-16</td>\n",
       "      <td>2010</td>\n",
       "      <td>2004.0</td>\n",
       "      <td>0.0</td>\n",
       "    </tr>\n",
       "  </tbody>\n",
       "</table>\n",
       "</div>"
      ],
      "text/plain": [
       "                   지번주소  기준년도  사용승인년도  부속건축물수\n",
       "0  서울특별시 마포구 서교동 484-16  2006  2004.0     0.0\n",
       "1  서울특별시 마포구 서교동 484-16  2007  2004.0     0.0\n",
       "2  서울특별시 마포구 서교동 484-16  2008  2004.0     0.0\n",
       "3  서울특별시 마포구 서교동 484-16  2009  2004.0     0.0\n",
       "4  서울특별시 마포구 서교동 484-16  2010  2004.0     0.0"
      ]
     },
     "execution_count": 19,
     "metadata": {},
     "output_type": "execute_result"
    }
   ],
   "source": [
    "%%time\n",
    "completed_df = parallelize(concat_df, create_full_df_iteratively)\n",
    "print(completed_df.shape)\n",
    "completed_df.head()"
   ]
  },
  {
   "cell_type": "code",
   "execution_count": 20,
   "metadata": {},
   "outputs": [
    {
     "name": "stdout",
     "output_type": "stream",
     "text": [
      "Wall time: 2.61 s\n"
     ]
    }
   ],
   "source": [
    "%%time\n",
    "completed_df.drop(columns=['사용승인년도'], inplace=True)\n",
    "completed_df.to_csv('./prepped_data/bdinfo_wbdinfo_subnum.csv', index=False)"
   ]
  },
  {
   "cell_type": "code",
   "execution_count": null,
   "metadata": {},
   "outputs": [],
   "source": []
  }
 ],
 "metadata": {
  "kernelspec": {
   "display_name": "Python 3",
   "language": "python",
   "name": "python3"
  },
  "language_info": {
   "codemirror_mode": {
    "name": "ipython",
    "version": 3
   },
   "file_extension": ".py",
   "mimetype": "text/x-python",
   "name": "python",
   "nbconvert_exporter": "python",
   "pygments_lexer": "ipython3",
   "version": "3.7.9"
  }
 },
 "nbformat": 4,
 "nbformat_minor": 4
}
