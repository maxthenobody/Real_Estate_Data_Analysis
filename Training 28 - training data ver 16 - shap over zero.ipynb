{
 "cells": [
  {
   "cell_type": "code",
   "execution_count": 1,
   "metadata": {},
   "outputs": [],
   "source": [
    "import numpy as np\n",
    "import pandas as pd\n",
    "import matplotlib.pyplot as plt\n",
    "import os\n",
    "import math\n",
    "from tqdm import tqdm\n",
    "import requests\n",
    "from urllib.parse import urlparse\n",
    "pd.set_option('display.max_rows', 500)\n",
    "pd.set_option('display.max_columns', 500)\n",
    "import datetime\n",
    "from sklearn.preprocessing import quantile_transform\n",
    "pd.options.mode.chained_assignment = None  # default='warn'\n",
    "import gc\n",
    "import matplotlib\n",
    "matplotlib.rcParams['axes.unicode_minus'] = False\n",
    "font_path = './NanumFontSetup_TTF_BARUNGOTHIC/NanumBarunGothic.ttf'\n",
    "import matplotlib.font_manager as fm\n",
    "fontprop = fm.FontProperties(fname=font_path, size=18)\n",
    "import seaborn as sns\n",
    "import shap"
   ]
  },
  {
   "cell_type": "code",
   "execution_count": 2,
   "metadata": {},
   "outputs": [
    {
     "name": "stdout",
     "output_type": "stream",
     "text": [
      "Wall time: 1min 25s\n"
     ]
    }
   ],
   "source": [
    "%%time\n",
    "# Read Data\n",
    "basedir = './Training/training_data_ver_16/'\n",
    "training_data_df = pd.read_csv(basedir + 'training_data_ver_16.csv').drop(columns=['주택가격지수']).dropna()\n",
    "#training_data_df = training_data_df[(training_data_df['가격면적'] >= 200) & (training_data_df['가격면적'] <= 1500)]\n",
    "training_data_df.columns = [col.replace(' ','_').replace('·','_') for col in training_data_df.columns]"
   ]
  },
  {
   "cell_type": "code",
   "execution_count": 3,
   "metadata": {
    "scrolled": true
   },
   "outputs": [],
   "source": [
    "training_data_df = training_data_df[(training_data_df['가격면적'] >= 200) & (training_data_df['가격면적'] <= 3000)]"
   ]
  },
  {
   "cell_type": "code",
   "execution_count": 4,
   "metadata": {},
   "outputs": [],
   "source": [
    "training_data_df['호수대비부속건축물면적'] = training_data_df['부속건축물면적'] / training_data_df['총호수']"
   ]
  },
  {
   "cell_type": "code",
   "execution_count": 5,
   "metadata": {},
   "outputs": [],
   "source": [
    "training_data_df = training_data_df[(training_data_df['호수대비부속건축물면적'] < 100)]"
   ]
  },
  {
   "cell_type": "code",
   "execution_count": 6,
   "metadata": {},
   "outputs": [],
   "source": [
    "training_data_df = training_data_df.reset_index(drop=True)"
   ]
  },
  {
   "cell_type": "code",
   "execution_count": 7,
   "metadata": {},
   "outputs": [],
   "source": [
    "cols_to_log = ['총건축면적', '총연면적', '총용적률연면적', '토지면적', '부속건축물면적']\n",
    "for col in cols_to_log:\n",
    "    training_data_df[col] = training_data_df[col].apply(np.log1p)"
   ]
  },
  {
   "cell_type": "code",
   "execution_count": 8,
   "metadata": {},
   "outputs": [],
   "source": [
    "cat_cols_df = pd.read_csv(basedir + 'cat_cols.csv')"
   ]
  },
  {
   "cell_type": "code",
   "execution_count": 9,
   "metadata": {},
   "outputs": [
    {
     "data": {
      "text/plain": [
       "296"
      ]
     },
     "execution_count": 9,
     "metadata": {},
     "output_type": "execute_result"
    }
   ],
   "source": [
    "cat_cols_list = [col.replace(' ','_').replace('·','_') for col in cat_cols_df['colname'].tolist()]\n",
    "len(cat_cols_list)"
   ]
  },
  {
   "cell_type": "code",
   "execution_count": 10,
   "metadata": {},
   "outputs": [
    {
     "data": {
      "text/plain": [
       "296"
      ]
     },
     "execution_count": 10,
     "metadata": {},
     "output_type": "execute_result"
    }
   ],
   "source": [
    "cat_cols = [col for col in training_data_df.columns if col in cat_cols_list]\n",
    "len(cat_cols)"
   ]
  },
  {
   "cell_type": "code",
   "execution_count": 11,
   "metadata": {},
   "outputs": [
    {
     "data": {
      "text/plain": [
       "['건물나이',\n",
       " 'trade_type',\n",
       " '표준지여부',\n",
       " '지목명',\n",
       " '용도지역명1',\n",
       " '용도지역명2',\n",
       " '토지이동상황',\n",
       " '지형높이',\n",
       " '지형형상',\n",
       " '도로접면']"
      ]
     },
     "execution_count": 11,
     "metadata": {},
     "output_type": "execute_result"
    }
   ],
   "source": [
    "cat_cols[:10]"
   ]
  },
  {
   "cell_type": "code",
   "execution_count": 12,
   "metadata": {},
   "outputs": [
    {
     "name": "stdout",
     "output_type": "stream",
     "text": [
      "(15, 1)\n"
     ]
    },
    {
     "data": {
      "text/html": [
       "<div>\n",
       "<style scoped>\n",
       "    .dataframe tbody tr th:only-of-type {\n",
       "        vertical-align: middle;\n",
       "    }\n",
       "\n",
       "    .dataframe tbody tr th {\n",
       "        vertical-align: top;\n",
       "    }\n",
       "\n",
       "    .dataframe thead th {\n",
       "        text-align: right;\n",
       "    }\n",
       "</style>\n",
       "<table border=\"1\" class=\"dataframe\">\n",
       "  <thead>\n",
       "    <tr style=\"text-align: right;\">\n",
       "      <th></th>\n",
       "      <th>cols_to_drop</th>\n",
       "    </tr>\n",
       "  </thead>\n",
       "  <tbody>\n",
       "    <tr>\n",
       "      <th>0</th>\n",
       "      <td>층max</td>\n",
       "    </tr>\n",
       "    <tr>\n",
       "      <th>1</th>\n",
       "      <td>총용적률연면적</td>\n",
       "    </tr>\n",
       "    <tr>\n",
       "      <th>2</th>\n",
       "      <td>전용면적_mean</td>\n",
       "    </tr>\n",
       "    <tr>\n",
       "      <th>3</th>\n",
       "      <td>토지면적</td>\n",
       "    </tr>\n",
       "    <tr>\n",
       "      <th>4</th>\n",
       "      <td>철근콘크리트구조_fraction</td>\n",
       "    </tr>\n",
       "  </tbody>\n",
       "</table>\n",
       "</div>"
      ],
      "text/plain": [
       "        cols_to_drop\n",
       "0               층max\n",
       "1            총용적률연면적\n",
       "2          전용면적_mean\n",
       "3               토지면적\n",
       "4  철근콘크리트구조_fraction"
      ]
     },
     "execution_count": 12,
     "metadata": {},
     "output_type": "execute_result"
    }
   ],
   "source": [
    "vif_result_df = pd.read_csv('./Production_Prep/vif10.csv')\n",
    "print(vif_result_df.shape)\n",
    "vif_result_df.head()"
   ]
  },
  {
   "cell_type": "code",
   "execution_count": 13,
   "metadata": {},
   "outputs": [
    {
     "data": {
      "text/plain": [
       "['층max',\n",
       " '총용적률연면적',\n",
       " '전용면적_mean',\n",
       " '토지면적',\n",
       " '철근콘크리트구조_fraction',\n",
       " '총연면적',\n",
       " '총주차수',\n",
       " '공원자연환경지구',\n",
       " '전용면적_min',\n",
       " '상대보호구역',\n",
       " '체육공원',\n",
       " '광로2류(폭_50M~70M)',\n",
       " '전용면적_max',\n",
       " '층median',\n",
       " '중요시설물보호지구(공항)']"
      ]
     },
     "execution_count": 13,
     "metadata": {},
     "output_type": "execute_result"
    }
   ],
   "source": [
    "vif_cols_to_drop = vif_result_df['cols_to_drop'].tolist()\n",
    "vif_cols_to_drop"
   ]
  },
  {
   "cell_type": "code",
   "execution_count": 14,
   "metadata": {},
   "outputs": [
    {
     "name": "stdout",
     "output_type": "stream",
     "text": [
      "(384, 6)\n"
     ]
    },
    {
     "data": {
      "text/html": [
       "<div>\n",
       "<style scoped>\n",
       "    .dataframe tbody tr th:only-of-type {\n",
       "        vertical-align: middle;\n",
       "    }\n",
       "\n",
       "    .dataframe tbody tr th {\n",
       "        vertical-align: top;\n",
       "    }\n",
       "\n",
       "    .dataframe thead th {\n",
       "        text-align: right;\n",
       "    }\n",
       "</style>\n",
       "<table border=\"1\" class=\"dataframe\">\n",
       "  <thead>\n",
       "    <tr style=\"text-align: right;\">\n",
       "      <th></th>\n",
       "      <th>model_0_shap_summary</th>\n",
       "      <th>model_1_shap_summary</th>\n",
       "      <th>model_2_shap_summary</th>\n",
       "      <th>model_3_shap_summary</th>\n",
       "      <th>model_4_shap_summary</th>\n",
       "      <th>shap_summary_mean</th>\n",
       "    </tr>\n",
       "  </thead>\n",
       "  <tbody>\n",
       "    <tr>\n",
       "      <th>전용면적</th>\n",
       "      <td>40.331355</td>\n",
       "      <td>39.865082</td>\n",
       "      <td>39.482899</td>\n",
       "      <td>37.147049</td>\n",
       "      <td>38.173221</td>\n",
       "      <td>38.999922</td>\n",
       "    </tr>\n",
       "    <tr>\n",
       "      <th>층</th>\n",
       "      <td>4.997734</td>\n",
       "      <td>5.332695</td>\n",
       "      <td>5.074623</td>\n",
       "      <td>4.923113</td>\n",
       "      <td>5.154233</td>\n",
       "      <td>5.096480</td>\n",
       "    </tr>\n",
       "    <tr>\n",
       "      <th>건축년도</th>\n",
       "      <td>47.650346</td>\n",
       "      <td>48.568973</td>\n",
       "      <td>48.951757</td>\n",
       "      <td>49.219809</td>\n",
       "      <td>45.867508</td>\n",
       "      <td>48.051679</td>\n",
       "    </tr>\n",
       "    <tr>\n",
       "      <th>건물나이</th>\n",
       "      <td>2.360354</td>\n",
       "      <td>2.379373</td>\n",
       "      <td>2.420130</td>\n",
       "      <td>2.422372</td>\n",
       "      <td>2.340672</td>\n",
       "      <td>2.384580</td>\n",
       "    </tr>\n",
       "    <tr>\n",
       "      <th>year_linear</th>\n",
       "      <td>64.570858</td>\n",
       "      <td>64.392019</td>\n",
       "      <td>62.660680</td>\n",
       "      <td>62.894452</td>\n",
       "      <td>63.028514</td>\n",
       "      <td>63.509304</td>\n",
       "    </tr>\n",
       "  </tbody>\n",
       "</table>\n",
       "</div>"
      ],
      "text/plain": [
       "             model_0_shap_summary  model_1_shap_summary  model_2_shap_summary  \\\n",
       "전용면적                    40.331355             39.865082             39.482899   \n",
       "층                        4.997734              5.332695              5.074623   \n",
       "건축년도                    47.650346             48.568973             48.951757   \n",
       "건물나이                     2.360354              2.379373              2.420130   \n",
       "year_linear             64.570858             64.392019             62.660680   \n",
       "\n",
       "             model_3_shap_summary  model_4_shap_summary  shap_summary_mean  \n",
       "전용면적                    37.147049             38.173221          38.999922  \n",
       "층                        4.923113              5.154233           5.096480  \n",
       "건축년도                    49.219809             45.867508          48.051679  \n",
       "건물나이                     2.422372              2.340672           2.384580  \n",
       "year_linear             62.894452             63.028514          63.509304  "
      ]
     },
     "execution_count": 14,
     "metadata": {},
     "output_type": "execute_result"
    }
   ],
   "source": [
    "shap_summary_df = pd.read_csv(basedir + 'shap_summary_vif10.csv', index_col=[0])\n",
    "print(shap_summary_df.shape)\n",
    "shap_summary_df.head()"
   ]
  },
  {
   "cell_type": "code",
   "execution_count": 15,
   "metadata": {},
   "outputs": [
    {
     "name": "stdout",
     "output_type": "stream",
     "text": [
      "(25, 6)\n"
     ]
    },
    {
     "data": {
      "text/html": [
       "<div>\n",
       "<style scoped>\n",
       "    .dataframe tbody tr th:only-of-type {\n",
       "        vertical-align: middle;\n",
       "    }\n",
       "\n",
       "    .dataframe tbody tr th {\n",
       "        vertical-align: top;\n",
       "    }\n",
       "\n",
       "    .dataframe thead th {\n",
       "        text-align: right;\n",
       "    }\n",
       "</style>\n",
       "<table border=\"1\" class=\"dataframe\">\n",
       "  <thead>\n",
       "    <tr style=\"text-align: right;\">\n",
       "      <th></th>\n",
       "      <th>model_0_shap_summary</th>\n",
       "      <th>model_1_shap_summary</th>\n",
       "      <th>model_2_shap_summary</th>\n",
       "      <th>model_3_shap_summary</th>\n",
       "      <th>model_4_shap_summary</th>\n",
       "      <th>shap_summary_mean</th>\n",
       "    </tr>\n",
       "  </thead>\n",
       "  <tbody>\n",
       "    <tr>\n",
       "      <th>석구조_fraction</th>\n",
       "      <td>0.0</td>\n",
       "      <td>0.0</td>\n",
       "      <td>0.0</td>\n",
       "      <td>0.0</td>\n",
       "      <td>0.0</td>\n",
       "      <td>0.0</td>\n",
       "    </tr>\n",
       "    <tr>\n",
       "      <th>라멘조_fraction</th>\n",
       "      <td>0.0</td>\n",
       "      <td>0.0</td>\n",
       "      <td>0.0</td>\n",
       "      <td>0.0</td>\n",
       "      <td>0.0</td>\n",
       "      <td>0.0</td>\n",
       "    </tr>\n",
       "    <tr>\n",
       "      <th>조립식판넬조_fraction</th>\n",
       "      <td>0.0</td>\n",
       "      <td>0.0</td>\n",
       "      <td>0.0</td>\n",
       "      <td>0.0</td>\n",
       "      <td>0.0</td>\n",
       "      <td>0.0</td>\n",
       "    </tr>\n",
       "    <tr>\n",
       "      <th>주_용도_수련시설_fraction</th>\n",
       "      <td>0.0</td>\n",
       "      <td>0.0</td>\n",
       "      <td>0.0</td>\n",
       "      <td>0.0</td>\n",
       "      <td>0.0</td>\n",
       "      <td>0.0</td>\n",
       "    </tr>\n",
       "    <tr>\n",
       "      <th>주_용도_교육연구및복지시설_fraction</th>\n",
       "      <td>0.0</td>\n",
       "      <td>0.0</td>\n",
       "      <td>0.0</td>\n",
       "      <td>0.0</td>\n",
       "      <td>0.0</td>\n",
       "      <td>0.0</td>\n",
       "    </tr>\n",
       "  </tbody>\n",
       "</table>\n",
       "</div>"
      ],
      "text/plain": [
       "                         model_0_shap_summary  model_1_shap_summary  \\\n",
       "석구조_fraction                              0.0                   0.0   \n",
       "라멘조_fraction                              0.0                   0.0   \n",
       "조립식판넬조_fraction                           0.0                   0.0   \n",
       "주_용도_수련시설_fraction                        0.0                   0.0   \n",
       "주_용도_교육연구및복지시설_fraction                   0.0                   0.0   \n",
       "\n",
       "                         model_2_shap_summary  model_3_shap_summary  \\\n",
       "석구조_fraction                              0.0                   0.0   \n",
       "라멘조_fraction                              0.0                   0.0   \n",
       "조립식판넬조_fraction                           0.0                   0.0   \n",
       "주_용도_수련시설_fraction                        0.0                   0.0   \n",
       "주_용도_교육연구및복지시설_fraction                   0.0                   0.0   \n",
       "\n",
       "                         model_4_shap_summary  shap_summary_mean  \n",
       "석구조_fraction                              0.0                0.0  \n",
       "라멘조_fraction                              0.0                0.0  \n",
       "조립식판넬조_fraction                           0.0                0.0  \n",
       "주_용도_수련시설_fraction                        0.0                0.0  \n",
       "주_용도_교육연구및복지시설_fraction                   0.0                0.0  "
      ]
     },
     "execution_count": 15,
     "metadata": {},
     "output_type": "execute_result"
    }
   ],
   "source": [
    "zero_df = shap_summary_df[shap_summary_df['shap_summary_mean'] <= 0]\n",
    "print(zero_df.shape)\n",
    "zero_df.head()"
   ]
  },
  {
   "cell_type": "code",
   "execution_count": 16,
   "metadata": {},
   "outputs": [
    {
     "data": {
      "text/plain": [
       "25"
      ]
     },
     "execution_count": 16,
     "metadata": {},
     "output_type": "execute_result"
    }
   ],
   "source": [
    "zero_cols = zero_df.index.tolist()\n",
    "len(zero_cols)"
   ]
  },
  {
   "cell_type": "code",
   "execution_count": 17,
   "metadata": {},
   "outputs": [
    {
     "data": {
      "text/plain": [
       "['석구조_fraction',\n",
       " '라멘조_fraction',\n",
       " '조립식판넬조_fraction',\n",
       " '주_용도_수련시설_fraction',\n",
       " '주_용도_교육연구및복지시설_fraction']"
      ]
     },
     "execution_count": 17,
     "metadata": {},
     "output_type": "execute_result"
    }
   ],
   "source": [
    "zero_cols[:5]"
   ]
  },
  {
   "cell_type": "markdown",
   "metadata": {},
   "source": [
    "# Training"
   ]
  },
  {
   "cell_type": "code",
   "execution_count": 18,
   "metadata": {},
   "outputs": [],
   "source": [
    "from sklearn.model_selection import KFold, GroupKFold"
   ]
  },
  {
   "cell_type": "code",
   "execution_count": 19,
   "metadata": {},
   "outputs": [],
   "source": [
    "import lightgbm as lgb"
   ]
  },
  {
   "cell_type": "code",
   "execution_count": 20,
   "metadata": {},
   "outputs": [],
   "source": [
    "from sklearn.metrics import r2_score"
   ]
  },
  {
   "cell_type": "code",
   "execution_count": 21,
   "metadata": {},
   "outputs": [],
   "source": [
    "kf = KFold(n_splits=5, shuffle=True, random_state=42)"
   ]
  },
  {
   "cell_type": "code",
   "execution_count": 22,
   "metadata": {},
   "outputs": [],
   "source": [
    "target_cols = ['금액(만원)', '가격면적', 'target_log_transformed', 'targetarea_log_transformed', '지번주소']"
   ]
  },
  {
   "cell_type": "code",
   "execution_count": 23,
   "metadata": {},
   "outputs": [],
   "source": [
    "cols_to_drop = target_cols + vif_cols_to_drop + zero_cols"
   ]
  },
  {
   "cell_type": "code",
   "execution_count": 24,
   "metadata": {},
   "outputs": [
    {
     "data": {
      "text/plain": [
       "272"
      ]
     },
     "execution_count": 24,
     "metadata": {},
     "output_type": "execute_result"
    }
   ],
   "source": [
    "cat_cols = [col for col in cat_cols if col not in cols_to_drop]\n",
    "len(cat_cols)"
   ]
  },
  {
   "cell_type": "code",
   "execution_count": 25,
   "metadata": {},
   "outputs": [],
   "source": [
    "# Next things to do:\n",
    "# 1. Do Variance Inflation Factor (VIF) analysis.\n",
    "# 2. keep the feature with the highest shap value\n",
    "# 3. Retrain\n",
    "# 4. Remove 1 feature at a time and find out the set of feature with the lowest loss.\n",
    "# 5. Retrain\n",
    "# 6. Continue production prep"
   ]
  },
  {
   "cell_type": "code",
   "execution_count": 26,
   "metadata": {},
   "outputs": [
    {
     "name": "stdout",
     "output_type": "stream",
     "text": [
      "Fold 0 start\n",
      "(2926580, 359)\n",
      "y dist plot\n"
     ]
    },
    {
     "data": {
      "image/png": "[encoded data removed]",
      "text/plain": [
       "<Figure size 432x288 with 1 Axes>"
      ]
     },
     "metadata": {
      "needs_background": "light"
     },
     "output_type": "display_data"
    },
    {
     "name": "stderr",
     "output_type": "stream",
     "text": [
      "Using categorical_feature in Dataset.\n"
     ]
    },
    {
     "name": "stdout",
     "output_type": "stream",
     "text": [
      "[LightGBM] [Warning] Auto-choosing row-wise multi-threading, the overhead of testing was 0.955910 seconds.\n",
      "You can set `force_row_wise=true` to remove the overhead.\n",
      "And if memory is not enough, you can set `force_col_wise=true`.\n",
      "[LightGBM] [Info] Total Bins 8149\n",
      "[LightGBM] [Info] Number of data points in the train set: 2926580, number of used features: 358\n"
     ]
    },
    {
     "name": "stderr",
     "output_type": "stream",
     "text": [
      "Overriding the parameters from Reference Dataset.\n",
      "categorical_column in param dict is overridden.\n"
     ]
    },
    {
     "name": "stdout",
     "output_type": "stream",
     "text": [
      "[LightGBM] [Info] Start training from score 524.640869\n",
      "Training until validation scores don't improve for 500 rounds\n",
      "[50]\tvalid_0's huber: 79.6288\n",
      "[100]\tvalid_0's huber: 64.9644\n",
      "[150]\tvalid_0's huber: 58.7218\n",
      "[200]\tvalid_0's huber: 55.0433\n",
      "[250]\tvalid_0's huber: 52.553\n",
      "[300]\tvalid_0's huber: 50.7164\n",
      "[350]\tvalid_0's huber: 49.3747\n",
      "[400]\tvalid_0's huber: 48.2673\n",
      "[450]\tvalid_0's huber: 47.4522\n",
      "[500]\tvalid_0's huber: 46.6175\n",
      "[550]\tvalid_0's huber: 45.9052\n",
      "[600]\tvalid_0's huber: 45.1702\n",
      "[650]\tvalid_0's huber: 44.6041\n",
      "[700]\tvalid_0's huber: 44.1038\n",
      "[750]\tvalid_0's huber: 43.6454\n",
      "[800]\tvalid_0's huber: 43.2989\n",
      "[850]\tvalid_0's huber: 42.856\n",
      "[900]\tvalid_0's huber: 42.5078\n",
      "[950]\tvalid_0's huber: 42.1806\n",
      "[1000]\tvalid_0's huber: 41.862\n",
      "[1050]\tvalid_0's huber: 41.5735\n",
      "[1100]\tvalid_0's huber: 41.2942\n",
      "[1150]\tvalid_0's huber: 41.0716\n",
      "[1200]\tvalid_0's huber: 40.8818\n",
      "[1250]\tvalid_0's huber: 40.6253\n",
      "[1300]\tvalid_0's huber: 40.4352\n",
      "[1350]\tvalid_0's huber: 40.2394\n",
      "[1400]\tvalid_0's huber: 40.0158\n",
      "[1450]\tvalid_0's huber: 39.8231\n",
      "[1500]\tvalid_0's huber: 39.6407\n",
      "[1550]\tvalid_0's huber: 39.4855\n",
      "[1600]\tvalid_0's huber: 39.3244\n",
      "[1650]\tvalid_0's huber: 39.1702\n",
      "[1700]\tvalid_0's huber: 39.0185\n",
      "[1750]\tvalid_0's huber: 38.8747\n",
      "[1800]\tvalid_0's huber: 38.7345\n",
      "[1850]\tvalid_0's huber: 38.6015\n",
      "[1900]\tvalid_0's huber: 38.5011\n",
      "[1950]\tvalid_0's huber: 38.3549\n",
      "[2000]\tvalid_0's huber: 38.2358\n",
      "[2050]\tvalid_0's huber: 38.1097\n",
      "[2100]\tvalid_0's huber: 38.0055\n",
      "[2150]\tvalid_0's huber: 37.9026\n",
      "[2200]\tvalid_0's huber: 37.8042\n",
      "[2250]\tvalid_0's huber: 37.7126\n",
      "[2300]\tvalid_0's huber: 37.6148\n",
      "[2350]\tvalid_0's huber: 37.524\n",
      "[2400]\tvalid_0's huber: 37.4408\n",
      "[2450]\tvalid_0's huber: 37.3445\n",
      "[2500]\tvalid_0's huber: 37.2591\n",
      "[2550]\tvalid_0's huber: 37.1778\n",
      "[2600]\tvalid_0's huber: 37.0896\n",
      "[2650]\tvalid_0's huber: 37.0213\n",
      "[2700]\tvalid_0's huber: 36.9453\n",
      "[2750]\tvalid_0's huber: 36.8792\n",
      "[2800]\tvalid_0's huber: 36.8033\n",
      "[2850]\tvalid_0's huber: 36.7293\n",
      "[2900]\tvalid_0's huber: 36.6531\n",
      "[2950]\tvalid_0's huber: 36.5879\n",
      "[3000]\tvalid_0's huber: 36.5091\n",
      "[3050]\tvalid_0's huber: 36.4299\n",
      "[3100]\tvalid_0's huber: 36.3461\n",
      "[3150]\tvalid_0's huber: 36.2807\n",
      "[3200]\tvalid_0's huber: 36.2295\n",
      "[3250]\tvalid_0's huber: 36.1753\n",
      "[3300]\tvalid_0's huber: 36.1157\n",
      "[3350]\tvalid_0's huber: 36.0495\n",
      "[3400]\tvalid_0's huber: 35.9834\n",
      "[3450]\tvalid_0's huber: 35.914\n",
      "[3500]\tvalid_0's huber: 35.8619\n",
      "[3550]\tvalid_0's huber: 35.8001\n",
      "[3600]\tvalid_0's huber: 35.7499\n",
      "[3650]\tvalid_0's huber: 35.706\n",
      "[3700]\tvalid_0's huber: 35.6613\n",
      "[3750]\tvalid_0's huber: 35.6259\n",
      "[3800]\tvalid_0's huber: 35.5921\n",
      "[3850]\tvalid_0's huber: 35.5533\n",
      "[3900]\tvalid_0's huber: 35.5438\n",
      "[3950]\tvalid_0's huber: 35.5365\n",
      "[4000]\tvalid_0's huber: 35.524\n",
      "[4050]\tvalid_0's huber: 35.5102\n",
      "[4100]\tvalid_0's huber: 35.4988\n",
      "[4150]\tvalid_0's huber: 35.4921\n",
      "[4200]\tvalid_0's huber: 35.4663\n",
      "[4250]\tvalid_0's huber: 35.4336\n",
      "[4300]\tvalid_0's huber: 35.4193\n",
      "[4350]\tvalid_0's huber: 35.3861\n",
      "[4400]\tvalid_0's huber: 35.3823\n",
      "[4450]\tvalid_0's huber: 35.3737\n",
      "[4500]\tvalid_0's huber: 35.344\n",
      "[4550]\tvalid_0's huber: 35.3011\n",
      "[4600]\tvalid_0's huber: 35.2605\n",
      "[4650]\tvalid_0's huber: 35.2208\n",
      "[4700]\tvalid_0's huber: 35.2121\n",
      "[4750]\tvalid_0's huber: 35.2086\n",
      "[4800]\tvalid_0's huber: 35.1976\n",
      "[4850]\tvalid_0's huber: 35.1916\n",
      "[4900]\tvalid_0's huber: 35.1833\n",
      "[4950]\tvalid_0's huber: 35.1727\n",
      "[5000]\tvalid_0's huber: 35.1709\n",
      "[5050]\tvalid_0's huber: 35.1652\n",
      "[5100]\tvalid_0's huber: 35.1637\n",
      "[5150]\tvalid_0's huber: 35.1617\n",
      "[5200]\tvalid_0's huber: 35.1412\n",
      "[5250]\tvalid_0's huber: 35.1251\n",
      "[5300]\tvalid_0's huber: 35.1099\n",
      "[5350]\tvalid_0's huber: 35.1081\n",
      "[5400]\tvalid_0's huber: 35.0999\n",
      "[5450]\tvalid_0's huber: 35.0895\n",
      "[5500]\tvalid_0's huber: 35.0749\n",
      "[5550]\tvalid_0's huber: 35.0522\n",
      "[5600]\tvalid_0's huber: 35.0285\n",
      "[5650]\tvalid_0's huber: 34.9963\n",
      "[5700]\tvalid_0's huber: 34.9737\n",
      "[5750]\tvalid_0's huber: 34.9517\n",
      "[5800]\tvalid_0's huber: 34.9287\n",
      "[5850]\tvalid_0's huber: 34.9032\n",
      "[5900]\tvalid_0's huber: 34.8872\n",
      "[5950]\tvalid_0's huber: 34.8865\n",
      "[6000]\tvalid_0's huber: 34.8816\n",
      "[6050]\tvalid_0's huber: 34.8743\n",
      "[6100]\tvalid_0's huber: 34.8588\n",
      "[6150]\tvalid_0's huber: 34.8407\n",
      "[6200]\tvalid_0's huber: 34.8358\n",
      "[6250]\tvalid_0's huber: 34.8305\n",
      "[6300]\tvalid_0's huber: 34.8263\n",
      "[6350]\tvalid_0's huber: 34.8037\n",
      "[6400]\tvalid_0's huber: 34.7737\n",
      "[6450]\tvalid_0's huber: 34.7536\n",
      "[6500]\tvalid_0's huber: 34.7392\n",
      "[6550]\tvalid_0's huber: 34.7298\n",
      "[6600]\tvalid_0's huber: 34.7227\n",
      "[6650]\tvalid_0's huber: 34.7151\n",
      "[6700]\tvalid_0's huber: 34.7068\n",
      "[6750]\tvalid_0's huber: 34.6937\n",
      "[6800]\tvalid_0's huber: 34.6923\n",
      "[6850]\tvalid_0's huber: 34.6791\n",
      "[6900]\tvalid_0's huber: 34.6716\n",
      "[6950]\tvalid_0's huber: 34.6707\n",
      "[7000]\tvalid_0's huber: 34.6621\n",
      "[7050]\tvalid_0's huber: 34.6551\n",
      "[7100]\tvalid_0's huber: 34.6382\n",
      "[7150]\tvalid_0's huber: 34.6193\n",
      "[7200]\tvalid_0's huber: 34.6196\n",
      "[7250]\tvalid_0's huber: 34.6167\n",
      "[7300]\tvalid_0's huber: 34.6153\n",
      "[7350]\tvalid_0's huber: 34.6035\n",
      "[7400]\tvalid_0's huber: 34.5986\n",
      "[7450]\tvalid_0's huber: 34.5772\n",
      "[7500]\tvalid_0's huber: 34.5674\n",
      "[7550]\tvalid_0's huber: 34.5564\n",
      "[7600]\tvalid_0's huber: 34.5556\n",
      "[7650]\tvalid_0's huber: 34.5557\n",
      "[7700]\tvalid_0's huber: 34.5557\n",
      "[7750]\tvalid_0's huber: 34.5556\n",
      "[7800]\tvalid_0's huber: 34.5514\n",
      "[7850]\tvalid_0's huber: 34.5453\n",
      "[7900]\tvalid_0's huber: 34.5363\n",
      "[7950]\tvalid_0's huber: 34.5223\n",
      "[8000]\tvalid_0's huber: 34.5227\n",
      "[8050]\tvalid_0's huber: 34.5227\n",
      "[8100]\tvalid_0's huber: 34.5225\n",
      "[8150]\tvalid_0's huber: 34.5111\n",
      "[8200]\tvalid_0's huber: 34.5061\n",
      "[8250]\tvalid_0's huber: 34.5052\n",
      "[8300]\tvalid_0's huber: 34.4989\n",
      "[8350]\tvalid_0's huber: 34.499\n",
      "[8400]\tvalid_0's huber: 34.4986\n",
      "[8450]\tvalid_0's huber: 34.4841\n",
      "[8500]\tvalid_0's huber: 34.4831\n",
      "[8550]\tvalid_0's huber: 34.4809\n",
      "[8600]\tvalid_0's huber: 34.4788\n",
      "[8650]\tvalid_0's huber: 34.4792\n",
      "[8700]\tvalid_0's huber: 34.4789\n",
      "[8750]\tvalid_0's huber: 34.4734\n",
      "[8800]\tvalid_0's huber: 34.4675\n",
      "[8850]\tvalid_0's huber: 34.4677\n",
      "[8900]\tvalid_0's huber: 34.4667\n",
      "[8950]\tvalid_0's huber: 34.4624\n",
      "[9000]\tvalid_0's huber: 34.4542\n",
      "[9050]\tvalid_0's huber: 34.4528\n",
      "[9100]\tvalid_0's huber: 34.4519\n",
      "[9150]\tvalid_0's huber: 34.4418\n",
      "[9200]\tvalid_0's huber: 34.4389\n",
      "[9250]\tvalid_0's huber: 34.4354\n",
      "[9300]\tvalid_0's huber: 34.435\n",
      "[9350]\tvalid_0's huber: 34.4234\n",
      "[9400]\tvalid_0's huber: 34.4167\n",
      "[9450]\tvalid_0's huber: 34.409\n",
      "[9500]\tvalid_0's huber: 34.4026\n",
      "[9550]\tvalid_0's huber: 34.3996\n",
      "[9600]\tvalid_0's huber: 34.3943\n",
      "[9650]\tvalid_0's huber: 34.3882\n",
      "[9700]\tvalid_0's huber: 34.3862\n",
      "[9750]\tvalid_0's huber: 34.3845\n",
      "[9800]\tvalid_0's huber: 34.3803\n",
      "[9850]\tvalid_0's huber: 34.3772\n",
      "[9900]\tvalid_0's huber: 34.3772\n",
      "[9950]\tvalid_0's huber: 34.3751\n",
      "[10000]\tvalid_0's huber: 34.3746\n",
      "Did not meet early stopping. Best iteration is:\n",
      "[9978]\tvalid_0's huber: 34.3745\n",
      "preds dist plot\n"
     ]
    },
    {
     "name": "stderr",
     "output_type": "stream",
     "text": [
      "`distplot` is a deprecated function and will be removed in a future version. Please adapt your code to use either `displot` (a figure-level function with similar flexibility) or `histplot` (an axes-level function for histograms).\n"
     ]
    },
    {
     "data": {
      "image/png": "[encoded data removed]",
      "text/plain": [
       "<Figure size 432x288 with 1 Axes>"
      ]
     },
     "metadata": {
      "needs_background": "light"
     },
     "output_type": "display_data"
    },
    {
     "name": "stdout",
     "output_type": "stream",
     "text": [
      "Fold 0 end\n",
      "Fold 1 start\n",
      "(2926581, 359)\n",
      "y dist plot\n"
     ]
    },
    {
     "data": {
      "image/png": "[encoded data removed]",
      "text/plain": [
       "<Figure size 432x288 with 1 Axes>"
      ]
     },
     "metadata": {
      "needs_background": "light"
     },
     "output_type": "display_data"
    },
    {
     "name": "stderr",
     "output_type": "stream",
     "text": [
      "Using categorical_feature in Dataset.\n"
     ]
    },
    {
     "name": "stdout",
     "output_type": "stream",
     "text": [
      "[LightGBM] [Warning] Auto-choosing row-wise multi-threading, the overhead of testing was 0.979094 seconds.\n",
      "You can set `force_row_wise=true` to remove the overhead.\n",
      "And if memory is not enough, you can set `force_col_wise=true`.\n",
      "[LightGBM] [Info] Total Bins 8151\n",
      "[LightGBM] [Info] Number of data points in the train set: 2926581, number of used features: 359\n"
     ]
    },
    {
     "name": "stderr",
     "output_type": "stream",
     "text": [
      "Overriding the parameters from Reference Dataset.\n",
      "categorical_column in param dict is overridden.\n"
     ]
    },
    {
     "name": "stdout",
     "output_type": "stream",
     "text": [
      "[LightGBM] [Info] Start training from score 524.755320\n",
      "Training until validation scores don't improve for 500 rounds\n",
      "[50]\tvalid_0's huber: 79.6252\n",
      "[100]\tvalid_0's huber: 64.6825\n",
      "[150]\tvalid_0's huber: 58.5266\n",
      "[200]\tvalid_0's huber: 54.9454\n",
      "[250]\tvalid_0's huber: 52.3412\n",
      "[300]\tvalid_0's huber: 50.724\n",
      "[350]\tvalid_0's huber: 49.2818\n",
      "[400]\tvalid_0's huber: 48.1219\n",
      "[450]\tvalid_0's huber: 47.2478\n",
      "[500]\tvalid_0's huber: 46.5125\n",
      "[550]\tvalid_0's huber: 45.8074\n",
      "[600]\tvalid_0's huber: 45.1427\n",
      "[650]\tvalid_0's huber: 44.6039\n",
      "[700]\tvalid_0's huber: 44.0357\n",
      "[750]\tvalid_0's huber: 43.5413\n",
      "[800]\tvalid_0's huber: 43.1152\n",
      "[850]\tvalid_0's huber: 42.751\n",
      "[900]\tvalid_0's huber: 42.405\n",
      "[950]\tvalid_0's huber: 42.1058\n",
      "[1000]\tvalid_0's huber: 41.823\n",
      "[1050]\tvalid_0's huber: 41.5224\n",
      "[1100]\tvalid_0's huber: 41.2775\n",
      "[1150]\tvalid_0's huber: 41.076\n",
      "[1200]\tvalid_0's huber: 40.8523\n",
      "[1250]\tvalid_0's huber: 40.6134\n",
      "[1300]\tvalid_0's huber: 40.4013\n",
      "[1350]\tvalid_0's huber: 40.1883\n",
      "[1400]\tvalid_0's huber: 39.9952\n",
      "[1450]\tvalid_0's huber: 39.8263\n",
      "[1500]\tvalid_0's huber: 39.6324\n",
      "[1550]\tvalid_0's huber: 39.4612\n",
      "[1600]\tvalid_0's huber: 39.3048\n",
      "[1650]\tvalid_0's huber: 39.1467\n",
      "[1700]\tvalid_0's huber: 39.0035\n",
      "[1750]\tvalid_0's huber: 38.8566\n",
      "[1800]\tvalid_0's huber: 38.7361\n",
      "[1850]\tvalid_0's huber: 38.6221\n",
      "[1900]\tvalid_0's huber: 38.5156\n",
      "[1950]\tvalid_0's huber: 38.4012\n",
      "[2000]\tvalid_0's huber: 38.268\n",
      "[2050]\tvalid_0's huber: 38.1333\n",
      "[2100]\tvalid_0's huber: 38.0157\n",
      "[2150]\tvalid_0's huber: 37.9061\n",
      "[2200]\tvalid_0's huber: 37.8035\n",
      "[2250]\tvalid_0's huber: 37.7267\n",
      "[2300]\tvalid_0's huber: 37.6504\n",
      "[2350]\tvalid_0's huber: 37.5464\n",
      "[2400]\tvalid_0's huber: 37.4535\n",
      "[2450]\tvalid_0's huber: 37.3514\n",
      "[2500]\tvalid_0's huber: 37.2612\n",
      "[2550]\tvalid_0's huber: 37.1757\n",
      "[2600]\tvalid_0's huber: 37.1094\n",
      "[2650]\tvalid_0's huber: 37.0463\n",
      "[2700]\tvalid_0's huber: 36.9863\n",
      "[2750]\tvalid_0's huber: 36.9204\n",
      "[2800]\tvalid_0's huber: 36.8665\n",
      "[2850]\tvalid_0's huber: 36.822\n",
      "[2900]\tvalid_0's huber: 36.7645\n",
      "[2950]\tvalid_0's huber: 36.6835\n",
      "[3000]\tvalid_0's huber: 36.6107\n",
      "[3050]\tvalid_0's huber: 36.5395\n",
      "[3100]\tvalid_0's huber: 36.477\n",
      "[3150]\tvalid_0's huber: 36.4161\n",
      "[3200]\tvalid_0's huber: 36.3363\n",
      "[3250]\tvalid_0's huber: 36.2924\n",
      "[3300]\tvalid_0's huber: 36.2369\n",
      "[3350]\tvalid_0's huber: 36.1714\n",
      "[3400]\tvalid_0's huber: 36.1314\n",
      "[3450]\tvalid_0's huber: 36.0732\n",
      "[3500]\tvalid_0's huber: 36.0208\n",
      "[3550]\tvalid_0's huber: 35.9761\n",
      "[3600]\tvalid_0's huber: 35.9242\n",
      "[3650]\tvalid_0's huber: 35.8936\n",
      "[3700]\tvalid_0's huber: 35.874\n",
      "[3750]\tvalid_0's huber: 35.8386\n",
      "[3800]\tvalid_0's huber: 35.7776\n",
      "[3850]\tvalid_0's huber: 35.7399\n",
      "[3900]\tvalid_0's huber: 35.6961\n",
      "[3950]\tvalid_0's huber: 35.6776\n",
      "[4000]\tvalid_0's huber: 35.668\n",
      "[4050]\tvalid_0's huber: 35.6627\n",
      "[4100]\tvalid_0's huber: 35.6415\n",
      "[4150]\tvalid_0's huber: 35.6289\n",
      "[4200]\tvalid_0's huber: 35.6046\n",
      "[4250]\tvalid_0's huber: 35.5852\n",
      "[4300]\tvalid_0's huber: 35.5816\n",
      "[4350]\tvalid_0's huber: 35.5612\n",
      "[4400]\tvalid_0's huber: 35.551\n",
      "[4450]\tvalid_0's huber: 35.5378\n",
      "[4500]\tvalid_0's huber: 35.5295\n",
      "[4550]\tvalid_0's huber: 35.5301\n",
      "[4600]\tvalid_0's huber: 35.5264\n",
      "[4650]\tvalid_0's huber: 35.5169\n",
      "[4700]\tvalid_0's huber: 35.5172\n",
      "[4750]\tvalid_0's huber: 35.5104\n",
      "[4800]\tvalid_0's huber: 35.5097\n",
      "[4850]\tvalid_0's huber: 35.4962\n",
      "[4900]\tvalid_0's huber: 35.488\n",
      "[4950]\tvalid_0's huber: 35.4728\n",
      "[5000]\tvalid_0's huber: 35.465\n",
      "[5050]\tvalid_0's huber: 35.4515\n",
      "[5100]\tvalid_0's huber: 35.447\n",
      "[5150]\tvalid_0's huber: 35.4453\n",
      "[5200]\tvalid_0's huber: 35.4307\n",
      "[5250]\tvalid_0's huber: 35.4159\n",
      "[5300]\tvalid_0's huber: 35.3912\n",
      "[5350]\tvalid_0's huber: 35.3372\n",
      "[5400]\tvalid_0's huber: 35.3016\n",
      "[5450]\tvalid_0's huber: 35.2827\n",
      "[5500]\tvalid_0's huber: 35.264\n",
      "[5550]\tvalid_0's huber: 35.2618\n",
      "[5600]\tvalid_0's huber: 35.2493\n",
      "[5650]\tvalid_0's huber: 35.244\n",
      "[5700]\tvalid_0's huber: 35.2189\n",
      "[5750]\tvalid_0's huber: 35.187\n",
      "[5800]\tvalid_0's huber: 35.1642\n",
      "[5850]\tvalid_0's huber: 35.1328\n",
      "[5900]\tvalid_0's huber: 35.1147\n",
      "[5950]\tvalid_0's huber: 35.0928\n",
      "[6000]\tvalid_0's huber: 35.0714\n",
      "[6050]\tvalid_0's huber: 35.0593\n",
      "[6100]\tvalid_0's huber: 35.055\n",
      "[6150]\tvalid_0's huber: 35.0525\n",
      "[6200]\tvalid_0's huber: 35.0502\n",
      "[6250]\tvalid_0's huber: 35.0385\n",
      "[6300]\tvalid_0's huber: 35.032\n",
      "[6350]\tvalid_0's huber: 35.0295\n",
      "[6400]\tvalid_0's huber: 35.0236\n",
      "[6450]\tvalid_0's huber: 35.0162\n",
      "[6500]\tvalid_0's huber: 35.0067\n",
      "[6550]\tvalid_0's huber: 35.0027\n",
      "[6600]\tvalid_0's huber: 34.9997\n",
      "[6650]\tvalid_0's huber: 34.9981\n",
      "[6700]\tvalid_0's huber: 34.9973\n",
      "[6750]\tvalid_0's huber: 34.9955\n",
      "[6800]\tvalid_0's huber: 34.9948\n",
      "[6850]\tvalid_0's huber: 34.9938\n",
      "[6900]\tvalid_0's huber: 34.9928\n",
      "[6950]\tvalid_0's huber: 34.9928\n",
      "[7000]\tvalid_0's huber: 34.9915\n",
      "[7050]\tvalid_0's huber: 34.9865\n",
      "[7100]\tvalid_0's huber: 34.9818\n",
      "[7150]\tvalid_0's huber: 34.975\n",
      "[7200]\tvalid_0's huber: 34.9724\n",
      "[7250]\tvalid_0's huber: 34.9699\n",
      "[7300]\tvalid_0's huber: 34.9659\n",
      "[7350]\tvalid_0's huber: 34.9604\n",
      "[7400]\tvalid_0's huber: 34.9502\n",
      "[7450]\tvalid_0's huber: 34.9466\n",
      "[7500]\tvalid_0's huber: 34.9313\n",
      "[7550]\tvalid_0's huber: 34.9172\n",
      "[7600]\tvalid_0's huber: 34.9063\n",
      "[7650]\tvalid_0's huber: 34.8951\n",
      "[7700]\tvalid_0's huber: 34.8673\n",
      "[7750]\tvalid_0's huber: 34.8467\n",
      "[7800]\tvalid_0's huber: 34.8235\n",
      "[7850]\tvalid_0's huber: 34.8072\n",
      "[7900]\tvalid_0's huber: 34.7974\n",
      "[7950]\tvalid_0's huber: 34.7885\n",
      "[8000]\tvalid_0's huber: 34.7845\n",
      "[8050]\tvalid_0's huber: 34.7755\n",
      "[8100]\tvalid_0's huber: 34.7733\n",
      "[8150]\tvalid_0's huber: 34.7621\n",
      "[8200]\tvalid_0's huber: 34.7602\n",
      "[8250]\tvalid_0's huber: 34.7538\n",
      "[8300]\tvalid_0's huber: 34.744\n",
      "[8350]\tvalid_0's huber: 34.7414\n",
      "[8400]\tvalid_0's huber: 34.7408\n",
      "[8450]\tvalid_0's huber: 34.7357\n",
      "[8500]\tvalid_0's huber: 34.729\n",
      "[8550]\tvalid_0's huber: 34.7262\n",
      "[8600]\tvalid_0's huber: 34.7261\n",
      "[8650]\tvalid_0's huber: 34.7235\n",
      "[8700]\tvalid_0's huber: 34.7221\n",
      "[8750]\tvalid_0's huber: 34.7223\n",
      "[8800]\tvalid_0's huber: 34.7228\n",
      "[8850]\tvalid_0's huber: 34.7217\n",
      "[8900]\tvalid_0's huber: 34.7218\n",
      "[8950]\tvalid_0's huber: 34.722\n",
      "[9000]\tvalid_0's huber: 34.722\n",
      "[9050]\tvalid_0's huber: 34.7214\n",
      "[9100]\tvalid_0's huber: 34.7201\n",
      "[9150]\tvalid_0's huber: 34.7197\n",
      "[9200]\tvalid_0's huber: 34.7195\n",
      "[9250]\tvalid_0's huber: 34.7192\n",
      "[9300]\tvalid_0's huber: 34.7195\n",
      "[9350]\tvalid_0's huber: 34.7182\n",
      "[9400]\tvalid_0's huber: 34.7186\n",
      "[9450]\tvalid_0's huber: 34.718\n",
      "[9500]\tvalid_0's huber: 34.7176\n",
      "[9550]\tvalid_0's huber: 34.7172\n",
      "[9600]\tvalid_0's huber: 34.7161\n",
      "[9650]\tvalid_0's huber: 34.7146\n",
      "[9700]\tvalid_0's huber: 34.7137\n",
      "[9750]\tvalid_0's huber: 34.7138\n",
      "[9800]\tvalid_0's huber: 34.7137\n",
      "[9850]\tvalid_0's huber: 34.7138\n",
      "[9900]\tvalid_0's huber: 34.7129\n",
      "[9950]\tvalid_0's huber: 34.7104\n",
      "[10000]\tvalid_0's huber: 34.7105\n",
      "Did not meet early stopping. Best iteration is:\n",
      "[9927]\tvalid_0's huber: 34.7101\n",
      "preds dist plot\n"
     ]
    },
    {
     "name": "stderr",
     "output_type": "stream",
     "text": [
      "`distplot` is a deprecated function and will be removed in a future version. Please adapt your code to use either `displot` (a figure-level function with similar flexibility) or `histplot` (an axes-level function for histograms).\n"
     ]
    },
    {
     "data": {
      "image/png": "[encoded data removed]",
      "text/plain": [
       "<Figure size 432x288 with 1 Axes>"
      ]
     },
     "metadata": {
      "needs_background": "light"
     },
     "output_type": "display_data"
    },
    {
     "name": "stdout",
     "output_type": "stream",
     "text": [
      "Fold 1 end\n",
      "Fold 2 start\n",
      "(2926581, 359)\n",
      "y dist plot\n"
     ]
    },
    {
     "data": {
      "image/png": "[encoded data removed]",
      "text/plain": [
       "<Figure size 432x288 with 1 Axes>"
      ]
     },
     "metadata": {
      "needs_background": "light"
     },
     "output_type": "display_data"
    },
    {
     "name": "stderr",
     "output_type": "stream",
     "text": [
      "Using categorical_feature in Dataset.\n"
     ]
    },
    {
     "name": "stdout",
     "output_type": "stream",
     "text": [
      "[LightGBM] [Warning] Auto-choosing row-wise multi-threading, the overhead of testing was 0.980701 seconds.\n",
      "You can set `force_row_wise=true` to remove the overhead.\n",
      "And if memory is not enough, you can set `force_col_wise=true`.\n",
      "[LightGBM] [Info] Total Bins 8158\n",
      "[LightGBM] [Info] Number of data points in the train set: 2926581, number of used features: 358\n"
     ]
    },
    {
     "name": "stderr",
     "output_type": "stream",
     "text": [
      "Overriding the parameters from Reference Dataset.\n",
      "categorical_column in param dict is overridden.\n"
     ]
    },
    {
     "name": "stdout",
     "output_type": "stream",
     "text": [
      "[LightGBM] [Info] Start training from score 524.648130\n",
      "Training until validation scores don't improve for 500 rounds\n",
      "[50]\tvalid_0's huber: 79.4786\n",
      "[100]\tvalid_0's huber: 64.7828\n",
      "[150]\tvalid_0's huber: 58.5695\n",
      "[200]\tvalid_0's huber: 54.9794\n",
      "[250]\tvalid_0's huber: 52.4857\n",
      "[300]\tvalid_0's huber: 50.5867\n",
      "[350]\tvalid_0's huber: 49.1561\n",
      "[400]\tvalid_0's huber: 48.0736\n",
      "[450]\tvalid_0's huber: 47.1751\n",
      "[500]\tvalid_0's huber: 46.3456\n",
      "[550]\tvalid_0's huber: 45.5455\n",
      "[600]\tvalid_0's huber: 44.8563\n",
      "[650]\tvalid_0's huber: 44.3277\n",
      "[700]\tvalid_0's huber: 43.7762\n",
      "[750]\tvalid_0's huber: 43.3508\n",
      "[800]\tvalid_0's huber: 42.9508\n",
      "[850]\tvalid_0's huber: 42.6101\n",
      "[900]\tvalid_0's huber: 42.2909\n",
      "[950]\tvalid_0's huber: 41.9731\n",
      "[1000]\tvalid_0's huber: 41.7084\n",
      "[1050]\tvalid_0's huber: 41.3922\n",
      "[1100]\tvalid_0's huber: 41.1327\n",
      "[1150]\tvalid_0's huber: 40.8455\n",
      "[1200]\tvalid_0's huber: 40.6021\n",
      "[1250]\tvalid_0's huber: 40.3843\n",
      "[1300]\tvalid_0's huber: 40.1435\n",
      "[1350]\tvalid_0's huber: 39.9457\n",
      "[1400]\tvalid_0's huber: 39.7573\n",
      "[1450]\tvalid_0's huber: 39.5737\n",
      "[1500]\tvalid_0's huber: 39.4032\n",
      "[1550]\tvalid_0's huber: 39.2389\n",
      "[1600]\tvalid_0's huber: 39.073\n",
      "[1650]\tvalid_0's huber: 38.9278\n",
      "[1700]\tvalid_0's huber: 38.8044\n",
      "[1750]\tvalid_0's huber: 38.6553\n",
      "[1800]\tvalid_0's huber: 38.5303\n",
      "[1850]\tvalid_0's huber: 38.4103\n",
      "[1900]\tvalid_0's huber: 38.2785\n",
      "[1950]\tvalid_0's huber: 38.1695\n",
      "[2000]\tvalid_0's huber: 38.0649\n",
      "[2050]\tvalid_0's huber: 37.9704\n",
      "[2100]\tvalid_0's huber: 37.8595\n",
      "[2150]\tvalid_0's huber: 37.7321\n",
      "[2200]\tvalid_0's huber: 37.6336\n",
      "[2250]\tvalid_0's huber: 37.5689\n",
      "[2300]\tvalid_0's huber: 37.493\n",
      "[2350]\tvalid_0's huber: 37.4227\n",
      "[2400]\tvalid_0's huber: 37.3502\n",
      "[2450]\tvalid_0's huber: 37.2839\n",
      "[2500]\tvalid_0's huber: 37.1675\n",
      "[2550]\tvalid_0's huber: 37.0913\n",
      "[2600]\tvalid_0's huber: 37.0108\n",
      "[2650]\tvalid_0's huber: 36.942\n",
      "[2700]\tvalid_0's huber: 36.8747\n",
      "[2750]\tvalid_0's huber: 36.786\n",
      "[2800]\tvalid_0's huber: 36.7201\n",
      "[2850]\tvalid_0's huber: 36.6397\n",
      "[2900]\tvalid_0's huber: 36.5617\n",
      "[2950]\tvalid_0's huber: 36.4791\n",
      "[3000]\tvalid_0's huber: 36.4046\n",
      "[3050]\tvalid_0's huber: 36.3383\n",
      "[3100]\tvalid_0's huber: 36.2613\n",
      "[3150]\tvalid_0's huber: 36.1944\n",
      "[3200]\tvalid_0's huber: 36.1294\n",
      "[3250]\tvalid_0's huber: 36.0732\n",
      "[3300]\tvalid_0's huber: 36.0245\n",
      "[3350]\tvalid_0's huber: 35.9559\n",
      "[3400]\tvalid_0's huber: 35.9064\n",
      "[3450]\tvalid_0's huber: 35.8498\n",
      "[3500]\tvalid_0's huber: 35.7902\n",
      "[3550]\tvalid_0's huber: 35.7354\n",
      "[3600]\tvalid_0's huber: 35.6913\n",
      "[3650]\tvalid_0's huber: 35.6701\n",
      "[3700]\tvalid_0's huber: 35.6613\n",
      "[3750]\tvalid_0's huber: 35.6553\n",
      "[3800]\tvalid_0's huber: 35.6539\n",
      "[3850]\tvalid_0's huber: 35.6523\n",
      "[3900]\tvalid_0's huber: 35.647\n",
      "[3950]\tvalid_0's huber: 35.6429\n",
      "[4000]\tvalid_0's huber: 35.6357\n",
      "[4050]\tvalid_0's huber: 35.6337\n",
      "[4100]\tvalid_0's huber: 35.6321\n",
      "[4150]\tvalid_0's huber: 35.6306\n",
      "[4200]\tvalid_0's huber: 35.6299\n",
      "[4250]\tvalid_0's huber: 35.6298\n",
      "[4300]\tvalid_0's huber: 35.6288\n",
      "[4350]\tvalid_0's huber: 35.6278\n",
      "[4400]\tvalid_0's huber: 35.626\n",
      "[4450]\tvalid_0's huber: 35.6243\n",
      "[4500]\tvalid_0's huber: 35.6237\n",
      "[4550]\tvalid_0's huber: 35.6234\n",
      "[4600]\tvalid_0's huber: 35.6232\n",
      "[4650]\tvalid_0's huber: 35.6228\n",
      "[4700]\tvalid_0's huber: 35.6232\n",
      "[4750]\tvalid_0's huber: 35.6218\n",
      "[4800]\tvalid_0's huber: 35.6206\n",
      "[4850]\tvalid_0's huber: 35.6212\n",
      "[4900]\tvalid_0's huber: 35.6207\n",
      "[4950]\tvalid_0's huber: 35.6209\n",
      "[5000]\tvalid_0's huber: 35.6154\n",
      "[5050]\tvalid_0's huber: 35.6145\n",
      "[5100]\tvalid_0's huber: 35.6149\n",
      "[5150]\tvalid_0's huber: 35.6136\n",
      "[5200]\tvalid_0's huber: 35.6142\n",
      "[5250]\tvalid_0's huber: 35.6138\n",
      "[5300]\tvalid_0's huber: 35.6138\n",
      "[5350]\tvalid_0's huber: 35.6139\n",
      "[5400]\tvalid_0's huber: 35.6133\n",
      "[5450]\tvalid_0's huber: 35.6135\n",
      "[5500]\tvalid_0's huber: 35.6136\n",
      "[5550]\tvalid_0's huber: 35.6132\n",
      "[5600]\tvalid_0's huber: 35.6133\n",
      "[5650]\tvalid_0's huber: 35.6127\n",
      "[5700]\tvalid_0's huber: 35.6019\n",
      "[5750]\tvalid_0's huber: 35.5813\n",
      "[5800]\tvalid_0's huber: 35.5699\n",
      "[5850]\tvalid_0's huber: 35.5521\n",
      "[5900]\tvalid_0's huber: 35.5519\n",
      "[5950]\tvalid_0's huber: 35.5523\n",
      "[6000]\tvalid_0's huber: 35.5526\n",
      "[6050]\tvalid_0's huber: 35.5503\n",
      "[6100]\tvalid_0's huber: 35.5485\n",
      "[6150]\tvalid_0's huber: 35.5484\n",
      "[6200]\tvalid_0's huber: 35.5482\n",
      "[6250]\tvalid_0's huber: 35.5476\n",
      "[6300]\tvalid_0's huber: 35.5477\n",
      "[6350]\tvalid_0's huber: 35.5469\n",
      "[6400]\tvalid_0's huber: 35.5384\n",
      "[6450]\tvalid_0's huber: 35.5352\n",
      "[6500]\tvalid_0's huber: 35.5327\n",
      "[6550]\tvalid_0's huber: 35.5255\n",
      "[6600]\tvalid_0's huber: 35.5258\n",
      "[6650]\tvalid_0's huber: 35.5257\n",
      "[6700]\tvalid_0's huber: 35.5244\n",
      "[6750]\tvalid_0's huber: 35.5243\n",
      "[6800]\tvalid_0's huber: 35.5238\n",
      "[6850]\tvalid_0's huber: 35.5236\n",
      "[6900]\tvalid_0's huber: 35.5227\n",
      "[6950]\tvalid_0's huber: 35.5222\n",
      "[7000]\tvalid_0's huber: 35.5205\n",
      "[7050]\tvalid_0's huber: 35.5207\n",
      "[7100]\tvalid_0's huber: 35.5203\n",
      "[7150]\tvalid_0's huber: 35.5203\n",
      "[7200]\tvalid_0's huber: 35.5183\n",
      "[7250]\tvalid_0's huber: 35.5183\n",
      "[7300]\tvalid_0's huber: 35.5183\n",
      "[7350]\tvalid_0's huber: 35.5183\n",
      "[7400]\tvalid_0's huber: 35.5139\n",
      "[7450]\tvalid_0's huber: 35.5139\n",
      "[7500]\tvalid_0's huber: 35.5141\n",
      "[7550]\tvalid_0's huber: 35.5146\n",
      "[7600]\tvalid_0's huber: 35.514\n",
      "[7650]\tvalid_0's huber: 35.5145\n",
      "[7700]\tvalid_0's huber: 35.5142\n",
      "[7750]\tvalid_0's huber: 35.5145\n",
      "[7800]\tvalid_0's huber: 35.5134\n",
      "[7850]\tvalid_0's huber: 35.5136\n",
      "[7900]\tvalid_0's huber: 35.5133\n",
      "[7950]\tvalid_0's huber: 35.5138\n",
      "[8000]\tvalid_0's huber: 35.5136\n",
      "[8050]\tvalid_0's huber: 35.5128\n",
      "[8100]\tvalid_0's huber: 35.5129\n",
      "[8150]\tvalid_0's huber: 35.5127\n",
      "[8200]\tvalid_0's huber: 35.5127\n",
      "[8250]\tvalid_0's huber: 35.5129\n",
      "[8300]\tvalid_0's huber: 35.5131\n",
      "[8350]\tvalid_0's huber: 35.5114\n",
      "[8400]\tvalid_0's huber: 35.5111\n",
      "[8450]\tvalid_0's huber: 35.5113\n",
      "[8500]\tvalid_0's huber: 35.5117\n",
      "[8550]\tvalid_0's huber: 35.511\n",
      "[8600]\tvalid_0's huber: 35.5106\n",
      "[8650]\tvalid_0's huber: 35.5109\n",
      "[8700]\tvalid_0's huber: 35.5111\n",
      "[8750]\tvalid_0's huber: 35.511\n",
      "[8800]\tvalid_0's huber: 35.5106\n",
      "[8850]\tvalid_0's huber: 35.5087\n",
      "[8900]\tvalid_0's huber: 35.5037\n",
      "[8950]\tvalid_0's huber: 35.5029\n",
      "[9000]\tvalid_0's huber: 35.5028\n",
      "[9050]\tvalid_0's huber: 35.5032\n",
      "[9100]\tvalid_0's huber: 35.5033\n",
      "[9150]\tvalid_0's huber: 35.5024\n",
      "[9200]\tvalid_0's huber: 35.5026\n",
      "[9250]\tvalid_0's huber: 35.5024\n",
      "[9300]\tvalid_0's huber: 35.5028\n",
      "[9350]\tvalid_0's huber: 35.5033\n",
      "[9400]\tvalid_0's huber: 35.5035\n",
      "[9450]\tvalid_0's huber: 35.5035\n",
      "[9500]\tvalid_0's huber: 35.5041\n",
      "[9550]\tvalid_0's huber: 35.5039\n",
      "[9600]\tvalid_0's huber: 35.5037\n",
      "[9650]\tvalid_0's huber: 35.5036\n",
      "Early stopping, best iteration is:\n",
      "[9190]\tvalid_0's huber: 35.5023\n",
      "preds dist plot\n"
     ]
    },
    {
     "name": "stderr",
     "output_type": "stream",
     "text": [
      "`distplot` is a deprecated function and will be removed in a future version. Please adapt your code to use either `displot` (a figure-level function with similar flexibility) or `histplot` (an axes-level function for histograms).\n"
     ]
    },
    {
     "data": {
      "image/png": "[encoded data removed]",
      "text/plain": [
       "<Figure size 432x288 with 1 Axes>"
      ]
     },
     "metadata": {
      "needs_background": "light"
     },
     "output_type": "display_data"
    },
    {
     "name": "stdout",
     "output_type": "stream",
     "text": [
      "Fold 2 end\n",
      "Fold 3 start\n",
      "(2926581, 359)\n",
      "y dist plot\n"
     ]
    },
    {
     "data": {
      "image/png": "[encoded data removed]",
      "text/plain": [
       "<Figure size 432x288 with 1 Axes>"
      ]
     },
     "metadata": {
      "needs_background": "light"
     },
     "output_type": "display_data"
    },
    {
     "name": "stderr",
     "output_type": "stream",
     "text": [
      "Using categorical_feature in Dataset.\n"
     ]
    },
    {
     "name": "stdout",
     "output_type": "stream",
     "text": [
      "[LightGBM] [Warning] Auto-choosing row-wise multi-threading, the overhead of testing was 0.940749 seconds.\n",
      "You can set `force_row_wise=true` to remove the overhead.\n",
      "And if memory is not enough, you can set `force_col_wise=true`.\n",
      "[LightGBM] [Info] Total Bins 8160\n",
      "[LightGBM] [Info] Number of data points in the train set: 2926581, number of used features: 359\n"
     ]
    },
    {
     "name": "stderr",
     "output_type": "stream",
     "text": [
      "Overriding the parameters from Reference Dataset.\n",
      "categorical_column in param dict is overridden.\n"
     ]
    },
    {
     "name": "stdout",
     "output_type": "stream",
     "text": [
      "[LightGBM] [Info] Start training from score 524.732369\n",
      "Training until validation scores don't improve for 500 rounds\n",
      "[50]\tvalid_0's huber: 79.4318\n",
      "[100]\tvalid_0's huber: 64.7912\n",
      "[150]\tvalid_0's huber: 58.5785\n",
      "[200]\tvalid_0's huber: 54.9014\n",
      "[250]\tvalid_0's huber: 52.4135\n",
      "[300]\tvalid_0's huber: 50.7386\n",
      "[350]\tvalid_0's huber: 49.4192\n",
      "[400]\tvalid_0's huber: 48.2806\n",
      "[450]\tvalid_0's huber: 47.3697\n",
      "[500]\tvalid_0's huber: 46.4881\n",
      "[550]\tvalid_0's huber: 45.7606\n",
      "[600]\tvalid_0's huber: 45.1031\n",
      "[650]\tvalid_0's huber: 44.6114\n",
      "[700]\tvalid_0's huber: 44.1028\n",
      "[750]\tvalid_0's huber: 43.6412\n",
      "[800]\tvalid_0's huber: 43.208\n",
      "[850]\tvalid_0's huber: 42.8696\n",
      "[900]\tvalid_0's huber: 42.5327\n",
      "[950]\tvalid_0's huber: 42.1971\n",
      "[1000]\tvalid_0's huber: 41.8912\n",
      "[1050]\tvalid_0's huber: 41.612\n",
      "[1100]\tvalid_0's huber: 41.3294\n",
      "[1150]\tvalid_0's huber: 41.0158\n",
      "[1200]\tvalid_0's huber: 40.7778\n",
      "[1250]\tvalid_0's huber: 40.549\n",
      "[1300]\tvalid_0's huber: 40.3179\n",
      "[1350]\tvalid_0's huber: 40.1109\n",
      "[1400]\tvalid_0's huber: 39.9384\n",
      "[1450]\tvalid_0's huber: 39.7553\n",
      "[1500]\tvalid_0's huber: 39.5881\n",
      "[1550]\tvalid_0's huber: 39.3926\n",
      "[1600]\tvalid_0's huber: 39.2252\n",
      "[1650]\tvalid_0's huber: 39.0967\n",
      "[1700]\tvalid_0's huber: 38.9581\n",
      "[1750]\tvalid_0's huber: 38.8094\n",
      "[1800]\tvalid_0's huber: 38.6679\n",
      "[1850]\tvalid_0's huber: 38.5353\n",
      "[1900]\tvalid_0's huber: 38.3953\n",
      "[1950]\tvalid_0's huber: 38.2808\n",
      "[2000]\tvalid_0's huber: 38.1582\n",
      "[2050]\tvalid_0's huber: 38.0535\n",
      "[2100]\tvalid_0's huber: 37.9439\n",
      "[2150]\tvalid_0's huber: 37.8373\n",
      "[2200]\tvalid_0's huber: 37.7048\n",
      "[2250]\tvalid_0's huber: 37.5873\n",
      "[2300]\tvalid_0's huber: 37.4866\n",
      "[2350]\tvalid_0's huber: 37.4003\n",
      "[2400]\tvalid_0's huber: 37.2972\n",
      "[2450]\tvalid_0's huber: 37.2194\n",
      "[2500]\tvalid_0's huber: 37.1287\n",
      "[2550]\tvalid_0's huber: 37.0423\n",
      "[2600]\tvalid_0's huber: 36.9477\n",
      "[2650]\tvalid_0's huber: 36.8734\n",
      "[2700]\tvalid_0's huber: 36.7828\n",
      "[2750]\tvalid_0's huber: 36.7084\n",
      "[2800]\tvalid_0's huber: 36.6335\n",
      "[2850]\tvalid_0's huber: 36.5765\n",
      "[2900]\tvalid_0's huber: 36.5063\n",
      "[2950]\tvalid_0's huber: 36.4398\n",
      "[3000]\tvalid_0's huber: 36.3714\n",
      "[3050]\tvalid_0's huber: 36.3022\n",
      "[3100]\tvalid_0's huber: 36.2469\n",
      "[3150]\tvalid_0's huber: 36.1794\n",
      "[3200]\tvalid_0's huber: 36.106\n",
      "[3250]\tvalid_0's huber: 36.0625\n",
      "[3300]\tvalid_0's huber: 35.9857\n",
      "[3350]\tvalid_0's huber: 35.9363\n",
      "[3400]\tvalid_0's huber: 35.8999\n",
      "[3450]\tvalid_0's huber: 35.8715\n",
      "[3500]\tvalid_0's huber: 35.8534\n",
      "[3550]\tvalid_0's huber: 35.8442\n",
      "[3600]\tvalid_0's huber: 35.8202\n",
      "[3650]\tvalid_0's huber: 35.788\n",
      "[3700]\tvalid_0's huber: 35.7429\n",
      "[3750]\tvalid_0's huber: 35.6936\n",
      "[3800]\tvalid_0's huber: 35.6361\n",
      "[3850]\tvalid_0's huber: 35.588\n",
      "[3900]\tvalid_0's huber: 35.5299\n",
      "[3950]\tvalid_0's huber: 35.4802\n",
      "[4000]\tvalid_0's huber: 35.4131\n",
      "[4050]\tvalid_0's huber: 35.3792\n",
      "[4100]\tvalid_0's huber: 35.339\n",
      "[4150]\tvalid_0's huber: 35.3093\n",
      "[4200]\tvalid_0's huber: 35.2668\n",
      "[4250]\tvalid_0's huber: 35.226\n",
      "[4300]\tvalid_0's huber: 35.1922\n",
      "[4350]\tvalid_0's huber: 35.1474\n",
      "[4400]\tvalid_0's huber: 35.1104\n",
      "[4450]\tvalid_0's huber: 35.0587\n",
      "[4500]\tvalid_0's huber: 35.0146\n",
      "[4550]\tvalid_0's huber: 34.9707\n",
      "[4600]\tvalid_0's huber: 34.9358\n",
      "[4650]\tvalid_0's huber: 34.8952\n",
      "[4700]\tvalid_0's huber: 34.8608\n",
      "[4750]\tvalid_0's huber: 34.8322\n",
      "[4800]\tvalid_0's huber: 34.8025\n",
      "[4850]\tvalid_0's huber: 34.7724\n",
      "[4900]\tvalid_0's huber: 34.7568\n",
      "[4950]\tvalid_0's huber: 34.7538\n",
      "[5000]\tvalid_0's huber: 34.7483\n",
      "[5050]\tvalid_0's huber: 34.7394\n",
      "[5100]\tvalid_0's huber: 34.7293\n",
      "[5150]\tvalid_0's huber: 34.7191\n",
      "[5200]\tvalid_0's huber: 34.7156\n",
      "[5250]\tvalid_0's huber: 34.7111\n",
      "[5300]\tvalid_0's huber: 34.7061\n",
      "[5350]\tvalid_0's huber: 34.7059\n",
      "[5400]\tvalid_0's huber: 34.7003\n",
      "[5450]\tvalid_0's huber: 34.6952\n",
      "[5500]\tvalid_0's huber: 34.6954\n",
      "[5550]\tvalid_0's huber: 34.6873\n",
      "[5600]\tvalid_0's huber: 34.687\n",
      "[5650]\tvalid_0's huber: 34.6851\n",
      "[5700]\tvalid_0's huber: 34.6777\n",
      "[5750]\tvalid_0's huber: 34.6769\n",
      "[5800]\tvalid_0's huber: 34.6742\n",
      "[5850]\tvalid_0's huber: 34.6729\n",
      "[5900]\tvalid_0's huber: 34.6678\n",
      "[5950]\tvalid_0's huber: 34.6642\n",
      "[6000]\tvalid_0's huber: 34.6591\n",
      "[6050]\tvalid_0's huber: 34.6577\n",
      "[6100]\tvalid_0's huber: 34.6433\n",
      "[6150]\tvalid_0's huber: 34.6391\n",
      "[6200]\tvalid_0's huber: 34.6229\n",
      "[6250]\tvalid_0's huber: 34.6\n",
      "[6300]\tvalid_0's huber: 34.582\n",
      "[6350]\tvalid_0's huber: 34.5659\n",
      "[6400]\tvalid_0's huber: 34.5428\n",
      "[6450]\tvalid_0's huber: 34.5354\n",
      "[6500]\tvalid_0's huber: 34.5299\n",
      "[6550]\tvalid_0's huber: 34.5277\n",
      "[6600]\tvalid_0's huber: 34.5073\n",
      "[6650]\tvalid_0's huber: 34.501\n",
      "[6700]\tvalid_0's huber: 34.4769\n",
      "[6750]\tvalid_0's huber: 34.4759\n",
      "[6800]\tvalid_0's huber: 34.4718\n",
      "[6850]\tvalid_0's huber: 34.4657\n",
      "[6900]\tvalid_0's huber: 34.4596\n",
      "[6950]\tvalid_0's huber: 34.4502\n",
      "[7000]\tvalid_0's huber: 34.4474\n",
      "[7050]\tvalid_0's huber: 34.4419\n",
      "[7100]\tvalid_0's huber: 34.438\n",
      "[7150]\tvalid_0's huber: 34.4385\n",
      "[7200]\tvalid_0's huber: 34.4383\n",
      "[7250]\tvalid_0's huber: 34.4248\n",
      "[7300]\tvalid_0's huber: 34.42\n",
      "[7350]\tvalid_0's huber: 34.407\n",
      "[7400]\tvalid_0's huber: 34.3988\n",
      "[7450]\tvalid_0's huber: 34.3787\n",
      "[7500]\tvalid_0's huber: 34.3702\n",
      "[7550]\tvalid_0's huber: 34.3699\n",
      "[7600]\tvalid_0's huber: 34.3676\n",
      "[7650]\tvalid_0's huber: 34.3661\n",
      "[7700]\tvalid_0's huber: 34.3636\n",
      "[7750]\tvalid_0's huber: 34.3566\n",
      "[7800]\tvalid_0's huber: 34.3522\n",
      "[7850]\tvalid_0's huber: 34.3494\n",
      "[7900]\tvalid_0's huber: 34.3458\n",
      "[7950]\tvalid_0's huber: 34.3437\n",
      "[8000]\tvalid_0's huber: 34.3375\n",
      "[8050]\tvalid_0's huber: 34.3354\n",
      "[8100]\tvalid_0's huber: 34.3357\n",
      "[8150]\tvalid_0's huber: 34.3358\n",
      "[8200]\tvalid_0's huber: 34.3349\n",
      "[8250]\tvalid_0's huber: 34.3315\n",
      "[8300]\tvalid_0's huber: 34.3295\n",
      "[8350]\tvalid_0's huber: 34.3285\n",
      "[8400]\tvalid_0's huber: 34.3264\n",
      "[8450]\tvalid_0's huber: 34.3252\n",
      "[8500]\tvalid_0's huber: 34.322\n",
      "[8550]\tvalid_0's huber: 34.3215\n",
      "[8600]\tvalid_0's huber: 34.3204\n",
      "[8650]\tvalid_0's huber: 34.3206\n",
      "[8700]\tvalid_0's huber: 34.3205\n",
      "[8750]\tvalid_0's huber: 34.3173\n",
      "[8800]\tvalid_0's huber: 34.3169\n",
      "[8850]\tvalid_0's huber: 34.3157\n",
      "[8900]\tvalid_0's huber: 34.3095\n",
      "[8950]\tvalid_0's huber: 34.3071\n",
      "[9000]\tvalid_0's huber: 34.3069\n",
      "[9050]\tvalid_0's huber: 34.3032\n",
      "[9100]\tvalid_0's huber: 34.303\n",
      "[9150]\tvalid_0's huber: 34.2965\n",
      "[9200]\tvalid_0's huber: 34.2958\n",
      "[9250]\tvalid_0's huber: 34.296\n",
      "[9300]\tvalid_0's huber: 34.2948\n",
      "[9350]\tvalid_0's huber: 34.2933\n",
      "[9400]\tvalid_0's huber: 34.2887\n",
      "[9450]\tvalid_0's huber: 34.2827\n",
      "[9500]\tvalid_0's huber: 34.2823\n",
      "[9550]\tvalid_0's huber: 34.2812\n",
      "[9600]\tvalid_0's huber: 34.2687\n",
      "[9650]\tvalid_0's huber: 34.2682\n",
      "[9700]\tvalid_0's huber: 34.2656\n",
      "[9750]\tvalid_0's huber: 34.2649\n",
      "[9800]\tvalid_0's huber: 34.2627\n",
      "[9850]\tvalid_0's huber: 34.2588\n",
      "[9900]\tvalid_0's huber: 34.2584\n",
      "[9950]\tvalid_0's huber: 34.2576\n",
      "[10000]\tvalid_0's huber: 34.2552\n",
      "Did not meet early stopping. Best iteration is:\n",
      "[10000]\tvalid_0's huber: 34.2552\n",
      "preds dist plot\n"
     ]
    },
    {
     "name": "stderr",
     "output_type": "stream",
     "text": [
      "`distplot` is a deprecated function and will be removed in a future version. Please adapt your code to use either `displot` (a figure-level function with similar flexibility) or `histplot` (an axes-level function for histograms).\n"
     ]
    },
    {
     "data": {
      "image/png": "[encoded data removed]",
      "text/plain": [
       "<Figure size 432x288 with 1 Axes>"
      ]
     },
     "metadata": {
      "needs_background": "light"
     },
     "output_type": "display_data"
    },
    {
     "name": "stdout",
     "output_type": "stream",
     "text": [
      "Fold 3 end\n",
      "Fold 4 start\n",
      "(2926581, 359)\n",
      "y dist plot\n"
     ]
    },
    {
     "data": {
      "image/png": "[encoded data removed]",
      "text/plain": [
       "<Figure size 432x288 with 1 Axes>"
      ]
     },
     "metadata": {
      "needs_background": "light"
     },
     "output_type": "display_data"
    },
    {
     "name": "stderr",
     "output_type": "stream",
     "text": [
      "Using categorical_feature in Dataset.\n"
     ]
    },
    {
     "name": "stdout",
     "output_type": "stream",
     "text": [
      "[LightGBM] [Warning] Auto-choosing row-wise multi-threading, the overhead of testing was 0.929412 seconds.\n",
      "You can set `force_row_wise=true` to remove the overhead.\n",
      "And if memory is not enough, you can set `force_col_wise=true`.\n",
      "[LightGBM] [Info] Total Bins 8151\n",
      "[LightGBM] [Info] Number of data points in the train set: 2926581, number of used features: 359\n"
     ]
    },
    {
     "name": "stderr",
     "output_type": "stream",
     "text": [
      "Overriding the parameters from Reference Dataset.\n",
      "categorical_column in param dict is overridden.\n"
     ]
    },
    {
     "name": "stdout",
     "output_type": "stream",
     "text": [
      "[LightGBM] [Info] Start training from score 524.646665\n",
      "Training until validation scores don't improve for 500 rounds\n",
      "[50]\tvalid_0's huber: 79.295\n",
      "[100]\tvalid_0's huber: 64.5553\n",
      "[150]\tvalid_0's huber: 58.467\n",
      "[200]\tvalid_0's huber: 54.8178\n",
      "[250]\tvalid_0's huber: 52.467\n",
      "[300]\tvalid_0's huber: 50.6828\n",
      "[350]\tvalid_0's huber: 49.2591\n",
      "[400]\tvalid_0's huber: 48.1208\n",
      "[450]\tvalid_0's huber: 47.1508\n",
      "[500]\tvalid_0's huber: 46.4476\n",
      "[550]\tvalid_0's huber: 45.7596\n",
      "[600]\tvalid_0's huber: 45.071\n",
      "[650]\tvalid_0's huber: 44.4935\n",
      "[700]\tvalid_0's huber: 43.9924\n",
      "[750]\tvalid_0's huber: 43.5449\n",
      "[800]\tvalid_0's huber: 43.1353\n",
      "[850]\tvalid_0's huber: 42.7321\n",
      "[900]\tvalid_0's huber: 42.4006\n",
      "[950]\tvalid_0's huber: 42.1055\n",
      "[1000]\tvalid_0's huber: 41.7727\n",
      "[1050]\tvalid_0's huber: 41.4598\n",
      "[1100]\tvalid_0's huber: 41.1717\n",
      "[1150]\tvalid_0's huber: 40.8906\n",
      "[1200]\tvalid_0's huber: 40.6577\n",
      "[1250]\tvalid_0's huber: 40.4628\n",
      "[1300]\tvalid_0's huber: 40.2515\n",
      "[1350]\tvalid_0's huber: 40.0459\n",
      "[1400]\tvalid_0's huber: 39.8404\n",
      "[1450]\tvalid_0's huber: 39.6353\n",
      "[1500]\tvalid_0's huber: 39.4838\n",
      "[1550]\tvalid_0's huber: 39.3128\n",
      "[1600]\tvalid_0's huber: 39.139\n",
      "[1650]\tvalid_0's huber: 38.979\n",
      "[1700]\tvalid_0's huber: 38.8615\n",
      "[1750]\tvalid_0's huber: 38.7275\n",
      "[1800]\tvalid_0's huber: 38.5981\n",
      "[1850]\tvalid_0's huber: 38.4406\n",
      "[1900]\tvalid_0's huber: 38.2992\n",
      "[1950]\tvalid_0's huber: 38.18\n",
      "[2000]\tvalid_0's huber: 38.0598\n",
      "[2050]\tvalid_0's huber: 37.9465\n",
      "[2100]\tvalid_0's huber: 37.8333\n",
      "[2150]\tvalid_0's huber: 37.7268\n",
      "[2200]\tvalid_0's huber: 37.6128\n",
      "[2250]\tvalid_0's huber: 37.5168\n",
      "[2300]\tvalid_0's huber: 37.4221\n",
      "[2350]\tvalid_0's huber: 37.3185\n",
      "[2400]\tvalid_0's huber: 37.2176\n",
      "[2450]\tvalid_0's huber: 37.1346\n",
      "[2500]\tvalid_0's huber: 37.0631\n",
      "[2550]\tvalid_0's huber: 36.998\n",
      "[2600]\tvalid_0's huber: 36.9421\n",
      "[2650]\tvalid_0's huber: 36.8693\n",
      "[2700]\tvalid_0's huber: 36.7927\n",
      "[2750]\tvalid_0's huber: 36.7194\n",
      "[2800]\tvalid_0's huber: 36.6485\n",
      "[2850]\tvalid_0's huber: 36.5873\n",
      "[2900]\tvalid_0's huber: 36.5585\n",
      "[2950]\tvalid_0's huber: 36.4981\n",
      "[3000]\tvalid_0's huber: 36.416\n",
      "[3050]\tvalid_0's huber: 36.3518\n",
      "[3100]\tvalid_0's huber: 36.3028\n",
      "[3150]\tvalid_0's huber: 36.2782\n",
      "[3200]\tvalid_0's huber: 36.2521\n",
      "[3250]\tvalid_0's huber: 36.211\n",
      "[3300]\tvalid_0's huber: 36.1842\n",
      "[3350]\tvalid_0's huber: 36.1748\n",
      "[3400]\tvalid_0's huber: 36.1705\n",
      "[3450]\tvalid_0's huber: 36.1636\n",
      "[3500]\tvalid_0's huber: 36.1336\n",
      "[3550]\tvalid_0's huber: 36.1165\n",
      "[3600]\tvalid_0's huber: 36.0932\n",
      "[3650]\tvalid_0's huber: 36.091\n",
      "[3700]\tvalid_0's huber: 36.0902\n",
      "[3750]\tvalid_0's huber: 36.0879\n",
      "[3800]\tvalid_0's huber: 36.0817\n",
      "[3850]\tvalid_0's huber: 36.08\n",
      "[3900]\tvalid_0's huber: 36.0759\n",
      "[3950]\tvalid_0's huber: 36.0751\n",
      "[4000]\tvalid_0's huber: 36.0703\n",
      "[4050]\tvalid_0's huber: 36.064\n",
      "[4100]\tvalid_0's huber: 36.0568\n",
      "[4150]\tvalid_0's huber: 36.0422\n",
      "[4200]\tvalid_0's huber: 36.034\n",
      "[4250]\tvalid_0's huber: 36.0293\n",
      "[4300]\tvalid_0's huber: 36.0282\n",
      "[4350]\tvalid_0's huber: 36.026\n",
      "[4400]\tvalid_0's huber: 36.0222\n",
      "[4450]\tvalid_0's huber: 36.0196\n",
      "[4500]\tvalid_0's huber: 36.0192\n",
      "[4550]\tvalid_0's huber: 36.0194\n",
      "[4600]\tvalid_0's huber: 36.0196\n",
      "[4650]\tvalid_0's huber: 36.0166\n",
      "[4700]\tvalid_0's huber: 36.0138\n",
      "[4750]\tvalid_0's huber: 36.0109\n",
      "[4800]\tvalid_0's huber: 36.009\n",
      "[4850]\tvalid_0's huber: 36.0092\n",
      "[4900]\tvalid_0's huber: 36.0081\n",
      "[4950]\tvalid_0's huber: 36.0082\n",
      "[5000]\tvalid_0's huber: 36.0085\n",
      "[5050]\tvalid_0's huber: 36.0052\n",
      "[5100]\tvalid_0's huber: 36.0045\n",
      "[5150]\tvalid_0's huber: 36.003\n",
      "[5200]\tvalid_0's huber: 36.0029\n",
      "[5250]\tvalid_0's huber: 36.0009\n",
      "[5300]\tvalid_0's huber: 35.9985\n",
      "[5350]\tvalid_0's huber: 35.9978\n",
      "[5400]\tvalid_0's huber: 35.9965\n",
      "[5450]\tvalid_0's huber: 35.9932\n",
      "[5500]\tvalid_0's huber: 35.993\n",
      "[5550]\tvalid_0's huber: 35.993\n",
      "[5600]\tvalid_0's huber: 35.9909\n",
      "[5650]\tvalid_0's huber: 35.9901\n",
      "[5700]\tvalid_0's huber: 35.9853\n",
      "[5750]\tvalid_0's huber: 35.9858\n",
      "[5800]\tvalid_0's huber: 35.9832\n",
      "[5850]\tvalid_0's huber: 35.9832\n",
      "[5900]\tvalid_0's huber: 35.9822\n",
      "[5950]\tvalid_0's huber: 35.9818\n",
      "[6000]\tvalid_0's huber: 35.9814\n",
      "[6050]\tvalid_0's huber: 35.9811\n",
      "[6100]\tvalid_0's huber: 35.9804\n",
      "[6150]\tvalid_0's huber: 35.9804\n",
      "[6200]\tvalid_0's huber: 35.9792\n",
      "[6250]\tvalid_0's huber: 35.9735\n",
      "[6300]\tvalid_0's huber: 35.9738\n",
      "[6350]\tvalid_0's huber: 35.9728\n",
      "[6400]\tvalid_0's huber: 35.9727\n",
      "[6450]\tvalid_0's huber: 35.9694\n",
      "[6500]\tvalid_0's huber: 35.965\n",
      "[6550]\tvalid_0's huber: 35.9636\n",
      "[6600]\tvalid_0's huber: 35.9626\n",
      "[6650]\tvalid_0's huber: 35.9604\n",
      "[6700]\tvalid_0's huber: 35.9599\n",
      "[6750]\tvalid_0's huber: 35.9569\n",
      "[6800]\tvalid_0's huber: 35.9524\n",
      "[6850]\tvalid_0's huber: 35.9469\n",
      "[6900]\tvalid_0's huber: 35.9375\n",
      "[6950]\tvalid_0's huber: 35.9315\n",
      "[7000]\tvalid_0's huber: 35.9189\n",
      "[7050]\tvalid_0's huber: 35.9192\n",
      "[7100]\tvalid_0's huber: 35.9192\n",
      "[7150]\tvalid_0's huber: 35.9106\n",
      "[7200]\tvalid_0's huber: 35.9046\n",
      "[7250]\tvalid_0's huber: 35.9041\n",
      "[7300]\tvalid_0's huber: 35.9033\n",
      "[7350]\tvalid_0's huber: 35.9028\n",
      "[7400]\tvalid_0's huber: 35.9024\n",
      "[7450]\tvalid_0's huber: 35.9022\n",
      "[7500]\tvalid_0's huber: 35.902\n",
      "[7550]\tvalid_0's huber: 35.9017\n",
      "[7600]\tvalid_0's huber: 35.9012\n",
      "[7650]\tvalid_0's huber: 35.9003\n",
      "[7700]\tvalid_0's huber: 35.8973\n",
      "[7750]\tvalid_0's huber: 35.8972\n",
      "[7800]\tvalid_0's huber: 35.8951\n",
      "[7850]\tvalid_0's huber: 35.8864\n",
      "[7900]\tvalid_0's huber: 35.8855\n",
      "[7950]\tvalid_0's huber: 35.8814\n",
      "[8000]\tvalid_0's huber: 35.8803\n",
      "[8050]\tvalid_0's huber: 35.8803\n",
      "[8100]\tvalid_0's huber: 35.8806\n",
      "[8150]\tvalid_0's huber: 35.8796\n",
      "[8200]\tvalid_0's huber: 35.8776\n",
      "[8250]\tvalid_0's huber: 35.8773\n",
      "[8300]\tvalid_0's huber: 35.8766\n",
      "[8350]\tvalid_0's huber: 35.8765\n",
      "[8400]\tvalid_0's huber: 35.8757\n",
      "[8450]\tvalid_0's huber: 35.8732\n",
      "[8500]\tvalid_0's huber: 35.871\n",
      "[8550]\tvalid_0's huber: 35.8709\n",
      "[8600]\tvalid_0's huber: 35.8706\n",
      "[8650]\tvalid_0's huber: 35.8688\n",
      "[8700]\tvalid_0's huber: 35.8688\n",
      "[8750]\tvalid_0's huber: 35.8668\n",
      "[8800]\tvalid_0's huber: 35.8624\n",
      "[8850]\tvalid_0's huber: 35.8613\n",
      "[8900]\tvalid_0's huber: 35.8608\n",
      "[8950]\tvalid_0's huber: 35.861\n",
      "[9000]\tvalid_0's huber: 35.8602\n",
      "[9050]\tvalid_0's huber: 35.8588\n",
      "[9100]\tvalid_0's huber: 35.8565\n",
      "[9150]\tvalid_0's huber: 35.8558\n",
      "[9200]\tvalid_0's huber: 35.8551\n",
      "[9250]\tvalid_0's huber: 35.8547\n",
      "[9300]\tvalid_0's huber: 35.8546\n",
      "[9350]\tvalid_0's huber: 35.8532\n",
      "[9400]\tvalid_0's huber: 35.8536\n",
      "[9450]\tvalid_0's huber: 35.852\n",
      "[9500]\tvalid_0's huber: 35.8498\n",
      "[9550]\tvalid_0's huber: 35.8499\n",
      "[9600]\tvalid_0's huber: 35.8501\n",
      "[9650]\tvalid_0's huber: 35.8501\n",
      "[9700]\tvalid_0's huber: 35.8499\n",
      "[9750]\tvalid_0's huber: 35.8484\n",
      "[9800]\tvalid_0's huber: 35.8481\n",
      "[9850]\tvalid_0's huber: 35.8481\n",
      "[9900]\tvalid_0's huber: 35.8392\n",
      "[9950]\tvalid_0's huber: 35.8364\n",
      "[10000]\tvalid_0's huber: 35.8361\n",
      "Did not meet early stopping. Best iteration is:\n",
      "[9997]\tvalid_0's huber: 35.8358\n",
      "preds dist plot\n"
     ]
    },
    {
     "name": "stderr",
     "output_type": "stream",
     "text": [
      "`distplot` is a deprecated function and will be removed in a future version. Please adapt your code to use either `displot` (a figure-level function with similar flexibility) or `histplot` (an axes-level function for histograms).\n"
     ]
    },
    {
     "data": {
      "image/png": "[encoded data removed]",
      "text/plain": [
       "<Figure size 432x288 with 1 Axes>"
      ]
     },
     "metadata": {
      "needs_background": "light"
     },
     "output_type": "display_data"
    },
    {
     "name": "stdout",
     "output_type": "stream",
     "text": [
      "Fold 4 end\n"
     ]
    },
    {
     "data": {
      "text/plain": [
       "<Figure size 432x288 with 0 Axes>"
      ]
     },
     "metadata": {},
     "output_type": "display_data"
    }
   ],
   "source": [
    "count = 0\n",
    "oof = np.zeros(training_data_df.shape[0])\n",
    "\n",
    "shap_summary_df = pd.DataFrame()\n",
    "\n",
    "for train_idx, val_idx in kf.split(training_data_df):\n",
    "    print('Fold {} start'.format(count))\n",
    "    train_data = training_data_df.loc[train_idx]\n",
    "    val_data = training_data_df.loc[val_idx]\n",
    "    \n",
    "    x_train = train_data.drop(columns=cols_to_drop)\n",
    "    y_train = train_data['가격면적']\n",
    "    \n",
    "    print(x_train.shape)\n",
    "    \n",
    "    x_val = val_data.drop(columns=cols_to_drop)\n",
    "    y_val = val_data['가격면적']\n",
    "    \n",
    "    print('y dist plot')\n",
    "    y_train.hist(bins=100)\n",
    "    plt.show()\n",
    "    plt.clf()\n",
    "    \n",
    "    params = {\n",
    "        'objective': 'huber',\n",
    "        'learning_rate': 10,\n",
    "        'seed': 42,\n",
    "        'max_depth': 12,\n",
    "        'num_leaves': 37,\n",
    "        'lambda_l2': 0,\n",
    "        'metric': 'huber',\n",
    "        'num_threads': 6,\n",
    "    }\n",
    "    \n",
    "    train_dataset = lgb.Dataset(x_train, label=y_train, categorical_feature=cat_cols)\n",
    "    val_dataset = lgb.Dataset(x_val, label=y_val, categorical_feature=cat_cols)\n",
    "    \n",
    "    num_rounds = 10000\n",
    "\n",
    "    bst = lgb.train(params, train_dataset, num_rounds, valid_sets=[val_dataset], early_stopping_rounds=500, verbose_eval=50)\n",
    "    \n",
    "    bst.save_model(basedir + 'lightgbm_huber_shap_over_zero_{}.txt'.format(count), num_iteration=bst.best_iteration)\n",
    "    \n",
    "    preds = bst.predict(x_val, num_iteration=bst.best_iteration)\n",
    "    \n",
    "    print('preds dist plot')\n",
    "    sns.distplot(preds)\n",
    "    plt.show()\n",
    "    plt.clf()\n",
    "    \n",
    "    oof[val_idx] = preds\n",
    "    \n",
    "    # shap\n",
    "    explainer = shap.explainers.Tree(bst)\n",
    "    \n",
    "    sample_x = x_val.sample(n=1000)\n",
    "    sample_y = y_val.loc[x_val.index]\n",
    "    \n",
    "    shap_values = explainer.shap_values(sample_x, y=sample_y, check_additivity=True, approximate=False)\n",
    "    shap_values_T = shap_values.T\n",
    "    \n",
    "    shap_summary = np.zeros(x_val.shape[1])\n",
    "    \n",
    "    for i in range(x_val.shape[1]):\n",
    "        shap_summary[i] = np.mean(np.abs(shap_values_T[i]))\n",
    "    \n",
    "    \n",
    "    shap_summary_df['model_{}_shap_summary'.format(count)] = shap_summary\n",
    "        \n",
    "    \n",
    "    print('Fold {} end'.format(count))\n",
    "    count += 1"
   ]
  },
  {
   "cell_type": "code",
   "execution_count": 27,
   "metadata": {},
   "outputs": [],
   "source": [
    "from sklearn.metrics import mean_squared_error"
   ]
  },
  {
   "cell_type": "code",
   "execution_count": 28,
   "metadata": {},
   "outputs": [
    {
     "data": {
      "text/plain": [
       "66.20962030354343"
      ]
     },
     "execution_count": 28,
     "metadata": {},
     "output_type": "execute_result"
    }
   ],
   "source": [
    "np.sqrt(mean_squared_error(training_data_df['가격면적'], oof))"
   ]
  },
  {
   "cell_type": "code",
   "execution_count": 29,
   "metadata": {},
   "outputs": [],
   "source": [
    "shap_summary_mean = np.zeros(shap_summary_df.shape[0])\n",
    "for i in range(shap_summary_df.shape[1]):\n",
    "    shap_summary_mean += shap_summary_df.iloc[:,i]"
   ]
  },
  {
   "cell_type": "code",
   "execution_count": 30,
   "metadata": {},
   "outputs": [],
   "source": [
    "shap_summary_mean = shap_summary_mean / shap_summary_df.shape[1]"
   ]
  },
  {
   "cell_type": "code",
   "execution_count": 31,
   "metadata": {},
   "outputs": [],
   "source": [
    "shap_summary_df['shap_summary_mean'] = shap_summary_mean"
   ]
  },
  {
   "cell_type": "code",
   "execution_count": 32,
   "metadata": {},
   "outputs": [],
   "source": [
    "shap_summary_df.index = x_train.columns"
   ]
  },
  {
   "cell_type": "code",
   "execution_count": 33,
   "metadata": {},
   "outputs": [],
   "source": [
    "shap_summary_df.to_csv(basedir + 'shap_over_zero_summary.csv')"
   ]
  },
  {
   "cell_type": "code",
   "execution_count": null,
   "metadata": {},
   "outputs": [],
   "source": []
  }
 ],
 "metadata": {
  "kernelspec": {
   "display_name": "Python 3",
   "language": "python",
   "name": "python3"
  },
  "language_info": {
   "codemirror_mode": {
    "name": "ipython",
    "version": 3
   },
   "file_extension": ".py",
   "mimetype": "text/x-python",
   "name": "python",
   "nbconvert_exporter": "python",
   "pygments_lexer": "ipython3",
   "version": "3.7.9"
  }
 },
 "nbformat": 4,
 "nbformat_minor": 4
}
