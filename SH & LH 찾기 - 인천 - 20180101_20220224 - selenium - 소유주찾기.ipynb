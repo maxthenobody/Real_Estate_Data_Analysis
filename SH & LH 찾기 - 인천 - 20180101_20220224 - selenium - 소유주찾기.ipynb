{
 "cells": [
  {
   "cell_type": "code",
   "execution_count": 1,
   "metadata": {},
   "outputs": [],
   "source": [
    "import pandas as pd\n",
    "import numpy as np\n",
    "import os\n",
    "pd.set_option('display.max_rows', 500)\n",
    "pd.set_option('display.max_columns', 500)\n",
    "import tqdm\n",
    "import matplotlib.pyplot as plt\n",
    "import seaborn as sns\n",
    "import matplotlib\n",
    "matplotlib.rcParams['axes.unicode_minus'] = False\n",
    "pd.options.mode.chained_assignment = None  # default='warn'\n",
    "plt.rcParams['font.family'] = 'Malgun Gothic'\n",
    "import datetime\n",
    "import time\n",
    "tqdm.tqdm.pandas()"
   ]
  },
  {
   "cell_type": "code",
   "execution_count": 2,
   "metadata": {},
   "outputs": [
    {
     "name": "stdout",
     "output_type": "stream",
     "text": [
      "(4686, 15)\n"
     ]
    },
    {
     "data": {
      "text/html": [
       "<div>\n",
       "<style scoped>\n",
       "    .dataframe tbody tr th:only-of-type {\n",
       "        vertical-align: middle;\n",
       "    }\n",
       "\n",
       "    .dataframe tbody tr th {\n",
       "        vertical-align: top;\n",
       "    }\n",
       "\n",
       "    .dataframe thead th {\n",
       "        text-align: right;\n",
       "    }\n",
       "</style>\n",
       "<table border=\"1\" class=\"dataframe\">\n",
       "  <thead>\n",
       "    <tr style=\"text-align: right;\">\n",
       "      <th></th>\n",
       "      <th>지번주소</th>\n",
       "      <th>도로명</th>\n",
       "      <th>시군구</th>\n",
       "      <th>본번</th>\n",
       "      <th>부번</th>\n",
       "      <th>건물(단지)명</th>\n",
       "      <th>전용면적(㎡)</th>\n",
       "      <th>거래금액(만원)</th>\n",
       "      <th>층</th>\n",
       "      <th>건축년도</th>\n",
       "      <th>계약날짜</th>\n",
       "      <th>단가(만원/㎡)</th>\n",
       "      <th>건물연식</th>\n",
       "      <th>부동산유형</th>\n",
       "      <th>일괄계약</th>\n",
       "    </tr>\n",
       "  </thead>\n",
       "  <tbody>\n",
       "    <tr>\n",
       "      <th>0</th>\n",
       "      <td>인천광역시 강화군 강화읍 관청리 555-4</td>\n",
       "      <td>북문길9번길 21</td>\n",
       "      <td>인천광역시 강화군 강화읍 관청리</td>\n",
       "      <td>555</td>\n",
       "      <td>4</td>\n",
       "      <td>송학하얀집1동2동</td>\n",
       "      <td>67.94</td>\n",
       "      <td>14140</td>\n",
       "      <td>4</td>\n",
       "      <td>2018</td>\n",
       "      <td>2018-12-31</td>\n",
       "      <td>208.124816</td>\n",
       "      <td>4</td>\n",
       "      <td>연립다세대</td>\n",
       "      <td>Y</td>\n",
       "    </tr>\n",
       "    <tr>\n",
       "      <th>1</th>\n",
       "      <td>인천광역시 강화군 강화읍 관청리 555-4</td>\n",
       "      <td>북문길9번길 21</td>\n",
       "      <td>인천광역시 강화군 강화읍 관청리</td>\n",
       "      <td>555</td>\n",
       "      <td>4</td>\n",
       "      <td>송학하얀집1동2동</td>\n",
       "      <td>67.94</td>\n",
       "      <td>14140</td>\n",
       "      <td>3</td>\n",
       "      <td>2018</td>\n",
       "      <td>2018-12-31</td>\n",
       "      <td>208.124816</td>\n",
       "      <td>4</td>\n",
       "      <td>연립다세대</td>\n",
       "      <td>Y</td>\n",
       "    </tr>\n",
       "    <tr>\n",
       "      <th>2</th>\n",
       "      <td>인천광역시 강화군 강화읍 관청리 555-4</td>\n",
       "      <td>북문길9번길 21</td>\n",
       "      <td>인천광역시 강화군 강화읍 관청리</td>\n",
       "      <td>555</td>\n",
       "      <td>4</td>\n",
       "      <td>송학하얀집1동2동</td>\n",
       "      <td>67.94</td>\n",
       "      <td>14140</td>\n",
       "      <td>2</td>\n",
       "      <td>2018</td>\n",
       "      <td>2018-12-31</td>\n",
       "      <td>208.124816</td>\n",
       "      <td>4</td>\n",
       "      <td>연립다세대</td>\n",
       "      <td>Y</td>\n",
       "    </tr>\n",
       "    <tr>\n",
       "      <th>3</th>\n",
       "      <td>인천광역시 강화군 강화읍 관청리 555-4</td>\n",
       "      <td>북문길9번길 21</td>\n",
       "      <td>인천광역시 강화군 강화읍 관청리</td>\n",
       "      <td>555</td>\n",
       "      <td>4</td>\n",
       "      <td>송학하얀집1동2동</td>\n",
       "      <td>68.59</td>\n",
       "      <td>14275</td>\n",
       "      <td>5</td>\n",
       "      <td>2018</td>\n",
       "      <td>2018-12-31</td>\n",
       "      <td>208.120717</td>\n",
       "      <td>4</td>\n",
       "      <td>연립다세대</td>\n",
       "      <td>Y</td>\n",
       "    </tr>\n",
       "    <tr>\n",
       "      <th>4</th>\n",
       "      <td>인천광역시 강화군 강화읍 관청리 555-4</td>\n",
       "      <td>북문길9번길 21</td>\n",
       "      <td>인천광역시 강화군 강화읍 관청리</td>\n",
       "      <td>555</td>\n",
       "      <td>4</td>\n",
       "      <td>송학하얀집1동2동</td>\n",
       "      <td>69.09</td>\n",
       "      <td>14379</td>\n",
       "      <td>4</td>\n",
       "      <td>2018</td>\n",
       "      <td>2018-12-31</td>\n",
       "      <td>208.119844</td>\n",
       "      <td>4</td>\n",
       "      <td>연립다세대</td>\n",
       "      <td>Y</td>\n",
       "    </tr>\n",
       "  </tbody>\n",
       "</table>\n",
       "</div>"
      ],
      "text/plain": [
       "                      지번주소        도로명                시군구   본번  부번    건물(단지)명  \\\n",
       "0  인천광역시 강화군 강화읍 관청리 555-4  북문길9번길 21  인천광역시 강화군 강화읍 관청리  555   4  송학하얀집1동2동   \n",
       "1  인천광역시 강화군 강화읍 관청리 555-4  북문길9번길 21  인천광역시 강화군 강화읍 관청리  555   4  송학하얀집1동2동   \n",
       "2  인천광역시 강화군 강화읍 관청리 555-4  북문길9번길 21  인천광역시 강화군 강화읍 관청리  555   4  송학하얀집1동2동   \n",
       "3  인천광역시 강화군 강화읍 관청리 555-4  북문길9번길 21  인천광역시 강화군 강화읍 관청리  555   4  송학하얀집1동2동   \n",
       "4  인천광역시 강화군 강화읍 관청리 555-4  북문길9번길 21  인천광역시 강화군 강화읍 관청리  555   4  송학하얀집1동2동   \n",
       "\n",
       "   전용면적(㎡)  거래금액(만원)  층  건축년도       계약날짜    단가(만원/㎡)  건물연식  부동산유형 일괄계약  \n",
       "0    67.94     14140  4  2018 2018-12-31  208.124816     4  연립다세대    Y  \n",
       "1    67.94     14140  3  2018 2018-12-31  208.124816     4  연립다세대    Y  \n",
       "2    67.94     14140  2  2018 2018-12-31  208.124816     4  연립다세대    Y  \n",
       "3    68.59     14275  5  2018 2018-12-31  208.120717     4  연립다세대    Y  \n",
       "4    69.09     14379  4  2018 2018-12-31  208.119844     4  연립다세대    Y  "
      ]
     },
     "execution_count": 2,
     "metadata": {},
     "output_type": "execute_result"
    }
   ],
   "source": [
    "bulk_df = pd.read_excel('./공공주택찾기/인천/일괄계약전체_20180101_20220224.xlsx')\n",
    "print(bulk_df.shape)\n",
    "bulk_df.head()"
   ]
  },
  {
   "cell_type": "code",
   "execution_count": 3,
   "metadata": {},
   "outputs": [],
   "source": [
    "bulk_df['소유자'] = np.nan"
   ]
  },
  {
   "cell_type": "code",
   "execution_count": 4,
   "metadata": {},
   "outputs": [],
   "source": [
    "from selenium import webdriver\n",
    "from selenium.webdriver.common.keys import Keys\n",
    "from webdriver_manager.chrome import ChromeDriverManager"
   ]
  },
  {
   "cell_type": "code",
   "execution_count": 5,
   "metadata": {},
   "outputs": [
    {
     "name": "stderr",
     "output_type": "stream",
     "text": [
      "\n",
      "\n",
      "====== WebDriver manager ======\n",
      "Current google-chrome version is 98.0.4758\n",
      "Get LATEST driver version for 98.0.4758\n",
      "Get LATEST driver version for 98.0.4758\n",
      "Trying to download new driver from https://chromedriver.storage.googleapis.com/98.0.4758.102/chromedriver_win32.zip\n",
      "Driver has been saved in cache [C:\\Users\\max6296\\.wdm\\drivers\\chromedriver\\win32\\98.0.4758.102]\n"
     ]
    }
   ],
   "source": [
    "driver = webdriver.Chrome(ChromeDriverManager().install())"
   ]
  },
  {
   "cell_type": "code",
   "execution_count": 6,
   "metadata": {},
   "outputs": [],
   "source": [
    "driver.get(\"http://www.iros.go.kr/PMainJ.jsp\")"
   ]
  },
  {
   "cell_type": "code",
   "execution_count": 7,
   "metadata": {},
   "outputs": [],
   "source": [
    "driver.get(\"http://www.iros.go.kr/frontservlet?cmd=RISUWelcomeViewC\")"
   ]
  },
  {
   "cell_type": "code",
   "execution_count": 8,
   "metadata": {},
   "outputs": [],
   "source": [
    "def get_owner_name(df):\n",
    "    df = df.copy()\n",
    "    \n",
    "    count = 0\n",
    "    for addr in tqdm.tqdm_notebook(df['지번주소'].unique()):\n",
    "        owner_name = np.nan        \n",
    "        addr_df = df[df['지번주소'] == addr]\n",
    "        addr = addr.replace('-0', '')\n",
    "        \n",
    "        driver.switch_to.default_content()\n",
    "        \n",
    "        \n",
    "        driver.switch_to.frame(\"inputFrame\")\n",
    "        \n",
    "        elem_search = driver.find_element_by_xpath('html/body/form[1]/div[24]/div/div/div/fieldset/div/table/tbody/tr[5]/td/span/input')\n",
    "        elem_search.clear()\n",
    "        elem_search.send_keys(addr)\n",
    "        elem_search.send_keys(Keys.RETURN)\n",
    "        time.sleep(2)\n",
    "        \n",
    "        try:\n",
    "            driver.switch_to.alert.accept()\n",
    "        except:\n",
    "            pass\n",
    "        \n",
    "        time.sleep(1)\n",
    "        \n",
    "        driver.switch_to.default_content()\n",
    "        driver.switch_to.frame('resultFrame')\n",
    "        driver.switch_to.frame('frmOuterModal')\n",
    "        \n",
    "        try:\n",
    "            driver.find_element_by_xpath('/html/body/div[2]/div[2]/table/tbody/tr[3]/td[6]/button').click()\n",
    "        except:\n",
    "            continue\n",
    "        \n",
    "        time.sleep(1)\n",
    "        \n",
    "        elem_result = driver.find_element_by_xpath('/html/body/div[2]/div[2]/table/tbody/tr/td[3]')\n",
    "        \n",
    "        owner_name = elem_result.text\n",
    "        \n",
    "        driver.switch_to.default_content()\n",
    "        \n",
    "        df.loc[addr_df.index, '소유자'] = owner_name\n",
    "        \n",
    "        count += 1\n",
    "    \n",
    "    return df"
   ]
  },
  {
   "cell_type": "code",
   "execution_count": 9,
   "metadata": {},
   "outputs": [
    {
     "name": "stderr",
     "output_type": "stream",
     "text": [
      "c:\\users\\max6296\\ml\\lib\\site-packages\\ipykernel_launcher.py:5: TqdmDeprecationWarning: This function will be removed in tqdm==5.0.0\n",
      "Please use `tqdm.notebook.tqdm` instead of `tqdm.tqdm_notebook`\n",
      "  \"\"\"\n"
     ]
    },
    {
     "data": {
      "application/vnd.jupyter.widget-view+json": {
       "model_id": "6f61f45fd471454fbb6b028e71a0e967",
       "version_major": 2,
       "version_minor": 0
      },
      "text/plain": [
       "  0%|          | 0/246 [00:00<?, ?it/s]"
      ]
     },
     "metadata": {},
     "output_type": "display_data"
    }
   ],
   "source": [
    "prac_df = get_owner_name(bulk_df)"
   ]
  },
  {
   "cell_type": "code",
   "execution_count": 10,
   "metadata": {},
   "outputs": [
    {
     "name": "stdout",
     "output_type": "stream",
     "text": [
      "(4686, 16)\n"
     ]
    },
    {
     "data": {
      "text/html": [
       "<div>\n",
       "<style scoped>\n",
       "    .dataframe tbody tr th:only-of-type {\n",
       "        vertical-align: middle;\n",
       "    }\n",
       "\n",
       "    .dataframe tbody tr th {\n",
       "        vertical-align: top;\n",
       "    }\n",
       "\n",
       "    .dataframe thead th {\n",
       "        text-align: right;\n",
       "    }\n",
       "</style>\n",
       "<table border=\"1\" class=\"dataframe\">\n",
       "  <thead>\n",
       "    <tr style=\"text-align: right;\">\n",
       "      <th></th>\n",
       "      <th>지번주소</th>\n",
       "      <th>도로명</th>\n",
       "      <th>시군구</th>\n",
       "      <th>본번</th>\n",
       "      <th>부번</th>\n",
       "      <th>건물(단지)명</th>\n",
       "      <th>전용면적(㎡)</th>\n",
       "      <th>거래금액(만원)</th>\n",
       "      <th>층</th>\n",
       "      <th>건축년도</th>\n",
       "      <th>계약날짜</th>\n",
       "      <th>단가(만원/㎡)</th>\n",
       "      <th>건물연식</th>\n",
       "      <th>부동산유형</th>\n",
       "      <th>일괄계약</th>\n",
       "      <th>소유자</th>\n",
       "    </tr>\n",
       "  </thead>\n",
       "  <tbody>\n",
       "    <tr>\n",
       "      <th>0</th>\n",
       "      <td>인천광역시 강화군 강화읍 관청리 555-4</td>\n",
       "      <td>북문길9번길 21</td>\n",
       "      <td>인천광역시 강화군 강화읍 관청리</td>\n",
       "      <td>555</td>\n",
       "      <td>4</td>\n",
       "      <td>송학하얀집1동2동</td>\n",
       "      <td>67.94</td>\n",
       "      <td>14140</td>\n",
       "      <td>4</td>\n",
       "      <td>2018</td>\n",
       "      <td>2018-12-31</td>\n",
       "      <td>208.124816</td>\n",
       "      <td>4</td>\n",
       "      <td>연립다세대</td>\n",
       "      <td>Y</td>\n",
       "      <td>한***~</td>\n",
       "    </tr>\n",
       "    <tr>\n",
       "      <th>1</th>\n",
       "      <td>인천광역시 강화군 강화읍 관청리 555-4</td>\n",
       "      <td>북문길9번길 21</td>\n",
       "      <td>인천광역시 강화군 강화읍 관청리</td>\n",
       "      <td>555</td>\n",
       "      <td>4</td>\n",
       "      <td>송학하얀집1동2동</td>\n",
       "      <td>67.94</td>\n",
       "      <td>14140</td>\n",
       "      <td>3</td>\n",
       "      <td>2018</td>\n",
       "      <td>2018-12-31</td>\n",
       "      <td>208.124816</td>\n",
       "      <td>4</td>\n",
       "      <td>연립다세대</td>\n",
       "      <td>Y</td>\n",
       "      <td>한***~</td>\n",
       "    </tr>\n",
       "    <tr>\n",
       "      <th>2</th>\n",
       "      <td>인천광역시 강화군 강화읍 관청리 555-4</td>\n",
       "      <td>북문길9번길 21</td>\n",
       "      <td>인천광역시 강화군 강화읍 관청리</td>\n",
       "      <td>555</td>\n",
       "      <td>4</td>\n",
       "      <td>송학하얀집1동2동</td>\n",
       "      <td>67.94</td>\n",
       "      <td>14140</td>\n",
       "      <td>2</td>\n",
       "      <td>2018</td>\n",
       "      <td>2018-12-31</td>\n",
       "      <td>208.124816</td>\n",
       "      <td>4</td>\n",
       "      <td>연립다세대</td>\n",
       "      <td>Y</td>\n",
       "      <td>한***~</td>\n",
       "    </tr>\n",
       "    <tr>\n",
       "      <th>3</th>\n",
       "      <td>인천광역시 강화군 강화읍 관청리 555-4</td>\n",
       "      <td>북문길9번길 21</td>\n",
       "      <td>인천광역시 강화군 강화읍 관청리</td>\n",
       "      <td>555</td>\n",
       "      <td>4</td>\n",
       "      <td>송학하얀집1동2동</td>\n",
       "      <td>68.59</td>\n",
       "      <td>14275</td>\n",
       "      <td>5</td>\n",
       "      <td>2018</td>\n",
       "      <td>2018-12-31</td>\n",
       "      <td>208.120717</td>\n",
       "      <td>4</td>\n",
       "      <td>연립다세대</td>\n",
       "      <td>Y</td>\n",
       "      <td>한***~</td>\n",
       "    </tr>\n",
       "    <tr>\n",
       "      <th>4</th>\n",
       "      <td>인천광역시 강화군 강화읍 관청리 555-4</td>\n",
       "      <td>북문길9번길 21</td>\n",
       "      <td>인천광역시 강화군 강화읍 관청리</td>\n",
       "      <td>555</td>\n",
       "      <td>4</td>\n",
       "      <td>송학하얀집1동2동</td>\n",
       "      <td>69.09</td>\n",
       "      <td>14379</td>\n",
       "      <td>4</td>\n",
       "      <td>2018</td>\n",
       "      <td>2018-12-31</td>\n",
       "      <td>208.119844</td>\n",
       "      <td>4</td>\n",
       "      <td>연립다세대</td>\n",
       "      <td>Y</td>\n",
       "      <td>한***~</td>\n",
       "    </tr>\n",
       "  </tbody>\n",
       "</table>\n",
       "</div>"
      ],
      "text/plain": [
       "                      지번주소        도로명                시군구   본번  부번    건물(단지)명  \\\n",
       "0  인천광역시 강화군 강화읍 관청리 555-4  북문길9번길 21  인천광역시 강화군 강화읍 관청리  555   4  송학하얀집1동2동   \n",
       "1  인천광역시 강화군 강화읍 관청리 555-4  북문길9번길 21  인천광역시 강화군 강화읍 관청리  555   4  송학하얀집1동2동   \n",
       "2  인천광역시 강화군 강화읍 관청리 555-4  북문길9번길 21  인천광역시 강화군 강화읍 관청리  555   4  송학하얀집1동2동   \n",
       "3  인천광역시 강화군 강화읍 관청리 555-4  북문길9번길 21  인천광역시 강화군 강화읍 관청리  555   4  송학하얀집1동2동   \n",
       "4  인천광역시 강화군 강화읍 관청리 555-4  북문길9번길 21  인천광역시 강화군 강화읍 관청리  555   4  송학하얀집1동2동   \n",
       "\n",
       "   전용면적(㎡)  거래금액(만원)  층  건축년도       계약날짜    단가(만원/㎡)  건물연식  부동산유형 일괄계약    소유자  \n",
       "0    67.94     14140  4  2018 2018-12-31  208.124816     4  연립다세대    Y  한***~  \n",
       "1    67.94     14140  3  2018 2018-12-31  208.124816     4  연립다세대    Y  한***~  \n",
       "2    67.94     14140  2  2018 2018-12-31  208.124816     4  연립다세대    Y  한***~  \n",
       "3    68.59     14275  5  2018 2018-12-31  208.120717     4  연립다세대    Y  한***~  \n",
       "4    69.09     14379  4  2018 2018-12-31  208.119844     4  연립다세대    Y  한***~  "
      ]
     },
     "execution_count": 10,
     "metadata": {},
     "output_type": "execute_result"
    }
   ],
   "source": [
    "print(prac_df.shape)\n",
    "prac_df.head()"
   ]
  },
  {
   "cell_type": "code",
   "execution_count": 11,
   "metadata": {},
   "outputs": [
    {
     "data": {
      "text/plain": [
       "한***~        2397\n",
       "인***~        1169\n",
       "서**           200\n",
       "주식회사무***~     104\n",
       "박**            85\n",
       "권**            77\n",
       "이**            71\n",
       "김**            61\n",
       "오**            60\n",
       "정**            48\n",
       "남**            40\n",
       "정**외 1명        35\n",
       "노**            33\n",
       "오**외 1명        28\n",
       "임**            25\n",
       "주**            24\n",
       "김**외 1명        24\n",
       "박**외 1명        19\n",
       "주식회사지***       19\n",
       "한**            16\n",
       "대***~          14\n",
       "국***~          14\n",
       "주식회사생***~      12\n",
       "전**            12\n",
       "최**외 1명        11\n",
       "주식회사제***~      11\n",
       "조**외 1명        10\n",
       "류**외 1명        10\n",
       "Name: 소유자, dtype: int64"
      ]
     },
     "execution_count": 11,
     "metadata": {},
     "output_type": "execute_result"
    }
   ],
   "source": [
    "prac_df['소유자'].value_counts()"
   ]
  },
  {
   "cell_type": "code",
   "execution_count": 12,
   "metadata": {},
   "outputs": [
    {
     "data": {
      "text/plain": [
       "57"
      ]
     },
     "execution_count": 12,
     "metadata": {},
     "output_type": "execute_result"
    }
   ],
   "source": [
    "prac_df['소유자'].isna().sum()"
   ]
  },
  {
   "cell_type": "code",
   "execution_count": 13,
   "metadata": {},
   "outputs": [],
   "source": [
    "prac_df = prac_df.dropna(subset=['소유자']).reset_index(drop=True)"
   ]
  },
  {
   "cell_type": "code",
   "execution_count": 14,
   "metadata": {},
   "outputs": [
    {
     "data": {
      "text/plain": [
       "(4629, 16)"
      ]
     },
     "execution_count": 14,
     "metadata": {},
     "output_type": "execute_result"
    }
   ],
   "source": [
    "prac_df.shape"
   ]
  },
  {
   "cell_type": "code",
   "execution_count": 15,
   "metadata": {},
   "outputs": [],
   "source": [
    "def sh_lh(x):\n",
    "    if x == '한***~':\n",
    "        return 'LH'\n",
    "    else:\n",
    "        return x"
   ]
  },
  {
   "cell_type": "code",
   "execution_count": 16,
   "metadata": {},
   "outputs": [],
   "source": [
    "prac_df['소유자'] = prac_df['소유자'].apply(sh_lh)"
   ]
  },
  {
   "cell_type": "code",
   "execution_count": 17,
   "metadata": {},
   "outputs": [
    {
     "data": {
      "text/plain": [
       "LH           2397\n",
       "인***~        1169\n",
       "서**           200\n",
       "주식회사무***~     104\n",
       "박**            85\n",
       "권**            77\n",
       "이**            71\n",
       "김**            61\n",
       "오**            60\n",
       "정**            48\n",
       "남**            40\n",
       "정**외 1명        35\n",
       "노**            33\n",
       "오**외 1명        28\n",
       "임**            25\n",
       "주**            24\n",
       "김**외 1명        24\n",
       "박**외 1명        19\n",
       "주식회사지***       19\n",
       "한**            16\n",
       "대***~          14\n",
       "국***~          14\n",
       "주식회사생***~      12\n",
       "전**            12\n",
       "최**외 1명        11\n",
       "주식회사제***~      11\n",
       "조**외 1명        10\n",
       "류**외 1명        10\n",
       "Name: 소유자, dtype: int64"
      ]
     },
     "execution_count": 17,
     "metadata": {},
     "output_type": "execute_result"
    }
   ],
   "source": [
    "prac_df['소유자'].value_counts()"
   ]
  },
  {
   "cell_type": "code",
   "execution_count": 18,
   "metadata": {},
   "outputs": [
    {
     "name": "stdout",
     "output_type": "stream",
     "text": [
      "Wall time: 1.37 s\n"
     ]
    }
   ],
   "source": [
    "%%time\n",
    "prac_df.to_excel('./공공주택찾기/인천/일괄계약_전체_소유자포함_20180101_20220224.xlsx', index=False)"
   ]
  },
  {
   "cell_type": "code",
   "execution_count": 19,
   "metadata": {},
   "outputs": [
    {
     "name": "stdout",
     "output_type": "stream",
     "text": [
      "(2397, 16)\n"
     ]
    },
    {
     "data": {
      "text/html": [
       "<div>\n",
       "<style scoped>\n",
       "    .dataframe tbody tr th:only-of-type {\n",
       "        vertical-align: middle;\n",
       "    }\n",
       "\n",
       "    .dataframe tbody tr th {\n",
       "        vertical-align: top;\n",
       "    }\n",
       "\n",
       "    .dataframe thead th {\n",
       "        text-align: right;\n",
       "    }\n",
       "</style>\n",
       "<table border=\"1\" class=\"dataframe\">\n",
       "  <thead>\n",
       "    <tr style=\"text-align: right;\">\n",
       "      <th></th>\n",
       "      <th>지번주소</th>\n",
       "      <th>도로명</th>\n",
       "      <th>시군구</th>\n",
       "      <th>본번</th>\n",
       "      <th>부번</th>\n",
       "      <th>건물(단지)명</th>\n",
       "      <th>전용면적(㎡)</th>\n",
       "      <th>거래금액(만원)</th>\n",
       "      <th>층</th>\n",
       "      <th>건축년도</th>\n",
       "      <th>계약날짜</th>\n",
       "      <th>단가(만원/㎡)</th>\n",
       "      <th>건물연식</th>\n",
       "      <th>부동산유형</th>\n",
       "      <th>일괄계약</th>\n",
       "      <th>소유자</th>\n",
       "    </tr>\n",
       "  </thead>\n",
       "  <tbody>\n",
       "    <tr>\n",
       "      <th>0</th>\n",
       "      <td>인천광역시 강화군 강화읍 관청리 555-4</td>\n",
       "      <td>북문길9번길 21</td>\n",
       "      <td>인천광역시 강화군 강화읍 관청리</td>\n",
       "      <td>555</td>\n",
       "      <td>4</td>\n",
       "      <td>송학하얀집1동2동</td>\n",
       "      <td>67.94</td>\n",
       "      <td>14140</td>\n",
       "      <td>4</td>\n",
       "      <td>2018</td>\n",
       "      <td>2018-12-31</td>\n",
       "      <td>208.124816</td>\n",
       "      <td>4</td>\n",
       "      <td>연립다세대</td>\n",
       "      <td>Y</td>\n",
       "      <td>LH</td>\n",
       "    </tr>\n",
       "    <tr>\n",
       "      <th>1</th>\n",
       "      <td>인천광역시 강화군 강화읍 관청리 555-4</td>\n",
       "      <td>북문길9번길 21</td>\n",
       "      <td>인천광역시 강화군 강화읍 관청리</td>\n",
       "      <td>555</td>\n",
       "      <td>4</td>\n",
       "      <td>송학하얀집1동2동</td>\n",
       "      <td>67.94</td>\n",
       "      <td>14140</td>\n",
       "      <td>3</td>\n",
       "      <td>2018</td>\n",
       "      <td>2018-12-31</td>\n",
       "      <td>208.124816</td>\n",
       "      <td>4</td>\n",
       "      <td>연립다세대</td>\n",
       "      <td>Y</td>\n",
       "      <td>LH</td>\n",
       "    </tr>\n",
       "    <tr>\n",
       "      <th>2</th>\n",
       "      <td>인천광역시 강화군 강화읍 관청리 555-4</td>\n",
       "      <td>북문길9번길 21</td>\n",
       "      <td>인천광역시 강화군 강화읍 관청리</td>\n",
       "      <td>555</td>\n",
       "      <td>4</td>\n",
       "      <td>송학하얀집1동2동</td>\n",
       "      <td>67.94</td>\n",
       "      <td>14140</td>\n",
       "      <td>2</td>\n",
       "      <td>2018</td>\n",
       "      <td>2018-12-31</td>\n",
       "      <td>208.124816</td>\n",
       "      <td>4</td>\n",
       "      <td>연립다세대</td>\n",
       "      <td>Y</td>\n",
       "      <td>LH</td>\n",
       "    </tr>\n",
       "    <tr>\n",
       "      <th>3</th>\n",
       "      <td>인천광역시 강화군 강화읍 관청리 555-4</td>\n",
       "      <td>북문길9번길 21</td>\n",
       "      <td>인천광역시 강화군 강화읍 관청리</td>\n",
       "      <td>555</td>\n",
       "      <td>4</td>\n",
       "      <td>송학하얀집1동2동</td>\n",
       "      <td>68.59</td>\n",
       "      <td>14275</td>\n",
       "      <td>5</td>\n",
       "      <td>2018</td>\n",
       "      <td>2018-12-31</td>\n",
       "      <td>208.120717</td>\n",
       "      <td>4</td>\n",
       "      <td>연립다세대</td>\n",
       "      <td>Y</td>\n",
       "      <td>LH</td>\n",
       "    </tr>\n",
       "    <tr>\n",
       "      <th>4</th>\n",
       "      <td>인천광역시 강화군 강화읍 관청리 555-4</td>\n",
       "      <td>북문길9번길 21</td>\n",
       "      <td>인천광역시 강화군 강화읍 관청리</td>\n",
       "      <td>555</td>\n",
       "      <td>4</td>\n",
       "      <td>송학하얀집1동2동</td>\n",
       "      <td>69.09</td>\n",
       "      <td>14379</td>\n",
       "      <td>4</td>\n",
       "      <td>2018</td>\n",
       "      <td>2018-12-31</td>\n",
       "      <td>208.119844</td>\n",
       "      <td>4</td>\n",
       "      <td>연립다세대</td>\n",
       "      <td>Y</td>\n",
       "      <td>LH</td>\n",
       "    </tr>\n",
       "  </tbody>\n",
       "</table>\n",
       "</div>"
      ],
      "text/plain": [
       "                      지번주소        도로명                시군구   본번  부번    건물(단지)명  \\\n",
       "0  인천광역시 강화군 강화읍 관청리 555-4  북문길9번길 21  인천광역시 강화군 강화읍 관청리  555   4  송학하얀집1동2동   \n",
       "1  인천광역시 강화군 강화읍 관청리 555-4  북문길9번길 21  인천광역시 강화군 강화읍 관청리  555   4  송학하얀집1동2동   \n",
       "2  인천광역시 강화군 강화읍 관청리 555-4  북문길9번길 21  인천광역시 강화군 강화읍 관청리  555   4  송학하얀집1동2동   \n",
       "3  인천광역시 강화군 강화읍 관청리 555-4  북문길9번길 21  인천광역시 강화군 강화읍 관청리  555   4  송학하얀집1동2동   \n",
       "4  인천광역시 강화군 강화읍 관청리 555-4  북문길9번길 21  인천광역시 강화군 강화읍 관청리  555   4  송학하얀집1동2동   \n",
       "\n",
       "   전용면적(㎡)  거래금액(만원)  층  건축년도       계약날짜    단가(만원/㎡)  건물연식  부동산유형 일괄계약 소유자  \n",
       "0    67.94     14140  4  2018 2018-12-31  208.124816     4  연립다세대    Y  LH  \n",
       "1    67.94     14140  3  2018 2018-12-31  208.124816     4  연립다세대    Y  LH  \n",
       "2    67.94     14140  2  2018 2018-12-31  208.124816     4  연립다세대    Y  LH  \n",
       "3    68.59     14275  5  2018 2018-12-31  208.120717     4  연립다세대    Y  LH  \n",
       "4    69.09     14379  4  2018 2018-12-31  208.119844     4  연립다세대    Y  LH  "
      ]
     },
     "execution_count": 19,
     "metadata": {},
     "output_type": "execute_result"
    }
   ],
   "source": [
    "prac_df = prac_df[\n",
    "    (prac_df['소유자'] == 'LH')\n",
    "]\n",
    "print(prac_df.shape)\n",
    "prac_df.head()"
   ]
  },
  {
   "cell_type": "code",
   "execution_count": 20,
   "metadata": {},
   "outputs": [
    {
     "data": {
      "text/plain": [
       "LH    2397\n",
       "Name: 소유자, dtype: int64"
      ]
     },
     "execution_count": 20,
     "metadata": {},
     "output_type": "execute_result"
    }
   ],
   "source": [
    "prac_df['소유자'].value_counts()"
   ]
  },
  {
   "cell_type": "code",
   "execution_count": 21,
   "metadata": {},
   "outputs": [
    {
     "name": "stdout",
     "output_type": "stream",
     "text": [
      "Wall time: 685 ms\n"
     ]
    }
   ],
   "source": [
    "%%time\n",
    "prac_df.to_excel('./공공주택찾기/인천/LH_거래사례_20180101_20220224.xlsx', index=False)"
   ]
  },
  {
   "cell_type": "code",
   "execution_count": null,
   "metadata": {},
   "outputs": [],
   "source": []
  },
  {
   "cell_type": "code",
   "execution_count": null,
   "metadata": {},
   "outputs": [],
   "source": []
  },
  {
   "cell_type": "code",
   "execution_count": null,
   "metadata": {},
   "outputs": [],
   "source": []
  },
  {
   "cell_type": "code",
   "execution_count": null,
   "metadata": {},
   "outputs": [],
   "source": []
  },
  {
   "cell_type": "code",
   "execution_count": null,
   "metadata": {},
   "outputs": [],
   "source": []
  },
  {
   "cell_type": "code",
   "execution_count": null,
   "metadata": {},
   "outputs": [],
   "source": []
  },
  {
   "cell_type": "code",
   "execution_count": null,
   "metadata": {},
   "outputs": [],
   "source": []
  }
 ],
 "metadata": {
  "kernelspec": {
   "display_name": "Python 3 (ipykernel)",
   "language": "python",
   "name": "python3"
  },
  "language_info": {
   "codemirror_mode": {
    "name": "ipython",
    "version": 3
   },
   "file_extension": ".py",
   "mimetype": "text/x-python",
   "name": "python",
   "nbconvert_exporter": "python",
   "pygments_lexer": "ipython3",
   "version": "3.7.9"
  }
 },
 "nbformat": 4,
 "nbformat_minor": 4
}
