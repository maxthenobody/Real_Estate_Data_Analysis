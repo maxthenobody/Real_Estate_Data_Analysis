{
 "cells": [
  {
   "cell_type": "code",
   "execution_count": 1,
   "metadata": {},
   "outputs": [],
   "source": [
    "import pandas as pd\n",
    "import numpy as np\n",
    "import os\n",
    "pd.set_option('display.max_rows', 500)\n",
    "pd.set_option('display.max_columns', 500)\n",
    "import tqdm\n",
    "import matplotlib.pyplot as plt\n",
    "import seaborn as sns\n",
    "import matplotlib\n",
    "matplotlib.rcParams['axes.unicode_minus'] = False\n",
    "pd.options.mode.chained_assignment = None  # default='warn'\n",
    "plt.rcParams['font.family'] = 'Malgun Gothic'\n",
    "import datetime\n",
    "tqdm.tqdm.pandas()"
   ]
  },
  {
   "cell_type": "code",
   "execution_count": 2,
   "metadata": {},
   "outputs": [],
   "source": [
    "date_today = pd.to_datetime(datetime.datetime.now().strftime('%Y-%m-%d'), format='%Y-%m-%d')"
   ]
  },
  {
   "cell_type": "code",
   "execution_count": 3,
   "metadata": {},
   "outputs": [
    {
     "data": {
      "text/plain": [
       "'20220222'"
      ]
     },
     "execution_count": 3,
     "metadata": {},
     "output_type": "execute_result"
    }
   ],
   "source": [
    "date_today_record = str(date_today).split(' ')[0].replace('-', '')\n",
    "date_today_record"
   ]
  },
  {
   "cell_type": "code",
   "execution_count": 4,
   "metadata": {},
   "outputs": [],
   "source": [
    "def day_modifier(x):\n",
    "    # x is a number\n",
    "    \n",
    "    if pd.isna(x) == True:\n",
    "        return x\n",
    "    else:\n",
    "        x = str(x)\n",
    "        if len(x) == 1:\n",
    "            return '0' + x\n",
    "        else:\n",
    "            return x"
   ]
  },
  {
   "cell_type": "code",
   "execution_count": 5,
   "metadata": {},
   "outputs": [],
   "source": [
    "def landnum_modifier(x):\n",
    "    # x is a string\n",
    "    \n",
    "    if pd.isna(x) == True:\n",
    "        return x\n",
    "    else:\n",
    "        x = str(x).replace('외', '').replace(' ','')\n",
    "        splitted = x.split('-')\n",
    "        if len(splitted) == 1:\n",
    "            return x + '-0'\n",
    "        else:\n",
    "            return x"
   ]
  },
  {
   "cell_type": "code",
   "execution_count": 6,
   "metadata": {},
   "outputs": [],
   "source": [
    "def data_prep(bdtype, tradetype, starting_year=2018):\n",
    "    # bdtype is a string: one of 아파트, 연립다세대 or 오피스텔\n",
    "    # tradetype is a string: one of 매매 or 전월세\n",
    "    if (tradetype != '매매') & (tradetype != '전월세'):\n",
    "        raise ValueError('두번째 변수는 매매 또는 전월세만 입력 가능')\n",
    "    \n",
    "    \n",
    "    basedir = './국토교통부_실거래가_공개시스템/경기도/{}/{}/'.format(bdtype, tradetype)\n",
    "    filenames = [f for f in os.listdir(basedir) if f.endswith('.csv')]\n",
    "    \n",
    "    dfs_list = []\n",
    "    for i, f in tqdm.tqdm_notebook(enumerate(filenames)):\n",
    "        splitted_filename = f.split('실거래가_')       \n",
    "        file_year = int(splitted_filename[-1][:4])\n",
    "        \n",
    "        '''if file_year < starting_year:\n",
    "            continue'''\n",
    "        \n",
    "        try:\n",
    "            df = pd.read_csv(basedir + f, encoding='euc-kr', header=15)\n",
    "        except:\n",
    "            try:\n",
    "                df = pd.read_csv(basedir + f, encoding='utf-8', header=15)\n",
    "            except:\n",
    "                df = pd.read_csv(basedir + f, header=15)\n",
    "        \n",
    "        if '건물명' in df.columns:\n",
    "            df.rename(columns={'건물명':'건물(단지)명'}, inplace=True)\n",
    "        elif '단지명' in df.columns:\n",
    "            df.rename(columns={'단지명':'건물(단지)명'}, inplace=True)\n",
    "            \n",
    "        if '대지권면적(㎡)' in df.columns:\n",
    "            df = df.drop(columns=['대지권면적(㎡)'])\n",
    "                \n",
    "            \n",
    "        if '해제사유발생일' in df.columns.tolist():\n",
    "            df = df[df['해제사유발생일'].isna()]\n",
    "            df = df.drop(columns=['해제사유발생일'])\n",
    "            \n",
    "        dfs_list.append(df)\n",
    "    \n",
    "    concat_df = pd.concat(dfs_list).reset_index(drop=True)\n",
    "    \n",
    "    if tradetype == '전월세':\n",
    "        concat_df = concat_df.rename(columns={'전월세구분':'거래구분', '보증금(만원)':'거래금액(만원)'})\n",
    "        concat_df = concat_df.drop(columns=['월세(만원)'])\n",
    "        concat_df = concat_df[concat_df['거래구분'] == '전세']\n",
    "    elif tradetype == '매매':\n",
    "        concat_df['거래구분'] = '매매'\n",
    "        \n",
    "    concat_df['번지'] = concat_df['번지'].apply(landnum_modifier)\n",
    "    \n",
    "    concat_df['계약년월'] = concat_df['계약년월'].astype('Int64')\n",
    "    concat_df['계약일'] = concat_df['계약일'].astype('Int64')\n",
    "    \n",
    "    concat_df['계약년월'] = concat_df['계약년월'].apply(str)\n",
    "    concat_df['계약일'] = concat_df['계약일'].apply(str)\n",
    "    \n",
    "    concat_df['계약날짜기준_건물연식'] = concat_df['계약년월'].apply(lambda x: int(x[:4])) - concat_df['건축년도']\n",
    "    \n",
    "    concat_df['계약일'] = concat_df['계약일'].apply(day_modifier)\n",
    "    \n",
    "    concat_df['계약날짜'] = concat_df['계약년월'].apply(lambda x: x[:4]) + '-' + concat_df['계약년월'].apply(lambda x: x[-2:])\\\n",
    "    + '-' + concat_df['계약일']\n",
    "    \n",
    "    concat_df['계약날짜'] = pd.to_datetime(concat_df['계약날짜'], format='%Y-%m-%d')\n",
    "    \n",
    "    concat_df['거래금액(만원)'] = concat_df['거래금액(만원)'].apply(lambda x: int(x.replace(',','')))\n",
    "    concat_df['단가(만원/㎡)'] = concat_df['거래금액(만원)'] / concat_df['전용면적(㎡)']\n",
    "    \n",
    "    concat_df['지번주소'] = concat_df['시군구'] + ' ' + concat_df['번지']\n",
    "        \n",
    "    cols_to_drop = ['번지', '지번주소', '계약년월', '계약일', '도로명']\n",
    "        \n",
    "    concat_df = concat_df[['지번주소', '도로명'] + [col for col in concat_df.columns if col not in cols_to_drop]]\n",
    "    \n",
    "    date_today = pd.to_datetime(datetime.datetime.now().strftime('%Y-%m-%d'), format='%Y-%m-%d')\n",
    "    concat_df['건물연식'] = date_today.year - concat_df['건축년도']\n",
    "    \n",
    "    concat_df = concat_df.dropna(subset=['지번주소'])\n",
    "    \n",
    "    concat_df = concat_df[concat_df['층'] >= 0].reset_index(drop=True)\n",
    "    \n",
    "    return concat_df"
   ]
  },
  {
   "cell_type": "code",
   "execution_count": 7,
   "metadata": {},
   "outputs": [
    {
     "name": "stderr",
     "output_type": "stream",
     "text": [
      "c:\\users\\max6296\\ml\\lib\\site-packages\\ipykernel_launcher.py:12: TqdmDeprecationWarning: This function will be removed in tqdm==5.0.0\n",
      "Please use `tqdm.notebook.tqdm` instead of `tqdm.tqdm_notebook`\n",
      "  if sys.path[0] == '':\n"
     ]
    },
    {
     "data": {
      "application/vnd.jupyter.widget-view+json": {
       "model_id": "3b810a217b53415696274db8a92c48f3",
       "version_major": 2,
       "version_minor": 0
      },
      "text/plain": [
       "0it [00:00, ?it/s]"
      ]
     },
     "metadata": {},
     "output_type": "display_data"
    },
    {
     "name": "stderr",
     "output_type": "stream",
     "text": [
      "c:\\users\\max6296\\ml\\lib\\site-packages\\ipykernel_launcher.py:1: DtypeWarning: Columns (2) have mixed types.Specify dtype option on import or set low_memory=False.\n",
      "  \"\"\"Entry point for launching an IPython kernel.\n"
     ]
    },
    {
     "name": "stdout",
     "output_type": "stream",
     "text": [
      "(692425, 18)\n"
     ]
    },
    {
     "data": {
      "text/html": [
       "<div>\n",
       "<style scoped>\n",
       "    .dataframe tbody tr th:only-of-type {\n",
       "        vertical-align: middle;\n",
       "    }\n",
       "\n",
       "    .dataframe tbody tr th {\n",
       "        vertical-align: top;\n",
       "    }\n",
       "\n",
       "    .dataframe thead th {\n",
       "        text-align: right;\n",
       "    }\n",
       "</style>\n",
       "<table border=\"1\" class=\"dataframe\">\n",
       "  <thead>\n",
       "    <tr style=\"text-align: right;\">\n",
       "      <th></th>\n",
       "      <th>지번주소</th>\n",
       "      <th>도로명</th>\n",
       "      <th>시군구</th>\n",
       "      <th>본번</th>\n",
       "      <th>부번</th>\n",
       "      <th>건물(단지)명</th>\n",
       "      <th>전용면적(㎡)</th>\n",
       "      <th>거래금액(만원)</th>\n",
       "      <th>층</th>\n",
       "      <th>건축년도</th>\n",
       "      <th>거래유형</th>\n",
       "      <th>중개사소재지</th>\n",
       "      <th>거래구분</th>\n",
       "      <th>계약날짜기준_건물연식</th>\n",
       "      <th>계약날짜</th>\n",
       "      <th>단가(만원/㎡)</th>\n",
       "      <th>건물연식</th>\n",
       "      <th>부동산유형</th>\n",
       "    </tr>\n",
       "  </thead>\n",
       "  <tbody>\n",
       "    <tr>\n",
       "      <th>0</th>\n",
       "      <td>경기도 가평군 가평읍 달전리 281-0</td>\n",
       "      <td>달전로 59</td>\n",
       "      <td>경기도 가평군 가평읍 달전리</td>\n",
       "      <td>281</td>\n",
       "      <td>0</td>\n",
       "      <td>세대넥스빌</td>\n",
       "      <td>59.88</td>\n",
       "      <td>10500</td>\n",
       "      <td>10</td>\n",
       "      <td>1996.0</td>\n",
       "      <td>-</td>\n",
       "      <td>-</td>\n",
       "      <td>매매</td>\n",
       "      <td>22.0</td>\n",
       "      <td>2018-01-16</td>\n",
       "      <td>175.350701</td>\n",
       "      <td>26.0</td>\n",
       "      <td>아파트</td>\n",
       "    </tr>\n",
       "    <tr>\n",
       "      <th>1</th>\n",
       "      <td>경기도 가평군 가평읍 달전리 281-0</td>\n",
       "      <td>달전로 59</td>\n",
       "      <td>경기도 가평군 가평읍 달전리</td>\n",
       "      <td>281</td>\n",
       "      <td>0</td>\n",
       "      <td>세대넥스빌</td>\n",
       "      <td>59.88</td>\n",
       "      <td>10500</td>\n",
       "      <td>10</td>\n",
       "      <td>1996.0</td>\n",
       "      <td>-</td>\n",
       "      <td>-</td>\n",
       "      <td>매매</td>\n",
       "      <td>22.0</td>\n",
       "      <td>2018-01-18</td>\n",
       "      <td>175.350701</td>\n",
       "      <td>26.0</td>\n",
       "      <td>아파트</td>\n",
       "    </tr>\n",
       "    <tr>\n",
       "      <th>2</th>\n",
       "      <td>경기도 가평군 가평읍 달전리 281-0</td>\n",
       "      <td>달전로 59</td>\n",
       "      <td>경기도 가평군 가평읍 달전리</td>\n",
       "      <td>281</td>\n",
       "      <td>0</td>\n",
       "      <td>세대넥스빌</td>\n",
       "      <td>58.95</td>\n",
       "      <td>10700</td>\n",
       "      <td>15</td>\n",
       "      <td>1996.0</td>\n",
       "      <td>-</td>\n",
       "      <td>-</td>\n",
       "      <td>매매</td>\n",
       "      <td>22.0</td>\n",
       "      <td>2018-02-13</td>\n",
       "      <td>181.509754</td>\n",
       "      <td>26.0</td>\n",
       "      <td>아파트</td>\n",
       "    </tr>\n",
       "    <tr>\n",
       "      <th>3</th>\n",
       "      <td>경기도 가평군 가평읍 달전리 281-0</td>\n",
       "      <td>달전로 59</td>\n",
       "      <td>경기도 가평군 가평읍 달전리</td>\n",
       "      <td>281</td>\n",
       "      <td>0</td>\n",
       "      <td>세대넥스빌</td>\n",
       "      <td>71.43</td>\n",
       "      <td>9400</td>\n",
       "      <td>3</td>\n",
       "      <td>1996.0</td>\n",
       "      <td>-</td>\n",
       "      <td>-</td>\n",
       "      <td>매매</td>\n",
       "      <td>22.0</td>\n",
       "      <td>2018-02-22</td>\n",
       "      <td>131.597368</td>\n",
       "      <td>26.0</td>\n",
       "      <td>아파트</td>\n",
       "    </tr>\n",
       "    <tr>\n",
       "      <th>4</th>\n",
       "      <td>경기도 가평군 가평읍 달전리 281-0</td>\n",
       "      <td>달전로 59</td>\n",
       "      <td>경기도 가평군 가평읍 달전리</td>\n",
       "      <td>281</td>\n",
       "      <td>0</td>\n",
       "      <td>세대넥스빌</td>\n",
       "      <td>84.84</td>\n",
       "      <td>16300</td>\n",
       "      <td>4</td>\n",
       "      <td>1996.0</td>\n",
       "      <td>-</td>\n",
       "      <td>-</td>\n",
       "      <td>매매</td>\n",
       "      <td>22.0</td>\n",
       "      <td>2018-02-28</td>\n",
       "      <td>192.126355</td>\n",
       "      <td>26.0</td>\n",
       "      <td>아파트</td>\n",
       "    </tr>\n",
       "  </tbody>\n",
       "</table>\n",
       "</div>"
      ],
      "text/plain": [
       "                    지번주소     도로명              시군구   본번  부번 건물(단지)명  전용면적(㎡)  \\\n",
       "0  경기도 가평군 가평읍 달전리 281-0  달전로 59  경기도 가평군 가평읍 달전리  281   0   세대넥스빌    59.88   \n",
       "1  경기도 가평군 가평읍 달전리 281-0  달전로 59  경기도 가평군 가평읍 달전리  281   0   세대넥스빌    59.88   \n",
       "2  경기도 가평군 가평읍 달전리 281-0  달전로 59  경기도 가평군 가평읍 달전리  281   0   세대넥스빌    58.95   \n",
       "3  경기도 가평군 가평읍 달전리 281-0  달전로 59  경기도 가평군 가평읍 달전리  281   0   세대넥스빌    71.43   \n",
       "4  경기도 가평군 가평읍 달전리 281-0  달전로 59  경기도 가평군 가평읍 달전리  281   0   세대넥스빌    84.84   \n",
       "\n",
       "   거래금액(만원)   층    건축년도 거래유형 중개사소재지 거래구분  계약날짜기준_건물연식       계약날짜    단가(만원/㎡)  \\\n",
       "0     10500  10  1996.0    -      -   매매         22.0 2018-01-16  175.350701   \n",
       "1     10500  10  1996.0    -      -   매매         22.0 2018-01-18  175.350701   \n",
       "2     10700  15  1996.0    -      -   매매         22.0 2018-02-13  181.509754   \n",
       "3      9400   3  1996.0    -      -   매매         22.0 2018-02-22  131.597368   \n",
       "4     16300   4  1996.0    -      -   매매         22.0 2018-02-28  192.126355   \n",
       "\n",
       "   건물연식 부동산유형  \n",
       "0  26.0   아파트  \n",
       "1  26.0   아파트  \n",
       "2  26.0   아파트  \n",
       "3  26.0   아파트  \n",
       "4  26.0   아파트  "
      ]
     },
     "execution_count": 7,
     "metadata": {},
     "output_type": "execute_result"
    }
   ],
   "source": [
    "apart_df = data_prep('아파트', '매매')\n",
    "apart_df['부동산유형'] = '아파트'\n",
    "print(apart_df.shape)\n",
    "apart_df.head()"
   ]
  },
  {
   "cell_type": "code",
   "execution_count": 8,
   "metadata": {},
   "outputs": [
    {
     "name": "stderr",
     "output_type": "stream",
     "text": [
      "c:\\users\\max6296\\ml\\lib\\site-packages\\ipykernel_launcher.py:12: TqdmDeprecationWarning: This function will be removed in tqdm==5.0.0\n",
      "Please use `tqdm.notebook.tqdm` instead of `tqdm.tqdm_notebook`\n",
      "  if sys.path[0] == '':\n"
     ]
    },
    {
     "data": {
      "application/vnd.jupyter.widget-view+json": {
       "model_id": "a29509c1cb904f018803d565b12825df",
       "version_major": 2,
       "version_minor": 0
      },
      "text/plain": [
       "0it [00:00, ?it/s]"
      ]
     },
     "metadata": {},
     "output_type": "display_data"
    },
    {
     "name": "stdout",
     "output_type": "stream",
     "text": [
      "(196846, 18)\n"
     ]
    },
    {
     "data": {
      "text/html": [
       "<div>\n",
       "<style scoped>\n",
       "    .dataframe tbody tr th:only-of-type {\n",
       "        vertical-align: middle;\n",
       "    }\n",
       "\n",
       "    .dataframe tbody tr th {\n",
       "        vertical-align: top;\n",
       "    }\n",
       "\n",
       "    .dataframe thead th {\n",
       "        text-align: right;\n",
       "    }\n",
       "</style>\n",
       "<table border=\"1\" class=\"dataframe\">\n",
       "  <thead>\n",
       "    <tr style=\"text-align: right;\">\n",
       "      <th></th>\n",
       "      <th>지번주소</th>\n",
       "      <th>도로명</th>\n",
       "      <th>시군구</th>\n",
       "      <th>본번</th>\n",
       "      <th>부번</th>\n",
       "      <th>건물(단지)명</th>\n",
       "      <th>전용면적(㎡)</th>\n",
       "      <th>거래금액(만원)</th>\n",
       "      <th>층</th>\n",
       "      <th>건축년도</th>\n",
       "      <th>거래유형</th>\n",
       "      <th>중개사소재지</th>\n",
       "      <th>거래구분</th>\n",
       "      <th>계약날짜기준_건물연식</th>\n",
       "      <th>계약날짜</th>\n",
       "      <th>단가(만원/㎡)</th>\n",
       "      <th>건물연식</th>\n",
       "      <th>부동산유형</th>\n",
       "    </tr>\n",
       "  </thead>\n",
       "  <tbody>\n",
       "    <tr>\n",
       "      <th>0</th>\n",
       "      <td>경기도 가평군 가평읍 경반리 240-1</td>\n",
       "      <td>경반안로116번길 22-53</td>\n",
       "      <td>경기도 가평군 가평읍 경반리</td>\n",
       "      <td>240</td>\n",
       "      <td>1</td>\n",
       "      <td>삼성세르빌</td>\n",
       "      <td>60.58</td>\n",
       "      <td>6200</td>\n",
       "      <td>1</td>\n",
       "      <td>2007.0</td>\n",
       "      <td>-</td>\n",
       "      <td>-</td>\n",
       "      <td>매매</td>\n",
       "      <td>11.0</td>\n",
       "      <td>2018-05-16</td>\n",
       "      <td>102.344008</td>\n",
       "      <td>15.0</td>\n",
       "      <td>연립다세대</td>\n",
       "    </tr>\n",
       "    <tr>\n",
       "      <th>1</th>\n",
       "      <td>경기도 가평군 가평읍 경반리 240-1</td>\n",
       "      <td>경반안로116번길 22-53</td>\n",
       "      <td>경기도 가평군 가평읍 경반리</td>\n",
       "      <td>240</td>\n",
       "      <td>1</td>\n",
       "      <td>삼성세르빌</td>\n",
       "      <td>76.92</td>\n",
       "      <td>9400</td>\n",
       "      <td>2</td>\n",
       "      <td>2007.0</td>\n",
       "      <td>-</td>\n",
       "      <td>-</td>\n",
       "      <td>매매</td>\n",
       "      <td>11.0</td>\n",
       "      <td>2018-11-15</td>\n",
       "      <td>122.204888</td>\n",
       "      <td>15.0</td>\n",
       "      <td>연립다세대</td>\n",
       "    </tr>\n",
       "    <tr>\n",
       "      <th>2</th>\n",
       "      <td>경기도 가평군 가평읍 달전리 422-1</td>\n",
       "      <td>달전로 8-5</td>\n",
       "      <td>경기도 가평군 가평읍 달전리</td>\n",
       "      <td>422</td>\n",
       "      <td>1</td>\n",
       "      <td>금오빌라가동</td>\n",
       "      <td>59.94</td>\n",
       "      <td>7500</td>\n",
       "      <td>1</td>\n",
       "      <td>1991.0</td>\n",
       "      <td>-</td>\n",
       "      <td>-</td>\n",
       "      <td>매매</td>\n",
       "      <td>27.0</td>\n",
       "      <td>2018-07-03</td>\n",
       "      <td>125.125125</td>\n",
       "      <td>31.0</td>\n",
       "      <td>연립다세대</td>\n",
       "    </tr>\n",
       "    <tr>\n",
       "      <th>3</th>\n",
       "      <td>경기도 가평군 가평읍 달전리 272-11</td>\n",
       "      <td>달전로 83</td>\n",
       "      <td>경기도 가평군 가평읍 달전리</td>\n",
       "      <td>272</td>\n",
       "      <td>11</td>\n",
       "      <td>남이주택나동</td>\n",
       "      <td>48.80</td>\n",
       "      <td>4500</td>\n",
       "      <td>1</td>\n",
       "      <td>1992.0</td>\n",
       "      <td>-</td>\n",
       "      <td>-</td>\n",
       "      <td>매매</td>\n",
       "      <td>26.0</td>\n",
       "      <td>2018-02-14</td>\n",
       "      <td>92.213115</td>\n",
       "      <td>30.0</td>\n",
       "      <td>연립다세대</td>\n",
       "    </tr>\n",
       "    <tr>\n",
       "      <th>4</th>\n",
       "      <td>경기도 가평군 가평읍 달전리 272-2</td>\n",
       "      <td>달전로 83</td>\n",
       "      <td>경기도 가평군 가평읍 달전리</td>\n",
       "      <td>272</td>\n",
       "      <td>2</td>\n",
       "      <td>남이주택다동</td>\n",
       "      <td>35.46</td>\n",
       "      <td>4900</td>\n",
       "      <td>1</td>\n",
       "      <td>1992.0</td>\n",
       "      <td>-</td>\n",
       "      <td>-</td>\n",
       "      <td>매매</td>\n",
       "      <td>26.0</td>\n",
       "      <td>2018-03-09</td>\n",
       "      <td>138.183869</td>\n",
       "      <td>30.0</td>\n",
       "      <td>연립다세대</td>\n",
       "    </tr>\n",
       "  </tbody>\n",
       "</table>\n",
       "</div>"
      ],
      "text/plain": [
       "                     지번주소              도로명              시군구   본번  부번 건물(단지)명  \\\n",
       "0   경기도 가평군 가평읍 경반리 240-1  경반안로116번길 22-53  경기도 가평군 가평읍 경반리  240   1   삼성세르빌   \n",
       "1   경기도 가평군 가평읍 경반리 240-1  경반안로116번길 22-53  경기도 가평군 가평읍 경반리  240   1   삼성세르빌   \n",
       "2   경기도 가평군 가평읍 달전리 422-1          달전로 8-5  경기도 가평군 가평읍 달전리  422   1  금오빌라가동   \n",
       "3  경기도 가평군 가평읍 달전리 272-11           달전로 83  경기도 가평군 가평읍 달전리  272  11  남이주택나동   \n",
       "4   경기도 가평군 가평읍 달전리 272-2           달전로 83  경기도 가평군 가평읍 달전리  272   2  남이주택다동   \n",
       "\n",
       "   전용면적(㎡)  거래금액(만원)  층    건축년도 거래유형 중개사소재지 거래구분  계약날짜기준_건물연식       계약날짜  \\\n",
       "0    60.58      6200  1  2007.0    -      -   매매         11.0 2018-05-16   \n",
       "1    76.92      9400  2  2007.0    -      -   매매         11.0 2018-11-15   \n",
       "2    59.94      7500  1  1991.0    -      -   매매         27.0 2018-07-03   \n",
       "3    48.80      4500  1  1992.0    -      -   매매         26.0 2018-02-14   \n",
       "4    35.46      4900  1  1992.0    -      -   매매         26.0 2018-03-09   \n",
       "\n",
       "     단가(만원/㎡)  건물연식  부동산유형  \n",
       "0  102.344008  15.0  연립다세대  \n",
       "1  122.204888  15.0  연립다세대  \n",
       "2  125.125125  31.0  연립다세대  \n",
       "3   92.213115  30.0  연립다세대  \n",
       "4  138.183869  30.0  연립다세대  "
      ]
     },
     "execution_count": 8,
     "metadata": {},
     "output_type": "execute_result"
    }
   ],
   "source": [
    "yunrip_df = data_prep('연립다세대', '매매')\n",
    "yunrip_df['부동산유형'] = '연립다세대'\n",
    "print(yunrip_df.shape)\n",
    "yunrip_df.head()"
   ]
  },
  {
   "cell_type": "code",
   "execution_count": 9,
   "metadata": {},
   "outputs": [
    {
     "name": "stderr",
     "output_type": "stream",
     "text": [
      "c:\\users\\max6296\\ml\\lib\\site-packages\\ipykernel_launcher.py:12: TqdmDeprecationWarning: This function will be removed in tqdm==5.0.0\n",
      "Please use `tqdm.notebook.tqdm` instead of `tqdm.tqdm_notebook`\n",
      "  if sys.path[0] == '':\n"
     ]
    },
    {
     "data": {
      "application/vnd.jupyter.widget-view+json": {
       "model_id": "d378412a9a51473c9b9121fc33da5b80",
       "version_major": 2,
       "version_minor": 0
      },
      "text/plain": [
       "0it [00:00, ?it/s]"
      ]
     },
     "metadata": {},
     "output_type": "display_data"
    },
    {
     "name": "stdout",
     "output_type": "stream",
     "text": [
      "(50842, 18)\n"
     ]
    },
    {
     "data": {
      "text/html": [
       "<div>\n",
       "<style scoped>\n",
       "    .dataframe tbody tr th:only-of-type {\n",
       "        vertical-align: middle;\n",
       "    }\n",
       "\n",
       "    .dataframe tbody tr th {\n",
       "        vertical-align: top;\n",
       "    }\n",
       "\n",
       "    .dataframe thead th {\n",
       "        text-align: right;\n",
       "    }\n",
       "</style>\n",
       "<table border=\"1\" class=\"dataframe\">\n",
       "  <thead>\n",
       "    <tr style=\"text-align: right;\">\n",
       "      <th></th>\n",
       "      <th>지번주소</th>\n",
       "      <th>도로명</th>\n",
       "      <th>시군구</th>\n",
       "      <th>본번</th>\n",
       "      <th>부번</th>\n",
       "      <th>건물(단지)명</th>\n",
       "      <th>전용면적(㎡)</th>\n",
       "      <th>거래금액(만원)</th>\n",
       "      <th>층</th>\n",
       "      <th>건축년도</th>\n",
       "      <th>거래유형</th>\n",
       "      <th>중개사소재지</th>\n",
       "      <th>거래구분</th>\n",
       "      <th>계약날짜기준_건물연식</th>\n",
       "      <th>계약날짜</th>\n",
       "      <th>단가(만원/㎡)</th>\n",
       "      <th>건물연식</th>\n",
       "      <th>부동산유형</th>\n",
       "    </tr>\n",
       "  </thead>\n",
       "  <tbody>\n",
       "    <tr>\n",
       "      <th>0</th>\n",
       "      <td>경기도 가평군 청평면 청평리 301-4</td>\n",
       "      <td>경춘로 871</td>\n",
       "      <td>경기도 가평군 청평면 청평리</td>\n",
       "      <td>301</td>\n",
       "      <td>4</td>\n",
       "      <td>신공간사무주택</td>\n",
       "      <td>41.31</td>\n",
       "      <td>3700</td>\n",
       "      <td>5</td>\n",
       "      <td>1996.0</td>\n",
       "      <td>-</td>\n",
       "      <td>-</td>\n",
       "      <td>매매</td>\n",
       "      <td>22.0</td>\n",
       "      <td>2018-07-31</td>\n",
       "      <td>89.566691</td>\n",
       "      <td>26.0</td>\n",
       "      <td>오피스텔</td>\n",
       "    </tr>\n",
       "    <tr>\n",
       "      <th>1</th>\n",
       "      <td>경기도 고양덕양구 동산동 369-0</td>\n",
       "      <td>동송로 33</td>\n",
       "      <td>경기도 고양덕양구 동산동</td>\n",
       "      <td>369</td>\n",
       "      <td>0</td>\n",
       "      <td>이편한세상시티삼송</td>\n",
       "      <td>77.51</td>\n",
       "      <td>41122</td>\n",
       "      <td>24</td>\n",
       "      <td>2018.0</td>\n",
       "      <td>-</td>\n",
       "      <td>-</td>\n",
       "      <td>매매</td>\n",
       "      <td>0.0</td>\n",
       "      <td>2018-05-29</td>\n",
       "      <td>530.537995</td>\n",
       "      <td>4.0</td>\n",
       "      <td>오피스텔</td>\n",
       "    </tr>\n",
       "    <tr>\n",
       "      <th>2</th>\n",
       "      <td>경기도 고양덕양구 동산동 369-0</td>\n",
       "      <td>동송로 33</td>\n",
       "      <td>경기도 고양덕양구 동산동</td>\n",
       "      <td>369</td>\n",
       "      <td>0</td>\n",
       "      <td>이편한세상시티삼송</td>\n",
       "      <td>54.32</td>\n",
       "      <td>28734</td>\n",
       "      <td>12</td>\n",
       "      <td>2018.0</td>\n",
       "      <td>-</td>\n",
       "      <td>-</td>\n",
       "      <td>매매</td>\n",
       "      <td>0.0</td>\n",
       "      <td>2018-06-30</td>\n",
       "      <td>528.976436</td>\n",
       "      <td>4.0</td>\n",
       "      <td>오피스텔</td>\n",
       "    </tr>\n",
       "    <tr>\n",
       "      <th>3</th>\n",
       "      <td>경기도 고양덕양구 삼송동 289-0</td>\n",
       "      <td>삼송로 210</td>\n",
       "      <td>경기도 고양덕양구 삼송동</td>\n",
       "      <td>289</td>\n",
       "      <td>0</td>\n",
       "      <td>현대썬앤빌</td>\n",
       "      <td>24.65</td>\n",
       "      <td>14829</td>\n",
       "      <td>9</td>\n",
       "      <td>2018.0</td>\n",
       "      <td>-</td>\n",
       "      <td>-</td>\n",
       "      <td>매매</td>\n",
       "      <td>0.0</td>\n",
       "      <td>2018-11-14</td>\n",
       "      <td>601.582150</td>\n",
       "      <td>4.0</td>\n",
       "      <td>오피스텔</td>\n",
       "    </tr>\n",
       "    <tr>\n",
       "      <th>4</th>\n",
       "      <td>경기도 고양덕양구 성사동 696-0</td>\n",
       "      <td>호국로 798</td>\n",
       "      <td>경기도 고양덕양구 성사동</td>\n",
       "      <td>696</td>\n",
       "      <td>0</td>\n",
       "      <td>삼성홈타워오피스텔</td>\n",
       "      <td>32.90</td>\n",
       "      <td>9300</td>\n",
       "      <td>6</td>\n",
       "      <td>2006.0</td>\n",
       "      <td>-</td>\n",
       "      <td>-</td>\n",
       "      <td>매매</td>\n",
       "      <td>12.0</td>\n",
       "      <td>2018-01-05</td>\n",
       "      <td>282.674772</td>\n",
       "      <td>16.0</td>\n",
       "      <td>오피스텔</td>\n",
       "    </tr>\n",
       "  </tbody>\n",
       "</table>\n",
       "</div>"
      ],
      "text/plain": [
       "                    지번주소      도로명              시군구   본번  부번    건물(단지)명  \\\n",
       "0  경기도 가평군 청평면 청평리 301-4  경춘로 871  경기도 가평군 청평면 청평리  301   4    신공간사무주택   \n",
       "1    경기도 고양덕양구 동산동 369-0   동송로 33    경기도 고양덕양구 동산동  369   0  이편한세상시티삼송   \n",
       "2    경기도 고양덕양구 동산동 369-0   동송로 33    경기도 고양덕양구 동산동  369   0  이편한세상시티삼송   \n",
       "3    경기도 고양덕양구 삼송동 289-0  삼송로 210    경기도 고양덕양구 삼송동  289   0      현대썬앤빌   \n",
       "4    경기도 고양덕양구 성사동 696-0  호국로 798    경기도 고양덕양구 성사동  696   0  삼성홈타워오피스텔   \n",
       "\n",
       "   전용면적(㎡)  거래금액(만원)   층    건축년도 거래유형 중개사소재지 거래구분  계약날짜기준_건물연식       계약날짜  \\\n",
       "0    41.31      3700   5  1996.0    -      -   매매         22.0 2018-07-31   \n",
       "1    77.51     41122  24  2018.0    -      -   매매          0.0 2018-05-29   \n",
       "2    54.32     28734  12  2018.0    -      -   매매          0.0 2018-06-30   \n",
       "3    24.65     14829   9  2018.0    -      -   매매          0.0 2018-11-14   \n",
       "4    32.90      9300   6  2006.0    -      -   매매         12.0 2018-01-05   \n",
       "\n",
       "     단가(만원/㎡)  건물연식 부동산유형  \n",
       "0   89.566691  26.0  오피스텔  \n",
       "1  530.537995   4.0  오피스텔  \n",
       "2  528.976436   4.0  오피스텔  \n",
       "3  601.582150   4.0  오피스텔  \n",
       "4  282.674772  16.0  오피스텔  "
      ]
     },
     "execution_count": 9,
     "metadata": {},
     "output_type": "execute_result"
    }
   ],
   "source": [
    "officetel_df = data_prep('오피스텔', '매매')\n",
    "officetel_df['부동산유형'] = '오피스텔'\n",
    "print(officetel_df.shape)\n",
    "officetel_df.head()"
   ]
  },
  {
   "cell_type": "code",
   "execution_count": 10,
   "metadata": {},
   "outputs": [
    {
     "name": "stdout",
     "output_type": "stream",
     "text": [
      "(940113, 14)\n"
     ]
    },
    {
     "data": {
      "text/html": [
       "<div>\n",
       "<style scoped>\n",
       "    .dataframe tbody tr th:only-of-type {\n",
       "        vertical-align: middle;\n",
       "    }\n",
       "\n",
       "    .dataframe tbody tr th {\n",
       "        vertical-align: top;\n",
       "    }\n",
       "\n",
       "    .dataframe thead th {\n",
       "        text-align: right;\n",
       "    }\n",
       "</style>\n",
       "<table border=\"1\" class=\"dataframe\">\n",
       "  <thead>\n",
       "    <tr style=\"text-align: right;\">\n",
       "      <th></th>\n",
       "      <th>지번주소</th>\n",
       "      <th>도로명</th>\n",
       "      <th>시군구</th>\n",
       "      <th>본번</th>\n",
       "      <th>부번</th>\n",
       "      <th>건물(단지)명</th>\n",
       "      <th>전용면적(㎡)</th>\n",
       "      <th>거래금액(만원)</th>\n",
       "      <th>층</th>\n",
       "      <th>건축년도</th>\n",
       "      <th>계약날짜</th>\n",
       "      <th>단가(만원/㎡)</th>\n",
       "      <th>건물연식</th>\n",
       "      <th>부동산유형</th>\n",
       "    </tr>\n",
       "  </thead>\n",
       "  <tbody>\n",
       "    <tr>\n",
       "      <th>0</th>\n",
       "      <td>경기도 가평군 가평읍 경반리 240-1</td>\n",
       "      <td>경반안로116번길 22-53</td>\n",
       "      <td>경기도 가평군 가평읍 경반리</td>\n",
       "      <td>240</td>\n",
       "      <td>1</td>\n",
       "      <td>삼성세르빌</td>\n",
       "      <td>60.58</td>\n",
       "      <td>6200</td>\n",
       "      <td>1</td>\n",
       "      <td>2007.0</td>\n",
       "      <td>2018-05-16</td>\n",
       "      <td>102.344008</td>\n",
       "      <td>15.0</td>\n",
       "      <td>연립다세대</td>\n",
       "    </tr>\n",
       "    <tr>\n",
       "      <th>1</th>\n",
       "      <td>경기도 가평군 가평읍 경반리 240-1</td>\n",
       "      <td>경반안로116번길 22-53</td>\n",
       "      <td>경기도 가평군 가평읍 경반리</td>\n",
       "      <td>240</td>\n",
       "      <td>1</td>\n",
       "      <td>삼성세르빌</td>\n",
       "      <td>60.58</td>\n",
       "      <td>6800</td>\n",
       "      <td>3</td>\n",
       "      <td>2007.0</td>\n",
       "      <td>2019-05-14</td>\n",
       "      <td>112.248267</td>\n",
       "      <td>15.0</td>\n",
       "      <td>연립다세대</td>\n",
       "    </tr>\n",
       "    <tr>\n",
       "      <th>2</th>\n",
       "      <td>경기도 가평군 가평읍 경반리 240-1</td>\n",
       "      <td>경반안로116번길 22-53</td>\n",
       "      <td>경기도 가평군 가평읍 경반리</td>\n",
       "      <td>240</td>\n",
       "      <td>1</td>\n",
       "      <td>삼성세르빌</td>\n",
       "      <td>76.92</td>\n",
       "      <td>9400</td>\n",
       "      <td>2</td>\n",
       "      <td>2007.0</td>\n",
       "      <td>2018-11-15</td>\n",
       "      <td>122.204888</td>\n",
       "      <td>15.0</td>\n",
       "      <td>연립다세대</td>\n",
       "    </tr>\n",
       "    <tr>\n",
       "      <th>3</th>\n",
       "      <td>경기도 가평군 가평읍 경반리 240-1</td>\n",
       "      <td>경반안로116번길 22-53</td>\n",
       "      <td>경기도 가평군 가평읍 경반리</td>\n",
       "      <td>240</td>\n",
       "      <td>1</td>\n",
       "      <td>삼성세르빌</td>\n",
       "      <td>76.92</td>\n",
       "      <td>8500</td>\n",
       "      <td>3</td>\n",
       "      <td>2007.0</td>\n",
       "      <td>2020-10-23</td>\n",
       "      <td>110.504420</td>\n",
       "      <td>15.0</td>\n",
       "      <td>연립다세대</td>\n",
       "    </tr>\n",
       "    <tr>\n",
       "      <th>4</th>\n",
       "      <td>경기도 가평군 가평읍 경반리 240-1</td>\n",
       "      <td>경반안로116번길 22-53</td>\n",
       "      <td>경기도 가평군 가평읍 경반리</td>\n",
       "      <td>240</td>\n",
       "      <td>1</td>\n",
       "      <td>삼성세르빌</td>\n",
       "      <td>76.92</td>\n",
       "      <td>9900</td>\n",
       "      <td>2</td>\n",
       "      <td>2007.0</td>\n",
       "      <td>2020-12-16</td>\n",
       "      <td>128.705148</td>\n",
       "      <td>15.0</td>\n",
       "      <td>연립다세대</td>\n",
       "    </tr>\n",
       "  </tbody>\n",
       "</table>\n",
       "</div>"
      ],
      "text/plain": [
       "                    지번주소              도로명              시군구   본번  부번 건물(단지)명  \\\n",
       "0  경기도 가평군 가평읍 경반리 240-1  경반안로116번길 22-53  경기도 가평군 가평읍 경반리  240   1   삼성세르빌   \n",
       "1  경기도 가평군 가평읍 경반리 240-1  경반안로116번길 22-53  경기도 가평군 가평읍 경반리  240   1   삼성세르빌   \n",
       "2  경기도 가평군 가평읍 경반리 240-1  경반안로116번길 22-53  경기도 가평군 가평읍 경반리  240   1   삼성세르빌   \n",
       "3  경기도 가평군 가평읍 경반리 240-1  경반안로116번길 22-53  경기도 가평군 가평읍 경반리  240   1   삼성세르빌   \n",
       "4  경기도 가평군 가평읍 경반리 240-1  경반안로116번길 22-53  경기도 가평군 가평읍 경반리  240   1   삼성세르빌   \n",
       "\n",
       "   전용면적(㎡)  거래금액(만원)  층    건축년도       계약날짜    단가(만원/㎡)  건물연식  부동산유형  \n",
       "0    60.58      6200  1  2007.0 2018-05-16  102.344008  15.0  연립다세대  \n",
       "1    60.58      6800  3  2007.0 2019-05-14  112.248267  15.0  연립다세대  \n",
       "2    76.92      9400  2  2007.0 2018-11-15  122.204888  15.0  연립다세대  \n",
       "3    76.92      8500  3  2007.0 2020-10-23  110.504420  15.0  연립다세대  \n",
       "4    76.92      9900  2  2007.0 2020-12-16  128.705148  15.0  연립다세대  "
      ]
     },
     "execution_count": 10,
     "metadata": {},
     "output_type": "execute_result"
    }
   ],
   "source": [
    "house_df = pd.concat([apart_df, yunrip_df, officetel_df]).sort_values(['시군구', '본번', '부번', '건축년도', '전용면적(㎡)', '계약날짜']).reset_index(drop=True)\n",
    "house_df = house_df.drop(columns=['거래유형', '중개사소재지', '거래구분', '계약날짜기준_건물연식'])\n",
    "del apart_df, yunrip_df, officetel_df\n",
    "print(house_df.shape)\n",
    "house_df.head()"
   ]
  },
  {
   "cell_type": "code",
   "execution_count": 11,
   "metadata": {},
   "outputs": [
    {
     "data": {
      "text/plain": [
       "\"land_specs_df = pd.read_csv('./prepped_data/land_specs_ver_4.csv')\\nprint(land_specs_df.shape)\\nland_specs_df.head()\""
      ]
     },
     "execution_count": 11,
     "metadata": {},
     "output_type": "execute_result"
    }
   ],
   "source": [
    "'''land_specs_df = pd.read_csv('./prepped_data/land_specs_ver_4.csv')\n",
    "print(land_specs_df.shape)\n",
    "land_specs_df.head()'''"
   ]
  },
  {
   "cell_type": "code",
   "execution_count": 12,
   "metadata": {},
   "outputs": [
    {
     "data": {
      "text/plain": [
       "\"last_df = land_specs_df.drop_duplicates(subset=['지번주소'], keep='last').drop(columns=['년', '공시지가']).reset_index(drop=True)\\nprint(last_df.shape)\\nlast_df.head()\""
      ]
     },
     "execution_count": 12,
     "metadata": {},
     "output_type": "execute_result"
    }
   ],
   "source": [
    "'''last_df = land_specs_df.drop_duplicates(subset=['지번주소'], keep='last').drop(columns=['년', '공시지가']).reset_index(drop=True)\n",
    "print(last_df.shape)\n",
    "last_df.head()'''"
   ]
  },
  {
   "cell_type": "code",
   "execution_count": 13,
   "metadata": {},
   "outputs": [
    {
     "data": {
      "text/plain": [
       "\"house_merge_df = house_df.merge(last_df, on=['지번주소']).reset_index(drop=True)\\nprint(house_merge_df.shape)\""
      ]
     },
     "execution_count": 13,
     "metadata": {},
     "output_type": "execute_result"
    }
   ],
   "source": [
    "'''house_merge_df = house_df.merge(last_df, on=['지번주소']).reset_index(drop=True)\n",
    "print(house_merge_df.shape)'''"
   ]
  },
  {
   "cell_type": "code",
   "execution_count": 14,
   "metadata": {},
   "outputs": [],
   "source": [
    "house_df['일괄계약'] = 'N'"
   ]
  },
  {
   "cell_type": "code",
   "execution_count": 15,
   "metadata": {},
   "outputs": [],
   "source": [
    "#house_df = house_df.merge(last_df, on=['지번주소']).reset_index(drop=True)"
   ]
  },
  {
   "cell_type": "code",
   "execution_count": 16,
   "metadata": {},
   "outputs": [
    {
     "data": {
      "text/plain": [
       "'print(house_df.shape)\\nhouse_df.head()'"
      ]
     },
     "execution_count": 16,
     "metadata": {},
     "output_type": "execute_result"
    }
   ],
   "source": [
    "'''print(house_df.shape)\n",
    "house_df.head()'''"
   ]
  },
  {
   "cell_type": "code",
   "execution_count": 17,
   "metadata": {},
   "outputs": [],
   "source": [
    "def identify_bulk_contract(df):\n",
    "    df = df.copy()\n",
    "    \n",
    "    for addr in tqdm.tqdm_notebook(df['지번주소'].unique()):\n",
    "        addr_df = df[df['지번주소'] == addr]\n",
    "        \n",
    "        for btyear in addr_df['건축년도'].unique():\n",
    "            btyear_df = addr_df[addr_df['건축년도'] == btyear]\n",
    "            \n",
    "            if (btyear_df.shape[0] >= 10) & (btyear_df['계약날짜'].nunique() == 1):\n",
    "                df.loc[btyear_df.index, '일괄계약'] = 'Y'\n",
    "\n",
    "    return df"
   ]
  },
  {
   "cell_type": "code",
   "execution_count": 18,
   "metadata": {},
   "outputs": [
    {
     "name": "stderr",
     "output_type": "stream",
     "text": [
      "c:\\users\\max6296\\ml\\lib\\site-packages\\ipykernel_launcher.py:1: FutureWarning: Treating datetime data as categorical rather than numeric in `.describe` is deprecated and will be removed in a future version of pandas. Specify `datetime_is_numeric=True` to silence this warning and adopt the future behavior now.\n",
      "  \"\"\"Entry point for launching an IPython kernel.\n"
     ]
    },
    {
     "data": {
      "text/plain": [
       "count                  940113\n",
       "unique                   1513\n",
       "top       2020-06-16 00:00:00\n",
       "freq                     2998\n",
       "first     2018-01-01 00:00:00\n",
       "last      2022-02-21 00:00:00\n",
       "Name: 계약날짜, dtype: object"
      ]
     },
     "execution_count": 18,
     "metadata": {},
     "output_type": "execute_result"
    }
   ],
   "source": [
    "house_df['계약날짜'].describe()"
   ]
  },
  {
   "cell_type": "code",
   "execution_count": 19,
   "metadata": {},
   "outputs": [
    {
     "name": "stderr",
     "output_type": "stream",
     "text": [
      "c:\\users\\max6296\\ml\\lib\\site-packages\\ipykernel_launcher.py:4: TqdmDeprecationWarning: This function will be removed in tqdm==5.0.0\n",
      "Please use `tqdm.notebook.tqdm` instead of `tqdm.tqdm_notebook`\n",
      "  after removing the cwd from sys.path.\n"
     ]
    },
    {
     "data": {
      "application/vnd.jupyter.widget-view+json": {
       "model_id": "dd359504a8224c2580c81c2de8e049b2",
       "version_major": 2,
       "version_minor": 0
      },
      "text/plain": [
       "  0%|          | 0/62991 [00:00<?, ?it/s]"
      ]
     },
     "metadata": {},
     "output_type": "display_data"
    }
   ],
   "source": [
    "house_df = identify_bulk_contract(house_df)"
   ]
  },
  {
   "cell_type": "code",
   "execution_count": 20,
   "metadata": {},
   "outputs": [
    {
     "name": "stdout",
     "output_type": "stream",
     "text": [
      "(19561, 15)\n"
     ]
    },
    {
     "data": {
      "text/html": [
       "<div>\n",
       "<style scoped>\n",
       "    .dataframe tbody tr th:only-of-type {\n",
       "        vertical-align: middle;\n",
       "    }\n",
       "\n",
       "    .dataframe tbody tr th {\n",
       "        vertical-align: top;\n",
       "    }\n",
       "\n",
       "    .dataframe thead th {\n",
       "        text-align: right;\n",
       "    }\n",
       "</style>\n",
       "<table border=\"1\" class=\"dataframe\">\n",
       "  <thead>\n",
       "    <tr style=\"text-align: right;\">\n",
       "      <th></th>\n",
       "      <th>지번주소</th>\n",
       "      <th>도로명</th>\n",
       "      <th>시군구</th>\n",
       "      <th>본번</th>\n",
       "      <th>부번</th>\n",
       "      <th>건물(단지)명</th>\n",
       "      <th>전용면적(㎡)</th>\n",
       "      <th>거래금액(만원)</th>\n",
       "      <th>층</th>\n",
       "      <th>건축년도</th>\n",
       "      <th>계약날짜</th>\n",
       "      <th>단가(만원/㎡)</th>\n",
       "      <th>건물연식</th>\n",
       "      <th>부동산유형</th>\n",
       "      <th>일괄계약</th>\n",
       "    </tr>\n",
       "  </thead>\n",
       "  <tbody>\n",
       "    <tr>\n",
       "      <th>361</th>\n",
       "      <td>경기도 가평군 가평읍 읍내리 266-1</td>\n",
       "      <td>가화로 154-1</td>\n",
       "      <td>경기도 가평군 가평읍 읍내리</td>\n",
       "      <td>266</td>\n",
       "      <td>1</td>\n",
       "      <td>101동,102동</td>\n",
       "      <td>50.070</td>\n",
       "      <td>8200</td>\n",
       "      <td>5</td>\n",
       "      <td>2013.0</td>\n",
       "      <td>2020-03-18</td>\n",
       "      <td>163.770721</td>\n",
       "      <td>9.0</td>\n",
       "      <td>연립다세대</td>\n",
       "      <td>Y</td>\n",
       "    </tr>\n",
       "    <tr>\n",
       "      <th>362</th>\n",
       "      <td>경기도 가평군 가평읍 읍내리 266-1</td>\n",
       "      <td>가화로 154-1</td>\n",
       "      <td>경기도 가평군 가평읍 읍내리</td>\n",
       "      <td>266</td>\n",
       "      <td>1</td>\n",
       "      <td>101동,102동</td>\n",
       "      <td>57.195</td>\n",
       "      <td>8400</td>\n",
       "      <td>5</td>\n",
       "      <td>2013.0</td>\n",
       "      <td>2020-03-18</td>\n",
       "      <td>146.865985</td>\n",
       "      <td>9.0</td>\n",
       "      <td>연립다세대</td>\n",
       "      <td>Y</td>\n",
       "    </tr>\n",
       "    <tr>\n",
       "      <th>363</th>\n",
       "      <td>경기도 가평군 가평읍 읍내리 266-1</td>\n",
       "      <td>가화로 154-1</td>\n",
       "      <td>경기도 가평군 가평읍 읍내리</td>\n",
       "      <td>266</td>\n",
       "      <td>1</td>\n",
       "      <td>101동,102동</td>\n",
       "      <td>58.695</td>\n",
       "      <td>8600</td>\n",
       "      <td>2</td>\n",
       "      <td>2013.0</td>\n",
       "      <td>2020-03-18</td>\n",
       "      <td>146.520147</td>\n",
       "      <td>9.0</td>\n",
       "      <td>연립다세대</td>\n",
       "      <td>Y</td>\n",
       "    </tr>\n",
       "    <tr>\n",
       "      <th>364</th>\n",
       "      <td>경기도 가평군 가평읍 읍내리 266-1</td>\n",
       "      <td>가화로 154-1</td>\n",
       "      <td>경기도 가평군 가평읍 읍내리</td>\n",
       "      <td>266</td>\n",
       "      <td>1</td>\n",
       "      <td>101동,102동</td>\n",
       "      <td>58.695</td>\n",
       "      <td>8600</td>\n",
       "      <td>3</td>\n",
       "      <td>2013.0</td>\n",
       "      <td>2020-03-18</td>\n",
       "      <td>146.520147</td>\n",
       "      <td>9.0</td>\n",
       "      <td>연립다세대</td>\n",
       "      <td>Y</td>\n",
       "    </tr>\n",
       "    <tr>\n",
       "      <th>365</th>\n",
       "      <td>경기도 가평군 가평읍 읍내리 266-1</td>\n",
       "      <td>가화로 154-1</td>\n",
       "      <td>경기도 가평군 가평읍 읍내리</td>\n",
       "      <td>266</td>\n",
       "      <td>1</td>\n",
       "      <td>101동,102동</td>\n",
       "      <td>58.695</td>\n",
       "      <td>8600</td>\n",
       "      <td>4</td>\n",
       "      <td>2013.0</td>\n",
       "      <td>2020-03-18</td>\n",
       "      <td>146.520147</td>\n",
       "      <td>9.0</td>\n",
       "      <td>연립다세대</td>\n",
       "      <td>Y</td>\n",
       "    </tr>\n",
       "  </tbody>\n",
       "</table>\n",
       "</div>"
      ],
      "text/plain": [
       "                      지번주소        도로명              시군구   본번  부번    건물(단지)명  \\\n",
       "361  경기도 가평군 가평읍 읍내리 266-1  가화로 154-1  경기도 가평군 가평읍 읍내리  266   1  101동,102동   \n",
       "362  경기도 가평군 가평읍 읍내리 266-1  가화로 154-1  경기도 가평군 가평읍 읍내리  266   1  101동,102동   \n",
       "363  경기도 가평군 가평읍 읍내리 266-1  가화로 154-1  경기도 가평군 가평읍 읍내리  266   1  101동,102동   \n",
       "364  경기도 가평군 가평읍 읍내리 266-1  가화로 154-1  경기도 가평군 가평읍 읍내리  266   1  101동,102동   \n",
       "365  경기도 가평군 가평읍 읍내리 266-1  가화로 154-1  경기도 가평군 가평읍 읍내리  266   1  101동,102동   \n",
       "\n",
       "     전용면적(㎡)  거래금액(만원)  층    건축년도       계약날짜    단가(만원/㎡)  건물연식  부동산유형 일괄계약  \n",
       "361   50.070      8200  5  2013.0 2020-03-18  163.770721   9.0  연립다세대    Y  \n",
       "362   57.195      8400  5  2013.0 2020-03-18  146.865985   9.0  연립다세대    Y  \n",
       "363   58.695      8600  2  2013.0 2020-03-18  146.520147   9.0  연립다세대    Y  \n",
       "364   58.695      8600  3  2013.0 2020-03-18  146.520147   9.0  연립다세대    Y  \n",
       "365   58.695      8600  4  2013.0 2020-03-18  146.520147   9.0  연립다세대    Y  "
      ]
     },
     "execution_count": 20,
     "metadata": {},
     "output_type": "execute_result"
    }
   ],
   "source": [
    "bulk_df = house_df[house_df['일괄계약'] == 'Y']\n",
    "print(bulk_df.shape)\n",
    "bulk_df.head()"
   ]
  },
  {
   "cell_type": "code",
   "execution_count": 21,
   "metadata": {},
   "outputs": [
    {
     "data": {
      "text/plain": [
       "986"
      ]
     },
     "execution_count": 21,
     "metadata": {},
     "output_type": "execute_result"
    }
   ],
   "source": [
    "bulk_df['지번주소'].nunique()"
   ]
  },
  {
   "cell_type": "code",
   "execution_count": 22,
   "metadata": {},
   "outputs": [
    {
     "name": "stdout",
     "output_type": "stream",
     "text": [
      "Wall time: 5.43 s\n"
     ]
    }
   ],
   "source": [
    "%%time\n",
    "bulk_df.to_excel('./공공주택찾기/경기도/일괄계약전체_20180101_20220222.xlsx', index=False)"
   ]
  },
  {
   "cell_type": "code",
   "execution_count": null,
   "metadata": {},
   "outputs": [],
   "source": []
  },
  {
   "cell_type": "code",
   "execution_count": null,
   "metadata": {},
   "outputs": [],
   "source": []
  },
  {
   "cell_type": "code",
   "execution_count": null,
   "metadata": {},
   "outputs": [],
   "source": []
  },
  {
   "cell_type": "code",
   "execution_count": null,
   "metadata": {},
   "outputs": [],
   "source": []
  },
  {
   "cell_type": "code",
   "execution_count": null,
   "metadata": {},
   "outputs": [],
   "source": []
  },
  {
   "cell_type": "code",
   "execution_count": null,
   "metadata": {},
   "outputs": [],
   "source": []
  },
  {
   "cell_type": "code",
   "execution_count": null,
   "metadata": {},
   "outputs": [],
   "source": []
  },
  {
   "cell_type": "code",
   "execution_count": null,
   "metadata": {},
   "outputs": [],
   "source": []
  },
  {
   "cell_type": "code",
   "execution_count": null,
   "metadata": {},
   "outputs": [],
   "source": []
  },
  {
   "cell_type": "code",
   "execution_count": null,
   "metadata": {},
   "outputs": [],
   "source": []
  },
  {
   "cell_type": "code",
   "execution_count": null,
   "metadata": {},
   "outputs": [],
   "source": []
  },
  {
   "cell_type": "code",
   "execution_count": null,
   "metadata": {},
   "outputs": [],
   "source": []
  },
  {
   "cell_type": "code",
   "execution_count": null,
   "metadata": {},
   "outputs": [],
   "source": []
  },
  {
   "cell_type": "code",
   "execution_count": null,
   "metadata": {},
   "outputs": [],
   "source": []
  },
  {
   "cell_type": "code",
   "execution_count": null,
   "metadata": {},
   "outputs": [],
   "source": []
  },
  {
   "cell_type": "code",
   "execution_count": null,
   "metadata": {},
   "outputs": [],
   "source": []
  },
  {
   "cell_type": "code",
   "execution_count": null,
   "metadata": {},
   "outputs": [],
   "source": []
  },
  {
   "cell_type": "code",
   "execution_count": null,
   "metadata": {},
   "outputs": [],
   "source": []
  },
  {
   "cell_type": "code",
   "execution_count": null,
   "metadata": {},
   "outputs": [],
   "source": []
  },
  {
   "cell_type": "code",
   "execution_count": null,
   "metadata": {},
   "outputs": [],
   "source": []
  },
  {
   "cell_type": "code",
   "execution_count": null,
   "metadata": {},
   "outputs": [],
   "source": []
  }
 ],
 "metadata": {
  "kernelspec": {
   "display_name": "Python 3 (ipykernel)",
   "language": "python",
   "name": "python3"
  },
  "language_info": {
   "codemirror_mode": {
    "name": "ipython",
    "version": 3
   },
   "file_extension": ".py",
   "mimetype": "text/x-python",
   "name": "python",
   "nbconvert_exporter": "python",
   "pygments_lexer": "ipython3",
   "version": "3.7.9"
  }
 },
 "nbformat": 4,
 "nbformat_minor": 4
}
