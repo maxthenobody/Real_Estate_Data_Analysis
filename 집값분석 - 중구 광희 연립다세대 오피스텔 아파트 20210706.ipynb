{
 "cells": [
  {
   "cell_type": "code",
   "execution_count": 1,
   "metadata": {},
   "outputs": [],
   "source": [
    "import pandas as pd\n",
    "import numpy as np\n",
    "import os\n",
    "pd.set_option('display.max_rows', 500)\n",
    "pd.set_option('display.max_columns', 500)\n",
    "from tqdm import tqdm\n",
    "import matplotlib.pyplot as plt\n",
    "import seaborn as sns\n",
    "import matplotlib\n",
    "matplotlib.rcParams['axes.unicode_minus'] = False\n",
    "pd.options.mode.chained_assignment = None  # default='warn'\n",
    "plt.rcParams['font.family'] = 'Malgun Gothic'\n",
    "import datetime"
   ]
  },
  {
   "cell_type": "code",
   "execution_count": 2,
   "metadata": {},
   "outputs": [],
   "source": [
    "target_gu = '중구'\n",
    "target_dong = '광희'\n",
    "#target_purpose = '준주거'\n",
    "target_building_age = 5\n",
    "target_period = 36 # in months"
   ]
  },
  {
   "cell_type": "code",
   "execution_count": 3,
   "metadata": {},
   "outputs": [],
   "source": [
    "date_today = pd.to_datetime(datetime.datetime.now().strftime('%Y-%m-%d'), format='%Y-%m-%d')"
   ]
  },
  {
   "cell_type": "code",
   "execution_count": 4,
   "metadata": {},
   "outputs": [
    {
     "data": {
      "text/plain": [
       "'20210707'"
      ]
     },
     "execution_count": 4,
     "metadata": {},
     "output_type": "execute_result"
    }
   ],
   "source": [
    "date_today_record = str(date_today).split(' ')[0].replace('-', '')\n",
    "date_today_record"
   ]
  },
  {
   "cell_type": "code",
   "execution_count": 5,
   "metadata": {},
   "outputs": [],
   "source": [
    "def day_modifier(x):\n",
    "    # x is a number\n",
    "    \n",
    "    if pd.isna(x) == True:\n",
    "        return x\n",
    "    else:\n",
    "        x = str(x)\n",
    "        if len(x) == 1:\n",
    "            return '0' + x\n",
    "        else:\n",
    "            return x"
   ]
  },
  {
   "cell_type": "code",
   "execution_count": 6,
   "metadata": {},
   "outputs": [],
   "source": [
    "def landnum_modifier(x):\n",
    "    # x is a string\n",
    "    \n",
    "    if pd.isna(x) == True:\n",
    "        return x\n",
    "    else:\n",
    "        x = str(x).replace('외', '').replace(' ','')\n",
    "        splitted = x.split('-')\n",
    "        if len(splitted) == 1:\n",
    "            return x + '-0'\n",
    "        else:\n",
    "            return x"
   ]
  },
  {
   "cell_type": "code",
   "execution_count": 35,
   "metadata": {},
   "outputs": [],
   "source": [
    "def data_prep(bdtype, tradetype):\n",
    "    # bdtype is a string: one of 아파트, 연립다세대 or 오피스텔\n",
    "    # tradetype is a string: one of 매매 or 전월세\n",
    "    \n",
    "    basedir = './국토교통부_실거래가_공개시스템/{}/{}/'.format(bdtype, tradetype)    \n",
    "    if tradetype == None:\n",
    "        basedir = './국토교통부_실거래가_공개시스템/{}/'.format(bdtype)\n",
    "    \n",
    "    filenames = [f for f in os.listdir(basedir) if f.endswith('.csv')]\n",
    "    \n",
    "    dfs_list = []\n",
    "    for i, f in tqdm(enumerate(filenames)):\n",
    "        df = pd.read_csv(basedir + f, encoding='euc-kr', header=15)        \n",
    "        '''if '해제사유발생일' in df.columns.tolist():\n",
    "            df = df[df['해제사유발생일'].isna()]\n",
    "            df = df.drop(columns=['해제사유발생일'])\n",
    "'''\n",
    "        dfs_list.append(df)\n",
    "    \n",
    "    concat_df = pd.concat(dfs_list).reset_index(drop=True)\n",
    "        \n",
    "    concat_df['번지'] = concat_df['번지'].apply(landnum_modifier)\n",
    "    \n",
    "    concat_df['계약년월'] = concat_df['계약년월'].apply(str)\n",
    "    concat_df['계약일'] = concat_df['계약일'].apply(str)\n",
    "    \n",
    "    if '건축년도' in concat_df.columns:\n",
    "        concat_df['계약날짜기준_건물연식'] = concat_df['계약년월'].apply(lambda x: int(x[:4])) - concat_df['건축년도']\n",
    "    \n",
    "    concat_df['계약일'] = concat_df['계약일'].apply(day_modifier)\n",
    "    \n",
    "    concat_df['계약날짜'] = concat_df['계약년월'].apply(lambda x: x[:4]) + '-' + concat_df['계약년월'].apply(lambda x: x[-2:])\\\n",
    "    + '-' + concat_df['계약일']\n",
    "    \n",
    "    concat_df['계약날짜'] = pd.to_datetime(concat_df['계약날짜'], format='%Y-%m-%d')\n",
    "    \n",
    "    concat_df['거래금액(만원)'] = concat_df['거래금액(만원)'].apply(lambda x: int(x.replace(',','')))\n",
    "    concat_df['단가(만원/㎡)'] = concat_df['거래금액(만원)'] / concat_df['전용면적(㎡)']\n",
    "    \n",
    "    concat_df['지번주소'] = concat_df['시군구'] + ' ' + concat_df['번지']\n",
    "        \n",
    "    cols_to_drop = ['시군구', '번지', '본번', '부번', '지번주소', '계약년월', '계약일', '도로명']\n",
    "    \n",
    "    if '도로명' in concat_df.columns:\n",
    "        concat_df = concat_df[['지번주소', '도로명'] + [col for col in concat_df.columns if col not in cols_to_drop]]\n",
    "    else:\n",
    "        concat_df = concat_df[['지번주소'] + [col for col in concat_df.columns if col not in cols_to_drop]]\n",
    "    \n",
    "    date_today = pd.to_datetime(datetime.datetime.now().strftime('%Y-%m-%d'), format='%Y-%m-%d')\n",
    "    \n",
    "    if '건축년도' in concat_df.columns:\n",
    "        concat_df['건물연식'] = date_today.year - concat_df['건축년도']\n",
    "    \n",
    "    concat_df = concat_df.dropna(subset=['지번주소'])\n",
    "    \n",
    "    if '건물명' in concat_df.columns:\n",
    "        concat_df.rename(columns={'건물명':'건물(단지)명'}, inplace=True)\n",
    "    elif '단지명' in concat_df.columns:\n",
    "        concat_df.rename(columns={'단지명':'건물(단지)명'}, inplace=True)\n",
    "    \n",
    "    concat_df = concat_df[concat_df['층'] >= 0].reset_index(drop=True)\n",
    "    \n",
    "    return concat_df"
   ]
  },
  {
   "cell_type": "code",
   "execution_count": 8,
   "metadata": {},
   "outputs": [
    {
     "name": "stderr",
     "output_type": "stream",
     "text": [
      "16it [00:01,  8.02it/s]\n"
     ]
    },
    {
     "name": "stdout",
     "output_type": "stream",
     "text": [
      "(1200989, 12)\n"
     ]
    },
    {
     "data": {
      "text/html": [
       "<div>\n",
       "<style scoped>\n",
       "    .dataframe tbody tr th:only-of-type {\n",
       "        vertical-align: middle;\n",
       "    }\n",
       "\n",
       "    .dataframe tbody tr th {\n",
       "        vertical-align: top;\n",
       "    }\n",
       "\n",
       "    .dataframe thead th {\n",
       "        text-align: right;\n",
       "    }\n",
       "</style>\n",
       "<table border=\"1\" class=\"dataframe\">\n",
       "  <thead>\n",
       "    <tr style=\"text-align: right;\">\n",
       "      <th></th>\n",
       "      <th>지번주소</th>\n",
       "      <th>도로명</th>\n",
       "      <th>건물(단지)명</th>\n",
       "      <th>전용면적(㎡)</th>\n",
       "      <th>거래금액(만원)</th>\n",
       "      <th>층</th>\n",
       "      <th>건축년도</th>\n",
       "      <th>계약날짜기준_건물연식</th>\n",
       "      <th>계약날짜</th>\n",
       "      <th>단가(만원/㎡)</th>\n",
       "      <th>건물연식</th>\n",
       "      <th>부동산유형</th>\n",
       "    </tr>\n",
       "  </thead>\n",
       "  <tbody>\n",
       "    <tr>\n",
       "      <th>0</th>\n",
       "      <td>서울특별시 강남구 개포동 655-2</td>\n",
       "      <td>언주로 103</td>\n",
       "      <td>개포2차현대아파트(220)</td>\n",
       "      <td>77.75</td>\n",
       "      <td>59500</td>\n",
       "      <td>7</td>\n",
       "      <td>1988</td>\n",
       "      <td>18</td>\n",
       "      <td>2006-03-10</td>\n",
       "      <td>765.273312</td>\n",
       "      <td>33</td>\n",
       "      <td>아파트</td>\n",
       "    </tr>\n",
       "    <tr>\n",
       "      <th>1</th>\n",
       "      <td>서울특별시 강남구 개포동 655-2</td>\n",
       "      <td>언주로 103</td>\n",
       "      <td>개포2차현대아파트(220)</td>\n",
       "      <td>77.75</td>\n",
       "      <td>60000</td>\n",
       "      <td>6</td>\n",
       "      <td>1988</td>\n",
       "      <td>18</td>\n",
       "      <td>2006-03-29</td>\n",
       "      <td>771.704180</td>\n",
       "      <td>33</td>\n",
       "      <td>아파트</td>\n",
       "    </tr>\n",
       "    <tr>\n",
       "      <th>2</th>\n",
       "      <td>서울특별시 강남구 개포동 655-2</td>\n",
       "      <td>언주로 103</td>\n",
       "      <td>개포2차현대아파트(220)</td>\n",
       "      <td>77.75</td>\n",
       "      <td>67000</td>\n",
       "      <td>9</td>\n",
       "      <td>1988</td>\n",
       "      <td>18</td>\n",
       "      <td>2006-04-29</td>\n",
       "      <td>861.736334</td>\n",
       "      <td>33</td>\n",
       "      <td>아파트</td>\n",
       "    </tr>\n",
       "    <tr>\n",
       "      <th>3</th>\n",
       "      <td>서울특별시 강남구 개포동 655-2</td>\n",
       "      <td>언주로 103</td>\n",
       "      <td>개포2차현대아파트(220)</td>\n",
       "      <td>77.75</td>\n",
       "      <td>60000</td>\n",
       "      <td>4</td>\n",
       "      <td>1988</td>\n",
       "      <td>18</td>\n",
       "      <td>2006-06-01</td>\n",
       "      <td>771.704180</td>\n",
       "      <td>33</td>\n",
       "      <td>아파트</td>\n",
       "    </tr>\n",
       "    <tr>\n",
       "      <th>4</th>\n",
       "      <td>서울특별시 강남구 개포동 655-2</td>\n",
       "      <td>언주로 103</td>\n",
       "      <td>개포2차현대아파트(220)</td>\n",
       "      <td>77.75</td>\n",
       "      <td>72250</td>\n",
       "      <td>5</td>\n",
       "      <td>1988</td>\n",
       "      <td>18</td>\n",
       "      <td>2006-10-20</td>\n",
       "      <td>929.260450</td>\n",
       "      <td>33</td>\n",
       "      <td>아파트</td>\n",
       "    </tr>\n",
       "  </tbody>\n",
       "</table>\n",
       "</div>"
      ],
      "text/plain": [
       "                  지번주소      도로명         건물(단지)명  전용면적(㎡)  거래금액(만원)  층  건축년도  \\\n",
       "0  서울특별시 강남구 개포동 655-2  언주로 103  개포2차현대아파트(220)    77.75     59500  7  1988   \n",
       "1  서울특별시 강남구 개포동 655-2  언주로 103  개포2차현대아파트(220)    77.75     60000  6  1988   \n",
       "2  서울특별시 강남구 개포동 655-2  언주로 103  개포2차현대아파트(220)    77.75     67000  9  1988   \n",
       "3  서울특별시 강남구 개포동 655-2  언주로 103  개포2차현대아파트(220)    77.75     60000  4  1988   \n",
       "4  서울특별시 강남구 개포동 655-2  언주로 103  개포2차현대아파트(220)    77.75     72250  5  1988   \n",
       "\n",
       "   계약날짜기준_건물연식       계약날짜    단가(만원/㎡)  건물연식 부동산유형  \n",
       "0           18 2006-03-10  765.273312    33   아파트  \n",
       "1           18 2006-03-29  771.704180    33   아파트  \n",
       "2           18 2006-04-29  861.736334    33   아파트  \n",
       "3           18 2006-06-01  771.704180    33   아파트  \n",
       "4           18 2006-10-20  929.260450    33   아파트  "
      ]
     },
     "execution_count": 8,
     "metadata": {},
     "output_type": "execute_result"
    }
   ],
   "source": [
    "apart_df = data_prep('아파트', '매매')\n",
    "apart_df['부동산유형'] = '아파트'\n",
    "print(apart_df.shape)\n",
    "apart_df.head()"
   ]
  },
  {
   "cell_type": "code",
   "execution_count": 9,
   "metadata": {},
   "outputs": [
    {
     "name": "stderr",
     "output_type": "stream",
     "text": [
      "16it [00:01, 10.05it/s]\n"
     ]
    },
    {
     "name": "stdout",
     "output_type": "stream",
     "text": [
      "(641720, 13)\n"
     ]
    },
    {
     "data": {
      "text/html": [
       "<div>\n",
       "<style scoped>\n",
       "    .dataframe tbody tr th:only-of-type {\n",
       "        vertical-align: middle;\n",
       "    }\n",
       "\n",
       "    .dataframe tbody tr th {\n",
       "        vertical-align: top;\n",
       "    }\n",
       "\n",
       "    .dataframe thead th {\n",
       "        text-align: right;\n",
       "    }\n",
       "</style>\n",
       "<table border=\"1\" class=\"dataframe\">\n",
       "  <thead>\n",
       "    <tr style=\"text-align: right;\">\n",
       "      <th></th>\n",
       "      <th>지번주소</th>\n",
       "      <th>도로명</th>\n",
       "      <th>건물(단지)명</th>\n",
       "      <th>전용면적(㎡)</th>\n",
       "      <th>대지권면적(㎡)</th>\n",
       "      <th>거래금액(만원)</th>\n",
       "      <th>층</th>\n",
       "      <th>건축년도</th>\n",
       "      <th>계약날짜기준_건물연식</th>\n",
       "      <th>계약날짜</th>\n",
       "      <th>단가(만원/㎡)</th>\n",
       "      <th>건물연식</th>\n",
       "      <th>부동산유형</th>\n",
       "    </tr>\n",
       "  </thead>\n",
       "  <tbody>\n",
       "    <tr>\n",
       "      <th>0</th>\n",
       "      <td>서울특별시 강남구 개포동 171-13</td>\n",
       "      <td>선릉로14길 11</td>\n",
       "      <td>(171-13)</td>\n",
       "      <td>68.08</td>\n",
       "      <td>56.10</td>\n",
       "      <td>56500</td>\n",
       "      <td>2</td>\n",
       "      <td>1988.0</td>\n",
       "      <td>18.0</td>\n",
       "      <td>2006-12-20</td>\n",
       "      <td>829.905993</td>\n",
       "      <td>33.0</td>\n",
       "      <td>연립다세대</td>\n",
       "    </tr>\n",
       "    <tr>\n",
       "      <th>1</th>\n",
       "      <td>서울특별시 강남구 개포동 1239-7</td>\n",
       "      <td>개포로15길 25</td>\n",
       "      <td>강남빌라 가동</td>\n",
       "      <td>52.59</td>\n",
       "      <td>45.00</td>\n",
       "      <td>40500</td>\n",
       "      <td>2</td>\n",
       "      <td>1988.0</td>\n",
       "      <td>18.0</td>\n",
       "      <td>2006-12-09</td>\n",
       "      <td>770.108386</td>\n",
       "      <td>33.0</td>\n",
       "      <td>연립다세대</td>\n",
       "    </tr>\n",
       "    <tr>\n",
       "      <th>2</th>\n",
       "      <td>서울특별시 강남구 개포동 1239-7</td>\n",
       "      <td>개포로15길 25</td>\n",
       "      <td>강남빌라 가동</td>\n",
       "      <td>52.59</td>\n",
       "      <td>45.00</td>\n",
       "      <td>42000</td>\n",
       "      <td>1</td>\n",
       "      <td>1988.0</td>\n",
       "      <td>18.0</td>\n",
       "      <td>2006-12-19</td>\n",
       "      <td>798.630918</td>\n",
       "      <td>33.0</td>\n",
       "      <td>연립다세대</td>\n",
       "    </tr>\n",
       "    <tr>\n",
       "      <th>3</th>\n",
       "      <td>서울특별시 강남구 개포동 1239-6</td>\n",
       "      <td>개포로15길 27</td>\n",
       "      <td>강남빌라 나동</td>\n",
       "      <td>52.75</td>\n",
       "      <td>44.68</td>\n",
       "      <td>22000</td>\n",
       "      <td>2</td>\n",
       "      <td>1988.0</td>\n",
       "      <td>18.0</td>\n",
       "      <td>2006-11-02</td>\n",
       "      <td>417.061611</td>\n",
       "      <td>33.0</td>\n",
       "      <td>연립다세대</td>\n",
       "    </tr>\n",
       "    <tr>\n",
       "      <th>4</th>\n",
       "      <td>서울특별시 강남구 개포동 1175-2</td>\n",
       "      <td>논현로6길 36-8</td>\n",
       "      <td>강남파크</td>\n",
       "      <td>49.43</td>\n",
       "      <td>23.70</td>\n",
       "      <td>17000</td>\n",
       "      <td>4</td>\n",
       "      <td>1993.0</td>\n",
       "      <td>13.0</td>\n",
       "      <td>2006-07-19</td>\n",
       "      <td>343.920696</td>\n",
       "      <td>28.0</td>\n",
       "      <td>연립다세대</td>\n",
       "    </tr>\n",
       "  </tbody>\n",
       "</table>\n",
       "</div>"
      ],
      "text/plain": [
       "                   지번주소         도로명   건물(단지)명  전용면적(㎡)  대지권면적(㎡)  거래금액(만원)  층  \\\n",
       "0  서울특별시 강남구 개포동 171-13   선릉로14길 11  (171-13)    68.08     56.10     56500  2   \n",
       "1  서울특별시 강남구 개포동 1239-7   개포로15길 25   강남빌라 가동    52.59     45.00     40500  2   \n",
       "2  서울특별시 강남구 개포동 1239-7   개포로15길 25   강남빌라 가동    52.59     45.00     42000  1   \n",
       "3  서울특별시 강남구 개포동 1239-6   개포로15길 27   강남빌라 나동    52.75     44.68     22000  2   \n",
       "4  서울특별시 강남구 개포동 1175-2  논현로6길 36-8      강남파크    49.43     23.70     17000  4   \n",
       "\n",
       "     건축년도  계약날짜기준_건물연식       계약날짜    단가(만원/㎡)  건물연식  부동산유형  \n",
       "0  1988.0         18.0 2006-12-20  829.905993  33.0  연립다세대  \n",
       "1  1988.0         18.0 2006-12-09  770.108386  33.0  연립다세대  \n",
       "2  1988.0         18.0 2006-12-19  798.630918  33.0  연립다세대  \n",
       "3  1988.0         18.0 2006-11-02  417.061611  33.0  연립다세대  \n",
       "4  1993.0         13.0 2006-07-19  343.920696  28.0  연립다세대  "
      ]
     },
     "execution_count": 9,
     "metadata": {},
     "output_type": "execute_result"
    }
   ],
   "source": [
    "yunrip_df = data_prep('연립다세대', '매매')\n",
    "yunrip_df['부동산유형'] = '연립다세대'\n",
    "print(yunrip_df.shape)\n",
    "yunrip_df.head()"
   ]
  },
  {
   "cell_type": "code",
   "execution_count": 10,
   "metadata": {},
   "outputs": [
    {
     "name": "stderr",
     "output_type": "stream",
     "text": [
      "16it [00:00, 37.11it/s]\n"
     ]
    },
    {
     "name": "stdout",
     "output_type": "stream",
     "text": [
      "(182236, 12)\n"
     ]
    },
    {
     "data": {
      "text/html": [
       "<div>\n",
       "<style scoped>\n",
       "    .dataframe tbody tr th:only-of-type {\n",
       "        vertical-align: middle;\n",
       "    }\n",
       "\n",
       "    .dataframe tbody tr th {\n",
       "        vertical-align: top;\n",
       "    }\n",
       "\n",
       "    .dataframe thead th {\n",
       "        text-align: right;\n",
       "    }\n",
       "</style>\n",
       "<table border=\"1\" class=\"dataframe\">\n",
       "  <thead>\n",
       "    <tr style=\"text-align: right;\">\n",
       "      <th></th>\n",
       "      <th>지번주소</th>\n",
       "      <th>도로명</th>\n",
       "      <th>건물(단지)명</th>\n",
       "      <th>전용면적(㎡)</th>\n",
       "      <th>거래금액(만원)</th>\n",
       "      <th>층</th>\n",
       "      <th>건축년도</th>\n",
       "      <th>계약날짜기준_건물연식</th>\n",
       "      <th>계약날짜</th>\n",
       "      <th>단가(만원/㎡)</th>\n",
       "      <th>건물연식</th>\n",
       "      <th>부동산유형</th>\n",
       "    </tr>\n",
       "  </thead>\n",
       "  <tbody>\n",
       "    <tr>\n",
       "      <th>0</th>\n",
       "      <td>서울특별시 강남구 개포동 13-3</td>\n",
       "      <td>개포로 623</td>\n",
       "      <td>대청타워</td>\n",
       "      <td>32.44</td>\n",
       "      <td>6400</td>\n",
       "      <td>8</td>\n",
       "      <td>1997.0</td>\n",
       "      <td>9.0</td>\n",
       "      <td>2006-01-10</td>\n",
       "      <td>197.287300</td>\n",
       "      <td>24.0</td>\n",
       "      <td>오피스텔</td>\n",
       "    </tr>\n",
       "    <tr>\n",
       "      <th>1</th>\n",
       "      <td>서울특별시 강남구 개포동 13-3</td>\n",
       "      <td>개포로 623</td>\n",
       "      <td>대청타워</td>\n",
       "      <td>32.44</td>\n",
       "      <td>7100</td>\n",
       "      <td>7</td>\n",
       "      <td>1997.0</td>\n",
       "      <td>9.0</td>\n",
       "      <td>2006-01-10</td>\n",
       "      <td>218.865598</td>\n",
       "      <td>24.0</td>\n",
       "      <td>오피스텔</td>\n",
       "    </tr>\n",
       "    <tr>\n",
       "      <th>2</th>\n",
       "      <td>서울특별시 강남구 개포동 13-3</td>\n",
       "      <td>개포로 623</td>\n",
       "      <td>대청타워</td>\n",
       "      <td>32.44</td>\n",
       "      <td>7300</td>\n",
       "      <td>11</td>\n",
       "      <td>1997.0</td>\n",
       "      <td>9.0</td>\n",
       "      <td>2006-01-11</td>\n",
       "      <td>225.030826</td>\n",
       "      <td>24.0</td>\n",
       "      <td>오피스텔</td>\n",
       "    </tr>\n",
       "    <tr>\n",
       "      <th>3</th>\n",
       "      <td>서울특별시 강남구 개포동 13-3</td>\n",
       "      <td>개포로 623</td>\n",
       "      <td>대청타워</td>\n",
       "      <td>31.91</td>\n",
       "      <td>7500</td>\n",
       "      <td>10</td>\n",
       "      <td>1997.0</td>\n",
       "      <td>9.0</td>\n",
       "      <td>2006-01-18</td>\n",
       "      <td>235.036039</td>\n",
       "      <td>24.0</td>\n",
       "      <td>오피스텔</td>\n",
       "    </tr>\n",
       "    <tr>\n",
       "      <th>4</th>\n",
       "      <td>서울특별시 강남구 개포동 13-3</td>\n",
       "      <td>개포로 623</td>\n",
       "      <td>대청타워</td>\n",
       "      <td>32.44</td>\n",
       "      <td>7400</td>\n",
       "      <td>15</td>\n",
       "      <td>1997.0</td>\n",
       "      <td>9.0</td>\n",
       "      <td>2006-01-19</td>\n",
       "      <td>228.113440</td>\n",
       "      <td>24.0</td>\n",
       "      <td>오피스텔</td>\n",
       "    </tr>\n",
       "  </tbody>\n",
       "</table>\n",
       "</div>"
      ],
      "text/plain": [
       "                 지번주소      도로명 건물(단지)명  전용면적(㎡)  거래금액(만원)   층    건축년도  \\\n",
       "0  서울특별시 강남구 개포동 13-3  개포로 623    대청타워    32.44      6400   8  1997.0   \n",
       "1  서울특별시 강남구 개포동 13-3  개포로 623    대청타워    32.44      7100   7  1997.0   \n",
       "2  서울특별시 강남구 개포동 13-3  개포로 623    대청타워    32.44      7300  11  1997.0   \n",
       "3  서울특별시 강남구 개포동 13-3  개포로 623    대청타워    31.91      7500  10  1997.0   \n",
       "4  서울특별시 강남구 개포동 13-3  개포로 623    대청타워    32.44      7400  15  1997.0   \n",
       "\n",
       "   계약날짜기준_건물연식       계약날짜    단가(만원/㎡)  건물연식 부동산유형  \n",
       "0          9.0 2006-01-10  197.287300  24.0  오피스텔  \n",
       "1          9.0 2006-01-10  218.865598  24.0  오피스텔  \n",
       "2          9.0 2006-01-11  225.030826  24.0  오피스텔  \n",
       "3          9.0 2006-01-18  235.036039  24.0  오피스텔  \n",
       "4          9.0 2006-01-19  228.113440  24.0  오피스텔  "
      ]
     },
     "execution_count": 10,
     "metadata": {},
     "output_type": "execute_result"
    }
   ],
   "source": [
    "officetel_df = data_prep('오피스텔', '매매')\n",
    "officetel_df['부동산유형'] = '오피스텔'\n",
    "print(officetel_df.shape)\n",
    "officetel_df.head()"
   ]
  },
  {
   "cell_type": "code",
   "execution_count": 17,
   "metadata": {},
   "outputs": [
    {
     "name": "stdout",
     "output_type": "stream",
     "text": [
      "(2024945, 12)\n"
     ]
    },
    {
     "data": {
      "text/html": [
       "<div>\n",
       "<style scoped>\n",
       "    .dataframe tbody tr th:only-of-type {\n",
       "        vertical-align: middle;\n",
       "    }\n",
       "\n",
       "    .dataframe tbody tr th {\n",
       "        vertical-align: top;\n",
       "    }\n",
       "\n",
       "    .dataframe thead th {\n",
       "        text-align: right;\n",
       "    }\n",
       "</style>\n",
       "<table border=\"1\" class=\"dataframe\">\n",
       "  <thead>\n",
       "    <tr style=\"text-align: right;\">\n",
       "      <th></th>\n",
       "      <th>지번주소</th>\n",
       "      <th>도로명</th>\n",
       "      <th>건물(단지)명</th>\n",
       "      <th>전용면적(㎡)</th>\n",
       "      <th>거래금액(만원)</th>\n",
       "      <th>층</th>\n",
       "      <th>건축년도</th>\n",
       "      <th>계약날짜기준_건물연식</th>\n",
       "      <th>계약날짜</th>\n",
       "      <th>단가(만원/㎡)</th>\n",
       "      <th>건물연식</th>\n",
       "      <th>부동산유형</th>\n",
       "    </tr>\n",
       "  </thead>\n",
       "  <tbody>\n",
       "    <tr>\n",
       "      <th>0</th>\n",
       "      <td>서울특별시 강남구 개포동 1164-0</td>\n",
       "      <td>논현로2길 6</td>\n",
       "      <td>골드캐슬</td>\n",
       "      <td>58.05</td>\n",
       "      <td>57500</td>\n",
       "      <td>2</td>\n",
       "      <td>2017.0</td>\n",
       "      <td>1.0</td>\n",
       "      <td>2018-01-20</td>\n",
       "      <td>990.525409</td>\n",
       "      <td>4.0</td>\n",
       "      <td>연립다세대</td>\n",
       "    </tr>\n",
       "    <tr>\n",
       "      <th>1</th>\n",
       "      <td>서울특별시 강남구 개포동 1164-0</td>\n",
       "      <td>논현로2길 6</td>\n",
       "      <td>골드캐슬</td>\n",
       "      <td>58.05</td>\n",
       "      <td>57000</td>\n",
       "      <td>1</td>\n",
       "      <td>2017.0</td>\n",
       "      <td>1.0</td>\n",
       "      <td>2018-06-01</td>\n",
       "      <td>981.912145</td>\n",
       "      <td>4.0</td>\n",
       "      <td>연립다세대</td>\n",
       "    </tr>\n",
       "    <tr>\n",
       "      <th>2</th>\n",
       "      <td>서울특별시 강남구 개포동 1164-0</td>\n",
       "      <td>논현로2길 6</td>\n",
       "      <td>골드캐슬</td>\n",
       "      <td>58.05</td>\n",
       "      <td>63000</td>\n",
       "      <td>2</td>\n",
       "      <td>2017.0</td>\n",
       "      <td>2.0</td>\n",
       "      <td>2019-01-19</td>\n",
       "      <td>1085.271318</td>\n",
       "      <td>4.0</td>\n",
       "      <td>연립다세대</td>\n",
       "    </tr>\n",
       "    <tr>\n",
       "      <th>3</th>\n",
       "      <td>서울특별시 강남구 개포동 1164-12</td>\n",
       "      <td>논현로2길 34</td>\n",
       "      <td>새롬(1164-12)</td>\n",
       "      <td>71.72</td>\n",
       "      <td>64500</td>\n",
       "      <td>7</td>\n",
       "      <td>2000.0</td>\n",
       "      <td>17.0</td>\n",
       "      <td>2017-09-23</td>\n",
       "      <td>899.330731</td>\n",
       "      <td>21.0</td>\n",
       "      <td>아파트</td>\n",
       "    </tr>\n",
       "    <tr>\n",
       "      <th>4</th>\n",
       "      <td>서울특별시 강남구 개포동 1164-12</td>\n",
       "      <td>논현로2길 34</td>\n",
       "      <td>새롬(1164-12)</td>\n",
       "      <td>73.50</td>\n",
       "      <td>29800</td>\n",
       "      <td>4</td>\n",
       "      <td>2000.0</td>\n",
       "      <td>6.0</td>\n",
       "      <td>2006-10-18</td>\n",
       "      <td>405.442177</td>\n",
       "      <td>21.0</td>\n",
       "      <td>아파트</td>\n",
       "    </tr>\n",
       "  </tbody>\n",
       "</table>\n",
       "</div>"
      ],
      "text/plain": [
       "                    지번주소       도로명      건물(단지)명  전용면적(㎡)  거래금액(만원)  층    건축년도  \\\n",
       "0   서울특별시 강남구 개포동 1164-0   논현로2길 6         골드캐슬    58.05     57500  2  2017.0   \n",
       "1   서울특별시 강남구 개포동 1164-0   논현로2길 6         골드캐슬    58.05     57000  1  2017.0   \n",
       "2   서울특별시 강남구 개포동 1164-0   논현로2길 6         골드캐슬    58.05     63000  2  2017.0   \n",
       "3  서울특별시 강남구 개포동 1164-12  논현로2길 34  새롬(1164-12)    71.72     64500  7  2000.0   \n",
       "4  서울특별시 강남구 개포동 1164-12  논현로2길 34  새롬(1164-12)    73.50     29800  4  2000.0   \n",
       "\n",
       "   계약날짜기준_건물연식       계약날짜     단가(만원/㎡)  건물연식  부동산유형  \n",
       "0          1.0 2018-01-20   990.525409   4.0  연립다세대  \n",
       "1          1.0 2018-06-01   981.912145   4.0  연립다세대  \n",
       "2          2.0 2019-01-19  1085.271318   4.0  연립다세대  \n",
       "3         17.0 2017-09-23   899.330731  21.0    아파트  \n",
       "4          6.0 2006-10-18   405.442177  21.0    아파트  "
      ]
     },
     "execution_count": 17,
     "metadata": {},
     "output_type": "execute_result"
    }
   ],
   "source": [
    "yunrip_df = yunrip_df.drop(columns=['대지권면적(㎡)'])\n",
    "house_df = pd.concat([apart_df, yunrip_df, officetel_df]).sort_values(['지번주소', '건축년도', '전용면적(㎡)', '계약날짜']).reset_index(drop=True)\n",
    "print(house_df.shape)\n",
    "house_df.head()"
   ]
  },
  {
   "cell_type": "code",
   "execution_count": null,
   "metadata": {},
   "outputs": [],
   "source": [
    "'''land_specs_df = pd.read_csv('./prepped_data/land_specs_ver_4.csv')\n",
    "print(land_specs_df.shape)\n",
    "land_specs_df.head()'''"
   ]
  },
  {
   "cell_type": "code",
   "execution_count": null,
   "metadata": {},
   "outputs": [],
   "source": [
    "'''last_df = land_specs_df.drop_duplicates(subset=['지번주소'], keep='last').drop(columns=['년', '공시지가']).reset_index(drop=True)\n",
    "print(last_df.shape)\n",
    "last_df.head()'''"
   ]
  },
  {
   "cell_type": "code",
   "execution_count": null,
   "metadata": {},
   "outputs": [],
   "source": [
    "'''house_merge_df = house_df.merge(last_df, on=['지번주소']).reset_index(drop=True)\n",
    "print(house_merge_df.shape)'''"
   ]
  },
  {
   "cell_type": "code",
   "execution_count": null,
   "metadata": {},
   "outputs": [],
   "source": [
    "house_df['구'] = house_df['지번주소'].apply(lambda x: x.split(' ')[1])\n",
    "house_df['동'] = house_df['지번주소'].apply(lambda x: x.split(' ')[2])\n",
    "#house_merge_df['구'] = house_merge_df['지번주소'].apply(lambda x: x.split(' ')[1])\n",
    "#house_merge_df['동'] = house_merge_df['지번주소'].apply(lambda x: x.split(' ')[2])"
   ]
  },
  {
   "cell_type": "code",
   "execution_count": null,
   "metadata": {},
   "outputs": [],
   "source": [
    "target_df = house_df[\n",
    "    (house_df['지번주소'].str.contains(target_gu + ' ' + target_dong))\n",
    "    #&(house_df['동'] == target_dong)\n",
    "    #&(house_df['계약날짜'] >= (date_today - pd.DateOffset(months=target_period)))\n",
    "    #&(house_df['건물연식'] <= target_building_age)\n",
    "    #&(house_merge_df['용도지역명1'].str.contains(target_purpose))\n",
    "]\n",
    "print(target_df.shape)\n",
    "target_df.head()"
   ]
  },
  {
   "cell_type": "code",
   "execution_count": null,
   "metadata": {},
   "outputs": [],
   "source": [
    "sales_idx_basedir = './한국부동산원/실거래가격지수/'\n",
    "filenames = [f for f in os.listdir(sales_idx_basedir) if '연립다세대' in f]\n",
    "\n",
    "sales_idx_df = pd.read_excel(sales_idx_basedir + filenames[0], header=[10, 11])\n",
    "\n",
    "sales_idx_cols_list = []\n",
    "for i in range(sales_idx_df.shape[1]):\n",
    "    if i == 0:\n",
    "        sales_idx_cols_list.append(sales_idx_df.columns[i][0])\n",
    "    else:\n",
    "        sales_idx_cols_list.append(sales_idx_df.columns[i][0] + '_' + sales_idx_df.columns[i][1])\n",
    "\n",
    "sales_idx_df.columns = sales_idx_cols_list"
   ]
  },
  {
   "cell_type": "code",
   "execution_count": null,
   "metadata": {},
   "outputs": [],
   "source": [
    "def get_sales_idx(x):\n",
    "    # x is a pandas timestamp\n",
    "    \n",
    "    df = sales_idx_df.copy()\n",
    "    \n",
    "    if pd.isna(x) == True:\n",
    "        return x\n",
    "    else:\n",
    "        year = str(x.year)\n",
    "        month = str(x.month)\n",
    "        if len(month) == 1:\n",
    "            month = '0'+month\n",
    "        \n",
    "        idx = df[year+'년 '+month+'월_지수'].iloc[0]\n",
    "        \n",
    "        return idx"
   ]
  },
  {
   "cell_type": "code",
   "execution_count": null,
   "metadata": {},
   "outputs": [],
   "source": [
    "def get_index_applied_prices(df):\n",
    "    df = df.copy()\n",
    "    \n",
    "    last_idx = sales_idx_df.iloc[0,-2]\n",
    "    \n",
    "    last_date = sales_idx_df.columns[-1].split('_')[0]\n",
    "    \n",
    "    last_date = last_date.split(' ')[0].replace('년','') + '-' + last_date.split(' ')[1].replace('월','') + '-01'\n",
    "    \n",
    "    target_upper_limit_df = df[df['계약날짜'] < pd.to_datetime(last_date)]\n",
    "    target_upper_limit_df['계약날짜_실거래지수'] = target_upper_limit_df['계약날짜'].apply(get_sales_idx)\n",
    "    target_upper_limit_df['지수적용단가'] = target_upper_limit_df['단가(만원/㎡)'] / target_upper_limit_df['계약날짜_실거래지수'] * last_idx\n",
    "    df['지수적용단가'] = df['단가(만원/㎡)']\n",
    "    df.loc[target_upper_limit_df.index, '지수적용단가'] = target_upper_limit_df['지수적용단가']\n",
    "    df['평가날짜'] = df['계약날짜']\n",
    "    df.loc[target_upper_limit_df.index, '평가날짜'] = pd.to_datetime(last_date[:-2] + '01')\n",
    "    \n",
    "    return df"
   ]
  },
  {
   "cell_type": "code",
   "execution_count": null,
   "metadata": {},
   "outputs": [],
   "source": [
    "target_df = get_index_applied_prices(target_df)\n",
    "print(target_df.shape)\n",
    "target_df.head()"
   ]
  },
  {
   "cell_type": "code",
   "execution_count": null,
   "metadata": {},
   "outputs": [],
   "source": [
    "target_df = target_df.sort_values(['지번주소', '건축년도', '계약날짜']).reset_index(drop=True)\n",
    "target_df1 = target_df[['지번주소', '건물(단지)명', '건물연식', '층', '전용면적(㎡)', '계약날짜', '거래금액(만원)', '단가(만원/㎡)', '평가날짜', '지수적용단가', '부동산유형']]\n",
    "target_df1.to_excel('./국토교통부_실거래가_공개시스템/집값분석/{}_{}_연립다세대_오피스텔_{}/실거래가.xlsx'.format(target_gu, target_dong, date_today_record), index=False)"
   ]
  },
  {
   "cell_type": "code",
   "execution_count": null,
   "metadata": {},
   "outputs": [],
   "source": [
    "target_df1.head()"
   ]
  },
  {
   "cell_type": "code",
   "execution_count": null,
   "metadata": {},
   "outputs": [],
   "source": [
    "target_df1_30 = target_df1[\n",
    "    (target_df1['전용면적(㎡)'] >= 28)\n",
    "    &(target_df1['전용면적(㎡)'] <= 32)\n",
    "]"
   ]
  },
  {
   "cell_type": "code",
   "execution_count": null,
   "metadata": {},
   "outputs": [],
   "source": [
    "target_df1_30.to_excel('./국토교통부_실거래가_공개시스템/집값분석/{}_{}_연립다세대_오피스텔_{}/실거래가_30.xlsx'.format(target_gu, target_dong, date_today_record), index=False)"
   ]
  },
  {
   "cell_type": "code",
   "execution_count": null,
   "metadata": {},
   "outputs": [],
   "source": [
    "font = {'size': 16}\n",
    "matplotlib.rc('font', **font)\n",
    "f, ax = plt.subplots(figsize=(20,10))\n",
    "plt.title('최근 {}개월 {} {} 건물연식 {}년이하 연립다세대 및 오피스텔 매매 실거래 {}건의 전용면적 단가'.format(target_period, target_gu, target_dong, target_building_age, target_df.shape[0]))\n",
    "plt.grid(True)\n",
    "ax.xaxis.update_units(target_df['계약날짜'])\n",
    "sns.regplot(x=ax.xaxis.convert_units(target_df['계약날짜']), y=target_df['단가(만원/㎡)'])\n",
    "plt.savefig('./국토교통부_실거래가_공개시스템/집값분석/{}_{}_연립다세대_오피스텔_{}/산포도.png'.format(target_gu, target_dong, date_today_record))"
   ]
  },
  {
   "cell_type": "code",
   "execution_count": null,
   "metadata": {},
   "outputs": [],
   "source": [
    "target_last_df = target_df.drop_duplicates(subset=['지번주소', '건축년도'], keep='last').reset_index(drop=True)"
   ]
  },
  {
   "cell_type": "code",
   "execution_count": null,
   "metadata": {},
   "outputs": [],
   "source": [
    "font = {'size': 16}\n",
    "matplotlib.rc('font', **font)\n",
    "f, ax = plt.subplots(figsize=(20,10))\n",
    "plt.title('최근 {}개월 {} {} 건물연식 {}년이하 연립다세대 및 오피스텔 매매 실거래 {}건의 전용면적 단가'.format(target_period, target_gu, target_dong, target_building_age, target_last_df.shape[0]))\n",
    "plt.grid(True)\n",
    "ax.xaxis.update_units(target_last_df['계약날짜'])\n",
    "sns.regplot(x=ax.xaxis.convert_units(target_last_df['계약날짜']), y=target_last_df['단가(만원/㎡)'])\n",
    "plt.savefig('./국토교통부_실거래가_공개시스템/집값분석/{}_{}_연립다세대_오피스텔_{}/마지막_산포도.png'.format(target_gu, target_dong, date_today_record))"
   ]
  },
  {
   "cell_type": "code",
   "execution_count": null,
   "metadata": {},
   "outputs": [],
   "source": [
    "target_last_df.to_excel('./국토교통부_실거래가_공개시스템/집값분석/{}_{}_연립다세대_오피스텔_{}/마지막_실거래가.xlsx'.format(target_gu, target_dong, date_today_record), index=False)"
   ]
  },
  {
   "cell_type": "code",
   "execution_count": null,
   "metadata": {},
   "outputs": [],
   "source": [
    "target_df2 = house_df[\n",
    "    (house_df['지번주소'].str.contains(target_gu + ' ' + target_dong))\n",
    "    #&(house_df['동'] == target_dong)\n",
    "    #&(house_merge_df['계약날짜'] >= (date_today - pd.DateOffset(months=target_period)))\n",
    "    &(house_df['계약날짜기준_건물연식'] <= target_building_age)\n",
    "    #&(house_merge_df['용도지역명1'].str.contains(target_purpose))\n",
    "]\n",
    "print(target_df2.shape)\n",
    "target_df2.head()"
   ]
  },
  {
   "cell_type": "code",
   "execution_count": null,
   "metadata": {},
   "outputs": [],
   "source": [
    "target_df2 = get_index_applied_prices(target_df2)"
   ]
  },
  {
   "cell_type": "code",
   "execution_count": null,
   "metadata": {},
   "outputs": [],
   "source": [
    "font = {'size': 12}\n",
    "matplotlib.rc('font', **font)\n",
    "f, ax = plt.subplots(figsize=(12,6))\n",
    "plt.title('{} {} 계약날짜기준 건물연식 {}년이하 연립다세대 및 오피스텔 매매 실거래 {}건의 전용면적 단가'.format(target_gu, target_dong, target_building_age, target_df2.shape[0]))\n",
    "plt.grid(True)\n",
    "sns.histplot(target_df2['단가(만원/㎡)'], kde=True)"
   ]
  },
  {
   "cell_type": "code",
   "execution_count": null,
   "metadata": {},
   "outputs": [],
   "source": [
    "target_df3 = target_df2[['지번주소', '건물(단지)명', '건축년도', '층', '전용면적(㎡)', '계약날짜', '단가(만원/㎡)', '평가날짜', '지수적용단가', '부동산유형']]\n",
    "target_df3 = target_df3.sort_values(['지번주소', '건축년도', '계약날짜']).reset_index(drop=True)\n",
    "target_df3.to_excel('./국토교통부_실거래가_공개시스템/집값분석/{}_{}_연립다세대_오피스텔_{}/지수적용_실거래가.xlsx'.format(target_gu, target_dong, date_today_record), index=False)"
   ]
  },
  {
   "cell_type": "code",
   "execution_count": null,
   "metadata": {},
   "outputs": [],
   "source": [
    "target_df3_30 = target_df3[\n",
    "    (target_df3['전용면적(㎡)'] >= 28)\n",
    "    &(target_df3['전용면적(㎡)'] <= 32)\n",
    "]"
   ]
  },
  {
   "cell_type": "code",
   "execution_count": null,
   "metadata": {},
   "outputs": [],
   "source": [
    "target_df3_30.to_excel('./국토교통부_실거래가_공개시스템/집값분석/{}_{}_연립다세대_오피스텔_{}/지수적용_실거래가_30.xlsx'.format(target_gu, target_dong, date_today_record), index=False)"
   ]
  },
  {
   "cell_type": "code",
   "execution_count": null,
   "metadata": {},
   "outputs": [],
   "source": [
    "concat_df = pd.concat([target_df2])"
   ]
  },
  {
   "cell_type": "code",
   "execution_count": null,
   "metadata": {},
   "outputs": [],
   "source": [
    "concat_df = concat_df.sort_values(['지번주소', '건축년도', '전용면적(㎡)', '계약날짜']).reset_index(drop=True)\n",
    "concat_df = concat_df.drop_duplicates(['지번주소', '건축년도', '전용면적(㎡)'], keep='last').reset_index(drop=True)"
   ]
  },
  {
   "cell_type": "code",
   "execution_count": null,
   "metadata": {},
   "outputs": [],
   "source": [
    "concat_df['단가평균'] = concat_df[['지번주소', '건축년도', '단가(만원/㎡)']].groupby(['지번주소', '건축년도']).transform('mean')['단가(만원/㎡)']\n",
    "concat_df['지수적용단가평균'] = concat_df[['지번주소', '건축년도', '지수적용단가']].groupby(['지번주소', '건축년도']).transform('mean')['지수적용단가']"
   ]
  },
  {
   "cell_type": "code",
   "execution_count": null,
   "metadata": {
    "scrolled": true
   },
   "outputs": [],
   "source": [
    "concat_df = concat_df.sort_values(['지번주소', '건축년도', '평가날짜']).reset_index(drop=True)\n",
    "print(concat_df.shape)\n",
    "concat_df.head()"
   ]
  },
  {
   "cell_type": "code",
   "execution_count": null,
   "metadata": {},
   "outputs": [],
   "source": [
    "concat_last_df = concat_df.drop_duplicates(subset=['지번주소', '건축년도'], keep='last')\n",
    "print(concat_last_df.shape)\n",
    "concat_last_df"
   ]
  },
  {
   "cell_type": "code",
   "execution_count": null,
   "metadata": {},
   "outputs": [],
   "source": [
    "font = {'size': 16}\n",
    "matplotlib.rc('font', **font)\n",
    "f, ax = plt.subplots(figsize=(20,10))\n",
    "plt.title('{} {} 계약날짜기준 건물연식 {}년이하 연립다세대 및 오피스텔 매매 실거래 지번별 {}곳의 전용면적 실거래가격지수 적용후 단가평균'.format(target_gu, target_dong, target_building_age, concat_last_df.shape[0]))\n",
    "plt.grid(True)\n",
    "sns.histplot(concat_last_df['지수적용단가'], kde=True)\n",
    "plt.savefig('./국토교통부_실거래가_공개시스템/집값분석/{}_{}_연립다세대_오피스텔_{}/지번별_분포도.png'.format(target_gu, target_dong, date_today_record))"
   ]
  },
  {
   "cell_type": "code",
   "execution_count": null,
   "metadata": {},
   "outputs": [],
   "source": [
    "concat_last_df = concat_last_df.sort_values(['지번주소']).reset_index(drop=True)"
   ]
  },
  {
   "cell_type": "code",
   "execution_count": null,
   "metadata": {
    "scrolled": true
   },
   "outputs": [],
   "source": [
    "concat_last_df = concat_last_df[['지번주소', '건물(단지)명', '건축년도', '전용면적(㎡)', '층', '계약날짜', '단가(만원/㎡)', '평가날짜', '지수적용단가', '부동산유형']]\n",
    "concat_last_df.rename(columns={'계약날짜':'마지막_계약날짜'}, inplace=True)\n",
    "concat_last_df.head()"
   ]
  },
  {
   "cell_type": "code",
   "execution_count": null,
   "metadata": {},
   "outputs": [],
   "source": [
    "concat_last_df.to_excel('./국토교통부_실거래가_공개시스템/집값분석/{}_{}_연립다세대_오피스텔_{}/지수적용_마지막_실거래가.xlsx'.format(target_gu, target_dong, date_today_record), index=False)"
   ]
  },
  {
   "cell_type": "code",
   "execution_count": null,
   "metadata": {},
   "outputs": [],
   "source": []
  }
 ],
 "metadata": {
  "kernelspec": {
   "display_name": "Python 3",
   "language": "python",
   "name": "python3"
  },
  "language_info": {
   "codemirror_mode": {
    "name": "ipython",
    "version": 3
   },
   "file_extension": ".py",
   "mimetype": "text/x-python",
   "name": "python",
   "nbconvert_exporter": "python",
   "pygments_lexer": "ipython3",
   "version": "3.7.9"
  }
 },
 "nbformat": 4,
 "nbformat_minor": 4
}
