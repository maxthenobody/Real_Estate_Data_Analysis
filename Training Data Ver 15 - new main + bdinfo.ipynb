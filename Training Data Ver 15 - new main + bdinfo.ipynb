{
 "cells": [
  {
   "cell_type": "code",
   "execution_count": 1,
   "metadata": {},
   "outputs": [],
   "source": [
    "import multiprocess as mp\n",
    "import numpy as np\n",
    "import pandas as pd\n",
    "import matplotlib.pyplot as plt\n",
    "import os\n",
    "import math\n",
    "from tqdm import tqdm\n",
    "pd.set_option('display.max_rows', 500)\n",
    "pd.set_option('display.max_columns', 500)\n",
    "import datetime\n",
    "from sklearn.preprocessing import quantile_transform\n",
    "pd.options.mode.chained_assignment = None  # default='warn'\n",
    "import gc"
   ]
  },
  {
   "cell_type": "code",
   "execution_count": 2,
   "metadata": {},
   "outputs": [],
   "source": [
    "basedir = './prepped_data/'"
   ]
  },
  {
   "cell_type": "code",
   "execution_count": 3,
   "metadata": {},
   "outputs": [
    {
     "name": "stdout",
     "output_type": "stream",
     "text": [
      "(4441027, 17)\n",
      "Wall time: 6.59 s\n"
     ]
    },
    {
     "data": {
      "text/html": [
       "<div>\n",
       "<style scoped>\n",
       "    .dataframe tbody tr th:only-of-type {\n",
       "        vertical-align: middle;\n",
       "    }\n",
       "\n",
       "    .dataframe tbody tr th {\n",
       "        vertical-align: top;\n",
       "    }\n",
       "\n",
       "    .dataframe thead th {\n",
       "        text-align: right;\n",
       "    }\n",
       "</style>\n",
       "<table border=\"1\" class=\"dataframe\">\n",
       "  <thead>\n",
       "    <tr style=\"text-align: right;\">\n",
       "      <th></th>\n",
       "      <th>전월세매매구분</th>\n",
       "      <th>전용면적(㎡)</th>\n",
       "      <th>계약일</th>\n",
       "      <th>금액(만원)</th>\n",
       "      <th>층</th>\n",
       "      <th>건축년도</th>\n",
       "      <th>가격/면적</th>\n",
       "      <th>년</th>\n",
       "      <th>월</th>\n",
       "      <th>target_log_transformed</th>\n",
       "      <th>target/area_log_transformed</th>\n",
       "      <th>건물종류</th>\n",
       "      <th>지번주소</th>\n",
       "      <th>도로명주소</th>\n",
       "      <th>X좌표</th>\n",
       "      <th>Y좌표</th>\n",
       "      <th>주택가격지수</th>\n",
       "    </tr>\n",
       "  </thead>\n",
       "  <tbody>\n",
       "    <tr>\n",
       "      <th>0</th>\n",
       "      <td>매매</td>\n",
       "      <td>77.75</td>\n",
       "      <td>8</td>\n",
       "      <td>57000.0</td>\n",
       "      <td>2</td>\n",
       "      <td>1988</td>\n",
       "      <td>733.118971</td>\n",
       "      <td>2013</td>\n",
       "      <td>9</td>\n",
       "      <td>10.950807</td>\n",
       "      <td>6.597308</td>\n",
       "      <td>아파트</td>\n",
       "      <td>서울특별시 강남구 개포동 655-2</td>\n",
       "      <td>서울특별시 강남구 언주로 103-0</td>\n",
       "      <td>960473.743425</td>\n",
       "      <td>1.942553e+06</td>\n",
       "      <td>79.100</td>\n",
       "    </tr>\n",
       "    <tr>\n",
       "      <th>1</th>\n",
       "      <td>매매</td>\n",
       "      <td>77.75</td>\n",
       "      <td>16</td>\n",
       "      <td>57000.0</td>\n",
       "      <td>2</td>\n",
       "      <td>1988</td>\n",
       "      <td>733.118971</td>\n",
       "      <td>2013</td>\n",
       "      <td>12</td>\n",
       "      <td>10.950807</td>\n",
       "      <td>6.597308</td>\n",
       "      <td>아파트</td>\n",
       "      <td>서울특별시 강남구 개포동 655-2</td>\n",
       "      <td>서울특별시 강남구 언주로 103-0</td>\n",
       "      <td>960473.743425</td>\n",
       "      <td>1.942553e+06</td>\n",
       "      <td>79.213</td>\n",
       "    </tr>\n",
       "    <tr>\n",
       "      <th>2</th>\n",
       "      <td>매매</td>\n",
       "      <td>77.75</td>\n",
       "      <td>29</td>\n",
       "      <td>55000.0</td>\n",
       "      <td>7</td>\n",
       "      <td>1988</td>\n",
       "      <td>707.395498</td>\n",
       "      <td>2014</td>\n",
       "      <td>1</td>\n",
       "      <td>10.915088</td>\n",
       "      <td>6.561590</td>\n",
       "      <td>아파트</td>\n",
       "      <td>서울특별시 강남구 개포동 655-2</td>\n",
       "      <td>서울특별시 강남구 언주로 103-0</td>\n",
       "      <td>960473.743425</td>\n",
       "      <td>1.942553e+06</td>\n",
       "      <td>79.451</td>\n",
       "    </tr>\n",
       "    <tr>\n",
       "      <th>3</th>\n",
       "      <td>매매</td>\n",
       "      <td>77.75</td>\n",
       "      <td>10</td>\n",
       "      <td>59500.0</td>\n",
       "      <td>4</td>\n",
       "      <td>1988</td>\n",
       "      <td>765.273312</td>\n",
       "      <td>2014</td>\n",
       "      <td>11</td>\n",
       "      <td>10.993732</td>\n",
       "      <td>6.640233</td>\n",
       "      <td>아파트</td>\n",
       "      <td>서울특별시 강남구 개포동 655-2</td>\n",
       "      <td>서울특별시 강남구 언주로 103-0</td>\n",
       "      <td>960473.743425</td>\n",
       "      <td>1.942553e+06</td>\n",
       "      <td>82.100</td>\n",
       "    </tr>\n",
       "    <tr>\n",
       "      <th>4</th>\n",
       "      <td>매매</td>\n",
       "      <td>77.75</td>\n",
       "      <td>28</td>\n",
       "      <td>75000.0</td>\n",
       "      <td>5</td>\n",
       "      <td>1988</td>\n",
       "      <td>964.630225</td>\n",
       "      <td>2016</td>\n",
       "      <td>3</td>\n",
       "      <td>11.225243</td>\n",
       "      <td>6.871745</td>\n",
       "      <td>아파트</td>\n",
       "      <td>서울특별시 강남구 개포동 655-2</td>\n",
       "      <td>서울특별시 강남구 언주로 103-0</td>\n",
       "      <td>960473.743425</td>\n",
       "      <td>1.942553e+06</td>\n",
       "      <td>89.466</td>\n",
       "    </tr>\n",
       "  </tbody>\n",
       "</table>\n",
       "</div>"
      ],
      "text/plain": [
       "  전월세매매구분  전용면적(㎡)  계약일   금액(만원)  층  건축년도       가격/면적     년   월  \\\n",
       "0      매매    77.75    8  57000.0  2  1988  733.118971  2013   9   \n",
       "1      매매    77.75   16  57000.0  2  1988  733.118971  2013  12   \n",
       "2      매매    77.75   29  55000.0  7  1988  707.395498  2014   1   \n",
       "3      매매    77.75   10  59500.0  4  1988  765.273312  2014  11   \n",
       "4      매매    77.75   28  75000.0  5  1988  964.630225  2016   3   \n",
       "\n",
       "   target_log_transformed  target/area_log_transformed 건물종류  \\\n",
       "0               10.950807                     6.597308  아파트   \n",
       "1               10.950807                     6.597308  아파트   \n",
       "2               10.915088                     6.561590  아파트   \n",
       "3               10.993732                     6.640233  아파트   \n",
       "4               11.225243                     6.871745  아파트   \n",
       "\n",
       "                  지번주소                도로명주소            X좌표           Y좌표  \\\n",
       "0  서울특별시 강남구 개포동 655-2  서울특별시 강남구 언주로 103-0  960473.743425  1.942553e+06   \n",
       "1  서울특별시 강남구 개포동 655-2  서울특별시 강남구 언주로 103-0  960473.743425  1.942553e+06   \n",
       "2  서울특별시 강남구 개포동 655-2  서울특별시 강남구 언주로 103-0  960473.743425  1.942553e+06   \n",
       "3  서울특별시 강남구 개포동 655-2  서울특별시 강남구 언주로 103-0  960473.743425  1.942553e+06   \n",
       "4  서울특별시 강남구 개포동 655-2  서울특별시 강남구 언주로 103-0  960473.743425  1.942553e+06   \n",
       "\n",
       "   주택가격지수  \n",
       "0  79.100  \n",
       "1  79.213  \n",
       "2  79.451  \n",
       "3  82.100  \n",
       "4  89.466  "
      ]
     },
     "execution_count": 3,
     "metadata": {},
     "output_type": "execute_result"
    }
   ],
   "source": [
    "%%time\n",
    "main_data_df = pd.read_csv(basedir + 'main_data_monthly_converted.csv')\n",
    "print(main_data_df.shape)\n",
    "main_data_df.head()"
   ]
  },
  {
   "cell_type": "code",
   "execution_count": 4,
   "metadata": {},
   "outputs": [
    {
     "name": "stdout",
     "output_type": "stream",
     "text": [
      "Wall time: 627 ms\n"
     ]
    },
    {
     "data": {
      "text/plain": [
       "(1594565, 4)"
      ]
     },
     "execution_count": 4,
     "metadata": {},
     "output_type": "execute_result"
    }
   ],
   "source": [
    "%%time\n",
    "land_prices_df = pd.read_csv(basedir + 'land_prices_ver_2.csv')\n",
    "land_prices_df.shape"
   ]
  },
  {
   "cell_type": "code",
   "execution_count": 5,
   "metadata": {},
   "outputs": [
    {
     "name": "stdout",
     "output_type": "stream",
     "text": [
      "Wall time: 1.66 s\n"
     ]
    },
    {
     "data": {
      "text/plain": [
       "(1563645, 11)"
      ]
     },
     "execution_count": 5,
     "metadata": {},
     "output_type": "execute_result"
    }
   ],
   "source": [
    "%%time\n",
    "land_specs_df = pd.read_csv(basedir + 'land_specs_ver_3.csv')\n",
    "land_specs_df.shape"
   ]
  },
  {
   "cell_type": "code",
   "execution_count": 6,
   "metadata": {},
   "outputs": [
    {
     "name": "stderr",
     "output_type": "stream",
     "text": [
      "<string>:2: DtypeWarning: Columns (2,3,4,5,6,7,8,9,10,11,12,13,14,15,16,17,18,19,20,21,22,23,24,25,26,27,28,29,30,31,32,33,34,35,36,37,38,39,40,42,43,44,45,46,47,48,49,50,51,52,53,54,55,56,57,58,59,60,61,62,63,64,65,66,67,68,69,70,71,72,73,74,75,76,77,78,79,80,81,82,83,84,85,86,87,88,89,90,91,92,93,94,95,96,97,98,99,100,101,102,103,104,105,106,107,108,109,110,111,112,113,114,115,116,117,118,119,120,121,122,123,124,125,126,127,128,129,130,131,132,133,134,135,136,137,138,139,140,141,142,143,144,145,146,147,148,149,150,151,152,153,154,155,156,157,158,159,160,161,162,163,164,165,166,167,168,169,170,171,172,173,174,175,176,177,178,179,180,181,182,183,184,185,186,187,188,189,190,191,192,193,194,195,196,197,198,199,200,201,202,203,204,205,206,207,208,209,210,211,212,213,214,215,216,217,218,219,220,221,222,223,224,225,226,227,228,229,230,231,232,233,234,235,236,237,238,239,240,241,242,243,244,245,246,247,248,249,250,251,252,253,254,255,256,257,258,259,260,261,262,263,264,265,266,267,268,269,270,271,272,273,274,275,276,277,278,279,280,281,282,283,284,285,286,287) have mixed types. Specify dtype option on import or set low_memory=False.\n"
     ]
    },
    {
     "name": "stdout",
     "output_type": "stream",
     "text": [
      "Wall time: 29.2 s\n"
     ]
    },
    {
     "data": {
      "text/plain": [
       "(1565190, 288)"
      ]
     },
     "execution_count": 6,
     "metadata": {},
     "output_type": "execute_result"
    }
   ],
   "source": [
    "%%time\n",
    "land_plans_df = pd.read_csv(basedir + 'land_plans_ver_3.csv')\n",
    "land_plans_df.shape"
   ]
  },
  {
   "cell_type": "code",
   "execution_count": 7,
   "metadata": {},
   "outputs": [],
   "source": [
    "land_plans_df.fillna('해당사항없음', inplace=True)"
   ]
  },
  {
   "cell_type": "code",
   "execution_count": 8,
   "metadata": {},
   "outputs": [
    {
     "name": "stdout",
     "output_type": "stream",
     "text": [
      "Wall time: 3.55 s\n"
     ]
    },
    {
     "data": {
      "text/plain": [
       "(1436953, 63)"
      ]
     },
     "execution_count": 8,
     "metadata": {},
     "output_type": "execute_result"
    }
   ],
   "source": [
    "%%time\n",
    "bdinfo_df = pd.read_csv(basedir + 'bdinfo_features_structure_purpose_roof.csv')\n",
    "bdinfo_df.shape"
   ]
  },
  {
   "cell_type": "code",
   "execution_count": 9,
   "metadata": {},
   "outputs": [],
   "source": [
    "main_data_df.rename(columns={'전용면적(㎡)':'전용면적'}, inplace=True)"
   ]
  },
  {
   "cell_type": "code",
   "execution_count": 10,
   "metadata": {},
   "outputs": [
    {
     "name": "stdout",
     "output_type": "stream",
     "text": [
      "Wall time: 1.71 s\n"
     ]
    }
   ],
   "source": [
    "%%time\n",
    "main_data_df['전용면적_mean'] = main_data_df[['지번주소', '건축년도', '전용면적']].groupby(['지번주소', '건축년도']).transform('mean')['전용면적']\n",
    "main_data_df['전용면적_min'] = main_data_df[['지번주소', '건축년도', '전용면적']].groupby(['지번주소', '건축년도']).transform('min')['전용면적']\n",
    "main_data_df['전용면적_max'] = main_data_df[['지번주소', '건축년도', '전용면적']].groupby(['지번주소', '건축년도']).transform('max')['전용면적']"
   ]
  },
  {
   "cell_type": "code",
   "execution_count": 11,
   "metadata": {},
   "outputs": [],
   "source": [
    "main_data_df['가격/면적'] = main_data_df['금액(만원)'] / main_data_df['전용면적']"
   ]
  },
  {
   "cell_type": "code",
   "execution_count": 12,
   "metadata": {},
   "outputs": [
    {
     "data": {
      "text/plain": [
       "count    4.441027e+06\n",
       "mean     1.366252e+01\n",
       "std      9.898723e+00\n",
       "min     -1.200000e+01\n",
       "25%      5.000000e+00\n",
       "50%      1.200000e+01\n",
       "75%      2.000000e+01\n",
       "max      8.900000e+01\n",
       "Name: 건물나이, dtype: float64"
      ]
     },
     "execution_count": 12,
     "metadata": {},
     "output_type": "execute_result"
    }
   ],
   "source": [
    "main_data_df['건물나이'] = main_data_df['년'] - main_data_df['건축년도']\n",
    "main_data_df['건물나이'].describe()"
   ]
  },
  {
   "cell_type": "code",
   "execution_count": 13,
   "metadata": {},
   "outputs": [],
   "source": [
    "main_data_df['year_linear'] = (main_data_df['년'] - main_data_df['년'].min()) + ((main_data_df['월']-1)/12)"
   ]
  },
  {
   "cell_type": "code",
   "execution_count": 14,
   "metadata": {},
   "outputs": [],
   "source": [
    "def month_circular_sine_func(x):\n",
    "    return math.sin(2*math.pi*((x-1)/12))\n",
    "\n",
    "def month_circular_cosine_func(x):\n",
    "    return math.cos(2*math.pi*((x-1)/12))"
   ]
  },
  {
   "cell_type": "code",
   "execution_count": 15,
   "metadata": {},
   "outputs": [],
   "source": [
    "main_data_df['month_sin'] = main_data_df['월'].apply(month_circular_sine_func)\n",
    "main_data_df['month_cos'] = main_data_df['월'].apply(month_circular_cosine_func)"
   ]
  },
  {
   "cell_type": "code",
   "execution_count": 16,
   "metadata": {},
   "outputs": [],
   "source": [
    "main_data_df.drop(columns=['월', '계약일'], inplace=True)"
   ]
  },
  {
   "cell_type": "code",
   "execution_count": 17,
   "metadata": {},
   "outputs": [],
   "source": [
    "xmax = main_data_df['X좌표'].max()\n",
    "xmin = main_data_df['X좌표'].min()\n",
    "ymax = main_data_df['Y좌표'].max()\n",
    "ymin = main_data_df['Y좌표'].min()"
   ]
  },
  {
   "cell_type": "code",
   "execution_count": 18,
   "metadata": {},
   "outputs": [
    {
     "data": {
      "text/html": [
       "<div>\n",
       "<style scoped>\n",
       "    .dataframe tbody tr th:only-of-type {\n",
       "        vertical-align: middle;\n",
       "    }\n",
       "\n",
       "    .dataframe tbody tr th {\n",
       "        vertical-align: top;\n",
       "    }\n",
       "\n",
       "    .dataframe thead th {\n",
       "        text-align: right;\n",
       "    }\n",
       "</style>\n",
       "<table border=\"1\" class=\"dataframe\">\n",
       "  <thead>\n",
       "    <tr style=\"text-align: right;\">\n",
       "      <th></th>\n",
       "      <th>xmax</th>\n",
       "      <th>xmin</th>\n",
       "      <th>ymax</th>\n",
       "      <th>ymin</th>\n",
       "    </tr>\n",
       "  </thead>\n",
       "  <tbody>\n",
       "    <tr>\n",
       "      <th>0</th>\n",
       "      <td>971728.508488</td>\n",
       "      <td>938060.786948</td>\n",
       "      <td>1.965830e+06</td>\n",
       "      <td>1.937374e+06</td>\n",
       "    </tr>\n",
       "  </tbody>\n",
       "</table>\n",
       "</div>"
      ],
      "text/plain": [
       "            xmax           xmin          ymax          ymin\n",
       "0  971728.508488  938060.786948  1.965830e+06  1.937374e+06"
      ]
     },
     "execution_count": 18,
     "metadata": {},
     "output_type": "execute_result"
    }
   ],
   "source": [
    "coor_minmax_df = pd.DataFrame({'xmax':xmax, 'xmin':xmin, 'ymax':ymax, 'ymin':ymin}, index=[0])\n",
    "coor_minmax_df.to_csv('./Training/training_data_ver_14/coor_minmax.csv', index=False)\n",
    "coor_minmax_df"
   ]
  },
  {
   "cell_type": "code",
   "execution_count": null,
   "metadata": {},
   "outputs": [],
   "source": [
    "main_data_df['xnorm'] = (main_data_df['X좌표'] - xmin - ((xmax - xmin)/2))\n",
    "main_data_df['ynorm'] = (main_data_df['Y좌표'] - ymin - ((ymax - ymin)/2))\n",
    "main_data_df['x_2nd'] = main_data_df['xnorm']**2 / 2\n",
    "main_data_df['y_2nd'] = main_data_df['ynorm']**2 / 2\n",
    "main_data_df['x_sin'] = main_data_df['xnorm'].apply(np.sin)\n",
    "main_data_df['y_sin'] = main_data_df['ynorm'].apply(np.sin)\n",
    "main_data_df['x_cos'] = main_data_df['xnorm'].apply(np.cos)\n",
    "main_data_df['y_cos'] = main_data_df['ynorm'].apply(np.cos)\n",
    "main_data_df['xy'] = main_data_df['xnorm'] * main_data_df['ynorm']"
   ]
  },
  {
   "cell_type": "code",
   "execution_count": null,
   "metadata": {},
   "outputs": [],
   "source": [
    "main_data_df.drop(columns=['X좌표', 'Y좌표'], inplace=True)"
   ]
  },
  {
   "cell_type": "code",
   "execution_count": null,
   "metadata": {},
   "outputs": [],
   "source": [
    "main_data_df['trade_type'] = main_data_df['건물종류'] + '_' + main_data_df['전월세매매구분']\n",
    "main_data_df.drop(columns=['건물종류', '전월세매매구분'], inplace=True)"
   ]
  },
  {
   "cell_type": "code",
   "execution_count": null,
   "metadata": {},
   "outputs": [],
   "source": [
    "merge1_df = main_data_df.merge(land_prices_df, on=['지번주소', '년'])\n",
    "merge1_df.shape"
   ]
  },
  {
   "cell_type": "code",
   "execution_count": null,
   "metadata": {},
   "outputs": [],
   "source": [
    "merge1_df['공시지가'] = merge1_df['공시지가'] / 10000\n",
    "merge1_df.rename(columns={'공시지가':'공시지가(만원)'}, inplace=True)"
   ]
  },
  {
   "cell_type": "code",
   "execution_count": null,
   "metadata": {},
   "outputs": [],
   "source": [
    "bdinfo_df.drop(columns=['사용승인년도'], inplace=True)\n",
    "bdinfo_df.rename(columns={'기준년도':'년'}, inplace=True)"
   ]
  },
  {
   "cell_type": "code",
   "execution_count": null,
   "metadata": {},
   "outputs": [],
   "source": [
    "merge1_df.shape"
   ]
  },
  {
   "cell_type": "code",
   "execution_count": null,
   "metadata": {},
   "outputs": [],
   "source": [
    "merge2_df = merge1_df.merge(bdinfo_df, on=['지번주소', '년'])\n",
    "merge2_df.shape"
   ]
  },
  {
   "cell_type": "code",
   "execution_count": null,
   "metadata": {},
   "outputs": [],
   "source": [
    "%%time\n",
    "bdinfo2_df = pd.read_csv(basedir + 'extracted_building_features.csv')\n",
    "print(bdinfo2_df.shape)\n",
    "bdinfo2_df.head()"
   ]
  },
  {
   "cell_type": "code",
   "execution_count": null,
   "metadata": {},
   "outputs": [],
   "source": [
    "bdinfo2_df = bdinfo2_df[['지번주소', '기준년도'] + [col for col in bdinfo2_df.columns if '층' in col]]\n",
    "print(bdinfo2_df.shape)\n",
    "bdinfo2_df.head()"
   ]
  },
  {
   "cell_type": "code",
   "execution_count": null,
   "metadata": {},
   "outputs": [],
   "source": [
    "bdinfo2_df.rename(columns={'기준년도':'년'}, inplace=True)"
   ]
  },
  {
   "cell_type": "code",
   "execution_count": null,
   "metadata": {},
   "outputs": [],
   "source": [
    "merge2_df = merge2_df.merge(bdinfo2_df, on=['지번주소', '년'])\n",
    "print(merge2_df.shape)"
   ]
  },
  {
   "cell_type": "code",
   "execution_count": null,
   "metadata": {},
   "outputs": [],
   "source": [
    "merge2_df['층'] = merge2_df['층'].apply(lambda x: -1 if x < 0 else x)"
   ]
  },
  {
   "cell_type": "code",
   "execution_count": null,
   "metadata": {},
   "outputs": [],
   "source": [
    "merge2_df['최고층-층'] = merge2_df['층max'] - merge2_df['층']\n",
    "merge2_df['최고층-층'].describe()"
   ]
  },
  {
   "cell_type": "code",
   "execution_count": null,
   "metadata": {},
   "outputs": [],
   "source": [
    "negative_df = merge2_df[merge2_df['최고층-층'] < 0]\n",
    "negative_df.shape"
   ]
  },
  {
   "cell_type": "code",
   "execution_count": null,
   "metadata": {},
   "outputs": [],
   "source": [
    "negative_df['지번주소'].nunique()"
   ]
  },
  {
   "cell_type": "code",
   "execution_count": null,
   "metadata": {},
   "outputs": [],
   "source": [
    "idx_to_drop = []\n",
    "for addr in tqdm(negative_df['지번주소'].unique()):\n",
    "    addr_df = merge2_df[merge2_df['지번주소'] == addr]\n",
    "    addr2_df = negative_df[negative_df['지번주소'] == addr]\n",
    "    min_year = addr2_df['년'].min()\n",
    "    df_to_drop = addr_df[addr_df['년'] >= min_year]\n",
    "    for idx in df_to_drop.index:\n",
    "        idx_to_drop.append(idx)"
   ]
  },
  {
   "cell_type": "code",
   "execution_count": null,
   "metadata": {},
   "outputs": [],
   "source": [
    "len(list(set(idx_to_drop)))"
   ]
  },
  {
   "cell_type": "code",
   "execution_count": null,
   "metadata": {},
   "outputs": [],
   "source": [
    "merge2_df.drop(idx_to_drop, inplace=True)"
   ]
  },
  {
   "cell_type": "code",
   "execution_count": null,
   "metadata": {},
   "outputs": [],
   "source": [
    "merge2_df.shape"
   ]
  },
  {
   "cell_type": "code",
   "execution_count": null,
   "metadata": {},
   "outputs": [],
   "source": [
    "merge2_df['층norm'] = merge2_df['층'] / merge2_df['층max']"
   ]
  },
  {
   "cell_type": "code",
   "execution_count": null,
   "metadata": {},
   "outputs": [],
   "source": [
    "merge2_df['층norm'].describe()"
   ]
  },
  {
   "cell_type": "code",
   "execution_count": null,
   "metadata": {},
   "outputs": [],
   "source": [
    "merge2_df.drop(columns=['최고층-층'], inplace=True)"
   ]
  },
  {
   "cell_type": "code",
   "execution_count": null,
   "metadata": {},
   "outputs": [],
   "source": [
    "merge2_df['지하세대있음'] = merge2_df['층'].apply(lambda x: 1 if x < 0 else 0)\n",
    "merge2_df['지하세대있음'].value_counts()"
   ]
  },
  {
   "cell_type": "code",
   "execution_count": null,
   "metadata": {},
   "outputs": [],
   "source": [
    "cols = [col for col in land_specs_df.columns if col != '공시지가']\n",
    "cols"
   ]
  },
  {
   "cell_type": "code",
   "execution_count": null,
   "metadata": {},
   "outputs": [],
   "source": [
    "merge2_df = merge2_df.merge(land_specs_df[cols], on=['지번주소', '년'])\n",
    "merge2_df.shape"
   ]
  },
  {
   "cell_type": "code",
   "execution_count": null,
   "metadata": {},
   "outputs": [],
   "source": [
    "merge2_df['토지면적'].describe()"
   ]
  },
  {
   "cell_type": "code",
   "execution_count": null,
   "metadata": {},
   "outputs": [],
   "source": [
    "merge3_df = merge2_df.merge(land_plans_df, on=['지번주소', '년'])\n",
    "merge3_df.shape"
   ]
  },
  {
   "cell_type": "code",
   "execution_count": null,
   "metadata": {},
   "outputs": [],
   "source": [
    "merge3_df.columns = [col.replace(':','').replace('/','').replace('\\\\','').replace('*','').replace('?','').replace('\\\"','')\\\n",
    "                     .replace('|','').replace('<','').replace('>','').replace('ㆍ','_').replace(' ','_') for col in merge3_df.columns]"
   ]
  },
  {
   "cell_type": "code",
   "execution_count": null,
   "metadata": {},
   "outputs": [],
   "source": [
    "land_plans_df.columns = [col.replace(':','').replace('/','').replace('\\\\','').replace('*','').replace('?','').replace('\\\"','')\\\n",
    "                     .replace('|','').replace('<','').replace('>','').replace('ㆍ','_').replace(' ','_') for col in land_plans_df.columns]"
   ]
  },
  {
   "cell_type": "code",
   "execution_count": null,
   "metadata": {},
   "outputs": [],
   "source": [
    "lp_catcols = land_plans_df.columns.tolist()[2:]\n",
    "lp_catcols[:5]"
   ]
  },
  {
   "cell_type": "code",
   "execution_count": null,
   "metadata": {},
   "outputs": [],
   "source": [
    "ls_catcols = [col for col in cols if col not in ['지번주소', '년', '토지면적']]\n",
    "ls_catcols"
   ]
  },
  {
   "cell_type": "code",
   "execution_count": null,
   "metadata": {},
   "outputs": [],
   "source": [
    "merge3_df.drop(columns=['전용면적'], inplace=True)"
   ]
  },
  {
   "cell_type": "code",
   "execution_count": null,
   "metadata": {},
   "outputs": [],
   "source": [
    "merge3_df['토지면적'] = merge3_df['토지면적'].apply(np.log1p)"
   ]
  },
  {
   "cell_type": "code",
   "execution_count": null,
   "metadata": {},
   "outputs": [],
   "source": [
    "merge3_df.drop(columns=['년'], inplace=True)"
   ]
  },
  {
   "cell_type": "code",
   "execution_count": null,
   "metadata": {},
   "outputs": [],
   "source": [
    "def building_age_feature_engi(x):\n",
    "    # x is a number\n",
    "    \n",
    "    if pd.isna(x) == True:\n",
    "        return x\n",
    "    else:\n",
    "        \n",
    "        if x < 0:\n",
    "            return '건축전계약'\n",
    "        elif x < 5:\n",
    "            return '5년미만'\n",
    "        elif x < 10:\n",
    "            return '10년미만'\n",
    "        elif x < 15:\n",
    "            return '15년미만'\n",
    "        elif x < 20:\n",
    "            return '20년미만'\n",
    "        elif x < 30:\n",
    "            return '30년미만'\n",
    "        elif x < 40:\n",
    "            return '40년미만'\n",
    "        else:\n",
    "            return '40년이상'"
   ]
  },
  {
   "cell_type": "code",
   "execution_count": null,
   "metadata": {},
   "outputs": [],
   "source": [
    "merge3_df = merge3_df[merge3_df['건물나이'] >= 0]\n",
    "merge3_df.shape"
   ]
  },
  {
   "cell_type": "code",
   "execution_count": null,
   "metadata": {},
   "outputs": [],
   "source": [
    "merge3_df['건물나이'] = merge3_df['건물나이'].apply(building_age_feature_engi)\n",
    "merge3_df['건물나이'].value_counts()"
   ]
  },
  {
   "cell_type": "code",
   "execution_count": null,
   "metadata": {},
   "outputs": [],
   "source": [
    "merge3_df.drop(columns=['도로명주소'], inplace=True)"
   ]
  },
  {
   "cell_type": "code",
   "execution_count": null,
   "metadata": {},
   "outputs": [],
   "source": [
    "cat_cols = ['trade_type', '표준지여부', '건물나이'] + ls_catcols + lp_catcols"
   ]
  },
  {
   "cell_type": "code",
   "execution_count": null,
   "metadata": {},
   "outputs": [],
   "source": [
    "for col in tqdm(cat_cols):\n",
    "    col_map = {}\n",
    "    col_map_df = pd.DataFrame({'cat':merge3_df[col].unique(),'map':[i for i in range(len(merge3_df[col].unique()))]})\n",
    "    for i in range(col_map_df.shape[0]):\n",
    "        col_map[col_map_df['cat'][i]] = col_map_df['map'][i]\n",
    "    merge3_df[col] = merge3_df[col].map(col_map)\n",
    "    col_map_df.to_csv('./Training/training_data_ver_15/feature_maps/{}_map.csv'.format(col))"
   ]
  },
  {
   "cell_type": "code",
   "execution_count": null,
   "metadata": {},
   "outputs": [],
   "source": [
    "cat_cols_df = pd.DataFrame({'colname':cat_cols})\n",
    "cat_cols_df.head()"
   ]
  },
  {
   "cell_type": "code",
   "execution_count": null,
   "metadata": {},
   "outputs": [],
   "source": [
    "cat_cols_df.to_csv('./Training/training_data_ver_15/cat_cols.csv', index=False)"
   ]
  },
  {
   "cell_type": "code",
   "execution_count": null,
   "metadata": {},
   "outputs": [],
   "source": [
    "cols_to_drop = []\n",
    "for col in tqdm(merge3_df.columns):\n",
    "    try:\n",
    "        if merge3_df[col].std() == 0:\n",
    "            cols_to_drop.append(col)\n",
    "        else:\n",
    "            pass\n",
    "    except:\n",
    "        pass"
   ]
  },
  {
   "cell_type": "code",
   "execution_count": null,
   "metadata": {},
   "outputs": [],
   "source": [
    "len(cols_to_drop)"
   ]
  },
  {
   "cell_type": "code",
   "execution_count": null,
   "metadata": {},
   "outputs": [],
   "source": [
    "cols_to_drop"
   ]
  },
  {
   "cell_type": "code",
   "execution_count": null,
   "metadata": {},
   "outputs": [],
   "source": [
    "merge3_df.drop(columns=cols_to_drop, inplace=True)"
   ]
  },
  {
   "cell_type": "code",
   "execution_count": null,
   "metadata": {},
   "outputs": [],
   "source": [
    "%%time\n",
    "merge3_df.to_csv('./Training/training_data_ver_15/training_data_ver_15.csv', index=False)"
   ]
  },
  {
   "cell_type": "code",
   "execution_count": null,
   "metadata": {},
   "outputs": [],
   "source": [
    "merge3_df.shape"
   ]
  },
  {
   "cell_type": "code",
   "execution_count": null,
   "metadata": {},
   "outputs": [],
   "source": []
  }
 ],
 "metadata": {
  "kernelspec": {
   "display_name": "Python 3",
   "language": "python",
   "name": "python3"
  },
  "language_info": {
   "codemirror_mode": {
    "name": "ipython",
    "version": 3
   },
   "file_extension": ".py",
   "mimetype": "text/x-python",
   "name": "python",
   "nbconvert_exporter": "python",
   "pygments_lexer": "ipython3",
   "version": "3.7.9"
  }
 },
 "nbformat": 4,
 "nbformat_minor": 4
}
