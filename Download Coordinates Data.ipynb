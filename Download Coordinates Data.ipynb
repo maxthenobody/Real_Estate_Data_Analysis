{
 "cells": [
  {
   "cell_type": "code",
   "execution_count": null,
   "metadata": {},
   "outputs": [],
   "source": [
    "import numpy as np\n",
    "import pandas as pd\n",
    "import matplotlib.pyplot as plt\n",
    "import os\n",
    "import math\n",
    "from tqdm import tqdm\n",
    "import requests\n",
    "from urllib.parse import urlparse\n",
    "pd.set_option('display.max_rows', 500)\n",
    "pd.set_option('display.max_columns', 500)\n",
    "import datetime\n",
    "from sklearn.preprocessing import quantile_transform\n",
    "pd.options.mode.chained_assignment = None  # default='warn'"
   ]
  },
  {
   "cell_type": "code",
   "execution_count": 5,
   "metadata": {},
   "outputs": [],
   "source": [
    "addr_df = pd.read_csv('addr_to_download.csv')"
   ]
  },
  {
   "cell_type": "markdown",
   "metadata": {},
   "source": [
    "# Selecting addresses in main data that are not in coordinates data"
   ]
  },
  {
   "cell_type": "code",
   "execution_count": null,
   "metadata": {},
   "outputs": [],
   "source": [
    "def select_addr_not_in_coor_data(temp_main_data_df, temp_landnum_coor_df, temp_roadname_coor_df):\n",
    "    #\n",
    "    temp_main_data_df = temp_main_data_df.copy()\n",
    "    temp_landnum_coor_df = temp_landnum_coor_df.copy()\n",
    "    temp_roadname_coor_df = temp_roadname_coor_df.copy()\n",
    "    \n",
    "    addr_df = temp_main_data_df[['지번주소', '도로명주소']]\n",
    "    \n",
    "    unique_landnum_coor_addr = temp_landnum_coor_df['지번주소'].unique()\n",
    "    unique_roadname_coor_addr = temp_roadname_coor_df['도로명주소'].unique()\n",
    "    \n",
    "    addr_not_in_coor_data_df = addr_df[(addr_df['지번주소'].isin(unique_landnum_coor_addr) == False) &\n",
    "                                       (addr_df['도로명주소'].isin(unique_roadname_coor_addr) == False)]\n",
    "    \n",
    "    return addr_not_in_coor_data_df.drop_duplicates()"
   ]
  },
  {
   "cell_type": "code",
   "execution_count": null,
   "metadata": {},
   "outputs": [],
   "source": [
    "%%time\n",
    "addr_not_in_coor_data_df = select_addr_not_in_coor_data(main_data_df, landnum_coor_df, roadname_coor_df)"
   ]
  },
  {
   "cell_type": "code",
   "execution_count": null,
   "metadata": {},
   "outputs": [],
   "source": [
    "# select addresses to download\n",
    "\n",
    "def select_addr_to_download(df):\n",
    "    df = df.copy()\n",
    "    \n",
    "    unique_landnum_addrs = df['지번주소'].unique()\n",
    "    \n",
    "    addr_to_download_list = []\n",
    "    \n",
    "    for addr in tqdm(unique_landnum_addrs, position=0):\n",
    "        addr_df = df[df['지번주소'] == addr]      \n",
    "        for rdname_addr in addr_df['도로명주소'].unique():\n",
    "            addr_to_download_list.append(rdname_addr)\n",
    "        if addr_df['도로명주소'].isna().sum() > 0:\n",
    "            addr_to_download_list.append(addr)\n",
    "    \n",
    "    null_landnum_df = df[df['지번주소'].isna()]\n",
    "    \n",
    "    for addr in null_landnum_df['도로명주소'].unique():\n",
    "        addr_to_download_list.append(addr)\n",
    "    \n",
    "    # remove duplicates\n",
    "    no_duplicates_list = []\n",
    "    for v in addr_to_download_list:\n",
    "        if (v not in no_duplicates_list) & (pd.isnull(v) == False):\n",
    "            no_duplicates_list.append(v)\n",
    "    \n",
    "    return no_duplicates_list"
   ]
  },
  {
   "cell_type": "code",
   "execution_count": null,
   "metadata": {},
   "outputs": [],
   "source": [
    "my_addr_to_download = select_addr_to_download(addr_not_in_coor_data_df)"
   ]
  },
  {
   "cell_type": "code",
   "execution_count": null,
   "metadata": {},
   "outputs": [],
   "source": [
    "#addr_to_download_df = pd.DataFrame({'주소':my_addr_to_download})\n",
    "#addr_to_download_df.to_csv('addr_to_download.csv')"
   ]
  },
  {
   "cell_type": "code",
   "execution_count": null,
   "metadata": {},
   "outputs": [],
   "source": []
  },
  {
   "cell_type": "code",
   "execution_count": null,
   "metadata": {},
   "outputs": [],
   "source": []
  },
  {
   "cell_type": "code",
   "execution_count": 6,
   "metadata": {},
   "outputs": [],
   "source": [
    "# download coordinates from an open api\n",
    "\n",
    "def fetch_coor_data(df):\n",
    "    df = df.copy()\n",
    "    \n",
    "    unique_addresses = df['주소'].unique()\n",
    "    roadname_url = 'https://www.juso.go.kr/addrlink/addrLinkApi.do?'\n",
    "    roadname_apikey = 'devU01TX0FVVEgyMDIwMTIwNzEyNTE1OTExMDUxMTk='\n",
    "    coor_base_url = 'https://www.juso.go.kr/addrlink/addrCoordApi.do?'\n",
    "    coor_apikey = 'devU01TX0FVVEgyMDIwMTIwNDE3NDIyNDExMDUwNTc='\n",
    "    #apikey 만료시 https://www.juso.go.kr/addrlink/devAddrLinkRequestWrite.do?returnFn=write&cntcMenu=URL 가서 새로 받을 것.\n",
    "    \n",
    "    addr_list = []\n",
    "    coor_x_list = []\n",
    "    coor_y_list = []\n",
    "    \n",
    "    count = 0\n",
    "    \n",
    "    for address in tqdm(unique_addresses, position=0):        \n",
    "        try:\n",
    "            roadname_result = requests.get(roadname_url + 'confmKey=' + roadname_apikey + '&currentPage=1' + '&countPerPage=1' + '&keyword=' \\\n",
    "                                           + address + '&resultType=json' + '&hstryYn=Y')\n",
    "            roadname_info = roadname_result.json()['results']['juso'][0]\n",
    "\n",
    "            coor_result = requests.get(coor_base_url + 'confmKey=' + coor_apikey + '&admCd=' + roadname_info['admCd'] + '&rnMgtSn='\\\n",
    "                                       + roadname_info['rnMgtSn'] + '&udrtYn=' + roadname_info['udrtYn'] + '&buldMnnm='\\\n",
    "                                       + roadname_info['buldMnnm'] + '&buldSlno=' + roadname_info['buldSlno'] +'&resultType=json')\n",
    "            coor_info = coor_result.json()['results']['juso'][0]\n",
    "\n",
    "            coor_x = pd.to_numeric(coor_info['entX'])\n",
    "            coor_y = pd.to_numeric(coor_info['entY'])\n",
    "\n",
    "            addr_list.append(address)\n",
    "            coor_x_list.append(coor_x)\n",
    "            coor_y_list.append(coor_y)\n",
    "        except:\n",
    "            if address.endswith('-1'):\n",
    "                pass\n",
    "            else:\n",
    "                try:\n",
    "                    address = address.replace('-0', '')\n",
    "                    \n",
    "                    roadname_result = requests.get(roadname_url + 'confmKey=' + roadname_apikey + '&currentPage=1' + '&countPerPage=1' \n",
    "                                                   + '&keyword=' + address + '&resultType=json' + '&hstryYn=Y')\n",
    "                    roadname_info = roadname_result.json()['results']['juso'][0]\n",
    "\n",
    "                    coor_result = requests.get(coor_base_url + 'confmKey=' + coor_apikey + '&admCd=' + roadname_info['admCd'] + '&rnMgtSn='\\\n",
    "                                               + roadname_info['rnMgtSn'] + '&udrtYn=' + roadname_info['udrtYn'] + '&buldMnnm='\\\n",
    "                                               + roadname_info['buldMnnm'] + '&buldSlno=' + roadname_info['buldSlno'] +'&resultType=json')\n",
    "                    coor_info = coor_result.json()['results']['juso'][0]\n",
    "\n",
    "                    coor_x = pd.to_numeric(coor_info['entX'])\n",
    "                    coor_y = pd.to_numeric(coor_info['entY'])\n",
    "\n",
    "                    addr_list.append(address)\n",
    "                    coor_x_list.append(coor_x)\n",
    "                    coor_y_list.append(coor_y)\n",
    "\n",
    "                except:\n",
    "                    pass\n",
    "            \n",
    "        \n",
    "        '''count += 1\n",
    "        \n",
    "        if (count % np.floor(len(unique_addresses)/10)) == 0:\n",
    "            coor_dict = {'전체주소': addr_list, 'x좌표': coor_x_list, 'y좌표': coor_y_list}\n",
    "            coor_df = pd.DataFrame(coor_dict)\n",
    "            coor_df.to_csv('original_coordinates_data{}.csv'.format(datetime.datetime.now()))'''\n",
    "            \n",
    "            \n",
    "        \n",
    "    coor_dict = {'전체주소': addr_list, 'x좌표': coor_x_list, 'y좌표': coor_y_list}    \n",
    "    coor_df = pd.DataFrame(coor_dict)    \n",
    "    coor_df.to_csv('coordinates_data{}.csv'.format(pd.datetime.today().strftime('%y%m%d-%H%M%S')))\n",
    "    \n",
    "    return coor_df"
   ]
  },
  {
   "cell_type": "code",
   "execution_count": 7,
   "metadata": {},
   "outputs": [
    {
     "name": "stderr",
     "output_type": "stream",
     "text": [
      "100%|██████████████████████████████████████████████████████████████████████████████| 3931/3931 [27:31<00:00,  2.38it/s]\n",
      "C:\\Users\\나\\AppData\\Roaming\\Python\\Python37\\site-packages\\ipykernel_launcher.py:74: FutureWarning: The pandas.datetime class is deprecated and will be removed from pandas in a future version. Import from datetime module instead.\n"
     ]
    }
   ],
   "source": [
    "my_coor_df = fetch_coor_data(addr_df)"
   ]
  },
  {
   "cell_type": "code",
   "execution_count": null,
   "metadata": {},
   "outputs": [],
   "source": []
  }
 ],
 "metadata": {
  "kernelspec": {
   "display_name": "Python 3",
   "language": "python",
   "name": "python3"
  },
  "language_info": {
   "codemirror_mode": {
    "name": "ipython",
    "version": 3
   },
   "file_extension": ".py",
   "mimetype": "text/x-python",
   "name": "python",
   "nbconvert_exporter": "python",
   "pygments_lexer": "ipython3",
   "version": "3.7.9"
  }
 },
 "nbformat": 4,
 "nbformat_minor": 4
}
