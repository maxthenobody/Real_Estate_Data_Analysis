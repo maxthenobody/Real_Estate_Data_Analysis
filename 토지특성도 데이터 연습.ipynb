{
 "cells": [
  {
   "cell_type": "code",
   "execution_count": 1,
   "metadata": {},
   "outputs": [],
   "source": [
    "import pandas as pd\n",
    "import numpy as np\n",
    "import shapefile\n",
    "import os\n",
    "import seaborn as sns"
   ]
  },
  {
   "cell_type": "code",
   "execution_count": 2,
   "metadata": {
    "scrolled": true
   },
   "outputs": [
    {
     "data": {
      "text/plain": [
       "['376081535.shp',\n",
       " '376081536.shp',\n",
       " '376081572.shp',\n",
       " '376081574.shp',\n",
       " '376081575.shp',\n",
       " '376081576.shp',\n",
       " '376081577.shp',\n",
       " '376081581.shp',\n",
       " '376081582.shp',\n",
       " '376081583.shp',\n",
       " '376081584.shp',\n",
       " '376081585.shp',\n",
       " '376081586.shp',\n",
       " '376081587.shp',\n",
       " '376081588.shp',\n",
       " '376081591.shp',\n",
       " '376081592.shp',\n",
       " '376081593.shp',\n",
       " '376081594.shp',\n",
       " '376081595.shp',\n",
       " '376081596.shp',\n",
       " '376081597.shp',\n",
       " '376081598.shp',\n",
       " '376082019.shp',\n",
       " '376082020.shp',\n",
       " '376082029.shp',\n",
       " '376082030.shp',\n",
       " '376082039.shp',\n",
       " '376082040.shp',\n",
       " '376082041.shp',\n",
       " '376082049.shp',\n",
       " '376082050.shp',\n",
       " '376082059.shp',\n",
       " '376082060.shp',\n",
       " '376082063.shp',\n",
       " '376082064.shp',\n",
       " '376082065.shp',\n",
       " '376082066.shp',\n",
       " '376082067.shp',\n",
       " '376082068.shp',\n",
       " '376082069.shp',\n",
       " '376082070.shp',\n",
       " '377051611.shp',\n",
       " '377051621.shp',\n",
       " '377051622.shp',\n",
       " '377051631.shp',\n",
       " '377051632.shp',\n",
       " '377051633.shp',\n",
       " '377051634.shp',\n",
       " '377051641.shp',\n",
       " '377051642.shp',\n",
       " '377051643.shp',\n",
       " '377051644.shp',\n",
       " '377051645.shp',\n",
       " '377051651.shp',\n",
       " '377051652.shp',\n",
       " '377051653.shp',\n",
       " '377051654.shp',\n",
       " '377051655.shp',\n",
       " '377051661.shp',\n",
       " '377051662.shp',\n",
       " '377051663.shp',\n",
       " '377051664.shp']"
      ]
     },
     "execution_count": 2,
     "metadata": {},
     "output_type": "execute_result"
    }
   ],
   "source": [
    "basedir = './SHPfiles/NGII_LCM_1000_서울_종로구/'\n",
    "filenames = [f for f in os.listdir(basedir) if f.endswith('.shp')]\n",
    "filenames"
   ]
  },
  {
   "cell_type": "code",
   "execution_count": 3,
   "metadata": {},
   "outputs": [],
   "source": [
    "sf = shapefile.Reader(basedir + filenames[0])"
   ]
  },
  {
   "cell_type": "code",
   "execution_count": 4,
   "metadata": {},
   "outputs": [
    {
     "data": {
      "text/plain": [
       "5"
      ]
     },
     "execution_count": 4,
     "metadata": {},
     "output_type": "execute_result"
    }
   ],
   "source": [
    "sf.shapeType"
   ]
  },
  {
   "cell_type": "code",
   "execution_count": 5,
   "metadata": {},
   "outputs": [
    {
     "data": {
      "text/plain": [
       "True"
      ]
     },
     "execution_count": 5,
     "metadata": {},
     "output_type": "execute_result"
    }
   ],
   "source": [
    "sf.shapeType == shapefile.POLYGON"
   ]
  },
  {
   "cell_type": "code",
   "execution_count": 6,
   "metadata": {},
   "outputs": [
    {
     "data": {
      "text/plain": [
       "1"
      ]
     },
     "execution_count": 6,
     "metadata": {},
     "output_type": "execute_result"
    }
   ],
   "source": [
    "len(sf)"
   ]
  },
  {
   "cell_type": "code",
   "execution_count": 7,
   "metadata": {},
   "outputs": [],
   "source": [
    "shapes = sf.shapes()"
   ]
  },
  {
   "cell_type": "code",
   "execution_count": 8,
   "metadata": {},
   "outputs": [
    {
     "data": {
      "text/plain": [
       "1"
      ]
     },
     "execution_count": 8,
     "metadata": {},
     "output_type": "execute_result"
    }
   ],
   "source": [
    "len(shapes)"
   ]
  },
  {
   "cell_type": "code",
   "execution_count": 11,
   "metadata": {},
   "outputs": [
    {
     "name": "stdout",
     "output_type": "stream",
     "text": [
      "bbox\n",
      "parts\n",
      "points\n",
      "shapeType\n",
      "shapeTypeName\n"
     ]
    }
   ],
   "source": [
    "for name in dir(shapes[0]):\n",
    "     if not name.startswith('_'):\n",
    "            print(name)"
   ]
  },
  {
   "cell_type": "code",
   "execution_count": 12,
   "metadata": {},
   "outputs": [],
   "source": [
    "fields = sf.fields"
   ]
  },
  {
   "cell_type": "code",
   "execution_count": 13,
   "metadata": {},
   "outputs": [
    {
     "data": {
      "text/plain": [
       "[('DeletionFlag', 'C', 1, 0),\n",
       " ['UEE', 'C', 10, 0],\n",
       " ['UEC', 'C', 10, 0],\n",
       " ['PNU', 'C', 9, 0],\n",
       " ['UAA', 'C', 3, 0],\n",
       " ['ARA', 'N', 8, 0],\n",
       " ['UCA', 'C', 3, 0],\n",
       " ['STM', 'C', 5, 0]]"
      ]
     },
     "execution_count": 13,
     "metadata": {},
     "output_type": "execute_result"
    }
   ],
   "source": [
    "fields"
   ]
  }
 ],
 "metadata": {
  "kernelspec": {
   "display_name": "Python 3",
   "language": "python",
   "name": "python3"
  },
  "language_info": {
   "codemirror_mode": {
    "name": "ipython",
    "version": 3
   },
   "file_extension": ".py",
   "mimetype": "text/x-python",
   "name": "python",
   "nbconvert_exporter": "python",
   "pygments_lexer": "ipython3",
   "version": "3.7.9"
  }
 },
 "nbformat": 4,
 "nbformat_minor": 4
}
