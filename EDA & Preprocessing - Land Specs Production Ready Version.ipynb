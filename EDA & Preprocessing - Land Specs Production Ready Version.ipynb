{
 "cells": [
  {
   "cell_type": "code",
   "execution_count": 1,
   "metadata": {},
   "outputs": [],
   "source": [
    "import multiprocessing as mp\n",
    "import numpy as np\n",
    "import pandas as pd\n",
    "import matplotlib.pyplot as plt\n",
    "import os\n",
    "import math\n",
    "from tqdm import tqdm\n",
    "pd.set_option('display.max_rows', 500)\n",
    "pd.set_option('display.max_columns', 500)\n",
    "import datetime\n",
    "from sklearn.preprocessing import quantile_transform\n",
    "pd.options.mode.chained_assignment = None  # default='warn'\n",
    "import gc"
   ]
  },
  {
   "cell_type": "code",
   "execution_count": 2,
   "metadata": {},
   "outputs": [
    {
     "name": "stderr",
     "output_type": "stream",
     "text": [
      "c:\\users\\max6296\\ml\\lib\\site-packages\\IPython\\core\\interactiveshell.py:3147: DtypeWarning: Columns (0) have mixed types. Specify dtype option on import or set low_memory=False.\n",
      "  interactivity=interactivity, compiler=compiler, result=result)\n"
     ]
    }
   ],
   "source": [
    "land_specs_df = pd.read_csv('./토지특성정보/AL_11_D195_20200925.csv', encoding='euc-kr')"
   ]
  },
  {
   "cell_type": "code",
   "execution_count": 3,
   "metadata": {},
   "outputs": [],
   "source": [
    "def landnum_modifier(x):\n",
    "    # x is a string\n",
    "    \n",
    "    splitted = x.split('-')\n",
    "    if len(splitted) == 1:\n",
    "        return x+'-0'\n",
    "    elif len(splitted) == 2:\n",
    "        return x\n",
    "    else:\n",
    "        raise ValueError('myerror')"
   ]
  },
  {
   "cell_type": "code",
   "execution_count": 5,
   "metadata": {},
   "outputs": [],
   "source": [
    "def prep_production_ready_land_specs(land_specs_df):\n",
    "    #\n",
    "    \n",
    "    land_specs_df = land_specs_df.copy()\n",
    "    \n",
    "    land_specs_df.drop(columns=[col for col in land_specs_df.columns if '코드' in col], inplace=True)\n",
    "    land_specs_df['지번주소'] = land_specs_df['법정동명'] + ' ' + land_specs_df['지번'].apply(landnum_modifier)\n",
    "    land_specs_df.drop(columns=['고유번호', '법정동명', '지번', '대장구분명', '토지일련번호', '기준월', '데이터기준일자'], inplace=True)\n",
    "    land_specs_df = land_specs_df.sort_values(['지번주소', '기준년도']).reset_index(drop=True)\n",
    "    land_specs_df.drop_duplicates(subset=['지번주소'], keep='last', inplace=True)\n",
    "    land_specs_df.drop(columns=['기준년도', '공시지가'], inplace=True)\n",
    "    \n",
    "    return land_specs_df"
   ]
  },
  {
   "cell_type": "code",
   "execution_count": 6,
   "metadata": {},
   "outputs": [],
   "source": [
    "land_specs_production_ver_1 = prep_production_ready_land_specs(land_specs_df)"
   ]
  },
  {
   "cell_type": "code",
   "execution_count": 7,
   "metadata": {},
   "outputs": [
    {
     "name": "stdout",
     "output_type": "stream",
     "text": [
      "(983625, 9)\n"
     ]
    },
    {
     "data": {
      "text/html": [
       "<div>\n",
       "<style scoped>\n",
       "    .dataframe tbody tr th:only-of-type {\n",
       "        vertical-align: middle;\n",
       "    }\n",
       "\n",
       "    .dataframe tbody tr th {\n",
       "        vertical-align: top;\n",
       "    }\n",
       "\n",
       "    .dataframe thead th {\n",
       "        text-align: right;\n",
       "    }\n",
       "</style>\n",
       "<table border=\"1\" class=\"dataframe\">\n",
       "  <thead>\n",
       "    <tr style=\"text-align: right;\">\n",
       "      <th></th>\n",
       "      <th>지목명</th>\n",
       "      <th>토지면적</th>\n",
       "      <th>용도지역명1</th>\n",
       "      <th>용도지역명2</th>\n",
       "      <th>토지이동상황</th>\n",
       "      <th>지형높이</th>\n",
       "      <th>지형형상</th>\n",
       "      <th>도로접면</th>\n",
       "      <th>지번주소</th>\n",
       "    </tr>\n",
       "  </thead>\n",
       "  <tbody>\n",
       "    <tr>\n",
       "      <th>7</th>\n",
       "      <td>전</td>\n",
       "      <td>876.0</td>\n",
       "      <td>자연녹지지역</td>\n",
       "      <td>지정되지않음</td>\n",
       "      <td>전</td>\n",
       "      <td>완경사</td>\n",
       "      <td>부정형</td>\n",
       "      <td>맹지</td>\n",
       "      <td>서울특별시 강남구 개포동 100-0</td>\n",
       "    </tr>\n",
       "    <tr>\n",
       "      <th>15</th>\n",
       "      <td>전</td>\n",
       "      <td>641.0</td>\n",
       "      <td>자연녹지지역</td>\n",
       "      <td>지정되지않음</td>\n",
       "      <td>전</td>\n",
       "      <td>평지</td>\n",
       "      <td>부정형</td>\n",
       "      <td>맹지</td>\n",
       "      <td>서울특별시 강남구 개포동 101-0</td>\n",
       "    </tr>\n",
       "    <tr>\n",
       "      <th>23</th>\n",
       "      <td>전</td>\n",
       "      <td>509.0</td>\n",
       "      <td>자연녹지지역</td>\n",
       "      <td>지정되지않음</td>\n",
       "      <td>전</td>\n",
       "      <td>평지</td>\n",
       "      <td>부정형</td>\n",
       "      <td>맹지</td>\n",
       "      <td>서울특별시 강남구 개포동 102-0</td>\n",
       "    </tr>\n",
       "    <tr>\n",
       "      <th>31</th>\n",
       "      <td>전</td>\n",
       "      <td>48.7</td>\n",
       "      <td>자연녹지지역</td>\n",
       "      <td>개발제한구역</td>\n",
       "      <td>전</td>\n",
       "      <td>평지</td>\n",
       "      <td>부정형</td>\n",
       "      <td>맹지</td>\n",
       "      <td>서울특별시 강남구 개포동 103-0</td>\n",
       "    </tr>\n",
       "    <tr>\n",
       "      <th>39</th>\n",
       "      <td>전</td>\n",
       "      <td>2995.0</td>\n",
       "      <td>개발제한구역</td>\n",
       "      <td>자연녹지지역</td>\n",
       "      <td>전</td>\n",
       "      <td>완경사</td>\n",
       "      <td>부정형</td>\n",
       "      <td>맹지</td>\n",
       "      <td>서울특별시 강남구 개포동 104-1</td>\n",
       "    </tr>\n",
       "  </tbody>\n",
       "</table>\n",
       "</div>"
      ],
      "text/plain": [
       "   지목명    토지면적  용도지역명1  용도지역명2 토지이동상황 지형높이 지형형상 도로접면                 지번주소\n",
       "7    전   876.0  자연녹지지역  지정되지않음      전  완경사  부정형   맹지  서울특별시 강남구 개포동 100-0\n",
       "15   전   641.0  자연녹지지역  지정되지않음      전   평지  부정형   맹지  서울특별시 강남구 개포동 101-0\n",
       "23   전   509.0  자연녹지지역  지정되지않음      전   평지  부정형   맹지  서울특별시 강남구 개포동 102-0\n",
       "31   전    48.7  자연녹지지역  개발제한구역      전   평지  부정형   맹지  서울특별시 강남구 개포동 103-0\n",
       "39   전  2995.0  개발제한구역  자연녹지지역      전  완경사  부정형   맹지  서울특별시 강남구 개포동 104-1"
      ]
     },
     "execution_count": 7,
     "metadata": {},
     "output_type": "execute_result"
    }
   ],
   "source": [
    "print(land_specs_production_ver_1.shape)\n",
    "land_specs_production_ver_1.head()"
   ]
  },
  {
   "cell_type": "code",
   "execution_count": 8,
   "metadata": {},
   "outputs": [],
   "source": [
    "land_specs_production_ver_1.to_csv('./토지특성정보/land_specs_production_ver_1.csv', index=False)"
   ]
  },
  {
   "cell_type": "code",
   "execution_count": null,
   "metadata": {},
   "outputs": [],
   "source": []
  }
 ],
 "metadata": {
  "kernelspec": {
   "display_name": "Python 3",
   "language": "python",
   "name": "python3"
  },
  "language_info": {
   "codemirror_mode": {
    "name": "ipython",
    "version": 3
   },
   "file_extension": ".py",
   "mimetype": "text/x-python",
   "name": "python",
   "nbconvert_exporter": "python",
   "pygments_lexer": "ipython3",
   "version": "3.7.9"
  }
 },
 "nbformat": 4,
 "nbformat_minor": 4
}
