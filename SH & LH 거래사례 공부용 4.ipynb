{
 "cells": [
  {
   "cell_type": "code",
   "execution_count": 1,
   "metadata": {},
   "outputs": [],
   "source": [
    "import pandas as pd\n",
    "import numpy as np\n",
    "import os\n",
    "pd.set_option('display.max_rows', 500)\n",
    "pd.set_option('display.max_columns', 500)\n",
    "from tqdm import tqdm\n",
    "import matplotlib.pyplot as plt\n",
    "import seaborn as sns\n",
    "import matplotlib\n",
    "matplotlib.rcParams['axes.unicode_minus'] = False\n",
    "pd.options.mode.chained_assignment = None  # default='warn'\n",
    "plt.rcParams['font.family'] = 'Malgun Gothic'\n",
    "import datetime\n",
    "import time\n",
    "import math"
   ]
  },
  {
   "cell_type": "code",
   "execution_count": 2,
   "metadata": {},
   "outputs": [],
   "source": [
    "def get_gu_dong(df):\n",
    "    df = df.copy()\n",
    "    \n",
    "    df['구'] = df['지번주소'].apply(lambda x: x.split(' ')[1])\n",
    "    df['동'] = df['지번주소'].apply(lambda x: x.split(' ')[2])\n",
    "    \n",
    "    return df"
   ]
  },
  {
   "cell_type": "code",
   "execution_count": 3,
   "metadata": {},
   "outputs": [],
   "source": [
    "bulktrade_basedir = './국토교통부_실거래가_공개시스템/집값분석/일괄구매/10호이상/'"
   ]
  },
  {
   "cell_type": "code",
   "execution_count": 4,
   "metadata": {},
   "outputs": [],
   "source": [
    "date_today = pd.to_datetime(datetime.datetime.now())\n",
    "target_period = 6 # in months"
   ]
  },
  {
   "cell_type": "code",
   "execution_count": 5,
   "metadata": {},
   "outputs": [],
   "source": [
    "concat_df = pd.read_csv(bulktrade_basedir+'2018년01월01일부터_2021년06월07일까지_SH_LH_아파트_연립다세대_오피스텔_거래사례.csv')\n",
    "missing_df = pd.read_csv(bulktrade_basedir+'2018부터_아파트_연립다세대_오피스텔_일괄구매_전체_소유자_포함_기존자료_제외.csv')"
   ]
  },
  {
   "cell_type": "code",
   "execution_count": 6,
   "metadata": {},
   "outputs": [],
   "source": [
    "concat_df = concat_df.drop(columns=['Unnamed: 0'])"
   ]
  },
  {
   "cell_type": "code",
   "execution_count": 7,
   "metadata": {},
   "outputs": [
    {
     "name": "stdout",
     "output_type": "stream",
     "text": [
      "(14793, 13)\n"
     ]
    },
    {
     "data": {
      "text/html": [
       "<div>\n",
       "<style scoped>\n",
       "    .dataframe tbody tr th:only-of-type {\n",
       "        vertical-align: middle;\n",
       "    }\n",
       "\n",
       "    .dataframe tbody tr th {\n",
       "        vertical-align: top;\n",
       "    }\n",
       "\n",
       "    .dataframe thead th {\n",
       "        text-align: right;\n",
       "    }\n",
       "</style>\n",
       "<table border=\"1\" class=\"dataframe\">\n",
       "  <thead>\n",
       "    <tr style=\"text-align: right;\">\n",
       "      <th></th>\n",
       "      <th>지번주소</th>\n",
       "      <th>도로명</th>\n",
       "      <th>건물(단지)명</th>\n",
       "      <th>전용면적(㎡)</th>\n",
       "      <th>거래금액(만원)</th>\n",
       "      <th>층</th>\n",
       "      <th>건축년도</th>\n",
       "      <th>계약날짜기준_건물연식</th>\n",
       "      <th>계약날짜</th>\n",
       "      <th>단가(만원/㎡)</th>\n",
       "      <th>건물연식</th>\n",
       "      <th>부동산유형</th>\n",
       "      <th>소유자</th>\n",
       "    </tr>\n",
       "  </thead>\n",
       "  <tbody>\n",
       "    <tr>\n",
       "      <th>0</th>\n",
       "      <td>서울특별시 강남구 개포동 1195-10</td>\n",
       "      <td>논현로12길 3-1</td>\n",
       "      <td>동영빌</td>\n",
       "      <td>25.39</td>\n",
       "      <td>28300</td>\n",
       "      <td>3</td>\n",
       "      <td>2020.0</td>\n",
       "      <td>0.0</td>\n",
       "      <td>2020-03-02</td>\n",
       "      <td>1114.612052</td>\n",
       "      <td>1.0</td>\n",
       "      <td>연립다세대</td>\n",
       "      <td>SH</td>\n",
       "    </tr>\n",
       "    <tr>\n",
       "      <th>1</th>\n",
       "      <td>서울특별시 강남구 개포동 1195-10</td>\n",
       "      <td>논현로12길 3-1</td>\n",
       "      <td>동영빌</td>\n",
       "      <td>25.39</td>\n",
       "      <td>28300</td>\n",
       "      <td>2</td>\n",
       "      <td>2020.0</td>\n",
       "      <td>0.0</td>\n",
       "      <td>2020-03-02</td>\n",
       "      <td>1114.612052</td>\n",
       "      <td>1.0</td>\n",
       "      <td>연립다세대</td>\n",
       "      <td>SH</td>\n",
       "    </tr>\n",
       "    <tr>\n",
       "      <th>2</th>\n",
       "      <td>서울특별시 강남구 개포동 1195-10</td>\n",
       "      <td>논현로12길 3-1</td>\n",
       "      <td>동영빌</td>\n",
       "      <td>25.46</td>\n",
       "      <td>28400</td>\n",
       "      <td>3</td>\n",
       "      <td>2020.0</td>\n",
       "      <td>0.0</td>\n",
       "      <td>2020-03-02</td>\n",
       "      <td>1115.475255</td>\n",
       "      <td>1.0</td>\n",
       "      <td>연립다세대</td>\n",
       "      <td>SH</td>\n",
       "    </tr>\n",
       "    <tr>\n",
       "      <th>3</th>\n",
       "      <td>서울특별시 강남구 개포동 1195-10</td>\n",
       "      <td>논현로12길 3-1</td>\n",
       "      <td>동영빌</td>\n",
       "      <td>25.46</td>\n",
       "      <td>28400</td>\n",
       "      <td>2</td>\n",
       "      <td>2020.0</td>\n",
       "      <td>0.0</td>\n",
       "      <td>2020-03-02</td>\n",
       "      <td>1115.475255</td>\n",
       "      <td>1.0</td>\n",
       "      <td>연립다세대</td>\n",
       "      <td>SH</td>\n",
       "    </tr>\n",
       "    <tr>\n",
       "      <th>4</th>\n",
       "      <td>서울특별시 강남구 개포동 1195-10</td>\n",
       "      <td>논현로12길 3-1</td>\n",
       "      <td>동영빌</td>\n",
       "      <td>25.55</td>\n",
       "      <td>28500</td>\n",
       "      <td>3</td>\n",
       "      <td>2020.0</td>\n",
       "      <td>0.0</td>\n",
       "      <td>2020-03-02</td>\n",
       "      <td>1115.459883</td>\n",
       "      <td>1.0</td>\n",
       "      <td>연립다세대</td>\n",
       "      <td>SH</td>\n",
       "    </tr>\n",
       "  </tbody>\n",
       "</table>\n",
       "</div>"
      ],
      "text/plain": [
       "                    지번주소         도로명 건물(단지)명  전용면적(㎡)  거래금액(만원)  층    건축년도  \\\n",
       "0  서울특별시 강남구 개포동 1195-10  논현로12길 3-1     동영빌    25.39     28300  3  2020.0   \n",
       "1  서울특별시 강남구 개포동 1195-10  논현로12길 3-1     동영빌    25.39     28300  2  2020.0   \n",
       "2  서울특별시 강남구 개포동 1195-10  논현로12길 3-1     동영빌    25.46     28400  3  2020.0   \n",
       "3  서울특별시 강남구 개포동 1195-10  논현로12길 3-1     동영빌    25.46     28400  2  2020.0   \n",
       "4  서울특별시 강남구 개포동 1195-10  논현로12길 3-1     동영빌    25.55     28500  3  2020.0   \n",
       "\n",
       "   계약날짜기준_건물연식        계약날짜     단가(만원/㎡)  건물연식  부동산유형 소유자  \n",
       "0          0.0  2020-03-02  1114.612052   1.0  연립다세대  SH  \n",
       "1          0.0  2020-03-02  1114.612052   1.0  연립다세대  SH  \n",
       "2          0.0  2020-03-02  1115.475255   1.0  연립다세대  SH  \n",
       "3          0.0  2020-03-02  1115.475255   1.0  연립다세대  SH  \n",
       "4          0.0  2020-03-02  1115.459883   1.0  연립다세대  SH  "
      ]
     },
     "execution_count": 7,
     "metadata": {},
     "output_type": "execute_result"
    }
   ],
   "source": [
    "print(concat_df.shape)\n",
    "concat_df.head()"
   ]
  },
  {
   "cell_type": "code",
   "execution_count": 8,
   "metadata": {},
   "outputs": [
    {
     "name": "stdout",
     "output_type": "stream",
     "text": [
      "(11112, 13)\n"
     ]
    },
    {
     "data": {
      "text/html": [
       "<div>\n",
       "<style scoped>\n",
       "    .dataframe tbody tr th:only-of-type {\n",
       "        vertical-align: middle;\n",
       "    }\n",
       "\n",
       "    .dataframe tbody tr th {\n",
       "        vertical-align: top;\n",
       "    }\n",
       "\n",
       "    .dataframe thead th {\n",
       "        text-align: right;\n",
       "    }\n",
       "</style>\n",
       "<table border=\"1\" class=\"dataframe\">\n",
       "  <thead>\n",
       "    <tr style=\"text-align: right;\">\n",
       "      <th></th>\n",
       "      <th>지번주소</th>\n",
       "      <th>도로명</th>\n",
       "      <th>건물(단지)명</th>\n",
       "      <th>전용면적(㎡)</th>\n",
       "      <th>거래금액(만원)</th>\n",
       "      <th>층</th>\n",
       "      <th>건축년도</th>\n",
       "      <th>계약날짜기준_건물연식</th>\n",
       "      <th>계약날짜</th>\n",
       "      <th>단가(만원/㎡)</th>\n",
       "      <th>건물연식</th>\n",
       "      <th>부동산유형</th>\n",
       "      <th>소유자</th>\n",
       "    </tr>\n",
       "  </thead>\n",
       "  <tbody>\n",
       "    <tr>\n",
       "      <th>0</th>\n",
       "      <td>서울특별시 강남구 개포동 1166-9</td>\n",
       "      <td>논현로2길 37</td>\n",
       "      <td>동영빌</td>\n",
       "      <td>21.50</td>\n",
       "      <td>25850</td>\n",
       "      <td>4</td>\n",
       "      <td>2021.0</td>\n",
       "      <td>0.0</td>\n",
       "      <td>2021-06-22</td>\n",
       "      <td>1202.325581</td>\n",
       "      <td>0.0</td>\n",
       "      <td>연립다세대</td>\n",
       "      <td>장**외 1명</td>\n",
       "    </tr>\n",
       "    <tr>\n",
       "      <th>1</th>\n",
       "      <td>서울특별시 강남구 개포동 1166-9</td>\n",
       "      <td>논현로2길 37</td>\n",
       "      <td>동영빌</td>\n",
       "      <td>21.92</td>\n",
       "      <td>25950</td>\n",
       "      <td>3</td>\n",
       "      <td>2021.0</td>\n",
       "      <td>0.0</td>\n",
       "      <td>2021-06-22</td>\n",
       "      <td>1183.850365</td>\n",
       "      <td>0.0</td>\n",
       "      <td>연립다세대</td>\n",
       "      <td>장**외 1명</td>\n",
       "    </tr>\n",
       "    <tr>\n",
       "      <th>2</th>\n",
       "      <td>서울특별시 강남구 개포동 1166-9</td>\n",
       "      <td>논현로2길 37</td>\n",
       "      <td>동영빌</td>\n",
       "      <td>21.92</td>\n",
       "      <td>26050</td>\n",
       "      <td>2</td>\n",
       "      <td>2021.0</td>\n",
       "      <td>0.0</td>\n",
       "      <td>2021-06-22</td>\n",
       "      <td>1188.412409</td>\n",
       "      <td>0.0</td>\n",
       "      <td>연립다세대</td>\n",
       "      <td>장**외 1명</td>\n",
       "    </tr>\n",
       "    <tr>\n",
       "      <th>3</th>\n",
       "      <td>서울특별시 강남구 개포동 1166-9</td>\n",
       "      <td>논현로2길 37</td>\n",
       "      <td>동영빌</td>\n",
       "      <td>24.42</td>\n",
       "      <td>28150</td>\n",
       "      <td>5</td>\n",
       "      <td>2021.0</td>\n",
       "      <td>0.0</td>\n",
       "      <td>2021-06-22</td>\n",
       "      <td>1152.743653</td>\n",
       "      <td>0.0</td>\n",
       "      <td>연립다세대</td>\n",
       "      <td>장**외 1명</td>\n",
       "    </tr>\n",
       "    <tr>\n",
       "      <th>4</th>\n",
       "      <td>서울특별시 강남구 개포동 1166-9</td>\n",
       "      <td>논현로2길 37</td>\n",
       "      <td>동영빌</td>\n",
       "      <td>25.01</td>\n",
       "      <td>29450</td>\n",
       "      <td>3</td>\n",
       "      <td>2021.0</td>\n",
       "      <td>0.0</td>\n",
       "      <td>2021-06-22</td>\n",
       "      <td>1177.528988</td>\n",
       "      <td>0.0</td>\n",
       "      <td>연립다세대</td>\n",
       "      <td>장**외 1명</td>\n",
       "    </tr>\n",
       "  </tbody>\n",
       "</table>\n",
       "</div>"
      ],
      "text/plain": [
       "                   지번주소       도로명 건물(단지)명  전용면적(㎡)  거래금액(만원)  층    건축년도  \\\n",
       "0  서울특별시 강남구 개포동 1166-9  논현로2길 37     동영빌    21.50     25850  4  2021.0   \n",
       "1  서울특별시 강남구 개포동 1166-9  논현로2길 37     동영빌    21.92     25950  3  2021.0   \n",
       "2  서울특별시 강남구 개포동 1166-9  논현로2길 37     동영빌    21.92     26050  2  2021.0   \n",
       "3  서울특별시 강남구 개포동 1166-9  논현로2길 37     동영빌    24.42     28150  5  2021.0   \n",
       "4  서울특별시 강남구 개포동 1166-9  논현로2길 37     동영빌    25.01     29450  3  2021.0   \n",
       "\n",
       "   계약날짜기준_건물연식        계약날짜     단가(만원/㎡)  건물연식  부동산유형      소유자  \n",
       "0          0.0  2021-06-22  1202.325581   0.0  연립다세대  장**외 1명  \n",
       "1          0.0  2021-06-22  1183.850365   0.0  연립다세대  장**외 1명  \n",
       "2          0.0  2021-06-22  1188.412409   0.0  연립다세대  장**외 1명  \n",
       "3          0.0  2021-06-22  1152.743653   0.0  연립다세대  장**외 1명  \n",
       "4          0.0  2021-06-22  1177.528988   0.0  연립다세대  장**외 1명  "
      ]
     },
     "execution_count": 8,
     "metadata": {},
     "output_type": "execute_result"
    }
   ],
   "source": [
    "print(missing_df.shape)\n",
    "missing_df.head()"
   ]
  },
  {
   "cell_type": "code",
   "execution_count": 9,
   "metadata": {},
   "outputs": [
    {
     "data": {
      "text/plain": [
       "394"
      ]
     },
     "execution_count": 9,
     "metadata": {},
     "output_type": "execute_result"
    }
   ],
   "source": [
    "missing_df['소유자'].isna().sum()"
   ]
  },
  {
   "cell_type": "code",
   "execution_count": 10,
   "metadata": {},
   "outputs": [
    {
     "name": "stdout",
     "output_type": "stream",
     "text": [
      "(15782, 15)\n"
     ]
    },
    {
     "data": {
      "text/html": [
       "<div>\n",
       "<style scoped>\n",
       "    .dataframe tbody tr th:only-of-type {\n",
       "        vertical-align: middle;\n",
       "    }\n",
       "\n",
       "    .dataframe tbody tr th {\n",
       "        vertical-align: top;\n",
       "    }\n",
       "\n",
       "    .dataframe thead th {\n",
       "        text-align: right;\n",
       "    }\n",
       "</style>\n",
       "<table border=\"1\" class=\"dataframe\">\n",
       "  <thead>\n",
       "    <tr style=\"text-align: right;\">\n",
       "      <th></th>\n",
       "      <th>지번주소</th>\n",
       "      <th>도로명</th>\n",
       "      <th>건물(단지)명</th>\n",
       "      <th>전용면적(㎡)</th>\n",
       "      <th>거래금액(만원)</th>\n",
       "      <th>층</th>\n",
       "      <th>건축년도</th>\n",
       "      <th>계약날짜기준_건물연식</th>\n",
       "      <th>계약날짜</th>\n",
       "      <th>단가(만원/㎡)</th>\n",
       "      <th>건물연식</th>\n",
       "      <th>부동산유형</th>\n",
       "      <th>소유자</th>\n",
       "      <th>구</th>\n",
       "      <th>동</th>\n",
       "    </tr>\n",
       "  </thead>\n",
       "  <tbody>\n",
       "    <tr>\n",
       "      <th>0</th>\n",
       "      <td>서울특별시 강남구 개포동 1195-10</td>\n",
       "      <td>논현로12길 3-1</td>\n",
       "      <td>동영빌</td>\n",
       "      <td>25.39</td>\n",
       "      <td>28300</td>\n",
       "      <td>3</td>\n",
       "      <td>2020.0</td>\n",
       "      <td>0.0</td>\n",
       "      <td>2020-03-02</td>\n",
       "      <td>1114.612052</td>\n",
       "      <td>1.0</td>\n",
       "      <td>연립다세대</td>\n",
       "      <td>SH</td>\n",
       "      <td>강남구</td>\n",
       "      <td>개포동</td>\n",
       "    </tr>\n",
       "    <tr>\n",
       "      <th>1</th>\n",
       "      <td>서울특별시 강남구 개포동 1195-10</td>\n",
       "      <td>논현로12길 3-1</td>\n",
       "      <td>동영빌</td>\n",
       "      <td>25.39</td>\n",
       "      <td>28300</td>\n",
       "      <td>2</td>\n",
       "      <td>2020.0</td>\n",
       "      <td>0.0</td>\n",
       "      <td>2020-03-02</td>\n",
       "      <td>1114.612052</td>\n",
       "      <td>1.0</td>\n",
       "      <td>연립다세대</td>\n",
       "      <td>SH</td>\n",
       "      <td>강남구</td>\n",
       "      <td>개포동</td>\n",
       "    </tr>\n",
       "    <tr>\n",
       "      <th>2</th>\n",
       "      <td>서울특별시 강남구 개포동 1195-10</td>\n",
       "      <td>논현로12길 3-1</td>\n",
       "      <td>동영빌</td>\n",
       "      <td>25.46</td>\n",
       "      <td>28400</td>\n",
       "      <td>3</td>\n",
       "      <td>2020.0</td>\n",
       "      <td>0.0</td>\n",
       "      <td>2020-03-02</td>\n",
       "      <td>1115.475255</td>\n",
       "      <td>1.0</td>\n",
       "      <td>연립다세대</td>\n",
       "      <td>SH</td>\n",
       "      <td>강남구</td>\n",
       "      <td>개포동</td>\n",
       "    </tr>\n",
       "    <tr>\n",
       "      <th>3</th>\n",
       "      <td>서울특별시 강남구 개포동 1195-10</td>\n",
       "      <td>논현로12길 3-1</td>\n",
       "      <td>동영빌</td>\n",
       "      <td>25.46</td>\n",
       "      <td>28400</td>\n",
       "      <td>2</td>\n",
       "      <td>2020.0</td>\n",
       "      <td>0.0</td>\n",
       "      <td>2020-03-02</td>\n",
       "      <td>1115.475255</td>\n",
       "      <td>1.0</td>\n",
       "      <td>연립다세대</td>\n",
       "      <td>SH</td>\n",
       "      <td>강남구</td>\n",
       "      <td>개포동</td>\n",
       "    </tr>\n",
       "    <tr>\n",
       "      <th>4</th>\n",
       "      <td>서울특별시 강남구 개포동 1195-10</td>\n",
       "      <td>논현로12길 3-1</td>\n",
       "      <td>동영빌</td>\n",
       "      <td>25.55</td>\n",
       "      <td>28500</td>\n",
       "      <td>3</td>\n",
       "      <td>2020.0</td>\n",
       "      <td>0.0</td>\n",
       "      <td>2020-03-02</td>\n",
       "      <td>1115.459883</td>\n",
       "      <td>1.0</td>\n",
       "      <td>연립다세대</td>\n",
       "      <td>SH</td>\n",
       "      <td>강남구</td>\n",
       "      <td>개포동</td>\n",
       "    </tr>\n",
       "  </tbody>\n",
       "</table>\n",
       "</div>"
      ],
      "text/plain": [
       "                    지번주소         도로명 건물(단지)명  전용면적(㎡)  거래금액(만원)  층    건축년도  \\\n",
       "0  서울특별시 강남구 개포동 1195-10  논현로12길 3-1     동영빌    25.39     28300  3  2020.0   \n",
       "1  서울특별시 강남구 개포동 1195-10  논현로12길 3-1     동영빌    25.39     28300  2  2020.0   \n",
       "2  서울특별시 강남구 개포동 1195-10  논현로12길 3-1     동영빌    25.46     28400  3  2020.0   \n",
       "3  서울특별시 강남구 개포동 1195-10  논현로12길 3-1     동영빌    25.46     28400  2  2020.0   \n",
       "4  서울특별시 강남구 개포동 1195-10  논현로12길 3-1     동영빌    25.55     28500  3  2020.0   \n",
       "\n",
       "   계약날짜기준_건물연식       계약날짜     단가(만원/㎡)  건물연식  부동산유형 소유자    구    동  \n",
       "0          0.0 2020-03-02  1114.612052   1.0  연립다세대  SH  강남구  개포동  \n",
       "1          0.0 2020-03-02  1114.612052   1.0  연립다세대  SH  강남구  개포동  \n",
       "2          0.0 2020-03-02  1115.475255   1.0  연립다세대  SH  강남구  개포동  \n",
       "3          0.0 2020-03-02  1115.475255   1.0  연립다세대  SH  강남구  개포동  \n",
       "4          0.0 2020-03-02  1115.459883   1.0  연립다세대  SH  강남구  개포동  "
      ]
     },
     "execution_count": 10,
     "metadata": {},
     "output_type": "execute_result"
    }
   ],
   "source": [
    "concat_df = pd.concat([concat_df, missing_df])\n",
    "\n",
    "concat_df['계약날짜'] = pd.to_datetime(concat_df['계약날짜'])\n",
    "#yunrip_bulk_df = yunrip_bulk_df[yunrip_bulk_df['계약날짜']  >= (date_today - pd.DateOffset(months=target_period))]\n",
    "concat_df = concat_df[\n",
    "    (concat_df['소유자'] == '서***~')\n",
    "    |(concat_df['소유자'] == '한***~')\n",
    "    |(concat_df['소유자'] == 'SH')\n",
    "    |(concat_df['소유자'] == 'LH')\n",
    "].reset_index(drop=True)\n",
    "concat_df = get_gu_dong(concat_df)\n",
    "print(concat_df.shape)\n",
    "concat_df.head()"
   ]
  },
  {
   "cell_type": "code",
   "execution_count": 11,
   "metadata": {},
   "outputs": [],
   "source": [
    "summary_df = pd.read_excel(bulktrade_basedir + '2018년부터/' + '2018년01월01일부터_2021년06월22일까지_SH_LH_아파트_연립다세대_오피스텔_거래사례_요약본' + '.xlsx')"
   ]
  },
  {
   "cell_type": "code",
   "execution_count": 12,
   "metadata": {},
   "outputs": [
    {
     "name": "stdout",
     "output_type": "stream",
     "text": [
      "(864, 17)\n"
     ]
    },
    {
     "data": {
      "text/html": [
       "<div>\n",
       "<style scoped>\n",
       "    .dataframe tbody tr th:only-of-type {\n",
       "        vertical-align: middle;\n",
       "    }\n",
       "\n",
       "    .dataframe tbody tr th {\n",
       "        vertical-align: top;\n",
       "    }\n",
       "\n",
       "    .dataframe thead th {\n",
       "        text-align: right;\n",
       "    }\n",
       "</style>\n",
       "<table border=\"1\" class=\"dataframe\">\n",
       "  <thead>\n",
       "    <tr style=\"text-align: right;\">\n",
       "      <th></th>\n",
       "      <th>지번주소</th>\n",
       "      <th>건물(단지)명</th>\n",
       "      <th>건축년도</th>\n",
       "      <th>계약날짜</th>\n",
       "      <th>부동산유형</th>\n",
       "      <th>소유자</th>\n",
       "      <th>평균 전용면적(㎡)</th>\n",
       "      <th>총 전용면적(㎡)</th>\n",
       "      <th>전용면적 표준편차(㎡)</th>\n",
       "      <th>평균 거래금액(만원)</th>\n",
       "      <th>총 거래금액(만원)</th>\n",
       "      <th>거래금액 표준편차(만원)</th>\n",
       "      <th>최대 층</th>\n",
       "      <th>평균 단가(만원)</th>\n",
       "      <th>단가 표준편차(만원)</th>\n",
       "      <th>세대 수</th>\n",
       "      <th>Unnamed: 16</th>\n",
       "    </tr>\n",
       "  </thead>\n",
       "  <tbody>\n",
       "    <tr>\n",
       "      <th>0</th>\n",
       "      <td>강남구 개포동 1237-7</td>\n",
       "      <td>한별2</td>\n",
       "      <td>2021</td>\n",
       "      <td>2021-06-01</td>\n",
       "      <td>오피스텔</td>\n",
       "      <td>SH</td>\n",
       "      <td>29.665000</td>\n",
       "      <td>118.66</td>\n",
       "      <td>0.390000</td>\n",
       "      <td>33565.250000</td>\n",
       "      <td>134261</td>\n",
       "      <td>437.500000</td>\n",
       "      <td>2</td>\n",
       "      <td>1131.477759</td>\n",
       "      <td>0.128995</td>\n",
       "      <td>4</td>\n",
       "      <td>NaN</td>\n",
       "    </tr>\n",
       "    <tr>\n",
       "      <th>1</th>\n",
       "      <td>강남구 개포동 1237-7</td>\n",
       "      <td>한별2</td>\n",
       "      <td>2021</td>\n",
       "      <td>2021-06-01</td>\n",
       "      <td>연립다세대</td>\n",
       "      <td>SH</td>\n",
       "      <td>29.946667</td>\n",
       "      <td>449.20</td>\n",
       "      <td>0.037544</td>\n",
       "      <td>38163.333333</td>\n",
       "      <td>572450</td>\n",
       "      <td>44.185755</td>\n",
       "      <td>6</td>\n",
       "      <td>1274.376854</td>\n",
       "      <td>0.358219</td>\n",
       "      <td>15</td>\n",
       "      <td>NaN</td>\n",
       "    </tr>\n",
       "    <tr>\n",
       "      <th>2</th>\n",
       "      <td>강남구 개포동 1216-7</td>\n",
       "      <td>백년빌</td>\n",
       "      <td>2020</td>\n",
       "      <td>2020-03-18</td>\n",
       "      <td>연립다세대</td>\n",
       "      <td>SH</td>\n",
       "      <td>26.686000</td>\n",
       "      <td>400.29</td>\n",
       "      <td>2.367074</td>\n",
       "      <td>30573.333333</td>\n",
       "      <td>458600</td>\n",
       "      <td>2134.651750</td>\n",
       "      <td>5</td>\n",
       "      <td>1147.330195</td>\n",
       "      <td>25.484846</td>\n",
       "      <td>15</td>\n",
       "      <td>NaN</td>\n",
       "    </tr>\n",
       "    <tr>\n",
       "      <th>3</th>\n",
       "      <td>강남구 개포동 1195-10</td>\n",
       "      <td>동영빌</td>\n",
       "      <td>2020</td>\n",
       "      <td>2020-03-02</td>\n",
       "      <td>연립다세대</td>\n",
       "      <td>SH</td>\n",
       "      <td>28.814667</td>\n",
       "      <td>432.22</td>\n",
       "      <td>4.855684</td>\n",
       "      <td>31463.333333</td>\n",
       "      <td>471950</td>\n",
       "      <td>4139.637090</td>\n",
       "      <td>5</td>\n",
       "      <td>1097.178201</td>\n",
       "      <td>36.299709</td>\n",
       "      <td>15</td>\n",
       "      <td>NaN</td>\n",
       "    </tr>\n",
       "    <tr>\n",
       "      <th>4</th>\n",
       "      <td>강남구 개포동 1199-7</td>\n",
       "      <td>개포백년빌</td>\n",
       "      <td>2019</td>\n",
       "      <td>2019-12-19</td>\n",
       "      <td>연립다세대</td>\n",
       "      <td>LH</td>\n",
       "      <td>27.905000</td>\n",
       "      <td>390.67</td>\n",
       "      <td>3.070186</td>\n",
       "      <td>28857.142857</td>\n",
       "      <td>404000</td>\n",
       "      <td>3536.722578</td>\n",
       "      <td>5</td>\n",
       "      <td>1033.367584</td>\n",
       "      <td>37.609677</td>\n",
       "      <td>14</td>\n",
       "      <td>NaN</td>\n",
       "    </tr>\n",
       "  </tbody>\n",
       "</table>\n",
       "</div>"
      ],
      "text/plain": [
       "              지번주소 건물(단지)명  건축년도       계약날짜  부동산유형 소유자  평균 전용면적(㎡)  총 전용면적(㎡)  \\\n",
       "0   강남구 개포동 1237-7     한별2  2021 2021-06-01   오피스텔  SH   29.665000     118.66   \n",
       "1   강남구 개포동 1237-7     한별2  2021 2021-06-01  연립다세대  SH   29.946667     449.20   \n",
       "2   강남구 개포동 1216-7     백년빌  2020 2020-03-18  연립다세대  SH   26.686000     400.29   \n",
       "3  강남구 개포동 1195-10     동영빌  2020 2020-03-02  연립다세대  SH   28.814667     432.22   \n",
       "4   강남구 개포동 1199-7   개포백년빌  2019 2019-12-19  연립다세대  LH   27.905000     390.67   \n",
       "\n",
       "   전용면적 표준편차(㎡)   평균 거래금액(만원)  총 거래금액(만원)  거래금액 표준편차(만원)  최대 층    평균 단가(만원)  \\\n",
       "0      0.390000  33565.250000      134261     437.500000     2  1131.477759   \n",
       "1      0.037544  38163.333333      572450      44.185755     6  1274.376854   \n",
       "2      2.367074  30573.333333      458600    2134.651750     5  1147.330195   \n",
       "3      4.855684  31463.333333      471950    4139.637090     5  1097.178201   \n",
       "4      3.070186  28857.142857      404000    3536.722578     5  1033.367584   \n",
       "\n",
       "   단가 표준편차(만원)  세대 수  Unnamed: 16  \n",
       "0     0.128995     4          NaN  \n",
       "1     0.358219    15          NaN  \n",
       "2    25.484846    15          NaN  \n",
       "3    36.299709    15          NaN  \n",
       "4    37.609677    14          NaN  "
      ]
     },
     "execution_count": 12,
     "metadata": {},
     "output_type": "execute_result"
    }
   ],
   "source": [
    "print(summary_df.shape)\n",
    "summary_df.head()"
   ]
  },
  {
   "cell_type": "code",
   "execution_count": 13,
   "metadata": {},
   "outputs": [],
   "source": [
    "summary_df['계약날짜'] = pd.to_datetime(summary_df['계약날짜'])"
   ]
  },
  {
   "cell_type": "code",
   "execution_count": 14,
   "metadata": {},
   "outputs": [
    {
     "name": "stderr",
     "output_type": "stream",
     "text": [
      "c:\\users\\max6296\\ml\\lib\\site-packages\\ipykernel_launcher.py:1: FutureWarning: Treating datetime data as categorical rather than numeric in `.describe` is deprecated and will be removed in a future version of pandas. Specify `datetime_is_numeric=True` to silence this warning and adopt the future behavior now.\n",
      "  \"\"\"Entry point for launching an IPython kernel.\n"
     ]
    },
    {
     "data": {
      "text/plain": [
       "count                     864\n",
       "unique                    446\n",
       "top       2020-12-28 00:00:00\n",
       "freq                       11\n",
       "first     2018-01-02 00:00:00\n",
       "last      2021-06-22 00:00:00\n",
       "Name: 계약날짜, dtype: object"
      ]
     },
     "execution_count": 14,
     "metadata": {},
     "output_type": "execute_result"
    }
   ],
   "source": [
    "summary_df['계약날짜'].describe()"
   ]
  },
  {
   "cell_type": "code",
   "execution_count": null,
   "metadata": {},
   "outputs": [],
   "source": []
  },
  {
   "cell_type": "code",
   "execution_count": null,
   "metadata": {},
   "outputs": [],
   "source": [
    "sales_idx_basedir = './한국부동산원/실거래가격지수/'\n",
    "filenames = [f for f in os.listdir(sales_idx_basedir) if '연립다세대' in f]\n",
    "\n",
    "sales_idx_df = pd.read_excel(sales_idx_basedir + filenames[0], header=[10, 11])\n",
    "\n",
    "sales_idx_cols_list = []\n",
    "for i in range(sales_idx_df.shape[1]):\n",
    "    if i == 0:\n",
    "        sales_idx_cols_list.append(sales_idx_df.columns[i][0])\n",
    "    else:\n",
    "        sales_idx_cols_list.append(sales_idx_df.columns[i][0] + '_' + sales_idx_df.columns[i][1])\n",
    "\n",
    "sales_idx_df.columns = sales_idx_cols_list"
   ]
  },
  {
   "cell_type": "code",
   "execution_count": null,
   "metadata": {},
   "outputs": [],
   "source": [
    "def get_sales_idx(x):\n",
    "    # x is a pandas timestamp\n",
    "    \n",
    "    df = sales_idx_df.copy()\n",
    "    \n",
    "    if pd.isna(x) == True:\n",
    "        return x\n",
    "    else:\n",
    "        year = str(x.year)\n",
    "        month = str(x.month)\n",
    "        if len(month) == 1:\n",
    "            month = '0'+month\n",
    "        \n",
    "        idx = df[year+'년 '+month+'월_지수'].iloc[0]\n",
    "        \n",
    "        return idx"
   ]
  },
  {
   "cell_type": "code",
   "execution_count": null,
   "metadata": {},
   "outputs": [],
   "source": [
    "def get_index_applied_prices(df):\n",
    "    df = df.copy()\n",
    "    \n",
    "    last_idx = sales_idx_df.iloc[0,-2]\n",
    "    \n",
    "    last_date = sales_idx_df.columns[-1].split('_')[0]\n",
    "    \n",
    "    last_date = last_date.split(' ')[0].replace('년','') + '-' + last_date.split(' ')[1].replace('월','') + '-01'\n",
    "    \n",
    "    target_upper_limit_df = df[df['계약날짜'] < pd.to_datetime(last_date)]\n",
    "    target_upper_limit_df['계약날짜_실거래지수'] = target_upper_limit_df['계약날짜'].apply(get_sales_idx)\n",
    "    target_upper_limit_df['지수적용단가'] = target_upper_limit_df['단가(만원/㎡)'] / target_upper_limit_df['계약날짜_실거래지수'] * last_idx\n",
    "    df['지수적용단가'] = df['단가(만원/㎡)']\n",
    "    df.loc[target_upper_limit_df.index, '지수적용단가'] = target_upper_limit_df['지수적용단가']\n",
    "    df['평가날짜'] = df['계약날짜']\n",
    "    df.loc[target_upper_limit_df.index, '평가날짜'] = pd.to_datetime(last_date[:-2] + '01')\n",
    "    \n",
    "    return df"
   ]
  },
  {
   "cell_type": "code",
   "execution_count": null,
   "metadata": {},
   "outputs": [],
   "source": [
    "concat_df = get_index_applied_prices(concat_df)\n",
    "print(concat_df.shape)\n",
    "concat_df.head()"
   ]
  },
  {
   "cell_type": "code",
   "execution_count": null,
   "metadata": {},
   "outputs": [],
   "source": [
    "concat_df['구_동'] = concat_df['구'] + '_' + concat_df['동']"
   ]
  },
  {
   "cell_type": "code",
   "execution_count": null,
   "metadata": {},
   "outputs": [],
   "source": [
    "def change_name(x):\n",
    "    # x is a string\n",
    "    \n",
    "    if pd.isna(x) == True:\n",
    "        return x\n",
    "    else:\n",
    "        if x == '한***~':\n",
    "            return '한국토지주택공사'\n",
    "        elif x == '서***~':\n",
    "            return '서울주택도시공사'\n",
    "        else:\n",
    "            return x"
   ]
  },
  {
   "cell_type": "code",
   "execution_count": null,
   "metadata": {},
   "outputs": [],
   "source": [
    "concat_df['소유자'] = concat_df['소유자'].apply(change_name)"
   ]
  },
  {
   "cell_type": "code",
   "execution_count": null,
   "metadata": {},
   "outputs": [],
   "source": [
    "concat_df['지번주소'].unique()"
   ]
  },
  {
   "cell_type": "code",
   "execution_count": null,
   "metadata": {},
   "outputs": [],
   "source": [
    "concat_df['소유자'].value_counts()"
   ]
  },
  {
   "cell_type": "code",
   "execution_count": null,
   "metadata": {},
   "outputs": [],
   "source": [
    "concat_df.head()"
   ]
  },
  {
   "cell_type": "code",
   "execution_count": null,
   "metadata": {},
   "outputs": [],
   "source": [
    "to_print_df = concat_df.drop(columns=['도로명', '계약날짜기준_건물연식', '건물연식', '구', '동', '지수적용단가', '평가날짜'])\n",
    "print(to_print_df.shape)\n",
    "to_print_df.head()"
   ]
  },
  {
   "cell_type": "code",
   "execution_count": null,
   "metadata": {},
   "outputs": [],
   "source": [
    "to_print_df['구_동'].nunique()"
   ]
  },
  {
   "cell_type": "code",
   "execution_count": null,
   "metadata": {},
   "outputs": [],
   "source": [
    "to_print_df = to_print_df[to_print_df['계약날짜'] >= pd.to_datetime('2018-01-01')]\n",
    "print(to_print_df.shape)\n",
    "to_print_df.head()"
   ]
  },
  {
   "cell_type": "code",
   "execution_count": null,
   "metadata": {},
   "outputs": [],
   "source": [
    "to_print_df['구_동'].nunique()"
   ]
  },
  {
   "cell_type": "code",
   "execution_count": null,
   "metadata": {},
   "outputs": [],
   "source": [
    "to_print_df['계약날짜'].describe()"
   ]
  },
  {
   "cell_type": "code",
   "execution_count": null,
   "metadata": {},
   "outputs": [],
   "source": [
    "for gudong in tqdm(to_print_df['구_동'].unique()):\n",
    "    gudong_df = to_print_df[to_print_df['구_동'] == gudong].drop(columns=['구_동'])\n",
    "    gudong_df.to_excel(bulktrade_basedir + '2018년부터/' + gudong + '.xlsx', index=False)"
   ]
  },
  {
   "cell_type": "code",
   "execution_count": null,
   "metadata": {},
   "outputs": [],
   "source": [
    "to_print_df.head()"
   ]
  },
  {
   "cell_type": "code",
   "execution_count": null,
   "metadata": {},
   "outputs": [],
   "source": [
    "to_print_df['소유자'] = to_print_df['소유자'].apply(lambda x: x.replace('서울주택도시공사', 'SH'))\n",
    "to_print_df['소유자'] = to_print_df['소유자'].apply(lambda x: x.replace('한국토지주택공사', 'LH'))"
   ]
  },
  {
   "cell_type": "code",
   "execution_count": null,
   "metadata": {},
   "outputs": [],
   "source": [
    "to_print_df['소유자'].value_counts()"
   ]
  },
  {
   "cell_type": "code",
   "execution_count": null,
   "metadata": {},
   "outputs": [],
   "source": [
    "to_print_df['평균_전용면적(㎡)'] = to_print_df[['지번주소', '건축년도', '부동산유형', '전용면적(㎡)']].groupby(['지번주소', '건축년도', '부동산유형']).transform('mean')['전용면적(㎡)']"
   ]
  },
  {
   "cell_type": "code",
   "execution_count": null,
   "metadata": {},
   "outputs": [],
   "source": [
    "to_print_df['총_전용면적(㎡)'] = to_print_df[['지번주소', '건축년도', '부동산유형', '전용면적(㎡)']].groupby(['지번주소', '건축년도', '부동산유형']).transform('sum')['전용면적(㎡)']"
   ]
  },
  {
   "cell_type": "code",
   "execution_count": null,
   "metadata": {},
   "outputs": [],
   "source": [
    "to_print_df['전용면적_표준편차(㎡)'] = to_print_df[['지번주소', '건축년도', '부동산유형', '전용면적(㎡)']].groupby(['지번주소', '건축년도', '부동산유형']).transform('std')['전용면적(㎡)']"
   ]
  },
  {
   "cell_type": "code",
   "execution_count": null,
   "metadata": {},
   "outputs": [],
   "source": [
    "to_print_df['평균_거래금액(만원)'] = to_print_df[['지번주소', '건축년도', '부동산유형', '거래금액(만원)']].groupby(['지번주소', '건축년도', '부동산유형']).transform('mean')['거래금액(만원)']"
   ]
  },
  {
   "cell_type": "code",
   "execution_count": null,
   "metadata": {},
   "outputs": [],
   "source": [
    "to_print_df['총_거래금액(만원)'] = to_print_df[['지번주소', '건축년도', '부동산유형', '거래금액(만원)']].groupby(['지번주소', '건축년도', '부동산유형']).transform('sum')['거래금액(만원)']"
   ]
  },
  {
   "cell_type": "code",
   "execution_count": null,
   "metadata": {},
   "outputs": [],
   "source": [
    "to_print_df['거래금액_표준편차(만원)'] = to_print_df[['지번주소', '건축년도', '부동산유형', '거래금액(만원)']].groupby(['지번주소', '건축년도', '부동산유형']).transform('std')['거래금액(만원)']"
   ]
  },
  {
   "cell_type": "code",
   "execution_count": null,
   "metadata": {},
   "outputs": [],
   "source": [
    "to_print_df['최대_층'] = to_print_df[['지번주소', '건축년도', '부동산유형', '층']].groupby(['지번주소', '건축년도', '부동산유형']).transform('max')['층']"
   ]
  },
  {
   "cell_type": "code",
   "execution_count": null,
   "metadata": {},
   "outputs": [],
   "source": [
    "to_print_df['평균_단가(만원)'] = to_print_df[['지번주소', '건축년도', '부동산유형', '단가(만원/㎡)']].groupby(['지번주소', '건축년도', '부동산유형']).transform('mean')['단가(만원/㎡)']"
   ]
  },
  {
   "cell_type": "code",
   "execution_count": null,
   "metadata": {},
   "outputs": [],
   "source": [
    "to_print_df['단가_표준편차(만원)'] = to_print_df[['지번주소', '건축년도', '부동산유형', '단가(만원/㎡)']].groupby(['지번주소', '건축년도', '부동산유형']).transform('std')['단가(만원/㎡)']"
   ]
  },
  {
   "cell_type": "code",
   "execution_count": null,
   "metadata": {},
   "outputs": [],
   "source": [
    "to_print_df['세대_수'] = to_print_df[['지번주소', '건축년도', '부동산유형', '단가(만원/㎡)']].groupby(['지번주소', '건축년도', '부동산유형']).transform('count')['단가(만원/㎡)']"
   ]
  },
  {
   "cell_type": "code",
   "execution_count": null,
   "metadata": {},
   "outputs": [],
   "source": [
    "to_print_df.head()"
   ]
  },
  {
   "cell_type": "code",
   "execution_count": null,
   "metadata": {},
   "outputs": [],
   "source": [
    "to_print_df['계약날짜'].describe()"
   ]
  },
  {
   "cell_type": "code",
   "execution_count": null,
   "metadata": {},
   "outputs": [],
   "source": [
    "to_print_df['계약날짜'].max()"
   ]
  },
  {
   "cell_type": "code",
   "execution_count": null,
   "metadata": {},
   "outputs": [],
   "source": []
  },
  {
   "cell_type": "code",
   "execution_count": null,
   "metadata": {},
   "outputs": [],
   "source": []
  },
  {
   "cell_type": "code",
   "execution_count": null,
   "metadata": {},
   "outputs": [],
   "source": [
    "to_print_df['계약날짜'].nunique()"
   ]
  },
  {
   "cell_type": "code",
   "execution_count": null,
   "metadata": {},
   "outputs": [],
   "source": [
    "idx_to_drop = []\n",
    "for addr in tqdm(to_print_df['지번주소'].unique()):\n",
    "    addr_df = to_print_df[to_print_df['지번주소'] == addr]\n",
    "    \n",
    "    if to_print_df['계약날짜'].nunique() > 1:\n",
    "        not_max_df = addr_df[addr_df['계약날짜'] != addr_df['계약날짜'].max()]\n",
    "        [idx_to_drop.append(i) for i in not_max_df.index]"
   ]
  },
  {
   "cell_type": "code",
   "execution_count": null,
   "metadata": {},
   "outputs": [],
   "source": [
    "len(idx_to_drop)"
   ]
  },
  {
   "cell_type": "code",
   "execution_count": null,
   "metadata": {},
   "outputs": [],
   "source": [
    "to_print_df = to_print_df.drop(idx_to_drop).reset_index(drop=True)"
   ]
  },
  {
   "cell_type": "code",
   "execution_count": null,
   "metadata": {},
   "outputs": [],
   "source": [
    "summary_df = to_print_df.drop(columns=['전용면적(㎡)', '거래금액(만원)', '층', '단가(만원/㎡)', '구_동']).drop_duplicates().reset_index(drop=True)\n",
    "print(summary_df.shape)\n",
    "summary_df.head()"
   ]
  },
  {
   "cell_type": "code",
   "execution_count": null,
   "metadata": {},
   "outputs": [],
   "source": [
    "summary_df['구_동'] = summary_df['지번주소'].apply(lambda x: x.split(' ')[1]) + '_' + summary_df['지번주소'].apply(lambda x: x.split(' ')[2])"
   ]
  },
  {
   "cell_type": "code",
   "execution_count": null,
   "metadata": {},
   "outputs": [],
   "source": [
    "summary_df = summary_df.sort_values(['구_동', '계약날짜'], ascending=[True, False]).reset_index(drop=True)\n",
    "print(summary_df.shape)\n",
    "summary_df.head()"
   ]
  },
  {
   "cell_type": "code",
   "execution_count": null,
   "metadata": {},
   "outputs": [],
   "source": [
    "summary_df = summary_df.drop(columns=['구_동'])"
   ]
  },
  {
   "cell_type": "code",
   "execution_count": null,
   "metadata": {},
   "outputs": [],
   "source": [
    "summary_df['지번주소'] = summary_df['지번주소'].apply(lambda x: x.replace('서울특별시 ', ''))\n",
    "summary_df['소유자'] = summary_df['소유자'].apply(lambda x: x.replace('서울주택도시공사', 'SH'))\n",
    "summary_df['소유자'] = summary_df['소유자'].apply(lambda x: x.replace('한국토지주택공사', 'LH'))"
   ]
  },
  {
   "cell_type": "code",
   "execution_count": null,
   "metadata": {},
   "outputs": [],
   "source": [
    "summary_df['계약날짜'].describe()"
   ]
  },
  {
   "cell_type": "code",
   "execution_count": null,
   "metadata": {},
   "outputs": [],
   "source": [
    "summary_df.to_excel(bulktrade_basedir + '2018년부터/' + '2018년01월01일부터_2021년06월22일까지_SH_LH_아파트_연립다세대_오피스텔_거래사례_요약본' + '.xlsx', index=False)"
   ]
  },
  {
   "cell_type": "code",
   "execution_count": null,
   "metadata": {},
   "outputs": [],
   "source": []
  },
  {
   "cell_type": "code",
   "execution_count": null,
   "metadata": {},
   "outputs": [],
   "source": []
  },
  {
   "cell_type": "code",
   "execution_count": null,
   "metadata": {},
   "outputs": [],
   "source": []
  },
  {
   "cell_type": "code",
   "execution_count": null,
   "metadata": {},
   "outputs": [],
   "source": [
    "summary_df['지번주소'] = '서울특별시 ' + summary_df['지번주소']"
   ]
  },
  {
   "cell_type": "code",
   "execution_count": null,
   "metadata": {},
   "outputs": [],
   "source": [
    "print_missing_df = summary_df[summary_df['지번주소'].isin(missing_df['지번주소'].unique())]\n",
    "print(print_missing_df.shape)"
   ]
  },
  {
   "cell_type": "code",
   "execution_count": null,
   "metadata": {},
   "outputs": [],
   "source": [
    "print_missing_df['지번주소'] = print_missing_df['지번주소'].apply(lambda x: x.replace('서울특별시 ', ''))"
   ]
  },
  {
   "cell_type": "code",
   "execution_count": null,
   "metadata": {},
   "outputs": [],
   "source": [
    "print_missing_df.head()"
   ]
  },
  {
   "cell_type": "code",
   "execution_count": null,
   "metadata": {},
   "outputs": [],
   "source": [
    "print_missing_df.to_excel(bulktrade_basedir + '빠진애들.xlsx', index=False)"
   ]
  },
  {
   "cell_type": "code",
   "execution_count": null,
   "metadata": {},
   "outputs": [],
   "source": []
  },
  {
   "cell_type": "code",
   "execution_count": null,
   "metadata": {},
   "outputs": [],
   "source": [
    "inv_df = concat_df[concat_df['소유자'] == '서울주택도시공사']\n",
    "print(inv_df.shape)\n",
    "inv_df.head()"
   ]
  },
  {
   "cell_type": "code",
   "execution_count": null,
   "metadata": {},
   "outputs": [],
   "source": [
    "inv_df = inv_df.sort_values(['단가(만원/㎡)'], ascending=False)\n",
    "print(inv_df.shape)\n",
    "inv_df.head()"
   ]
  },
  {
   "cell_type": "code",
   "execution_count": null,
   "metadata": {},
   "outputs": [],
   "source": []
  },
  {
   "cell_type": "code",
   "execution_count": null,
   "metadata": {},
   "outputs": [],
   "source": []
  },
  {
   "cell_type": "code",
   "execution_count": null,
   "metadata": {},
   "outputs": [],
   "source": []
  },
  {
   "cell_type": "code",
   "execution_count": null,
   "metadata": {},
   "outputs": [],
   "source": []
  },
  {
   "cell_type": "code",
   "execution_count": null,
   "metadata": {},
   "outputs": [],
   "source": []
  },
  {
   "cell_type": "code",
   "execution_count": null,
   "metadata": {},
   "outputs": [],
   "source": [
    "land_specs_df = pd.read_csv('./prepped_data/land_specs_baseline.csv')\n",
    "print(land_specs_df.shape)\n",
    "land_specs_df.head()"
   ]
  },
  {
   "cell_type": "code",
   "execution_count": null,
   "metadata": {},
   "outputs": [],
   "source": [
    "last_df = land_specs_df.drop_duplicates(subset=['지번주소'], keep='last').drop(columns=['년']).reset_index(drop=True)\n",
    "print(last_df.shape)\n",
    "last_df.head()"
   ]
  },
  {
   "cell_type": "code",
   "execution_count": null,
   "metadata": {},
   "outputs": [],
   "source": [
    "merge_df = concat_df.merge(last_df, on=['지번주소'])\n",
    "print(merge_df.shape)\n",
    "merge_df.head()"
   ]
  },
  {
   "cell_type": "code",
   "execution_count": null,
   "metadata": {},
   "outputs": [],
   "source": [
    "merge_df['도로접면'].value_counts()"
   ]
  },
  {
   "cell_type": "code",
   "execution_count": null,
   "metadata": {},
   "outputs": [],
   "source": [
    "inv_idx = []\n",
    "for addr in tqdm(concat_df['지번주소'].unique()):\n",
    "    addr_df = concat_df[concat_df['지번주소'] == addr]\n",
    "    \n",
    "    if addr_df['부동산유형'].nunique() > 1:\n",
    "        [inv_idx.append(i) for i in addr_df.index]"
   ]
  },
  {
   "cell_type": "code",
   "execution_count": null,
   "metadata": {},
   "outputs": [],
   "source": [
    "len(inv_idx)"
   ]
  },
  {
   "cell_type": "code",
   "execution_count": null,
   "metadata": {},
   "outputs": [],
   "source": [
    "yunrip_officetel_df = concat_df.loc[inv_idx]\n",
    "print(yunrip_officetel_df.shape)\n",
    "yunrip_officetel_df.head()"
   ]
  },
  {
   "cell_type": "code",
   "execution_count": null,
   "metadata": {},
   "outputs": [],
   "source": [
    "yunrip_officetel_df['지번주소'].nunique()"
   ]
  },
  {
   "cell_type": "code",
   "execution_count": null,
   "metadata": {},
   "outputs": [],
   "source": [
    "for addr in yunrip_officetel_df['지번주소'].unique():\n",
    "    addr_df = yunrip_officetel_df[yunrip_officetel_df['지번주소'] == addr]\n",
    "    \n",
    "    addr_df = addr_df.drop(columns=['도로명', '계약날짜기준_건물연식', '건물연식', '구', '동', '지수적용단가', '평가날짜', '구_동'])\n",
    "    \n",
    "    addr_df.to_excel('./연립다세대_오피스텔_같이사례_주소별/' + addr + '.xlsx', index=False)\n",
    "    \n",
    "    print(addr_df.shape)\n",
    "    display(addr_df)"
   ]
  },
  {
   "cell_type": "code",
   "execution_count": null,
   "metadata": {},
   "outputs": [],
   "source": [
    "1131.413262 / 1274.182789"
   ]
  },
  {
   "cell_type": "code",
   "execution_count": null,
   "metadata": {},
   "outputs": [],
   "source": [
    "889.092576 / 1324.609734"
   ]
  },
  {
   "cell_type": "code",
   "execution_count": null,
   "metadata": {},
   "outputs": [],
   "source": [
    "972.300735 / 1370.087336"
   ]
  },
  {
   "cell_type": "code",
   "execution_count": null,
   "metadata": {},
   "outputs": [],
   "source": [
    "1563.467492 / 1615.878107"
   ]
  },
  {
   "cell_type": "code",
   "execution_count": null,
   "metadata": {},
   "outputs": [],
   "source": [
    "1114.762516 / 1222.272522"
   ]
  },
  {
   "cell_type": "code",
   "execution_count": null,
   "metadata": {},
   "outputs": [],
   "source": [
    "648.957633 / 884.445951"
   ]
  },
  {
   "cell_type": "code",
   "execution_count": null,
   "metadata": {},
   "outputs": [],
   "source": [
    "623.745819 / 689.285714"
   ]
  },
  {
   "cell_type": "code",
   "execution_count": null,
   "metadata": {},
   "outputs": [],
   "source": [
    "yunrip_officetel_df.to_excel('SH_LH_거래사례중_연립다세대_오피스텔_같이_있는_사례들.xlsx')"
   ]
  },
  {
   "cell_type": "code",
   "execution_count": null,
   "metadata": {},
   "outputs": [],
   "source": []
  },
  {
   "cell_type": "code",
   "execution_count": null,
   "metadata": {},
   "outputs": [],
   "source": []
  },
  {
   "cell_type": "code",
   "execution_count": null,
   "metadata": {},
   "outputs": [],
   "source": []
  },
  {
   "cell_type": "code",
   "execution_count": null,
   "metadata": {},
   "outputs": [],
   "source": []
  },
  {
   "cell_type": "code",
   "execution_count": null,
   "metadata": {},
   "outputs": [],
   "source": []
  },
  {
   "cell_type": "code",
   "execution_count": null,
   "metadata": {},
   "outputs": [],
   "source": [
    "count = 0\n",
    "for addr in tqdm(concat_df['구_동'].unique()):\n",
    "    addr_df = concat_df[concat_df['구_동'] == addr]\n",
    "    addr_df = addr_df[['지번주소', '건물(단지)명', '건축년도', '건물연식', '계약날짜기준_건물연식', '층', '전용면적(㎡)',\n",
    "                       '계약날짜', '단가(만원/㎡)', '평가날짜', '지수적용단가', '소유자', '부동산유형'\n",
    "                      ]]\n",
    "    addr_df = addr_df.sort_values(['지번주소', '건축년도', '계약날짜', '층', '전용면적(㎡)'])\n",
    "    addr_df.to_excel(bulktrade_basedir + '동별/' + addr + '.xlsx', index=False)\n",
    "    \n",
    "    \n",
    "    \n",
    "    \n",
    "    count += 1"
   ]
  },
  {
   "cell_type": "code",
   "execution_count": null,
   "metadata": {},
   "outputs": [],
   "source": [
    "concat_df['지번주소'].nunique()"
   ]
  },
  {
   "cell_type": "code",
   "execution_count": null,
   "metadata": {},
   "outputs": [],
   "source": [
    "concat_df.head()"
   ]
  },
  {
   "cell_type": "code",
   "execution_count": null,
   "metadata": {},
   "outputs": [],
   "source": [
    "addr_to_inv = []\n",
    "for addr in tqdm(concat_df['지번주소'].unique()):\n",
    "    addr_df = concat_df[concat_df['지번주소'] == addr]\n",
    "    \n",
    "    inv_30_df = addr_df[\n",
    "        (addr_df['전용면적(㎡)'] >= 28)\n",
    "        &(addr_df['전용면적(㎡)'] <= 32)\n",
    "    ]\n",
    "    \n",
    "    inv_80_df = addr_df[\n",
    "        (addr_df['전용면적(㎡)'] >= 80)\n",
    "    ]\n",
    "    \n",
    "    if (inv_30_df.shape[0] > 1) & (inv_80_df.shape[0] > 1):\n",
    "        addr_to_inv.append(addr)"
   ]
  },
  {
   "cell_type": "code",
   "execution_count": null,
   "metadata": {},
   "outputs": [],
   "source": [
    "len(addr_to_inv)"
   ]
  },
  {
   "cell_type": "code",
   "execution_count": null,
   "metadata": {},
   "outputs": [],
   "source": [
    "addr_to_inv = []\n",
    "for addr in tqdm(concat_df['지번주소'].unique()):\n",
    "    addr_df = concat_df[concat_df['지번주소'] == addr]\n",
    "\n",
    "    inv_80_df = addr_df[\n",
    "        (addr_df['전용면적(㎡)'] >= 80)\n",
    "    ]\n",
    "    \n",
    "    if (inv_80_df.shape[0] > 1):\n",
    "        addr_to_inv.append(addr)"
   ]
  },
  {
   "cell_type": "code",
   "execution_count": null,
   "metadata": {},
   "outputs": [],
   "source": [
    "len(addr_to_inv)"
   ]
  },
  {
   "cell_type": "code",
   "execution_count": null,
   "metadata": {},
   "outputs": [],
   "source": [
    "addr_to_inv"
   ]
  },
  {
   "cell_type": "code",
   "execution_count": null,
   "metadata": {},
   "outputs": [],
   "source": [
    "inv_df = concat_df[concat_df['지번주소'].isin(addr_to_inv)]\n",
    "print(inv_df.shape)\n",
    "inv_df.head()"
   ]
  },
  {
   "cell_type": "code",
   "execution_count": null,
   "metadata": {
    "scrolled": false
   },
   "outputs": [],
   "source": [
    "inv_df"
   ]
  },
  {
   "cell_type": "code",
   "execution_count": null,
   "metadata": {},
   "outputs": [],
   "source": []
  },
  {
   "cell_type": "code",
   "execution_count": null,
   "metadata": {},
   "outputs": [],
   "source": []
  },
  {
   "cell_type": "code",
   "execution_count": null,
   "metadata": {},
   "outputs": [],
   "source": []
  },
  {
   "cell_type": "code",
   "execution_count": null,
   "metadata": {},
   "outputs": [],
   "source": []
  },
  {
   "cell_type": "code",
   "execution_count": null,
   "metadata": {},
   "outputs": [],
   "source": [
    "concat_df['전용면적(㎡)'] = concat_df['전용면적(㎡)'].apply(round)"
   ]
  },
  {
   "cell_type": "code",
   "execution_count": null,
   "metadata": {},
   "outputs": [],
   "source": [
    "concat_df['평균단가'] = concat_df[['지번주소', '건축년도', '전용면적(㎡)', '단가(만원/㎡)']].groupby(['지번주소', '건축년도', '전용면적(㎡)']).transform('mean')['단가(만원/㎡)']"
   ]
  },
  {
   "cell_type": "code",
   "execution_count": null,
   "metadata": {},
   "outputs": [],
   "source": [
    "concat_df['지수적용평균단가'] = concat_df[['지번주소', '건축년도', '전용면적(㎡)', '지수적용단가']].groupby(['지번주소', '건축년도', '전용면적(㎡)']).transform('mean')['지수적용단가']"
   ]
  },
  {
   "cell_type": "code",
   "execution_count": null,
   "metadata": {},
   "outputs": [],
   "source": [
    "concat_df = concat_df.drop(columns=['도로명', '거래금액(만원)', '층', '단가(만원/㎡)', '지수적용단가']).drop_duplicates().reset_index(drop=True)\n",
    "print(concat_df.shape)\n",
    "concat_df.head()"
   ]
  },
  {
   "cell_type": "code",
   "execution_count": null,
   "metadata": {},
   "outputs": [],
   "source": []
  },
  {
   "cell_type": "code",
   "execution_count": null,
   "metadata": {},
   "outputs": [],
   "source": []
  },
  {
   "cell_type": "code",
   "execution_count": null,
   "metadata": {},
   "outputs": [],
   "source": []
  },
  {
   "cell_type": "code",
   "execution_count": null,
   "metadata": {},
   "outputs": [],
   "source": []
  },
  {
   "cell_type": "code",
   "execution_count": null,
   "metadata": {},
   "outputs": [],
   "source": [
    "yunrip_selected_df = yunrip_bulk_df[['지번주소', '건축년도', '건물연식', '계약날짜', '계약날짜기준_건물연식', '전용면적(㎡)', '지번별_전용면적별_평균단가', '부동산유형', '소유자']].drop_duplicates().reset_index(drop=True)\n",
    "print(yunrip_selected_df.shape)\n",
    "yunrip_selected_df.head()"
   ]
  },
  {
   "cell_type": "code",
   "execution_count": null,
   "metadata": {},
   "outputs": [],
   "source": [
    "yunrip_selected_df = yunrip_selected_df.sort_values(['지번주소']).reset_index(drop=True)\n",
    "yunrip_selected_df.to_excel(bulktrade_basedir + '최근_6개월_SH_LH_거래사례.xlsx', index=False)"
   ]
  },
  {
   "cell_type": "code",
   "execution_count": null,
   "metadata": {},
   "outputs": [],
   "source": [
    "yunrip_selected_df['지번별_평균단가'] = yunrip_selected_df[['지번주소', '건축년도', '계약날짜', '지번별_전용면적별_평균단가']].groupby(['지번주소', '건축년도', '계약날짜']).transform('mean')['지번별_전용면적별_평균단가']"
   ]
  },
  {
   "cell_type": "code",
   "execution_count": null,
   "metadata": {},
   "outputs": [],
   "source": [
    "yunrip_selected_df = yunrip_selected_df.drop(columns=['전용면적(㎡)', '지번별_전용면적별_평균단가']).drop_duplicates().reset_index(drop=True)\n",
    "print(yunrip_selected_df.shape)\n",
    "yunrip_selected_df.head()"
   ]
  },
  {
   "cell_type": "code",
   "execution_count": null,
   "metadata": {},
   "outputs": [],
   "source": [
    "yunrip_selected_df['구'] = yunrip_selected_df['지번주소'].apply(lambda x: x.split(' ')[1])\n",
    "yunrip_selected_df['동'] = yunrip_selected_df['지번주소'].apply(lambda x: x.split(' ')[2])\n",
    "yunrip_selected_df['구동'] = yunrip_selected_df['구'] + '_' + yunrip_selected_df['동']"
   ]
  },
  {
   "cell_type": "code",
   "execution_count": null,
   "metadata": {},
   "outputs": [],
   "source": [
    "basedir = './국토교통부_실거래가_공개시스템/땅값분석/'\n",
    "yunrip_df = pd.read_csv(basedir + 'yunrip_25.csv')\n",
    "commerce_df = pd.read_csv(basedir + 'commerce_25.csv')\n",
    "land_df = pd.read_csv(basedir + 'land.csv')"
   ]
  },
  {
   "cell_type": "code",
   "execution_count": null,
   "metadata": {},
   "outputs": [],
   "source": [
    "common_cols = ['시군구', '번지', '용도지역', '도로조건', '계약날짜', '대지면적(㎡)', '거래금액(만원)', '단가(㎡)', '단가(평)', '부동산유형', '건물연식']\n",
    "common_df = pd.concat([yunrip_df[common_cols], commerce_df[common_cols], land_df[[col for col in land_df.columns if col not in ['지목', '지분구분', '해제사유발생일']]]])\n",
    "common_df['계약날짜'] = pd.to_datetime(common_df['계약날짜'], format='%Y-%m-%d')\n",
    "print(common_df.shape)\n",
    "common_df.head()"
   ]
  },
  {
   "cell_type": "code",
   "execution_count": null,
   "metadata": {},
   "outputs": [],
   "source": [
    "common_df['구'] = common_df['시군구'].apply(lambda x: x.split(' ')[1])\n",
    "common_df['동'] = common_df['시군구'].apply(lambda x: x.split(' ')[2])"
   ]
  },
  {
   "cell_type": "code",
   "execution_count": null,
   "metadata": {},
   "outputs": [],
   "source": [
    "yunrip_bulk_df['구동'] = yunrip_bulk_df['구'] + '_' + yunrip_bulk_df['동']"
   ]
  },
  {
   "cell_type": "code",
   "execution_count": null,
   "metadata": {},
   "outputs": [],
   "source": [
    "summary_df = pd.DataFrame({'지역':[], '2종일반중간값':[], '집값중간값':[]})\n",
    "\n",
    "count = 0\n",
    "for gudong in tqdm(yunrip_selected_df['구동'].unique()):\n",
    "    gu = gudong.split('_')[0]\n",
    "    dong = gudong.split('_')[1]\n",
    "    \n",
    "    target_gu = gu\n",
    "    target_dong = dong\n",
    "    target_purpose = '2종일반'\n",
    "    \n",
    "    target_df = common_df[\n",
    "        (common_df['구'] == target_gu)\n",
    "        &(common_df['동'] == target_dong)\n",
    "        &(common_df['용도지역'].str.contains(target_purpose))\n",
    "        &(common_df['계약날짜'] >= (date_today - pd.DateOffset(months=target_period)))\n",
    "        &(common_df['단가(㎡)'] > 250)\n",
    "    ].sort_values(['번지'])\n",
    "    \n",
    "    yunrip_target_df = yunrip_selected_df[\n",
    "        (yunrip_selected_df['구동'] == gudong)\n",
    "    ]\n",
    "    \n",
    "    summary_df.loc[count, '지역'] = gudong\n",
    "    summary_df.loc[count, '2종일반중간값'] = target_df['단가(㎡)'].median()\n",
    "    summary_df.loc[count, '집값중간값'] = yunrip_target_df['지번별_평균단가'].median()\n",
    "    \n",
    "    count += 1"
   ]
  },
  {
   "cell_type": "code",
   "execution_count": null,
   "metadata": {},
   "outputs": [],
   "source": [
    "summary_df['차이'] = summary_df['집값중간값'] - summary_df['2종일반중간값']"
   ]
  },
  {
   "cell_type": "code",
   "execution_count": null,
   "metadata": {},
   "outputs": [],
   "source": [
    "summary_df = summary_df.sort_values(['차이'], ascending=False).reset_index(drop=True)\n",
    "print(summary_df.shape)\n",
    "summary_df.head()"
   ]
  },
  {
   "cell_type": "code",
   "execution_count": null,
   "metadata": {},
   "outputs": [],
   "source": [
    "summary_df"
   ]
  },
  {
   "cell_type": "code",
   "execution_count": null,
   "metadata": {},
   "outputs": [],
   "source": [
    "summary_df.to_excel('지역별_땅값_일괄매매_중간값.xlsx', index=False)"
   ]
  },
  {
   "cell_type": "code",
   "execution_count": null,
   "metadata": {},
   "outputs": [],
   "source": [
    "summary_df = pd.DataFrame({'지역':[], '2종일반평균':[], '집값평균':[]})\n",
    "\n",
    "count = 0\n",
    "for gudong in tqdm(yunrip_bulk_df['구동'].unique()):\n",
    "    gu = gudong.split('_')[0]\n",
    "    dong = gudong.split('_')[1]\n",
    "    \n",
    "    target_gu = gu\n",
    "    target_dong = dong\n",
    "    target_purpose = '2종일반'\n",
    "    \n",
    "    target_df = common_df[\n",
    "        (common_df['구'] == target_gu)\n",
    "        &(common_df['동'] == target_dong)\n",
    "        &(common_df['용도지역'].str.contains(target_purpose))\n",
    "        &(common_df['계약날짜'] >= (date_today - pd.DateOffset(months=target_period)))\n",
    "        &(common_df['단가(㎡)'] > 250)\n",
    "    ].sort_values(['번지'])\n",
    "    \n",
    "    yunrip_target_df = yunrip_selected_df[\n",
    "        (yunrip_selected_df['구동'] == gudong)\n",
    "    ]\n",
    "    \n",
    "    summary_df.loc[count, '지역'] = gudong\n",
    "    summary_df.loc[count, '2종일반평균'] = target_df['단가(㎡)'].mean()\n",
    "    summary_df.loc[count, '집값평균'] = yunrip_target_df['지번별_평균단가'].mean()\n",
    "    \n",
    "    count += 1"
   ]
  },
  {
   "cell_type": "code",
   "execution_count": null,
   "metadata": {},
   "outputs": [],
   "source": [
    "summary_df['차이'] = summary_df['집값평균'] - summary_df['2종일반평균']"
   ]
  },
  {
   "cell_type": "code",
   "execution_count": null,
   "metadata": {},
   "outputs": [],
   "source": [
    "summary_df = summary_df.sort_values(['차이'], ascending=False).reset_index(drop=True)\n",
    "print(summary_df.shape)\n",
    "summary_df.head()"
   ]
  },
  {
   "cell_type": "code",
   "execution_count": null,
   "metadata": {},
   "outputs": [],
   "source": [
    "summary_df"
   ]
  },
  {
   "cell_type": "code",
   "execution_count": null,
   "metadata": {},
   "outputs": [],
   "source": [
    "summary_df.to_excel('지역별_땅값_일괄매매_평균.xlsx', index=False)"
   ]
  },
  {
   "cell_type": "code",
   "execution_count": null,
   "metadata": {},
   "outputs": [],
   "source": []
  },
  {
   "cell_type": "code",
   "execution_count": null,
   "metadata": {},
   "outputs": [],
   "source": [
    "yunrip_selected_df.head()"
   ]
  },
  {
   "cell_type": "code",
   "execution_count": null,
   "metadata": {},
   "outputs": [],
   "source": [
    "inv_df = yunrip_selected_df[yunrip_selected_df['구동'] == '성동구_마장동']\n",
    "print(inv_df.shape)\n",
    "inv_df.head()"
   ]
  },
  {
   "cell_type": "code",
   "execution_count": null,
   "metadata": {},
   "outputs": [],
   "source": []
  },
  {
   "cell_type": "code",
   "execution_count": null,
   "metadata": {},
   "outputs": [],
   "source": []
  },
  {
   "cell_type": "code",
   "execution_count": null,
   "metadata": {},
   "outputs": [],
   "source": []
  },
  {
   "cell_type": "code",
   "execution_count": null,
   "metadata": {},
   "outputs": [],
   "source": []
  },
  {
   "cell_type": "code",
   "execution_count": null,
   "metadata": {},
   "outputs": [],
   "source": []
  },
  {
   "cell_type": "code",
   "execution_count": null,
   "metadata": {},
   "outputs": [],
   "source": []
  },
  {
   "cell_type": "code",
   "execution_count": null,
   "metadata": {},
   "outputs": [],
   "source": [
    "def mean_prices_per_size(df):\n",
    "    df = df.copy()\n",
    "    \n",
    "    df['크기별_평균단가'] = df[['지번주소', '건축년도', '계약날짜', '전용면적(㎡)', '단가(만원/㎡)']].groupby(['지번주소', '건축년도', '계약날짜', '전용면적(㎡)']).transform('mean')['단가(만원/㎡)']\n",
    "    df['크기별_평균총액'] = df[['지번주소', '건축년도', '계약날짜', '전용면적(㎡)', '거래금액(만원)']].groupby(['지번주소', '건축년도', '계약날짜', '전용면적(㎡)']).transform('mean')['거래금액(만원)']\n",
    "    df = df[['지번주소', '건축년도', '건물연식', '계약날짜', '계약날짜기준_건물연식', '전용면적(㎡)', '크기별_평균총액', '크기별_평균단가']]\n",
    "    df = df.drop_duplicates().reset_index(drop=True)\n",
    "    \n",
    "    return df"
   ]
  },
  {
   "cell_type": "code",
   "execution_count": null,
   "metadata": {},
   "outputs": [],
   "source": [
    "yunrip_short_df = mean_prices_per_size(yunrip_selected_df)\n",
    "print(yunrip_short_df.shape)\n",
    "yunrip_short_df.head()"
   ]
  },
  {
   "cell_type": "code",
   "execution_count": null,
   "metadata": {},
   "outputs": [],
   "source": []
  },
  {
   "cell_type": "code",
   "execution_count": null,
   "metadata": {},
   "outputs": [],
   "source": []
  },
  {
   "cell_type": "code",
   "execution_count": null,
   "metadata": {},
   "outputs": [],
   "source": []
  },
  {
   "cell_type": "code",
   "execution_count": null,
   "metadata": {},
   "outputs": [],
   "source": []
  },
  {
   "cell_type": "code",
   "execution_count": null,
   "metadata": {},
   "outputs": [],
   "source": []
  },
  {
   "cell_type": "code",
   "execution_count": null,
   "metadata": {},
   "outputs": [],
   "source": []
  },
  {
   "cell_type": "code",
   "execution_count": null,
   "metadata": {},
   "outputs": [],
   "source": []
  },
  {
   "cell_type": "code",
   "execution_count": null,
   "metadata": {},
   "outputs": [],
   "source": []
  },
  {
   "cell_type": "code",
   "execution_count": null,
   "metadata": {},
   "outputs": [],
   "source": []
  },
  {
   "cell_type": "code",
   "execution_count": null,
   "metadata": {},
   "outputs": [],
   "source": []
  }
 ],
 "metadata": {
  "kernelspec": {
   "display_name": "Python 3",
   "language": "python",
   "name": "python3"
  },
  "language_info": {
   "codemirror_mode": {
    "name": "ipython",
    "version": 3
   },
   "file_extension": ".py",
   "mimetype": "text/x-python",
   "name": "python",
   "nbconvert_exporter": "python",
   "pygments_lexer": "ipython3",
   "version": "3.7.9"
  }
 },
 "nbformat": 4,
 "nbformat_minor": 4
}
