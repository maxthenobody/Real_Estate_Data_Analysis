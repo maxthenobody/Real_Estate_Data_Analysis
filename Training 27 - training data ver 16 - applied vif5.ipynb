{
 "cells": [
  {
   "cell_type": "code",
   "execution_count": 1,
   "metadata": {},
   "outputs": [],
   "source": [
    "import numpy as np\n",
    "import pandas as pd\n",
    "import matplotlib.pyplot as plt\n",
    "import os\n",
    "import math\n",
    "from tqdm import tqdm\n",
    "import requests\n",
    "from urllib.parse import urlparse\n",
    "pd.set_option('display.max_rows', 500)\n",
    "pd.set_option('display.max_columns', 500)\n",
    "import datetime\n",
    "from sklearn.preprocessing import quantile_transform\n",
    "pd.options.mode.chained_assignment = None  # default='warn'\n",
    "import gc\n",
    "import matplotlib\n",
    "matplotlib.rcParams['axes.unicode_minus'] = False\n",
    "font_path = './NanumFontSetup_TTF_BARUNGOTHIC/NanumBarunGothic.ttf'\n",
    "import matplotlib.font_manager as fm\n",
    "fontprop = fm.FontProperties(fname=font_path, size=18)\n",
    "import seaborn as sns\n",
    "import shap"
   ]
  },
  {
   "cell_type": "code",
   "execution_count": 2,
   "metadata": {},
   "outputs": [
    {
     "name": "stdout",
     "output_type": "stream",
     "text": [
      "Wall time: 1min 25s\n"
     ]
    }
   ],
   "source": [
    "%%time\n",
    "# Read Data\n",
    "basedir = './Training/training_data_ver_16/'\n",
    "training_data_df = pd.read_csv(basedir + 'training_data_ver_16.csv').drop(columns=['주택가격지수']).dropna()\n",
    "#training_data_df = training_data_df[(training_data_df['가격면적'] >= 200) & (training_data_df['가격면적'] <= 1500)]\n",
    "training_data_df.columns = [col.replace(' ','_').replace('·','_') for col in training_data_df.columns]"
   ]
  },
  {
   "cell_type": "code",
   "execution_count": 3,
   "metadata": {
    "scrolled": true
   },
   "outputs": [],
   "source": [
    "training_data_df = training_data_df[(training_data_df['가격면적'] >= 200) & (training_data_df['가격면적'] <= 3000)]"
   ]
  },
  {
   "cell_type": "code",
   "execution_count": 4,
   "metadata": {},
   "outputs": [],
   "source": [
    "training_data_df['호수대비부속건축물면적'] = training_data_df['부속건축물면적'] / training_data_df['총호수']"
   ]
  },
  {
   "cell_type": "code",
   "execution_count": 5,
   "metadata": {},
   "outputs": [],
   "source": [
    "training_data_df = training_data_df[(training_data_df['호수대비부속건축물면적'] < 100)]"
   ]
  },
  {
   "cell_type": "code",
   "execution_count": 6,
   "metadata": {},
   "outputs": [],
   "source": [
    "training_data_df = training_data_df.reset_index(drop=True)"
   ]
  },
  {
   "cell_type": "code",
   "execution_count": 7,
   "metadata": {},
   "outputs": [],
   "source": [
    "cols_to_log = ['총건축면적', '총연면적', '총용적률연면적', '토지면적', '부속건축물면적']\n",
    "for col in cols_to_log:\n",
    "    training_data_df[col] = training_data_df[col].apply(np.log1p)"
   ]
  },
  {
   "cell_type": "code",
   "execution_count": 8,
   "metadata": {},
   "outputs": [],
   "source": [
    "cat_cols_df = pd.read_csv(basedir + 'cat_cols.csv')"
   ]
  },
  {
   "cell_type": "code",
   "execution_count": 9,
   "metadata": {},
   "outputs": [
    {
     "data": {
      "text/plain": [
       "296"
      ]
     },
     "execution_count": 9,
     "metadata": {},
     "output_type": "execute_result"
    }
   ],
   "source": [
    "cat_cols_list = [col.replace(' ','_').replace('·','_') for col in cat_cols_df['colname'].tolist()]\n",
    "len(cat_cols_list)"
   ]
  },
  {
   "cell_type": "code",
   "execution_count": 10,
   "metadata": {},
   "outputs": [
    {
     "data": {
      "text/plain": [
       "296"
      ]
     },
     "execution_count": 10,
     "metadata": {},
     "output_type": "execute_result"
    }
   ],
   "source": [
    "cat_cols = [col for col in training_data_df.columns if col in cat_cols_list]\n",
    "len(cat_cols)"
   ]
  },
  {
   "cell_type": "code",
   "execution_count": 11,
   "metadata": {},
   "outputs": [
    {
     "data": {
      "text/plain": [
       "['건물나이',\n",
       " 'trade_type',\n",
       " '표준지여부',\n",
       " '지목명',\n",
       " '용도지역명1',\n",
       " '용도지역명2',\n",
       " '토지이동상황',\n",
       " '지형높이',\n",
       " '지형형상',\n",
       " '도로접면']"
      ]
     },
     "execution_count": 11,
     "metadata": {},
     "output_type": "execute_result"
    }
   ],
   "source": [
    "cat_cols[:10]"
   ]
  },
  {
   "cell_type": "code",
   "execution_count": 12,
   "metadata": {},
   "outputs": [
    {
     "name": "stdout",
     "output_type": "stream",
     "text": [
      "(16, 1)\n"
     ]
    },
    {
     "data": {
      "text/html": [
       "<div>\n",
       "<style scoped>\n",
       "    .dataframe tbody tr th:only-of-type {\n",
       "        vertical-align: middle;\n",
       "    }\n",
       "\n",
       "    .dataframe tbody tr th {\n",
       "        vertical-align: top;\n",
       "    }\n",
       "\n",
       "    .dataframe thead th {\n",
       "        text-align: right;\n",
       "    }\n",
       "</style>\n",
       "<table border=\"1\" class=\"dataframe\">\n",
       "  <thead>\n",
       "    <tr style=\"text-align: right;\">\n",
       "      <th></th>\n",
       "      <th>cols_to_drop</th>\n",
       "    </tr>\n",
       "  </thead>\n",
       "  <tbody>\n",
       "    <tr>\n",
       "      <th>0</th>\n",
       "      <td>총건축면적</td>\n",
       "    </tr>\n",
       "    <tr>\n",
       "      <th>1</th>\n",
       "      <td>호수대비연면적</td>\n",
       "    </tr>\n",
       "    <tr>\n",
       "      <th>2</th>\n",
       "      <td>토지면적</td>\n",
       "    </tr>\n",
       "    <tr>\n",
       "      <th>3</th>\n",
       "      <td>광로2류(폭_50M~70M)</td>\n",
       "    </tr>\n",
       "    <tr>\n",
       "      <th>4</th>\n",
       "      <td>상대보호구역</td>\n",
       "    </tr>\n",
       "  </tbody>\n",
       "</table>\n",
       "</div>"
      ],
      "text/plain": [
       "      cols_to_drop\n",
       "0            총건축면적\n",
       "1          호수대비연면적\n",
       "2             토지면적\n",
       "3  광로2류(폭_50M~70M)\n",
       "4           상대보호구역"
      ]
     },
     "execution_count": 12,
     "metadata": {},
     "output_type": "execute_result"
    }
   ],
   "source": [
    "vif_result_df = pd.read_csv('./Production_Prep/vif5.csv')\n",
    "print(vif_result_df.shape)\n",
    "vif_result_df.head()"
   ]
  },
  {
   "cell_type": "code",
   "execution_count": 13,
   "metadata": {},
   "outputs": [
    {
     "data": {
      "text/plain": [
       "['총건축면적',\n",
       " '호수대비연면적',\n",
       " '토지면적',\n",
       " '광로2류(폭_50M~70M)',\n",
       " '상대보호구역',\n",
       " '지구단위계획구역',\n",
       " '전용면적_max',\n",
       " '총연면적',\n",
       " '전용면적_mean',\n",
       " '총용적률연면적',\n",
       " '층max',\n",
       " '상대정화구역',\n",
       " '층median',\n",
       " '주_용도_공동주택_fraction',\n",
       " '전용면적_min',\n",
       " '철근콘크리트구조_fraction']"
      ]
     },
     "execution_count": 13,
     "metadata": {},
     "output_type": "execute_result"
    }
   ],
   "source": [
    "vif_cols_to_drop = vif_result_df['cols_to_drop'].tolist()\n",
    "vif_cols_to_drop"
   ]
  },
  {
   "cell_type": "markdown",
   "metadata": {},
   "source": [
    "# Training"
   ]
  },
  {
   "cell_type": "code",
   "execution_count": 14,
   "metadata": {},
   "outputs": [],
   "source": [
    "from sklearn.model_selection import KFold, GroupKFold"
   ]
  },
  {
   "cell_type": "code",
   "execution_count": 15,
   "metadata": {},
   "outputs": [],
   "source": [
    "import lightgbm as lgb"
   ]
  },
  {
   "cell_type": "code",
   "execution_count": 16,
   "metadata": {},
   "outputs": [],
   "source": [
    "from sklearn.metrics import r2_score"
   ]
  },
  {
   "cell_type": "code",
   "execution_count": 17,
   "metadata": {},
   "outputs": [],
   "source": [
    "kf = KFold(n_splits=5, shuffle=True, random_state=42)"
   ]
  },
  {
   "cell_type": "code",
   "execution_count": 18,
   "metadata": {},
   "outputs": [],
   "source": [
    "target_cols = ['금액(만원)', '가격면적', 'target_log_transformed', 'targetarea_log_transformed', '지번주소']"
   ]
  },
  {
   "cell_type": "code",
   "execution_count": 19,
   "metadata": {},
   "outputs": [],
   "source": [
    "cols_to_drop = target_cols + vif_cols_to_drop"
   ]
  },
  {
   "cell_type": "code",
   "execution_count": 20,
   "metadata": {},
   "outputs": [
    {
     "data": {
      "text/plain": [
       "292"
      ]
     },
     "execution_count": 20,
     "metadata": {},
     "output_type": "execute_result"
    }
   ],
   "source": [
    "cat_cols = [col for col in cat_cols if col not in cols_to_drop]\n",
    "len(cat_cols)"
   ]
  },
  {
   "cell_type": "code",
   "execution_count": 21,
   "metadata": {},
   "outputs": [],
   "source": [
    "# Next things to do:\n",
    "# 1. Do Variance Inflation Factor (VIF) analysis.\n",
    "# 2. keep the feature with the highest shap value\n",
    "# 3. Retrain\n",
    "# 4. Remove 1 feature at a time and find out the set of feature with the lowest loss.\n",
    "# 5. Retrain\n",
    "# 6. Continue production prep"
   ]
  },
  {
   "cell_type": "code",
   "execution_count": 22,
   "metadata": {},
   "outputs": [
    {
     "name": "stdout",
     "output_type": "stream",
     "text": [
      "Fold 0 start\n",
      "y dist plot\n"
     ]
    },
    {
     "data": {
      "image/png": "[encoded data removed]",
      "text/plain": [
       "<Figure size 432x288 with 1 Axes>"
      ]
     },
     "metadata": {
      "needs_background": "light"
     },
     "output_type": "display_data"
    },
    {
     "name": "stderr",
     "output_type": "stream",
     "text": [
      "Using categorical_feature in Dataset.\n"
     ]
    },
    {
     "name": "stdout",
     "output_type": "stream",
     "text": [
      "[LightGBM] [Warning] Auto-choosing row-wise multi-threading, the overhead of testing was 0.922717 seconds.\n",
      "You can set `force_row_wise=true` to remove the overhead.\n",
      "And if memory is not enough, you can set `force_col_wise=true`.\n",
      "[LightGBM] [Info] Total Bins 7768\n",
      "[LightGBM] [Info] Number of data points in the train set: 2926580, number of used features: 362\n"
     ]
    },
    {
     "name": "stderr",
     "output_type": "stream",
     "text": [
      "Overriding the parameters from Reference Dataset.\n",
      "categorical_column in param dict is overridden.\n"
     ]
    },
    {
     "name": "stdout",
     "output_type": "stream",
     "text": [
      "[LightGBM] [Info] Start training from score 524.640869\n",
      "Training until validation scores don't improve for 500 rounds\n",
      "[50]\tvalid_0's huber: 79.4364\n",
      "[100]\tvalid_0's huber: 64.8148\n",
      "[150]\tvalid_0's huber: 58.7747\n",
      "[200]\tvalid_0's huber: 55.029\n",
      "[250]\tvalid_0's huber: 52.649\n",
      "[300]\tvalid_0's huber: 51.0158\n",
      "[350]\tvalid_0's huber: 49.6224\n",
      "[400]\tvalid_0's huber: 48.4377\n",
      "[450]\tvalid_0's huber: 47.498\n",
      "[500]\tvalid_0's huber: 46.7028\n",
      "[550]\tvalid_0's huber: 46.0208\n",
      "[600]\tvalid_0's huber: 45.3746\n",
      "[650]\tvalid_0's huber: 44.7939\n",
      "[700]\tvalid_0's huber: 44.2959\n",
      "[750]\tvalid_0's huber: 43.81\n",
      "[800]\tvalid_0's huber: 43.3478\n",
      "[850]\tvalid_0's huber: 42.9686\n",
      "[900]\tvalid_0's huber: 42.6416\n",
      "[950]\tvalid_0's huber: 42.2936\n",
      "[1000]\tvalid_0's huber: 42.0025\n",
      "[1050]\tvalid_0's huber: 41.7419\n",
      "[1100]\tvalid_0's huber: 41.4528\n",
      "[1150]\tvalid_0's huber: 41.174\n",
      "[1200]\tvalid_0's huber: 40.9608\n",
      "[1250]\tvalid_0's huber: 40.7258\n",
      "[1300]\tvalid_0's huber: 40.4835\n",
      "[1350]\tvalid_0's huber: 40.2921\n",
      "[1400]\tvalid_0's huber: 40.0964\n",
      "[1450]\tvalid_0's huber: 39.9087\n",
      "[1500]\tvalid_0's huber: 39.749\n",
      "[1550]\tvalid_0's huber: 39.5561\n",
      "[1600]\tvalid_0's huber: 39.3951\n",
      "[1650]\tvalid_0's huber: 39.2222\n",
      "[1700]\tvalid_0's huber: 39.0751\n",
      "[1750]\tvalid_0's huber: 38.9372\n",
      "[1800]\tvalid_0's huber: 38.8059\n",
      "[1850]\tvalid_0's huber: 38.6718\n",
      "[1900]\tvalid_0's huber: 38.5491\n",
      "[1950]\tvalid_0's huber: 38.4373\n",
      "[2000]\tvalid_0's huber: 38.2999\n",
      "[2050]\tvalid_0's huber: 38.1823\n",
      "[2100]\tvalid_0's huber: 38.0886\n",
      "[2150]\tvalid_0's huber: 37.962\n",
      "[2200]\tvalid_0's huber: 37.8505\n",
      "[2250]\tvalid_0's huber: 37.7467\n",
      "[2300]\tvalid_0's huber: 37.6298\n",
      "[2350]\tvalid_0's huber: 37.5434\n",
      "[2400]\tvalid_0's huber: 37.4601\n",
      "[2450]\tvalid_0's huber: 37.3633\n",
      "[2500]\tvalid_0's huber: 37.2351\n",
      "[2550]\tvalid_0's huber: 37.147\n",
      "[2600]\tvalid_0's huber: 37.0599\n",
      "[2650]\tvalid_0's huber: 37.0021\n",
      "[2700]\tvalid_0's huber: 36.9193\n",
      "[2750]\tvalid_0's huber: 36.8506\n",
      "[2800]\tvalid_0's huber: 36.7751\n",
      "[2850]\tvalid_0's huber: 36.7154\n",
      "[2900]\tvalid_0's huber: 36.6447\n",
      "[2950]\tvalid_0's huber: 36.5716\n",
      "[3000]\tvalid_0's huber: 36.5088\n",
      "[3050]\tvalid_0's huber: 36.4328\n",
      "[3100]\tvalid_0's huber: 36.377\n",
      "[3150]\tvalid_0's huber: 36.3223\n",
      "[3200]\tvalid_0's huber: 36.2668\n",
      "[3250]\tvalid_0's huber: 36.2182\n",
      "[3300]\tvalid_0's huber: 36.1388\n",
      "[3350]\tvalid_0's huber: 36.1034\n",
      "[3400]\tvalid_0's huber: 36.0693\n",
      "[3450]\tvalid_0's huber: 36.0291\n",
      "[3500]\tvalid_0's huber: 35.9967\n",
      "[3550]\tvalid_0's huber: 35.963\n",
      "[3600]\tvalid_0's huber: 35.9299\n",
      "[3650]\tvalid_0's huber: 35.9026\n",
      "[3700]\tvalid_0's huber: 35.8644\n",
      "[3750]\tvalid_0's huber: 35.8099\n",
      "[3800]\tvalid_0's huber: 35.7621\n",
      "[3850]\tvalid_0's huber: 35.7528\n",
      "[3900]\tvalid_0's huber: 35.7463\n",
      "[3950]\tvalid_0's huber: 35.7302\n",
      "[4000]\tvalid_0's huber: 35.7196\n",
      "[4050]\tvalid_0's huber: 35.7131\n",
      "[4100]\tvalid_0's huber: 35.7086\n",
      "[4150]\tvalid_0's huber: 35.6993\n",
      "[4200]\tvalid_0's huber: 35.6822\n",
      "[4250]\tvalid_0's huber: 35.6773\n",
      "[4300]\tvalid_0's huber: 35.6754\n",
      "[4350]\tvalid_0's huber: 35.6662\n",
      "[4400]\tvalid_0's huber: 35.6539\n",
      "[4450]\tvalid_0's huber: 35.6252\n",
      "[4500]\tvalid_0's huber: 35.5932\n",
      "[4550]\tvalid_0's huber: 35.5514\n",
      "[4600]\tvalid_0's huber: 35.527\n",
      "[4650]\tvalid_0's huber: 35.4872\n",
      "[4700]\tvalid_0's huber: 35.4447\n",
      "[4750]\tvalid_0's huber: 35.3977\n",
      "[4800]\tvalid_0's huber: 35.3638\n",
      "[4850]\tvalid_0's huber: 35.3286\n",
      "[4900]\tvalid_0's huber: 35.3119\n",
      "[4950]\tvalid_0's huber: 35.2903\n",
      "[5000]\tvalid_0's huber: 35.2874\n",
      "[5050]\tvalid_0's huber: 35.2859\n",
      "[5100]\tvalid_0's huber: 35.2848\n",
      "[5150]\tvalid_0's huber: 35.2848\n",
      "[5200]\tvalid_0's huber: 35.2854\n",
      "[5250]\tvalid_0's huber: 35.2838\n",
      "[5300]\tvalid_0's huber: 35.282\n",
      "[5350]\tvalid_0's huber: 35.2803\n",
      "[5400]\tvalid_0's huber: 35.2798\n",
      "[5450]\tvalid_0's huber: 35.2786\n",
      "[5500]\tvalid_0's huber: 35.2775\n",
      "[5550]\tvalid_0's huber: 35.2779\n",
      "[5600]\tvalid_0's huber: 35.2773\n",
      "[5650]\tvalid_0's huber: 35.2778\n",
      "[5700]\tvalid_0's huber: 35.2779\n",
      "[5750]\tvalid_0's huber: 35.2768\n",
      "[5800]\tvalid_0's huber: 35.276\n",
      "[5850]\tvalid_0's huber: 35.2753\n",
      "[5900]\tvalid_0's huber: 35.2752\n",
      "[5950]\tvalid_0's huber: 35.275\n",
      "[6000]\tvalid_0's huber: 35.2753\n",
      "[6050]\tvalid_0's huber: 35.275\n",
      "[6100]\tvalid_0's huber: 35.275\n",
      "[6150]\tvalid_0's huber: 35.275\n",
      "[6200]\tvalid_0's huber: 35.2743\n",
      "[6250]\tvalid_0's huber: 35.2745\n",
      "[6300]\tvalid_0's huber: 35.2743\n",
      "[6350]\tvalid_0's huber: 35.2743\n",
      "[6400]\tvalid_0's huber: 35.2747\n",
      "[6450]\tvalid_0's huber: 35.2745\n",
      "[6500]\tvalid_0's huber: 35.2747\n",
      "[6550]\tvalid_0's huber: 35.275\n",
      "[6600]\tvalid_0's huber: 35.2754\n",
      "[6650]\tvalid_0's huber: 35.2747\n",
      "[6700]\tvalid_0's huber: 35.2751\n",
      "[6750]\tvalid_0's huber: 35.2751\n",
      "[6800]\tvalid_0's huber: 35.2747\n",
      "[6850]\tvalid_0's huber: 35.2747\n",
      "Early stopping, best iteration is:\n",
      "[6367]\tvalid_0's huber: 35.2737\n",
      "preds dist plot\n"
     ]
    },
    {
     "name": "stderr",
     "output_type": "stream",
     "text": [
      "`distplot` is a deprecated function and will be removed in a future version. Please adapt your code to use either `displot` (a figure-level function with similar flexibility) or `histplot` (an axes-level function for histograms).\n"
     ]
    },
    {
     "data": {
      "image/png": "[encoded data removed]",
      "text/plain": [
       "<Figure size 432x288 with 1 Axes>"
      ]
     },
     "metadata": {
      "needs_background": "light"
     },
     "output_type": "display_data"
    },
    {
     "name": "stdout",
     "output_type": "stream",
     "text": [
      "Fold 0 end\n",
      "Fold 1 start\n",
      "y dist plot\n"
     ]
    },
    {
     "data": {
      "image/png": "[encoded data removed]",
      "text/plain": [
       "<Figure size 432x288 with 1 Axes>"
      ]
     },
     "metadata": {
      "needs_background": "light"
     },
     "output_type": "display_data"
    },
    {
     "name": "stderr",
     "output_type": "stream",
     "text": [
      "Using categorical_feature in Dataset.\n"
     ]
    },
    {
     "name": "stdout",
     "output_type": "stream",
     "text": [
      "[LightGBM] [Warning] Auto-choosing row-wise multi-threading, the overhead of testing was 1.023074 seconds.\n",
      "You can set `force_row_wise=true` to remove the overhead.\n",
      "And if memory is not enough, you can set `force_col_wise=true`.\n",
      "[LightGBM] [Info] Total Bins 7771\n",
      "[LightGBM] [Info] Number of data points in the train set: 2926581, number of used features: 364\n"
     ]
    },
    {
     "name": "stderr",
     "output_type": "stream",
     "text": [
      "Overriding the parameters from Reference Dataset.\n",
      "categorical_column in param dict is overridden.\n"
     ]
    },
    {
     "name": "stdout",
     "output_type": "stream",
     "text": [
      "[LightGBM] [Info] Start training from score 524.755320\n",
      "Training until validation scores don't improve for 500 rounds\n",
      "[50]\tvalid_0's huber: 79.6606\n",
      "[100]\tvalid_0's huber: 64.94\n",
      "[150]\tvalid_0's huber: 58.9011\n",
      "[200]\tvalid_0's huber: 55.2151\n",
      "[250]\tvalid_0's huber: 52.7723\n",
      "[300]\tvalid_0's huber: 51.0014\n",
      "[350]\tvalid_0's huber: 49.6042\n",
      "[400]\tvalid_0's huber: 48.3767\n",
      "[450]\tvalid_0's huber: 47.4292\n",
      "[500]\tvalid_0's huber: 46.7371\n",
      "[550]\tvalid_0's huber: 45.9836\n",
      "[600]\tvalid_0's huber: 45.3531\n",
      "[650]\tvalid_0's huber: 44.7882\n",
      "[700]\tvalid_0's huber: 44.2907\n",
      "[750]\tvalid_0's huber: 43.866\n",
      "[800]\tvalid_0's huber: 43.3669\n",
      "[850]\tvalid_0's huber: 42.9909\n",
      "[900]\tvalid_0's huber: 42.6606\n",
      "[950]\tvalid_0's huber: 42.3184\n",
      "[1000]\tvalid_0's huber: 42.0602\n",
      "[1050]\tvalid_0's huber: 41.7767\n",
      "[1100]\tvalid_0's huber: 41.5414\n",
      "[1150]\tvalid_0's huber: 41.2862\n",
      "[1200]\tvalid_0's huber: 40.9869\n",
      "[1250]\tvalid_0's huber: 40.7193\n",
      "[1300]\tvalid_0's huber: 40.514\n",
      "[1350]\tvalid_0's huber: 40.3241\n",
      "[1400]\tvalid_0's huber: 40.1406\n",
      "[1450]\tvalid_0's huber: 39.9478\n",
      "[1500]\tvalid_0's huber: 39.7678\n",
      "[1550]\tvalid_0's huber: 39.617\n",
      "[1600]\tvalid_0's huber: 39.4541\n",
      "[1650]\tvalid_0's huber: 39.3046\n",
      "[1700]\tvalid_0's huber: 39.1562\n",
      "[1750]\tvalid_0's huber: 39.0215\n",
      "[1800]\tvalid_0's huber: 38.8757\n",
      "[1850]\tvalid_0's huber: 38.7449\n",
      "[1900]\tvalid_0's huber: 38.6025\n",
      "[1950]\tvalid_0's huber: 38.4826\n",
      "[2000]\tvalid_0's huber: 38.3678\n",
      "[2050]\tvalid_0's huber: 38.2481\n",
      "[2100]\tvalid_0's huber: 38.1379\n",
      "[2150]\tvalid_0's huber: 38.0362\n",
      "[2200]\tvalid_0's huber: 37.9486\n",
      "[2250]\tvalid_0's huber: 37.8601\n",
      "[2300]\tvalid_0's huber: 37.7647\n",
      "[2350]\tvalid_0's huber: 37.6847\n",
      "[2400]\tvalid_0's huber: 37.601\n",
      "[2450]\tvalid_0's huber: 37.5352\n",
      "[2500]\tvalid_0's huber: 37.4613\n",
      "[2550]\tvalid_0's huber: 37.3853\n",
      "[2600]\tvalid_0's huber: 37.3125\n",
      "[2650]\tvalid_0's huber: 37.2363\n",
      "[2700]\tvalid_0's huber: 37.1641\n",
      "[2750]\tvalid_0's huber: 37.095\n",
      "[2800]\tvalid_0's huber: 37.0215\n",
      "[2850]\tvalid_0's huber: 36.9643\n",
      "[2900]\tvalid_0's huber: 36.9096\n",
      "[2950]\tvalid_0's huber: 36.8458\n",
      "[3000]\tvalid_0's huber: 36.7889\n",
      "[3050]\tvalid_0's huber: 36.7374\n",
      "[3100]\tvalid_0's huber: 36.6771\n",
      "[3150]\tvalid_0's huber: 36.6218\n",
      "[3200]\tvalid_0's huber: 36.5651\n",
      "[3250]\tvalid_0's huber: 36.5103\n",
      "[3300]\tvalid_0's huber: 36.4707\n",
      "[3350]\tvalid_0's huber: 36.4191\n",
      "[3400]\tvalid_0's huber: 36.3629\n",
      "[3450]\tvalid_0's huber: 36.3126\n",
      "[3500]\tvalid_0's huber: 36.2766\n",
      "[3550]\tvalid_0's huber: 36.2358\n",
      "[3600]\tvalid_0's huber: 36.1823\n",
      "[3650]\tvalid_0's huber: 36.1391\n",
      "[3700]\tvalid_0's huber: 36.0935\n",
      "[3750]\tvalid_0's huber: 36.0414\n",
      "[3800]\tvalid_0's huber: 36.0068\n",
      "[3850]\tvalid_0's huber: 35.9777\n",
      "[3900]\tvalid_0's huber: 35.94\n",
      "[3950]\tvalid_0's huber: 35.9027\n",
      "[4000]\tvalid_0's huber: 35.8727\n",
      "[4050]\tvalid_0's huber: 35.849\n",
      "[4100]\tvalid_0's huber: 35.8063\n",
      "[4150]\tvalid_0's huber: 35.7774\n",
      "[4200]\tvalid_0's huber: 35.7448\n",
      "[4250]\tvalid_0's huber: 35.7265\n",
      "[4300]\tvalid_0's huber: 35.7181\n",
      "[4350]\tvalid_0's huber: 35.7107\n",
      "[4400]\tvalid_0's huber: 35.6844\n",
      "[4450]\tvalid_0's huber: 35.6639\n",
      "[4500]\tvalid_0's huber: 35.6519\n",
      "[4550]\tvalid_0's huber: 35.6131\n",
      "[4600]\tvalid_0's huber: 35.592\n",
      "[4650]\tvalid_0's huber: 35.5596\n",
      "[4700]\tvalid_0's huber: 35.5481\n",
      "[4750]\tvalid_0's huber: 35.5337\n",
      "[4800]\tvalid_0's huber: 35.5218\n",
      "[4850]\tvalid_0's huber: 35.5064\n",
      "[4900]\tvalid_0's huber: 35.4911\n",
      "[4950]\tvalid_0's huber: 35.4889\n",
      "[5000]\tvalid_0's huber: 35.4803\n",
      "[5050]\tvalid_0's huber: 35.4634\n",
      "[5100]\tvalid_0's huber: 35.4451\n",
      "[5150]\tvalid_0's huber: 35.419\n",
      "[5200]\tvalid_0's huber: 35.4102\n",
      "[5250]\tvalid_0's huber: 35.3926\n",
      "[5300]\tvalid_0's huber: 35.3725\n",
      "[5350]\tvalid_0's huber: 35.3589\n",
      "[5400]\tvalid_0's huber: 35.3465\n",
      "[5450]\tvalid_0's huber: 35.3391\n",
      "[5500]\tvalid_0's huber: 35.3304\n",
      "[5550]\tvalid_0's huber: 35.316\n",
      "[5600]\tvalid_0's huber: 35.298\n",
      "[5650]\tvalid_0's huber: 35.2893\n",
      "[5700]\tvalid_0's huber: 35.2849\n",
      "[5750]\tvalid_0's huber: 35.2784\n",
      "[5800]\tvalid_0's huber: 35.267\n",
      "[5850]\tvalid_0's huber: 35.2457\n",
      "[5900]\tvalid_0's huber: 35.2292\n",
      "[5950]\tvalid_0's huber: 35.216\n",
      "[6000]\tvalid_0's huber: 35.2127\n",
      "[6050]\tvalid_0's huber: 35.2087\n",
      "[6100]\tvalid_0's huber: 35.2047\n",
      "[6150]\tvalid_0's huber: 35.2032\n",
      "[6200]\tvalid_0's huber: 35.2019\n",
      "[6250]\tvalid_0's huber: 35.2003\n",
      "[6300]\tvalid_0's huber: 35.1999\n",
      "[6350]\tvalid_0's huber: 35.1989\n",
      "[6400]\tvalid_0's huber: 35.1991\n",
      "[6450]\tvalid_0's huber: 35.1987\n",
      "[6500]\tvalid_0's huber: 35.1983\n",
      "[6550]\tvalid_0's huber: 35.1982\n",
      "[6600]\tvalid_0's huber: 35.1983\n",
      "[6650]\tvalid_0's huber: 35.1981\n",
      "[6700]\tvalid_0's huber: 35.1982\n",
      "[6750]\tvalid_0's huber: 35.1978\n",
      "[6800]\tvalid_0's huber: 35.1978\n",
      "[6850]\tvalid_0's huber: 35.1972\n",
      "[6900]\tvalid_0's huber: 35.1973\n",
      "[6950]\tvalid_0's huber: 35.1968\n",
      "[7000]\tvalid_0's huber: 35.1971\n",
      "[7050]\tvalid_0's huber: 35.1975\n",
      "[7100]\tvalid_0's huber: 35.1974\n",
      "[7150]\tvalid_0's huber: 35.1971\n",
      "[7200]\tvalid_0's huber: 35.1971\n",
      "[7250]\tvalid_0's huber: 35.1971\n",
      "[7300]\tvalid_0's huber: 35.1974\n",
      "[7350]\tvalid_0's huber: 35.1972\n",
      "[7400]\tvalid_0's huber: 35.1971\n",
      "[7450]\tvalid_0's huber: 35.197\n",
      "Early stopping, best iteration is:\n",
      "[6956]\tvalid_0's huber: 35.1966\n",
      "preds dist plot\n"
     ]
    },
    {
     "name": "stderr",
     "output_type": "stream",
     "text": [
      "`distplot` is a deprecated function and will be removed in a future version. Please adapt your code to use either `displot` (a figure-level function with similar flexibility) or `histplot` (an axes-level function for histograms).\n"
     ]
    },
    {
     "data": {
      "image/png": "[encoded data removed]",
      "text/plain": [
       "<Figure size 432x288 with 1 Axes>"
      ]
     },
     "metadata": {
      "needs_background": "light"
     },
     "output_type": "display_data"
    },
    {
     "name": "stdout",
     "output_type": "stream",
     "text": [
      "Fold 1 end\n",
      "Fold 2 start\n",
      "y dist plot\n"
     ]
    },
    {
     "data": {
      "image/png": "[encoded data removed]",
      "text/plain": [
       "<Figure size 432x288 with 1 Axes>"
      ]
     },
     "metadata": {
      "needs_background": "light"
     },
     "output_type": "display_data"
    },
    {
     "name": "stderr",
     "output_type": "stream",
     "text": [
      "Using categorical_feature in Dataset.\n"
     ]
    },
    {
     "name": "stdout",
     "output_type": "stream",
     "text": [
      "[LightGBM] [Warning] Auto-choosing row-wise multi-threading, the overhead of testing was 1.093610 seconds.\n",
      "You can set `force_row_wise=true` to remove the overhead.\n",
      "And if memory is not enough, you can set `force_col_wise=true`.\n",
      "[LightGBM] [Info] Total Bins 7781\n",
      "[LightGBM] [Info] Number of data points in the train set: 2926581, number of used features: 365\n"
     ]
    },
    {
     "name": "stderr",
     "output_type": "stream",
     "text": [
      "Overriding the parameters from Reference Dataset.\n",
      "categorical_column in param dict is overridden.\n"
     ]
    },
    {
     "name": "stdout",
     "output_type": "stream",
     "text": [
      "[LightGBM] [Info] Start training from score 524.648130\n",
      "Training until validation scores don't improve for 500 rounds\n",
      "[50]\tvalid_0's huber: 79.5243\n",
      "[100]\tvalid_0's huber: 64.6452\n",
      "[150]\tvalid_0's huber: 58.5621\n",
      "[200]\tvalid_0's huber: 54.8136\n",
      "[250]\tvalid_0's huber: 52.4484\n",
      "[300]\tvalid_0's huber: 50.586\n",
      "[350]\tvalid_0's huber: 49.268\n",
      "[400]\tvalid_0's huber: 48.0682\n",
      "[450]\tvalid_0's huber: 47.1858\n",
      "[500]\tvalid_0's huber: 46.3912\n",
      "[550]\tvalid_0's huber: 45.8323\n",
      "[600]\tvalid_0's huber: 45.2319\n",
      "[650]\tvalid_0's huber: 44.6594\n",
      "[700]\tvalid_0's huber: 44.1157\n",
      "[750]\tvalid_0's huber: 43.624\n",
      "[800]\tvalid_0's huber: 43.2065\n",
      "[850]\tvalid_0's huber: 42.8205\n",
      "[900]\tvalid_0's huber: 42.4653\n",
      "[950]\tvalid_0's huber: 42.1428\n",
      "[1000]\tvalid_0's huber: 41.8661\n",
      "[1050]\tvalid_0's huber: 41.5602\n",
      "[1100]\tvalid_0's huber: 41.2937\n",
      "[1150]\tvalid_0's huber: 41.0496\n",
      "[1200]\tvalid_0's huber: 40.8212\n",
      "[1250]\tvalid_0's huber: 40.5894\n",
      "[1300]\tvalid_0's huber: 40.3559\n",
      "[1350]\tvalid_0's huber: 40.1503\n",
      "[1400]\tvalid_0's huber: 39.9411\n",
      "[1450]\tvalid_0's huber: 39.7528\n",
      "[1500]\tvalid_0's huber: 39.5695\n",
      "[1550]\tvalid_0's huber: 39.4069\n",
      "[1600]\tvalid_0's huber: 39.2419\n",
      "[1650]\tvalid_0's huber: 39.0793\n",
      "[1700]\tvalid_0's huber: 38.9432\n",
      "[1750]\tvalid_0's huber: 38.804\n",
      "[1800]\tvalid_0's huber: 38.6655\n",
      "[1850]\tvalid_0's huber: 38.5674\n",
      "[1900]\tvalid_0's huber: 38.4412\n",
      "[1950]\tvalid_0's huber: 38.3184\n",
      "[2000]\tvalid_0's huber: 38.1787\n",
      "[2050]\tvalid_0's huber: 38.0703\n",
      "[2100]\tvalid_0's huber: 37.9401\n",
      "[2150]\tvalid_0's huber: 37.8249\n",
      "[2200]\tvalid_0's huber: 37.733\n",
      "[2250]\tvalid_0's huber: 37.6171\n",
      "[2300]\tvalid_0's huber: 37.5274\n",
      "[2350]\tvalid_0's huber: 37.4417\n",
      "[2400]\tvalid_0's huber: 37.3611\n",
      "[2450]\tvalid_0's huber: 37.28\n",
      "[2500]\tvalid_0's huber: 37.1931\n",
      "[2550]\tvalid_0's huber: 37.1004\n",
      "[2600]\tvalid_0's huber: 37.0051\n",
      "[2650]\tvalid_0's huber: 36.9126\n",
      "[2700]\tvalid_0's huber: 36.8348\n",
      "[2750]\tvalid_0's huber: 36.7719\n",
      "[2800]\tvalid_0's huber: 36.7116\n",
      "[2850]\tvalid_0's huber: 36.6494\n",
      "[2900]\tvalid_0's huber: 36.5884\n",
      "[2950]\tvalid_0's huber: 36.5344\n",
      "[3000]\tvalid_0's huber: 36.4708\n",
      "[3050]\tvalid_0's huber: 36.402\n",
      "[3100]\tvalid_0's huber: 36.3484\n",
      "[3150]\tvalid_0's huber: 36.2771\n",
      "[3200]\tvalid_0's huber: 36.2198\n",
      "[3250]\tvalid_0's huber: 36.1677\n",
      "[3300]\tvalid_0's huber: 36.1127\n",
      "[3350]\tvalid_0's huber: 36.0458\n",
      "[3400]\tvalid_0's huber: 35.9861\n",
      "[3450]\tvalid_0's huber: 35.9325\n",
      "[3500]\tvalid_0's huber: 35.9013\n",
      "[3550]\tvalid_0's huber: 35.8767\n",
      "[3600]\tvalid_0's huber: 35.8684\n",
      "[3650]\tvalid_0's huber: 35.8661\n",
      "[3700]\tvalid_0's huber: 35.8644\n",
      "[3750]\tvalid_0's huber: 35.8445\n",
      "[3800]\tvalid_0's huber: 35.7981\n",
      "[3850]\tvalid_0's huber: 35.7619\n",
      "[3900]\tvalid_0's huber: 35.7361\n",
      "[3950]\tvalid_0's huber: 35.7345\n",
      "[4000]\tvalid_0's huber: 35.7282\n",
      "[4050]\tvalid_0's huber: 35.7054\n",
      "[4100]\tvalid_0's huber: 35.6905\n",
      "[4150]\tvalid_0's huber: 35.6779\n",
      "[4200]\tvalid_0's huber: 35.6691\n",
      "[4250]\tvalid_0's huber: 35.654\n",
      "[4300]\tvalid_0's huber: 35.6018\n",
      "[4350]\tvalid_0's huber: 35.5673\n",
      "[4400]\tvalid_0's huber: 35.5345\n",
      "[4450]\tvalid_0's huber: 35.5067\n",
      "[4500]\tvalid_0's huber: 35.473\n",
      "[4550]\tvalid_0's huber: 35.4347\n",
      "[4600]\tvalid_0's huber: 35.4278\n",
      "[4650]\tvalid_0's huber: 35.4229\n",
      "[4700]\tvalid_0's huber: 35.4183\n",
      "[4750]\tvalid_0's huber: 35.4142\n",
      "[4800]\tvalid_0's huber: 35.413\n",
      "[4850]\tvalid_0's huber: 35.4057\n",
      "[4900]\tvalid_0's huber: 35.3946\n",
      "[4950]\tvalid_0's huber: 35.389\n",
      "[5000]\tvalid_0's huber: 35.388\n",
      "[5050]\tvalid_0's huber: 35.383\n",
      "[5100]\tvalid_0's huber: 35.374\n",
      "[5150]\tvalid_0's huber: 35.3662\n",
      "[5200]\tvalid_0's huber: 35.3587\n",
      "[5250]\tvalid_0's huber: 35.3564\n",
      "[5300]\tvalid_0's huber: 35.3525\n",
      "[5350]\tvalid_0's huber: 35.3495\n",
      "[5400]\tvalid_0's huber: 35.3423\n",
      "[5450]\tvalid_0's huber: 35.3376\n",
      "[5500]\tvalid_0's huber: 35.3298\n",
      "[5550]\tvalid_0's huber: 35.3151\n",
      "[5600]\tvalid_0's huber: 35.308\n",
      "[5650]\tvalid_0's huber: 35.289\n",
      "[5700]\tvalid_0's huber: 35.285\n",
      "[5750]\tvalid_0's huber: 35.2799\n",
      "[5800]\tvalid_0's huber: 35.2482\n",
      "[5850]\tvalid_0's huber: 35.2433\n",
      "[5900]\tvalid_0's huber: 35.2293\n",
      "[5950]\tvalid_0's huber: 35.2282\n",
      "[6000]\tvalid_0's huber: 35.2255\n",
      "[6050]\tvalid_0's huber: 35.2204\n",
      "[6100]\tvalid_0's huber: 35.2183\n",
      "[6150]\tvalid_0's huber: 35.2166\n",
      "[6200]\tvalid_0's huber: 35.2169\n",
      "[6250]\tvalid_0's huber: 35.2164\n",
      "[6300]\tvalid_0's huber: 35.2163\n",
      "[6350]\tvalid_0's huber: 35.2017\n",
      "[6400]\tvalid_0's huber: 35.1959\n",
      "[6450]\tvalid_0's huber: 35.1905\n",
      "[6500]\tvalid_0's huber: 35.1894\n",
      "[6550]\tvalid_0's huber: 35.1753\n",
      "[6600]\tvalid_0's huber: 35.1647\n",
      "[6650]\tvalid_0's huber: 35.1568\n",
      "[6700]\tvalid_0's huber: 35.1514\n",
      "[6750]\tvalid_0's huber: 35.1465\n",
      "[6800]\tvalid_0's huber: 35.1409\n",
      "[6850]\tvalid_0's huber: 35.1415\n",
      "[6900]\tvalid_0's huber: 35.1405\n",
      "[6950]\tvalid_0's huber: 35.1376\n",
      "[7000]\tvalid_0's huber: 35.137\n",
      "[7050]\tvalid_0's huber: 35.1367\n",
      "[7100]\tvalid_0's huber: 35.1355\n",
      "[7150]\tvalid_0's huber: 35.1349\n",
      "[7200]\tvalid_0's huber: 35.1316\n",
      "[7250]\tvalid_0's huber: 35.1281\n",
      "[7300]\tvalid_0's huber: 35.122\n",
      "[7350]\tvalid_0's huber: 35.1178\n",
      "[7400]\tvalid_0's huber: 35.1149\n",
      "[7450]\tvalid_0's huber: 35.114\n",
      "[7500]\tvalid_0's huber: 35.1137\n",
      "[7550]\tvalid_0's huber: 35.1117\n",
      "[7600]\tvalid_0's huber: 35.1032\n",
      "[7650]\tvalid_0's huber: 35.1018\n",
      "[7700]\tvalid_0's huber: 35.0941\n",
      "[7750]\tvalid_0's huber: 35.0799\n",
      "[7800]\tvalid_0's huber: 35.0678\n",
      "[7850]\tvalid_0's huber: 35.0504\n",
      "[7900]\tvalid_0's huber: 35.0428\n",
      "[7950]\tvalid_0's huber: 35.0276\n",
      "[8000]\tvalid_0's huber: 35.0223\n",
      "[8050]\tvalid_0's huber: 35.0171\n",
      "[8100]\tvalid_0's huber: 35.0109\n",
      "[8150]\tvalid_0's huber: 35.0066\n",
      "[8200]\tvalid_0's huber: 35.0009\n",
      "[8250]\tvalid_0's huber: 34.991\n",
      "[8300]\tvalid_0's huber: 34.9891\n",
      "[8350]\tvalid_0's huber: 34.9885\n",
      "[8400]\tvalid_0's huber: 34.9833\n",
      "[8450]\tvalid_0's huber: 34.978\n",
      "[8500]\tvalid_0's huber: 34.9662\n",
      "[8550]\tvalid_0's huber: 34.9555\n",
      "[8600]\tvalid_0's huber: 34.9401\n",
      "[8650]\tvalid_0's huber: 34.9287\n",
      "[8700]\tvalid_0's huber: 34.9196\n",
      "[8750]\tvalid_0's huber: 34.8987\n",
      "[8800]\tvalid_0's huber: 34.8862\n",
      "[8850]\tvalid_0's huber: 34.8838\n",
      "[8900]\tvalid_0's huber: 34.8601\n",
      "[8950]\tvalid_0's huber: 34.8392\n",
      "[9000]\tvalid_0's huber: 34.8353\n",
      "[9050]\tvalid_0's huber: 34.8313\n",
      "[9100]\tvalid_0's huber: 34.8157\n",
      "[9150]\tvalid_0's huber: 34.8042\n",
      "[9200]\tvalid_0's huber: 34.7991\n",
      "[9250]\tvalid_0's huber: 34.7956\n",
      "[9300]\tvalid_0's huber: 34.7945\n",
      "[9350]\tvalid_0's huber: 34.7943\n",
      "[9400]\tvalid_0's huber: 34.7945\n",
      "[9450]\tvalid_0's huber: 34.7947\n",
      "[9500]\tvalid_0's huber: 34.7912\n",
      "[9550]\tvalid_0's huber: 34.7892\n",
      "[9600]\tvalid_0's huber: 34.7877\n",
      "[9650]\tvalid_0's huber: 34.7825\n",
      "[9700]\tvalid_0's huber: 34.7818\n",
      "[9750]\tvalid_0's huber: 34.7784\n",
      "[9800]\tvalid_0's huber: 34.7755\n",
      "[9850]\tvalid_0's huber: 34.7751\n",
      "[9900]\tvalid_0's huber: 34.775\n",
      "[9950]\tvalid_0's huber: 34.7724\n",
      "[10000]\tvalid_0's huber: 34.7718\n",
      "Did not meet early stopping. Best iteration is:\n",
      "[9999]\tvalid_0's huber: 34.7715\n",
      "preds dist plot\n"
     ]
    },
    {
     "name": "stderr",
     "output_type": "stream",
     "text": [
      "`distplot` is a deprecated function and will be removed in a future version. Please adapt your code to use either `displot` (a figure-level function with similar flexibility) or `histplot` (an axes-level function for histograms).\n"
     ]
    },
    {
     "data": {
      "image/png": "[encoded data removed]",
      "text/plain": [
       "<Figure size 432x288 with 1 Axes>"
      ]
     },
     "metadata": {
      "needs_background": "light"
     },
     "output_type": "display_data"
    },
    {
     "name": "stdout",
     "output_type": "stream",
     "text": [
      "Fold 2 end\n",
      "Fold 3 start\n",
      "y dist plot\n"
     ]
    },
    {
     "data": {
      "image/png": "[encoded data removed]",
      "text/plain": [
       "<Figure size 432x288 with 1 Axes>"
      ]
     },
     "metadata": {
      "needs_background": "light"
     },
     "output_type": "display_data"
    },
    {
     "name": "stderr",
     "output_type": "stream",
     "text": [
      "Using categorical_feature in Dataset.\n"
     ]
    },
    {
     "name": "stdout",
     "output_type": "stream",
     "text": [
      "[LightGBM] [Warning] Auto-choosing row-wise multi-threading, the overhead of testing was 1.003415 seconds.\n",
      "You can set `force_row_wise=true` to remove the overhead.\n",
      "And if memory is not enough, you can set `force_col_wise=true`.\n",
      "[LightGBM] [Info] Total Bins 7782\n",
      "[LightGBM] [Info] Number of data points in the train set: 2926581, number of used features: 366\n"
     ]
    },
    {
     "name": "stderr",
     "output_type": "stream",
     "text": [
      "Overriding the parameters from Reference Dataset.\n",
      "categorical_column in param dict is overridden.\n"
     ]
    },
    {
     "name": "stdout",
     "output_type": "stream",
     "text": [
      "[LightGBM] [Info] Start training from score 524.732369\n",
      "Training until validation scores don't improve for 500 rounds\n",
      "[50]\tvalid_0's huber: 79.597\n",
      "[100]\tvalid_0's huber: 64.9581\n",
      "[150]\tvalid_0's huber: 58.8217\n",
      "[200]\tvalid_0's huber: 55.2403\n",
      "[250]\tvalid_0's huber: 52.706\n",
      "[300]\tvalid_0's huber: 51.0242\n",
      "[350]\tvalid_0's huber: 49.6749\n",
      "[400]\tvalid_0's huber: 48.4149\n",
      "[450]\tvalid_0's huber: 47.3383\n",
      "[500]\tvalid_0's huber: 46.4991\n",
      "[550]\tvalid_0's huber: 45.829\n",
      "[600]\tvalid_0's huber: 45.239\n",
      "[650]\tvalid_0's huber: 44.6588\n",
      "[700]\tvalid_0's huber: 44.1396\n",
      "[750]\tvalid_0's huber: 43.6654\n",
      "[800]\tvalid_0's huber: 43.2545\n",
      "[850]\tvalid_0's huber: 42.86\n",
      "[900]\tvalid_0's huber: 42.5419\n",
      "[950]\tvalid_0's huber: 42.2167\n",
      "[1000]\tvalid_0's huber: 41.9381\n",
      "[1050]\tvalid_0's huber: 41.6785\n",
      "[1100]\tvalid_0's huber: 41.4406\n",
      "[1150]\tvalid_0's huber: 41.1942\n",
      "[1200]\tvalid_0's huber: 40.9753\n",
      "[1250]\tvalid_0's huber: 40.7303\n",
      "[1300]\tvalid_0's huber: 40.5246\n",
      "[1350]\tvalid_0's huber: 40.3145\n",
      "[1400]\tvalid_0's huber: 40.102\n",
      "[1450]\tvalid_0's huber: 39.9026\n",
      "[1500]\tvalid_0's huber: 39.7554\n",
      "[1550]\tvalid_0's huber: 39.5937\n",
      "[1600]\tvalid_0's huber: 39.4311\n",
      "[1650]\tvalid_0's huber: 39.2809\n",
      "[1700]\tvalid_0's huber: 39.1353\n",
      "[1750]\tvalid_0's huber: 38.9943\n",
      "[1800]\tvalid_0's huber: 38.837\n",
      "[1850]\tvalid_0's huber: 38.7114\n",
      "[1900]\tvalid_0's huber: 38.5672\n",
      "[1950]\tvalid_0's huber: 38.4401\n",
      "[2000]\tvalid_0's huber: 38.3157\n",
      "[2050]\tvalid_0's huber: 38.1984\n",
      "[2100]\tvalid_0's huber: 38.1086\n",
      "[2150]\tvalid_0's huber: 37.9794\n",
      "[2200]\tvalid_0's huber: 37.8665\n",
      "[2250]\tvalid_0's huber: 37.7785\n",
      "[2300]\tvalid_0's huber: 37.6643\n",
      "[2350]\tvalid_0's huber: 37.5618\n",
      "[2400]\tvalid_0's huber: 37.4776\n",
      "[2450]\tvalid_0's huber: 37.3872\n",
      "[2500]\tvalid_0's huber: 37.3106\n",
      "[2550]\tvalid_0's huber: 37.2201\n",
      "[2600]\tvalid_0's huber: 37.1313\n",
      "[2650]\tvalid_0's huber: 37.062\n",
      "[2700]\tvalid_0's huber: 36.9854\n",
      "[2750]\tvalid_0's huber: 36.9056\n",
      "[2800]\tvalid_0's huber: 36.8242\n",
      "[2850]\tvalid_0's huber: 36.7365\n",
      "[2900]\tvalid_0's huber: 36.6589\n",
      "[2950]\tvalid_0's huber: 36.5801\n",
      "[3000]\tvalid_0's huber: 36.5053\n",
      "[3050]\tvalid_0's huber: 36.4327\n",
      "[3100]\tvalid_0's huber: 36.3659\n",
      "[3150]\tvalid_0's huber: 36.3021\n",
      "[3200]\tvalid_0's huber: 36.2336\n",
      "[3250]\tvalid_0's huber: 36.1728\n",
      "[3300]\tvalid_0's huber: 36.1121\n",
      "[3350]\tvalid_0's huber: 36.05\n",
      "[3400]\tvalid_0's huber: 35.9956\n",
      "[3450]\tvalid_0's huber: 35.9559\n",
      "[3500]\tvalid_0's huber: 35.9046\n",
      "[3550]\tvalid_0's huber: 35.8499\n",
      "[3600]\tvalid_0's huber: 35.8186\n",
      "[3650]\tvalid_0's huber: 35.8109\n",
      "[3700]\tvalid_0's huber: 35.7882\n",
      "[3750]\tvalid_0's huber: 35.7853\n",
      "[3800]\tvalid_0's huber: 35.7832\n",
      "[3850]\tvalid_0's huber: 35.7775\n",
      "[3900]\tvalid_0's huber: 35.7765\n",
      "[3950]\tvalid_0's huber: 35.7756\n",
      "[4000]\tvalid_0's huber: 35.7754\n",
      "[4050]\tvalid_0's huber: 35.7731\n",
      "[4100]\tvalid_0's huber: 35.7722\n",
      "[4150]\tvalid_0's huber: 35.7713\n",
      "[4200]\tvalid_0's huber: 35.7684\n",
      "[4250]\tvalid_0's huber: 35.7654\n",
      "[4300]\tvalid_0's huber: 35.7646\n",
      "[4350]\tvalid_0's huber: 35.7619\n",
      "[4400]\tvalid_0's huber: 35.7573\n",
      "[4450]\tvalid_0's huber: 35.7566\n",
      "[4500]\tvalid_0's huber: 35.7551\n",
      "[4550]\tvalid_0's huber: 35.7551\n",
      "[4600]\tvalid_0's huber: 35.7544\n",
      "[4650]\tvalid_0's huber: 35.7543\n",
      "[4700]\tvalid_0's huber: 35.7532\n",
      "[4750]\tvalid_0's huber: 35.7523\n",
      "[4800]\tvalid_0's huber: 35.7504\n",
      "[4850]\tvalid_0's huber: 35.7494\n",
      "[4900]\tvalid_0's huber: 35.75\n",
      "[4950]\tvalid_0's huber: 35.7496\n",
      "[5000]\tvalid_0's huber: 35.75\n",
      "[5050]\tvalid_0's huber: 35.7493\n",
      "[5100]\tvalid_0's huber: 35.747\n",
      "[5150]\tvalid_0's huber: 35.7467\n",
      "[5200]\tvalid_0's huber: 35.7453\n",
      "[5250]\tvalid_0's huber: 35.7424\n",
      "[5300]\tvalid_0's huber: 35.7411\n",
      "[5350]\tvalid_0's huber: 35.7393\n",
      "[5400]\tvalid_0's huber: 35.7398\n",
      "[5450]\tvalid_0's huber: 35.7377\n",
      "[5500]\tvalid_0's huber: 35.7376\n",
      "[5550]\tvalid_0's huber: 35.7367\n",
      "[5600]\tvalid_0's huber: 35.7334\n",
      "[5650]\tvalid_0's huber: 35.733\n",
      "[5700]\tvalid_0's huber: 35.7325\n",
      "[5750]\tvalid_0's huber: 35.7325\n",
      "[5800]\tvalid_0's huber: 35.7326\n",
      "[5850]\tvalid_0's huber: 35.7314\n",
      "[5900]\tvalid_0's huber: 35.7313\n",
      "[5950]\tvalid_0's huber: 35.7287\n",
      "[6000]\tvalid_0's huber: 35.7274\n",
      "[6050]\tvalid_0's huber: 35.7272\n",
      "[6100]\tvalid_0's huber: 35.7254\n",
      "[6150]\tvalid_0's huber: 35.7259\n",
      "[6200]\tvalid_0's huber: 35.7229\n",
      "[6250]\tvalid_0's huber: 35.7214\n",
      "[6300]\tvalid_0's huber: 35.7219\n",
      "[6350]\tvalid_0's huber: 35.7187\n",
      "[6400]\tvalid_0's huber: 35.7153\n",
      "[6450]\tvalid_0's huber: 35.7124\n",
      "[6500]\tvalid_0's huber: 35.7123\n",
      "[6550]\tvalid_0's huber: 35.7101\n",
      "[6600]\tvalid_0's huber: 35.7097\n",
      "[6650]\tvalid_0's huber: 35.7078\n",
      "[6700]\tvalid_0's huber: 35.7071\n",
      "[6750]\tvalid_0's huber: 35.7063\n",
      "[6800]\tvalid_0's huber: 35.7048\n",
      "[6850]\tvalid_0's huber: 35.7048\n",
      "[6900]\tvalid_0's huber: 35.7043\n",
      "[6950]\tvalid_0's huber: 35.7049\n",
      "[7000]\tvalid_0's huber: 35.7046\n",
      "[7050]\tvalid_0's huber: 35.7038\n",
      "[7100]\tvalid_0's huber: 35.7021\n",
      "[7150]\tvalid_0's huber: 35.7015\n",
      "[7200]\tvalid_0's huber: 35.7017\n",
      "[7250]\tvalid_0's huber: 35.7017\n",
      "[7300]\tvalid_0's huber: 35.702\n",
      "[7350]\tvalid_0's huber: 35.7019\n",
      "[7400]\tvalid_0's huber: 35.702\n",
      "[7450]\tvalid_0's huber: 35.7024\n",
      "[7500]\tvalid_0's huber: 35.7026\n",
      "[7550]\tvalid_0's huber: 35.7024\n",
      "[7600]\tvalid_0's huber: 35.7015\n",
      "[7650]\tvalid_0's huber: 35.7017\n",
      "[7700]\tvalid_0's huber: 35.7006\n",
      "[7750]\tvalid_0's huber: 35.7003\n",
      "[7800]\tvalid_0's huber: 35.7\n",
      "[7850]\tvalid_0's huber: 35.6993\n",
      "[7900]\tvalid_0's huber: 35.6974\n",
      "[7950]\tvalid_0's huber: 35.6974\n",
      "[8000]\tvalid_0's huber: 35.6952\n",
      "[8050]\tvalid_0's huber: 35.6954\n",
      "[8100]\tvalid_0's huber: 35.6959\n",
      "[8150]\tvalid_0's huber: 35.6956\n",
      "[8200]\tvalid_0's huber: 35.6958\n",
      "[8250]\tvalid_0's huber: 35.6961\n",
      "[8300]\tvalid_0's huber: 35.6959\n",
      "[8350]\tvalid_0's huber: 35.6959\n",
      "[8400]\tvalid_0's huber: 35.6957\n",
      "[8450]\tvalid_0's huber: 35.6961\n",
      "[8500]\tvalid_0's huber: 35.6964\n",
      "Early stopping, best iteration is:\n",
      "[8004]\tvalid_0's huber: 35.695\n",
      "preds dist plot\n"
     ]
    },
    {
     "name": "stderr",
     "output_type": "stream",
     "text": [
      "`distplot` is a deprecated function and will be removed in a future version. Please adapt your code to use either `displot` (a figure-level function with similar flexibility) or `histplot` (an axes-level function for histograms).\n"
     ]
    },
    {
     "data": {
      "image/png": "[encoded data removed]",
      "text/plain": [
       "<Figure size 432x288 with 1 Axes>"
      ]
     },
     "metadata": {
      "needs_background": "light"
     },
     "output_type": "display_data"
    },
    {
     "name": "stdout",
     "output_type": "stream",
     "text": [
      "Fold 3 end\n",
      "Fold 4 start\n",
      "y dist plot\n"
     ]
    },
    {
     "data": {
      "image/png": "[encoded data removed]",
      "text/plain": [
       "<Figure size 432x288 with 1 Axes>"
      ]
     },
     "metadata": {
      "needs_background": "light"
     },
     "output_type": "display_data"
    },
    {
     "name": "stderr",
     "output_type": "stream",
     "text": [
      "Using categorical_feature in Dataset.\n"
     ]
    },
    {
     "name": "stdout",
     "output_type": "stream",
     "text": [
      "[LightGBM] [Warning] Auto-choosing row-wise multi-threading, the overhead of testing was 0.919381 seconds.\n",
      "You can set `force_row_wise=true` to remove the overhead.\n",
      "And if memory is not enough, you can set `force_col_wise=true`.\n",
      "[LightGBM] [Info] Total Bins 7775\n",
      "[LightGBM] [Info] Number of data points in the train set: 2926581, number of used features: 366\n"
     ]
    },
    {
     "name": "stderr",
     "output_type": "stream",
     "text": [
      "Overriding the parameters from Reference Dataset.\n",
      "categorical_column in param dict is overridden.\n"
     ]
    },
    {
     "name": "stdout",
     "output_type": "stream",
     "text": [
      "[LightGBM] [Info] Start training from score 524.646665\n",
      "Training until validation scores don't improve for 500 rounds\n",
      "[50]\tvalid_0's huber: 79.5147\n",
      "[100]\tvalid_0's huber: 64.8047\n",
      "[150]\tvalid_0's huber: 58.577\n",
      "[200]\tvalid_0's huber: 55.0161\n",
      "[250]\tvalid_0's huber: 52.6569\n",
      "[300]\tvalid_0's huber: 50.7929\n",
      "[350]\tvalid_0's huber: 49.4955\n",
      "[400]\tvalid_0's huber: 48.3778\n",
      "[450]\tvalid_0's huber: 47.4368\n",
      "[500]\tvalid_0's huber: 46.5556\n",
      "[550]\tvalid_0's huber: 45.8172\n",
      "[600]\tvalid_0's huber: 45.2061\n",
      "[650]\tvalid_0's huber: 44.6499\n",
      "[700]\tvalid_0's huber: 44.1201\n",
      "[750]\tvalid_0's huber: 43.6663\n",
      "[800]\tvalid_0's huber: 43.2679\n",
      "[850]\tvalid_0's huber: 42.8861\n",
      "[900]\tvalid_0's huber: 42.5381\n",
      "[950]\tvalid_0's huber: 42.2011\n",
      "[1000]\tvalid_0's huber: 41.9114\n",
      "[1050]\tvalid_0's huber: 41.6241\n",
      "[1100]\tvalid_0's huber: 41.3025\n",
      "[1150]\tvalid_0's huber: 41.0362\n",
      "[1200]\tvalid_0's huber: 40.7576\n",
      "[1250]\tvalid_0's huber: 40.5482\n",
      "[1300]\tvalid_0's huber: 40.3487\n",
      "[1350]\tvalid_0's huber: 40.1451\n",
      "[1400]\tvalid_0's huber: 39.9448\n",
      "[1450]\tvalid_0's huber: 39.7661\n",
      "[1500]\tvalid_0's huber: 39.5849\n",
      "[1550]\tvalid_0's huber: 39.4115\n",
      "[1600]\tvalid_0's huber: 39.2642\n",
      "[1650]\tvalid_0's huber: 39.1316\n",
      "[1700]\tvalid_0's huber: 38.9746\n",
      "[1750]\tvalid_0's huber: 38.8305\n",
      "[1800]\tvalid_0's huber: 38.6985\n",
      "[1850]\tvalid_0's huber: 38.5754\n",
      "[1900]\tvalid_0's huber: 38.4487\n",
      "[1950]\tvalid_0's huber: 38.3434\n",
      "[2000]\tvalid_0's huber: 38.2366\n",
      "[2050]\tvalid_0's huber: 38.1325\n",
      "[2100]\tvalid_0's huber: 38.0207\n",
      "[2150]\tvalid_0's huber: 37.911\n",
      "[2200]\tvalid_0's huber: 37.8064\n",
      "[2250]\tvalid_0's huber: 37.7034\n",
      "[2300]\tvalid_0's huber: 37.5942\n",
      "[2350]\tvalid_0's huber: 37.5024\n",
      "[2400]\tvalid_0's huber: 37.4043\n",
      "[2450]\tvalid_0's huber: 37.308\n",
      "[2500]\tvalid_0's huber: 37.2344\n",
      "[2550]\tvalid_0's huber: 37.1618\n",
      "[2600]\tvalid_0's huber: 37.0865\n",
      "[2650]\tvalid_0's huber: 37.0124\n",
      "[2700]\tvalid_0's huber: 36.9372\n",
      "[2750]\tvalid_0's huber: 36.8778\n",
      "[2800]\tvalid_0's huber: 36.8077\n",
      "[2850]\tvalid_0's huber: 36.7388\n",
      "[2900]\tvalid_0's huber: 36.6695\n",
      "[2950]\tvalid_0's huber: 36.5929\n",
      "[3000]\tvalid_0's huber: 36.5239\n",
      "[3050]\tvalid_0's huber: 36.4682\n",
      "[3100]\tvalid_0's huber: 36.4042\n",
      "[3150]\tvalid_0's huber: 36.3291\n",
      "[3200]\tvalid_0's huber: 36.2667\n",
      "[3250]\tvalid_0's huber: 36.2224\n",
      "[3300]\tvalid_0's huber: 36.1958\n",
      "[3350]\tvalid_0's huber: 36.1814\n",
      "[3400]\tvalid_0's huber: 36.1617\n",
      "[3450]\tvalid_0's huber: 36.1307\n",
      "[3500]\tvalid_0's huber: 36.1157\n",
      "[3550]\tvalid_0's huber: 36.0693\n",
      "[3600]\tvalid_0's huber: 36.0576\n",
      "[3650]\tvalid_0's huber: 36.0469\n",
      "[3700]\tvalid_0's huber: 36.0261\n",
      "[3750]\tvalid_0's huber: 36.0032\n",
      "[3800]\tvalid_0's huber: 35.9749\n",
      "[3850]\tvalid_0's huber: 35.9599\n",
      "[3900]\tvalid_0's huber: 35.9334\n",
      "[3950]\tvalid_0's huber: 35.9014\n",
      "[4000]\tvalid_0's huber: 35.8951\n",
      "[4050]\tvalid_0's huber: 35.8814\n",
      "[4100]\tvalid_0's huber: 35.873\n",
      "[4150]\tvalid_0's huber: 35.8416\n",
      "[4200]\tvalid_0's huber: 35.803\n",
      "[4250]\tvalid_0's huber: 35.753\n",
      "[4300]\tvalid_0's huber: 35.7084\n",
      "[4350]\tvalid_0's huber: 35.6589\n",
      "[4400]\tvalid_0's huber: 35.6562\n",
      "[4450]\tvalid_0's huber: 35.6537\n",
      "[4500]\tvalid_0's huber: 35.6466\n",
      "[4550]\tvalid_0's huber: 35.6376\n",
      "[4600]\tvalid_0's huber: 35.6338\n",
      "[4650]\tvalid_0's huber: 35.6307\n",
      "[4700]\tvalid_0's huber: 35.6234\n",
      "[4750]\tvalid_0's huber: 35.6054\n",
      "[4800]\tvalid_0's huber: 35.5968\n",
      "[4850]\tvalid_0's huber: 35.5961\n",
      "[4900]\tvalid_0's huber: 35.5874\n",
      "[4950]\tvalid_0's huber: 35.5815\n",
      "[5000]\tvalid_0's huber: 35.5534\n",
      "[5050]\tvalid_0's huber: 35.5388\n",
      "[5100]\tvalid_0's huber: 35.5231\n",
      "[5150]\tvalid_0's huber: 35.5129\n",
      "[5200]\tvalid_0's huber: 35.5125\n",
      "[5250]\tvalid_0's huber: 35.4978\n",
      "[5300]\tvalid_0's huber: 35.4895\n",
      "[5350]\tvalid_0's huber: 35.4888\n",
      "[5400]\tvalid_0's huber: 35.4866\n",
      "[5450]\tvalid_0's huber: 35.482\n",
      "[5500]\tvalid_0's huber: 35.476\n",
      "[5550]\tvalid_0's huber: 35.4544\n",
      "[5600]\tvalid_0's huber: 35.4443\n",
      "[5650]\tvalid_0's huber: 35.4308\n",
      "[5700]\tvalid_0's huber: 35.4224\n",
      "[5750]\tvalid_0's huber: 35.4133\n",
      "[5800]\tvalid_0's huber: 35.4043\n",
      "[5850]\tvalid_0's huber: 35.4005\n",
      "[5900]\tvalid_0's huber: 35.3818\n",
      "[5950]\tvalid_0's huber: 35.3738\n",
      "[6000]\tvalid_0's huber: 35.3739\n",
      "[6050]\tvalid_0's huber: 35.3535\n",
      "[6100]\tvalid_0's huber: 35.342\n",
      "[6150]\tvalid_0's huber: 35.3335\n",
      "[6200]\tvalid_0's huber: 35.3241\n",
      "[6250]\tvalid_0's huber: 35.3236\n",
      "[6300]\tvalid_0's huber: 35.3212\n",
      "[6350]\tvalid_0's huber: 35.3133\n",
      "[6400]\tvalid_0's huber: 35.3053\n",
      "[6450]\tvalid_0's huber: 35.3047\n",
      "[6500]\tvalid_0's huber: 35.3028\n",
      "[6550]\tvalid_0's huber: 35.2954\n",
      "[6600]\tvalid_0's huber: 35.2956\n",
      "[6650]\tvalid_0's huber: 35.2951\n",
      "[6700]\tvalid_0's huber: 35.2925\n",
      "[6750]\tvalid_0's huber: 35.2859\n",
      "[6800]\tvalid_0's huber: 35.2858\n",
      "[6850]\tvalid_0's huber: 35.2853\n",
      "[6900]\tvalid_0's huber: 35.2843\n",
      "[6950]\tvalid_0's huber: 35.2819\n",
      "[7000]\tvalid_0's huber: 35.2817\n",
      "[7050]\tvalid_0's huber: 35.2807\n",
      "[7100]\tvalid_0's huber: 35.2802\n",
      "[7150]\tvalid_0's huber: 35.2742\n",
      "[7200]\tvalid_0's huber: 35.2699\n",
      "[7250]\tvalid_0's huber: 35.2606\n",
      "[7300]\tvalid_0's huber: 35.2567\n",
      "[7350]\tvalid_0's huber: 35.2432\n",
      "[7400]\tvalid_0's huber: 35.2176\n",
      "[7450]\tvalid_0's huber: 35.1887\n",
      "[7500]\tvalid_0's huber: 35.1775\n",
      "[7550]\tvalid_0's huber: 35.1702\n",
      "[7600]\tvalid_0's huber: 35.1693\n",
      "[7650]\tvalid_0's huber: 35.1634\n",
      "[7700]\tvalid_0's huber: 35.1619\n",
      "[7750]\tvalid_0's huber: 35.1582\n",
      "[7800]\tvalid_0's huber: 35.1531\n",
      "[7850]\tvalid_0's huber: 35.1487\n",
      "[7900]\tvalid_0's huber: 35.1406\n",
      "[7950]\tvalid_0's huber: 35.12\n",
      "[8000]\tvalid_0's huber: 35.1142\n",
      "[8050]\tvalid_0's huber: 35.0965\n",
      "[8100]\tvalid_0's huber: 35.0754\n",
      "[8150]\tvalid_0's huber: 35.0667\n",
      "[8200]\tvalid_0's huber: 35.0665\n",
      "[8250]\tvalid_0's huber: 35.0665\n",
      "[8300]\tvalid_0's huber: 35.0555\n",
      "[8350]\tvalid_0's huber: 35.0305\n",
      "[8400]\tvalid_0's huber: 35.0139\n",
      "[8450]\tvalid_0's huber: 35.0039\n",
      "[8500]\tvalid_0's huber: 34.9886\n",
      "[8550]\tvalid_0's huber: 34.9873\n",
      "[8600]\tvalid_0's huber: 34.9727\n",
      "[8650]\tvalid_0's huber: 34.9558\n",
      "[8700]\tvalid_0's huber: 34.9251\n",
      "[8750]\tvalid_0's huber: 34.9107\n",
      "[8800]\tvalid_0's huber: 34.8913\n",
      "[8850]\tvalid_0's huber: 34.8874\n",
      "[8900]\tvalid_0's huber: 34.8777\n",
      "[8950]\tvalid_0's huber: 34.8769\n",
      "[9000]\tvalid_0's huber: 34.872\n",
      "[9050]\tvalid_0's huber: 34.8722\n",
      "[9100]\tvalid_0's huber: 34.8691\n",
      "[9150]\tvalid_0's huber: 34.868\n",
      "[9200]\tvalid_0's huber: 34.8677\n",
      "[9250]\tvalid_0's huber: 34.8673\n",
      "[9300]\tvalid_0's huber: 34.8658\n",
      "[9350]\tvalid_0's huber: 34.8651\n",
      "[9400]\tvalid_0's huber: 34.8651\n",
      "[9450]\tvalid_0's huber: 34.864\n",
      "[9500]\tvalid_0's huber: 34.8554\n",
      "[9550]\tvalid_0's huber: 34.8483\n",
      "[9600]\tvalid_0's huber: 34.8479\n",
      "[9650]\tvalid_0's huber: 34.8458\n",
      "[9700]\tvalid_0's huber: 34.8447\n",
      "[9750]\tvalid_0's huber: 34.8432\n",
      "[9800]\tvalid_0's huber: 34.8416\n",
      "[9850]\tvalid_0's huber: 34.84\n",
      "[9900]\tvalid_0's huber: 34.8381\n",
      "[9950]\tvalid_0's huber: 34.8381\n",
      "[10000]\tvalid_0's huber: 34.8368\n",
      "Did not meet early stopping. Best iteration is:\n",
      "[9998]\tvalid_0's huber: 34.8368\n",
      "preds dist plot\n"
     ]
    },
    {
     "name": "stderr",
     "output_type": "stream",
     "text": [
      "`distplot` is a deprecated function and will be removed in a future version. Please adapt your code to use either `displot` (a figure-level function with similar flexibility) or `histplot` (an axes-level function for histograms).\n"
     ]
    },
    {
     "data": {
      "image/png": "[encoded data removed]",
      "text/plain": [
       "<Figure size 432x288 with 1 Axes>"
      ]
     },
     "metadata": {
      "needs_background": "light"
     },
     "output_type": "display_data"
    },
    {
     "name": "stdout",
     "output_type": "stream",
     "text": [
      "Fold 4 end\n"
     ]
    },
    {
     "data": {
      "text/plain": [
       "<Figure size 432x288 with 0 Axes>"
      ]
     },
     "metadata": {},
     "output_type": "display_data"
    }
   ],
   "source": [
    "count = 0\n",
    "oof = np.zeros(training_data_df.shape[0])\n",
    "\n",
    "shap_summary_df = pd.DataFrame()\n",
    "\n",
    "for train_idx, val_idx in kf.split(training_data_df):\n",
    "    print('Fold {} start'.format(count))\n",
    "    train_data = training_data_df.loc[train_idx]\n",
    "    val_data = training_data_df.loc[val_idx]\n",
    "    \n",
    "    x_train = train_data.drop(columns=cols_to_drop)\n",
    "    y_train = train_data['가격면적']\n",
    "    \n",
    "    x_val = val_data.drop(columns=cols_to_drop)\n",
    "    y_val = val_data['가격면적']\n",
    "    \n",
    "    print('y dist plot')\n",
    "    y_train.hist(bins=100)\n",
    "    plt.show()\n",
    "    plt.clf()\n",
    "    \n",
    "    params = {\n",
    "        'objective': 'huber',\n",
    "        'learning_rate': 10,\n",
    "        'seed': 42,\n",
    "        'max_depth': 12,\n",
    "        'num_leaves': 37,\n",
    "        'lambda_l2': 0,\n",
    "        'metric': 'huber',\n",
    "        'num_threads': 6,\n",
    "    }\n",
    "    \n",
    "    train_dataset = lgb.Dataset(x_train, label=y_train, categorical_feature=cat_cols)\n",
    "    val_dataset = lgb.Dataset(x_val, label=y_val, categorical_feature=cat_cols)\n",
    "    \n",
    "    num_rounds = 10000\n",
    "\n",
    "    bst = lgb.train(params, train_dataset, num_rounds, valid_sets=[val_dataset], early_stopping_rounds=500, verbose_eval=50)\n",
    "    \n",
    "    bst.save_model(basedir + 'lightgbm_huber_vif5_{}.txt'.format(count), num_iteration=bst.best_iteration)\n",
    "    \n",
    "    preds = bst.predict(x_val, num_iteration=bst.best_iteration)\n",
    "    \n",
    "    print('preds dist plot')\n",
    "    sns.distplot(preds)\n",
    "    plt.show()\n",
    "    plt.clf()\n",
    "    \n",
    "    oof[val_idx] = preds\n",
    "    \n",
    "    # shap\n",
    "    explainer = shap.explainers.Tree(bst)\n",
    "    \n",
    "    sample_x = x_val.sample(n=1000)\n",
    "    sample_y = y_val.loc[x_val.index]\n",
    "    \n",
    "    shap_values = explainer.shap_values(sample_x, y=sample_y, check_additivity=True, approximate=False)\n",
    "    shap_values_T = shap_values.T\n",
    "    \n",
    "    shap_summary = np.zeros(x_val.shape[1])\n",
    "    \n",
    "    for i in range(x_val.shape[1]):\n",
    "        shap_summary[i] = np.mean(np.abs(shap_values_T[i]))\n",
    "    \n",
    "    \n",
    "    shap_summary_df['model_{}_shap_summary'.format(count)] = shap_summary\n",
    "        \n",
    "    \n",
    "    print('Fold {} end'.format(count))\n",
    "    count += 1"
   ]
  },
  {
   "cell_type": "code",
   "execution_count": 23,
   "metadata": {},
   "outputs": [],
   "source": [
    "from sklearn.metrics import mean_squared_error"
   ]
  },
  {
   "cell_type": "code",
   "execution_count": 24,
   "metadata": {},
   "outputs": [
    {
     "data": {
      "text/plain": [
       "66.5816914692676"
      ]
     },
     "execution_count": 24,
     "metadata": {},
     "output_type": "execute_result"
    }
   ],
   "source": [
    "np.sqrt(mean_squared_error(training_data_df['가격면적'], oof))"
   ]
  },
  {
   "cell_type": "code",
   "execution_count": 25,
   "metadata": {},
   "outputs": [],
   "source": [
    "shap_summary_mean = np.zeros(shap_summary_df.shape[0])\n",
    "for i in range(shap_summary_df.shape[1]):\n",
    "    shap_summary_mean += shap_summary_df.iloc[:,i]"
   ]
  },
  {
   "cell_type": "code",
   "execution_count": 26,
   "metadata": {},
   "outputs": [],
   "source": [
    "shap_summary_mean = shap_summary_mean / shap_summary_df.shape[1]"
   ]
  },
  {
   "cell_type": "code",
   "execution_count": 27,
   "metadata": {},
   "outputs": [],
   "source": [
    "shap_summary_df['shap_summary_mean'] = shap_summary_mean"
   ]
  },
  {
   "cell_type": "code",
   "execution_count": 28,
   "metadata": {},
   "outputs": [],
   "source": [
    "shap_summary_df.index = x_train.columns"
   ]
  },
  {
   "cell_type": "code",
   "execution_count": 29,
   "metadata": {},
   "outputs": [],
   "source": [
    "shap_summary_df.to_csv(basedir + 'shap_summary_vif5.csv')"
   ]
  },
  {
   "cell_type": "code",
   "execution_count": null,
   "metadata": {},
   "outputs": [],
   "source": []
  }
 ],
 "metadata": {
  "kernelspec": {
   "display_name": "Python 3",
   "language": "python",
   "name": "python3"
  },
  "language_info": {
   "codemirror_mode": {
    "name": "ipython",
    "version": 3
   },
   "file_extension": ".py",
   "mimetype": "text/x-python",
   "name": "python",
   "nbconvert_exporter": "python",
   "pygments_lexer": "ipython3",
   "version": "3.7.9"
  }
 },
 "nbformat": 4,
 "nbformat_minor": 4
}
