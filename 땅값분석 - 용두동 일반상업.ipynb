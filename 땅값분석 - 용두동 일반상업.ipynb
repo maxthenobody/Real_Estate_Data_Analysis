{
 "cells": [
  {
   "cell_type": "code",
   "execution_count": 1,
   "metadata": {},
   "outputs": [],
   "source": [
    "import pandas as pd\n",
    "import os\n",
    "pd.set_option('display.max_rows', 500)\n",
    "pd.set_option('display.max_columns', 500)\n",
    "import tqdm\n",
    "import matplotlib.pyplot as plt\n",
    "import seaborn as sns\n",
    "import matplotlib\n",
    "matplotlib.rcParams['axes.unicode_minus'] = False\n",
    "pd.options.mode.chained_assignment = None  # default='warn'\n",
    "plt.rcParams['font.family'] = 'Malgun Gothic'\n",
    "font = {'size': 16}\n",
    "matplotlib.rc('font', **font)"
   ]
  },
  {
   "cell_type": "code",
   "execution_count": 2,
   "metadata": {},
   "outputs": [],
   "source": [
    "basedir = './국토교통부_실거래가_공개시스템/땅값분석/'\n",
    "yunrip_df = pd.read_csv(basedir + 'yunrip_30.csv')\n",
    "commerce_df = pd.read_csv(basedir + 'commerce_30.csv')\n",
    "land_df = pd.read_csv(basedir + 'land.csv')"
   ]
  },
  {
   "cell_type": "code",
   "execution_count": 3,
   "metadata": {},
   "outputs": [
    {
     "name": "stdout",
     "output_type": "stream",
     "text": [
      "(168873, 11)\n"
     ]
    },
    {
     "data": {
      "text/html": [
       "<div>\n",
       "<style scoped>\n",
       "    .dataframe tbody tr th:only-of-type {\n",
       "        vertical-align: middle;\n",
       "    }\n",
       "\n",
       "    .dataframe tbody tr th {\n",
       "        vertical-align: top;\n",
       "    }\n",
       "\n",
       "    .dataframe thead th {\n",
       "        text-align: right;\n",
       "    }\n",
       "</style>\n",
       "<table border=\"1\" class=\"dataframe\">\n",
       "  <thead>\n",
       "    <tr style=\"text-align: right;\">\n",
       "      <th></th>\n",
       "      <th>시군구</th>\n",
       "      <th>번지</th>\n",
       "      <th>용도지역</th>\n",
       "      <th>도로조건</th>\n",
       "      <th>계약날짜</th>\n",
       "      <th>대지면적(㎡)</th>\n",
       "      <th>거래금액(만원)</th>\n",
       "      <th>단가(㎡)</th>\n",
       "      <th>단가(평)</th>\n",
       "      <th>거래유형</th>\n",
       "      <th>건물연식</th>\n",
       "    </tr>\n",
       "  </thead>\n",
       "  <tbody>\n",
       "    <tr>\n",
       "      <th>0</th>\n",
       "      <td>서울특별시 강남구 개포동</td>\n",
       "      <td>171-13</td>\n",
       "      <td>제2종일반주거지역</td>\n",
       "      <td>8m미만</td>\n",
       "      <td>2019-10-23</td>\n",
       "      <td>56.1</td>\n",
       "      <td>60000.0</td>\n",
       "      <td>1069.518717</td>\n",
       "      <td>3535.598930</td>\n",
       "      <td>연립/다세대</td>\n",
       "      <td>31.0</td>\n",
       "    </tr>\n",
       "    <tr>\n",
       "      <th>1</th>\n",
       "      <td>서울특별시 강남구 개포동</td>\n",
       "      <td>1239-7</td>\n",
       "      <td>제2종일반주거지역</td>\n",
       "      <td>8m미만</td>\n",
       "      <td>2018-06-14</td>\n",
       "      <td>45.0</td>\n",
       "      <td>52000.0</td>\n",
       "      <td>1155.555556</td>\n",
       "      <td>3820.018222</td>\n",
       "      <td>연립/다세대</td>\n",
       "      <td>30.0</td>\n",
       "    </tr>\n",
       "    <tr>\n",
       "      <th>2</th>\n",
       "      <td>서울특별시 강남구 개포동</td>\n",
       "      <td>1239-7</td>\n",
       "      <td>제2종일반주거지역</td>\n",
       "      <td>8m미만</td>\n",
       "      <td>2019-03-05</td>\n",
       "      <td>45.0</td>\n",
       "      <td>50000.0</td>\n",
       "      <td>1111.111111</td>\n",
       "      <td>3673.094444</td>\n",
       "      <td>연립/다세대</td>\n",
       "      <td>31.0</td>\n",
       "    </tr>\n",
       "    <tr>\n",
       "      <th>3</th>\n",
       "      <td>서울특별시 강남구 개포동</td>\n",
       "      <td>1239-7</td>\n",
       "      <td>제2종일반주거지역</td>\n",
       "      <td>8m미만</td>\n",
       "      <td>2020-06-01</td>\n",
       "      <td>45.0</td>\n",
       "      <td>58000.0</td>\n",
       "      <td>1288.888889</td>\n",
       "      <td>4260.789556</td>\n",
       "      <td>연립/다세대</td>\n",
       "      <td>32.0</td>\n",
       "    </tr>\n",
       "    <tr>\n",
       "      <th>4</th>\n",
       "      <td>서울특별시 강남구 개포동</td>\n",
       "      <td>1239-7</td>\n",
       "      <td>제2종일반주거지역</td>\n",
       "      <td>8m미만</td>\n",
       "      <td>2020-06-13</td>\n",
       "      <td>45.0</td>\n",
       "      <td>57000.0</td>\n",
       "      <td>1266.666667</td>\n",
       "      <td>4187.327667</td>\n",
       "      <td>연립/다세대</td>\n",
       "      <td>32.0</td>\n",
       "    </tr>\n",
       "  </tbody>\n",
       "</table>\n",
       "</div>"
      ],
      "text/plain": [
       "             시군구      번지       용도지역  도로조건       계약날짜  대지면적(㎡)  거래금액(만원)  \\\n",
       "0  서울특별시 강남구 개포동  171-13  제2종일반주거지역  8m미만 2019-10-23     56.1   60000.0   \n",
       "1  서울특별시 강남구 개포동  1239-7  제2종일반주거지역  8m미만 2018-06-14     45.0   52000.0   \n",
       "2  서울특별시 강남구 개포동  1239-7  제2종일반주거지역  8m미만 2019-03-05     45.0   50000.0   \n",
       "3  서울특별시 강남구 개포동  1239-7  제2종일반주거지역  8m미만 2020-06-01     45.0   58000.0   \n",
       "4  서울특별시 강남구 개포동  1239-7  제2종일반주거지역  8m미만 2020-06-13     45.0   57000.0   \n",
       "\n",
       "         단가(㎡)        단가(평)    거래유형  건물연식  \n",
       "0  1069.518717  3535.598930  연립/다세대  31.0  \n",
       "1  1155.555556  3820.018222  연립/다세대  30.0  \n",
       "2  1111.111111  3673.094444  연립/다세대  31.0  \n",
       "3  1288.888889  4260.789556  연립/다세대  32.0  \n",
       "4  1266.666667  4187.327667  연립/다세대  32.0  "
      ]
     },
     "execution_count": 3,
     "metadata": {},
     "output_type": "execute_result"
    }
   ],
   "source": [
    "common_cols = ['시군구', '번지', '용도지역', '도로조건', '계약날짜', '대지면적(㎡)', '거래금액(만원)', '단가(㎡)', '단가(평)', '거래유형', '건물연식']\n",
    "common_df = pd.concat([yunrip_df[common_cols], commerce_df[common_cols], land_df[[col for col in land_df.columns if col not in ['지목', '지분구분', '해제사유발생일']]]])\n",
    "common_df['계약날짜'] = pd.to_datetime(common_df['계약날짜'], format='%Y-%m-%d')\n",
    "print(common_df.shape)\n",
    "common_df.head()"
   ]
  },
  {
   "cell_type": "code",
   "execution_count": 4,
   "metadata": {},
   "outputs": [
    {
     "data": {
      "text/plain": [
       "['단독다가구(매매)_실거래가_20130101_20131231.csv',\n",
       " '단독다가구(매매)_실거래가_20140101_20141231.csv',\n",
       " '단독다가구(매매)_실거래가_20150101_20151231.csv',\n",
       " '단독다가구(매매)_실거래가_20160101_20161231.csv',\n",
       " '단독다가구(매매)_실거래가_20170101_20171231.csv',\n",
       " '단독다가구(매매)_실거래가_20180101_20181231.csv',\n",
       " '단독다가구(매매)_실거래가_20190101_20191231.csv',\n",
       " '단독다가구(매매)_실거래가_20200101_20201231.csv',\n",
       " '단독다가구(매매)_실거래가_20210101_20210406.csv']"
      ]
     },
     "execution_count": 4,
     "metadata": {},
     "output_type": "execute_result"
    }
   ],
   "source": [
    "dandok_filenames = [f for f in os.listdir('./국토교통부_실거래가_공개시스템/단독다가구매매/') if (f.endswith('.csv'))&('(매매)' in f)]\n",
    "dandok_filenames"
   ]
  },
  {
   "cell_type": "code",
   "execution_count": 5,
   "metadata": {},
   "outputs": [],
   "source": [
    "dfs_list = []\n",
    "for f in dandok_filenames:\n",
    "    df = pd.read_csv('./국토교통부_실거래가_공개시스템/단독다가구매매/' + f, encoding='euc-kr', header=15)\n",
    "    if '해제사유발생일' in df.columns:\n",
    "        df = df.drop(columns=['해제사유발생일'])\n",
    "    dfs_list.append(df)"
   ]
  },
  {
   "cell_type": "code",
   "execution_count": 6,
   "metadata": {},
   "outputs": [
    {
     "name": "stdout",
     "output_type": "stream",
     "text": [
      "(109267, 11)\n"
     ]
    },
    {
     "data": {
      "text/html": [
       "<div>\n",
       "<style scoped>\n",
       "    .dataframe tbody tr th:only-of-type {\n",
       "        vertical-align: middle;\n",
       "    }\n",
       "\n",
       "    .dataframe tbody tr th {\n",
       "        vertical-align: top;\n",
       "    }\n",
       "\n",
       "    .dataframe thead th {\n",
       "        text-align: right;\n",
       "    }\n",
       "</style>\n",
       "<table border=\"1\" class=\"dataframe\">\n",
       "  <thead>\n",
       "    <tr style=\"text-align: right;\">\n",
       "      <th></th>\n",
       "      <th>시군구</th>\n",
       "      <th>번지</th>\n",
       "      <th>주택유형</th>\n",
       "      <th>도로조건</th>\n",
       "      <th>연면적(㎡)</th>\n",
       "      <th>대지면적(㎡)</th>\n",
       "      <th>계약년월</th>\n",
       "      <th>계약일</th>\n",
       "      <th>거래금액(만원)</th>\n",
       "      <th>건축년도</th>\n",
       "      <th>도로명</th>\n",
       "    </tr>\n",
       "  </thead>\n",
       "  <tbody>\n",
       "    <tr>\n",
       "      <th>0</th>\n",
       "      <td>서울특별시 강남구 논현동</td>\n",
       "      <td>8*</td>\n",
       "      <td>다가구</td>\n",
       "      <td>8m미만</td>\n",
       "      <td>329.78</td>\n",
       "      <td>165.4</td>\n",
       "      <td>201305</td>\n",
       "      <td>24</td>\n",
       "      <td>177,500</td>\n",
       "      <td>1993.0</td>\n",
       "      <td>논현로138길</td>\n",
       "    </tr>\n",
       "    <tr>\n",
       "      <th>1</th>\n",
       "      <td>서울특별시 강남구 논현동</td>\n",
       "      <td>1**</td>\n",
       "      <td>다가구</td>\n",
       "      <td>8m미만</td>\n",
       "      <td>335.90</td>\n",
       "      <td>171.4</td>\n",
       "      <td>201312</td>\n",
       "      <td>18</td>\n",
       "      <td>173,500</td>\n",
       "      <td>1990.0</td>\n",
       "      <td>학동로12길</td>\n",
       "    </tr>\n",
       "    <tr>\n",
       "      <th>2</th>\n",
       "      <td>서울특별시 강남구 논현동</td>\n",
       "      <td>7*</td>\n",
       "      <td>다가구</td>\n",
       "      <td>8m미만</td>\n",
       "      <td>435.32</td>\n",
       "      <td>177.2</td>\n",
       "      <td>201304</td>\n",
       "      <td>23</td>\n",
       "      <td>138,000</td>\n",
       "      <td>1992.0</td>\n",
       "      <td>논현로146길</td>\n",
       "    </tr>\n",
       "    <tr>\n",
       "      <th>3</th>\n",
       "      <td>서울특별시 강남구 논현동</td>\n",
       "      <td>1**</td>\n",
       "      <td>다가구</td>\n",
       "      <td>8m미만</td>\n",
       "      <td>347.10</td>\n",
       "      <td>181.9</td>\n",
       "      <td>201308</td>\n",
       "      <td>28</td>\n",
       "      <td>169,000</td>\n",
       "      <td>1991.0</td>\n",
       "      <td>선릉로135길</td>\n",
       "    </tr>\n",
       "    <tr>\n",
       "      <th>4</th>\n",
       "      <td>서울특별시 강남구 논현동</td>\n",
       "      <td>2**</td>\n",
       "      <td>다가구</td>\n",
       "      <td>8m미만</td>\n",
       "      <td>401.33</td>\n",
       "      <td>193.8</td>\n",
       "      <td>201305</td>\n",
       "      <td>21</td>\n",
       "      <td>179,000</td>\n",
       "      <td>1997.0</td>\n",
       "      <td>논현로124길</td>\n",
       "    </tr>\n",
       "  </tbody>\n",
       "</table>\n",
       "</div>"
      ],
      "text/plain": [
       "             시군구   번지 주택유형  도로조건  연면적(㎡)  대지면적(㎡)    계약년월  계약일 거래금액(만원)  \\\n",
       "0  서울특별시 강남구 논현동   8*  다가구  8m미만  329.78    165.4  201305   24  177,500   \n",
       "1  서울특별시 강남구 논현동  1**  다가구  8m미만  335.90    171.4  201312   18  173,500   \n",
       "2  서울특별시 강남구 논현동   7*  다가구  8m미만  435.32    177.2  201304   23  138,000   \n",
       "3  서울특별시 강남구 논현동  1**  다가구  8m미만  347.10    181.9  201308   28  169,000   \n",
       "4  서울특별시 강남구 논현동  2**  다가구  8m미만  401.33    193.8  201305   21  179,000   \n",
       "\n",
       "     건축년도      도로명  \n",
       "0  1993.0  논현로138길  \n",
       "1  1990.0   학동로12길  \n",
       "2  1992.0  논현로146길  \n",
       "3  1991.0  선릉로135길  \n",
       "4  1997.0  논현로124길  "
      ]
     },
     "execution_count": 6,
     "metadata": {},
     "output_type": "execute_result"
    }
   ],
   "source": [
    "dandok_df = pd.concat(dfs_list).reset_index(drop=True)\n",
    "print(dandok_df.shape)\n",
    "dandok_df.head()"
   ]
  },
  {
   "cell_type": "code",
   "execution_count": 7,
   "metadata": {},
   "outputs": [],
   "source": [
    "dandok_df['구'] = dandok_df['시군구'].apply(lambda x: x.split(' ')[1])\n",
    "dandok_df['동'] = dandok_df['시군구'].apply(lambda x: x.split(' ')[2])\n",
    "dandok_df['거래금액(만원)'] = dandok_df['거래금액(만원)'].apply(lambda x: int(x.replace(',','')))\n",
    "dandok_df['대지면적(㎡)'] = dandok_df['대지면적(㎡)'].apply(float)\n",
    "dandok_df['단가(평)'] = dandok_df['거래금액(만원)'] / dandok_df['대지면적(㎡)'] * 3.305785"
   ]
  },
  {
   "cell_type": "code",
   "execution_count": 8,
   "metadata": {},
   "outputs": [],
   "source": [
    "def day_modifier(x):\n",
    "    # x is a number\n",
    "    \n",
    "    if pd.isna(x) == True:\n",
    "        return x\n",
    "    else:\n",
    "        x = str(x)\n",
    "        if len(x) == 1:\n",
    "            return '0' + x\n",
    "        else:\n",
    "            return x"
   ]
  },
  {
   "cell_type": "code",
   "execution_count": 9,
   "metadata": {},
   "outputs": [],
   "source": [
    "dandok_df['계약날짜'] = dandok_df['계약년월'].apply(lambda x: str(x)[:4]) + '-' +\\\n",
    "dandok_df['계약년월'].apply(lambda x: str(x)[-2:]) + '-' + dandok_df['계약일'].apply(day_modifier)"
   ]
  },
  {
   "cell_type": "code",
   "execution_count": 10,
   "metadata": {},
   "outputs": [],
   "source": [
    "dandok_df['계약날짜'] = pd.to_datetime(dandok_df['계약날짜'])"
   ]
  },
  {
   "cell_type": "code",
   "execution_count": 11,
   "metadata": {},
   "outputs": [],
   "source": [
    "dandok_df.drop(columns=['계약년월', '계약일'], inplace=True)"
   ]
  },
  {
   "cell_type": "code",
   "execution_count": 12,
   "metadata": {},
   "outputs": [],
   "source": [
    "target = '용두동'\n",
    "target_purpose = '일반상업'\n",
    "계약일자시점 = 2018"
   ]
  },
  {
   "cell_type": "code",
   "execution_count": 13,
   "metadata": {},
   "outputs": [
    {
     "name": "stdout",
     "output_type": "stream",
     "text": [
      "(33, 11)\n"
     ]
    },
    {
     "data": {
      "text/html": [
       "<div>\n",
       "<style scoped>\n",
       "    .dataframe tbody tr th:only-of-type {\n",
       "        vertical-align: middle;\n",
       "    }\n",
       "\n",
       "    .dataframe tbody tr th {\n",
       "        vertical-align: top;\n",
       "    }\n",
       "\n",
       "    .dataframe thead th {\n",
       "        text-align: right;\n",
       "    }\n",
       "</style>\n",
       "<table border=\"1\" class=\"dataframe\">\n",
       "  <thead>\n",
       "    <tr style=\"text-align: right;\">\n",
       "      <th></th>\n",
       "      <th>시군구</th>\n",
       "      <th>번지</th>\n",
       "      <th>용도지역</th>\n",
       "      <th>도로조건</th>\n",
       "      <th>계약날짜</th>\n",
       "      <th>대지면적(㎡)</th>\n",
       "      <th>거래금액(만원)</th>\n",
       "      <th>단가(㎡)</th>\n",
       "      <th>단가(평)</th>\n",
       "      <th>거래유형</th>\n",
       "      <th>건물연식</th>\n",
       "    </tr>\n",
       "  </thead>\n",
       "  <tbody>\n",
       "    <tr>\n",
       "      <th>99740</th>\n",
       "      <td>서울특별시 동대문구 용두동</td>\n",
       "      <td>1**</td>\n",
       "      <td>일반상업지역</td>\n",
       "      <td>25m이상</td>\n",
       "      <td>2019-05-02</td>\n",
       "      <td>20.0</td>\n",
       "      <td>59500.0</td>\n",
       "      <td>2975.000000</td>\n",
       "      <td>9834.710375</td>\n",
       "      <td>토지</td>\n",
       "      <td>NaN</td>\n",
       "    </tr>\n",
       "    <tr>\n",
       "      <th>99732</th>\n",
       "      <td>서울특별시 동대문구 용두동</td>\n",
       "      <td>1**</td>\n",
       "      <td>일반상업지역</td>\n",
       "      <td>25m이상</td>\n",
       "      <td>2019-05-02</td>\n",
       "      <td>10.0</td>\n",
       "      <td>29750.0</td>\n",
       "      <td>2975.000000</td>\n",
       "      <td>9834.710375</td>\n",
       "      <td>토지</td>\n",
       "      <td>NaN</td>\n",
       "    </tr>\n",
       "    <tr>\n",
       "      <th>6589</th>\n",
       "      <td>서울특별시 동대문구 용두동</td>\n",
       "      <td>2*</td>\n",
       "      <td>일반상업</td>\n",
       "      <td>25m이상</td>\n",
       "      <td>2018-10-30</td>\n",
       "      <td>71.4</td>\n",
       "      <td>172720.0</td>\n",
       "      <td>2419.047619</td>\n",
       "      <td>7996.851333</td>\n",
       "      <td>상업/업무</td>\n",
       "      <td>33.0</td>\n",
       "    </tr>\n",
       "    <tr>\n",
       "      <th>7976</th>\n",
       "      <td>서울특별시 동대문구 용두동</td>\n",
       "      <td>1**</td>\n",
       "      <td>일반상업</td>\n",
       "      <td>25m미만</td>\n",
       "      <td>2019-04-23</td>\n",
       "      <td>165.0</td>\n",
       "      <td>380000.0</td>\n",
       "      <td>2303.030303</td>\n",
       "      <td>7613.323030</td>\n",
       "      <td>상업/업무</td>\n",
       "      <td>60.0</td>\n",
       "    </tr>\n",
       "    <tr>\n",
       "      <th>7978</th>\n",
       "      <td>서울특별시 동대문구 용두동</td>\n",
       "      <td>1**</td>\n",
       "      <td>일반상업</td>\n",
       "      <td>25m미만</td>\n",
       "      <td>2019-04-30</td>\n",
       "      <td>82.0</td>\n",
       "      <td>187750.0</td>\n",
       "      <td>2289.634146</td>\n",
       "      <td>7569.038216</td>\n",
       "      <td>상업/업무</td>\n",
       "      <td>83.0</td>\n",
       "    </tr>\n",
       "  </tbody>\n",
       "</table>\n",
       "</div>"
      ],
      "text/plain": [
       "                  시군구   번지    용도지역   도로조건       계약날짜  대지면적(㎡)  거래금액(만원)  \\\n",
       "99740  서울특별시 동대문구 용두동  1**  일반상업지역  25m이상 2019-05-02     20.0   59500.0   \n",
       "99732  서울특별시 동대문구 용두동  1**  일반상업지역  25m이상 2019-05-02     10.0   29750.0   \n",
       "6589   서울특별시 동대문구 용두동   2*    일반상업  25m이상 2018-10-30     71.4  172720.0   \n",
       "7976   서울특별시 동대문구 용두동  1**    일반상업  25m미만 2019-04-23    165.0  380000.0   \n",
       "7978   서울특별시 동대문구 용두동  1**    일반상업  25m미만 2019-04-30     82.0  187750.0   \n",
       "\n",
       "             단가(㎡)        단가(평)   거래유형  건물연식  \n",
       "99740  2975.000000  9834.710375     토지   NaN  \n",
       "99732  2975.000000  9834.710375     토지   NaN  \n",
       "6589   2419.047619  7996.851333  상업/업무  33.0  \n",
       "7976   2303.030303  7613.323030  상업/업무  60.0  \n",
       "7978   2289.634146  7569.038216  상업/업무  83.0  "
      ]
     },
     "execution_count": 13,
     "metadata": {},
     "output_type": "execute_result"
    }
   ],
   "source": [
    "target_df = common_df[(common_df['시군구'].str.contains(target))&(common_df['용도지역'].str.contains(target_purpose))&(common_df['계약날짜'].dt.year >= 계약일자시점)].sort_values(['단가(평)'], ascending=False)\n",
    "print(target_df.shape)\n",
    "target_df.head()"
   ]
  },
  {
   "cell_type": "code",
   "execution_count": 14,
   "metadata": {},
   "outputs": [
    {
     "name": "stdout",
     "output_type": "stream",
     "text": [
      "(208, 13)\n"
     ]
    },
    {
     "data": {
      "text/html": [
       "<div>\n",
       "<style scoped>\n",
       "    .dataframe tbody tr th:only-of-type {\n",
       "        vertical-align: middle;\n",
       "    }\n",
       "\n",
       "    .dataframe tbody tr th {\n",
       "        vertical-align: top;\n",
       "    }\n",
       "\n",
       "    .dataframe thead th {\n",
       "        text-align: right;\n",
       "    }\n",
       "</style>\n",
       "<table border=\"1\" class=\"dataframe\">\n",
       "  <thead>\n",
       "    <tr style=\"text-align: right;\">\n",
       "      <th></th>\n",
       "      <th>시군구</th>\n",
       "      <th>번지</th>\n",
       "      <th>주택유형</th>\n",
       "      <th>도로조건</th>\n",
       "      <th>연면적(㎡)</th>\n",
       "      <th>대지면적(㎡)</th>\n",
       "      <th>거래금액(만원)</th>\n",
       "      <th>건축년도</th>\n",
       "      <th>도로명</th>\n",
       "      <th>구</th>\n",
       "      <th>동</th>\n",
       "      <th>단가(평)</th>\n",
       "      <th>계약날짜</th>\n",
       "    </tr>\n",
       "  </thead>\n",
       "  <tbody>\n",
       "    <tr>\n",
       "      <th>75590</th>\n",
       "      <td>서울특별시 동대문구 용두동</td>\n",
       "      <td>3*</td>\n",
       "      <td>다가구</td>\n",
       "      <td>8m미만</td>\n",
       "      <td>98.54</td>\n",
       "      <td>39.0</td>\n",
       "      <td>29800</td>\n",
       "      <td>1985.0</td>\n",
       "      <td>답십리로8길</td>\n",
       "      <td>동대문구</td>\n",
       "      <td>용두동</td>\n",
       "      <td>2525.958795</td>\n",
       "      <td>2018-10-01</td>\n",
       "    </tr>\n",
       "    <tr>\n",
       "      <th>75591</th>\n",
       "      <td>서울특별시 동대문구 용두동</td>\n",
       "      <td>1**</td>\n",
       "      <td>다가구</td>\n",
       "      <td>8m미만</td>\n",
       "      <td>176.92</td>\n",
       "      <td>89.0</td>\n",
       "      <td>94500</td>\n",
       "      <td>1991.0</td>\n",
       "      <td>왕산로17길</td>\n",
       "      <td>동대문구</td>\n",
       "      <td>용두동</td>\n",
       "      <td>3510.075084</td>\n",
       "      <td>2018-12-13</td>\n",
       "    </tr>\n",
       "    <tr>\n",
       "      <th>75592</th>\n",
       "      <td>서울특별시 동대문구 용두동</td>\n",
       "      <td>3*</td>\n",
       "      <td>다가구</td>\n",
       "      <td>8m미만</td>\n",
       "      <td>115.23</td>\n",
       "      <td>99.2</td>\n",
       "      <td>70000</td>\n",
       "      <td>1980.0</td>\n",
       "      <td>천호대로39길</td>\n",
       "      <td>동대문구</td>\n",
       "      <td>용두동</td>\n",
       "      <td>2332.711190</td>\n",
       "      <td>2018-10-26</td>\n",
       "    </tr>\n",
       "    <tr>\n",
       "      <th>75593</th>\n",
       "      <td>서울특별시 동대문구 용두동</td>\n",
       "      <td>1**</td>\n",
       "      <td>다가구</td>\n",
       "      <td>8m미만</td>\n",
       "      <td>148.51</td>\n",
       "      <td>104.8</td>\n",
       "      <td>50000</td>\n",
       "      <td>2003.0</td>\n",
       "      <td>왕산로22길</td>\n",
       "      <td>동대문구</td>\n",
       "      <td>용두동</td>\n",
       "      <td>1577.187500</td>\n",
       "      <td>2018-03-15</td>\n",
       "    </tr>\n",
       "    <tr>\n",
       "      <th>75594</th>\n",
       "      <td>서울특별시 동대문구 용두동</td>\n",
       "      <td>2**</td>\n",
       "      <td>다가구</td>\n",
       "      <td>25m미만</td>\n",
       "      <td>299.28</td>\n",
       "      <td>139.0</td>\n",
       "      <td>100000</td>\n",
       "      <td>1982.0</td>\n",
       "      <td>한빛로</td>\n",
       "      <td>동대문구</td>\n",
       "      <td>용두동</td>\n",
       "      <td>2378.262590</td>\n",
       "      <td>2018-01-18</td>\n",
       "    </tr>\n",
       "  </tbody>\n",
       "</table>\n",
       "</div>"
      ],
      "text/plain": [
       "                  시군구   번지 주택유형   도로조건  연면적(㎡)  대지면적(㎡)  거래금액(만원)    건축년도  \\\n",
       "75590  서울특별시 동대문구 용두동   3*  다가구   8m미만   98.54     39.0     29800  1985.0   \n",
       "75591  서울특별시 동대문구 용두동  1**  다가구   8m미만  176.92     89.0     94500  1991.0   \n",
       "75592  서울특별시 동대문구 용두동   3*  다가구   8m미만  115.23     99.2     70000  1980.0   \n",
       "75593  서울특별시 동대문구 용두동  1**  다가구   8m미만  148.51    104.8     50000  2003.0   \n",
       "75594  서울특별시 동대문구 용두동  2**  다가구  25m미만  299.28    139.0    100000  1982.0   \n",
       "\n",
       "           도로명     구    동        단가(평)       계약날짜  \n",
       "75590   답십리로8길  동대문구  용두동  2525.958795 2018-10-01  \n",
       "75591   왕산로17길  동대문구  용두동  3510.075084 2018-12-13  \n",
       "75592  천호대로39길  동대문구  용두동  2332.711190 2018-10-26  \n",
       "75593   왕산로22길  동대문구  용두동  1577.187500 2018-03-15  \n",
       "75594      한빛로  동대문구  용두동  2378.262590 2018-01-18  "
      ]
     },
     "execution_count": 14,
     "metadata": {},
     "output_type": "execute_result"
    }
   ],
   "source": [
    "dandok_target_df = dandok_df[(dandok_df['시군구'].str.contains(target))&(dandok_df['계약날짜'].dt.year >= 계약일자시점)]\n",
    "print(dandok_target_df.shape)\n",
    "dandok_target_df.head()"
   ]
  },
  {
   "cell_type": "code",
   "execution_count": 15,
   "metadata": {},
   "outputs": [
    {
     "data": {
      "text/plain": [
       "<AxesSubplot:>"
      ]
     },
     "execution_count": 15,
     "metadata": {},
     "output_type": "execute_result"
    },
    {
     "data": {
      "image/png": "[encoded data removed]",
      "text/plain": [
       "<Figure size 432x288 with 1 Axes>"
      ]
     },
     "metadata": {
      "needs_background": "light"
     },
     "output_type": "display_data"
    }
   ],
   "source": [
    "dandok_target_df['단가(평)'].hist(bins=100)"
   ]
  },
  {
   "cell_type": "code",
   "execution_count": 16,
   "metadata": {},
   "outputs": [
    {
     "data": {
      "text/plain": [
       "4861.798454864227"
      ]
     },
     "execution_count": 16,
     "metadata": {},
     "output_type": "execute_result"
    }
   ],
   "source": [
    "dandok_target_df['단가(평)'].quantile(0.95)"
   ]
  },
  {
   "cell_type": "code",
   "execution_count": 17,
   "metadata": {},
   "outputs": [
    {
     "data": {
      "text/plain": [
       "7604.466067535107"
      ]
     },
     "execution_count": 17,
     "metadata": {},
     "output_type": "execute_result"
    }
   ],
   "source": [
    "target_df['단가(평)'].quantile(0.90)"
   ]
  },
  {
   "cell_type": "code",
   "execution_count": 18,
   "metadata": {},
   "outputs": [
    {
     "data": {
      "text/plain": [
       "(33, 11)"
      ]
     },
     "execution_count": 18,
     "metadata": {},
     "output_type": "execute_result"
    }
   ],
   "source": [
    "#target_df = target_df[target_df['단가(평)'] <= target_df['단가(평)'].quantile(0.9)]\n",
    "target_df.shape"
   ]
  },
  {
   "cell_type": "code",
   "execution_count": 19,
   "metadata": {},
   "outputs": [
    {
     "data": {
      "image/png": "[encoded data removed]",
      "text/plain": [
       "<Figure size 1440x720 with 1 Axes>"
      ]
     },
     "metadata": {
      "needs_background": "light"
     },
     "output_type": "display_data"
    }
   ],
   "source": [
    "font = {'size': 16}\n",
    "matplotlib.rc('font', **font)\n",
    "f, ax = plt.subplots(figsize=(20,10))\n",
    "plt.title('{}~최신 {} {} 토지, 연립/다세대, 상업/업무용 30년이상 건물 실거래 {}건과 (파랑) 및 단독주택 실거래 {}건의 (주홍) 단가 산포도와 회귀선'.format(계약일자시점, target, target_purpose, target_df.shape[0], dandok_target_df.shape[0]))\n",
    "plt.grid(True)\n",
    "ax.xaxis.update_units(target_df['계약날짜'])\n",
    "sns.regplot(x=ax.xaxis.convert_units(target_df['계약날짜']), y=target_df['단가(평)'])\n",
    "ax.xaxis.update_units(dandok_target_df['계약날짜'])\n",
    "sns.regplot(x=ax.xaxis.convert_units(dandok_target_df['계약날짜']), y=dandok_target_df['단가(평)'])\n",
    "plt.savefig(basedir + '{}{}/산포도.png'.format(target, target_purpose))"
   ]
  },
  {
   "cell_type": "code",
   "execution_count": null,
   "metadata": {},
   "outputs": [],
   "source": [
    "font = {'size': 10}\n",
    "matplotlib.rc('font', **font)\n",
    "f, ax = plt.subplots(figsize=(10,6))\n",
    "plt.title('{}~최신 {} {} 토지, 연립/다세대 및 상업/업무용 30년이상 건물 실거래 {}건의 단가 분포도'.format(계약일자시점, target, target_purpose, target_df.shape[0]))\n",
    "sns.histplot(target_df['단가(평)'])\n",
    "plt.savefig(basedir + '{}{}/분포도.png'.format(target, target_purpose))\n",
    "plt.show()\n",
    "plt.clf()\n",
    "\n",
    "description = target_df['단가(평)'].describe()\n",
    "print('거래량:', description['count'])\n",
    "print('평균:', description['mean'])\n",
    "print('표준편차:', description['std'])\n",
    "print('최소:', description['min'])\n",
    "print('25분위:', description['25%'])\n",
    "print('중간값:', description['50%'])\n",
    "print('75분위:', description['75%'])\n",
    "print('최대:', description['max'])\n"
   ]
  },
  {
   "cell_type": "code",
   "execution_count": null,
   "metadata": {
    "scrolled": false
   },
   "outputs": [],
   "source": [
    "for year in sorted(target_df['계약날짜'].dt.year.unique()):\n",
    "    year_df = target_df[target_df['계약날짜'].dt.year == year]\n",
    "    \n",
    "    f, ax = plt.subplots(figsize=(10,6))\n",
    "    plt.title('{}년 {} {}주거지역 토지 및 연립/다세대, 상업/업무용 30년이상 건물 실거래 {}건의 단가 분포도'.format(year, target, target_purpose, year_df.shape[0]))\n",
    "    plt.ylabel('거래량')\n",
    "    sns.histplot(year_df['단가(평)'])\n",
    "    plt.savefig(basedir + '{}{}/{}분포도.png'.format(target, target_purpose, year))\n",
    "    plt.show()\n",
    "    plt.clf()\n",
    "    \n",
    "    description = year_df['단가(평)'].describe()\n",
    "    print('거래량:', description['count'])\n",
    "    print('평균:', description['mean'])\n",
    "    print('표준편차:', description['std'])\n",
    "    print('최소:', description['min'])\n",
    "    print('25분위:', description['25%'])\n",
    "    print('중간값:', description['50%'])\n",
    "    print('75분위:', description['75%'])\n",
    "    print('최대:', description['max'])"
   ]
  },
  {
   "cell_type": "code",
   "execution_count": null,
   "metadata": {},
   "outputs": [],
   "source": [
    "target_df = target_df.sort_values(['단가(평)'], ascending=False).reset_index(drop=True)"
   ]
  },
  {
   "cell_type": "code",
   "execution_count": null,
   "metadata": {},
   "outputs": [],
   "source": [
    "target_df.head(20)"
   ]
  },
  {
   "cell_type": "code",
   "execution_count": null,
   "metadata": {},
   "outputs": [],
   "source": [
    "target_df.tail(20)"
   ]
  },
  {
   "cell_type": "code",
   "execution_count": null,
   "metadata": {},
   "outputs": [],
   "source": [
    "target_df.to_excel('./국토교통부_실거래가_공개시스템/땅값분석/{}{}/{}_{}_땅값분석.xlsx'.format(target, target_purpose, target, target_purpose), index=False)"
   ]
  },
  {
   "cell_type": "code",
   "execution_count": null,
   "metadata": {},
   "outputs": [],
   "source": []
  }
 ],
 "metadata": {
  "kernelspec": {
   "display_name": "Python 3",
   "language": "python",
   "name": "python3"
  },
  "language_info": {
   "codemirror_mode": {
    "name": "ipython",
    "version": 3
   },
   "file_extension": ".py",
   "mimetype": "text/x-python",
   "name": "python",
   "nbconvert_exporter": "python",
   "pygments_lexer": "ipython3",
   "version": "3.7.9"
  }
 },
 "nbformat": 4,
 "nbformat_minor": 4
}
